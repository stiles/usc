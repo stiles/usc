{
 "cells": [
  {
   "cell_type": "markdown",
   "id": "b7d85d1e-898b-4e69-931a-d26df4d856a4",
   "metadata": {},
   "source": [
    "# IMDB movie ratings"
   ]
  },
  {
   "cell_type": "markdown",
   "id": "7630749f-b12f-4dd7-8037-0245b81dfcec",
   "metadata": {},
   "source": [
    "#### Import python tools"
   ]
  },
  {
   "cell_type": "code",
   "execution_count": 1,
   "id": "c33dce56-aed0-4aa9-b430-0b7a42408895",
   "metadata": {},
   "outputs": [],
   "source": [
    "%load_ext lab_black"
   ]
  },
  {
   "cell_type": "code",
   "execution_count": 2,
   "id": "df79ce59-7408-4067-95ca-593236256d5b",
   "metadata": {},
   "outputs": [],
   "source": [
    "import pandas as pd"
   ]
  },
  {
   "cell_type": "markdown",
   "id": "515684cf-e6dd-4639-9c9a-42318fa70aa5",
   "metadata": {},
   "source": [
    "## Read our data"
   ]
  },
  {
   "cell_type": "code",
   "execution_count": 3,
   "id": "2fc71f8b-e2df-4aa3-81e7-164bafb760a4",
   "metadata": {},
   "outputs": [],
   "source": [
    "url = \"https://raw.githubusercontent.com/stiles/usc/main/data/raw/imdb_1000.csv\""
   ]
  },
  {
   "cell_type": "markdown",
   "id": "c5eb1a55-2652-4ff8-b601-de8465bce9da",
   "metadata": {},
   "source": [
    "#### Create a movies dataframe, and sort it by title"
   ]
  },
  {
   "cell_type": "code",
   "execution_count": 4,
   "id": "bb89dd99-c57f-4d9a-94be-2d09e5923466",
   "metadata": {},
   "outputs": [],
   "source": [
    "movies = pd.read_csv(url)"
   ]
  },
  {
   "cell_type": "code",
   "execution_count": 5,
   "id": "de63f9d5-096e-4463-97bf-a79a30e67bef",
   "metadata": {},
   "outputs": [
    {
     "data": {
      "text/html": [
       "<div>\n",
       "<style scoped>\n",
       "    .dataframe tbody tr th:only-of-type {\n",
       "        vertical-align: middle;\n",
       "    }\n",
       "\n",
       "    .dataframe tbody tr th {\n",
       "        vertical-align: top;\n",
       "    }\n",
       "\n",
       "    .dataframe thead th {\n",
       "        text-align: right;\n",
       "    }\n",
       "</style>\n",
       "<table border=\"1\" class=\"dataframe\">\n",
       "  <thead>\n",
       "    <tr style=\"text-align: right;\">\n",
       "      <th></th>\n",
       "      <th>star_rating</th>\n",
       "      <th>title</th>\n",
       "      <th>content_rating</th>\n",
       "      <th>genre</th>\n",
       "      <th>duration</th>\n",
       "      <th>actors_list</th>\n",
       "    </tr>\n",
       "  </thead>\n",
       "  <tbody>\n",
       "    <tr>\n",
       "      <th>0</th>\n",
       "      <td>9.3</td>\n",
       "      <td>The Shawshank Redemption</td>\n",
       "      <td>R</td>\n",
       "      <td>Crime</td>\n",
       "      <td>142</td>\n",
       "      <td>[u'Tim Robbins', u'Morgan Freeman', u'Bob Gunt...</td>\n",
       "    </tr>\n",
       "    <tr>\n",
       "      <th>1</th>\n",
       "      <td>9.2</td>\n",
       "      <td>The Godfather</td>\n",
       "      <td>R</td>\n",
       "      <td>Crime</td>\n",
       "      <td>175</td>\n",
       "      <td>[u'Marlon Brando', u'Al Pacino', u'James Caan']</td>\n",
       "    </tr>\n",
       "    <tr>\n",
       "      <th>2</th>\n",
       "      <td>9.1</td>\n",
       "      <td>The Godfather: Part II</td>\n",
       "      <td>R</td>\n",
       "      <td>Crime</td>\n",
       "      <td>200</td>\n",
       "      <td>[u'Al Pacino', u'Robert De Niro', u'Robert Duv...</td>\n",
       "    </tr>\n",
       "    <tr>\n",
       "      <th>3</th>\n",
       "      <td>9.0</td>\n",
       "      <td>The Dark Knight</td>\n",
       "      <td>PG-13</td>\n",
       "      <td>Action</td>\n",
       "      <td>152</td>\n",
       "      <td>[u'Christian Bale', u'Heath Ledger', u'Aaron E...</td>\n",
       "    </tr>\n",
       "    <tr>\n",
       "      <th>4</th>\n",
       "      <td>8.9</td>\n",
       "      <td>Pulp Fiction</td>\n",
       "      <td>R</td>\n",
       "      <td>Crime</td>\n",
       "      <td>154</td>\n",
       "      <td>[u'John Travolta', u'Uma Thurman', u'Samuel L....</td>\n",
       "    </tr>\n",
       "    <tr>\n",
       "      <th>...</th>\n",
       "      <td>...</td>\n",
       "      <td>...</td>\n",
       "      <td>...</td>\n",
       "      <td>...</td>\n",
       "      <td>...</td>\n",
       "      <td>...</td>\n",
       "    </tr>\n",
       "    <tr>\n",
       "      <th>974</th>\n",
       "      <td>7.4</td>\n",
       "      <td>Tootsie</td>\n",
       "      <td>PG</td>\n",
       "      <td>Comedy</td>\n",
       "      <td>116</td>\n",
       "      <td>[u'Dustin Hoffman', u'Jessica Lange', u'Teri G...</td>\n",
       "    </tr>\n",
       "    <tr>\n",
       "      <th>975</th>\n",
       "      <td>7.4</td>\n",
       "      <td>Back to the Future Part III</td>\n",
       "      <td>PG</td>\n",
       "      <td>Adventure</td>\n",
       "      <td>118</td>\n",
       "      <td>[u'Michael J. Fox', u'Christopher Lloyd', u'Ma...</td>\n",
       "    </tr>\n",
       "    <tr>\n",
       "      <th>976</th>\n",
       "      <td>7.4</td>\n",
       "      <td>Master and Commander: The Far Side of the World</td>\n",
       "      <td>PG-13</td>\n",
       "      <td>Action</td>\n",
       "      <td>138</td>\n",
       "      <td>[u'Russell Crowe', u'Paul Bettany', u'Billy Bo...</td>\n",
       "    </tr>\n",
       "    <tr>\n",
       "      <th>977</th>\n",
       "      <td>7.4</td>\n",
       "      <td>Poltergeist</td>\n",
       "      <td>PG</td>\n",
       "      <td>Horror</td>\n",
       "      <td>114</td>\n",
       "      <td>[u'JoBeth Williams', u\"Heather O'Rourke\", u'Cr...</td>\n",
       "    </tr>\n",
       "    <tr>\n",
       "      <th>978</th>\n",
       "      <td>7.4</td>\n",
       "      <td>Wall Street</td>\n",
       "      <td>R</td>\n",
       "      <td>Crime</td>\n",
       "      <td>126</td>\n",
       "      <td>[u'Charlie Sheen', u'Michael Douglas', u'Tamar...</td>\n",
       "    </tr>\n",
       "  </tbody>\n",
       "</table>\n",
       "<p>979 rows × 6 columns</p>\n",
       "</div>"
      ],
      "text/plain": [
       "     star_rating                                            title  \\\n",
       "0            9.3                         The Shawshank Redemption   \n",
       "1            9.2                                    The Godfather   \n",
       "2            9.1                           The Godfather: Part II   \n",
       "3            9.0                                  The Dark Knight   \n",
       "4            8.9                                     Pulp Fiction   \n",
       "..           ...                                              ...   \n",
       "974          7.4                                          Tootsie   \n",
       "975          7.4                      Back to the Future Part III   \n",
       "976          7.4  Master and Commander: The Far Side of the World   \n",
       "977          7.4                                      Poltergeist   \n",
       "978          7.4                                      Wall Street   \n",
       "\n",
       "    content_rating      genre  duration  \\\n",
       "0                R      Crime       142   \n",
       "1                R      Crime       175   \n",
       "2                R      Crime       200   \n",
       "3            PG-13     Action       152   \n",
       "4                R      Crime       154   \n",
       "..             ...        ...       ...   \n",
       "974             PG     Comedy       116   \n",
       "975             PG  Adventure       118   \n",
       "976          PG-13     Action       138   \n",
       "977             PG     Horror       114   \n",
       "978              R      Crime       126   \n",
       "\n",
       "                                           actors_list  \n",
       "0    [u'Tim Robbins', u'Morgan Freeman', u'Bob Gunt...  \n",
       "1      [u'Marlon Brando', u'Al Pacino', u'James Caan']  \n",
       "2    [u'Al Pacino', u'Robert De Niro', u'Robert Duv...  \n",
       "3    [u'Christian Bale', u'Heath Ledger', u'Aaron E...  \n",
       "4    [u'John Travolta', u'Uma Thurman', u'Samuel L....  \n",
       "..                                                 ...  \n",
       "974  [u'Dustin Hoffman', u'Jessica Lange', u'Teri G...  \n",
       "975  [u'Michael J. Fox', u'Christopher Lloyd', u'Ma...  \n",
       "976  [u'Russell Crowe', u'Paul Bettany', u'Billy Bo...  \n",
       "977  [u'JoBeth Williams', u\"Heather O'Rourke\", u'Cr...  \n",
       "978  [u'Charlie Sheen', u'Michael Douglas', u'Tamar...  \n",
       "\n",
       "[979 rows x 6 columns]"
      ]
     },
     "execution_count": 5,
     "metadata": {},
     "output_type": "execute_result"
    }
   ],
   "source": [
    "movies"
   ]
  },
  {
   "cell_type": "markdown",
   "id": "48712998-dc9d-422f-a3e4-abc16fd54f88",
   "metadata": {},
   "source": [
    "#### First five rows?"
   ]
  },
  {
   "cell_type": "code",
   "execution_count": 6,
   "id": "03bb6eff-1b17-43d6-a0a1-ca6c765300b4",
   "metadata": {},
   "outputs": [
    {
     "data": {
      "text/html": [
       "<div>\n",
       "<style scoped>\n",
       "    .dataframe tbody tr th:only-of-type {\n",
       "        vertical-align: middle;\n",
       "    }\n",
       "\n",
       "    .dataframe tbody tr th {\n",
       "        vertical-align: top;\n",
       "    }\n",
       "\n",
       "    .dataframe thead th {\n",
       "        text-align: right;\n",
       "    }\n",
       "</style>\n",
       "<table border=\"1\" class=\"dataframe\">\n",
       "  <thead>\n",
       "    <tr style=\"text-align: right;\">\n",
       "      <th></th>\n",
       "      <th>star_rating</th>\n",
       "      <th>title</th>\n",
       "      <th>content_rating</th>\n",
       "      <th>genre</th>\n",
       "      <th>duration</th>\n",
       "      <th>actors_list</th>\n",
       "    </tr>\n",
       "  </thead>\n",
       "  <tbody>\n",
       "    <tr>\n",
       "      <th>0</th>\n",
       "      <td>9.3</td>\n",
       "      <td>The Shawshank Redemption</td>\n",
       "      <td>R</td>\n",
       "      <td>Crime</td>\n",
       "      <td>142</td>\n",
       "      <td>[u'Tim Robbins', u'Morgan Freeman', u'Bob Gunt...</td>\n",
       "    </tr>\n",
       "  </tbody>\n",
       "</table>\n",
       "</div>"
      ],
      "text/plain": [
       "   star_rating                     title content_rating  genre  duration  \\\n",
       "0          9.3  The Shawshank Redemption              R  Crime       142   \n",
       "\n",
       "                                         actors_list  \n",
       "0  [u'Tim Robbins', u'Morgan Freeman', u'Bob Gunt...  "
      ]
     },
     "execution_count": 6,
     "metadata": {},
     "output_type": "execute_result"
    }
   ],
   "source": [
    "movies.head(1)"
   ]
  },
  {
   "cell_type": "markdown",
   "id": "172c5c63-6eda-484a-81da-3b3dfe6589f0",
   "metadata": {},
   "source": [
    "#### Use the `describe()` method to see the distribution"
   ]
  },
  {
   "cell_type": "code",
   "execution_count": 7,
   "id": "90021c19-fed4-4619-84b4-c15bcb71cd6c",
   "metadata": {},
   "outputs": [
    {
     "name": "stdout",
     "output_type": "stream",
     "text": [
      "<class 'pandas.core.frame.DataFrame'>\n",
      "RangeIndex: 979 entries, 0 to 978\n",
      "Data columns (total 6 columns):\n",
      " #   Column          Non-Null Count  Dtype  \n",
      "---  ------          --------------  -----  \n",
      " 0   star_rating     979 non-null    float64\n",
      " 1   title           979 non-null    object \n",
      " 2   content_rating  976 non-null    object \n",
      " 3   genre           979 non-null    object \n",
      " 4   duration        979 non-null    int64  \n",
      " 5   actors_list     979 non-null    object \n",
      "dtypes: float64(1), int64(1), object(4)\n",
      "memory usage: 46.0+ KB\n"
     ]
    }
   ],
   "source": [
    "movies.info()"
   ]
  },
  {
   "cell_type": "markdown",
   "id": "04c093c0-6b31-4bd8-9dd8-9e9cea80e004",
   "metadata": {},
   "source": [
    "---"
   ]
  },
  {
   "cell_type": "markdown",
   "id": "d9675971-e6e9-49a7-a237-028d043f33b9",
   "metadata": {},
   "source": [
    "## Categorization exercise"
   ]
  },
  {
   "cell_type": "markdown",
   "id": "b84119c2-fe4d-4914-8f95-4650e7c8acb9",
   "metadata": {},
   "source": [
    "#### What do you consider a 'long' movie? "
   ]
  },
  {
   "cell_type": "code",
   "execution_count": 8,
   "id": "7cefa30d-befc-46a8-9a0b-e8f6ec35489f",
   "metadata": {},
   "outputs": [],
   "source": [
    "movies_long = movies[\"duration\"].mean() + movies[\"duration\"].std()"
   ]
  },
  {
   "cell_type": "code",
   "execution_count": 9,
   "id": "31a05f1c-b16d-4eda-8b11-32a2e3f9ff9b",
   "metadata": {},
   "outputs": [
    {
     "data": {
      "text/plain": [
       "147.19758083721905"
      ]
     },
     "execution_count": 9,
     "metadata": {},
     "output_type": "execute_result"
    }
   ],
   "source": [
    "movies_long"
   ]
  },
  {
   "cell_type": "markdown",
   "id": "ef1692cf-5a5f-43fc-9f1f-5e2896db1975",
   "metadata": {},
   "source": [
    "#### Boolean categorization function"
   ]
  },
  {
   "cell_type": "code",
   "execution_count": 10,
   "id": "82a59cdb-74cd-4fc1-93c1-f080dae18a11",
   "metadata": {},
   "outputs": [],
   "source": [
    "def categorize_long_movies(time):\n",
    "    if time >= movies_long:\n",
    "        return True\n",
    "    else:\n",
    "        return False"
   ]
  },
  {
   "cell_type": "markdown",
   "id": "fcd60d5c-9704-4b5c-a3bf-c6b09962919c",
   "metadata": {},
   "source": [
    "#### Apply that to our duration column as a new column"
   ]
  },
  {
   "cell_type": "code",
   "execution_count": 11,
   "id": "c25f9f42-0398-45f0-83ab-5525d4b7359a",
   "metadata": {},
   "outputs": [],
   "source": [
    "movies[\"is_long\"] = movies[\"duration\"].apply(categorize_long_movies)"
   ]
  },
  {
   "cell_type": "code",
   "execution_count": 12,
   "id": "2beca6d5-73ad-45a8-bbe1-4a21dcce9023",
   "metadata": {},
   "outputs": [
    {
     "data": {
      "text/html": [
       "<div>\n",
       "<style scoped>\n",
       "    .dataframe tbody tr th:only-of-type {\n",
       "        vertical-align: middle;\n",
       "    }\n",
       "\n",
       "    .dataframe tbody tr th {\n",
       "        vertical-align: top;\n",
       "    }\n",
       "\n",
       "    .dataframe thead th {\n",
       "        text-align: right;\n",
       "    }\n",
       "</style>\n",
       "<table border=\"1\" class=\"dataframe\">\n",
       "  <thead>\n",
       "    <tr style=\"text-align: right;\">\n",
       "      <th></th>\n",
       "      <th>star_rating</th>\n",
       "      <th>title</th>\n",
       "      <th>content_rating</th>\n",
       "      <th>genre</th>\n",
       "      <th>duration</th>\n",
       "      <th>actors_list</th>\n",
       "      <th>is_long</th>\n",
       "    </tr>\n",
       "  </thead>\n",
       "  <tbody>\n",
       "    <tr>\n",
       "      <th>0</th>\n",
       "      <td>9.3</td>\n",
       "      <td>The Shawshank Redemption</td>\n",
       "      <td>R</td>\n",
       "      <td>Crime</td>\n",
       "      <td>142</td>\n",
       "      <td>[u'Tim Robbins', u'Morgan Freeman', u'Bob Gunt...</td>\n",
       "      <td>False</td>\n",
       "    </tr>\n",
       "    <tr>\n",
       "      <th>1</th>\n",
       "      <td>9.2</td>\n",
       "      <td>The Godfather</td>\n",
       "      <td>R</td>\n",
       "      <td>Crime</td>\n",
       "      <td>175</td>\n",
       "      <td>[u'Marlon Brando', u'Al Pacino', u'James Caan']</td>\n",
       "      <td>True</td>\n",
       "    </tr>\n",
       "    <tr>\n",
       "      <th>2</th>\n",
       "      <td>9.1</td>\n",
       "      <td>The Godfather: Part II</td>\n",
       "      <td>R</td>\n",
       "      <td>Crime</td>\n",
       "      <td>200</td>\n",
       "      <td>[u'Al Pacino', u'Robert De Niro', u'Robert Duv...</td>\n",
       "      <td>True</td>\n",
       "    </tr>\n",
       "    <tr>\n",
       "      <th>3</th>\n",
       "      <td>9.0</td>\n",
       "      <td>The Dark Knight</td>\n",
       "      <td>PG-13</td>\n",
       "      <td>Action</td>\n",
       "      <td>152</td>\n",
       "      <td>[u'Christian Bale', u'Heath Ledger', u'Aaron E...</td>\n",
       "      <td>True</td>\n",
       "    </tr>\n",
       "    <tr>\n",
       "      <th>4</th>\n",
       "      <td>8.9</td>\n",
       "      <td>Pulp Fiction</td>\n",
       "      <td>R</td>\n",
       "      <td>Crime</td>\n",
       "      <td>154</td>\n",
       "      <td>[u'John Travolta', u'Uma Thurman', u'Samuel L....</td>\n",
       "      <td>True</td>\n",
       "    </tr>\n",
       "  </tbody>\n",
       "</table>\n",
       "</div>"
      ],
      "text/plain": [
       "   star_rating                     title content_rating   genre  duration  \\\n",
       "0          9.3  The Shawshank Redemption              R   Crime       142   \n",
       "1          9.2             The Godfather              R   Crime       175   \n",
       "2          9.1    The Godfather: Part II              R   Crime       200   \n",
       "3          9.0           The Dark Knight          PG-13  Action       152   \n",
       "4          8.9              Pulp Fiction              R   Crime       154   \n",
       "\n",
       "                                         actors_list  is_long  \n",
       "0  [u'Tim Robbins', u'Morgan Freeman', u'Bob Gunt...    False  \n",
       "1    [u'Marlon Brando', u'Al Pacino', u'James Caan']     True  \n",
       "2  [u'Al Pacino', u'Robert De Niro', u'Robert Duv...     True  \n",
       "3  [u'Christian Bale', u'Heath Ledger', u'Aaron E...     True  \n",
       "4  [u'John Travolta', u'Uma Thurman', u'Samuel L....     True  "
      ]
     },
     "execution_count": 12,
     "metadata": {},
     "output_type": "execute_result"
    }
   ],
   "source": [
    "movies.head()"
   ]
  },
  {
   "cell_type": "code",
   "execution_count": 13,
   "id": "07a9bfb6-990d-4044-8b2e-124ca159b937",
   "metadata": {},
   "outputs": [
    {
     "data": {
      "text/plain": [
       "False    845\n",
       "True     134\n",
       "Name: is_long, dtype: int64"
      ]
     },
     "execution_count": 13,
     "metadata": {},
     "output_type": "execute_result"
    }
   ],
   "source": [
    "movies.is_long.value_counts()"
   ]
  },
  {
   "cell_type": "markdown",
   "id": "80005bf4-96e7-4476-b6c7-ace02b928e88",
   "metadata": {},
   "source": [
    "---"
   ]
  },
  {
   "cell_type": "markdown",
   "id": "93f8f0b3-4f86-4af2-8638-32ffc08dceb9",
   "metadata": {},
   "source": [
    "## Looping exercise"
   ]
  },
  {
   "cell_type": "code",
   "execution_count": 14,
   "id": "0c6c9993-1b00-446d-a4a6-50bc01dd96b4",
   "metadata": {},
   "outputs": [
    {
     "name": "stdout",
     "output_type": "stream",
     "text": [
      "https://www.imdb.com/search/title/?genres=Crime\n",
      "https://www.imdb.com/search/title/?genres=Action\n",
      "https://www.imdb.com/search/title/?genres=Drama\n",
      "https://www.imdb.com/search/title/?genres=Western\n",
      "https://www.imdb.com/search/title/?genres=Adventure\n",
      "https://www.imdb.com/search/title/?genres=Biography\n",
      "https://www.imdb.com/search/title/?genres=Comedy\n",
      "https://www.imdb.com/search/title/?genres=Animation\n",
      "https://www.imdb.com/search/title/?genres=Mystery\n",
      "https://www.imdb.com/search/title/?genres=Horror\n",
      "https://www.imdb.com/search/title/?genres=Film-Noir\n",
      "https://www.imdb.com/search/title/?genres=Sci-Fi\n",
      "https://www.imdb.com/search/title/?genres=History\n",
      "https://www.imdb.com/search/title/?genres=Thriller\n",
      "https://www.imdb.com/search/title/?genres=Family\n",
      "https://www.imdb.com/search/title/?genres=Fantasy\n"
     ]
    }
   ],
   "source": [
    "for mov in movies[\"genre\"].unique():\n",
    "    print(\"https://www.imdb.com/search/title/?genres=\" + mov)"
   ]
  },
  {
   "cell_type": "code",
   "execution_count": 15,
   "id": "8879d618-6660-4533-9dfd-b56926a53f76",
   "metadata": {},
   "outputs": [],
   "source": [
    "movies[\"genre_url\"] = \"https://www.imdb.com/search/title/?genres=\" + movies[\"genre\"]"
   ]
  },
  {
   "cell_type": "code",
   "execution_count": 16,
   "id": "3e7adab9-adb7-47db-82cc-a693a76876db",
   "metadata": {},
   "outputs": [
    {
     "data": {
      "text/html": [
       "<div>\n",
       "<style scoped>\n",
       "    .dataframe tbody tr th:only-of-type {\n",
       "        vertical-align: middle;\n",
       "    }\n",
       "\n",
       "    .dataframe tbody tr th {\n",
       "        vertical-align: top;\n",
       "    }\n",
       "\n",
       "    .dataframe thead th {\n",
       "        text-align: right;\n",
       "    }\n",
       "</style>\n",
       "<table border=\"1\" class=\"dataframe\">\n",
       "  <thead>\n",
       "    <tr style=\"text-align: right;\">\n",
       "      <th></th>\n",
       "      <th>star_rating</th>\n",
       "      <th>title</th>\n",
       "      <th>content_rating</th>\n",
       "      <th>genre</th>\n",
       "      <th>duration</th>\n",
       "      <th>actors_list</th>\n",
       "      <th>is_long</th>\n",
       "      <th>genre_url</th>\n",
       "    </tr>\n",
       "  </thead>\n",
       "  <tbody>\n",
       "    <tr>\n",
       "      <th>0</th>\n",
       "      <td>9.3</td>\n",
       "      <td>The Shawshank Redemption</td>\n",
       "      <td>R</td>\n",
       "      <td>Crime</td>\n",
       "      <td>142</td>\n",
       "      <td>[u'Tim Robbins', u'Morgan Freeman', u'Bob Gunt...</td>\n",
       "      <td>False</td>\n",
       "      <td>https://www.imdb.com/search/title/?genres=Crime</td>\n",
       "    </tr>\n",
       "    <tr>\n",
       "      <th>1</th>\n",
       "      <td>9.2</td>\n",
       "      <td>The Godfather</td>\n",
       "      <td>R</td>\n",
       "      <td>Crime</td>\n",
       "      <td>175</td>\n",
       "      <td>[u'Marlon Brando', u'Al Pacino', u'James Caan']</td>\n",
       "      <td>True</td>\n",
       "      <td>https://www.imdb.com/search/title/?genres=Crime</td>\n",
       "    </tr>\n",
       "    <tr>\n",
       "      <th>2</th>\n",
       "      <td>9.1</td>\n",
       "      <td>The Godfather: Part II</td>\n",
       "      <td>R</td>\n",
       "      <td>Crime</td>\n",
       "      <td>200</td>\n",
       "      <td>[u'Al Pacino', u'Robert De Niro', u'Robert Duv...</td>\n",
       "      <td>True</td>\n",
       "      <td>https://www.imdb.com/search/title/?genres=Crime</td>\n",
       "    </tr>\n",
       "    <tr>\n",
       "      <th>3</th>\n",
       "      <td>9.0</td>\n",
       "      <td>The Dark Knight</td>\n",
       "      <td>PG-13</td>\n",
       "      <td>Action</td>\n",
       "      <td>152</td>\n",
       "      <td>[u'Christian Bale', u'Heath Ledger', u'Aaron E...</td>\n",
       "      <td>True</td>\n",
       "      <td>https://www.imdb.com/search/title/?genres=Action</td>\n",
       "    </tr>\n",
       "    <tr>\n",
       "      <th>4</th>\n",
       "      <td>8.9</td>\n",
       "      <td>Pulp Fiction</td>\n",
       "      <td>R</td>\n",
       "      <td>Crime</td>\n",
       "      <td>154</td>\n",
       "      <td>[u'John Travolta', u'Uma Thurman', u'Samuel L....</td>\n",
       "      <td>True</td>\n",
       "      <td>https://www.imdb.com/search/title/?genres=Crime</td>\n",
       "    </tr>\n",
       "  </tbody>\n",
       "</table>\n",
       "</div>"
      ],
      "text/plain": [
       "   star_rating                     title content_rating   genre  duration  \\\n",
       "0          9.3  The Shawshank Redemption              R   Crime       142   \n",
       "1          9.2             The Godfather              R   Crime       175   \n",
       "2          9.1    The Godfather: Part II              R   Crime       200   \n",
       "3          9.0           The Dark Knight          PG-13  Action       152   \n",
       "4          8.9              Pulp Fiction              R   Crime       154   \n",
       "\n",
       "                                         actors_list  is_long  \\\n",
       "0  [u'Tim Robbins', u'Morgan Freeman', u'Bob Gunt...    False   \n",
       "1    [u'Marlon Brando', u'Al Pacino', u'James Caan']     True   \n",
       "2  [u'Al Pacino', u'Robert De Niro', u'Robert Duv...     True   \n",
       "3  [u'Christian Bale', u'Heath Ledger', u'Aaron E...     True   \n",
       "4  [u'John Travolta', u'Uma Thurman', u'Samuel L....     True   \n",
       "\n",
       "                                          genre_url  \n",
       "0   https://www.imdb.com/search/title/?genres=Crime  \n",
       "1   https://www.imdb.com/search/title/?genres=Crime  \n",
       "2   https://www.imdb.com/search/title/?genres=Crime  \n",
       "3  https://www.imdb.com/search/title/?genres=Action  \n",
       "4   https://www.imdb.com/search/title/?genres=Crime  "
      ]
     },
     "execution_count": 16,
     "metadata": {},
     "output_type": "execute_result"
    }
   ],
   "source": [
    "movies.head()"
   ]
  },
  {
   "cell_type": "code",
   "execution_count": 17,
   "id": "e34f4f1e-3690-494d-9bfb-6044fdeaa519",
   "metadata": {},
   "outputs": [],
   "source": [
    "# https://www.imdb.com/search/title/?genres=comedy"
   ]
  },
  {
   "cell_type": "markdown",
   "id": "6e5a5065-b342-4e4b-bfee-06a369db1779",
   "metadata": {},
   "source": [
    "---"
   ]
  },
  {
   "cell_type": "markdown",
   "id": "9dee68b0-2a9d-4184-a173-321c16cdd084",
   "metadata": {},
   "source": [
    "### Questions"
   ]
  },
  {
   "cell_type": "markdown",
   "id": "ff727de8-4204-4dcb-96d6-64a8fc932148",
   "metadata": {},
   "source": [
    "#### How many crime movies vs. other types? "
   ]
  },
  {
   "cell_type": "code",
   "execution_count": 18,
   "id": "63e635a3-42ca-4569-9a15-609408e14f79",
   "metadata": {},
   "outputs": [
    {
     "data": {
      "text/plain": [
       "genre\n",
       "Action       136\n",
       "Adventure     75\n",
       "Animation     62\n",
       "Biography     77\n",
       "Comedy       156\n",
       "Crime        124\n",
       "Drama        278\n",
       "Family         2\n",
       "Fantasy        1\n",
       "Film-Noir      3\n",
       "History        1\n",
       "Horror        29\n",
       "Mystery       16\n",
       "Sci-Fi         5\n",
       "Thriller       5\n",
       "Western        9\n",
       "Name: title, dtype: int64"
      ]
     },
     "execution_count": 18,
     "metadata": {},
     "output_type": "execute_result"
    }
   ],
   "source": [
    "movies.groupby([\"genre\"])[\"title\"].count()"
   ]
  },
  {
   "cell_type": "code",
   "execution_count": 19,
   "id": "c8309a90-c862-4252-b430-9032479d5615",
   "metadata": {},
   "outputs": [
    {
     "data": {
      "text/plain": [
       "124"
      ]
     },
     "execution_count": 19,
     "metadata": {},
     "output_type": "execute_result"
    }
   ],
   "source": [
    "len(movies[movies[\"genre\"] == \"Crime\"])"
   ]
  },
  {
   "cell_type": "code",
   "execution_count": 20,
   "id": "f4d4c1f5-b80a-4705-9a06-018ba5ea6df1",
   "metadata": {},
   "outputs": [
    {
     "data": {
      "text/plain": [
       "855"
      ]
     },
     "execution_count": 20,
     "metadata": {},
     "output_type": "execute_result"
    }
   ],
   "source": [
    "len(movies[movies[\"genre\"] != \"Crime\"])"
   ]
  },
  {
   "cell_type": "markdown",
   "id": "ef1ddc2b-a910-475f-99a8-b55ebc0de686",
   "metadata": {},
   "source": [
    "#### Which movie featuring Jack Nicholson had the highest star rating? "
   ]
  },
  {
   "cell_type": "code",
   "execution_count": 21,
   "id": "8c028096-ae6e-4b85-b8ff-a617190d3131",
   "metadata": {},
   "outputs": [
    {
     "data": {
      "text/html": [
       "<div>\n",
       "<style scoped>\n",
       "    .dataframe tbody tr th:only-of-type {\n",
       "        vertical-align: middle;\n",
       "    }\n",
       "\n",
       "    .dataframe tbody tr th {\n",
       "        vertical-align: top;\n",
       "    }\n",
       "\n",
       "    .dataframe thead th {\n",
       "        text-align: right;\n",
       "    }\n",
       "</style>\n",
       "<table border=\"1\" class=\"dataframe\">\n",
       "  <thead>\n",
       "    <tr style=\"text-align: right;\">\n",
       "      <th></th>\n",
       "      <th>star_rating</th>\n",
       "      <th>title</th>\n",
       "      <th>content_rating</th>\n",
       "      <th>genre</th>\n",
       "      <th>duration</th>\n",
       "      <th>actors_list</th>\n",
       "      <th>is_long</th>\n",
       "      <th>genre_url</th>\n",
       "    </tr>\n",
       "  </thead>\n",
       "  <tbody>\n",
       "    <tr>\n",
       "      <th>16</th>\n",
       "      <td>8.7</td>\n",
       "      <td>One Flew Over the Cuckoo's Nest</td>\n",
       "      <td>R</td>\n",
       "      <td>Drama</td>\n",
       "      <td>133</td>\n",
       "      <td>[u'Jack Nicholson', u'Louise Fletcher', u'Mich...</td>\n",
       "      <td>False</td>\n",
       "      <td>https://www.imdb.com/search/title/?genres=Drama</td>\n",
       "    </tr>\n",
       "  </tbody>\n",
       "</table>\n",
       "</div>"
      ],
      "text/plain": [
       "    star_rating                            title content_rating  genre  \\\n",
       "16          8.7  One Flew Over the Cuckoo's Nest              R  Drama   \n",
       "\n",
       "    duration                                        actors_list  is_long  \\\n",
       "16       133  [u'Jack Nicholson', u'Louise Fletcher', u'Mich...    False   \n",
       "\n",
       "                                          genre_url  \n",
       "16  https://www.imdb.com/search/title/?genres=Drama  "
      ]
     },
     "execution_count": 21,
     "metadata": {},
     "output_type": "execute_result"
    }
   ],
   "source": [
    "movies[movies[\"actors_list\"].str.contains(\"Jack Nicholson\")].sort_values(\n",
    "    \"star_rating\", ascending=False\n",
    ").head(1)"
   ]
  },
  {
   "cell_type": "markdown",
   "id": "b63335eb-3030-4c54-a338-1eb3ab8b20a2",
   "metadata": {},
   "source": [
    "#### How does the average duration of dramas compare with other genres? "
   ]
  },
  {
   "cell_type": "code",
   "execution_count": 22,
   "id": "2f1c1c83-51c0-4453-8755-68f192a40560",
   "metadata": {},
   "outputs": [
    {
     "data": {
      "text/plain": [
       "genre\n",
       "Action       126.485294\n",
       "Adventure    134.840000\n",
       "Animation     96.596774\n",
       "Biography    131.844156\n",
       "Comedy       107.602564\n",
       "Crime        122.298387\n",
       "Drama        126.539568\n",
       "Family       107.500000\n",
       "Fantasy      112.000000\n",
       "Film-Noir     97.333333\n",
       "History       66.000000\n",
       "Horror       102.517241\n",
       "Mystery      115.625000\n",
       "Sci-Fi       109.000000\n",
       "Thriller     114.200000\n",
       "Western      136.666667\n",
       "Name: duration, dtype: float64"
      ]
     },
     "execution_count": 22,
     "metadata": {},
     "output_type": "execute_result"
    }
   ],
   "source": [
    "movies.groupby([\"genre\"])[\"duration\"].mean()"
   ]
  },
  {
   "cell_type": "markdown",
   "id": "e2434494-2911-4c40-840c-0f2f3200550f",
   "metadata": {},
   "source": [
    "#### How many movies contain Al Pacino?"
   ]
  },
  {
   "cell_type": "code",
   "execution_count": 23,
   "id": "47c8e855-c8b2-4c71-87cf-4d674a4ac9bf",
   "metadata": {},
   "outputs": [
    {
     "data": {
      "text/plain": [
       "13"
      ]
     },
     "execution_count": 23,
     "metadata": {},
     "output_type": "execute_result"
    }
   ],
   "source": [
    "movies[movies[\"actors_list\"].str.contains(\"Al Pacino\")].count()[\"title\"]"
   ]
  },
  {
   "cell_type": "markdown",
   "id": "77a48eef-567c-4dfd-bb38-b2f23b584130",
   "metadata": {},
   "source": [
    "#### What's the longest PG-13 action movie? "
   ]
  },
  {
   "cell_type": "code",
   "execution_count": 24,
   "id": "499d0be9-6123-4a27-8894-d9afe23a126f",
   "metadata": {},
   "outputs": [
    {
     "data": {
      "text/html": [
       "<div>\n",
       "<style scoped>\n",
       "    .dataframe tbody tr th:only-of-type {\n",
       "        vertical-align: middle;\n",
       "    }\n",
       "\n",
       "    .dataframe tbody tr th {\n",
       "        vertical-align: top;\n",
       "    }\n",
       "\n",
       "    .dataframe thead th {\n",
       "        text-align: right;\n",
       "    }\n",
       "</style>\n",
       "<table border=\"1\" class=\"dataframe\">\n",
       "  <thead>\n",
       "    <tr style=\"text-align: right;\">\n",
       "      <th></th>\n",
       "      <th>star_rating</th>\n",
       "      <th>title</th>\n",
       "      <th>content_rating</th>\n",
       "      <th>genre</th>\n",
       "      <th>duration</th>\n",
       "      <th>actors_list</th>\n",
       "      <th>is_long</th>\n",
       "      <th>genre_url</th>\n",
       "    </tr>\n",
       "  </thead>\n",
       "  <tbody>\n",
       "    <tr>\n",
       "      <th>385</th>\n",
       "      <td>8.0</td>\n",
       "      <td>Spartacus</td>\n",
       "      <td>PG-13</td>\n",
       "      <td>Action</td>\n",
       "      <td>197</td>\n",
       "      <td>[u'Kirk Douglas', u'Laurence Olivier', u'Jean ...</td>\n",
       "      <td>True</td>\n",
       "      <td>https://www.imdb.com/search/title/?genres=Action</td>\n",
       "    </tr>\n",
       "  </tbody>\n",
       "</table>\n",
       "</div>"
      ],
      "text/plain": [
       "     star_rating      title content_rating   genre  duration  \\\n",
       "385          8.0  Spartacus          PG-13  Action       197   \n",
       "\n",
       "                                           actors_list  is_long  \\\n",
       "385  [u'Kirk Douglas', u'Laurence Olivier', u'Jean ...     True   \n",
       "\n",
       "                                            genre_url  \n",
       "385  https://www.imdb.com/search/title/?genres=Action  "
      ]
     },
     "execution_count": 24,
     "metadata": {},
     "output_type": "execute_result"
    }
   ],
   "source": [
    "movies[\n",
    "    (movies[\"content_rating\"] == \"PG-13\") & (movies[\"genre\"] == \"Action\")\n",
    "].sort_values(\"duration\", ascending=False).head(1)"
   ]
  },
  {
   "cell_type": "markdown",
   "id": "e602b22e-c952-45a3-ac32-014e0b316209",
   "metadata": {},
   "source": [
    "#### Which genre has the highest star rating?"
   ]
  },
  {
   "cell_type": "code",
   "execution_count": 25,
   "id": "74573dc4-843d-4dd1-9f90-0083229ed648",
   "metadata": {},
   "outputs": [
    {
     "data": {
      "text/plain": [
       "genre\n",
       "Western    8.255556\n",
       "Name: star_rating, dtype: float64"
      ]
     },
     "execution_count": 25,
     "metadata": {},
     "output_type": "execute_result"
    }
   ],
   "source": [
    "movies.groupby([\"genre\"])[\"star_rating\"].mean().sort_values(ascending=False).head(1)"
   ]
  },
  {
   "cell_type": "code",
   "execution_count": null,
   "id": "8a8848ff-f5b4-4d3c-a29a-3ba826a7ecca",
   "metadata": {},
   "outputs": [],
   "source": []
  },
  {
   "cell_type": "markdown",
   "id": "80b4783b-afd4-417b-bb25-0289fae25af4",
   "metadata": {},
   "source": [
    "#### How many movies contain the word 'city'? "
   ]
  },
  {
   "cell_type": "code",
   "execution_count": 26,
   "id": "d6f3c6ef-af87-4981-b45b-73e5a6e56431",
   "metadata": {},
   "outputs": [
    {
     "data": {
      "text/plain": [
       "5"
      ]
     },
     "execution_count": 26,
     "metadata": {},
     "output_type": "execute_result"
    }
   ],
   "source": [
    "movies[movies[\"title\"].str.contains(\"City\")].count()[\"title\"]"
   ]
  },
  {
   "cell_type": "code",
   "execution_count": null,
   "id": "81272960-5355-426e-bb68-f893fe6ee045",
   "metadata": {},
   "outputs": [],
   "source": []
  },
  {
   "cell_type": "markdown",
   "id": "83e5d8ca-8cf0-4608-8c8b-f78c47b236e2",
   "metadata": {},
   "source": [
    "#### Do long movies have a higher average star rating than not long movies?"
   ]
  },
  {
   "cell_type": "code",
   "execution_count": 31,
   "id": "5a9a0d36-1183-41d9-93d1-41162463cfc6",
   "metadata": {},
   "outputs": [
    {
     "data": {
      "text/plain": [
       "is_long\n",
       "False    7.858698\n",
       "True     8.085821\n",
       "Name: star_rating, dtype: float64"
      ]
     },
     "execution_count": 31,
     "metadata": {},
     "output_type": "execute_result"
    }
   ],
   "source": [
    "movies.groupby([\"is_long\"])[\"star_rating\"].mean()"
   ]
  },
  {
   "cell_type": "markdown",
   "id": "9875e963-271d-4ce6-871b-d3c9456b0018",
   "metadata": {},
   "source": [
    "#### LONG MOVIES RATED HIGHER"
   ]
  },
  {
   "cell_type": "code",
   "execution_count": null,
   "id": "0eedff1f-bc15-4f95-9977-7f1aa63f72a5",
   "metadata": {},
   "outputs": [],
   "source": []
  },
  {
   "cell_type": "markdown",
   "id": "e70721cb-fc6f-4ed9-ad60-f24db60dad2a",
   "metadata": {},
   "source": [
    "#### Are \"G\" rated movies more popular than \"R\" rated movies? "
   ]
  },
  {
   "cell_type": "code",
   "execution_count": 36,
   "id": "ff68f346-cece-45d5-ae27-db496731592e",
   "metadata": {},
   "outputs": [
    {
     "data": {
      "text/plain": [
       "content_rating\n",
       "G    7.990625\n",
       "R    7.854783\n",
       "Name: star_rating, dtype: float64"
      ]
     },
     "execution_count": 36,
     "metadata": {},
     "output_type": "execute_result"
    }
   ],
   "source": [
    "movies[(movies[\"content_rating\"] == \"G\") | (movies[\"content_rating\"] == \"R\")].groupby(\n",
    "    \"content_rating\"\n",
    ")[\"star_rating\"].mean().sort_values(ascending=False)"
   ]
  },
  {
   "cell_type": "code",
   "execution_count": null,
   "id": "d53acbd0-4056-4a2a-a787-1ea4675f0d7f",
   "metadata": {},
   "outputs": [],
   "source": []
  },
  {
   "cell_type": "markdown",
   "id": "4538ec88-2718-4170-be31-8283d53446fc",
   "metadata": {},
   "source": [
    "---"
   ]
  },
  {
   "cell_type": "markdown",
   "id": "f64aeea7-9bee-4d6e-9286-c3fa10f83b49",
   "metadata": {},
   "source": [
    "## Bonus questions! "
   ]
  },
  {
   "cell_type": "markdown",
   "id": "791e4e9a-99a9-42bc-8297-42c1105df1d2",
   "metadata": {},
   "source": [
    "#### How many movies start with \"The\"?"
   ]
  },
  {
   "cell_type": "code",
   "execution_count": 40,
   "id": "cd1d9885-2f50-4068-89f7-4d96ad192541",
   "metadata": {},
   "outputs": [
    {
     "data": {
      "text/html": [
       "<div>\n",
       "<style scoped>\n",
       "    .dataframe tbody tr th:only-of-type {\n",
       "        vertical-align: middle;\n",
       "    }\n",
       "\n",
       "    .dataframe tbody tr th {\n",
       "        vertical-align: top;\n",
       "    }\n",
       "\n",
       "    .dataframe thead th {\n",
       "        text-align: right;\n",
       "    }\n",
       "</style>\n",
       "<table border=\"1\" class=\"dataframe\">\n",
       "  <thead>\n",
       "    <tr style=\"text-align: right;\">\n",
       "      <th></th>\n",
       "      <th>star_rating</th>\n",
       "      <th>title</th>\n",
       "      <th>content_rating</th>\n",
       "      <th>genre</th>\n",
       "      <th>duration</th>\n",
       "      <th>actors_list</th>\n",
       "      <th>is_long</th>\n",
       "      <th>genre_url</th>\n",
       "    </tr>\n",
       "  </thead>\n",
       "  <tbody>\n",
       "    <tr>\n",
       "      <th>0</th>\n",
       "      <td>9.3</td>\n",
       "      <td>The Shawshank Redemption</td>\n",
       "      <td>R</td>\n",
       "      <td>Crime</td>\n",
       "      <td>142</td>\n",
       "      <td>[u'Tim Robbins', u'Morgan Freeman', u'Bob Gunt...</td>\n",
       "      <td>False</td>\n",
       "      <td>https://www.imdb.com/search/title/?genres=Crime</td>\n",
       "    </tr>\n",
       "    <tr>\n",
       "      <th>1</th>\n",
       "      <td>9.2</td>\n",
       "      <td>The Godfather</td>\n",
       "      <td>R</td>\n",
       "      <td>Crime</td>\n",
       "      <td>175</td>\n",
       "      <td>[u'Marlon Brando', u'Al Pacino', u'James Caan']</td>\n",
       "      <td>True</td>\n",
       "      <td>https://www.imdb.com/search/title/?genres=Crime</td>\n",
       "    </tr>\n",
       "    <tr>\n",
       "      <th>2</th>\n",
       "      <td>9.1</td>\n",
       "      <td>The Godfather: Part II</td>\n",
       "      <td>R</td>\n",
       "      <td>Crime</td>\n",
       "      <td>200</td>\n",
       "      <td>[u'Al Pacino', u'Robert De Niro', u'Robert Duv...</td>\n",
       "      <td>True</td>\n",
       "      <td>https://www.imdb.com/search/title/?genres=Crime</td>\n",
       "    </tr>\n",
       "    <tr>\n",
       "      <th>3</th>\n",
       "      <td>9.0</td>\n",
       "      <td>The Dark Knight</td>\n",
       "      <td>PG-13</td>\n",
       "      <td>Action</td>\n",
       "      <td>152</td>\n",
       "      <td>[u'Christian Bale', u'Heath Ledger', u'Aaron E...</td>\n",
       "      <td>True</td>\n",
       "      <td>https://www.imdb.com/search/title/?genres=Action</td>\n",
       "    </tr>\n",
       "    <tr>\n",
       "      <th>6</th>\n",
       "      <td>8.9</td>\n",
       "      <td>The Good, the Bad and the Ugly</td>\n",
       "      <td>NOT RATED</td>\n",
       "      <td>Western</td>\n",
       "      <td>161</td>\n",
       "      <td>[u'Clint Eastwood', u'Eli Wallach', u'Lee Van ...</td>\n",
       "      <td>True</td>\n",
       "      <td>https://www.imdb.com/search/title/?genres=Western</td>\n",
       "    </tr>\n",
       "    <tr>\n",
       "      <th>...</th>\n",
       "      <td>...</td>\n",
       "      <td>...</td>\n",
       "      <td>...</td>\n",
       "      <td>...</td>\n",
       "      <td>...</td>\n",
       "      <td>...</td>\n",
       "      <td>...</td>\n",
       "      <td>...</td>\n",
       "    </tr>\n",
       "    <tr>\n",
       "      <th>960</th>\n",
       "      <td>7.4</td>\n",
       "      <td>The Way Way Back</td>\n",
       "      <td>PG-13</td>\n",
       "      <td>Comedy</td>\n",
       "      <td>103</td>\n",
       "      <td>[u'Steve Carell', u'Toni Collette', u'Allison ...</td>\n",
       "      <td>False</td>\n",
       "      <td>https://www.imdb.com/search/title/?genres=Comedy</td>\n",
       "    </tr>\n",
       "    <tr>\n",
       "      <th>966</th>\n",
       "      <td>7.4</td>\n",
       "      <td>The Simpsons Movie</td>\n",
       "      <td>PG-13</td>\n",
       "      <td>Animation</td>\n",
       "      <td>87</td>\n",
       "      <td>[u'Dan Castellaneta', u'Julie Kavner', u'Nancy...</td>\n",
       "      <td>False</td>\n",
       "      <td>https://www.imdb.com/search/title/?genres=Anim...</td>\n",
       "    </tr>\n",
       "    <tr>\n",
       "      <th>967</th>\n",
       "      <td>7.4</td>\n",
       "      <td>The Rock</td>\n",
       "      <td>R</td>\n",
       "      <td>Action</td>\n",
       "      <td>136</td>\n",
       "      <td>[u'Sean Connery', u'Nicolas Cage', u'Ed Harris']</td>\n",
       "      <td>False</td>\n",
       "      <td>https://www.imdb.com/search/title/?genres=Action</td>\n",
       "    </tr>\n",
       "    <tr>\n",
       "      <th>968</th>\n",
       "      <td>7.4</td>\n",
       "      <td>The English Patient</td>\n",
       "      <td>R</td>\n",
       "      <td>Drama</td>\n",
       "      <td>162</td>\n",
       "      <td>[u'Ralph Fiennes', u'Juliette Binoche', u'Will...</td>\n",
       "      <td>True</td>\n",
       "      <td>https://www.imdb.com/search/title/?genres=Drama</td>\n",
       "    </tr>\n",
       "    <tr>\n",
       "      <th>973</th>\n",
       "      <td>7.4</td>\n",
       "      <td>The Cider House Rules</td>\n",
       "      <td>PG-13</td>\n",
       "      <td>Drama</td>\n",
       "      <td>126</td>\n",
       "      <td>[u'Tobey Maguire', u'Charlize Theron', u'Micha...</td>\n",
       "      <td>False</td>\n",
       "      <td>https://www.imdb.com/search/title/?genres=Drama</td>\n",
       "    </tr>\n",
       "  </tbody>\n",
       "</table>\n",
       "<p>223 rows × 8 columns</p>\n",
       "</div>"
      ],
      "text/plain": [
       "     star_rating                           title content_rating      genre  \\\n",
       "0            9.3        The Shawshank Redemption              R      Crime   \n",
       "1            9.2                   The Godfather              R      Crime   \n",
       "2            9.1          The Godfather: Part II              R      Crime   \n",
       "3            9.0                 The Dark Knight          PG-13     Action   \n",
       "6            8.9  The Good, the Bad and the Ugly      NOT RATED    Western   \n",
       "..           ...                             ...            ...        ...   \n",
       "960          7.4                The Way Way Back          PG-13     Comedy   \n",
       "966          7.4              The Simpsons Movie          PG-13  Animation   \n",
       "967          7.4                        The Rock              R     Action   \n",
       "968          7.4             The English Patient              R      Drama   \n",
       "973          7.4           The Cider House Rules          PG-13      Drama   \n",
       "\n",
       "     duration                                        actors_list  is_long  \\\n",
       "0         142  [u'Tim Robbins', u'Morgan Freeman', u'Bob Gunt...    False   \n",
       "1         175    [u'Marlon Brando', u'Al Pacino', u'James Caan']     True   \n",
       "2         200  [u'Al Pacino', u'Robert De Niro', u'Robert Duv...     True   \n",
       "3         152  [u'Christian Bale', u'Heath Ledger', u'Aaron E...     True   \n",
       "6         161  [u'Clint Eastwood', u'Eli Wallach', u'Lee Van ...     True   \n",
       "..        ...                                                ...      ...   \n",
       "960       103  [u'Steve Carell', u'Toni Collette', u'Allison ...    False   \n",
       "966        87  [u'Dan Castellaneta', u'Julie Kavner', u'Nancy...    False   \n",
       "967       136   [u'Sean Connery', u'Nicolas Cage', u'Ed Harris']    False   \n",
       "968       162  [u'Ralph Fiennes', u'Juliette Binoche', u'Will...     True   \n",
       "973       126  [u'Tobey Maguire', u'Charlize Theron', u'Micha...    False   \n",
       "\n",
       "                                             genre_url  \n",
       "0      https://www.imdb.com/search/title/?genres=Crime  \n",
       "1      https://www.imdb.com/search/title/?genres=Crime  \n",
       "2      https://www.imdb.com/search/title/?genres=Crime  \n",
       "3     https://www.imdb.com/search/title/?genres=Action  \n",
       "6    https://www.imdb.com/search/title/?genres=Western  \n",
       "..                                                 ...  \n",
       "960   https://www.imdb.com/search/title/?genres=Comedy  \n",
       "966  https://www.imdb.com/search/title/?genres=Anim...  \n",
       "967   https://www.imdb.com/search/title/?genres=Action  \n",
       "968    https://www.imdb.com/search/title/?genres=Drama  \n",
       "973    https://www.imdb.com/search/title/?genres=Drama  \n",
       "\n",
       "[223 rows x 8 columns]"
      ]
     },
     "execution_count": 40,
     "metadata": {},
     "output_type": "execute_result"
    }
   ],
   "source": [
    "movies[movies[\"title\"].str[:3] == \"The\"]"
   ]
  },
  {
   "cell_type": "code",
   "execution_count": null,
   "id": "4afa8f02-d0fb-4e68-9513-2ea704bf44c0",
   "metadata": {},
   "outputs": [],
   "source": []
  },
  {
   "cell_type": "markdown",
   "id": "23b983a1-9797-46da-84fd-4e42fd45552f",
   "metadata": {},
   "source": [
    "#### What movie title has the most characters in its name? "
   ]
  },
  {
   "cell_type": "code",
   "execution_count": null,
   "id": "0a14c34f-4cdb-435a-80d1-25b8fee8c2ff",
   "metadata": {},
   "outputs": [],
   "source": []
  },
  {
   "cell_type": "code",
   "execution_count": null,
   "id": "b93fc762-48cb-4ce6-a01a-18dacd0d36bb",
   "metadata": {},
   "outputs": [],
   "source": []
  },
  {
   "cell_type": "code",
   "execution_count": null,
   "id": "33b0a33e-9b7b-4c75-afa3-7f67cd4f5d5d",
   "metadata": {},
   "outputs": [],
   "source": []
  },
  {
   "cell_type": "markdown",
   "id": "5e3ea9b6-9205-426b-8ab8-f99262c6faa3",
   "metadata": {},
   "source": [
    "#### What percentage of all the movies are in the crime genre? "
   ]
  },
  {
   "cell_type": "code",
   "execution_count": null,
   "id": "51745d7d-829d-4b61-b717-8437cd520aa7",
   "metadata": {},
   "outputs": [],
   "source": []
  },
  {
   "cell_type": "code",
   "execution_count": null,
   "id": "1e1500ed-bf23-4a10-8d1e-455c44ecc5b8",
   "metadata": {},
   "outputs": [],
   "source": []
  },
  {
   "cell_type": "markdown",
   "id": "4483c96a-bdf2-4ce9-859d-3b352400089c",
   "metadata": {},
   "source": [
    "#### What percentage of movies featuring Meryl Streep are 'long' vs. 'not long'?"
   ]
  },
  {
   "cell_type": "code",
   "execution_count": null,
   "id": "d44ecb8b-a194-45e1-a9a3-f3d66da4e7cd",
   "metadata": {},
   "outputs": [],
   "source": []
  },
  {
   "cell_type": "code",
   "execution_count": null,
   "id": "34ee17c2-1b86-4429-9d1a-6652a6e674df",
   "metadata": {},
   "outputs": [],
   "source": []
  },
  {
   "cell_type": "code",
   "execution_count": null,
   "id": "ec164750-a7ff-4251-93fe-58641d293af6",
   "metadata": {},
   "outputs": [],
   "source": []
  },
  {
   "cell_type": "code",
   "execution_count": null,
   "id": "2f0b3604-d0d3-4700-9752-cb5bf135b75c",
   "metadata": {},
   "outputs": [],
   "source": []
  },
  {
   "cell_type": "code",
   "execution_count": null,
   "id": "c9cac1c5-a96c-475d-a2f8-1bcf9ff05b72",
   "metadata": {},
   "outputs": [],
   "source": []
  }
 ],
 "metadata": {
  "kernelspec": {
   "display_name": "Python 3",
   "language": "python",
   "name": "python3"
  },
  "language_info": {
   "codemirror_mode": {
    "name": "ipython",
    "version": 3
   },
   "file_extension": ".py",
   "mimetype": "text/x-python",
   "name": "python",
   "nbconvert_exporter": "python",
   "pygments_lexer": "ipython3",
   "version": "3.8.8"
  }
 },
 "nbformat": 4,
 "nbformat_minor": 5
}
