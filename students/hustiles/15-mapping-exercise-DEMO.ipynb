{
 "cells": [
  {
   "cell_type": "markdown",
   "id": "cf543214-f1e4-46f5-a4ca-0641e43e455f",
   "metadata": {},
   "source": [
    "# Class mapping exercise\n",
    "Choose one of the map ideas below, processed the data with GeoPandas and export the data to QGIS for presentation. *Hint: You might need to change data types using the `dtype` argument when importing files so that you can merge with FIPS and ZIP codes effectively.*"
   ]
  },
  {
   "cell_type": "markdown",
   "id": "ece5a4d3-be58-4d94-9736-5e9d10a41ba9",
   "metadata": {},
   "source": [
    "#### Load python tools"
   ]
  },
  {
   "cell_type": "code",
   "execution_count": 1,
   "id": "2594907b-7dfe-4e1f-9406-771e53069144",
   "metadata": {},
   "outputs": [],
   "source": [
    "%load_ext lab_black"
   ]
  },
  {
   "cell_type": "code",
   "execution_count": 2,
   "id": "5d82586b-0073-434d-bcee-46e1013d7fc5",
   "metadata": {},
   "outputs": [],
   "source": [
    "import pandas as pd\n",
    "import geopandas as gpd\n",
    "import numpy as np"
   ]
  },
  {
   "cell_type": "code",
   "execution_count": 3,
   "id": "558e402e-5ce6-4bae-bf4f-0157e6bc405d",
   "metadata": {},
   "outputs": [],
   "source": [
    "pd.options.display.max_columns = 1000\n",
    "pd.options.display.max_rows = 1000"
   ]
  },
  {
   "cell_type": "markdown",
   "id": "ab9cecce-39c5-4745-9f89-3dfba2e43fbc",
   "metadata": {},
   "source": [
    "### Election map\n",
    "#### What percentage of vote did Biden/Trump receive in California counties?"
   ]
  },
  {
   "cell_type": "code",
   "execution_count": 4,
   "id": "185545d4-f703-4be0-b679-550b93dc0ebf",
   "metadata": {},
   "outputs": [],
   "source": [
    "# Values: https://raw.githubusercontent.com/stiles/notebooks/master/elections/data/ca_counties_election_results_2020.csv\n",
    "# Geo: https://raw.githubusercontent.com/stiles/usc/main/data/geo/counties_simple.geojson"
   ]
  },
  {
   "cell_type": "markdown",
   "id": "0a278a62-673f-491f-959c-dd5cfc457a5e",
   "metadata": {},
   "source": [
    "#### Read election results"
   ]
  },
  {
   "cell_type": "code",
   "execution_count": null,
   "id": "3cd3aac6-8e17-4a97-804c-f5ce2187239f",
   "metadata": {},
   "outputs": [],
   "source": []
  },
  {
   "cell_type": "code",
   "execution_count": null,
   "id": "1cd49a1f-e5ed-4017-a318-e736347c3f2b",
   "metadata": {},
   "outputs": [],
   "source": []
  },
  {
   "cell_type": "markdown",
   "id": "d3555d23-1267-4778-b182-bb43b583d18d",
   "metadata": {},
   "source": [
    "#### Read county boundaries"
   ]
  },
  {
   "cell_type": "code",
   "execution_count": null,
   "id": "b899ae4a-ebaf-4f47-be48-c66ce526a269",
   "metadata": {},
   "outputs": [],
   "source": []
  },
  {
   "cell_type": "code",
   "execution_count": null,
   "id": "fd1aab75-5cdf-4dc0-b527-68839935e85f",
   "metadata": {},
   "outputs": [],
   "source": []
  },
  {
   "cell_type": "markdown",
   "id": "bbbcade1-6576-4a03-9c94-45782f5e9e3f",
   "metadata": {},
   "source": [
    "#### Merge the two "
   ]
  },
  {
   "cell_type": "code",
   "execution_count": null,
   "id": "86721fd9-a1ae-499d-9b28-43fa4fbf0c40",
   "metadata": {},
   "outputs": [],
   "source": []
  },
  {
   "cell_type": "code",
   "execution_count": null,
   "id": "c804990d-fdfa-4f33-a35b-39decbb61d26",
   "metadata": {},
   "outputs": [],
   "source": []
  },
  {
   "cell_type": "markdown",
   "id": "32f18e4a-bf3a-4c13-86ba-d8a6a008bf44",
   "metadata": {},
   "source": [
    "---"
   ]
  },
  {
   "cell_type": "markdown",
   "id": "1a8cd4d4-a39a-4832-a854-662fea4e38e0",
   "metadata": {},
   "source": [
    "### Vehicle map\n",
    "##### What's the Tesla ownership rate by LA ZIP Codes?"
   ]
  },
  {
   "cell_type": "code",
   "execution_count": 5,
   "id": "49a0ab1e-6bf8-404e-a672-fb038c5b2a74",
   "metadata": {},
   "outputs": [],
   "source": [
    "# Values: https://raw.githubusercontent.com/stiles/notebooks/master/california-fuel-vehicles/output/tesla_zips_slim.csv\n",
    "# Geo: https://raw.githubusercontent.com/stiles/notebooks/master/zips/data/processed/ca_zips_simple.geojson.json"
   ]
  },
  {
   "cell_type": "markdown",
   "id": "8cf7c725-1036-473b-8e0f-963e4f60e464",
   "metadata": {},
   "source": [
    "#### Read Tesla data"
   ]
  },
  {
   "cell_type": "code",
   "execution_count": null,
   "id": "d7313746-d89f-4fa5-8fc5-41bf6b0a2869",
   "metadata": {},
   "outputs": [],
   "source": []
  },
  {
   "cell_type": "code",
   "execution_count": null,
   "id": "18634d36-09c2-49e6-a110-7f838cb4e7a8",
   "metadata": {},
   "outputs": [],
   "source": []
  },
  {
   "cell_type": "markdown",
   "id": "883a00aa-1206-4c0b-bf53-0525dcb6e2da",
   "metadata": {},
   "source": [
    "#### Read ZIP Codes geo file"
   ]
  },
  {
   "cell_type": "code",
   "execution_count": null,
   "id": "0c07e314-1181-42b4-b26f-568c211dafb2",
   "metadata": {},
   "outputs": [],
   "source": []
  },
  {
   "cell_type": "code",
   "execution_count": null,
   "id": "e9ad639e-0f3d-41b9-81e6-a732d8702f4c",
   "metadata": {},
   "outputs": [],
   "source": []
  },
  {
   "cell_type": "markdown",
   "id": "a3c7575d-7d0a-4435-ba26-707fff46fd5a",
   "metadata": {},
   "source": [
    "#### Merge the two"
   ]
  },
  {
   "cell_type": "code",
   "execution_count": null,
   "id": "ee2974da-d520-4a6e-be0c-5490b9259729",
   "metadata": {},
   "outputs": [],
   "source": []
  },
  {
   "cell_type": "markdown",
   "id": "aec9045a-c2c4-4dcf-95bc-85c5353b25ab",
   "metadata": {},
   "source": [
    "#### Export merged geo file"
   ]
  },
  {
   "cell_type": "code",
   "execution_count": null,
   "id": "7d4ec6d4-498c-44f9-8b68-110f33bb78f3",
   "metadata": {},
   "outputs": [],
   "source": []
  },
  {
   "cell_type": "markdown",
   "id": "4a522579-29f7-4236-b345-1634b15e7b35",
   "metadata": {},
   "source": [
    "---"
   ]
  },
  {
   "cell_type": "markdown",
   "id": "c6fa3491-f1c6-405d-9f0e-430640f00cb6",
   "metadata": {},
   "source": [
    "### Population map\n",
    "##### How's the white population distributed in LA by neighborhood? "
   ]
  },
  {
   "cell_type": "code",
   "execution_count": 6,
   "id": "39be56ea-267f-46bc-8d06-0939ca0a7110",
   "metadata": {},
   "outputs": [],
   "source": [
    "# Values: https://raw.githubusercontent.com/stiles/usc/main/data/processed/la_neighborhood_demographics.csv\n",
    "# Geo: https://raw.githubusercontent.com/stiles/usc/main/data/geo/la-neighborhoods.geojson"
   ]
  },
  {
   "cell_type": "markdown",
   "id": "ab674d6b-0e50-4534-b706-5514ed9b2180",
   "metadata": {},
   "source": [
    "#### Read race/ethnicity data"
   ]
  },
  {
   "cell_type": "code",
   "execution_count": null,
   "id": "57a9a45a-2316-4624-8621-687685143dcc",
   "metadata": {},
   "outputs": [],
   "source": []
  },
  {
   "cell_type": "code",
   "execution_count": null,
   "id": "95c89e25-eac3-401c-abff-31b4a5b908cf",
   "metadata": {},
   "outputs": [],
   "source": []
  },
  {
   "cell_type": "markdown",
   "id": "da5bfdc0-62d3-4dc1-8867-66c2b69324f8",
   "metadata": {},
   "source": [
    "#### Read LA neighborhoods geo file"
   ]
  },
  {
   "cell_type": "code",
   "execution_count": null,
   "id": "87c97bc6-0e54-4888-8f5c-8c45f41c9e14",
   "metadata": {},
   "outputs": [],
   "source": []
  },
  {
   "cell_type": "code",
   "execution_count": null,
   "id": "cafe509d-0087-4698-90e0-1f5ecd86bb38",
   "metadata": {},
   "outputs": [],
   "source": []
  },
  {
   "cell_type": "markdown",
   "id": "7f72237a-c36b-4791-bf3a-d7efde539b2c",
   "metadata": {},
   "source": [
    "#### Merge the two"
   ]
  },
  {
   "cell_type": "code",
   "execution_count": null,
   "id": "80ddfd77-a237-42da-acef-b7f79a632687",
   "metadata": {},
   "outputs": [],
   "source": []
  },
  {
   "cell_type": "markdown",
   "id": "d2b4f1a9-d2e9-42d6-8283-841441ec006b",
   "metadata": {},
   "source": [
    "#### Export merged geo file"
   ]
  },
  {
   "cell_type": "code",
   "execution_count": null,
   "id": "5be8d03c-e1f7-4d3c-8764-b602eeca51a4",
   "metadata": {},
   "outputs": [],
   "source": []
  }
 ],
 "metadata": {
  "kernelspec": {
   "display_name": "Python 3 (ipykernel)",
   "language": "python",
   "name": "python3"
  },
  "language_info": {
   "codemirror_mode": {
    "name": "ipython",
    "version": 3
   },
   "file_extension": ".py",
   "mimetype": "text/x-python",
   "name": "python",
   "nbconvert_exporter": "python",
   "pygments_lexer": "ipython3",
   "version": "3.9.7"
  }
 },
 "nbformat": 4,
 "nbformat_minor": 5
}
