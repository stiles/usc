{
 "cells": [
  {
   "cell_type": "markdown",
   "id": "b7d85d1e-898b-4e69-931a-d26df4d856a4",
   "metadata": {},
   "source": [
    "# IMDB movie ratings"
   ]
  },
  {
   "cell_type": "markdown",
   "id": "7630749f-b12f-4dd7-8037-0245b81dfcec",
   "metadata": {},
   "source": [
    "#### Import python tools"
   ]
  },
  {
   "cell_type": "code",
   "execution_count": 1,
   "id": "c33dce56-aed0-4aa9-b430-0b7a42408895",
   "metadata": {},
   "outputs": [],
   "source": [
    "%load_ext lab_black"
   ]
  },
  {
   "cell_type": "code",
   "execution_count": 2,
   "id": "df79ce59-7408-4067-95ca-593236256d5b",
   "metadata": {},
   "outputs": [],
   "source": [
    "import pandas as pd"
   ]
  },
  {
   "cell_type": "markdown",
   "id": "515684cf-e6dd-4639-9c9a-42318fa70aa5",
   "metadata": {},
   "source": [
    "## Read our data"
   ]
  },
  {
   "cell_type": "code",
   "execution_count": 3,
   "id": "2fc71f8b-e2df-4aa3-81e7-164bafb760a4",
   "metadata": {},
   "outputs": [],
   "source": [
    "url = \"https://raw.githubusercontent.com/stiles/usc/main/data/raw/imdb_1000.csv\""
   ]
  },
  {
   "cell_type": "markdown",
   "id": "c5eb1a55-2652-4ff8-b601-de8465bce9da",
   "metadata": {},
   "source": [
    "#### Create a movies dataframe, and sort it by title"
   ]
  },
  {
   "cell_type": "code",
   "execution_count": 4,
   "id": "bb89dd99-c57f-4d9a-94be-2d09e5923466",
   "metadata": {},
   "outputs": [],
   "source": [
    "movies_df = pd.read_csv(url).sort_values(\"title\")"
   ]
  },
  {
   "cell_type": "markdown",
   "id": "48712998-dc9d-422f-a3e4-abc16fd54f88",
   "metadata": {},
   "source": [
    "#### First five rows?"
   ]
  },
  {
   "cell_type": "code",
   "execution_count": 5,
   "id": "03bb6eff-1b17-43d6-a0a1-ca6c765300b4",
   "metadata": {},
   "outputs": [
    {
     "data": {
      "text/html": [
       "<div>\n",
       "<style scoped>\n",
       "    .dataframe tbody tr th:only-of-type {\n",
       "        vertical-align: middle;\n",
       "    }\n",
       "\n",
       "    .dataframe tbody tr th {\n",
       "        vertical-align: top;\n",
       "    }\n",
       "\n",
       "    .dataframe thead th {\n",
       "        text-align: right;\n",
       "    }\n",
       "</style>\n",
       "<table border=\"1\" class=\"dataframe\">\n",
       "  <thead>\n",
       "    <tr style=\"text-align: right;\">\n",
       "      <th></th>\n",
       "      <th>star_rating</th>\n",
       "      <th>title</th>\n",
       "      <th>content_rating</th>\n",
       "      <th>genre</th>\n",
       "      <th>duration</th>\n",
       "      <th>actors_list</th>\n",
       "    </tr>\n",
       "  </thead>\n",
       "  <tbody>\n",
       "    <tr>\n",
       "      <th>542</th>\n",
       "      <td>7.8</td>\n",
       "      <td>(500) Days of Summer</td>\n",
       "      <td>PG-13</td>\n",
       "      <td>Comedy</td>\n",
       "      <td>95</td>\n",
       "      <td>[u'Zooey Deschanel', u'Joseph Gordon-Levitt', ...</td>\n",
       "    </tr>\n",
       "    <tr>\n",
       "      <th>5</th>\n",
       "      <td>8.9</td>\n",
       "      <td>12 Angry Men</td>\n",
       "      <td>NOT RATED</td>\n",
       "      <td>Drama</td>\n",
       "      <td>96</td>\n",
       "      <td>[u'Henry Fonda', u'Lee J. Cobb', u'Martin Bals...</td>\n",
       "    </tr>\n",
       "    <tr>\n",
       "      <th>201</th>\n",
       "      <td>8.1</td>\n",
       "      <td>12 Years a Slave</td>\n",
       "      <td>R</td>\n",
       "      <td>Biography</td>\n",
       "      <td>134</td>\n",
       "      <td>[u'Chiwetel Ejiofor', u'Michael Kenneth Willia...</td>\n",
       "    </tr>\n",
       "    <tr>\n",
       "      <th>698</th>\n",
       "      <td>7.6</td>\n",
       "      <td>127 Hours</td>\n",
       "      <td>R</td>\n",
       "      <td>Adventure</td>\n",
       "      <td>94</td>\n",
       "      <td>[u'James Franco', u'Amber Tamblyn', u'Kate Mara']</td>\n",
       "    </tr>\n",
       "    <tr>\n",
       "      <th>110</th>\n",
       "      <td>8.3</td>\n",
       "      <td>2001: A Space Odyssey</td>\n",
       "      <td>G</td>\n",
       "      <td>Mystery</td>\n",
       "      <td>160</td>\n",
       "      <td>[u'Keir Dullea', u'Gary Lockwood', u'William S...</td>\n",
       "    </tr>\n",
       "  </tbody>\n",
       "</table>\n",
       "</div>"
      ],
      "text/plain": [
       "     star_rating                  title content_rating      genre  duration  \\\n",
       "542          7.8   (500) Days of Summer          PG-13     Comedy        95   \n",
       "5            8.9           12 Angry Men      NOT RATED      Drama        96   \n",
       "201          8.1       12 Years a Slave              R  Biography       134   \n",
       "698          7.6              127 Hours              R  Adventure        94   \n",
       "110          8.3  2001: A Space Odyssey              G    Mystery       160   \n",
       "\n",
       "                                           actors_list  \n",
       "542  [u'Zooey Deschanel', u'Joseph Gordon-Levitt', ...  \n",
       "5    [u'Henry Fonda', u'Lee J. Cobb', u'Martin Bals...  \n",
       "201  [u'Chiwetel Ejiofor', u'Michael Kenneth Willia...  \n",
       "698  [u'James Franco', u'Amber Tamblyn', u'Kate Mara']  \n",
       "110  [u'Keir Dullea', u'Gary Lockwood', u'William S...  "
      ]
     },
     "execution_count": 5,
     "metadata": {},
     "output_type": "execute_result"
    }
   ],
   "source": [
    "movies_df.head()"
   ]
  },
  {
   "cell_type": "markdown",
   "id": "172c5c63-6eda-484a-81da-3b3dfe6589f0",
   "metadata": {},
   "source": [
    "#### Use the `describe()` method to see the distribution"
   ]
  },
  {
   "cell_type": "code",
   "execution_count": 6,
   "id": "90021c19-fed4-4619-84b4-c15bcb71cd6c",
   "metadata": {},
   "outputs": [
    {
     "data": {
      "text/html": [
       "<div>\n",
       "<style scoped>\n",
       "    .dataframe tbody tr th:only-of-type {\n",
       "        vertical-align: middle;\n",
       "    }\n",
       "\n",
       "    .dataframe tbody tr th {\n",
       "        vertical-align: top;\n",
       "    }\n",
       "\n",
       "    .dataframe thead th {\n",
       "        text-align: right;\n",
       "    }\n",
       "</style>\n",
       "<table border=\"1\" class=\"dataframe\">\n",
       "  <thead>\n",
       "    <tr style=\"text-align: right;\">\n",
       "      <th></th>\n",
       "      <th>star_rating</th>\n",
       "      <th>duration</th>\n",
       "    </tr>\n",
       "  </thead>\n",
       "  <tbody>\n",
       "    <tr>\n",
       "      <th>count</th>\n",
       "      <td>979.000000</td>\n",
       "      <td>979.000000</td>\n",
       "    </tr>\n",
       "    <tr>\n",
       "      <th>mean</th>\n",
       "      <td>7.889785</td>\n",
       "      <td>120.979571</td>\n",
       "    </tr>\n",
       "    <tr>\n",
       "      <th>std</th>\n",
       "      <td>0.336069</td>\n",
       "      <td>26.218010</td>\n",
       "    </tr>\n",
       "    <tr>\n",
       "      <th>min</th>\n",
       "      <td>7.400000</td>\n",
       "      <td>64.000000</td>\n",
       "    </tr>\n",
       "    <tr>\n",
       "      <th>25%</th>\n",
       "      <td>7.600000</td>\n",
       "      <td>102.000000</td>\n",
       "    </tr>\n",
       "    <tr>\n",
       "      <th>50%</th>\n",
       "      <td>7.800000</td>\n",
       "      <td>117.000000</td>\n",
       "    </tr>\n",
       "    <tr>\n",
       "      <th>75%</th>\n",
       "      <td>8.100000</td>\n",
       "      <td>134.000000</td>\n",
       "    </tr>\n",
       "    <tr>\n",
       "      <th>max</th>\n",
       "      <td>9.300000</td>\n",
       "      <td>242.000000</td>\n",
       "    </tr>\n",
       "  </tbody>\n",
       "</table>\n",
       "</div>"
      ],
      "text/plain": [
       "       star_rating    duration\n",
       "count   979.000000  979.000000\n",
       "mean      7.889785  120.979571\n",
       "std       0.336069   26.218010\n",
       "min       7.400000   64.000000\n",
       "25%       7.600000  102.000000\n",
       "50%       7.800000  117.000000\n",
       "75%       8.100000  134.000000\n",
       "max       9.300000  242.000000"
      ]
     },
     "execution_count": 6,
     "metadata": {},
     "output_type": "execute_result"
    }
   ],
   "source": [
    "movies_df.describe()"
   ]
  },
  {
   "cell_type": "markdown",
   "id": "04c093c0-6b31-4bd8-9dd8-9e9cea80e004",
   "metadata": {},
   "source": [
    "---"
   ]
  },
  {
   "cell_type": "markdown",
   "id": "d9675971-e6e9-49a7-a237-028d043f33b9",
   "metadata": {},
   "source": [
    "## Categorization exercise"
   ]
  },
  {
   "cell_type": "markdown",
   "id": "b84119c2-fe4d-4914-8f95-4650e7c8acb9",
   "metadata": {},
   "source": [
    "#### What do you consider a 'long' movie? "
   ]
  },
  {
   "cell_type": "code",
   "execution_count": 7,
   "id": "7cefa30d-befc-46a8-9a0b-e8f6ec35489f",
   "metadata": {},
   "outputs": [],
   "source": [
    "movie_long = 150"
   ]
  },
  {
   "cell_type": "code",
   "execution_count": 8,
   "id": "31a05f1c-b16d-4eda-8b11-32a2e3f9ff9b",
   "metadata": {},
   "outputs": [],
   "source": [
    "movie_long = movies_df[\"duration\"].mean() + movies_df[\"duration\"].std()"
   ]
  },
  {
   "cell_type": "markdown",
   "id": "ef1692cf-5a5f-43fc-9f1f-5e2896db1975",
   "metadata": {},
   "source": [
    "#### Boolean categorization function"
   ]
  },
  {
   "cell_type": "code",
   "execution_count": 9,
   "id": "82a59cdb-74cd-4fc1-93c1-f080dae18a11",
   "metadata": {},
   "outputs": [],
   "source": [
    "def categorize_long_movies(time):\n",
    "    if time >= movie_long:\n",
    "        return True\n",
    "    else:\n",
    "        return False"
   ]
  },
  {
   "cell_type": "markdown",
   "id": "fcd60d5c-9704-4b5c-a3bf-c6b09962919c",
   "metadata": {},
   "source": [
    "#### Apply that to our duration column as a new column"
   ]
  },
  {
   "cell_type": "code",
   "execution_count": 10,
   "id": "c25f9f42-0398-45f0-83ab-5525d4b7359a",
   "metadata": {},
   "outputs": [],
   "source": [
    "movies_df[\"is_long\"] = movies_df[\"duration\"].apply(categorize_long_movies)"
   ]
  },
  {
   "cell_type": "code",
   "execution_count": 11,
   "id": "2beca6d5-73ad-45a8-bbe1-4a21dcce9023",
   "metadata": {},
   "outputs": [
    {
     "data": {
      "text/html": [
       "<div>\n",
       "<style scoped>\n",
       "    .dataframe tbody tr th:only-of-type {\n",
       "        vertical-align: middle;\n",
       "    }\n",
       "\n",
       "    .dataframe tbody tr th {\n",
       "        vertical-align: top;\n",
       "    }\n",
       "\n",
       "    .dataframe thead th {\n",
       "        text-align: right;\n",
       "    }\n",
       "</style>\n",
       "<table border=\"1\" class=\"dataframe\">\n",
       "  <thead>\n",
       "    <tr style=\"text-align: right;\">\n",
       "      <th></th>\n",
       "      <th>star_rating</th>\n",
       "      <th>title</th>\n",
       "      <th>content_rating</th>\n",
       "      <th>genre</th>\n",
       "      <th>duration</th>\n",
       "      <th>actors_list</th>\n",
       "      <th>is_long</th>\n",
       "    </tr>\n",
       "  </thead>\n",
       "  <tbody>\n",
       "    <tr>\n",
       "      <th>542</th>\n",
       "      <td>7.8</td>\n",
       "      <td>(500) Days of Summer</td>\n",
       "      <td>PG-13</td>\n",
       "      <td>Comedy</td>\n",
       "      <td>95</td>\n",
       "      <td>[u'Zooey Deschanel', u'Joseph Gordon-Levitt', ...</td>\n",
       "      <td>False</td>\n",
       "    </tr>\n",
       "    <tr>\n",
       "      <th>5</th>\n",
       "      <td>8.9</td>\n",
       "      <td>12 Angry Men</td>\n",
       "      <td>NOT RATED</td>\n",
       "      <td>Drama</td>\n",
       "      <td>96</td>\n",
       "      <td>[u'Henry Fonda', u'Lee J. Cobb', u'Martin Bals...</td>\n",
       "      <td>False</td>\n",
       "    </tr>\n",
       "    <tr>\n",
       "      <th>201</th>\n",
       "      <td>8.1</td>\n",
       "      <td>12 Years a Slave</td>\n",
       "      <td>R</td>\n",
       "      <td>Biography</td>\n",
       "      <td>134</td>\n",
       "      <td>[u'Chiwetel Ejiofor', u'Michael Kenneth Willia...</td>\n",
       "      <td>False</td>\n",
       "    </tr>\n",
       "    <tr>\n",
       "      <th>698</th>\n",
       "      <td>7.6</td>\n",
       "      <td>127 Hours</td>\n",
       "      <td>R</td>\n",
       "      <td>Adventure</td>\n",
       "      <td>94</td>\n",
       "      <td>[u'James Franco', u'Amber Tamblyn', u'Kate Mara']</td>\n",
       "      <td>False</td>\n",
       "    </tr>\n",
       "    <tr>\n",
       "      <th>110</th>\n",
       "      <td>8.3</td>\n",
       "      <td>2001: A Space Odyssey</td>\n",
       "      <td>G</td>\n",
       "      <td>Mystery</td>\n",
       "      <td>160</td>\n",
       "      <td>[u'Keir Dullea', u'Gary Lockwood', u'William S...</td>\n",
       "      <td>True</td>\n",
       "    </tr>\n",
       "  </tbody>\n",
       "</table>\n",
       "</div>"
      ],
      "text/plain": [
       "     star_rating                  title content_rating      genre  duration  \\\n",
       "542          7.8   (500) Days of Summer          PG-13     Comedy        95   \n",
       "5            8.9           12 Angry Men      NOT RATED      Drama        96   \n",
       "201          8.1       12 Years a Slave              R  Biography       134   \n",
       "698          7.6              127 Hours              R  Adventure        94   \n",
       "110          8.3  2001: A Space Odyssey              G    Mystery       160   \n",
       "\n",
       "                                           actors_list  is_long  \n",
       "542  [u'Zooey Deschanel', u'Joseph Gordon-Levitt', ...    False  \n",
       "5    [u'Henry Fonda', u'Lee J. Cobb', u'Martin Bals...    False  \n",
       "201  [u'Chiwetel Ejiofor', u'Michael Kenneth Willia...    False  \n",
       "698  [u'James Franco', u'Amber Tamblyn', u'Kate Mara']    False  \n",
       "110  [u'Keir Dullea', u'Gary Lockwood', u'William S...     True  "
      ]
     },
     "execution_count": 11,
     "metadata": {},
     "output_type": "execute_result"
    }
   ],
   "source": [
    "movies_df.head()"
   ]
  },
  {
   "cell_type": "code",
   "execution_count": 12,
   "id": "07a9bfb6-990d-4044-8b2e-124ca159b937",
   "metadata": {},
   "outputs": [
    {
     "data": {
      "text/plain": [
       "False    845\n",
       "True     134\n",
       "Name: is_long, dtype: int64"
      ]
     },
     "execution_count": 12,
     "metadata": {},
     "output_type": "execute_result"
    }
   ],
   "source": [
    "movies_df.is_long.value_counts()"
   ]
  },
  {
   "cell_type": "markdown",
   "id": "80005bf4-96e7-4476-b6c7-ace02b928e88",
   "metadata": {},
   "source": [
    "---"
   ]
  },
  {
   "cell_type": "markdown",
   "id": "93f8f0b3-4f86-4af2-8638-32ffc08dceb9",
   "metadata": {},
   "source": [
    "## Looping exercise"
   ]
  },
  {
   "cell_type": "code",
   "execution_count": 13,
   "id": "0c6c9993-1b00-446d-a4a6-50bc01dd96b4",
   "metadata": {},
   "outputs": [
    {
     "name": "stdout",
     "output_type": "stream",
     "text": [
      "Comedy\n",
      "Drama\n",
      "Biography\n",
      "Adventure\n",
      "Mystery\n",
      "Crime\n",
      "Horror\n",
      "Action\n",
      "Animation\n",
      "History\n",
      "Sci-Fi\n",
      "Western\n",
      "Family\n",
      "Thriller\n",
      "Film-Noir\n",
      "Fantasy\n"
     ]
    }
   ],
   "source": [
    "for g in movies_df[\"genre\"].unique():\n",
    "    print(g)"
   ]
  },
  {
   "cell_type": "code",
   "execution_count": 14,
   "id": "e34f4f1e-3690-494d-9bfb-6044fdeaa519",
   "metadata": {},
   "outputs": [],
   "source": [
    "# https://www.imdb.com/search/title/?genres=comedy"
   ]
  },
  {
   "cell_type": "code",
   "execution_count": 15,
   "id": "a87074bc-650f-42b3-8158-fd06074c49d7",
   "metadata": {},
   "outputs": [],
   "source": [
    "base_url = \"https://www.imdb.com/search/title/?genres\""
   ]
  },
  {
   "cell_type": "code",
   "execution_count": 16,
   "id": "82f0c6f3-61d2-4b1f-94ce-9186c32f6221",
   "metadata": {},
   "outputs": [
    {
     "name": "stdout",
     "output_type": "stream",
     "text": [
      "https://www.imdb.com/search/title/?genres=comedy\n",
      "https://www.imdb.com/search/title/?genres=drama\n",
      "https://www.imdb.com/search/title/?genres=biography\n",
      "https://www.imdb.com/search/title/?genres=adventure\n",
      "https://www.imdb.com/search/title/?genres=mystery\n",
      "https://www.imdb.com/search/title/?genres=crime\n",
      "https://www.imdb.com/search/title/?genres=horror\n",
      "https://www.imdb.com/search/title/?genres=action\n",
      "https://www.imdb.com/search/title/?genres=animation\n",
      "https://www.imdb.com/search/title/?genres=history\n",
      "https://www.imdb.com/search/title/?genres=sci-fi\n",
      "https://www.imdb.com/search/title/?genres=western\n",
      "https://www.imdb.com/search/title/?genres=family\n",
      "https://www.imdb.com/search/title/?genres=thriller\n",
      "https://www.imdb.com/search/title/?genres=film-noir\n",
      "https://www.imdb.com/search/title/?genres=fantasy\n"
     ]
    }
   ],
   "source": [
    "for g in movies_df[\"genre\"].unique():\n",
    "    print(\"https://www.imdb.com/search/title/?genres=\" + g.lower())"
   ]
  },
  {
   "cell_type": "code",
   "execution_count": 17,
   "id": "8330d0c8-0017-456c-84c9-c7dc45a64cdf",
   "metadata": {},
   "outputs": [],
   "source": [
    "movies_df[\"genre_url\"] = \"https://www.imdb.com/search/title/?genres=\" + g.lower()"
   ]
  },
  {
   "cell_type": "code",
   "execution_count": 18,
   "id": "ca808d8e-862c-41ab-bd62-ecd2ba34c0bc",
   "metadata": {},
   "outputs": [
    {
     "data": {
      "text/html": [
       "<div>\n",
       "<style scoped>\n",
       "    .dataframe tbody tr th:only-of-type {\n",
       "        vertical-align: middle;\n",
       "    }\n",
       "\n",
       "    .dataframe tbody tr th {\n",
       "        vertical-align: top;\n",
       "    }\n",
       "\n",
       "    .dataframe thead th {\n",
       "        text-align: right;\n",
       "    }\n",
       "</style>\n",
       "<table border=\"1\" class=\"dataframe\">\n",
       "  <thead>\n",
       "    <tr style=\"text-align: right;\">\n",
       "      <th></th>\n",
       "      <th>star_rating</th>\n",
       "      <th>title</th>\n",
       "      <th>content_rating</th>\n",
       "      <th>genre</th>\n",
       "      <th>duration</th>\n",
       "      <th>actors_list</th>\n",
       "      <th>is_long</th>\n",
       "      <th>genre_url</th>\n",
       "    </tr>\n",
       "  </thead>\n",
       "  <tbody>\n",
       "    <tr>\n",
       "      <th>542</th>\n",
       "      <td>7.8</td>\n",
       "      <td>(500) Days of Summer</td>\n",
       "      <td>PG-13</td>\n",
       "      <td>Comedy</td>\n",
       "      <td>95</td>\n",
       "      <td>[u'Zooey Deschanel', u'Joseph Gordon-Levitt', ...</td>\n",
       "      <td>False</td>\n",
       "      <td>https://www.imdb.com/search/title/?genres=fantasy</td>\n",
       "    </tr>\n",
       "    <tr>\n",
       "      <th>5</th>\n",
       "      <td>8.9</td>\n",
       "      <td>12 Angry Men</td>\n",
       "      <td>NOT RATED</td>\n",
       "      <td>Drama</td>\n",
       "      <td>96</td>\n",
       "      <td>[u'Henry Fonda', u'Lee J. Cobb', u'Martin Bals...</td>\n",
       "      <td>False</td>\n",
       "      <td>https://www.imdb.com/search/title/?genres=fantasy</td>\n",
       "    </tr>\n",
       "    <tr>\n",
       "      <th>201</th>\n",
       "      <td>8.1</td>\n",
       "      <td>12 Years a Slave</td>\n",
       "      <td>R</td>\n",
       "      <td>Biography</td>\n",
       "      <td>134</td>\n",
       "      <td>[u'Chiwetel Ejiofor', u'Michael Kenneth Willia...</td>\n",
       "      <td>False</td>\n",
       "      <td>https://www.imdb.com/search/title/?genres=fantasy</td>\n",
       "    </tr>\n",
       "    <tr>\n",
       "      <th>698</th>\n",
       "      <td>7.6</td>\n",
       "      <td>127 Hours</td>\n",
       "      <td>R</td>\n",
       "      <td>Adventure</td>\n",
       "      <td>94</td>\n",
       "      <td>[u'James Franco', u'Amber Tamblyn', u'Kate Mara']</td>\n",
       "      <td>False</td>\n",
       "      <td>https://www.imdb.com/search/title/?genres=fantasy</td>\n",
       "    </tr>\n",
       "    <tr>\n",
       "      <th>110</th>\n",
       "      <td>8.3</td>\n",
       "      <td>2001: A Space Odyssey</td>\n",
       "      <td>G</td>\n",
       "      <td>Mystery</td>\n",
       "      <td>160</td>\n",
       "      <td>[u'Keir Dullea', u'Gary Lockwood', u'William S...</td>\n",
       "      <td>True</td>\n",
       "      <td>https://www.imdb.com/search/title/?genres=fantasy</td>\n",
       "    </tr>\n",
       "  </tbody>\n",
       "</table>\n",
       "</div>"
      ],
      "text/plain": [
       "     star_rating                  title content_rating      genre  duration  \\\n",
       "542          7.8   (500) Days of Summer          PG-13     Comedy        95   \n",
       "5            8.9           12 Angry Men      NOT RATED      Drama        96   \n",
       "201          8.1       12 Years a Slave              R  Biography       134   \n",
       "698          7.6              127 Hours              R  Adventure        94   \n",
       "110          8.3  2001: A Space Odyssey              G    Mystery       160   \n",
       "\n",
       "                                           actors_list  is_long  \\\n",
       "542  [u'Zooey Deschanel', u'Joseph Gordon-Levitt', ...    False   \n",
       "5    [u'Henry Fonda', u'Lee J. Cobb', u'Martin Bals...    False   \n",
       "201  [u'Chiwetel Ejiofor', u'Michael Kenneth Willia...    False   \n",
       "698  [u'James Franco', u'Amber Tamblyn', u'Kate Mara']    False   \n",
       "110  [u'Keir Dullea', u'Gary Lockwood', u'William S...     True   \n",
       "\n",
       "                                             genre_url  \n",
       "542  https://www.imdb.com/search/title/?genres=fantasy  \n",
       "5    https://www.imdb.com/search/title/?genres=fantasy  \n",
       "201  https://www.imdb.com/search/title/?genres=fantasy  \n",
       "698  https://www.imdb.com/search/title/?genres=fantasy  \n",
       "110  https://www.imdb.com/search/title/?genres=fantasy  "
      ]
     },
     "execution_count": 18,
     "metadata": {},
     "output_type": "execute_result"
    }
   ],
   "source": [
    "movies_df.head()"
   ]
  },
  {
   "cell_type": "markdown",
   "id": "6e5a5065-b342-4e4b-bfee-06a369db1779",
   "metadata": {},
   "source": [
    "---"
   ]
  },
  {
   "cell_type": "markdown",
   "id": "9dee68b0-2a9d-4184-a173-321c16cdd084",
   "metadata": {},
   "source": [
    "### Questions"
   ]
  },
  {
   "cell_type": "markdown",
   "id": "ff727de8-4204-4dcb-96d6-64a8fc932148",
   "metadata": {},
   "source": [
    "#### How many crime movies vs. other types? "
   ]
  },
  {
   "cell_type": "code",
   "execution_count": 19,
   "id": "63e635a3-42ca-4569-9a15-609408e14f79",
   "metadata": {},
   "outputs": [
    {
     "data": {
      "text/plain": [
       "Drama        278\n",
       "Comedy       156\n",
       "Action       136\n",
       "Crime        124\n",
       "Biography     77\n",
       "Adventure     75\n",
       "Animation     62\n",
       "Horror        29\n",
       "Mystery       16\n",
       "Western        9\n",
       "Thriller       5\n",
       "Sci-Fi         5\n",
       "Film-Noir      3\n",
       "Family         2\n",
       "Fantasy        1\n",
       "History        1\n",
       "Name: genre, dtype: int64"
      ]
     },
     "execution_count": 19,
     "metadata": {},
     "output_type": "execute_result"
    }
   ],
   "source": [
    "movies_df.genre.value_counts()"
   ]
  },
  {
   "cell_type": "markdown",
   "id": "ef1ddc2b-a910-475f-99a8-b55ebc0de686",
   "metadata": {},
   "source": [
    "#### Which movie featuring Jack Nicholson had the highest star rating? "
   ]
  },
  {
   "cell_type": "code",
   "execution_count": 20,
   "id": "8c028096-ae6e-4b85-b8ff-a617190d3131",
   "metadata": {},
   "outputs": [
    {
     "data": {
      "text/html": [
       "<div>\n",
       "<style scoped>\n",
       "    .dataframe tbody tr th:only-of-type {\n",
       "        vertical-align: middle;\n",
       "    }\n",
       "\n",
       "    .dataframe tbody tr th {\n",
       "        vertical-align: top;\n",
       "    }\n",
       "\n",
       "    .dataframe thead th {\n",
       "        text-align: right;\n",
       "    }\n",
       "</style>\n",
       "<table border=\"1\" class=\"dataframe\">\n",
       "  <thead>\n",
       "    <tr style=\"text-align: right;\">\n",
       "      <th></th>\n",
       "      <th>star_rating</th>\n",
       "      <th>title</th>\n",
       "      <th>content_rating</th>\n",
       "      <th>genre</th>\n",
       "      <th>duration</th>\n",
       "      <th>actors_list</th>\n",
       "      <th>is_long</th>\n",
       "      <th>genre_url</th>\n",
       "    </tr>\n",
       "  </thead>\n",
       "  <tbody>\n",
       "    <tr>\n",
       "      <th>16</th>\n",
       "      <td>8.7</td>\n",
       "      <td>One Flew Over the Cuckoo's Nest</td>\n",
       "      <td>R</td>\n",
       "      <td>Drama</td>\n",
       "      <td>133</td>\n",
       "      <td>[u'Jack Nicholson', u'Louise Fletcher', u'Mich...</td>\n",
       "      <td>False</td>\n",
       "      <td>https://www.imdb.com/search/title/?genres=fantasy</td>\n",
       "    </tr>\n",
       "    <tr>\n",
       "      <th>49</th>\n",
       "      <td>8.5</td>\n",
       "      <td>The Departed</td>\n",
       "      <td>R</td>\n",
       "      <td>Crime</td>\n",
       "      <td>151</td>\n",
       "      <td>[u'Leonardo DiCaprio', u'Matt Damon', u'Jack N...</td>\n",
       "      <td>True</td>\n",
       "      <td>https://www.imdb.com/search/title/?genres=fantasy</td>\n",
       "    </tr>\n",
       "    <tr>\n",
       "      <th>62</th>\n",
       "      <td>8.5</td>\n",
       "      <td>The Shining</td>\n",
       "      <td>R</td>\n",
       "      <td>Horror</td>\n",
       "      <td>146</td>\n",
       "      <td>[u'Jack Nicholson', u'Shelley Duvall', u'Danny...</td>\n",
       "      <td>False</td>\n",
       "      <td>https://www.imdb.com/search/title/?genres=fantasy</td>\n",
       "    </tr>\n",
       "    <tr>\n",
       "      <th>130</th>\n",
       "      <td>8.3</td>\n",
       "      <td>Chinatown</td>\n",
       "      <td>R</td>\n",
       "      <td>Drama</td>\n",
       "      <td>130</td>\n",
       "      <td>[u'Jack Nicholson', u'Faye Dunaway', u'John Hu...</td>\n",
       "      <td>False</td>\n",
       "      <td>https://www.imdb.com/search/title/?genres=fantasy</td>\n",
       "    </tr>\n",
       "    <tr>\n",
       "      <th>578</th>\n",
       "      <td>7.8</td>\n",
       "      <td>As Good as It Gets</td>\n",
       "      <td>PG-13</td>\n",
       "      <td>Comedy</td>\n",
       "      <td>139</td>\n",
       "      <td>[u'Jack Nicholson', u'Helen Hunt', u'Greg Kinn...</td>\n",
       "      <td>False</td>\n",
       "      <td>https://www.imdb.com/search/title/?genres=fantasy</td>\n",
       "    </tr>\n",
       "    <tr>\n",
       "      <th>716</th>\n",
       "      <td>7.6</td>\n",
       "      <td>A Few Good Men</td>\n",
       "      <td>R</td>\n",
       "      <td>Drama</td>\n",
       "      <td>138</td>\n",
       "      <td>[u'Tom Cruise', u'Jack Nicholson', u'Demi Moore']</td>\n",
       "      <td>False</td>\n",
       "      <td>https://www.imdb.com/search/title/?genres=fantasy</td>\n",
       "    </tr>\n",
       "    <tr>\n",
       "      <th>801</th>\n",
       "      <td>7.6</td>\n",
       "      <td>Batman</td>\n",
       "      <td>PG-13</td>\n",
       "      <td>Action</td>\n",
       "      <td>126</td>\n",
       "      <td>[u'Michael Keaton', u'Jack Nicholson', u'Kim B...</td>\n",
       "      <td>False</td>\n",
       "      <td>https://www.imdb.com/search/title/?genres=fantasy</td>\n",
       "    </tr>\n",
       "    <tr>\n",
       "      <th>944</th>\n",
       "      <td>7.4</td>\n",
       "      <td>Terms of Endearment</td>\n",
       "      <td>R</td>\n",
       "      <td>Comedy</td>\n",
       "      <td>132</td>\n",
       "      <td>[u'Shirley MacLaine', u'Debra Winger', u'Jack ...</td>\n",
       "      <td>False</td>\n",
       "      <td>https://www.imdb.com/search/title/?genres=fantasy</td>\n",
       "    </tr>\n",
       "    <tr>\n",
       "      <th>943</th>\n",
       "      <td>7.4</td>\n",
       "      <td>The Bucket List</td>\n",
       "      <td>PG-13</td>\n",
       "      <td>Adventure</td>\n",
       "      <td>97</td>\n",
       "      <td>[u'Jack Nicholson', u'Morgan Freeman', u'Sean ...</td>\n",
       "      <td>False</td>\n",
       "      <td>https://www.imdb.com/search/title/?genres=fantasy</td>\n",
       "    </tr>\n",
       "  </tbody>\n",
       "</table>\n",
       "</div>"
      ],
      "text/plain": [
       "     star_rating                            title content_rating      genre  \\\n",
       "16           8.7  One Flew Over the Cuckoo's Nest              R      Drama   \n",
       "49           8.5                     The Departed              R      Crime   \n",
       "62           8.5                      The Shining              R     Horror   \n",
       "130          8.3                        Chinatown              R      Drama   \n",
       "578          7.8               As Good as It Gets          PG-13     Comedy   \n",
       "716          7.6                   A Few Good Men              R      Drama   \n",
       "801          7.6                           Batman          PG-13     Action   \n",
       "944          7.4              Terms of Endearment              R     Comedy   \n",
       "943          7.4                  The Bucket List          PG-13  Adventure   \n",
       "\n",
       "     duration                                        actors_list  is_long  \\\n",
       "16        133  [u'Jack Nicholson', u'Louise Fletcher', u'Mich...    False   \n",
       "49        151  [u'Leonardo DiCaprio', u'Matt Damon', u'Jack N...     True   \n",
       "62        146  [u'Jack Nicholson', u'Shelley Duvall', u'Danny...    False   \n",
       "130       130  [u'Jack Nicholson', u'Faye Dunaway', u'John Hu...    False   \n",
       "578       139  [u'Jack Nicholson', u'Helen Hunt', u'Greg Kinn...    False   \n",
       "716       138  [u'Tom Cruise', u'Jack Nicholson', u'Demi Moore']    False   \n",
       "801       126  [u'Michael Keaton', u'Jack Nicholson', u'Kim B...    False   \n",
       "944       132  [u'Shirley MacLaine', u'Debra Winger', u'Jack ...    False   \n",
       "943        97  [u'Jack Nicholson', u'Morgan Freeman', u'Sean ...    False   \n",
       "\n",
       "                                             genre_url  \n",
       "16   https://www.imdb.com/search/title/?genres=fantasy  \n",
       "49   https://www.imdb.com/search/title/?genres=fantasy  \n",
       "62   https://www.imdb.com/search/title/?genres=fantasy  \n",
       "130  https://www.imdb.com/search/title/?genres=fantasy  \n",
       "578  https://www.imdb.com/search/title/?genres=fantasy  \n",
       "716  https://www.imdb.com/search/title/?genres=fantasy  \n",
       "801  https://www.imdb.com/search/title/?genres=fantasy  \n",
       "944  https://www.imdb.com/search/title/?genres=fantasy  \n",
       "943  https://www.imdb.com/search/title/?genres=fantasy  "
      ]
     },
     "execution_count": 20,
     "metadata": {},
     "output_type": "execute_result"
    }
   ],
   "source": [
    "movies_df[movies_df[\"actors_list\"].str.contains(\"Jack Nicholson\")].sort_values(\n",
    "    \"star_rating\", ascending=False\n",
    ")"
   ]
  },
  {
   "cell_type": "markdown",
   "id": "b63335eb-3030-4c54-a338-1eb3ab8b20a2",
   "metadata": {},
   "source": [
    "#### How does the average duration of dramas compare with other genres? "
   ]
  },
  {
   "cell_type": "code",
   "execution_count": 21,
   "id": "2f1c1c83-51c0-4453-8755-68f192a40560",
   "metadata": {},
   "outputs": [
    {
     "data": {
      "text/plain": [
       "genre\n",
       "Action       126.485294\n",
       "Adventure    134.840000\n",
       "Animation     96.596774\n",
       "Biography    131.844156\n",
       "Comedy       107.602564\n",
       "Crime        122.298387\n",
       "Drama        126.539568\n",
       "Family       107.500000\n",
       "Fantasy      112.000000\n",
       "Film-Noir     97.333333\n",
       "History       66.000000\n",
       "Horror       102.517241\n",
       "Mystery      115.625000\n",
       "Sci-Fi       109.000000\n",
       "Thriller     114.200000\n",
       "Western      136.666667\n",
       "Name: duration, dtype: float64"
      ]
     },
     "execution_count": 21,
     "metadata": {},
     "output_type": "execute_result"
    }
   ],
   "source": [
    "movies_df.groupby([\"genre\"])[\"duration\"].mean()"
   ]
  },
  {
   "cell_type": "code",
   "execution_count": null,
   "id": "01b587ed-84f5-42e9-8370-1a132f6e2f30",
   "metadata": {},
   "outputs": [],
   "source": []
  },
  {
   "cell_type": "markdown",
   "id": "e2434494-2911-4c40-840c-0f2f3200550f",
   "metadata": {},
   "source": [
    "#### How many movies contain Al Pacino?"
   ]
  },
  {
   "cell_type": "code",
   "execution_count": 22,
   "id": "47c8e855-c8b2-4c71-87cf-4d674a4ac9bf",
   "metadata": {},
   "outputs": [
    {
     "data": {
      "text/html": [
       "<div>\n",
       "<style scoped>\n",
       "    .dataframe tbody tr th:only-of-type {\n",
       "        vertical-align: middle;\n",
       "    }\n",
       "\n",
       "    .dataframe tbody tr th {\n",
       "        vertical-align: top;\n",
       "    }\n",
       "\n",
       "    .dataframe thead th {\n",
       "        text-align: right;\n",
       "    }\n",
       "</style>\n",
       "<table border=\"1\" class=\"dataframe\">\n",
       "  <thead>\n",
       "    <tr style=\"text-align: right;\">\n",
       "      <th></th>\n",
       "      <th>star_rating</th>\n",
       "      <th>title</th>\n",
       "      <th>content_rating</th>\n",
       "      <th>genre</th>\n",
       "      <th>duration</th>\n",
       "      <th>actors_list</th>\n",
       "      <th>is_long</th>\n",
       "      <th>genre_url</th>\n",
       "    </tr>\n",
       "  </thead>\n",
       "  <tbody>\n",
       "    <tr>\n",
       "      <th>1</th>\n",
       "      <td>9.2</td>\n",
       "      <td>The Godfather</td>\n",
       "      <td>R</td>\n",
       "      <td>Crime</td>\n",
       "      <td>175</td>\n",
       "      <td>[u'Marlon Brando', u'Al Pacino', u'James Caan']</td>\n",
       "      <td>True</td>\n",
       "      <td>https://www.imdb.com/search/title/?genres=fantasy</td>\n",
       "    </tr>\n",
       "    <tr>\n",
       "      <th>2</th>\n",
       "      <td>9.1</td>\n",
       "      <td>The Godfather: Part II</td>\n",
       "      <td>R</td>\n",
       "      <td>Crime</td>\n",
       "      <td>200</td>\n",
       "      <td>[u'Al Pacino', u'Robert De Niro', u'Robert Duv...</td>\n",
       "      <td>True</td>\n",
       "      <td>https://www.imdb.com/search/title/?genres=fantasy</td>\n",
       "    </tr>\n",
       "    <tr>\n",
       "      <th>135</th>\n",
       "      <td>8.3</td>\n",
       "      <td>Heat</td>\n",
       "      <td>R</td>\n",
       "      <td>Action</td>\n",
       "      <td>170</td>\n",
       "      <td>[u'Al Pacino', u'Robert De Niro', u'Val Kilmer']</td>\n",
       "      <td>True</td>\n",
       "      <td>https://www.imdb.com/search/title/?genres=fantasy</td>\n",
       "    </tr>\n",
       "    <tr>\n",
       "      <th>115</th>\n",
       "      <td>8.3</td>\n",
       "      <td>Scarface</td>\n",
       "      <td>R</td>\n",
       "      <td>Crime</td>\n",
       "      <td>170</td>\n",
       "      <td>[u'Al Pacino', u'Michelle Pfeiffer', u'Steven ...</td>\n",
       "      <td>True</td>\n",
       "      <td>https://www.imdb.com/search/title/?genres=fantasy</td>\n",
       "    </tr>\n",
       "    <tr>\n",
       "      <th>278</th>\n",
       "      <td>8.1</td>\n",
       "      <td>Dog Day Afternoon</td>\n",
       "      <td>R</td>\n",
       "      <td>Crime</td>\n",
       "      <td>125</td>\n",
       "      <td>[u'Al Pacino', u'John Cazale', u'Penelope Allen']</td>\n",
       "      <td>False</td>\n",
       "      <td>https://www.imdb.com/search/title/?genres=fantasy</td>\n",
       "    </tr>\n",
       "    <tr>\n",
       "      <th>374</th>\n",
       "      <td>8.0</td>\n",
       "      <td>Scent of a Woman</td>\n",
       "      <td>R</td>\n",
       "      <td>Drama</td>\n",
       "      <td>156</td>\n",
       "      <td>[u'Al Pacino', u\"Chris O'Donnell\", u'James Reb...</td>\n",
       "      <td>True</td>\n",
       "      <td>https://www.imdb.com/search/title/?genres=fantasy</td>\n",
       "    </tr>\n",
       "    <tr>\n",
       "      <th>436</th>\n",
       "      <td>7.9</td>\n",
       "      <td>Carlito's Way</td>\n",
       "      <td>R</td>\n",
       "      <td>Crime</td>\n",
       "      <td>144</td>\n",
       "      <td>[u'Al Pacino', u'Sean Penn', u'Penelope Ann Mi...</td>\n",
       "      <td>False</td>\n",
       "      <td>https://www.imdb.com/search/title/?genres=fantasy</td>\n",
       "    </tr>\n",
       "    <tr>\n",
       "      <th>463</th>\n",
       "      <td>7.9</td>\n",
       "      <td>Glengarry Glen Ross</td>\n",
       "      <td>R</td>\n",
       "      <td>Drama</td>\n",
       "      <td>100</td>\n",
       "      <td>[u'Al Pacino', u'Jack Lemmon', u'Alec Baldwin']</td>\n",
       "      <td>False</td>\n",
       "      <td>https://www.imdb.com/search/title/?genres=fantasy</td>\n",
       "    </tr>\n",
       "    <tr>\n",
       "      <th>423</th>\n",
       "      <td>7.9</td>\n",
       "      <td>The Insider</td>\n",
       "      <td>R</td>\n",
       "      <td>Biography</td>\n",
       "      <td>157</td>\n",
       "      <td>[u'Russell Crowe', u'Al Pacino', u'Christopher...</td>\n",
       "      <td>True</td>\n",
       "      <td>https://www.imdb.com/search/title/?genres=fantasy</td>\n",
       "    </tr>\n",
       "    <tr>\n",
       "      <th>560</th>\n",
       "      <td>7.8</td>\n",
       "      <td>Donnie Brasco</td>\n",
       "      <td>R</td>\n",
       "      <td>Biography</td>\n",
       "      <td>127</td>\n",
       "      <td>[u'Al Pacino', u'Johnny Depp', u'Michael Madsen']</td>\n",
       "      <td>False</td>\n",
       "      <td>https://www.imdb.com/search/title/?genres=fantasy</td>\n",
       "    </tr>\n",
       "    <tr>\n",
       "      <th>561</th>\n",
       "      <td>7.8</td>\n",
       "      <td>Serpico</td>\n",
       "      <td>R</td>\n",
       "      <td>Biography</td>\n",
       "      <td>130</td>\n",
       "      <td>[u'Al Pacino', u'John Randolph', u'Jack Kehoe']</td>\n",
       "      <td>False</td>\n",
       "      <td>https://www.imdb.com/search/title/?genres=fantasy</td>\n",
       "    </tr>\n",
       "    <tr>\n",
       "      <th>711</th>\n",
       "      <td>7.6</td>\n",
       "      <td>The Godfather: Part III</td>\n",
       "      <td>R</td>\n",
       "      <td>Crime</td>\n",
       "      <td>162</td>\n",
       "      <td>[u'Al Pacino', u'Diane Keaton', u'Andy Garcia']</td>\n",
       "      <td>True</td>\n",
       "      <td>https://www.imdb.com/search/title/?genres=fantasy</td>\n",
       "    </tr>\n",
       "    <tr>\n",
       "      <th>889</th>\n",
       "      <td>7.5</td>\n",
       "      <td>Devil's Advocate</td>\n",
       "      <td>R</td>\n",
       "      <td>Drama</td>\n",
       "      <td>144</td>\n",
       "      <td>[u'Keanu Reeves', u'Al Pacino', u'Charlize The...</td>\n",
       "      <td>False</td>\n",
       "      <td>https://www.imdb.com/search/title/?genres=fantasy</td>\n",
       "    </tr>\n",
       "  </tbody>\n",
       "</table>\n",
       "</div>"
      ],
      "text/plain": [
       "     star_rating                    title content_rating      genre  duration  \\\n",
       "1            9.2            The Godfather              R      Crime       175   \n",
       "2            9.1   The Godfather: Part II              R      Crime       200   \n",
       "135          8.3                     Heat              R     Action       170   \n",
       "115          8.3                 Scarface              R      Crime       170   \n",
       "278          8.1        Dog Day Afternoon              R      Crime       125   \n",
       "374          8.0         Scent of a Woman              R      Drama       156   \n",
       "436          7.9            Carlito's Way              R      Crime       144   \n",
       "463          7.9      Glengarry Glen Ross              R      Drama       100   \n",
       "423          7.9              The Insider              R  Biography       157   \n",
       "560          7.8            Donnie Brasco              R  Biography       127   \n",
       "561          7.8                  Serpico              R  Biography       130   \n",
       "711          7.6  The Godfather: Part III              R      Crime       162   \n",
       "889          7.5         Devil's Advocate              R      Drama       144   \n",
       "\n",
       "                                           actors_list  is_long  \\\n",
       "1      [u'Marlon Brando', u'Al Pacino', u'James Caan']     True   \n",
       "2    [u'Al Pacino', u'Robert De Niro', u'Robert Duv...     True   \n",
       "135   [u'Al Pacino', u'Robert De Niro', u'Val Kilmer']     True   \n",
       "115  [u'Al Pacino', u'Michelle Pfeiffer', u'Steven ...     True   \n",
       "278  [u'Al Pacino', u'John Cazale', u'Penelope Allen']    False   \n",
       "374  [u'Al Pacino', u\"Chris O'Donnell\", u'James Reb...     True   \n",
       "436  [u'Al Pacino', u'Sean Penn', u'Penelope Ann Mi...    False   \n",
       "463    [u'Al Pacino', u'Jack Lemmon', u'Alec Baldwin']    False   \n",
       "423  [u'Russell Crowe', u'Al Pacino', u'Christopher...     True   \n",
       "560  [u'Al Pacino', u'Johnny Depp', u'Michael Madsen']    False   \n",
       "561    [u'Al Pacino', u'John Randolph', u'Jack Kehoe']    False   \n",
       "711    [u'Al Pacino', u'Diane Keaton', u'Andy Garcia']     True   \n",
       "889  [u'Keanu Reeves', u'Al Pacino', u'Charlize The...    False   \n",
       "\n",
       "                                             genre_url  \n",
       "1    https://www.imdb.com/search/title/?genres=fantasy  \n",
       "2    https://www.imdb.com/search/title/?genres=fantasy  \n",
       "135  https://www.imdb.com/search/title/?genres=fantasy  \n",
       "115  https://www.imdb.com/search/title/?genres=fantasy  \n",
       "278  https://www.imdb.com/search/title/?genres=fantasy  \n",
       "374  https://www.imdb.com/search/title/?genres=fantasy  \n",
       "436  https://www.imdb.com/search/title/?genres=fantasy  \n",
       "463  https://www.imdb.com/search/title/?genres=fantasy  \n",
       "423  https://www.imdb.com/search/title/?genres=fantasy  \n",
       "560  https://www.imdb.com/search/title/?genres=fantasy  \n",
       "561  https://www.imdb.com/search/title/?genres=fantasy  \n",
       "711  https://www.imdb.com/search/title/?genres=fantasy  \n",
       "889  https://www.imdb.com/search/title/?genres=fantasy  "
      ]
     },
     "execution_count": 22,
     "metadata": {},
     "output_type": "execute_result"
    }
   ],
   "source": [
    "movies_df[movies_df[\"actors_list\"].str.contains(\"Al Pacino\")].sort_values(\n",
    "    \"star_rating\", ascending=False\n",
    ")"
   ]
  },
  {
   "cell_type": "code",
   "execution_count": 23,
   "id": "a26d28e6-b58d-4187-9c58-c37413de1ac7",
   "metadata": {},
   "outputs": [
    {
     "data": {
      "text/plain": [
       "13"
      ]
     },
     "execution_count": 23,
     "metadata": {},
     "output_type": "execute_result"
    }
   ],
   "source": [
    "len(\n",
    "    movies_df[movies_df[\"actors_list\"].str.contains(\"Al Pacino\")].sort_values(\n",
    "        \"star_rating\", ascending=False\n",
    "    )\n",
    ")"
   ]
  },
  {
   "cell_type": "markdown",
   "id": "77a48eef-567c-4dfd-bb38-b2f23b584130",
   "metadata": {},
   "source": [
    "#### What's the longest PG-13 action movie? "
   ]
  },
  {
   "cell_type": "code",
   "execution_count": 24,
   "id": "499d0be9-6123-4a27-8894-d9afe23a126f",
   "metadata": {},
   "outputs": [
    {
     "data": {
      "text/html": [
       "<div>\n",
       "<style scoped>\n",
       "    .dataframe tbody tr th:only-of-type {\n",
       "        vertical-align: middle;\n",
       "    }\n",
       "\n",
       "    .dataframe tbody tr th {\n",
       "        vertical-align: top;\n",
       "    }\n",
       "\n",
       "    .dataframe thead th {\n",
       "        text-align: right;\n",
       "    }\n",
       "</style>\n",
       "<table border=\"1\" class=\"dataframe\">\n",
       "  <thead>\n",
       "    <tr style=\"text-align: right;\">\n",
       "      <th></th>\n",
       "      <th>star_rating</th>\n",
       "      <th>title</th>\n",
       "      <th>content_rating</th>\n",
       "      <th>genre</th>\n",
       "      <th>duration</th>\n",
       "      <th>actors_list</th>\n",
       "      <th>is_long</th>\n",
       "      <th>genre_url</th>\n",
       "    </tr>\n",
       "  </thead>\n",
       "  <tbody>\n",
       "    <tr>\n",
       "      <th>385</th>\n",
       "      <td>8.0</td>\n",
       "      <td>Spartacus</td>\n",
       "      <td>PG-13</td>\n",
       "      <td>Action</td>\n",
       "      <td>197</td>\n",
       "      <td>[u'Kirk Douglas', u'Laurence Olivier', u'Jean ...</td>\n",
       "      <td>True</td>\n",
       "      <td>https://www.imdb.com/search/title/?genres=fantasy</td>\n",
       "    </tr>\n",
       "  </tbody>\n",
       "</table>\n",
       "</div>"
      ],
      "text/plain": [
       "     star_rating      title content_rating   genre  duration  \\\n",
       "385          8.0  Spartacus          PG-13  Action       197   \n",
       "\n",
       "                                           actors_list  is_long  \\\n",
       "385  [u'Kirk Douglas', u'Laurence Olivier', u'Jean ...     True   \n",
       "\n",
       "                                             genre_url  \n",
       "385  https://www.imdb.com/search/title/?genres=fantasy  "
      ]
     },
     "execution_count": 24,
     "metadata": {},
     "output_type": "execute_result"
    }
   ],
   "source": [
    "movies_df[\n",
    "    (movies_df[\"genre\"] == \"Action\") & (movies_df[\"content_rating\"] == \"PG-13\")\n",
    "].sort_values(\"duration\", ascending=False).head(1)"
   ]
  },
  {
   "cell_type": "code",
   "execution_count": null,
   "id": "678b7825-4436-4c03-b2c6-9b8b587f5425",
   "metadata": {},
   "outputs": [],
   "source": []
  },
  {
   "cell_type": "markdown",
   "id": "e602b22e-c952-45a3-ac32-014e0b316209",
   "metadata": {},
   "source": [
    "#### Which genre has the highest star rating?"
   ]
  },
  {
   "cell_type": "code",
   "execution_count": 25,
   "id": "74573dc4-843d-4dd1-9f90-0083229ed648",
   "metadata": {},
   "outputs": [
    {
     "data": {
      "text/plain": [
       "genre\n",
       "Western      8.255556\n",
       "Film-Noir    8.033333\n",
       "History      8.000000\n",
       "Mystery      7.975000\n",
       "Adventure    7.933333\n",
       "Sci-Fi       7.920000\n",
       "Crime        7.916935\n",
       "Animation    7.914516\n",
       "Drama        7.902518\n",
       "Action       7.884559\n",
       "Biography    7.862338\n",
       "Family       7.850000\n",
       "Comedy       7.822436\n",
       "Horror       7.806897\n",
       "Fantasy      7.700000\n",
       "Thriller     7.680000\n",
       "Name: star_rating, dtype: float64"
      ]
     },
     "execution_count": 25,
     "metadata": {},
     "output_type": "execute_result"
    }
   ],
   "source": [
    "movies_df.groupby([\"genre\"])[\"star_rating\"].mean().sort_values(ascending=False)"
   ]
  },
  {
   "cell_type": "code",
   "execution_count": null,
   "id": "8a8848ff-f5b4-4d3c-a29a-3ba826a7ecca",
   "metadata": {},
   "outputs": [],
   "source": []
  },
  {
   "cell_type": "markdown",
   "id": "80b4783b-afd4-417b-bb25-0289fae25af4",
   "metadata": {},
   "source": [
    "#### How many movies contain the word 'city'? "
   ]
  },
  {
   "cell_type": "code",
   "execution_count": 26,
   "id": "d6f3c6ef-af87-4981-b45b-73e5a6e56431",
   "metadata": {},
   "outputs": [
    {
     "data": {
      "text/html": [
       "<div>\n",
       "<style scoped>\n",
       "    .dataframe tbody tr th:only-of-type {\n",
       "        vertical-align: middle;\n",
       "    }\n",
       "\n",
       "    .dataframe tbody tr th {\n",
       "        vertical-align: top;\n",
       "    }\n",
       "\n",
       "    .dataframe thead th {\n",
       "        text-align: right;\n",
       "    }\n",
       "</style>\n",
       "<table border=\"1\" class=\"dataframe\">\n",
       "  <thead>\n",
       "    <tr style=\"text-align: right;\">\n",
       "      <th></th>\n",
       "      <th>star_rating</th>\n",
       "      <th>title</th>\n",
       "      <th>content_rating</th>\n",
       "      <th>genre</th>\n",
       "      <th>duration</th>\n",
       "      <th>actors_list</th>\n",
       "      <th>is_long</th>\n",
       "      <th>genre_url</th>\n",
       "    </tr>\n",
       "  </thead>\n",
       "  <tbody>\n",
       "    <tr>\n",
       "      <th>570</th>\n",
       "      <td>7.8</td>\n",
       "      <td>300</td>\n",
       "      <td>R</td>\n",
       "      <td>Action</td>\n",
       "      <td>117</td>\n",
       "      <td>[u'Gerard Butler', u'Lena Headey', u'David Wen...</td>\n",
       "      <td>False</td>\n",
       "      <td>https://www.imdb.com/search/title/?genres=fantasy</td>\n",
       "    </tr>\n",
       "    <tr>\n",
       "      <th>276</th>\n",
       "      <td>8.1</td>\n",
       "      <td>A Fistful of Dollars</td>\n",
       "      <td>R</td>\n",
       "      <td>Action</td>\n",
       "      <td>99</td>\n",
       "      <td>[u'Clint Eastwood', u'Gian Maria Volont\\xe9', ...</td>\n",
       "      <td>False</td>\n",
       "      <td>https://www.imdb.com/search/title/?genres=fantasy</td>\n",
       "    </tr>\n",
       "    <tr>\n",
       "      <th>75</th>\n",
       "      <td>8.4</td>\n",
       "      <td>Aliens</td>\n",
       "      <td>R</td>\n",
       "      <td>Action</td>\n",
       "      <td>137</td>\n",
       "      <td>[u'Sigourney Weaver', u'Michael Biehn', u'Carr...</td>\n",
       "      <td>False</td>\n",
       "      <td>https://www.imdb.com/search/title/?genres=fantasy</td>\n",
       "    </tr>\n",
       "    <tr>\n",
       "      <th>529</th>\n",
       "      <td>7.8</td>\n",
       "      <td>Apocalypto</td>\n",
       "      <td>R</td>\n",
       "      <td>Action</td>\n",
       "      <td>139</td>\n",
       "      <td>[u'Gerardo Taracena', u'Raoul Trujillo', u'Dal...</td>\n",
       "      <td>False</td>\n",
       "      <td>https://www.imdb.com/search/title/?genres=fantasy</td>\n",
       "    </tr>\n",
       "    <tr>\n",
       "      <th>433</th>\n",
       "      <td>7.9</td>\n",
       "      <td>Avatar</td>\n",
       "      <td>PG-13</td>\n",
       "      <td>Action</td>\n",
       "      <td>162</td>\n",
       "      <td>[u'Sam Worthington', u'Zoe Saldana', u'Sigourn...</td>\n",
       "      <td>True</td>\n",
       "      <td>https://www.imdb.com/search/title/?genres=fantasy</td>\n",
       "    </tr>\n",
       "    <tr>\n",
       "      <th>...</th>\n",
       "      <td>...</td>\n",
       "      <td>...</td>\n",
       "      <td>...</td>\n",
       "      <td>...</td>\n",
       "      <td>...</td>\n",
       "      <td>...</td>\n",
       "      <td>...</td>\n",
       "      <td>...</td>\n",
       "    </tr>\n",
       "    <tr>\n",
       "      <th>532</th>\n",
       "      <td>7.8</td>\n",
       "      <td>X-Men: First Class</td>\n",
       "      <td>PG-13</td>\n",
       "      <td>Action</td>\n",
       "      <td>132</td>\n",
       "      <td>[u'James McAvoy', u'Michael Fassbender', u'Jen...</td>\n",
       "      <td>False</td>\n",
       "      <td>https://www.imdb.com/search/title/?genres=fantasy</td>\n",
       "    </tr>\n",
       "    <tr>\n",
       "      <th>871</th>\n",
       "      <td>7.5</td>\n",
       "      <td>X2</td>\n",
       "      <td>PG-13</td>\n",
       "      <td>Action</td>\n",
       "      <td>134</td>\n",
       "      <td>[u'Patrick Stewart', u'Hugh Jackman', u'Halle ...</td>\n",
       "      <td>False</td>\n",
       "      <td>https://www.imdb.com/search/title/?genres=fantasy</td>\n",
       "    </tr>\n",
       "    <tr>\n",
       "      <th>403</th>\n",
       "      <td>7.9</td>\n",
       "      <td>Ying xiong</td>\n",
       "      <td>PG-13</td>\n",
       "      <td>Action</td>\n",
       "      <td>99</td>\n",
       "      <td>[u'Jet Li', u'Tony Chiu Wai Leung', u'Maggie C...</td>\n",
       "      <td>False</td>\n",
       "      <td>https://www.imdb.com/search/title/?genres=fantasy</td>\n",
       "    </tr>\n",
       "    <tr>\n",
       "      <th>235</th>\n",
       "      <td>8.1</td>\n",
       "      <td>Yip Man</td>\n",
       "      <td>R</td>\n",
       "      <td>Action</td>\n",
       "      <td>106</td>\n",
       "      <td>[u'Donnie Yen', u'Simon Yam', u'Siu-Wong Fan']</td>\n",
       "      <td>False</td>\n",
       "      <td>https://www.imdb.com/search/title/?genres=fantasy</td>\n",
       "    </tr>\n",
       "    <tr>\n",
       "      <th>96</th>\n",
       "      <td>8.4</td>\n",
       "      <td>Yojimbo</td>\n",
       "      <td>UNRATED</td>\n",
       "      <td>Action</td>\n",
       "      <td>110</td>\n",
       "      <td>[u'Toshir\\xf4 Mifune', u'Eijir\\xf4 T\\xf4no', u...</td>\n",
       "      <td>False</td>\n",
       "      <td>https://www.imdb.com/search/title/?genres=fantasy</td>\n",
       "    </tr>\n",
       "  </tbody>\n",
       "</table>\n",
       "<p>136 rows × 8 columns</p>\n",
       "</div>"
      ],
      "text/plain": [
       "     star_rating                 title content_rating   genre  duration  \\\n",
       "570          7.8                   300              R  Action       117   \n",
       "276          8.1  A Fistful of Dollars              R  Action        99   \n",
       "75           8.4                Aliens              R  Action       137   \n",
       "529          7.8            Apocalypto              R  Action       139   \n",
       "433          7.9                Avatar          PG-13  Action       162   \n",
       "..           ...                   ...            ...     ...       ...   \n",
       "532          7.8    X-Men: First Class          PG-13  Action       132   \n",
       "871          7.5                    X2          PG-13  Action       134   \n",
       "403          7.9            Ying xiong          PG-13  Action        99   \n",
       "235          8.1               Yip Man              R  Action       106   \n",
       "96           8.4               Yojimbo        UNRATED  Action       110   \n",
       "\n",
       "                                           actors_list  is_long  \\\n",
       "570  [u'Gerard Butler', u'Lena Headey', u'David Wen...    False   \n",
       "276  [u'Clint Eastwood', u'Gian Maria Volont\\xe9', ...    False   \n",
       "75   [u'Sigourney Weaver', u'Michael Biehn', u'Carr...    False   \n",
       "529  [u'Gerardo Taracena', u'Raoul Trujillo', u'Dal...    False   \n",
       "433  [u'Sam Worthington', u'Zoe Saldana', u'Sigourn...     True   \n",
       "..                                                 ...      ...   \n",
       "532  [u'James McAvoy', u'Michael Fassbender', u'Jen...    False   \n",
       "871  [u'Patrick Stewart', u'Hugh Jackman', u'Halle ...    False   \n",
       "403  [u'Jet Li', u'Tony Chiu Wai Leung', u'Maggie C...    False   \n",
       "235     [u'Donnie Yen', u'Simon Yam', u'Siu-Wong Fan']    False   \n",
       "96   [u'Toshir\\xf4 Mifune', u'Eijir\\xf4 T\\xf4no', u...    False   \n",
       "\n",
       "                                             genre_url  \n",
       "570  https://www.imdb.com/search/title/?genres=fantasy  \n",
       "276  https://www.imdb.com/search/title/?genres=fantasy  \n",
       "75   https://www.imdb.com/search/title/?genres=fantasy  \n",
       "529  https://www.imdb.com/search/title/?genres=fantasy  \n",
       "433  https://www.imdb.com/search/title/?genres=fantasy  \n",
       "..                                                 ...  \n",
       "532  https://www.imdb.com/search/title/?genres=fantasy  \n",
       "871  https://www.imdb.com/search/title/?genres=fantasy  \n",
       "403  https://www.imdb.com/search/title/?genres=fantasy  \n",
       "235  https://www.imdb.com/search/title/?genres=fantasy  \n",
       "96   https://www.imdb.com/search/title/?genres=fantasy  \n",
       "\n",
       "[136 rows x 8 columns]"
      ]
     },
     "execution_count": 26,
     "metadata": {},
     "output_type": "execute_result"
    }
   ],
   "source": [
    "movies_df[movies_df[\"genre\"].str.contains(\"Action\")]"
   ]
  },
  {
   "cell_type": "code",
   "execution_count": 27,
   "id": "81272960-5355-426e-bb68-f893fe6ee045",
   "metadata": {},
   "outputs": [
    {
     "data": {
      "text/plain": [
       "136"
      ]
     },
     "execution_count": 27,
     "metadata": {},
     "output_type": "execute_result"
    }
   ],
   "source": [
    "len(movies_df[movies_df[\"genre\"].str.contains(\"Action\")])"
   ]
  },
  {
   "cell_type": "markdown",
   "id": "83e5d8ca-8cf0-4608-8c8b-f78c47b236e2",
   "metadata": {},
   "source": [
    "#### Do long movies have a higher average star rating than not long movies?"
   ]
  },
  {
   "cell_type": "code",
   "execution_count": 28,
   "id": "5a9a0d36-1183-41d9-93d1-41162463cfc6",
   "metadata": {},
   "outputs": [
    {
     "data": {
      "text/plain": [
       "is_long\n",
       "False    7.858698\n",
       "True     8.085821\n",
       "Name: star_rating, dtype: float64"
      ]
     },
     "execution_count": 28,
     "metadata": {},
     "output_type": "execute_result"
    }
   ],
   "source": [
    "movies_df.groupby([\"is_long\"])[\"star_rating\"].mean()"
   ]
  },
  {
   "cell_type": "code",
   "execution_count": null,
   "id": "0eedff1f-bc15-4f95-9977-7f1aa63f72a5",
   "metadata": {},
   "outputs": [],
   "source": []
  },
  {
   "cell_type": "markdown",
   "id": "e70721cb-fc6f-4ed9-ad60-f24db60dad2a",
   "metadata": {},
   "source": [
    "#### Are \"G\" rated movies more popular than \"R\" rated movies? "
   ]
  },
  {
   "cell_type": "code",
   "execution_count": 29,
   "id": "ff68f346-cece-45d5-ae27-db496731592e",
   "metadata": {},
   "outputs": [
    {
     "data": {
      "text/plain": [
       "content_rating\n",
       "PASSED       8.157143\n",
       "NOT RATED    8.123077\n",
       "TV-MA        8.100000\n",
       "APPROVED     8.027660\n",
       "UNRATED      7.994737\n",
       "G            7.990625\n",
       "GP           7.933333\n",
       "X            7.925000\n",
       "PG           7.879675\n",
       "R            7.854783\n",
       "PG-13        7.828571\n",
       "NC-17        7.614286\n",
       "Name: star_rating, dtype: float64"
      ]
     },
     "execution_count": 29,
     "metadata": {},
     "output_type": "execute_result"
    }
   ],
   "source": [
    "movies_df.groupby([\"content_rating\"])[\"star_rating\"].mean().sort_values(ascending=False)"
   ]
  },
  {
   "cell_type": "code",
   "execution_count": null,
   "id": "d53acbd0-4056-4a2a-a787-1ea4675f0d7f",
   "metadata": {},
   "outputs": [],
   "source": []
  },
  {
   "cell_type": "markdown",
   "id": "4538ec88-2718-4170-be31-8283d53446fc",
   "metadata": {},
   "source": [
    "---"
   ]
  },
  {
   "cell_type": "markdown",
   "id": "f64aeea7-9bee-4d6e-9286-c3fa10f83b49",
   "metadata": {},
   "source": [
    "## Bonus questions! "
   ]
  },
  {
   "cell_type": "markdown",
   "id": "791e4e9a-99a9-42bc-8297-42c1105df1d2",
   "metadata": {},
   "source": [
    "#### How many movies start with \"The\"?"
   ]
  },
  {
   "cell_type": "code",
   "execution_count": 30,
   "id": "cd1d9885-2f50-4068-89f7-4d96ad192541",
   "metadata": {},
   "outputs": [],
   "source": [
    "the_movies = movies_df[movies_df[\"title\"].str[:3] == \"The\"]"
   ]
  },
  {
   "cell_type": "code",
   "execution_count": 31,
   "id": "4afa8f02-d0fb-4e68-9513-2ea704bf44c0",
   "metadata": {},
   "outputs": [
    {
     "data": {
      "text/plain": [
       "223"
      ]
     },
     "execution_count": 31,
     "metadata": {},
     "output_type": "execute_result"
    }
   ],
   "source": [
    "len(the_movies)"
   ]
  },
  {
   "cell_type": "markdown",
   "id": "23b983a1-9797-46da-84fd-4e42fd45552f",
   "metadata": {},
   "source": [
    "#### What movie title has the most characters in its name? "
   ]
  },
  {
   "cell_type": "code",
   "execution_count": 32,
   "id": "0a14c34f-4cdb-435a-80d1-25b8fee8c2ff",
   "metadata": {},
   "outputs": [],
   "source": [
    "movies_df[\"title_length\"] = movies_df[\"title\"].str.len()"
   ]
  },
  {
   "cell_type": "code",
   "execution_count": 33,
   "id": "b93fc762-48cb-4ce6-a01a-18dacd0d36bb",
   "metadata": {},
   "outputs": [
    {
     "data": {
      "text/html": [
       "<div>\n",
       "<style scoped>\n",
       "    .dataframe tbody tr th:only-of-type {\n",
       "        vertical-align: middle;\n",
       "    }\n",
       "\n",
       "    .dataframe tbody tr th {\n",
       "        vertical-align: top;\n",
       "    }\n",
       "\n",
       "    .dataframe thead th {\n",
       "        text-align: right;\n",
       "    }\n",
       "</style>\n",
       "<table border=\"1\" class=\"dataframe\">\n",
       "  <thead>\n",
       "    <tr style=\"text-align: right;\">\n",
       "      <th></th>\n",
       "      <th>star_rating</th>\n",
       "      <th>title</th>\n",
       "      <th>content_rating</th>\n",
       "      <th>genre</th>\n",
       "      <th>duration</th>\n",
       "      <th>actors_list</th>\n",
       "      <th>is_long</th>\n",
       "      <th>genre_url</th>\n",
       "      <th>title_length</th>\n",
       "    </tr>\n",
       "  </thead>\n",
       "  <tbody>\n",
       "    <tr>\n",
       "      <th>48</th>\n",
       "      <td>8.5</td>\n",
       "      <td>Dr. Strangelove or: How I Learned to Stop Worr...</td>\n",
       "      <td>PG</td>\n",
       "      <td>Comedy</td>\n",
       "      <td>95</td>\n",
       "      <td>[u'Peter Sellers', u'George C. Scott', u'Sterl...</td>\n",
       "      <td>False</td>\n",
       "      <td>https://www.imdb.com/search/title/?genres=fantasy</td>\n",
       "      <td>68</td>\n",
       "    </tr>\n",
       "  </tbody>\n",
       "</table>\n",
       "</div>"
      ],
      "text/plain": [
       "    star_rating                                              title  \\\n",
       "48          8.5  Dr. Strangelove or: How I Learned to Stop Worr...   \n",
       "\n",
       "   content_rating   genre  duration  \\\n",
       "48             PG  Comedy        95   \n",
       "\n",
       "                                          actors_list  is_long  \\\n",
       "48  [u'Peter Sellers', u'George C. Scott', u'Sterl...    False   \n",
       "\n",
       "                                            genre_url  title_length  \n",
       "48  https://www.imdb.com/search/title/?genres=fantasy            68  "
      ]
     },
     "execution_count": 33,
     "metadata": {},
     "output_type": "execute_result"
    }
   ],
   "source": [
    "movies_df[movies_df[\"title_length\"] == movies_df[\"title_length\"].max()]"
   ]
  },
  {
   "cell_type": "code",
   "execution_count": 34,
   "id": "33b0a33e-9b7b-4c75-afa3-7f67cd4f5d5d",
   "metadata": {},
   "outputs": [
    {
     "data": {
      "text/html": [
       "<div>\n",
       "<style scoped>\n",
       "    .dataframe tbody tr th:only-of-type {\n",
       "        vertical-align: middle;\n",
       "    }\n",
       "\n",
       "    .dataframe tbody tr th {\n",
       "        vertical-align: top;\n",
       "    }\n",
       "\n",
       "    .dataframe thead th {\n",
       "        text-align: right;\n",
       "    }\n",
       "</style>\n",
       "<table border=\"1\" class=\"dataframe\">\n",
       "  <thead>\n",
       "    <tr style=\"text-align: right;\">\n",
       "      <th></th>\n",
       "      <th>star_rating</th>\n",
       "      <th>title</th>\n",
       "      <th>content_rating</th>\n",
       "      <th>genre</th>\n",
       "      <th>duration</th>\n",
       "      <th>actors_list</th>\n",
       "      <th>is_long</th>\n",
       "      <th>genre_url</th>\n",
       "      <th>title_length</th>\n",
       "    </tr>\n",
       "  </thead>\n",
       "  <tbody>\n",
       "    <tr>\n",
       "      <th>48</th>\n",
       "      <td>8.5</td>\n",
       "      <td>Dr. Strangelove or: How I Learned to Stop Worr...</td>\n",
       "      <td>PG</td>\n",
       "      <td>Comedy</td>\n",
       "      <td>95</td>\n",
       "      <td>[u'Peter Sellers', u'George C. Scott', u'Sterl...</td>\n",
       "      <td>False</td>\n",
       "      <td>https://www.imdb.com/search/title/?genres=fantasy</td>\n",
       "      <td>68</td>\n",
       "    </tr>\n",
       "  </tbody>\n",
       "</table>\n",
       "</div>"
      ],
      "text/plain": [
       "    star_rating                                              title  \\\n",
       "48          8.5  Dr. Strangelove or: How I Learned to Stop Worr...   \n",
       "\n",
       "   content_rating   genre  duration  \\\n",
       "48             PG  Comedy        95   \n",
       "\n",
       "                                          actors_list  is_long  \\\n",
       "48  [u'Peter Sellers', u'George C. Scott', u'Sterl...    False   \n",
       "\n",
       "                                            genre_url  title_length  \n",
       "48  https://www.imdb.com/search/title/?genres=fantasy            68  "
      ]
     },
     "execution_count": 34,
     "metadata": {},
     "output_type": "execute_result"
    }
   ],
   "source": [
    "movies_df.sort_values(\"title_length\", ascending=False).head(1)"
   ]
  },
  {
   "cell_type": "markdown",
   "id": "5e3ea9b6-9205-426b-8ab8-f99262c6faa3",
   "metadata": {},
   "source": [
    "#### What percentage of all the movies are in the crime genre? "
   ]
  },
  {
   "cell_type": "code",
   "execution_count": 35,
   "id": "51745d7d-829d-4b61-b717-8437cd520aa7",
   "metadata": {},
   "outputs": [
    {
     "data": {
      "text/plain": [
       "Drama        28.396323\n",
       "Comedy       15.934627\n",
       "Action       13.891726\n",
       "Crime        12.665986\n",
       "Biography     7.865169\n",
       "Adventure     7.660878\n",
       "Animation     6.332993\n",
       "Horror        2.962206\n",
       "Mystery       1.634321\n",
       "Western       0.919305\n",
       "Thriller      0.510725\n",
       "Sci-Fi        0.510725\n",
       "Film-Noir     0.306435\n",
       "Family        0.204290\n",
       "Fantasy       0.102145\n",
       "History       0.102145\n",
       "Name: genre, dtype: float64"
      ]
     },
     "execution_count": 35,
     "metadata": {},
     "output_type": "execute_result"
    }
   ],
   "source": [
    "movies_df.genre.value_counts(normalize=True) * 100"
   ]
  },
  {
   "cell_type": "code",
   "execution_count": null,
   "id": "1e1500ed-bf23-4a10-8d1e-455c44ecc5b8",
   "metadata": {},
   "outputs": [],
   "source": []
  },
  {
   "cell_type": "markdown",
   "id": "4483c96a-bdf2-4ce9-859d-3b352400089c",
   "metadata": {},
   "source": [
    "#### What percentage of movies featuring Meryl Streep are 'long' vs. 'not long'?"
   ]
  },
  {
   "cell_type": "code",
   "execution_count": 36,
   "id": "d44ecb8b-a194-45e1-a9a3-f3d66da4e7cd",
   "metadata": {},
   "outputs": [],
   "source": [
    "meryl_streep = (\n",
    "    movies_df[movies_df[\"actors_list\"].str.contains(\"Meryl Streep\")]\n",
    "    .groupby([\"is_long\"])\n",
    "    .size()\n",
    ").reset_index(name=\"count\")"
   ]
  },
  {
   "cell_type": "code",
   "execution_count": 37,
   "id": "34ee17c2-1b86-4429-9d1a-6652a6e674df",
   "metadata": {},
   "outputs": [],
   "source": [
    "meryl_streep[\"is_long_share\"] = (\n",
    "    meryl_streep[\"count\"] / meryl_streep[\"count\"].sum()\n",
    ").round(2)"
   ]
  },
  {
   "cell_type": "code",
   "execution_count": 38,
   "id": "ec164750-a7ff-4251-93fe-58641d293af6",
   "metadata": {},
   "outputs": [
    {
     "data": {
      "text/html": [
       "<div>\n",
       "<style scoped>\n",
       "    .dataframe tbody tr th:only-of-type {\n",
       "        vertical-align: middle;\n",
       "    }\n",
       "\n",
       "    .dataframe tbody tr th {\n",
       "        vertical-align: top;\n",
       "    }\n",
       "\n",
       "    .dataframe thead th {\n",
       "        text-align: right;\n",
       "    }\n",
       "</style>\n",
       "<table border=\"1\" class=\"dataframe\">\n",
       "  <thead>\n",
       "    <tr style=\"text-align: right;\">\n",
       "      <th></th>\n",
       "      <th>is_long</th>\n",
       "      <th>count</th>\n",
       "      <th>is_long_share</th>\n",
       "    </tr>\n",
       "  </thead>\n",
       "  <tbody>\n",
       "    <tr>\n",
       "      <th>0</th>\n",
       "      <td>False</td>\n",
       "      <td>6</td>\n",
       "      <td>0.86</td>\n",
       "    </tr>\n",
       "    <tr>\n",
       "      <th>1</th>\n",
       "      <td>True</td>\n",
       "      <td>1</td>\n",
       "      <td>0.14</td>\n",
       "    </tr>\n",
       "  </tbody>\n",
       "</table>\n",
       "</div>"
      ],
      "text/plain": [
       "   is_long  count  is_long_share\n",
       "0    False      6           0.86\n",
       "1     True      1           0.14"
      ]
     },
     "execution_count": 38,
     "metadata": {},
     "output_type": "execute_result"
    }
   ],
   "source": [
    "meryl_streep"
   ]
  }
 ],
 "metadata": {
  "kernelspec": {
   "display_name": "Python 3",
   "language": "python",
   "name": "python3"
  },
  "language_info": {
   "codemirror_mode": {
    "name": "ipython",
    "version": 3
   },
   "file_extension": ".py",
   "mimetype": "text/x-python",
   "name": "python",
   "nbconvert_exporter": "python",
   "pygments_lexer": "ipython3",
   "version": "3.8.8"
  }
 },
 "nbformat": 4,
 "nbformat_minor": 5
}
