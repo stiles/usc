{
 "cells": [
  {
   "cell_type": "markdown",
   "id": "abd53c16-8954-4ea3-8a2a-8d55f1473e2e",
   "metadata": {},
   "source": [
    "# Data from HTML tables: L.A. County covid cases"
   ]
  },
  {
   "cell_type": "code",
   "execution_count": 1,
   "id": "afdc0be2-fe44-4498-8710-2c67d6165ac5",
   "metadata": {},
   "outputs": [],
   "source": [
    "import pandas as pd"
   ]
  },
  {
   "cell_type": "markdown",
   "id": "74b3adb1-af37-47ed-b53d-1cca345a0c6e",
   "metadata": {},
   "source": [
    "#### L.A. County COVID cases, deaths by community"
   ]
  },
  {
   "cell_type": "code",
   "execution_count": 2,
   "id": "c275b7f2-89ec-4c60-9c4d-9e1d11215181",
   "metadata": {},
   "outputs": [],
   "source": [
    "url = 'http://publichealth.lacounty.gov/media/Coronavirus/locations.htm'"
   ]
  },
  {
   "cell_type": "markdown",
   "id": "0dda0e3f-2a20-4498-863e-c2bc71c5b449",
   "metadata": {},
   "source": [
    "#### Read the \"CITY/COMMUNITY\" cases table into a dataframe"
   ]
  },
  {
   "cell_type": "code",
   "execution_count": 11,
   "id": "2524d247-622a-4134-9002-73de23ed3a1c",
   "metadata": {},
   "outputs": [],
   "source": [
    "df = pd.read_html(url)[1]"
   ]
  },
  {
   "cell_type": "markdown",
   "id": "f00f04b8-86c2-49fc-9aec-ad7b36149ee2",
   "metadata": {},
   "source": [
    "#### Define cleaner column names"
   ]
  },
  {
   "cell_type": "code",
   "execution_count": 12,
   "id": "b75ab57e-c764-434f-be2e-b0e993826533",
   "metadata": {},
   "outputs": [
    {
     "data": {
      "text/html": [
       "<div>\n",
       "<style scoped>\n",
       "    .dataframe tbody tr th:only-of-type {\n",
       "        vertical-align: middle;\n",
       "    }\n",
       "\n",
       "    .dataframe tbody tr th {\n",
       "        vertical-align: top;\n",
       "    }\n",
       "\n",
       "    .dataframe thead th {\n",
       "        text-align: right;\n",
       "    }\n",
       "</style>\n",
       "<table border=\"1\" class=\"dataframe\">\n",
       "  <thead>\n",
       "    <tr style=\"text-align: right;\">\n",
       "      <th></th>\n",
       "      <th>CITY/COMMUNITY**</th>\n",
       "      <th>Cases</th>\n",
       "      <th>Case Rate1</th>\n",
       "      <th>Deaths</th>\n",
       "      <th>Death Rate2</th>\n",
       "    </tr>\n",
       "  </thead>\n",
       "  <tbody>\n",
       "    <tr>\n",
       "      <th>0</th>\n",
       "      <td>City of Agoura Hills</td>\n",
       "      <td>4094</td>\n",
       "      <td>19604.0</td>\n",
       "      <td>22</td>\n",
       "      <td>105.0</td>\n",
       "    </tr>\n",
       "  </tbody>\n",
       "</table>\n",
       "</div>"
      ],
      "text/plain": [
       "       CITY/COMMUNITY**  Cases  Case Rate1  Deaths  Death Rate2\n",
       "0  City of Agoura Hills   4094     19604.0      22        105.0"
      ]
     },
     "execution_count": 12,
     "metadata": {},
     "output_type": "execute_result"
    }
   ],
   "source": [
    "df.head(1)"
   ]
  },
  {
   "cell_type": "code",
   "execution_count": 13,
   "id": "8c0caff7-1e6e-40b2-a29f-eb3d0f6780db",
   "metadata": {},
   "outputs": [],
   "source": [
    "df.columns = ['place', 'cases', 'case_rate', 'deaths', 'death_rate']"
   ]
  },
  {
   "cell_type": "code",
   "execution_count": 15,
   "id": "a3ea7a65-dd67-49b4-b433-d2353245b788",
   "metadata": {},
   "outputs": [
    {
     "data": {
      "text/html": [
       "<div>\n",
       "<style scoped>\n",
       "    .dataframe tbody tr th:only-of-type {\n",
       "        vertical-align: middle;\n",
       "    }\n",
       "\n",
       "    .dataframe tbody tr th {\n",
       "        vertical-align: top;\n",
       "    }\n",
       "\n",
       "    .dataframe thead th {\n",
       "        text-align: right;\n",
       "    }\n",
       "</style>\n",
       "<table border=\"1\" class=\"dataframe\">\n",
       "  <thead>\n",
       "    <tr style=\"text-align: right;\">\n",
       "      <th></th>\n",
       "      <th>place</th>\n",
       "      <th>cases</th>\n",
       "      <th>case_rate</th>\n",
       "      <th>deaths</th>\n",
       "      <th>death_rate</th>\n",
       "    </tr>\n",
       "  </thead>\n",
       "  <tbody>\n",
       "    <tr>\n",
       "      <th>0</th>\n",
       "      <td>City of Agoura Hills</td>\n",
       "      <td>4094</td>\n",
       "      <td>19604.0</td>\n",
       "      <td>22</td>\n",
       "      <td>105.0</td>\n",
       "    </tr>\n",
       "    <tr>\n",
       "      <th>1</th>\n",
       "      <td>City of Alhambra</td>\n",
       "      <td>16498</td>\n",
       "      <td>19024.0</td>\n",
       "      <td>249</td>\n",
       "      <td>287.0</td>\n",
       "    </tr>\n",
       "    <tr>\n",
       "      <th>2</th>\n",
       "      <td>City of Arcadia</td>\n",
       "      <td>7869</td>\n",
       "      <td>13625.0</td>\n",
       "      <td>163</td>\n",
       "      <td>282.0</td>\n",
       "    </tr>\n",
       "    <tr>\n",
       "      <th>3</th>\n",
       "      <td>City of Artesia</td>\n",
       "      <td>4109</td>\n",
       "      <td>24466.0</td>\n",
       "      <td>88</td>\n",
       "      <td>524.0</td>\n",
       "    </tr>\n",
       "    <tr>\n",
       "      <th>4</th>\n",
       "      <td>City of Avalon</td>\n",
       "      <td>62</td>\n",
       "      <td>1602.0</td>\n",
       "      <td>0</td>\n",
       "      <td>0.0</td>\n",
       "    </tr>\n",
       "  </tbody>\n",
       "</table>\n",
       "</div>"
      ],
      "text/plain": [
       "                  place  cases  case_rate  deaths  death_rate\n",
       "0  City of Agoura Hills   4094    19604.0      22       105.0\n",
       "1      City of Alhambra  16498    19024.0     249       287.0\n",
       "2       City of Arcadia   7869    13625.0     163       282.0\n",
       "3       City of Artesia   4109    24466.0      88       524.0\n",
       "4        City of Avalon     62     1602.0       0         0.0"
      ]
     },
     "execution_count": 15,
     "metadata": {},
     "output_type": "execute_result"
    }
   ],
   "source": [
    "df.head()"
   ]
  },
  {
   "cell_type": "markdown",
   "id": "20995e1f-f2c5-4e49-af83-1a9c919f707a",
   "metadata": {},
   "source": [
    "---"
   ]
  },
  {
   "cell_type": "markdown",
   "id": "231be332-85cd-48d9-b88c-9cd615e93582",
   "metadata": {},
   "source": [
    "#### How many deaths in Los Angeles - Del Rey? Encino?"
   ]
  },
  {
   "cell_type": "code",
   "execution_count": 18,
   "id": "28bcf8ae-0aab-4192-90d8-5f180858ac8e",
   "metadata": {},
   "outputs": [
    {
     "data": {
      "text/html": [
       "<div>\n",
       "<style scoped>\n",
       "    .dataframe tbody tr th:only-of-type {\n",
       "        vertical-align: middle;\n",
       "    }\n",
       "\n",
       "    .dataframe tbody tr th {\n",
       "        vertical-align: top;\n",
       "    }\n",
       "\n",
       "    .dataframe thead th {\n",
       "        text-align: right;\n",
       "    }\n",
       "</style>\n",
       "<table border=\"1\" class=\"dataframe\">\n",
       "  <thead>\n",
       "    <tr style=\"text-align: right;\">\n",
       "      <th></th>\n",
       "      <th>place</th>\n",
       "      <th>cases</th>\n",
       "      <th>case_rate</th>\n",
       "      <th>deaths</th>\n",
       "      <th>death_rate</th>\n",
       "    </tr>\n",
       "  </thead>\n",
       "  <tbody>\n",
       "    <tr>\n",
       "      <th>112</th>\n",
       "      <td>Los Angeles - Del Rey</td>\n",
       "      <td>5857</td>\n",
       "      <td>19565.0</td>\n",
       "      <td>42</td>\n",
       "      <td>140.0</td>\n",
       "    </tr>\n",
       "    <tr>\n",
       "      <th>172</th>\n",
       "      <td>Los Angeles - Playa Del Rey</td>\n",
       "      <td>399</td>\n",
       "      <td>12484.0</td>\n",
       "      <td>3</td>\n",
       "      <td>94.0</td>\n",
       "    </tr>\n",
       "    <tr>\n",
       "      <th>246</th>\n",
       "      <td>Unincorporated - Del Rey</td>\n",
       "      <td>87</td>\n",
       "      <td>27358.0</td>\n",
       "      <td>1</td>\n",
       "      <td>314.0</td>\n",
       "    </tr>\n",
       "  </tbody>\n",
       "</table>\n",
       "</div>"
      ],
      "text/plain": [
       "                           place  cases  case_rate  deaths  death_rate\n",
       "112        Los Angeles - Del Rey   5857    19565.0      42       140.0\n",
       "172  Los Angeles - Playa Del Rey    399    12484.0       3        94.0\n",
       "246     Unincorporated - Del Rey     87    27358.0       1       314.0"
      ]
     },
     "execution_count": 18,
     "metadata": {},
     "output_type": "execute_result"
    }
   ],
   "source": [
    "df[df['place'].str.contains('Del Rey')]"
   ]
  },
  {
   "cell_type": "code",
   "execution_count": 17,
   "id": "91a23c65-7429-42d7-881f-a9a5599e2ffb",
   "metadata": {},
   "outputs": [
    {
     "data": {
      "text/html": [
       "<div>\n",
       "<style scoped>\n",
       "    .dataframe tbody tr th:only-of-type {\n",
       "        vertical-align: middle;\n",
       "    }\n",
       "\n",
       "    .dataframe tbody tr th {\n",
       "        vertical-align: top;\n",
       "    }\n",
       "\n",
       "    .dataframe thead th {\n",
       "        text-align: right;\n",
       "    }\n",
       "</style>\n",
       "<table border=\"1\" class=\"dataframe\">\n",
       "  <thead>\n",
       "    <tr style=\"text-align: right;\">\n",
       "      <th></th>\n",
       "      <th>place</th>\n",
       "      <th>cases</th>\n",
       "      <th>case_rate</th>\n",
       "      <th>deaths</th>\n",
       "      <th>death_rate</th>\n",
       "    </tr>\n",
       "  </thead>\n",
       "  <tbody>\n",
       "    <tr>\n",
       "      <th>120</th>\n",
       "      <td>Los Angeles - Encino</td>\n",
       "      <td>10075</td>\n",
       "      <td>22304.0</td>\n",
       "      <td>87</td>\n",
       "      <td>193.0</td>\n",
       "    </tr>\n",
       "  </tbody>\n",
       "</table>\n",
       "</div>"
      ],
      "text/plain": [
       "                    place  cases  case_rate  deaths  death_rate\n",
       "120  Los Angeles - Encino  10075    22304.0      87       193.0"
      ]
     },
     "execution_count": 17,
     "metadata": {},
     "output_type": "execute_result"
    }
   ],
   "source": [
    "df[df['place'].str.contains('Encino')]"
   ]
  },
  {
   "cell_type": "markdown",
   "id": "320e0ec9-5c48-440f-992b-d76014f19056",
   "metadata": {},
   "source": [
    "#### How many cases in places outside Los Angeles? [Hint](https://www.google.com/search?q=Python+pandas+string+does+not+contain&oq=Python+pandas+string+does+not+contain)"
   ]
  },
  {
   "cell_type": "code",
   "execution_count": 20,
   "id": "d1a14036-0c75-4733-b4f3-47cc58d0b209",
   "metadata": {},
   "outputs": [],
   "source": [
    "not_la = df[~df['place'].str.contains('Los Angeles')]"
   ]
  },
  {
   "cell_type": "markdown",
   "id": "cc9391ab-13c7-402c-831b-58c0b1672efb",
   "metadata": {},
   "source": [
    "#### Which cities/neighborhoods with more than 10k cases have the highest rates? "
   ]
  },
  {
   "cell_type": "code",
   "execution_count": 25,
   "id": "544e83b4-471e-431d-b846-cc2bb867e9d8",
   "metadata": {},
   "outputs": [
    {
     "data": {
      "text/html": [
       "<div>\n",
       "<style scoped>\n",
       "    .dataframe tbody tr th:only-of-type {\n",
       "        vertical-align: middle;\n",
       "    }\n",
       "\n",
       "    .dataframe tbody tr th {\n",
       "        vertical-align: top;\n",
       "    }\n",
       "\n",
       "    .dataframe thead th {\n",
       "        text-align: right;\n",
       "    }\n",
       "</style>\n",
       "<table border=\"1\" class=\"dataframe\">\n",
       "  <thead>\n",
       "    <tr style=\"text-align: right;\">\n",
       "      <th></th>\n",
       "      <th>place</th>\n",
       "      <th>cases</th>\n",
       "      <th>case_rate</th>\n",
       "      <th>deaths</th>\n",
       "      <th>death_rate</th>\n",
       "    </tr>\n",
       "  </thead>\n",
       "  <tbody>\n",
       "    <tr>\n",
       "      <th>220</th>\n",
       "      <td>Los Angeles - Wholesale District*</td>\n",
       "      <td>16161</td>\n",
       "      <td>44731.0</td>\n",
       "      <td>134</td>\n",
       "      <td>371.0</td>\n",
       "    </tr>\n",
       "    <tr>\n",
       "      <th>66</th>\n",
       "      <td>City of San Fernando</td>\n",
       "      <td>10368</td>\n",
       "      <td>42126.0</td>\n",
       "      <td>80</td>\n",
       "      <td>325.0</td>\n",
       "    </tr>\n",
       "    <tr>\n",
       "      <th>113</th>\n",
       "      <td>Los Angeles - Downtown*</td>\n",
       "      <td>11540</td>\n",
       "      <td>41953.0</td>\n",
       "      <td>65</td>\n",
       "      <td>236.0</td>\n",
       "    </tr>\n",
       "    <tr>\n",
       "      <th>166</th>\n",
       "      <td>Los Angeles - Pacoima</td>\n",
       "      <td>31883</td>\n",
       "      <td>41418.0</td>\n",
       "      <td>279</td>\n",
       "      <td>362.0</td>\n",
       "    </tr>\n",
       "    <tr>\n",
       "      <th>208</th>\n",
       "      <td>Los Angeles - Vernon Central</td>\n",
       "      <td>21536</td>\n",
       "      <td>41417.0</td>\n",
       "      <td>194</td>\n",
       "      <td>373.0</td>\n",
       "    </tr>\n",
       "  </tbody>\n",
       "</table>\n",
       "</div>"
      ],
      "text/plain": [
       "                                 place  cases  case_rate  deaths  death_rate\n",
       "220  Los Angeles - Wholesale District*  16161    44731.0     134       371.0\n",
       "66                City of San Fernando  10368    42126.0      80       325.0\n",
       "113            Los Angeles - Downtown*  11540    41953.0      65       236.0\n",
       "166              Los Angeles - Pacoima  31883    41418.0     279       362.0\n",
       "208       Los Angeles - Vernon Central  21536    41417.0     194       373.0"
      ]
     },
     "execution_count": 25,
     "metadata": {},
     "output_type": "execute_result"
    }
   ],
   "source": [
    "df[df['cases']>10000].sort_values('case_rate', ascending=False).head()"
   ]
  },
  {
   "cell_type": "markdown",
   "id": "4c77f5fe-dbc9-45cd-8b24-e7cdbfe3c535",
   "metadata": {},
   "source": [
    "---"
   ]
  },
  {
   "cell_type": "markdown",
   "id": "441e5ed4-ee9a-48ff-a3a9-6c0d0b16ff1d",
   "metadata": {},
   "source": [
    "#### Bonus: Create a true/false column for Los Angeles"
   ]
  },
  {
   "cell_type": "code",
   "execution_count": 27,
   "id": "4f40a6b5-c085-494b-b583-e5ebea6d4723",
   "metadata": {},
   "outputs": [],
   "source": [
    "df['is_la'] = df['place'].str.contains('Los Angeles')"
   ]
  },
  {
   "cell_type": "code",
   "execution_count": 34,
   "id": "d5608a9e-d1b6-4aeb-ac31-5ea8453408a1",
   "metadata": {},
   "outputs": [
    {
     "data": {
      "text/html": [
       "<div>\n",
       "<style scoped>\n",
       "    .dataframe tbody tr th:only-of-type {\n",
       "        vertical-align: middle;\n",
       "    }\n",
       "\n",
       "    .dataframe tbody tr th {\n",
       "        vertical-align: top;\n",
       "    }\n",
       "\n",
       "    .dataframe thead th {\n",
       "        text-align: right;\n",
       "    }\n",
       "</style>\n",
       "<table border=\"1\" class=\"dataframe\">\n",
       "  <thead>\n",
       "    <tr style=\"text-align: right;\">\n",
       "      <th></th>\n",
       "      <th>place</th>\n",
       "      <th>cases</th>\n",
       "      <th>case_rate</th>\n",
       "      <th>deaths</th>\n",
       "      <th>death_rate</th>\n",
       "      <th>is_la</th>\n",
       "    </tr>\n",
       "  </thead>\n",
       "  <tbody>\n",
       "    <tr>\n",
       "      <th>41</th>\n",
       "      <td>City of La Puente</td>\n",
       "      <td>12588</td>\n",
       "      <td>30931.0</td>\n",
       "      <td>148</td>\n",
       "      <td>364.0</td>\n",
       "      <td>False</td>\n",
       "    </tr>\n",
       "    <tr>\n",
       "      <th>10</th>\n",
       "      <td>City of Beverly Hills</td>\n",
       "      <td>8157</td>\n",
       "      <td>23630.0</td>\n",
       "      <td>42</td>\n",
       "      <td>122.0</td>\n",
       "      <td>False</td>\n",
       "    </tr>\n",
       "    <tr>\n",
       "      <th>303</th>\n",
       "      <td>Unincorporated - Rowland Heights</td>\n",
       "      <td>8622</td>\n",
       "      <td>16899.0</td>\n",
       "      <td>101</td>\n",
       "      <td>198.0</td>\n",
       "      <td>False</td>\n",
       "    </tr>\n",
       "    <tr>\n",
       "      <th>335</th>\n",
       "      <td>Unincorporated - Westhills</td>\n",
       "      <td>127</td>\n",
       "      <td>15137.0</td>\n",
       "      <td>1</td>\n",
       "      <td>119.0</td>\n",
       "      <td>False</td>\n",
       "    </tr>\n",
       "    <tr>\n",
       "      <th>283</th>\n",
       "      <td>Unincorporated - Marina del Rey</td>\n",
       "      <td>1621</td>\n",
       "      <td>17225.0</td>\n",
       "      <td>4</td>\n",
       "      <td>43.0</td>\n",
       "      <td>False</td>\n",
       "    </tr>\n",
       "  </tbody>\n",
       "</table>\n",
       "</div>"
      ],
      "text/plain": [
       "                                place  cases  case_rate  deaths  death_rate  \\\n",
       "41                  City of La Puente  12588    30931.0     148       364.0   \n",
       "10              City of Beverly Hills   8157    23630.0      42       122.0   \n",
       "303  Unincorporated - Rowland Heights   8622    16899.0     101       198.0   \n",
       "335        Unincorporated - Westhills    127    15137.0       1       119.0   \n",
       "283   Unincorporated - Marina del Rey   1621    17225.0       4        43.0   \n",
       "\n",
       "     is_la  \n",
       "41   False  \n",
       "10   False  \n",
       "303  False  \n",
       "335  False  \n",
       "283  False  "
      ]
     },
     "execution_count": 34,
     "metadata": {},
     "output_type": "execute_result"
    }
   ],
   "source": [
    "df.sample(5)"
   ]
  },
  {
   "cell_type": "code",
   "execution_count": 40,
   "id": "881a542b-8f2c-461d-a13b-ee82b742f7d5",
   "metadata": {},
   "outputs": [
    {
     "data": {
      "text/plain": [
       "2357279"
      ]
     },
     "execution_count": 40,
     "metadata": {},
     "output_type": "execute_result"
    }
   ],
   "source": [
    "df[df['is_la'] == True]['cases'].sum()"
   ]
  },
  {
   "cell_type": "code",
   "execution_count": 39,
   "id": "14486f69-8f94-42fb-8735-ab81ecdb39e3",
   "metadata": {},
   "outputs": [
    {
     "data": {
      "text/plain": [
       "1454948"
      ]
     },
     "execution_count": 39,
     "metadata": {},
     "output_type": "execute_result"
    }
   ],
   "source": [
    "df[df['is_la'] == False]['cases'].sum()"
   ]
  },
  {
   "cell_type": "markdown",
   "id": "c2362734-2647-490e-b69c-8993c3651f21",
   "metadata": {},
   "source": [
    "#### Discussion: How would you determine whether there were disproportionately more cases in the county? "
   ]
  },
  {
   "cell_type": "code",
   "execution_count": null,
   "id": "c4c63aa4-fb75-45b8-8602-c64165ea235f",
   "metadata": {},
   "outputs": [],
   "source": []
  },
  {
   "cell_type": "code",
   "execution_count": null,
   "id": "fc4e22f4-b608-45f9-acbf-b0d88b7cd1d9",
   "metadata": {},
   "outputs": [],
   "source": []
  }
 ],
 "metadata": {
  "kernelspec": {
   "display_name": "Python 3 (ipykernel)",
   "language": "python",
   "name": "python3"
  },
  "language_info": {
   "codemirror_mode": {
    "name": "ipython",
    "version": 3
   },
   "file_extension": ".py",
   "mimetype": "text/x-python",
   "name": "python",
   "nbconvert_exporter": "python",
   "pygments_lexer": "ipython3",
   "version": "3.9.7"
  }
 },
 "nbformat": 4,
 "nbformat_minor": 5
}
