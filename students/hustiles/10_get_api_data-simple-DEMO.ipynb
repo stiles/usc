{
 "cells": [
  {
   "cell_type": "markdown",
   "id": "de872774-504e-4e20-8ba5-8ab6691ebb3d",
   "metadata": {},
   "source": [
    "# Accessing data from an API"
   ]
  },
  {
   "cell_type": "markdown",
   "id": "2c84208b-1af7-49c4-9258-4ee2919f6900",
   "metadata": {},
   "source": [
    "This notebook has two simple excerises demonstrating how to extract data from an [Application Programming Interface](https://en.wikipedia.org/wiki/API). An API is a tool for computers or applications to interact with one another. In our case, we'll be asking for data, and the API will return it. These systems can be complicated, but most of those we might use in data journalism are relatively simple."
   ]
  },
  {
   "cell_type": "markdown",
   "id": "92e7b332-c581-4d4b-82f8-06aab829f80e",
   "metadata": {},
   "source": [
    "#### Import our data tools"
   ]
  },
  {
   "cell_type": "code",
   "execution_count": 1,
   "id": "e0719e5b-a9f3-46cf-a9fe-cc265c2c37a3",
   "metadata": {},
   "outputs": [],
   "source": [
    "%load_ext lab_black"
   ]
  },
  {
   "cell_type": "code",
   "execution_count": 2,
   "id": "54f28d60-f846-46c3-8c56-659a92e5806b",
   "metadata": {},
   "outputs": [],
   "source": [
    "import pandas as pd\n",
    "import requests"
   ]
  },
  {
   "cell_type": "code",
   "execution_count": 3,
   "id": "a61bdfc1-28d4-43e3-b11e-67fd894676b7",
   "metadata": {},
   "outputs": [],
   "source": [
    "pd.options.display.max_columns = 100\n",
    "pd.options.display.max_rows = 1000\n",
    "pd.options.display.max_colwidth = None"
   ]
  },
  {
   "cell_type": "markdown",
   "id": "58da4e76-be26-4247-8e82-385493b522eb",
   "metadata": {},
   "source": [
    "---"
   ]
  },
  {
   "cell_type": "markdown",
   "id": "0291ae2b-2543-48e3-843a-78cad1d3d3ce",
   "metadata": {},
   "source": [
    "## Cat facts!"
   ]
  },
  {
   "cell_type": "markdown",
   "id": "e0cd737e-d6b2-4621-bdef-b9f73c76cf2b",
   "metadata": {},
   "source": [
    "[Read the documentation](https://alexwohlbruck.github.io/cat-facts/docs/)"
   ]
  },
  {
   "cell_type": "markdown",
   "id": "6c247eb5-0900-496d-a70b-ae3fba351b21",
   "metadata": {},
   "source": [
    "#### Get random facts"
   ]
  },
  {
   "cell_type": "code",
   "execution_count": 6,
   "id": "eb17f743-e77e-4a82-915f-625a69c54438",
   "metadata": {},
   "outputs": [],
   "source": [
    "cat_df = pd.read_json(\n",
    "    \"https://cat-fact.herokuapp.com/facts/random?animal_type=cat&amount=500\"\n",
    ")"
   ]
  },
  {
   "cell_type": "markdown",
   "id": "1b799caa-637a-4011-9e18-c95d1f54f306",
   "metadata": {},
   "source": [
    "#### First five rows"
   ]
  },
  {
   "cell_type": "code",
   "execution_count": 7,
   "id": "63b91c0a-fa1e-42cf-934d-b7678842203f",
   "metadata": {},
   "outputs": [
    {
     "data": {
      "text/html": [
       "<div>\n",
       "<style scoped>\n",
       "    .dataframe tbody tr th:only-of-type {\n",
       "        vertical-align: middle;\n",
       "    }\n",
       "\n",
       "    .dataframe tbody tr th {\n",
       "        vertical-align: top;\n",
       "    }\n",
       "\n",
       "    .dataframe thead th {\n",
       "        text-align: right;\n",
       "    }\n",
       "</style>\n",
       "<table border=\"1\" class=\"dataframe\">\n",
       "  <thead>\n",
       "    <tr style=\"text-align: right;\">\n",
       "      <th></th>\n",
       "      <th>status</th>\n",
       "      <th>_id</th>\n",
       "      <th>user</th>\n",
       "      <th>text</th>\n",
       "      <th>__v</th>\n",
       "      <th>source</th>\n",
       "      <th>updatedAt</th>\n",
       "      <th>type</th>\n",
       "      <th>createdAt</th>\n",
       "      <th>deleted</th>\n",
       "      <th>used</th>\n",
       "      <th>sendDate</th>\n",
       "    </tr>\n",
       "  </thead>\n",
       "  <tbody>\n",
       "    <tr>\n",
       "      <th>0</th>\n",
       "      <td>{'verified': True, 'sentCount': 1}</td>\n",
       "      <td>58e008a30aac31001185ed0b</td>\n",
       "      <td>58e007480aac31001185ecef</td>\n",
       "      <td>A cat's purr may be a form of self-healing, as it can be a sign of nervousness as well as contentment.</td>\n",
       "      <td>0.0</td>\n",
       "      <td>user</td>\n",
       "      <td>2020-08-23T20:20:01.611Z</td>\n",
       "      <td>cat</td>\n",
       "      <td>2018-02-24T21:20:04.261Z</td>\n",
       "      <td>False</td>\n",
       "      <td>0.0</td>\n",
       "      <td>NaN</td>\n",
       "    </tr>\n",
       "    <tr>\n",
       "      <th>1</th>\n",
       "      <td>{'verified': None, 'sentCount': 0}</td>\n",
       "      <td>61d555f742bf74fddcf7f766</td>\n",
       "      <td>61bf8fbc99846b07e4af8af2</td>\n",
       "      <td>ПЫЩЩЩЩЩЩЩЩЩЩЩЩЩЩЩЩ.</td>\n",
       "      <td>0.0</td>\n",
       "      <td>NaN</td>\n",
       "      <td>2022-01-05T08:25:27.599Z</td>\n",
       "      <td>cat</td>\n",
       "      <td>2022-01-05T08:25:27.599Z</td>\n",
       "      <td>False</td>\n",
       "      <td>NaN</td>\n",
       "      <td>NaN</td>\n",
       "    </tr>\n",
       "    <tr>\n",
       "      <th>2</th>\n",
       "      <td>{'verified': True, 'sentCount': 1}</td>\n",
       "      <td>591f98803b90f7150a19c206</td>\n",
       "      <td>5a9ac18c7478810ea6c06381</td>\n",
       "      <td>Cats can predict earthquakes. We humans are not 100% sure how they do it. There are several different theories.</td>\n",
       "      <td>0.0</td>\n",
       "      <td>api</td>\n",
       "      <td>2020-08-23T20:20:01.611Z</td>\n",
       "      <td>cat</td>\n",
       "      <td>2018-01-04T01:10:54.673Z</td>\n",
       "      <td>False</td>\n",
       "      <td>0.0</td>\n",
       "      <td>NaN</td>\n",
       "    </tr>\n",
       "    <tr>\n",
       "      <th>3</th>\n",
       "      <td>{'verified': True, 'sentCount': 1}</td>\n",
       "      <td>591f98783b90f7150a19c1e0</td>\n",
       "      <td>5a9ac18c7478810ea6c06381</td>\n",
       "      <td>A cat has a total of 24 whiskers, 4 rows of whiskers on each side. The upper two rows can move independently of the bottom two rows.</td>\n",
       "      <td>0.0</td>\n",
       "      <td>api</td>\n",
       "      <td>2020-08-23T20:20:01.611Z</td>\n",
       "      <td>cat</td>\n",
       "      <td>2018-04-21T20:20:02.287Z</td>\n",
       "      <td>False</td>\n",
       "      <td>0.0</td>\n",
       "      <td>NaN</td>\n",
       "    </tr>\n",
       "    <tr>\n",
       "      <th>4</th>\n",
       "      <td>{'verified': True, 'sentCount': 1}</td>\n",
       "      <td>5a4d75e46ef087002174c284</td>\n",
       "      <td>5a9ac18c7478810ea6c06381</td>\n",
       "      <td>Cats have about 130,000 hairs per square inch (20,155 hairs per square centimeter).</td>\n",
       "      <td>0.0</td>\n",
       "      <td>user</td>\n",
       "      <td>2020-08-23T20:20:01.611Z</td>\n",
       "      <td>cat</td>\n",
       "      <td>2018-04-05T20:20:05.171Z</td>\n",
       "      <td>False</td>\n",
       "      <td>0.0</td>\n",
       "      <td>NaN</td>\n",
       "    </tr>\n",
       "  </tbody>\n",
       "</table>\n",
       "</div>"
      ],
      "text/plain": [
       "                               status                       _id  \\\n",
       "0  {'verified': True, 'sentCount': 1}  58e008a30aac31001185ed0b   \n",
       "1  {'verified': None, 'sentCount': 0}  61d555f742bf74fddcf7f766   \n",
       "2  {'verified': True, 'sentCount': 1}  591f98803b90f7150a19c206   \n",
       "3  {'verified': True, 'sentCount': 1}  591f98783b90f7150a19c1e0   \n",
       "4  {'verified': True, 'sentCount': 1}  5a4d75e46ef087002174c284   \n",
       "\n",
       "                       user  \\\n",
       "0  58e007480aac31001185ecef   \n",
       "1  61bf8fbc99846b07e4af8af2   \n",
       "2  5a9ac18c7478810ea6c06381   \n",
       "3  5a9ac18c7478810ea6c06381   \n",
       "4  5a9ac18c7478810ea6c06381   \n",
       "\n",
       "                                                                                                                                   text  \\\n",
       "0                                A cat's purr may be a form of self-healing, as it can be a sign of nervousness as well as contentment.   \n",
       "1                                                                                                                   ПЫЩЩЩЩЩЩЩЩЩЩЩЩЩЩЩЩ.   \n",
       "2                       Cats can predict earthquakes. We humans are not 100% sure how they do it. There are several different theories.   \n",
       "3  A cat has a total of 24 whiskers, 4 rows of whiskers on each side. The upper two rows can move independently of the bottom two rows.   \n",
       "4                                                   Cats have about 130,000 hairs per square inch (20,155 hairs per square centimeter).   \n",
       "\n",
       "   __v source                 updatedAt type                 createdAt  \\\n",
       "0  0.0   user  2020-08-23T20:20:01.611Z  cat  2018-02-24T21:20:04.261Z   \n",
       "1  0.0    NaN  2022-01-05T08:25:27.599Z  cat  2022-01-05T08:25:27.599Z   \n",
       "2  0.0    api  2020-08-23T20:20:01.611Z  cat  2018-01-04T01:10:54.673Z   \n",
       "3  0.0    api  2020-08-23T20:20:01.611Z  cat  2018-04-21T20:20:02.287Z   \n",
       "4  0.0   user  2020-08-23T20:20:01.611Z  cat  2018-04-05T20:20:05.171Z   \n",
       "\n",
       "   deleted  used sendDate  \n",
       "0    False   0.0      NaN  \n",
       "1    False   NaN      NaN  \n",
       "2    False   0.0      NaN  \n",
       "3    False   0.0      NaN  \n",
       "4    False   0.0      NaN  "
      ]
     },
     "execution_count": 7,
     "metadata": {},
     "output_type": "execute_result"
    }
   ],
   "source": [
    "cat_df.head()"
   ]
  },
  {
   "cell_type": "markdown",
   "id": "93e8eec5-3aa1-4527-9f5d-e5256b2f7cf5",
   "metadata": {},
   "source": [
    "#### How many records? "
   ]
  },
  {
   "cell_type": "code",
   "execution_count": 8,
   "id": "17ee5f8a-eebd-40e8-b624-33a8ff3bd791",
   "metadata": {},
   "outputs": [
    {
     "data": {
      "text/plain": [
       "500"
      ]
     },
     "execution_count": 8,
     "metadata": {},
     "output_type": "execute_result"
    }
   ],
   "source": [
    "len(cat_df)"
   ]
  },
  {
   "cell_type": "markdown",
   "id": "ba113498-d591-40b3-8195-2f04c5bc858f",
   "metadata": {},
   "source": [
    "#### What's the first fact?"
   ]
  },
  {
   "cell_type": "code",
   "execution_count": 9,
   "id": "70ede381-0322-40a2-896c-fa370a3859f6",
   "metadata": {},
   "outputs": [
    {
     "data": {
      "text/plain": [
       "\"A cat's purr may be a form of self-healing, as it can be a sign of nervousness as well as contentment.\""
      ]
     },
     "execution_count": 9,
     "metadata": {},
     "output_type": "execute_result"
    }
   ],
   "source": [
    "cat_df[\"text\"][0]"
   ]
  },
  {
   "cell_type": "markdown",
   "id": "b5aec3ef-5f25-445e-9e4c-7100f9b2ce24",
   "metadata": {},
   "source": [
    "#### Exctract the nested json inside the `status` column"
   ]
  },
  {
   "cell_type": "code",
   "execution_count": 20,
   "id": "a13eff8f-b8f8-4c38-acba-cbc1462c43aa",
   "metadata": {},
   "outputs": [],
   "source": [
    "cat_df[[\"verified\", \"sentCount\", \"feedback\"]] = pd.json_normalize(cat_df[\"status\"])"
   ]
  },
  {
   "cell_type": "markdown",
   "id": "062a20c8-c39f-465d-89ff-c9e3c86c846f",
   "metadata": {},
   "source": [
    "#### Slim the dataframe"
   ]
  },
  {
   "cell_type": "code",
   "execution_count": 21,
   "id": "77bd77e6-d73c-4fb9-9c80-36c5c3ef68d6",
   "metadata": {},
   "outputs": [],
   "source": [
    "cat_df_slim = cat_df[[\"_id\", \"text\", \"createdAt\", \"verified\"]].copy()"
   ]
  },
  {
   "cell_type": "code",
   "execution_count": 22,
   "id": "abca92ce-82ed-4b67-8f1d-2865142aa917",
   "metadata": {},
   "outputs": [
    {
     "data": {
      "text/html": [
       "<div>\n",
       "<style scoped>\n",
       "    .dataframe tbody tr th:only-of-type {\n",
       "        vertical-align: middle;\n",
       "    }\n",
       "\n",
       "    .dataframe tbody tr th {\n",
       "        vertical-align: top;\n",
       "    }\n",
       "\n",
       "    .dataframe thead th {\n",
       "        text-align: right;\n",
       "    }\n",
       "</style>\n",
       "<table border=\"1\" class=\"dataframe\">\n",
       "  <thead>\n",
       "    <tr style=\"text-align: right;\">\n",
       "      <th></th>\n",
       "      <th>_id</th>\n",
       "      <th>text</th>\n",
       "      <th>createdAt</th>\n",
       "      <th>verified</th>\n",
       "    </tr>\n",
       "  </thead>\n",
       "  <tbody>\n",
       "    <tr>\n",
       "      <th>0</th>\n",
       "      <td>58e008a30aac31001185ed0b</td>\n",
       "      <td>A cat's purr may be a form of self-healing, as it can be a sign of nervousness as well as contentment.</td>\n",
       "      <td>2018-02-24T21:20:04.261Z</td>\n",
       "      <td>True</td>\n",
       "    </tr>\n",
       "    <tr>\n",
       "      <th>1</th>\n",
       "      <td>61d555f742bf74fddcf7f766</td>\n",
       "      <td>ПЫЩЩЩЩЩЩЩЩЩЩЩЩЩЩЩЩ.</td>\n",
       "      <td>2022-01-05T08:25:27.599Z</td>\n",
       "      <td>None</td>\n",
       "    </tr>\n",
       "    <tr>\n",
       "      <th>2</th>\n",
       "      <td>591f98803b90f7150a19c206</td>\n",
       "      <td>Cats can predict earthquakes. We humans are not 100% sure how they do it. There are several different theories.</td>\n",
       "      <td>2018-01-04T01:10:54.673Z</td>\n",
       "      <td>True</td>\n",
       "    </tr>\n",
       "    <tr>\n",
       "      <th>3</th>\n",
       "      <td>591f98783b90f7150a19c1e0</td>\n",
       "      <td>A cat has a total of 24 whiskers, 4 rows of whiskers on each side. The upper two rows can move independently of the bottom two rows.</td>\n",
       "      <td>2018-04-21T20:20:02.287Z</td>\n",
       "      <td>True</td>\n",
       "    </tr>\n",
       "    <tr>\n",
       "      <th>4</th>\n",
       "      <td>5a4d75e46ef087002174c284</td>\n",
       "      <td>Cats have about 130,000 hairs per square inch (20,155 hairs per square centimeter).</td>\n",
       "      <td>2018-04-05T20:20:05.171Z</td>\n",
       "      <td>True</td>\n",
       "    </tr>\n",
       "  </tbody>\n",
       "</table>\n",
       "</div>"
      ],
      "text/plain": [
       "                        _id  \\\n",
       "0  58e008a30aac31001185ed0b   \n",
       "1  61d555f742bf74fddcf7f766   \n",
       "2  591f98803b90f7150a19c206   \n",
       "3  591f98783b90f7150a19c1e0   \n",
       "4  5a4d75e46ef087002174c284   \n",
       "\n",
       "                                                                                                                                   text  \\\n",
       "0                                A cat's purr may be a form of self-healing, as it can be a sign of nervousness as well as contentment.   \n",
       "1                                                                                                                   ПЫЩЩЩЩЩЩЩЩЩЩЩЩЩЩЩЩ.   \n",
       "2                       Cats can predict earthquakes. We humans are not 100% sure how they do it. There are several different theories.   \n",
       "3  A cat has a total of 24 whiskers, 4 rows of whiskers on each side. The upper two rows can move independently of the bottom two rows.   \n",
       "4                                                   Cats have about 130,000 hairs per square inch (20,155 hairs per square centimeter).   \n",
       "\n",
       "                  createdAt verified  \n",
       "0  2018-02-24T21:20:04.261Z     True  \n",
       "1  2022-01-05T08:25:27.599Z     None  \n",
       "2  2018-01-04T01:10:54.673Z     True  \n",
       "3  2018-04-21T20:20:02.287Z     True  \n",
       "4  2018-04-05T20:20:05.171Z     True  "
      ]
     },
     "execution_count": 22,
     "metadata": {},
     "output_type": "execute_result"
    }
   ],
   "source": [
    "cat_df_slim.head()"
   ]
  },
  {
   "cell_type": "markdown",
   "id": "2edb2ffe-5608-47b7-8f17-e745173cac6c",
   "metadata": {},
   "source": [
    "#### Just the verified facts, pls"
   ]
  },
  {
   "cell_type": "code",
   "execution_count": 47,
   "id": "a53aad0d-dbfb-44b1-a295-7c790f7c7f21",
   "metadata": {},
   "outputs": [],
   "source": [
    "verified_df = cat_df_slim[cat_df_slim[\"verified\"] == True].copy()"
   ]
  },
  {
   "cell_type": "code",
   "execution_count": 48,
   "id": "70cae524-036c-436f-95d5-bd1741c511a5",
   "metadata": {},
   "outputs": [
    {
     "data": {
      "text/plain": [
       "299"
      ]
     },
     "execution_count": 48,
     "metadata": {},
     "output_type": "execute_result"
    }
   ],
   "source": [
    "len(verified_df)"
   ]
  },
  {
   "cell_type": "markdown",
   "id": "9729df76-427d-4911-a02d-e4fe71f19bc6",
   "metadata": {},
   "source": [
    "#### Find facts that mentions specific words? "
   ]
  },
  {
   "cell_type": "code",
   "execution_count": 49,
   "id": "f056df7f-39a6-4c10-bb94-d95db1112954",
   "metadata": {},
   "outputs": [
    {
     "data": {
      "text/html": [
       "<div>\n",
       "<style scoped>\n",
       "    .dataframe tbody tr th:only-of-type {\n",
       "        vertical-align: middle;\n",
       "    }\n",
       "\n",
       "    .dataframe tbody tr th {\n",
       "        vertical-align: top;\n",
       "    }\n",
       "\n",
       "    .dataframe thead th {\n",
       "        text-align: right;\n",
       "    }\n",
       "</style>\n",
       "<table border=\"1\" class=\"dataframe\">\n",
       "  <thead>\n",
       "    <tr style=\"text-align: right;\">\n",
       "      <th></th>\n",
       "      <th>_id</th>\n",
       "      <th>text</th>\n",
       "      <th>createdAt</th>\n",
       "      <th>verified</th>\n",
       "    </tr>\n",
       "  </thead>\n",
       "  <tbody>\n",
       "    <tr>\n",
       "      <th>44</th>\n",
       "      <td>5c60999ae549020014533038</td>\n",
       "      <td>Cats love playing with yarn, ribbons, and fishing-rode style toys. However, cats should not be left alone with anything that they could get tangled in.</td>\n",
       "      <td>2019-02-10T21:37:30.093Z</td>\n",
       "      <td>True</td>\n",
       "    </tr>\n",
       "    <tr>\n",
       "      <th>51</th>\n",
       "      <td>58e00a090aac31001185ed16</td>\n",
       "      <td>Cats make more than 100 different sounds whereas dogs make around 10.</td>\n",
       "      <td>2018-02-11T21:20:03.745Z</td>\n",
       "      <td>True</td>\n",
       "    </tr>\n",
       "    <tr>\n",
       "      <th>61</th>\n",
       "      <td>58e007cc0aac31001185ecf5</td>\n",
       "      <td>Cats are the most popular pet in the United States: There are 88 million pet cats and 74 million dogs.</td>\n",
       "      <td>2018-03-01T21:20:02.713Z</td>\n",
       "      <td>True</td>\n",
       "    </tr>\n",
       "    <tr>\n",
       "      <th>82</th>\n",
       "      <td>5887e1d85c873e0011036889</td>\n",
       "      <td>Cats make about 100 different sounds. Dogs make only about 10.</td>\n",
       "      <td>2018-01-15T21:20:00.003Z</td>\n",
       "      <td>True</td>\n",
       "    </tr>\n",
       "    <tr>\n",
       "      <th>88</th>\n",
       "      <td>591f98008dec2e14e3c20b0b</td>\n",
       "      <td>Cats have 30 teeth (12 incisors, 10 premolars, 4 canines, and 4 molars), while dogs have 42. Kittens have baby teeth, which are replaced by permanent teeth around the age of 7 months.</td>\n",
       "      <td>2018-01-04T01:10:54.673Z</td>\n",
       "      <td>True</td>\n",
       "    </tr>\n",
       "  </tbody>\n",
       "</table>\n",
       "</div>"
      ],
      "text/plain": [
       "                         _id  \\\n",
       "44  5c60999ae549020014533038   \n",
       "51  58e00a090aac31001185ed16   \n",
       "61  58e007cc0aac31001185ecf5   \n",
       "82  5887e1d85c873e0011036889   \n",
       "88  591f98008dec2e14e3c20b0b   \n",
       "\n",
       "                                                                                                                                                                                       text  \\\n",
       "44                                  Cats love playing with yarn, ribbons, and fishing-rode style toys. However, cats should not be left alone with anything that they could get tangled in.   \n",
       "51                                                                                                                    Cats make more than 100 different sounds whereas dogs make around 10.   \n",
       "61                                                                                   Cats are the most popular pet in the United States: There are 88 million pet cats and 74 million dogs.   \n",
       "82                                                                                                                           Cats make about 100 different sounds. Dogs make only about 10.   \n",
       "88  Cats have 30 teeth (12 incisors, 10 premolars, 4 canines, and 4 molars), while dogs have 42. Kittens have baby teeth, which are replaced by permanent teeth around the age of 7 months.   \n",
       "\n",
       "                   createdAt verified  \n",
       "44  2019-02-10T21:37:30.093Z     True  \n",
       "51  2018-02-11T21:20:03.745Z     True  \n",
       "61  2018-03-01T21:20:02.713Z     True  \n",
       "82  2018-01-15T21:20:00.003Z     True  \n",
       "88  2018-01-04T01:10:54.673Z     True  "
      ]
     },
     "execution_count": 49,
     "metadata": {},
     "output_type": "execute_result"
    }
   ],
   "source": [
    "verified_df[verified_df[\"text\"].str.lower().str.contains(\"dog|food|toys\")].head()"
   ]
  },
  {
   "cell_type": "code",
   "execution_count": null,
   "id": "df191938-2700-40a0-ba49-8b5dfb20bb2f",
   "metadata": {},
   "outputs": [],
   "source": []
  },
  {
   "cell_type": "markdown",
   "id": "779b6f93-c7b9-4876-8aab-988049cbb964",
   "metadata": {},
   "source": [
    "#### Find the oldest fact? "
   ]
  },
  {
   "cell_type": "code",
   "execution_count": 56,
   "id": "5cc4b157-3370-474f-aec6-1a516b74344e",
   "metadata": {},
   "outputs": [
    {
     "data": {
      "text/html": [
       "<div>\n",
       "<style scoped>\n",
       "    .dataframe tbody tr th:only-of-type {\n",
       "        vertical-align: middle;\n",
       "    }\n",
       "\n",
       "    .dataframe tbody tr th {\n",
       "        vertical-align: top;\n",
       "    }\n",
       "\n",
       "    .dataframe thead th {\n",
       "        text-align: right;\n",
       "    }\n",
       "</style>\n",
       "<table border=\"1\" class=\"dataframe\">\n",
       "  <thead>\n",
       "    <tr style=\"text-align: right;\">\n",
       "      <th></th>\n",
       "      <th>_id</th>\n",
       "      <th>text</th>\n",
       "      <th>createdAt</th>\n",
       "      <th>verified</th>\n",
       "      <th>date</th>\n",
       "    </tr>\n",
       "  </thead>\n",
       "  <tbody>\n",
       "    <tr>\n",
       "      <th>385</th>\n",
       "      <td>5daa192179186100154250c4</td>\n",
       "      <td>GitHub is a cloud source version control system where its mascot is an octocat, an anthropomorphized cat with five tentacles.</td>\n",
       "      <td>2019-10-18T19:57:21.696Z</td>\n",
       "      <td>True</td>\n",
       "      <td>2019-10-18</td>\n",
       "    </tr>\n",
       "    <tr>\n",
       "      <th>484</th>\n",
       "      <td>5d9c556168a764001553b382</td>\n",
       "      <td>A cat has 244 bones in its entire body—even more than a human, who only has 206 bones.</td>\n",
       "      <td>2019-10-08T09:22:41.032Z</td>\n",
       "      <td>True</td>\n",
       "      <td>2019-10-08</td>\n",
       "    </tr>\n",
       "    <tr>\n",
       "      <th>43</th>\n",
       "      <td>5d38be370f1c57001592f158</td>\n",
       "      <td>Kittens typically begin to engage in playful behavior at around four weeks of age.</td>\n",
       "      <td>2019-07-24T20:23:19.615Z</td>\n",
       "      <td>True</td>\n",
       "      <td>2019-07-24</td>\n",
       "    </tr>\n",
       "    <tr>\n",
       "      <th>414</th>\n",
       "      <td>5d38bc0c0f1c57001592f150</td>\n",
       "      <td>If your cat licks from the toilet, bathtub, or sink, she may be telling you something about the water bowl. Make sure it's clean, replace the water regularly to keep it from getting stale or developing a film on top, and if necessary, get a new bowl. Some cats prefer glass bowls to plastic.</td>\n",
       "      <td>2019-07-24T20:14:04.986Z</td>\n",
       "      <td>True</td>\n",
       "      <td>2019-07-24</td>\n",
       "    </tr>\n",
       "    <tr>\n",
       "      <th>290</th>\n",
       "      <td>5d38bbb20f1c57001592f14f</td>\n",
       "      <td>American Curl kittens are born with straight ears, but the ears begin to curl back after just a few days.</td>\n",
       "      <td>2019-07-24T20:12:34.736Z</td>\n",
       "      <td>True</td>\n",
       "      <td>2019-07-24</td>\n",
       "    </tr>\n",
       "  </tbody>\n",
       "</table>\n",
       "</div>"
      ],
      "text/plain": [
       "                          _id  \\\n",
       "385  5daa192179186100154250c4   \n",
       "484  5d9c556168a764001553b382   \n",
       "43   5d38be370f1c57001592f158   \n",
       "414  5d38bc0c0f1c57001592f150   \n",
       "290  5d38bbb20f1c57001592f14f   \n",
       "\n",
       "                                                                                                                                                                                                                                                                                                    text  \\\n",
       "385                                                                                                                                                                        GitHub is a cloud source version control system where its mascot is an octocat, an anthropomorphized cat with five tentacles.   \n",
       "484                                                                                                                                                                                                               A cat has 244 bones in its entire body—even more than a human, who only has 206 bones.   \n",
       "43                                                                                                                                                                                                                    Kittens typically begin to engage in playful behavior at around four weeks of age.   \n",
       "414  If your cat licks from the toilet, bathtub, or sink, she may be telling you something about the water bowl. Make sure it's clean, replace the water regularly to keep it from getting stale or developing a film on top, and if necessary, get a new bowl. Some cats prefer glass bowls to plastic.   \n",
       "290                                                                                                                                                                                            American Curl kittens are born with straight ears, but the ears begin to curl back after just a few days.   \n",
       "\n",
       "                    createdAt verified        date  \n",
       "385  2019-10-18T19:57:21.696Z     True  2019-10-18  \n",
       "484  2019-10-08T09:22:41.032Z     True  2019-10-08  \n",
       "43   2019-07-24T20:23:19.615Z     True  2019-07-24  \n",
       "414  2019-07-24T20:14:04.986Z     True  2019-07-24  \n",
       "290  2019-07-24T20:12:34.736Z     True  2019-07-24  "
      ]
     },
     "execution_count": 56,
     "metadata": {},
     "output_type": "execute_result"
    }
   ],
   "source": [
    "verified_df.sort_values(\"createdAt\", ascending=False).head()"
   ]
  },
  {
   "cell_type": "code",
   "execution_count": 51,
   "id": "29dcd9c8-c208-452d-a344-690d87dea2dd",
   "metadata": {},
   "outputs": [],
   "source": [
    "verified_df[\"date\"] = pd.to_datetime(verified_df[\"createdAt\"]).dt.strftime(\"%Y-%m-%d\")"
   ]
  },
  {
   "cell_type": "code",
   "execution_count": 52,
   "id": "c1eb9561-947d-4f74-87ee-95c5c3a91fdc",
   "metadata": {},
   "outputs": [
    {
     "data": {
      "text/html": [
       "<div>\n",
       "<style scoped>\n",
       "    .dataframe tbody tr th:only-of-type {\n",
       "        vertical-align: middle;\n",
       "    }\n",
       "\n",
       "    .dataframe tbody tr th {\n",
       "        vertical-align: top;\n",
       "    }\n",
       "\n",
       "    .dataframe thead th {\n",
       "        text-align: right;\n",
       "    }\n",
       "</style>\n",
       "<table border=\"1\" class=\"dataframe\">\n",
       "  <thead>\n",
       "    <tr style=\"text-align: right;\">\n",
       "      <th></th>\n",
       "      <th>_id</th>\n",
       "      <th>text</th>\n",
       "      <th>createdAt</th>\n",
       "      <th>verified</th>\n",
       "      <th>date</th>\n",
       "    </tr>\n",
       "  </thead>\n",
       "  <tbody>\n",
       "    <tr>\n",
       "      <th>0</th>\n",
       "      <td>58e008a30aac31001185ed0b</td>\n",
       "      <td>A cat's purr may be a form of self-healing, as it can be a sign of nervousness as well as contentment.</td>\n",
       "      <td>2018-02-24T21:20:04.261Z</td>\n",
       "      <td>True</td>\n",
       "      <td>2018-02-24</td>\n",
       "    </tr>\n",
       "    <tr>\n",
       "      <th>2</th>\n",
       "      <td>591f98803b90f7150a19c206</td>\n",
       "      <td>Cats can predict earthquakes. We humans are not 100% sure how they do it. There are several different theories.</td>\n",
       "      <td>2018-01-04T01:10:54.673Z</td>\n",
       "      <td>True</td>\n",
       "      <td>2018-01-04</td>\n",
       "    </tr>\n",
       "    <tr>\n",
       "      <th>3</th>\n",
       "      <td>591f98783b90f7150a19c1e0</td>\n",
       "      <td>A cat has a total of 24 whiskers, 4 rows of whiskers on each side. The upper two rows can move independently of the bottom two rows.</td>\n",
       "      <td>2018-04-21T20:20:02.287Z</td>\n",
       "      <td>True</td>\n",
       "      <td>2018-04-21</td>\n",
       "    </tr>\n",
       "    <tr>\n",
       "      <th>4</th>\n",
       "      <td>5a4d75e46ef087002174c284</td>\n",
       "      <td>Cats have about 130,000 hairs per square inch (20,155 hairs per square centimeter).</td>\n",
       "      <td>2018-04-05T20:20:05.171Z</td>\n",
       "      <td>True</td>\n",
       "      <td>2018-04-05</td>\n",
       "    </tr>\n",
       "    <tr>\n",
       "      <th>5</th>\n",
       "      <td>591f98803b90f7150a19c23e</td>\n",
       "      <td>Cats come back to full alertness from the sleep state faster than any other creature.</td>\n",
       "      <td>2018-06-01T20:20:02.011Z</td>\n",
       "      <td>True</td>\n",
       "      <td>2018-06-01</td>\n",
       "    </tr>\n",
       "  </tbody>\n",
       "</table>\n",
       "</div>"
      ],
      "text/plain": [
       "                        _id  \\\n",
       "0  58e008a30aac31001185ed0b   \n",
       "2  591f98803b90f7150a19c206   \n",
       "3  591f98783b90f7150a19c1e0   \n",
       "4  5a4d75e46ef087002174c284   \n",
       "5  591f98803b90f7150a19c23e   \n",
       "\n",
       "                                                                                                                                   text  \\\n",
       "0                                A cat's purr may be a form of self-healing, as it can be a sign of nervousness as well as contentment.   \n",
       "2                       Cats can predict earthquakes. We humans are not 100% sure how they do it. There are several different theories.   \n",
       "3  A cat has a total of 24 whiskers, 4 rows of whiskers on each side. The upper two rows can move independently of the bottom two rows.   \n",
       "4                                                   Cats have about 130,000 hairs per square inch (20,155 hairs per square centimeter).   \n",
       "5                                                 Cats come back to full alertness from the sleep state faster than any other creature.   \n",
       "\n",
       "                  createdAt verified        date  \n",
       "0  2018-02-24T21:20:04.261Z     True  2018-02-24  \n",
       "2  2018-01-04T01:10:54.673Z     True  2018-01-04  \n",
       "3  2018-04-21T20:20:02.287Z     True  2018-04-21  \n",
       "4  2018-04-05T20:20:05.171Z     True  2018-04-05  \n",
       "5  2018-06-01T20:20:02.011Z     True  2018-06-01  "
      ]
     },
     "execution_count": 52,
     "metadata": {},
     "output_type": "execute_result"
    }
   ],
   "source": [
    "verified_df.head()"
   ]
  },
  {
   "cell_type": "markdown",
   "id": "fc179617-2c81-4305-b778-a675efb88aac",
   "metadata": {},
   "source": [
    "#### Most recent verified fact?"
   ]
  },
  {
   "cell_type": "code",
   "execution_count": 55,
   "id": "484945bd-21f4-478e-9327-fd9927501bfa",
   "metadata": {},
   "outputs": [
    {
     "data": {
      "text/html": [
       "<div>\n",
       "<style scoped>\n",
       "    .dataframe tbody tr th:only-of-type {\n",
       "        vertical-align: middle;\n",
       "    }\n",
       "\n",
       "    .dataframe tbody tr th {\n",
       "        vertical-align: top;\n",
       "    }\n",
       "\n",
       "    .dataframe thead th {\n",
       "        text-align: right;\n",
       "    }\n",
       "</style>\n",
       "<table border=\"1\" class=\"dataframe\">\n",
       "  <thead>\n",
       "    <tr style=\"text-align: right;\">\n",
       "      <th></th>\n",
       "      <th>_id</th>\n",
       "      <th>text</th>\n",
       "      <th>createdAt</th>\n",
       "      <th>verified</th>\n",
       "      <th>date</th>\n",
       "    </tr>\n",
       "  </thead>\n",
       "  <tbody>\n",
       "    <tr>\n",
       "      <th>385</th>\n",
       "      <td>5daa192179186100154250c4</td>\n",
       "      <td>GitHub is a cloud source version control system where its mascot is an octocat, an anthropomorphized cat with five tentacles.</td>\n",
       "      <td>2019-10-18T19:57:21.696Z</td>\n",
       "      <td>True</td>\n",
       "      <td>2019-10-18</td>\n",
       "    </tr>\n",
       "    <tr>\n",
       "      <th>484</th>\n",
       "      <td>5d9c556168a764001553b382</td>\n",
       "      <td>A cat has 244 bones in its entire body—even more than a human, who only has 206 bones.</td>\n",
       "      <td>2019-10-08T09:22:41.032Z</td>\n",
       "      <td>True</td>\n",
       "      <td>2019-10-08</td>\n",
       "    </tr>\n",
       "    <tr>\n",
       "      <th>414</th>\n",
       "      <td>5d38bc0c0f1c57001592f150</td>\n",
       "      <td>If your cat licks from the toilet, bathtub, or sink, she may be telling you something about the water bowl. Make sure it's clean, replace the water regularly to keep it from getting stale or developing a film on top, and if necessary, get a new bowl. Some cats prefer glass bowls to plastic.</td>\n",
       "      <td>2019-07-24T20:14:04.986Z</td>\n",
       "      <td>True</td>\n",
       "      <td>2019-07-24</td>\n",
       "    </tr>\n",
       "    <tr>\n",
       "      <th>12</th>\n",
       "      <td>5d38b5b50f1c57001592f131</td>\n",
       "      <td>Andy Warhol amassed quite the collection of feline friends during his lifetime, beginning with a Siamese cat named Hester that was given to him by actress Gloria Swanson. By breeding Hester with a cat named Sam, Warhol ended up with multiple litters of kittens, at one point housing 25 cats in his Upper East Side townhouse in NYC.</td>\n",
       "      <td>2019-07-24T19:47:01.970Z</td>\n",
       "      <td>True</td>\n",
       "      <td>2019-07-24</td>\n",
       "    </tr>\n",
       "    <tr>\n",
       "      <th>290</th>\n",
       "      <td>5d38bbb20f1c57001592f14f</td>\n",
       "      <td>American Curl kittens are born with straight ears, but the ears begin to curl back after just a few days.</td>\n",
       "      <td>2019-07-24T20:12:34.736Z</td>\n",
       "      <td>True</td>\n",
       "      <td>2019-07-24</td>\n",
       "    </tr>\n",
       "  </tbody>\n",
       "</table>\n",
       "</div>"
      ],
      "text/plain": [
       "                          _id  \\\n",
       "385  5daa192179186100154250c4   \n",
       "484  5d9c556168a764001553b382   \n",
       "414  5d38bc0c0f1c57001592f150   \n",
       "12   5d38b5b50f1c57001592f131   \n",
       "290  5d38bbb20f1c57001592f14f   \n",
       "\n",
       "                                                                                                                                                                                                                                                                                                                                            text  \\\n",
       "385                                                                                                                                                                                                                GitHub is a cloud source version control system where its mascot is an octocat, an anthropomorphized cat with five tentacles.   \n",
       "484                                                                                                                                                                                                                                                       A cat has 244 bones in its entire body—even more than a human, who only has 206 bones.   \n",
       "414                                          If your cat licks from the toilet, bathtub, or sink, she may be telling you something about the water bowl. Make sure it's clean, replace the water regularly to keep it from getting stale or developing a film on top, and if necessary, get a new bowl. Some cats prefer glass bowls to plastic.   \n",
       "12   Andy Warhol amassed quite the collection of feline friends during his lifetime, beginning with a Siamese cat named Hester that was given to him by actress Gloria Swanson. By breeding Hester with a cat named Sam, Warhol ended up with multiple litters of kittens, at one point housing 25 cats in his Upper East Side townhouse in NYC.   \n",
       "290                                                                                                                                                                                                                                    American Curl kittens are born with straight ears, but the ears begin to curl back after just a few days.   \n",
       "\n",
       "                    createdAt verified        date  \n",
       "385  2019-10-18T19:57:21.696Z     True  2019-10-18  \n",
       "484  2019-10-08T09:22:41.032Z     True  2019-10-08  \n",
       "414  2019-07-24T20:14:04.986Z     True  2019-07-24  \n",
       "12   2019-07-24T19:47:01.970Z     True  2019-07-24  \n",
       "290  2019-07-24T20:12:34.736Z     True  2019-07-24  "
      ]
     },
     "execution_count": 55,
     "metadata": {},
     "output_type": "execute_result"
    }
   ],
   "source": [
    "verified_df.sort_values(\"date\", ascending=False).head()"
   ]
  },
  {
   "cell_type": "markdown",
   "id": "1cea13ed-842c-48cd-8522-06859a25a992",
   "metadata": {},
   "source": [
    "---"
   ]
  },
  {
   "cell_type": "markdown",
   "id": "da50f0d9-5b44-42e6-9112-950ebf7deef5",
   "metadata": {},
   "source": [
    "## Dad jokes!"
   ]
  },
  {
   "cell_type": "markdown",
   "id": "4b661117-ead2-4905-bb99-e7d1a21ac3b4",
   "metadata": {},
   "source": [
    "[Read the documentation](https://icanhazdadjoke.com/api#fetch-a-random-dad-joke)"
   ]
  },
  {
   "cell_type": "markdown",
   "id": "545cac74-46f5-42c8-99c4-3b76ab9fce26",
   "metadata": {},
   "source": [
    "#### Give the request headers so the API knows how to answer it"
   ]
  },
  {
   "cell_type": "code",
   "execution_count": 58,
   "id": "a5f7a050-8817-4b8e-b01c-e803d326c7a1",
   "metadata": {},
   "outputs": [],
   "source": [
    "headers = {\n",
    "    \"Accept\": \"application/json\",\n",
    "}"
   ]
  },
  {
   "cell_type": "markdown",
   "id": "6c36b6fc-a7a3-4bed-96d7-6d55155a5ebc",
   "metadata": {},
   "source": [
    "#### Get a response from the API in the format we requested"
   ]
  },
  {
   "cell_type": "code",
   "execution_count": 59,
   "id": "3beca3aa-5f97-47a4-9005-a2b43a9bfaaf",
   "metadata": {},
   "outputs": [],
   "source": [
    "response = requests.get(\"https://icanhazdadjoke.com/search?page=1\", headers=headers)"
   ]
  },
  {
   "cell_type": "markdown",
   "id": "bd5f5213-6217-487d-9bda-ee4ef9fe77e7",
   "metadata": {},
   "source": [
    "#### What comes back?"
   ]
  },
  {
   "cell_type": "code",
   "execution_count": 60,
   "id": "a1738b72-221d-4dbd-be09-9db02c517ba6",
   "metadata": {},
   "outputs": [
    {
     "data": {
      "text/plain": [
       "{'current_page': 1,\n",
       " 'limit': 20,\n",
       " 'next_page': 2,\n",
       " 'previous_page': 1,\n",
       " 'results': [{'id': '0189hNRf2g',\n",
       "   'joke': \"I'm tired of following my dreams. I'm just going to ask them where they are going and meet up with them later.\"},\n",
       "  {'id': '08EQZ8EQukb',\n",
       "   'joke': \"Did you hear about the guy whose whole left side was cut off? He's all right now.\"},\n",
       "  {'id': '08xHQCdx5Ed',\n",
       "   'joke': 'Why didn’t the skeleton cross the road? Because he had no guts.'},\n",
       "  {'id': '0DQKB51oGlb',\n",
       "   'joke': \"What did one nut say as he chased another nut?  I'm a cashew!\"},\n",
       "  {'id': '0DtrrOZDlyd',\n",
       "   'joke': \"Chances are if you' ve seen one shopping center, you've seen a mall.\"},\n",
       "  {'id': '0LuXvkq4Muc',\n",
       "   'joke': \"I knew I shouldn't steal a mixer from work, but it was a whisk I was willing to take.\"},\n",
       "  {'id': '0ga2EdN7prc',\n",
       "   'joke': 'How come the stadium got hot after the game? Because all of the fans left.'},\n",
       "  {'id': '0oO71TSv4Ed',\n",
       "   'joke': 'Why was it called the dark ages? Because of all the knights. '},\n",
       "  {'id': '0oz51ozk3ob', 'joke': 'A steak pun is a rare medium well done.'},\n",
       "  {'id': '0ozAXv4Mmjb',\n",
       "   'joke': 'Why did the tomato blush? Because it saw the salad dressing.'},\n",
       "  {'id': '0wcFBQfiGBd',\n",
       "   'joke': 'Did you hear the joke about the wandering nun? She was a roman catholic.'},\n",
       "  {'id': '189xHQ7pOuc',\n",
       "   'joke': 'What creature is smarter than a talking parrot? A spelling bee.'},\n",
       "  {'id': '18Elj3EIYvc',\n",
       "   'joke': \"I'll tell you what often gets over looked... garden fences.\"},\n",
       "  {'id': '18h3wcU8xAd',\n",
       "   'joke': 'Why did the kid cross the playground? To get to the other slide.'},\n",
       "  {'id': '1DIRSfx51Dd',\n",
       "   'joke': \"Why do birds fly south for the winter? Because it's too far to walk.\"},\n",
       "  {'id': '1DQZDY0gVnb',\n",
       "   'joke': \"What is a centipedes's favorite Beatle song?  I want to hold your hand, hand, hand, hand...\"},\n",
       "  {'id': '1DQZvXvX8Ed',\n",
       "   'joke': 'My first time using an elevator was an uplifting experience. The second time let me down.'},\n",
       "  {'id': '1DQZvcFBdib', 'joke': \"To be Frank, I'd have to change my name.\"},\n",
       "  {'id': '1Dt4M7Ufaxc',\n",
       "   'joke': 'Slept like a log last night … woke up in the fireplace.'},\n",
       "  {'id': '1T01LBXLuzd',\n",
       "   'joke': \"Why does a Moon-rock taste better than an Earth-rock? Because it's a little meteor.\"}],\n",
       " 'search_term': '',\n",
       " 'status': 200,\n",
       " 'total_jokes': 649,\n",
       " 'total_pages': 33}"
      ]
     },
     "execution_count": 60,
     "metadata": {},
     "output_type": "execute_result"
    }
   ],
   "source": [
    "response.json()"
   ]
  },
  {
   "cell_type": "markdown",
   "id": "74836972-64aa-4557-8d44-87be2ea316e6",
   "metadata": {},
   "source": [
    "#### What's the limit per API call? "
   ]
  },
  {
   "cell_type": "code",
   "execution_count": 67,
   "id": "f8bc9d6b-da8c-42a3-b2ae-1671bb6a8f8e",
   "metadata": {},
   "outputs": [
    {
     "data": {
      "text/plain": [
       "{'current_page': 1,\n",
       " 'limit': 20,\n",
       " 'next_page': 2,\n",
       " 'previous_page': 1,\n",
       " 'results': [{'id': '0189hNRf2g',\n",
       "   'joke': \"I'm tired of following my dreams. I'm just going to ask them where they are going and meet up with them later.\"},\n",
       "  {'id': '08EQZ8EQukb',\n",
       "   'joke': \"Did you hear about the guy whose whole left side was cut off? He's all right now.\"},\n",
       "  {'id': '08xHQCdx5Ed',\n",
       "   'joke': 'Why didn’t the skeleton cross the road? Because he had no guts.'},\n",
       "  {'id': '0DQKB51oGlb',\n",
       "   'joke': \"What did one nut say as he chased another nut?  I'm a cashew!\"},\n",
       "  {'id': '0DtrrOZDlyd',\n",
       "   'joke': \"Chances are if you' ve seen one shopping center, you've seen a mall.\"},\n",
       "  {'id': '0LuXvkq4Muc',\n",
       "   'joke': \"I knew I shouldn't steal a mixer from work, but it was a whisk I was willing to take.\"},\n",
       "  {'id': '0ga2EdN7prc',\n",
       "   'joke': 'How come the stadium got hot after the game? Because all of the fans left.'},\n",
       "  {'id': '0oO71TSv4Ed',\n",
       "   'joke': 'Why was it called the dark ages? Because of all the knights. '},\n",
       "  {'id': '0oz51ozk3ob', 'joke': 'A steak pun is a rare medium well done.'},\n",
       "  {'id': '0ozAXv4Mmjb',\n",
       "   'joke': 'Why did the tomato blush? Because it saw the salad dressing.'},\n",
       "  {'id': '0wcFBQfiGBd',\n",
       "   'joke': 'Did you hear the joke about the wandering nun? She was a roman catholic.'},\n",
       "  {'id': '189xHQ7pOuc',\n",
       "   'joke': 'What creature is smarter than a talking parrot? A spelling bee.'},\n",
       "  {'id': '18Elj3EIYvc',\n",
       "   'joke': \"I'll tell you what often gets over looked... garden fences.\"},\n",
       "  {'id': '18h3wcU8xAd',\n",
       "   'joke': 'Why did the kid cross the playground? To get to the other slide.'},\n",
       "  {'id': '1DIRSfx51Dd',\n",
       "   'joke': \"Why do birds fly south for the winter? Because it's too far to walk.\"},\n",
       "  {'id': '1DQZDY0gVnb',\n",
       "   'joke': \"What is a centipedes's favorite Beatle song?  I want to hold your hand, hand, hand, hand...\"},\n",
       "  {'id': '1DQZvXvX8Ed',\n",
       "   'joke': 'My first time using an elevator was an uplifting experience. The second time let me down.'},\n",
       "  {'id': '1DQZvcFBdib', 'joke': \"To be Frank, I'd have to change my name.\"},\n",
       "  {'id': '1Dt4M7Ufaxc',\n",
       "   'joke': 'Slept like a log last night … woke up in the fireplace.'},\n",
       "  {'id': '1T01LBXLuzd',\n",
       "   'joke': \"Why does a Moon-rock taste better than an Earth-rock? Because it's a little meteor.\"}],\n",
       " 'search_term': '',\n",
       " 'status': 200,\n",
       " 'total_jokes': 649,\n",
       " 'total_pages': 33}"
      ]
     },
     "execution_count": 67,
     "metadata": {},
     "output_type": "execute_result"
    }
   ],
   "source": [
    "response.json()"
   ]
  },
  {
   "cell_type": "markdown",
   "id": "3421f21a-befb-49f9-bd8f-ea0a5cb9d702",
   "metadata": {},
   "source": [
    "#### How many total jokes? "
   ]
  },
  {
   "cell_type": "code",
   "execution_count": 66,
   "id": "6a6c30cf-f0fe-4aca-992c-80ca69c5c7da",
   "metadata": {},
   "outputs": [
    {
     "data": {
      "text/plain": [
       "649"
      ]
     },
     "execution_count": 66,
     "metadata": {},
     "output_type": "execute_result"
    }
   ],
   "source": [
    "response.json()[\"total_jokes\"]"
   ]
  },
  {
   "cell_type": "markdown",
   "id": "8545cf74-5e07-4f6a-96d2-226c129f8276",
   "metadata": {},
   "source": [
    "#### How many pages of 20 jokes? "
   ]
  },
  {
   "cell_type": "code",
   "execution_count": 68,
   "id": "819b33b4-dcfe-488e-9501-e9c8dbbcb008",
   "metadata": {},
   "outputs": [
    {
     "data": {
      "text/plain": [
       "33"
      ]
     },
     "execution_count": 68,
     "metadata": {},
     "output_type": "execute_result"
    }
   ],
   "source": [
    "response.json()[\"total_pages\"]"
   ]
  },
  {
   "cell_type": "markdown",
   "id": "c2024f47-4ed9-4209-aeed-94ebf195eff1",
   "metadata": {},
   "source": [
    "#### Ok, just the jokes"
   ]
  },
  {
   "cell_type": "code",
   "execution_count": 64,
   "id": "cff80dff-e568-4f2d-843e-18c494f88a75",
   "metadata": {},
   "outputs": [],
   "source": [
    "jokes_df = pd.DataFrame(response.json()[\"results\"])"
   ]
  },
  {
   "cell_type": "markdown",
   "id": "a3cce074-468e-443e-8d43-e13ad3f6e702",
   "metadata": {},
   "source": [
    "#### How many records?"
   ]
  },
  {
   "cell_type": "code",
   "execution_count": 65,
   "id": "353b9393-c717-4b52-a19d-44ecbf793e16",
   "metadata": {},
   "outputs": [
    {
     "data": {
      "text/plain": [
       "20"
      ]
     },
     "execution_count": 65,
     "metadata": {},
     "output_type": "execute_result"
    }
   ],
   "source": [
    "len(jokes_df)"
   ]
  },
  {
   "cell_type": "markdown",
   "id": "31409e11-3a00-465f-80da-59f18eacbba8",
   "metadata": {},
   "source": [
    "#### Get all the jokes with a loop"
   ]
  },
  {
   "cell_type": "code",
   "execution_count": 72,
   "id": "723d8553-dce0-42ad-8467-684e24a423e3",
   "metadata": {},
   "outputs": [],
   "source": [
    "data_pages = []\n",
    "\n",
    "for r in range(0, 34):\n",
    "    data_pages.append(\n",
    "        pd.DataFrame(\n",
    "            requests.get(\n",
    "                f\"https://icanhazdadjoke.com/search?page={r}\", headers=headers\n",
    "            ).json()[\"results\"]\n",
    "        )\n",
    "    )\n",
    "\n",
    "jokes_df = pd.concat(data_pages).reset_index(drop=True)"
   ]
  },
  {
   "cell_type": "markdown",
   "id": "2bc5b2ba-7bc8-4de5-8d73-9a6c440d4934",
   "metadata": {},
   "source": [
    "#### How many? "
   ]
  },
  {
   "cell_type": "code",
   "execution_count": 73,
   "id": "42d445b1-9ed5-460e-a66d-41ccbfcd6659",
   "metadata": {},
   "outputs": [
    {
     "data": {
      "text/plain": [
       "669"
      ]
     },
     "execution_count": 73,
     "metadata": {},
     "output_type": "execute_result"
    }
   ],
   "source": [
    "len(jokes_df)"
   ]
  },
  {
   "cell_type": "code",
   "execution_count": 74,
   "id": "279075b6-45b5-45a2-9b64-c50a064829d1",
   "metadata": {},
   "outputs": [
    {
     "data": {
      "text/html": [
       "<div>\n",
       "<style scoped>\n",
       "    .dataframe tbody tr th:only-of-type {\n",
       "        vertical-align: middle;\n",
       "    }\n",
       "\n",
       "    .dataframe tbody tr th {\n",
       "        vertical-align: top;\n",
       "    }\n",
       "\n",
       "    .dataframe thead th {\n",
       "        text-align: right;\n",
       "    }\n",
       "</style>\n",
       "<table border=\"1\" class=\"dataframe\">\n",
       "  <thead>\n",
       "    <tr style=\"text-align: right;\">\n",
       "      <th></th>\n",
       "      <th>id</th>\n",
       "      <th>joke</th>\n",
       "    </tr>\n",
       "  </thead>\n",
       "  <tbody>\n",
       "    <tr>\n",
       "      <th>0</th>\n",
       "      <td>0189hNRf2g</td>\n",
       "      <td>I'm tired of following my dreams. I'm just going to ask them where they are going and meet up with them later.</td>\n",
       "    </tr>\n",
       "    <tr>\n",
       "      <th>1</th>\n",
       "      <td>08EQZ8EQukb</td>\n",
       "      <td>Did you hear about the guy whose whole left side was cut off? He's all right now.</td>\n",
       "    </tr>\n",
       "    <tr>\n",
       "      <th>2</th>\n",
       "      <td>08xHQCdx5Ed</td>\n",
       "      <td>Why didn’t the skeleton cross the road? Because he had no guts.</td>\n",
       "    </tr>\n",
       "    <tr>\n",
       "      <th>3</th>\n",
       "      <td>0DQKB51oGlb</td>\n",
       "      <td>What did one nut say as he chased another nut?  I'm a cashew!</td>\n",
       "    </tr>\n",
       "    <tr>\n",
       "      <th>4</th>\n",
       "      <td>0DtrrOZDlyd</td>\n",
       "      <td>Chances are if you' ve seen one shopping center, you've seen a mall.</td>\n",
       "    </tr>\n",
       "  </tbody>\n",
       "</table>\n",
       "</div>"
      ],
      "text/plain": [
       "            id  \\\n",
       "0   0189hNRf2g   \n",
       "1  08EQZ8EQukb   \n",
       "2  08xHQCdx5Ed   \n",
       "3  0DQKB51oGlb   \n",
       "4  0DtrrOZDlyd   \n",
       "\n",
       "                                                                                                             joke  \n",
       "0  I'm tired of following my dreams. I'm just going to ask them where they are going and meet up with them later.  \n",
       "1                               Did you hear about the guy whose whole left side was cut off? He's all right now.  \n",
       "2                                                 Why didn’t the skeleton cross the road? Because he had no guts.  \n",
       "3                                                   What did one nut say as he chased another nut?  I'm a cashew!  \n",
       "4                                            Chances are if you' ve seen one shopping center, you've seen a mall.  "
      ]
     },
     "execution_count": 74,
     "metadata": {},
     "output_type": "execute_result"
    }
   ],
   "source": [
    "jokes_df.head()"
   ]
  },
  {
   "cell_type": "code",
   "execution_count": 75,
   "id": "c8160f86-7e45-4d3a-a951-133b92878ad6",
   "metadata": {},
   "outputs": [],
   "source": [
    "jokes_df.to_csv(\"../../data/processed/dad-jokes.csv\", index=False)"
   ]
  }
 ],
 "metadata": {
  "kernelspec": {
   "display_name": "Python 3",
   "language": "python",
   "name": "python3"
  },
  "language_info": {
   "codemirror_mode": {
    "name": "ipython",
    "version": 3
   },
   "file_extension": ".py",
   "mimetype": "text/x-python",
   "name": "python",
   "nbconvert_exporter": "python",
   "pygments_lexer": "ipython3",
   "version": "3.8.8"
  }
 },
 "nbformat": 4,
 "nbformat_minor": 5
}
