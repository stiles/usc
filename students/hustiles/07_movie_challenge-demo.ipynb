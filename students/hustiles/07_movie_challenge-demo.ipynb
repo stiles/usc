{
 "cells": [
  {
   "cell_type": "markdown",
   "id": "b7d85d1e-898b-4e69-931a-d26df4d856a4",
   "metadata": {},
   "source": [
    "# IMDB movie ratings"
   ]
  },
  {
   "cell_type": "markdown",
   "id": "7630749f-b12f-4dd7-8037-0245b81dfcec",
   "metadata": {},
   "source": [
    "#### Import python tools"
   ]
  },
  {
   "cell_type": "code",
   "execution_count": 1,
   "id": "c33dce56-aed0-4aa9-b430-0b7a42408895",
   "metadata": {},
   "outputs": [],
   "source": [
    "%load_ext lab_black"
   ]
  },
  {
   "cell_type": "code",
   "execution_count": 2,
   "id": "df79ce59-7408-4067-95ca-593236256d5b",
   "metadata": {},
   "outputs": [],
   "source": [
    "import pandas as pd"
   ]
  },
  {
   "cell_type": "markdown",
   "id": "515684cf-e6dd-4639-9c9a-42318fa70aa5",
   "metadata": {},
   "source": [
    "## Read our data"
   ]
  },
  {
   "cell_type": "code",
   "execution_count": 3,
   "id": "2fc71f8b-e2df-4aa3-81e7-164bafb760a4",
   "metadata": {},
   "outputs": [],
   "source": [
    "url = \"https://raw.githubusercontent.com/stiles/usc/main/data/raw/imdb_1000.csv\""
   ]
  },
  {
   "cell_type": "markdown",
   "id": "c5eb1a55-2652-4ff8-b601-de8465bce9da",
   "metadata": {},
   "source": [
    "#### Create a movies dataframe, and sort it by title"
   ]
  },
  {
   "cell_type": "code",
   "execution_count": null,
   "id": "bb89dd99-c57f-4d9a-94be-2d09e5923466",
   "metadata": {},
   "outputs": [],
   "source": []
  },
  {
   "cell_type": "markdown",
   "id": "48712998-dc9d-422f-a3e4-abc16fd54f88",
   "metadata": {},
   "source": [
    "#### First five rows?"
   ]
  },
  {
   "cell_type": "code",
   "execution_count": null,
   "id": "03bb6eff-1b17-43d6-a0a1-ca6c765300b4",
   "metadata": {},
   "outputs": [],
   "source": []
  },
  {
   "cell_type": "markdown",
   "id": "172c5c63-6eda-484a-81da-3b3dfe6589f0",
   "metadata": {},
   "source": [
    "#### Use the `describe()` method to see the distribution"
   ]
  },
  {
   "cell_type": "code",
   "execution_count": null,
   "id": "90021c19-fed4-4619-84b4-c15bcb71cd6c",
   "metadata": {},
   "outputs": [],
   "source": []
  },
  {
   "cell_type": "markdown",
   "id": "04c093c0-6b31-4bd8-9dd8-9e9cea80e004",
   "metadata": {},
   "source": [
    "---"
   ]
  },
  {
   "cell_type": "markdown",
   "id": "d9675971-e6e9-49a7-a237-028d043f33b9",
   "metadata": {},
   "source": [
    "## Categorization exercise"
   ]
  },
  {
   "cell_type": "markdown",
   "id": "b84119c2-fe4d-4914-8f95-4650e7c8acb9",
   "metadata": {},
   "source": [
    "#### What do you consider a 'long' movie? "
   ]
  },
  {
   "cell_type": "code",
   "execution_count": null,
   "id": "7cefa30d-befc-46a8-9a0b-e8f6ec35489f",
   "metadata": {},
   "outputs": [],
   "source": []
  },
  {
   "cell_type": "code",
   "execution_count": null,
   "id": "31a05f1c-b16d-4eda-8b11-32a2e3f9ff9b",
   "metadata": {},
   "outputs": [],
   "source": []
  },
  {
   "cell_type": "markdown",
   "id": "ef1692cf-5a5f-43fc-9f1f-5e2896db1975",
   "metadata": {},
   "source": [
    "#### Boolean categorization function"
   ]
  },
  {
   "cell_type": "code",
   "execution_count": null,
   "id": "82a59cdb-74cd-4fc1-93c1-f080dae18a11",
   "metadata": {},
   "outputs": [],
   "source": []
  },
  {
   "cell_type": "markdown",
   "id": "fcd60d5c-9704-4b5c-a3bf-c6b09962919c",
   "metadata": {},
   "source": [
    "#### Apply that to our duration column as a new column"
   ]
  },
  {
   "cell_type": "code",
   "execution_count": null,
   "id": "c25f9f42-0398-45f0-83ab-5525d4b7359a",
   "metadata": {},
   "outputs": [],
   "source": []
  },
  {
   "cell_type": "code",
   "execution_count": null,
   "id": "2beca6d5-73ad-45a8-bbe1-4a21dcce9023",
   "metadata": {},
   "outputs": [],
   "source": []
  },
  {
   "cell_type": "code",
   "execution_count": null,
   "id": "07a9bfb6-990d-4044-8b2e-124ca159b937",
   "metadata": {},
   "outputs": [],
   "source": []
  },
  {
   "cell_type": "markdown",
   "id": "80005bf4-96e7-4476-b6c7-ace02b928e88",
   "metadata": {},
   "source": [
    "---"
   ]
  },
  {
   "cell_type": "markdown",
   "id": "93f8f0b3-4f86-4af2-8638-32ffc08dceb9",
   "metadata": {},
   "source": [
    "## Looping exercise"
   ]
  },
  {
   "cell_type": "code",
   "execution_count": null,
   "id": "0c6c9993-1b00-446d-a4a6-50bc01dd96b4",
   "metadata": {},
   "outputs": [],
   "source": []
  },
  {
   "cell_type": "code",
   "execution_count": 4,
   "id": "e34f4f1e-3690-494d-9bfb-6044fdeaa519",
   "metadata": {},
   "outputs": [],
   "source": [
    "# https://www.imdb.com/search/title/?genres=comedy"
   ]
  },
  {
   "cell_type": "code",
   "execution_count": null,
   "id": "a87074bc-650f-42b3-8158-fd06074c49d7",
   "metadata": {},
   "outputs": [],
   "source": []
  },
  {
   "cell_type": "code",
   "execution_count": null,
   "id": "82f0c6f3-61d2-4b1f-94ce-9186c32f6221",
   "metadata": {},
   "outputs": [],
   "source": []
  },
  {
   "cell_type": "code",
   "execution_count": null,
   "id": "8330d0c8-0017-456c-84c9-c7dc45a64cdf",
   "metadata": {},
   "outputs": [],
   "source": []
  },
  {
   "cell_type": "code",
   "execution_count": null,
   "id": "ca808d8e-862c-41ab-bd62-ecd2ba34c0bc",
   "metadata": {},
   "outputs": [],
   "source": []
  },
  {
   "cell_type": "markdown",
   "id": "6e5a5065-b342-4e4b-bfee-06a369db1779",
   "metadata": {},
   "source": [
    "---"
   ]
  },
  {
   "cell_type": "markdown",
   "id": "9dee68b0-2a9d-4184-a173-321c16cdd084",
   "metadata": {},
   "source": [
    "### Questions"
   ]
  },
  {
   "cell_type": "markdown",
   "id": "ff727de8-4204-4dcb-96d6-64a8fc932148",
   "metadata": {},
   "source": [
    "#### How many crime movies vs. other types? "
   ]
  },
  {
   "cell_type": "code",
   "execution_count": null,
   "id": "63e635a3-42ca-4569-9a15-609408e14f79",
   "metadata": {},
   "outputs": [],
   "source": []
  },
  {
   "cell_type": "markdown",
   "id": "ef1ddc2b-a910-475f-99a8-b55ebc0de686",
   "metadata": {},
   "source": [
    "#### Which movie featuring Jack Nicholson had the highest star rating? "
   ]
  },
  {
   "cell_type": "code",
   "execution_count": null,
   "id": "8c028096-ae6e-4b85-b8ff-a617190d3131",
   "metadata": {},
   "outputs": [],
   "source": []
  },
  {
   "cell_type": "markdown",
   "id": "b63335eb-3030-4c54-a338-1eb3ab8b20a2",
   "metadata": {},
   "source": [
    "#### How does the average duration of dramas compare with other genres? "
   ]
  },
  {
   "cell_type": "code",
   "execution_count": null,
   "id": "2f1c1c83-51c0-4453-8755-68f192a40560",
   "metadata": {},
   "outputs": [],
   "source": []
  },
  {
   "cell_type": "code",
   "execution_count": null,
   "id": "01b587ed-84f5-42e9-8370-1a132f6e2f30",
   "metadata": {},
   "outputs": [],
   "source": []
  },
  {
   "cell_type": "markdown",
   "id": "e2434494-2911-4c40-840c-0f2f3200550f",
   "metadata": {},
   "source": [
    "#### How many movies contain Al Pacino?"
   ]
  },
  {
   "cell_type": "code",
   "execution_count": null,
   "id": "47c8e855-c8b2-4c71-87cf-4d674a4ac9bf",
   "metadata": {},
   "outputs": [],
   "source": []
  },
  {
   "cell_type": "code",
   "execution_count": null,
   "id": "a26d28e6-b58d-4187-9c58-c37413de1ac7",
   "metadata": {},
   "outputs": [],
   "source": []
  },
  {
   "cell_type": "markdown",
   "id": "77a48eef-567c-4dfd-bb38-b2f23b584130",
   "metadata": {},
   "source": [
    "#### What's the longest PG-13 action movie? "
   ]
  },
  {
   "cell_type": "code",
   "execution_count": null,
   "id": "499d0be9-6123-4a27-8894-d9afe23a126f",
   "metadata": {},
   "outputs": [],
   "source": []
  },
  {
   "cell_type": "code",
   "execution_count": null,
   "id": "678b7825-4436-4c03-b2c6-9b8b587f5425",
   "metadata": {},
   "outputs": [],
   "source": []
  },
  {
   "cell_type": "markdown",
   "id": "e602b22e-c952-45a3-ac32-014e0b316209",
   "metadata": {},
   "source": [
    "#### Which genre has the highest star rating?"
   ]
  },
  {
   "cell_type": "code",
   "execution_count": null,
   "id": "74573dc4-843d-4dd1-9f90-0083229ed648",
   "metadata": {},
   "outputs": [],
   "source": []
  },
  {
   "cell_type": "code",
   "execution_count": null,
   "id": "8a8848ff-f5b4-4d3c-a29a-3ba826a7ecca",
   "metadata": {},
   "outputs": [],
   "source": []
  },
  {
   "cell_type": "markdown",
   "id": "80b4783b-afd4-417b-bb25-0289fae25af4",
   "metadata": {},
   "source": [
    "#### How many movies contain the word 'city'? "
   ]
  },
  {
   "cell_type": "code",
   "execution_count": null,
   "id": "d6f3c6ef-af87-4981-b45b-73e5a6e56431",
   "metadata": {},
   "outputs": [],
   "source": []
  },
  {
   "cell_type": "code",
   "execution_count": null,
   "id": "81272960-5355-426e-bb68-f893fe6ee045",
   "metadata": {},
   "outputs": [],
   "source": []
  },
  {
   "cell_type": "markdown",
   "id": "83e5d8ca-8cf0-4608-8c8b-f78c47b236e2",
   "metadata": {},
   "source": [
    "#### Do long movies have a higher average star rating than not long movies?"
   ]
  },
  {
   "cell_type": "code",
   "execution_count": null,
   "id": "5a9a0d36-1183-41d9-93d1-41162463cfc6",
   "metadata": {},
   "outputs": [],
   "source": []
  },
  {
   "cell_type": "code",
   "execution_count": null,
   "id": "0eedff1f-bc15-4f95-9977-7f1aa63f72a5",
   "metadata": {},
   "outputs": [],
   "source": []
  },
  {
   "cell_type": "markdown",
   "id": "e70721cb-fc6f-4ed9-ad60-f24db60dad2a",
   "metadata": {},
   "source": [
    "#### Are \"G\" rated movies more popular than \"R\" rated movies? "
   ]
  },
  {
   "cell_type": "code",
   "execution_count": null,
   "id": "ff68f346-cece-45d5-ae27-db496731592e",
   "metadata": {},
   "outputs": [],
   "source": []
  },
  {
   "cell_type": "code",
   "execution_count": null,
   "id": "d53acbd0-4056-4a2a-a787-1ea4675f0d7f",
   "metadata": {},
   "outputs": [],
   "source": []
  },
  {
   "cell_type": "markdown",
   "id": "4538ec88-2718-4170-be31-8283d53446fc",
   "metadata": {},
   "source": [
    "---"
   ]
  },
  {
   "cell_type": "markdown",
   "id": "f64aeea7-9bee-4d6e-9286-c3fa10f83b49",
   "metadata": {},
   "source": [
    "## Bonus questions! "
   ]
  },
  {
   "cell_type": "markdown",
   "id": "791e4e9a-99a9-42bc-8297-42c1105df1d2",
   "metadata": {},
   "source": [
    "#### How many movies start with \"The\"?"
   ]
  },
  {
   "cell_type": "code",
   "execution_count": null,
   "id": "cd1d9885-2f50-4068-89f7-4d96ad192541",
   "metadata": {},
   "outputs": [],
   "source": []
  },
  {
   "cell_type": "code",
   "execution_count": null,
   "id": "4afa8f02-d0fb-4e68-9513-2ea704bf44c0",
   "metadata": {},
   "outputs": [],
   "source": []
  },
  {
   "cell_type": "markdown",
   "id": "23b983a1-9797-46da-84fd-4e42fd45552f",
   "metadata": {},
   "source": [
    "#### What movie title has the most characters in its name? "
   ]
  },
  {
   "cell_type": "code",
   "execution_count": null,
   "id": "0a14c34f-4cdb-435a-80d1-25b8fee8c2ff",
   "metadata": {},
   "outputs": [],
   "source": []
  },
  {
   "cell_type": "code",
   "execution_count": null,
   "id": "b93fc762-48cb-4ce6-a01a-18dacd0d36bb",
   "metadata": {},
   "outputs": [],
   "source": []
  },
  {
   "cell_type": "code",
   "execution_count": null,
   "id": "33b0a33e-9b7b-4c75-afa3-7f67cd4f5d5d",
   "metadata": {},
   "outputs": [],
   "source": []
  },
  {
   "cell_type": "markdown",
   "id": "5e3ea9b6-9205-426b-8ab8-f99262c6faa3",
   "metadata": {},
   "source": [
    "#### What percentage of all the movies are in the crime genre? "
   ]
  },
  {
   "cell_type": "code",
   "execution_count": null,
   "id": "51745d7d-829d-4b61-b717-8437cd520aa7",
   "metadata": {},
   "outputs": [],
   "source": []
  },
  {
   "cell_type": "code",
   "execution_count": null,
   "id": "1e1500ed-bf23-4a10-8d1e-455c44ecc5b8",
   "metadata": {},
   "outputs": [],
   "source": []
  },
  {
   "cell_type": "markdown",
   "id": "4483c96a-bdf2-4ce9-859d-3b352400089c",
   "metadata": {},
   "source": [
    "#### What percentage of movies featuring Meryl Streep are 'long' vs. 'not long'?"
   ]
  },
  {
   "cell_type": "code",
   "execution_count": null,
   "id": "d44ecb8b-a194-45e1-a9a3-f3d66da4e7cd",
   "metadata": {},
   "outputs": [],
   "source": []
  },
  {
   "cell_type": "code",
   "execution_count": null,
   "id": "34ee17c2-1b86-4429-9d1a-6652a6e674df",
   "metadata": {},
   "outputs": [],
   "source": []
  },
  {
   "cell_type": "code",
   "execution_count": null,
   "id": "ec164750-a7ff-4251-93fe-58641d293af6",
   "metadata": {},
   "outputs": [],
   "source": []
  }
 ],
 "metadata": {
  "kernelspec": {
   "display_name": "Python 3",
   "language": "python",
   "name": "python3"
  },
  "language_info": {
   "codemirror_mode": {
    "name": "ipython",
    "version": 3
   },
   "file_extension": ".py",
   "mimetype": "text/x-python",
   "name": "python",
   "nbconvert_exporter": "python",
   "pygments_lexer": "ipython3",
   "version": "3.8.8"
  }
 },
 "nbformat": 4,
 "nbformat_minor": 5
}
