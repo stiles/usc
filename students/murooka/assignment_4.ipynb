{
 "cells": [
  {
   "cell_type": "markdown",
   "id": "e967555c-ec5c-4f09-a3a5-ffedb2f61d2d",
   "metadata": {
    "tags": []
   },
   "source": [
    "# Assignment 4\n"
   ]
  },
  {
   "cell_type": "markdown",
   "id": "7606243d-b026-46af-adfa-6d6dfa8f06e3",
   "metadata": {},
   "source": [
    "#### Load our Python tools"
   ]
  },
  {
   "cell_type": "code",
   "execution_count": 19,
   "id": "5aa6e6c5-2705-40ab-ade1-719f609a3794",
   "metadata": {},
   "outputs": [],
   "source": [
    "# %load_ext lab_black"
   ]
  },
  {
   "cell_type": "code",
   "execution_count": 20,
   "id": "7c2be76f-ca72-4a68-9ef4-3848ec01746a",
   "metadata": {},
   "outputs": [],
   "source": [
    "import pandas as pd\n",
    "#import altair as alt"
   ]
  },
  {
   "cell_type": "code",
   "execution_count": 21,
   "id": "084ca41d-4ca9-4f90-a6fd-3109902a2fda",
   "metadata": {
    "tags": []
   },
   "outputs": [],
   "source": [
    "pd.options.display.max_columns = 100\n",
    "pd.options.display.max_rows = 1000\n",
    "pd.options.display.max_colwidth = None"
   ]
  },
  {
   "cell_type": "markdown",
   "id": "c856fd59-ac22-49de-876d-84413a76fed0",
   "metadata": {},
   "source": [
    "---"
   ]
  },
  {
   "cell_type": "markdown",
   "id": "a4926722-584c-4124-8ca7-c7616c3012a2",
   "metadata": {},
   "source": [
    "Import dataset"
   ]
  },
  {
   "cell_type": "code",
   "execution_count": 22,
   "id": "b012abe2-436e-48c0-8c10-60336f199eab",
   "metadata": {},
   "outputs": [],
   "source": [
    "imdb_data=pd.read_csv(\"data/imdb_1000.csv\")"
   ]
  },
  {
   "cell_type": "code",
   "execution_count": 23,
   "id": "01fcc57e-2b38-4e12-a828-43e3929828e7",
   "metadata": {},
   "outputs": [
    {
     "data": {
      "text/html": [
       "<div>\n",
       "<style scoped>\n",
       "    .dataframe tbody tr th:only-of-type {\n",
       "        vertical-align: middle;\n",
       "    }\n",
       "\n",
       "    .dataframe tbody tr th {\n",
       "        vertical-align: top;\n",
       "    }\n",
       "\n",
       "    .dataframe thead th {\n",
       "        text-align: right;\n",
       "    }\n",
       "</style>\n",
       "<table border=\"1\" class=\"dataframe\">\n",
       "  <thead>\n",
       "    <tr style=\"text-align: right;\">\n",
       "      <th></th>\n",
       "      <th>star_rating</th>\n",
       "      <th>title</th>\n",
       "      <th>content_rating</th>\n",
       "      <th>genre</th>\n",
       "      <th>duration</th>\n",
       "      <th>actors_list</th>\n",
       "    </tr>\n",
       "  </thead>\n",
       "  <tbody>\n",
       "    <tr>\n",
       "      <th>0</th>\n",
       "      <td>9.3</td>\n",
       "      <td>The Shawshank Redemption</td>\n",
       "      <td>R</td>\n",
       "      <td>Crime</td>\n",
       "      <td>142</td>\n",
       "      <td>[u'Tim Robbins', u'Morgan Freeman', u'Bob Gunton']</td>\n",
       "    </tr>\n",
       "    <tr>\n",
       "      <th>1</th>\n",
       "      <td>9.2</td>\n",
       "      <td>The Godfather</td>\n",
       "      <td>R</td>\n",
       "      <td>Crime</td>\n",
       "      <td>175</td>\n",
       "      <td>[u'Marlon Brando', u'Al Pacino', u'James Caan']</td>\n",
       "    </tr>\n",
       "    <tr>\n",
       "      <th>2</th>\n",
       "      <td>9.1</td>\n",
       "      <td>The Godfather: Part II</td>\n",
       "      <td>R</td>\n",
       "      <td>Crime</td>\n",
       "      <td>200</td>\n",
       "      <td>[u'Al Pacino', u'Robert De Niro', u'Robert Duvall']</td>\n",
       "    </tr>\n",
       "    <tr>\n",
       "      <th>3</th>\n",
       "      <td>9.0</td>\n",
       "      <td>The Dark Knight</td>\n",
       "      <td>PG-13</td>\n",
       "      <td>Action</td>\n",
       "      <td>152</td>\n",
       "      <td>[u'Christian Bale', u'Heath Ledger', u'Aaron Eckhart']</td>\n",
       "    </tr>\n",
       "    <tr>\n",
       "      <th>4</th>\n",
       "      <td>8.9</td>\n",
       "      <td>Pulp Fiction</td>\n",
       "      <td>R</td>\n",
       "      <td>Crime</td>\n",
       "      <td>154</td>\n",
       "      <td>[u'John Travolta', u'Uma Thurman', u'Samuel L. Jackson']</td>\n",
       "    </tr>\n",
       "  </tbody>\n",
       "</table>\n",
       "</div>"
      ],
      "text/plain": [
       "   star_rating                     title content_rating   genre  duration  \\\n",
       "0          9.3  The Shawshank Redemption              R   Crime       142   \n",
       "1          9.2             The Godfather              R   Crime       175   \n",
       "2          9.1    The Godfather: Part II              R   Crime       200   \n",
       "3          9.0           The Dark Knight          PG-13  Action       152   \n",
       "4          8.9              Pulp Fiction              R   Crime       154   \n",
       "\n",
       "                                                actors_list  \n",
       "0        [u'Tim Robbins', u'Morgan Freeman', u'Bob Gunton']  \n",
       "1           [u'Marlon Brando', u'Al Pacino', u'James Caan']  \n",
       "2       [u'Al Pacino', u'Robert De Niro', u'Robert Duvall']  \n",
       "3    [u'Christian Bale', u'Heath Ledger', u'Aaron Eckhart']  \n",
       "4  [u'John Travolta', u'Uma Thurman', u'Samuel L. Jackson']  "
      ]
     },
     "execution_count": 23,
     "metadata": {},
     "output_type": "execute_result"
    }
   ],
   "source": [
    "imdb_data.head()"
   ]
  },
  {
   "cell_type": "markdown",
   "id": "22a6ca24-cba6-4b8f-8f22-a6794309a118",
   "metadata": {
    "tags": []
   },
   "source": [
    "What is the average star rating for each movie genre?\n"
   ]
  },
  {
   "cell_type": "code",
   "execution_count": 25,
   "id": "fc429601-9e6d-42c9-a36c-71a04e3bb198",
   "metadata": {},
   "outputs": [
    {
     "data": {
      "text/plain": [
       "genre\n",
       "Action       7.884559\n",
       "Adventure    7.933333\n",
       "Animation    7.914516\n",
       "Biography    7.862338\n",
       "Comedy       7.822436\n",
       "Crime        7.916935\n",
       "Drama        7.902518\n",
       "Family       7.850000\n",
       "Fantasy      7.700000\n",
       "Film-Noir    8.033333\n",
       "History      8.000000\n",
       "Horror       7.806897\n",
       "Mystery      7.975000\n",
       "Sci-Fi       7.920000\n",
       "Thriller     7.680000\n",
       "Western      8.255556\n",
       "Name: star_rating, dtype: float64"
      ]
     },
     "execution_count": 25,
     "metadata": {},
     "output_type": "execute_result"
    }
   ],
   "source": [
    "imdb_data.groupby([\"genre\"])[\"star_rating\"].mean()"
   ]
  },
  {
   "cell_type": "markdown",
   "id": "f942cd5d-ddd5-4f55-a9d2-dd36cd94431d",
   "metadata": {},
   "source": [
    "For each movie title, what is it's highest star rating and average duration?"
   ]
  },
  {
   "cell_type": "code",
   "execution_count": 53,
   "id": "55e44786-3985-4a92-b40c-cc618e3ffad1",
   "metadata": {},
   "outputs": [
    {
     "data": {
      "text/html": [
       "<div>\n",
       "<style scoped>\n",
       "    .dataframe tbody tr th:only-of-type {\n",
       "        vertical-align: middle;\n",
       "    }\n",
       "\n",
       "    .dataframe tbody tr th {\n",
       "        vertical-align: top;\n",
       "    }\n",
       "\n",
       "    .dataframe thead th {\n",
       "        text-align: right;\n",
       "    }\n",
       "</style>\n",
       "<table border=\"1\" class=\"dataframe\">\n",
       "  <thead>\n",
       "    <tr style=\"text-align: right;\">\n",
       "      <th></th>\n",
       "      <th>title</th>\n",
       "      <th>star_rating</th>\n",
       "      <th>duration</th>\n",
       "    </tr>\n",
       "  </thead>\n",
       "  <tbody>\n",
       "    <tr>\n",
       "      <th>0</th>\n",
       "      <td>(500) Days of Summer</td>\n",
       "      <td>7.8</td>\n",
       "      <td>95.0</td>\n",
       "    </tr>\n",
       "    <tr>\n",
       "      <th>1</th>\n",
       "      <td>12 Angry Men</td>\n",
       "      <td>8.9</td>\n",
       "      <td>96.0</td>\n",
       "    </tr>\n",
       "    <tr>\n",
       "      <th>2</th>\n",
       "      <td>12 Years a Slave</td>\n",
       "      <td>8.1</td>\n",
       "      <td>134.0</td>\n",
       "    </tr>\n",
       "    <tr>\n",
       "      <th>3</th>\n",
       "      <td>127 Hours</td>\n",
       "      <td>7.6</td>\n",
       "      <td>94.0</td>\n",
       "    </tr>\n",
       "    <tr>\n",
       "      <th>4</th>\n",
       "      <td>2001: A Space Odyssey</td>\n",
       "      <td>8.3</td>\n",
       "      <td>160.0</td>\n",
       "    </tr>\n",
       "  </tbody>\n",
       "</table>\n",
       "</div>"
      ],
      "text/plain": [
       "                   title  star_rating  duration\n",
       "0   (500) Days of Summer          7.8      95.0\n",
       "1           12 Angry Men          8.9      96.0\n",
       "2       12 Years a Slave          8.1     134.0\n",
       "3              127 Hours          7.6      94.0\n",
       "4  2001: A Space Odyssey          8.3     160.0"
      ]
     },
     "execution_count": 53,
     "metadata": {},
     "output_type": "execute_result"
    }
   ],
   "source": [
    "imdb_data.groupby([\"title\"]).agg({\"star_rating\":\"max\", \"duration\":\"mean\"}).reset_index().head()"
   ]
  },
  {
   "cell_type": "markdown",
   "id": "a005181d-1d4f-421a-9881-8b778aab60ee",
   "metadata": {},
   "source": [
    "What is the lowest star rating for each content rating?"
   ]
  },
  {
   "cell_type": "code",
   "execution_count": 34,
   "id": "b823a443-665a-4d40-b8b2-732a178598ad",
   "metadata": {},
   "outputs": [
    {
     "data": {
      "text/plain": [
       "content_rating\n",
       "APPROVED     7.5\n",
       "G            7.4\n",
       "GP           7.7\n",
       "NC-17        7.4\n",
       "NOT RATED    7.5\n",
       "PASSED       7.7\n",
       "PG           7.4\n",
       "PG-13        7.4\n",
       "R            7.4\n",
       "TV-MA        8.1\n",
       "UNRATED      7.4\n",
       "X            7.5\n",
       "Name: star_rating, dtype: float64"
      ]
     },
     "execution_count": 34,
     "metadata": {},
     "output_type": "execute_result"
    }
   ],
   "source": [
    "imdb_data.groupby([\"content_rating\"])[\"star_rating\"].min()"
   ]
  },
  {
   "cell_type": "markdown",
   "id": "26948948-e2c1-43a1-8380-92499e50a815",
   "metadata": {
    "tags": []
   },
   "source": [
    "For each genre, what is the highest star rating?"
   ]
  },
  {
   "cell_type": "code",
   "execution_count": 41,
   "id": "162d6b38-dfcd-4d47-a441-fda27a5b80bf",
   "metadata": {},
   "outputs": [
    {
     "data": {
      "text/plain": [
       "genre\n",
       "Action       9.0\n",
       "Adventure    8.9\n",
       "Animation    8.6\n",
       "Biography    8.9\n",
       "Comedy       8.6\n",
       "Crime        9.3\n",
       "Drama        8.9\n",
       "Family       7.9\n",
       "Fantasy      7.7\n",
       "Film-Noir    8.3\n",
       "History      8.0\n",
       "Horror       8.6\n",
       "Mystery      8.6\n",
       "Sci-Fi       8.2\n",
       "Thriller     8.0\n",
       "Western      8.9\n",
       "Name: star_rating, dtype: float64"
      ]
     },
     "execution_count": 41,
     "metadata": {},
     "output_type": "execute_result"
    }
   ],
   "source": [
    "imdb_data.groupby([\"genre\"])[\"star_rating\"].max()"
   ]
  },
  {
   "cell_type": "code",
   "execution_count": 59,
   "id": "65fde80f-bac6-4a6d-b355-fa740accf897",
   "metadata": {},
   "outputs": [],
   "source": [
    "imdb_max=imdb_data.groupby([\"title\"])[\"star_rating\"].max().reset_index()"
   ]
  },
  {
   "cell_type": "code",
   "execution_count": 63,
   "id": "d106b348-11b2-4528-ad3c-d8ac3d832c7f",
   "metadata": {},
   "outputs": [
    {
     "data": {
      "text/html": [
       "<div>\n",
       "<style scoped>\n",
       "    .dataframe tbody tr th:only-of-type {\n",
       "        vertical-align: middle;\n",
       "    }\n",
       "\n",
       "    .dataframe tbody tr th {\n",
       "        vertical-align: top;\n",
       "    }\n",
       "\n",
       "    .dataframe thead th {\n",
       "        text-align: right;\n",
       "    }\n",
       "</style>\n",
       "<table border=\"1\" class=\"dataframe\">\n",
       "  <thead>\n",
       "    <tr style=\"text-align: right;\">\n",
       "      <th></th>\n",
       "      <th>title</th>\n",
       "      <th>star_rating</th>\n",
       "    </tr>\n",
       "  </thead>\n",
       "  <tbody>\n",
       "    <tr>\n",
       "      <th>866</th>\n",
       "      <td>The Shawshank Redemption</td>\n",
       "      <td>9.3</td>\n",
       "    </tr>\n",
       "  </tbody>\n",
       "</table>\n",
       "</div>"
      ],
      "text/plain": [
       "                        title  star_rating\n",
       "866  The Shawshank Redemption          9.3"
      ]
     },
     "execution_count": 63,
     "metadata": {},
     "output_type": "execute_result"
    }
   ],
   "source": [
    "imdb_max[imdb_max[\"star_rating\"]== imdb_max[\"star_rating\"].max()]"
   ]
  },
  {
   "cell_type": "code",
   "execution_count": 45,
   "id": "c07a7432-dc0a-4159-b774-990232af8b34",
   "metadata": {},
   "outputs": [
    {
     "data": {
      "text/plain": [
       "content_rating\n",
       "APPROVED      47\n",
       "G             32\n",
       "GP             3\n",
       "NC-17          7\n",
       "NOT RATED     65\n",
       "PASSED         7\n",
       "PG           123\n",
       "PG-13        189\n",
       "R            460\n",
       "TV-MA          1\n",
       "UNRATED       38\n",
       "X              4\n",
       "Name: genre, dtype: int64"
      ]
     },
     "execution_count": 45,
     "metadata": {},
     "output_type": "execute_result"
    }
   ],
   "source": [
    "imdb_data.groupby([\"content_rating\"])[\"genre\"].count()"
   ]
  }
 ],
 "metadata": {
  "kernelspec": {
   "display_name": "Python 3 (ipykernel)",
   "language": "python",
   "name": "python3"
  },
  "language_info": {
   "codemirror_mode": {
    "name": "ipython",
    "version": 3
   },
   "file_extension": ".py",
   "mimetype": "text/x-python",
   "name": "python",
   "nbconvert_exporter": "python",
   "pygments_lexer": "ipython3",
   "version": "3.9.7"
  }
 },
 "nbformat": 4,
 "nbformat_minor": 5
}
