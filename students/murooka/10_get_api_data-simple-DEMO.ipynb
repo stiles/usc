{
 "cells": [
  {
   "cell_type": "markdown",
   "id": "de872774-504e-4e20-8ba5-8ab6691ebb3d",
   "metadata": {},
   "source": [
    "# Accessing data from an API"
   ]
  },
  {
   "cell_type": "markdown",
   "id": "2c84208b-1af7-49c4-9258-4ee2919f6900",
   "metadata": {},
   "source": [
    "This notebook has two simple excerises demonstrating how to extract data from an [Application Programming Interface](https://en.wikipedia.org/wiki/API). An API is a tool for computers or applications to interact with one another. In our case, we'll be asking for data, and the API will return it. These systems can be complicated, but most of those we might use in data journalism are relatively simple."
   ]
  },
  {
   "cell_type": "markdown",
   "id": "92e7b332-c581-4d4b-82f8-06aab829f80e",
   "metadata": {},
   "source": [
    "#### Import our data tools"
   ]
  },
  {
   "cell_type": "code",
   "execution_count": 1,
   "id": "e0719e5b-a9f3-46cf-a9fe-cc265c2c37a3",
   "metadata": {},
   "outputs": [],
   "source": [
    "%load_ext lab_black"
   ]
  },
  {
   "cell_type": "code",
   "execution_count": 2,
   "id": "54f28d60-f846-46c3-8c56-659a92e5806b",
   "metadata": {},
   "outputs": [],
   "source": [
    "import pandas as pd\n",
    "import requests"
   ]
  },
  {
   "cell_type": "code",
   "execution_count": 3,
   "id": "a61bdfc1-28d4-43e3-b11e-67fd894676b7",
   "metadata": {},
   "outputs": [],
   "source": [
    "pd.options.display.max_columns = 100\n",
    "pd.options.display.max_rows = 1000\n",
    "pd.options.display.max_colwidth = None"
   ]
  },
  {
   "cell_type": "markdown",
   "id": "58da4e76-be26-4247-8e82-385493b522eb",
   "metadata": {},
   "source": [
    "---"
   ]
  },
  {
   "cell_type": "markdown",
   "id": "0291ae2b-2543-48e3-843a-78cad1d3d3ce",
   "metadata": {},
   "source": [
    "## Cat facts!"
   ]
  },
  {
   "cell_type": "markdown",
   "id": "e0cd737e-d6b2-4621-bdef-b9f73c76cf2b",
   "metadata": {},
   "source": [
    "[Read the documentation](https://alexwohlbruck.github.io/cat-facts/docs/)"
   ]
  },
  {
   "cell_type": "markdown",
   "id": "6c247eb5-0900-496d-a70b-ae3fba351b21",
   "metadata": {},
   "source": [
    "#### Get random facts"
   ]
  },
  {
   "cell_type": "code",
   "execution_count": 4,
   "id": "34a6c553-5231-499b-8429-f7a507991443",
   "metadata": {},
   "outputs": [],
   "source": [
    "cat_df = pd.read_json(\n",
    "    \"https://cat-fact.herokuapp.com/facts/random?animal_type=cat&amount=500\"\n",
    ")"
   ]
  },
  {
   "cell_type": "markdown",
   "id": "1b799caa-637a-4011-9e18-c95d1f54f306",
   "metadata": {},
   "source": [
    "#### First five rows"
   ]
  },
  {
   "cell_type": "code",
   "execution_count": 5,
   "id": "63b91c0a-fa1e-42cf-934d-b7678842203f",
   "metadata": {},
   "outputs": [
    {
     "data": {
      "text/html": [
       "<div>\n",
       "<style scoped>\n",
       "    .dataframe tbody tr th:only-of-type {\n",
       "        vertical-align: middle;\n",
       "    }\n",
       "\n",
       "    .dataframe tbody tr th {\n",
       "        vertical-align: top;\n",
       "    }\n",
       "\n",
       "    .dataframe thead th {\n",
       "        text-align: right;\n",
       "    }\n",
       "</style>\n",
       "<table border=\"1\" class=\"dataframe\">\n",
       "  <thead>\n",
       "    <tr style=\"text-align: right;\">\n",
       "      <th></th>\n",
       "      <th>status</th>\n",
       "      <th>_id</th>\n",
       "      <th>user</th>\n",
       "      <th>text</th>\n",
       "      <th>type</th>\n",
       "      <th>deleted</th>\n",
       "      <th>createdAt</th>\n",
       "      <th>updatedAt</th>\n",
       "      <th>__v</th>\n",
       "      <th>source</th>\n",
       "      <th>used</th>\n",
       "      <th>sendDate</th>\n",
       "    </tr>\n",
       "  </thead>\n",
       "  <tbody>\n",
       "    <tr>\n",
       "      <th>0</th>\n",
       "      <td>{'verified': None, 'sentCount': 0}</td>\n",
       "      <td>619e85218f3412498821a12c</td>\n",
       "      <td>619e7c398f34124988218383</td>\n",
       "      <td>Dddddddddddddddddddddddddddddddddddddddddddddddddddddddddddddddddddddddffffffffffffffffffffffffffffddddddddddddddddddddddddddddd.</td>\n",
       "      <td>cat</td>\n",
       "      <td>False</td>\n",
       "      <td>2021-11-24T18:32:01.655Z</td>\n",
       "      <td>2021-11-24T18:32:01.655Z</td>\n",
       "      <td>0.0</td>\n",
       "      <td>NaN</td>\n",
       "      <td>NaN</td>\n",
       "      <td>NaN</td>\n",
       "    </tr>\n",
       "    <tr>\n",
       "      <th>1</th>\n",
       "      <td>{'verified': True, 'sentCount': 1}</td>\n",
       "      <td>591f9894d369931519ce35c6</td>\n",
       "      <td>5a9ac18c7478810ea6c06381</td>\n",
       "      <td>All cats need taurine in their diet to avoid blindness. Cats must also have fat in their diet as they are unable to produce it on their own.</td>\n",
       "      <td>cat</td>\n",
       "      <td>False</td>\n",
       "      <td>2018-01-04T01:10:54.673Z</td>\n",
       "      <td>2020-08-23T20:20:01.611Z</td>\n",
       "      <td>0.0</td>\n",
       "      <td>api</td>\n",
       "      <td>0.0</td>\n",
       "      <td>NaN</td>\n",
       "    </tr>\n",
       "    <tr>\n",
       "      <th>2</th>\n",
       "      <td>{'verified': True, 'sentCount': 1}</td>\n",
       "      <td>591f98703b90f7150a19c178</td>\n",
       "      <td>5a9ac18c7478810ea6c06381</td>\n",
       "      <td>A cats field of vision is about 185 degrees.</td>\n",
       "      <td>cat</td>\n",
       "      <td>False</td>\n",
       "      <td>2018-05-06T20:20:02.193Z</td>\n",
       "      <td>2020-08-23T20:20:01.611Z</td>\n",
       "      <td>0.0</td>\n",
       "      <td>api</td>\n",
       "      <td>0.0</td>\n",
       "      <td>NaN</td>\n",
       "    </tr>\n",
       "    <tr>\n",
       "      <th>3</th>\n",
       "      <td>{'verified': None, 'sentCount': 0}</td>\n",
       "      <td>61d35e68403b4002d3797def</td>\n",
       "      <td>61b8566766b26cede617b4ef</td>\n",
       "      <td>Vhjlfgkfgzffxfuhghlknl.</td>\n",
       "      <td>cat</td>\n",
       "      <td>False</td>\n",
       "      <td>2022-01-03T20:36:56.463Z</td>\n",
       "      <td>2022-01-03T20:36:56.463Z</td>\n",
       "      <td>0.0</td>\n",
       "      <td>NaN</td>\n",
       "      <td>NaN</td>\n",
       "      <td>NaN</td>\n",
       "    </tr>\n",
       "    <tr>\n",
       "      <th>4</th>\n",
       "      <td>{'verified': True, 'sentCount': 1}</td>\n",
       "      <td>591f98703b90f7150a19c15f</td>\n",
       "      <td>5a9ac18c7478810ea6c06381</td>\n",
       "      <td>Recent studies have shown that cats can see blue and green. There is disagreement as to whether they can see red.</td>\n",
       "      <td>cat</td>\n",
       "      <td>False</td>\n",
       "      <td>2018-01-04T01:10:54.673Z</td>\n",
       "      <td>2020-08-23T20:20:01.611Z</td>\n",
       "      <td>0.0</td>\n",
       "      <td>api</td>\n",
       "      <td>0.0</td>\n",
       "      <td>NaN</td>\n",
       "    </tr>\n",
       "  </tbody>\n",
       "</table>\n",
       "</div>"
      ],
      "text/plain": [
       "                               status                       _id  \\\n",
       "0  {'verified': None, 'sentCount': 0}  619e85218f3412498821a12c   \n",
       "1  {'verified': True, 'sentCount': 1}  591f9894d369931519ce35c6   \n",
       "2  {'verified': True, 'sentCount': 1}  591f98703b90f7150a19c178   \n",
       "3  {'verified': None, 'sentCount': 0}  61d35e68403b4002d3797def   \n",
       "4  {'verified': True, 'sentCount': 1}  591f98703b90f7150a19c15f   \n",
       "\n",
       "                       user  \\\n",
       "0  619e7c398f34124988218383   \n",
       "1  5a9ac18c7478810ea6c06381   \n",
       "2  5a9ac18c7478810ea6c06381   \n",
       "3  61b8566766b26cede617b4ef   \n",
       "4  5a9ac18c7478810ea6c06381   \n",
       "\n",
       "                                                                                                                                           text  \\\n",
       "0             Dddddddddddddddddddddddddddddddddddddddddddddddddddddddddddddddddddddddffffffffffffffffffffffffffffddddddddddddddddddddddddddddd.   \n",
       "1  All cats need taurine in their diet to avoid blindness. Cats must also have fat in their diet as they are unable to produce it on their own.   \n",
       "2                                                                                                  A cats field of vision is about 185 degrees.   \n",
       "3                                                                                                                       Vhjlfgkfgzffxfuhghlknl.   \n",
       "4                             Recent studies have shown that cats can see blue and green. There is disagreement as to whether they can see red.   \n",
       "\n",
       "  type  deleted                 createdAt                 updatedAt  __v  \\\n",
       "0  cat    False  2021-11-24T18:32:01.655Z  2021-11-24T18:32:01.655Z  0.0   \n",
       "1  cat    False  2018-01-04T01:10:54.673Z  2020-08-23T20:20:01.611Z  0.0   \n",
       "2  cat    False  2018-05-06T20:20:02.193Z  2020-08-23T20:20:01.611Z  0.0   \n",
       "3  cat    False  2022-01-03T20:36:56.463Z  2022-01-03T20:36:56.463Z  0.0   \n",
       "4  cat    False  2018-01-04T01:10:54.673Z  2020-08-23T20:20:01.611Z  0.0   \n",
       "\n",
       "  source  used sendDate  \n",
       "0    NaN   NaN      NaN  \n",
       "1    api   0.0      NaN  \n",
       "2    api   0.0      NaN  \n",
       "3    NaN   NaN      NaN  \n",
       "4    api   0.0      NaN  "
      ]
     },
     "execution_count": 5,
     "metadata": {},
     "output_type": "execute_result"
    }
   ],
   "source": [
    "cat_df.head()"
   ]
  },
  {
   "cell_type": "markdown",
   "id": "93e8eec5-3aa1-4527-9f5d-e5256b2f7cf5",
   "metadata": {},
   "source": [
    "#### How many records? "
   ]
  },
  {
   "cell_type": "code",
   "execution_count": 6,
   "id": "17ee5f8a-eebd-40e8-b624-33a8ff3bd791",
   "metadata": {},
   "outputs": [
    {
     "data": {
      "text/plain": [
       "500"
      ]
     },
     "execution_count": 6,
     "metadata": {},
     "output_type": "execute_result"
    }
   ],
   "source": [
    "len(cat_df)"
   ]
  },
  {
   "cell_type": "markdown",
   "id": "ba113498-d591-40b3-8195-2f04c5bc858f",
   "metadata": {},
   "source": [
    "#### What's the first fact?"
   ]
  },
  {
   "cell_type": "code",
   "execution_count": 7,
   "id": "70ede381-0322-40a2-896c-fa370a3859f6",
   "metadata": {},
   "outputs": [
    {
     "data": {
      "text/plain": [
       "'Dddddddddddddddddddddddddddddddddddddddddddddddddddddddddddddddddddddddffffffffffffffffffffffffffffddddddddddddddddddddddddddddd.'"
      ]
     },
     "execution_count": 7,
     "metadata": {},
     "output_type": "execute_result"
    }
   ],
   "source": [
    "cat_df[\"text\"][0]"
   ]
  },
  {
   "cell_type": "markdown",
   "id": "b5aec3ef-5f25-445e-9e4c-7100f9b2ce24",
   "metadata": {},
   "source": [
    "#### Exctract the nested json inside the `status` column"
   ]
  },
  {
   "cell_type": "code",
   "execution_count": 24,
   "id": "54669c0a-f1ba-4cad-87fb-e75a920f9d44",
   "metadata": {},
   "outputs": [],
   "source": [
    "cat_df[[\"verified\", \"sentCount\", \"feedback\"]] = pd.json_normalize(cat_df[\"status\"])"
   ]
  },
  {
   "cell_type": "code",
   "execution_count": 25,
   "id": "3d14ec3a-10c9-4751-9bd9-da6b5d3a8823",
   "metadata": {},
   "outputs": [
    {
     "data": {
      "text/html": [
       "<div>\n",
       "<style scoped>\n",
       "    .dataframe tbody tr th:only-of-type {\n",
       "        vertical-align: middle;\n",
       "    }\n",
       "\n",
       "    .dataframe tbody tr th {\n",
       "        vertical-align: top;\n",
       "    }\n",
       "\n",
       "    .dataframe thead th {\n",
       "        text-align: right;\n",
       "    }\n",
       "</style>\n",
       "<table border=\"1\" class=\"dataframe\">\n",
       "  <thead>\n",
       "    <tr style=\"text-align: right;\">\n",
       "      <th></th>\n",
       "      <th>status</th>\n",
       "      <th>_id</th>\n",
       "      <th>user</th>\n",
       "      <th>text</th>\n",
       "      <th>type</th>\n",
       "      <th>deleted</th>\n",
       "      <th>createdAt</th>\n",
       "      <th>updatedAt</th>\n",
       "      <th>__v</th>\n",
       "      <th>source</th>\n",
       "      <th>used</th>\n",
       "      <th>sendDate</th>\n",
       "      <th>verified</th>\n",
       "      <th>sentCount</th>\n",
       "      <th>feedback</th>\n",
       "    </tr>\n",
       "  </thead>\n",
       "  <tbody>\n",
       "    <tr>\n",
       "      <th>0</th>\n",
       "      <td>{'verified': None, 'sentCount': 0}</td>\n",
       "      <td>619e85218f3412498821a12c</td>\n",
       "      <td>619e7c398f34124988218383</td>\n",
       "      <td>Dddddddddddddddddddddddddddddddddddddddddddddddddddddddddddddddddddddddffffffffffffffffffffffffffffddddddddddddddddddddddddddddd.</td>\n",
       "      <td>cat</td>\n",
       "      <td>False</td>\n",
       "      <td>2021-11-24T18:32:01.655Z</td>\n",
       "      <td>2021-11-24T18:32:01.655Z</td>\n",
       "      <td>0.0</td>\n",
       "      <td>NaN</td>\n",
       "      <td>NaN</td>\n",
       "      <td>NaN</td>\n",
       "      <td>None</td>\n",
       "      <td>0</td>\n",
       "      <td>NaN</td>\n",
       "    </tr>\n",
       "    <tr>\n",
       "      <th>1</th>\n",
       "      <td>{'verified': True, 'sentCount': 1}</td>\n",
       "      <td>591f9894d369931519ce35c6</td>\n",
       "      <td>5a9ac18c7478810ea6c06381</td>\n",
       "      <td>All cats need taurine in their diet to avoid blindness. Cats must also have fat in their diet as they are unable to produce it on their own.</td>\n",
       "      <td>cat</td>\n",
       "      <td>False</td>\n",
       "      <td>2018-01-04T01:10:54.673Z</td>\n",
       "      <td>2020-08-23T20:20:01.611Z</td>\n",
       "      <td>0.0</td>\n",
       "      <td>api</td>\n",
       "      <td>0.0</td>\n",
       "      <td>NaN</td>\n",
       "      <td>True</td>\n",
       "      <td>1</td>\n",
       "      <td>NaN</td>\n",
       "    </tr>\n",
       "    <tr>\n",
       "      <th>2</th>\n",
       "      <td>{'verified': True, 'sentCount': 1}</td>\n",
       "      <td>591f98703b90f7150a19c178</td>\n",
       "      <td>5a9ac18c7478810ea6c06381</td>\n",
       "      <td>A cats field of vision is about 185 degrees.</td>\n",
       "      <td>cat</td>\n",
       "      <td>False</td>\n",
       "      <td>2018-05-06T20:20:02.193Z</td>\n",
       "      <td>2020-08-23T20:20:01.611Z</td>\n",
       "      <td>0.0</td>\n",
       "      <td>api</td>\n",
       "      <td>0.0</td>\n",
       "      <td>NaN</td>\n",
       "      <td>True</td>\n",
       "      <td>1</td>\n",
       "      <td>NaN</td>\n",
       "    </tr>\n",
       "    <tr>\n",
       "      <th>3</th>\n",
       "      <td>{'verified': None, 'sentCount': 0}</td>\n",
       "      <td>61d35e68403b4002d3797def</td>\n",
       "      <td>61b8566766b26cede617b4ef</td>\n",
       "      <td>Vhjlfgkfgzffxfuhghlknl.</td>\n",
       "      <td>cat</td>\n",
       "      <td>False</td>\n",
       "      <td>2022-01-03T20:36:56.463Z</td>\n",
       "      <td>2022-01-03T20:36:56.463Z</td>\n",
       "      <td>0.0</td>\n",
       "      <td>NaN</td>\n",
       "      <td>NaN</td>\n",
       "      <td>NaN</td>\n",
       "      <td>None</td>\n",
       "      <td>0</td>\n",
       "      <td>NaN</td>\n",
       "    </tr>\n",
       "    <tr>\n",
       "      <th>4</th>\n",
       "      <td>{'verified': True, 'sentCount': 1}</td>\n",
       "      <td>591f98703b90f7150a19c15f</td>\n",
       "      <td>5a9ac18c7478810ea6c06381</td>\n",
       "      <td>Recent studies have shown that cats can see blue and green. There is disagreement as to whether they can see red.</td>\n",
       "      <td>cat</td>\n",
       "      <td>False</td>\n",
       "      <td>2018-01-04T01:10:54.673Z</td>\n",
       "      <td>2020-08-23T20:20:01.611Z</td>\n",
       "      <td>0.0</td>\n",
       "      <td>api</td>\n",
       "      <td>0.0</td>\n",
       "      <td>NaN</td>\n",
       "      <td>True</td>\n",
       "      <td>1</td>\n",
       "      <td>NaN</td>\n",
       "    </tr>\n",
       "  </tbody>\n",
       "</table>\n",
       "</div>"
      ],
      "text/plain": [
       "                               status                       _id  \\\n",
       "0  {'verified': None, 'sentCount': 0}  619e85218f3412498821a12c   \n",
       "1  {'verified': True, 'sentCount': 1}  591f9894d369931519ce35c6   \n",
       "2  {'verified': True, 'sentCount': 1}  591f98703b90f7150a19c178   \n",
       "3  {'verified': None, 'sentCount': 0}  61d35e68403b4002d3797def   \n",
       "4  {'verified': True, 'sentCount': 1}  591f98703b90f7150a19c15f   \n",
       "\n",
       "                       user  \\\n",
       "0  619e7c398f34124988218383   \n",
       "1  5a9ac18c7478810ea6c06381   \n",
       "2  5a9ac18c7478810ea6c06381   \n",
       "3  61b8566766b26cede617b4ef   \n",
       "4  5a9ac18c7478810ea6c06381   \n",
       "\n",
       "                                                                                                                                           text  \\\n",
       "0             Dddddddddddddddddddddddddddddddddddddddddddddddddddddddddddddddddddddddffffffffffffffffffffffffffffddddddddddddddddddddddddddddd.   \n",
       "1  All cats need taurine in their diet to avoid blindness. Cats must also have fat in their diet as they are unable to produce it on their own.   \n",
       "2                                                                                                  A cats field of vision is about 185 degrees.   \n",
       "3                                                                                                                       Vhjlfgkfgzffxfuhghlknl.   \n",
       "4                             Recent studies have shown that cats can see blue and green. There is disagreement as to whether they can see red.   \n",
       "\n",
       "  type  deleted                 createdAt                 updatedAt  __v  \\\n",
       "0  cat    False  2021-11-24T18:32:01.655Z  2021-11-24T18:32:01.655Z  0.0   \n",
       "1  cat    False  2018-01-04T01:10:54.673Z  2020-08-23T20:20:01.611Z  0.0   \n",
       "2  cat    False  2018-05-06T20:20:02.193Z  2020-08-23T20:20:01.611Z  0.0   \n",
       "3  cat    False  2022-01-03T20:36:56.463Z  2022-01-03T20:36:56.463Z  0.0   \n",
       "4  cat    False  2018-01-04T01:10:54.673Z  2020-08-23T20:20:01.611Z  0.0   \n",
       "\n",
       "  source  used sendDate verified  sentCount feedback  \n",
       "0    NaN   NaN      NaN     None          0      NaN  \n",
       "1    api   0.0      NaN     True          1      NaN  \n",
       "2    api   0.0      NaN     True          1      NaN  \n",
       "3    NaN   NaN      NaN     None          0      NaN  \n",
       "4    api   0.0      NaN     True          1      NaN  "
      ]
     },
     "execution_count": 25,
     "metadata": {},
     "output_type": "execute_result"
    }
   ],
   "source": [
    "cat_df.head()"
   ]
  },
  {
   "cell_type": "markdown",
   "id": "062a20c8-c39f-465d-89ff-c9e3c86c846f",
   "metadata": {},
   "source": [
    "#### Slim the dataframe"
   ]
  },
  {
   "cell_type": "code",
   "execution_count": 47,
   "id": "77bd77e6-d73c-4fb9-9c80-36c5c3ef68d6",
   "metadata": {},
   "outputs": [],
   "source": [
    "cat_df_slim = cat_df[[\"_id\", \"text\", \"createdAt\", \"verified\"]].copy()"
   ]
  },
  {
   "cell_type": "code",
   "execution_count": 48,
   "id": "abca92ce-82ed-4b67-8f1d-2865142aa917",
   "metadata": {},
   "outputs": [
    {
     "data": {
      "text/html": [
       "<div>\n",
       "<style scoped>\n",
       "    .dataframe tbody tr th:only-of-type {\n",
       "        vertical-align: middle;\n",
       "    }\n",
       "\n",
       "    .dataframe tbody tr th {\n",
       "        vertical-align: top;\n",
       "    }\n",
       "\n",
       "    .dataframe thead th {\n",
       "        text-align: right;\n",
       "    }\n",
       "</style>\n",
       "<table border=\"1\" class=\"dataframe\">\n",
       "  <thead>\n",
       "    <tr style=\"text-align: right;\">\n",
       "      <th></th>\n",
       "      <th>_id</th>\n",
       "      <th>text</th>\n",
       "      <th>createdAt</th>\n",
       "      <th>verified</th>\n",
       "    </tr>\n",
       "  </thead>\n",
       "  <tbody>\n",
       "    <tr>\n",
       "      <th>0</th>\n",
       "      <td>619e85218f3412498821a12c</td>\n",
       "      <td>Dddddddddddddddddddddddddddddddddddddddddddddddddddddddddddddddddddddddffffffffffffffffffffffffffffddddddddddddddddddddddddddddd.</td>\n",
       "      <td>2021-11-24T18:32:01.655Z</td>\n",
       "      <td>None</td>\n",
       "    </tr>\n",
       "    <tr>\n",
       "      <th>1</th>\n",
       "      <td>591f9894d369931519ce35c6</td>\n",
       "      <td>All cats need taurine in their diet to avoid blindness. Cats must also have fat in their diet as they are unable to produce it on their own.</td>\n",
       "      <td>2018-01-04T01:10:54.673Z</td>\n",
       "      <td>True</td>\n",
       "    </tr>\n",
       "    <tr>\n",
       "      <th>2</th>\n",
       "      <td>591f98703b90f7150a19c178</td>\n",
       "      <td>A cats field of vision is about 185 degrees.</td>\n",
       "      <td>2018-05-06T20:20:02.193Z</td>\n",
       "      <td>True</td>\n",
       "    </tr>\n",
       "    <tr>\n",
       "      <th>3</th>\n",
       "      <td>61d35e68403b4002d3797def</td>\n",
       "      <td>Vhjlfgkfgzffxfuhghlknl.</td>\n",
       "      <td>2022-01-03T20:36:56.463Z</td>\n",
       "      <td>None</td>\n",
       "    </tr>\n",
       "    <tr>\n",
       "      <th>4</th>\n",
       "      <td>591f98703b90f7150a19c15f</td>\n",
       "      <td>Recent studies have shown that cats can see blue and green. There is disagreement as to whether they can see red.</td>\n",
       "      <td>2018-01-04T01:10:54.673Z</td>\n",
       "      <td>True</td>\n",
       "    </tr>\n",
       "  </tbody>\n",
       "</table>\n",
       "</div>"
      ],
      "text/plain": [
       "                        _id  \\\n",
       "0  619e85218f3412498821a12c   \n",
       "1  591f9894d369931519ce35c6   \n",
       "2  591f98703b90f7150a19c178   \n",
       "3  61d35e68403b4002d3797def   \n",
       "4  591f98703b90f7150a19c15f   \n",
       "\n",
       "                                                                                                                                           text  \\\n",
       "0             Dddddddddddddddddddddddddddddddddddddddddddddddddddddddddddddddddddddddffffffffffffffffffffffffffffddddddddddddddddddddddddddddd.   \n",
       "1  All cats need taurine in their diet to avoid blindness. Cats must also have fat in their diet as they are unable to produce it on their own.   \n",
       "2                                                                                                  A cats field of vision is about 185 degrees.   \n",
       "3                                                                                                                       Vhjlfgkfgzffxfuhghlknl.   \n",
       "4                             Recent studies have shown that cats can see blue and green. There is disagreement as to whether they can see red.   \n",
       "\n",
       "                  createdAt verified  \n",
       "0  2021-11-24T18:32:01.655Z     None  \n",
       "1  2018-01-04T01:10:54.673Z     True  \n",
       "2  2018-05-06T20:20:02.193Z     True  \n",
       "3  2022-01-03T20:36:56.463Z     None  \n",
       "4  2018-01-04T01:10:54.673Z     True  "
      ]
     },
     "execution_count": 48,
     "metadata": {},
     "output_type": "execute_result"
    }
   ],
   "source": [
    "cat_df_slim.head()"
   ]
  },
  {
   "cell_type": "markdown",
   "id": "2edb2ffe-5608-47b7-8f17-e745173cac6c",
   "metadata": {},
   "source": [
    "#### Just the verified facts, pls"
   ]
  },
  {
   "cell_type": "code",
   "execution_count": 52,
   "id": "6094b2c4-2fed-4e22-940d-56cdf0709703",
   "metadata": {},
   "outputs": [],
   "source": [
    "verified_df = cat_df_slim[cat_df_slim[\"verified\"] == True].copy()"
   ]
  },
  {
   "cell_type": "code",
   "execution_count": 53,
   "id": "e2e45382-1b07-4db5-88e2-afea37867d99",
   "metadata": {},
   "outputs": [
    {
     "data": {
      "text/plain": [
       "295"
      ]
     },
     "execution_count": 53,
     "metadata": {},
     "output_type": "execute_result"
    }
   ],
   "source": [
    "len(verified_df)"
   ]
  },
  {
   "cell_type": "markdown",
   "id": "9729df76-427d-4911-a02d-e4fe71f19bc6",
   "metadata": {},
   "source": [
    "#### Find facts that mentions specific words? "
   ]
  },
  {
   "cell_type": "code",
   "execution_count": 54,
   "id": "5f77a850-ea14-4bf2-9285-e1bb99b4e9ed",
   "metadata": {},
   "outputs": [
    {
     "data": {
      "text/html": [
       "<div>\n",
       "<style scoped>\n",
       "    .dataframe tbody tr th:only-of-type {\n",
       "        vertical-align: middle;\n",
       "    }\n",
       "\n",
       "    .dataframe tbody tr th {\n",
       "        vertical-align: top;\n",
       "    }\n",
       "\n",
       "    .dataframe thead th {\n",
       "        text-align: right;\n",
       "    }\n",
       "</style>\n",
       "<table border=\"1\" class=\"dataframe\">\n",
       "  <thead>\n",
       "    <tr style=\"text-align: right;\">\n",
       "      <th></th>\n",
       "      <th>_id</th>\n",
       "      <th>text</th>\n",
       "      <th>createdAt</th>\n",
       "      <th>verified</th>\n",
       "    </tr>\n",
       "  </thead>\n",
       "  <tbody>\n",
       "    <tr>\n",
       "      <th>37</th>\n",
       "      <td>5b1b3f56841d9700146158cc</td>\n",
       "      <td>Cats lack antibodies against dog blood so they can only receive it via a transfusion once. The second time would kill them.</td>\n",
       "      <td>2018-06-22T20:20:02.344Z</td>\n",
       "      <td>True</td>\n",
       "    </tr>\n",
       "    <tr>\n",
       "      <th>43</th>\n",
       "      <td>591f9890d369931519ce3552</td>\n",
       "      <td>A steady diet of dog food may cause blindness in your cat - it lacks taurine.</td>\n",
       "      <td>2018-01-04T01:10:54.673Z</td>\n",
       "      <td>True</td>\n",
       "    </tr>\n",
       "    <tr>\n",
       "      <th>44</th>\n",
       "      <td>591f98703b90f7150a19c16e</td>\n",
       "      <td>On February 28, 1 980 a female cat climbed 70 feet up the sheer pebble-dash outside wall of a block of flats in Bradford, Yorkshire and took refuge in the roof space. She had been frightened by a dog.</td>\n",
       "      <td>2018-01-04T01:10:54.673Z</td>\n",
       "      <td>True</td>\n",
       "    </tr>\n",
       "    <tr>\n",
       "      <th>52</th>\n",
       "      <td>58e00a090aac31001185ed16</td>\n",
       "      <td>Cats make more than 100 different sounds whereas dogs make around 10.</td>\n",
       "      <td>2018-02-11T21:20:03.745Z</td>\n",
       "      <td>True</td>\n",
       "    </tr>\n",
       "    <tr>\n",
       "      <th>54</th>\n",
       "      <td>58e00a7e0aac31001185ed19</td>\n",
       "      <td>A cat's cerebral cortex (the part of the brain in charge of cognitive information processing) has 300 million neurons, compared with a dog's 160 million.</td>\n",
       "      <td>2018-01-06T21:20:02.832Z</td>\n",
       "      <td>True</td>\n",
       "    </tr>\n",
       "    <tr>\n",
       "      <th>74</th>\n",
       "      <td>591f98703b90f7150a19c12c</td>\n",
       "      <td>Tests done by the Behavioral Department of the Musuem of Natural History conclude that while a dog's memory lasts about 5 minutes, a cat's recall can last as long as 16 hours.</td>\n",
       "      <td>2018-01-04T01:10:54.673Z</td>\n",
       "      <td>True</td>\n",
       "    </tr>\n",
       "    <tr>\n",
       "      <th>82</th>\n",
       "      <td>5887e1d85c873e0011036889</td>\n",
       "      <td>Cats make about 100 different sounds. Dogs make only about 10.</td>\n",
       "      <td>2018-01-15T21:20:00.003Z</td>\n",
       "      <td>True</td>\n",
       "    </tr>\n",
       "    <tr>\n",
       "      <th>115</th>\n",
       "      <td>591f98803b90f7150a19c238</td>\n",
       "      <td>In 1987 cats overtook dogs as the number one pet in America.</td>\n",
       "      <td>2018-01-04T01:10:54.673Z</td>\n",
       "      <td>True</td>\n",
       "    </tr>\n",
       "    <tr>\n",
       "      <th>149</th>\n",
       "      <td>59cd7a97c828120020f7d3a1</td>\n",
       "      <td>Since cats treat us like cats and depend on us for things like food, water, and opening the door to let them out, they do recognize, that we are in some way in charge — the “big cat” in the shared territory. As territorial animals, our cats are constantly wondering why we’re not doing other cat things that the big cat would normally do in their territory. In fact, the “let me in, let me out, let me in” phenomenon is a good example. The bigger cat ostensibly rules the territory and therefore should be the one patrolling and marking it with pee so other cats stay away. But since humans don’t do this, indoor-outdoor cats reluctantly take on the role themselves. The apparent neuroticism of cats wanting to go outside every five minutes only to be let right back in is funny to us because it seems so silly and unnecessary. But to the cats, it’s very necessary (and frustrating) to cover for their dumb pals.</td>\n",
       "      <td>2018-02-06T21:24:00.650Z</td>\n",
       "      <td>True</td>\n",
       "    </tr>\n",
       "    <tr>\n",
       "      <th>154</th>\n",
       "      <td>591f98883b90f7150a19c281</td>\n",
       "      <td>Cats' hearing is much more sensitive than humans and dogs.</td>\n",
       "      <td>2018-04-23T20:20:02.517Z</td>\n",
       "      <td>True</td>\n",
       "    </tr>\n",
       "    <tr>\n",
       "      <th>156</th>\n",
       "      <td>591f7aab0cf1d60ee8afcd61</td>\n",
       "      <td>A cat's brain is more similar to a man's brain than that of a dog.</td>\n",
       "      <td>2018-01-04T01:10:54.673Z</td>\n",
       "      <td>True</td>\n",
       "    </tr>\n",
       "    <tr>\n",
       "      <th>237</th>\n",
       "      <td>591f98783b90f7150a19c19f</td>\n",
       "      <td>A cat's jaw has only up and down motion; it does not have any lateral, side to side motion, like dogs and humans.</td>\n",
       "      <td>2018-01-04T01:10:54.673Z</td>\n",
       "      <td>True</td>\n",
       "    </tr>\n",
       "    <tr>\n",
       "      <th>238</th>\n",
       "      <td>591f98783b90f7150a19c1b5</td>\n",
       "      <td>Cats have 32 muscles that control the outer ear (compared to human's 6 muscles each). A cat can rotate its ears independently 180 degrees, and can turn in the direction of sound 10 times faster than those of the best watchdog.</td>\n",
       "      <td>2018-01-04T01:10:54.673Z</td>\n",
       "      <td>True</td>\n",
       "    </tr>\n",
       "    <tr>\n",
       "      <th>254</th>\n",
       "      <td>591f98088dec2e14e3c20b0e</td>\n",
       "      <td>In 1987, cats overtook dogs as the number one pet in America (about 50 million cats resided in 24 million homes in 1986). About 37% of American homes today have at least one cat.</td>\n",
       "      <td>2018-01-04T01:10:54.673Z</td>\n",
       "      <td>True</td>\n",
       "    </tr>\n",
       "    <tr>\n",
       "      <th>266</th>\n",
       "      <td>591f9894d369931519ce3593</td>\n",
       "      <td>The average cat food meal is the equivalent to about five mice.</td>\n",
       "      <td>2018-01-04T01:10:54.673Z</td>\n",
       "      <td>True</td>\n",
       "    </tr>\n",
       "    <tr>\n",
       "      <th>272</th>\n",
       "      <td>591f98783b90f7150a19c19c</td>\n",
       "      <td>In households in the UK and USA, there are more cats kept as pets than dogs. At least 35% of households with cats have 2 or more cats.</td>\n",
       "      <td>2018-01-04T01:10:54.673Z</td>\n",
       "      <td>True</td>\n",
       "    </tr>\n",
       "    <tr>\n",
       "      <th>291</th>\n",
       "      <td>591f98883b90f7150a19c267</td>\n",
       "      <td>Cat bites are more likely to become infected than dog bites.</td>\n",
       "      <td>2018-01-04T01:10:54.673Z</td>\n",
       "      <td>True</td>\n",
       "    </tr>\n",
       "    <tr>\n",
       "      <th>292</th>\n",
       "      <td>591f98803b90f7150a19c229</td>\n",
       "      <td>In an average year, cat owners in the United States spend over $2 billion on cat food.</td>\n",
       "      <td>2018-01-04T01:10:54.673Z</td>\n",
       "      <td>True</td>\n",
       "    </tr>\n",
       "    <tr>\n",
       "      <th>308</th>\n",
       "      <td>5ad9f10f734d1d2de1f501de</td>\n",
       "      <td>Exposing cats and dogs to marijuana can help reduce the suffering from a chronic and painful illness.</td>\n",
       "      <td>2018-04-19T01:10:54.673Z</td>\n",
       "      <td>True</td>\n",
       "    </tr>\n",
       "    <tr>\n",
       "      <th>313</th>\n",
       "      <td>58e00a850aac31001185ed1a</td>\n",
       "      <td>Cats have a longer-term memory than dogs, especially when they learn by actually doing rather than simply seeing.</td>\n",
       "      <td>2018-02-18T21:20:03.044Z</td>\n",
       "      <td>True</td>\n",
       "    </tr>\n",
       "    <tr>\n",
       "      <th>338</th>\n",
       "      <td>5c35531e8e0b8d00148d45e8</td>\n",
       "      <td>If you grow your own catnip, here's how to prepare it for kitty's enjoyment: Cut several stalks of the plant from the base. Hang them upside down in a dark and dry room for several weeks. Then cut the catnip into small pieces, rub some on your cat's favorite toys or scratching post, and let the games begin!</td>\n",
       "      <td>2019-01-09T01:49:18.342Z</td>\n",
       "      <td>True</td>\n",
       "    </tr>\n",
       "    <tr>\n",
       "      <th>360</th>\n",
       "      <td>5b0c5e3e7ab3c50014df65fe</td>\n",
       "      <td>People who own cats have on average 2.1 pets per household, where dog owners have about 1.6.</td>\n",
       "      <td>2018-05-28T20:20:02.181Z</td>\n",
       "      <td>True</td>\n",
       "    </tr>\n",
       "    <tr>\n",
       "      <th>410</th>\n",
       "      <td>5c475ca8a99c3f00140fe4d0</td>\n",
       "      <td>Loyal, playful, and alert, Manx are considered to be more \"doglike\" than other cats.</td>\n",
       "      <td>2019-01-22T18:10:48.215Z</td>\n",
       "      <td>True</td>\n",
       "    </tr>\n",
       "    <tr>\n",
       "      <th>469</th>\n",
       "      <td>58e007cc0aac31001185ecf5</td>\n",
       "      <td>Cats are the most popular pet in the United States: There are 88 million pet cats and 74 million dogs.</td>\n",
       "      <td>2018-03-01T21:20:02.713Z</td>\n",
       "      <td>True</td>\n",
       "    </tr>\n",
       "    <tr>\n",
       "      <th>489</th>\n",
       "      <td>5b1b408a841d9700146158d5</td>\n",
       "      <td>Domestic cats will try not to drink from a water bowl that is next to their food. This is because in the wild, water next to their kill could be contaminated.</td>\n",
       "      <td>2018-06-19T20:20:02.801Z</td>\n",
       "      <td>True</td>\n",
       "    </tr>\n",
       "  </tbody>\n",
       "</table>\n",
       "</div>"
      ],
      "text/plain": [
       "                          _id  \\\n",
       "37   5b1b3f56841d9700146158cc   \n",
       "43   591f9890d369931519ce3552   \n",
       "44   591f98703b90f7150a19c16e   \n",
       "52   58e00a090aac31001185ed16   \n",
       "54   58e00a7e0aac31001185ed19   \n",
       "74   591f98703b90f7150a19c12c   \n",
       "82   5887e1d85c873e0011036889   \n",
       "115  591f98803b90f7150a19c238   \n",
       "149  59cd7a97c828120020f7d3a1   \n",
       "154  591f98883b90f7150a19c281   \n",
       "156  591f7aab0cf1d60ee8afcd61   \n",
       "237  591f98783b90f7150a19c19f   \n",
       "238  591f98783b90f7150a19c1b5   \n",
       "254  591f98088dec2e14e3c20b0e   \n",
       "266  591f9894d369931519ce3593   \n",
       "272  591f98783b90f7150a19c19c   \n",
       "291  591f98883b90f7150a19c267   \n",
       "292  591f98803b90f7150a19c229   \n",
       "308  5ad9f10f734d1d2de1f501de   \n",
       "313  58e00a850aac31001185ed1a   \n",
       "338  5c35531e8e0b8d00148d45e8   \n",
       "360  5b0c5e3e7ab3c50014df65fe   \n",
       "410  5c475ca8a99c3f00140fe4d0   \n",
       "469  58e007cc0aac31001185ecf5   \n",
       "489  5b1b408a841d9700146158d5   \n",
       "\n",
       "                                                                                                                                                                                                                                                                                                                                                                                                                                                                                                                                                                                                                                                                                                                                                                                                                                                                                                                                                 text  \\\n",
       "37                                                                                                                                                                                                                                                                                                                                                                                                                                                                                                                                                                                                                                                                                                                                                                                                                        Cats lack antibodies against dog blood so they can only receive it via a transfusion once. The second time would kill them.   \n",
       "43                                                                                                                                                                                                                                                                                                                                                                                                                                                                                                                                                                                                                                                                                                                                                                                                                                                                      A steady diet of dog food may cause blindness in your cat - it lacks taurine.   \n",
       "44                                                                                                                                                                                                                                                                                                                                                                                                                                                                                                                                                                                                                                                                                                                                           On February 28, 1 980 a female cat climbed 70 feet up the sheer pebble-dash outside wall of a block of flats in Bradford, Yorkshire and took refuge in the roof space. She had been frightened by a dog.   \n",
       "52                                                                                                                                                                                                                                                                                                                                                                                                                                                                                                                                                                                                                                                                                                                                                                                                                                                                              Cats make more than 100 different sounds whereas dogs make around 10.   \n",
       "54                                                                                                                                                                                                                                                                                                                                                                                                                                                                                                                                                                                                                                                                                                                                                                                          A cat's cerebral cortex (the part of the brain in charge of cognitive information processing) has 300 million neurons, compared with a dog's 160 million.   \n",
       "74                                                                                                                                                                                                                                                                                                                                                                                                                                                                                                                                                                                                                                                                                                                                                                    Tests done by the Behavioral Department of the Musuem of Natural History conclude that while a dog's memory lasts about 5 minutes, a cat's recall can last as long as 16 hours.   \n",
       "82                                                                                                                                                                                                                                                                                                                                                                                                                                                                                                                                                                                                                                                                                                                                                                                                                                                                                     Cats make about 100 different sounds. Dogs make only about 10.   \n",
       "115                                                                                                                                                                                                                                                                                                                                                                                                                                                                                                                                                                                                                                                                                                                                                                                                                                                                                      In 1987 cats overtook dogs as the number one pet in America.   \n",
       "149  Since cats treat us like cats and depend on us for things like food, water, and opening the door to let them out, they do recognize, that we are in some way in charge — the “big cat” in the shared territory. As territorial animals, our cats are constantly wondering why we’re not doing other cat things that the big cat would normally do in their territory. In fact, the “let me in, let me out, let me in” phenomenon is a good example. The bigger cat ostensibly rules the territory and therefore should be the one patrolling and marking it with pee so other cats stay away. But since humans don’t do this, indoor-outdoor cats reluctantly take on the role themselves. The apparent neuroticism of cats wanting to go outside every five minutes only to be let right back in is funny to us because it seems so silly and unnecessary. But to the cats, it’s very necessary (and frustrating) to cover for their dumb pals.   \n",
       "154                                                                                                                                                                                                                                                                                                                                                                                                                                                                                                                                                                                                                                                                                                                                                                                                                                                                                        Cats' hearing is much more sensitive than humans and dogs.   \n",
       "156                                                                                                                                                                                                                                                                                                                                                                                                                                                                                                                                                                                                                                                                                                                                                                                                                                                                                A cat's brain is more similar to a man's brain than that of a dog.   \n",
       "237                                                                                                                                                                                                                                                                                                                                                                                                                                                                                                                                                                                                                                                                                                                                                                                                                                 A cat's jaw has only up and down motion; it does not have any lateral, side to side motion, like dogs and humans.   \n",
       "238                                                                                                                                                                                                                                                                                                                                                                                                                                                                                                                                                                                                                                                                                                                Cats have 32 muscles that control the outer ear (compared to human's 6 muscles each). A cat can rotate its ears independently 180 degrees, and can turn in the direction of sound 10 times faster than those of the best watchdog.   \n",
       "254                                                                                                                                                                                                                                                                                                                                                                                                                                                                                                                                                                                                                                                                                                                                                                In 1987, cats overtook dogs as the number one pet in America (about 50 million cats resided in 24 million homes in 1986). About 37% of American homes today have at least one cat.   \n",
       "266                                                                                                                                                                                                                                                                                                                                                                                                                                                                                                                                                                                                                                                                                                                                                                                                                                                                                   The average cat food meal is the equivalent to about five mice.   \n",
       "272                                                                                                                                                                                                                                                                                                                                                                                                                                                                                                                                                                                                                                                                                                                                                                                                            In households in the UK and USA, there are more cats kept as pets than dogs. At least 35% of households with cats have 2 or more cats.   \n",
       "291                                                                                                                                                                                                                                                                                                                                                                                                                                                                                                                                                                                                                                                                                                                                                                                                                                                                                      Cat bites are more likely to become infected than dog bites.   \n",
       "292                                                                                                                                                                                                                                                                                                                                                                                                                                                                                                                                                                                                                                                                                                                                                                                                                                                            In an average year, cat owners in the United States spend over $2 billion on cat food.   \n",
       "308                                                                                                                                                                                                                                                                                                                                                                                                                                                                                                                                                                                                                                                                                                                                                                                                                                             Exposing cats and dogs to marijuana can help reduce the suffering from a chronic and painful illness.   \n",
       "313                                                                                                                                                                                                                                                                                                                                                                                                                                                                                                                                                                                                                                                                                                                                                                                                                                 Cats have a longer-term memory than dogs, especially when they learn by actually doing rather than simply seeing.   \n",
       "338                                                                                                                                                                                                                                                                                                                                                                                                                                                                                                                                                                                                                              If you grow your own catnip, here's how to prepare it for kitty's enjoyment: Cut several stalks of the plant from the base. Hang them upside down in a dark and dry room for several weeks. Then cut the catnip into small pieces, rub some on your cat's favorite toys or scratching post, and let the games begin!   \n",
       "360                                                                                                                                                                                                                                                                                                                                                                                                                                                                                                                                                                                                                                                                                                                                                                                                                                                      People who own cats have on average 2.1 pets per household, where dog owners have about 1.6.   \n",
       "410                                                                                                                                                                                                                                                                                                                                                                                                                                                                                                                                                                                                                                                                                                                                                                                                                                                              Loyal, playful, and alert, Manx are considered to be more \"doglike\" than other cats.   \n",
       "469                                                                                                                                                                                                                                                                                                                                                                                                                                                                                                                                                                                                                                                                                                                                                                                                                                            Cats are the most popular pet in the United States: There are 88 million pet cats and 74 million dogs.   \n",
       "489                                                                                                                                                                                                                                                                                                                                                                                                                                                                                                                                                                                                                                                                                                                                                                                    Domestic cats will try not to drink from a water bowl that is next to their food. This is because in the wild, water next to their kill could be contaminated.   \n",
       "\n",
       "                    createdAt verified  \n",
       "37   2018-06-22T20:20:02.344Z     True  \n",
       "43   2018-01-04T01:10:54.673Z     True  \n",
       "44   2018-01-04T01:10:54.673Z     True  \n",
       "52   2018-02-11T21:20:03.745Z     True  \n",
       "54   2018-01-06T21:20:02.832Z     True  \n",
       "74   2018-01-04T01:10:54.673Z     True  \n",
       "82   2018-01-15T21:20:00.003Z     True  \n",
       "115  2018-01-04T01:10:54.673Z     True  \n",
       "149  2018-02-06T21:24:00.650Z     True  \n",
       "154  2018-04-23T20:20:02.517Z     True  \n",
       "156  2018-01-04T01:10:54.673Z     True  \n",
       "237  2018-01-04T01:10:54.673Z     True  \n",
       "238  2018-01-04T01:10:54.673Z     True  \n",
       "254  2018-01-04T01:10:54.673Z     True  \n",
       "266  2018-01-04T01:10:54.673Z     True  \n",
       "272  2018-01-04T01:10:54.673Z     True  \n",
       "291  2018-01-04T01:10:54.673Z     True  \n",
       "292  2018-01-04T01:10:54.673Z     True  \n",
       "308  2018-04-19T01:10:54.673Z     True  \n",
       "313  2018-02-18T21:20:03.044Z     True  \n",
       "338  2019-01-09T01:49:18.342Z     True  \n",
       "360  2018-05-28T20:20:02.181Z     True  \n",
       "410  2019-01-22T18:10:48.215Z     True  \n",
       "469  2018-03-01T21:20:02.713Z     True  \n",
       "489  2018-06-19T20:20:02.801Z     True  "
      ]
     },
     "execution_count": 54,
     "metadata": {},
     "output_type": "execute_result"
    }
   ],
   "source": [
    "verified_df[verified_df[\"text\"].str.lower().str.contains(\"dog|food|toys\")]"
   ]
  },
  {
   "cell_type": "code",
   "execution_count": null,
   "id": "df191938-2700-40a0-ba49-8b5dfb20bb2f",
   "metadata": {},
   "outputs": [],
   "source": []
  },
  {
   "cell_type": "markdown",
   "id": "779b6f93-c7b9-4876-8aab-988049cbb964",
   "metadata": {},
   "source": [
    "#### Find the oldest fact? "
   ]
  },
  {
   "cell_type": "code",
   "execution_count": 59,
   "id": "50f28bef-effa-4acf-94eb-25e3de0c009f",
   "metadata": {},
   "outputs": [
    {
     "data": {
      "text/html": [
       "<div>\n",
       "<style scoped>\n",
       "    .dataframe tbody tr th:only-of-type {\n",
       "        vertical-align: middle;\n",
       "    }\n",
       "\n",
       "    .dataframe tbody tr th {\n",
       "        vertical-align: top;\n",
       "    }\n",
       "\n",
       "    .dataframe thead th {\n",
       "        text-align: right;\n",
       "    }\n",
       "</style>\n",
       "<table border=\"1\" class=\"dataframe\">\n",
       "  <thead>\n",
       "    <tr style=\"text-align: right;\">\n",
       "      <th></th>\n",
       "      <th>_id</th>\n",
       "      <th>text</th>\n",
       "      <th>createdAt</th>\n",
       "      <th>verified</th>\n",
       "      <th>date</th>\n",
       "    </tr>\n",
       "  </thead>\n",
       "  <tbody>\n",
       "    <tr>\n",
       "      <th>1</th>\n",
       "      <td>591f9894d369931519ce35c6</td>\n",
       "      <td>All cats need taurine in their diet to avoid blindness. Cats must also have fat in their diet as they are unable to produce it on their own.</td>\n",
       "      <td>2018-01-04T01:10:54.673Z</td>\n",
       "      <td>True</td>\n",
       "      <td>2018-01-04</td>\n",
       "    </tr>\n",
       "    <tr>\n",
       "      <th>496</th>\n",
       "      <td>591f9890d369931519ce3541</td>\n",
       "      <td>Blue-eyed, pure white cats are frequently deaf.</td>\n",
       "      <td>2018-01-04T01:10:54.673Z</td>\n",
       "      <td>True</td>\n",
       "      <td>2018-01-04</td>\n",
       "    </tr>\n",
       "    <tr>\n",
       "      <th>254</th>\n",
       "      <td>591f98088dec2e14e3c20b0e</td>\n",
       "      <td>In 1987, cats overtook dogs as the number one pet in America (about 50 million cats resided in 24 million homes in 1986). About 37% of American homes today have at least one cat.</td>\n",
       "      <td>2018-01-04T01:10:54.673Z</td>\n",
       "      <td>True</td>\n",
       "      <td>2018-01-04</td>\n",
       "    </tr>\n",
       "    <tr>\n",
       "      <th>259</th>\n",
       "      <td>591f98703b90f7150a19c125</td>\n",
       "      <td>An adult cat has 30 teeth, 16 on the top and 14 on the bottom.</td>\n",
       "      <td>2018-01-04T01:10:54.673Z</td>\n",
       "      <td>True</td>\n",
       "      <td>2018-01-04</td>\n",
       "    </tr>\n",
       "    <tr>\n",
       "      <th>262</th>\n",
       "      <td>591f98803b90f7150a19c1ff</td>\n",
       "      <td>A cat's appetite is the barometer of its health. Any cat that does not eat or drink for more than two days should be taken to a vet.</td>\n",
       "      <td>2018-01-04T01:10:54.673Z</td>\n",
       "      <td>True</td>\n",
       "      <td>2018-01-04</td>\n",
       "    </tr>\n",
       "  </tbody>\n",
       "</table>\n",
       "</div>"
      ],
      "text/plain": [
       "                          _id  \\\n",
       "1    591f9894d369931519ce35c6   \n",
       "496  591f9890d369931519ce3541   \n",
       "254  591f98088dec2e14e3c20b0e   \n",
       "259  591f98703b90f7150a19c125   \n",
       "262  591f98803b90f7150a19c1ff   \n",
       "\n",
       "                                                                                                                                                                                   text  \\\n",
       "1                                          All cats need taurine in their diet to avoid blindness. Cats must also have fat in their diet as they are unable to produce it on their own.   \n",
       "496                                                                                                                                     Blue-eyed, pure white cats are frequently deaf.   \n",
       "254  In 1987, cats overtook dogs as the number one pet in America (about 50 million cats resided in 24 million homes in 1986). About 37% of American homes today have at least one cat.   \n",
       "259                                                                                                                      An adult cat has 30 teeth, 16 on the top and 14 on the bottom.   \n",
       "262                                                A cat's appetite is the barometer of its health. Any cat that does not eat or drink for more than two days should be taken to a vet.   \n",
       "\n",
       "                    createdAt verified        date  \n",
       "1    2018-01-04T01:10:54.673Z     True  2018-01-04  \n",
       "496  2018-01-04T01:10:54.673Z     True  2018-01-04  \n",
       "254  2018-01-04T01:10:54.673Z     True  2018-01-04  \n",
       "259  2018-01-04T01:10:54.673Z     True  2018-01-04  \n",
       "262  2018-01-04T01:10:54.673Z     True  2018-01-04  "
      ]
     },
     "execution_count": 59,
     "metadata": {},
     "output_type": "execute_result"
    }
   ],
   "source": [
    "verified_df.sort_values(\"createdAt\", ascending=True).head()"
   ]
  },
  {
   "cell_type": "code",
   "execution_count": 60,
   "id": "158dc05c-8867-4f34-bc5c-9bed8b6a0361",
   "metadata": {},
   "outputs": [],
   "source": [
    "verified_df[\"date\"] = pd.to_datetime(verified_df[\"createdAt\"]).dt.strftime(\"%Y-%m-%d\")"
   ]
  },
  {
   "cell_type": "code",
   "execution_count": 61,
   "id": "80698a28-a6f1-4813-88aa-96ee95986a6e",
   "metadata": {},
   "outputs": [
    {
     "data": {
      "text/html": [
       "<div>\n",
       "<style scoped>\n",
       "    .dataframe tbody tr th:only-of-type {\n",
       "        vertical-align: middle;\n",
       "    }\n",
       "\n",
       "    .dataframe tbody tr th {\n",
       "        vertical-align: top;\n",
       "    }\n",
       "\n",
       "    .dataframe thead th {\n",
       "        text-align: right;\n",
       "    }\n",
       "</style>\n",
       "<table border=\"1\" class=\"dataframe\">\n",
       "  <thead>\n",
       "    <tr style=\"text-align: right;\">\n",
       "      <th></th>\n",
       "      <th>_id</th>\n",
       "      <th>text</th>\n",
       "      <th>createdAt</th>\n",
       "      <th>verified</th>\n",
       "      <th>date</th>\n",
       "    </tr>\n",
       "  </thead>\n",
       "  <tbody>\n",
       "    <tr>\n",
       "      <th>1</th>\n",
       "      <td>591f9894d369931519ce35c6</td>\n",
       "      <td>All cats need taurine in their diet to avoid blindness. Cats must also have fat in their diet as they are unable to produce it on their own.</td>\n",
       "      <td>2018-01-04T01:10:54.673Z</td>\n",
       "      <td>True</td>\n",
       "      <td>2018-01-04</td>\n",
       "    </tr>\n",
       "    <tr>\n",
       "      <th>2</th>\n",
       "      <td>591f98703b90f7150a19c178</td>\n",
       "      <td>A cats field of vision is about 185 degrees.</td>\n",
       "      <td>2018-05-06T20:20:02.193Z</td>\n",
       "      <td>True</td>\n",
       "      <td>2018-05-06</td>\n",
       "    </tr>\n",
       "    <tr>\n",
       "      <th>4</th>\n",
       "      <td>591f98703b90f7150a19c15f</td>\n",
       "      <td>Recent studies have shown that cats can see blue and green. There is disagreement as to whether they can see red.</td>\n",
       "      <td>2018-01-04T01:10:54.673Z</td>\n",
       "      <td>True</td>\n",
       "      <td>2018-01-04</td>\n",
       "    </tr>\n",
       "    <tr>\n",
       "      <th>10</th>\n",
       "      <td>5d38b0310f1c57001592f128</td>\n",
       "      <td>Scratching allows a cat to shed the outer layers of her claws, mark her territory, and stretch her body. Rather than discouraging the scratching behavior altogether, try redirecting your cat to a few scratching posts placed strategically around your home.</td>\n",
       "      <td>2019-07-24T19:23:29.696Z</td>\n",
       "      <td>True</td>\n",
       "      <td>2019-07-24</td>\n",
       "    </tr>\n",
       "    <tr>\n",
       "      <th>12</th>\n",
       "      <td>5c7408a14dd87d001490f02b</td>\n",
       "      <td>The cheetah is the only cat that doesn't have retractable claws.</td>\n",
       "      <td>2019-02-25T15:24:17.762Z</td>\n",
       "      <td>True</td>\n",
       "      <td>2019-02-25</td>\n",
       "    </tr>\n",
       "  </tbody>\n",
       "</table>\n",
       "</div>"
      ],
      "text/plain": [
       "                         _id  \\\n",
       "1   591f9894d369931519ce35c6   \n",
       "2   591f98703b90f7150a19c178   \n",
       "4   591f98703b90f7150a19c15f   \n",
       "10  5d38b0310f1c57001592f128   \n",
       "12  5c7408a14dd87d001490f02b   \n",
       "\n",
       "                                                                                                                                                                                                                                                               text  \\\n",
       "1                                                                                                                      All cats need taurine in their diet to avoid blindness. Cats must also have fat in their diet as they are unable to produce it on their own.   \n",
       "2                                                                                                                                                                                                                      A cats field of vision is about 185 degrees.   \n",
       "4                                                                                                                                                 Recent studies have shown that cats can see blue and green. There is disagreement as to whether they can see red.   \n",
       "10  Scratching allows a cat to shed the outer layers of her claws, mark her territory, and stretch her body. Rather than discouraging the scratching behavior altogether, try redirecting your cat to a few scratching posts placed strategically around your home.   \n",
       "12                                                                                                                                                                                                 The cheetah is the only cat that doesn't have retractable claws.   \n",
       "\n",
       "                   createdAt verified        date  \n",
       "1   2018-01-04T01:10:54.673Z     True  2018-01-04  \n",
       "2   2018-05-06T20:20:02.193Z     True  2018-05-06  \n",
       "4   2018-01-04T01:10:54.673Z     True  2018-01-04  \n",
       "10  2019-07-24T19:23:29.696Z     True  2019-07-24  \n",
       "12  2019-02-25T15:24:17.762Z     True  2019-02-25  "
      ]
     },
     "execution_count": 61,
     "metadata": {},
     "output_type": "execute_result"
    }
   ],
   "source": [
    "verified_df.head()"
   ]
  },
  {
   "cell_type": "markdown",
   "id": "fc179617-2c81-4305-b778-a675efb88aac",
   "metadata": {},
   "source": [
    "#### Most recent verified fact?"
   ]
  },
  {
   "cell_type": "code",
   "execution_count": 62,
   "id": "484945bd-21f4-478e-9327-fd9927501bfa",
   "metadata": {},
   "outputs": [
    {
     "data": {
      "text/html": [
       "<div>\n",
       "<style scoped>\n",
       "    .dataframe tbody tr th:only-of-type {\n",
       "        vertical-align: middle;\n",
       "    }\n",
       "\n",
       "    .dataframe tbody tr th {\n",
       "        vertical-align: top;\n",
       "    }\n",
       "\n",
       "    .dataframe thead th {\n",
       "        text-align: right;\n",
       "    }\n",
       "</style>\n",
       "<table border=\"1\" class=\"dataframe\">\n",
       "  <thead>\n",
       "    <tr style=\"text-align: right;\">\n",
       "      <th></th>\n",
       "      <th>_id</th>\n",
       "      <th>text</th>\n",
       "      <th>createdAt</th>\n",
       "      <th>verified</th>\n",
       "      <th>date</th>\n",
       "    </tr>\n",
       "  </thead>\n",
       "  <tbody>\n",
       "    <tr>\n",
       "      <th>1</th>\n",
       "      <td>591f9894d369931519ce35c6</td>\n",
       "      <td>All cats need taurine in their diet to avoid blindness. Cats must also have fat in their diet as they are unable to produce it on their own.</td>\n",
       "      <td>2018-01-04T01:10:54.673Z</td>\n",
       "      <td>True</td>\n",
       "      <td>2018-01-04</td>\n",
       "    </tr>\n",
       "    <tr>\n",
       "      <th>496</th>\n",
       "      <td>591f9890d369931519ce3541</td>\n",
       "      <td>Blue-eyed, pure white cats are frequently deaf.</td>\n",
       "      <td>2018-01-04T01:10:54.673Z</td>\n",
       "      <td>True</td>\n",
       "      <td>2018-01-04</td>\n",
       "    </tr>\n",
       "    <tr>\n",
       "      <th>254</th>\n",
       "      <td>591f98088dec2e14e3c20b0e</td>\n",
       "      <td>In 1987, cats overtook dogs as the number one pet in America (about 50 million cats resided in 24 million homes in 1986). About 37% of American homes today have at least one cat.</td>\n",
       "      <td>2018-01-04T01:10:54.673Z</td>\n",
       "      <td>True</td>\n",
       "      <td>2018-01-04</td>\n",
       "    </tr>\n",
       "    <tr>\n",
       "      <th>259</th>\n",
       "      <td>591f98703b90f7150a19c125</td>\n",
       "      <td>An adult cat has 30 teeth, 16 on the top and 14 on the bottom.</td>\n",
       "      <td>2018-01-04T01:10:54.673Z</td>\n",
       "      <td>True</td>\n",
       "      <td>2018-01-04</td>\n",
       "    </tr>\n",
       "    <tr>\n",
       "      <th>262</th>\n",
       "      <td>591f98803b90f7150a19c1ff</td>\n",
       "      <td>A cat's appetite is the barometer of its health. Any cat that does not eat or drink for more than two days should be taken to a vet.</td>\n",
       "      <td>2018-01-04T01:10:54.673Z</td>\n",
       "      <td>True</td>\n",
       "      <td>2018-01-04</td>\n",
       "    </tr>\n",
       "  </tbody>\n",
       "</table>\n",
       "</div>"
      ],
      "text/plain": [
       "                          _id  \\\n",
       "1    591f9894d369931519ce35c6   \n",
       "496  591f9890d369931519ce3541   \n",
       "254  591f98088dec2e14e3c20b0e   \n",
       "259  591f98703b90f7150a19c125   \n",
       "262  591f98803b90f7150a19c1ff   \n",
       "\n",
       "                                                                                                                                                                                   text  \\\n",
       "1                                          All cats need taurine in their diet to avoid blindness. Cats must also have fat in their diet as they are unable to produce it on their own.   \n",
       "496                                                                                                                                     Blue-eyed, pure white cats are frequently deaf.   \n",
       "254  In 1987, cats overtook dogs as the number one pet in America (about 50 million cats resided in 24 million homes in 1986). About 37% of American homes today have at least one cat.   \n",
       "259                                                                                                                      An adult cat has 30 teeth, 16 on the top and 14 on the bottom.   \n",
       "262                                                A cat's appetite is the barometer of its health. Any cat that does not eat or drink for more than two days should be taken to a vet.   \n",
       "\n",
       "                    createdAt verified        date  \n",
       "1    2018-01-04T01:10:54.673Z     True  2018-01-04  \n",
       "496  2018-01-04T01:10:54.673Z     True  2018-01-04  \n",
       "254  2018-01-04T01:10:54.673Z     True  2018-01-04  \n",
       "259  2018-01-04T01:10:54.673Z     True  2018-01-04  \n",
       "262  2018-01-04T01:10:54.673Z     True  2018-01-04  "
      ]
     },
     "execution_count": 62,
     "metadata": {},
     "output_type": "execute_result"
    }
   ],
   "source": [
    "verified_df.sort_values(\"createdAt\", ascending=True).head()"
   ]
  },
  {
   "cell_type": "code",
   "execution_count": 63,
   "id": "419e2dea-a8d3-4397-bad6-e6a66789f026",
   "metadata": {},
   "outputs": [],
   "source": [
    "verified_df[\"date\"] = pd.to_datetime(verified_df[\"createdAt\"]).dt.strftime(\"%Y-%m-%d\")"
   ]
  },
  {
   "cell_type": "code",
   "execution_count": 64,
   "id": "fa736b3a-9efc-42c4-ac46-fa109303df64",
   "metadata": {},
   "outputs": [
    {
     "data": {
      "text/html": [
       "<div>\n",
       "<style scoped>\n",
       "    .dataframe tbody tr th:only-of-type {\n",
       "        vertical-align: middle;\n",
       "    }\n",
       "\n",
       "    .dataframe tbody tr th {\n",
       "        vertical-align: top;\n",
       "    }\n",
       "\n",
       "    .dataframe thead th {\n",
       "        text-align: right;\n",
       "    }\n",
       "</style>\n",
       "<table border=\"1\" class=\"dataframe\">\n",
       "  <thead>\n",
       "    <tr style=\"text-align: right;\">\n",
       "      <th></th>\n",
       "      <th>_id</th>\n",
       "      <th>text</th>\n",
       "      <th>createdAt</th>\n",
       "      <th>verified</th>\n",
       "      <th>date</th>\n",
       "    </tr>\n",
       "  </thead>\n",
       "  <tbody>\n",
       "    <tr>\n",
       "      <th>1</th>\n",
       "      <td>591f9894d369931519ce35c6</td>\n",
       "      <td>All cats need taurine in their diet to avoid blindness. Cats must also have fat in their diet as they are unable to produce it on their own.</td>\n",
       "      <td>2018-01-04T01:10:54.673Z</td>\n",
       "      <td>True</td>\n",
       "      <td>2018-01-04</td>\n",
       "    </tr>\n",
       "    <tr>\n",
       "      <th>2</th>\n",
       "      <td>591f98703b90f7150a19c178</td>\n",
       "      <td>A cats field of vision is about 185 degrees.</td>\n",
       "      <td>2018-05-06T20:20:02.193Z</td>\n",
       "      <td>True</td>\n",
       "      <td>2018-05-06</td>\n",
       "    </tr>\n",
       "    <tr>\n",
       "      <th>4</th>\n",
       "      <td>591f98703b90f7150a19c15f</td>\n",
       "      <td>Recent studies have shown that cats can see blue and green. There is disagreement as to whether they can see red.</td>\n",
       "      <td>2018-01-04T01:10:54.673Z</td>\n",
       "      <td>True</td>\n",
       "      <td>2018-01-04</td>\n",
       "    </tr>\n",
       "    <tr>\n",
       "      <th>10</th>\n",
       "      <td>5d38b0310f1c57001592f128</td>\n",
       "      <td>Scratching allows a cat to shed the outer layers of her claws, mark her territory, and stretch her body. Rather than discouraging the scratching behavior altogether, try redirecting your cat to a few scratching posts placed strategically around your home.</td>\n",
       "      <td>2019-07-24T19:23:29.696Z</td>\n",
       "      <td>True</td>\n",
       "      <td>2019-07-24</td>\n",
       "    </tr>\n",
       "    <tr>\n",
       "      <th>12</th>\n",
       "      <td>5c7408a14dd87d001490f02b</td>\n",
       "      <td>The cheetah is the only cat that doesn't have retractable claws.</td>\n",
       "      <td>2019-02-25T15:24:17.762Z</td>\n",
       "      <td>True</td>\n",
       "      <td>2019-02-25</td>\n",
       "    </tr>\n",
       "  </tbody>\n",
       "</table>\n",
       "</div>"
      ],
      "text/plain": [
       "                         _id  \\\n",
       "1   591f9894d369931519ce35c6   \n",
       "2   591f98703b90f7150a19c178   \n",
       "4   591f98703b90f7150a19c15f   \n",
       "10  5d38b0310f1c57001592f128   \n",
       "12  5c7408a14dd87d001490f02b   \n",
       "\n",
       "                                                                                                                                                                                                                                                               text  \\\n",
       "1                                                                                                                      All cats need taurine in their diet to avoid blindness. Cats must also have fat in their diet as they are unable to produce it on their own.   \n",
       "2                                                                                                                                                                                                                      A cats field of vision is about 185 degrees.   \n",
       "4                                                                                                                                                 Recent studies have shown that cats can see blue and green. There is disagreement as to whether they can see red.   \n",
       "10  Scratching allows a cat to shed the outer layers of her claws, mark her territory, and stretch her body. Rather than discouraging the scratching behavior altogether, try redirecting your cat to a few scratching posts placed strategically around your home.   \n",
       "12                                                                                                                                                                                                 The cheetah is the only cat that doesn't have retractable claws.   \n",
       "\n",
       "                   createdAt verified        date  \n",
       "1   2018-01-04T01:10:54.673Z     True  2018-01-04  \n",
       "2   2018-05-06T20:20:02.193Z     True  2018-05-06  \n",
       "4   2018-01-04T01:10:54.673Z     True  2018-01-04  \n",
       "10  2019-07-24T19:23:29.696Z     True  2019-07-24  \n",
       "12  2019-02-25T15:24:17.762Z     True  2019-02-25  "
      ]
     },
     "execution_count": 64,
     "metadata": {},
     "output_type": "execute_result"
    }
   ],
   "source": [
    "verified_df.head()"
   ]
  },
  {
   "cell_type": "markdown",
   "id": "1cea13ed-842c-48cd-8522-06859a25a992",
   "metadata": {},
   "source": [
    "---"
   ]
  },
  {
   "cell_type": "markdown",
   "id": "da50f0d9-5b44-42e6-9112-950ebf7deef5",
   "metadata": {},
   "source": [
    "## Dad jokes!"
   ]
  },
  {
   "cell_type": "markdown",
   "id": "4b661117-ead2-4905-bb99-e7d1a21ac3b4",
   "metadata": {},
   "source": [
    "[Read the documentation](https://icanhazdadjoke.com/api#fetch-a-random-dad-joke)"
   ]
  },
  {
   "cell_type": "markdown",
   "id": "545cac74-46f5-42c8-99c4-3b76ab9fce26",
   "metadata": {},
   "source": [
    "#### Give the request headers so the API knows how to answer it"
   ]
  },
  {
   "cell_type": "code",
   "execution_count": 65,
   "id": "a5f7a050-8817-4b8e-b01c-e803d326c7a1",
   "metadata": {},
   "outputs": [],
   "source": [
    "headers = {\n",
    "    \"Accept\": \"application/json\",\n",
    "}"
   ]
  },
  {
   "cell_type": "markdown",
   "id": "6c36b6fc-a7a3-4bed-96d7-6d55155a5ebc",
   "metadata": {},
   "source": [
    "#### Get a response from the API in the format we requested"
   ]
  },
  {
   "cell_type": "code",
   "execution_count": 66,
   "id": "3beca3aa-5f97-47a4-9005-a2b43a9bfaaf",
   "metadata": {},
   "outputs": [],
   "source": [
    "response = requests.get(\"https://icanhazdadjoke.com/search?page=1\", headers=headers)"
   ]
  },
  {
   "cell_type": "markdown",
   "id": "bd5f5213-6217-487d-9bda-ee4ef9fe77e7",
   "metadata": {},
   "source": [
    "#### What comes back?"
   ]
  },
  {
   "cell_type": "code",
   "execution_count": 70,
   "id": "a1738b72-221d-4dbd-be09-9db02c517ba6",
   "metadata": {},
   "outputs": [
    {
     "data": {
      "text/plain": [
       "{'current_page': 1,\n",
       " 'limit': 20,\n",
       " 'next_page': 2,\n",
       " 'previous_page': 1,\n",
       " 'results': [{'id': '0189hNRf2g',\n",
       "   'joke': \"I'm tired of following my dreams. I'm just going to ask them where they are going and meet up with them later.\"},\n",
       "  {'id': '08EQZ8EQukb',\n",
       "   'joke': \"Did you hear about the guy whose whole left side was cut off? He's all right now.\"},\n",
       "  {'id': '08xHQCdx5Ed',\n",
       "   'joke': 'Why didn’t the skeleton cross the road? Because he had no guts.'},\n",
       "  {'id': '0DQKB51oGlb',\n",
       "   'joke': \"What did one nut say as he chased another nut?  I'm a cashew!\"},\n",
       "  {'id': '0DtrrOZDlyd',\n",
       "   'joke': \"Chances are if you' ve seen one shopping center, you've seen a mall.\"},\n",
       "  {'id': '0LuXvkq4Muc',\n",
       "   'joke': \"I knew I shouldn't steal a mixer from work, but it was a whisk I was willing to take.\"},\n",
       "  {'id': '0ga2EdN7prc',\n",
       "   'joke': 'How come the stadium got hot after the game? Because all of the fans left.'},\n",
       "  {'id': '0oO71TSv4Ed',\n",
       "   'joke': 'Why was it called the dark ages? Because of all the knights. '},\n",
       "  {'id': '0oz51ozk3ob', 'joke': 'A steak pun is a rare medium well done.'},\n",
       "  {'id': '0ozAXv4Mmjb',\n",
       "   'joke': 'Why did the tomato blush? Because it saw the salad dressing.'},\n",
       "  {'id': '0wcFBQfiGBd',\n",
       "   'joke': 'Did you hear the joke about the wandering nun? She was a roman catholic.'},\n",
       "  {'id': '189xHQ7pOuc',\n",
       "   'joke': 'What creature is smarter than a talking parrot? A spelling bee.'},\n",
       "  {'id': '18Elj3EIYvc',\n",
       "   'joke': \"I'll tell you what often gets over looked... garden fences.\"},\n",
       "  {'id': '18h3wcU8xAd',\n",
       "   'joke': 'Why did the kid cross the playground? To get to the other slide.'},\n",
       "  {'id': '1DIRSfx51Dd',\n",
       "   'joke': \"Why do birds fly south for the winter? Because it's too far to walk.\"},\n",
       "  {'id': '1DQZDY0gVnb',\n",
       "   'joke': \"What is a centipedes's favorite Beatle song?  I want to hold your hand, hand, hand, hand...\"},\n",
       "  {'id': '1DQZvXvX8Ed',\n",
       "   'joke': 'My first time using an elevator was an uplifting experience. The second time let me down.'},\n",
       "  {'id': '1DQZvcFBdib', 'joke': \"To be Frank, I'd have to change my name.\"},\n",
       "  {'id': '1Dt4M7Ufaxc',\n",
       "   'joke': 'Slept like a log last night … woke up in the fireplace.'},\n",
       "  {'id': '1T01LBXLuzd',\n",
       "   'joke': \"Why does a Moon-rock taste better than an Earth-rock? Because it's a little meteor.\"}],\n",
       " 'search_term': '',\n",
       " 'status': 200,\n",
       " 'total_jokes': 649,\n",
       " 'total_pages': 33}"
      ]
     },
     "execution_count": 70,
     "metadata": {},
     "output_type": "execute_result"
    }
   ],
   "source": [
    "response.json()"
   ]
  },
  {
   "cell_type": "markdown",
   "id": "74836972-64aa-4557-8d44-87be2ea316e6",
   "metadata": {},
   "source": [
    "#### What's the limit per API call? "
   ]
  },
  {
   "cell_type": "code",
   "execution_count": 69,
   "id": "f8bc9d6b-da8c-42a3-b2ae-1671bb6a8f8e",
   "metadata": {},
   "outputs": [
    {
     "data": {
      "text/plain": [
       "[{'id': '0189hNRf2g',\n",
       "  'joke': \"I'm tired of following my dreams. I'm just going to ask them where they are going and meet up with them later.\"},\n",
       " {'id': '08EQZ8EQukb',\n",
       "  'joke': \"Did you hear about the guy whose whole left side was cut off? He's all right now.\"},\n",
       " {'id': '08xHQCdx5Ed',\n",
       "  'joke': 'Why didn’t the skeleton cross the road? Because he had no guts.'},\n",
       " {'id': '0DQKB51oGlb',\n",
       "  'joke': \"What did one nut say as he chased another nut?  I'm a cashew!\"},\n",
       " {'id': '0DtrrOZDlyd',\n",
       "  'joke': \"Chances are if you' ve seen one shopping center, you've seen a mall.\"},\n",
       " {'id': '0LuXvkq4Muc',\n",
       "  'joke': \"I knew I shouldn't steal a mixer from work, but it was a whisk I was willing to take.\"},\n",
       " {'id': '0ga2EdN7prc',\n",
       "  'joke': 'How come the stadium got hot after the game? Because all of the fans left.'},\n",
       " {'id': '0oO71TSv4Ed',\n",
       "  'joke': 'Why was it called the dark ages? Because of all the knights. '},\n",
       " {'id': '0oz51ozk3ob', 'joke': 'A steak pun is a rare medium well done.'},\n",
       " {'id': '0ozAXv4Mmjb',\n",
       "  'joke': 'Why did the tomato blush? Because it saw the salad dressing.'},\n",
       " {'id': '0wcFBQfiGBd',\n",
       "  'joke': 'Did you hear the joke about the wandering nun? She was a roman catholic.'},\n",
       " {'id': '189xHQ7pOuc',\n",
       "  'joke': 'What creature is smarter than a talking parrot? A spelling bee.'},\n",
       " {'id': '18Elj3EIYvc',\n",
       "  'joke': \"I'll tell you what often gets over looked... garden fences.\"},\n",
       " {'id': '18h3wcU8xAd',\n",
       "  'joke': 'Why did the kid cross the playground? To get to the other slide.'},\n",
       " {'id': '1DIRSfx51Dd',\n",
       "  'joke': \"Why do birds fly south for the winter? Because it's too far to walk.\"},\n",
       " {'id': '1DQZDY0gVnb',\n",
       "  'joke': \"What is a centipedes's favorite Beatle song?  I want to hold your hand, hand, hand, hand...\"},\n",
       " {'id': '1DQZvXvX8Ed',\n",
       "  'joke': 'My first time using an elevator was an uplifting experience. The second time let me down.'},\n",
       " {'id': '1DQZvcFBdib', 'joke': \"To be Frank, I'd have to change my name.\"},\n",
       " {'id': '1Dt4M7Ufaxc',\n",
       "  'joke': 'Slept like a log last night … woke up in the fireplace.'},\n",
       " {'id': '1T01LBXLuzd',\n",
       "  'joke': \"Why does a Moon-rock taste better than an Earth-rock? Because it's a little meteor.\"}]"
      ]
     },
     "execution_count": 69,
     "metadata": {},
     "output_type": "execute_result"
    }
   ],
   "source": [
    "response.json()[\"results\"]"
   ]
  },
  {
   "cell_type": "markdown",
   "id": "3421f21a-befb-49f9-bd8f-ea0a5cb9d702",
   "metadata": {},
   "source": [
    "#### How many total jokes? "
   ]
  },
  {
   "cell_type": "code",
   "execution_count": 74,
   "id": "6a6c30cf-f0fe-4aca-992c-80ca69c5c7da",
   "metadata": {},
   "outputs": [
    {
     "data": {
      "text/plain": [
       "649"
      ]
     },
     "execution_count": 74,
     "metadata": {},
     "output_type": "execute_result"
    }
   ],
   "source": [
    "response.json()[\"total_jokes\"]"
   ]
  },
  {
   "cell_type": "markdown",
   "id": "8545cf74-5e07-4f6a-96d2-226c129f8276",
   "metadata": {},
   "source": [
    "#### How many pages of 20 jokes? "
   ]
  },
  {
   "cell_type": "code",
   "execution_count": 77,
   "id": "819b33b4-dcfe-488e-9501-e9c8dbbcb008",
   "metadata": {},
   "outputs": [
    {
     "data": {
      "text/plain": [
       "33"
      ]
     },
     "execution_count": 77,
     "metadata": {},
     "output_type": "execute_result"
    }
   ],
   "source": [
    "response.json()[\"total_pages\"]"
   ]
  },
  {
   "cell_type": "markdown",
   "id": "c2024f47-4ed9-4209-aeed-94ebf195eff1",
   "metadata": {},
   "source": [
    "#### Ok, just the jokes"
   ]
  },
  {
   "cell_type": "code",
   "execution_count": 72,
   "id": "cff80dff-e568-4f2d-843e-18c494f88a75",
   "metadata": {},
   "outputs": [],
   "source": [
    "jokes_df = pd.DataFrame(response.json()[\"results\"])"
   ]
  },
  {
   "cell_type": "markdown",
   "id": "a3cce074-468e-443e-8d43-e13ad3f6e702",
   "metadata": {},
   "source": [
    "#### How many records?"
   ]
  },
  {
   "cell_type": "code",
   "execution_count": 73,
   "id": "353b9393-c717-4b52-a19d-44ecbf793e16",
   "metadata": {},
   "outputs": [
    {
     "data": {
      "text/plain": [
       "20"
      ]
     },
     "execution_count": 73,
     "metadata": {},
     "output_type": "execute_result"
    }
   ],
   "source": [
    "len(jokes_df)"
   ]
  },
  {
   "cell_type": "markdown",
   "id": "31409e11-3a00-465f-80da-59f18eacbba8",
   "metadata": {},
   "source": [
    "#### Get all the jokes with a loop"
   ]
  },
  {
   "cell_type": "code",
   "execution_count": 79,
   "id": "723d8553-dce0-42ad-8467-684e24a423e3",
   "metadata": {},
   "outputs": [
    {
     "ename": "SyntaxError",
     "evalue": "invalid syntax (<ipython-input-79-664310d503c7>, line 3)",
     "output_type": "error",
     "traceback": [
      "\u001b[0;36m  File \u001b[0;32m\"<ipython-input-79-664310d503c7>\"\u001b[0;36m, line \u001b[0;32m3\u001b[0m\n\u001b[0;31m    for r in range(0,34)\u001b[0m\n\u001b[0m                        ^\u001b[0m\n\u001b[0;31mSyntaxError\u001b[0m\u001b[0;31m:\u001b[0m invalid syntax\n"
     ]
    },
    {
     "name": "stderr",
     "output_type": "stream",
     "text": [
      "ERROR:root:Cannot parse: 3:20: for r in range(0,34)\n",
      "Traceback (most recent call last):\n",
      "  File \"/opt/anaconda3/lib/python3.8/site-packages/lab_black.py\", line 218, in format_cell\n",
      "    formatted_code = _format_code(cell)\n",
      "  File \"/opt/anaconda3/lib/python3.8/site-packages/lab_black.py\", line 29, in _format_code\n",
      "    return format_str(src_contents=code, mode=FileMode())\n",
      "  File \"/opt/anaconda3/lib/python3.8/site-packages/black.py\", line 725, in format_str\n",
      "    src_node = lib2to3_parse(src_contents.lstrip(), mode.target_versions)\n",
      "  File \"/opt/anaconda3/lib/python3.8/site-packages/black.py\", line 836, in lib2to3_parse\n",
      "    raise exc from None\n",
      "black.InvalidInput: Cannot parse: 3:20: for r in range(0,34)\n"
     ]
    }
   ],
   "source": [
    "data_pages = []\n",
    "\n",
    "for r in range(0,34)\n",
    "    data_pages.append(pd.DataFrame(requests.get(f\"https://icanhazdadjoke.com/search?page={r}\", headers = headers))).json()[\"results\"])]"
   ]
  },
  {
   "cell_type": "markdown",
   "id": "2bc5b2ba-7bc8-4de5-8d73-9a6c440d4934",
   "metadata": {},
   "source": [
    "#### How many? "
   ]
  },
  {
   "cell_type": "code",
   "execution_count": null,
   "id": "42d445b1-9ed5-460e-a66d-41ccbfcd6659",
   "metadata": {},
   "outputs": [],
   "source": []
  },
  {
   "cell_type": "markdown",
   "id": "40e04375-1eeb-4d05-a377-e14177939fe8",
   "metadata": {},
   "source": [
    "#### Export "
   ]
  },
  {
   "cell_type": "code",
   "execution_count": null,
   "id": "64087eec-99e6-4cea-8f83-eb06c88099cc",
   "metadata": {},
   "outputs": [],
   "source": []
  }
 ],
 "metadata": {
  "kernelspec": {
   "display_name": "Python 3",
   "language": "python",
   "name": "python3"
  },
  "language_info": {
   "codemirror_mode": {
    "name": "ipython",
    "version": 3
   },
   "file_extension": ".py",
   "mimetype": "text/x-python",
   "name": "python",
   "nbconvert_exporter": "python",
   "pygments_lexer": "ipython3",
   "version": "3.8.8"
  }
 },
 "nbformat": 4,
 "nbformat_minor": 5
}
