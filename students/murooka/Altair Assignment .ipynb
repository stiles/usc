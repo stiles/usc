{
 "cells": [
  {
   "cell_type": "markdown",
   "id": "cf543214-f1e4-46f5-a4ca-0641e43e455f",
   "metadata": {},
   "source": [
    "# Assignment 4\n"
   ]
  },
  {
   "cell_type": "markdown",
   "id": "ece5a4d3-be58-4d94-9736-5e9d10a41ba9",
   "metadata": {},
   "source": [
    "#### Load python tools"
   ]
  },
  {
   "cell_type": "code",
   "execution_count": 116,
   "id": "2594907b-7dfe-4e1f-9406-771e53069144",
   "metadata": {},
   "outputs": [
    {
     "name": "stdout",
     "output_type": "stream",
     "text": [
      "The lab_black extension is already loaded. To reload it, use:\n",
      "  %reload_ext lab_black\n"
     ]
    }
   ],
   "source": [
    "%load_ext lab_black"
   ]
  },
  {
   "cell_type": "code",
   "execution_count": 117,
   "id": "79d6a049-e959-496c-932e-84a3155858e1",
   "metadata": {},
   "outputs": [],
   "source": [
    "import pandas as pd\n",
    "import altair as alt"
   ]
  },
  {
   "cell_type": "code",
   "execution_count": 118,
   "id": "c09bfa5f-474a-40ea-abcc-a5e7787e501c",
   "metadata": {},
   "outputs": [],
   "source": [
    "pd.options.display.max_columns = 1000\n",
    "pd.options.display.max_rows = 1000"
   ]
  },
  {
   "cell_type": "markdown",
   "id": "6e8fe962-7c4f-413c-890e-97fc70adb134",
   "metadata": {},
   "source": [
    "---"
   ]
  },
  {
   "cell_type": "markdown",
   "id": "70ecb6a0-9667-4466-a79d-588c90977256",
   "metadata": {},
   "source": [
    "### Import Data"
   ]
  },
  {
   "cell_type": "code",
   "execution_count": 119,
   "id": "12d97d5c-d540-4276-ac71-94c859cf3769",
   "metadata": {},
   "outputs": [],
   "source": [
    "novax_df = pd.read_csv(\n",
    "    \"https://raw.githubusercontent.com/stiles/usc/main/data/processed/no_vax_corr.csv\"\n",
    ")"
   ]
  },
  {
   "cell_type": "code",
   "execution_count": 120,
   "id": "f672059a-c9b7-4466-bd0e-03d92c29d951",
   "metadata": {},
   "outputs": [
    {
     "data": {
      "text/html": [
       "<div>\n",
       "<style scoped>\n",
       "    .dataframe tbody tr th:only-of-type {\n",
       "        vertical-align: middle;\n",
       "    }\n",
       "\n",
       "    .dataframe tbody tr th {\n",
       "        vertical-align: top;\n",
       "    }\n",
       "\n",
       "    .dataframe thead th {\n",
       "        text-align: right;\n",
       "    }\n",
       "</style>\n",
       "<table border=\"1\" class=\"dataframe\">\n",
       "  <thead>\n",
       "    <tr style=\"text-align: right;\">\n",
       "      <th></th>\n",
       "      <th>county</th>\n",
       "      <th>fips</th>\n",
       "      <th>no_percent</th>\n",
       "      <th>yes_percent</th>\n",
       "      <th>winner_2021</th>\n",
       "      <th>fully_vaccinated_percent</th>\n",
       "      <th>population</th>\n",
       "    </tr>\n",
       "  </thead>\n",
       "  <tbody>\n",
       "    <tr>\n",
       "      <th>0</th>\n",
       "      <td>Alameda</td>\n",
       "      <td>1</td>\n",
       "      <td>82.5</td>\n",
       "      <td>17.5</td>\n",
       "      <td>D</td>\n",
       "      <td>81.46</td>\n",
       "      <td>1643700.0</td>\n",
       "    </tr>\n",
       "    <tr>\n",
       "      <th>1</th>\n",
       "      <td>Alpine</td>\n",
       "      <td>3</td>\n",
       "      <td>60.9</td>\n",
       "      <td>39.1</td>\n",
       "      <td>D</td>\n",
       "      <td>62.54</td>\n",
       "      <td>1148.0</td>\n",
       "    </tr>\n",
       "    <tr>\n",
       "      <th>2</th>\n",
       "      <td>Amador</td>\n",
       "      <td>5</td>\n",
       "      <td>36.9</td>\n",
       "      <td>63.1</td>\n",
       "      <td>R</td>\n",
       "      <td>54.27</td>\n",
       "      <td>37829.0</td>\n",
       "    </tr>\n",
       "    <tr>\n",
       "      <th>3</th>\n",
       "      <td>Butte</td>\n",
       "      <td>7</td>\n",
       "      <td>47.5</td>\n",
       "      <td>52.5</td>\n",
       "      <td>R</td>\n",
       "      <td>50.26</td>\n",
       "      <td>227075.0</td>\n",
       "    </tr>\n",
       "    <tr>\n",
       "      <th>4</th>\n",
       "      <td>Calaveras</td>\n",
       "      <td>9</td>\n",
       "      <td>38.3</td>\n",
       "      <td>61.7</td>\n",
       "      <td>R</td>\n",
       "      <td>53.23</td>\n",
       "      <td>45235.0</td>\n",
       "    </tr>\n",
       "  </tbody>\n",
       "</table>\n",
       "</div>"
      ],
      "text/plain": [
       "      county  fips  no_percent  yes_percent winner_2021  \\\n",
       "0    Alameda     1        82.5         17.5           D   \n",
       "1     Alpine     3        60.9         39.1           D   \n",
       "2     Amador     5        36.9         63.1           R   \n",
       "3      Butte     7        47.5         52.5           R   \n",
       "4  Calaveras     9        38.3         61.7           R   \n",
       "\n",
       "   fully_vaccinated_percent  population  \n",
       "0                     81.46   1643700.0  \n",
       "1                     62.54      1148.0  \n",
       "2                     54.27     37829.0  \n",
       "3                     50.26    227075.0  \n",
       "4                     53.23     45235.0  "
      ]
     },
     "execution_count": 120,
     "metadata": {},
     "output_type": "execute_result"
    }
   ],
   "source": [
    "novax_df.head()"
   ]
  },
  {
   "cell_type": "code",
   "execution_count": 139,
   "id": "d2a885a6-f3db-4d49-ba55-ddf862af2bdf",
   "metadata": {},
   "outputs": [
    {
     "data": {
      "text/html": [
       "\n",
       "<div id=\"altair-viz-862e06b9a8ab4a5c8d476634b1db1f35\"></div>\n",
       "<script type=\"text/javascript\">\n",
       "  (function(spec, embedOpt){\n",
       "    let outputDiv = document.currentScript.previousElementSibling;\n",
       "    if (outputDiv.id !== \"altair-viz-862e06b9a8ab4a5c8d476634b1db1f35\") {\n",
       "      outputDiv = document.getElementById(\"altair-viz-862e06b9a8ab4a5c8d476634b1db1f35\");\n",
       "    }\n",
       "    const paths = {\n",
       "      \"vega\": \"https://cdn.jsdelivr.net/npm//vega@5?noext\",\n",
       "      \"vega-lib\": \"https://cdn.jsdelivr.net/npm//vega-lib?noext\",\n",
       "      \"vega-lite\": \"https://cdn.jsdelivr.net/npm//vega-lite@4.8.1?noext\",\n",
       "      \"vega-embed\": \"https://cdn.jsdelivr.net/npm//vega-embed@6?noext\",\n",
       "    };\n",
       "\n",
       "    function loadScript(lib) {\n",
       "      return new Promise(function(resolve, reject) {\n",
       "        var s = document.createElement('script');\n",
       "        s.src = paths[lib];\n",
       "        s.async = true;\n",
       "        s.onload = () => resolve(paths[lib]);\n",
       "        s.onerror = () => reject(`Error loading script: ${paths[lib]}`);\n",
       "        document.getElementsByTagName(\"head\")[0].appendChild(s);\n",
       "      });\n",
       "    }\n",
       "\n",
       "    function showError(err) {\n",
       "      outputDiv.innerHTML = `<div class=\"error\" style=\"color:red;\">${err}</div>`;\n",
       "      throw err;\n",
       "    }\n",
       "\n",
       "    function displayChart(vegaEmbed) {\n",
       "      vegaEmbed(outputDiv, spec, embedOpt)\n",
       "        .catch(err => showError(`Javascript Error: ${err.message}<br>This usually means there's a typo in your chart specification. See the javascript console for the full traceback.`));\n",
       "    }\n",
       "\n",
       "    if(typeof define === \"function\" && define.amd) {\n",
       "      requirejs.config({paths});\n",
       "      require([\"vega-embed\"], displayChart, err => showError(`Error loading script: ${err.message}`));\n",
       "    } else if (typeof vegaEmbed === \"function\") {\n",
       "      displayChart(vegaEmbed);\n",
       "    } else {\n",
       "      loadScript(\"vega\")\n",
       "        .then(() => loadScript(\"vega-lite\"))\n",
       "        .then(() => loadScript(\"vega-embed\"))\n",
       "        .catch(showError)\n",
       "        .then(() => displayChart(vegaEmbed));\n",
       "    }\n",
       "  })({\"config\": {\"view\": {\"continuousWidth\": 400, \"continuousHeight\": 300}}, \"data\": {\"name\": \"data-e143b33609079e590de9a72c4c86212a\"}, \"mark\": {\"type\": \"bar\", \"color\": \"#8748b1\", \"size\": 20}, \"encoding\": {\"x\": {\"type\": \"quantitative\", \"field\": \"population\", \"title\": \"Population\"}, \"y\": {\"type\": \"nominal\", \"field\": \"county\", \"sort\": \"-x\", \"title\": \"\"}}, \"height\": 400, \"title\": \"Population of Large CA Counties that Voted No\", \"width\": 400, \"$schema\": \"https://vega.github.io/schema/vega-lite/v4.8.1.json\", \"datasets\": {\"data-e143b33609079e590de9a72c4c86212a\": [{\"county\": \"Alameda\", \"fips\": 1, \"no_percent\": 82.5, \"yes_percent\": 17.5, \"winner_2021\": \"D\", \"fully_vaccinated_percent\": 81.46, \"population\": 1643700.0}, {\"county\": \"Contra Costa\", \"fips\": 13, \"no_percent\": 73.1, \"yes_percent\": 26.9, \"winner_2021\": \"D\", \"fully_vaccinated_percent\": 82.37, \"population\": 1133247.0}, {\"county\": \"Fresno\", \"fips\": 19, \"no_percent\": 49.8, \"yes_percent\": 50.2, \"winner_2021\": \"R\", \"fully_vaccinated_percent\": 60.73, \"population\": 978130.0}, {\"county\": \"Kern\", \"fips\": 29, \"no_percent\": 41.9, \"yes_percent\": 58.1, \"winner_2021\": \"R\", \"fully_vaccinated_percent\": 53.06, \"population\": 883053.0}, {\"county\": \"Los Angeles\", \"fips\": 37, \"no_percent\": 70.8, \"yes_percent\": 29.2, \"winner_2021\": \"D\", \"fully_vaccinated_percent\": 71.32, \"population\": 10098052.0}, {\"county\": \"Orange\", \"fips\": 59, \"no_percent\": 52.6, \"yes_percent\": 47.4, \"winner_2021\": \"D\", \"fully_vaccinated_percent\": 71.68, \"population\": 3164182.0}, {\"county\": \"Riverside\", \"fips\": 65, \"no_percent\": 52.4, \"yes_percent\": 47.6, \"winner_2021\": \"D\", \"fully_vaccinated_percent\": 59.51, \"population\": 2383286.0}, {\"county\": \"Sacramento\", \"fips\": 67, \"no_percent\": 64.0, \"yes_percent\": 36.0, \"winner_2021\": \"D\", \"fully_vaccinated_percent\": 67.58, \"population\": 1510023.0}, {\"county\": \"San Bernardino\", \"fips\": 71, \"no_percent\": 52.0, \"yes_percent\": 48.0, \"winner_2021\": \"D\", \"fully_vaccinated_percent\": 56.59, \"population\": 2135413.0}, {\"county\": \"San Diego\", \"fips\": 73, \"no_percent\": 58.6, \"yes_percent\": 41.4, \"winner_2021\": \"D\", \"fully_vaccinated_percent\": 80.82, \"population\": 3302833.0}, {\"county\": \"San Francisco\", \"fips\": 75, \"no_percent\": 86.7, \"yes_percent\": 13.3, \"winner_2021\": \"D\", \"fully_vaccinated_percent\": 83.78, \"population\": 870044.0}, {\"county\": \"San Joaquin\", \"fips\": 77, \"no_percent\": 56.0, \"yes_percent\": 44.0, \"winner_2021\": \"D\", \"fully_vaccinated_percent\": 61.86, \"population\": 732212.0}, {\"county\": \"San Mateo\", \"fips\": 81, \"no_percent\": 79.1, \"yes_percent\": 20.9, \"winner_2021\": \"D\", \"fully_vaccinated_percent\": 83.19, \"population\": 765935.0}, {\"county\": \"Santa Clara\", \"fips\": 85, \"no_percent\": 75.9, \"yes_percent\": 24.1, \"winner_2021\": \"D\", \"fully_vaccinated_percent\": 84.57, \"population\": 1922200.0}, {\"county\": \"Sonoma\", \"fips\": 97, \"no_percent\": 77.9, \"yes_percent\": 22.1, \"winner_2021\": \"D\", \"fully_vaccinated_percent\": 75.91, \"population\": 501317.0}, {\"county\": \"Stanislaus\", \"fips\": 99, \"no_percent\": 48.3, \"yes_percent\": 51.7, \"winner_2021\": \"R\", \"fully_vaccinated_percent\": 56.66, \"population\": 539301.0}, {\"county\": \"Ventura\", \"fips\": 111, \"no_percent\": 59.5, \"yes_percent\": 40.5, \"winner_2021\": \"D\", \"fully_vaccinated_percent\": 70.44, \"population\": 848112.0}]}}, {\"mode\": \"vega-lite\"});\n",
       "</script>"
      ],
      "text/plain": [
       "alt.Chart(...)"
      ]
     },
     "execution_count": 139,
     "metadata": {},
     "output_type": "execute_result"
    }
   ],
   "source": [
    "alt.Chart(novax_df[novax_df[\"population\"] > 500000]).mark_bar(\n",
    "    color=\"#8748b1\", size=20\n",
    ").encode(\n",
    "    y=alt.Y(\"county\", title=\"\", sort=\"-x\"), x=alt.X(\"population\", title=\"Population\"),\n",
    ").properties(\n",
    "    width=400, height=400, title=\"Population of Large CA Counties that Voted No\"\n",
    ")"
   ]
  }
 ],
 "metadata": {
  "kernelspec": {
   "display_name": "Python 3",
   "language": "python",
   "name": "python3"
  },
  "language_info": {
   "codemirror_mode": {
    "name": "ipython",
    "version": 3
   },
   "file_extension": ".py",
   "mimetype": "text/x-python",
   "name": "python",
   "nbconvert_exporter": "python",
   "pygments_lexer": "ipython3",
   "version": "3.8.8"
  }
 },
 "nbformat": 4,
 "nbformat_minor": 5
}
