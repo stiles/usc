{
 "cells": [
  {
   "cell_type": "markdown",
   "id": "abd53c16-8954-4ea3-8a2a-8d55f1473e2e",
   "metadata": {},
   "source": [
    "# Data from HTML tables: L.A. County covid cases"
   ]
  },
  {
   "cell_type": "code",
   "execution_count": 5,
   "id": "afdc0be2-fe44-4498-8710-2c67d6165ac5",
   "metadata": {},
   "outputs": [],
   "source": [
    "import pandas as pd"
   ]
  },
  {
   "cell_type": "markdown",
   "id": "74b3adb1-af37-47ed-b53d-1cca345a0c6e",
   "metadata": {},
   "source": [
    "#### L.A. County COVID cases, deaths by community"
   ]
  },
  {
   "cell_type": "code",
   "execution_count": 6,
   "id": "c275b7f2-89ec-4c60-9c4d-9e1d11215181",
   "metadata": {},
   "outputs": [],
   "source": [
    "url = 'http://publichealth.lacounty.gov/media/Coronavirus/locations.htm'"
   ]
  },
  {
   "cell_type": "markdown",
   "id": "0dda0e3f-2a20-4498-863e-c2bc71c5b449",
   "metadata": {},
   "source": [
    "#### Read the \"CITY/COMMUNITY\" cases table into a dataframe"
   ]
  },
  {
   "cell_type": "code",
   "execution_count": 26,
   "id": "2524d247-622a-4134-9002-73de23ed3a1c",
   "metadata": {},
   "outputs": [],
   "source": [
    "cases_df = pd.read_html(url)[1]"
   ]
  },
  {
   "cell_type": "markdown",
   "id": "f00f04b8-86c2-49fc-9aec-ad7b36149ee2",
   "metadata": {},
   "source": [
    "#### Define cleaner column names"
   ]
  },
  {
   "cell_type": "code",
   "execution_count": 27,
   "id": "b75ab57e-c764-434f-be2e-b0e993826533",
   "metadata": {},
   "outputs": [
    {
     "data": {
      "text/html": [
       "<div>\n",
       "<style scoped>\n",
       "    .dataframe tbody tr th:only-of-type {\n",
       "        vertical-align: middle;\n",
       "    }\n",
       "\n",
       "    .dataframe tbody tr th {\n",
       "        vertical-align: top;\n",
       "    }\n",
       "\n",
       "    .dataframe thead th {\n",
       "        text-align: right;\n",
       "    }\n",
       "</style>\n",
       "<table border=\"1\" class=\"dataframe\">\n",
       "  <thead>\n",
       "    <tr style=\"text-align: right;\">\n",
       "      <th></th>\n",
       "      <th>CITY/COMMUNITY**</th>\n",
       "      <th>Cases</th>\n",
       "      <th>Case Rate1</th>\n",
       "      <th>Deaths</th>\n",
       "      <th>Death Rate2</th>\n",
       "    </tr>\n",
       "  </thead>\n",
       "  <tbody>\n",
       "    <tr>\n",
       "      <th>0</th>\n",
       "      <td>City of Agoura Hills</td>\n",
       "      <td>4094</td>\n",
       "      <td>19604.0</td>\n",
       "      <td>22</td>\n",
       "      <td>105.0</td>\n",
       "    </tr>\n",
       "    <tr>\n",
       "      <th>1</th>\n",
       "      <td>City of Alhambra</td>\n",
       "      <td>16498</td>\n",
       "      <td>19024.0</td>\n",
       "      <td>249</td>\n",
       "      <td>287.0</td>\n",
       "    </tr>\n",
       "    <tr>\n",
       "      <th>2</th>\n",
       "      <td>City of Arcadia</td>\n",
       "      <td>7869</td>\n",
       "      <td>13625.0</td>\n",
       "      <td>163</td>\n",
       "      <td>282.0</td>\n",
       "    </tr>\n",
       "    <tr>\n",
       "      <th>3</th>\n",
       "      <td>City of Artesia</td>\n",
       "      <td>4109</td>\n",
       "      <td>24466.0</td>\n",
       "      <td>88</td>\n",
       "      <td>524.0</td>\n",
       "    </tr>\n",
       "    <tr>\n",
       "      <th>4</th>\n",
       "      <td>City of Avalon</td>\n",
       "      <td>62</td>\n",
       "      <td>1602.0</td>\n",
       "      <td>0</td>\n",
       "      <td>0.0</td>\n",
       "    </tr>\n",
       "  </tbody>\n",
       "</table>\n",
       "</div>"
      ],
      "text/plain": [
       "       CITY/COMMUNITY**  Cases  Case Rate1  Deaths  Death Rate2\n",
       "0  City of Agoura Hills   4094     19604.0      22        105.0\n",
       "1      City of Alhambra  16498     19024.0     249        287.0\n",
       "2       City of Arcadia   7869     13625.0     163        282.0\n",
       "3       City of Artesia   4109     24466.0      88        524.0\n",
       "4        City of Avalon     62      1602.0       0          0.0"
      ]
     },
     "execution_count": 27,
     "metadata": {},
     "output_type": "execute_result"
    }
   ],
   "source": [
    "cases_df.head()"
   ]
  },
  {
   "cell_type": "code",
   "execution_count": 28,
   "id": "a3ddaea2-328c-4d18-87a7-1b5858fffcac",
   "metadata": {},
   "outputs": [],
   "source": [
    "cases_df.columns = [\"place\", \"cases\", \"cases_rate\", \"deaths\",\"death_rate\"]"
   ]
  },
  {
   "cell_type": "markdown",
   "id": "20995e1f-f2c5-4e49-af83-1a9c919f707a",
   "metadata": {},
   "source": [
    "---"
   ]
  },
  {
   "cell_type": "code",
   "execution_count": 29,
   "id": "492ccec4-b20b-4837-bc18-e9b905088599",
   "metadata": {},
   "outputs": [
    {
     "data": {
      "text/html": [
       "<div>\n",
       "<style scoped>\n",
       "    .dataframe tbody tr th:only-of-type {\n",
       "        vertical-align: middle;\n",
       "    }\n",
       "\n",
       "    .dataframe tbody tr th {\n",
       "        vertical-align: top;\n",
       "    }\n",
       "\n",
       "    .dataframe thead th {\n",
       "        text-align: right;\n",
       "    }\n",
       "</style>\n",
       "<table border=\"1\" class=\"dataframe\">\n",
       "  <thead>\n",
       "    <tr style=\"text-align: right;\">\n",
       "      <th></th>\n",
       "      <th>place</th>\n",
       "      <th>cases</th>\n",
       "      <th>cases_rate</th>\n",
       "      <th>deaths</th>\n",
       "      <th>death_rate</th>\n",
       "    </tr>\n",
       "  </thead>\n",
       "  <tbody>\n",
       "    <tr>\n",
       "      <th>0</th>\n",
       "      <td>City of Agoura Hills</td>\n",
       "      <td>4094</td>\n",
       "      <td>19604.0</td>\n",
       "      <td>22</td>\n",
       "      <td>105.0</td>\n",
       "    </tr>\n",
       "    <tr>\n",
       "      <th>1</th>\n",
       "      <td>City of Alhambra</td>\n",
       "      <td>16498</td>\n",
       "      <td>19024.0</td>\n",
       "      <td>249</td>\n",
       "      <td>287.0</td>\n",
       "    </tr>\n",
       "    <tr>\n",
       "      <th>2</th>\n",
       "      <td>City of Arcadia</td>\n",
       "      <td>7869</td>\n",
       "      <td>13625.0</td>\n",
       "      <td>163</td>\n",
       "      <td>282.0</td>\n",
       "    </tr>\n",
       "    <tr>\n",
       "      <th>3</th>\n",
       "      <td>City of Artesia</td>\n",
       "      <td>4109</td>\n",
       "      <td>24466.0</td>\n",
       "      <td>88</td>\n",
       "      <td>524.0</td>\n",
       "    </tr>\n",
       "    <tr>\n",
       "      <th>4</th>\n",
       "      <td>City of Avalon</td>\n",
       "      <td>62</td>\n",
       "      <td>1602.0</td>\n",
       "      <td>0</td>\n",
       "      <td>0.0</td>\n",
       "    </tr>\n",
       "  </tbody>\n",
       "</table>\n",
       "</div>"
      ],
      "text/plain": [
       "                  place  cases  cases_rate  deaths  death_rate\n",
       "0  City of Agoura Hills   4094     19604.0      22       105.0\n",
       "1      City of Alhambra  16498     19024.0     249       287.0\n",
       "2       City of Arcadia   7869     13625.0     163       282.0\n",
       "3       City of Artesia   4109     24466.0      88       524.0\n",
       "4        City of Avalon     62      1602.0       0         0.0"
      ]
     },
     "execution_count": 29,
     "metadata": {},
     "output_type": "execute_result"
    }
   ],
   "source": [
    "cases_df.head()"
   ]
  },
  {
   "cell_type": "markdown",
   "id": "231be332-85cd-48d9-b88c-9cd615e93582",
   "metadata": {},
   "source": [
    "#### How many deaths in Los Angeles - Del Rey? Encino?"
   ]
  },
  {
   "cell_type": "code",
   "execution_count": 30,
   "id": "54c37e15-1055-44b7-b44f-6cc4f2ddd0d2",
   "metadata": {},
   "outputs": [
    {
     "data": {
      "text/html": [
       "<div>\n",
       "<style scoped>\n",
       "    .dataframe tbody tr th:only-of-type {\n",
       "        vertical-align: middle;\n",
       "    }\n",
       "\n",
       "    .dataframe tbody tr th {\n",
       "        vertical-align: top;\n",
       "    }\n",
       "\n",
       "    .dataframe thead th {\n",
       "        text-align: right;\n",
       "    }\n",
       "</style>\n",
       "<table border=\"1\" class=\"dataframe\">\n",
       "  <thead>\n",
       "    <tr style=\"text-align: right;\">\n",
       "      <th></th>\n",
       "      <th>place</th>\n",
       "      <th>cases</th>\n",
       "      <th>cases_rate</th>\n",
       "      <th>deaths</th>\n",
       "      <th>death_rate</th>\n",
       "    </tr>\n",
       "  </thead>\n",
       "  <tbody>\n",
       "    <tr>\n",
       "      <th>112</th>\n",
       "      <td>Los Angeles - Del Rey</td>\n",
       "      <td>5857</td>\n",
       "      <td>19565.0</td>\n",
       "      <td>42</td>\n",
       "      <td>140.0</td>\n",
       "    </tr>\n",
       "    <tr>\n",
       "      <th>172</th>\n",
       "      <td>Los Angeles - Playa Del Rey</td>\n",
       "      <td>399</td>\n",
       "      <td>12484.0</td>\n",
       "      <td>3</td>\n",
       "      <td>94.0</td>\n",
       "    </tr>\n",
       "    <tr>\n",
       "      <th>246</th>\n",
       "      <td>Unincorporated - Del Rey</td>\n",
       "      <td>87</td>\n",
       "      <td>27358.0</td>\n",
       "      <td>1</td>\n",
       "      <td>314.0</td>\n",
       "    </tr>\n",
       "  </tbody>\n",
       "</table>\n",
       "</div>"
      ],
      "text/plain": [
       "                           place  cases  cases_rate  deaths  death_rate\n",
       "112        Los Angeles - Del Rey   5857     19565.0      42       140.0\n",
       "172  Los Angeles - Playa Del Rey    399     12484.0       3        94.0\n",
       "246     Unincorporated - Del Rey     87     27358.0       1       314.0"
      ]
     },
     "execution_count": 30,
     "metadata": {},
     "output_type": "execute_result"
    }
   ],
   "source": [
    "cases_df[cases_df[\"place\"].str.contains(\"Del Rey\")]"
   ]
  },
  {
   "cell_type": "code",
   "execution_count": 31,
   "id": "fe2e428e-e072-4e5d-a40a-62b5633a309f",
   "metadata": {},
   "outputs": [
    {
     "data": {
      "text/html": [
       "<div>\n",
       "<style scoped>\n",
       "    .dataframe tbody tr th:only-of-type {\n",
       "        vertical-align: middle;\n",
       "    }\n",
       "\n",
       "    .dataframe tbody tr th {\n",
       "        vertical-align: top;\n",
       "    }\n",
       "\n",
       "    .dataframe thead th {\n",
       "        text-align: right;\n",
       "    }\n",
       "</style>\n",
       "<table border=\"1\" class=\"dataframe\">\n",
       "  <thead>\n",
       "    <tr style=\"text-align: right;\">\n",
       "      <th></th>\n",
       "      <th>place</th>\n",
       "      <th>cases</th>\n",
       "      <th>cases_rate</th>\n",
       "      <th>deaths</th>\n",
       "      <th>death_rate</th>\n",
       "    </tr>\n",
       "  </thead>\n",
       "  <tbody>\n",
       "    <tr>\n",
       "      <th>120</th>\n",
       "      <td>Los Angeles - Encino</td>\n",
       "      <td>10075</td>\n",
       "      <td>22304.0</td>\n",
       "      <td>87</td>\n",
       "      <td>193.0</td>\n",
       "    </tr>\n",
       "  </tbody>\n",
       "</table>\n",
       "</div>"
      ],
      "text/plain": [
       "                    place  cases  cases_rate  deaths  death_rate\n",
       "120  Los Angeles - Encino  10075     22304.0      87       193.0"
      ]
     },
     "execution_count": 31,
     "metadata": {},
     "output_type": "execute_result"
    }
   ],
   "source": [
    "cases_df[cases_df[\"place\"].str.contains(\"Encino\")]"
   ]
  },
  {
   "cell_type": "markdown",
   "id": "320e0ec9-5c48-440f-992b-d76014f19056",
   "metadata": {},
   "source": [
    "#### How many cases in places outside Los Angeles? [Hint](https://www.google.com/search?q=Python+pandas+string+does+not+contain&oq=Python+pandas+string+does+not+contain)"
   ]
  },
  {
   "cell_type": "code",
   "execution_count": 32,
   "id": "d1a14036-0c75-4733-b4f3-47cc58d0b209",
   "metadata": {},
   "outputs": [],
   "source": [
    "new_cases= cases_df[~cases_df[\"place\"].str.contains(\"Los Angeles\")]"
   ]
  },
  {
   "cell_type": "code",
   "execution_count": 33,
   "id": "669eaa42-1b0b-4d24-985b-8425323bf3ca",
   "metadata": {},
   "outputs": [
    {
     "data": {
      "text/html": [
       "<div>\n",
       "<style scoped>\n",
       "    .dataframe tbody tr th:only-of-type {\n",
       "        vertical-align: middle;\n",
       "    }\n",
       "\n",
       "    .dataframe tbody tr th {\n",
       "        vertical-align: top;\n",
       "    }\n",
       "\n",
       "    .dataframe thead th {\n",
       "        text-align: right;\n",
       "    }\n",
       "</style>\n",
       "<table border=\"1\" class=\"dataframe\">\n",
       "  <thead>\n",
       "    <tr style=\"text-align: right;\">\n",
       "      <th></th>\n",
       "      <th>place</th>\n",
       "      <th>cases</th>\n",
       "      <th>cases_rate</th>\n",
       "      <th>deaths</th>\n",
       "      <th>death_rate</th>\n",
       "    </tr>\n",
       "  </thead>\n",
       "  <tbody>\n",
       "    <tr>\n",
       "      <th>0</th>\n",
       "      <td>City of Agoura Hills</td>\n",
       "      <td>4094</td>\n",
       "      <td>19604.0</td>\n",
       "      <td>22</td>\n",
       "      <td>105.0</td>\n",
       "    </tr>\n",
       "    <tr>\n",
       "      <th>1</th>\n",
       "      <td>City of Alhambra</td>\n",
       "      <td>16498</td>\n",
       "      <td>19024.0</td>\n",
       "      <td>249</td>\n",
       "      <td>287.0</td>\n",
       "    </tr>\n",
       "    <tr>\n",
       "      <th>2</th>\n",
       "      <td>City of Arcadia</td>\n",
       "      <td>7869</td>\n",
       "      <td>13625.0</td>\n",
       "      <td>163</td>\n",
       "      <td>282.0</td>\n",
       "    </tr>\n",
       "    <tr>\n",
       "      <th>3</th>\n",
       "      <td>City of Artesia</td>\n",
       "      <td>4109</td>\n",
       "      <td>24466.0</td>\n",
       "      <td>88</td>\n",
       "      <td>524.0</td>\n",
       "    </tr>\n",
       "    <tr>\n",
       "      <th>4</th>\n",
       "      <td>City of Avalon</td>\n",
       "      <td>62</td>\n",
       "      <td>1602.0</td>\n",
       "      <td>0</td>\n",
       "      <td>0.0</td>\n",
       "    </tr>\n",
       "    <tr>\n",
       "      <th>...</th>\n",
       "      <td>...</td>\n",
       "      <td>...</td>\n",
       "      <td>...</td>\n",
       "      <td>...</td>\n",
       "      <td>...</td>\n",
       "    </tr>\n",
       "    <tr>\n",
       "      <th>337</th>\n",
       "      <td>Unincorporated - Whittier</td>\n",
       "      <td>724</td>\n",
       "      <td>19133.0</td>\n",
       "      <td>10</td>\n",
       "      <td>264.0</td>\n",
       "    </tr>\n",
       "    <tr>\n",
       "      <th>338</th>\n",
       "      <td>Unincorporated - Whittier Narrows</td>\n",
       "      <td>64</td>\n",
       "      <td>533333.0</td>\n",
       "      <td>1</td>\n",
       "      <td>8333.0</td>\n",
       "    </tr>\n",
       "    <tr>\n",
       "      <th>339</th>\n",
       "      <td>Unincorporated - Willowbrook</td>\n",
       "      <td>13618</td>\n",
       "      <td>39006.0</td>\n",
       "      <td>128</td>\n",
       "      <td>367.0</td>\n",
       "    </tr>\n",
       "    <tr>\n",
       "      <th>340</th>\n",
       "      <td>Unincorporated - Wiseburn</td>\n",
       "      <td>1398</td>\n",
       "      <td>23196.0</td>\n",
       "      <td>14</td>\n",
       "      <td>232.0</td>\n",
       "    </tr>\n",
       "    <tr>\n",
       "      <th>341</th>\n",
       "      <td>- Under Investigation</td>\n",
       "      <td>67825</td>\n",
       "      <td>NaN</td>\n",
       "      <td>105</td>\n",
       "      <td>NaN</td>\n",
       "    </tr>\n",
       "  </tbody>\n",
       "</table>\n",
       "<p>200 rows × 5 columns</p>\n",
       "</div>"
      ],
      "text/plain": [
       "                                 place  cases  cases_rate  deaths  death_rate\n",
       "0                 City of Agoura Hills   4094     19604.0      22       105.0\n",
       "1                     City of Alhambra  16498     19024.0     249       287.0\n",
       "2                      City of Arcadia   7869     13625.0     163       282.0\n",
       "3                      City of Artesia   4109     24466.0      88       524.0\n",
       "4                       City of Avalon     62      1602.0       0         0.0\n",
       "..                                 ...    ...         ...     ...         ...\n",
       "337          Unincorporated - Whittier    724     19133.0      10       264.0\n",
       "338  Unincorporated - Whittier Narrows     64    533333.0       1      8333.0\n",
       "339       Unincorporated - Willowbrook  13618     39006.0     128       367.0\n",
       "340          Unincorporated - Wiseburn   1398     23196.0      14       232.0\n",
       "341              - Under Investigation  67825         NaN     105         NaN\n",
       "\n",
       "[200 rows x 5 columns]"
      ]
     },
     "execution_count": 33,
     "metadata": {},
     "output_type": "execute_result"
    }
   ],
   "source": [
    "new_cases"
   ]
  },
  {
   "cell_type": "markdown",
   "id": "cc9391ab-13c7-402c-831b-58c0b1672efb",
   "metadata": {},
   "source": [
    "#### Which large cities/neighborhoods with more than 10K cases have the highest rates? "
   ]
  },
  {
   "cell_type": "code",
   "execution_count": 38,
   "id": "544e83b4-471e-431d-b846-cc2bb867e9d8",
   "metadata": {},
   "outputs": [
    {
     "data": {
      "text/html": [
       "<div>\n",
       "<style scoped>\n",
       "    .dataframe tbody tr th:only-of-type {\n",
       "        vertical-align: middle;\n",
       "    }\n",
       "\n",
       "    .dataframe tbody tr th {\n",
       "        vertical-align: top;\n",
       "    }\n",
       "\n",
       "    .dataframe thead th {\n",
       "        text-align: right;\n",
       "    }\n",
       "</style>\n",
       "<table border=\"1\" class=\"dataframe\">\n",
       "  <thead>\n",
       "    <tr style=\"text-align: right;\">\n",
       "      <th></th>\n",
       "      <th>place</th>\n",
       "      <th>cases</th>\n",
       "      <th>cases_rate</th>\n",
       "      <th>deaths</th>\n",
       "      <th>death_rate</th>\n",
       "    </tr>\n",
       "  </thead>\n",
       "  <tbody>\n",
       "    <tr>\n",
       "      <th>220</th>\n",
       "      <td>Los Angeles - Wholesale District*</td>\n",
       "      <td>16161</td>\n",
       "      <td>44731.0</td>\n",
       "      <td>134</td>\n",
       "      <td>371.0</td>\n",
       "    </tr>\n",
       "    <tr>\n",
       "      <th>66</th>\n",
       "      <td>City of San Fernando</td>\n",
       "      <td>10368</td>\n",
       "      <td>42126.0</td>\n",
       "      <td>80</td>\n",
       "      <td>325.0</td>\n",
       "    </tr>\n",
       "    <tr>\n",
       "      <th>113</th>\n",
       "      <td>Los Angeles - Downtown*</td>\n",
       "      <td>11540</td>\n",
       "      <td>41953.0</td>\n",
       "      <td>65</td>\n",
       "      <td>236.0</td>\n",
       "    </tr>\n",
       "    <tr>\n",
       "      <th>166</th>\n",
       "      <td>Los Angeles - Pacoima</td>\n",
       "      <td>31883</td>\n",
       "      <td>41418.0</td>\n",
       "      <td>279</td>\n",
       "      <td>362.0</td>\n",
       "    </tr>\n",
       "    <tr>\n",
       "      <th>208</th>\n",
       "      <td>Los Angeles - Vernon Central</td>\n",
       "      <td>21536</td>\n",
       "      <td>41417.0</td>\n",
       "      <td>194</td>\n",
       "      <td>373.0</td>\n",
       "    </tr>\n",
       "  </tbody>\n",
       "</table>\n",
       "</div>"
      ],
      "text/plain": [
       "                                 place  cases  cases_rate  deaths  death_rate\n",
       "220  Los Angeles - Wholesale District*  16161     44731.0     134       371.0\n",
       "66                City of San Fernando  10368     42126.0      80       325.0\n",
       "113            Los Angeles - Downtown*  11540     41953.0      65       236.0\n",
       "166              Los Angeles - Pacoima  31883     41418.0     279       362.0\n",
       "208       Los Angeles - Vernon Central  21536     41417.0     194       373.0"
      ]
     },
     "execution_count": 38,
     "metadata": {},
     "output_type": "execute_result"
    }
   ],
   "source": [
    "cases_df[cases_df[\"cases\"] > 10000].sort_values(\"cases_rate\", ascending = False).head()"
   ]
  },
  {
   "cell_type": "markdown",
   "id": "4c77f5fe-dbc9-45cd-8b24-e7cdbfe3c535",
   "metadata": {},
   "source": [
    "---"
   ]
  },
  {
   "cell_type": "markdown",
   "id": "441e5ed4-ee9a-48ff-a3a9-6c0d0b16ff1d",
   "metadata": {},
   "source": [
    "#### Bonus: Create a true/false column for Los Angeles"
   ]
  },
  {
   "cell_type": "code",
   "execution_count": 41,
   "id": "29049c62-74c1-4c87-8ccf-70bee39b0c64",
   "metadata": {},
   "outputs": [],
   "source": [
    "cases_df[\"is_la\"]=cases_df[\"place\"].str.contains(\"Los Angeles\")"
   ]
  },
  {
   "cell_type": "code",
   "execution_count": 42,
   "id": "0d05a986-ec4d-4a5c-b156-eadd4a8a2a91",
   "metadata": {},
   "outputs": [
    {
     "data": {
      "text/html": [
       "<div>\n",
       "<style scoped>\n",
       "    .dataframe tbody tr th:only-of-type {\n",
       "        vertical-align: middle;\n",
       "    }\n",
       "\n",
       "    .dataframe tbody tr th {\n",
       "        vertical-align: top;\n",
       "    }\n",
       "\n",
       "    .dataframe thead th {\n",
       "        text-align: right;\n",
       "    }\n",
       "</style>\n",
       "<table border=\"1\" class=\"dataframe\">\n",
       "  <thead>\n",
       "    <tr style=\"text-align: right;\">\n",
       "      <th></th>\n",
       "      <th>place</th>\n",
       "      <th>cases</th>\n",
       "      <th>cases_rate</th>\n",
       "      <th>deaths</th>\n",
       "      <th>death_rate</th>\n",
       "      <th>is_la</th>\n",
       "    </tr>\n",
       "  </thead>\n",
       "  <tbody>\n",
       "    <tr>\n",
       "      <th>299</th>\n",
       "      <td>Unincorporated - Roosevelt</td>\n",
       "      <td>217</td>\n",
       "      <td>23308.0</td>\n",
       "      <td>2</td>\n",
       "      <td>215.0</td>\n",
       "      <td>False</td>\n",
       "    </tr>\n",
       "    <tr>\n",
       "      <th>332</th>\n",
       "      <td>Unincorporated - West Rancho Dominguez</td>\n",
       "      <td>384</td>\n",
       "      <td>28256.0</td>\n",
       "      <td>8</td>\n",
       "      <td>589.0</td>\n",
       "      <td>False</td>\n",
       "    </tr>\n",
       "    <tr>\n",
       "      <th>130</th>\n",
       "      <td>Los Angeles - Hancock Park</td>\n",
       "      <td>3267</td>\n",
       "      <td>19174.0</td>\n",
       "      <td>10</td>\n",
       "      <td>59.0</td>\n",
       "      <td>True</td>\n",
       "    </tr>\n",
       "    <tr>\n",
       "      <th>43</th>\n",
       "      <td>City of Lakewood</td>\n",
       "      <td>18740</td>\n",
       "      <td>23319.0</td>\n",
       "      <td>164</td>\n",
       "      <td>204.0</td>\n",
       "      <td>False</td>\n",
       "    </tr>\n",
       "    <tr>\n",
       "      <th>264</th>\n",
       "      <td>Unincorporated - Harbor Gateway</td>\n",
       "      <td>4</td>\n",
       "      <td>400000.0</td>\n",
       "      <td>0</td>\n",
       "      <td>0.0</td>\n",
       "      <td>False</td>\n",
       "    </tr>\n",
       "  </tbody>\n",
       "</table>\n",
       "</div>"
      ],
      "text/plain": [
       "                                      place  cases  cases_rate  deaths  \\\n",
       "299              Unincorporated - Roosevelt    217     23308.0       2   \n",
       "332  Unincorporated - West Rancho Dominguez    384     28256.0       8   \n",
       "130              Los Angeles - Hancock Park   3267     19174.0      10   \n",
       "43                         City of Lakewood  18740     23319.0     164   \n",
       "264         Unincorporated - Harbor Gateway      4    400000.0       0   \n",
       "\n",
       "     death_rate  is_la  \n",
       "299       215.0  False  \n",
       "332       589.0  False  \n",
       "130        59.0   True  \n",
       "43        204.0  False  \n",
       "264         0.0  False  "
      ]
     },
     "execution_count": 42,
     "metadata": {},
     "output_type": "execute_result"
    }
   ],
   "source": [
    "cases_df.sample(5)"
   ]
  },
  {
   "cell_type": "markdown",
   "id": "83d8786d-9a36-4dc9-9d21-dce6ac8eefa2",
   "metadata": {},
   "source": [
    "#### Bonus: Were there more cases in the county vs. the city of Los Angeles? "
   ]
  },
  {
   "cell_type": "code",
   "execution_count": 44,
   "id": "93b1f26e-d2d1-4069-95f0-fab2cedef33e",
   "metadata": {},
   "outputs": [
    {
     "data": {
      "text/plain": [
       "2357279"
      ]
     },
     "execution_count": 44,
     "metadata": {},
     "output_type": "execute_result"
    }
   ],
   "source": [
    "cases_df[cases_df[\"is_la\"] == True][\"cases\"].sum()"
   ]
  },
  {
   "cell_type": "code",
   "execution_count": 45,
   "id": "e45d9c16-2bc7-4b45-a2ce-7545972ea046",
   "metadata": {},
   "outputs": [
    {
     "data": {
      "text/plain": [
       "1454948"
      ]
     },
     "execution_count": 45,
     "metadata": {},
     "output_type": "execute_result"
    }
   ],
   "source": [
    "cases_df[cases_df[\"is_la\"] == False][\"cases\"].sum()"
   ]
  },
  {
   "cell_type": "markdown",
   "id": "c2362734-2647-490e-b69c-8993c3651f21",
   "metadata": {},
   "source": [
    "#### Discussion: How would you determine whether there were disproportionately more cases in the county? "
   ]
  },
  {
   "cell_type": "code",
   "execution_count": null,
   "id": "c4c63aa4-fb75-45b8-8602-c64165ea235f",
   "metadata": {},
   "outputs": [],
   "source": []
  },
  {
   "cell_type": "code",
   "execution_count": null,
   "id": "fc4e22f4-b608-45f9-acbf-b0d88b7cd1d9",
   "metadata": {},
   "outputs": [],
   "source": []
  }
 ],
 "metadata": {
  "kernelspec": {
   "display_name": "Python 3",
   "language": "python",
   "name": "python3"
  },
  "language_info": {
   "codemirror_mode": {
    "name": "ipython",
    "version": 3
   },
   "file_extension": ".py",
   "mimetype": "text/x-python",
   "name": "python",
   "nbconvert_exporter": "python",
   "pygments_lexer": "ipython3",
   "version": "3.8.8"
  }
 },
 "nbformat": 4,
 "nbformat_minor": 5
}
