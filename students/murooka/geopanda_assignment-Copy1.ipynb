{
 "cells": [
  {
   "cell_type": "markdown",
   "id": "cf543214-f1e4-46f5-a4ca-0641e43e455f",
   "metadata": {},
   "source": [
    "# Geopanda Assignment"
   ]
  },
  {
   "cell_type": "markdown",
   "id": "ece5a4d3-be58-4d94-9736-5e9d10a41ba9",
   "metadata": {},
   "source": [
    "#### Load python tools"
   ]
  },
  {
   "cell_type": "code",
   "execution_count": 102,
   "id": "2594907b-7dfe-4e1f-9406-771e53069144",
   "metadata": {},
   "outputs": [
    {
     "name": "stdout",
     "output_type": "stream",
     "text": [
      "The lab_black extension is already loaded. To reload it, use:\n",
      "  %reload_ext lab_black\n"
     ]
    }
   ],
   "source": [
    "%load_ext lab_black"
   ]
  },
  {
   "cell_type": "code",
   "execution_count": 103,
   "id": "5d82586b-0073-434d-bcee-46e1013d7fc5",
   "metadata": {},
   "outputs": [],
   "source": [
    "import pandas as pd\n",
    "import geopandas as gpd"
   ]
  },
  {
   "cell_type": "code",
   "execution_count": 104,
   "id": "c09bfa5f-474a-40ea-abcc-a5e7787e501c",
   "metadata": {},
   "outputs": [],
   "source": [
    "pd.options.display.max_columns = 1000\n",
    "pd.options.display.max_rows = 1000"
   ]
  },
  {
   "cell_type": "markdown",
   "id": "6e8fe962-7c4f-413c-890e-97fc70adb134",
   "metadata": {},
   "source": [
    "---"
   ]
  },
  {
   "cell_type": "markdown",
   "id": "3a91c5a6-bf04-4430-be0a-fac67b7dbf1c",
   "metadata": {},
   "source": [
    "#### Read GeoJSON file"
   ]
  },
  {
   "cell_type": "code",
   "execution_count": 105,
   "id": "b28201ff-ee94-4f6c-a761-2564c0e448ce",
   "metadata": {},
   "outputs": [],
   "source": [
    "mentalhealth_gdf = gpd.read_file(\n",
    "    \"data/Health_Professional_Shortage_Area_Mental_Health.geojson\"\n",
    ")"
   ]
  },
  {
   "cell_type": "markdown",
   "id": "89d64edb-0a79-4094-95d7-b24861bc6840",
   "metadata": {},
   "source": [
    "#### First 5 rows"
   ]
  },
  {
   "cell_type": "code",
   "execution_count": 106,
   "id": "bda88c1f-e0e5-40cf-8315-2ab221652118",
   "metadata": {},
   "outputs": [
    {
     "data": {
      "text/html": [
       "<div>\n",
       "<style scoped>\n",
       "    .dataframe tbody tr th:only-of-type {\n",
       "        vertical-align: middle;\n",
       "    }\n",
       "\n",
       "    .dataframe tbody tr th {\n",
       "        vertical-align: top;\n",
       "    }\n",
       "\n",
       "    .dataframe thead th {\n",
       "        text-align: right;\n",
       "    }\n",
       "</style>\n",
       "<table border=\"1\" class=\"dataframe\">\n",
       "  <thead>\n",
       "    <tr style=\"text-align: right;\">\n",
       "      <th></th>\n",
       "      <th>FID</th>\n",
       "      <th>OBJECTID</th>\n",
       "      <th>CNTY_FIPS</th>\n",
       "      <th>COUNTY</th>\n",
       "      <th>MSSA_ID</th>\n",
       "      <th>MSSA_NAME</th>\n",
       "      <th>NAME</th>\n",
       "      <th>HPSAID</th>\n",
       "      <th>DEFINITION</th>\n",
       "      <th>TYPE</th>\n",
       "      <th>SUBTYPE</th>\n",
       "      <th>DESIGNATIO</th>\n",
       "      <th>HPSA_DESIG</th>\n",
       "      <th>HPSA_LASTU</th>\n",
       "      <th>FTE</th>\n",
       "      <th>SCORE</th>\n",
       "      <th>HPSA_POVER</th>\n",
       "      <th>HPSA_SHORT</th>\n",
       "      <th>HPSA_DEGRE</th>\n",
       "      <th>HPSA_RATIO</th>\n",
       "      <th>HPSA_RAT_1</th>\n",
       "      <th>POP_CIV</th>\n",
       "      <th>POP</th>\n",
       "      <th>POVERTY_UN</th>\n",
       "      <th>POP100POV</th>\n",
       "      <th>POP200POV</th>\n",
       "      <th>PCT100POV</th>\n",
       "      <th>PCT200POV</th>\n",
       "      <th>UNIT_COUNT</th>\n",
       "      <th>CREATOR</th>\n",
       "      <th>CREATED</th>\n",
       "      <th>EDITOR</th>\n",
       "      <th>EDITED</th>\n",
       "      <th>Shape_STAr</th>\n",
       "      <th>Shape_STLe</th>\n",
       "      <th>Shape_Leng</th>\n",
       "      <th>Shape_Area</th>\n",
       "      <th>Shape__Area</th>\n",
       "      <th>Shape__Length</th>\n",
       "      <th>geometry</th>\n",
       "    </tr>\n",
       "  </thead>\n",
       "  <tbody>\n",
       "    <tr>\n",
       "      <th>0</th>\n",
       "      <td>1</td>\n",
       "      <td>1</td>\n",
       "      <td>007</td>\n",
       "      <td>Butte</td>\n",
       "      <td>10</td>\n",
       "      <td>Oroville/Palermo/Thermalito</td>\n",
       "      <td>Butte County</td>\n",
       "      <td>7063867880</td>\n",
       "      <td>Rural</td>\n",
       "      <td>Mental Health</td>\n",
       "      <td>Hpsa Geographic High Needs</td>\n",
       "      <td>Designated</td>\n",
       "      <td>1475539200000</td>\n",
       "      <td>1475539200000</td>\n",
       "      <td>3.70</td>\n",
       "      <td>20</td>\n",
       "      <td>21.5</td>\n",
       "      <td>10.74</td>\n",
       "      <td>0</td>\n",
       "      <td>58538:1</td>\n",
       "      <td>58538</td>\n",
       "      <td>47268</td>\n",
       "      <td>48688</td>\n",
       "      <td>47268</td>\n",
       "      <td>10289</td>\n",
       "      <td>23283</td>\n",
       "      <td>21.767369</td>\n",
       "      <td>49.257426</td>\n",
       "      <td>12</td>\n",
       "      <td></td>\n",
       "      <td>None</td>\n",
       "      <td></td>\n",
       "      <td>None</td>\n",
       "      <td>7.186557e+08</td>\n",
       "      <td>159552.373462</td>\n",
       "      <td>159552.373462</td>\n",
       "      <td>7.186557e+08</td>\n",
       "      <td>1.207560e+09</td>\n",
       "      <td>206854.287429</td>\n",
       "      <td>POLYGON ((-121.49581 39.66229, -121.49518 39.6...</td>\n",
       "    </tr>\n",
       "    <tr>\n",
       "      <th>1</th>\n",
       "      <td>2</td>\n",
       "      <td>2</td>\n",
       "      <td>049</td>\n",
       "      <td>Modoc</td>\n",
       "      <td>100</td>\n",
       "      <td>Adin/Lookout/Newell</td>\n",
       "      <td>Modoc County</td>\n",
       "      <td>7064264160</td>\n",
       "      <td>Frontier</td>\n",
       "      <td>Mental Health</td>\n",
       "      <td>Hpsa Geographic High Needs</td>\n",
       "      <td>Designated</td>\n",
       "      <td>1196208000000</td>\n",
       "      <td>1509148800000</td>\n",
       "      <td>0.00</td>\n",
       "      <td>17</td>\n",
       "      <td>20.9</td>\n",
       "      <td>0.60</td>\n",
       "      <td>0</td>\n",
       "      <td></td>\n",
       "      <td>0</td>\n",
       "      <td>2214</td>\n",
       "      <td>2214</td>\n",
       "      <td>2214</td>\n",
       "      <td>447</td>\n",
       "      <td>1211</td>\n",
       "      <td>20.189702</td>\n",
       "      <td>54.697380</td>\n",
       "      <td>1</td>\n",
       "      <td></td>\n",
       "      <td>None</td>\n",
       "      <td></td>\n",
       "      <td>None</td>\n",
       "      <td>2.447240e+09</td>\n",
       "      <td>322875.117678</td>\n",
       "      <td>322875.117678</td>\n",
       "      <td>2.447240e+09</td>\n",
       "      <td>4.367055e+09</td>\n",
       "      <td>431655.339998</td>\n",
       "      <td>POLYGON ((-121.25024 41.99724, -121.25013 41.9...</td>\n",
       "    </tr>\n",
       "    <tr>\n",
       "      <th>2</th>\n",
       "      <td>3</td>\n",
       "      <td>3</td>\n",
       "      <td>051</td>\n",
       "      <td>Mono</td>\n",
       "      <td>102</td>\n",
       "      <td>Benton/Bridgeport/Chalfant/Crowley Lake/Colevi...</td>\n",
       "      <td>Mono County</td>\n",
       "      <td>7067685474</td>\n",
       "      <td>Frontier</td>\n",
       "      <td>Mental Health</td>\n",
       "      <td>Hpsa Geographic High Needs</td>\n",
       "      <td>Designated</td>\n",
       "      <td>1486944000000</td>\n",
       "      <td>1486944000000</td>\n",
       "      <td>0.00</td>\n",
       "      <td>17</td>\n",
       "      <td>5.0</td>\n",
       "      <td>0.00</td>\n",
       "      <td>0</td>\n",
       "      <td></td>\n",
       "      <td>0</td>\n",
       "      <td>5918</td>\n",
       "      <td>6002</td>\n",
       "      <td>5918</td>\n",
       "      <td>390</td>\n",
       "      <td>1655</td>\n",
       "      <td>6.590064</td>\n",
       "      <td>27.965529</td>\n",
       "      <td>2</td>\n",
       "      <td></td>\n",
       "      <td>None</td>\n",
       "      <td></td>\n",
       "      <td>None</td>\n",
       "      <td>7.939536e+09</td>\n",
       "      <td>557830.126475</td>\n",
       "      <td>557830.126475</td>\n",
       "      <td>7.939536e+09</td>\n",
       "      <td>1.278856e+10</td>\n",
       "      <td>708135.330176</td>\n",
       "      <td>POLYGON ((-119.52107 38.66876, -119.51158 38.6...</td>\n",
       "    </tr>\n",
       "    <tr>\n",
       "      <th>3</th>\n",
       "      <td>4</td>\n",
       "      <td>4</td>\n",
       "      <td>051</td>\n",
       "      <td>Mono</td>\n",
       "      <td>103</td>\n",
       "      <td>Mammoth Lakes</td>\n",
       "      <td>Mono County</td>\n",
       "      <td>7067685474</td>\n",
       "      <td>Rural</td>\n",
       "      <td>Mental Health</td>\n",
       "      <td>Hpsa Geographic High Needs</td>\n",
       "      <td>Designated</td>\n",
       "      <td>1486944000000</td>\n",
       "      <td>1486944000000</td>\n",
       "      <td>0.00</td>\n",
       "      <td>17</td>\n",
       "      <td>5.0</td>\n",
       "      <td>0.00</td>\n",
       "      <td>0</td>\n",
       "      <td></td>\n",
       "      <td>0</td>\n",
       "      <td>8192</td>\n",
       "      <td>8215</td>\n",
       "      <td>8192</td>\n",
       "      <td>807</td>\n",
       "      <td>3602</td>\n",
       "      <td>9.851074</td>\n",
       "      <td>43.969727</td>\n",
       "      <td>1</td>\n",
       "      <td></td>\n",
       "      <td>None</td>\n",
       "      <td></td>\n",
       "      <td>None</td>\n",
       "      <td>1.719323e+08</td>\n",
       "      <td>63370.354223</td>\n",
       "      <td>63370.354223</td>\n",
       "      <td>1.719323e+08</td>\n",
       "      <td>2.746502e+08</td>\n",
       "      <td>80096.819582</td>\n",
       "      <td>POLYGON ((-118.91717 37.55034, -118.91717 37.5...</td>\n",
       "    </tr>\n",
       "    <tr>\n",
       "      <th>4</th>\n",
       "      <td>5</td>\n",
       "      <td>5</td>\n",
       "      <td>053</td>\n",
       "      <td>Monterey</td>\n",
       "      <td>104</td>\n",
       "      <td>Big Sur/Lucia</td>\n",
       "      <td>MSSA 104/Big Sur/Lucia</td>\n",
       "      <td>7064465115</td>\n",
       "      <td>Frontier</td>\n",
       "      <td>Mental Health</td>\n",
       "      <td>Hpsa Geographic High Needs</td>\n",
       "      <td>Designated</td>\n",
       "      <td>1204156800000</td>\n",
       "      <td>1509148800000</td>\n",
       "      <td>0.05</td>\n",
       "      <td>13</td>\n",
       "      <td>25.0</td>\n",
       "      <td>0.04</td>\n",
       "      <td>0</td>\n",
       "      <td>26200:1</td>\n",
       "      <td>26200</td>\n",
       "      <td>1295</td>\n",
       "      <td>1303</td>\n",
       "      <td>1295</td>\n",
       "      <td>312</td>\n",
       "      <td>507</td>\n",
       "      <td>24.092664</td>\n",
       "      <td>39.150579</td>\n",
       "      <td>1</td>\n",
       "      <td></td>\n",
       "      <td>None</td>\n",
       "      <td></td>\n",
       "      <td>None</td>\n",
       "      <td>6.508422e+08</td>\n",
       "      <td>206605.966559</td>\n",
       "      <td>206605.966559</td>\n",
       "      <td>6.508422e+08</td>\n",
       "      <td>1.002875e+09</td>\n",
       "      <td>256407.662682</td>\n",
       "      <td>POLYGON ((-121.82140 36.41984, -121.82115 36.4...</td>\n",
       "    </tr>\n",
       "  </tbody>\n",
       "</table>\n",
       "</div>"
      ],
      "text/plain": [
       "   FID  OBJECTID CNTY_FIPS    COUNTY MSSA_ID  \\\n",
       "0    1         1       007     Butte      10   \n",
       "1    2         2       049     Modoc     100   \n",
       "2    3         3       051      Mono     102   \n",
       "3    4         4       051      Mono     103   \n",
       "4    5         5       053  Monterey     104   \n",
       "\n",
       "                                           MSSA_NAME                    NAME  \\\n",
       "0                        Oroville/Palermo/Thermalito            Butte County   \n",
       "1                                Adin/Lookout/Newell            Modoc County   \n",
       "2  Benton/Bridgeport/Chalfant/Crowley Lake/Colevi...             Mono County   \n",
       "3                                      Mammoth Lakes             Mono County   \n",
       "4                                      Big Sur/Lucia  MSSA 104/Big Sur/Lucia   \n",
       "\n",
       "       HPSAID DEFINITION           TYPE                     SUBTYPE  \\\n",
       "0  7063867880      Rural  Mental Health  Hpsa Geographic High Needs   \n",
       "1  7064264160   Frontier  Mental Health  Hpsa Geographic High Needs   \n",
       "2  7067685474   Frontier  Mental Health  Hpsa Geographic High Needs   \n",
       "3  7067685474      Rural  Mental Health  Hpsa Geographic High Needs   \n",
       "4  7064465115   Frontier  Mental Health  Hpsa Geographic High Needs   \n",
       "\n",
       "   DESIGNATIO     HPSA_DESIG     HPSA_LASTU   FTE  SCORE  HPSA_POVER  \\\n",
       "0  Designated  1475539200000  1475539200000  3.70     20        21.5   \n",
       "1  Designated  1196208000000  1509148800000  0.00     17        20.9   \n",
       "2  Designated  1486944000000  1486944000000  0.00     17         5.0   \n",
       "3  Designated  1486944000000  1486944000000  0.00     17         5.0   \n",
       "4  Designated  1204156800000  1509148800000  0.05     13        25.0   \n",
       "\n",
       "   HPSA_SHORT  HPSA_DEGRE HPSA_RATIO  HPSA_RAT_1  POP_CIV    POP  POVERTY_UN  \\\n",
       "0       10.74           0    58538:1       58538    47268  48688       47268   \n",
       "1        0.60           0                      0     2214   2214        2214   \n",
       "2        0.00           0                      0     5918   6002        5918   \n",
       "3        0.00           0                      0     8192   8215        8192   \n",
       "4        0.04           0    26200:1       26200     1295   1303        1295   \n",
       "\n",
       "   POP100POV  POP200POV  PCT100POV  PCT200POV  UNIT_COUNT CREATOR CREATED  \\\n",
       "0      10289      23283  21.767369  49.257426          12            None   \n",
       "1        447       1211  20.189702  54.697380           1            None   \n",
       "2        390       1655   6.590064  27.965529           2            None   \n",
       "3        807       3602   9.851074  43.969727           1            None   \n",
       "4        312        507  24.092664  39.150579           1            None   \n",
       "\n",
       "  EDITOR EDITED    Shape_STAr     Shape_STLe     Shape_Leng    Shape_Area  \\\n",
       "0          None  7.186557e+08  159552.373462  159552.373462  7.186557e+08   \n",
       "1          None  2.447240e+09  322875.117678  322875.117678  2.447240e+09   \n",
       "2          None  7.939536e+09  557830.126475  557830.126475  7.939536e+09   \n",
       "3          None  1.719323e+08   63370.354223   63370.354223  1.719323e+08   \n",
       "4          None  6.508422e+08  206605.966559  206605.966559  6.508422e+08   \n",
       "\n",
       "    Shape__Area  Shape__Length  \\\n",
       "0  1.207560e+09  206854.287429   \n",
       "1  4.367055e+09  431655.339998   \n",
       "2  1.278856e+10  708135.330176   \n",
       "3  2.746502e+08   80096.819582   \n",
       "4  1.002875e+09  256407.662682   \n",
       "\n",
       "                                            geometry  \n",
       "0  POLYGON ((-121.49581 39.66229, -121.49518 39.6...  \n",
       "1  POLYGON ((-121.25024 41.99724, -121.25013 41.9...  \n",
       "2  POLYGON ((-119.52107 38.66876, -119.51158 38.6...  \n",
       "3  POLYGON ((-118.91717 37.55034, -118.91717 37.5...  \n",
       "4  POLYGON ((-121.82140 36.41984, -121.82115 36.4...  "
      ]
     },
     "execution_count": 106,
     "metadata": {},
     "output_type": "execute_result"
    }
   ],
   "source": [
    "mentalhealth_gdf.head()"
   ]
  },
  {
   "cell_type": "markdown",
   "id": "b380a383-1555-4a13-8e12-3b53ed5d67a8",
   "metadata": {},
   "source": [
    "#### Plot of data"
   ]
  },
  {
   "cell_type": "code",
   "execution_count": 107,
   "id": "d0b9296a-d000-4b79-b063-71ef3b3fb9dd",
   "metadata": {},
   "outputs": [
    {
     "data": {
      "text/plain": [
       "<AxesSubplot:>"
      ]
     },
     "execution_count": 107,
     "metadata": {},
     "output_type": "execute_result"
    },
    {
     "data": {
      "image/png": "[encoded data removed]",
      "text/plain": [
       "<Figure size 432x288 with 1 Axes>"
      ]
     },
     "metadata": {
      "needs_background": "light"
     },
     "output_type": "display_data"
    }
   ],
   "source": [
    "mentalhealth_gdf.plot()"
   ]
  },
  {
   "cell_type": "markdown",
   "id": "35b7366b-32be-44ce-be95-02dd87011952",
   "metadata": {},
   "source": [
    "#### Filter just the counties with percentage of more than 25% of population living below the 100% Federal poverty level"
   ]
  },
  {
   "cell_type": "code",
   "execution_count": 108,
   "id": "f41f8c09-15d8-45b6-a37e-6a70d223031b",
   "metadata": {},
   "outputs": [],
   "source": [
    "below_100_poverty_gdf = mentalhealth_gdf[mentalhealth_gdf[\"PCT100POV\"] >= 25]"
   ]
  },
  {
   "cell_type": "markdown",
   "id": "1b686359-5727-4e59-9767-a6084fce7db7",
   "metadata": {},
   "source": [
    "#### Plot the included counties from the filtered data above"
   ]
  },
  {
   "cell_type": "code",
   "execution_count": 109,
   "id": "822cec05-7b70-44cc-a464-c0cfaa56e650",
   "metadata": {},
   "outputs": [
    {
     "data": {
      "text/plain": [
       "<AxesSubplot:>"
      ]
     },
     "execution_count": 109,
     "metadata": {},
     "output_type": "execute_result"
    },
    {
     "data": {
      "image/png": "[encoded data removed]",
      "text/plain": [
       "<Figure size 432x288 with 1 Axes>"
      ]
     },
     "metadata": {
      "needs_background": "light"
     },
     "output_type": "display_data"
    }
   ],
   "source": [
    "below_100_poverty_gdf.plot()"
   ]
  },
  {
   "cell_type": "markdown",
   "id": "3428dc1d-773e-4b22-bb66-b5ccb49bc122",
   "metadata": {},
   "source": [
    "---"
   ]
  },
  {
   "cell_type": "markdown",
   "id": "8f665e44-4b99-4c85-ba07-95cf3970e472",
   "metadata": {},
   "source": [
    "## Export geodataframe as GeoJSON"
   ]
  },
  {
   "cell_type": "code",
   "execution_count": 110,
   "id": "1c5126a9-127e-4680-bd33-4c8834950172",
   "metadata": {},
   "outputs": [],
   "source": [
    "below_100_poverty_gdf.to_file(\n",
    "    \"data/counties_with_below_100_federal_poverty.geojson\", driver=\"GeoJSON\"\n",
    ")"
   ]
  }
 ],
 "metadata": {
  "kernelspec": {
   "display_name": "Python 3",
   "language": "python",
   "name": "python3"
  },
  "language_info": {
   "codemirror_mode": {
    "name": "ipython",
    "version": 3
   },
   "file_extension": ".py",
   "mimetype": "text/x-python",
   "name": "python",
   "nbconvert_exporter": "python",
   "pygments_lexer": "ipython3",
   "version": "3.8.8"
  }
 },
 "nbformat": 4,
 "nbformat_minor": 5
}
