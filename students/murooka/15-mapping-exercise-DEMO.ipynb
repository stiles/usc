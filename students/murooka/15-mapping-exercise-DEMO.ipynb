{
 "cells": [
  {
   "cell_type": "markdown",
   "id": "cf543214-f1e4-46f5-a4ca-0641e43e455f",
   "metadata": {},
   "source": [
    "# Class mapping Assignment"
   ]
  },
  {
   "cell_type": "markdown",
   "id": "ece5a4d3-be58-4d94-9736-5e9d10a41ba9",
   "metadata": {},
   "source": [
    "#### Load python tools"
   ]
  },
  {
   "cell_type": "code",
   "execution_count": 46,
   "id": "2594907b-7dfe-4e1f-9406-771e53069144",
   "metadata": {},
   "outputs": [
    {
     "name": "stdout",
     "output_type": "stream",
     "text": [
      "The lab_black extension is already loaded. To reload it, use:\n",
      "  %reload_ext lab_black\n"
     ]
    }
   ],
   "source": [
    "%load_ext lab_black"
   ]
  },
  {
   "cell_type": "code",
   "execution_count": 47,
   "id": "5d82586b-0073-434d-bcee-46e1013d7fc5",
   "metadata": {},
   "outputs": [],
   "source": [
    "import pandas as pd\n",
    "import geopandas as gpd\n",
    "import numpy as np"
   ]
  },
  {
   "cell_type": "code",
   "execution_count": 48,
   "id": "558e402e-5ce6-4bae-bf4f-0157e6bc405d",
   "metadata": {},
   "outputs": [],
   "source": [
    "pd.options.display.max_columns = 1000\n",
    "pd.options.display.max_rows = 1000"
   ]
  },
  {
   "cell_type": "code",
   "execution_count": 50,
   "id": "3cd3aac6-8e17-4a97-804c-f5ce2187239f",
   "metadata": {},
   "outputs": [],
   "source": [
    "counties_election_df = pd.read_csv(\n",
    "    \"https://raw.githubusercontent.com/stiles/notebooks/master/elections/data/ca_counties_election_results_2020.csv\"\n",
    ")"
   ]
  },
  {
   "cell_type": "code",
   "execution_count": 51,
   "id": "1cd49a1f-e5ed-4017-a318-e736347c3f2b",
   "metadata": {},
   "outputs": [
    {
     "data": {
      "text/html": [
       "<div>\n",
       "<style scoped>\n",
       "    .dataframe tbody tr th:only-of-type {\n",
       "        vertical-align: middle;\n",
       "    }\n",
       "\n",
       "    .dataframe tbody tr th {\n",
       "        vertical-align: top;\n",
       "    }\n",
       "\n",
       "    .dataframe thead th {\n",
       "        text-align: right;\n",
       "    }\n",
       "</style>\n",
       "<table border=\"1\" class=\"dataframe\">\n",
       "  <thead>\n",
       "    <tr style=\"text-align: right;\">\n",
       "      <th></th>\n",
       "      <th>state_name</th>\n",
       "      <th>county_fips</th>\n",
       "      <th>county_name</th>\n",
       "      <th>votes_gop</th>\n",
       "      <th>votes_dem</th>\n",
       "      <th>total_votes</th>\n",
       "      <th>diff</th>\n",
       "      <th>per_gop</th>\n",
       "      <th>per_dem</th>\n",
       "      <th>per_point_diff</th>\n",
       "      <th>winner</th>\n",
       "    </tr>\n",
       "  </thead>\n",
       "  <tbody>\n",
       "    <tr>\n",
       "      <th>0</th>\n",
       "      <td>California</td>\n",
       "      <td>1</td>\n",
       "      <td>Alameda</td>\n",
       "      <td>136309</td>\n",
       "      <td>617659</td>\n",
       "      <td>769864</td>\n",
       "      <td>-481350</td>\n",
       "      <td>0.177056</td>\n",
       "      <td>0.802296</td>\n",
       "      <td>0.625240</td>\n",
       "      <td>Biden</td>\n",
       "    </tr>\n",
       "    <tr>\n",
       "      <th>1</th>\n",
       "      <td>California</td>\n",
       "      <td>3</td>\n",
       "      <td>Alpine</td>\n",
       "      <td>244</td>\n",
       "      <td>476</td>\n",
       "      <td>741</td>\n",
       "      <td>-232</td>\n",
       "      <td>0.329285</td>\n",
       "      <td>0.642375</td>\n",
       "      <td>0.313090</td>\n",
       "      <td>Biden</td>\n",
       "    </tr>\n",
       "    <tr>\n",
       "      <th>2</th>\n",
       "      <td>California</td>\n",
       "      <td>5</td>\n",
       "      <td>Amador</td>\n",
       "      <td>13585</td>\n",
       "      <td>8153</td>\n",
       "      <td>22302</td>\n",
       "      <td>5432</td>\n",
       "      <td>0.609138</td>\n",
       "      <td>0.365573</td>\n",
       "      <td>0.243566</td>\n",
       "      <td>Trump</td>\n",
       "    </tr>\n",
       "    <tr>\n",
       "      <th>3</th>\n",
       "      <td>California</td>\n",
       "      <td>7</td>\n",
       "      <td>Butte</td>\n",
       "      <td>48730</td>\n",
       "      <td>50426</td>\n",
       "      <td>102042</td>\n",
       "      <td>-1696</td>\n",
       "      <td>0.477548</td>\n",
       "      <td>0.494169</td>\n",
       "      <td>0.016621</td>\n",
       "      <td>Biden</td>\n",
       "    </tr>\n",
       "    <tr>\n",
       "      <th>4</th>\n",
       "      <td>California</td>\n",
       "      <td>9</td>\n",
       "      <td>Calaveras</td>\n",
       "      <td>16518</td>\n",
       "      <td>10046</td>\n",
       "      <td>27164</td>\n",
       "      <td>6472</td>\n",
       "      <td>0.608084</td>\n",
       "      <td>0.369828</td>\n",
       "      <td>0.238257</td>\n",
       "      <td>Trump</td>\n",
       "    </tr>\n",
       "  </tbody>\n",
       "</table>\n",
       "</div>"
      ],
      "text/plain": [
       "   state_name  county_fips county_name  votes_gop  votes_dem  total_votes  \\\n",
       "0  California            1     Alameda     136309     617659       769864   \n",
       "1  California            3      Alpine        244        476          741   \n",
       "2  California            5      Amador      13585       8153        22302   \n",
       "3  California            7       Butte      48730      50426       102042   \n",
       "4  California            9   Calaveras      16518      10046        27164   \n",
       "\n",
       "     diff   per_gop   per_dem  per_point_diff winner  \n",
       "0 -481350  0.177056  0.802296        0.625240  Biden  \n",
       "1    -232  0.329285  0.642375        0.313090  Biden  \n",
       "2    5432  0.609138  0.365573        0.243566  Trump  \n",
       "3   -1696  0.477548  0.494169        0.016621  Biden  \n",
       "4    6472  0.608084  0.369828        0.238257  Trump  "
      ]
     },
     "execution_count": 51,
     "metadata": {},
     "output_type": "execute_result"
    }
   ],
   "source": [
    "counties_election_df.head()"
   ]
  },
  {
   "cell_type": "markdown",
   "id": "d3555d23-1267-4778-b182-bb43b583d18d",
   "metadata": {},
   "source": [
    "#### Read county boundaries"
   ]
  },
  {
   "cell_type": "code",
   "execution_count": 52,
   "id": "b899ae4a-ebaf-4f47-be48-c66ce526a269",
   "metadata": {},
   "outputs": [],
   "source": [
    "counties_gdf = gpd.read_file(\n",
    "    \"https://raw.githubusercontent.com/stiles/usc/main/data/geo/counties_simple.geojson\"\n",
    ")"
   ]
  },
  {
   "cell_type": "code",
   "execution_count": 53,
   "id": "8969ef3f-5673-42c8-8fd6-95f7280fbef6",
   "metadata": {},
   "outputs": [
    {
     "data": {
      "text/html": [
       "<div>\n",
       "<style scoped>\n",
       "    .dataframe tbody tr th:only-of-type {\n",
       "        vertical-align: middle;\n",
       "    }\n",
       "\n",
       "    .dataframe tbody tr th {\n",
       "        vertical-align: top;\n",
       "    }\n",
       "\n",
       "    .dataframe thead th {\n",
       "        text-align: right;\n",
       "    }\n",
       "</style>\n",
       "<table border=\"1\" class=\"dataframe\">\n",
       "  <thead>\n",
       "    <tr style=\"text-align: right;\">\n",
       "      <th></th>\n",
       "      <th>county_name</th>\n",
       "      <th>county_fips</th>\n",
       "      <th>geometry</th>\n",
       "    </tr>\n",
       "  </thead>\n",
       "  <tbody>\n",
       "    <tr>\n",
       "      <th>0</th>\n",
       "      <td>Alameda</td>\n",
       "      <td>001</td>\n",
       "      <td>POLYGON ((-122.27125 37.90503, -122.27024 37.9...</td>\n",
       "    </tr>\n",
       "    <tr>\n",
       "      <th>1</th>\n",
       "      <td>Alpine</td>\n",
       "      <td>003</td>\n",
       "      <td>POLYGON ((-119.58667 38.71420, -119.58653 38.7...</td>\n",
       "    </tr>\n",
       "    <tr>\n",
       "      <th>2</th>\n",
       "      <td>Amador</td>\n",
       "      <td>005</td>\n",
       "      <td>POLYGON ((-120.07246 38.70276, -120.07249 38.6...</td>\n",
       "    </tr>\n",
       "    <tr>\n",
       "      <th>3</th>\n",
       "      <td>Butte</td>\n",
       "      <td>007</td>\n",
       "      <td>POLYGON ((-121.07661 39.59729, -121.07945 39.5...</td>\n",
       "    </tr>\n",
       "    <tr>\n",
       "      <th>4</th>\n",
       "      <td>Calaveras</td>\n",
       "      <td>009</td>\n",
       "      <td>POLYGON ((-120.01792 38.43586, -120.01788 38.4...</td>\n",
       "    </tr>\n",
       "  </tbody>\n",
       "</table>\n",
       "</div>"
      ],
      "text/plain": [
       "  county_name county_fips                                           geometry\n",
       "0     Alameda         001  POLYGON ((-122.27125 37.90503, -122.27024 37.9...\n",
       "1      Alpine         003  POLYGON ((-119.58667 38.71420, -119.58653 38.7...\n",
       "2      Amador         005  POLYGON ((-120.07246 38.70276, -120.07249 38.6...\n",
       "3       Butte         007  POLYGON ((-121.07661 39.59729, -121.07945 39.5...\n",
       "4   Calaveras         009  POLYGON ((-120.01792 38.43586, -120.01788 38.4..."
      ]
     },
     "execution_count": 53,
     "metadata": {},
     "output_type": "execute_result"
    }
   ],
   "source": [
    "counties_gdf.head()"
   ]
  },
  {
   "cell_type": "code",
   "execution_count": 54,
   "id": "fd1aab75-5cdf-4dc0-b527-68839935e85f",
   "metadata": {},
   "outputs": [
    {
     "data": {
      "text/plain": [
       "<AxesSubplot:>"
      ]
     },
     "execution_count": 54,
     "metadata": {},
     "output_type": "execute_result"
    },
    {
     "data": {
      "image/png": "[encoded data removed]",
      "text/plain": [
       "<Figure size 432x288 with 1 Axes>"
      ]
     },
     "metadata": {
      "needs_background": "light"
     },
     "output_type": "display_data"
    }
   ],
   "source": [
    "counties_gdf.plot()"
   ]
  },
  {
   "cell_type": "markdown",
   "id": "bbbcade1-6576-4a03-9c94-45782f5e9e3f",
   "metadata": {},
   "source": [
    "#### Merge the two "
   ]
  },
  {
   "cell_type": "code",
   "execution_count": 55,
   "id": "86721fd9-a1ae-499d-9b28-43fa4fbf0c40",
   "metadata": {},
   "outputs": [],
   "source": [
    "merged_counties_gdf = pd.merge(counties_gdf, counties_election_df, on=\"county_name\")"
   ]
  },
  {
   "cell_type": "code",
   "execution_count": 56,
   "id": "c804990d-fdfa-4f33-a35b-39decbb61d26",
   "metadata": {},
   "outputs": [
    {
     "data": {
      "text/plain": [
       "<AxesSubplot:>"
      ]
     },
     "execution_count": 56,
     "metadata": {},
     "output_type": "execute_result"
    },
    {
     "data": {
      "image/png": "[encoded data removed]",
      "text/plain": [
       "<Figure size 432x288 with 1 Axes>"
      ]
     },
     "metadata": {
      "needs_background": "light"
     },
     "output_type": "display_data"
    }
   ],
   "source": [
    "merged_counties_gdf.plot()"
   ]
  },
  {
   "cell_type": "markdown",
   "id": "d2b4f1a9-d2e9-42d6-8283-841441ec006b",
   "metadata": {},
   "source": [
    "#### Export merged geo file"
   ]
  },
  {
   "cell_type": "code",
   "execution_count": 57,
   "id": "0073fca6-e049-4343-bdcd-2d93f8782643",
   "metadata": {},
   "outputs": [],
   "source": [
    "merged_counties_gdf.to_file(\"data/election_counties.geojson\", driver=\"GeoJSON\")"
   ]
  }
 ],
 "metadata": {
  "kernelspec": {
   "display_name": "Python 3",
   "language": "python",
   "name": "python3"
  },
  "language_info": {
   "codemirror_mode": {
    "name": "ipython",
    "version": 3
   },
   "file_extension": ".py",
   "mimetype": "text/x-python",
   "name": "python",
   "nbconvert_exporter": "python",
   "pygments_lexer": "ipython3",
   "version": "3.8.8"
  }
 },
 "nbformat": 4,
 "nbformat_minor": 5
}
