{
 "cells": [
  {
   "cell_type": "markdown",
   "id": "de872774-504e-4e20-8ba5-8ab6691ebb3d",
   "metadata": {},
   "source": [
    "# Accessing data from an API"
   ]
  },
  {
   "cell_type": "markdown",
   "id": "2c84208b-1af7-49c4-9258-4ee2919f6900",
   "metadata": {},
   "source": [
    "This notebook has two simple excerises demonstrating how to extract data from an [Application Programming Interface](https://en.wikipedia.org/wiki/API). An API is a tool for computers or applications to interact with one another. In our case, we'll be asking for data, and the API will return it. These systems can be complicated, but most of those we might use in data journalism are relatively simple."
   ]
  },
  {
   "cell_type": "markdown",
   "id": "92e7b332-c581-4d4b-82f8-06aab829f80e",
   "metadata": {},
   "source": [
    "#### Import our data tools"
   ]
  },
  {
   "cell_type": "code",
   "execution_count": 8,
   "id": "e0719e5b-a9f3-46cf-a9fe-cc265c2c37a3",
   "metadata": {},
   "outputs": [
    {
     "name": "stdout",
     "output_type": "stream",
     "text": [
      "The lab_black extension is already loaded. To reload it, use:\n",
      "  %reload_ext lab_black\n"
     ]
    }
   ],
   "source": [
    "%load_ext lab_black"
   ]
  },
  {
   "cell_type": "code",
   "execution_count": 13,
   "id": "54f28d60-f846-46c3-8c56-659a92e5806b",
   "metadata": {},
   "outputs": [],
   "source": [
    "import pandas as pd\n",
    "import requests"
   ]
  },
  {
   "cell_type": "code",
   "execution_count": 14,
   "id": "a61bdfc1-28d4-43e3-b11e-67fd894676b7",
   "metadata": {},
   "outputs": [],
   "source": [
    "pd.options.display.max_columns = 100\n",
    "pd.options.display.max_rows = 1000\n",
    "pd.options.display.max_colwidth = None"
   ]
  },
  {
   "cell_type": "markdown",
   "id": "58da4e76-be26-4247-8e82-385493b522eb",
   "metadata": {},
   "source": [
    "---"
   ]
  },
  {
   "cell_type": "markdown",
   "id": "0291ae2b-2543-48e3-843a-78cad1d3d3ce",
   "metadata": {},
   "source": [
    "## Cat facts!"
   ]
  },
  {
   "cell_type": "markdown",
   "id": "e0cd737e-d6b2-4621-bdef-b9f73c76cf2b",
   "metadata": {},
   "source": [
    "[Read the documentation](https://alexwohlbruck.github.io/cat-facts/docs/)"
   ]
  },
  {
   "cell_type": "markdown",
   "id": "6c247eb5-0900-496d-a70b-ae3fba351b21",
   "metadata": {},
   "source": [
    "#### Get random facts"
   ]
  },
  {
   "cell_type": "code",
   "execution_count": 20,
   "id": "34a6c553-5231-499b-8429-f7a507991443",
   "metadata": {},
   "outputs": [],
   "source": [
    "cat_df = pd.read_json(\n",
    "    \"https://cat-fact.herokuapp.com/facts/random?animal_type=cat&amount=500\"\n",
    ")"
   ]
  },
  {
   "cell_type": "markdown",
   "id": "1b799caa-637a-4011-9e18-c95d1f54f306",
   "metadata": {},
   "source": [
    "#### First five rows"
   ]
  },
  {
   "cell_type": "code",
   "execution_count": 22,
   "id": "63b91c0a-fa1e-42cf-934d-b7678842203f",
   "metadata": {},
   "outputs": [
    {
     "data": {
      "text/html": [
       "<div>\n",
       "<style scoped>\n",
       "    .dataframe tbody tr th:only-of-type {\n",
       "        vertical-align: middle;\n",
       "    }\n",
       "\n",
       "    .dataframe tbody tr th {\n",
       "        vertical-align: top;\n",
       "    }\n",
       "\n",
       "    .dataframe thead th {\n",
       "        text-align: right;\n",
       "    }\n",
       "</style>\n",
       "<table border=\"1\" class=\"dataframe\">\n",
       "  <thead>\n",
       "    <tr style=\"text-align: right;\">\n",
       "      <th></th>\n",
       "      <th>status</th>\n",
       "      <th>_id</th>\n",
       "      <th>user</th>\n",
       "      <th>text</th>\n",
       "      <th>source</th>\n",
       "      <th>__v</th>\n",
       "      <th>updatedAt</th>\n",
       "      <th>type</th>\n",
       "      <th>createdAt</th>\n",
       "      <th>deleted</th>\n",
       "      <th>used</th>\n",
       "      <th>sendDate</th>\n",
       "    </tr>\n",
       "  </thead>\n",
       "  <tbody>\n",
       "    <tr>\n",
       "      <th>0</th>\n",
       "      <td>{'verified': True, 'sentCount': 1}</td>\n",
       "      <td>596f4f50a8d3440020e2d77d</td>\n",
       "      <td>596ea14ed4d9720020401f7b</td>\n",
       "      <td>Due to the controversy, though loved by most, the Kashmir is overlooked by many cat fanciers.</td>\n",
       "      <td>user</td>\n",
       "      <td>0.0</td>\n",
       "      <td>2020-08-23T20:20:01.611Z</td>\n",
       "      <td>cat</td>\n",
       "      <td>2018-04-04T20:20:01.991Z</td>\n",
       "      <td>False</td>\n",
       "      <td>0.0</td>\n",
       "      <td>NaN</td>\n",
       "    </tr>\n",
       "    <tr>\n",
       "      <th>1</th>\n",
       "      <td>{'verified': True, 'sentCount': 1}</td>\n",
       "      <td>5c3551d48e0b8d00148d45e4</td>\n",
       "      <td>5a9ac18c7478810ea6c06381</td>\n",
       "      <td>The Bengal is the result of crossbreeding between domestic cats and Asian leopard cats, and its name is derived from the scientific name for the Asian leopard cat (Felis bengalensis).</td>\n",
       "      <td>user</td>\n",
       "      <td>0.0</td>\n",
       "      <td>2020-08-23T20:20:01.611Z</td>\n",
       "      <td>cat</td>\n",
       "      <td>2019-01-09T01:43:48.303Z</td>\n",
       "      <td>False</td>\n",
       "      <td>0.0</td>\n",
       "      <td>NaN</td>\n",
       "    </tr>\n",
       "    <tr>\n",
       "      <th>2</th>\n",
       "      <td>{'verified': None, 'sentCount': 0}</td>\n",
       "      <td>61c748a00c7a44ab650af810</td>\n",
       "      <td>61c7471b0c7a44ab650af755</td>\n",
       "      <td>Cats are lasy.</td>\n",
       "      <td>NaN</td>\n",
       "      <td>0.0</td>\n",
       "      <td>2021-12-25T16:36:48.144Z</td>\n",
       "      <td>cat</td>\n",
       "      <td>2021-12-25T16:36:48.144Z</td>\n",
       "      <td>False</td>\n",
       "      <td>NaN</td>\n",
       "      <td>NaN</td>\n",
       "    </tr>\n",
       "    <tr>\n",
       "      <th>3</th>\n",
       "      <td>{'verified': True, 'sentCount': 1}</td>\n",
       "      <td>591f98b44c120c1529b375f2</td>\n",
       "      <td>5a9ac18c7478810ea6c06381</td>\n",
       "      <td>When well treated, a cat can live twenty or more years but the average life span of a domestic cat is 14 years.</td>\n",
       "      <td>api</td>\n",
       "      <td>0.0</td>\n",
       "      <td>2020-08-23T20:20:01.611Z</td>\n",
       "      <td>cat</td>\n",
       "      <td>2018-01-04T01:10:54.673Z</td>\n",
       "      <td>False</td>\n",
       "      <td>0.0</td>\n",
       "      <td>NaN</td>\n",
       "    </tr>\n",
       "    <tr>\n",
       "      <th>4</th>\n",
       "      <td>{'verified': True, 'sentCount': 1}</td>\n",
       "      <td>591f98c5d1f17a153828aa0b</td>\n",
       "      <td>5a9ac18c7478810ea6c06381</td>\n",
       "      <td>Domestic cats purr both when inhaling and when exhaling.</td>\n",
       "      <td>api</td>\n",
       "      <td>0.0</td>\n",
       "      <td>2020-08-23T20:20:01.611Z</td>\n",
       "      <td>cat</td>\n",
       "      <td>2018-01-04T01:10:54.673Z</td>\n",
       "      <td>False</td>\n",
       "      <td>0.0</td>\n",
       "      <td>NaN</td>\n",
       "    </tr>\n",
       "  </tbody>\n",
       "</table>\n",
       "</div>"
      ],
      "text/plain": [
       "                               status                       _id  \\\n",
       "0  {'verified': True, 'sentCount': 1}  596f4f50a8d3440020e2d77d   \n",
       "1  {'verified': True, 'sentCount': 1}  5c3551d48e0b8d00148d45e4   \n",
       "2  {'verified': None, 'sentCount': 0}  61c748a00c7a44ab650af810   \n",
       "3  {'verified': True, 'sentCount': 1}  591f98b44c120c1529b375f2   \n",
       "4  {'verified': True, 'sentCount': 1}  591f98c5d1f17a153828aa0b   \n",
       "\n",
       "                       user  \\\n",
       "0  596ea14ed4d9720020401f7b   \n",
       "1  5a9ac18c7478810ea6c06381   \n",
       "2  61c7471b0c7a44ab650af755   \n",
       "3  5a9ac18c7478810ea6c06381   \n",
       "4  5a9ac18c7478810ea6c06381   \n",
       "\n",
       "                                                                                                                                                                                      text  \\\n",
       "0                                                                                            Due to the controversy, though loved by most, the Kashmir is overlooked by many cat fanciers.   \n",
       "1  The Bengal is the result of crossbreeding between domestic cats and Asian leopard cats, and its name is derived from the scientific name for the Asian leopard cat (Felis bengalensis).   \n",
       "2                                                                                                                                                                           Cats are lasy.   \n",
       "3                                                                          When well treated, a cat can live twenty or more years but the average life span of a domestic cat is 14 years.   \n",
       "4                                                                                                                                 Domestic cats purr both when inhaling and when exhaling.   \n",
       "\n",
       "  source  __v                 updatedAt type                 createdAt  \\\n",
       "0   user  0.0  2020-08-23T20:20:01.611Z  cat  2018-04-04T20:20:01.991Z   \n",
       "1   user  0.0  2020-08-23T20:20:01.611Z  cat  2019-01-09T01:43:48.303Z   \n",
       "2    NaN  0.0  2021-12-25T16:36:48.144Z  cat  2021-12-25T16:36:48.144Z   \n",
       "3    api  0.0  2020-08-23T20:20:01.611Z  cat  2018-01-04T01:10:54.673Z   \n",
       "4    api  0.0  2020-08-23T20:20:01.611Z  cat  2018-01-04T01:10:54.673Z   \n",
       "\n",
       "   deleted  used sendDate  \n",
       "0    False   0.0      NaN  \n",
       "1    False   0.0      NaN  \n",
       "2    False   NaN      NaN  \n",
       "3    False   0.0      NaN  \n",
       "4    False   0.0      NaN  "
      ]
     },
     "execution_count": 22,
     "metadata": {},
     "output_type": "execute_result"
    }
   ],
   "source": [
    "cat_df.head()"
   ]
  },
  {
   "cell_type": "markdown",
   "id": "93e8eec5-3aa1-4527-9f5d-e5256b2f7cf5",
   "metadata": {},
   "source": [
    "#### How many records? "
   ]
  },
  {
   "cell_type": "code",
   "execution_count": null,
   "id": "17ee5f8a-eebd-40e8-b624-33a8ff3bd791",
   "metadata": {},
   "outputs": [],
   "source": [
    "(len) cat_df"
   ]
  },
  {
   "cell_type": "markdown",
   "id": "ba113498-d591-40b3-8195-2f04c5bc858f",
   "metadata": {},
   "source": [
    "#### What's the first fact?"
   ]
  },
  {
   "cell_type": "code",
   "execution_count": 77,
   "id": "70ede381-0322-40a2-896c-fa370a3859f6",
   "metadata": {},
   "outputs": [
    {
     "data": {
      "text/plain": [
       "'Due to the controversy, though loved by most, the Kashmir is overlooked by many cat fanciers.'"
      ]
     },
     "execution_count": 77,
     "metadata": {},
     "output_type": "execute_result"
    }
   ],
   "source": [
    "cat_df[\"text\"][0]"
   ]
  },
  {
   "cell_type": "markdown",
   "id": "b5aec3ef-5f25-445e-9e4c-7100f9b2ce24",
   "metadata": {},
   "source": [
    "#### Exctract the nested json inside the `status` column"
   ]
  },
  {
   "cell_type": "code",
   "execution_count": 78,
   "id": "d9e75fc6-67ad-49fd-964b-04743131047e",
   "metadata": {},
   "outputs": [],
   "source": [
    "cat_df[[\"verified\", \"sen_Count\", \"feedback\"]] = pd.json_normalize(cat_df[\"status\"])"
   ]
  },
  {
   "cell_type": "markdown",
   "id": "062a20c8-c39f-465d-89ff-c9e3c86c846f",
   "metadata": {},
   "source": [
    "#### Slim the dataframe"
   ]
  },
  {
   "cell_type": "code",
   "execution_count": 80,
   "id": "77bd77e6-d73c-4fb9-9c80-36c5c3ef68d6",
   "metadata": {},
   "outputs": [],
   "source": [
    "slim_df = cat_df[[\"_id\", \"text\", \"createdAt\", \"verified\"]].copy()"
   ]
  },
  {
   "cell_type": "code",
   "execution_count": 81,
   "id": "abca92ce-82ed-4b67-8f1d-2865142aa917",
   "metadata": {},
   "outputs": [
    {
     "data": {
      "text/html": [
       "<div>\n",
       "<style scoped>\n",
       "    .dataframe tbody tr th:only-of-type {\n",
       "        vertical-align: middle;\n",
       "    }\n",
       "\n",
       "    .dataframe tbody tr th {\n",
       "        vertical-align: top;\n",
       "    }\n",
       "\n",
       "    .dataframe thead th {\n",
       "        text-align: right;\n",
       "    }\n",
       "</style>\n",
       "<table border=\"1\" class=\"dataframe\">\n",
       "  <thead>\n",
       "    <tr style=\"text-align: right;\">\n",
       "      <th></th>\n",
       "      <th>_id</th>\n",
       "      <th>text</th>\n",
       "      <th>createdAt</th>\n",
       "      <th>verified</th>\n",
       "    </tr>\n",
       "  </thead>\n",
       "  <tbody>\n",
       "    <tr>\n",
       "      <th>0</th>\n",
       "      <td>596f4f50a8d3440020e2d77d</td>\n",
       "      <td>Due to the controversy, though loved by most, the Kashmir is overlooked by many cat fanciers.</td>\n",
       "      <td>2018-04-04T20:20:01.991Z</td>\n",
       "      <td>True</td>\n",
       "    </tr>\n",
       "    <tr>\n",
       "      <th>1</th>\n",
       "      <td>5c3551d48e0b8d00148d45e4</td>\n",
       "      <td>The Bengal is the result of crossbreeding between domestic cats and Asian leopard cats, and its name is derived from the scientific name for the Asian leopard cat (Felis bengalensis).</td>\n",
       "      <td>2019-01-09T01:43:48.303Z</td>\n",
       "      <td>True</td>\n",
       "    </tr>\n",
       "    <tr>\n",
       "      <th>2</th>\n",
       "      <td>61c748a00c7a44ab650af810</td>\n",
       "      <td>Cats are lasy.</td>\n",
       "      <td>2021-12-25T16:36:48.144Z</td>\n",
       "      <td>None</td>\n",
       "    </tr>\n",
       "    <tr>\n",
       "      <th>3</th>\n",
       "      <td>591f98b44c120c1529b375f2</td>\n",
       "      <td>When well treated, a cat can live twenty or more years but the average life span of a domestic cat is 14 years.</td>\n",
       "      <td>2018-01-04T01:10:54.673Z</td>\n",
       "      <td>True</td>\n",
       "    </tr>\n",
       "    <tr>\n",
       "      <th>4</th>\n",
       "      <td>591f98c5d1f17a153828aa0b</td>\n",
       "      <td>Domestic cats purr both when inhaling and when exhaling.</td>\n",
       "      <td>2018-01-04T01:10:54.673Z</td>\n",
       "      <td>True</td>\n",
       "    </tr>\n",
       "  </tbody>\n",
       "</table>\n",
       "</div>"
      ],
      "text/plain": [
       "                        _id  \\\n",
       "0  596f4f50a8d3440020e2d77d   \n",
       "1  5c3551d48e0b8d00148d45e4   \n",
       "2  61c748a00c7a44ab650af810   \n",
       "3  591f98b44c120c1529b375f2   \n",
       "4  591f98c5d1f17a153828aa0b   \n",
       "\n",
       "                                                                                                                                                                                      text  \\\n",
       "0                                                                                            Due to the controversy, though loved by most, the Kashmir is overlooked by many cat fanciers.   \n",
       "1  The Bengal is the result of crossbreeding between domestic cats and Asian leopard cats, and its name is derived from the scientific name for the Asian leopard cat (Felis bengalensis).   \n",
       "2                                                                                                                                                                           Cats are lasy.   \n",
       "3                                                                          When well treated, a cat can live twenty or more years but the average life span of a domestic cat is 14 years.   \n",
       "4                                                                                                                                 Domestic cats purr both when inhaling and when exhaling.   \n",
       "\n",
       "                  createdAt verified  \n",
       "0  2018-04-04T20:20:01.991Z     True  \n",
       "1  2019-01-09T01:43:48.303Z     True  \n",
       "2  2021-12-25T16:36:48.144Z     None  \n",
       "3  2018-01-04T01:10:54.673Z     True  \n",
       "4  2018-01-04T01:10:54.673Z     True  "
      ]
     },
     "execution_count": 81,
     "metadata": {},
     "output_type": "execute_result"
    }
   ],
   "source": [
    "cat_df_slim.head()"
   ]
  },
  {
   "cell_type": "markdown",
   "id": "2edb2ffe-5608-47b7-8f17-e745173cac6c",
   "metadata": {},
   "source": [
    "#### Just the verified facts, pls"
   ]
  },
  {
   "cell_type": "code",
   "execution_count": 85,
   "id": "6094b2c4-2fed-4e22-940d-56cdf0709703",
   "metadata": {},
   "outputs": [],
   "source": [
    "verified_df = cat_df_slim[cat_df_slim[\"verified\"] == True]"
   ]
  },
  {
   "cell_type": "code",
   "execution_count": 86,
   "id": "97eb2e4f-7b24-481d-875b-5fbbb66627a9",
   "metadata": {},
   "outputs": [
    {
     "data": {
      "text/plain": [
       "287"
      ]
     },
     "execution_count": 86,
     "metadata": {},
     "output_type": "execute_result"
    }
   ],
   "source": [
    "len(verified_df)"
   ]
  },
  {
   "cell_type": "markdown",
   "id": "9729df76-427d-4911-a02d-e4fe71f19bc6",
   "metadata": {},
   "source": [
    "#### Find facts that mentions specific words? "
   ]
  },
  {
   "cell_type": "code",
   "execution_count": 56,
   "id": "5f77a850-ea14-4bf2-9285-e1bb99b4e9ed",
   "metadata": {},
   "outputs": [
    {
     "data": {
      "text/html": [
       "<div>\n",
       "<style scoped>\n",
       "    .dataframe tbody tr th:only-of-type {\n",
       "        vertical-align: middle;\n",
       "    }\n",
       "\n",
       "    .dataframe tbody tr th {\n",
       "        vertical-align: top;\n",
       "    }\n",
       "\n",
       "    .dataframe thead th {\n",
       "        text-align: right;\n",
       "    }\n",
       "</style>\n",
       "<table border=\"1\" class=\"dataframe\">\n",
       "  <thead>\n",
       "    <tr style=\"text-align: right;\">\n",
       "      <th></th>\n",
       "      <th>_id</th>\n",
       "      <th>text</th>\n",
       "      <th>createdAt</th>\n",
       "      <th>verified</th>\n",
       "    </tr>\n",
       "  </thead>\n",
       "  <tbody>\n",
       "    <tr>\n",
       "      <th>10</th>\n",
       "      <td>5c35531e8e0b8d00148d45e8</td>\n",
       "      <td>If you grow your own catnip, here's how to prepare it for kitty's enjoyment: Cut several stalks of the plant from the base. Hang them upside down in a dark and dry room for several weeks. Then cut the catnip into small pieces, rub some on your cat's favorite toys or scratching post, and let the games begin!</td>\n",
       "      <td>2019-01-09T01:49:18.342Z</td>\n",
       "      <td>True</td>\n",
       "    </tr>\n",
       "    <tr>\n",
       "      <th>40</th>\n",
       "      <td>591f98108dec2e14e3c20b0f</td>\n",
       "      <td>Cats have been domesticated for half as long as dogs have been.</td>\n",
       "      <td>2018-01-04T01:10:54.673Z</td>\n",
       "      <td>True</td>\n",
       "    </tr>\n",
       "    <tr>\n",
       "      <th>71</th>\n",
       "      <td>591f98783b90f7150a19c1cc</td>\n",
       "      <td>British cat owners spend roughly 550 million pounds yearly on cat food.</td>\n",
       "      <td>2018-04-15T20:20:02.691Z</td>\n",
       "      <td>True</td>\n",
       "    </tr>\n",
       "    <tr>\n",
       "      <th>95</th>\n",
       "      <td>591f98703b90f7150a19c16e</td>\n",
       "      <td>On February 28, 1 980 a female cat climbed 70 feet up the sheer pebble-dash outside wall of a block of flats in Bradford, Yorkshire and took refuge in the roof space. She had been frightened by a dog.</td>\n",
       "      <td>2018-01-04T01:10:54.673Z</td>\n",
       "      <td>True</td>\n",
       "    </tr>\n",
       "    <tr>\n",
       "      <th>139</th>\n",
       "      <td>5887e1d85c873e0011036889</td>\n",
       "      <td>Cats make about 100 different sounds. Dogs make only about 10.</td>\n",
       "      <td>2018-01-15T21:20:00.003Z</td>\n",
       "      <td>True</td>\n",
       "    </tr>\n",
       "    <tr>\n",
       "      <th>162</th>\n",
       "      <td>591f98803b90f7150a19c238</td>\n",
       "      <td>In 1987 cats overtook dogs as the number one pet in America.</td>\n",
       "      <td>2018-01-04T01:10:54.673Z</td>\n",
       "      <td>True</td>\n",
       "    </tr>\n",
       "    <tr>\n",
       "      <th>169</th>\n",
       "      <td>58e00a850aac31001185ed1a</td>\n",
       "      <td>Cats have a longer-term memory than dogs, especially when they learn by actually doing rather than simply seeing.</td>\n",
       "      <td>2018-02-18T21:20:03.044Z</td>\n",
       "      <td>True</td>\n",
       "    </tr>\n",
       "    <tr>\n",
       "      <th>195</th>\n",
       "      <td>58e00a090aac31001185ed16</td>\n",
       "      <td>Cats make more than 100 different sounds whereas dogs make around 10.</td>\n",
       "      <td>2018-02-11T21:20:03.745Z</td>\n",
       "      <td>True</td>\n",
       "    </tr>\n",
       "    <tr>\n",
       "      <th>199</th>\n",
       "      <td>591f98883b90f7150a19c281</td>\n",
       "      <td>Cats' hearing is much more sensitive than humans and dogs.</td>\n",
       "      <td>2018-04-23T20:20:02.517Z</td>\n",
       "      <td>True</td>\n",
       "    </tr>\n",
       "    <tr>\n",
       "      <th>209</th>\n",
       "      <td>591f98803b90f7150a19c229</td>\n",
       "      <td>In an average year, cat owners in the United States spend over $2 billion on cat food.</td>\n",
       "      <td>2018-01-04T01:10:54.673Z</td>\n",
       "      <td>True</td>\n",
       "    </tr>\n",
       "    <tr>\n",
       "      <th>241</th>\n",
       "      <td>5ad9f10f734d1d2de1f501de</td>\n",
       "      <td>Exposing cats and dogs to marijuana can help reduce the suffering from a chronic and painful illness.</td>\n",
       "      <td>2018-04-19T01:10:54.673Z</td>\n",
       "      <td>True</td>\n",
       "    </tr>\n",
       "    <tr>\n",
       "      <th>247</th>\n",
       "      <td>5c60999ae549020014533038</td>\n",
       "      <td>Cats love playing with yarn, ribbons, and fishing-rode style toys. However, cats should not be left alone with anything that they could get tangled in.</td>\n",
       "      <td>2019-02-10T21:37:30.093Z</td>\n",
       "      <td>True</td>\n",
       "    </tr>\n",
       "    <tr>\n",
       "      <th>268</th>\n",
       "      <td>591f7aab0cf1d60ee8afcd61</td>\n",
       "      <td>A cat's brain is more similar to a man's brain than that of a dog.</td>\n",
       "      <td>2018-01-04T01:10:54.673Z</td>\n",
       "      <td>True</td>\n",
       "    </tr>\n",
       "    <tr>\n",
       "      <th>272</th>\n",
       "      <td>591f98783b90f7150a19c19c</td>\n",
       "      <td>In households in the UK and USA, there are more cats kept as pets than dogs. At least 35% of households with cats have 2 or more cats.</td>\n",
       "      <td>2018-01-04T01:10:54.673Z</td>\n",
       "      <td>True</td>\n",
       "    </tr>\n",
       "    <tr>\n",
       "      <th>300</th>\n",
       "      <td>591f98703b90f7150a19c134</td>\n",
       "      <td>Statistics indicate that animal lovers in recent years have shown a preference for cats over dogs!</td>\n",
       "      <td>2018-01-04T01:10:54.673Z</td>\n",
       "      <td>True</td>\n",
       "    </tr>\n",
       "    <tr>\n",
       "      <th>326</th>\n",
       "      <td>59cd7a97c828120020f7d3a1</td>\n",
       "      <td>Since cats treat us like cats and depend on us for things like food, water, and opening the door to let them out, they do recognize, that we are in some way in charge — the “big cat” in the shared territory. As territorial animals, our cats are constantly wondering why we’re not doing other cat things that the big cat would normally do in their territory. In fact, the “let me in, let me out, let me in” phenomenon is a good example. The bigger cat ostensibly rules the territory and therefore should be the one patrolling and marking it with pee so other cats stay away. But since humans don’t do this, indoor-outdoor cats reluctantly take on the role themselves. The apparent neuroticism of cats wanting to go outside every five minutes only to be let right back in is funny to us because it seems so silly and unnecessary. But to the cats, it’s very necessary (and frustrating) to cover for their dumb pals.</td>\n",
       "      <td>2018-02-06T21:24:00.650Z</td>\n",
       "      <td>True</td>\n",
       "    </tr>\n",
       "    <tr>\n",
       "      <th>331</th>\n",
       "      <td>591f9890d369931519ce3552</td>\n",
       "      <td>A steady diet of dog food may cause blindness in your cat - it lacks taurine.</td>\n",
       "      <td>2018-01-04T01:10:54.673Z</td>\n",
       "      <td>True</td>\n",
       "    </tr>\n",
       "    <tr>\n",
       "      <th>380</th>\n",
       "      <td>5b1b3f56841d9700146158cc</td>\n",
       "      <td>Cats lack antibodies against dog blood so they can only receive it via a transfusion once. The second time would kill them.</td>\n",
       "      <td>2018-06-22T20:20:02.344Z</td>\n",
       "      <td>True</td>\n",
       "    </tr>\n",
       "    <tr>\n",
       "      <th>384</th>\n",
       "      <td>5c475ca8a99c3f00140fe4d0</td>\n",
       "      <td>Loyal, playful, and alert, Manx are considered to be more \"doglike\" than other cats.</td>\n",
       "      <td>2019-01-22T18:10:48.215Z</td>\n",
       "      <td>True</td>\n",
       "    </tr>\n",
       "    <tr>\n",
       "      <th>409</th>\n",
       "      <td>591f98008dec2e14e3c20b0b</td>\n",
       "      <td>Cats have 30 teeth (12 incisors, 10 premolars, 4 canines, and 4 molars), while dogs have 42. Kittens have baby teeth, which are replaced by permanent teeth around the age of 7 months.</td>\n",
       "      <td>2018-01-04T01:10:54.673Z</td>\n",
       "      <td>True</td>\n",
       "    </tr>\n",
       "    <tr>\n",
       "      <th>425</th>\n",
       "      <td>5a0260d1134ec2001f032f98</td>\n",
       "      <td>Cats, like dogs, are digitigrades. They walk directly on their toes, with the bones of their feet making up the lower part of the visible leg.</td>\n",
       "      <td>2018-03-08T21:20:02.710Z</td>\n",
       "      <td>True</td>\n",
       "    </tr>\n",
       "    <tr>\n",
       "      <th>436</th>\n",
       "      <td>5c609776e54902001453302d</td>\n",
       "      <td>When kittens ages to weeks five and six, they should start making the transition to dry food.</td>\n",
       "      <td>2019-02-10T21:28:22.019Z</td>\n",
       "      <td>True</td>\n",
       "    </tr>\n",
       "    <tr>\n",
       "      <th>452</th>\n",
       "      <td>591f98783b90f7150a19c19f</td>\n",
       "      <td>A cat's jaw has only up and down motion; it does not have any lateral, side to side motion, like dogs and humans.</td>\n",
       "      <td>2018-01-04T01:10:54.673Z</td>\n",
       "      <td>True</td>\n",
       "    </tr>\n",
       "    <tr>\n",
       "      <th>458</th>\n",
       "      <td>591f98783b90f7150a19c197</td>\n",
       "      <td>A cat's hearing is much more sensitive than humans and dogs.</td>\n",
       "      <td>2018-01-04T01:10:54.673Z</td>\n",
       "      <td>True</td>\n",
       "    </tr>\n",
       "  </tbody>\n",
       "</table>\n",
       "</div>"
      ],
      "text/plain": [
       "                          _id  \\\n",
       "10   5c35531e8e0b8d00148d45e8   \n",
       "40   591f98108dec2e14e3c20b0f   \n",
       "71   591f98783b90f7150a19c1cc   \n",
       "95   591f98703b90f7150a19c16e   \n",
       "139  5887e1d85c873e0011036889   \n",
       "162  591f98803b90f7150a19c238   \n",
       "169  58e00a850aac31001185ed1a   \n",
       "195  58e00a090aac31001185ed16   \n",
       "199  591f98883b90f7150a19c281   \n",
       "209  591f98803b90f7150a19c229   \n",
       "241  5ad9f10f734d1d2de1f501de   \n",
       "247  5c60999ae549020014533038   \n",
       "268  591f7aab0cf1d60ee8afcd61   \n",
       "272  591f98783b90f7150a19c19c   \n",
       "300  591f98703b90f7150a19c134   \n",
       "326  59cd7a97c828120020f7d3a1   \n",
       "331  591f9890d369931519ce3552   \n",
       "380  5b1b3f56841d9700146158cc   \n",
       "384  5c475ca8a99c3f00140fe4d0   \n",
       "409  591f98008dec2e14e3c20b0b   \n",
       "425  5a0260d1134ec2001f032f98   \n",
       "436  5c609776e54902001453302d   \n",
       "452  591f98783b90f7150a19c19f   \n",
       "458  591f98783b90f7150a19c197   \n",
       "\n",
       "                                                                                                                                                                                                                                                                                                                                                                                                                                                                                                                                                                                                                                                                                                                                                                                                                                                                                                                                                 text  \\\n",
       "10                                                                                                                                                                                                                                                                                                                                                                                                                                                                                                                                                                                                                               If you grow your own catnip, here's how to prepare it for kitty's enjoyment: Cut several stalks of the plant from the base. Hang them upside down in a dark and dry room for several weeks. Then cut the catnip into small pieces, rub some on your cat's favorite toys or scratching post, and let the games begin!   \n",
       "40                                                                                                                                                                                                                                                                                                                                                                                                                                                                                                                                                                                                                                                                                                                                                                                                                                                                                    Cats have been domesticated for half as long as dogs have been.   \n",
       "71                                                                                                                                                                                                                                                                                                                                                                                                                                                                                                                                                                                                                                                                                                                                                                                                                                                                            British cat owners spend roughly 550 million pounds yearly on cat food.   \n",
       "95                                                                                                                                                                                                                                                                                                                                                                                                                                                                                                                                                                                                                                                                                                                                           On February 28, 1 980 a female cat climbed 70 feet up the sheer pebble-dash outside wall of a block of flats in Bradford, Yorkshire and took refuge in the roof space. She had been frightened by a dog.   \n",
       "139                                                                                                                                                                                                                                                                                                                                                                                                                                                                                                                                                                                                                                                                                                                                                                                                                                                                                    Cats make about 100 different sounds. Dogs make only about 10.   \n",
       "162                                                                                                                                                                                                                                                                                                                                                                                                                                                                                                                                                                                                                                                                                                                                                                                                                                                                                      In 1987 cats overtook dogs as the number one pet in America.   \n",
       "169                                                                                                                                                                                                                                                                                                                                                                                                                                                                                                                                                                                                                                                                                                                                                                                                                                 Cats have a longer-term memory than dogs, especially when they learn by actually doing rather than simply seeing.   \n",
       "195                                                                                                                                                                                                                                                                                                                                                                                                                                                                                                                                                                                                                                                                                                                                                                                                                                                                             Cats make more than 100 different sounds whereas dogs make around 10.   \n",
       "199                                                                                                                                                                                                                                                                                                                                                                                                                                                                                                                                                                                                                                                                                                                                                                                                                                                                                        Cats' hearing is much more sensitive than humans and dogs.   \n",
       "209                                                                                                                                                                                                                                                                                                                                                                                                                                                                                                                                                                                                                                                                                                                                                                                                                                                            In an average year, cat owners in the United States spend over $2 billion on cat food.   \n",
       "241                                                                                                                                                                                                                                                                                                                                                                                                                                                                                                                                                                                                                                                                                                                                                                                                                                             Exposing cats and dogs to marijuana can help reduce the suffering from a chronic and painful illness.   \n",
       "247                                                                                                                                                                                                                                                                                                                                                                                                                                                                                                                                                                                                                                                                                                                                                                                           Cats love playing with yarn, ribbons, and fishing-rode style toys. However, cats should not be left alone with anything that they could get tangled in.   \n",
       "268                                                                                                                                                                                                                                                                                                                                                                                                                                                                                                                                                                                                                                                                                                                                                                                                                                                                                A cat's brain is more similar to a man's brain than that of a dog.   \n",
       "272                                                                                                                                                                                                                                                                                                                                                                                                                                                                                                                                                                                                                                                                                                                                                                                                            In households in the UK and USA, there are more cats kept as pets than dogs. At least 35% of households with cats have 2 or more cats.   \n",
       "300                                                                                                                                                                                                                                                                                                                                                                                                                                                                                                                                                                                                                                                                                                                                                                                                                                                Statistics indicate that animal lovers in recent years have shown a preference for cats over dogs!   \n",
       "326  Since cats treat us like cats and depend on us for things like food, water, and opening the door to let them out, they do recognize, that we are in some way in charge — the “big cat” in the shared territory. As territorial animals, our cats are constantly wondering why we’re not doing other cat things that the big cat would normally do in their territory. In fact, the “let me in, let me out, let me in” phenomenon is a good example. The bigger cat ostensibly rules the territory and therefore should be the one patrolling and marking it with pee so other cats stay away. But since humans don’t do this, indoor-outdoor cats reluctantly take on the role themselves. The apparent neuroticism of cats wanting to go outside every five minutes only to be let right back in is funny to us because it seems so silly and unnecessary. But to the cats, it’s very necessary (and frustrating) to cover for their dumb pals.   \n",
       "331                                                                                                                                                                                                                                                                                                                                                                                                                                                                                                                                                                                                                                                                                                                                                                                                                                                                     A steady diet of dog food may cause blindness in your cat - it lacks taurine.   \n",
       "380                                                                                                                                                                                                                                                                                                                                                                                                                                                                                                                                                                                                                                                                                                                                                                                                                       Cats lack antibodies against dog blood so they can only receive it via a transfusion once. The second time would kill them.   \n",
       "384                                                                                                                                                                                                                                                                                                                                                                                                                                                                                                                                                                                                                                                                                                                                                                                                                                                              Loyal, playful, and alert, Manx are considered to be more \"doglike\" than other cats.   \n",
       "409                                                                                                                                                                                                                                                                                                                                                                                                                                                                                                                                                                                                                                                                                                                                                           Cats have 30 teeth (12 incisors, 10 premolars, 4 canines, and 4 molars), while dogs have 42. Kittens have baby teeth, which are replaced by permanent teeth around the age of 7 months.   \n",
       "425                                                                                                                                                                                                                                                                                                                                                                                                                                                                                                                                                                                                                                                                                                                                                                                                    Cats, like dogs, are digitigrades. They walk directly on their toes, with the bones of their feet making up the lower part of the visible leg.   \n",
       "436                                                                                                                                                                                                                                                                                                                                                                                                                                                                                                                                                                                                                                                                                                                                                                                                                                                     When kittens ages to weeks five and six, they should start making the transition to dry food.   \n",
       "452                                                                                                                                                                                                                                                                                                                                                                                                                                                                                                                                                                                                                                                                                                                                                                                                                                 A cat's jaw has only up and down motion; it does not have any lateral, side to side motion, like dogs and humans.   \n",
       "458                                                                                                                                                                                                                                                                                                                                                                                                                                                                                                                                                                                                                                                                                                                                                                                                                                                                                      A cat's hearing is much more sensitive than humans and dogs.   \n",
       "\n",
       "                    createdAt verified  \n",
       "10   2019-01-09T01:49:18.342Z     True  \n",
       "40   2018-01-04T01:10:54.673Z     True  \n",
       "71   2018-04-15T20:20:02.691Z     True  \n",
       "95   2018-01-04T01:10:54.673Z     True  \n",
       "139  2018-01-15T21:20:00.003Z     True  \n",
       "162  2018-01-04T01:10:54.673Z     True  \n",
       "169  2018-02-18T21:20:03.044Z     True  \n",
       "195  2018-02-11T21:20:03.745Z     True  \n",
       "199  2018-04-23T20:20:02.517Z     True  \n",
       "209  2018-01-04T01:10:54.673Z     True  \n",
       "241  2018-04-19T01:10:54.673Z     True  \n",
       "247  2019-02-10T21:37:30.093Z     True  \n",
       "268  2018-01-04T01:10:54.673Z     True  \n",
       "272  2018-01-04T01:10:54.673Z     True  \n",
       "300  2018-01-04T01:10:54.673Z     True  \n",
       "326  2018-02-06T21:24:00.650Z     True  \n",
       "331  2018-01-04T01:10:54.673Z     True  \n",
       "380  2018-06-22T20:20:02.344Z     True  \n",
       "384  2019-01-22T18:10:48.215Z     True  \n",
       "409  2018-01-04T01:10:54.673Z     True  \n",
       "425  2018-03-08T21:20:02.710Z     True  \n",
       "436  2019-02-10T21:28:22.019Z     True  \n",
       "452  2018-01-04T01:10:54.673Z     True  \n",
       "458  2018-01-04T01:10:54.673Z     True  "
      ]
     },
     "execution_count": 56,
     "metadata": {},
     "output_type": "execute_result"
    }
   ],
   "source": [
    "verified_df[verified_df[\"text\"].str.lower().str.contains(\"dog|food|toys\")]"
   ]
  },
  {
   "cell_type": "markdown",
   "id": "779b6f93-c7b9-4876-8aab-988049cbb964",
   "metadata": {},
   "source": [
    "#### Find the oldest fact? "
   ]
  },
  {
   "cell_type": "code",
   "execution_count": 87,
   "id": "50f28bef-effa-4acf-94eb-25e3de0c009f",
   "metadata": {},
   "outputs": [
    {
     "data": {
      "text/html": [
       "<div>\n",
       "<style scoped>\n",
       "    .dataframe tbody tr th:only-of-type {\n",
       "        vertical-align: middle;\n",
       "    }\n",
       "\n",
       "    .dataframe tbody tr th {\n",
       "        vertical-align: top;\n",
       "    }\n",
       "\n",
       "    .dataframe thead th {\n",
       "        text-align: right;\n",
       "    }\n",
       "</style>\n",
       "<table border=\"1\" class=\"dataframe\">\n",
       "  <thead>\n",
       "    <tr style=\"text-align: right;\">\n",
       "      <th></th>\n",
       "      <th>_id</th>\n",
       "      <th>text</th>\n",
       "      <th>createdAt</th>\n",
       "      <th>verified</th>\n",
       "    </tr>\n",
       "  </thead>\n",
       "  <tbody>\n",
       "    <tr>\n",
       "      <th>381</th>\n",
       "      <td>5d9d4ae168a764001553b388</td>\n",
       "      <td>Cats conserve energy by sleeping for an average of 13 to 14 hours a day.</td>\n",
       "      <td>2019-10-09T02:50:09.633Z</td>\n",
       "      <td>True</td>\n",
       "    </tr>\n",
       "    <tr>\n",
       "      <th>147</th>\n",
       "      <td>5d9c556168a764001553b382</td>\n",
       "      <td>A cat has 244 bones in its entire body—even more than a human, who only has 206 bones.</td>\n",
       "      <td>2019-10-08T09:22:41.032Z</td>\n",
       "      <td>True</td>\n",
       "    </tr>\n",
       "    <tr>\n",
       "      <th>6</th>\n",
       "      <td>5d38be200f1c57001592f157</td>\n",
       "      <td>The Turkish Van is often called the \"swimming cat\" because they are naturals in the water, thanks in part to their uniquely textured, water-resistant coat.</td>\n",
       "      <td>2019-07-24T20:22:56.148Z</td>\n",
       "      <td>True</td>\n",
       "    </tr>\n",
       "    <tr>\n",
       "      <th>446</th>\n",
       "      <td>5d38bd750f1c57001592f155</td>\n",
       "      <td>Legend holds that a goddess rewarded a temple cat's piety by turning the cat's eyes blue and his coat golden, thus creating the first Birman cat.</td>\n",
       "      <td>2019-07-24T20:20:05.522Z</td>\n",
       "      <td>True</td>\n",
       "    </tr>\n",
       "    <tr>\n",
       "      <th>34</th>\n",
       "      <td>5d38bcc00f1c57001592f153</td>\n",
       "      <td>The irresistable and cuddly Ragamuffin is the result of crossbreeding Ragdoll cats with Persians, Himalayans, and other larger longhaired breeds.</td>\n",
       "      <td>2019-07-24T20:17:04.878Z</td>\n",
       "      <td>True</td>\n",
       "    </tr>\n",
       "  </tbody>\n",
       "</table>\n",
       "</div>"
      ],
      "text/plain": [
       "                          _id  \\\n",
       "381  5d9d4ae168a764001553b388   \n",
       "147  5d9c556168a764001553b382   \n",
       "6    5d38be200f1c57001592f157   \n",
       "446  5d38bd750f1c57001592f155   \n",
       "34   5d38bcc00f1c57001592f153   \n",
       "\n",
       "                                                                                                                                                            text  \\\n",
       "381                                                                                     Cats conserve energy by sleeping for an average of 13 to 14 hours a day.   \n",
       "147                                                                       A cat has 244 bones in its entire body—even more than a human, who only has 206 bones.   \n",
       "6    The Turkish Van is often called the \"swimming cat\" because they are naturals in the water, thanks in part to their uniquely textured, water-resistant coat.   \n",
       "446            Legend holds that a goddess rewarded a temple cat's piety by turning the cat's eyes blue and his coat golden, thus creating the first Birman cat.   \n",
       "34             The irresistable and cuddly Ragamuffin is the result of crossbreeding Ragdoll cats with Persians, Himalayans, and other larger longhaired breeds.   \n",
       "\n",
       "                    createdAt verified  \n",
       "381  2019-10-09T02:50:09.633Z     True  \n",
       "147  2019-10-08T09:22:41.032Z     True  \n",
       "6    2019-07-24T20:22:56.148Z     True  \n",
       "446  2019-07-24T20:20:05.522Z     True  \n",
       "34   2019-07-24T20:17:04.878Z     True  "
      ]
     },
     "execution_count": 87,
     "metadata": {},
     "output_type": "execute_result"
    }
   ],
   "source": [
    "verified_df.sort_values(\"createdAt\", ascending=False).head()"
   ]
  },
  {
   "cell_type": "code",
   "execution_count": null,
   "id": "0a91e197-3ae2-4b71-9641-f1cce1bf523e",
   "metadata": {},
   "outputs": [],
   "source": [
    "verified_df.sort_values(\"date\", ascending=False).head()"
   ]
  },
  {
   "cell_type": "markdown",
   "id": "fc179617-2c81-4305-b778-a675efb88aac",
   "metadata": {},
   "source": [
    "#### Most recent verified fact?"
   ]
  },
  {
   "cell_type": "code",
   "execution_count": null,
   "id": "484945bd-21f4-478e-9327-fd9927501bfa",
   "metadata": {},
   "outputs": [],
   "source": [
    "verified_df.sort_values(\"date\", ascending=False).head()"
   ]
  },
  {
   "cell_type": "markdown",
   "id": "1cea13ed-842c-48cd-8522-06859a25a992",
   "metadata": {},
   "source": [
    "---"
   ]
  },
  {
   "cell_type": "markdown",
   "id": "da50f0d9-5b44-42e6-9112-950ebf7deef5",
   "metadata": {},
   "source": [
    "## Dad jokes!"
   ]
  },
  {
   "cell_type": "markdown",
   "id": "4b661117-ead2-4905-bb99-e7d1a21ac3b4",
   "metadata": {},
   "source": [
    "[Read the documentation](https://icanhazdadjoke.com/api#fetch-a-random-dad-joke)"
   ]
  },
  {
   "cell_type": "markdown",
   "id": "545cac74-46f5-42c8-99c4-3b76ab9fce26",
   "metadata": {},
   "source": [
    "#### Give the request headers so the API knows how to answer it"
   ]
  },
  {
   "cell_type": "code",
   "execution_count": 92,
   "id": "a5f7a050-8817-4b8e-b01c-e803d326c7a1",
   "metadata": {},
   "outputs": [],
   "source": [
    "headers = {\n",
    "    \"Accept\": \"application/json\",\n",
    "}"
   ]
  },
  {
   "cell_type": "markdown",
   "id": "6c36b6fc-a7a3-4bed-96d7-6d55155a5ebc",
   "metadata": {},
   "source": [
    "#### Get a response from the API in the format we requested"
   ]
  },
  {
   "cell_type": "code",
   "execution_count": 93,
   "id": "3beca3aa-5f97-47a4-9005-a2b43a9bfaaf",
   "metadata": {},
   "outputs": [],
   "source": [
    "response = requests.get(\"https://icanhazdadjoke.com/search?page=1\", headers=headers)"
   ]
  },
  {
   "cell_type": "markdown",
   "id": "bd5f5213-6217-487d-9bda-ee4ef9fe77e7",
   "metadata": {},
   "source": [
    "#### What comes back?"
   ]
  },
  {
   "cell_type": "code",
   "execution_count": 94,
   "id": "a1738b72-221d-4dbd-be09-9db02c517ba6",
   "metadata": {},
   "outputs": [
    {
     "data": {
      "text/plain": [
       "{'current_page': 1,\n",
       " 'limit': 20,\n",
       " 'next_page': 2,\n",
       " 'previous_page': 1,\n",
       " 'results': [{'id': '0189hNRf2g',\n",
       "   'joke': \"I'm tired of following my dreams. I'm just going to ask them where they are going and meet up with them later.\"},\n",
       "  {'id': '08EQZ8EQukb',\n",
       "   'joke': \"Did you hear about the guy whose whole left side was cut off? He's all right now.\"},\n",
       "  {'id': '08xHQCdx5Ed',\n",
       "   'joke': 'Why didn’t the skeleton cross the road? Because he had no guts.'},\n",
       "  {'id': '0DQKB51oGlb',\n",
       "   'joke': \"What did one nut say as he chased another nut?  I'm a cashew!\"},\n",
       "  {'id': '0DtrrOZDlyd',\n",
       "   'joke': \"Chances are if you' ve seen one shopping center, you've seen a mall.\"},\n",
       "  {'id': '0LuXvkq4Muc',\n",
       "   'joke': \"I knew I shouldn't steal a mixer from work, but it was a whisk I was willing to take.\"},\n",
       "  {'id': '0ga2EdN7prc',\n",
       "   'joke': 'How come the stadium got hot after the game? Because all of the fans left.'},\n",
       "  {'id': '0oO71TSv4Ed',\n",
       "   'joke': 'Why was it called the dark ages? Because of all the knights. '},\n",
       "  {'id': '0oz51ozk3ob', 'joke': 'A steak pun is a rare medium well done.'},\n",
       "  {'id': '0ozAXv4Mmjb',\n",
       "   'joke': 'Why did the tomato blush? Because it saw the salad dressing.'},\n",
       "  {'id': '0wcFBQfiGBd',\n",
       "   'joke': 'Did you hear the joke about the wandering nun? She was a roman catholic.'},\n",
       "  {'id': '189xHQ7pOuc',\n",
       "   'joke': 'What creature is smarter than a talking parrot? A spelling bee.'},\n",
       "  {'id': '18Elj3EIYvc',\n",
       "   'joke': \"I'll tell you what often gets over looked... garden fences.\"},\n",
       "  {'id': '18h3wcU8xAd',\n",
       "   'joke': 'Why did the kid cross the playground? To get to the other slide.'},\n",
       "  {'id': '1DIRSfx51Dd',\n",
       "   'joke': \"Why do birds fly south for the winter? Because it's too far to walk.\"},\n",
       "  {'id': '1DQZDY0gVnb',\n",
       "   'joke': \"What is a centipedes's favorite Beatle song?  I want to hold your hand, hand, hand, hand...\"},\n",
       "  {'id': '1DQZvXvX8Ed',\n",
       "   'joke': 'My first time using an elevator was an uplifting experience. The second time let me down.'},\n",
       "  {'id': '1DQZvcFBdib', 'joke': \"To be Frank, I'd have to change my name.\"},\n",
       "  {'id': '1Dt4M7Ufaxc',\n",
       "   'joke': 'Slept like a log last night … woke up in the fireplace.'},\n",
       "  {'id': '1T01LBXLuzd',\n",
       "   'joke': \"Why does a Moon-rock taste better than an Earth-rock? Because it's a little meteor.\"}],\n",
       " 'search_term': '',\n",
       " 'status': 200,\n",
       " 'total_jokes': 649,\n",
       " 'total_pages': 33}"
      ]
     },
     "execution_count": 94,
     "metadata": {},
     "output_type": "execute_result"
    }
   ],
   "source": [
    "response.json()"
   ]
  },
  {
   "cell_type": "markdown",
   "id": "74836972-64aa-4557-8d44-87be2ea316e6",
   "metadata": {},
   "source": [
    "#### What's the limit per API call? "
   ]
  },
  {
   "cell_type": "code",
   "execution_count": 98,
   "id": "f8bc9d6b-da8c-42a3-b2ae-1671bb6a8f8e",
   "metadata": {},
   "outputs": [
    {
     "data": {
      "text/plain": [
       "[{'id': '0189hNRf2g',\n",
       "  'joke': \"I'm tired of following my dreams. I'm just going to ask them where they are going and meet up with them later.\"},\n",
       " {'id': '08EQZ8EQukb',\n",
       "  'joke': \"Did you hear about the guy whose whole left side was cut off? He's all right now.\"},\n",
       " {'id': '08xHQCdx5Ed',\n",
       "  'joke': 'Why didn’t the skeleton cross the road? Because he had no guts.'},\n",
       " {'id': '0DQKB51oGlb',\n",
       "  'joke': \"What did one nut say as he chased another nut?  I'm a cashew!\"},\n",
       " {'id': '0DtrrOZDlyd',\n",
       "  'joke': \"Chances are if you' ve seen one shopping center, you've seen a mall.\"},\n",
       " {'id': '0LuXvkq4Muc',\n",
       "  'joke': \"I knew I shouldn't steal a mixer from work, but it was a whisk I was willing to take.\"},\n",
       " {'id': '0ga2EdN7prc',\n",
       "  'joke': 'How come the stadium got hot after the game? Because all of the fans left.'},\n",
       " {'id': '0oO71TSv4Ed',\n",
       "  'joke': 'Why was it called the dark ages? Because of all the knights. '},\n",
       " {'id': '0oz51ozk3ob', 'joke': 'A steak pun is a rare medium well done.'},\n",
       " {'id': '0ozAXv4Mmjb',\n",
       "  'joke': 'Why did the tomato blush? Because it saw the salad dressing.'},\n",
       " {'id': '0wcFBQfiGBd',\n",
       "  'joke': 'Did you hear the joke about the wandering nun? She was a roman catholic.'},\n",
       " {'id': '189xHQ7pOuc',\n",
       "  'joke': 'What creature is smarter than a talking parrot? A spelling bee.'},\n",
       " {'id': '18Elj3EIYvc',\n",
       "  'joke': \"I'll tell you what often gets over looked... garden fences.\"},\n",
       " {'id': '18h3wcU8xAd',\n",
       "  'joke': 'Why did the kid cross the playground? To get to the other slide.'},\n",
       " {'id': '1DIRSfx51Dd',\n",
       "  'joke': \"Why do birds fly south for the winter? Because it's too far to walk.\"},\n",
       " {'id': '1DQZDY0gVnb',\n",
       "  'joke': \"What is a centipedes's favorite Beatle song?  I want to hold your hand, hand, hand, hand...\"},\n",
       " {'id': '1DQZvXvX8Ed',\n",
       "  'joke': 'My first time using an elevator was an uplifting experience. The second time let me down.'},\n",
       " {'id': '1DQZvcFBdib', 'joke': \"To be Frank, I'd have to change my name.\"},\n",
       " {'id': '1Dt4M7Ufaxc',\n",
       "  'joke': 'Slept like a log last night … woke up in the fireplace.'},\n",
       " {'id': '1T01LBXLuzd',\n",
       "  'joke': \"Why does a Moon-rock taste better than an Earth-rock? Because it's a little meteor.\"}]"
      ]
     },
     "execution_count": 98,
     "metadata": {},
     "output_type": "execute_result"
    }
   ],
   "source": [
    "response.json()[\"results\"]"
   ]
  },
  {
   "cell_type": "markdown",
   "id": "3421f21a-befb-49f9-bd8f-ea0a5cb9d702",
   "metadata": {},
   "source": [
    "#### How many total jokes? "
   ]
  },
  {
   "cell_type": "code",
   "execution_count": 100,
   "id": "6a6c30cf-f0fe-4aca-992c-80ca69c5c7da",
   "metadata": {},
   "outputs": [
    {
     "data": {
      "text/plain": [
       "649"
      ]
     },
     "execution_count": 100,
     "metadata": {},
     "output_type": "execute_result"
    }
   ],
   "source": [
    "response.json()[\"total_jokes\"]"
   ]
  },
  {
   "cell_type": "markdown",
   "id": "8545cf74-5e07-4f6a-96d2-226c129f8276",
   "metadata": {},
   "source": [
    "#### How many pages of 20 jokes? "
   ]
  },
  {
   "cell_type": "code",
   "execution_count": null,
   "id": "819b33b4-dcfe-488e-9501-e9c8dbbcb008",
   "metadata": {},
   "outputs": [],
   "source": []
  },
  {
   "cell_type": "markdown",
   "id": "c2024f47-4ed9-4209-aeed-94ebf195eff1",
   "metadata": {},
   "source": [
    "#### Ok, just the jokes"
   ]
  },
  {
   "cell_type": "code",
   "execution_count": 99,
   "id": "cff80dff-e568-4f2d-843e-18c494f88a75",
   "metadata": {},
   "outputs": [
    {
     "data": {
      "text/html": [
       "<div>\n",
       "<style scoped>\n",
       "    .dataframe tbody tr th:only-of-type {\n",
       "        vertical-align: middle;\n",
       "    }\n",
       "\n",
       "    .dataframe tbody tr th {\n",
       "        vertical-align: top;\n",
       "    }\n",
       "\n",
       "    .dataframe thead th {\n",
       "        text-align: right;\n",
       "    }\n",
       "</style>\n",
       "<table border=\"1\" class=\"dataframe\">\n",
       "  <thead>\n",
       "    <tr style=\"text-align: right;\">\n",
       "      <th></th>\n",
       "      <th>id</th>\n",
       "      <th>joke</th>\n",
       "    </tr>\n",
       "  </thead>\n",
       "  <tbody>\n",
       "    <tr>\n",
       "      <th>0</th>\n",
       "      <td>0189hNRf2g</td>\n",
       "      <td>I'm tired of following my dreams. I'm just going to ask them where they are going and meet up with them later.</td>\n",
       "    </tr>\n",
       "    <tr>\n",
       "      <th>1</th>\n",
       "      <td>08EQZ8EQukb</td>\n",
       "      <td>Did you hear about the guy whose whole left side was cut off? He's all right now.</td>\n",
       "    </tr>\n",
       "    <tr>\n",
       "      <th>2</th>\n",
       "      <td>08xHQCdx5Ed</td>\n",
       "      <td>Why didn’t the skeleton cross the road? Because he had no guts.</td>\n",
       "    </tr>\n",
       "    <tr>\n",
       "      <th>3</th>\n",
       "      <td>0DQKB51oGlb</td>\n",
       "      <td>What did one nut say as he chased another nut?  I'm a cashew!</td>\n",
       "    </tr>\n",
       "    <tr>\n",
       "      <th>4</th>\n",
       "      <td>0DtrrOZDlyd</td>\n",
       "      <td>Chances are if you' ve seen one shopping center, you've seen a mall.</td>\n",
       "    </tr>\n",
       "    <tr>\n",
       "      <th>5</th>\n",
       "      <td>0LuXvkq4Muc</td>\n",
       "      <td>I knew I shouldn't steal a mixer from work, but it was a whisk I was willing to take.</td>\n",
       "    </tr>\n",
       "    <tr>\n",
       "      <th>6</th>\n",
       "      <td>0ga2EdN7prc</td>\n",
       "      <td>How come the stadium got hot after the game? Because all of the fans left.</td>\n",
       "    </tr>\n",
       "    <tr>\n",
       "      <th>7</th>\n",
       "      <td>0oO71TSv4Ed</td>\n",
       "      <td>Why was it called the dark ages? Because of all the knights.</td>\n",
       "    </tr>\n",
       "    <tr>\n",
       "      <th>8</th>\n",
       "      <td>0oz51ozk3ob</td>\n",
       "      <td>A steak pun is a rare medium well done.</td>\n",
       "    </tr>\n",
       "    <tr>\n",
       "      <th>9</th>\n",
       "      <td>0ozAXv4Mmjb</td>\n",
       "      <td>Why did the tomato blush? Because it saw the salad dressing.</td>\n",
       "    </tr>\n",
       "    <tr>\n",
       "      <th>10</th>\n",
       "      <td>0wcFBQfiGBd</td>\n",
       "      <td>Did you hear the joke about the wandering nun? She was a roman catholic.</td>\n",
       "    </tr>\n",
       "    <tr>\n",
       "      <th>11</th>\n",
       "      <td>189xHQ7pOuc</td>\n",
       "      <td>What creature is smarter than a talking parrot? A spelling bee.</td>\n",
       "    </tr>\n",
       "    <tr>\n",
       "      <th>12</th>\n",
       "      <td>18Elj3EIYvc</td>\n",
       "      <td>I'll tell you what often gets over looked... garden fences.</td>\n",
       "    </tr>\n",
       "    <tr>\n",
       "      <th>13</th>\n",
       "      <td>18h3wcU8xAd</td>\n",
       "      <td>Why did the kid cross the playground? To get to the other slide.</td>\n",
       "    </tr>\n",
       "    <tr>\n",
       "      <th>14</th>\n",
       "      <td>1DIRSfx51Dd</td>\n",
       "      <td>Why do birds fly south for the winter? Because it's too far to walk.</td>\n",
       "    </tr>\n",
       "    <tr>\n",
       "      <th>15</th>\n",
       "      <td>1DQZDY0gVnb</td>\n",
       "      <td>What is a centipedes's favorite Beatle song?  I want to hold your hand, hand, hand, hand...</td>\n",
       "    </tr>\n",
       "    <tr>\n",
       "      <th>16</th>\n",
       "      <td>1DQZvXvX8Ed</td>\n",
       "      <td>My first time using an elevator was an uplifting experience. The second time let me down.</td>\n",
       "    </tr>\n",
       "    <tr>\n",
       "      <th>17</th>\n",
       "      <td>1DQZvcFBdib</td>\n",
       "      <td>To be Frank, I'd have to change my name.</td>\n",
       "    </tr>\n",
       "    <tr>\n",
       "      <th>18</th>\n",
       "      <td>1Dt4M7Ufaxc</td>\n",
       "      <td>Slept like a log last night … woke up in the fireplace.</td>\n",
       "    </tr>\n",
       "    <tr>\n",
       "      <th>19</th>\n",
       "      <td>1T01LBXLuzd</td>\n",
       "      <td>Why does a Moon-rock taste better than an Earth-rock? Because it's a little meteor.</td>\n",
       "    </tr>\n",
       "  </tbody>\n",
       "</table>\n",
       "</div>"
      ],
      "text/plain": [
       "             id  \\\n",
       "0    0189hNRf2g   \n",
       "1   08EQZ8EQukb   \n",
       "2   08xHQCdx5Ed   \n",
       "3   0DQKB51oGlb   \n",
       "4   0DtrrOZDlyd   \n",
       "5   0LuXvkq4Muc   \n",
       "6   0ga2EdN7prc   \n",
       "7   0oO71TSv4Ed   \n",
       "8   0oz51ozk3ob   \n",
       "9   0ozAXv4Mmjb   \n",
       "10  0wcFBQfiGBd   \n",
       "11  189xHQ7pOuc   \n",
       "12  18Elj3EIYvc   \n",
       "13  18h3wcU8xAd   \n",
       "14  1DIRSfx51Dd   \n",
       "15  1DQZDY0gVnb   \n",
       "16  1DQZvXvX8Ed   \n",
       "17  1DQZvcFBdib   \n",
       "18  1Dt4M7Ufaxc   \n",
       "19  1T01LBXLuzd   \n",
       "\n",
       "                                                                                                              joke  \n",
       "0   I'm tired of following my dreams. I'm just going to ask them where they are going and meet up with them later.  \n",
       "1                                Did you hear about the guy whose whole left side was cut off? He's all right now.  \n",
       "2                                                  Why didn’t the skeleton cross the road? Because he had no guts.  \n",
       "3                                                    What did one nut say as he chased another nut?  I'm a cashew!  \n",
       "4                                             Chances are if you' ve seen one shopping center, you've seen a mall.  \n",
       "5                            I knew I shouldn't steal a mixer from work, but it was a whisk I was willing to take.  \n",
       "6                                       How come the stadium got hot after the game? Because all of the fans left.  \n",
       "7                                                    Why was it called the dark ages? Because of all the knights.   \n",
       "8                                                                          A steak pun is a rare medium well done.  \n",
       "9                                                     Why did the tomato blush? Because it saw the salad dressing.  \n",
       "10                                        Did you hear the joke about the wandering nun? She was a roman catholic.  \n",
       "11                                                 What creature is smarter than a talking parrot? A spelling bee.  \n",
       "12                                                     I'll tell you what often gets over looked... garden fences.  \n",
       "13                                                Why did the kid cross the playground? To get to the other slide.  \n",
       "14                                            Why do birds fly south for the winter? Because it's too far to walk.  \n",
       "15                     What is a centipedes's favorite Beatle song?  I want to hold your hand, hand, hand, hand...  \n",
       "16                       My first time using an elevator was an uplifting experience. The second time let me down.  \n",
       "17                                                                        To be Frank, I'd have to change my name.  \n",
       "18                                                         Slept like a log last night … woke up in the fireplace.  \n",
       "19                             Why does a Moon-rock taste better than an Earth-rock? Because it's a little meteor.  "
      ]
     },
     "execution_count": 99,
     "metadata": {},
     "output_type": "execute_result"
    }
   ],
   "source": [
    "pd.DataFrame(response.json()[\"results\"])"
   ]
  },
  {
   "cell_type": "markdown",
   "id": "a3cce074-468e-443e-8d43-e13ad3f6e702",
   "metadata": {},
   "source": [
    "#### How many records?"
   ]
  },
  {
   "cell_type": "code",
   "execution_count": null,
   "id": "353b9393-c717-4b52-a19d-44ecbf793e16",
   "metadata": {},
   "outputs": [],
   "source": [
    "len(jokes_df)"
   ]
  },
  {
   "cell_type": "markdown",
   "id": "31409e11-3a00-465f-80da-59f18eacbba8",
   "metadata": {},
   "source": [
    "#### Get all the jokes with a loop"
   ]
  },
  {
   "cell_type": "code",
   "execution_count": null,
   "id": "723d8553-dce0-42ad-8467-684e24a423e3",
   "metadata": {},
   "outputs": [],
   "source": [
    "data_pages = []\n",
    "\n",
    "for r in range(0, 34):\n",
    "    data_pages.append(\n",
    "        pd.DataFrame(\n",
    "            requests.get(\n",
    "                f\"https://icanhazdadjoke.com/search?page={r}\", headers=headers\n",
    "            ).json()[\"results\"]\n",
    "        )\n",
    "    )\n",
    "\n",
    "jokes_df = pd.concat(data_pages).reset_index(drop=True)"
   ]
  },
  {
   "cell_type": "markdown",
   "id": "2bc5b2ba-7bc8-4de5-8d73-9a6c440d4934",
   "metadata": {},
   "source": [
    "#### How many? "
   ]
  },
  {
   "cell_type": "code",
   "execution_count": null,
   "id": "42d445b1-9ed5-460e-a66d-41ccbfcd6659",
   "metadata": {},
   "outputs": [],
   "source": [
    "len(jokes_df)"
   ]
  },
  {
   "cell_type": "markdown",
   "id": "40e04375-1eeb-4d05-a377-e14177939fe8",
   "metadata": {},
   "source": [
    "#### Export "
   ]
  },
  {
   "cell_type": "code",
   "execution_count": null,
   "id": "64087eec-99e6-4cea-8f83-eb06c88099cc",
   "metadata": {},
   "outputs": [],
   "source": [
    "jokes_df.to_csv(\"../../data/processed/dad-jokes.csv\", index=False)"
   ]
  },
  {
   "cell_type": "code",
   "execution_count": null,
   "id": "591462e8-6ce3-41d2-aae4-7ea676a832f1",
   "metadata": {},
   "outputs": [],
   "source": []
  }
 ],
 "metadata": {
  "kernelspec": {
   "display_name": "Python 3 (ipykernel)",
   "language": "python",
   "name": "python3"
  },
  "language_info": {
   "codemirror_mode": {
    "name": "ipython",
    "version": 3
   },
   "file_extension": ".py",
   "mimetype": "text/x-python",
   "name": "python",
   "nbconvert_exporter": "python",
   "pygments_lexer": "ipython3",
   "version": "3.9.7"
  }
 },
 "nbformat": 4,
 "nbformat_minor": 5
}
