{
 "cells": [
  {
   "cell_type": "markdown",
   "id": "6f9698f2-d8a4-4b13-a892-a22881981be2",
   "metadata": {},
   "source": [
    "# How often is 'x' mentioned on Twitter?\n",
    "##### *Counts pulled with the Twarc library. [Check it out](https://twarc-project.readthedocs.io/en/latest/twarc2_en_us/)*. "
   ]
  },
  {
   "cell_type": "markdown",
   "id": "0812ac7a-b561-49d0-80a3-0988bd1576fe",
   "metadata": {},
   "source": [
    "#### Load Python tools"
   ]
  },
  {
   "cell_type": "code",
   "execution_count": 1,
   "id": "c851cdf3-89dd-485a-b949-7aeac65d45be",
   "metadata": {},
   "outputs": [],
   "source": [
    "%load_ext lab_black"
   ]
  },
  {
   "cell_type": "code",
   "execution_count": 2,
   "id": "9daa0f89-eef6-4ca1-aadf-c6239249a24b",
   "metadata": {},
   "outputs": [],
   "source": [
    "import pandas as pd\n",
    "import altair as alt"
   ]
  },
  {
   "cell_type": "code",
   "execution_count": 3,
   "id": "d419d9cd-cfeb-4162-a82e-649042190d51",
   "metadata": {},
   "outputs": [],
   "source": [
    "pd.options.display.max_columns = 1000\n",
    "pd.options.display.max_rows = 1000"
   ]
  },
  {
   "cell_type": "markdown",
   "id": "f5883cdb-a884-4458-b847-5e5913ef9c74",
   "metadata": {},
   "source": [
    "---"
   ]
  },
  {
   "cell_type": "markdown",
   "id": "10a3d778-1a4a-4c87-bcb8-33c7df768b81",
   "metadata": {},
   "source": [
    "#### Read data"
   ]
  },
  {
   "cell_type": "code",
   "execution_count": 4,
   "id": "cf556015-64fd-4cdd-87ae-5aedc933f9d8",
   "metadata": {},
   "outputs": [],
   "source": [
    "# mentioned = \"USC\"\n",
    "\n",
    "# src = pd.read_csv(\n",
    "#     \"../data/raw/usc_mentions_daily.csv\", parse_dates=[\"start\", \"end\"]\n",
    "# ).sort_values(\"start\", ascending=False)"
   ]
  },
  {
   "cell_type": "code",
   "execution_count": null,
   "id": "0a3d7e0b-efca-4566-b6d3-9b853f8741ff",
   "metadata": {},
   "outputs": [],
   "source": [
    "mentioned = \"Elon Musk\"\n",
    "\n",
    "src = pd.read_csv(\n",
    "     \"../data/raw/elonmusk_mentions_daily_full_name.csv\", parse_dates=[\"start\", \"end\"]\n",
    " ).sort_values(\"start\", ascending=False)"
   ]
  },
  {
   "cell_type": "markdown",
   "id": "4f8b5017-be9d-4013-a232-3d2fe7de78b0",
   "metadata": {},
   "source": [
    "#### First five rows"
   ]
  },
  {
   "cell_type": "code",
   "execution_count": null,
   "id": "59bd57e2-dc62-437b-b1aa-334f2a5f7ec5",
   "metadata": {},
   "outputs": [],
   "source": [
    "src.head()"
   ]
  },
  {
   "cell_type": "markdown",
   "id": "4415a1f6-184a-434d-b4ab-9f6f9879fab0",
   "metadata": {},
   "source": [
    "#### Process dates"
   ]
  },
  {
   "cell_type": "code",
   "execution_count": null,
   "id": "9024b34b-8e11-44ad-92b7-87b0f99b2ae3",
   "metadata": {},
   "outputs": [],
   "source": [
    "src[\"year\"] = pd.to_datetime(src[\"start\"]).dt.strftime(\"%Y\")\n",
    "src[\"month_year\"] = pd.to_datetime(src[\"start\"]).dt.strftime(\"%Y-%m\")\n",
    "src[\"date\"] = pd.to_datetime(src[\"start\"]).dt.strftime(\"%Y-%m-%d\")"
   ]
  },
  {
   "cell_type": "markdown",
   "id": "23b47438-2d31-4bea-be06-b2af82687113",
   "metadata": {},
   "source": [
    "#### Slim down and re-order the dataframe"
   ]
  },
  {
   "cell_type": "code",
   "execution_count": null,
   "id": "99019675-57f2-4baa-87a9-caea703ed056",
   "metadata": {},
   "outputs": [],
   "source": [
    "src.head()"
   ]
  },
  {
   "cell_type": "code",
   "execution_count": null,
   "id": "0bcecb59-6dd9-406e-aa7a-345c71883a27",
   "metadata": {},
   "outputs": [],
   "source": [
    "df = src[[\"year\", \"month_year\", \"date\", \"day_count\"]].copy()"
   ]
  },
  {
   "cell_type": "markdown",
   "id": "e7931b73-84c4-4270-b448-2a0ec9658365",
   "metadata": {},
   "source": [
    "#### When was the first mention? "
   ]
  },
  {
   "cell_type": "code",
   "execution_count": null,
   "id": "f8965c5a-00d0-446b-afaf-322eae4042fb",
   "metadata": {},
   "outputs": [],
   "source": [
    "df[df[\"day_count\"] > 0].tail(1)"
   ]
  },
  {
   "cell_type": "markdown",
   "id": "8d82379c-c28e-4a22-a966-9179c70adf59",
   "metadata": {},
   "source": [
    "#### Define that as a variable"
   ]
  },
  {
   "cell_type": "code",
   "execution_count": null,
   "id": "569aa003-2888-4eab-9565-05b1498cabbe",
   "metadata": {},
   "outputs": [],
   "source": [
    "first = df[df[\"day_count\"] > 0][\"date\"].tail(1).iloc[0]"
   ]
  },
  {
   "cell_type": "markdown",
   "id": "c7e1dbd9-e507-40f1-ae72-ed21d2546ccb",
   "metadata": {},
   "source": [
    "#### How many total mentions? "
   ]
  },
  {
   "cell_type": "code",
   "execution_count": null,
   "id": "5632a682-5f99-4878-9e1a-aef87f7685ea",
   "metadata": {},
   "outputs": [],
   "source": [
    "df.day_count.sum()"
   ]
  },
  {
   "cell_type": "markdown",
   "id": "b6f994e7-2ffd-4d2c-89ce-4477468746fa",
   "metadata": {},
   "source": [
    "#### Average mentions? "
   ]
  },
  {
   "cell_type": "code",
   "execution_count": null,
   "id": "51aa75d7-94e4-42fb-a8e2-2be9a0193447",
   "metadata": {},
   "outputs": [],
   "source": [
    "df.day_count.mean()"
   ]
  },
  {
   "cell_type": "markdown",
   "id": "7bcc0596-7a7a-4705-9388-d17446950fb4",
   "metadata": {},
   "source": [
    "#### Make a new dataframe starting from first mention"
   ]
  },
  {
   "cell_type": "code",
   "execution_count": null,
   "id": "0933a22e-dc88-4480-bd4d-0f5dc7187ef2",
   "metadata": {},
   "outputs": [],
   "source": [
    "df_complete = df[df[\"date\"] >= first]"
   ]
  },
  {
   "cell_type": "markdown",
   "id": "6933d330-e47a-474a-bbb8-431e90f7fc8e",
   "metadata": {},
   "source": [
    "#### Which day was mentioned the most? "
   ]
  },
  {
   "cell_type": "code",
   "execution_count": null,
   "id": "893d5332-add7-40a2-a14c-886e605a1b01",
   "metadata": {},
   "outputs": [],
   "source": [
    "df_complete[df_complete[\"day_count\"] == df_complete[\"day_count\"].max()]"
   ]
  },
  {
   "cell_type": "code",
   "execution_count": null,
   "id": "fd077e4f-c058-4edb-964d-a3870ebf448b",
   "metadata": {},
   "outputs": [],
   "source": []
  },
  {
   "cell_type": "code",
   "execution_count": null,
   "id": "e65bf9a6-ac73-43b7-8c30-d59202747454",
   "metadata": {},
   "outputs": [],
   "source": []
  },
  {
   "cell_type": "markdown",
   "id": "ce20a76a-334b-495d-a275-db81fa648887",
   "metadata": {},
   "source": [
    "#### Chart it"
   ]
  },
  {
   "cell_type": "code",
   "execution_count": null,
   "id": "75816d58-3c63-4736-8fbd-4d0aea7aeec8",
   "metadata": {},
   "outputs": [],
   "source": [
    "alt.Chart(df_complete.head(365 * 2)).mark_area(color=\"red\").encode(\n",
    "    x=\"date:T\", y=\"day_count:Q\",\n",
    ").properties(width=900)"
   ]
  },
  {
   "cell_type": "code",
   "execution_count": null,
   "id": "87ca3d47-5bef-4ad8-8f66-97670198b0c2",
   "metadata": {},
   "outputs": [],
   "source": []
  },
  {
   "cell_type": "markdown",
   "id": "a72c9cb9-9422-4ad0-8318-37d059133f60",
   "metadata": {},
   "source": [
    "---"
   ]
  },
  {
   "cell_type": "markdown",
   "id": "b3ae7ed9-7804-479d-83d3-2fd333d727fc",
   "metadata": {},
   "source": [
    "## Aggregate "
   ]
  },
  {
   "cell_type": "markdown",
   "id": "d1c3657e-6c8a-497b-86cb-0ea9c6dec1c3",
   "metadata": {},
   "source": [
    "#### Groupby month/year"
   ]
  },
  {
   "cell_type": "code",
   "execution_count": null,
   "id": "0faf93a8-6c61-404b-adb3-1c43f59124b5",
   "metadata": {},
   "outputs": [],
   "source": [
    "months = (\n",
    "    df_complete.groupby([\"month_year\"])\n",
    "    .agg({\"day_count\": sum})\n",
    "    .sort_values(\"month_year\", ascending=False)\n",
    "    .reset_index()\n",
    ")"
   ]
  },
  {
   "cell_type": "code",
   "execution_count": null,
   "id": "6cc1d8d0-88f5-43a4-a2e3-aa3bf5175d33",
   "metadata": {},
   "outputs": [],
   "source": []
  },
  {
   "cell_type": "markdown",
   "id": "59a5cae0-d2cc-410d-9ea8-8afc1eb033ff",
   "metadata": {},
   "source": [
    "#### Which month-year was max? "
   ]
  },
  {
   "cell_type": "code",
   "execution_count": null,
   "id": "7ff97ad4-135c-4bf7-ba02-b7b73a1214f5",
   "metadata": {},
   "outputs": [],
   "source": [
    "alt.Chart(months).mark_area(color=\"red\").encode(\n",
    "    x=\"month_year:T\", y=\"day_count:Q\",\n",
    ").properties(width=900)"
   ]
  },
  {
   "cell_type": "code",
   "execution_count": null,
   "id": "6f024597-6774-4144-a1b9-641f8c71dc3e",
   "metadata": {},
   "outputs": [],
   "source": []
  },
  {
   "cell_type": "code",
   "execution_count": null,
   "id": "ec9a6f6b-b7c8-4b13-82c7-7be9581ff2b3",
   "metadata": {},
   "outputs": [],
   "source": []
  },
  {
   "cell_type": "markdown",
   "id": "780ae687-48aa-4729-a812-82934aa583b9",
   "metadata": {},
   "source": [
    "---"
   ]
  },
  {
   "cell_type": "markdown",
   "id": "d422f236-d07f-4be8-b9b0-39a053bb4782",
   "metadata": {},
   "source": [
    "#### Exports"
   ]
  },
  {
   "cell_type": "code",
   "execution_count": null,
   "id": "f109e755-52bc-4530-a013-6f16fa2fe961",
   "metadata": {},
   "outputs": [],
   "source": [
    "df_all_months.to_csv(f\"../data/processed/twitter_mentions_{mentioned}.csv\", index=False)"
   ]
  },
  {
   "cell_type": "code",
   "execution_count": null,
   "id": "cfac78b0-9f4a-4a3e-8523-2a4046651614",
   "metadata": {},
   "outputs": [],
   "source": []
  }
 ],
 "metadata": {
  "kernelspec": {
   "display_name": "Python 3 (ipykernel)",
   "language": "python",
   "name": "python3"
  },
  "language_info": {
   "codemirror_mode": {
    "name": "ipython",
    "version": 3
   },
   "file_extension": ".py",
   "mimetype": "text/x-python",
   "name": "python",
   "nbconvert_exporter": "python",
   "pygments_lexer": "ipython3",
   "version": "3.9.7"
  }
 },
 "nbformat": 4,
 "nbformat_minor": 5
}
