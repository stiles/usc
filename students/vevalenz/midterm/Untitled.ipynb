{
 "cells": [
  {
   "cell_type": "code",
   "execution_count": 1,
   "id": "05f9b5bb-ca12-400b-85dc-8e010fb2e232",
   "metadata": {},
   "outputs": [
    {
     "name": "stdout",
     "output_type": "stream",
     "text": [
      "Requirement already satisfied: patreon in /Users/torihates_u/opt/anaconda3/lib/python3.9/site-packages (0.5.0)\n",
      "Requirement already satisfied: requests in /Users/torihates_u/opt/anaconda3/lib/python3.9/site-packages (from patreon) (2.26.0)\n",
      "Requirement already satisfied: idna<4,>=2.5 in /Users/torihates_u/opt/anaconda3/lib/python3.9/site-packages (from requests->patreon) (3.2)\n",
      "Requirement already satisfied: urllib3<1.27,>=1.21.1 in /Users/torihates_u/opt/anaconda3/lib/python3.9/site-packages (from requests->patreon) (1.26.7)\n",
      "Requirement already satisfied: charset-normalizer~=2.0.0 in /Users/torihates_u/opt/anaconda3/lib/python3.9/site-packages (from requests->patreon) (2.0.4)\n",
      "Requirement already satisfied: certifi>=2017.4.17 in /Users/torihates_u/opt/anaconda3/lib/python3.9/site-packages (from requests->patreon) (2021.10.8)\n",
      "Note: you may need to restart the kernel to use updated packages.\n"
     ]
    }
   ],
   "source": [
    "pip install patreon"
   ]
  },
  {
   "cell_type": "code",
   "execution_count": 2,
   "id": "1440ee72-b5be-4716-96c3-bd61c137201c",
   "metadata": {},
   "outputs": [],
   "source": [
    "%load_ext lab_black"
   ]
  },
  {
   "cell_type": "code",
   "execution_count": 3,
   "id": "c2f2f9dc-b060-4a62-85b6-460896fb81b1",
   "metadata": {},
   "outputs": [],
   "source": [
    "import pandas as pd\n",
    "import altair as alt"
   ]
  },
  {
   "cell_type": "code",
   "execution_count": 18,
   "id": "bb48fbc2-15ee-4919-b110-66a9bef6eb7f",
   "metadata": {},
   "outputs": [],
   "source": [
    "url = \"https://www.patreon.com/dashboard/exit-surveys.csv\""
   ]
  },
  {
   "cell_type": "code",
   "execution_count": 21,
   "id": "23040984-9928-4cc9-bec0-8338bbb8b345",
   "metadata": {},
   "outputs": [],
   "source": [
    "exitsurvey = pd.read_csv"
   ]
  },
  {
   "cell_type": "code",
   "execution_count": 28,
   "id": "5e5682b9-2dfd-45f8-bd1e-e7324c5cdc0d",
   "metadata": {},
   "outputs": [
    {
     "data": {
      "text/plain": [
       "<function pandas.io.parsers.readers.read_csv(filepath_or_buffer: 'FilePathOrBuffer', sep=<no_default>, delimiter=None, header='infer', names=<no_default>, index_col=None, usecols=None, squeeze=False, prefix=<no_default>, mangle_dupe_cols=True, dtype: 'DtypeArg | None' = None, engine=None, converters=None, true_values=None, false_values=None, skipinitialspace=False, skiprows=None, skipfooter=0, nrows=None, na_values=None, keep_default_na=True, na_filter=True, verbose=False, skip_blank_lines=True, parse_dates=False, infer_datetime_format=False, keep_date_col=False, date_parser=None, dayfirst=False, cache_dates=True, iterator=False, chunksize=None, compression='infer', thousands=None, decimal: 'str' = '.', lineterminator=None, quotechar='\"', quoting=0, doublequote=True, escapechar=None, comment=None, encoding=None, encoding_errors: 'str | None' = 'strict', dialect=None, error_bad_lines=None, warn_bad_lines=None, on_bad_lines=None, delim_whitespace=False, low_memory=True, memory_map=False, float_precision=None, storage_options: 'StorageOptions' = None)>"
      ]
     },
     "execution_count": 28,
     "metadata": {},
     "output_type": "execute_result"
    }
   ],
   "source": [
    "exitsurvey"
   ]
  },
  {
   "cell_type": "code",
   "execution_count": 30,
   "id": "2ffa3664-e20a-4621-80c1-350b8323230a",
   "metadata": {},
   "outputs": [
    {
     "ename": "AttributeError",
     "evalue": "'function' object has no attribute 'table'",
     "output_type": "error",
     "traceback": [
      "\u001b[0;31m---------------------------------------------------------------------------\u001b[0m",
      "\u001b[0;31mAttributeError\u001b[0m                            Traceback (most recent call last)",
      "\u001b[0;32m/var/folders/5b/smq_znkx27b9y48mcssz7tkw0000gn/T/ipykernel_33242/294579481.py\u001b[0m in \u001b[0;36m<module>\u001b[0;34m\u001b[0m\n\u001b[0;32m----> 1\u001b[0;31m \u001b[0mexitsurvey\u001b[0m\u001b[0;34m.\u001b[0m\u001b[0mtable\u001b[0m\u001b[0;34m\u001b[0m\u001b[0;34m\u001b[0m\u001b[0m\n\u001b[0m",
      "\u001b[0;31mAttributeError\u001b[0m: 'function' object has no attribute 'table'"
     ]
    }
   ],
   "source": [
    "exitsurvey.table"
   ]
  },
  {
   "cell_type": "code",
   "execution_count": null,
   "id": "34c3ce30-67d0-4c05-9a14-b53647d7e850",
   "metadata": {},
   "outputs": [],
   "source": []
  }
 ],
 "metadata": {
  "kernelspec": {
   "display_name": "Python 3 (ipykernel)",
   "language": "python",
   "name": "python3"
  },
  "language_info": {
   "codemirror_mode": {
    "name": "ipython",
    "version": 3
   },
   "file_extension": ".py",
   "mimetype": "text/x-python",
   "name": "python",
   "nbconvert_exporter": "python",
   "pygments_lexer": "ipython3",
   "version": "3.9.7"
  }
 },
 "nbformat": 4,
 "nbformat_minor": 5
}
