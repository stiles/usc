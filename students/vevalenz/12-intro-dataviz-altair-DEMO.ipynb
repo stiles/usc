{
 "cells": [
  {
   "cell_type": "markdown",
   "id": "cf543214-f1e4-46f5-a4ca-0641e43e455f",
   "metadata": {},
   "source": [
    "# Intro to Altair: Explore Ukraine Data"
   ]
  },
  {
   "cell_type": "markdown",
   "id": "55bfd150-db12-4b78-a578-6ec8d99a90ed",
   "metadata": {},
   "source": [
    "Altair offers a powerful and concise visualization tool that enables you to build a wide range of statistical visualizations quickly. Read the [docs](https://altair-viz.github.io/) and [example gallery](https://altair-viz.github.io/gallery/index.html). "
   ]
  },
  {
   "cell_type": "markdown",
   "id": "ece5a4d3-be58-4d94-9736-5e9d10a41ba9",
   "metadata": {},
   "source": [
    "#### Load python tools"
   ]
  },
  {
   "cell_type": "code",
   "execution_count": 2,
   "id": "2594907b-7dfe-4e1f-9406-771e53069144",
   "metadata": {},
   "outputs": [],
   "source": [
    "%load_ext lab_black"
   ]
  },
  {
   "cell_type": "code",
   "execution_count": 3,
   "id": "79d6a049-e959-496c-932e-84a3155858e1",
   "metadata": {},
   "outputs": [],
   "source": [
    "import pandas as pd\n",
    "import altair as alt"
   ]
  },
  {
   "cell_type": "code",
   "execution_count": 4,
   "id": "c09bfa5f-474a-40ea-abcc-a5e7787e501c",
   "metadata": {},
   "outputs": [],
   "source": [
    "pd.options.display.max_columns = 1000\n",
    "pd.options.display.max_rows = 1000"
   ]
  },
  {
   "cell_type": "markdown",
   "id": "6e8fe962-7c4f-413c-890e-97fc70adb134",
   "metadata": {},
   "source": [
    "---"
   ]
  },
  {
   "cell_type": "markdown",
   "id": "70ecb6a0-9667-4466-a79d-588c90977256",
   "metadata": {},
   "source": [
    "### Ukranian refugees count since the war began"
   ]
  },
  {
   "cell_type": "markdown",
   "id": "891b977b-27ee-480a-a82a-57bcab138549",
   "metadata": {},
   "source": [
    "\n",
    "Source: [Humanitarian Data Exchange](https://data.humdata.org/visualization/ukraine-humanitarian-operations/)"
   ]
  },
  {
   "cell_type": "code",
   "execution_count": 5,
   "id": "2448d096-66e9-445a-af43-3b077a8f43f8",
   "metadata": {},
   "outputs": [],
   "source": [
    "refugees = pd.read_csv(\n",
    "    \"https://raw.githubusercontent.com/stiles/usc/main/data/processed/ukraine_refugees_series_data.csv\"\n",
    ")"
   ]
  },
  {
   "cell_type": "code",
   "execution_count": 6,
   "id": "5ccc9ae0-d1ac-4ba9-92c3-cfe85435e1be",
   "metadata": {},
   "outputs": [
    {
     "data": {
      "text/html": [
       "<div>\n",
       "<style scoped>\n",
       "    .dataframe tbody tr th:only-of-type {\n",
       "        vertical-align: middle;\n",
       "    }\n",
       "\n",
       "    .dataframe tbody tr th {\n",
       "        vertical-align: top;\n",
       "    }\n",
       "\n",
       "    .dataframe thead th {\n",
       "        text-align: right;\n",
       "    }\n",
       "</style>\n",
       "<table border=\"1\" class=\"dataframe\">\n",
       "  <thead>\n",
       "    <tr style=\"text-align: right;\">\n",
       "      <th></th>\n",
       "      <th>date</th>\n",
       "      <th>affected_refugees</th>\n",
       "      <th>cumsum</th>\n",
       "    </tr>\n",
       "  </thead>\n",
       "  <tbody>\n",
       "    <tr>\n",
       "      <th>0</th>\n",
       "      <td>2022-02-24</td>\n",
       "      <td>84681</td>\n",
       "      <td>84681</td>\n",
       "    </tr>\n",
       "    <tr>\n",
       "      <th>1</th>\n",
       "      <td>2022-02-25</td>\n",
       "      <td>108301</td>\n",
       "      <td>192982</td>\n",
       "    </tr>\n",
       "    <tr>\n",
       "      <th>2</th>\n",
       "      <td>2022-02-26</td>\n",
       "      <td>148319</td>\n",
       "      <td>341301</td>\n",
       "    </tr>\n",
       "    <tr>\n",
       "      <th>3</th>\n",
       "      <td>2022-02-27</td>\n",
       "      <td>168364</td>\n",
       "      <td>509665</td>\n",
       "    </tr>\n",
       "    <tr>\n",
       "      <th>4</th>\n",
       "      <td>2022-02-28</td>\n",
       "      <td>162474</td>\n",
       "      <td>672139</td>\n",
       "    </tr>\n",
       "    <tr>\n",
       "      <th>5</th>\n",
       "      <td>2022-03-01</td>\n",
       "      <td>166690</td>\n",
       "      <td>838829</td>\n",
       "    </tr>\n",
       "    <tr>\n",
       "      <th>6</th>\n",
       "      <td>2022-03-02</td>\n",
       "      <td>194483</td>\n",
       "      <td>1033312</td>\n",
       "    </tr>\n",
       "    <tr>\n",
       "      <th>7</th>\n",
       "      <td>2022-03-03</td>\n",
       "      <td>167905</td>\n",
       "      <td>1201217</td>\n",
       "    </tr>\n",
       "    <tr>\n",
       "      <th>8</th>\n",
       "      <td>2022-03-04</td>\n",
       "      <td>172099</td>\n",
       "      <td>1373316</td>\n",
       "    </tr>\n",
       "    <tr>\n",
       "      <th>9</th>\n",
       "      <td>2022-03-05</td>\n",
       "      <td>197520</td>\n",
       "      <td>1570836</td>\n",
       "    </tr>\n",
       "    <tr>\n",
       "      <th>10</th>\n",
       "      <td>2022-03-06</td>\n",
       "      <td>209160</td>\n",
       "      <td>1779996</td>\n",
       "    </tr>\n",
       "    <tr>\n",
       "      <th>11</th>\n",
       "      <td>2022-03-07</td>\n",
       "      <td>207660</td>\n",
       "      <td>1987656</td>\n",
       "    </tr>\n",
       "    <tr>\n",
       "      <th>12</th>\n",
       "      <td>2022-03-08</td>\n",
       "      <td>185038</td>\n",
       "      <td>2172694</td>\n",
       "    </tr>\n",
       "    <tr>\n",
       "      <th>13</th>\n",
       "      <td>2022-03-09</td>\n",
       "      <td>170843</td>\n",
       "      <td>2343537</td>\n",
       "    </tr>\n",
       "    <tr>\n",
       "      <th>14</th>\n",
       "      <td>2022-03-10</td>\n",
       "      <td>135655</td>\n",
       "      <td>2479192</td>\n",
       "    </tr>\n",
       "    <tr>\n",
       "      <th>15</th>\n",
       "      <td>2022-03-11</td>\n",
       "      <td>118268</td>\n",
       "      <td>2597460</td>\n",
       "    </tr>\n",
       "    <tr>\n",
       "      <th>16</th>\n",
       "      <td>2022-03-12</td>\n",
       "      <td>115822</td>\n",
       "      <td>2713282</td>\n",
       "    </tr>\n",
       "    <tr>\n",
       "      <th>17</th>\n",
       "      <td>2022-03-13</td>\n",
       "      <td>125317</td>\n",
       "      <td>2838599</td>\n",
       "    </tr>\n",
       "    <tr>\n",
       "      <th>18</th>\n",
       "      <td>2022-03-14</td>\n",
       "      <td>113676</td>\n",
       "      <td>2952275</td>\n",
       "    </tr>\n",
       "    <tr>\n",
       "      <th>19</th>\n",
       "      <td>2022-03-15</td>\n",
       "      <td>110820</td>\n",
       "      <td>3063095</td>\n",
       "    </tr>\n",
       "    <tr>\n",
       "      <th>20</th>\n",
       "      <td>2022-03-16</td>\n",
       "      <td>106802</td>\n",
       "      <td>3169897</td>\n",
       "    </tr>\n",
       "    <tr>\n",
       "      <th>21</th>\n",
       "      <td>2022-03-17</td>\n",
       "      <td>94157</td>\n",
       "      <td>3264054</td>\n",
       "    </tr>\n",
       "    <tr>\n",
       "      <th>22</th>\n",
       "      <td>2022-03-18</td>\n",
       "      <td>82655</td>\n",
       "      <td>3346709</td>\n",
       "    </tr>\n",
       "    <tr>\n",
       "      <th>23</th>\n",
       "      <td>2022-03-19</td>\n",
       "      <td>76757</td>\n",
       "      <td>3423466</td>\n",
       "    </tr>\n",
       "    <tr>\n",
       "      <th>24</th>\n",
       "      <td>2022-03-20</td>\n",
       "      <td>66178</td>\n",
       "      <td>3489644</td>\n",
       "    </tr>\n",
       "  </tbody>\n",
       "</table>\n",
       "</div>"
      ],
      "text/plain": [
       "          date  affected_refugees   cumsum\n",
       "0   2022-02-24              84681    84681\n",
       "1   2022-02-25             108301   192982\n",
       "2   2022-02-26             148319   341301\n",
       "3   2022-02-27             168364   509665\n",
       "4   2022-02-28             162474   672139\n",
       "5   2022-03-01             166690   838829\n",
       "6   2022-03-02             194483  1033312\n",
       "7   2022-03-03             167905  1201217\n",
       "8   2022-03-04             172099  1373316\n",
       "9   2022-03-05             197520  1570836\n",
       "10  2022-03-06             209160  1779996\n",
       "11  2022-03-07             207660  1987656\n",
       "12  2022-03-08             185038  2172694\n",
       "13  2022-03-09             170843  2343537\n",
       "14  2022-03-10             135655  2479192\n",
       "15  2022-03-11             118268  2597460\n",
       "16  2022-03-12             115822  2713282\n",
       "17  2022-03-13             125317  2838599\n",
       "18  2022-03-14             113676  2952275\n",
       "19  2022-03-15             110820  3063095\n",
       "20  2022-03-16             106802  3169897\n",
       "21  2022-03-17              94157  3264054\n",
       "22  2022-03-18              82655  3346709\n",
       "23  2022-03-19              76757  3423466\n",
       "24  2022-03-20              66178  3489644"
      ]
     },
     "execution_count": 6,
     "metadata": {},
     "output_type": "execute_result"
    }
   ],
   "source": [
    "refugees"
   ]
  },
  {
   "cell_type": "markdown",
   "id": "bbc060bb-1514-4094-8e63-7154e442c9be",
   "metadata": {},
   "source": [
    "#### Build a [line chart](https://altair-viz.github.io/gallery/simple_line_chart.html) showing the refugees by day"
   ]
  },
  {
   "cell_type": "code",
   "execution_count": 7,
   "id": "0fd5a3c8-8ece-4720-b5dd-46492346dd0f",
   "metadata": {},
   "outputs": [
    {
     "data": {
      "text/html": [
       "\n",
       "<div id=\"altair-viz-dd6e428e5b314605acb7add7c987e65d\"></div>\n",
       "<script type=\"text/javascript\">\n",
       "  var VEGA_DEBUG = (typeof VEGA_DEBUG == \"undefined\") ? {} : VEGA_DEBUG;\n",
       "  (function(spec, embedOpt){\n",
       "    let outputDiv = document.currentScript.previousElementSibling;\n",
       "    if (outputDiv.id !== \"altair-viz-dd6e428e5b314605acb7add7c987e65d\") {\n",
       "      outputDiv = document.getElementById(\"altair-viz-dd6e428e5b314605acb7add7c987e65d\");\n",
       "    }\n",
       "    const paths = {\n",
       "      \"vega\": \"https://cdn.jsdelivr.net/npm//vega@5?noext\",\n",
       "      \"vega-lib\": \"https://cdn.jsdelivr.net/npm//vega-lib?noext\",\n",
       "      \"vega-lite\": \"https://cdn.jsdelivr.net/npm//vega-lite@4.17.0?noext\",\n",
       "      \"vega-embed\": \"https://cdn.jsdelivr.net/npm//vega-embed@6?noext\",\n",
       "    };\n",
       "\n",
       "    function maybeLoadScript(lib, version) {\n",
       "      var key = `${lib.replace(\"-\", \"\")}_version`;\n",
       "      return (VEGA_DEBUG[key] == version) ?\n",
       "        Promise.resolve(paths[lib]) :\n",
       "        new Promise(function(resolve, reject) {\n",
       "          var s = document.createElement('script');\n",
       "          document.getElementsByTagName(\"head\")[0].appendChild(s);\n",
       "          s.async = true;\n",
       "          s.onload = () => {\n",
       "            VEGA_DEBUG[key] = version;\n",
       "            return resolve(paths[lib]);\n",
       "          };\n",
       "          s.onerror = () => reject(`Error loading script: ${paths[lib]}`);\n",
       "          s.src = paths[lib];\n",
       "        });\n",
       "    }\n",
       "\n",
       "    function showError(err) {\n",
       "      outputDiv.innerHTML = `<div class=\"error\" style=\"color:red;\">${err}</div>`;\n",
       "      throw err;\n",
       "    }\n",
       "\n",
       "    function displayChart(vegaEmbed) {\n",
       "      vegaEmbed(outputDiv, spec, embedOpt)\n",
       "        .catch(err => showError(`Javascript Error: ${err.message}<br>This usually means there's a typo in your chart specification. See the javascript console for the full traceback.`));\n",
       "    }\n",
       "\n",
       "    if(typeof define === \"function\" && define.amd) {\n",
       "      requirejs.config({paths});\n",
       "      require([\"vega-embed\"], displayChart, err => showError(`Error loading script: ${err.message}`));\n",
       "    } else {\n",
       "      maybeLoadScript(\"vega\", \"5\")\n",
       "        .then(() => maybeLoadScript(\"vega-lite\", \"4.17.0\"))\n",
       "        .then(() => maybeLoadScript(\"vega-embed\", \"6\"))\n",
       "        .catch(showError)\n",
       "        .then(() => displayChart(vegaEmbed));\n",
       "    }\n",
       "  })({\"config\": {\"view\": {\"continuousWidth\": 400, \"continuousHeight\": 300}}, \"data\": {\"name\": \"data-224b1c1349dff1b666644ff5894b66d1\"}, \"mark\": \"line\", \"encoding\": {\"x\": {\"field\": \"date\", \"type\": \"temporal\"}, \"y\": {\"field\": \"affected_refugees\", \"type\": \"quantitative\"}}, \"$schema\": \"https://vega.github.io/schema/vega-lite/v4.17.0.json\", \"datasets\": {\"data-224b1c1349dff1b666644ff5894b66d1\": [{\"date\": \"2022-02-24\", \"affected_refugees\": 84681, \"cumsum\": 84681}, {\"date\": \"2022-02-25\", \"affected_refugees\": 108301, \"cumsum\": 192982}, {\"date\": \"2022-02-26\", \"affected_refugees\": 148319, \"cumsum\": 341301}, {\"date\": \"2022-02-27\", \"affected_refugees\": 168364, \"cumsum\": 509665}, {\"date\": \"2022-02-28\", \"affected_refugees\": 162474, \"cumsum\": 672139}, {\"date\": \"2022-03-01\", \"affected_refugees\": 166690, \"cumsum\": 838829}, {\"date\": \"2022-03-02\", \"affected_refugees\": 194483, \"cumsum\": 1033312}, {\"date\": \"2022-03-03\", \"affected_refugees\": 167905, \"cumsum\": 1201217}, {\"date\": \"2022-03-04\", \"affected_refugees\": 172099, \"cumsum\": 1373316}, {\"date\": \"2022-03-05\", \"affected_refugees\": 197520, \"cumsum\": 1570836}, {\"date\": \"2022-03-06\", \"affected_refugees\": 209160, \"cumsum\": 1779996}, {\"date\": \"2022-03-07\", \"affected_refugees\": 207660, \"cumsum\": 1987656}, {\"date\": \"2022-03-08\", \"affected_refugees\": 185038, \"cumsum\": 2172694}, {\"date\": \"2022-03-09\", \"affected_refugees\": 170843, \"cumsum\": 2343537}, {\"date\": \"2022-03-10\", \"affected_refugees\": 135655, \"cumsum\": 2479192}, {\"date\": \"2022-03-11\", \"affected_refugees\": 118268, \"cumsum\": 2597460}, {\"date\": \"2022-03-12\", \"affected_refugees\": 115822, \"cumsum\": 2713282}, {\"date\": \"2022-03-13\", \"affected_refugees\": 125317, \"cumsum\": 2838599}, {\"date\": \"2022-03-14\", \"affected_refugees\": 113676, \"cumsum\": 2952275}, {\"date\": \"2022-03-15\", \"affected_refugees\": 110820, \"cumsum\": 3063095}, {\"date\": \"2022-03-16\", \"affected_refugees\": 106802, \"cumsum\": 3169897}, {\"date\": \"2022-03-17\", \"affected_refugees\": 94157, \"cumsum\": 3264054}, {\"date\": \"2022-03-18\", \"affected_refugees\": 82655, \"cumsum\": 3346709}, {\"date\": \"2022-03-19\", \"affected_refugees\": 76757, \"cumsum\": 3423466}, {\"date\": \"2022-03-20\", \"affected_refugees\": 66178, \"cumsum\": 3489644}]}}, {\"mode\": \"vega-lite\"});\n",
       "</script>"
      ],
      "text/plain": [
       "alt.Chart(...)"
      ]
     },
     "execution_count": 7,
     "metadata": {},
     "output_type": "execute_result"
    }
   ],
   "source": [
    "alt.Chart(refugees).mark_line().encode(x=\"date:T\", y=\"affected_refugees\")"
   ]
  },
  {
   "cell_type": "markdown",
   "id": "baa05906-54ce-426a-9061-10390b4b52f9",
   "metadata": {},
   "source": [
    "#### Add more features: color, line width, title, size"
   ]
  },
  {
   "cell_type": "code",
   "execution_count": 8,
   "id": "867dd009-6202-47bc-b509-e2b25ee25d77",
   "metadata": {},
   "outputs": [
    {
     "data": {
      "text/html": [
       "\n",
       "<div id=\"altair-viz-3ffc21e20d2947cfbefe9dc8823d35be\"></div>\n",
       "<script type=\"text/javascript\">\n",
       "  var VEGA_DEBUG = (typeof VEGA_DEBUG == \"undefined\") ? {} : VEGA_DEBUG;\n",
       "  (function(spec, embedOpt){\n",
       "    let outputDiv = document.currentScript.previousElementSibling;\n",
       "    if (outputDiv.id !== \"altair-viz-3ffc21e20d2947cfbefe9dc8823d35be\") {\n",
       "      outputDiv = document.getElementById(\"altair-viz-3ffc21e20d2947cfbefe9dc8823d35be\");\n",
       "    }\n",
       "    const paths = {\n",
       "      \"vega\": \"https://cdn.jsdelivr.net/npm//vega@5?noext\",\n",
       "      \"vega-lib\": \"https://cdn.jsdelivr.net/npm//vega-lib?noext\",\n",
       "      \"vega-lite\": \"https://cdn.jsdelivr.net/npm//vega-lite@4.17.0?noext\",\n",
       "      \"vega-embed\": \"https://cdn.jsdelivr.net/npm//vega-embed@6?noext\",\n",
       "    };\n",
       "\n",
       "    function maybeLoadScript(lib, version) {\n",
       "      var key = `${lib.replace(\"-\", \"\")}_version`;\n",
       "      return (VEGA_DEBUG[key] == version) ?\n",
       "        Promise.resolve(paths[lib]) :\n",
       "        new Promise(function(resolve, reject) {\n",
       "          var s = document.createElement('script');\n",
       "          document.getElementsByTagName(\"head\")[0].appendChild(s);\n",
       "          s.async = true;\n",
       "          s.onload = () => {\n",
       "            VEGA_DEBUG[key] = version;\n",
       "            return resolve(paths[lib]);\n",
       "          };\n",
       "          s.onerror = () => reject(`Error loading script: ${paths[lib]}`);\n",
       "          s.src = paths[lib];\n",
       "        });\n",
       "    }\n",
       "\n",
       "    function showError(err) {\n",
       "      outputDiv.innerHTML = `<div class=\"error\" style=\"color:red;\">${err}</div>`;\n",
       "      throw err;\n",
       "    }\n",
       "\n",
       "    function displayChart(vegaEmbed) {\n",
       "      vegaEmbed(outputDiv, spec, embedOpt)\n",
       "        .catch(err => showError(`Javascript Error: ${err.message}<br>This usually means there's a typo in your chart specification. See the javascript console for the full traceback.`));\n",
       "    }\n",
       "\n",
       "    if(typeof define === \"function\" && define.amd) {\n",
       "      requirejs.config({paths});\n",
       "      require([\"vega-embed\"], displayChart, err => showError(`Error loading script: ${err.message}`));\n",
       "    } else {\n",
       "      maybeLoadScript(\"vega\", \"5\")\n",
       "        .then(() => maybeLoadScript(\"vega-lite\", \"4.17.0\"))\n",
       "        .then(() => maybeLoadScript(\"vega-embed\", \"6\"))\n",
       "        .catch(showError)\n",
       "        .then(() => displayChart(vegaEmbed));\n",
       "    }\n",
       "  })({\"config\": {\"view\": {\"continuousWidth\": 400, \"continuousHeight\": 300}}, \"data\": {\"name\": \"data-224b1c1349dff1b666644ff5894b66d1\"}, \"mark\": {\"type\": \"line\", \"color\": \"red\", \"size\": 10}, \"encoding\": {\"x\": {\"field\": \"date\", \"type\": \"temporal\"}, \"y\": {\"field\": \"affected_refugees\", \"type\": \"quantitative\"}}, \"height\": 300, \"title\": \"Daily refugees fleeing Ukraine since Russia invasion\", \"width\": 380, \"$schema\": \"https://vega.github.io/schema/vega-lite/v4.17.0.json\", \"datasets\": {\"data-224b1c1349dff1b666644ff5894b66d1\": [{\"date\": \"2022-02-24\", \"affected_refugees\": 84681, \"cumsum\": 84681}, {\"date\": \"2022-02-25\", \"affected_refugees\": 108301, \"cumsum\": 192982}, {\"date\": \"2022-02-26\", \"affected_refugees\": 148319, \"cumsum\": 341301}, {\"date\": \"2022-02-27\", \"affected_refugees\": 168364, \"cumsum\": 509665}, {\"date\": \"2022-02-28\", \"affected_refugees\": 162474, \"cumsum\": 672139}, {\"date\": \"2022-03-01\", \"affected_refugees\": 166690, \"cumsum\": 838829}, {\"date\": \"2022-03-02\", \"affected_refugees\": 194483, \"cumsum\": 1033312}, {\"date\": \"2022-03-03\", \"affected_refugees\": 167905, \"cumsum\": 1201217}, {\"date\": \"2022-03-04\", \"affected_refugees\": 172099, \"cumsum\": 1373316}, {\"date\": \"2022-03-05\", \"affected_refugees\": 197520, \"cumsum\": 1570836}, {\"date\": \"2022-03-06\", \"affected_refugees\": 209160, \"cumsum\": 1779996}, {\"date\": \"2022-03-07\", \"affected_refugees\": 207660, \"cumsum\": 1987656}, {\"date\": \"2022-03-08\", \"affected_refugees\": 185038, \"cumsum\": 2172694}, {\"date\": \"2022-03-09\", \"affected_refugees\": 170843, \"cumsum\": 2343537}, {\"date\": \"2022-03-10\", \"affected_refugees\": 135655, \"cumsum\": 2479192}, {\"date\": \"2022-03-11\", \"affected_refugees\": 118268, \"cumsum\": 2597460}, {\"date\": \"2022-03-12\", \"affected_refugees\": 115822, \"cumsum\": 2713282}, {\"date\": \"2022-03-13\", \"affected_refugees\": 125317, \"cumsum\": 2838599}, {\"date\": \"2022-03-14\", \"affected_refugees\": 113676, \"cumsum\": 2952275}, {\"date\": \"2022-03-15\", \"affected_refugees\": 110820, \"cumsum\": 3063095}, {\"date\": \"2022-03-16\", \"affected_refugees\": 106802, \"cumsum\": 3169897}, {\"date\": \"2022-03-17\", \"affected_refugees\": 94157, \"cumsum\": 3264054}, {\"date\": \"2022-03-18\", \"affected_refugees\": 82655, \"cumsum\": 3346709}, {\"date\": \"2022-03-19\", \"affected_refugees\": 76757, \"cumsum\": 3423466}, {\"date\": \"2022-03-20\", \"affected_refugees\": 66178, \"cumsum\": 3489644}]}}, {\"mode\": \"vega-lite\"});\n",
       "</script>"
      ],
      "text/plain": [
       "alt.Chart(...)"
      ]
     },
     "execution_count": 8,
     "metadata": {},
     "output_type": "execute_result"
    }
   ],
   "source": [
    "alt.Chart(refugees).mark_line(color=\"red\", size=10).encode(\n",
    "    x=\"date:T\", y=\"affected_refugees\"\n",
    ").properties(\n",
    "    width=380, height=300, title=\"Daily refugees fleeing Ukraine since Russia invasion\"\n",
    ")"
   ]
  },
  {
   "cell_type": "markdown",
   "id": "b6922dc5-0a48-4407-bf79-adf3e4849754",
   "metadata": {},
   "source": [
    "#### Try it as a column chart"
   ]
  },
  {
   "cell_type": "code",
   "execution_count": 9,
   "id": "03651644-0dd2-4bed-8987-24aad9e4b5a7",
   "metadata": {},
   "outputs": [
    {
     "data": {
      "text/html": [
       "\n",
       "<div id=\"altair-viz-b1e6f92d819a49cd9c8ef5510d942b89\"></div>\n",
       "<script type=\"text/javascript\">\n",
       "  var VEGA_DEBUG = (typeof VEGA_DEBUG == \"undefined\") ? {} : VEGA_DEBUG;\n",
       "  (function(spec, embedOpt){\n",
       "    let outputDiv = document.currentScript.previousElementSibling;\n",
       "    if (outputDiv.id !== \"altair-viz-b1e6f92d819a49cd9c8ef5510d942b89\") {\n",
       "      outputDiv = document.getElementById(\"altair-viz-b1e6f92d819a49cd9c8ef5510d942b89\");\n",
       "    }\n",
       "    const paths = {\n",
       "      \"vega\": \"https://cdn.jsdelivr.net/npm//vega@5?noext\",\n",
       "      \"vega-lib\": \"https://cdn.jsdelivr.net/npm//vega-lib?noext\",\n",
       "      \"vega-lite\": \"https://cdn.jsdelivr.net/npm//vega-lite@4.17.0?noext\",\n",
       "      \"vega-embed\": \"https://cdn.jsdelivr.net/npm//vega-embed@6?noext\",\n",
       "    };\n",
       "\n",
       "    function maybeLoadScript(lib, version) {\n",
       "      var key = `${lib.replace(\"-\", \"\")}_version`;\n",
       "      return (VEGA_DEBUG[key] == version) ?\n",
       "        Promise.resolve(paths[lib]) :\n",
       "        new Promise(function(resolve, reject) {\n",
       "          var s = document.createElement('script');\n",
       "          document.getElementsByTagName(\"head\")[0].appendChild(s);\n",
       "          s.async = true;\n",
       "          s.onload = () => {\n",
       "            VEGA_DEBUG[key] = version;\n",
       "            return resolve(paths[lib]);\n",
       "          };\n",
       "          s.onerror = () => reject(`Error loading script: ${paths[lib]}`);\n",
       "          s.src = paths[lib];\n",
       "        });\n",
       "    }\n",
       "\n",
       "    function showError(err) {\n",
       "      outputDiv.innerHTML = `<div class=\"error\" style=\"color:red;\">${err}</div>`;\n",
       "      throw err;\n",
       "    }\n",
       "\n",
       "    function displayChart(vegaEmbed) {\n",
       "      vegaEmbed(outputDiv, spec, embedOpt)\n",
       "        .catch(err => showError(`Javascript Error: ${err.message}<br>This usually means there's a typo in your chart specification. See the javascript console for the full traceback.`));\n",
       "    }\n",
       "\n",
       "    if(typeof define === \"function\" && define.amd) {\n",
       "      requirejs.config({paths});\n",
       "      require([\"vega-embed\"], displayChart, err => showError(`Error loading script: ${err.message}`));\n",
       "    } else {\n",
       "      maybeLoadScript(\"vega\", \"5\")\n",
       "        .then(() => maybeLoadScript(\"vega-lite\", \"4.17.0\"))\n",
       "        .then(() => maybeLoadScript(\"vega-embed\", \"6\"))\n",
       "        .catch(showError)\n",
       "        .then(() => displayChart(vegaEmbed));\n",
       "    }\n",
       "  })({\"config\": {\"view\": {\"continuousWidth\": 400, \"continuousHeight\": 300}}, \"data\": {\"name\": \"data-224b1c1349dff1b666644ff5894b66d1\"}, \"mark\": {\"type\": \"bar\", \"color\": \"red\", \"size\": 10}, \"encoding\": {\"x\": {\"field\": \"date\", \"type\": \"temporal\"}, \"y\": {\"field\": \"affected_refugees\", \"type\": \"quantitative\"}}, \"height\": 300, \"title\": \"Daily refugees fleeing Ukraine since Russia invasion\", \"width\": 380, \"$schema\": \"https://vega.github.io/schema/vega-lite/v4.17.0.json\", \"datasets\": {\"data-224b1c1349dff1b666644ff5894b66d1\": [{\"date\": \"2022-02-24\", \"affected_refugees\": 84681, \"cumsum\": 84681}, {\"date\": \"2022-02-25\", \"affected_refugees\": 108301, \"cumsum\": 192982}, {\"date\": \"2022-02-26\", \"affected_refugees\": 148319, \"cumsum\": 341301}, {\"date\": \"2022-02-27\", \"affected_refugees\": 168364, \"cumsum\": 509665}, {\"date\": \"2022-02-28\", \"affected_refugees\": 162474, \"cumsum\": 672139}, {\"date\": \"2022-03-01\", \"affected_refugees\": 166690, \"cumsum\": 838829}, {\"date\": \"2022-03-02\", \"affected_refugees\": 194483, \"cumsum\": 1033312}, {\"date\": \"2022-03-03\", \"affected_refugees\": 167905, \"cumsum\": 1201217}, {\"date\": \"2022-03-04\", \"affected_refugees\": 172099, \"cumsum\": 1373316}, {\"date\": \"2022-03-05\", \"affected_refugees\": 197520, \"cumsum\": 1570836}, {\"date\": \"2022-03-06\", \"affected_refugees\": 209160, \"cumsum\": 1779996}, {\"date\": \"2022-03-07\", \"affected_refugees\": 207660, \"cumsum\": 1987656}, {\"date\": \"2022-03-08\", \"affected_refugees\": 185038, \"cumsum\": 2172694}, {\"date\": \"2022-03-09\", \"affected_refugees\": 170843, \"cumsum\": 2343537}, {\"date\": \"2022-03-10\", \"affected_refugees\": 135655, \"cumsum\": 2479192}, {\"date\": \"2022-03-11\", \"affected_refugees\": 118268, \"cumsum\": 2597460}, {\"date\": \"2022-03-12\", \"affected_refugees\": 115822, \"cumsum\": 2713282}, {\"date\": \"2022-03-13\", \"affected_refugees\": 125317, \"cumsum\": 2838599}, {\"date\": \"2022-03-14\", \"affected_refugees\": 113676, \"cumsum\": 2952275}, {\"date\": \"2022-03-15\", \"affected_refugees\": 110820, \"cumsum\": 3063095}, {\"date\": \"2022-03-16\", \"affected_refugees\": 106802, \"cumsum\": 3169897}, {\"date\": \"2022-03-17\", \"affected_refugees\": 94157, \"cumsum\": 3264054}, {\"date\": \"2022-03-18\", \"affected_refugees\": 82655, \"cumsum\": 3346709}, {\"date\": \"2022-03-19\", \"affected_refugees\": 76757, \"cumsum\": 3423466}, {\"date\": \"2022-03-20\", \"affected_refugees\": 66178, \"cumsum\": 3489644}]}}, {\"mode\": \"vega-lite\"});\n",
       "</script>"
      ],
      "text/plain": [
       "alt.Chart(...)"
      ]
     },
     "execution_count": 9,
     "metadata": {},
     "output_type": "execute_result"
    }
   ],
   "source": [
    "alt.Chart(refugees).mark_bar(color=\"red\", size=10).encode(\n",
    "    x=\"date:T\", y=\"affected_refugees\"\n",
    ").properties(\n",
    "    width=380, height=300, title=\"Daily refugees fleeing Ukraine since Russia invasion\"\n",
    ")"
   ]
  },
  {
   "cell_type": "markdown",
   "id": "6dc2184e-4e81-4eb2-a12e-d9ce7f79b342",
   "metadata": {},
   "source": [
    "---"
   ]
  },
  {
   "cell_type": "markdown",
   "id": "2ce673fe-339d-4946-a4d8-991b2837efe7",
   "metadata": {},
   "source": [
    "#### Read fatalities data"
   ]
  },
  {
   "cell_type": "code",
   "execution_count": 10,
   "id": "f7d6c50d-eb7d-4d9e-8822-9b291cd652a1",
   "metadata": {},
   "outputs": [],
   "source": [
    "fatalities_df = pd.read_csv(\n",
    "    \"https://raw.githubusercontent.com/stiles/usc/main/data/processed/ukraine_incidents_fatalities_types_melted.csv\"\n",
    ")"
   ]
  },
  {
   "cell_type": "code",
   "execution_count": 11,
   "id": "f639785a-ef94-4b04-9832-99b18ad00fb4",
   "metadata": {},
   "outputs": [
    {
     "data": {
      "text/html": [
       "<div>\n",
       "<style scoped>\n",
       "    .dataframe tbody tr th:only-of-type {\n",
       "        vertical-align: middle;\n",
       "    }\n",
       "\n",
       "    .dataframe tbody tr th {\n",
       "        vertical-align: top;\n",
       "    }\n",
       "\n",
       "    .dataframe thead th {\n",
       "        text-align: right;\n",
       "    }\n",
       "</style>\n",
       "<table border=\"1\" class=\"dataframe\">\n",
       "  <thead>\n",
       "    <tr style=\"text-align: right;\">\n",
       "      <th></th>\n",
       "      <th>date_occurred</th>\n",
       "      <th>incident_type</th>\n",
       "      <th>fatalities</th>\n",
       "      <th>cumsum</th>\n",
       "    </tr>\n",
       "  </thead>\n",
       "  <tbody>\n",
       "    <tr>\n",
       "      <th>0</th>\n",
       "      <td>2022-02-24</td>\n",
       "      <td>Battles</td>\n",
       "      <td>51.0</td>\n",
       "      <td>51.0</td>\n",
       "    </tr>\n",
       "    <tr>\n",
       "      <th>1</th>\n",
       "      <td>2022-02-25</td>\n",
       "      <td>Battles</td>\n",
       "      <td>19.0</td>\n",
       "      <td>70.0</td>\n",
       "    </tr>\n",
       "    <tr>\n",
       "      <th>2</th>\n",
       "      <td>2022-02-26</td>\n",
       "      <td>Battles</td>\n",
       "      <td>53.0</td>\n",
       "      <td>123.0</td>\n",
       "    </tr>\n",
       "    <tr>\n",
       "      <th>3</th>\n",
       "      <td>2022-02-27</td>\n",
       "      <td>Battles</td>\n",
       "      <td>30.0</td>\n",
       "      <td>153.0</td>\n",
       "    </tr>\n",
       "    <tr>\n",
       "      <th>4</th>\n",
       "      <td>2022-02-28</td>\n",
       "      <td>Battles</td>\n",
       "      <td>14.0</td>\n",
       "      <td>167.0</td>\n",
       "    </tr>\n",
       "  </tbody>\n",
       "</table>\n",
       "</div>"
      ],
      "text/plain": [
       "  date_occurred incident_type  fatalities  cumsum\n",
       "0    2022-02-24       Battles        51.0    51.0\n",
       "1    2022-02-25       Battles        19.0    70.0\n",
       "2    2022-02-26       Battles        53.0   123.0\n",
       "3    2022-02-27       Battles        30.0   153.0\n",
       "4    2022-02-28       Battles        14.0   167.0"
      ]
     },
     "execution_count": 11,
     "metadata": {},
     "output_type": "execute_result"
    }
   ],
   "source": [
    "fatalities_df.head()"
   ]
  },
  {
   "cell_type": "markdown",
   "id": "a57ccad0-deca-4260-9f6e-970f18aa8b80",
   "metadata": {},
   "source": [
    "#### Group to count the number of fatalities by type"
   ]
  },
  {
   "cell_type": "code",
   "execution_count": 12,
   "id": "10f4e6b1-17cb-4303-a919-2f3d6992beec",
   "metadata": {},
   "outputs": [
    {
     "data": {
      "text/html": [
       "<div>\n",
       "<style scoped>\n",
       "    .dataframe tbody tr th:only-of-type {\n",
       "        vertical-align: middle;\n",
       "    }\n",
       "\n",
       "    .dataframe tbody tr th {\n",
       "        vertical-align: top;\n",
       "    }\n",
       "\n",
       "    .dataframe thead th {\n",
       "        text-align: right;\n",
       "    }\n",
       "</style>\n",
       "<table border=\"1\" class=\"dataframe\">\n",
       "  <thead>\n",
       "    <tr style=\"text-align: right;\">\n",
       "      <th></th>\n",
       "      <th>incident_type</th>\n",
       "      <th>fatalities</th>\n",
       "    </tr>\n",
       "  </thead>\n",
       "  <tbody>\n",
       "    <tr>\n",
       "      <th>0</th>\n",
       "      <td>Battles</td>\n",
       "      <td>926.0</td>\n",
       "    </tr>\n",
       "    <tr>\n",
       "      <th>1</th>\n",
       "      <td>Explosions/Remote violence</td>\n",
       "      <td>599.0</td>\n",
       "    </tr>\n",
       "    <tr>\n",
       "      <th>2</th>\n",
       "      <td>Violence against civilians</td>\n",
       "      <td>91.0</td>\n",
       "    </tr>\n",
       "  </tbody>\n",
       "</table>\n",
       "</div>"
      ],
      "text/plain": [
       "                incident_type  fatalities\n",
       "0                     Battles       926.0\n",
       "1  Explosions/Remote violence       599.0\n",
       "2  Violence against civilians        91.0"
      ]
     },
     "execution_count": 12,
     "metadata": {},
     "output_type": "execute_result"
    }
   ],
   "source": [
    "fatalities_df.groupby(\"incident_type\")[\"fatalities\"].sum().reset_index()"
   ]
  },
  {
   "cell_type": "code",
   "execution_count": 13,
   "id": "f642d2d3-452a-4424-822c-f7544891c15d",
   "metadata": {},
   "outputs": [],
   "source": [
    "# Build a stacked area with facilities data"
   ]
  },
  {
   "cell_type": "code",
   "execution_count": 14,
   "id": "c34e2fbd-e409-4e6b-b5f3-6c4643084b90",
   "metadata": {},
   "outputs": [
    {
     "data": {
      "text/html": [
       "\n",
       "<div id=\"altair-viz-03ad6732e7b04b4f87620ac8be1f3c5f\"></div>\n",
       "<script type=\"text/javascript\">\n",
       "  var VEGA_DEBUG = (typeof VEGA_DEBUG == \"undefined\") ? {} : VEGA_DEBUG;\n",
       "  (function(spec, embedOpt){\n",
       "    let outputDiv = document.currentScript.previousElementSibling;\n",
       "    if (outputDiv.id !== \"altair-viz-03ad6732e7b04b4f87620ac8be1f3c5f\") {\n",
       "      outputDiv = document.getElementById(\"altair-viz-03ad6732e7b04b4f87620ac8be1f3c5f\");\n",
       "    }\n",
       "    const paths = {\n",
       "      \"vega\": \"https://cdn.jsdelivr.net/npm//vega@5?noext\",\n",
       "      \"vega-lib\": \"https://cdn.jsdelivr.net/npm//vega-lib?noext\",\n",
       "      \"vega-lite\": \"https://cdn.jsdelivr.net/npm//vega-lite@4.17.0?noext\",\n",
       "      \"vega-embed\": \"https://cdn.jsdelivr.net/npm//vega-embed@6?noext\",\n",
       "    };\n",
       "\n",
       "    function maybeLoadScript(lib, version) {\n",
       "      var key = `${lib.replace(\"-\", \"\")}_version`;\n",
       "      return (VEGA_DEBUG[key] == version) ?\n",
       "        Promise.resolve(paths[lib]) :\n",
       "        new Promise(function(resolve, reject) {\n",
       "          var s = document.createElement('script');\n",
       "          document.getElementsByTagName(\"head\")[0].appendChild(s);\n",
       "          s.async = true;\n",
       "          s.onload = () => {\n",
       "            VEGA_DEBUG[key] = version;\n",
       "            return resolve(paths[lib]);\n",
       "          };\n",
       "          s.onerror = () => reject(`Error loading script: ${paths[lib]}`);\n",
       "          s.src = paths[lib];\n",
       "        });\n",
       "    }\n",
       "\n",
       "    function showError(err) {\n",
       "      outputDiv.innerHTML = `<div class=\"error\" style=\"color:red;\">${err}</div>`;\n",
       "      throw err;\n",
       "    }\n",
       "\n",
       "    function displayChart(vegaEmbed) {\n",
       "      vegaEmbed(outputDiv, spec, embedOpt)\n",
       "        .catch(err => showError(`Javascript Error: ${err.message}<br>This usually means there's a typo in your chart specification. See the javascript console for the full traceback.`));\n",
       "    }\n",
       "\n",
       "    if(typeof define === \"function\" && define.amd) {\n",
       "      requirejs.config({paths});\n",
       "      require([\"vega-embed\"], displayChart, err => showError(`Error loading script: ${err.message}`));\n",
       "    } else {\n",
       "      maybeLoadScript(\"vega\", \"5\")\n",
       "        .then(() => maybeLoadScript(\"vega-lite\", \"4.17.0\"))\n",
       "        .then(() => maybeLoadScript(\"vega-embed\", \"6\"))\n",
       "        .catch(showError)\n",
       "        .then(() => displayChart(vegaEmbed));\n",
       "    }\n",
       "  })({\"config\": {\"view\": {\"continuousWidth\": 400, \"continuousHeight\": 300}}, \"data\": {\"name\": \"data-aa57da395c6c98fca7a98ebabfadb92e\"}, \"mark\": \"area\", \"encoding\": {\"color\": {\"field\": \"incident_type\", \"type\": \"nominal\"}, \"x\": {\"field\": \"date_occurred\", \"type\": \"temporal\"}, \"y\": {\"field\": \"fatalities\", \"type\": \"quantitative\"}}, \"$schema\": \"https://vega.github.io/schema/vega-lite/v4.17.0.json\", \"datasets\": {\"data-aa57da395c6c98fca7a98ebabfadb92e\": [{\"date_occurred\": \"2022-02-24\", \"incident_type\": \"Battles\", \"fatalities\": 51.0, \"cumsum\": 51.0}, {\"date_occurred\": \"2022-02-25\", \"incident_type\": \"Battles\", \"fatalities\": 19.0, \"cumsum\": 70.0}, {\"date_occurred\": \"2022-02-26\", \"incident_type\": \"Battles\", \"fatalities\": 53.0, \"cumsum\": 123.0}, {\"date_occurred\": \"2022-02-27\", \"incident_type\": \"Battles\", \"fatalities\": 30.0, \"cumsum\": 153.0}, {\"date_occurred\": \"2022-02-28\", \"incident_type\": \"Battles\", \"fatalities\": 14.0, \"cumsum\": 167.0}, {\"date_occurred\": \"2022-03-01\", \"incident_type\": \"Battles\", \"fatalities\": 12.0, \"cumsum\": 179.0}, {\"date_occurred\": \"2022-03-02\", \"incident_type\": \"Battles\", \"fatalities\": 235.0, \"cumsum\": 414.0}, {\"date_occurred\": \"2022-03-03\", \"incident_type\": \"Battles\", \"fatalities\": 53.0, \"cumsum\": 467.0}, {\"date_occurred\": \"2022-03-04\", \"incident_type\": \"Battles\", \"fatalities\": 28.0, \"cumsum\": 495.0}, {\"date_occurred\": \"2022-03-05\", \"incident_type\": \"Battles\", \"fatalities\": 82.0, \"cumsum\": 577.0}, {\"date_occurred\": \"2022-03-06\", \"incident_type\": \"Battles\", \"fatalities\": 64.0, \"cumsum\": 641.0}, {\"date_occurred\": \"2022-03-07\", \"incident_type\": \"Battles\", \"fatalities\": 104.0, \"cumsum\": 745.0}, {\"date_occurred\": \"2022-03-08\", \"incident_type\": \"Battles\", \"fatalities\": 109.0, \"cumsum\": 854.0}, {\"date_occurred\": \"2022-03-09\", \"incident_type\": \"Battles\", \"fatalities\": 40.0, \"cumsum\": 894.0}, {\"date_occurred\": \"2022-03-10\", \"incident_type\": \"Battles\", \"fatalities\": 22.0, \"cumsum\": 916.0}, {\"date_occurred\": \"2022-03-11\", \"incident_type\": \"Battles\", \"fatalities\": 10.0, \"cumsum\": 926.0}, {\"date_occurred\": \"2022-02-24\", \"incident_type\": \"Explosions/Remote violence\", \"fatalities\": 19.0, \"cumsum\": 19.0}, {\"date_occurred\": \"2022-02-25\", \"incident_type\": \"Explosions/Remote violence\", \"fatalities\": 13.0, \"cumsum\": 32.0}, {\"date_occurred\": \"2022-02-26\", \"incident_type\": \"Explosions/Remote violence\", \"fatalities\": 25.0, \"cumsum\": 57.0}, {\"date_occurred\": \"2022-02-27\", \"incident_type\": \"Explosions/Remote violence\", \"fatalities\": 13.0, \"cumsum\": 70.0}, {\"date_occurred\": \"2022-02-28\", \"incident_type\": \"Explosions/Remote violence\", \"fatalities\": 91.0, \"cumsum\": 161.0}, {\"date_occurred\": \"2022-03-01\", \"incident_type\": \"Explosions/Remote violence\", \"fatalities\": 67.0, \"cumsum\": 228.0}, {\"date_occurred\": \"2022-03-02\", \"incident_type\": \"Explosions/Remote violence\", \"fatalities\": 29.0, \"cumsum\": 257.0}, {\"date_occurred\": \"2022-03-03\", \"incident_type\": \"Explosions/Remote violence\", \"fatalities\": 68.0, \"cumsum\": 325.0}, {\"date_occurred\": \"2022-03-04\", \"incident_type\": \"Explosions/Remote violence\", \"fatalities\": 44.0, \"cumsum\": 369.0}, {\"date_occurred\": \"2022-03-05\", \"incident_type\": \"Explosions/Remote violence\", \"fatalities\": 27.0, \"cumsum\": 396.0}, {\"date_occurred\": \"2022-03-06\", \"incident_type\": \"Explosions/Remote violence\", \"fatalities\": 28.0, \"cumsum\": 424.0}, {\"date_occurred\": \"2022-03-07\", \"incident_type\": \"Explosions/Remote violence\", \"fatalities\": 25.0, \"cumsum\": 449.0}, {\"date_occurred\": \"2022-03-08\", \"incident_type\": \"Explosions/Remote violence\", \"fatalities\": 57.0, \"cumsum\": 506.0}, {\"date_occurred\": \"2022-03-09\", \"incident_type\": \"Explosions/Remote violence\", \"fatalities\": 35.0, \"cumsum\": 541.0}, {\"date_occurred\": \"2022-03-10\", \"incident_type\": \"Explosions/Remote violence\", \"fatalities\": 31.0, \"cumsum\": 572.0}, {\"date_occurred\": \"2022-03-11\", \"incident_type\": \"Explosions/Remote violence\", \"fatalities\": 27.0, \"cumsum\": 599.0}, {\"date_occurred\": \"2022-02-24\", \"incident_type\": \"Violence against civilians\", \"fatalities\": 8.0, \"cumsum\": 8.0}, {\"date_occurred\": \"2022-02-25\", \"incident_type\": \"Violence against civilians\", \"fatalities\": 3.0, \"cumsum\": 11.0}, {\"date_occurred\": \"2022-02-26\", \"incident_type\": \"Violence against civilians\", \"fatalities\": 5.0, \"cumsum\": 16.0}, {\"date_occurred\": \"2022-02-27\", \"incident_type\": \"Violence against civilians\", \"fatalities\": 16.0, \"cumsum\": 32.0}, {\"date_occurred\": \"2022-02-28\", \"incident_type\": \"Violence against civilians\", \"fatalities\": 10.0, \"cumsum\": 42.0}, {\"date_occurred\": \"2022-03-01\", \"incident_type\": \"Violence against civilians\", \"fatalities\": 5.0, \"cumsum\": 47.0}, {\"date_occurred\": \"2022-03-02\", \"incident_type\": \"Violence against civilians\", \"fatalities\": 3.0, \"cumsum\": 50.0}, {\"date_occurred\": \"2022-03-03\", \"incident_type\": \"Violence against civilians\", \"fatalities\": 3.0, \"cumsum\": 53.0}, {\"date_occurred\": \"2022-03-04\", \"incident_type\": \"Violence against civilians\", \"fatalities\": 4.0, \"cumsum\": 57.0}, {\"date_occurred\": \"2022-03-05\", \"incident_type\": \"Violence against civilians\", \"fatalities\": 5.0, \"cumsum\": 62.0}, {\"date_occurred\": \"2022-03-06\", \"incident_type\": \"Violence against civilians\", \"fatalities\": 5.0, \"cumsum\": 67.0}, {\"date_occurred\": \"2022-03-07\", \"incident_type\": \"Violence against civilians\", \"fatalities\": 5.0, \"cumsum\": 72.0}, {\"date_occurred\": \"2022-03-08\", \"incident_type\": \"Violence against civilians\", \"fatalities\": 3.0, \"cumsum\": 75.0}, {\"date_occurred\": \"2022-03-09\", \"incident_type\": \"Violence against civilians\", \"fatalities\": 10.0, \"cumsum\": 85.0}, {\"date_occurred\": \"2022-03-10\", \"incident_type\": \"Violence against civilians\", \"fatalities\": 6.0, \"cumsum\": 91.0}, {\"date_occurred\": \"2022-03-11\", \"incident_type\": \"Violence against civilians\", \"fatalities\": 0.0, \"cumsum\": 91.0}]}}, {\"mode\": \"vega-lite\"});\n",
       "</script>"
      ],
      "text/plain": [
       "alt.Chart(...)"
      ]
     },
     "execution_count": 14,
     "metadata": {},
     "output_type": "execute_result"
    }
   ],
   "source": [
    "alt.Chart(fatalities_df).mark_area().encode(\n",
    "    x=\"date_occurred:T\", y=\"fatalities:Q\", color=\"incident_type:N\"\n",
    ")"
   ]
  },
  {
   "cell_type": "markdown",
   "id": "e6399b4e-6e78-4134-bfce-8c6d3a7f1794",
   "metadata": {},
   "source": [
    "#### Try to make it cumulative"
   ]
  },
  {
   "cell_type": "code",
   "execution_count": 44,
   "id": "4442c70f-fd38-4405-ad26-3ea3448e9953",
   "metadata": {},
   "outputs": [
    {
     "data": {
      "text/html": [
       "\n",
       "<div id=\"altair-viz-d5ec637e7f6842beaacdd1459f0c88a6\"></div>\n",
       "<script type=\"text/javascript\">\n",
       "  var VEGA_DEBUG = (typeof VEGA_DEBUG == \"undefined\") ? {} : VEGA_DEBUG;\n",
       "  (function(spec, embedOpt){\n",
       "    let outputDiv = document.currentScript.previousElementSibling;\n",
       "    if (outputDiv.id !== \"altair-viz-d5ec637e7f6842beaacdd1459f0c88a6\") {\n",
       "      outputDiv = document.getElementById(\"altair-viz-d5ec637e7f6842beaacdd1459f0c88a6\");\n",
       "    }\n",
       "    const paths = {\n",
       "      \"vega\": \"https://cdn.jsdelivr.net/npm//vega@5?noext\",\n",
       "      \"vega-lib\": \"https://cdn.jsdelivr.net/npm//vega-lib?noext\",\n",
       "      \"vega-lite\": \"https://cdn.jsdelivr.net/npm//vega-lite@4.17.0?noext\",\n",
       "      \"vega-embed\": \"https://cdn.jsdelivr.net/npm//vega-embed@6?noext\",\n",
       "    };\n",
       "\n",
       "    function maybeLoadScript(lib, version) {\n",
       "      var key = `${lib.replace(\"-\", \"\")}_version`;\n",
       "      return (VEGA_DEBUG[key] == version) ?\n",
       "        Promise.resolve(paths[lib]) :\n",
       "        new Promise(function(resolve, reject) {\n",
       "          var s = document.createElement('script');\n",
       "          document.getElementsByTagName(\"head\")[0].appendChild(s);\n",
       "          s.async = true;\n",
       "          s.onload = () => {\n",
       "            VEGA_DEBUG[key] = version;\n",
       "            return resolve(paths[lib]);\n",
       "          };\n",
       "          s.onerror = () => reject(`Error loading script: ${paths[lib]}`);\n",
       "          s.src = paths[lib];\n",
       "        });\n",
       "    }\n",
       "\n",
       "    function showError(err) {\n",
       "      outputDiv.innerHTML = `<div class=\"error\" style=\"color:red;\">${err}</div>`;\n",
       "      throw err;\n",
       "    }\n",
       "\n",
       "    function displayChart(vegaEmbed) {\n",
       "      vegaEmbed(outputDiv, spec, embedOpt)\n",
       "        .catch(err => showError(`Javascript Error: ${err.message}<br>This usually means there's a typo in your chart specification. See the javascript console for the full traceback.`));\n",
       "    }\n",
       "\n",
       "    if(typeof define === \"function\" && define.amd) {\n",
       "      requirejs.config({paths});\n",
       "      require([\"vega-embed\"], displayChart, err => showError(`Error loading script: ${err.message}`));\n",
       "    } else {\n",
       "      maybeLoadScript(\"vega\", \"5\")\n",
       "        .then(() => maybeLoadScript(\"vega-lite\", \"4.17.0\"))\n",
       "        .then(() => maybeLoadScript(\"vega-embed\", \"6\"))\n",
       "        .catch(showError)\n",
       "        .then(() => displayChart(vegaEmbed));\n",
       "    }\n",
       "  })({\"config\": {\"view\": {\"continuousWidth\": 400, \"continuousHeight\": 300}}, \"data\": {\"name\": \"data-aa57da395c6c98fca7a98ebabfadb92e\"}, \"mark\": \"area\", \"encoding\": {\"color\": {\"field\": \"incident_type\", \"type\": \"nominal\"}, \"x\": {\"field\": \"date_occurred\", \"type\": \"temporal\"}, \"y\": {\"field\": \"cumsum\", \"type\": \"quantitative\"}}, \"$schema\": \"https://vega.github.io/schema/vega-lite/v4.17.0.json\", \"datasets\": {\"data-aa57da395c6c98fca7a98ebabfadb92e\": [{\"date_occurred\": \"2022-02-24\", \"incident_type\": \"Battles\", \"fatalities\": 51.0, \"cumsum\": 51.0}, {\"date_occurred\": \"2022-02-25\", \"incident_type\": \"Battles\", \"fatalities\": 19.0, \"cumsum\": 70.0}, {\"date_occurred\": \"2022-02-26\", \"incident_type\": \"Battles\", \"fatalities\": 53.0, \"cumsum\": 123.0}, {\"date_occurred\": \"2022-02-27\", \"incident_type\": \"Battles\", \"fatalities\": 30.0, \"cumsum\": 153.0}, {\"date_occurred\": \"2022-02-28\", \"incident_type\": \"Battles\", \"fatalities\": 14.0, \"cumsum\": 167.0}, {\"date_occurred\": \"2022-03-01\", \"incident_type\": \"Battles\", \"fatalities\": 12.0, \"cumsum\": 179.0}, {\"date_occurred\": \"2022-03-02\", \"incident_type\": \"Battles\", \"fatalities\": 235.0, \"cumsum\": 414.0}, {\"date_occurred\": \"2022-03-03\", \"incident_type\": \"Battles\", \"fatalities\": 53.0, \"cumsum\": 467.0}, {\"date_occurred\": \"2022-03-04\", \"incident_type\": \"Battles\", \"fatalities\": 28.0, \"cumsum\": 495.0}, {\"date_occurred\": \"2022-03-05\", \"incident_type\": \"Battles\", \"fatalities\": 82.0, \"cumsum\": 577.0}, {\"date_occurred\": \"2022-03-06\", \"incident_type\": \"Battles\", \"fatalities\": 64.0, \"cumsum\": 641.0}, {\"date_occurred\": \"2022-03-07\", \"incident_type\": \"Battles\", \"fatalities\": 104.0, \"cumsum\": 745.0}, {\"date_occurred\": \"2022-03-08\", \"incident_type\": \"Battles\", \"fatalities\": 109.0, \"cumsum\": 854.0}, {\"date_occurred\": \"2022-03-09\", \"incident_type\": \"Battles\", \"fatalities\": 40.0, \"cumsum\": 894.0}, {\"date_occurred\": \"2022-03-10\", \"incident_type\": \"Battles\", \"fatalities\": 22.0, \"cumsum\": 916.0}, {\"date_occurred\": \"2022-03-11\", \"incident_type\": \"Battles\", \"fatalities\": 10.0, \"cumsum\": 926.0}, {\"date_occurred\": \"2022-02-24\", \"incident_type\": \"Explosions/Remote violence\", \"fatalities\": 19.0, \"cumsum\": 19.0}, {\"date_occurred\": \"2022-02-25\", \"incident_type\": \"Explosions/Remote violence\", \"fatalities\": 13.0, \"cumsum\": 32.0}, {\"date_occurred\": \"2022-02-26\", \"incident_type\": \"Explosions/Remote violence\", \"fatalities\": 25.0, \"cumsum\": 57.0}, {\"date_occurred\": \"2022-02-27\", \"incident_type\": \"Explosions/Remote violence\", \"fatalities\": 13.0, \"cumsum\": 70.0}, {\"date_occurred\": \"2022-02-28\", \"incident_type\": \"Explosions/Remote violence\", \"fatalities\": 91.0, \"cumsum\": 161.0}, {\"date_occurred\": \"2022-03-01\", \"incident_type\": \"Explosions/Remote violence\", \"fatalities\": 67.0, \"cumsum\": 228.0}, {\"date_occurred\": \"2022-03-02\", \"incident_type\": \"Explosions/Remote violence\", \"fatalities\": 29.0, \"cumsum\": 257.0}, {\"date_occurred\": \"2022-03-03\", \"incident_type\": \"Explosions/Remote violence\", \"fatalities\": 68.0, \"cumsum\": 325.0}, {\"date_occurred\": \"2022-03-04\", \"incident_type\": \"Explosions/Remote violence\", \"fatalities\": 44.0, \"cumsum\": 369.0}, {\"date_occurred\": \"2022-03-05\", \"incident_type\": \"Explosions/Remote violence\", \"fatalities\": 27.0, \"cumsum\": 396.0}, {\"date_occurred\": \"2022-03-06\", \"incident_type\": \"Explosions/Remote violence\", \"fatalities\": 28.0, \"cumsum\": 424.0}, {\"date_occurred\": \"2022-03-07\", \"incident_type\": \"Explosions/Remote violence\", \"fatalities\": 25.0, \"cumsum\": 449.0}, {\"date_occurred\": \"2022-03-08\", \"incident_type\": \"Explosions/Remote violence\", \"fatalities\": 57.0, \"cumsum\": 506.0}, {\"date_occurred\": \"2022-03-09\", \"incident_type\": \"Explosions/Remote violence\", \"fatalities\": 35.0, \"cumsum\": 541.0}, {\"date_occurred\": \"2022-03-10\", \"incident_type\": \"Explosions/Remote violence\", \"fatalities\": 31.0, \"cumsum\": 572.0}, {\"date_occurred\": \"2022-03-11\", \"incident_type\": \"Explosions/Remote violence\", \"fatalities\": 27.0, \"cumsum\": 599.0}, {\"date_occurred\": \"2022-02-24\", \"incident_type\": \"Violence against civilians\", \"fatalities\": 8.0, \"cumsum\": 8.0}, {\"date_occurred\": \"2022-02-25\", \"incident_type\": \"Violence against civilians\", \"fatalities\": 3.0, \"cumsum\": 11.0}, {\"date_occurred\": \"2022-02-26\", \"incident_type\": \"Violence against civilians\", \"fatalities\": 5.0, \"cumsum\": 16.0}, {\"date_occurred\": \"2022-02-27\", \"incident_type\": \"Violence against civilians\", \"fatalities\": 16.0, \"cumsum\": 32.0}, {\"date_occurred\": \"2022-02-28\", \"incident_type\": \"Violence against civilians\", \"fatalities\": 10.0, \"cumsum\": 42.0}, {\"date_occurred\": \"2022-03-01\", \"incident_type\": \"Violence against civilians\", \"fatalities\": 5.0, \"cumsum\": 47.0}, {\"date_occurred\": \"2022-03-02\", \"incident_type\": \"Violence against civilians\", \"fatalities\": 3.0, \"cumsum\": 50.0}, {\"date_occurred\": \"2022-03-03\", \"incident_type\": \"Violence against civilians\", \"fatalities\": 3.0, \"cumsum\": 53.0}, {\"date_occurred\": \"2022-03-04\", \"incident_type\": \"Violence against civilians\", \"fatalities\": 4.0, \"cumsum\": 57.0}, {\"date_occurred\": \"2022-03-05\", \"incident_type\": \"Violence against civilians\", \"fatalities\": 5.0, \"cumsum\": 62.0}, {\"date_occurred\": \"2022-03-06\", \"incident_type\": \"Violence against civilians\", \"fatalities\": 5.0, \"cumsum\": 67.0}, {\"date_occurred\": \"2022-03-07\", \"incident_type\": \"Violence against civilians\", \"fatalities\": 5.0, \"cumsum\": 72.0}, {\"date_occurred\": \"2022-03-08\", \"incident_type\": \"Violence against civilians\", \"fatalities\": 3.0, \"cumsum\": 75.0}, {\"date_occurred\": \"2022-03-09\", \"incident_type\": \"Violence against civilians\", \"fatalities\": 10.0, \"cumsum\": 85.0}, {\"date_occurred\": \"2022-03-10\", \"incident_type\": \"Violence against civilians\", \"fatalities\": 6.0, \"cumsum\": 91.0}, {\"date_occurred\": \"2022-03-11\", \"incident_type\": \"Violence against civilians\", \"fatalities\": 0.0, \"cumsum\": 91.0}]}}, {\"mode\": \"vega-lite\"});\n",
       "</script>"
      ],
      "text/plain": [
       "alt.Chart(...)"
      ]
     },
     "execution_count": 44,
     "metadata": {},
     "output_type": "execute_result"
    }
   ],
   "source": [
    "alt.Chart(fatalities_df).mark_area().encode(\n",
    "    x=\"date_occurred:T\", y=\"cumsum:Q\", color=\"incident_type:N\"\n",
    ")"
   ]
  },
  {
   "cell_type": "markdown",
   "id": "2c3bd0ee-a244-4ff8-bb72-9c66612b28ce",
   "metadata": {},
   "source": [
    "---"
   ]
  },
  {
   "cell_type": "markdown",
   "id": "36be8e1a-d3ba-480f-bda8-8d6b8e5794f6",
   "metadata": {},
   "source": [
    "#### Clean up the refugees column chart"
   ]
  },
  {
   "cell_type": "code",
   "execution_count": 50,
   "id": "407baf00-f504-4cf6-be8f-7f6ed4735453",
   "metadata": {},
   "outputs": [
    {
     "ename": "SyntaxError",
     "evalue": "invalid syntax (4200762997.py, line 2)",
     "output_type": "error",
     "traceback": [
      "\u001b[0;36m  File \u001b[0;32m\"/var/folders/5b/smq_znkx27b9y48mcssz7tkw0000gn/T/ipykernel_31305/4200762997.py\"\u001b[0;36m, line \u001b[0;32m2\u001b[0m\n\u001b[0;31m    x=alt.X(\"date:T\", axis_alt.Axis(format=\"%b. %-d\", grid=False), title \"\"\u001b[0m\n\u001b[0m                                                                         ^\u001b[0m\n\u001b[0;31mSyntaxError\u001b[0m\u001b[0;31m:\u001b[0m invalid syntax\n"
     ]
    },
    {
     "name": "stderr",
     "output_type": "stream",
     "text": [
      "ERROR:root:Cannot parse: 2:73:     x=alt.X(\"date:T\", axis_alt.Axis(format=\"%b. %-d\", grid=False), title \"\"\n",
      "Traceback (most recent call last):\n",
      "  File \"/Users/torihates_u/opt/anaconda3/lib/python3.9/site-packages/lab_black.py\", line 218, in format_cell\n",
      "    formatted_code = _format_code(cell)\n",
      "  File \"/Users/torihates_u/opt/anaconda3/lib/python3.9/site-packages/lab_black.py\", line 29, in _format_code\n",
      "    return format_str(src_contents=code, mode=FileMode())\n",
      "  File \"/Users/torihates_u/opt/anaconda3/lib/python3.9/site-packages/black.py\", line 725, in format_str\n",
      "    src_node = lib2to3_parse(src_contents.lstrip(), mode.target_versions)\n",
      "  File \"/Users/torihates_u/opt/anaconda3/lib/python3.9/site-packages/black.py\", line 836, in lib2to3_parse\n",
      "    raise exc from None\n",
      "black.InvalidInput: Cannot parse: 2:73:     x=alt.X(\"date:T\", axis_alt.Axis(format=\"%b. %-d\", grid=False), title \"\"\n"
     ]
    }
   ],
   "source": [
    "alt.Chart(refugees).mark_bar(color=\"red\", size=10).encode(\n",
    "    x=alt.X(\"date:T\", axis_alt.Axis(format=\"%b. %-d\", grid=False), title \"\"\n",
    "    y=alt.Y(\"affected_refugees\", title=\"Number of refugees\"\n",
    ").properties(\n",
    "    width=380, height=300, title=\"Daily refugees fleeing Ukraine since Russia invasion\"\n",
    ").configure_view(\n",
    "    stroke0pacity=0\n",
    ")"
   ]
  },
  {
   "cell_type": "markdown",
   "id": "61e9ba00-55f8-496c-9138-fa091f9a3b5f",
   "metadata": {},
   "source": [
    "#### Facet charts for the fatalities"
   ]
  },
  {
   "cell_type": "code",
   "execution_count": 52,
   "id": "4ebc6c79-66ec-4509-9414-8e533495903f",
   "metadata": {},
   "outputs": [
    {
     "ename": "SchemaValidationError",
     "evalue": "Invalid specification\n\n        altair.vegalite.v4.api.Chart, validating 'additionalProperties'\n\n        Additional properties are not allowed ('hright' was unexpected)\n        ",
     "output_type": "error",
     "traceback": [
      "\u001b[0;31m---------------------------------------------------------------------------\u001b[0m",
      "\u001b[0;31mSchemaValidationError\u001b[0m                     Traceback (most recent call last)",
      "\u001b[0;32m~/opt/anaconda3/lib/python3.9/site-packages/altair/vegalite/v4/api.py\u001b[0m in \u001b[0;36mto_dict\u001b[0;34m(self, *args, **kwargs)\u001b[0m\n\u001b[1;32m   2018\u001b[0m             \u001b[0mcopy\u001b[0m\u001b[0;34m.\u001b[0m\u001b[0mdata\u001b[0m \u001b[0;34m=\u001b[0m \u001b[0mcore\u001b[0m\u001b[0;34m.\u001b[0m\u001b[0mInlineData\u001b[0m\u001b[0;34m(\u001b[0m\u001b[0mvalues\u001b[0m\u001b[0;34m=\u001b[0m\u001b[0;34m[\u001b[0m\u001b[0;34m{\u001b[0m\u001b[0;34m}\u001b[0m\u001b[0;34m]\u001b[0m\u001b[0;34m)\u001b[0m\u001b[0;34m\u001b[0m\u001b[0;34m\u001b[0m\u001b[0m\n\u001b[1;32m   2019\u001b[0m             \u001b[0;32mreturn\u001b[0m \u001b[0msuper\u001b[0m\u001b[0;34m(\u001b[0m\u001b[0mChart\u001b[0m\u001b[0;34m,\u001b[0m \u001b[0mcopy\u001b[0m\u001b[0;34m)\u001b[0m\u001b[0;34m.\u001b[0m\u001b[0mto_dict\u001b[0m\u001b[0;34m(\u001b[0m\u001b[0;34m*\u001b[0m\u001b[0margs\u001b[0m\u001b[0;34m,\u001b[0m \u001b[0;34m**\u001b[0m\u001b[0mkwargs\u001b[0m\u001b[0;34m)\u001b[0m\u001b[0;34m\u001b[0m\u001b[0;34m\u001b[0m\u001b[0m\n\u001b[0;32m-> 2020\u001b[0;31m         \u001b[0;32mreturn\u001b[0m \u001b[0msuper\u001b[0m\u001b[0;34m(\u001b[0m\u001b[0;34m)\u001b[0m\u001b[0;34m.\u001b[0m\u001b[0mto_dict\u001b[0m\u001b[0;34m(\u001b[0m\u001b[0;34m*\u001b[0m\u001b[0margs\u001b[0m\u001b[0;34m,\u001b[0m \u001b[0;34m**\u001b[0m\u001b[0mkwargs\u001b[0m\u001b[0;34m)\u001b[0m\u001b[0;34m\u001b[0m\u001b[0;34m\u001b[0m\u001b[0m\n\u001b[0m\u001b[1;32m   2021\u001b[0m \u001b[0;34m\u001b[0m\u001b[0m\n\u001b[1;32m   2022\u001b[0m     \u001b[0;32mdef\u001b[0m \u001b[0madd_selection\u001b[0m\u001b[0;34m(\u001b[0m\u001b[0mself\u001b[0m\u001b[0;34m,\u001b[0m \u001b[0;34m*\u001b[0m\u001b[0mselections\u001b[0m\u001b[0;34m)\u001b[0m\u001b[0;34m:\u001b[0m\u001b[0;34m\u001b[0m\u001b[0;34m\u001b[0m\u001b[0m\n",
      "\u001b[0;32m~/opt/anaconda3/lib/python3.9/site-packages/altair/vegalite/v4/api.py\u001b[0m in \u001b[0;36mto_dict\u001b[0;34m(self, *args, **kwargs)\u001b[0m\n\u001b[1;32m    391\u001b[0m         \u001b[0;32mif\u001b[0m \u001b[0mdct\u001b[0m \u001b[0;32mis\u001b[0m \u001b[0;32mNone\u001b[0m\u001b[0;34m:\u001b[0m\u001b[0;34m\u001b[0m\u001b[0;34m\u001b[0m\u001b[0m\n\u001b[1;32m    392\u001b[0m             \u001b[0mkwargs\u001b[0m\u001b[0;34m[\u001b[0m\u001b[0;34m\"validate\"\u001b[0m\u001b[0;34m]\u001b[0m \u001b[0;34m=\u001b[0m \u001b[0;34m\"deep\"\u001b[0m\u001b[0;34m\u001b[0m\u001b[0;34m\u001b[0m\u001b[0m\n\u001b[0;32m--> 393\u001b[0;31m             \u001b[0mdct\u001b[0m \u001b[0;34m=\u001b[0m \u001b[0msuper\u001b[0m\u001b[0;34m(\u001b[0m\u001b[0mTopLevelMixin\u001b[0m\u001b[0;34m,\u001b[0m \u001b[0mcopy\u001b[0m\u001b[0;34m)\u001b[0m\u001b[0;34m.\u001b[0m\u001b[0mto_dict\u001b[0m\u001b[0;34m(\u001b[0m\u001b[0;34m*\u001b[0m\u001b[0margs\u001b[0m\u001b[0;34m,\u001b[0m \u001b[0;34m**\u001b[0m\u001b[0mkwargs\u001b[0m\u001b[0;34m)\u001b[0m\u001b[0;34m\u001b[0m\u001b[0;34m\u001b[0m\u001b[0m\n\u001b[0m\u001b[1;32m    394\u001b[0m \u001b[0;34m\u001b[0m\u001b[0m\n\u001b[1;32m    395\u001b[0m         \u001b[0;31m# TODO: following entries are added after validation. Should they be validated?\u001b[0m\u001b[0;34m\u001b[0m\u001b[0;34m\u001b[0m\u001b[0m\n",
      "\u001b[0;32m~/opt/anaconda3/lib/python3.9/site-packages/altair/utils/schemapi.py\u001b[0m in \u001b[0;36mto_dict\u001b[0;34m(self, validate, ignore, context)\u001b[0m\n\u001b[1;32m    338\u001b[0m                 \u001b[0mself\u001b[0m\u001b[0;34m.\u001b[0m\u001b[0mvalidate\u001b[0m\u001b[0;34m(\u001b[0m\u001b[0mresult\u001b[0m\u001b[0;34m)\u001b[0m\u001b[0;34m\u001b[0m\u001b[0;34m\u001b[0m\u001b[0m\n\u001b[1;32m    339\u001b[0m             \u001b[0;32mexcept\u001b[0m \u001b[0mjsonschema\u001b[0m\u001b[0;34m.\u001b[0m\u001b[0mValidationError\u001b[0m \u001b[0;32mas\u001b[0m \u001b[0merr\u001b[0m\u001b[0;34m:\u001b[0m\u001b[0;34m\u001b[0m\u001b[0;34m\u001b[0m\u001b[0m\n\u001b[0;32m--> 340\u001b[0;31m                 \u001b[0;32mraise\u001b[0m \u001b[0mSchemaValidationError\u001b[0m\u001b[0;34m(\u001b[0m\u001b[0mself\u001b[0m\u001b[0;34m,\u001b[0m \u001b[0merr\u001b[0m\u001b[0;34m)\u001b[0m\u001b[0;34m\u001b[0m\u001b[0;34m\u001b[0m\u001b[0m\n\u001b[0m\u001b[1;32m    341\u001b[0m         \u001b[0;32mreturn\u001b[0m \u001b[0mresult\u001b[0m\u001b[0;34m\u001b[0m\u001b[0;34m\u001b[0m\u001b[0m\n\u001b[1;32m    342\u001b[0m \u001b[0;34m\u001b[0m\u001b[0m\n",
      "\u001b[0;31mSchemaValidationError\u001b[0m: Invalid specification\n\n        altair.vegalite.v4.api.Chart, validating 'additionalProperties'\n\n        Additional properties are not allowed ('hright' was unexpected)\n        "
     ]
    },
    {
     "data": {
      "text/plain": [
       "alt.Chart(...)"
      ]
     },
     "execution_count": 52,
     "metadata": {},
     "output_type": "execute_result"
    }
   ],
   "source": [
    "alt.Chart(fatalities_df).mark_area().encode(\n",
    "    x=\"date_occurred:T\", y=\"cumsum:Q\", color=\"incident_type:N\", facet=\"incident_type\"\n",
    ").properties(width=250, hright=250)"
   ]
  },
  {
   "cell_type": "code",
   "execution_count": null,
   "id": "6c5f9254-2ed8-4d84-b36f-9bcb96d7efb1",
   "metadata": {},
   "outputs": [],
   "source": []
  }
 ],
 "metadata": {
  "kernelspec": {
   "display_name": "Python 3 (ipykernel)",
   "language": "python",
   "name": "python3"
  },
  "language_info": {
   "codemirror_mode": {
    "name": "ipython",
    "version": 3
   },
   "file_extension": ".py",
   "mimetype": "text/x-python",
   "name": "python",
   "nbconvert_exporter": "python",
   "pygments_lexer": "ipython3",
   "version": "3.9.7"
  }
 },
 "nbformat": 4,
 "nbformat_minor": 5
}
