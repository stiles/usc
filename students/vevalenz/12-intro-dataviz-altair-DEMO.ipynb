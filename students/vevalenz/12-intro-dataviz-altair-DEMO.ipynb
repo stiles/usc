{
 "cells": [
  {
   "cell_type": "markdown",
   "id": "cf543214-f1e4-46f5-a4ca-0641e43e455f",
   "metadata": {},
   "source": [
    "# Intro to Altair: Explore Ukraine Data"
   ]
  },
  {
   "cell_type": "markdown",
   "id": "55bfd150-db12-4b78-a578-6ec8d99a90ed",
   "metadata": {},
   "source": [
    "Altair offers a powerful and concise visualization tool that enables you to build a wide range of statistical visualizations quickly. Read the [docs](https://altair-viz.github.io/) and [example gallery](https://altair-viz.github.io/gallery/index.html). "
   ]
  },
  {
   "cell_type": "markdown",
   "id": "ece5a4d3-be58-4d94-9736-5e9d10a41ba9",
   "metadata": {},
   "source": [
    "#### Load python tools"
   ]
  },
  {
   "cell_type": "code",
   "execution_count": 1,
   "id": "2594907b-7dfe-4e1f-9406-771e53069144",
   "metadata": {},
   "outputs": [],
   "source": [
    "%load_ext lab_black"
   ]
  },
  {
   "cell_type": "code",
   "execution_count": 2,
   "id": "79d6a049-e959-496c-932e-84a3155858e1",
   "metadata": {},
   "outputs": [],
   "source": [
    "import pandas as pd\n",
    "import altair as alt"
   ]
  },
  {
   "cell_type": "code",
   "execution_count": 3,
   "id": "c09bfa5f-474a-40ea-abcc-a5e7787e501c",
   "metadata": {},
   "outputs": [],
   "source": [
    "pd.options.display.max_columns = 1000\n",
    "pd.options.display.max_rows = 1000"
   ]
  },
  {
   "cell_type": "markdown",
   "id": "6e8fe962-7c4f-413c-890e-97fc70adb134",
   "metadata": {},
   "source": [
    "---"
   ]
  },
  {
   "cell_type": "markdown",
   "id": "70ecb6a0-9667-4466-a79d-588c90977256",
   "metadata": {},
   "source": [
    "### Ukranian refugees count since the war began"
   ]
  },
  {
   "cell_type": "markdown",
   "id": "891b977b-27ee-480a-a82a-57bcab138549",
   "metadata": {},
   "source": [
    "Source: [Humanitarian Data Exchange](https://data.humdata.org/visualization/ukraine-humanitarian-operations/)"
   ]
  },
  {
   "cell_type": "code",
   "execution_count": 4,
   "id": "2448d096-66e9-445a-af43-3b077a8f43f8",
   "metadata": {},
   "outputs": [],
   "source": [
    "refugees = pd.read_csv(\n",
    "    \"https://raw.githubusercontent.com/stiles/usc/main/data/processed/ukraine_refugees_series_data.csv\"\n",
    ")"
   ]
  },
  {
   "cell_type": "code",
   "execution_count": null,
   "id": "5ccc9ae0-d1ac-4ba9-92c3-cfe85435e1be",
   "metadata": {},
   "outputs": [],
   "source": []
  },
  {
   "cell_type": "markdown",
   "id": "bbc060bb-1514-4094-8e63-7154e442c9be",
   "metadata": {},
   "source": [
    "#### Build a [line chart](https://altair-viz.github.io/gallery/simple_line_chart.html) showing the refugees by day"
   ]
  },
  {
   "cell_type": "code",
   "execution_count": null,
   "id": "0fd5a3c8-8ece-4720-b5dd-46492346dd0f",
   "metadata": {},
   "outputs": [],
   "source": []
  },
  {
   "cell_type": "markdown",
   "id": "baa05906-54ce-426a-9061-10390b4b52f9",
   "metadata": {},
   "source": [
    "#### Add more features: color, line width, title, size"
   ]
  },
  {
   "cell_type": "code",
   "execution_count": null,
   "id": "867dd009-6202-47bc-b509-e2b25ee25d77",
   "metadata": {},
   "outputs": [],
   "source": []
  },
  {
   "cell_type": "markdown",
   "id": "b6922dc5-0a48-4407-bf79-adf3e4849754",
   "metadata": {},
   "source": [
    "#### Try it as a column chart"
   ]
  },
  {
   "cell_type": "code",
   "execution_count": null,
   "id": "03651644-0dd2-4bed-8987-24aad9e4b5a7",
   "metadata": {},
   "outputs": [],
   "source": []
  },
  {
   "cell_type": "markdown",
   "id": "6dc2184e-4e81-4eb2-a12e-d9ce7f79b342",
   "metadata": {},
   "source": [
    "---"
   ]
  },
  {
   "cell_type": "markdown",
   "id": "2ce673fe-339d-4946-a4d8-991b2837efe7",
   "metadata": {},
   "source": [
    "#### Read fatalities data"
   ]
  },
  {
   "cell_type": "code",
   "execution_count": 5,
   "id": "f7d6c50d-eb7d-4d9e-8822-9b291cd652a1",
   "metadata": {},
   "outputs": [],
   "source": [
    "fatalities_df = pd.read_csv(\n",
    "    \"https://raw.githubusercontent.com/stiles/usc/main/data/processed/ukraine_incidents_fatalities_types_melted.csv\"\n",
    ")"
   ]
  },
  {
   "cell_type": "code",
   "execution_count": null,
   "id": "f639785a-ef94-4b04-9832-99b18ad00fb4",
   "metadata": {},
   "outputs": [],
   "source": []
  },
  {
   "cell_type": "markdown",
   "id": "a57ccad0-deca-4260-9f6e-970f18aa8b80",
   "metadata": {},
   "source": [
    "#### Group to count the number of fatalities by type"
   ]
  },
  {
   "cell_type": "code",
   "execution_count": null,
   "id": "10f4e6b1-17cb-4303-a919-2f3d6992beec",
   "metadata": {},
   "outputs": [],
   "source": []
  },
  {
   "cell_type": "code",
   "execution_count": null,
   "id": "339d7e0d-addd-4946-94a3-ffc553ab1bfb",
   "metadata": {},
   "outputs": [],
   "source": []
  },
  {
   "cell_type": "code",
   "execution_count": null,
   "id": "38b2c47d-2cce-43d0-963b-42a8aa7cf40a",
   "metadata": {},
   "outputs": [],
   "source": []
  },
  {
   "cell_type": "markdown",
   "id": "fe2e62f6-dcac-4243-ba03-77052f39797a",
   "metadata": {},
   "source": [
    "#### Build a [stacked area chart](https://altair-viz.github.io/gallery/simple_stacked_area_chart.html) with fatalities data"
   ]
  },
  {
   "cell_type": "code",
   "execution_count": null,
   "id": "f642d2d3-452a-4424-822c-f7544891c15d",
   "metadata": {},
   "outputs": [],
   "source": []
  },
  {
   "cell_type": "markdown",
   "id": "e6399b4e-6e78-4134-bfce-8c6d3a7f1794",
   "metadata": {},
   "source": [
    "#### Try to make it cumulative"
   ]
  },
  {
   "cell_type": "code",
   "execution_count": null,
   "id": "4442c70f-fd38-4405-ad26-3ea3448e9953",
   "metadata": {},
   "outputs": [],
   "source": []
  },
  {
   "cell_type": "markdown",
   "id": "2c3bd0ee-a244-4ff8-bb72-9c66612b28ce",
   "metadata": {},
   "source": [
    "---"
   ]
  },
  {
   "cell_type": "markdown",
   "id": "36be8e1a-d3ba-480f-bda8-8d6b8e5794f6",
   "metadata": {},
   "source": [
    "#### Clean up the refugees column chart"
   ]
  },
  {
   "cell_type": "code",
   "execution_count": null,
   "id": "407baf00-f504-4cf6-be8f-7f6ed4735453",
   "metadata": {},
   "outputs": [],
   "source": []
  },
  {
   "cell_type": "markdown",
   "id": "61e9ba00-55f8-496c-9138-fa091f9a3b5f",
   "metadata": {},
   "source": [
    "#### Facet charts for the fatalities"
   ]
  },
  {
   "cell_type": "code",
   "execution_count": null,
   "id": "4ebc6c79-66ec-4509-9414-8e533495903f",
   "metadata": {},
   "outputs": [],
   "source": []
  }
 ],
 "metadata": {
  "kernelspec": {
   "display_name": "Python 3",
   "language": "python",
   "name": "python3"
  },
  "language_info": {
   "codemirror_mode": {
    "name": "ipython",
    "version": 3
   },
   "file_extension": ".py",
   "mimetype": "text/x-python",
   "name": "python",
   "nbconvert_exporter": "python",
   "pygments_lexer": "ipython3",
   "version": "3.8.8"
  }
 },
 "nbformat": 4,
 "nbformat_minor": 5
}
