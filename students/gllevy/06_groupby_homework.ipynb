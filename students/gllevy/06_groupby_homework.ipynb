{
 "cells": [
  {
   "cell_type": "markdown",
   "id": "564e3285-652b-46c8-9148-15d6b4895ad9",
   "metadata": {},
   "source": [
    "# Groupby: Candy!\n",
    "Use this method when you want to collapse a dataframe by a categorical column and run an aggregation. For example, if you had a list of candy consumed and wanted to look at the total caleries by brand or type. Let's look."
   ]
  },
  {
   "cell_type": "markdown",
   "id": "b33ad272-23b8-45d3-99e3-b006192bee92",
   "metadata": {},
   "source": [
    "#### Load python tools"
   ]
  },
  {
   "cell_type": "code",
   "execution_count": 65,
   "id": "b22b7261-fe68-4445-bf94-82a506fa5018",
   "metadata": {},
   "outputs": [],
   "source": [
    "import pandas as pd"
   ]
  },
  {
   "cell_type": "markdown",
   "id": "e80cc819-8cc4-4587-8e04-959ea605e1ef",
   "metadata": {},
   "source": [
    "#### Read our candy dataset"
   ]
  },
  {
   "cell_type": "code",
   "execution_count": 66,
   "id": "0ddbbb65-b276-4a35-b770-c2729fb07b05",
   "metadata": {},
   "outputs": [],
   "source": [
    "# CSV from here: Total_and_Affordable_Housing_Units.csv"
   ]
  },
  {
   "cell_type": "code",
   "execution_count": 67,
   "id": "08cc99c1-1fd7-48bd-a8c0-f3195cb67457",
   "metadata": {},
   "outputs": [],
   "source": [
    "url = \"https://data.lacity.org/Housing-and-Real-Estate/Total-and-Affordable-Housing-Units/rckt-8prm/data\""
   ]
  },
  {
   "cell_type": "markdown",
   "id": "ee6636f5-5318-49ba-aad2-87c1942c70d2",
   "metadata": {},
   "source": [
    "#### Read the data"
   ]
  },
  {
   "cell_type": "code",
   "execution_count": 68,
   "id": "6d8fffaa-b731-44be-b01d-5172cc9395bd",
   "metadata": {},
   "outputs": [],
   "source": [
    "df = pd.read_csv('Total_and_Affordable_Housing_Units.csv')"
   ]
  },
  {
   "cell_type": "markdown",
   "id": "17197d66-25ab-49a8-ac7a-f565bc1bd4d7",
   "metadata": {},
   "source": [
    "#### First five rows"
   ]
  },
  {
   "cell_type": "code",
   "execution_count": 69,
   "id": "72c0a236-de6c-4810-b32f-80361aa74b7b",
   "metadata": {},
   "outputs": [
    {
     "data": {
      "text/html": [
       "<div>\n",
       "<style scoped>\n",
       "    .dataframe tbody tr th:only-of-type {\n",
       "        vertical-align: middle;\n",
       "    }\n",
       "\n",
       "    .dataframe tbody tr th {\n",
       "        vertical-align: top;\n",
       "    }\n",
       "\n",
       "    .dataframe thead th {\n",
       "        text-align: right;\n",
       "    }\n",
       "</style>\n",
       "<table border=\"1\" class=\"dataframe\">\n",
       "  <thead>\n",
       "    <tr style=\"text-align: right;\">\n",
       "      <th></th>\n",
       "      <th>Fiscal Year</th>\n",
       "      <th>Quarter</th>\n",
       "      <th>New Housing Units</th>\n",
       "      <th>Cumulative New Housing Units</th>\n",
       "      <th>New Affordable Units Financed by HCIDLA (with  new construction, rehab, &amp; tax credit)</th>\n",
       "      <th>Affordable Units Preserved</th>\n",
       "      <th>Affordable Units Produced w/ Land Use Incentives</th>\n",
       "      <th>First-Time Homebuyer Program Loans Closed</th>\n",
       "      <th>Other Affordable Units (Includes County/State Financed)</th>\n",
       "      <th>Affordable Units Recapitalized</th>\n",
       "      <th>Total Affordable Housing</th>\n",
       "      <th>Cumulative Affordable Housing</th>\n",
       "    </tr>\n",
       "  </thead>\n",
       "  <tbody>\n",
       "    <tr>\n",
       "      <th>0</th>\n",
       "      <td>2013-2014</td>\n",
       "      <td>Q4</td>\n",
       "      <td>3146</td>\n",
       "      <td>11035.0</td>\n",
       "      <td>211</td>\n",
       "      <td>79</td>\n",
       "      <td>42</td>\n",
       "      <td>31</td>\n",
       "      <td>154</td>\n",
       "      <td>0</td>\n",
       "      <td>517</td>\n",
       "      <td>2324</td>\n",
       "    </tr>\n",
       "    <tr>\n",
       "      <th>1</th>\n",
       "      <td>2016-2017</td>\n",
       "      <td>Q3</td>\n",
       "      <td>3850</td>\n",
       "      <td>NaN</td>\n",
       "      <td>21</td>\n",
       "      <td>181</td>\n",
       "      <td>135</td>\n",
       "      <td>21</td>\n",
       "      <td>0</td>\n",
       "      <td>0</td>\n",
       "      <td>358</td>\n",
       "      <td>7040</td>\n",
       "    </tr>\n",
       "    <tr>\n",
       "      <th>2</th>\n",
       "      <td>2015-2016</td>\n",
       "      <td>Q2</td>\n",
       "      <td>4523</td>\n",
       "      <td>34271.0</td>\n",
       "      <td>134</td>\n",
       "      <td>0</td>\n",
       "      <td>98</td>\n",
       "      <td>36</td>\n",
       "      <td>77</td>\n",
       "      <td>112</td>\n",
       "      <td>345</td>\n",
       "      <td>4669</td>\n",
       "    </tr>\n",
       "    <tr>\n",
       "      <th>3</th>\n",
       "      <td>2016-2017</td>\n",
       "      <td>Q1</td>\n",
       "      <td>5359</td>\n",
       "      <td>46164.0</td>\n",
       "      <td>337</td>\n",
       "      <td>153</td>\n",
       "      <td>103</td>\n",
       "      <td>17</td>\n",
       "      <td>0</td>\n",
       "      <td>0</td>\n",
       "      <td>610</td>\n",
       "      <td>6533</td>\n",
       "    </tr>\n",
       "    <tr>\n",
       "      <th>4</th>\n",
       "      <td>2014-2015</td>\n",
       "      <td>Q1</td>\n",
       "      <td>2580</td>\n",
       "      <td>13615.0</td>\n",
       "      <td>53</td>\n",
       "      <td>88</td>\n",
       "      <td>59</td>\n",
       "      <td>22</td>\n",
       "      <td>64</td>\n",
       "      <td>0</td>\n",
       "      <td>286</td>\n",
       "      <td>2610</td>\n",
       "    </tr>\n",
       "  </tbody>\n",
       "</table>\n",
       "</div>"
      ],
      "text/plain": [
       "  Fiscal Year Quarter  New Housing Units  Cumulative New Housing Units  \\\n",
       "0   2013-2014      Q4               3146                       11035.0   \n",
       "1   2016-2017      Q3               3850                           NaN   \n",
       "2   2015-2016      Q2               4523                       34271.0   \n",
       "3   2016-2017      Q1               5359                       46164.0   \n",
       "4   2014-2015      Q1               2580                       13615.0   \n",
       "\n",
       "   New Affordable Units Financed by HCIDLA (with  new construction, rehab, & tax credit)  \\\n",
       "0                                                211                                       \n",
       "1                                                 21                                       \n",
       "2                                                134                                       \n",
       "3                                                337                                       \n",
       "4                                                 53                                       \n",
       "\n",
       "   Affordable Units Preserved  \\\n",
       "0                          79   \n",
       "1                         181   \n",
       "2                           0   \n",
       "3                         153   \n",
       "4                          88   \n",
       "\n",
       "   Affordable Units Produced w/ Land Use Incentives   \\\n",
       "0                                                 42   \n",
       "1                                                135   \n",
       "2                                                 98   \n",
       "3                                                103   \n",
       "4                                                 59   \n",
       "\n",
       "   First-Time Homebuyer Program Loans Closed  \\\n",
       "0                                         31   \n",
       "1                                         21   \n",
       "2                                         36   \n",
       "3                                         17   \n",
       "4                                         22   \n",
       "\n",
       "   Other Affordable Units (Includes County/State Financed)  \\\n",
       "0                                                154         \n",
       "1                                                  0         \n",
       "2                                                 77         \n",
       "3                                                  0         \n",
       "4                                                 64         \n",
       "\n",
       "   Affordable Units Recapitalized  Total Affordable Housing  \\\n",
       "0                               0                       517   \n",
       "1                               0                       358   \n",
       "2                             112                       345   \n",
       "3                               0                       610   \n",
       "4                               0                       286   \n",
       "\n",
       "   Cumulative Affordable Housing  \n",
       "0                           2324  \n",
       "1                           7040  \n",
       "2                           4669  \n",
       "3                           6533  \n",
       "4                           2610  "
      ]
     },
     "execution_count": 69,
     "metadata": {},
     "output_type": "execute_result"
    }
   ],
   "source": [
    "df.head()"
   ]
  },
  {
   "cell_type": "markdown",
   "id": "f8b88e94-54f6-4101-b706-533a382ea5c7",
   "metadata": {},
   "source": [
    "#### Last five rows"
   ]
  },
  {
   "cell_type": "code",
   "execution_count": 70,
   "id": "4d74318e-b576-4018-a7ef-46066d7bec88",
   "metadata": {
    "tags": []
   },
   "outputs": [
    {
     "data": {
      "text/html": [
       "<div>\n",
       "<style scoped>\n",
       "    .dataframe tbody tr th:only-of-type {\n",
       "        vertical-align: middle;\n",
       "    }\n",
       "\n",
       "    .dataframe tbody tr th {\n",
       "        vertical-align: top;\n",
       "    }\n",
       "\n",
       "    .dataframe thead th {\n",
       "        text-align: right;\n",
       "    }\n",
       "</style>\n",
       "<table border=\"1\" class=\"dataframe\">\n",
       "  <thead>\n",
       "    <tr style=\"text-align: right;\">\n",
       "      <th></th>\n",
       "      <th>Fiscal Year</th>\n",
       "      <th>Quarter</th>\n",
       "      <th>New Housing Units</th>\n",
       "      <th>Cumulative New Housing Units</th>\n",
       "      <th>New Affordable Units Financed by HCIDLA (with  new construction, rehab, &amp; tax credit)</th>\n",
       "      <th>Affordable Units Preserved</th>\n",
       "      <th>Affordable Units Produced w/ Land Use Incentives</th>\n",
       "      <th>First-Time Homebuyer Program Loans Closed</th>\n",
       "      <th>Other Affordable Units (Includes County/State Financed)</th>\n",
       "      <th>Affordable Units Recapitalized</th>\n",
       "      <th>Total Affordable Housing</th>\n",
       "      <th>Cumulative Affordable Housing</th>\n",
       "    </tr>\n",
       "  </thead>\n",
       "  <tbody>\n",
       "    <tr>\n",
       "      <th>11</th>\n",
       "      <td>2016-2017</td>\n",
       "      <td>Q2</td>\n",
       "      <td>3801</td>\n",
       "      <td>NaN</td>\n",
       "      <td>97</td>\n",
       "      <td>20</td>\n",
       "      <td>0</td>\n",
       "      <td>21</td>\n",
       "      <td>0</td>\n",
       "      <td>313</td>\n",
       "      <td>138</td>\n",
       "      <td>6682</td>\n",
       "    </tr>\n",
       "    <tr>\n",
       "      <th>12</th>\n",
       "      <td>2014-2015</td>\n",
       "      <td>Q3</td>\n",
       "      <td>4518</td>\n",
       "      <td>21553.0</td>\n",
       "      <td>283</td>\n",
       "      <td>0</td>\n",
       "      <td>35</td>\n",
       "      <td>25</td>\n",
       "      <td>0</td>\n",
       "      <td>158</td>\n",
       "      <td>343</td>\n",
       "      <td>3725</td>\n",
       "    </tr>\n",
       "    <tr>\n",
       "      <th>13</th>\n",
       "      <td>2016-2017</td>\n",
       "      <td>Q4</td>\n",
       "      <td>4712</td>\n",
       "      <td>NaN</td>\n",
       "      <td>196</td>\n",
       "      <td>0</td>\n",
       "      <td>193</td>\n",
       "      <td>11</td>\n",
       "      <td>0</td>\n",
       "      <td>0</td>\n",
       "      <td>400</td>\n",
       "      <td>7440</td>\n",
       "    </tr>\n",
       "    <tr>\n",
       "      <th>14</th>\n",
       "      <td>2014-2015</td>\n",
       "      <td>Q4</td>\n",
       "      <td>4376</td>\n",
       "      <td>25929.0</td>\n",
       "      <td>99</td>\n",
       "      <td>0</td>\n",
       "      <td>119</td>\n",
       "      <td>37</td>\n",
       "      <td>74</td>\n",
       "      <td>0</td>\n",
       "      <td>329</td>\n",
       "      <td>4054</td>\n",
       "    </tr>\n",
       "    <tr>\n",
       "      <th>15</th>\n",
       "      <td>2013-2014</td>\n",
       "      <td>Q2</td>\n",
       "      <td>2977</td>\n",
       "      <td>4642.0</td>\n",
       "      <td>154</td>\n",
       "      <td>161</td>\n",
       "      <td>137</td>\n",
       "      <td>52</td>\n",
       "      <td>0</td>\n",
       "      <td>0</td>\n",
       "      <td>504</td>\n",
       "      <td>1369</td>\n",
       "    </tr>\n",
       "  </tbody>\n",
       "</table>\n",
       "</div>"
      ],
      "text/plain": [
       "   Fiscal Year Quarter  New Housing Units  Cumulative New Housing Units  \\\n",
       "11   2016-2017      Q2               3801                           NaN   \n",
       "12   2014-2015      Q3               4518                       21553.0   \n",
       "13   2016-2017      Q4               4712                           NaN   \n",
       "14   2014-2015      Q4               4376                       25929.0   \n",
       "15   2013-2014      Q2               2977                        4642.0   \n",
       "\n",
       "    New Affordable Units Financed by HCIDLA (with  new construction, rehab, & tax credit)  \\\n",
       "11                                                 97                                       \n",
       "12                                                283                                       \n",
       "13                                                196                                       \n",
       "14                                                 99                                       \n",
       "15                                                154                                       \n",
       "\n",
       "    Affordable Units Preserved  \\\n",
       "11                          20   \n",
       "12                           0   \n",
       "13                           0   \n",
       "14                           0   \n",
       "15                         161   \n",
       "\n",
       "    Affordable Units Produced w/ Land Use Incentives   \\\n",
       "11                                                  0   \n",
       "12                                                 35   \n",
       "13                                                193   \n",
       "14                                                119   \n",
       "15                                                137   \n",
       "\n",
       "    First-Time Homebuyer Program Loans Closed  \\\n",
       "11                                         21   \n",
       "12                                         25   \n",
       "13                                         11   \n",
       "14                                         37   \n",
       "15                                         52   \n",
       "\n",
       "    Other Affordable Units (Includes County/State Financed)  \\\n",
       "11                                                  0         \n",
       "12                                                  0         \n",
       "13                                                  0         \n",
       "14                                                 74         \n",
       "15                                                  0         \n",
       "\n",
       "    Affordable Units Recapitalized  Total Affordable Housing  \\\n",
       "11                             313                       138   \n",
       "12                             158                       343   \n",
       "13                               0                       400   \n",
       "14                               0                       329   \n",
       "15                               0                       504   \n",
       "\n",
       "    Cumulative Affordable Housing  \n",
       "11                           6682  \n",
       "12                           3725  \n",
       "13                           7440  \n",
       "14                           4054  \n",
       "15                           1369  "
      ]
     },
     "execution_count": 70,
     "metadata": {},
     "output_type": "execute_result"
    }
   ],
   "source": [
    "df.tail()"
   ]
  },
  {
   "cell_type": "markdown",
   "id": "e2c1ea6a-af60-43a3-a09f-8564cb078af6",
   "metadata": {},
   "source": [
    "#### How many records? "
   ]
  },
  {
   "cell_type": "code",
   "execution_count": 71,
   "id": "be85d1fa-a9a1-4a1a-9d05-56a2d5f726b0",
   "metadata": {},
   "outputs": [
    {
     "data": {
      "text/plain": [
       "16"
      ]
     },
     "execution_count": 71,
     "metadata": {},
     "output_type": "execute_result"
    }
   ],
   "source": [
    "len(df)"
   ]
  },
  {
   "cell_type": "code",
   "execution_count": 73,
   "id": "41c9a820-db89-4d19-9417-7b540fad0262",
   "metadata": {},
   "outputs": [
    {
     "ename": "KeyError",
     "evalue": "'new housing units'",
     "output_type": "error",
     "traceback": [
      "\u001b[0;31m---------------------------------------------------------------------------\u001b[0m",
      "\u001b[0;31mKeyError\u001b[0m                                  Traceback (most recent call last)",
      "\u001b[0;32m~/opt/anaconda3/lib/python3.9/site-packages/pandas/core/indexes/base.py\u001b[0m in \u001b[0;36mget_loc\u001b[0;34m(self, key, method, tolerance)\u001b[0m\n\u001b[1;32m   3360\u001b[0m             \u001b[0;32mtry\u001b[0m\u001b[0;34m:\u001b[0m\u001b[0;34m\u001b[0m\u001b[0;34m\u001b[0m\u001b[0m\n\u001b[0;32m-> 3361\u001b[0;31m                 \u001b[0;32mreturn\u001b[0m \u001b[0mself\u001b[0m\u001b[0;34m.\u001b[0m\u001b[0m_engine\u001b[0m\u001b[0;34m.\u001b[0m\u001b[0mget_loc\u001b[0m\u001b[0;34m(\u001b[0m\u001b[0mcasted_key\u001b[0m\u001b[0;34m)\u001b[0m\u001b[0;34m\u001b[0m\u001b[0;34m\u001b[0m\u001b[0m\n\u001b[0m\u001b[1;32m   3362\u001b[0m             \u001b[0;32mexcept\u001b[0m \u001b[0mKeyError\u001b[0m \u001b[0;32mas\u001b[0m \u001b[0merr\u001b[0m\u001b[0;34m:\u001b[0m\u001b[0;34m\u001b[0m\u001b[0;34m\u001b[0m\u001b[0m\n",
      "\u001b[0;32m~/opt/anaconda3/lib/python3.9/site-packages/pandas/_libs/index.pyx\u001b[0m in \u001b[0;36mpandas._libs.index.IndexEngine.get_loc\u001b[0;34m()\u001b[0m\n",
      "\u001b[0;32m~/opt/anaconda3/lib/python3.9/site-packages/pandas/_libs/index.pyx\u001b[0m in \u001b[0;36mpandas._libs.index.IndexEngine.get_loc\u001b[0;34m()\u001b[0m\n",
      "\u001b[0;32mpandas/_libs/hashtable_class_helper.pxi\u001b[0m in \u001b[0;36mpandas._libs.hashtable.PyObjectHashTable.get_item\u001b[0;34m()\u001b[0m\n",
      "\u001b[0;32mpandas/_libs/hashtable_class_helper.pxi\u001b[0m in \u001b[0;36mpandas._libs.hashtable.PyObjectHashTable.get_item\u001b[0;34m()\u001b[0m\n",
      "\u001b[0;31mKeyError\u001b[0m: 'new housing units'",
      "\nThe above exception was the direct cause of the following exception:\n",
      "\u001b[0;31mKeyError\u001b[0m                                  Traceback (most recent call last)",
      "\u001b[0;32m/var/folders/d6/smrm7b4d70z7d6cd7r2398fh0000gn/T/ipykernel_31663/3060100153.py\u001b[0m in \u001b[0;36m<module>\u001b[0;34m\u001b[0m\n\u001b[0;32m----> 1\u001b[0;31m \u001b[0mdf\u001b[0m\u001b[0;34m[\u001b[0m\u001b[0;34m'new housing units'\u001b[0m\u001b[0;34m]\u001b[0m\u001b[0;34m.\u001b[0m\u001b[0msum\u001b[0m\u001b[0;34m(\u001b[0m\u001b[0;34m)\u001b[0m\u001b[0;34m\u001b[0m\u001b[0;34m\u001b[0m\u001b[0m\n\u001b[0m",
      "\u001b[0;32m~/opt/anaconda3/lib/python3.9/site-packages/pandas/core/frame.py\u001b[0m in \u001b[0;36m__getitem__\u001b[0;34m(self, key)\u001b[0m\n\u001b[1;32m   3456\u001b[0m             \u001b[0;32mif\u001b[0m \u001b[0mself\u001b[0m\u001b[0;34m.\u001b[0m\u001b[0mcolumns\u001b[0m\u001b[0;34m.\u001b[0m\u001b[0mnlevels\u001b[0m \u001b[0;34m>\u001b[0m \u001b[0;36m1\u001b[0m\u001b[0;34m:\u001b[0m\u001b[0;34m\u001b[0m\u001b[0;34m\u001b[0m\u001b[0m\n\u001b[1;32m   3457\u001b[0m                 \u001b[0;32mreturn\u001b[0m \u001b[0mself\u001b[0m\u001b[0;34m.\u001b[0m\u001b[0m_getitem_multilevel\u001b[0m\u001b[0;34m(\u001b[0m\u001b[0mkey\u001b[0m\u001b[0;34m)\u001b[0m\u001b[0;34m\u001b[0m\u001b[0;34m\u001b[0m\u001b[0m\n\u001b[0;32m-> 3458\u001b[0;31m             \u001b[0mindexer\u001b[0m \u001b[0;34m=\u001b[0m \u001b[0mself\u001b[0m\u001b[0;34m.\u001b[0m\u001b[0mcolumns\u001b[0m\u001b[0;34m.\u001b[0m\u001b[0mget_loc\u001b[0m\u001b[0;34m(\u001b[0m\u001b[0mkey\u001b[0m\u001b[0;34m)\u001b[0m\u001b[0;34m\u001b[0m\u001b[0;34m\u001b[0m\u001b[0m\n\u001b[0m\u001b[1;32m   3459\u001b[0m             \u001b[0;32mif\u001b[0m \u001b[0mis_integer\u001b[0m\u001b[0;34m(\u001b[0m\u001b[0mindexer\u001b[0m\u001b[0;34m)\u001b[0m\u001b[0;34m:\u001b[0m\u001b[0;34m\u001b[0m\u001b[0;34m\u001b[0m\u001b[0m\n\u001b[1;32m   3460\u001b[0m                 \u001b[0mindexer\u001b[0m \u001b[0;34m=\u001b[0m \u001b[0;34m[\u001b[0m\u001b[0mindexer\u001b[0m\u001b[0;34m]\u001b[0m\u001b[0;34m\u001b[0m\u001b[0;34m\u001b[0m\u001b[0m\n",
      "\u001b[0;32m~/opt/anaconda3/lib/python3.9/site-packages/pandas/core/indexes/base.py\u001b[0m in \u001b[0;36mget_loc\u001b[0;34m(self, key, method, tolerance)\u001b[0m\n\u001b[1;32m   3361\u001b[0m                 \u001b[0;32mreturn\u001b[0m \u001b[0mself\u001b[0m\u001b[0;34m.\u001b[0m\u001b[0m_engine\u001b[0m\u001b[0;34m.\u001b[0m\u001b[0mget_loc\u001b[0m\u001b[0;34m(\u001b[0m\u001b[0mcasted_key\u001b[0m\u001b[0;34m)\u001b[0m\u001b[0;34m\u001b[0m\u001b[0;34m\u001b[0m\u001b[0m\n\u001b[1;32m   3362\u001b[0m             \u001b[0;32mexcept\u001b[0m \u001b[0mKeyError\u001b[0m \u001b[0;32mas\u001b[0m \u001b[0merr\u001b[0m\u001b[0;34m:\u001b[0m\u001b[0;34m\u001b[0m\u001b[0;34m\u001b[0m\u001b[0m\n\u001b[0;32m-> 3363\u001b[0;31m                 \u001b[0;32mraise\u001b[0m \u001b[0mKeyError\u001b[0m\u001b[0;34m(\u001b[0m\u001b[0mkey\u001b[0m\u001b[0;34m)\u001b[0m \u001b[0;32mfrom\u001b[0m \u001b[0merr\u001b[0m\u001b[0;34m\u001b[0m\u001b[0;34m\u001b[0m\u001b[0m\n\u001b[0m\u001b[1;32m   3364\u001b[0m \u001b[0;34m\u001b[0m\u001b[0m\n\u001b[1;32m   3365\u001b[0m         \u001b[0;32mif\u001b[0m \u001b[0mis_scalar\u001b[0m\u001b[0;34m(\u001b[0m\u001b[0mkey\u001b[0m\u001b[0;34m)\u001b[0m \u001b[0;32mand\u001b[0m \u001b[0misna\u001b[0m\u001b[0;34m(\u001b[0m\u001b[0mkey\u001b[0m\u001b[0;34m)\u001b[0m \u001b[0;32mand\u001b[0m \u001b[0;32mnot\u001b[0m \u001b[0mself\u001b[0m\u001b[0;34m.\u001b[0m\u001b[0mhasnans\u001b[0m\u001b[0;34m:\u001b[0m\u001b[0;34m\u001b[0m\u001b[0;34m\u001b[0m\u001b[0m\n",
      "\u001b[0;31mKeyError\u001b[0m: 'new housing units'"
     ]
    }
   ],
   "source": [
    "df['new housing units'].sum()"
   ]
  },
  {
   "cell_type": "code",
   "execution_count": null,
   "id": "c91cf5ee-31a4-4e0f-963d-0c2cb2c67fdc",
   "metadata": {},
   "outputs": [],
   "source": []
  },
  {
   "cell_type": "code",
   "execution_count": null,
   "id": "4c16b63e-ee11-4d1c-972a-c9be8fa31b75",
   "metadata": {},
   "outputs": [],
   "source": []
  },
  {
   "cell_type": "markdown",
   "id": "bca10464-092c-4493-ac6e-8b45fdc6a0cf",
   "metadata": {},
   "source": [
    "---"
   ]
  },
  {
   "cell_type": "code",
   "execution_count": null,
   "id": "3540a5f1-9343-4c9b-b7dc-5276266aa32f",
   "metadata": {},
   "outputs": [],
   "source": []
  },
  {
   "cell_type": "code",
   "execution_count": null,
   "id": "f9c263b6-396e-46db-82eb-147b9d5dec34",
   "metadata": {},
   "outputs": [],
   "source": []
  },
  {
   "cell_type": "code",
   "execution_count": null,
   "id": "ed728c8f-2e2b-4802-9291-b422d830b007",
   "metadata": {},
   "outputs": [],
   "source": []
  },
  {
   "cell_type": "code",
   "execution_count": null,
   "id": "2fae28b3-ed4a-4984-88ee-83c6db7b3f70",
   "metadata": {},
   "outputs": [],
   "source": []
  },
  {
   "cell_type": "code",
   "execution_count": null,
   "id": "4d216169-5e2d-4c52-980d-e12a7959f48c",
   "metadata": {},
   "outputs": [],
   "source": []
  },
  {
   "cell_type": "markdown",
   "id": "7d763c7d-f276-47f2-9ea3-e6a5d14a59ae",
   "metadata": {},
   "source": [
    "---"
   ]
  },
  {
   "cell_type": "code",
   "execution_count": null,
   "id": "9921fdec-220c-49d0-a0ab-fb68e66a4010",
   "metadata": {},
   "outputs": [],
   "source": []
  },
  {
   "cell_type": "code",
   "execution_count": null,
   "id": "ebf62e44-7971-47fb-92d8-5f8d871d9d11",
   "metadata": {},
   "outputs": [],
   "source": []
  },
  {
   "cell_type": "code",
   "execution_count": null,
   "id": "d837d601-08f7-4bb0-94be-3123cc281e3c",
   "metadata": {},
   "outputs": [],
   "source": []
  },
  {
   "cell_type": "code",
   "execution_count": null,
   "id": "d21f51f2-b78f-4793-8899-c80feaf983f1",
   "metadata": {},
   "outputs": [],
   "source": []
  },
  {
   "cell_type": "code",
   "execution_count": null,
   "id": "d3c89fe0-451d-4a58-b0e6-f3dda98ae08f",
   "metadata": {},
   "outputs": [],
   "source": []
  },
  {
   "cell_type": "code",
   "execution_count": null,
   "id": "5a096c0b-b143-4eb5-8165-b700e6056e5c",
   "metadata": {},
   "outputs": [],
   "source": []
  },
  {
   "cell_type": "code",
   "execution_count": null,
   "id": "d7d5375a-91a4-4149-af9c-4c53534b300c",
   "metadata": {},
   "outputs": [],
   "source": []
  },
  {
   "cell_type": "code",
   "execution_count": null,
   "id": "158370c0-599e-4bce-8f9a-f21df78bb631",
   "metadata": {},
   "outputs": [],
   "source": []
  },
  {
   "cell_type": "code",
   "execution_count": null,
   "id": "7ef58bae-4cd3-4096-a282-22a67dc9eac6",
   "metadata": {},
   "outputs": [],
   "source": []
  }
 ],
 "metadata": {
  "kernelspec": {
   "display_name": "Python 3 (ipykernel)",
   "language": "python",
   "name": "python3"
  },
  "language_info": {
   "codemirror_mode": {
    "name": "ipython",
    "version": 3
   },
   "file_extension": ".py",
   "mimetype": "text/x-python",
   "name": "python",
   "nbconvert_exporter": "python",
   "pygments_lexer": "ipython3",
   "version": "3.9.7"
  }
 },
 "nbformat": 4,
 "nbformat_minor": 5
}
