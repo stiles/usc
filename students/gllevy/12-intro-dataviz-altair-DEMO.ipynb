{
 "cells": [
  {
   "cell_type": "markdown",
   "id": "cf543214-f1e4-46f5-a4ca-0641e43e455f",
   "metadata": {},
   "source": [
    "# Intro to Altair: Explore Ukraine Data"
   ]
  },
  {
   "cell_type": "markdown",
   "id": "55bfd150-db12-4b78-a578-6ec8d99a90ed",
   "metadata": {},
   "source": [
    "Altair offers a powerful and concise visualization tool that enables you to build a wide range of statistical visualizations quickly. Read the [docs](https://altair-viz.github.io/) and [example gallery](https://altair-viz.github.io/gallery/index.html). "
   ]
  },
  {
   "cell_type": "markdown",
   "id": "ece5a4d3-be58-4d94-9736-5e9d10a41ba9",
   "metadata": {},
   "source": [
    "#### Load python tools"
   ]
  },
  {
   "cell_type": "code",
   "execution_count": 1,
   "id": "2594907b-7dfe-4e1f-9406-771e53069144",
   "metadata": {},
   "outputs": [],
   "source": [
    "%load_ext lab_black"
   ]
  },
  {
   "cell_type": "code",
   "execution_count": 2,
   "id": "79d6a049-e959-496c-932e-84a3155858e1",
   "metadata": {},
   "outputs": [],
   "source": [
    "import pandas as pd\n",
    "import altair as alt"
   ]
  },
  {
   "cell_type": "code",
   "execution_count": 3,
   "id": "c09bfa5f-474a-40ea-abcc-a5e7787e501c",
   "metadata": {},
   "outputs": [],
   "source": [
    "pd.options.display.max_columns = 1000\n",
    "pd.options.display.max_rows = 1000"
   ]
  },
  {
   "cell_type": "markdown",
   "id": "6e8fe962-7c4f-413c-890e-97fc70adb134",
   "metadata": {},
   "source": [
    "---"
   ]
  },
  {
   "cell_type": "markdown",
   "id": "70ecb6a0-9667-4466-a79d-588c90977256",
   "metadata": {},
   "source": [
    "### Ukranian refugees count since the war began"
   ]
  },
  {
   "cell_type": "markdown",
   "id": "891b977b-27ee-480a-a82a-57bcab138549",
   "metadata": {},
   "source": [
    "Source: [Humanitarian Data Exchange](https://data.humdata.org/visualization/ukraine-humanitarian-operations/)"
   ]
  },
  {
   "cell_type": "code",
   "execution_count": 4,
   "id": "2448d096-66e9-445a-af43-3b077a8f43f8",
   "metadata": {},
   "outputs": [],
   "source": [
    "refugees = pd.read_csv(\n",
    "    \"https://raw.githubusercontent.com/stiles/usc/main/data/processed/ukraine_refugees_series_data.csv\"\n",
    ")"
   ]
  },
  {
   "cell_type": "code",
   "execution_count": 5,
   "id": "5ccc9ae0-d1ac-4ba9-92c3-cfe85435e1be",
   "metadata": {},
   "outputs": [
    {
     "data": {
      "text/html": [
       "<div>\n",
       "<style scoped>\n",
       "    .dataframe tbody tr th:only-of-type {\n",
       "        vertical-align: middle;\n",
       "    }\n",
       "\n",
       "    .dataframe tbody tr th {\n",
       "        vertical-align: top;\n",
       "    }\n",
       "\n",
       "    .dataframe thead th {\n",
       "        text-align: right;\n",
       "    }\n",
       "</style>\n",
       "<table border=\"1\" class=\"dataframe\">\n",
       "  <thead>\n",
       "    <tr style=\"text-align: right;\">\n",
       "      <th></th>\n",
       "      <th>date</th>\n",
       "      <th>affected_refugees</th>\n",
       "      <th>cumsum</th>\n",
       "    </tr>\n",
       "  </thead>\n",
       "  <tbody>\n",
       "    <tr>\n",
       "      <th>0</th>\n",
       "      <td>2022-02-24</td>\n",
       "      <td>84681</td>\n",
       "      <td>84681</td>\n",
       "    </tr>\n",
       "    <tr>\n",
       "      <th>1</th>\n",
       "      <td>2022-02-25</td>\n",
       "      <td>108301</td>\n",
       "      <td>192982</td>\n",
       "    </tr>\n",
       "    <tr>\n",
       "      <th>2</th>\n",
       "      <td>2022-02-26</td>\n",
       "      <td>148319</td>\n",
       "      <td>341301</td>\n",
       "    </tr>\n",
       "    <tr>\n",
       "      <th>3</th>\n",
       "      <td>2022-02-27</td>\n",
       "      <td>168364</td>\n",
       "      <td>509665</td>\n",
       "    </tr>\n",
       "    <tr>\n",
       "      <th>4</th>\n",
       "      <td>2022-02-28</td>\n",
       "      <td>162474</td>\n",
       "      <td>672139</td>\n",
       "    </tr>\n",
       "  </tbody>\n",
       "</table>\n",
       "</div>"
      ],
      "text/plain": [
       "         date  affected_refugees  cumsum\n",
       "0  2022-02-24              84681   84681\n",
       "1  2022-02-25             108301  192982\n",
       "2  2022-02-26             148319  341301\n",
       "3  2022-02-27             168364  509665\n",
       "4  2022-02-28             162474  672139"
      ]
     },
     "execution_count": 5,
     "metadata": {},
     "output_type": "execute_result"
    }
   ],
   "source": [
    "refugees.head()"
   ]
  },
  {
   "cell_type": "markdown",
   "id": "bbc060bb-1514-4094-8e63-7154e442c9be",
   "metadata": {},
   "source": [
    "#### Build a [line chart](https://altair-viz.github.io/gallery/simple_line_chart.html) showing the refugees by day"
   ]
  },
  {
   "cell_type": "code",
   "execution_count": 6,
   "id": "0fd5a3c8-8ece-4720-b5dd-46492346dd0f",
   "metadata": {},
   "outputs": [
    {
     "data": {
      "text/html": [
       "\n",
       "<div id=\"altair-viz-056d1d00168a49ef9c2d63ca659b563e\"></div>\n",
       "<script type=\"text/javascript\">\n",
       "  var VEGA_DEBUG = (typeof VEGA_DEBUG == \"undefined\") ? {} : VEGA_DEBUG;\n",
       "  (function(spec, embedOpt){\n",
       "    let outputDiv = document.currentScript.previousElementSibling;\n",
       "    if (outputDiv.id !== \"altair-viz-056d1d00168a49ef9c2d63ca659b563e\") {\n",
       "      outputDiv = document.getElementById(\"altair-viz-056d1d00168a49ef9c2d63ca659b563e\");\n",
       "    }\n",
       "    const paths = {\n",
       "      \"vega\": \"https://cdn.jsdelivr.net/npm//vega@5?noext\",\n",
       "      \"vega-lib\": \"https://cdn.jsdelivr.net/npm//vega-lib?noext\",\n",
       "      \"vega-lite\": \"https://cdn.jsdelivr.net/npm//vega-lite@4.17.0?noext\",\n",
       "      \"vega-embed\": \"https://cdn.jsdelivr.net/npm//vega-embed@6?noext\",\n",
       "    };\n",
       "\n",
       "    function maybeLoadScript(lib, version) {\n",
       "      var key = `${lib.replace(\"-\", \"\")}_version`;\n",
       "      return (VEGA_DEBUG[key] == version) ?\n",
       "        Promise.resolve(paths[lib]) :\n",
       "        new Promise(function(resolve, reject) {\n",
       "          var s = document.createElement('script');\n",
       "          document.getElementsByTagName(\"head\")[0].appendChild(s);\n",
       "          s.async = true;\n",
       "          s.onload = () => {\n",
       "            VEGA_DEBUG[key] = version;\n",
       "            return resolve(paths[lib]);\n",
       "          };\n",
       "          s.onerror = () => reject(`Error loading script: ${paths[lib]}`);\n",
       "          s.src = paths[lib];\n",
       "        });\n",
       "    }\n",
       "\n",
       "    function showError(err) {\n",
       "      outputDiv.innerHTML = `<div class=\"error\" style=\"color:red;\">${err}</div>`;\n",
       "      throw err;\n",
       "    }\n",
       "\n",
       "    function displayChart(vegaEmbed) {\n",
       "      vegaEmbed(outputDiv, spec, embedOpt)\n",
       "        .catch(err => showError(`Javascript Error: ${err.message}<br>This usually means there's a typo in your chart specification. See the javascript console for the full traceback.`));\n",
       "    }\n",
       "\n",
       "    if(typeof define === \"function\" && define.amd) {\n",
       "      requirejs.config({paths});\n",
       "      require([\"vega-embed\"], displayChart, err => showError(`Error loading script: ${err.message}`));\n",
       "    } else {\n",
       "      maybeLoadScript(\"vega\", \"5\")\n",
       "        .then(() => maybeLoadScript(\"vega-lite\", \"4.17.0\"))\n",
       "        .then(() => maybeLoadScript(\"vega-embed\", \"6\"))\n",
       "        .catch(showError)\n",
       "        .then(() => displayChart(vegaEmbed));\n",
       "    }\n",
       "  })({\"config\": {\"view\": {\"continuousWidth\": 400, \"continuousHeight\": 300}}, \"data\": {\"name\": \"data-224b1c1349dff1b666644ff5894b66d1\"}, \"mark\": \"line\", \"encoding\": {\"x\": {\"field\": \"date\", \"type\": \"temporal\"}, \"y\": {\"field\": \"affected_refugees\", \"type\": \"quantitative\"}}, \"$schema\": \"https://vega.github.io/schema/vega-lite/v4.17.0.json\", \"datasets\": {\"data-224b1c1349dff1b666644ff5894b66d1\": [{\"date\": \"2022-02-24\", \"affected_refugees\": 84681, \"cumsum\": 84681}, {\"date\": \"2022-02-25\", \"affected_refugees\": 108301, \"cumsum\": 192982}, {\"date\": \"2022-02-26\", \"affected_refugees\": 148319, \"cumsum\": 341301}, {\"date\": \"2022-02-27\", \"affected_refugees\": 168364, \"cumsum\": 509665}, {\"date\": \"2022-02-28\", \"affected_refugees\": 162474, \"cumsum\": 672139}, {\"date\": \"2022-03-01\", \"affected_refugees\": 166690, \"cumsum\": 838829}, {\"date\": \"2022-03-02\", \"affected_refugees\": 194483, \"cumsum\": 1033312}, {\"date\": \"2022-03-03\", \"affected_refugees\": 167905, \"cumsum\": 1201217}, {\"date\": \"2022-03-04\", \"affected_refugees\": 172099, \"cumsum\": 1373316}, {\"date\": \"2022-03-05\", \"affected_refugees\": 197520, \"cumsum\": 1570836}, {\"date\": \"2022-03-06\", \"affected_refugees\": 209160, \"cumsum\": 1779996}, {\"date\": \"2022-03-07\", \"affected_refugees\": 207660, \"cumsum\": 1987656}, {\"date\": \"2022-03-08\", \"affected_refugees\": 185038, \"cumsum\": 2172694}, {\"date\": \"2022-03-09\", \"affected_refugees\": 170843, \"cumsum\": 2343537}, {\"date\": \"2022-03-10\", \"affected_refugees\": 135655, \"cumsum\": 2479192}, {\"date\": \"2022-03-11\", \"affected_refugees\": 118268, \"cumsum\": 2597460}, {\"date\": \"2022-03-12\", \"affected_refugees\": 115822, \"cumsum\": 2713282}, {\"date\": \"2022-03-13\", \"affected_refugees\": 125317, \"cumsum\": 2838599}, {\"date\": \"2022-03-14\", \"affected_refugees\": 113676, \"cumsum\": 2952275}, {\"date\": \"2022-03-15\", \"affected_refugees\": 110820, \"cumsum\": 3063095}, {\"date\": \"2022-03-16\", \"affected_refugees\": 106802, \"cumsum\": 3169897}, {\"date\": \"2022-03-17\", \"affected_refugees\": 94157, \"cumsum\": 3264054}, {\"date\": \"2022-03-18\", \"affected_refugees\": 82655, \"cumsum\": 3346709}, {\"date\": \"2022-03-19\", \"affected_refugees\": 76757, \"cumsum\": 3423466}, {\"date\": \"2022-03-20\", \"affected_refugees\": 66178, \"cumsum\": 3489644}]}}, {\"mode\": \"vega-lite\"});\n",
       "</script>"
      ],
      "text/plain": [
       "alt.Chart(...)"
      ]
     },
     "execution_count": 6,
     "metadata": {},
     "output_type": "execute_result"
    }
   ],
   "source": [
    "alt.Chart(refugees).mark_line().encode(x=\"date:T\", y=\"affected_refugees\")"
   ]
  },
  {
   "cell_type": "markdown",
   "id": "baa05906-54ce-426a-9061-10390b4b52f9",
   "metadata": {},
   "source": [
    "#### Add more features: color, line width, title, size"
   ]
  },
  {
   "cell_type": "code",
   "execution_count": 7,
   "id": "867dd009-6202-47bc-b509-e2b25ee25d77",
   "metadata": {},
   "outputs": [
    {
     "data": {
      "text/html": [
       "\n",
       "<div id=\"altair-viz-535cb05378504fde8c6941f96a61ccfe\"></div>\n",
       "<script type=\"text/javascript\">\n",
       "  var VEGA_DEBUG = (typeof VEGA_DEBUG == \"undefined\") ? {} : VEGA_DEBUG;\n",
       "  (function(spec, embedOpt){\n",
       "    let outputDiv = document.currentScript.previousElementSibling;\n",
       "    if (outputDiv.id !== \"altair-viz-535cb05378504fde8c6941f96a61ccfe\") {\n",
       "      outputDiv = document.getElementById(\"altair-viz-535cb05378504fde8c6941f96a61ccfe\");\n",
       "    }\n",
       "    const paths = {\n",
       "      \"vega\": \"https://cdn.jsdelivr.net/npm//vega@5?noext\",\n",
       "      \"vega-lib\": \"https://cdn.jsdelivr.net/npm//vega-lib?noext\",\n",
       "      \"vega-lite\": \"https://cdn.jsdelivr.net/npm//vega-lite@4.17.0?noext\",\n",
       "      \"vega-embed\": \"https://cdn.jsdelivr.net/npm//vega-embed@6?noext\",\n",
       "    };\n",
       "\n",
       "    function maybeLoadScript(lib, version) {\n",
       "      var key = `${lib.replace(\"-\", \"\")}_version`;\n",
       "      return (VEGA_DEBUG[key] == version) ?\n",
       "        Promise.resolve(paths[lib]) :\n",
       "        new Promise(function(resolve, reject) {\n",
       "          var s = document.createElement('script');\n",
       "          document.getElementsByTagName(\"head\")[0].appendChild(s);\n",
       "          s.async = true;\n",
       "          s.onload = () => {\n",
       "            VEGA_DEBUG[key] = version;\n",
       "            return resolve(paths[lib]);\n",
       "          };\n",
       "          s.onerror = () => reject(`Error loading script: ${paths[lib]}`);\n",
       "          s.src = paths[lib];\n",
       "        });\n",
       "    }\n",
       "\n",
       "    function showError(err) {\n",
       "      outputDiv.innerHTML = `<div class=\"error\" style=\"color:red;\">${err}</div>`;\n",
       "      throw err;\n",
       "    }\n",
       "\n",
       "    function displayChart(vegaEmbed) {\n",
       "      vegaEmbed(outputDiv, spec, embedOpt)\n",
       "        .catch(err => showError(`Javascript Error: ${err.message}<br>This usually means there's a typo in your chart specification. See the javascript console for the full traceback.`));\n",
       "    }\n",
       "\n",
       "    if(typeof define === \"function\" && define.amd) {\n",
       "      requirejs.config({paths});\n",
       "      require([\"vega-embed\"], displayChart, err => showError(`Error loading script: ${err.message}`));\n",
       "    } else {\n",
       "      maybeLoadScript(\"vega\", \"5\")\n",
       "        .then(() => maybeLoadScript(\"vega-lite\", \"4.17.0\"))\n",
       "        .then(() => maybeLoadScript(\"vega-embed\", \"6\"))\n",
       "        .catch(showError)\n",
       "        .then(() => displayChart(vegaEmbed));\n",
       "    }\n",
       "  })({\"config\": {\"view\": {\"continuousWidth\": 400, \"continuousHeight\": 300}}, \"data\": {\"name\": \"data-224b1c1349dff1b666644ff5894b66d1\"}, \"mark\": {\"type\": \"line\", \"color\": \"red\", \"size\": 5}, \"encoding\": {\"x\": {\"field\": \"date\", \"type\": \"temporal\"}, \"y\": {\"field\": \"affected_refugees\", \"type\": \"quantitative\"}}, \"height\": 250, \"title\": \"Daily refugees fleeing Ukraine since the Russian invasion\", \"width\": 350, \"$schema\": \"https://vega.github.io/schema/vega-lite/v4.17.0.json\", \"datasets\": {\"data-224b1c1349dff1b666644ff5894b66d1\": [{\"date\": \"2022-02-24\", \"affected_refugees\": 84681, \"cumsum\": 84681}, {\"date\": \"2022-02-25\", \"affected_refugees\": 108301, \"cumsum\": 192982}, {\"date\": \"2022-02-26\", \"affected_refugees\": 148319, \"cumsum\": 341301}, {\"date\": \"2022-02-27\", \"affected_refugees\": 168364, \"cumsum\": 509665}, {\"date\": \"2022-02-28\", \"affected_refugees\": 162474, \"cumsum\": 672139}, {\"date\": \"2022-03-01\", \"affected_refugees\": 166690, \"cumsum\": 838829}, {\"date\": \"2022-03-02\", \"affected_refugees\": 194483, \"cumsum\": 1033312}, {\"date\": \"2022-03-03\", \"affected_refugees\": 167905, \"cumsum\": 1201217}, {\"date\": \"2022-03-04\", \"affected_refugees\": 172099, \"cumsum\": 1373316}, {\"date\": \"2022-03-05\", \"affected_refugees\": 197520, \"cumsum\": 1570836}, {\"date\": \"2022-03-06\", \"affected_refugees\": 209160, \"cumsum\": 1779996}, {\"date\": \"2022-03-07\", \"affected_refugees\": 207660, \"cumsum\": 1987656}, {\"date\": \"2022-03-08\", \"affected_refugees\": 185038, \"cumsum\": 2172694}, {\"date\": \"2022-03-09\", \"affected_refugees\": 170843, \"cumsum\": 2343537}, {\"date\": \"2022-03-10\", \"affected_refugees\": 135655, \"cumsum\": 2479192}, {\"date\": \"2022-03-11\", \"affected_refugees\": 118268, \"cumsum\": 2597460}, {\"date\": \"2022-03-12\", \"affected_refugees\": 115822, \"cumsum\": 2713282}, {\"date\": \"2022-03-13\", \"affected_refugees\": 125317, \"cumsum\": 2838599}, {\"date\": \"2022-03-14\", \"affected_refugees\": 113676, \"cumsum\": 2952275}, {\"date\": \"2022-03-15\", \"affected_refugees\": 110820, \"cumsum\": 3063095}, {\"date\": \"2022-03-16\", \"affected_refugees\": 106802, \"cumsum\": 3169897}, {\"date\": \"2022-03-17\", \"affected_refugees\": 94157, \"cumsum\": 3264054}, {\"date\": \"2022-03-18\", \"affected_refugees\": 82655, \"cumsum\": 3346709}, {\"date\": \"2022-03-19\", \"affected_refugees\": 76757, \"cumsum\": 3423466}, {\"date\": \"2022-03-20\", \"affected_refugees\": 66178, \"cumsum\": 3489644}]}}, {\"mode\": \"vega-lite\"});\n",
       "</script>"
      ],
      "text/plain": [
       "alt.Chart(...)"
      ]
     },
     "execution_count": 7,
     "metadata": {},
     "output_type": "execute_result"
    }
   ],
   "source": [
    "alt.Chart(refugees).mark_line(color=\"red\", size=5).encode(\n",
    "    x=\"date:T\", y=\"affected_refugees\"\n",
    ").properties(\n",
    "    title=\"Daily refugees fleeing Ukraine since the Russian invasion\",\n",
    "    height=250,\n",
    "    width=350,\n",
    ")"
   ]
  },
  {
   "cell_type": "markdown",
   "id": "b6922dc5-0a48-4407-bf79-adf3e4849754",
   "metadata": {},
   "source": [
    "#### Try it as a column chart"
   ]
  },
  {
   "cell_type": "code",
   "execution_count": null,
   "id": "03651644-0dd2-4bed-8987-24aad9e4b5a7",
   "metadata": {},
   "outputs": [],
   "source": []
  },
  {
   "cell_type": "markdown",
   "id": "6dc2184e-4e81-4eb2-a12e-d9ce7f79b342",
   "metadata": {},
   "source": [
    "---"
   ]
  },
  {
   "cell_type": "markdown",
   "id": "2ce673fe-339d-4946-a4d8-991b2837efe7",
   "metadata": {},
   "source": [
    "#### Read fatalities data"
   ]
  },
  {
   "cell_type": "code",
   "execution_count": 5,
   "id": "f7d6c50d-eb7d-4d9e-8822-9b291cd652a1",
   "metadata": {},
   "outputs": [],
   "source": [
    "fatalities_df = pd.read_csv(\n",
    "    \"https://raw.githubusercontent.com/stiles/usc/main/data/processed/ukraine_incidents_fatalities_types_melted.csv\"\n",
    ")"
   ]
  },
  {
   "cell_type": "code",
   "execution_count": null,
   "id": "f639785a-ef94-4b04-9832-99b18ad00fb4",
   "metadata": {},
   "outputs": [],
   "source": []
  },
  {
   "cell_type": "markdown",
   "id": "a57ccad0-deca-4260-9f6e-970f18aa8b80",
   "metadata": {},
   "source": [
    "#### Group to count the number of fatalities by type"
   ]
  },
  {
   "cell_type": "code",
   "execution_count": null,
   "id": "10f4e6b1-17cb-4303-a919-2f3d6992beec",
   "metadata": {},
   "outputs": [],
   "source": []
  },
  {
   "cell_type": "code",
   "execution_count": null,
   "id": "339d7e0d-addd-4946-94a3-ffc553ab1bfb",
   "metadata": {},
   "outputs": [],
   "source": []
  },
  {
   "cell_type": "code",
   "execution_count": null,
   "id": "38b2c47d-2cce-43d0-963b-42a8aa7cf40a",
   "metadata": {},
   "outputs": [],
   "source": []
  },
  {
   "cell_type": "markdown",
   "id": "fe2e62f6-dcac-4243-ba03-77052f39797a",
   "metadata": {},
   "source": [
    "#### Build a [stacked area chart](https://altair-viz.github.io/gallery/simple_stacked_area_chart.html) with fatalities data"
   ]
  },
  {
   "cell_type": "code",
   "execution_count": null,
   "id": "f642d2d3-452a-4424-822c-f7544891c15d",
   "metadata": {},
   "outputs": [],
   "source": []
  },
  {
   "cell_type": "markdown",
   "id": "e6399b4e-6e78-4134-bfce-8c6d3a7f1794",
   "metadata": {},
   "source": [
    "#### Try to make it cumulative"
   ]
  },
  {
   "cell_type": "code",
   "execution_count": null,
   "id": "4442c70f-fd38-4405-ad26-3ea3448e9953",
   "metadata": {},
   "outputs": [],
   "source": []
  },
  {
   "cell_type": "markdown",
   "id": "2c3bd0ee-a244-4ff8-bb72-9c66612b28ce",
   "metadata": {},
   "source": [
    "---"
   ]
  },
  {
   "cell_type": "markdown",
   "id": "36be8e1a-d3ba-480f-bda8-8d6b8e5794f6",
   "metadata": {},
   "source": [
    "#### Clean up the refugees column chart"
   ]
  },
  {
   "cell_type": "code",
   "execution_count": null,
   "id": "407baf00-f504-4cf6-be8f-7f6ed4735453",
   "metadata": {},
   "outputs": [],
   "source": []
  },
  {
   "cell_type": "markdown",
   "id": "61e9ba00-55f8-496c-9138-fa091f9a3b5f",
   "metadata": {},
   "source": [
    "#### Facet charts for the fatalities"
   ]
  },
  {
   "cell_type": "code",
   "execution_count": null,
   "id": "4ebc6c79-66ec-4509-9414-8e533495903f",
   "metadata": {},
   "outputs": [],
   "source": []
  }
 ],
 "metadata": {
  "kernelspec": {
   "display_name": "Python 3 (ipykernel)",
   "language": "python",
   "name": "python3"
  },
  "language_info": {
   "codemirror_mode": {
    "name": "ipython",
    "version": 3
   },
   "file_extension": ".py",
   "mimetype": "text/x-python",
   "name": "python",
   "nbconvert_exporter": "python",
   "pygments_lexer": "ipython3",
   "version": "3.9.7"
  }
 },
 "nbformat": 4,
 "nbformat_minor": 5
}
