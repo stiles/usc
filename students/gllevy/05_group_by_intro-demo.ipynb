{
 "cells": [
  {
   "cell_type": "markdown",
   "id": "564e3285-652b-46c8-9148-15d6b4895ad9",
   "metadata": {},
   "source": [
    "# Using groupby in Pandas\n",
    "Use this method when you want to collapse a dataframe by a categorical column and run an aggregation. For example, if you had a list of alcohol consumption by country, and you wanted to know the average consumed **for each** continent. Let's look at that example."
   ]
  },
  {
   "cell_type": "markdown",
   "id": "b33ad272-23b8-45d3-99e3-b006192bee92",
   "metadata": {},
   "source": [
    "#### Load python tools"
   ]
  },
  {
   "cell_type": "code",
   "execution_count": 2,
   "id": "b22b7261-fe68-4445-bf94-82a506fa5018",
   "metadata": {},
   "outputs": [],
   "source": [
    "import pandas as pd"
   ]
  },
  {
   "cell_type": "markdown",
   "id": "e80cc819-8cc4-4587-8e04-959ea605e1ef",
   "metadata": {},
   "source": [
    "#### Read sample dataset"
   ]
  },
  {
   "cell_type": "code",
   "execution_count": 3,
   "id": "bfde2aa3-58c8-4a61-a7aa-8bde4389bb3c",
   "metadata": {},
   "outputs": [],
   "source": [
    "df = pd.read_csv('https://bit.ly/drinksbycountry')"
   ]
  },
  {
   "cell_type": "markdown",
   "id": "290286e6-fff7-47d9-a313-bf78c4421aec",
   "metadata": {},
   "source": [
    "#### What's that dataframe look like? "
   ]
  },
  {
   "cell_type": "code",
   "execution_count": 4,
   "id": "a6fa61a8-e2c2-46a6-86a1-562e204aa558",
   "metadata": {},
   "outputs": [
    {
     "data": {
      "text/html": [
       "<div>\n",
       "<style scoped>\n",
       "    .dataframe tbody tr th:only-of-type {\n",
       "        vertical-align: middle;\n",
       "    }\n",
       "\n",
       "    .dataframe tbody tr th {\n",
       "        vertical-align: top;\n",
       "    }\n",
       "\n",
       "    .dataframe thead th {\n",
       "        text-align: right;\n",
       "    }\n",
       "</style>\n",
       "<table border=\"1\" class=\"dataframe\">\n",
       "  <thead>\n",
       "    <tr style=\"text-align: right;\">\n",
       "      <th></th>\n",
       "      <th>country</th>\n",
       "      <th>beer_servings</th>\n",
       "      <th>spirit_servings</th>\n",
       "      <th>wine_servings</th>\n",
       "      <th>total_litres_of_pure_alcohol</th>\n",
       "      <th>continent</th>\n",
       "    </tr>\n",
       "  </thead>\n",
       "  <tbody>\n",
       "    <tr>\n",
       "      <th>0</th>\n",
       "      <td>Afghanistan</td>\n",
       "      <td>0</td>\n",
       "      <td>0</td>\n",
       "      <td>0</td>\n",
       "      <td>0.0</td>\n",
       "      <td>Asia</td>\n",
       "    </tr>\n",
       "    <tr>\n",
       "      <th>1</th>\n",
       "      <td>Albania</td>\n",
       "      <td>89</td>\n",
       "      <td>132</td>\n",
       "      <td>54</td>\n",
       "      <td>4.9</td>\n",
       "      <td>Europe</td>\n",
       "    </tr>\n",
       "    <tr>\n",
       "      <th>2</th>\n",
       "      <td>Algeria</td>\n",
       "      <td>25</td>\n",
       "      <td>0</td>\n",
       "      <td>14</td>\n",
       "      <td>0.7</td>\n",
       "      <td>Africa</td>\n",
       "    </tr>\n",
       "    <tr>\n",
       "      <th>3</th>\n",
       "      <td>Andorra</td>\n",
       "      <td>245</td>\n",
       "      <td>138</td>\n",
       "      <td>312</td>\n",
       "      <td>12.4</td>\n",
       "      <td>Europe</td>\n",
       "    </tr>\n",
       "    <tr>\n",
       "      <th>4</th>\n",
       "      <td>Angola</td>\n",
       "      <td>217</td>\n",
       "      <td>57</td>\n",
       "      <td>45</td>\n",
       "      <td>5.9</td>\n",
       "      <td>Africa</td>\n",
       "    </tr>\n",
       "  </tbody>\n",
       "</table>\n",
       "</div>"
      ],
      "text/plain": [
       "       country  beer_servings  spirit_servings  wine_servings  \\\n",
       "0  Afghanistan              0                0              0   \n",
       "1      Albania             89              132             54   \n",
       "2      Algeria             25                0             14   \n",
       "3      Andorra            245              138            312   \n",
       "4       Angola            217               57             45   \n",
       "\n",
       "   total_litres_of_pure_alcohol continent  \n",
       "0                           0.0      Asia  \n",
       "1                           4.9    Europe  \n",
       "2                           0.7    Africa  \n",
       "3                          12.4    Europe  \n",
       "4                           5.9    Africa  "
      ]
     },
     "execution_count": 4,
     "metadata": {},
     "output_type": "execute_result"
    }
   ],
   "source": [
    "df.head()"
   ]
  },
  {
   "cell_type": "code",
   "execution_count": 5,
   "id": "fc500efd-3347-467b-b200-d8d14bf82477",
   "metadata": {},
   "outputs": [
    {
     "data": {
      "text/html": [
       "<div>\n",
       "<style scoped>\n",
       "    .dataframe tbody tr th:only-of-type {\n",
       "        vertical-align: middle;\n",
       "    }\n",
       "\n",
       "    .dataframe tbody tr th {\n",
       "        vertical-align: top;\n",
       "    }\n",
       "\n",
       "    .dataframe thead th {\n",
       "        text-align: right;\n",
       "    }\n",
       "</style>\n",
       "<table border=\"1\" class=\"dataframe\">\n",
       "  <thead>\n",
       "    <tr style=\"text-align: right;\">\n",
       "      <th></th>\n",
       "      <th>country</th>\n",
       "      <th>beer_servings</th>\n",
       "      <th>spirit_servings</th>\n",
       "      <th>wine_servings</th>\n",
       "      <th>total_litres_of_pure_alcohol</th>\n",
       "      <th>continent</th>\n",
       "    </tr>\n",
       "  </thead>\n",
       "  <tbody>\n",
       "    <tr>\n",
       "      <th>188</th>\n",
       "      <td>Venezuela</td>\n",
       "      <td>333</td>\n",
       "      <td>100</td>\n",
       "      <td>3</td>\n",
       "      <td>7.7</td>\n",
       "      <td>South America</td>\n",
       "    </tr>\n",
       "    <tr>\n",
       "      <th>189</th>\n",
       "      <td>Vietnam</td>\n",
       "      <td>111</td>\n",
       "      <td>2</td>\n",
       "      <td>1</td>\n",
       "      <td>2.0</td>\n",
       "      <td>Asia</td>\n",
       "    </tr>\n",
       "    <tr>\n",
       "      <th>190</th>\n",
       "      <td>Yemen</td>\n",
       "      <td>6</td>\n",
       "      <td>0</td>\n",
       "      <td>0</td>\n",
       "      <td>0.1</td>\n",
       "      <td>Asia</td>\n",
       "    </tr>\n",
       "    <tr>\n",
       "      <th>191</th>\n",
       "      <td>Zambia</td>\n",
       "      <td>32</td>\n",
       "      <td>19</td>\n",
       "      <td>4</td>\n",
       "      <td>2.5</td>\n",
       "      <td>Africa</td>\n",
       "    </tr>\n",
       "    <tr>\n",
       "      <th>192</th>\n",
       "      <td>Zimbabwe</td>\n",
       "      <td>64</td>\n",
       "      <td>18</td>\n",
       "      <td>4</td>\n",
       "      <td>4.7</td>\n",
       "      <td>Africa</td>\n",
       "    </tr>\n",
       "  </tbody>\n",
       "</table>\n",
       "</div>"
      ],
      "text/plain": [
       "       country  beer_servings  spirit_servings  wine_servings  \\\n",
       "188  Venezuela            333              100              3   \n",
       "189    Vietnam            111                2              1   \n",
       "190      Yemen              6                0              0   \n",
       "191     Zambia             32               19              4   \n",
       "192   Zimbabwe             64               18              4   \n",
       "\n",
       "     total_litres_of_pure_alcohol      continent  \n",
       "188                           7.7  South America  \n",
       "189                           2.0           Asia  \n",
       "190                           0.1           Asia  \n",
       "191                           2.5         Africa  \n",
       "192                           4.7         Africa  "
      ]
     },
     "execution_count": 5,
     "metadata": {},
     "output_type": "execute_result"
    }
   ],
   "source": [
    "df.tail()"
   ]
  },
  {
   "cell_type": "markdown",
   "id": "9ba2676e-82a0-49ce-8408-042e03adfc0a",
   "metadata": {},
   "source": [
    "#### How many records, or countries? "
   ]
  },
  {
   "cell_type": "code",
   "execution_count": 6,
   "id": "922bcbc3-11aa-4ab7-9c07-46cbea5cc290",
   "metadata": {},
   "outputs": [
    {
     "data": {
      "text/plain": [
       "193"
      ]
     },
     "execution_count": 6,
     "metadata": {},
     "output_type": "execute_result"
    }
   ],
   "source": [
    "len(df)"
   ]
  },
  {
   "cell_type": "markdown",
   "id": "9ec429cc-8f30-4483-a861-a7de743506c4",
   "metadata": {},
   "source": [
    "#### How many countries in each continent? "
   ]
  },
  {
   "cell_type": "code",
   "execution_count": 22,
   "id": "8afed303-39dd-4485-a2d4-9ee2fb6ed086",
   "metadata": {},
   "outputs": [
    {
     "data": {
      "text/plain": [
       "continent\n",
       "Africa           53\n",
       "Europe           45\n",
       "Asia             44\n",
       "North America    23\n",
       "Oceania          16\n",
       "South America    12\n",
       "dtype: int64"
      ]
     },
     "execution_count": 22,
     "metadata": {},
     "output_type": "execute_result"
    }
   ],
   "source": [
    "df.value_counts('continent')"
   ]
  },
  {
   "cell_type": "markdown",
   "id": "c88251c5-02b4-443b-b76d-a591fac05765",
   "metadata": {},
   "source": [
    "---"
   ]
  },
  {
   "cell_type": "markdown",
   "id": "5a3a0065-af3d-49b4-a711-c1280c87c002",
   "metadata": {},
   "source": [
    "#### What's the average beer servings in all countries? "
   ]
  },
  {
   "cell_type": "code",
   "execution_count": 43,
   "id": "25b4df48-644b-423d-a0b7-fdc25bf80608",
   "metadata": {},
   "outputs": [
    {
     "data": {
      "text/plain": [
       "106.16062176165804"
      ]
     },
     "execution_count": 43,
     "metadata": {},
     "output_type": "execute_result"
    }
   ],
   "source": [
    "df['beer_servings'].mean()"
   ]
  },
  {
   "cell_type": "markdown",
   "id": "682e00c1-5d9b-4fc7-9bb7-8b0ba2c79893",
   "metadata": {},
   "source": [
    "#### But what about **for each** continent? "
   ]
  },
  {
   "cell_type": "code",
   "execution_count": 13,
   "id": "33034e04-cb8a-406c-9285-2894df661176",
   "metadata": {},
   "outputs": [
    {
     "data": {
      "text/plain": [
       "continent\n",
       "Africa            61.471698\n",
       "Asia              37.045455\n",
       "Europe           193.777778\n",
       "North America    145.434783\n",
       "Oceania           89.687500\n",
       "South America    175.083333\n",
       "Name: beer_servings, dtype: float64"
      ]
     },
     "execution_count": 13,
     "metadata": {},
     "output_type": "execute_result"
    }
   ],
   "source": [
    "df.groupby(['continent'])['beer_servings'].mean()"
   ]
  },
  {
   "cell_type": "markdown",
   "id": "0d77fd16-4cb9-4ddc-a6ef-335306507ac2",
   "metadata": {},
   "source": [
    "#### You're basically doing this, but **for each** continent"
   ]
  },
  {
   "cell_type": "code",
   "execution_count": 19,
   "id": "fc883c68-71f2-4c5c-897e-8acec57c7678",
   "metadata": {},
   "outputs": [
    {
     "data": {
      "text/plain": [
       "61.471698113207545"
      ]
     },
     "execution_count": 19,
     "metadata": {},
     "output_type": "execute_result"
    }
   ],
   "source": [
    "df[df['continent'] == 'Africa']['beer_servings'].mean()"
   ]
  },
  {
   "cell_type": "markdown",
   "id": "72922226-a776-45b9-8eaa-50e00a25a23d",
   "metadata": {},
   "source": [
    "#### Or ... "
   ]
  },
  {
   "cell_type": "code",
   "execution_count": 18,
   "id": "8e029a8d-3acc-4718-bac7-3f6129877b52",
   "metadata": {},
   "outputs": [
    {
     "data": {
      "text/plain": [
       "145.43478260869566"
      ]
     },
     "execution_count": 18,
     "metadata": {},
     "output_type": "execute_result"
    }
   ],
   "source": [
    "df[df['continent'] == 'North America']['beer_servings'].mean()"
   ]
  },
  {
   "cell_type": "markdown",
   "id": "f091a503-65dc-4be6-b648-bb54f8b1cc57",
   "metadata": {},
   "source": [
    "#### Remember, you can filter a dataframe — in this case to see each country in North America:"
   ]
  },
  {
   "cell_type": "code",
   "execution_count": 21,
   "id": "1c205fb8-a829-4802-911a-f9ab727d2eba",
   "metadata": {},
   "outputs": [
    {
     "data": {
      "text/html": [
       "<div>\n",
       "<style scoped>\n",
       "    .dataframe tbody tr th:only-of-type {\n",
       "        vertical-align: middle;\n",
       "    }\n",
       "\n",
       "    .dataframe tbody tr th {\n",
       "        vertical-align: top;\n",
       "    }\n",
       "\n",
       "    .dataframe thead th {\n",
       "        text-align: right;\n",
       "    }\n",
       "</style>\n",
       "<table border=\"1\" class=\"dataframe\">\n",
       "  <thead>\n",
       "    <tr style=\"text-align: right;\">\n",
       "      <th></th>\n",
       "      <th>country</th>\n",
       "      <th>beer_servings</th>\n",
       "      <th>spirit_servings</th>\n",
       "      <th>wine_servings</th>\n",
       "      <th>total_litres_of_pure_alcohol</th>\n",
       "      <th>continent</th>\n",
       "    </tr>\n",
       "  </thead>\n",
       "  <tbody>\n",
       "    <tr>\n",
       "      <th>3</th>\n",
       "      <td>Andorra</td>\n",
       "      <td>245</td>\n",
       "      <td>138</td>\n",
       "      <td>312</td>\n",
       "      <td>12.4</td>\n",
       "      <td>Europe</td>\n",
       "    </tr>\n",
       "    <tr>\n",
       "      <th>4</th>\n",
       "      <td>Angola</td>\n",
       "      <td>217</td>\n",
       "      <td>57</td>\n",
       "      <td>45</td>\n",
       "      <td>5.9</td>\n",
       "      <td>Africa</td>\n",
       "    </tr>\n",
       "    <tr>\n",
       "      <th>8</th>\n",
       "      <td>Australia</td>\n",
       "      <td>261</td>\n",
       "      <td>72</td>\n",
       "      <td>212</td>\n",
       "      <td>10.4</td>\n",
       "      <td>Oceania</td>\n",
       "    </tr>\n",
       "    <tr>\n",
       "      <th>9</th>\n",
       "      <td>Austria</td>\n",
       "      <td>279</td>\n",
       "      <td>75</td>\n",
       "      <td>191</td>\n",
       "      <td>9.7</td>\n",
       "      <td>Europe</td>\n",
       "    </tr>\n",
       "    <tr>\n",
       "      <th>16</th>\n",
       "      <td>Belgium</td>\n",
       "      <td>295</td>\n",
       "      <td>84</td>\n",
       "      <td>212</td>\n",
       "      <td>10.5</td>\n",
       "      <td>Europe</td>\n",
       "    </tr>\n",
       "    <tr>\n",
       "      <th>17</th>\n",
       "      <td>Belize</td>\n",
       "      <td>263</td>\n",
       "      <td>114</td>\n",
       "      <td>8</td>\n",
       "      <td>6.8</td>\n",
       "      <td>North America</td>\n",
       "    </tr>\n",
       "    <tr>\n",
       "      <th>23</th>\n",
       "      <td>Brazil</td>\n",
       "      <td>245</td>\n",
       "      <td>145</td>\n",
       "      <td>16</td>\n",
       "      <td>7.2</td>\n",
       "      <td>South America</td>\n",
       "    </tr>\n",
       "    <tr>\n",
       "      <th>25</th>\n",
       "      <td>Bulgaria</td>\n",
       "      <td>231</td>\n",
       "      <td>252</td>\n",
       "      <td>94</td>\n",
       "      <td>10.3</td>\n",
       "      <td>Europe</td>\n",
       "    </tr>\n",
       "    <tr>\n",
       "      <th>32</th>\n",
       "      <td>Canada</td>\n",
       "      <td>240</td>\n",
       "      <td>122</td>\n",
       "      <td>100</td>\n",
       "      <td>8.2</td>\n",
       "      <td>North America</td>\n",
       "    </tr>\n",
       "    <tr>\n",
       "      <th>42</th>\n",
       "      <td>Croatia</td>\n",
       "      <td>230</td>\n",
       "      <td>87</td>\n",
       "      <td>254</td>\n",
       "      <td>10.2</td>\n",
       "      <td>Europe</td>\n",
       "    </tr>\n",
       "    <tr>\n",
       "      <th>45</th>\n",
       "      <td>Czech Republic</td>\n",
       "      <td>361</td>\n",
       "      <td>170</td>\n",
       "      <td>134</td>\n",
       "      <td>11.8</td>\n",
       "      <td>Europe</td>\n",
       "    </tr>\n",
       "    <tr>\n",
       "      <th>48</th>\n",
       "      <td>Denmark</td>\n",
       "      <td>224</td>\n",
       "      <td>81</td>\n",
       "      <td>278</td>\n",
       "      <td>10.4</td>\n",
       "      <td>Europe</td>\n",
       "    </tr>\n",
       "    <tr>\n",
       "      <th>57</th>\n",
       "      <td>Estonia</td>\n",
       "      <td>224</td>\n",
       "      <td>194</td>\n",
       "      <td>59</td>\n",
       "      <td>9.5</td>\n",
       "      <td>Europe</td>\n",
       "    </tr>\n",
       "    <tr>\n",
       "      <th>60</th>\n",
       "      <td>Finland</td>\n",
       "      <td>263</td>\n",
       "      <td>133</td>\n",
       "      <td>97</td>\n",
       "      <td>10.0</td>\n",
       "      <td>Europe</td>\n",
       "    </tr>\n",
       "    <tr>\n",
       "      <th>62</th>\n",
       "      <td>Gabon</td>\n",
       "      <td>347</td>\n",
       "      <td>98</td>\n",
       "      <td>59</td>\n",
       "      <td>8.9</td>\n",
       "      <td>Africa</td>\n",
       "    </tr>\n",
       "    <tr>\n",
       "      <th>65</th>\n",
       "      <td>Germany</td>\n",
       "      <td>346</td>\n",
       "      <td>117</td>\n",
       "      <td>175</td>\n",
       "      <td>11.3</td>\n",
       "      <td>Europe</td>\n",
       "    </tr>\n",
       "    <tr>\n",
       "      <th>75</th>\n",
       "      <td>Hungary</td>\n",
       "      <td>234</td>\n",
       "      <td>215</td>\n",
       "      <td>185</td>\n",
       "      <td>11.3</td>\n",
       "      <td>Europe</td>\n",
       "    </tr>\n",
       "    <tr>\n",
       "      <th>76</th>\n",
       "      <td>Iceland</td>\n",
       "      <td>233</td>\n",
       "      <td>61</td>\n",
       "      <td>78</td>\n",
       "      <td>6.6</td>\n",
       "      <td>Europe</td>\n",
       "    </tr>\n",
       "    <tr>\n",
       "      <th>81</th>\n",
       "      <td>Ireland</td>\n",
       "      <td>313</td>\n",
       "      <td>118</td>\n",
       "      <td>165</td>\n",
       "      <td>11.4</td>\n",
       "      <td>Europe</td>\n",
       "    </tr>\n",
       "    <tr>\n",
       "      <th>93</th>\n",
       "      <td>Latvia</td>\n",
       "      <td>281</td>\n",
       "      <td>216</td>\n",
       "      <td>62</td>\n",
       "      <td>10.5</td>\n",
       "      <td>Europe</td>\n",
       "    </tr>\n",
       "    <tr>\n",
       "      <th>98</th>\n",
       "      <td>Lithuania</td>\n",
       "      <td>343</td>\n",
       "      <td>244</td>\n",
       "      <td>56</td>\n",
       "      <td>12.9</td>\n",
       "      <td>Europe</td>\n",
       "    </tr>\n",
       "    <tr>\n",
       "      <th>99</th>\n",
       "      <td>Luxembourg</td>\n",
       "      <td>236</td>\n",
       "      <td>133</td>\n",
       "      <td>271</td>\n",
       "      <td>11.4</td>\n",
       "      <td>Europe</td>\n",
       "    </tr>\n",
       "    <tr>\n",
       "      <th>109</th>\n",
       "      <td>Mexico</td>\n",
       "      <td>238</td>\n",
       "      <td>68</td>\n",
       "      <td>5</td>\n",
       "      <td>5.5</td>\n",
       "      <td>North America</td>\n",
       "    </tr>\n",
       "    <tr>\n",
       "      <th>117</th>\n",
       "      <td>Namibia</td>\n",
       "      <td>376</td>\n",
       "      <td>3</td>\n",
       "      <td>1</td>\n",
       "      <td>6.8</td>\n",
       "      <td>Africa</td>\n",
       "    </tr>\n",
       "    <tr>\n",
       "      <th>120</th>\n",
       "      <td>Netherlands</td>\n",
       "      <td>251</td>\n",
       "      <td>88</td>\n",
       "      <td>190</td>\n",
       "      <td>9.4</td>\n",
       "      <td>Europe</td>\n",
       "    </tr>\n",
       "    <tr>\n",
       "      <th>121</th>\n",
       "      <td>New Zealand</td>\n",
       "      <td>203</td>\n",
       "      <td>79</td>\n",
       "      <td>175</td>\n",
       "      <td>9.3</td>\n",
       "      <td>Oceania</td>\n",
       "    </tr>\n",
       "    <tr>\n",
       "      <th>129</th>\n",
       "      <td>Palau</td>\n",
       "      <td>306</td>\n",
       "      <td>63</td>\n",
       "      <td>23</td>\n",
       "      <td>6.9</td>\n",
       "      <td>Oceania</td>\n",
       "    </tr>\n",
       "    <tr>\n",
       "      <th>130</th>\n",
       "      <td>Panama</td>\n",
       "      <td>285</td>\n",
       "      <td>104</td>\n",
       "      <td>18</td>\n",
       "      <td>7.2</td>\n",
       "      <td>North America</td>\n",
       "    </tr>\n",
       "    <tr>\n",
       "      <th>132</th>\n",
       "      <td>Paraguay</td>\n",
       "      <td>213</td>\n",
       "      <td>117</td>\n",
       "      <td>74</td>\n",
       "      <td>7.3</td>\n",
       "      <td>South America</td>\n",
       "    </tr>\n",
       "    <tr>\n",
       "      <th>135</th>\n",
       "      <td>Poland</td>\n",
       "      <td>343</td>\n",
       "      <td>215</td>\n",
       "      <td>56</td>\n",
       "      <td>10.9</td>\n",
       "      <td>Europe</td>\n",
       "    </tr>\n",
       "    <tr>\n",
       "      <th>140</th>\n",
       "      <td>Romania</td>\n",
       "      <td>297</td>\n",
       "      <td>122</td>\n",
       "      <td>167</td>\n",
       "      <td>10.4</td>\n",
       "      <td>Europe</td>\n",
       "    </tr>\n",
       "    <tr>\n",
       "      <th>141</th>\n",
       "      <td>Russian Federation</td>\n",
       "      <td>247</td>\n",
       "      <td>326</td>\n",
       "      <td>73</td>\n",
       "      <td>11.5</td>\n",
       "      <td>Asia</td>\n",
       "    </tr>\n",
       "    <tr>\n",
       "      <th>151</th>\n",
       "      <td>Serbia</td>\n",
       "      <td>283</td>\n",
       "      <td>131</td>\n",
       "      <td>127</td>\n",
       "      <td>9.6</td>\n",
       "      <td>Europe</td>\n",
       "    </tr>\n",
       "    <tr>\n",
       "      <th>156</th>\n",
       "      <td>Slovenia</td>\n",
       "      <td>270</td>\n",
       "      <td>51</td>\n",
       "      <td>276</td>\n",
       "      <td>10.6</td>\n",
       "      <td>Europe</td>\n",
       "    </tr>\n",
       "    <tr>\n",
       "      <th>159</th>\n",
       "      <td>South Africa</td>\n",
       "      <td>225</td>\n",
       "      <td>76</td>\n",
       "      <td>81</td>\n",
       "      <td>8.2</td>\n",
       "      <td>Africa</td>\n",
       "    </tr>\n",
       "    <tr>\n",
       "      <th>160</th>\n",
       "      <td>Spain</td>\n",
       "      <td>284</td>\n",
       "      <td>157</td>\n",
       "      <td>112</td>\n",
       "      <td>10.0</td>\n",
       "      <td>Europe</td>\n",
       "    </tr>\n",
       "    <tr>\n",
       "      <th>180</th>\n",
       "      <td>Ukraine</td>\n",
       "      <td>206</td>\n",
       "      <td>237</td>\n",
       "      <td>45</td>\n",
       "      <td>8.9</td>\n",
       "      <td>Europe</td>\n",
       "    </tr>\n",
       "    <tr>\n",
       "      <th>182</th>\n",
       "      <td>United Kingdom</td>\n",
       "      <td>219</td>\n",
       "      <td>126</td>\n",
       "      <td>195</td>\n",
       "      <td>10.4</td>\n",
       "      <td>Europe</td>\n",
       "    </tr>\n",
       "    <tr>\n",
       "      <th>184</th>\n",
       "      <td>USA</td>\n",
       "      <td>249</td>\n",
       "      <td>158</td>\n",
       "      <td>84</td>\n",
       "      <td>8.7</td>\n",
       "      <td>North America</td>\n",
       "    </tr>\n",
       "    <tr>\n",
       "      <th>188</th>\n",
       "      <td>Venezuela</td>\n",
       "      <td>333</td>\n",
       "      <td>100</td>\n",
       "      <td>3</td>\n",
       "      <td>7.7</td>\n",
       "      <td>South America</td>\n",
       "    </tr>\n",
       "  </tbody>\n",
       "</table>\n",
       "</div>"
      ],
      "text/plain": [
       "                country  beer_servings  spirit_servings  wine_servings  \\\n",
       "3               Andorra            245              138            312   \n",
       "4                Angola            217               57             45   \n",
       "8             Australia            261               72            212   \n",
       "9               Austria            279               75            191   \n",
       "16              Belgium            295               84            212   \n",
       "17               Belize            263              114              8   \n",
       "23               Brazil            245              145             16   \n",
       "25             Bulgaria            231              252             94   \n",
       "32               Canada            240              122            100   \n",
       "42              Croatia            230               87            254   \n",
       "45       Czech Republic            361              170            134   \n",
       "48              Denmark            224               81            278   \n",
       "57              Estonia            224              194             59   \n",
       "60              Finland            263              133             97   \n",
       "62                Gabon            347               98             59   \n",
       "65              Germany            346              117            175   \n",
       "75              Hungary            234              215            185   \n",
       "76              Iceland            233               61             78   \n",
       "81              Ireland            313              118            165   \n",
       "93               Latvia            281              216             62   \n",
       "98            Lithuania            343              244             56   \n",
       "99           Luxembourg            236              133            271   \n",
       "109              Mexico            238               68              5   \n",
       "117             Namibia            376                3              1   \n",
       "120         Netherlands            251               88            190   \n",
       "121         New Zealand            203               79            175   \n",
       "129               Palau            306               63             23   \n",
       "130              Panama            285              104             18   \n",
       "132            Paraguay            213              117             74   \n",
       "135              Poland            343              215             56   \n",
       "140             Romania            297              122            167   \n",
       "141  Russian Federation            247              326             73   \n",
       "151              Serbia            283              131            127   \n",
       "156            Slovenia            270               51            276   \n",
       "159        South Africa            225               76             81   \n",
       "160               Spain            284              157            112   \n",
       "180             Ukraine            206              237             45   \n",
       "182      United Kingdom            219              126            195   \n",
       "184                 USA            249              158             84   \n",
       "188           Venezuela            333              100              3   \n",
       "\n",
       "     total_litres_of_pure_alcohol      continent  \n",
       "3                            12.4         Europe  \n",
       "4                             5.9         Africa  \n",
       "8                            10.4        Oceania  \n",
       "9                             9.7         Europe  \n",
       "16                           10.5         Europe  \n",
       "17                            6.8  North America  \n",
       "23                            7.2  South America  \n",
       "25                           10.3         Europe  \n",
       "32                            8.2  North America  \n",
       "42                           10.2         Europe  \n",
       "45                           11.8         Europe  \n",
       "48                           10.4         Europe  \n",
       "57                            9.5         Europe  \n",
       "60                           10.0         Europe  \n",
       "62                            8.9         Africa  \n",
       "65                           11.3         Europe  \n",
       "75                           11.3         Europe  \n",
       "76                            6.6         Europe  \n",
       "81                           11.4         Europe  \n",
       "93                           10.5         Europe  \n",
       "98                           12.9         Europe  \n",
       "99                           11.4         Europe  \n",
       "109                           5.5  North America  \n",
       "117                           6.8         Africa  \n",
       "120                           9.4         Europe  \n",
       "121                           9.3        Oceania  \n",
       "129                           6.9        Oceania  \n",
       "130                           7.2  North America  \n",
       "132                           7.3  South America  \n",
       "135                          10.9         Europe  \n",
       "140                          10.4         Europe  \n",
       "141                          11.5           Asia  \n",
       "151                           9.6         Europe  \n",
       "156                          10.6         Europe  \n",
       "159                           8.2         Africa  \n",
       "160                          10.0         Europe  \n",
       "180                           8.9         Europe  \n",
       "182                          10.4         Europe  \n",
       "184                           8.7  North America  \n",
       "188                           7.7  South America  "
      ]
     },
     "execution_count": 21,
     "metadata": {},
     "output_type": "execute_result"
    }
   ],
   "source": [
    "df[df['beer_servings'] > 200]"
   ]
  },
  {
   "cell_type": "code",
   "execution_count": 24,
   "id": "c2ae3219-6d88-4097-97a2-8d20ef371a66",
   "metadata": {},
   "outputs": [],
   "source": [
    "north_america=df[df['continent'] == 'North America']"
   ]
  },
  {
   "cell_type": "markdown",
   "id": "399d9a59-e485-4ca7-90e6-c423cd86daba",
   "metadata": {},
   "source": [
    "#### Which countries consume the most beer? "
   ]
  },
  {
   "cell_type": "code",
   "execution_count": 25,
   "id": "60f6f19f-ef2e-4a3f-9f23-1a1e750171b6",
   "metadata": {},
   "outputs": [
    {
     "data": {
      "text/html": [
       "<div>\n",
       "<style scoped>\n",
       "    .dataframe tbody tr th:only-of-type {\n",
       "        vertical-align: middle;\n",
       "    }\n",
       "\n",
       "    .dataframe tbody tr th {\n",
       "        vertical-align: top;\n",
       "    }\n",
       "\n",
       "    .dataframe thead th {\n",
       "        text-align: right;\n",
       "    }\n",
       "</style>\n",
       "<table border=\"1\" class=\"dataframe\">\n",
       "  <thead>\n",
       "    <tr style=\"text-align: right;\">\n",
       "      <th></th>\n",
       "      <th>country</th>\n",
       "      <th>beer_servings</th>\n",
       "      <th>spirit_servings</th>\n",
       "      <th>wine_servings</th>\n",
       "      <th>total_litres_of_pure_alcohol</th>\n",
       "      <th>continent</th>\n",
       "    </tr>\n",
       "  </thead>\n",
       "  <tbody>\n",
       "    <tr>\n",
       "      <th>130</th>\n",
       "      <td>Panama</td>\n",
       "      <td>285</td>\n",
       "      <td>104</td>\n",
       "      <td>18</td>\n",
       "      <td>7.2</td>\n",
       "      <td>North America</td>\n",
       "    </tr>\n",
       "    <tr>\n",
       "      <th>17</th>\n",
       "      <td>Belize</td>\n",
       "      <td>263</td>\n",
       "      <td>114</td>\n",
       "      <td>8</td>\n",
       "      <td>6.8</td>\n",
       "      <td>North America</td>\n",
       "    </tr>\n",
       "    <tr>\n",
       "      <th>184</th>\n",
       "      <td>USA</td>\n",
       "      <td>249</td>\n",
       "      <td>158</td>\n",
       "      <td>84</td>\n",
       "      <td>8.7</td>\n",
       "      <td>North America</td>\n",
       "    </tr>\n",
       "    <tr>\n",
       "      <th>32</th>\n",
       "      <td>Canada</td>\n",
       "      <td>240</td>\n",
       "      <td>122</td>\n",
       "      <td>100</td>\n",
       "      <td>8.2</td>\n",
       "      <td>North America</td>\n",
       "    </tr>\n",
       "    <tr>\n",
       "      <th>109</th>\n",
       "      <td>Mexico</td>\n",
       "      <td>238</td>\n",
       "      <td>68</td>\n",
       "      <td>5</td>\n",
       "      <td>5.5</td>\n",
       "      <td>North America</td>\n",
       "    </tr>\n",
       "  </tbody>\n",
       "</table>\n",
       "</div>"
      ],
      "text/plain": [
       "    country  beer_servings  spirit_servings  wine_servings  \\\n",
       "130  Panama            285              104             18   \n",
       "17   Belize            263              114              8   \n",
       "184     USA            249              158             84   \n",
       "32   Canada            240              122            100   \n",
       "109  Mexico            238               68              5   \n",
       "\n",
       "     total_litres_of_pure_alcohol      continent  \n",
       "130                           7.2  North America  \n",
       "17                            6.8  North America  \n",
       "184                           8.7  North America  \n",
       "32                            8.2  North America  \n",
       "109                           5.5  North America  "
      ]
     },
     "execution_count": 25,
     "metadata": {},
     "output_type": "execute_result"
    }
   ],
   "source": [
    "north_america.sort_values('beer_servings', ascending=False).head()"
   ]
  },
  {
   "cell_type": "markdown",
   "id": "a213f6a0-116a-480a-bfad-8b4b6191d361",
   "metadata": {},
   "source": [
    "#### Or total litres of alcohol"
   ]
  },
  {
   "cell_type": "code",
   "execution_count": 26,
   "id": "21b72710-f4b7-4d1f-a319-1fd44eefafd6",
   "metadata": {},
   "outputs": [
    {
     "data": {
      "text/html": [
       "<div>\n",
       "<style scoped>\n",
       "    .dataframe tbody tr th:only-of-type {\n",
       "        vertical-align: middle;\n",
       "    }\n",
       "\n",
       "    .dataframe tbody tr th {\n",
       "        vertical-align: top;\n",
       "    }\n",
       "\n",
       "    .dataframe thead th {\n",
       "        text-align: right;\n",
       "    }\n",
       "</style>\n",
       "<table border=\"1\" class=\"dataframe\">\n",
       "  <thead>\n",
       "    <tr style=\"text-align: right;\">\n",
       "      <th></th>\n",
       "      <th>country</th>\n",
       "      <th>beer_servings</th>\n",
       "      <th>spirit_servings</th>\n",
       "      <th>wine_servings</th>\n",
       "      <th>total_litres_of_pure_alcohol</th>\n",
       "      <th>continent</th>\n",
       "    </tr>\n",
       "  </thead>\n",
       "  <tbody>\n",
       "    <tr>\n",
       "      <th>68</th>\n",
       "      <td>Grenada</td>\n",
       "      <td>199</td>\n",
       "      <td>438</td>\n",
       "      <td>28</td>\n",
       "      <td>11.9</td>\n",
       "      <td>North America</td>\n",
       "    </tr>\n",
       "    <tr>\n",
       "      <th>144</th>\n",
       "      <td>St. Lucia</td>\n",
       "      <td>171</td>\n",
       "      <td>315</td>\n",
       "      <td>71</td>\n",
       "      <td>10.1</td>\n",
       "      <td>North America</td>\n",
       "    </tr>\n",
       "    <tr>\n",
       "      <th>184</th>\n",
       "      <td>USA</td>\n",
       "      <td>249</td>\n",
       "      <td>158</td>\n",
       "      <td>84</td>\n",
       "      <td>8.7</td>\n",
       "      <td>North America</td>\n",
       "    </tr>\n",
       "    <tr>\n",
       "      <th>32</th>\n",
       "      <td>Canada</td>\n",
       "      <td>240</td>\n",
       "      <td>122</td>\n",
       "      <td>100</td>\n",
       "      <td>8.2</td>\n",
       "      <td>North America</td>\n",
       "    </tr>\n",
       "    <tr>\n",
       "      <th>143</th>\n",
       "      <td>St. Kitts &amp; Nevis</td>\n",
       "      <td>194</td>\n",
       "      <td>205</td>\n",
       "      <td>32</td>\n",
       "      <td>7.7</td>\n",
       "      <td>North America</td>\n",
       "    </tr>\n",
       "  </tbody>\n",
       "</table>\n",
       "</div>"
      ],
      "text/plain": [
       "               country  beer_servings  spirit_servings  wine_servings  \\\n",
       "68             Grenada            199              438             28   \n",
       "144          St. Lucia            171              315             71   \n",
       "184                USA            249              158             84   \n",
       "32              Canada            240              122            100   \n",
       "143  St. Kitts & Nevis            194              205             32   \n",
       "\n",
       "     total_litres_of_pure_alcohol      continent  \n",
       "68                           11.9  North America  \n",
       "144                          10.1  North America  \n",
       "184                           8.7  North America  \n",
       "32                            8.2  North America  \n",
       "143                           7.7  North America  "
      ]
     },
     "execution_count": 26,
     "metadata": {},
     "output_type": "execute_result"
    }
   ],
   "source": [
    "north_america.sort_values('total_litres_of_pure_alcohol', ascending=False).head()"
   ]
  },
  {
   "cell_type": "markdown",
   "id": "15c1939d-8c6f-43c6-8733-ea6d1b0d80ca",
   "metadata": {},
   "source": [
    "---"
   ]
  },
  {
   "cell_type": "markdown",
   "id": "e51254b0-fedb-494b-830b-0748f500ac16",
   "metadata": {},
   "source": [
    "#### Back to groupby: You can use other aggregation methods, too"
   ]
  },
  {
   "cell_type": "code",
   "execution_count": 28,
   "id": "9c63a07e-20ea-431f-bd34-cbf3b60b6ee9",
   "metadata": {},
   "outputs": [
    {
     "data": {
      "text/plain": [
       "continent\n",
       "Africa           376\n",
       "Asia             247\n",
       "Europe           361\n",
       "North America    285\n",
       "Oceania          306\n",
       "South America    333\n",
       "Name: beer_servings, dtype: int64"
      ]
     },
     "execution_count": 28,
     "metadata": {},
     "output_type": "execute_result"
    }
   ],
   "source": [
    "df.groupby(['continent'])['beer_servings'].max()"
   ]
  },
  {
   "cell_type": "code",
   "execution_count": 32,
   "id": "d3d4a466-8227-4fc1-bb89-87a5193851ff",
   "metadata": {},
   "outputs": [
    {
     "data": {
      "text/plain": [
       "continent\n",
       "Africa            0\n",
       "Asia              0\n",
       "Europe            0\n",
       "North America     1\n",
       "Oceania           0\n",
       "South America    93\n",
       "Name: beer_servings, dtype: int64"
      ]
     },
     "execution_count": 32,
     "metadata": {},
     "output_type": "execute_result"
    }
   ],
   "source": [
    "df.groupby(['continent'])['beer_servings'].min()"
   ]
  },
  {
   "cell_type": "markdown",
   "id": "2d5d58f6-8131-4851-bb21-1d4081434738",
   "metadata": {},
   "source": [
    "#### Which country drinks the most beer?"
   ]
  },
  {
   "cell_type": "code",
   "execution_count": 33,
   "id": "2f69d825-dedf-44dc-8183-afe9554d531f",
   "metadata": {},
   "outputs": [
    {
     "data": {
      "text/html": [
       "<div>\n",
       "<style scoped>\n",
       "    .dataframe tbody tr th:only-of-type {\n",
       "        vertical-align: middle;\n",
       "    }\n",
       "\n",
       "    .dataframe tbody tr th {\n",
       "        vertical-align: top;\n",
       "    }\n",
       "\n",
       "    .dataframe thead th {\n",
       "        text-align: right;\n",
       "    }\n",
       "</style>\n",
       "<table border=\"1\" class=\"dataframe\">\n",
       "  <thead>\n",
       "    <tr style=\"text-align: right;\">\n",
       "      <th></th>\n",
       "      <th>country</th>\n",
       "      <th>beer_servings</th>\n",
       "      <th>spirit_servings</th>\n",
       "      <th>wine_servings</th>\n",
       "      <th>total_litres_of_pure_alcohol</th>\n",
       "      <th>continent</th>\n",
       "    </tr>\n",
       "  </thead>\n",
       "  <tbody>\n",
       "    <tr>\n",
       "      <th>117</th>\n",
       "      <td>Namibia</td>\n",
       "      <td>376</td>\n",
       "      <td>3</td>\n",
       "      <td>1</td>\n",
       "      <td>6.8</td>\n",
       "      <td>Africa</td>\n",
       "    </tr>\n",
       "  </tbody>\n",
       "</table>\n",
       "</div>"
      ],
      "text/plain": [
       "     country  beer_servings  spirit_servings  wine_servings  \\\n",
       "117  Namibia            376                3              1   \n",
       "\n",
       "     total_litres_of_pure_alcohol continent  \n",
       "117                           6.8    Africa  "
      ]
     },
     "execution_count": 33,
     "metadata": {},
     "output_type": "execute_result"
    }
   ],
   "source": [
    "df[df['beer_servings'] == df['beer_servings'].max()]"
   ]
  },
  {
   "cell_type": "markdown",
   "id": "77f6ee8c-87b0-420d-bf16-783b66fdc09b",
   "metadata": {},
   "source": [
    "#### Spirits?"
   ]
  },
  {
   "cell_type": "code",
   "execution_count": 35,
   "id": "1df5be9e-5d7b-4e7f-a214-b1e2a4efcc71",
   "metadata": {},
   "outputs": [
    {
     "data": {
      "text/html": [
       "<div>\n",
       "<style scoped>\n",
       "    .dataframe tbody tr th:only-of-type {\n",
       "        vertical-align: middle;\n",
       "    }\n",
       "\n",
       "    .dataframe tbody tr th {\n",
       "        vertical-align: top;\n",
       "    }\n",
       "\n",
       "    .dataframe thead th {\n",
       "        text-align: right;\n",
       "    }\n",
       "</style>\n",
       "<table border=\"1\" class=\"dataframe\">\n",
       "  <thead>\n",
       "    <tr style=\"text-align: right;\">\n",
       "      <th></th>\n",
       "      <th>country</th>\n",
       "      <th>beer_servings</th>\n",
       "      <th>spirit_servings</th>\n",
       "      <th>wine_servings</th>\n",
       "      <th>total_litres_of_pure_alcohol</th>\n",
       "      <th>continent</th>\n",
       "    </tr>\n",
       "  </thead>\n",
       "  <tbody>\n",
       "    <tr>\n",
       "      <th>15</th>\n",
       "      <td>Belarus</td>\n",
       "      <td>142</td>\n",
       "      <td>373</td>\n",
       "      <td>42</td>\n",
       "      <td>14.4</td>\n",
       "      <td>Europe</td>\n",
       "    </tr>\n",
       "  </tbody>\n",
       "</table>\n",
       "</div>"
      ],
      "text/plain": [
       "    country  beer_servings  spirit_servings  wine_servings  \\\n",
       "15  Belarus            142              373             42   \n",
       "\n",
       "    total_litres_of_pure_alcohol continent  \n",
       "15                          14.4    Europe  "
      ]
     },
     "execution_count": 35,
     "metadata": {},
     "output_type": "execute_result"
    }
   ],
   "source": [
    "df[df['total_litres_of_pure_alcohol'] == df['total_litres_of_pure_alcohol'].max()]"
   ]
  },
  {
   "cell_type": "markdown",
   "id": "6acdf586-4a4c-454f-a364-98dbd2b2625b",
   "metadata": {},
   "source": [
    "---"
   ]
  },
  {
   "cell_type": "markdown",
   "id": "39fca196-5a87-4e12-b1c2-22eb58b5bbf7",
   "metadata": {},
   "source": [
    "#### There's another method allowing more agg types"
   ]
  },
  {
   "cell_type": "code",
   "execution_count": 36,
   "id": "473a8b82-d546-4309-bb30-9454115ba6a0",
   "metadata": {},
   "outputs": [
    {
     "data": {
      "text/html": [
       "<div>\n",
       "<style scoped>\n",
       "    .dataframe tbody tr th:only-of-type {\n",
       "        vertical-align: middle;\n",
       "    }\n",
       "\n",
       "    .dataframe tbody tr th {\n",
       "        vertical-align: top;\n",
       "    }\n",
       "\n",
       "    .dataframe thead th {\n",
       "        text-align: right;\n",
       "    }\n",
       "</style>\n",
       "<table border=\"1\" class=\"dataframe\">\n",
       "  <thead>\n",
       "    <tr style=\"text-align: right;\">\n",
       "      <th></th>\n",
       "      <th>min</th>\n",
       "      <th>max</th>\n",
       "      <th>count</th>\n",
       "      <th>mean</th>\n",
       "    </tr>\n",
       "    <tr>\n",
       "      <th>continent</th>\n",
       "      <th></th>\n",
       "      <th></th>\n",
       "      <th></th>\n",
       "      <th></th>\n",
       "    </tr>\n",
       "  </thead>\n",
       "  <tbody>\n",
       "    <tr>\n",
       "      <th>Africa</th>\n",
       "      <td>0</td>\n",
       "      <td>376</td>\n",
       "      <td>53</td>\n",
       "      <td>61.471698</td>\n",
       "    </tr>\n",
       "    <tr>\n",
       "      <th>Asia</th>\n",
       "      <td>0</td>\n",
       "      <td>247</td>\n",
       "      <td>44</td>\n",
       "      <td>37.045455</td>\n",
       "    </tr>\n",
       "    <tr>\n",
       "      <th>Europe</th>\n",
       "      <td>0</td>\n",
       "      <td>361</td>\n",
       "      <td>45</td>\n",
       "      <td>193.777778</td>\n",
       "    </tr>\n",
       "    <tr>\n",
       "      <th>North America</th>\n",
       "      <td>1</td>\n",
       "      <td>285</td>\n",
       "      <td>23</td>\n",
       "      <td>145.434783</td>\n",
       "    </tr>\n",
       "    <tr>\n",
       "      <th>Oceania</th>\n",
       "      <td>0</td>\n",
       "      <td>306</td>\n",
       "      <td>16</td>\n",
       "      <td>89.687500</td>\n",
       "    </tr>\n",
       "    <tr>\n",
       "      <th>South America</th>\n",
       "      <td>93</td>\n",
       "      <td>333</td>\n",
       "      <td>12</td>\n",
       "      <td>175.083333</td>\n",
       "    </tr>\n",
       "  </tbody>\n",
       "</table>\n",
       "</div>"
      ],
      "text/plain": [
       "               min  max  count        mean\n",
       "continent                                 \n",
       "Africa           0  376     53   61.471698\n",
       "Asia             0  247     44   37.045455\n",
       "Europe           0  361     45  193.777778\n",
       "North America    1  285     23  145.434783\n",
       "Oceania          0  306     16   89.687500\n",
       "South America   93  333     12  175.083333"
      ]
     },
     "execution_count": 36,
     "metadata": {},
     "output_type": "execute_result"
    }
   ],
   "source": [
    "df.groupby(['continent'])['beer_servings'].agg(['min','max','count','mean'])"
   ]
  },
  {
   "cell_type": "markdown",
   "id": "7905c771-1c6d-498b-a038-c6f86ea68db2",
   "metadata": {},
   "source": [
    "#### You can define a groupby as a variable, if you want"
   ]
  },
  {
   "cell_type": "code",
   "execution_count": 37,
   "id": "64e0e6b1-51a7-42b7-8796-5a9fca5a4d38",
   "metadata": {},
   "outputs": [],
   "source": [
    "continents = df[df['beer_servings'] == df['beer_servings'].max()]"
   ]
  },
  {
   "cell_type": "markdown",
   "id": "b094cd22-d544-4216-91ee-fc075d7edf7e",
   "metadata": {},
   "source": [
    "#### You can also stick to one aggregation method but use if for all your numerical columns"
   ]
  },
  {
   "cell_type": "code",
   "execution_count": 40,
   "id": "0e1f7e31-d548-4aa6-b48e-46bc66e07241",
   "metadata": {},
   "outputs": [
    {
     "data": {
      "text/html": [
       "<div>\n",
       "<style scoped>\n",
       "    .dataframe tbody tr th:only-of-type {\n",
       "        vertical-align: middle;\n",
       "    }\n",
       "\n",
       "    .dataframe tbody tr th {\n",
       "        vertical-align: top;\n",
       "    }\n",
       "\n",
       "    .dataframe thead th {\n",
       "        text-align: right;\n",
       "    }\n",
       "</style>\n",
       "<table border=\"1\" class=\"dataframe\">\n",
       "  <thead>\n",
       "    <tr style=\"text-align: right;\">\n",
       "      <th></th>\n",
       "      <th>continent</th>\n",
       "      <th>beer_servings</th>\n",
       "      <th>spirit_servings</th>\n",
       "      <th>wine_servings</th>\n",
       "      <th>total_litres_of_pure_alcohol</th>\n",
       "    </tr>\n",
       "  </thead>\n",
       "  <tbody>\n",
       "    <tr>\n",
       "      <th>0</th>\n",
       "      <td>Africa</td>\n",
       "      <td>61.471698</td>\n",
       "      <td>16.339623</td>\n",
       "      <td>16.264151</td>\n",
       "      <td>3.007547</td>\n",
       "    </tr>\n",
       "    <tr>\n",
       "      <th>1</th>\n",
       "      <td>Asia</td>\n",
       "      <td>37.045455</td>\n",
       "      <td>60.840909</td>\n",
       "      <td>9.068182</td>\n",
       "      <td>2.170455</td>\n",
       "    </tr>\n",
       "    <tr>\n",
       "      <th>2</th>\n",
       "      <td>Europe</td>\n",
       "      <td>193.777778</td>\n",
       "      <td>132.555556</td>\n",
       "      <td>142.222222</td>\n",
       "      <td>8.617778</td>\n",
       "    </tr>\n",
       "    <tr>\n",
       "      <th>3</th>\n",
       "      <td>North America</td>\n",
       "      <td>145.434783</td>\n",
       "      <td>165.739130</td>\n",
       "      <td>24.521739</td>\n",
       "      <td>5.995652</td>\n",
       "    </tr>\n",
       "    <tr>\n",
       "      <th>4</th>\n",
       "      <td>Oceania</td>\n",
       "      <td>89.687500</td>\n",
       "      <td>58.437500</td>\n",
       "      <td>35.625000</td>\n",
       "      <td>3.381250</td>\n",
       "    </tr>\n",
       "    <tr>\n",
       "      <th>5</th>\n",
       "      <td>South America</td>\n",
       "      <td>175.083333</td>\n",
       "      <td>114.750000</td>\n",
       "      <td>62.416667</td>\n",
       "      <td>6.308333</td>\n",
       "    </tr>\n",
       "  </tbody>\n",
       "</table>\n",
       "</div>"
      ],
      "text/plain": [
       "       continent  beer_servings  spirit_servings  wine_servings  \\\n",
       "0         Africa      61.471698        16.339623      16.264151   \n",
       "1           Asia      37.045455        60.840909       9.068182   \n",
       "2         Europe     193.777778       132.555556     142.222222   \n",
       "3  North America     145.434783       165.739130      24.521739   \n",
       "4        Oceania      89.687500        58.437500      35.625000   \n",
       "5  South America     175.083333       114.750000      62.416667   \n",
       "\n",
       "   total_litres_of_pure_alcohol  \n",
       "0                      3.007547  \n",
       "1                      2.170455  \n",
       "2                      8.617778  \n",
       "3                      5.995652  \n",
       "4                      3.381250  \n",
       "5                      6.308333  "
      ]
     },
     "execution_count": 40,
     "metadata": {},
     "output_type": "execute_result"
    }
   ],
   "source": [
    "df.groupby(['continent']).mean().reset_index()"
   ]
  },
  {
   "cell_type": "markdown",
   "id": "970c9bef-c854-4a45-a741-ddb42207806e",
   "metadata": {},
   "source": [
    "#### Assign that to a variable"
   ]
  },
  {
   "cell_type": "code",
   "execution_count": 41,
   "id": "4a45eb22-38cc-4f2b-8a67-1dde4961fc90",
   "metadata": {},
   "outputs": [],
   "source": [
    "all_drinks = df.groupby(['continent']).mean().reset_index()"
   ]
  },
  {
   "cell_type": "markdown",
   "id": "360bb49e-13cc-477d-aa34-af9d197bc90b",
   "metadata": {},
   "source": [
    "#### And even plot it if you want"
   ]
  },
  {
   "cell_type": "code",
   "execution_count": 42,
   "id": "6dbca019-aafe-4db8-ba94-7c708f9ec94b",
   "metadata": {},
   "outputs": [
    {
     "data": {
      "text/plain": [
       "<AxesSubplot:>"
      ]
     },
     "execution_count": 42,
     "metadata": {},
     "output_type": "execute_result"
    },
    {
     "data": {
      "image/png": "[encoded data removed]",
      "text/plain": [
       "<Figure size 360x720 with 1 Axes>"
      ]
     },
     "metadata": {
      "needs_background": "light"
     },
     "output_type": "display_data"
    }
   ],
   "source": [
    "all_drinks.plot(kind='barh', figsize=(5,10))"
   ]
  },
  {
   "cell_type": "code",
   "execution_count": 45,
   "id": "1ce2373e-0719-4fc7-a113-e77bff6f90eb",
   "metadata": {},
   "outputs": [
    {
     "data": {
      "text/plain": [
       "<AxesSubplot:>"
      ]
     },
     "execution_count": 45,
     "metadata": {},
     "output_type": "execute_result"
    },
    {
     "data": {
      "image/png": "[encoded data removed]",
      "text/plain": [
       "<Figure size 504x360 with 1 Axes>"
      ]
     },
     "metadata": {
      "needs_background": "light"
     },
     "output_type": "display_data"
    }
   ],
   "source": [
    "all_drinks.plot(kind='bar', stacked=True, figsize=(7,5))"
   ]
  },
  {
   "cell_type": "code",
   "execution_count": null,
   "id": "0b3e13e2-3240-4ff0-a8c4-40bd41f3cbf9",
   "metadata": {},
   "outputs": [],
   "source": []
  }
 ],
 "metadata": {
  "kernelspec": {
   "display_name": "Python 3 (ipykernel)",
   "language": "python",
   "name": "python3"
  },
  "language_info": {
   "codemirror_mode": {
    "name": "ipython",
    "version": 3
   },
   "file_extension": ".py",
   "mimetype": "text/x-python",
   "name": "python",
   "nbconvert_exporter": "python",
   "pygments_lexer": "ipython3",
   "version": "3.9.7"
  }
 },
 "nbformat": 4,
 "nbformat_minor": 5
}
