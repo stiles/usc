{
 "cells": [
  {
   "cell_type": "markdown",
   "id": "564e3285-652b-46c8-9148-15d6b4895ad9",
   "metadata": {},
   "source": [
    "# Using groupby in Pandas\n",
    "Use this method when you want to collapse a dataframe by a categorical column and run an aggregation. For example, if you had a list of alcohol consumption by country, and you wanted to know the average consumed **for each** continent. Let's look at that example."
   ]
  },
  {
   "cell_type": "markdown",
   "id": "b33ad272-23b8-45d3-99e3-b006192bee92",
   "metadata": {},
   "source": [
    "#### Load python tools"
   ]
  },
  {
   "cell_type": "code",
   "execution_count": 1,
   "id": "b22b7261-fe68-4445-bf94-82a506fa5018",
   "metadata": {},
   "outputs": [],
   "source": [
    "import pandas as pd"
   ]
  },
  {
   "cell_type": "markdown",
   "id": "e80cc819-8cc4-4587-8e04-959ea605e1ef",
   "metadata": {},
   "source": [
    "#### Read sample dataset"
   ]
  },
  {
   "cell_type": "code",
   "execution_count": 2,
   "id": "bfde2aa3-58c8-4a61-a7aa-8bde4389bb3c",
   "metadata": {},
   "outputs": [],
   "source": [
    "df = pd.read_csv('https://bit.ly/drinksbycountry')"
   ]
  },
  {
   "cell_type": "markdown",
   "id": "290286e6-fff7-47d9-a313-bf78c4421aec",
   "metadata": {},
   "source": [
    "#### What's that dataframe look like? "
   ]
  },
  {
   "cell_type": "code",
   "execution_count": null,
   "id": "a6fa61a8-e2c2-46a6-86a1-562e204aa558",
   "metadata": {},
   "outputs": [],
   "source": []
  },
  {
   "cell_type": "markdown",
   "id": "9ba2676e-82a0-49ce-8408-042e03adfc0a",
   "metadata": {},
   "source": [
    "#### How many records, or countries? "
   ]
  },
  {
   "cell_type": "code",
   "execution_count": null,
   "id": "922bcbc3-11aa-4ab7-9c07-46cbea5cc290",
   "metadata": {},
   "outputs": [],
   "source": []
  },
  {
   "cell_type": "markdown",
   "id": "9ec429cc-8f30-4483-a861-a7de743506c4",
   "metadata": {},
   "source": [
    "#### How many countries in each continent? "
   ]
  },
  {
   "cell_type": "code",
   "execution_count": null,
   "id": "8afed303-39dd-4485-a2d4-9ee2fb6ed086",
   "metadata": {},
   "outputs": [],
   "source": []
  },
  {
   "cell_type": "markdown",
   "id": "c88251c5-02b4-443b-b76d-a591fac05765",
   "metadata": {},
   "source": [
    "---"
   ]
  },
  {
   "cell_type": "markdown",
   "id": "5a3a0065-af3d-49b4-a711-c1280c87c002",
   "metadata": {},
   "source": [
    "#### What's the average beer servings in all countries? "
   ]
  },
  {
   "cell_type": "code",
   "execution_count": null,
   "id": "25b4df48-644b-423d-a0b7-fdc25bf80608",
   "metadata": {},
   "outputs": [],
   "source": []
  },
  {
   "cell_type": "markdown",
   "id": "682e00c1-5d9b-4fc7-9bb7-8b0ba2c79893",
   "metadata": {},
   "source": [
    "#### But what about **for each** continent? "
   ]
  },
  {
   "cell_type": "code",
   "execution_count": null,
   "id": "33034e04-cb8a-406c-9285-2894df661176",
   "metadata": {},
   "outputs": [],
   "source": []
  },
  {
   "cell_type": "markdown",
   "id": "0d77fd16-4cb9-4ddc-a6ef-335306507ac2",
   "metadata": {},
   "source": [
    "#### You're basically doing this, but **for each** continent"
   ]
  },
  {
   "cell_type": "code",
   "execution_count": null,
   "id": "fc883c68-71f2-4c5c-897e-8acec57c7678",
   "metadata": {},
   "outputs": [],
   "source": []
  },
  {
   "cell_type": "markdown",
   "id": "72922226-a776-45b9-8eaa-50e00a25a23d",
   "metadata": {},
   "source": [
    "#### Or ... "
   ]
  },
  {
   "cell_type": "code",
   "execution_count": null,
   "id": "8e029a8d-3acc-4718-bac7-3f6129877b52",
   "metadata": {},
   "outputs": [],
   "source": []
  },
  {
   "cell_type": "markdown",
   "id": "f091a503-65dc-4be6-b648-bb54f8b1cc57",
   "metadata": {},
   "source": [
    "#### Remember, you can filter a dataframe — in this case to see each country in North America:"
   ]
  },
  {
   "cell_type": "code",
   "execution_count": null,
   "id": "1c205fb8-a829-4802-911a-f9ab727d2eba",
   "metadata": {},
   "outputs": [],
   "source": []
  },
  {
   "cell_type": "markdown",
   "id": "399d9a59-e485-4ca7-90e6-c423cd86daba",
   "metadata": {},
   "source": [
    "#### Which countries consume the most beer? "
   ]
  },
  {
   "cell_type": "code",
   "execution_count": null,
   "id": "60f6f19f-ef2e-4a3f-9f23-1a1e750171b6",
   "metadata": {},
   "outputs": [],
   "source": []
  },
  {
   "cell_type": "markdown",
   "id": "a213f6a0-116a-480a-bfad-8b4b6191d361",
   "metadata": {},
   "source": [
    "#### Or total litres of alcohol"
   ]
  },
  {
   "cell_type": "code",
   "execution_count": null,
   "id": "21b72710-f4b7-4d1f-a319-1fd44eefafd6",
   "metadata": {},
   "outputs": [],
   "source": []
  },
  {
   "cell_type": "markdown",
   "id": "15c1939d-8c6f-43c6-8733-ea6d1b0d80ca",
   "metadata": {},
   "source": [
    "---"
   ]
  },
  {
   "cell_type": "markdown",
   "id": "e51254b0-fedb-494b-830b-0748f500ac16",
   "metadata": {},
   "source": [
    "#### Back to groupby: You can use other aggregation methods, too"
   ]
  },
  {
   "cell_type": "code",
   "execution_count": null,
   "id": "9c63a07e-20ea-431f-bd34-cbf3b60b6ee9",
   "metadata": {},
   "outputs": [],
   "source": []
  },
  {
   "cell_type": "code",
   "execution_count": null,
   "id": "d3d4a466-8227-4fc1-bb89-87a5193851ff",
   "metadata": {},
   "outputs": [],
   "source": []
  },
  {
   "cell_type": "markdown",
   "id": "2d5d58f6-8131-4851-bb21-1d4081434738",
   "metadata": {},
   "source": [
    "#### Which country drinks the most beer?"
   ]
  },
  {
   "cell_type": "code",
   "execution_count": null,
   "id": "2f69d825-dedf-44dc-8183-afe9554d531f",
   "metadata": {},
   "outputs": [],
   "source": []
  },
  {
   "cell_type": "markdown",
   "id": "77f6ee8c-87b0-420d-bf16-783b66fdc09b",
   "metadata": {},
   "source": [
    "#### Spirits?"
   ]
  },
  {
   "cell_type": "code",
   "execution_count": null,
   "id": "1df5be9e-5d7b-4e7f-a214-b1e2a4efcc71",
   "metadata": {},
   "outputs": [],
   "source": []
  },
  {
   "cell_type": "markdown",
   "id": "6acdf586-4a4c-454f-a364-98dbd2b2625b",
   "metadata": {},
   "source": [
    "---"
   ]
  },
  {
   "cell_type": "markdown",
   "id": "39fca196-5a87-4e12-b1c2-22eb58b5bbf7",
   "metadata": {},
   "source": [
    "#### There's another method allowing more agg types"
   ]
  },
  {
   "cell_type": "code",
   "execution_count": null,
   "id": "473a8b82-d546-4309-bb30-9454115ba6a0",
   "metadata": {},
   "outputs": [],
   "source": []
  },
  {
   "cell_type": "markdown",
   "id": "7905c771-1c6d-498b-a038-c6f86ea68db2",
   "metadata": {},
   "source": [
    "#### You can define a groupby as a variable, if you want"
   ]
  },
  {
   "cell_type": "code",
   "execution_count": null,
   "id": "64e0e6b1-51a7-42b7-8796-5a9fca5a4d38",
   "metadata": {},
   "outputs": [],
   "source": []
  },
  {
   "cell_type": "markdown",
   "id": "b094cd22-d544-4216-91ee-fc075d7edf7e",
   "metadata": {},
   "source": [
    "#### You can also stick to one aggregation method but use if for all your numerical columns"
   ]
  },
  {
   "cell_type": "code",
   "execution_count": null,
   "id": "0e1f7e31-d548-4aa6-b48e-46bc66e07241",
   "metadata": {},
   "outputs": [],
   "source": []
  },
  {
   "cell_type": "markdown",
   "id": "970c9bef-c854-4a45-a741-ddb42207806e",
   "metadata": {},
   "source": [
    "#### Assign that to a variable"
   ]
  },
  {
   "cell_type": "code",
   "execution_count": null,
   "id": "4a45eb22-38cc-4f2b-8a67-1dde4961fc90",
   "metadata": {},
   "outputs": [],
   "source": []
  },
  {
   "cell_type": "markdown",
   "id": "360bb49e-13cc-477d-aa34-af9d197bc90b",
   "metadata": {},
   "source": [
    "#### And even plot it if you want"
   ]
  },
  {
   "cell_type": "code",
   "execution_count": null,
   "id": "6dbca019-aafe-4db8-ba94-7c708f9ec94b",
   "metadata": {},
   "outputs": [],
   "source": []
  },
  {
   "cell_type": "code",
   "execution_count": null,
   "id": "1ce2373e-0719-4fc7-a113-e77bff6f90eb",
   "metadata": {},
   "outputs": [],
   "source": []
  }
 ],
 "metadata": {
  "kernelspec": {
   "display_name": "Python 3 (ipykernel)",
   "language": "python",
   "name": "python3"
  },
  "language_info": {
   "codemirror_mode": {
    "name": "ipython",
    "version": 3
   },
   "file_extension": ".py",
   "mimetype": "text/x-python",
   "name": "python",
   "nbconvert_exporter": "python",
   "pygments_lexer": "ipython3",
   "version": "3.9.7"
  }
 },
 "nbformat": 4,
 "nbformat_minor": 5
}
