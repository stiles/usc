{
 "cells": [
  {
   "cell_type": "markdown",
   "id": "cf543214-f1e4-46f5-a4ca-0641e43e455f",
   "metadata": {},
   "source": [
    "# Mapping homicides, by state"
   ]
  },
  {
   "cell_type": "markdown",
   "id": "ece5a4d3-be58-4d94-9736-5e9d10a41ba9",
   "metadata": {},
   "source": [
    "#### Load python tools"
   ]
  },
  {
   "cell_type": "code",
   "execution_count": 1,
   "id": "2594907b-7dfe-4e1f-9406-771e53069144",
   "metadata": {},
   "outputs": [],
   "source": [
    "%load_ext lab_black"
   ]
  },
  {
   "cell_type": "code",
   "execution_count": 2,
   "id": "5d82586b-0073-434d-bcee-46e1013d7fc5",
   "metadata": {},
   "outputs": [],
   "source": [
    "import pandas as pd\n",
    "import geopandas as gpd\n",
    "import numpy as np"
   ]
  },
  {
   "cell_type": "code",
   "execution_count": 3,
   "id": "558e402e-5ce6-4bae-bf4f-0157e6bc405d",
   "metadata": {},
   "outputs": [],
   "source": [
    "pd.options.display.max_columns = 1000\n",
    "pd.options.display.max_rows = 1000"
   ]
  },
  {
   "cell_type": "markdown",
   "id": "0d5e4ae4-2af2-49aa-8233-17cbcee0d1d2",
   "metadata": {},
   "source": [
    "### Crime map\n",
    "##### What's the murder rate by state?"
   ]
  },
  {
   "cell_type": "code",
   "execution_count": 4,
   "id": "9a7ca8ec-284e-4d74-93f1-bc85abe1ca22",
   "metadata": {},
   "outputs": [],
   "source": [
    "# Values: https://raw.githubusercontent.com/stiles/usc/main/data/processed/homicide-rates-states.csv\n",
    "# Geo: https://raw.githubusercontent.com/stiles/usc/main/data/geo/states.geojson"
   ]
  },
  {
   "cell_type": "markdown",
   "id": "8c604e79-f6e6-4d25-af38-8367a06e25bd",
   "metadata": {},
   "source": [
    "#### Read state-level homicide data"
   ]
  },
  {
   "cell_type": "code",
   "execution_count": null,
   "id": "597071f2-826e-443e-8172-14b75f8e60b7",
   "metadata": {},
   "outputs": [],
   "source": []
  },
  {
   "cell_type": "code",
   "execution_count": null,
   "id": "f695a4d8-4df8-41cd-baff-7a653c56d9b1",
   "metadata": {},
   "outputs": [],
   "source": []
  },
  {
   "cell_type": "markdown",
   "id": "447944f8-7cbe-4666-9c4a-d9ce0b7aef53",
   "metadata": {},
   "source": [
    "#### Read state-level geo file"
   ]
  },
  {
   "cell_type": "code",
   "execution_count": null,
   "id": "7156afab-ffa5-4bb5-a12e-784e8d62aec1",
   "metadata": {},
   "outputs": [],
   "source": []
  },
  {
   "cell_type": "markdown",
   "id": "91882f35-cdae-4534-a7fd-ffa305976a4c",
   "metadata": {},
   "source": [
    "#### Filter: Just map the mainland"
   ]
  },
  {
   "cell_type": "code",
   "execution_count": null,
   "id": "807d6bcd-01fd-4edb-8528-a4d658801c49",
   "metadata": {},
   "outputs": [],
   "source": []
  },
  {
   "cell_type": "code",
   "execution_count": null,
   "id": "1671caf1-0419-43d4-8119-a4aeb7d3cbb6",
   "metadata": {},
   "outputs": [],
   "source": []
  },
  {
   "cell_type": "markdown",
   "id": "4ff62e7a-a550-41c4-8770-836f8af108ef",
   "metadata": {},
   "source": [
    "#### Merge the two"
   ]
  },
  {
   "cell_type": "code",
   "execution_count": null,
   "id": "f6f0626a-f510-46ce-a9eb-bd49f95e8369",
   "metadata": {},
   "outputs": [],
   "source": []
  },
  {
   "cell_type": "code",
   "execution_count": null,
   "id": "49eabfba-467f-4c1f-a4a9-36260fef2333",
   "metadata": {},
   "outputs": [],
   "source": []
  },
  {
   "cell_type": "markdown",
   "id": "f1f11a8e-66a6-4815-9e4f-09eb60648bd8",
   "metadata": {},
   "source": [
    "#### Export merged geo file"
   ]
  },
  {
   "cell_type": "code",
   "execution_count": null,
   "id": "ba6df1f0-2557-4d57-90b4-1ede45637e4f",
   "metadata": {},
   "outputs": [],
   "source": []
  }
 ],
 "metadata": {
  "kernelspec": {
   "display_name": "Python 3",
   "language": "python",
   "name": "python3"
  },
  "language_info": {
   "codemirror_mode": {
    "name": "ipython",
    "version": 3
   },
   "file_extension": ".py",
   "mimetype": "text/x-python",
   "name": "python",
   "nbconvert_exporter": "python",
   "pygments_lexer": "ipython3",
   "version": "3.8.8"
  }
 },
 "nbformat": 4,
 "nbformat_minor": 5
}
