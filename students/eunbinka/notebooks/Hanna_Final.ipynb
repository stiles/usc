{
 "cells": [
  {
   "cell_type": "markdown",
   "id": "f356859a-c4b9-4a84-8f9f-573d6b761c14",
   "metadata": {},
   "source": [
    "## Data Final\n",
    "More than 60 people lost their lives amid the violence that ravaged the city during the L.A. Riots that began on April 29, 1992. According to the Los Angeles Times, the city had a record 1,096 homicides by the end of the year. 1992 remains L.A.'s deadliest year."
   ]
  },
  {
   "cell_type": "markdown",
   "id": "4f1fa85c-4232-42c8-aad8-5deb3f0e0738",
   "metadata": {},
   "source": [
    "#### Importing Tools & Data"
   ]
  },
  {
   "cell_type": "code",
   "execution_count": 26,
   "id": "e8133fa7-22eb-4bd1-88f0-11733ea86d99",
   "metadata": {},
   "outputs": [
    {
     "name": "stdout",
     "output_type": "stream",
     "text": [
      "The lab_black extension is already loaded. To reload it, use:\n",
      "  %reload_ext lab_black\n"
     ]
    }
   ],
   "source": [
    "%load_ext lab_black"
   ]
  },
  {
   "cell_type": "code",
   "execution_count": 36,
   "id": "b1350b69-8d44-468e-9c76-4cd89d5a2986",
   "metadata": {},
   "outputs": [],
   "source": [
    "import numpy as np\n",
    "import pandas as pd\n",
    "import geopandas as gpd\n",
    "import altair as alt"
   ]
  },
  {
   "cell_type": "code",
   "execution_count": 37,
   "id": "2284cc20-972b-45fb-a8b1-02052c4edc52",
   "metadata": {},
   "outputs": [],
   "source": [
    "pd.options.display.max_columns = 1000\n",
    "pd.options.display.max_rows = 1000"
   ]
  },
  {
   "cell_type": "code",
   "execution_count": 38,
   "id": "278e39b8-b9ca-49a4-8ed4-5e9d2bbf6fb9",
   "metadata": {},
   "outputs": [],
   "source": [
    "death = pd.read_csv(\"../data/la-riots-deaths.csv\")"
   ]
  },
  {
   "cell_type": "markdown",
   "id": "26f84d71-b7fc-406a-82a2-97415f0ee97a",
   "metadata": {},
   "source": [
    "#### Explore the Dataset"
   ]
  },
  {
   "cell_type": "code",
   "execution_count": 39,
   "id": "340c91bc-1099-4540-982e-cd40c08a6b86",
   "metadata": {},
   "outputs": [
    {
     "data": {
      "text/html": [
       "<div>\n",
       "<style scoped>\n",
       "    .dataframe tbody tr th:only-of-type {\n",
       "        vertical-align: middle;\n",
       "    }\n",
       "\n",
       "    .dataframe tbody tr th {\n",
       "        vertical-align: top;\n",
       "    }\n",
       "\n",
       "    .dataframe thead th {\n",
       "        text-align: right;\n",
       "    }\n",
       "</style>\n",
       "<table border=\"1\" class=\"dataframe\">\n",
       "  <thead>\n",
       "    <tr style=\"text-align: right;\">\n",
       "      <th></th>\n",
       "      <th>first</th>\n",
       "      <th>last</th>\n",
       "      <th>Full Name</th>\n",
       "      <th>Solved*</th>\n",
       "      <th>Age</th>\n",
       "      <th>Gender</th>\n",
       "      <th>Race</th>\n",
       "      <th>Date</th>\n",
       "      <th>Address</th>\n",
       "      <th>Neighborhood</th>\n",
       "      <th>status</th>\n",
       "      <th>lat</th>\n",
       "      <th>lon</th>\n",
       "      <th>Map Description</th>\n",
       "      <th>Story</th>\n",
       "      <th>URL</th>\n",
       "    </tr>\n",
       "  </thead>\n",
       "  <tbody>\n",
       "    <tr>\n",
       "      <th>0</th>\n",
       "      <td>Cesar A.</td>\n",
       "      <td>Aguilar</td>\n",
       "      <td>Cesar A. Aguilar</td>\n",
       "      <td>NaN</td>\n",
       "      <td>18</td>\n",
       "      <td>Male</td>\n",
       "      <td>Latino</td>\n",
       "      <td>1992-04-30</td>\n",
       "      <td>2009 W. 6th St.</td>\n",
       "      <td>Westlake</td>\n",
       "      <td>Officer involved shooting</td>\n",
       "      <td>-118.273976</td>\n",
       "      <td>34.059281</td>\n",
       "      <td>Cesar Aguilar, an 18-year-old Latino, was shot...</td>\n",
       "      <td>Cesar Aguilar, an 18-year-old Latino, was shot...</td>\n",
       "      <td>http://articles.latimes.com/print/1992-06-21/n...</td>\n",
       "    </tr>\n",
       "    <tr>\n",
       "      <th>1</th>\n",
       "      <td>George</td>\n",
       "      <td>Alvarez</td>\n",
       "      <td>George Alvarez</td>\n",
       "      <td>NaN</td>\n",
       "      <td>42</td>\n",
       "      <td>Male</td>\n",
       "      <td>Latino</td>\n",
       "      <td>1992-05-01</td>\n",
       "      <td>Main &amp; College streets</td>\n",
       "      <td>Chinatown</td>\n",
       "      <td>Not riot-related</td>\n",
       "      <td>-118.234098</td>\n",
       "      <td>34.062690</td>\n",
       "      <td>George Alvarez, a 42-year-old Latino, died Fri...</td>\n",
       "      <td>George Alvarez, a 42-year-old Latino, died Fri...</td>\n",
       "      <td>NaN</td>\n",
       "    </tr>\n",
       "    <tr>\n",
       "      <th>2</th>\n",
       "      <td>Wilson</td>\n",
       "      <td>Alvarez</td>\n",
       "      <td>Wilson  Alvarez</td>\n",
       "      <td>Unsolved</td>\n",
       "      <td>40</td>\n",
       "      <td>Male</td>\n",
       "      <td>Latino</td>\n",
       "      <td>1992-05-23</td>\n",
       "      <td>3100 Rosecrans Ave.</td>\n",
       "      <td>Hawthorne</td>\n",
       "      <td>Homicide</td>\n",
       "      <td>-118.326816</td>\n",
       "      <td>33.901662</td>\n",
       "      <td>Wilson Alvarez, a 40-year-old Latino, died of ...</td>\n",
       "      <td>Wilson Alvarez, a 40-year-old Latino, died of ...</td>\n",
       "      <td>NaN</td>\n",
       "    </tr>\n",
       "    <tr>\n",
       "      <th>3</th>\n",
       "      <td>Brian E.</td>\n",
       "      <td>Andrew</td>\n",
       "      <td>Brian E. Andrew</td>\n",
       "      <td>NaN</td>\n",
       "      <td>30</td>\n",
       "      <td>Male</td>\n",
       "      <td>Black</td>\n",
       "      <td>1992-04-30</td>\n",
       "      <td>Rosecrans &amp; Chester avenues</td>\n",
       "      <td>Compton</td>\n",
       "      <td>Officer involved shooting</td>\n",
       "      <td>-118.215390</td>\n",
       "      <td>33.903457</td>\n",
       "      <td>Brian E. Andrew, a 30-year-old black man, was ...</td>\n",
       "      <td>Brian E. Andrew, a 30-year-old black man, was ...</td>\n",
       "      <td>http://articles.latimes.com/print/1992-05-24/n...</td>\n",
       "    </tr>\n",
       "    <tr>\n",
       "      <th>4</th>\n",
       "      <td>Vivian</td>\n",
       "      <td>Austin</td>\n",
       "      <td>Vivian  Austin</td>\n",
       "      <td>NaN</td>\n",
       "      <td>87</td>\n",
       "      <td>Female</td>\n",
       "      <td>Black</td>\n",
       "      <td>5/3/1992</td>\n",
       "      <td>1600 W. 60th St.</td>\n",
       "      <td>Harvard Park</td>\n",
       "      <td>Death</td>\n",
       "      <td>-118.304741</td>\n",
       "      <td>33.985667</td>\n",
       "      <td>Vivian Austin, an 87-year-old black woman, die...</td>\n",
       "      <td>Vivian Austin, an 87-year-old black woman, die...</td>\n",
       "      <td>NaN</td>\n",
       "    </tr>\n",
       "  </tbody>\n",
       "</table>\n",
       "</div>"
      ],
      "text/plain": [
       "      first     last         Full Name   Solved* Age  Gender     Race  \\\n",
       "0  Cesar A.  Aguilar  Cesar A. Aguilar       NaN  18    Male   Latino   \n",
       "1    George  Alvarez    George Alvarez       NaN  42    Male   Latino   \n",
       "2   Wilson   Alvarez   Wilson  Alvarez  Unsolved  40    Male   Latino   \n",
       "3  Brian E.   Andrew   Brian E. Andrew       NaN  30    Male    Black   \n",
       "4   Vivian    Austin    Vivian  Austin       NaN  87  Female    Black   \n",
       "\n",
       "          Date                       Address  Neighborhood  \\\n",
       "0   1992-04-30               2009 W. 6th St.      Westlake   \n",
       "1   1992-05-01        Main & College streets     Chinatown   \n",
       "2   1992-05-23           3100 Rosecrans Ave.     Hawthorne   \n",
       "3   1992-04-30   Rosecrans & Chester avenues       Compton   \n",
       "4     5/3/1992              1600 W. 60th St.  Harvard Park   \n",
       "\n",
       "                      status         lat        lon  \\\n",
       "0  Officer involved shooting -118.273976  34.059281   \n",
       "1           Not riot-related -118.234098  34.062690   \n",
       "2                   Homicide -118.326816  33.901662   \n",
       "3  Officer involved shooting -118.215390  33.903457   \n",
       "4                      Death -118.304741  33.985667   \n",
       "\n",
       "                                     Map Description  \\\n",
       "0  Cesar Aguilar, an 18-year-old Latino, was shot...   \n",
       "1  George Alvarez, a 42-year-old Latino, died Fri...   \n",
       "2  Wilson Alvarez, a 40-year-old Latino, died of ...   \n",
       "3  Brian E. Andrew, a 30-year-old black man, was ...   \n",
       "4  Vivian Austin, an 87-year-old black woman, die...   \n",
       "\n",
       "                                               Story  \\\n",
       "0  Cesar Aguilar, an 18-year-old Latino, was shot...   \n",
       "1  George Alvarez, a 42-year-old Latino, died Fri...   \n",
       "2  Wilson Alvarez, a 40-year-old Latino, died of ...   \n",
       "3  Brian E. Andrew, a 30-year-old black man, was ...   \n",
       "4  Vivian Austin, an 87-year-old black woman, die...   \n",
       "\n",
       "                                                 URL  \n",
       "0  http://articles.latimes.com/print/1992-06-21/n...  \n",
       "1                                                NaN  \n",
       "2                                                NaN  \n",
       "3  http://articles.latimes.com/print/1992-05-24/n...  \n",
       "4                                                NaN  "
      ]
     },
     "execution_count": 39,
     "metadata": {},
     "output_type": "execute_result"
    }
   ],
   "source": [
    "death.head()"
   ]
  },
  {
   "cell_type": "markdown",
   "id": "f785d2f6-f72c-4dab-bdbb-d2c502a54636",
   "metadata": {},
   "source": [
    "#### Check info"
   ]
  },
  {
   "cell_type": "code",
   "execution_count": 40,
   "id": "2c1434e5-b6e7-4a91-afe2-f1e08d605ae9",
   "metadata": {},
   "outputs": [
    {
     "name": "stdout",
     "output_type": "stream",
     "text": [
      "<class 'pandas.core.frame.DataFrame'>\n",
      "RangeIndex: 63 entries, 0 to 62\n",
      "Data columns (total 16 columns):\n",
      " #   Column           Non-Null Count  Dtype  \n",
      "---  ------           --------------  -----  \n",
      " 0   first            63 non-null     object \n",
      " 1   last             63 non-null     object \n",
      " 2   Full Name        63 non-null     object \n",
      " 3   Solved*          36 non-null     object \n",
      " 4   Age              63 non-null     object \n",
      " 5   Gender           63 non-null     object \n",
      " 6   Race             63 non-null     object \n",
      " 7   Date             63 non-null     object \n",
      " 8   Address          63 non-null     object \n",
      " 9   Neighborhood     63 non-null     object \n",
      " 10  status           63 non-null     object \n",
      " 11  lat              62 non-null     float64\n",
      " 12  lon              62 non-null     float64\n",
      " 13  Map Description  63 non-null     object \n",
      " 14  Story            63 non-null     object \n",
      " 15  URL              28 non-null     object \n",
      "dtypes: float64(2), object(14)\n",
      "memory usage: 8.0+ KB\n"
     ]
    }
   ],
   "source": [
    "death.info()"
   ]
  },
  {
   "cell_type": "code",
   "execution_count": 41,
   "id": "68373ed6-a184-42e7-8fc6-15a01b7928a4",
   "metadata": {},
   "outputs": [
    {
     "data": {
      "text/plain": [
       "(63, 16)"
      ]
     },
     "execution_count": 41,
     "metadata": {},
     "output_type": "execute_result"
    }
   ],
   "source": [
    "death.shape"
   ]
  },
  {
   "cell_type": "markdown",
   "id": "6f1dfc37-311f-4191-8184-189b0a2f2425",
   "metadata": {},
   "source": [
    "#### Deaths by race"
   ]
  },
  {
   "cell_type": "code",
   "execution_count": 42,
   "id": "0b796233-c370-4557-8e06-f806a952a53c",
   "metadata": {},
   "outputs": [
    {
     "data": {
      "text/plain": [
       "Race\n",
       " Black     19\n",
       " Latino    17\n",
       " White     13\n",
       "Black       9\n",
       " Asian      2\n",
       "Latino      2\n",
       "White       1\n",
       "dtype: int64"
      ]
     },
     "execution_count": 42,
     "metadata": {},
     "output_type": "execute_result"
    }
   ],
   "source": [
    "death.value_counts(\"Race\")"
   ]
  },
  {
   "cell_type": "code",
   "execution_count": 49,
   "id": "6160e143-1be1-4881-93e0-8b07fc5e5a45",
   "metadata": {},
   "outputs": [
    {
     "data": {
      "text/plain": [
       "<AxesSubplot:>"
      ]
     },
     "execution_count": 49,
     "metadata": {},
     "output_type": "execute_result"
    },
    {
     "data": {
      "image/png": "[encoded data removed]",
      "text/plain": [
       "<Figure size 432x288 with 1 Axes>"
      ]
     },
     "metadata": {
      "needs_background": "light"
     },
     "output_type": "display_data"
    }
   ],
   "source": [
    "death[\"Race\"].value_counts().plot(kind=\"bar\")"
   ]
  },
  {
   "cell_type": "markdown",
   "id": "b16884aa-beca-4235-897b-065f91963e9c",
   "metadata": {},
   "source": [
    "#### Deaths by status"
   ]
  },
  {
   "cell_type": "code",
   "execution_count": 43,
   "id": "7baaeccc-51fe-4d17-9837-0e1f722bcc2c",
   "metadata": {},
   "outputs": [
    {
     "data": {
      "text/plain": [
       "status\n",
       "Homicide                     36\n",
       "Officer involved shooting    10\n",
       "Not riot-related              9\n",
       "Death                         8\n",
       "dtype: int64"
      ]
     },
     "execution_count": 43,
     "metadata": {},
     "output_type": "execute_result"
    }
   ],
   "source": [
    "death.value_counts(\"status\")"
   ]
  },
  {
   "cell_type": "code",
   "execution_count": 47,
   "id": "fe3acb86-1964-4616-900e-d7785e5d3e65",
   "metadata": {},
   "outputs": [
    {
     "data": {
      "text/plain": [
       "<AxesSubplot:>"
      ]
     },
     "execution_count": 47,
     "metadata": {},
     "output_type": "execute_result"
    },
    {
     "data": {
      "image/png": "[encoded data removed]",
      "text/plain": [
       "<Figure size 432x288 with 1 Axes>"
      ]
     },
     "metadata": {
      "needs_background": "light"
     },
     "output_type": "display_data"
    }
   ],
   "source": [
    "death[\"status\"].value_counts().plot(kind=\"bar\")"
   ]
  },
  {
   "cell_type": "code",
   "execution_count": null,
   "id": "0ec9babc-881a-42ac-ac58-6b1c3f1c520a",
   "metadata": {},
   "outputs": [],
   "source": []
  }
 ],
 "metadata": {
  "kernelspec": {
   "display_name": "Python 3",
   "language": "python",
   "name": "python3"
  },
  "language_info": {
   "codemirror_mode": {
    "name": "ipython",
    "version": 3
   },
   "file_extension": ".py",
   "mimetype": "text/x-python",
   "name": "python",
   "nbconvert_exporter": "python",
   "pygments_lexer": "ipython3",
   "version": "3.8.8"
  }
 },
 "nbformat": 4,
 "nbformat_minor": 5
}
