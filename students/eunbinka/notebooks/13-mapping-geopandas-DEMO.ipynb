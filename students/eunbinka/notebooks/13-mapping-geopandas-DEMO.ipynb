{
 "cells": [
  {
   "cell_type": "markdown",
   "id": "cf543214-f1e4-46f5-a4ca-0641e43e455f",
   "metadata": {},
   "source": [
    "# Intro to map data with Geopandas"
   ]
  },
  {
   "cell_type": "markdown",
   "id": "ece5a4d3-be58-4d94-9736-5e9d10a41ba9",
   "metadata": {},
   "source": [
    "#### Load python tools"
   ]
  },
  {
   "cell_type": "code",
   "execution_count": 1,
   "id": "2594907b-7dfe-4e1f-9406-771e53069144",
   "metadata": {},
   "outputs": [],
   "source": [
    "%load_ext lab_black"
   ]
  },
  {
   "cell_type": "code",
   "execution_count": 2,
   "id": "d72edc4d-b826-4d3a-b5ab-d5773c071348",
   "metadata": {},
   "outputs": [],
   "source": [
    "# !pip install geopandas"
   ]
  },
  {
   "cell_type": "code",
   "execution_count": 3,
   "id": "5d82586b-0073-434d-bcee-46e1013d7fc5",
   "metadata": {},
   "outputs": [],
   "source": [
    "import pandas as pd\n",
    "import geopandas as gpd"
   ]
  },
  {
   "cell_type": "code",
   "execution_count": 4,
   "id": "c09bfa5f-474a-40ea-abcc-a5e7787e501c",
   "metadata": {},
   "outputs": [],
   "source": [
    "pd.options.display.max_columns = 1000\n",
    "pd.options.display.max_rows = 1000"
   ]
  },
  {
   "cell_type": "markdown",
   "id": "6e8fe962-7c4f-413c-890e-97fc70adb134",
   "metadata": {},
   "source": [
    "---"
   ]
  },
  {
   "cell_type": "markdown",
   "id": "c2a67d82-9df5-45e4-9947-52cc5ea2b730",
   "metadata": {},
   "source": [
    "## Import geography"
   ]
  },
  {
   "cell_type": "markdown",
   "id": "3a91c5a6-bf04-4430-be0a-fac67b7dbf1c",
   "metadata": {},
   "source": [
    "#### Read states GeoJSON file"
   ]
  },
  {
   "cell_type": "code",
   "execution_count": 5,
   "id": "b28201ff-ee94-4f6c-a761-2564c0e448ce",
   "metadata": {},
   "outputs": [],
   "source": [
    "states_gdf = gpd.read_file(\n",
    "    \"https://raw.githubusercontent.com/stiles/usc/main/data/geo/states.geojson\"\n",
    ")"
   ]
  },
  {
   "cell_type": "markdown",
   "id": "89d64edb-0a79-4094-95d7-b24861bc6840",
   "metadata": {},
   "source": [
    "#### What's that look like? "
   ]
  },
  {
   "cell_type": "code",
   "execution_count": 6,
   "id": "bda88c1f-e0e5-40cf-8315-2ab221652118",
   "metadata": {},
   "outputs": [
    {
     "data": {
      "text/html": [
       "<div>\n",
       "<style scoped>\n",
       "    .dataframe tbody tr th:only-of-type {\n",
       "        vertical-align: middle;\n",
       "    }\n",
       "\n",
       "    .dataframe tbody tr th {\n",
       "        vertical-align: top;\n",
       "    }\n",
       "\n",
       "    .dataframe thead th {\n",
       "        text-align: right;\n",
       "    }\n",
       "</style>\n",
       "<table border=\"1\" class=\"dataframe\">\n",
       "  <thead>\n",
       "    <tr style=\"text-align: right;\">\n",
       "      <th></th>\n",
       "      <th>state_fips</th>\n",
       "      <th>state_name</th>\n",
       "      <th>geometry</th>\n",
       "    </tr>\n",
       "  </thead>\n",
       "  <tbody>\n",
       "    <tr>\n",
       "      <th>0</th>\n",
       "      <td>01</td>\n",
       "      <td>Alabama</td>\n",
       "      <td>POLYGON ((-87.35930 35.00118, -85.60667 34.984...</td>\n",
       "    </tr>\n",
       "    <tr>\n",
       "      <th>1</th>\n",
       "      <td>02</td>\n",
       "      <td>Alaska</td>\n",
       "      <td>MULTIPOLYGON (((-131.60202 55.11798, -131.5691...</td>\n",
       "    </tr>\n",
       "    <tr>\n",
       "      <th>2</th>\n",
       "      <td>04</td>\n",
       "      <td>Arizona</td>\n",
       "      <td>POLYGON ((-109.04250 37.00026, -109.04798 31.3...</td>\n",
       "    </tr>\n",
       "    <tr>\n",
       "      <th>3</th>\n",
       "      <td>05</td>\n",
       "      <td>Arkansas</td>\n",
       "      <td>POLYGON ((-94.47384 36.50186, -90.15254 36.496...</td>\n",
       "    </tr>\n",
       "    <tr>\n",
       "      <th>4</th>\n",
       "      <td>06</td>\n",
       "      <td>California</td>\n",
       "      <td>POLYGON ((-123.23326 42.00619, -122.37885 42.0...</td>\n",
       "    </tr>\n",
       "    <tr>\n",
       "      <th>5</th>\n",
       "      <td>08</td>\n",
       "      <td>Colorado</td>\n",
       "      <td>POLYGON ((-107.91973 41.00391, -105.72895 40.9...</td>\n",
       "    </tr>\n",
       "    <tr>\n",
       "      <th>6</th>\n",
       "      <td>09</td>\n",
       "      <td>Connecticut</td>\n",
       "      <td>POLYGON ((-73.05353 42.03905, -71.79931 42.022...</td>\n",
       "    </tr>\n",
       "    <tr>\n",
       "      <th>7</th>\n",
       "      <td>10</td>\n",
       "      <td>Delaware</td>\n",
       "      <td>POLYGON ((-75.41409 39.80446, -75.50720 39.683...</td>\n",
       "    </tr>\n",
       "    <tr>\n",
       "      <th>8</th>\n",
       "      <td>11</td>\n",
       "      <td>District of Columbia</td>\n",
       "      <td>POLYGON ((-77.03526 38.99387, -76.90929 38.895...</td>\n",
       "    </tr>\n",
       "    <tr>\n",
       "      <th>9</th>\n",
       "      <td>12</td>\n",
       "      <td>Florida</td>\n",
       "      <td>POLYGON ((-85.49714 30.99754, -85.00421 31.003...</td>\n",
       "    </tr>\n",
       "    <tr>\n",
       "      <th>10</th>\n",
       "      <td>13</td>\n",
       "      <td>Georgia</td>\n",
       "      <td>POLYGON ((-83.10919 35.00118, -83.32279 34.787...</td>\n",
       "    </tr>\n",
       "    <tr>\n",
       "      <th>11</th>\n",
       "      <td>15</td>\n",
       "      <td>Hawaii</td>\n",
       "      <td>MULTIPOLYGON (((-155.63484 18.94827, -155.8813...</td>\n",
       "    </tr>\n",
       "    <tr>\n",
       "      <th>12</th>\n",
       "      <td>16</td>\n",
       "      <td>Idaho</td>\n",
       "      <td>POLYGON ((-116.04751 49.00024, -116.04751 47.9...</td>\n",
       "    </tr>\n",
       "    <tr>\n",
       "      <th>13</th>\n",
       "      <td>17</td>\n",
       "      <td>Illinois</td>\n",
       "      <td>POLYGON ((-90.63998 42.51006, -88.78878 42.493...</td>\n",
       "    </tr>\n",
       "    <tr>\n",
       "      <th>14</th>\n",
       "      <td>18</td>\n",
       "      <td>Indiana</td>\n",
       "      <td>POLYGON ((-85.99006 41.75972, -84.80704 41.759...</td>\n",
       "    </tr>\n",
       "    <tr>\n",
       "      <th>15</th>\n",
       "      <td>19</td>\n",
       "      <td>Iowa</td>\n",
       "      <td>POLYGON ((-91.36842 43.50139, -91.21506 43.501...</td>\n",
       "    </tr>\n",
       "    <tr>\n",
       "      <th>16</th>\n",
       "      <td>20</td>\n",
       "      <td>Kansas</td>\n",
       "      <td>POLYGON ((-101.90605 40.00163, -95.30634 40.00...</td>\n",
       "    </tr>\n",
       "    <tr>\n",
       "      <th>17</th>\n",
       "      <td>21</td>\n",
       "      <td>Kentucky</td>\n",
       "      <td>POLYGON ((-83.90335 38.76931, -83.67879 38.632...</td>\n",
       "    </tr>\n",
       "    <tr>\n",
       "      <th>18</th>\n",
       "      <td>22</td>\n",
       "      <td>Louisiana</td>\n",
       "      <td>POLYGON ((-93.60849 33.01853, -91.16577 33.002...</td>\n",
       "    </tr>\n",
       "    <tr>\n",
       "      <th>19</th>\n",
       "      <td>23</td>\n",
       "      <td>Maine</td>\n",
       "      <td>POLYGON ((-70.70392 43.05776, -70.82441 43.128...</td>\n",
       "    </tr>\n",
       "    <tr>\n",
       "      <th>20</th>\n",
       "      <td>24</td>\n",
       "      <td>Maryland</td>\n",
       "      <td>POLYGON ((-79.47798 39.72230, -75.78652 39.722...</td>\n",
       "    </tr>\n",
       "    <tr>\n",
       "      <th>21</th>\n",
       "      <td>25</td>\n",
       "      <td>Massachusetts</td>\n",
       "      <td>POLYGON ((-70.91752 42.88797, -70.81894 42.871...</td>\n",
       "    </tr>\n",
       "    <tr>\n",
       "      <th>22</th>\n",
       "      <td>26</td>\n",
       "      <td>Michigan</td>\n",
       "      <td>MULTIPOLYGON (((-83.45424 41.73234, -84.80704 ...</td>\n",
       "    </tr>\n",
       "    <tr>\n",
       "      <th>23</th>\n",
       "      <td>27</td>\n",
       "      <td>Minnesota</td>\n",
       "      <td>POLYGON ((-92.01470 46.70540, -92.09137 46.749...</td>\n",
       "    </tr>\n",
       "    <tr>\n",
       "      <th>24</th>\n",
       "      <td>28</td>\n",
       "      <td>Mississippi</td>\n",
       "      <td>POLYGON ((-88.47111 34.99570, -88.20274 34.995...</td>\n",
       "    </tr>\n",
       "    <tr>\n",
       "      <th>25</th>\n",
       "      <td>29</td>\n",
       "      <td>Missouri</td>\n",
       "      <td>POLYGON ((-91.83396 40.60957, -91.72989 40.615...</td>\n",
       "    </tr>\n",
       "    <tr>\n",
       "      <th>26</th>\n",
       "      <td>30</td>\n",
       "      <td>Montana</td>\n",
       "      <td>POLYGON ((-104.04753 49.00024, -104.04206 47.8...</td>\n",
       "    </tr>\n",
       "    <tr>\n",
       "      <th>27</th>\n",
       "      <td>31</td>\n",
       "      <td>Nebraska</td>\n",
       "      <td>POLYGON ((-103.32458 43.00299, -101.62673 42.9...</td>\n",
       "    </tr>\n",
       "    <tr>\n",
       "      <th>28</th>\n",
       "      <td>32</td>\n",
       "      <td>Nevada</td>\n",
       "      <td>POLYGON ((-117.02788 42.00071, -114.04295 41.9...</td>\n",
       "    </tr>\n",
       "    <tr>\n",
       "      <th>29</th>\n",
       "      <td>33</td>\n",
       "      <td>New Hampshire</td>\n",
       "      <td>POLYGON ((-71.08183 45.30330, -71.03254 44.657...</td>\n",
       "    </tr>\n",
       "    <tr>\n",
       "      <th>30</th>\n",
       "      <td>34</td>\n",
       "      <td>New Jersey</td>\n",
       "      <td>POLYGON ((-74.23655 41.14083, -73.90245 40.998...</td>\n",
       "    </tr>\n",
       "    <tr>\n",
       "      <th>31</th>\n",
       "      <td>35</td>\n",
       "      <td>New Mexico</td>\n",
       "      <td>POLYGON ((-107.42133 37.00026, -106.86816 36.9...</td>\n",
       "    </tr>\n",
       "    <tr>\n",
       "      <th>32</th>\n",
       "      <td>36</td>\n",
       "      <td>New York</td>\n",
       "      <td>POLYGON ((-73.34381 45.01303, -73.33285 44.804...</td>\n",
       "    </tr>\n",
       "    <tr>\n",
       "      <th>33</th>\n",
       "      <td>37</td>\n",
       "      <td>North Carolina</td>\n",
       "      <td>POLYGON ((-80.97866 36.56211, -80.29404 36.545...</td>\n",
       "    </tr>\n",
       "    <tr>\n",
       "      <th>34</th>\n",
       "      <td>38</td>\n",
       "      <td>North Dakota</td>\n",
       "      <td>POLYGON ((-97.22874 49.00024, -97.09730 48.682...</td>\n",
       "    </tr>\n",
       "    <tr>\n",
       "      <th>35</th>\n",
       "      <td>39</td>\n",
       "      <td>Ohio</td>\n",
       "      <td>POLYGON ((-80.51860 41.97880, -80.51860 40.636...</td>\n",
       "    </tr>\n",
       "    <tr>\n",
       "      <th>36</th>\n",
       "      <td>40</td>\n",
       "      <td>Oklahoma</td>\n",
       "      <td>POLYGON ((-100.08771 37.00026, -94.61624 37.00...</td>\n",
       "    </tr>\n",
       "    <tr>\n",
       "      <th>37</th>\n",
       "      <td>41</td>\n",
       "      <td>Oregon</td>\n",
       "      <td>POLYGON ((-123.21135 46.17414, -123.11824 46.1...</td>\n",
       "    </tr>\n",
       "    <tr>\n",
       "      <th>38</th>\n",
       "      <td>42</td>\n",
       "      <td>Pennsylvania</td>\n",
       "      <td>POLYGON ((-79.76278 42.25265, -79.76278 42.000...</td>\n",
       "    </tr>\n",
       "    <tr>\n",
       "      <th>39</th>\n",
       "      <td>44</td>\n",
       "      <td>Rhode Island</td>\n",
       "      <td>MULTIPOLYGON (((-71.19684 41.67757, -71.12017 ...</td>\n",
       "    </tr>\n",
       "    <tr>\n",
       "      <th>40</th>\n",
       "      <td>45</td>\n",
       "      <td>South Carolina</td>\n",
       "      <td>POLYGON ((-82.76414 35.06690, -82.55054 35.160...</td>\n",
       "    </tr>\n",
       "    <tr>\n",
       "      <th>41</th>\n",
       "      <td>46</td>\n",
       "      <td>South Dakota</td>\n",
       "      <td>POLYGON ((-104.04753 45.94411, -96.56056 45.93...</td>\n",
       "    </tr>\n",
       "    <tr>\n",
       "      <th>42</th>\n",
       "      <td>47</td>\n",
       "      <td>Tennessee</td>\n",
       "      <td>POLYGON ((-88.05487 36.49638, -88.07130 36.677...</td>\n",
       "    </tr>\n",
       "    <tr>\n",
       "      <th>43</th>\n",
       "      <td>48</td>\n",
       "      <td>Texas</td>\n",
       "      <td>POLYGON ((-101.81294 36.50186, -100.00007 36.5...</td>\n",
       "    </tr>\n",
       "    <tr>\n",
       "      <th>44</th>\n",
       "      <td>49</td>\n",
       "      <td>Utah</td>\n",
       "      <td>POLYGON ((-112.16436 41.99523, -111.04706 42.0...</td>\n",
       "    </tr>\n",
       "    <tr>\n",
       "      <th>45</th>\n",
       "      <td>50</td>\n",
       "      <td>Vermont</td>\n",
       "      <td>POLYGON ((-71.50355 45.01303, -71.49260 44.914...</td>\n",
       "    </tr>\n",
       "    <tr>\n",
       "      <th>46</th>\n",
       "      <td>51</td>\n",
       "      <td>Virginia</td>\n",
       "      <td>MULTIPOLYGON (((-75.39766 38.01350, -75.24430 ...</td>\n",
       "    </tr>\n",
       "    <tr>\n",
       "      <th>47</th>\n",
       "      <td>53</td>\n",
       "      <td>Washington</td>\n",
       "      <td>MULTIPOLYGON (((-117.03336 49.00024, -117.0443...</td>\n",
       "    </tr>\n",
       "    <tr>\n",
       "      <th>48</th>\n",
       "      <td>54</td>\n",
       "      <td>West Virginia</td>\n",
       "      <td>POLYGON ((-80.51860 40.63695, -80.51860 39.722...</td>\n",
       "    </tr>\n",
       "    <tr>\n",
       "      <th>49</th>\n",
       "      <td>55</td>\n",
       "      <td>Wisconsin</td>\n",
       "      <td>POLYGON ((-90.41543 46.56848, -90.22921 46.508...</td>\n",
       "    </tr>\n",
       "    <tr>\n",
       "      <th>50</th>\n",
       "      <td>56</td>\n",
       "      <td>Wyoming</td>\n",
       "      <td>POLYGON ((-109.08084 45.00207, -105.91517 45.0...</td>\n",
       "    </tr>\n",
       "    <tr>\n",
       "      <th>51</th>\n",
       "      <td>72</td>\n",
       "      <td>Puerto Rico</td>\n",
       "      <td>POLYGON ((-66.44834 17.98433, -66.77148 18.006...</td>\n",
       "    </tr>\n",
       "  </tbody>\n",
       "</table>\n",
       "</div>"
      ],
      "text/plain": [
       "   state_fips            state_name  \\\n",
       "0          01               Alabama   \n",
       "1          02                Alaska   \n",
       "2          04               Arizona   \n",
       "3          05              Arkansas   \n",
       "4          06            California   \n",
       "5          08              Colorado   \n",
       "6          09           Connecticut   \n",
       "7          10              Delaware   \n",
       "8          11  District of Columbia   \n",
       "9          12               Florida   \n",
       "10         13               Georgia   \n",
       "11         15                Hawaii   \n",
       "12         16                 Idaho   \n",
       "13         17              Illinois   \n",
       "14         18               Indiana   \n",
       "15         19                  Iowa   \n",
       "16         20                Kansas   \n",
       "17         21              Kentucky   \n",
       "18         22             Louisiana   \n",
       "19         23                 Maine   \n",
       "20         24              Maryland   \n",
       "21         25         Massachusetts   \n",
       "22         26              Michigan   \n",
       "23         27             Minnesota   \n",
       "24         28           Mississippi   \n",
       "25         29              Missouri   \n",
       "26         30               Montana   \n",
       "27         31              Nebraska   \n",
       "28         32                Nevada   \n",
       "29         33         New Hampshire   \n",
       "30         34            New Jersey   \n",
       "31         35            New Mexico   \n",
       "32         36              New York   \n",
       "33         37        North Carolina   \n",
       "34         38          North Dakota   \n",
       "35         39                  Ohio   \n",
       "36         40              Oklahoma   \n",
       "37         41                Oregon   \n",
       "38         42          Pennsylvania   \n",
       "39         44          Rhode Island   \n",
       "40         45        South Carolina   \n",
       "41         46          South Dakota   \n",
       "42         47             Tennessee   \n",
       "43         48                 Texas   \n",
       "44         49                  Utah   \n",
       "45         50               Vermont   \n",
       "46         51              Virginia   \n",
       "47         53            Washington   \n",
       "48         54         West Virginia   \n",
       "49         55             Wisconsin   \n",
       "50         56               Wyoming   \n",
       "51         72           Puerto Rico   \n",
       "\n",
       "                                             geometry  \n",
       "0   POLYGON ((-87.35930 35.00118, -85.60667 34.984...  \n",
       "1   MULTIPOLYGON (((-131.60202 55.11798, -131.5691...  \n",
       "2   POLYGON ((-109.04250 37.00026, -109.04798 31.3...  \n",
       "3   POLYGON ((-94.47384 36.50186, -90.15254 36.496...  \n",
       "4   POLYGON ((-123.23326 42.00619, -122.37885 42.0...  \n",
       "5   POLYGON ((-107.91973 41.00391, -105.72895 40.9...  \n",
       "6   POLYGON ((-73.05353 42.03905, -71.79931 42.022...  \n",
       "7   POLYGON ((-75.41409 39.80446, -75.50720 39.683...  \n",
       "8   POLYGON ((-77.03526 38.99387, -76.90929 38.895...  \n",
       "9   POLYGON ((-85.49714 30.99754, -85.00421 31.003...  \n",
       "10  POLYGON ((-83.10919 35.00118, -83.32279 34.787...  \n",
       "11  MULTIPOLYGON (((-155.63484 18.94827, -155.8813...  \n",
       "12  POLYGON ((-116.04751 49.00024, -116.04751 47.9...  \n",
       "13  POLYGON ((-90.63998 42.51006, -88.78878 42.493...  \n",
       "14  POLYGON ((-85.99006 41.75972, -84.80704 41.759...  \n",
       "15  POLYGON ((-91.36842 43.50139, -91.21506 43.501...  \n",
       "16  POLYGON ((-101.90605 40.00163, -95.30634 40.00...  \n",
       "17  POLYGON ((-83.90335 38.76931, -83.67879 38.632...  \n",
       "18  POLYGON ((-93.60849 33.01853, -91.16577 33.002...  \n",
       "19  POLYGON ((-70.70392 43.05776, -70.82441 43.128...  \n",
       "20  POLYGON ((-79.47798 39.72230, -75.78652 39.722...  \n",
       "21  POLYGON ((-70.91752 42.88797, -70.81894 42.871...  \n",
       "22  MULTIPOLYGON (((-83.45424 41.73234, -84.80704 ...  \n",
       "23  POLYGON ((-92.01470 46.70540, -92.09137 46.749...  \n",
       "24  POLYGON ((-88.47111 34.99570, -88.20274 34.995...  \n",
       "25  POLYGON ((-91.83396 40.60957, -91.72989 40.615...  \n",
       "26  POLYGON ((-104.04753 49.00024, -104.04206 47.8...  \n",
       "27  POLYGON ((-103.32458 43.00299, -101.62673 42.9...  \n",
       "28  POLYGON ((-117.02788 42.00071, -114.04295 41.9...  \n",
       "29  POLYGON ((-71.08183 45.30330, -71.03254 44.657...  \n",
       "30  POLYGON ((-74.23655 41.14083, -73.90245 40.998...  \n",
       "31  POLYGON ((-107.42133 37.00026, -106.86816 36.9...  \n",
       "32  POLYGON ((-73.34381 45.01303, -73.33285 44.804...  \n",
       "33  POLYGON ((-80.97866 36.56211, -80.29404 36.545...  \n",
       "34  POLYGON ((-97.22874 49.00024, -97.09730 48.682...  \n",
       "35  POLYGON ((-80.51860 41.97880, -80.51860 40.636...  \n",
       "36  POLYGON ((-100.08771 37.00026, -94.61624 37.00...  \n",
       "37  POLYGON ((-123.21135 46.17414, -123.11824 46.1...  \n",
       "38  POLYGON ((-79.76278 42.25265, -79.76278 42.000...  \n",
       "39  MULTIPOLYGON (((-71.19684 41.67757, -71.12017 ...  \n",
       "40  POLYGON ((-82.76414 35.06690, -82.55054 35.160...  \n",
       "41  POLYGON ((-104.04753 45.94411, -96.56056 45.93...  \n",
       "42  POLYGON ((-88.05487 36.49638, -88.07130 36.677...  \n",
       "43  POLYGON ((-101.81294 36.50186, -100.00007 36.5...  \n",
       "44  POLYGON ((-112.16436 41.99523, -111.04706 42.0...  \n",
       "45  POLYGON ((-71.50355 45.01303, -71.49260 44.914...  \n",
       "46  MULTIPOLYGON (((-75.39766 38.01350, -75.24430 ...  \n",
       "47  MULTIPOLYGON (((-117.03336 49.00024, -117.0443...  \n",
       "48  POLYGON ((-80.51860 40.63695, -80.51860 39.722...  \n",
       "49  POLYGON ((-90.41543 46.56848, -90.22921 46.508...  \n",
       "50  POLYGON ((-109.08084 45.00207, -105.91517 45.0...  \n",
       "51  POLYGON ((-66.44834 17.98433, -66.77148 18.006...  "
      ]
     },
     "execution_count": 6,
     "metadata": {},
     "output_type": "execute_result"
    }
   ],
   "source": [
    "states_gdf"
   ]
  },
  {
   "cell_type": "markdown",
   "id": "b380a383-1555-4a13-8e12-3b53ed5d67a8",
   "metadata": {},
   "source": [
    "#### Quick plot"
   ]
  },
  {
   "cell_type": "code",
   "execution_count": null,
   "id": "d0b9296a-d000-4b79-b063-71ef3b3fb9dd",
   "metadata": {},
   "outputs": [],
   "source": []
  },
  {
   "cell_type": "markdown",
   "id": "7abe1ca9-3dc0-41a5-9515-26c6e28f8c89",
   "metadata": {},
   "source": [
    "#### Exclude features: Alaska and Hawaii"
   ]
  },
  {
   "cell_type": "code",
   "execution_count": 7,
   "id": "abbe0160-2132-4907-9b14-b806718eda0d",
   "metadata": {},
   "outputs": [],
   "source": [
    "exclude = [\"Alaska\", \"Hawaii\", \"Puerto Rico\"]"
   ]
  },
  {
   "cell_type": "code",
   "execution_count": 11,
   "id": "118b3ee7-a5a3-4cc1-b92a-2a94a68ded40",
   "metadata": {},
   "outputs": [],
   "source": [
    "mainland_gdf = states_gdf[~states_gdf[\"state_name\"].isin(exclude)]"
   ]
  },
  {
   "cell_type": "markdown",
   "id": "296dba7c-50a9-4946-acaf-bfd89ddbe23a",
   "metadata": {},
   "source": [
    "#### Focus on the mainland states"
   ]
  },
  {
   "cell_type": "code",
   "execution_count": null,
   "id": "43308c74-7d72-4384-a4b2-7c2ca8779881",
   "metadata": {},
   "outputs": [],
   "source": []
  },
  {
   "cell_type": "markdown",
   "id": "b414c442-6bc0-414f-b21f-47179fb9ab3f",
   "metadata": {},
   "source": [
    "#### Plot it"
   ]
  },
  {
   "cell_type": "code",
   "execution_count": 12,
   "id": "f7233391-989e-4ccf-a2c6-c76549169acb",
   "metadata": {},
   "outputs": [
    {
     "data": {
      "text/plain": [
       "<AxesSubplot:>"
      ]
     },
     "execution_count": 12,
     "metadata": {},
     "output_type": "execute_result"
    },
    {
     "data": {
      "image/png": "[encoded data removed]",
      "text/plain": [
       "<Figure size 432x288 with 1 Axes>"
      ]
     },
     "metadata": {
      "needs_background": "light"
     },
     "output_type": "display_data"
    }
   ],
   "source": [
    "mainland_gdf.plot()"
   ]
  },
  {
   "cell_type": "markdown",
   "id": "35b7366b-32be-44ce-be95-02dd87011952",
   "metadata": {},
   "source": [
    "#### Filter just west coast"
   ]
  },
  {
   "cell_type": "code",
   "execution_count": 14,
   "id": "9c0d2d55-2257-4685-90d5-483a3a4fe0b9",
   "metadata": {},
   "outputs": [],
   "source": [
    "west_coast_states = [\"California\", \"Oregon\", \"Washington\"]"
   ]
  },
  {
   "cell_type": "code",
   "execution_count": 15,
   "id": "a1894253-fc0b-48b7-8ea0-d5bf6fda8694",
   "metadata": {},
   "outputs": [],
   "source": [
    "west_coast_gdf = states_gdf[~states_gdf[\"state_name\"].isin(west_coast_states)]"
   ]
  },
  {
   "cell_type": "markdown",
   "id": "1b686359-5727-4e59-9767-a6084fce7db7",
   "metadata": {},
   "source": [
    "#### Plot it"
   ]
  },
  {
   "cell_type": "code",
   "execution_count": 16,
   "id": "822cec05-7b70-44cc-a464-c0cfaa56e650",
   "metadata": {},
   "outputs": [
    {
     "data": {
      "text/plain": [
       "<AxesSubplot:>"
      ]
     },
     "execution_count": 16,
     "metadata": {},
     "output_type": "execute_result"
    },
    {
     "data": {
      "image/png": "[encoded data removed]",
      "text/plain": [
       "<Figure size 432x288 with 1 Axes>"
      ]
     },
     "metadata": {
      "needs_background": "light"
     },
     "output_type": "display_data"
    }
   ],
   "source": [
    "west_coast_gdf.plot()"
   ]
  },
  {
   "cell_type": "markdown",
   "id": "ec91b6c9-4075-4dc7-a6e1-98f4cb7f0166",
   "metadata": {},
   "source": [
    "---"
   ]
  },
  {
   "cell_type": "markdown",
   "id": "6fc65518-6910-47dc-8e10-5ba4610d1078",
   "metadata": {},
   "source": [
    "## Import values data"
   ]
  },
  {
   "cell_type": "markdown",
   "id": "e3679855-5531-45df-b3a0-08ff836af848",
   "metadata": {},
   "source": [
    "#### Mexican-American population by state"
   ]
  },
  {
   "cell_type": "code",
   "execution_count": 6,
   "id": "396fbd6a-515b-413a-aa02-9a49b0d70690",
   "metadata": {},
   "outputs": [],
   "source": [
    "df = pd.read_csv(\n",
    "    \"https://raw.githubusercontent.com/stiles/usc/main/data/processed/mexican_pop_states.csv\",\n",
    "    dtype={\"geoid\": str},\n",
    ")"
   ]
  },
  {
   "cell_type": "markdown",
   "id": "f99da557-9a8c-400c-95c3-fed7214df235",
   "metadata": {},
   "source": [
    "#### First five rows"
   ]
  },
  {
   "cell_type": "code",
   "execution_count": 17,
   "id": "48d2850f-cf51-446e-8f5a-de70fbe26f42",
   "metadata": {},
   "outputs": [
    {
     "ename": "NameError",
     "evalue": "name 'df' is not defined",
     "output_type": "error",
     "traceback": [
      "\u001b[0;31m---------------------------------------------------------------------------\u001b[0m",
      "\u001b[0;31mNameError\u001b[0m                                 Traceback (most recent call last)",
      "\u001b[0;32m<ipython-input-17-c42a15b2c7cf>\u001b[0m in \u001b[0;36m<module>\u001b[0;34m\u001b[0m\n\u001b[0;32m----> 1\u001b[0;31m \u001b[0mdf\u001b[0m\u001b[0;34m.\u001b[0m\u001b[0mhead\u001b[0m\u001b[0;34m(\u001b[0m\u001b[0;34m)\u001b[0m\u001b[0;34m\u001b[0m\u001b[0;34m\u001b[0m\u001b[0m\n\u001b[0m",
      "\u001b[0;31mNameError\u001b[0m: name 'df' is not defined"
     ]
    }
   ],
   "source": []
  },
  {
   "cell_type": "markdown",
   "id": "48da66bc-21d4-4cda-bcf7-403c48c812de",
   "metadata": {},
   "source": [
    "#### Which state's population has the highest share of Mexican-American residents? "
   ]
  },
  {
   "cell_type": "code",
   "execution_count": null,
   "id": "b36786fb-3b67-4862-b514-9b12b3894bf8",
   "metadata": {},
   "outputs": [],
   "source": []
  },
  {
   "cell_type": "markdown",
   "id": "d7113c78-8fed-4ad1-9836-b193aeeef743",
   "metadata": {},
   "source": [
    "#### Which state's population has the lowest share of Hispanic residents? "
   ]
  },
  {
   "cell_type": "code",
   "execution_count": null,
   "id": "7eb08567-9449-40af-bcce-866b47cfbffb",
   "metadata": {},
   "outputs": [],
   "source": []
  },
  {
   "cell_type": "markdown",
   "id": "443c310e-ac1d-4253-9ff6-cfba2df0c8d9",
   "metadata": {},
   "source": [
    "---"
   ]
  },
  {
   "cell_type": "markdown",
   "id": "6ca73e63-73d6-4828-aca5-a338fe931d41",
   "metadata": {},
   "source": [
    "## Merge"
   ]
  },
  {
   "cell_type": "code",
   "execution_count": null,
   "id": "ac596cdd-8339-48bc-a1d7-e4a49cabddaa",
   "metadata": {},
   "outputs": [],
   "source": [
    "mex_am_gdf = mainland_gdf"
   ]
  },
  {
   "cell_type": "markdown",
   "id": "e1cd1a1d-f970-4453-89c4-5bf7e2bc22bd",
   "metadata": {},
   "source": [
    "#### Did it work? "
   ]
  },
  {
   "cell_type": "code",
   "execution_count": null,
   "id": "b791391b-9025-4e49-b24d-c60c144ff025",
   "metadata": {},
   "outputs": [],
   "source": []
  },
  {
   "cell_type": "markdown",
   "id": "1c43bb14-ae4f-4895-ab91-fb1446117e47",
   "metadata": {},
   "source": [
    "#### First five rows? "
   ]
  },
  {
   "cell_type": "code",
   "execution_count": null,
   "id": "a3e99b61-425d-4c32-97dc-fd6eb2c2e105",
   "metadata": {},
   "outputs": [],
   "source": []
  },
  {
   "cell_type": "markdown",
   "id": "3428dc1d-773e-4b22-bb66-b5ccb49bc122",
   "metadata": {},
   "source": [
    "---"
   ]
  },
  {
   "cell_type": "markdown",
   "id": "8f665e44-4b99-4c85-ba07-95cf3970e472",
   "metadata": {},
   "source": [
    "## Export"
   ]
  },
  {
   "cell_type": "markdown",
   "id": "c9ede30d-928b-40bf-814e-a51df1392ccf",
   "metadata": {},
   "source": [
    "#### Save our geodataframe as GeoJSON"
   ]
  },
  {
   "cell_type": "code",
   "execution_count": 7,
   "id": "1c5126a9-127e-4680-bd33-4c8834950172",
   "metadata": {},
   "outputs": [],
   "source": [
    "# mex_am_gdf.to_file(\"../data/geo/mexican_americans_states.geojson\", driver=\"GeoJSON\")"
   ]
  }
 ],
 "metadata": {
  "kernelspec": {
   "display_name": "Python 3",
   "language": "python",
   "name": "python3"
  },
  "language_info": {
   "codemirror_mode": {
    "name": "ipython",
    "version": 3
   },
   "file_extension": ".py",
   "mimetype": "text/x-python",
   "name": "python",
   "nbconvert_exporter": "python",
   "pygments_lexer": "ipython3",
   "version": "3.8.8"
  }
 },
 "nbformat": 4,
 "nbformat_minor": 5
}
