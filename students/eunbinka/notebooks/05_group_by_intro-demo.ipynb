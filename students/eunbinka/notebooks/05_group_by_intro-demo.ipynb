{
 "cells": [
  {
   "cell_type": "markdown",
   "id": "564e3285-652b-46c8-9148-15d6b4895ad9",
   "metadata": {},
   "source": [
    "# Using groupby in Pandas\n",
    "Use this method when you want to collapse a dataframe by a categorical column and run an aggregation. For example, if you had a list of alcohol consumption by country, and you wanted to know the average consumed **for each** continent. Let's look at that example."
   ]
  },
  {
   "cell_type": "markdown",
   "id": "b33ad272-23b8-45d3-99e3-b006192bee92",
   "metadata": {},
   "source": [
    "#### Load python tools"
   ]
  },
  {
   "cell_type": "code",
   "execution_count": 1,
   "id": "b22b7261-fe68-4445-bf94-82a506fa5018",
   "metadata": {},
   "outputs": [],
   "source": [
    "import pandas as pd"
   ]
  },
  {
   "cell_type": "markdown",
   "id": "e80cc819-8cc4-4587-8e04-959ea605e1ef",
   "metadata": {},
   "source": [
    "#### Read sample dataset"
   ]
  },
  {
   "cell_type": "code",
   "execution_count": 2,
   "id": "bfde2aa3-58c8-4a61-a7aa-8bde4389bb3c",
   "metadata": {},
   "outputs": [],
   "source": [
    "df = pd.read_csv('https://bit.ly/drinksbycountry')"
   ]
  },
  {
   "cell_type": "markdown",
   "id": "290286e6-fff7-47d9-a313-bf78c4421aec",
   "metadata": {},
   "source": [
    "#### What's that dataframe look like? "
   ]
  },
  {
   "cell_type": "code",
   "execution_count": 3,
   "id": "a6fa61a8-e2c2-46a6-86a1-562e204aa558",
   "metadata": {},
   "outputs": [
    {
     "data": {
      "text/html": [
       "<div>\n",
       "<style scoped>\n",
       "    .dataframe tbody tr th:only-of-type {\n",
       "        vertical-align: middle;\n",
       "    }\n",
       "\n",
       "    .dataframe tbody tr th {\n",
       "        vertical-align: top;\n",
       "    }\n",
       "\n",
       "    .dataframe thead th {\n",
       "        text-align: right;\n",
       "    }\n",
       "</style>\n",
       "<table border=\"1\" class=\"dataframe\">\n",
       "  <thead>\n",
       "    <tr style=\"text-align: right;\">\n",
       "      <th></th>\n",
       "      <th>country</th>\n",
       "      <th>beer_servings</th>\n",
       "      <th>spirit_servings</th>\n",
       "      <th>wine_servings</th>\n",
       "      <th>total_litres_of_pure_alcohol</th>\n",
       "      <th>continent</th>\n",
       "    </tr>\n",
       "  </thead>\n",
       "  <tbody>\n",
       "    <tr>\n",
       "      <th>0</th>\n",
       "      <td>Afghanistan</td>\n",
       "      <td>0</td>\n",
       "      <td>0</td>\n",
       "      <td>0</td>\n",
       "      <td>0.0</td>\n",
       "      <td>Asia</td>\n",
       "    </tr>\n",
       "    <tr>\n",
       "      <th>1</th>\n",
       "      <td>Albania</td>\n",
       "      <td>89</td>\n",
       "      <td>132</td>\n",
       "      <td>54</td>\n",
       "      <td>4.9</td>\n",
       "      <td>Europe</td>\n",
       "    </tr>\n",
       "    <tr>\n",
       "      <th>2</th>\n",
       "      <td>Algeria</td>\n",
       "      <td>25</td>\n",
       "      <td>0</td>\n",
       "      <td>14</td>\n",
       "      <td>0.7</td>\n",
       "      <td>Africa</td>\n",
       "    </tr>\n",
       "    <tr>\n",
       "      <th>3</th>\n",
       "      <td>Andorra</td>\n",
       "      <td>245</td>\n",
       "      <td>138</td>\n",
       "      <td>312</td>\n",
       "      <td>12.4</td>\n",
       "      <td>Europe</td>\n",
       "    </tr>\n",
       "    <tr>\n",
       "      <th>4</th>\n",
       "      <td>Angola</td>\n",
       "      <td>217</td>\n",
       "      <td>57</td>\n",
       "      <td>45</td>\n",
       "      <td>5.9</td>\n",
       "      <td>Africa</td>\n",
       "    </tr>\n",
       "  </tbody>\n",
       "</table>\n",
       "</div>"
      ],
      "text/plain": [
       "       country  beer_servings  spirit_servings  wine_servings  \\\n",
       "0  Afghanistan              0                0              0   \n",
       "1      Albania             89              132             54   \n",
       "2      Algeria             25                0             14   \n",
       "3      Andorra            245              138            312   \n",
       "4       Angola            217               57             45   \n",
       "\n",
       "   total_litres_of_pure_alcohol continent  \n",
       "0                           0.0      Asia  \n",
       "1                           4.9    Europe  \n",
       "2                           0.7    Africa  \n",
       "3                          12.4    Europe  \n",
       "4                           5.9    Africa  "
      ]
     },
     "execution_count": 3,
     "metadata": {},
     "output_type": "execute_result"
    }
   ],
   "source": [
    "df.head()"
   ]
  },
  {
   "cell_type": "code",
   "execution_count": 4,
   "id": "6c0f18e5-5936-4bfd-a099-043ebb6e137e",
   "metadata": {},
   "outputs": [
    {
     "data": {
      "text/html": [
       "<div>\n",
       "<style scoped>\n",
       "    .dataframe tbody tr th:only-of-type {\n",
       "        vertical-align: middle;\n",
       "    }\n",
       "\n",
       "    .dataframe tbody tr th {\n",
       "        vertical-align: top;\n",
       "    }\n",
       "\n",
       "    .dataframe thead th {\n",
       "        text-align: right;\n",
       "    }\n",
       "</style>\n",
       "<table border=\"1\" class=\"dataframe\">\n",
       "  <thead>\n",
       "    <tr style=\"text-align: right;\">\n",
       "      <th></th>\n",
       "      <th>country</th>\n",
       "      <th>beer_servings</th>\n",
       "      <th>spirit_servings</th>\n",
       "      <th>wine_servings</th>\n",
       "      <th>total_litres_of_pure_alcohol</th>\n",
       "      <th>continent</th>\n",
       "    </tr>\n",
       "  </thead>\n",
       "  <tbody>\n",
       "    <tr>\n",
       "      <th>188</th>\n",
       "      <td>Venezuela</td>\n",
       "      <td>333</td>\n",
       "      <td>100</td>\n",
       "      <td>3</td>\n",
       "      <td>7.7</td>\n",
       "      <td>South America</td>\n",
       "    </tr>\n",
       "    <tr>\n",
       "      <th>189</th>\n",
       "      <td>Vietnam</td>\n",
       "      <td>111</td>\n",
       "      <td>2</td>\n",
       "      <td>1</td>\n",
       "      <td>2.0</td>\n",
       "      <td>Asia</td>\n",
       "    </tr>\n",
       "    <tr>\n",
       "      <th>190</th>\n",
       "      <td>Yemen</td>\n",
       "      <td>6</td>\n",
       "      <td>0</td>\n",
       "      <td>0</td>\n",
       "      <td>0.1</td>\n",
       "      <td>Asia</td>\n",
       "    </tr>\n",
       "    <tr>\n",
       "      <th>191</th>\n",
       "      <td>Zambia</td>\n",
       "      <td>32</td>\n",
       "      <td>19</td>\n",
       "      <td>4</td>\n",
       "      <td>2.5</td>\n",
       "      <td>Africa</td>\n",
       "    </tr>\n",
       "    <tr>\n",
       "      <th>192</th>\n",
       "      <td>Zimbabwe</td>\n",
       "      <td>64</td>\n",
       "      <td>18</td>\n",
       "      <td>4</td>\n",
       "      <td>4.7</td>\n",
       "      <td>Africa</td>\n",
       "    </tr>\n",
       "  </tbody>\n",
       "</table>\n",
       "</div>"
      ],
      "text/plain": [
       "       country  beer_servings  spirit_servings  wine_servings  \\\n",
       "188  Venezuela            333              100              3   \n",
       "189    Vietnam            111                2              1   \n",
       "190      Yemen              6                0              0   \n",
       "191     Zambia             32               19              4   \n",
       "192   Zimbabwe             64               18              4   \n",
       "\n",
       "     total_litres_of_pure_alcohol      continent  \n",
       "188                           7.7  South America  \n",
       "189                           2.0           Asia  \n",
       "190                           0.1           Asia  \n",
       "191                           2.5         Africa  \n",
       "192                           4.7         Africa  "
      ]
     },
     "execution_count": 4,
     "metadata": {},
     "output_type": "execute_result"
    }
   ],
   "source": [
    "df.tail()"
   ]
  },
  {
   "cell_type": "markdown",
   "id": "9ba2676e-82a0-49ce-8408-042e03adfc0a",
   "metadata": {},
   "source": [
    "#### How many records, or countries? "
   ]
  },
  {
   "cell_type": "code",
   "execution_count": 5,
   "id": "922bcbc3-11aa-4ab7-9c07-46cbea5cc290",
   "metadata": {},
   "outputs": [
    {
     "data": {
      "text/plain": [
       "193"
      ]
     },
     "execution_count": 5,
     "metadata": {},
     "output_type": "execute_result"
    }
   ],
   "source": [
    "len(df)"
   ]
  },
  {
   "cell_type": "markdown",
   "id": "9ec429cc-8f30-4483-a861-a7de743506c4",
   "metadata": {},
   "source": [
    "#### How many countries in each continent? "
   ]
  },
  {
   "cell_type": "code",
   "execution_count": 6,
   "id": "8afed303-39dd-4485-a2d4-9ee2fb6ed086",
   "metadata": {},
   "outputs": [
    {
     "data": {
      "text/plain": [
       "continent\n",
       "Africa           53\n",
       "Europe           45\n",
       "Asia             44\n",
       "North America    23\n",
       "Oceania          16\n",
       "South America    12\n",
       "dtype: int64"
      ]
     },
     "execution_count": 6,
     "metadata": {},
     "output_type": "execute_result"
    }
   ],
   "source": [
    "df.value_counts('continent')"
   ]
  },
  {
   "cell_type": "markdown",
   "id": "c88251c5-02b4-443b-b76d-a591fac05765",
   "metadata": {},
   "source": [
    "---"
   ]
  },
  {
   "cell_type": "markdown",
   "id": "5a3a0065-af3d-49b4-a711-c1280c87c002",
   "metadata": {},
   "source": [
    "#### What's the average beer servings in all countries? "
   ]
  },
  {
   "cell_type": "code",
   "execution_count": 7,
   "id": "25b4df48-644b-423d-a0b7-fdc25bf80608",
   "metadata": {},
   "outputs": [
    {
     "data": {
      "text/plain": [
       "106.16062176165804"
      ]
     },
     "execution_count": 7,
     "metadata": {},
     "output_type": "execute_result"
    }
   ],
   "source": [
    "df['beer_servings'].mean()"
   ]
  },
  {
   "cell_type": "markdown",
   "id": "682e00c1-5d9b-4fc7-9bb7-8b0ba2c79893",
   "metadata": {},
   "source": [
    "#### But what about **for each** continent? "
   ]
  },
  {
   "cell_type": "code",
   "execution_count": 8,
   "id": "33034e04-cb8a-406c-9285-2894df661176",
   "metadata": {},
   "outputs": [
    {
     "data": {
      "text/plain": [
       "continent\n",
       "Africa            61.471698\n",
       "Asia              37.045455\n",
       "Europe           193.777778\n",
       "North America    145.434783\n",
       "Oceania           89.687500\n",
       "South America    175.083333\n",
       "Name: beer_servings, dtype: float64"
      ]
     },
     "execution_count": 8,
     "metadata": {},
     "output_type": "execute_result"
    }
   ],
   "source": [
    "df.groupby(['continent'])['beer_servings'].mean()"
   ]
  },
  {
   "cell_type": "markdown",
   "id": "0d77fd16-4cb9-4ddc-a6ef-335306507ac2",
   "metadata": {},
   "source": [
    "#### You're basically doing this, but **for each** continent"
   ]
  },
  {
   "cell_type": "code",
   "execution_count": 9,
   "id": "fc883c68-71f2-4c5c-897e-8acec57c7678",
   "metadata": {},
   "outputs": [
    {
     "data": {
      "text/plain": [
       "37.04545454545455"
      ]
     },
     "execution_count": 9,
     "metadata": {},
     "output_type": "execute_result"
    }
   ],
   "source": [
    "df[df['continent'] == 'Asia']['beer_servings'].mean()"
   ]
  },
  {
   "cell_type": "markdown",
   "id": "72922226-a776-45b9-8eaa-50e00a25a23d",
   "metadata": {},
   "source": [
    "#### Or ... "
   ]
  },
  {
   "cell_type": "code",
   "execution_count": 10,
   "id": "8e029a8d-3acc-4718-bac7-3f6129877b52",
   "metadata": {},
   "outputs": [
    {
     "data": {
      "text/plain": [
       "145.43478260869566"
      ]
     },
     "execution_count": 10,
     "metadata": {},
     "output_type": "execute_result"
    }
   ],
   "source": [
    "df[df['continent'] == 'North America']['beer_servings'].mean()"
   ]
  },
  {
   "cell_type": "markdown",
   "id": "f091a503-65dc-4be6-b648-bb54f8b1cc57",
   "metadata": {},
   "source": [
    "#### Remember, you can filter a dataframe — in this case to see each country in Asia:"
   ]
  },
  {
   "cell_type": "code",
   "execution_count": 11,
   "id": "1c205fb8-a829-4802-911a-f9ab727d2eba",
   "metadata": {},
   "outputs": [],
   "source": [
    "asia_df = df[df['continent'] == \"Asia\"]"
   ]
  },
  {
   "cell_type": "markdown",
   "id": "399d9a59-e485-4ca7-90e6-c423cd86daba",
   "metadata": {},
   "source": [
    "#### Which countries consume the most beer? "
   ]
  },
  {
   "cell_type": "code",
   "execution_count": 12,
   "id": "60f6f19f-ef2e-4a3f-9f23-1a1e750171b6",
   "metadata": {},
   "outputs": [
    {
     "data": {
      "text/html": [
       "<div>\n",
       "<style scoped>\n",
       "    .dataframe tbody tr th:only-of-type {\n",
       "        vertical-align: middle;\n",
       "    }\n",
       "\n",
       "    .dataframe tbody tr th {\n",
       "        vertical-align: top;\n",
       "    }\n",
       "\n",
       "    .dataframe thead th {\n",
       "        text-align: right;\n",
       "    }\n",
       "</style>\n",
       "<table border=\"1\" class=\"dataframe\">\n",
       "  <thead>\n",
       "    <tr style=\"text-align: right;\">\n",
       "      <th></th>\n",
       "      <th>country</th>\n",
       "      <th>beer_servings</th>\n",
       "      <th>spirit_servings</th>\n",
       "      <th>wine_servings</th>\n",
       "      <th>total_litres_of_pure_alcohol</th>\n",
       "      <th>continent</th>\n",
       "    </tr>\n",
       "  </thead>\n",
       "  <tbody>\n",
       "    <tr>\n",
       "      <th>141</th>\n",
       "      <td>Russian Federation</td>\n",
       "      <td>247</td>\n",
       "      <td>326</td>\n",
       "      <td>73</td>\n",
       "      <td>11.5</td>\n",
       "      <td>Asia</td>\n",
       "    </tr>\n",
       "    <tr>\n",
       "      <th>138</th>\n",
       "      <td>South Korea</td>\n",
       "      <td>140</td>\n",
       "      <td>16</td>\n",
       "      <td>9</td>\n",
       "      <td>9.8</td>\n",
       "      <td>Asia</td>\n",
       "    </tr>\n",
       "    <tr>\n",
       "      <th>87</th>\n",
       "      <td>Kazakhstan</td>\n",
       "      <td>124</td>\n",
       "      <td>246</td>\n",
       "      <td>12</td>\n",
       "      <td>6.8</td>\n",
       "      <td>Asia</td>\n",
       "    </tr>\n",
       "    <tr>\n",
       "      <th>189</th>\n",
       "      <td>Vietnam</td>\n",
       "      <td>111</td>\n",
       "      <td>2</td>\n",
       "      <td>1</td>\n",
       "      <td>2.0</td>\n",
       "      <td>Asia</td>\n",
       "    </tr>\n",
       "    <tr>\n",
       "      <th>169</th>\n",
       "      <td>Thailand</td>\n",
       "      <td>99</td>\n",
       "      <td>258</td>\n",
       "      <td>1</td>\n",
       "      <td>6.4</td>\n",
       "      <td>Asia</td>\n",
       "    </tr>\n",
       "  </tbody>\n",
       "</table>\n",
       "</div>"
      ],
      "text/plain": [
       "                country  beer_servings  spirit_servings  wine_servings  \\\n",
       "141  Russian Federation            247              326             73   \n",
       "138         South Korea            140               16              9   \n",
       "87           Kazakhstan            124              246             12   \n",
       "189             Vietnam            111                2              1   \n",
       "169            Thailand             99              258              1   \n",
       "\n",
       "     total_litres_of_pure_alcohol continent  \n",
       "141                          11.5      Asia  \n",
       "138                           9.8      Asia  \n",
       "87                            6.8      Asia  \n",
       "189                           2.0      Asia  \n",
       "169                           6.4      Asia  "
      ]
     },
     "execution_count": 12,
     "metadata": {},
     "output_type": "execute_result"
    }
   ],
   "source": [
    "asia_df.sort_values('beer_servings', ascending=False).head()"
   ]
  },
  {
   "cell_type": "markdown",
   "id": "a213f6a0-116a-480a-bfad-8b4b6191d361",
   "metadata": {},
   "source": [
    "#### Or total litres of alcohol"
   ]
  },
  {
   "cell_type": "code",
   "execution_count": 13,
   "id": "21b72710-f4b7-4d1f-a319-1fd44eefafd6",
   "metadata": {},
   "outputs": [
    {
     "data": {
      "text/html": [
       "<div>\n",
       "<style scoped>\n",
       "    .dataframe tbody tr th:only-of-type {\n",
       "        vertical-align: middle;\n",
       "    }\n",
       "\n",
       "    .dataframe tbody tr th {\n",
       "        vertical-align: top;\n",
       "    }\n",
       "\n",
       "    .dataframe thead th {\n",
       "        text-align: right;\n",
       "    }\n",
       "</style>\n",
       "<table border=\"1\" class=\"dataframe\">\n",
       "  <thead>\n",
       "    <tr style=\"text-align: right;\">\n",
       "      <th></th>\n",
       "      <th>country</th>\n",
       "      <th>beer_servings</th>\n",
       "      <th>spirit_servings</th>\n",
       "      <th>wine_servings</th>\n",
       "      <th>total_litres_of_pure_alcohol</th>\n",
       "      <th>continent</th>\n",
       "    </tr>\n",
       "  </thead>\n",
       "  <tbody>\n",
       "    <tr>\n",
       "      <th>141</th>\n",
       "      <td>Russian Federation</td>\n",
       "      <td>247</td>\n",
       "      <td>326</td>\n",
       "      <td>73</td>\n",
       "      <td>11.5</td>\n",
       "      <td>Asia</td>\n",
       "    </tr>\n",
       "    <tr>\n",
       "      <th>138</th>\n",
       "      <td>South Korea</td>\n",
       "      <td>140</td>\n",
       "      <td>16</td>\n",
       "      <td>9</td>\n",
       "      <td>9.8</td>\n",
       "      <td>Asia</td>\n",
       "    </tr>\n",
       "    <tr>\n",
       "      <th>85</th>\n",
       "      <td>Japan</td>\n",
       "      <td>77</td>\n",
       "      <td>202</td>\n",
       "      <td>16</td>\n",
       "      <td>7.0</td>\n",
       "      <td>Asia</td>\n",
       "    </tr>\n",
       "    <tr>\n",
       "      <th>87</th>\n",
       "      <td>Kazakhstan</td>\n",
       "      <td>124</td>\n",
       "      <td>246</td>\n",
       "      <td>12</td>\n",
       "      <td>6.8</td>\n",
       "      <td>Asia</td>\n",
       "    </tr>\n",
       "    <tr>\n",
       "      <th>169</th>\n",
       "      <td>Thailand</td>\n",
       "      <td>99</td>\n",
       "      <td>258</td>\n",
       "      <td>1</td>\n",
       "      <td>6.4</td>\n",
       "      <td>Asia</td>\n",
       "    </tr>\n",
       "    <tr>\n",
       "      <th>92</th>\n",
       "      <td>Laos</td>\n",
       "      <td>62</td>\n",
       "      <td>0</td>\n",
       "      <td>123</td>\n",
       "      <td>6.2</td>\n",
       "      <td>Asia</td>\n",
       "    </tr>\n",
       "    <tr>\n",
       "      <th>36</th>\n",
       "      <td>China</td>\n",
       "      <td>79</td>\n",
       "      <td>192</td>\n",
       "      <td>8</td>\n",
       "      <td>5.0</td>\n",
       "      <td>Asia</td>\n",
       "    </tr>\n",
       "    <tr>\n",
       "      <th>112</th>\n",
       "      <td>Mongolia</td>\n",
       "      <td>77</td>\n",
       "      <td>189</td>\n",
       "      <td>8</td>\n",
       "      <td>4.9</td>\n",
       "      <td>Asia</td>\n",
       "    </tr>\n",
       "    <tr>\n",
       "      <th>134</th>\n",
       "      <td>Philippines</td>\n",
       "      <td>71</td>\n",
       "      <td>186</td>\n",
       "      <td>1</td>\n",
       "      <td>4.6</td>\n",
       "      <td>Asia</td>\n",
       "    </tr>\n",
       "    <tr>\n",
       "      <th>181</th>\n",
       "      <td>United Arab Emirates</td>\n",
       "      <td>16</td>\n",
       "      <td>135</td>\n",
       "      <td>5</td>\n",
       "      <td>2.8</td>\n",
       "      <td>Asia</td>\n",
       "    </tr>\n",
       "    <tr>\n",
       "      <th>82</th>\n",
       "      <td>Israel</td>\n",
       "      <td>63</td>\n",
       "      <td>69</td>\n",
       "      <td>9</td>\n",
       "      <td>2.5</td>\n",
       "      <td>Asia</td>\n",
       "    </tr>\n",
       "    <tr>\n",
       "      <th>91</th>\n",
       "      <td>Kyrgyzstan</td>\n",
       "      <td>31</td>\n",
       "      <td>97</td>\n",
       "      <td>6</td>\n",
       "      <td>2.4</td>\n",
       "      <td>Asia</td>\n",
       "    </tr>\n",
       "    <tr>\n",
       "      <th>186</th>\n",
       "      <td>Uzbekistan</td>\n",
       "      <td>25</td>\n",
       "      <td>101</td>\n",
       "      <td>8</td>\n",
       "      <td>2.4</td>\n",
       "      <td>Asia</td>\n",
       "    </tr>\n",
       "    <tr>\n",
       "      <th>161</th>\n",
       "      <td>Sri Lanka</td>\n",
       "      <td>16</td>\n",
       "      <td>104</td>\n",
       "      <td>0</td>\n",
       "      <td>2.2</td>\n",
       "      <td>Asia</td>\n",
       "    </tr>\n",
       "    <tr>\n",
       "      <th>177</th>\n",
       "      <td>Turkmenistan</td>\n",
       "      <td>19</td>\n",
       "      <td>71</td>\n",
       "      <td>32</td>\n",
       "      <td>2.2</td>\n",
       "      <td>Asia</td>\n",
       "    </tr>\n",
       "    <tr>\n",
       "      <th>77</th>\n",
       "      <td>India</td>\n",
       "      <td>9</td>\n",
       "      <td>114</td>\n",
       "      <td>0</td>\n",
       "      <td>2.2</td>\n",
       "      <td>Asia</td>\n",
       "    </tr>\n",
       "    <tr>\n",
       "      <th>30</th>\n",
       "      <td>Cambodia</td>\n",
       "      <td>57</td>\n",
       "      <td>65</td>\n",
       "      <td>1</td>\n",
       "      <td>2.2</td>\n",
       "      <td>Asia</td>\n",
       "    </tr>\n",
       "    <tr>\n",
       "      <th>12</th>\n",
       "      <td>Bahrain</td>\n",
       "      <td>42</td>\n",
       "      <td>63</td>\n",
       "      <td>7</td>\n",
       "      <td>2.0</td>\n",
       "      <td>Asia</td>\n",
       "    </tr>\n",
       "    <tr>\n",
       "      <th>189</th>\n",
       "      <td>Vietnam</td>\n",
       "      <td>111</td>\n",
       "      <td>2</td>\n",
       "      <td>1</td>\n",
       "      <td>2.0</td>\n",
       "      <td>Asia</td>\n",
       "    </tr>\n",
       "    <tr>\n",
       "      <th>94</th>\n",
       "      <td>Lebanon</td>\n",
       "      <td>20</td>\n",
       "      <td>55</td>\n",
       "      <td>31</td>\n",
       "      <td>1.9</td>\n",
       "      <td>Asia</td>\n",
       "    </tr>\n",
       "    <tr>\n",
       "      <th>154</th>\n",
       "      <td>Singapore</td>\n",
       "      <td>60</td>\n",
       "      <td>12</td>\n",
       "      <td>11</td>\n",
       "      <td>1.5</td>\n",
       "      <td>Asia</td>\n",
       "    </tr>\n",
       "    <tr>\n",
       "      <th>176</th>\n",
       "      <td>Turkey</td>\n",
       "      <td>51</td>\n",
       "      <td>22</td>\n",
       "      <td>7</td>\n",
       "      <td>1.4</td>\n",
       "      <td>Asia</td>\n",
       "    </tr>\n",
       "    <tr>\n",
       "      <th>167</th>\n",
       "      <td>Syria</td>\n",
       "      <td>5</td>\n",
       "      <td>35</td>\n",
       "      <td>16</td>\n",
       "      <td>1.0</td>\n",
       "      <td>Asia</td>\n",
       "    </tr>\n",
       "    <tr>\n",
       "      <th>137</th>\n",
       "      <td>Qatar</td>\n",
       "      <td>1</td>\n",
       "      <td>42</td>\n",
       "      <td>7</td>\n",
       "      <td>0.9</td>\n",
       "      <td>Asia</td>\n",
       "    </tr>\n",
       "    <tr>\n",
       "      <th>127</th>\n",
       "      <td>Oman</td>\n",
       "      <td>22</td>\n",
       "      <td>16</td>\n",
       "      <td>1</td>\n",
       "      <td>0.7</td>\n",
       "      <td>Asia</td>\n",
       "    </tr>\n",
       "    <tr>\n",
       "      <th>24</th>\n",
       "      <td>Brunei</td>\n",
       "      <td>31</td>\n",
       "      <td>2</td>\n",
       "      <td>1</td>\n",
       "      <td>0.6</td>\n",
       "      <td>Asia</td>\n",
       "    </tr>\n",
       "    <tr>\n",
       "      <th>86</th>\n",
       "      <td>Jordan</td>\n",
       "      <td>6</td>\n",
       "      <td>21</td>\n",
       "      <td>1</td>\n",
       "      <td>0.5</td>\n",
       "      <td>Asia</td>\n",
       "    </tr>\n",
       "    <tr>\n",
       "      <th>19</th>\n",
       "      <td>Bhutan</td>\n",
       "      <td>23</td>\n",
       "      <td>0</td>\n",
       "      <td>0</td>\n",
       "      <td>0.4</td>\n",
       "      <td>Asia</td>\n",
       "    </tr>\n",
       "    <tr>\n",
       "      <th>102</th>\n",
       "      <td>Malaysia</td>\n",
       "      <td>13</td>\n",
       "      <td>4</td>\n",
       "      <td>0</td>\n",
       "      <td>0.3</td>\n",
       "      <td>Asia</td>\n",
       "    </tr>\n",
       "    <tr>\n",
       "      <th>168</th>\n",
       "      <td>Tajikistan</td>\n",
       "      <td>2</td>\n",
       "      <td>15</td>\n",
       "      <td>0</td>\n",
       "      <td>0.3</td>\n",
       "      <td>Asia</td>\n",
       "    </tr>\n",
       "    <tr>\n",
       "      <th>119</th>\n",
       "      <td>Nepal</td>\n",
       "      <td>5</td>\n",
       "      <td>6</td>\n",
       "      <td>0</td>\n",
       "      <td>0.2</td>\n",
       "      <td>Asia</td>\n",
       "    </tr>\n",
       "    <tr>\n",
       "      <th>80</th>\n",
       "      <td>Iraq</td>\n",
       "      <td>9</td>\n",
       "      <td>3</td>\n",
       "      <td>0</td>\n",
       "      <td>0.2</td>\n",
       "      <td>Asia</td>\n",
       "    </tr>\n",
       "    <tr>\n",
       "      <th>171</th>\n",
       "      <td>Timor-Leste</td>\n",
       "      <td>1</td>\n",
       "      <td>1</td>\n",
       "      <td>4</td>\n",
       "      <td>0.1</td>\n",
       "      <td>Asia</td>\n",
       "    </tr>\n",
       "    <tr>\n",
       "      <th>190</th>\n",
       "      <td>Yemen</td>\n",
       "      <td>6</td>\n",
       "      <td>0</td>\n",
       "      <td>0</td>\n",
       "      <td>0.1</td>\n",
       "      <td>Asia</td>\n",
       "    </tr>\n",
       "    <tr>\n",
       "      <th>149</th>\n",
       "      <td>Saudi Arabia</td>\n",
       "      <td>0</td>\n",
       "      <td>5</td>\n",
       "      <td>0</td>\n",
       "      <td>0.1</td>\n",
       "      <td>Asia</td>\n",
       "    </tr>\n",
       "    <tr>\n",
       "      <th>116</th>\n",
       "      <td>Myanmar</td>\n",
       "      <td>5</td>\n",
       "      <td>1</td>\n",
       "      <td>0</td>\n",
       "      <td>0.1</td>\n",
       "      <td>Asia</td>\n",
       "    </tr>\n",
       "    <tr>\n",
       "      <th>78</th>\n",
       "      <td>Indonesia</td>\n",
       "      <td>5</td>\n",
       "      <td>1</td>\n",
       "      <td>0</td>\n",
       "      <td>0.1</td>\n",
       "      <td>Asia</td>\n",
       "    </tr>\n",
       "    <tr>\n",
       "      <th>128</th>\n",
       "      <td>Pakistan</td>\n",
       "      <td>0</td>\n",
       "      <td>0</td>\n",
       "      <td>0</td>\n",
       "      <td>0.0</td>\n",
       "      <td>Asia</td>\n",
       "    </tr>\n",
       "    <tr>\n",
       "      <th>103</th>\n",
       "      <td>Maldives</td>\n",
       "      <td>0</td>\n",
       "      <td>0</td>\n",
       "      <td>0</td>\n",
       "      <td>0.0</td>\n",
       "      <td>Asia</td>\n",
       "    </tr>\n",
       "    <tr>\n",
       "      <th>90</th>\n",
       "      <td>Kuwait</td>\n",
       "      <td>0</td>\n",
       "      <td>0</td>\n",
       "      <td>0</td>\n",
       "      <td>0.0</td>\n",
       "      <td>Asia</td>\n",
       "    </tr>\n",
       "    <tr>\n",
       "      <th>79</th>\n",
       "      <td>Iran</td>\n",
       "      <td>0</td>\n",
       "      <td>0</td>\n",
       "      <td>0</td>\n",
       "      <td>0.0</td>\n",
       "      <td>Asia</td>\n",
       "    </tr>\n",
       "    <tr>\n",
       "      <th>46</th>\n",
       "      <td>North Korea</td>\n",
       "      <td>0</td>\n",
       "      <td>0</td>\n",
       "      <td>0</td>\n",
       "      <td>0.0</td>\n",
       "      <td>Asia</td>\n",
       "    </tr>\n",
       "    <tr>\n",
       "      <th>13</th>\n",
       "      <td>Bangladesh</td>\n",
       "      <td>0</td>\n",
       "      <td>0</td>\n",
       "      <td>0</td>\n",
       "      <td>0.0</td>\n",
       "      <td>Asia</td>\n",
       "    </tr>\n",
       "    <tr>\n",
       "      <th>0</th>\n",
       "      <td>Afghanistan</td>\n",
       "      <td>0</td>\n",
       "      <td>0</td>\n",
       "      <td>0</td>\n",
       "      <td>0.0</td>\n",
       "      <td>Asia</td>\n",
       "    </tr>\n",
       "  </tbody>\n",
       "</table>\n",
       "</div>"
      ],
      "text/plain": [
       "                  country  beer_servings  spirit_servings  wine_servings  \\\n",
       "141    Russian Federation            247              326             73   \n",
       "138           South Korea            140               16              9   \n",
       "85                  Japan             77              202             16   \n",
       "87             Kazakhstan            124              246             12   \n",
       "169              Thailand             99              258              1   \n",
       "92                   Laos             62                0            123   \n",
       "36                  China             79              192              8   \n",
       "112              Mongolia             77              189              8   \n",
       "134           Philippines             71              186              1   \n",
       "181  United Arab Emirates             16              135              5   \n",
       "82                 Israel             63               69              9   \n",
       "91             Kyrgyzstan             31               97              6   \n",
       "186            Uzbekistan             25              101              8   \n",
       "161             Sri Lanka             16              104              0   \n",
       "177          Turkmenistan             19               71             32   \n",
       "77                  India              9              114              0   \n",
       "30               Cambodia             57               65              1   \n",
       "12                Bahrain             42               63              7   \n",
       "189               Vietnam            111                2              1   \n",
       "94                Lebanon             20               55             31   \n",
       "154             Singapore             60               12             11   \n",
       "176                Turkey             51               22              7   \n",
       "167                 Syria              5               35             16   \n",
       "137                 Qatar              1               42              7   \n",
       "127                  Oman             22               16              1   \n",
       "24                 Brunei             31                2              1   \n",
       "86                 Jordan              6               21              1   \n",
       "19                 Bhutan             23                0              0   \n",
       "102              Malaysia             13                4              0   \n",
       "168            Tajikistan              2               15              0   \n",
       "119                 Nepal              5                6              0   \n",
       "80                   Iraq              9                3              0   \n",
       "171           Timor-Leste              1                1              4   \n",
       "190                 Yemen              6                0              0   \n",
       "149          Saudi Arabia              0                5              0   \n",
       "116               Myanmar              5                1              0   \n",
       "78              Indonesia              5                1              0   \n",
       "128              Pakistan              0                0              0   \n",
       "103              Maldives              0                0              0   \n",
       "90                 Kuwait              0                0              0   \n",
       "79                   Iran              0                0              0   \n",
       "46            North Korea              0                0              0   \n",
       "13             Bangladesh              0                0              0   \n",
       "0             Afghanistan              0                0              0   \n",
       "\n",
       "     total_litres_of_pure_alcohol continent  \n",
       "141                          11.5      Asia  \n",
       "138                           9.8      Asia  \n",
       "85                            7.0      Asia  \n",
       "87                            6.8      Asia  \n",
       "169                           6.4      Asia  \n",
       "92                            6.2      Asia  \n",
       "36                            5.0      Asia  \n",
       "112                           4.9      Asia  \n",
       "134                           4.6      Asia  \n",
       "181                           2.8      Asia  \n",
       "82                            2.5      Asia  \n",
       "91                            2.4      Asia  \n",
       "186                           2.4      Asia  \n",
       "161                           2.2      Asia  \n",
       "177                           2.2      Asia  \n",
       "77                            2.2      Asia  \n",
       "30                            2.2      Asia  \n",
       "12                            2.0      Asia  \n",
       "189                           2.0      Asia  \n",
       "94                            1.9      Asia  \n",
       "154                           1.5      Asia  \n",
       "176                           1.4      Asia  \n",
       "167                           1.0      Asia  \n",
       "137                           0.9      Asia  \n",
       "127                           0.7      Asia  \n",
       "24                            0.6      Asia  \n",
       "86                            0.5      Asia  \n",
       "19                            0.4      Asia  \n",
       "102                           0.3      Asia  \n",
       "168                           0.3      Asia  \n",
       "119                           0.2      Asia  \n",
       "80                            0.2      Asia  \n",
       "171                           0.1      Asia  \n",
       "190                           0.1      Asia  \n",
       "149                           0.1      Asia  \n",
       "116                           0.1      Asia  \n",
       "78                            0.1      Asia  \n",
       "128                           0.0      Asia  \n",
       "103                           0.0      Asia  \n",
       "90                            0.0      Asia  \n",
       "79                            0.0      Asia  \n",
       "46                            0.0      Asia  \n",
       "13                            0.0      Asia  \n",
       "0                             0.0      Asia  "
      ]
     },
     "execution_count": 13,
     "metadata": {},
     "output_type": "execute_result"
    }
   ],
   "source": [
    "asia_df.sort_values('total_litres_of_pure_alcohol', ascending=False)"
   ]
  },
  {
   "cell_type": "markdown",
   "id": "15c1939d-8c6f-43c6-8733-ea6d1b0d80ca",
   "metadata": {},
   "source": [
    "---"
   ]
  },
  {
   "cell_type": "markdown",
   "id": "e51254b0-fedb-494b-830b-0748f500ac16",
   "metadata": {},
   "source": [
    "#### Back to groupby: You can use other aggregation methods, too"
   ]
  },
  {
   "cell_type": "code",
   "execution_count": 14,
   "id": "9c63a07e-20ea-431f-bd34-cbf3b60b6ee9",
   "metadata": {},
   "outputs": [
    {
     "data": {
      "text/plain": [
       "continent\n",
       "Africa           376\n",
       "Asia             247\n",
       "Europe           361\n",
       "North America    285\n",
       "Oceania          306\n",
       "South America    333\n",
       "Name: beer_servings, dtype: int64"
      ]
     },
     "execution_count": 14,
     "metadata": {},
     "output_type": "execute_result"
    }
   ],
   "source": [
    "df.groupby(['continent'])['beer_servings'].max()"
   ]
  },
  {
   "cell_type": "code",
   "execution_count": 15,
   "id": "d3d4a466-8227-4fc1-bb89-87a5193851ff",
   "metadata": {},
   "outputs": [
    {
     "data": {
      "text/plain": [
       "continent\n",
       "Africa            0\n",
       "Asia              0\n",
       "Europe            0\n",
       "North America     1\n",
       "Oceania           0\n",
       "South America    93\n",
       "Name: beer_servings, dtype: int64"
      ]
     },
     "execution_count": 15,
     "metadata": {},
     "output_type": "execute_result"
    }
   ],
   "source": [
    "df.groupby(['continent'])['beer_servings'].min()"
   ]
  },
  {
   "cell_type": "markdown",
   "id": "2d5d58f6-8131-4851-bb21-1d4081434738",
   "metadata": {},
   "source": [
    "#### Which country drinks the most beer?"
   ]
  },
  {
   "cell_type": "code",
   "execution_count": 16,
   "id": "2f69d825-dedf-44dc-8183-afe9554d531f",
   "metadata": {},
   "outputs": [
    {
     "data": {
      "text/html": [
       "<div>\n",
       "<style scoped>\n",
       "    .dataframe tbody tr th:only-of-type {\n",
       "        vertical-align: middle;\n",
       "    }\n",
       "\n",
       "    .dataframe tbody tr th {\n",
       "        vertical-align: top;\n",
       "    }\n",
       "\n",
       "    .dataframe thead th {\n",
       "        text-align: right;\n",
       "    }\n",
       "</style>\n",
       "<table border=\"1\" class=\"dataframe\">\n",
       "  <thead>\n",
       "    <tr style=\"text-align: right;\">\n",
       "      <th></th>\n",
       "      <th>country</th>\n",
       "      <th>beer_servings</th>\n",
       "      <th>spirit_servings</th>\n",
       "      <th>wine_servings</th>\n",
       "      <th>total_litres_of_pure_alcohol</th>\n",
       "      <th>continent</th>\n",
       "    </tr>\n",
       "  </thead>\n",
       "  <tbody>\n",
       "    <tr>\n",
       "      <th>117</th>\n",
       "      <td>Namibia</td>\n",
       "      <td>376</td>\n",
       "      <td>3</td>\n",
       "      <td>1</td>\n",
       "      <td>6.8</td>\n",
       "      <td>Africa</td>\n",
       "    </tr>\n",
       "  </tbody>\n",
       "</table>\n",
       "</div>"
      ],
      "text/plain": [
       "     country  beer_servings  spirit_servings  wine_servings  \\\n",
       "117  Namibia            376                3              1   \n",
       "\n",
       "     total_litres_of_pure_alcohol continent  \n",
       "117                           6.8    Africa  "
      ]
     },
     "execution_count": 16,
     "metadata": {},
     "output_type": "execute_result"
    }
   ],
   "source": [
    "df[df['beer_servings'] == df['beer_servings'].max()]"
   ]
  },
  {
   "cell_type": "markdown",
   "id": "77f6ee8c-87b0-420d-bf16-783b66fdc09b",
   "metadata": {},
   "source": [
    "#### Spirits?"
   ]
  },
  {
   "cell_type": "code",
   "execution_count": 17,
   "id": "1df5be9e-5d7b-4e7f-a214-b1e2a4efcc71",
   "metadata": {},
   "outputs": [
    {
     "data": {
      "text/html": [
       "<div>\n",
       "<style scoped>\n",
       "    .dataframe tbody tr th:only-of-type {\n",
       "        vertical-align: middle;\n",
       "    }\n",
       "\n",
       "    .dataframe tbody tr th {\n",
       "        vertical-align: top;\n",
       "    }\n",
       "\n",
       "    .dataframe thead th {\n",
       "        text-align: right;\n",
       "    }\n",
       "</style>\n",
       "<table border=\"1\" class=\"dataframe\">\n",
       "  <thead>\n",
       "    <tr style=\"text-align: right;\">\n",
       "      <th></th>\n",
       "      <th>country</th>\n",
       "      <th>beer_servings</th>\n",
       "      <th>spirit_servings</th>\n",
       "      <th>wine_servings</th>\n",
       "      <th>total_litres_of_pure_alcohol</th>\n",
       "      <th>continent</th>\n",
       "    </tr>\n",
       "  </thead>\n",
       "  <tbody>\n",
       "    <tr>\n",
       "      <th>15</th>\n",
       "      <td>Belarus</td>\n",
       "      <td>142</td>\n",
       "      <td>373</td>\n",
       "      <td>42</td>\n",
       "      <td>14.4</td>\n",
       "      <td>Europe</td>\n",
       "    </tr>\n",
       "  </tbody>\n",
       "</table>\n",
       "</div>"
      ],
      "text/plain": [
       "    country  beer_servings  spirit_servings  wine_servings  \\\n",
       "15  Belarus            142              373             42   \n",
       "\n",
       "    total_litres_of_pure_alcohol continent  \n",
       "15                          14.4    Europe  "
      ]
     },
     "execution_count": 17,
     "metadata": {},
     "output_type": "execute_result"
    }
   ],
   "source": [
    "df[df['total_litres_of_pure_alcohol'] == df['total_litres_of_pure_alcohol'].max()]"
   ]
  },
  {
   "cell_type": "markdown",
   "id": "6acdf586-4a4c-454f-a364-98dbd2b2625b",
   "metadata": {},
   "source": [
    "---"
   ]
  },
  {
   "cell_type": "markdown",
   "id": "39fca196-5a87-4e12-b1c2-22eb58b5bbf7",
   "metadata": {},
   "source": [
    "#### There's another method allowing more agg types"
   ]
  },
  {
   "cell_type": "code",
   "execution_count": 18,
   "id": "473a8b82-d546-4309-bb30-9454115ba6a0",
   "metadata": {},
   "outputs": [
    {
     "data": {
      "text/html": [
       "<div>\n",
       "<style scoped>\n",
       "    .dataframe tbody tr th:only-of-type {\n",
       "        vertical-align: middle;\n",
       "    }\n",
       "\n",
       "    .dataframe tbody tr th {\n",
       "        vertical-align: top;\n",
       "    }\n",
       "\n",
       "    .dataframe thead th {\n",
       "        text-align: right;\n",
       "    }\n",
       "</style>\n",
       "<table border=\"1\" class=\"dataframe\">\n",
       "  <thead>\n",
       "    <tr style=\"text-align: right;\">\n",
       "      <th></th>\n",
       "      <th>continent</th>\n",
       "      <th>min</th>\n",
       "      <th>max</th>\n",
       "      <th>count</th>\n",
       "      <th>mean</th>\n",
       "    </tr>\n",
       "  </thead>\n",
       "  <tbody>\n",
       "    <tr>\n",
       "      <th>0</th>\n",
       "      <td>Africa</td>\n",
       "      <td>0</td>\n",
       "      <td>376</td>\n",
       "      <td>53</td>\n",
       "      <td>61.471698</td>\n",
       "    </tr>\n",
       "    <tr>\n",
       "      <th>1</th>\n",
       "      <td>Asia</td>\n",
       "      <td>0</td>\n",
       "      <td>247</td>\n",
       "      <td>44</td>\n",
       "      <td>37.045455</td>\n",
       "    </tr>\n",
       "    <tr>\n",
       "      <th>2</th>\n",
       "      <td>Europe</td>\n",
       "      <td>0</td>\n",
       "      <td>361</td>\n",
       "      <td>45</td>\n",
       "      <td>193.777778</td>\n",
       "    </tr>\n",
       "    <tr>\n",
       "      <th>3</th>\n",
       "      <td>North America</td>\n",
       "      <td>1</td>\n",
       "      <td>285</td>\n",
       "      <td>23</td>\n",
       "      <td>145.434783</td>\n",
       "    </tr>\n",
       "    <tr>\n",
       "      <th>4</th>\n",
       "      <td>Oceania</td>\n",
       "      <td>0</td>\n",
       "      <td>306</td>\n",
       "      <td>16</td>\n",
       "      <td>89.687500</td>\n",
       "    </tr>\n",
       "    <tr>\n",
       "      <th>5</th>\n",
       "      <td>South America</td>\n",
       "      <td>93</td>\n",
       "      <td>333</td>\n",
       "      <td>12</td>\n",
       "      <td>175.083333</td>\n",
       "    </tr>\n",
       "  </tbody>\n",
       "</table>\n",
       "</div>"
      ],
      "text/plain": [
       "       continent  min  max  count        mean\n",
       "0         Africa    0  376     53   61.471698\n",
       "1           Asia    0  247     44   37.045455\n",
       "2         Europe    0  361     45  193.777778\n",
       "3  North America    1  285     23  145.434783\n",
       "4        Oceania    0  306     16   89.687500\n",
       "5  South America   93  333     12  175.083333"
      ]
     },
     "execution_count": 18,
     "metadata": {},
     "output_type": "execute_result"
    }
   ],
   "source": [
    "df.groupby(['continent'])['beer_servings'].agg(['min', 'max', 'count', 'mean']).reset_index()"
   ]
  },
  {
   "cell_type": "markdown",
   "id": "7905c771-1c6d-498b-a038-c6f86ea68db2",
   "metadata": {},
   "source": [
    "#### You can define a groupby as a variable, if you want"
   ]
  },
  {
   "cell_type": "code",
   "execution_count": 19,
   "id": "64e0e6b1-51a7-42b7-8796-5a9fca5a4d38",
   "metadata": {},
   "outputs": [],
   "source": [
    "continents = df[df['beer_servings'] == df['beer_servings'].max()]"
   ]
  },
  {
   "cell_type": "markdown",
   "id": "b094cd22-d544-4216-91ee-fc075d7edf7e",
   "metadata": {},
   "source": [
    "#### You can also stick to one aggregation method but use if for all your numerical columns"
   ]
  },
  {
   "cell_type": "code",
   "execution_count": 21,
   "id": "0e1f7e31-d548-4aa6-b48e-46bc66e07241",
   "metadata": {},
   "outputs": [
    {
     "data": {
      "text/html": [
       "<div>\n",
       "<style scoped>\n",
       "    .dataframe tbody tr th:only-of-type {\n",
       "        vertical-align: middle;\n",
       "    }\n",
       "\n",
       "    .dataframe tbody tr th {\n",
       "        vertical-align: top;\n",
       "    }\n",
       "\n",
       "    .dataframe thead th {\n",
       "        text-align: right;\n",
       "    }\n",
       "</style>\n",
       "<table border=\"1\" class=\"dataframe\">\n",
       "  <thead>\n",
       "    <tr style=\"text-align: right;\">\n",
       "      <th></th>\n",
       "      <th>continent</th>\n",
       "      <th>beer_servings</th>\n",
       "      <th>spirit_servings</th>\n",
       "      <th>wine_servings</th>\n",
       "      <th>total_litres_of_pure_alcohol</th>\n",
       "    </tr>\n",
       "  </thead>\n",
       "  <tbody>\n",
       "    <tr>\n",
       "      <th>0</th>\n",
       "      <td>Africa</td>\n",
       "      <td>61.471698</td>\n",
       "      <td>16.339623</td>\n",
       "      <td>16.264151</td>\n",
       "      <td>3.007547</td>\n",
       "    </tr>\n",
       "    <tr>\n",
       "      <th>1</th>\n",
       "      <td>Asia</td>\n",
       "      <td>37.045455</td>\n",
       "      <td>60.840909</td>\n",
       "      <td>9.068182</td>\n",
       "      <td>2.170455</td>\n",
       "    </tr>\n",
       "    <tr>\n",
       "      <th>2</th>\n",
       "      <td>Europe</td>\n",
       "      <td>193.777778</td>\n",
       "      <td>132.555556</td>\n",
       "      <td>142.222222</td>\n",
       "      <td>8.617778</td>\n",
       "    </tr>\n",
       "    <tr>\n",
       "      <th>3</th>\n",
       "      <td>North America</td>\n",
       "      <td>145.434783</td>\n",
       "      <td>165.739130</td>\n",
       "      <td>24.521739</td>\n",
       "      <td>5.995652</td>\n",
       "    </tr>\n",
       "    <tr>\n",
       "      <th>4</th>\n",
       "      <td>Oceania</td>\n",
       "      <td>89.687500</td>\n",
       "      <td>58.437500</td>\n",
       "      <td>35.625000</td>\n",
       "      <td>3.381250</td>\n",
       "    </tr>\n",
       "    <tr>\n",
       "      <th>5</th>\n",
       "      <td>South America</td>\n",
       "      <td>175.083333</td>\n",
       "      <td>114.750000</td>\n",
       "      <td>62.416667</td>\n",
       "      <td>6.308333</td>\n",
       "    </tr>\n",
       "  </tbody>\n",
       "</table>\n",
       "</div>"
      ],
      "text/plain": [
       "       continent  beer_servings  spirit_servings  wine_servings  \\\n",
       "0         Africa      61.471698        16.339623      16.264151   \n",
       "1           Asia      37.045455        60.840909       9.068182   \n",
       "2         Europe     193.777778       132.555556     142.222222   \n",
       "3  North America     145.434783       165.739130      24.521739   \n",
       "4        Oceania      89.687500        58.437500      35.625000   \n",
       "5  South America     175.083333       114.750000      62.416667   \n",
       "\n",
       "   total_litres_of_pure_alcohol  \n",
       "0                      3.007547  \n",
       "1                      2.170455  \n",
       "2                      8.617778  \n",
       "3                      5.995652  \n",
       "4                      3.381250  \n",
       "5                      6.308333  "
      ]
     },
     "execution_count": 21,
     "metadata": {},
     "output_type": "execute_result"
    }
   ],
   "source": [
    "df.groupby(['continent']).mean().reset_index()"
   ]
  },
  {
   "cell_type": "markdown",
   "id": "970c9bef-c854-4a45-a741-ddb42207806e",
   "metadata": {},
   "source": [
    "#### Assign that to a variable"
   ]
  },
  {
   "cell_type": "code",
   "execution_count": 26,
   "id": "4a45eb22-38cc-4f2b-8a67-1dde4961fc90",
   "metadata": {},
   "outputs": [],
   "source": [
    "all_drinks = df.groupby(['continent']).mean().reset_index()"
   ]
  },
  {
   "cell_type": "code",
   "execution_count": 27,
   "id": "5131db1f-218b-4f4d-8f3f-f466ae56b484",
   "metadata": {},
   "outputs": [
    {
     "data": {
      "text/html": [
       "<div>\n",
       "<style scoped>\n",
       "    .dataframe tbody tr th:only-of-type {\n",
       "        vertical-align: middle;\n",
       "    }\n",
       "\n",
       "    .dataframe tbody tr th {\n",
       "        vertical-align: top;\n",
       "    }\n",
       "\n",
       "    .dataframe thead th {\n",
       "        text-align: right;\n",
       "    }\n",
       "</style>\n",
       "<table border=\"1\" class=\"dataframe\">\n",
       "  <thead>\n",
       "    <tr style=\"text-align: right;\">\n",
       "      <th></th>\n",
       "      <th>continent</th>\n",
       "      <th>beer_servings</th>\n",
       "      <th>spirit_servings</th>\n",
       "      <th>wine_servings</th>\n",
       "      <th>total_litres_of_pure_alcohol</th>\n",
       "    </tr>\n",
       "  </thead>\n",
       "  <tbody>\n",
       "    <tr>\n",
       "      <th>0</th>\n",
       "      <td>Africa</td>\n",
       "      <td>61.471698</td>\n",
       "      <td>16.339623</td>\n",
       "      <td>16.264151</td>\n",
       "      <td>3.007547</td>\n",
       "    </tr>\n",
       "    <tr>\n",
       "      <th>1</th>\n",
       "      <td>Asia</td>\n",
       "      <td>37.045455</td>\n",
       "      <td>60.840909</td>\n",
       "      <td>9.068182</td>\n",
       "      <td>2.170455</td>\n",
       "    </tr>\n",
       "    <tr>\n",
       "      <th>2</th>\n",
       "      <td>Europe</td>\n",
       "      <td>193.777778</td>\n",
       "      <td>132.555556</td>\n",
       "      <td>142.222222</td>\n",
       "      <td>8.617778</td>\n",
       "    </tr>\n",
       "    <tr>\n",
       "      <th>3</th>\n",
       "      <td>North America</td>\n",
       "      <td>145.434783</td>\n",
       "      <td>165.739130</td>\n",
       "      <td>24.521739</td>\n",
       "      <td>5.995652</td>\n",
       "    </tr>\n",
       "    <tr>\n",
       "      <th>4</th>\n",
       "      <td>Oceania</td>\n",
       "      <td>89.687500</td>\n",
       "      <td>58.437500</td>\n",
       "      <td>35.625000</td>\n",
       "      <td>3.381250</td>\n",
       "    </tr>\n",
       "    <tr>\n",
       "      <th>5</th>\n",
       "      <td>South America</td>\n",
       "      <td>175.083333</td>\n",
       "      <td>114.750000</td>\n",
       "      <td>62.416667</td>\n",
       "      <td>6.308333</td>\n",
       "    </tr>\n",
       "  </tbody>\n",
       "</table>\n",
       "</div>"
      ],
      "text/plain": [
       "       continent  beer_servings  spirit_servings  wine_servings  \\\n",
       "0         Africa      61.471698        16.339623      16.264151   \n",
       "1           Asia      37.045455        60.840909       9.068182   \n",
       "2         Europe     193.777778       132.555556     142.222222   \n",
       "3  North America     145.434783       165.739130      24.521739   \n",
       "4        Oceania      89.687500        58.437500      35.625000   \n",
       "5  South America     175.083333       114.750000      62.416667   \n",
       "\n",
       "   total_litres_of_pure_alcohol  \n",
       "0                      3.007547  \n",
       "1                      2.170455  \n",
       "2                      8.617778  \n",
       "3                      5.995652  \n",
       "4                      3.381250  \n",
       "5                      6.308333  "
      ]
     },
     "execution_count": 27,
     "metadata": {},
     "output_type": "execute_result"
    }
   ],
   "source": [
    "all_drinks"
   ]
  },
  {
   "cell_type": "markdown",
   "id": "360bb49e-13cc-477d-aa34-af9d197bc90b",
   "metadata": {},
   "source": [
    "#### And even plot it if you want"
   ]
  },
  {
   "cell_type": "code",
   "execution_count": 34,
   "id": "6dbca019-aafe-4db8-ba94-7c708f9ec94b",
   "metadata": {},
   "outputs": [
    {
     "data": {
      "text/plain": [
       "<AxesSubplot:ylabel='Test'>"
      ]
     },
     "execution_count": 34,
     "metadata": {},
     "output_type": "execute_result"
    },
    {
     "data": {
      "image/png": "[encoded data removed]",
      "text/plain": [
       "<Figure size 720x360 with 1 Axes>"
      ]
     },
     "metadata": {
      "needs_background": "light"
     },
     "output_type": "display_data"
    }
   ],
   "source": [
    "all_drinks.plot(kind='barh', stacked=True, figsize=(10, 5), xlabel='Test', ylabel='Sample')"
   ]
  },
  {
   "cell_type": "code",
   "execution_count": null,
   "id": "b44ad57a-dab2-4319-ba87-f5c425589753",
   "metadata": {},
   "outputs": [],
   "source": []
  },
  {
   "cell_type": "code",
   "execution_count": null,
   "id": "bdb651ff-47a4-42db-82a3-ce7308371ae3",
   "metadata": {},
   "outputs": [],
   "source": []
  }
 ],
 "metadata": {
  "kernelspec": {
   "display_name": "Python 3",
   "language": "python",
   "name": "python3"
  },
  "language_info": {
   "codemirror_mode": {
    "name": "ipython",
    "version": 3
   },
   "file_extension": ".py",
   "mimetype": "text/x-python",
   "name": "python",
   "nbconvert_exporter": "python",
   "pygments_lexer": "ipython3",
   "version": "3.8.8"
  }
 },
 "nbformat": 4,
 "nbformat_minor": 5
}
