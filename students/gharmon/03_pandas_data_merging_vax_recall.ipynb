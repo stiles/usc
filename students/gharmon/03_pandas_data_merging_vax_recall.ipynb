{
 "cells": [
  {
   "cell_type": "markdown",
   "id": "e967555c-ec5c-4f09-a3a5-ffedb2f61d2d",
   "metadata": {},
   "source": [
    "# Week 6: Merging data with Pandas, Part 1\n",
    "What's the relationship between vaccination rates and votes in the recall election [using the `merge()` method](https://pandas.pydata.org/docs/reference/api/pandas.DataFrame.merge.html)"
   ]
  },
  {
   "cell_type": "markdown",
   "id": "7606243d-b026-46af-adfa-6d6dfa8f06e3",
   "metadata": {},
   "source": [
    "#### Load our Python tools"
   ]
  },
  {
   "cell_type": "code",
   "execution_count": 1,
   "id": "5aa6e6c5-2705-40ab-ade1-719f609a3794",
   "metadata": {},
   "outputs": [],
   "source": [
    "%load_ext lab_black"
   ]
  },
  {
   "cell_type": "code",
   "execution_count": 2,
   "id": "7c2be76f-ca72-4a68-9ef4-3848ec01746a",
   "metadata": {},
   "outputs": [],
   "source": [
    "import pandas as pd\n",
    "import altair as alt"
   ]
  },
  {
   "cell_type": "code",
   "execution_count": 3,
   "id": "084ca41d-4ca9-4f90-a6fd-3109902a2fda",
   "metadata": {},
   "outputs": [],
   "source": [
    "pd.options.display.max_columns = 100\n",
    "pd.options.display.max_rows = 1000\n",
    "pd.options.display.max_colwidth = None"
   ]
  },
  {
   "cell_type": "markdown",
   "id": "c856fd59-ac22-49de-876d-84413a76fed0",
   "metadata": {},
   "source": [
    "---"
   ]
  },
  {
   "cell_type": "markdown",
   "id": "00457e57-275d-4bf7-aa19-f4e8df565d50",
   "metadata": {},
   "source": [
    "### Vax percentage"
   ]
  },
  {
   "cell_type": "markdown",
   "id": "3a903e69-ebc0-4182-8e9a-3e17109f4bcf",
   "metadata": {},
   "source": [
    "#### LA Times [coronavirus repo](https://github.com/datadesk/california-coronavirus-data)"
   ]
  },
  {
   "cell_type": "code",
   "execution_count": 4,
   "id": "e88c0253-491f-410d-8627-4fcd86dde983",
   "metadata": {},
   "outputs": [],
   "source": [
    "vax_url = \"https://raw.githubusercontent.com/datadesk/california-coronavirus-data/master/cdph-vaccination-county-totals.csv\""
   ]
  },
  {
   "cell_type": "markdown",
   "id": "a564f528-f49a-4a39-9839-6465783cedb5",
   "metadata": {},
   "source": [
    "#### Read weekly vaccination totals by county data (data types can be defined here)"
   ]
  },
  {
   "cell_type": "code",
   "execution_count": null,
   "id": "cec8d2c2-fdbb-44bf-9bff-ee2bafe93673",
   "metadata": {},
   "outputs": [],
   "source": []
  },
  {
   "cell_type": "markdown",
   "id": "ebe393de-e82c-409b-8c43-e14aa5d54a94",
   "metadata": {},
   "source": [
    "#### How many weeks is this (don't forget to sort)? "
   ]
  },
  {
   "cell_type": "code",
   "execution_count": null,
   "id": "96879ab8-ed2a-40bb-98ab-93ff3272d787",
   "metadata": {},
   "outputs": [],
   "source": []
  },
  {
   "cell_type": "code",
   "execution_count": null,
   "id": "224e2b85-e47e-4d22-9d36-c4a1122f8680",
   "metadata": {},
   "outputs": [],
   "source": []
  },
  {
   "cell_type": "code",
   "execution_count": null,
   "id": "cb4883a6-1ae6-49c5-ab61-4b097a13c631",
   "metadata": {},
   "outputs": [],
   "source": []
  },
  {
   "cell_type": "markdown",
   "id": "e1a34763-0931-406a-8ff2-71c7d3c66546",
   "metadata": {},
   "source": [
    "#### Select the most recent week"
   ]
  },
  {
   "cell_type": "code",
   "execution_count": null,
   "id": "2ab6813b-39e6-4abf-9424-33da23f9d40a",
   "metadata": {},
   "outputs": [],
   "source": []
  },
  {
   "cell_type": "markdown",
   "id": "1b79f1ef-6dca-4b64-bd38-fd916e76a739",
   "metadata": {},
   "source": [
    "#### Get only the columns we need"
   ]
  },
  {
   "cell_type": "code",
   "execution_count": null,
   "id": "a7cafd0c-edac-4bfc-8e93-8b987fafd2ec",
   "metadata": {},
   "outputs": [],
   "source": []
  },
  {
   "cell_type": "code",
   "execution_count": null,
   "id": "cdc0a622-e0eb-4c6d-bffb-5d2e321c4b34",
   "metadata": {},
   "outputs": [],
   "source": []
  },
  {
   "cell_type": "markdown",
   "id": "c75bc2c9-618a-4185-8000-8d498f6f9e7b",
   "metadata": {},
   "source": [
    "---"
   ]
  },
  {
   "cell_type": "markdown",
   "id": "2baeea9b-cc96-4c44-be4c-edfe56c8e922",
   "metadata": {},
   "source": [
    "### Recall vote"
   ]
  },
  {
   "cell_type": "markdown",
   "id": "fa5f87e8-52a6-43ec-b96c-446b5438dd10",
   "metadata": {},
   "source": [
    "#### Read the county-level election results"
   ]
  },
  {
   "cell_type": "code",
   "execution_count": 5,
   "id": "baf840d8-1716-48aa-942d-61ad3cce056f",
   "metadata": {},
   "outputs": [],
   "source": [
    "recall_df = pd.read_json(\n",
    "    \"../../data/raw/gov_race_change_counties.json\", dtype={\"fips\": str}\n",
    ")"
   ]
  },
  {
   "cell_type": "markdown",
   "id": "f25ea6be-f62f-460f-bd3d-4cc3a0d355dd",
   "metadata": {},
   "source": [
    "#### Rename columns"
   ]
  },
  {
   "cell_type": "code",
   "execution_count": null,
   "id": "bd9f25e0-82ca-42f6-bc80-c454d5a2a190",
   "metadata": {},
   "outputs": [],
   "source": []
  },
  {
   "cell_type": "code",
   "execution_count": null,
   "id": "c9a77d54-fecb-403f-8a18-1ebae87a1981",
   "metadata": {},
   "outputs": [],
   "source": []
  },
  {
   "cell_type": "markdown",
   "id": "8584a4ba-21c9-4618-b5ef-6187dd26b988",
   "metadata": {},
   "source": [
    "#### What's that look like? "
   ]
  },
  {
   "cell_type": "code",
   "execution_count": null,
   "id": "e2d5b8ef-ceea-40ef-bf7a-1c762ea2e2fc",
   "metadata": {},
   "outputs": [],
   "source": []
  },
  {
   "cell_type": "markdown",
   "id": "8caf1598-326f-47aa-a22e-306b3b61697f",
   "metadata": {},
   "source": [
    "#### Which county was most against the recall?"
   ]
  },
  {
   "cell_type": "code",
   "execution_count": null,
   "id": "62dbfe94-692f-42ee-813b-3ba708746f52",
   "metadata": {},
   "outputs": [],
   "source": []
  },
  {
   "cell_type": "markdown",
   "id": "645ab794-a785-41d9-9e4d-0993acfe1b08",
   "metadata": {},
   "source": [
    "#### For it? "
   ]
  },
  {
   "cell_type": "code",
   "execution_count": null,
   "id": "81c33d65-4bf3-4755-b884-cbfe245374d4",
   "metadata": {},
   "outputs": [],
   "source": []
  },
  {
   "cell_type": "markdown",
   "id": "d7bbc77c-2e4c-40a3-ae54-ded3a79b8d20",
   "metadata": {},
   "source": [
    "#### Get only the columns we need"
   ]
  },
  {
   "cell_type": "code",
   "execution_count": null,
   "id": "06f6cd7b-a715-4f8e-9b82-c7af03d05252",
   "metadata": {},
   "outputs": [],
   "source": []
  },
  {
   "cell_type": "code",
   "execution_count": null,
   "id": "dcaec491-e497-4fc5-8d48-5f8a2d802b0a",
   "metadata": {},
   "outputs": [],
   "source": []
  },
  {
   "cell_type": "markdown",
   "id": "73e767c0-269c-4042-af6a-89337a5f2d1e",
   "metadata": {},
   "source": [
    "---"
   ]
  },
  {
   "cell_type": "markdown",
   "id": "247bc04e-84c4-4fd4-9d56-e53159335e38",
   "metadata": {},
   "source": [
    "## Merge the vax data with the election results"
   ]
  },
  {
   "cell_type": "markdown",
   "id": "8b70b629-aefc-4324-a2da-40a6bdf2469a",
   "metadata": {},
   "source": [
    "#### Use the `merge()` method"
   ]
  },
  {
   "cell_type": "code",
   "execution_count": null,
   "id": "44d209ab-97c6-4c98-84ad-7a6f08b927e5",
   "metadata": {},
   "outputs": [],
   "source": []
  },
  {
   "cell_type": "markdown",
   "id": "9a4a2e76-a5bb-46f0-9318-38cd511cbb17",
   "metadata": {},
   "source": [
    "#### Correlation? "
   ]
  },
  {
   "cell_type": "code",
   "execution_count": null,
   "id": "0a4b6a88-44bc-4d29-baa9-a95892ec39a8",
   "metadata": {},
   "outputs": [],
   "source": []
  },
  {
   "cell_type": "markdown",
   "id": "bc8e320b-2d6a-4d3d-acf8-75898081bd1e",
   "metadata": {},
   "source": [
    "---"
   ]
  },
  {
   "cell_type": "code",
   "execution_count": 6,
   "id": "8806f5b2-d8ff-400c-a5b2-ba40c3478c7f",
   "metadata": {},
   "outputs": [],
   "source": [
    "# domain = [\"R\", \"D\"]\n",
    "# range_ = [\"#d94f54\", \"#5789b8\"]\n",
    "\n",
    "# alt.Chart(merged).mark_circle(size=100).encode(\n",
    "#     x=alt.X(\n",
    "#         \"no_percent\",\n",
    "#         scale=alt.Scale(domain=[10, 100]),\n",
    "#         axis=alt.Axis(tickCount=6, title=\"No percentage\"),\n",
    "#     ),\n",
    "#     y=alt.Y(\n",
    "#         \"fully_vaccinated_percent\",\n",
    "#         scale=alt.Scale(domain=[0.2, 1]),\n",
    "#         axis=alt.Axis(tickCount=6, title=\"One dose percentage\", format=\"%\"),\n",
    "#     ),\n",
    "#     #     size=\"population\",\n",
    "#     color=alt.Color(\"winner_2021\", scale=alt.Scale(domain=domain, range=range_)),\n",
    "#     #     tooltip=[\"county\", \"population\"],\n",
    "# ).properties(width=500, height=500)"
   ]
  },
  {
   "cell_type": "code",
   "execution_count": null,
   "id": "a157cd95-def1-4f32-b581-4f4667b0c35d",
   "metadata": {},
   "outputs": [],
   "source": []
  },
  {
   "cell_type": "code",
   "execution_count": null,
   "id": "4ac6d1da-ef58-42f9-8484-cda13b258b19",
   "metadata": {},
   "outputs": [],
   "source": []
  }
 ],
 "metadata": {
  "kernelspec": {
   "display_name": "Python 3",
   "language": "python",
   "name": "python3"
  },
  "language_info": {
   "codemirror_mode": {
    "name": "ipython",
    "version": 3
   },
   "file_extension": ".py",
   "mimetype": "text/x-python",
   "name": "python",
   "nbconvert_exporter": "python",
   "pygments_lexer": "ipython3",
   "version": "3.8.8"
  }
 },
 "nbformat": 4,
 "nbformat_minor": 5
}
