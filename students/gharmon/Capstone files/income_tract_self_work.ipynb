{
 "cells": [
  {
   "cell_type": "code",
   "execution_count": 1,
   "id": "db29d2b2-2198-42f7-a931-6852b0f0059a",
   "metadata": {},
   "outputs": [],
   "source": [
    "%load_ext lab_black"
   ]
  },
  {
   "cell_type": "code",
   "execution_count": 2,
   "id": "7ab1b988-eeaf-4eb2-9fd3-004a96c42e64",
   "metadata": {},
   "outputs": [],
   "source": [
    "import pandas as pd"
   ]
  },
  {
   "cell_type": "code",
   "execution_count": 13,
   "id": "d36f15f0-afd5-4c60-9273-2b4a314be08b",
   "metadata": {},
   "outputs": [],
   "source": [
    "df = pd.read_csv(\n",
    "    \"income_tracts_in_around_downtown.csv\",\n",
    "    dtype={\n",
    "        \"statefp10\": str,\n",
    "        \"countyfp10\": str,\n",
    "        \"tractce10\": str,\n",
    "        \"geoid10\": str,\n",
    "        \"name10\": str,\n",
    "        \"namelsad10\": str,\n",
    "        \"mtfcc10\": str,\n",
    "    },\n",
    ")"
   ]
  },
  {
   "cell_type": "code",
   "execution_count": 14,
   "id": "015c8280-5010-4a49-a067-f8b2e7794469",
   "metadata": {},
   "outputs": [
    {
     "name": "stdout",
     "output_type": "stream",
     "text": [
      "<class 'pandas.core.frame.DataFrame'>\n",
      "RangeIndex: 28 entries, 0 to 27\n",
      "Data columns (total 58 columns):\n",
      " #   Column               Non-Null Count  Dtype  \n",
      "---  ------               --------------  -----  \n",
      " 0   statefp10            28 non-null     object \n",
      " 1   countyfp10           28 non-null     object \n",
      " 2   tractce10            28 non-null     object \n",
      " 3   geoid10              28 non-null     object \n",
      " 4   name10               28 non-null     float64\n",
      " 5   namelsad10           28 non-null     object \n",
      " 6   mtfcc10              28 non-null     object \n",
      " 7   funcstat10           28 non-null     object \n",
      " 8   aland10              28 non-null     int64  \n",
      " 9   awater10             28 non-null     int64  \n",
      " 10  intptlat10           28 non-null     float64\n",
      " 11  intptlon10           28 non-null     float64\n",
      " 12  geo_id               28 non-null     object \n",
      " 13  state                28 non-null     int64  \n",
      " 14  county_left          28 non-null     int64  \n",
      " 15  tract                28 non-null     int64  \n",
      " 16  name_left            28 non-null     object \n",
      " 17  households           28 non-null     float64\n",
      " 18  0_9999               28 non-null     float64\n",
      " 19  10000_14999          28 non-null     float64\n",
      " 20  15000_19999          28 non-null     float64\n",
      " 21  20000_24999          28 non-null     float64\n",
      " 22  25000_29999          28 non-null     float64\n",
      " 23  30000_34999          28 non-null     float64\n",
      " 24  35000_39999          28 non-null     float64\n",
      " 25  40000_44999          28 non-null     float64\n",
      " 26  45000_49999          28 non-null     float64\n",
      " 27  50000_59999          28 non-null     float64\n",
      " 28  60000_74999          28 non-null     float64\n",
      " 29  75000_99999          28 non-null     float64\n",
      " 30  100000_124999        28 non-null     float64\n",
      " 31  125000_149999        28 non-null     float64\n",
      " 32  150000_199999        28 non-null     float64\n",
      " 33  200000_more          28 non-null     float64\n",
      " 34  households_error     28 non-null     float64\n",
      " 35  0_9999_error         28 non-null     float64\n",
      " 36  10000_14999_error    28 non-null     float64\n",
      " 37  15000_19999_error    28 non-null     float64\n",
      " 38  20000_24999_error    28 non-null     float64\n",
      " 39  25000_29999_error    28 non-null     float64\n",
      " 40  30000_34999_error    28 non-null     float64\n",
      " 41  35000_39999_error    28 non-null     float64\n",
      " 42  40000_44999_error    28 non-null     float64\n",
      " 43  45000_49999_error    28 non-null     float64\n",
      " 44  50000_59999_error    28 non-null     float64\n",
      " 45  60000_74999_error    28 non-null     float64\n",
      " 46  75000_99999_error    28 non-null     float64\n",
      " 47  100000_124999_error  28 non-null     float64\n",
      " 48  125000_149999_error  28 non-null     float64\n",
      " 49  150000_199999_error  28 non-null     float64\n",
      " 50  200000_more_error    28 non-null     float64\n",
      " 51  index_right          28 non-null     int64  \n",
      " 52  name_right           28 non-null     object \n",
      " 53  slug                 28 non-null     object \n",
      " 54  county_right         28 non-null     object \n",
      " 55  type                 28 non-null     object \n",
      " 56  city                 28 non-null     object \n",
      " 57  region               28 non-null     object \n",
      "dtypes: float64(37), int64(6), object(15)\n",
      "memory usage: 12.8+ KB\n"
     ]
    }
   ],
   "source": [
    "df.info()"
   ]
  },
  {
   "cell_type": "code",
   "execution_count": 15,
   "id": "a4d4ba0c-6d54-4655-88e8-4e701b2f88af",
   "metadata": {},
   "outputs": [
    {
     "data": {
      "text/html": [
       "<div>\n",
       "<style scoped>\n",
       "    .dataframe tbody tr th:only-of-type {\n",
       "        vertical-align: middle;\n",
       "    }\n",
       "\n",
       "    .dataframe tbody tr th {\n",
       "        vertical-align: top;\n",
       "    }\n",
       "\n",
       "    .dataframe thead th {\n",
       "        text-align: right;\n",
       "    }\n",
       "</style>\n",
       "<table border=\"1\" class=\"dataframe\">\n",
       "  <thead>\n",
       "    <tr style=\"text-align: right;\">\n",
       "      <th></th>\n",
       "      <th>statefp10</th>\n",
       "      <th>countyfp10</th>\n",
       "      <th>tractce10</th>\n",
       "      <th>geoid10</th>\n",
       "      <th>name10</th>\n",
       "      <th>namelsad10</th>\n",
       "      <th>mtfcc10</th>\n",
       "      <th>funcstat10</th>\n",
       "      <th>aland10</th>\n",
       "      <th>awater10</th>\n",
       "      <th>...</th>\n",
       "      <th>125000_149999_error</th>\n",
       "      <th>150000_199999_error</th>\n",
       "      <th>200000_more_error</th>\n",
       "      <th>index_right</th>\n",
       "      <th>name_right</th>\n",
       "      <th>slug</th>\n",
       "      <th>county_right</th>\n",
       "      <th>type</th>\n",
       "      <th>city</th>\n",
       "      <th>region</th>\n",
       "    </tr>\n",
       "  </thead>\n",
       "  <tbody>\n",
       "    <tr>\n",
       "      <th>0</th>\n",
       "      <td>06</td>\n",
       "      <td>037</td>\n",
       "      <td>207502</td>\n",
       "      <td>06037207502</td>\n",
       "      <td>2075.02</td>\n",
       "      <td>Census Tract 2075.02</td>\n",
       "      <td>G5020</td>\n",
       "      <td>S</td>\n",
       "      <td>418373</td>\n",
       "      <td>0</td>\n",
       "      <td>...</td>\n",
       "      <td>60.0</td>\n",
       "      <td>85.0</td>\n",
       "      <td>69.0</td>\n",
       "      <td>53</td>\n",
       "      <td>Downtown</td>\n",
       "      <td>downtown</td>\n",
       "      <td>los-angeles</td>\n",
       "      <td>Los Angeles</td>\n",
       "      <td>los-angeles</td>\n",
       "      <td>central-la</td>\n",
       "    </tr>\n",
       "    <tr>\n",
       "      <th>1</th>\n",
       "      <td>06</td>\n",
       "      <td>037</td>\n",
       "      <td>207301</td>\n",
       "      <td>06037207301</td>\n",
       "      <td>2073.01</td>\n",
       "      <td>Census Tract 2073.01</td>\n",
       "      <td>G5020</td>\n",
       "      <td>S</td>\n",
       "      <td>430089</td>\n",
       "      <td>0</td>\n",
       "      <td>...</td>\n",
       "      <td>135.0</td>\n",
       "      <td>157.0</td>\n",
       "      <td>106.0</td>\n",
       "      <td>53</td>\n",
       "      <td>Downtown</td>\n",
       "      <td>downtown</td>\n",
       "      <td>los-angeles</td>\n",
       "      <td>Los Angeles</td>\n",
       "      <td>los-angeles</td>\n",
       "      <td>central-la</td>\n",
       "    </tr>\n",
       "    <tr>\n",
       "      <th>2</th>\n",
       "      <td>06</td>\n",
       "      <td>037</td>\n",
       "      <td>207501</td>\n",
       "      <td>06037207501</td>\n",
       "      <td>2075.01</td>\n",
       "      <td>Census Tract 2075.01</td>\n",
       "      <td>G5020</td>\n",
       "      <td>S</td>\n",
       "      <td>134326</td>\n",
       "      <td>0</td>\n",
       "      <td>...</td>\n",
       "      <td>52.0</td>\n",
       "      <td>43.0</td>\n",
       "      <td>65.0</td>\n",
       "      <td>53</td>\n",
       "      <td>Downtown</td>\n",
       "      <td>downtown</td>\n",
       "      <td>los-angeles</td>\n",
       "      <td>Los Angeles</td>\n",
       "      <td>los-angeles</td>\n",
       "      <td>central-la</td>\n",
       "    </tr>\n",
       "    <tr>\n",
       "      <th>3</th>\n",
       "      <td>06</td>\n",
       "      <td>037</td>\n",
       "      <td>207302</td>\n",
       "      <td>06037207302</td>\n",
       "      <td>2073.02</td>\n",
       "      <td>Census Tract 2073.02</td>\n",
       "      <td>G5020</td>\n",
       "      <td>S</td>\n",
       "      <td>256159</td>\n",
       "      <td>0</td>\n",
       "      <td>...</td>\n",
       "      <td>134.0</td>\n",
       "      <td>92.0</td>\n",
       "      <td>137.0</td>\n",
       "      <td>53</td>\n",
       "      <td>Downtown</td>\n",
       "      <td>downtown</td>\n",
       "      <td>los-angeles</td>\n",
       "      <td>Los Angeles</td>\n",
       "      <td>los-angeles</td>\n",
       "      <td>central-la</td>\n",
       "    </tr>\n",
       "    <tr>\n",
       "      <th>4</th>\n",
       "      <td>06</td>\n",
       "      <td>037</td>\n",
       "      <td>207710</td>\n",
       "      <td>06037207710</td>\n",
       "      <td>2077.10</td>\n",
       "      <td>Census Tract 2077.10</td>\n",
       "      <td>G5020</td>\n",
       "      <td>S</td>\n",
       "      <td>1101544</td>\n",
       "      <td>0</td>\n",
       "      <td>...</td>\n",
       "      <td>53.0</td>\n",
       "      <td>179.0</td>\n",
       "      <td>161.0</td>\n",
       "      <td>53</td>\n",
       "      <td>Downtown</td>\n",
       "      <td>downtown</td>\n",
       "      <td>los-angeles</td>\n",
       "      <td>Los Angeles</td>\n",
       "      <td>los-angeles</td>\n",
       "      <td>central-la</td>\n",
       "    </tr>\n",
       "  </tbody>\n",
       "</table>\n",
       "<p>5 rows × 58 columns</p>\n",
       "</div>"
      ],
      "text/plain": [
       "  statefp10 countyfp10 tractce10      geoid10   name10            namelsad10  \\\n",
       "0        06        037    207502  06037207502  2075.02  Census Tract 2075.02   \n",
       "1        06        037    207301  06037207301  2073.01  Census Tract 2073.01   \n",
       "2        06        037    207501  06037207501  2075.01  Census Tract 2075.01   \n",
       "3        06        037    207302  06037207302  2073.02  Census Tract 2073.02   \n",
       "4        06        037    207710  06037207710  2077.10  Census Tract 2077.10   \n",
       "\n",
       "  mtfcc10 funcstat10  aland10  awater10  ...  125000_149999_error  \\\n",
       "0   G5020          S   418373         0  ...                 60.0   \n",
       "1   G5020          S   430089         0  ...                135.0   \n",
       "2   G5020          S   134326         0  ...                 52.0   \n",
       "3   G5020          S   256159         0  ...                134.0   \n",
       "4   G5020          S  1101544         0  ...                 53.0   \n",
       "\n",
       "   150000_199999_error 200000_more_error  index_right  name_right      slug  \\\n",
       "0                 85.0              69.0           53    Downtown  downtown   \n",
       "1                157.0             106.0           53    Downtown  downtown   \n",
       "2                 43.0              65.0           53    Downtown  downtown   \n",
       "3                 92.0             137.0           53    Downtown  downtown   \n",
       "4                179.0             161.0           53    Downtown  downtown   \n",
       "\n",
       "  county_right         type         city      region  \n",
       "0  los-angeles  Los Angeles  los-angeles  central-la  \n",
       "1  los-angeles  Los Angeles  los-angeles  central-la  \n",
       "2  los-angeles  Los Angeles  los-angeles  central-la  \n",
       "3  los-angeles  Los Angeles  los-angeles  central-la  \n",
       "4  los-angeles  Los Angeles  los-angeles  central-la  \n",
       "\n",
       "[5 rows x 58 columns]"
      ]
     },
     "execution_count": 15,
     "metadata": {},
     "output_type": "execute_result"
    }
   ],
   "source": [
    "df.head()"
   ]
  },
  {
   "cell_type": "code",
   "execution_count": 17,
   "id": "7aec48ee-7471-435b-956f-34c55b2e7e6e",
   "metadata": {},
   "outputs": [],
   "source": [
    "downtown_tracts = df[\"name10\"].to_list()"
   ]
  },
  {
   "cell_type": "code",
   "execution_count": 18,
   "id": "17c042f3-f62b-4840-9773-c423d8640a16",
   "metadata": {},
   "outputs": [
    {
     "data": {
      "text/plain": [
       "[2075.02,\n",
       " 2073.01,\n",
       " 2075.01,\n",
       " 2073.02,\n",
       " 2077.1,\n",
       " 2074.0,\n",
       " 2063.0,\n",
       " 2240.1,\n",
       " 2260.02,\n",
       " 2062.0,\n",
       " 2079.0,\n",
       " 2071.02,\n",
       " 2071.01,\n",
       " 2060.31,\n",
       " 2060.2,\n",
       " 2080.0,\n",
       " 2240.2,\n",
       " 2244.1,\n",
       " 2270.1,\n",
       " 5324.0,\n",
       " 2242.0,\n",
       " 2093.0,\n",
       " 2092.0,\n",
       " 2100.1,\n",
       " 2281.0,\n",
       " 1977.0,\n",
       " 1976.0,\n",
       " 2260.01]"
      ]
     },
     "execution_count": 18,
     "metadata": {},
     "output_type": "execute_result"
    }
   ],
   "source": [
    "downtown_tracts"
   ]
  },
  {
   "cell_type": "markdown",
   "id": "42e56d67-4b70-4600-9de6-a33434f269c0",
   "metadata": {},
   "source": [
    "### Condense income ranges into fewer columns"
   ]
  },
  {
   "cell_type": "code",
   "execution_count": null,
   "id": "e41dbe67-a56b-4fdb-a6b1-090067055a79",
   "metadata": {},
   "outputs": [],
   "source": [
    "sum_10000_24999 = df[\"10000_14999\"] + df[\"15000_19999\"] + df[\"20000_24999\"]"
   ]
  },
  {
   "cell_type": "code",
   "execution_count": null,
   "id": "22446502-e03f-42d6-8e77-878439762bf3",
   "metadata": {},
   "outputs": [],
   "source": [
    "df[\"10000_24999\"] = sum_10000_24999"
   ]
  },
  {
   "cell_type": "code",
   "execution_count": null,
   "id": "08c17d0e-96c0-4250-a24d-ec471326c08e",
   "metadata": {},
   "outputs": [],
   "source": [
    "sum_25000_39999 = df[\"25000_29999\"] + df[\"30000_34999\"] + df[\"35000_39999\"]"
   ]
  },
  {
   "cell_type": "code",
   "execution_count": null,
   "id": "adbf87cc-e05c-42bf-bb73-f85f1904a5a2",
   "metadata": {},
   "outputs": [],
   "source": [
    "df[\"25000_39999\"] = sum_25000_39999"
   ]
  },
  {
   "cell_type": "code",
   "execution_count": null,
   "id": "ce18915a-a838-4a2a-9ce4-5bd17443cdce",
   "metadata": {},
   "outputs": [],
   "source": [
    "sum_40000_59999 = df[\"40000_44999\"] + df[\"45000_49999\"] + df[\"50000_59999\"]"
   ]
  },
  {
   "cell_type": "code",
   "execution_count": null,
   "id": "949d6909-97a5-469d-b84e-907ea6be4523",
   "metadata": {},
   "outputs": [],
   "source": [
    "df[\"40000_59999\"] = sum_40000_59999"
   ]
  },
  {
   "cell_type": "code",
   "execution_count": null,
   "id": "8dbf62d8-3ad3-48df-953b-057bd9014e77",
   "metadata": {},
   "outputs": [],
   "source": [
    "sum_60000_99999 = df[\"60000_74999\"] + df[\"75000_99999\"]"
   ]
  },
  {
   "cell_type": "code",
   "execution_count": null,
   "id": "15e98f9b-86f6-45ef-b10b-1975667646c3",
   "metadata": {},
   "outputs": [],
   "source": [
    "df[\"60000_99999\"] = sum_60000_99999"
   ]
  },
  {
   "cell_type": "code",
   "execution_count": null,
   "id": "880cd1b3-e142-4c08-9431-285462fa3cc5",
   "metadata": {},
   "outputs": [],
   "source": [
    "sum_100000_149999 = df[\"100000_124999\"] + df[\"125000_149999\"]"
   ]
  },
  {
   "cell_type": "code",
   "execution_count": null,
   "id": "15202cd8-fd4e-4daf-9f04-11b60e2e5ce4",
   "metadata": {},
   "outputs": [],
   "source": [
    "df[\"100000_149999\"] = sum_100000_149999"
   ]
  },
  {
   "cell_type": "code",
   "execution_count": null,
   "id": "f6b6cae3-d53a-4a3d-9a80-4205ebbe16ec",
   "metadata": {},
   "outputs": [],
   "source": [
    "###df[''] + df[''] + df['']"
   ]
  },
  {
   "cell_type": "code",
   "execution_count": null,
   "id": "0479341e-fc59-471d-8124-8f063965d1c6",
   "metadata": {},
   "outputs": [],
   "source": [
    "df.info()"
   ]
  },
  {
   "cell_type": "code",
   "execution_count": null,
   "id": "afe8af86-4c3a-4d87-ac6b-a6064da5c89b",
   "metadata": {},
   "outputs": [],
   "source": [
    "max_income = df[\"households\"].idxmax(\n",
    "    [\n",
    "        \"0_9999\",\n",
    "        \"10000_24999\",\n",
    "        \"25000_39999\",\n",
    "        \"40000_59999\",\n",
    "        \"60000_99999\",\n",
    "        \"100000_149999\",\n",
    "        \"150000_199999\",\n",
    "        \"200000_more\",\n",
    "    ]\n",
    ")"
   ]
  },
  {
   "cell_type": "code",
   "execution_count": null,
   "id": "25cb5f02-b4c5-4a29-824c-9f8493df8e8f",
   "metadata": {},
   "outputs": [],
   "source": [
    "df[\"max_income\"] = max_income"
   ]
  },
  {
   "cell_type": "markdown",
   "id": "006e7e69-590d-4ebd-897b-63cdc15177a4",
   "metadata": {},
   "source": [
    "### Make percent of columns, to be able to use in Datawrapper"
   ]
  },
  {
   "cell_type": "code",
   "execution_count": null,
   "id": "42ecbe3a-db5a-4392-9945-b6cdd715b688",
   "metadata": {},
   "outputs": [],
   "source": [
    "pct_0_9999 = df[\"0_9999\"] / df[\"households\"] * 100"
   ]
  },
  {
   "cell_type": "code",
   "execution_count": null,
   "id": "ddaac496-2333-4a34-931f-74c8d750ade4",
   "metadata": {},
   "outputs": [],
   "source": [
    "df[\"pct_0_9999\"] = pct_0_9999"
   ]
  },
  {
   "cell_type": "code",
   "execution_count": null,
   "id": "be6943e4-5a8a-4cb3-945b-af57d4e477ca",
   "metadata": {},
   "outputs": [],
   "source": [
    "pct_10000_24999 = df[\"10000_24999\"] / df[\"households\"] * 100"
   ]
  },
  {
   "cell_type": "code",
   "execution_count": null,
   "id": "908de967-777c-44b8-922b-d237bb954ae0",
   "metadata": {},
   "outputs": [],
   "source": [
    "###df[\"households\"] / df[\"\"] * 100"
   ]
  },
  {
   "cell_type": "code",
   "execution_count": null,
   "id": "31ec1d05-056c-4d39-874c-ea9add8c637f",
   "metadata": {},
   "outputs": [],
   "source": [
    "df[\"pct_10000_24999\"] = pct_10000_24999"
   ]
  },
  {
   "cell_type": "code",
   "execution_count": null,
   "id": "df30ac3a-31f5-4d26-9542-3d33f2943889",
   "metadata": {},
   "outputs": [],
   "source": [
    "pct_25000_39999 = df[\"25000_39999\"] / df[\"households\"] * 100"
   ]
  },
  {
   "cell_type": "code",
   "execution_count": null,
   "id": "7b703090-dcbf-4ce7-a9db-1ad6abed90cd",
   "metadata": {},
   "outputs": [],
   "source": [
    "df[\"pct_25000_39999\"] = pct_25000_39999"
   ]
  },
  {
   "cell_type": "code",
   "execution_count": null,
   "id": "53bcec0a-23ea-407a-94da-22a2f379a14b",
   "metadata": {},
   "outputs": [],
   "source": [
    "pct_40000_59999 = df[\"40000_59999\"] / df[\"households\"] * 100"
   ]
  },
  {
   "cell_type": "code",
   "execution_count": null,
   "id": "94765e0a-04ea-4fae-9055-4af8b5349c40",
   "metadata": {},
   "outputs": [],
   "source": [
    "df[\"pct_40000_59999\"] = pct_40000_59999"
   ]
  },
  {
   "cell_type": "code",
   "execution_count": null,
   "id": "a57e64a6-fbb3-48ea-8d10-e93ffd634007",
   "metadata": {},
   "outputs": [],
   "source": [
    "pct_60000_99999 = df[\"60000_99999\"] / df[\"households\"] * 100"
   ]
  },
  {
   "cell_type": "code",
   "execution_count": null,
   "id": "f8442d76-c4f4-4f2e-abdb-0eb64f4662a6",
   "metadata": {},
   "outputs": [],
   "source": [
    "df[\"pct_60000_99999\"] = pct_60000_99999"
   ]
  },
  {
   "cell_type": "code",
   "execution_count": null,
   "id": "7e05ba7e-f4d2-4003-a421-4ab1e4588aa0",
   "metadata": {},
   "outputs": [],
   "source": [
    "pct_100000_149999 = df[\"100000_149999\"] / df[\"households\"] * 100"
   ]
  },
  {
   "cell_type": "code",
   "execution_count": null,
   "id": "024f2b01-f480-47ba-a4dc-918fe7c51146",
   "metadata": {},
   "outputs": [],
   "source": [
    "df[\"pct_100000_149999\"] = pct_100000_149999"
   ]
  },
  {
   "cell_type": "code",
   "execution_count": null,
   "id": "0bc1285d-52ba-4193-bea3-0ad5b56ebfb0",
   "metadata": {},
   "outputs": [],
   "source": [
    "pct_150000_199999 = df[\"150000_199999\"] / df[\"households\"] * 100"
   ]
  },
  {
   "cell_type": "code",
   "execution_count": null,
   "id": "6f3530ac-13e9-4f60-aee0-57be99db59f5",
   "metadata": {},
   "outputs": [],
   "source": [
    "df[\"pct_150000_199999\"] = pct_150000_199999"
   ]
  },
  {
   "cell_type": "code",
   "execution_count": null,
   "id": "b2383e34-cd7a-460a-8499-ff6e327a58f4",
   "metadata": {},
   "outputs": [],
   "source": [
    "pct_200000_more = df[\"200000_more\"] / df[\"households\"] * 100"
   ]
  },
  {
   "cell_type": "code",
   "execution_count": null,
   "id": "a9a76898-8836-4eb4-8a30-491f7125784d",
   "metadata": {},
   "outputs": [],
   "source": [
    "df[\"pct_200000_more\"] = pct_200000_more"
   ]
  },
  {
   "cell_type": "markdown",
   "id": "439657d3-c674-4ed6-85e9-cd9afa94bb31",
   "metadata": {},
   "source": [
    "### Find median income percentage for each tract, create column"
   ]
  },
  {
   "cell_type": "code",
   "execution_count": null,
   "id": "5c197bfd-ce7c-4d7f-a6b2-7f117d978dc7",
   "metadata": {},
   "outputs": [],
   "source": [
    "###pct_columns = df[\n",
    "###'households'\n",
    "###].mean(\"pct_0_9999\",\n",
    "###\"pct_10000_24999\", \"pct_25000_39999\", \"pct_40000_59999\", \"pct_60000_99999\", \"pct_100000_149999\", \"pct_150000_199999\",\n",
    "###\"pct_200000_more\")"
   ]
  },
  {
   "cell_type": "code",
   "execution_count": null,
   "id": "d9b67e24-eb8c-4f5b-aed5-4d942157e508",
   "metadata": {},
   "outputs": [],
   "source": [
    "###pct_columns_mean = df[pct_columns].mean()"
   ]
  },
  {
   "cell_type": "code",
   "execution_count": null,
   "id": "c5cd3871-db4c-4f33-845e-42b75b8857de",
   "metadata": {},
   "outputs": [],
   "source": [
    "###df[\"pct_columns_mean\"] = pct_columns_mean"
   ]
  },
  {
   "cell_type": "markdown",
   "id": "bd4c14f8-215c-48a1-a940-c34332528898",
   "metadata": {},
   "source": [
    "### Limit number of columns used to clean up for Datawrapper (exclude error margins, non-condensed columns)"
   ]
  },
  {
   "cell_type": "code",
   "execution_count": null,
   "id": "c1d26b37-d21b-4c62-a5dd-b000ceffd0ef",
   "metadata": {},
   "outputs": [],
   "source": [
    "income_df = df[\n",
    "    [\n",
    "        \"statefp10\",\n",
    "        \"countyfp10\",\n",
    "        \"tractce10\",\n",
    "        \"geoid10\",\n",
    "        \"name10\",\n",
    "        \"namelsad10\",\n",
    "        \"mtfcc10\",\n",
    "        \"funcstat10\",\n",
    "        \"aland10\",\n",
    "        \"awater10\",\n",
    "        \"intptlat10\",\n",
    "        \"intptlon10\",\n",
    "        \"geo_id\",\n",
    "        \"state\",\n",
    "        \"county_left\",\n",
    "        \"tract\",\n",
    "        \"name_left\",\n",
    "        \"households\",\n",
    "        \"pct_0_9999\",\n",
    "        \"pct_10000_24999\",\n",
    "        \"pct_25000_39999\",\n",
    "        \"pct_40000_59999\",\n",
    "        \"pct_60000_99999\",\n",
    "        \"pct_100000_149999\",\n",
    "        \"pct_150000_199999\",\n",
    "        \"pct_200000_more\",\n",
    "        \"max_income\",\n",
    "    ]\n",
    "]"
   ]
  },
  {
   "cell_type": "markdown",
   "id": "a7862b9d-d0a2-4f1d-80db-b781fa73fced",
   "metadata": {},
   "source": [
    "### Check .info() to make sure column limit worked and test a census tract to see if numbers look right"
   ]
  },
  {
   "cell_type": "code",
   "execution_count": null,
   "id": "f36cd21d-c007-44fb-9d4f-ba8e32026129",
   "metadata": {},
   "outputs": [],
   "source": [
    "income_df.info()"
   ]
  },
  {
   "cell_type": "code",
   "execution_count": null,
   "id": "aa7c5055-0b91-4db1-bb27-5e87cdcf0b6c",
   "metadata": {},
   "outputs": [],
   "source": [
    "income_df[income_df[\"tractce10\"] == 207502]"
   ]
  },
  {
   "cell_type": "markdown",
   "id": "38a6dbef-88aa-4f36-a887-e5330f8e14dd",
   "metadata": {},
   "source": [
    "### Export"
   ]
  },
  {
   "cell_type": "code",
   "execution_count": null,
   "id": "4026f7a7-dc7f-4e1d-ac2a-a6bafb05b7d7",
   "metadata": {},
   "outputs": [],
   "source": [
    "income_df.to_csv(\"income_downtown_tracts_graceswork.csv\")"
   ]
  },
  {
   "cell_type": "code",
   "execution_count": null,
   "id": "e9e25515-2393-4420-afb8-f022985af34a",
   "metadata": {},
   "outputs": [],
   "source": [
    "census_downtown_tract_df.to_csv(\"census_data_tracts_df.csv\")"
   ]
  },
  {
   "cell_type": "code",
   "execution_count": null,
   "id": "235ecd68-1792-4f3c-bfd9-21c2fb1bbde9",
   "metadata": {},
   "outputs": [],
   "source": []
  }
 ],
 "metadata": {
  "kernelspec": {
   "display_name": "Python 3",
   "language": "python",
   "name": "python3"
  },
  "language_info": {
   "codemirror_mode": {
    "name": "ipython",
    "version": 3
   },
   "file_extension": ".py",
   "mimetype": "text/x-python",
   "name": "python",
   "nbconvert_exporter": "python",
   "pygments_lexer": "ipython3",
   "version": "3.8.8"
  }
 },
 "nbformat": 4,
 "nbformat_minor": 5
}
