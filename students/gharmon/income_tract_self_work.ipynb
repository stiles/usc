{
 "cells": [
  {
   "cell_type": "code",
   "execution_count": 1,
   "id": "db29d2b2-2198-42f7-a931-6852b0f0059a",
   "metadata": {},
   "outputs": [],
   "source": [
    "%load_ext lab_black"
   ]
  },
  {
   "cell_type": "code",
   "execution_count": 2,
   "id": "7ab1b988-eeaf-4eb2-9fd3-004a96c42e64",
   "metadata": {},
   "outputs": [],
   "source": [
    "import pandas as pd"
   ]
  },
  {
   "cell_type": "code",
   "execution_count": 3,
   "id": "d36f15f0-afd5-4c60-9273-2b4a314be08b",
   "metadata": {},
   "outputs": [],
   "source": [
    "df = pd.read_csv(\"income_tracts_in_around_downtown.csv\")"
   ]
  },
  {
   "cell_type": "code",
   "execution_count": 4,
   "id": "23b89e56-6251-4e92-ba68-628e40d449da",
   "metadata": {},
   "outputs": [
    {
     "data": {
      "text/html": [
       "<div>\n",
       "<style scoped>\n",
       "    .dataframe tbody tr th:only-of-type {\n",
       "        vertical-align: middle;\n",
       "    }\n",
       "\n",
       "    .dataframe tbody tr th {\n",
       "        vertical-align: top;\n",
       "    }\n",
       "\n",
       "    .dataframe thead th {\n",
       "        text-align: right;\n",
       "    }\n",
       "</style>\n",
       "<table border=\"1\" class=\"dataframe\">\n",
       "  <thead>\n",
       "    <tr style=\"text-align: right;\">\n",
       "      <th></th>\n",
       "      <th>statefp10</th>\n",
       "      <th>countyfp10</th>\n",
       "      <th>tractce10</th>\n",
       "      <th>geoid10</th>\n",
       "      <th>name10</th>\n",
       "      <th>namelsad10</th>\n",
       "      <th>mtfcc10</th>\n",
       "      <th>funcstat10</th>\n",
       "      <th>aland10</th>\n",
       "      <th>awater10</th>\n",
       "      <th>...</th>\n",
       "      <th>125000_149999_error</th>\n",
       "      <th>150000_199999_error</th>\n",
       "      <th>200000_more_error</th>\n",
       "      <th>index_right</th>\n",
       "      <th>name_right</th>\n",
       "      <th>slug</th>\n",
       "      <th>county_right</th>\n",
       "      <th>type</th>\n",
       "      <th>city</th>\n",
       "      <th>region</th>\n",
       "    </tr>\n",
       "  </thead>\n",
       "  <tbody>\n",
       "    <tr>\n",
       "      <th>0</th>\n",
       "      <td>6</td>\n",
       "      <td>37</td>\n",
       "      <td>207502</td>\n",
       "      <td>6037207502</td>\n",
       "      <td>2075.02</td>\n",
       "      <td>Census Tract 2075.02</td>\n",
       "      <td>G5020</td>\n",
       "      <td>S</td>\n",
       "      <td>418373</td>\n",
       "      <td>0</td>\n",
       "      <td>...</td>\n",
       "      <td>60.0</td>\n",
       "      <td>85.0</td>\n",
       "      <td>69.0</td>\n",
       "      <td>53</td>\n",
       "      <td>Downtown</td>\n",
       "      <td>downtown</td>\n",
       "      <td>los-angeles</td>\n",
       "      <td>Los Angeles</td>\n",
       "      <td>los-angeles</td>\n",
       "      <td>central-la</td>\n",
       "    </tr>\n",
       "    <tr>\n",
       "      <th>1</th>\n",
       "      <td>6</td>\n",
       "      <td>37</td>\n",
       "      <td>207301</td>\n",
       "      <td>6037207301</td>\n",
       "      <td>2073.01</td>\n",
       "      <td>Census Tract 2073.01</td>\n",
       "      <td>G5020</td>\n",
       "      <td>S</td>\n",
       "      <td>430089</td>\n",
       "      <td>0</td>\n",
       "      <td>...</td>\n",
       "      <td>135.0</td>\n",
       "      <td>157.0</td>\n",
       "      <td>106.0</td>\n",
       "      <td>53</td>\n",
       "      <td>Downtown</td>\n",
       "      <td>downtown</td>\n",
       "      <td>los-angeles</td>\n",
       "      <td>Los Angeles</td>\n",
       "      <td>los-angeles</td>\n",
       "      <td>central-la</td>\n",
       "    </tr>\n",
       "    <tr>\n",
       "      <th>2</th>\n",
       "      <td>6</td>\n",
       "      <td>37</td>\n",
       "      <td>207501</td>\n",
       "      <td>6037207501</td>\n",
       "      <td>2075.01</td>\n",
       "      <td>Census Tract 2075.01</td>\n",
       "      <td>G5020</td>\n",
       "      <td>S</td>\n",
       "      <td>134326</td>\n",
       "      <td>0</td>\n",
       "      <td>...</td>\n",
       "      <td>52.0</td>\n",
       "      <td>43.0</td>\n",
       "      <td>65.0</td>\n",
       "      <td>53</td>\n",
       "      <td>Downtown</td>\n",
       "      <td>downtown</td>\n",
       "      <td>los-angeles</td>\n",
       "      <td>Los Angeles</td>\n",
       "      <td>los-angeles</td>\n",
       "      <td>central-la</td>\n",
       "    </tr>\n",
       "    <tr>\n",
       "      <th>3</th>\n",
       "      <td>6</td>\n",
       "      <td>37</td>\n",
       "      <td>207302</td>\n",
       "      <td>6037207302</td>\n",
       "      <td>2073.02</td>\n",
       "      <td>Census Tract 2073.02</td>\n",
       "      <td>G5020</td>\n",
       "      <td>S</td>\n",
       "      <td>256159</td>\n",
       "      <td>0</td>\n",
       "      <td>...</td>\n",
       "      <td>134.0</td>\n",
       "      <td>92.0</td>\n",
       "      <td>137.0</td>\n",
       "      <td>53</td>\n",
       "      <td>Downtown</td>\n",
       "      <td>downtown</td>\n",
       "      <td>los-angeles</td>\n",
       "      <td>Los Angeles</td>\n",
       "      <td>los-angeles</td>\n",
       "      <td>central-la</td>\n",
       "    </tr>\n",
       "    <tr>\n",
       "      <th>4</th>\n",
       "      <td>6</td>\n",
       "      <td>37</td>\n",
       "      <td>207710</td>\n",
       "      <td>6037207710</td>\n",
       "      <td>2077.10</td>\n",
       "      <td>Census Tract 2077.10</td>\n",
       "      <td>G5020</td>\n",
       "      <td>S</td>\n",
       "      <td>1101544</td>\n",
       "      <td>0</td>\n",
       "      <td>...</td>\n",
       "      <td>53.0</td>\n",
       "      <td>179.0</td>\n",
       "      <td>161.0</td>\n",
       "      <td>53</td>\n",
       "      <td>Downtown</td>\n",
       "      <td>downtown</td>\n",
       "      <td>los-angeles</td>\n",
       "      <td>Los Angeles</td>\n",
       "      <td>los-angeles</td>\n",
       "      <td>central-la</td>\n",
       "    </tr>\n",
       "  </tbody>\n",
       "</table>\n",
       "<p>5 rows × 58 columns</p>\n",
       "</div>"
      ],
      "text/plain": [
       "   statefp10  countyfp10  tractce10     geoid10   name10  \\\n",
       "0          6          37     207502  6037207502  2075.02   \n",
       "1          6          37     207301  6037207301  2073.01   \n",
       "2          6          37     207501  6037207501  2075.01   \n",
       "3          6          37     207302  6037207302  2073.02   \n",
       "4          6          37     207710  6037207710  2077.10   \n",
       "\n",
       "             namelsad10 mtfcc10 funcstat10  aland10  awater10  ...  \\\n",
       "0  Census Tract 2075.02   G5020          S   418373         0  ...   \n",
       "1  Census Tract 2073.01   G5020          S   430089         0  ...   \n",
       "2  Census Tract 2075.01   G5020          S   134326         0  ...   \n",
       "3  Census Tract 2073.02   G5020          S   256159         0  ...   \n",
       "4  Census Tract 2077.10   G5020          S  1101544         0  ...   \n",
       "\n",
       "   125000_149999_error  150000_199999_error 200000_more_error  index_right  \\\n",
       "0                 60.0                 85.0              69.0           53   \n",
       "1                135.0                157.0             106.0           53   \n",
       "2                 52.0                 43.0              65.0           53   \n",
       "3                134.0                 92.0             137.0           53   \n",
       "4                 53.0                179.0             161.0           53   \n",
       "\n",
       "   name_right      slug county_right         type         city      region  \n",
       "0    Downtown  downtown  los-angeles  Los Angeles  los-angeles  central-la  \n",
       "1    Downtown  downtown  los-angeles  Los Angeles  los-angeles  central-la  \n",
       "2    Downtown  downtown  los-angeles  Los Angeles  los-angeles  central-la  \n",
       "3    Downtown  downtown  los-angeles  Los Angeles  los-angeles  central-la  \n",
       "4    Downtown  downtown  los-angeles  Los Angeles  los-angeles  central-la  \n",
       "\n",
       "[5 rows x 58 columns]"
      ]
     },
     "execution_count": 4,
     "metadata": {},
     "output_type": "execute_result"
    }
   ],
   "source": [
    "df.head()"
   ]
  },
  {
   "cell_type": "code",
   "execution_count": 5,
   "id": "e41dbe67-a56b-4fdb-a6b1-090067055a79",
   "metadata": {},
   "outputs": [],
   "source": [
    "sum_10000_24999 = df[\"10000_14999\"] + df[\"15000_19999\"] + df[\"20000_24999\"]"
   ]
  },
  {
   "cell_type": "code",
   "execution_count": 6,
   "id": "22446502-e03f-42d6-8e77-878439762bf3",
   "metadata": {},
   "outputs": [],
   "source": [
    "df[\"10000_24999\"] = sum_10000_24999"
   ]
  },
  {
   "cell_type": "code",
   "execution_count": 7,
   "id": "08c17d0e-96c0-4250-a24d-ec471326c08e",
   "metadata": {},
   "outputs": [],
   "source": [
    "sum_25000_39999 = df[\"25000_29999\"] + df[\"30000_34999\"] + df[\"35000_39999\"]"
   ]
  },
  {
   "cell_type": "code",
   "execution_count": 8,
   "id": "adbf87cc-e05c-42bf-bb73-f85f1904a5a2",
   "metadata": {},
   "outputs": [],
   "source": [
    "df[\"25000_39999\"] = sum_25000_39999"
   ]
  },
  {
   "cell_type": "code",
   "execution_count": 9,
   "id": "ce18915a-a838-4a2a-9ce4-5bd17443cdce",
   "metadata": {},
   "outputs": [],
   "source": [
    "sum_40000_59999 = df[\"40000_44999\"] + df[\"45000_49999\"] + df[\"50000_59999\"]"
   ]
  },
  {
   "cell_type": "code",
   "execution_count": 10,
   "id": "949d6909-97a5-469d-b84e-907ea6be4523",
   "metadata": {},
   "outputs": [],
   "source": [
    "df[\"40000_59999\"] = sum_40000_59999"
   ]
  },
  {
   "cell_type": "code",
   "execution_count": 11,
   "id": "8dbf62d8-3ad3-48df-953b-057bd9014e77",
   "metadata": {},
   "outputs": [],
   "source": [
    "sum_60000_99999 = df[\"60000_74999\"] + df[\"75000_99999\"]"
   ]
  },
  {
   "cell_type": "code",
   "execution_count": 12,
   "id": "15e98f9b-86f6-45ef-b10b-1975667646c3",
   "metadata": {},
   "outputs": [],
   "source": [
    "df[\"60000_99999\"] = sum_60000_99999"
   ]
  },
  {
   "cell_type": "code",
   "execution_count": 13,
   "id": "880cd1b3-e142-4c08-9431-285462fa3cc5",
   "metadata": {},
   "outputs": [],
   "source": [
    "sum_100000_149999 = df[\"100000_124999\"] + df[\"125000_149999\"]"
   ]
  },
  {
   "cell_type": "code",
   "execution_count": 14,
   "id": "15202cd8-fd4e-4daf-9f04-11b60e2e5ce4",
   "metadata": {},
   "outputs": [],
   "source": [
    "df[\"100000_149999\"] = sum_100000_149999"
   ]
  },
  {
   "cell_type": "code",
   "execution_count": 15,
   "id": "f6b6cae3-d53a-4a3d-9a80-4205ebbe16ec",
   "metadata": {},
   "outputs": [],
   "source": [
    "###df[''] + df[''] + df['']"
   ]
  },
  {
   "cell_type": "code",
   "execution_count": 16,
   "id": "0479341e-fc59-471d-8124-8f063965d1c6",
   "metadata": {},
   "outputs": [
    {
     "name": "stdout",
     "output_type": "stream",
     "text": [
      "<class 'pandas.core.frame.DataFrame'>\n",
      "RangeIndex: 28 entries, 0 to 27\n",
      "Data columns (total 63 columns):\n",
      " #   Column               Non-Null Count  Dtype  \n",
      "---  ------               --------------  -----  \n",
      " 0   statefp10            28 non-null     int64  \n",
      " 1   countyfp10           28 non-null     int64  \n",
      " 2   tractce10            28 non-null     int64  \n",
      " 3   geoid10              28 non-null     int64  \n",
      " 4   name10               28 non-null     float64\n",
      " 5   namelsad10           28 non-null     object \n",
      " 6   mtfcc10              28 non-null     object \n",
      " 7   funcstat10           28 non-null     object \n",
      " 8   aland10              28 non-null     int64  \n",
      " 9   awater10             28 non-null     int64  \n",
      " 10  intptlat10           28 non-null     float64\n",
      " 11  intptlon10           28 non-null     float64\n",
      " 12  geo_id               28 non-null     object \n",
      " 13  state                28 non-null     int64  \n",
      " 14  county_left          28 non-null     int64  \n",
      " 15  tract                28 non-null     int64  \n",
      " 16  name_left            28 non-null     object \n",
      " 17  households           28 non-null     float64\n",
      " 18  0_9999               28 non-null     float64\n",
      " 19  10000_14999          28 non-null     float64\n",
      " 20  15000_19999          28 non-null     float64\n",
      " 21  20000_24999          28 non-null     float64\n",
      " 22  25000_29999          28 non-null     float64\n",
      " 23  30000_34999          28 non-null     float64\n",
      " 24  35000_39999          28 non-null     float64\n",
      " 25  40000_44999          28 non-null     float64\n",
      " 26  45000_49999          28 non-null     float64\n",
      " 27  50000_59999          28 non-null     float64\n",
      " 28  60000_74999          28 non-null     float64\n",
      " 29  75000_99999          28 non-null     float64\n",
      " 30  100000_124999        28 non-null     float64\n",
      " 31  125000_149999        28 non-null     float64\n",
      " 32  150000_199999        28 non-null     float64\n",
      " 33  200000_more          28 non-null     float64\n",
      " 34  households_error     28 non-null     float64\n",
      " 35  0_9999_error         28 non-null     float64\n",
      " 36  10000_14999_error    28 non-null     float64\n",
      " 37  15000_19999_error    28 non-null     float64\n",
      " 38  20000_24999_error    28 non-null     float64\n",
      " 39  25000_29999_error    28 non-null     float64\n",
      " 40  30000_34999_error    28 non-null     float64\n",
      " 41  35000_39999_error    28 non-null     float64\n",
      " 42  40000_44999_error    28 non-null     float64\n",
      " 43  45000_49999_error    28 non-null     float64\n",
      " 44  50000_59999_error    28 non-null     float64\n",
      " 45  60000_74999_error    28 non-null     float64\n",
      " 46  75000_99999_error    28 non-null     float64\n",
      " 47  100000_124999_error  28 non-null     float64\n",
      " 48  125000_149999_error  28 non-null     float64\n",
      " 49  150000_199999_error  28 non-null     float64\n",
      " 50  200000_more_error    28 non-null     float64\n",
      " 51  index_right          28 non-null     int64  \n",
      " 52  name_right           28 non-null     object \n",
      " 53  slug                 28 non-null     object \n",
      " 54  county_right         28 non-null     object \n",
      " 55  type                 28 non-null     object \n",
      " 56  city                 28 non-null     object \n",
      " 57  region               28 non-null     object \n",
      " 58  10000_24999          28 non-null     float64\n",
      " 59  25000_39999          28 non-null     float64\n",
      " 60  40000_59999          28 non-null     float64\n",
      " 61  60000_99999          28 non-null     float64\n",
      " 62  100000_149999        28 non-null     float64\n",
      "dtypes: float64(42), int64(10), object(11)\n",
      "memory usage: 13.9+ KB\n"
     ]
    }
   ],
   "source": [
    "df.info()"
   ]
  },
  {
   "cell_type": "code",
   "execution_count": 41,
   "id": "be6943e4-5a8a-4cb3-945b-af57d4e477ca",
   "metadata": {},
   "outputs": [],
   "source": [
    "pct_10000_24999 = df[\"10000_24999\"] / df[\"households\"] * 100"
   ]
  },
  {
   "cell_type": "code",
   "execution_count": 19,
   "id": "908de967-777c-44b8-922b-d237bb954ae0",
   "metadata": {},
   "outputs": [],
   "source": [
    "###df[\"households\"] / df[\"\"] * 100"
   ]
  },
  {
   "cell_type": "code",
   "execution_count": 42,
   "id": "31ec1d05-056c-4d39-874c-ea9add8c637f",
   "metadata": {},
   "outputs": [],
   "source": [
    "df[\"pct_10000_24999\"] = pct_10000_24999"
   ]
  },
  {
   "cell_type": "code",
   "execution_count": 43,
   "id": "df30ac3a-31f5-4d26-9542-3d33f2943889",
   "metadata": {},
   "outputs": [],
   "source": [
    "pct_25000_39999 = df[\"25000_39999\"] / df[\"households\"] * 100"
   ]
  },
  {
   "cell_type": "code",
   "execution_count": 44,
   "id": "7b703090-dcbf-4ce7-a9db-1ad6abed90cd",
   "metadata": {},
   "outputs": [],
   "source": [
    "df[\"pct_25000_39999\"] = pct_25000_39999"
   ]
  },
  {
   "cell_type": "code",
   "execution_count": 45,
   "id": "53bcec0a-23ea-407a-94da-22a2f379a14b",
   "metadata": {},
   "outputs": [],
   "source": [
    "pct_40000_59999 = df[\"40000_59999\"] / df[\"households\"] * 100"
   ]
  },
  {
   "cell_type": "code",
   "execution_count": 46,
   "id": "94765e0a-04ea-4fae-9055-4af8b5349c40",
   "metadata": {},
   "outputs": [],
   "source": [
    "df[\"pct_40000_59999\"] = pct_40000_59999"
   ]
  },
  {
   "cell_type": "code",
   "execution_count": 47,
   "id": "a57e64a6-fbb3-48ea-8d10-e93ffd634007",
   "metadata": {},
   "outputs": [],
   "source": [
    "pct_60000_99999 = df[\"60000_99999\"] / df[\"households\"] * 100"
   ]
  },
  {
   "cell_type": "code",
   "execution_count": 48,
   "id": "f8442d76-c4f4-4f2e-abdb-0eb64f4662a6",
   "metadata": {},
   "outputs": [],
   "source": [
    "df[\"pct_60000_99999\"] = pct_60000_99999"
   ]
  },
  {
   "cell_type": "code",
   "execution_count": 50,
   "id": "7e05ba7e-f4d2-4003-a421-4ab1e4588aa0",
   "metadata": {},
   "outputs": [],
   "source": [
    "pct_100000_149999 = df[\"100000_149999\"] / df[\"households\"] * 100"
   ]
  },
  {
   "cell_type": "code",
   "execution_count": 51,
   "id": "024f2b01-f480-47ba-a4dc-918fe7c51146",
   "metadata": {},
   "outputs": [],
   "source": [
    "df[\"pct_100000_149999\"] = pct_100000_149999"
   ]
  },
  {
   "cell_type": "code",
   "execution_count": 52,
   "id": "0bc1285d-52ba-4193-bea3-0ad5b56ebfb0",
   "metadata": {},
   "outputs": [],
   "source": [
    "pct_150000_199999 = df[\"150000_199999\"] / df[\"households\"] * 100"
   ]
  },
  {
   "cell_type": "code",
   "execution_count": 53,
   "id": "6f3530ac-13e9-4f60-aee0-57be99db59f5",
   "metadata": {},
   "outputs": [],
   "source": [
    "df[\"pct_150000_199999\"] = pct_150000_199999"
   ]
  },
  {
   "cell_type": "code",
   "execution_count": 54,
   "id": "b2383e34-cd7a-460a-8499-ff6e327a58f4",
   "metadata": {},
   "outputs": [],
   "source": [
    "pct_200000_more = df[\"200000_more\"] / df[\"households\"] * 100"
   ]
  },
  {
   "cell_type": "code",
   "execution_count": 55,
   "id": "a9a76898-8836-4eb4-8a30-491f7125784d",
   "metadata": {},
   "outputs": [],
   "source": [
    "df[\"pct_200000_more\"] = pct_200000_more"
   ]
  },
  {
   "cell_type": "code",
   "execution_count": 56,
   "id": "c1d26b37-d21b-4c62-a5dd-b000ceffd0ef",
   "metadata": {},
   "outputs": [],
   "source": [
    "income_df = df[\n",
    "    [\n",
    "        \"statefp10\",\n",
    "        \"countyfp10\",\n",
    "        \"tractce10\",\n",
    "        \"geoid10\",\n",
    "        \"name10\",\n",
    "        \"namelsad10\",\n",
    "        \"mtfcc10\",\n",
    "        \"funcstat10\",\n",
    "        \"aland10\",\n",
    "        \"awater10\",\n",
    "        \"intptlat10\",\n",
    "        \"intptlon10\",\n",
    "        \"geo_id\",\n",
    "        \"state\",\n",
    "        \"county_left\",\n",
    "        \"tract\",\n",
    "        \"name_left\",\n",
    "        \"households\",\n",
    "        \"pct_10000_24999\",\n",
    "        \"pct_25000_39999\",\n",
    "        \"pct_40000_59999\",\n",
    "        \"pct_60000_99999\",\n",
    "        \"pct_100000_149999\",\n",
    "        \"pct_150000_199999\",\n",
    "        \"pct_200000_more\",\n",
    "    ]\n",
    "]"
   ]
  },
  {
   "cell_type": "code",
   "execution_count": 57,
   "id": "f36cd21d-c007-44fb-9d4f-ba8e32026129",
   "metadata": {},
   "outputs": [
    {
     "name": "stdout",
     "output_type": "stream",
     "text": [
      "<class 'pandas.core.frame.DataFrame'>\n",
      "RangeIndex: 28 entries, 0 to 27\n",
      "Data columns (total 25 columns):\n",
      " #   Column             Non-Null Count  Dtype  \n",
      "---  ------             --------------  -----  \n",
      " 0   statefp10          28 non-null     int64  \n",
      " 1   countyfp10         28 non-null     int64  \n",
      " 2   tractce10          28 non-null     int64  \n",
      " 3   geoid10            28 non-null     int64  \n",
      " 4   name10             28 non-null     float64\n",
      " 5   namelsad10         28 non-null     object \n",
      " 6   mtfcc10            28 non-null     object \n",
      " 7   funcstat10         28 non-null     object \n",
      " 8   aland10            28 non-null     int64  \n",
      " 9   awater10           28 non-null     int64  \n",
      " 10  intptlat10         28 non-null     float64\n",
      " 11  intptlon10         28 non-null     float64\n",
      " 12  geo_id             28 non-null     object \n",
      " 13  state              28 non-null     int64  \n",
      " 14  county_left        28 non-null     int64  \n",
      " 15  tract              28 non-null     int64  \n",
      " 16  name_left          28 non-null     object \n",
      " 17  households         28 non-null     float64\n",
      " 18  pct_10000_24999    28 non-null     float64\n",
      " 19  pct_25000_39999    28 non-null     float64\n",
      " 20  pct_40000_59999    28 non-null     float64\n",
      " 21  pct_60000_99999    28 non-null     float64\n",
      " 22  pct_100000_149999  28 non-null     float64\n",
      " 23  pct_150000_199999  28 non-null     float64\n",
      " 24  pct_200000_more    28 non-null     float64\n",
      "dtypes: float64(11), int64(9), object(5)\n",
      "memory usage: 5.6+ KB\n"
     ]
    }
   ],
   "source": [
    "income_df.info()"
   ]
  },
  {
   "cell_type": "code",
   "execution_count": 58,
   "id": "aa7c5055-0b91-4db1-bb27-5e87cdcf0b6c",
   "metadata": {},
   "outputs": [
    {
     "data": {
      "text/html": [
       "<div>\n",
       "<style scoped>\n",
       "    .dataframe tbody tr th:only-of-type {\n",
       "        vertical-align: middle;\n",
       "    }\n",
       "\n",
       "    .dataframe tbody tr th {\n",
       "        vertical-align: top;\n",
       "    }\n",
       "\n",
       "    .dataframe thead th {\n",
       "        text-align: right;\n",
       "    }\n",
       "</style>\n",
       "<table border=\"1\" class=\"dataframe\">\n",
       "  <thead>\n",
       "    <tr style=\"text-align: right;\">\n",
       "      <th></th>\n",
       "      <th>statefp10</th>\n",
       "      <th>countyfp10</th>\n",
       "      <th>tractce10</th>\n",
       "      <th>geoid10</th>\n",
       "      <th>name10</th>\n",
       "      <th>namelsad10</th>\n",
       "      <th>mtfcc10</th>\n",
       "      <th>funcstat10</th>\n",
       "      <th>aland10</th>\n",
       "      <th>awater10</th>\n",
       "      <th>...</th>\n",
       "      <th>tract</th>\n",
       "      <th>name_left</th>\n",
       "      <th>households</th>\n",
       "      <th>pct_10000_24999</th>\n",
       "      <th>pct_25000_39999</th>\n",
       "      <th>pct_40000_59999</th>\n",
       "      <th>pct_60000_99999</th>\n",
       "      <th>pct_100000_149999</th>\n",
       "      <th>pct_150000_199999</th>\n",
       "      <th>pct_200000_more</th>\n",
       "    </tr>\n",
       "  </thead>\n",
       "  <tbody>\n",
       "    <tr>\n",
       "      <th>0</th>\n",
       "      <td>6</td>\n",
       "      <td>37</td>\n",
       "      <td>207502</td>\n",
       "      <td>6037207502</td>\n",
       "      <td>2075.02</td>\n",
       "      <td>Census Tract 2075.02</td>\n",
       "      <td>G5020</td>\n",
       "      <td>S</td>\n",
       "      <td>418373</td>\n",
       "      <td>0</td>\n",
       "      <td>...</td>\n",
       "      <td>207502</td>\n",
       "      <td>Census Tract 2075.02, Los Angeles County, Cali...</td>\n",
       "      <td>2196.0</td>\n",
       "      <td>44.626594</td>\n",
       "      <td>4.644809</td>\n",
       "      <td>1.684882</td>\n",
       "      <td>11.338798</td>\n",
       "      <td>8.652095</td>\n",
       "      <td>7.604736</td>\n",
       "      <td>8.242259</td>\n",
       "    </tr>\n",
       "  </tbody>\n",
       "</table>\n",
       "<p>1 rows × 25 columns</p>\n",
       "</div>"
      ],
      "text/plain": [
       "   statefp10  countyfp10  tractce10     geoid10   name10  \\\n",
       "0          6          37     207502  6037207502  2075.02   \n",
       "\n",
       "             namelsad10 mtfcc10 funcstat10  aland10  awater10  ...   tract  \\\n",
       "0  Census Tract 2075.02   G5020          S   418373         0  ...  207502   \n",
       "\n",
       "                                           name_left households  \\\n",
       "0  Census Tract 2075.02, Los Angeles County, Cali...     2196.0   \n",
       "\n",
       "   pct_10000_24999  pct_25000_39999  pct_40000_59999 pct_60000_99999  \\\n",
       "0        44.626594         4.644809         1.684882       11.338798   \n",
       "\n",
       "   pct_100000_149999  pct_150000_199999  pct_200000_more  \n",
       "0           8.652095           7.604736         8.242259  \n",
       "\n",
       "[1 rows x 25 columns]"
      ]
     },
     "execution_count": 58,
     "metadata": {},
     "output_type": "execute_result"
    }
   ],
   "source": [
    "income_df[income_df[\"tractce10\"] == 207502]"
   ]
  },
  {
   "cell_type": "code",
   "execution_count": null,
   "id": "38f1d701-7dfe-4040-87be-1808da3cba37",
   "metadata": {},
   "outputs": [],
   "source": []
  }
 ],
 "metadata": {
  "kernelspec": {
   "display_name": "Python 3",
   "language": "python",
   "name": "python3"
  },
  "language_info": {
   "codemirror_mode": {
    "name": "ipython",
    "version": 3
   },
   "file_extension": ".py",
   "mimetype": "text/x-python",
   "name": "python",
   "nbconvert_exporter": "python",
   "pygments_lexer": "ipython3",
   "version": "3.8.8"
  }
 },
 "nbformat": 4,
 "nbformat_minor": 5
}
