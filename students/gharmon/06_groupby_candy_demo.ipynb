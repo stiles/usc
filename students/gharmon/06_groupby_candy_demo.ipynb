{
 "cells": [
  {
   "cell_type": "markdown",
   "id": "564e3285-652b-46c8-9148-15d6b4895ad9",
   "metadata": {},
   "source": [
    "# Groupby: Candy!\n",
    "Use this method when you want to collapse a dataframe by a categorical column and run an aggregation. For example, if you had a list of candy consumed and wanted to look at the total caleries by brand or type. Let's look."
   ]
  },
  {
   "cell_type": "markdown",
   "id": "b33ad272-23b8-45d3-99e3-b006192bee92",
   "metadata": {},
   "source": [
    "#### Load python tools"
   ]
  },
  {
   "cell_type": "code",
   "execution_count": 4,
   "id": "b22b7261-fe68-4445-bf94-82a506fa5018",
   "metadata": {},
   "outputs": [],
   "source": [
    "import pandas as pd"
   ]
  },
  {
   "cell_type": "markdown",
   "id": "e80cc819-8cc4-4587-8e04-959ea605e1ef",
   "metadata": {},
   "source": [
    "#### Read our candy dataset"
   ]
  },
  {
   "cell_type": "code",
   "execution_count": 5,
   "id": "0ddbbb65-b276-4a35-b770-c2729fb07b05",
   "metadata": {},
   "outputs": [],
   "source": [
    "# CSV from here: https://docs.google.com/spreadsheets/d/1aLw0zKcOQD7d16kmrjc6nFb_jdXmoEhSTJFzO2i5kPM/edit?usp=sharing"
   ]
  },
  {
   "cell_type": "code",
   "execution_count": 6,
   "id": "08cc99c1-1fd7-48bd-a8c0-f3195cb67457",
   "metadata": {},
   "outputs": [],
   "source": [
    "url = \"https://docs.google.com/spreadsheets/d/e/2PACX-1vQ5SEEqfwggc80EtHHb4s5eYd06ulLjJbOtNcjcGvktph-\\\n",
    "jCp9d8llRsUNs8BB9hM6Ze4IZ25AC9fRe/pub?gid=0&single=true&output=csv\""
   ]
  },
  {
   "cell_type": "markdown",
   "id": "ee6636f5-5318-49ba-aad2-87c1942c70d2",
   "metadata": {},
   "source": [
    "#### Read the data"
   ]
  },
  {
   "cell_type": "code",
   "execution_count": 12,
   "id": "6d8fffaa-b731-44be-b01d-5172cc9395bd",
   "metadata": {},
   "outputs": [],
   "source": [
    "df = pd.read_csv(url)"
   ]
  },
  {
   "cell_type": "markdown",
   "id": "17197d66-25ab-49a8-ac7a-f565bc1bd4d7",
   "metadata": {},
   "source": [
    "#### First five rows"
   ]
  },
  {
   "cell_type": "code",
   "execution_count": 13,
   "id": "72c0a236-de6c-4810-b32f-80361aa74b7b",
   "metadata": {},
   "outputs": [
    {
     "data": {
      "text/html": [
       "<div>\n",
       "<style scoped>\n",
       "    .dataframe tbody tr th:only-of-type {\n",
       "        vertical-align: middle;\n",
       "    }\n",
       "\n",
       "    .dataframe tbody tr th {\n",
       "        vertical-align: top;\n",
       "    }\n",
       "\n",
       "    .dataframe thead th {\n",
       "        text-align: right;\n",
       "    }\n",
       "</style>\n",
       "<table border=\"1\" class=\"dataframe\">\n",
       "  <thead>\n",
       "    <tr style=\"text-align: right;\">\n",
       "      <th></th>\n",
       "      <th>brand</th>\n",
       "      <th>colors</th>\n",
       "      <th>nuts</th>\n",
       "      <th>calories_per_serving</th>\n",
       "      <th>fat_per_serving</th>\n",
       "      <th>description</th>\n",
       "      <th>satisfacton_score</th>\n",
       "      <th>owner</th>\n",
       "      <th>group</th>\n",
       "      <th>id</th>\n",
       "      <th>weight</th>\n",
       "    </tr>\n",
       "  </thead>\n",
       "  <tbody>\n",
       "    <tr>\n",
       "      <th>0</th>\n",
       "      <td>Hershey's</td>\n",
       "      <td>Brown</td>\n",
       "      <td>False</td>\n",
       "      <td>60</td>\n",
       "      <td>3.5</td>\n",
       "      <td>Milk Chocolate</td>\n",
       "      <td>6</td>\n",
       "      <td>The Hershey Company</td>\n",
       "      <td>A</td>\n",
       "      <td>1</td>\n",
       "      <td>13.0</td>\n",
       "    </tr>\n",
       "    <tr>\n",
       "      <th>1</th>\n",
       "      <td>Hershey's</td>\n",
       "      <td>Brown</td>\n",
       "      <td>False</td>\n",
       "      <td>60</td>\n",
       "      <td>3.5</td>\n",
       "      <td>Milk Chocolate</td>\n",
       "      <td>5</td>\n",
       "      <td>The Hershey Company</td>\n",
       "      <td>A</td>\n",
       "      <td>2</td>\n",
       "      <td>13.0</td>\n",
       "    </tr>\n",
       "    <tr>\n",
       "      <th>2</th>\n",
       "      <td>Hershey's</td>\n",
       "      <td>Brown</td>\n",
       "      <td>False</td>\n",
       "      <td>60</td>\n",
       "      <td>3.5</td>\n",
       "      <td>Milk Chocolate</td>\n",
       "      <td>4</td>\n",
       "      <td>The Hershey Company</td>\n",
       "      <td>A</td>\n",
       "      <td>3</td>\n",
       "      <td>13.0</td>\n",
       "    </tr>\n",
       "    <tr>\n",
       "      <th>3</th>\n",
       "      <td>Hershey's</td>\n",
       "      <td>Brown</td>\n",
       "      <td>False</td>\n",
       "      <td>60</td>\n",
       "      <td>3.5</td>\n",
       "      <td>Milk Chocolate</td>\n",
       "      <td>5</td>\n",
       "      <td>The Hershey Company</td>\n",
       "      <td>A</td>\n",
       "      <td>4</td>\n",
       "      <td>13.0</td>\n",
       "    </tr>\n",
       "    <tr>\n",
       "      <th>4</th>\n",
       "      <td>Hershey's</td>\n",
       "      <td>Brown</td>\n",
       "      <td>False</td>\n",
       "      <td>60</td>\n",
       "      <td>3.5</td>\n",
       "      <td>Milk Chocolate</td>\n",
       "      <td>10</td>\n",
       "      <td>The Hershey Company</td>\n",
       "      <td>A</td>\n",
       "      <td>5</td>\n",
       "      <td>13.0</td>\n",
       "    </tr>\n",
       "  </tbody>\n",
       "</table>\n",
       "</div>"
      ],
      "text/plain": [
       "       brand colors   nuts  calories_per_serving  fat_per_serving  \\\n",
       "0  Hershey's  Brown  False                    60              3.5   \n",
       "1  Hershey's  Brown  False                    60              3.5   \n",
       "2  Hershey's  Brown  False                    60              3.5   \n",
       "3  Hershey's  Brown  False                    60              3.5   \n",
       "4  Hershey's  Brown  False                    60              3.5   \n",
       "\n",
       "      description  satisfacton_score                owner group  id  weight  \n",
       "0  Milk Chocolate                  6  The Hershey Company     A   1    13.0  \n",
       "1  Milk Chocolate                  5  The Hershey Company     A   2    13.0  \n",
       "2  Milk Chocolate                  4  The Hershey Company     A   3    13.0  \n",
       "3  Milk Chocolate                  5  The Hershey Company     A   4    13.0  \n",
       "4  Milk Chocolate                 10  The Hershey Company     A   5    13.0  "
      ]
     },
     "execution_count": 13,
     "metadata": {},
     "output_type": "execute_result"
    }
   ],
   "source": [
    "df.head()"
   ]
  },
  {
   "cell_type": "markdown",
   "id": "f8b88e94-54f6-4101-b706-533a382ea5c7",
   "metadata": {},
   "source": [
    "#### Last five rows"
   ]
  },
  {
   "cell_type": "code",
   "execution_count": 14,
   "id": "4d74318e-b576-4018-a7ef-46066d7bec88",
   "metadata": {},
   "outputs": [
    {
     "data": {
      "text/html": [
       "<div>\n",
       "<style scoped>\n",
       "    .dataframe tbody tr th:only-of-type {\n",
       "        vertical-align: middle;\n",
       "    }\n",
       "\n",
       "    .dataframe tbody tr th {\n",
       "        vertical-align: top;\n",
       "    }\n",
       "\n",
       "    .dataframe thead th {\n",
       "        text-align: right;\n",
       "    }\n",
       "</style>\n",
       "<table border=\"1\" class=\"dataframe\">\n",
       "  <thead>\n",
       "    <tr style=\"text-align: right;\">\n",
       "      <th></th>\n",
       "      <th>brand</th>\n",
       "      <th>colors</th>\n",
       "      <th>nuts</th>\n",
       "      <th>calories_per_serving</th>\n",
       "      <th>fat_per_serving</th>\n",
       "      <th>description</th>\n",
       "      <th>satisfacton_score</th>\n",
       "      <th>owner</th>\n",
       "      <th>group</th>\n",
       "      <th>id</th>\n",
       "      <th>weight</th>\n",
       "    </tr>\n",
       "  </thead>\n",
       "  <tbody>\n",
       "    <tr>\n",
       "      <th>55</th>\n",
       "      <td>3 Musketeers</td>\n",
       "      <td>Silver</td>\n",
       "      <td>False</td>\n",
       "      <td>26</td>\n",
       "      <td>0.7</td>\n",
       "      <td>Candy Bar</td>\n",
       "      <td>2</td>\n",
       "      <td>Mars Wrigley</td>\n",
       "      <td>B</td>\n",
       "      <td>56</td>\n",
       "      <td>11.3</td>\n",
       "    </tr>\n",
       "    <tr>\n",
       "      <th>56</th>\n",
       "      <td>3 Musketeers</td>\n",
       "      <td>Silver</td>\n",
       "      <td>False</td>\n",
       "      <td>26</td>\n",
       "      <td>0.7</td>\n",
       "      <td>Candy Bar</td>\n",
       "      <td>7</td>\n",
       "      <td>Mars Wrigley</td>\n",
       "      <td>B</td>\n",
       "      <td>57</td>\n",
       "      <td>11.3</td>\n",
       "    </tr>\n",
       "    <tr>\n",
       "      <th>57</th>\n",
       "      <td>3 Musketeers</td>\n",
       "      <td>Silver</td>\n",
       "      <td>False</td>\n",
       "      <td>26</td>\n",
       "      <td>0.7</td>\n",
       "      <td>Candy Bar</td>\n",
       "      <td>9</td>\n",
       "      <td>Mars Wrigley</td>\n",
       "      <td>B</td>\n",
       "      <td>58</td>\n",
       "      <td>11.3</td>\n",
       "    </tr>\n",
       "    <tr>\n",
       "      <th>58</th>\n",
       "      <td>3 Musketeers</td>\n",
       "      <td>Silver</td>\n",
       "      <td>False</td>\n",
       "      <td>26</td>\n",
       "      <td>0.7</td>\n",
       "      <td>Candy Bar</td>\n",
       "      <td>7</td>\n",
       "      <td>Mars Wrigley</td>\n",
       "      <td>B</td>\n",
       "      <td>59</td>\n",
       "      <td>11.3</td>\n",
       "    </tr>\n",
       "    <tr>\n",
       "      <th>59</th>\n",
       "      <td>3 Musketeers</td>\n",
       "      <td>Silver</td>\n",
       "      <td>False</td>\n",
       "      <td>26</td>\n",
       "      <td>0.7</td>\n",
       "      <td>Candy Bar</td>\n",
       "      <td>10</td>\n",
       "      <td>Mars Wrigley</td>\n",
       "      <td>B</td>\n",
       "      <td>60</td>\n",
       "      <td>11.3</td>\n",
       "    </tr>\n",
       "  </tbody>\n",
       "</table>\n",
       "</div>"
      ],
      "text/plain": [
       "           brand  colors   nuts  calories_per_serving  fat_per_serving  \\\n",
       "55  3 Musketeers  Silver  False                    26              0.7   \n",
       "56  3 Musketeers  Silver  False                    26              0.7   \n",
       "57  3 Musketeers  Silver  False                    26              0.7   \n",
       "58  3 Musketeers  Silver  False                    26              0.7   \n",
       "59  3 Musketeers  Silver  False                    26              0.7   \n",
       "\n",
       "   description  satisfacton_score         owner group  id  weight  \n",
       "55   Candy Bar                  2  Mars Wrigley     B  56    11.3  \n",
       "56   Candy Bar                  7  Mars Wrigley     B  57    11.3  \n",
       "57   Candy Bar                  9  Mars Wrigley     B  58    11.3  \n",
       "58   Candy Bar                  7  Mars Wrigley     B  59    11.3  \n",
       "59   Candy Bar                 10  Mars Wrigley     B  60    11.3  "
      ]
     },
     "execution_count": 14,
     "metadata": {},
     "output_type": "execute_result"
    }
   ],
   "source": [
    "df.tail()"
   ]
  },
  {
   "cell_type": "markdown",
   "id": "e2c1ea6a-af60-43a3-a09f-8564cb078af6",
   "metadata": {},
   "source": [
    "#### How many records? "
   ]
  },
  {
   "cell_type": "code",
   "execution_count": 15,
   "id": "be85d1fa-a9a1-4a1a-9d05-56a2d5f726b0",
   "metadata": {},
   "outputs": [
    {
     "data": {
      "text/plain": [
       "60"
      ]
     },
     "execution_count": 15,
     "metadata": {},
     "output_type": "execute_result"
    }
   ],
   "source": [
    "len(df)"
   ]
  },
  {
   "cell_type": "markdown",
   "id": "7b818250-ab0f-49e2-b896-d52dd46f9134",
   "metadata": {},
   "source": [
    "#### How many calories we talking? "
   ]
  },
  {
   "cell_type": "code",
   "execution_count": 17,
   "id": "41c9a820-db89-4d19-9417-7b540fad0262",
   "metadata": {},
   "outputs": [
    {
     "data": {
      "text/plain": [
       "3416"
      ]
     },
     "execution_count": 17,
     "metadata": {},
     "output_type": "execute_result"
    }
   ],
   "source": [
    "df['calories_per_serving'].sum()"
   ]
  },
  {
   "cell_type": "code",
   "execution_count": 18,
   "id": "e9c4ceda-8510-4a38-a3ab-74b1f19887d7",
   "metadata": {},
   "outputs": [
    {
     "data": {
      "text/plain": [
       "172.19999999999993"
      ]
     },
     "execution_count": 18,
     "metadata": {},
     "output_type": "execute_result"
    }
   ],
   "source": [
    "df['fat_per_serving'].sum()"
   ]
  },
  {
   "cell_type": "markdown",
   "id": "c0a043a0-e696-4800-acc1-de3ecbf991c5",
   "metadata": {},
   "source": [
    "#### Just those with peanuts"
   ]
  },
  {
   "cell_type": "code",
   "execution_count": 20,
   "id": "c91cf5ee-31a4-4e0f-963d-0c2cb2c67fdc",
   "metadata": {},
   "outputs": [
    {
     "data": {
      "text/plain": [
       "26"
      ]
     },
     "execution_count": 20,
     "metadata": {},
     "output_type": "execute_result"
    }
   ],
   "source": [
    "len(df[df['nuts'] == True])"
   ]
  },
  {
   "cell_type": "code",
   "execution_count": 21,
   "id": "5ab559a2-fcb1-4620-9faf-e4927b9e4dcd",
   "metadata": {},
   "outputs": [
    {
     "data": {
      "text/plain": [
       "34"
      ]
     },
     "execution_count": 21,
     "metadata": {},
     "output_type": "execute_result"
    }
   ],
   "source": [
    "len(df[df['nuts'] == False])"
   ]
  },
  {
   "cell_type": "markdown",
   "id": "930cca37-62d2-47f6-b7b1-fd0afd246b4a",
   "metadata": {},
   "source": [
    "#### Just those with a user rating above 5"
   ]
  },
  {
   "cell_type": "code",
   "execution_count": 22,
   "id": "4c16b63e-ee11-4d1c-972a-c9be8fa31b75",
   "metadata": {},
   "outputs": [
    {
     "data": {
      "text/plain": [
       "29"
      ]
     },
     "execution_count": 22,
     "metadata": {},
     "output_type": "execute_result"
    }
   ],
   "source": [
    "len(df[df['satisfacton_score'] > 5])"
   ]
  },
  {
   "cell_type": "code",
   "execution_count": 24,
   "id": "20931e79-73ab-492d-9aa0-2e11d75cbb3b",
   "metadata": {},
   "outputs": [
    {
     "data": {
      "text/html": [
       "<div>\n",
       "<style scoped>\n",
       "    .dataframe tbody tr th:only-of-type {\n",
       "        vertical-align: middle;\n",
       "    }\n",
       "\n",
       "    .dataframe tbody tr th {\n",
       "        vertical-align: top;\n",
       "    }\n",
       "\n",
       "    .dataframe thead th {\n",
       "        text-align: right;\n",
       "    }\n",
       "</style>\n",
       "<table border=\"1\" class=\"dataframe\">\n",
       "  <thead>\n",
       "    <tr style=\"text-align: right;\">\n",
       "      <th></th>\n",
       "      <th>brand</th>\n",
       "      <th>colors</th>\n",
       "      <th>nuts</th>\n",
       "      <th>calories_per_serving</th>\n",
       "      <th>fat_per_serving</th>\n",
       "      <th>description</th>\n",
       "      <th>satisfacton_score</th>\n",
       "      <th>owner</th>\n",
       "      <th>group</th>\n",
       "      <th>id</th>\n",
       "      <th>weight</th>\n",
       "    </tr>\n",
       "  </thead>\n",
       "  <tbody>\n",
       "    <tr>\n",
       "      <th>4</th>\n",
       "      <td>Hershey's</td>\n",
       "      <td>Brown</td>\n",
       "      <td>False</td>\n",
       "      <td>60</td>\n",
       "      <td>3.50</td>\n",
       "      <td>Milk Chocolate</td>\n",
       "      <td>10</td>\n",
       "      <td>The Hershey Company</td>\n",
       "      <td>A</td>\n",
       "      <td>5</td>\n",
       "      <td>13.0</td>\n",
       "    </tr>\n",
       "    <tr>\n",
       "      <th>5</th>\n",
       "      <td>Hershey's</td>\n",
       "      <td>Brown</td>\n",
       "      <td>False</td>\n",
       "      <td>60</td>\n",
       "      <td>3.50</td>\n",
       "      <td>Milk Chocolate</td>\n",
       "      <td>10</td>\n",
       "      <td>The Hershey Company</td>\n",
       "      <td>A</td>\n",
       "      <td>6</td>\n",
       "      <td>13.0</td>\n",
       "    </tr>\n",
       "    <tr>\n",
       "      <th>9</th>\n",
       "      <td>KitKat</td>\n",
       "      <td>Red</td>\n",
       "      <td>False</td>\n",
       "      <td>70</td>\n",
       "      <td>3.50</td>\n",
       "      <td>Wafer Bar</td>\n",
       "      <td>10</td>\n",
       "      <td>The Hershey Company</td>\n",
       "      <td>A</td>\n",
       "      <td>10</td>\n",
       "      <td>14.0</td>\n",
       "    </tr>\n",
       "    <tr>\n",
       "      <th>32</th>\n",
       "      <td>Snickers</td>\n",
       "      <td>Brown</td>\n",
       "      <td>True</td>\n",
       "      <td>43</td>\n",
       "      <td>2.00</td>\n",
       "      <td>Candy Bar</td>\n",
       "      <td>10</td>\n",
       "      <td>Mars Wrigley</td>\n",
       "      <td>B</td>\n",
       "      <td>33</td>\n",
       "      <td>9.0</td>\n",
       "    </tr>\n",
       "    <tr>\n",
       "      <th>49</th>\n",
       "      <td>Txix</td>\n",
       "      <td>Gold</td>\n",
       "      <td>False</td>\n",
       "      <td>50</td>\n",
       "      <td>2.33</td>\n",
       "      <td>Cookie Bar</td>\n",
       "      <td>10</td>\n",
       "      <td>Mars Wrigley</td>\n",
       "      <td>B</td>\n",
       "      <td>50</td>\n",
       "      <td>10.0</td>\n",
       "    </tr>\n",
       "    <tr>\n",
       "      <th>54</th>\n",
       "      <td>3 Musketeers</td>\n",
       "      <td>Silver</td>\n",
       "      <td>False</td>\n",
       "      <td>26</td>\n",
       "      <td>0.70</td>\n",
       "      <td>Candy Bar</td>\n",
       "      <td>10</td>\n",
       "      <td>Mars Wrigley</td>\n",
       "      <td>B</td>\n",
       "      <td>55</td>\n",
       "      <td>11.3</td>\n",
       "    </tr>\n",
       "    <tr>\n",
       "      <th>59</th>\n",
       "      <td>3 Musketeers</td>\n",
       "      <td>Silver</td>\n",
       "      <td>False</td>\n",
       "      <td>26</td>\n",
       "      <td>0.70</td>\n",
       "      <td>Candy Bar</td>\n",
       "      <td>10</td>\n",
       "      <td>Mars Wrigley</td>\n",
       "      <td>B</td>\n",
       "      <td>60</td>\n",
       "      <td>11.3</td>\n",
       "    </tr>\n",
       "  </tbody>\n",
       "</table>\n",
       "</div>"
      ],
      "text/plain": [
       "           brand  colors   nuts  calories_per_serving  fat_per_serving  \\\n",
       "4      Hershey's   Brown  False                    60             3.50   \n",
       "5      Hershey's   Brown  False                    60             3.50   \n",
       "9         KitKat     Red  False                    70             3.50   \n",
       "32      Snickers   Brown   True                    43             2.00   \n",
       "49          Txix    Gold  False                    50             2.33   \n",
       "54  3 Musketeers  Silver  False                    26             0.70   \n",
       "59  3 Musketeers  Silver  False                    26             0.70   \n",
       "\n",
       "       description  satisfacton_score                owner group  id  weight  \n",
       "4   Milk Chocolate                 10  The Hershey Company     A   5    13.0  \n",
       "5   Milk Chocolate                 10  The Hershey Company     A   6    13.0  \n",
       "9        Wafer Bar                 10  The Hershey Company     A  10    14.0  \n",
       "32       Candy Bar                 10         Mars Wrigley     B  33     9.0  \n",
       "49      Cookie Bar                 10         Mars Wrigley     B  50    10.0  \n",
       "54       Candy Bar                 10         Mars Wrigley     B  55    11.3  \n",
       "59       Candy Bar                 10         Mars Wrigley     B  60    11.3  "
      ]
     },
     "execution_count": 24,
     "metadata": {},
     "output_type": "execute_result"
    }
   ],
   "source": [
    "df[df['satisfacton_score'] > 9]"
   ]
  },
  {
   "cell_type": "markdown",
   "id": "bca10464-092c-4493-ac6e-8b45fdc6a0cf",
   "metadata": {},
   "source": [
    "---"
   ]
  },
  {
   "cell_type": "markdown",
   "id": "0503cb39-ffdb-4988-9c82-15594a229a66",
   "metadata": {},
   "source": [
    "#### How many of each brand? "
   ]
  },
  {
   "cell_type": "code",
   "execution_count": 25,
   "id": "3540a5f1-9343-4c9b-b7dc-5276266aa32f",
   "metadata": {},
   "outputs": [
    {
     "data": {
      "text/plain": [
       "brand\n",
       "3 Musketeers     7\n",
       "Almond Joy       7\n",
       "Hershey's        9\n",
       "KitKat           8\n",
       "Reese's          6\n",
       "Snickers        13\n",
       "Txix            10\n",
       "Name: id, dtype: int64"
      ]
     },
     "execution_count": 25,
     "metadata": {},
     "output_type": "execute_result"
    }
   ],
   "source": [
    "df.groupby(['brand'])['id'].count()"
   ]
  },
  {
   "cell_type": "code",
   "execution_count": 27,
   "id": "aca072bf-92ac-4b82-b12f-6f342a617914",
   "metadata": {},
   "outputs": [
    {
     "data": {
      "text/html": [
       "<div>\n",
       "<style scoped>\n",
       "    .dataframe tbody tr th:only-of-type {\n",
       "        vertical-align: middle;\n",
       "    }\n",
       "\n",
       "    .dataframe tbody tr th {\n",
       "        vertical-align: top;\n",
       "    }\n",
       "\n",
       "    .dataframe thead th {\n",
       "        text-align: right;\n",
       "    }\n",
       "</style>\n",
       "<table border=\"1\" class=\"dataframe\">\n",
       "  <thead>\n",
       "    <tr style=\"text-align: right;\">\n",
       "      <th></th>\n",
       "      <th>brand</th>\n",
       "      <th>id</th>\n",
       "      <th>satisfacton_score</th>\n",
       "    </tr>\n",
       "  </thead>\n",
       "  <tbody>\n",
       "    <tr>\n",
       "      <th>0</th>\n",
       "      <td>3 Musketeers</td>\n",
       "      <td>7</td>\n",
       "      <td>7.285714</td>\n",
       "    </tr>\n",
       "    <tr>\n",
       "      <th>1</th>\n",
       "      <td>Almond Joy</td>\n",
       "      <td>7</td>\n",
       "      <td>5.142857</td>\n",
       "    </tr>\n",
       "    <tr>\n",
       "      <th>2</th>\n",
       "      <td>Hershey's</td>\n",
       "      <td>9</td>\n",
       "      <td>5.888889</td>\n",
       "    </tr>\n",
       "    <tr>\n",
       "      <th>3</th>\n",
       "      <td>KitKat</td>\n",
       "      <td>8</td>\n",
       "      <td>5.750000</td>\n",
       "    </tr>\n",
       "    <tr>\n",
       "      <th>4</th>\n",
       "      <td>Reese's</td>\n",
       "      <td>6</td>\n",
       "      <td>4.833333</td>\n",
       "    </tr>\n",
       "    <tr>\n",
       "      <th>5</th>\n",
       "      <td>Snickers</td>\n",
       "      <td>13</td>\n",
       "      <td>5.153846</td>\n",
       "    </tr>\n",
       "    <tr>\n",
       "      <th>6</th>\n",
       "      <td>Txix</td>\n",
       "      <td>10</td>\n",
       "      <td>5.200000</td>\n",
       "    </tr>\n",
       "  </tbody>\n",
       "</table>\n",
       "</div>"
      ],
      "text/plain": [
       "          brand  id  satisfacton_score\n",
       "0  3 Musketeers   7           7.285714\n",
       "1    Almond Joy   7           5.142857\n",
       "2     Hershey's   9           5.888889\n",
       "3        KitKat   8           5.750000\n",
       "4       Reese's   6           4.833333\n",
       "5      Snickers  13           5.153846\n",
       "6          Txix  10           5.200000"
      ]
     },
     "execution_count": 27,
     "metadata": {},
     "output_type": "execute_result"
    }
   ],
   "source": [
    "df.groupby(['brand']).agg({'id': 'count', 'satisfacton_score':'mean'}).reset_index()"
   ]
  },
  {
   "cell_type": "markdown",
   "id": "c9d79edc-0d43-4502-943e-ee9d404f93c4",
   "metadata": {},
   "source": [
    "#### How many of each color? "
   ]
  },
  {
   "cell_type": "code",
   "execution_count": 29,
   "id": "f9c263b6-396e-46db-82eb-147b9d5dec34",
   "metadata": {},
   "outputs": [
    {
     "data": {
      "text/plain": [
       "colors\n",
       "Blue       7\n",
       "Brown     22\n",
       "Gold      10\n",
       "Orange     6\n",
       "Red        8\n",
       "Silver     7\n",
       "Name: id, dtype: int64"
      ]
     },
     "execution_count": 29,
     "metadata": {},
     "output_type": "execute_result"
    }
   ],
   "source": [
    "df.groupby(['colors'])['id'].count()"
   ]
  },
  {
   "cell_type": "markdown",
   "id": "d6525494-9952-4bb2-a941-ea245badeb55",
   "metadata": {},
   "source": [
    "#### What's the average user rating for each brand? "
   ]
  },
  {
   "cell_type": "code",
   "execution_count": 30,
   "id": "ed728c8f-2e2b-4802-9291-b422d830b007",
   "metadata": {},
   "outputs": [
    {
     "data": {
      "text/plain": [
       "brand\n",
       "3 Musketeers    7.285714\n",
       "Almond Joy      5.142857\n",
       "Hershey's       5.888889\n",
       "KitKat          5.750000\n",
       "Reese's         4.833333\n",
       "Snickers        5.153846\n",
       "Txix            5.200000\n",
       "Name: satisfacton_score, dtype: float64"
      ]
     },
     "execution_count": 30,
     "metadata": {},
     "output_type": "execute_result"
    }
   ],
   "source": [
    "df.groupby(['brand'])['satisfacton_score'].mean()"
   ]
  },
  {
   "cell_type": "markdown",
   "id": "e7a9fcbd-b47a-4f20-b635-db073eb40ae8",
   "metadata": {},
   "source": [
    "#### What's the average rating for products related to peanuts? "
   ]
  },
  {
   "cell_type": "code",
   "execution_count": null,
   "id": "2fae28b3-ed4a-4984-88ee-83c6db7b3f70",
   "metadata": {},
   "outputs": [],
   "source": []
  },
  {
   "cell_type": "markdown",
   "id": "0ef7eaae-c1cc-49f9-b0f7-de9e724fde0c",
   "metadata": {},
   "source": [
    "#### What's the average rating for products related to color? "
   ]
  },
  {
   "cell_type": "code",
   "execution_count": null,
   "id": "4d216169-5e2d-4c52-980d-e12a7959f48c",
   "metadata": {},
   "outputs": [],
   "source": [
    "df.groupby()"
   ]
  },
  {
   "cell_type": "markdown",
   "id": "7d763c7d-f276-47f2-9ea3-e6a5d14a59ae",
   "metadata": {},
   "source": [
    "---"
   ]
  },
  {
   "cell_type": "markdown",
   "id": "2b9dc720-3d33-4df8-9b68-e5a80f7cf675",
   "metadata": {},
   "source": [
    "#### What's the average calories, by type? "
   ]
  },
  {
   "cell_type": "code",
   "execution_count": null,
   "id": "9921fdec-220c-49d0-a0ab-fb68e66a4010",
   "metadata": {},
   "outputs": [],
   "source": []
  },
  {
   "cell_type": "markdown",
   "id": "794aea91-a455-42b7-8753-aa0bbeb88af0",
   "metadata": {},
   "source": [
    "#### Fat?"
   ]
  },
  {
   "cell_type": "code",
   "execution_count": null,
   "id": "ebf62e44-7971-47fb-92d8-5f8d871d9d11",
   "metadata": {},
   "outputs": [],
   "source": []
  },
  {
   "cell_type": "markdown",
   "id": "fa7dfd0c-0d1a-433c-8f24-ee49885df083",
   "metadata": {},
   "source": [
    "#### What if you ate all the Snickers. How many calories? "
   ]
  },
  {
   "cell_type": "code",
   "execution_count": null,
   "id": "d837d601-08f7-4bb0-94be-3123cc281e3c",
   "metadata": {},
   "outputs": [],
   "source": []
  },
  {
   "cell_type": "code",
   "execution_count": null,
   "id": "d21f51f2-b78f-4793-8899-c80feaf983f1",
   "metadata": {},
   "outputs": [],
   "source": []
  },
  {
   "cell_type": "markdown",
   "id": "a0e2d32a-6bad-44a8-9eb7-4c50071f9a86",
   "metadata": {},
   "source": [
    "#### Which owner has the highest average user score? "
   ]
  },
  {
   "cell_type": "code",
   "execution_count": null,
   "id": "d3c89fe0-451d-4a58-b0e6-f3dda98ae08f",
   "metadata": {},
   "outputs": [],
   "source": []
  },
  {
   "cell_type": "markdown",
   "id": "42b6a8e8-d116-4680-9b35-4f9c82a3f325",
   "metadata": {},
   "source": [
    "#### What other questions? "
   ]
  },
  {
   "cell_type": "code",
   "execution_count": null,
   "id": "5a096c0b-b143-4eb5-8165-b700e6056e5c",
   "metadata": {},
   "outputs": [],
   "source": []
  },
  {
   "cell_type": "code",
   "execution_count": null,
   "id": "d7d5375a-91a4-4149-af9c-4c53534b300c",
   "metadata": {},
   "outputs": [],
   "source": []
  },
  {
   "cell_type": "code",
   "execution_count": null,
   "id": "158370c0-599e-4bce-8f9a-f21df78bb631",
   "metadata": {},
   "outputs": [],
   "source": []
  },
  {
   "cell_type": "code",
   "execution_count": null,
   "id": "7ef58bae-4cd3-4096-a282-22a67dc9eac6",
   "metadata": {},
   "outputs": [],
   "source": []
  }
 ],
 "metadata": {
  "kernelspec": {
   "display_name": "Python 3",
   "language": "python",
   "name": "python3"
  },
  "language_info": {
   "codemirror_mode": {
    "name": "ipython",
    "version": 3
   },
   "file_extension": ".py",
   "mimetype": "text/x-python",
   "name": "python",
   "nbconvert_exporter": "python",
   "pygments_lexer": "ipython3",
   "version": "3.8.8"
  }
 },
 "nbformat": 4,
 "nbformat_minor": 5
}
