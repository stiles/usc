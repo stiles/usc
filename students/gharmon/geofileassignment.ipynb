{
 "cells": [
  {
   "cell_type": "code",
   "execution_count": 6,
   "id": "9a8fbfed-0555-4111-b994-9afc834b9b1f",
   "metadata": {},
   "outputs": [
    {
     "name": "stdout",
     "output_type": "stream",
     "text": [
      "Collecting geojson\n",
      "  Downloading geojson-2.5.0-py2.py3-none-any.whl (14 kB)\n",
      "Installing collected packages: geojson\n",
      "Successfully installed geojson-2.5.0\n"
     ]
    }
   ],
   "source": [
    "!pip install geojson"
   ]
  },
  {
   "cell_type": "code",
   "execution_count": 8,
   "id": "013dc23a-2978-4378-99d5-c42ce8172a91",
   "metadata": {},
   "outputs": [
    {
     "name": "stdout",
     "output_type": "stream",
     "text": [
      "The lab_black extension is already loaded. To reload it, use:\n",
      "  %reload_ext lab_black\n"
     ]
    }
   ],
   "source": [
    "%load_ext lab_black\n",
    "import pandas as pd\n",
    "import geopandas as gpd"
   ]
  },
  {
   "cell_type": "code",
   "execution_count": 12,
   "id": "0468e3a1-36d9-403f-901e-451d50ac69eb",
   "metadata": {},
   "outputs": [],
   "source": [
    "zips_df = gpd.read_file(\"All_Zip_Codes_(LA_County).geojson\")"
   ]
  },
  {
   "cell_type": "code",
   "execution_count": 18,
   "id": "1baa5e49-0fbb-4466-8a10-5b1dc0ef6c21",
   "metadata": {},
   "outputs": [
    {
     "data": {
      "text/html": [
       "<div>\n",
       "<style scoped>\n",
       "    .dataframe tbody tr th:only-of-type {\n",
       "        vertical-align: middle;\n",
       "    }\n",
       "\n",
       "    .dataframe tbody tr th {\n",
       "        vertical-align: top;\n",
       "    }\n",
       "\n",
       "    .dataframe thead th {\n",
       "        text-align: right;\n",
       "    }\n",
       "</style>\n",
       "<table border=\"1\" class=\"dataframe\">\n",
       "  <thead>\n",
       "    <tr style=\"text-align: right;\">\n",
       "      <th></th>\n",
       "      <th>OBJECTID</th>\n",
       "      <th>ZIPCODE</th>\n",
       "      <th>ZIP</th>\n",
       "      <th>TOOLTIP</th>\n",
       "      <th>NLA_URL</th>\n",
       "      <th>geometry</th>\n",
       "    </tr>\n",
       "  </thead>\n",
       "  <tbody>\n",
       "    <tr>\n",
       "      <th>0</th>\n",
       "      <td>1</td>\n",
       "      <td>90001</td>\n",
       "      <td>90001</td>\n",
       "      <td>Zip Code: 90001</td>\n",
       "      <td>navigatela/reports/zipcode_county_report.cfm?p...</td>\n",
       "      <td>POLYGON ((-118.24338 33.98924, -118.24348 33.9...</td>\n",
       "    </tr>\n",
       "    <tr>\n",
       "      <th>1</th>\n",
       "      <td>2</td>\n",
       "      <td>90002</td>\n",
       "      <td>90002</td>\n",
       "      <td>Zip Code: 90002</td>\n",
       "      <td>navigatela/reports/zipcode_county_report.cfm?p...</td>\n",
       "      <td>POLYGON ((-118.23431 33.96101, -118.23442 33.9...</td>\n",
       "    </tr>\n",
       "    <tr>\n",
       "      <th>2</th>\n",
       "      <td>3</td>\n",
       "      <td>90003</td>\n",
       "      <td>90003</td>\n",
       "      <td>Zip Code: 90003</td>\n",
       "      <td>navigatela/reports/zipcode_county_report.cfm?p...</td>\n",
       "      <td>POLYGON ((-118.28285 33.97597, -118.28285 33.9...</td>\n",
       "    </tr>\n",
       "    <tr>\n",
       "      <th>3</th>\n",
       "      <td>4</td>\n",
       "      <td>90004</td>\n",
       "      <td>90004</td>\n",
       "      <td>Zip Code: 90004</td>\n",
       "      <td>navigatela/reports/zipcode_county_report.cfm?p...</td>\n",
       "      <td>POLYGON ((-118.28410 34.08349, -118.28438 34.0...</td>\n",
       "    </tr>\n",
       "    <tr>\n",
       "      <th>4</th>\n",
       "      <td>5</td>\n",
       "      <td>90005</td>\n",
       "      <td>90005</td>\n",
       "      <td>Zip Code: 90005</td>\n",
       "      <td>navigatela/reports/zipcode_county_report.cfm?p...</td>\n",
       "      <td>MULTIPOLYGON (((-118.33652 34.06190, -118.3367...</td>\n",
       "    </tr>\n",
       "    <tr>\n",
       "      <th>5</th>\n",
       "      <td>6</td>\n",
       "      <td>90006</td>\n",
       "      <td>90006</td>\n",
       "      <td>Zip Code: 90006</td>\n",
       "      <td>navigatela/reports/zipcode_county_report.cfm?p...</td>\n",
       "      <td>POLYGON ((-118.28438 34.05604, -118.28438 34.0...</td>\n",
       "    </tr>\n",
       "    <tr>\n",
       "      <th>6</th>\n",
       "      <td>7</td>\n",
       "      <td>90007</td>\n",
       "      <td>90007</td>\n",
       "      <td>Zip Code: 90007</td>\n",
       "      <td>navigatela/reports/zipcode_county_report.cfm?p...</td>\n",
       "      <td>POLYGON ((-118.28269 34.03937, -118.28287 34.0...</td>\n",
       "    </tr>\n",
       "    <tr>\n",
       "      <th>7</th>\n",
       "      <td>8</td>\n",
       "      <td>90008</td>\n",
       "      <td>90008</td>\n",
       "      <td>Zip Code: 90008</td>\n",
       "      <td>navigatela/reports/zipcode_county_report.cfm?p...</td>\n",
       "      <td>POLYGON ((-118.36738 34.01807, -118.36763 34.0...</td>\n",
       "    </tr>\n",
       "    <tr>\n",
       "      <th>8</th>\n",
       "      <td>9</td>\n",
       "      <td>90010</td>\n",
       "      <td>90010</td>\n",
       "      <td>Zip Code: 90010</td>\n",
       "      <td>navigatela/reports/zipcode_county_report.cfm?p...</td>\n",
       "      <td>POLYGON ((-118.32776 34.06240, -118.32875 34.0...</td>\n",
       "    </tr>\n",
       "    <tr>\n",
       "      <th>9</th>\n",
       "      <td>10</td>\n",
       "      <td>90011</td>\n",
       "      <td>90011</td>\n",
       "      <td>Zip Code: 90011</td>\n",
       "      <td>navigatela/reports/zipcode_county_report.cfm?p...</td>\n",
       "      <td>POLYGON ((-118.24348 34.00247, -118.24348 34.0...</td>\n",
       "    </tr>\n",
       "    <tr>\n",
       "      <th>10</th>\n",
       "      <td>11</td>\n",
       "      <td>90012</td>\n",
       "      <td>90012</td>\n",
       "      <td>Zip Code: 90012</td>\n",
       "      <td>navigatela/reports/zipcode_county_report.cfm?p...</td>\n",
       "      <td>POLYGON ((-118.24165 34.09262, -118.24321 34.0...</td>\n",
       "    </tr>\n",
       "    <tr>\n",
       "      <th>11</th>\n",
       "      <td>12</td>\n",
       "      <td>90013</td>\n",
       "      <td>90013</td>\n",
       "      <td>Zip Code: 90013</td>\n",
       "      <td>navigatela/reports/zipcode_county_report.cfm?p...</td>\n",
       "      <td>POLYGON ((-118.25059 34.05275, -118.25106 34.0...</td>\n",
       "    </tr>\n",
       "    <tr>\n",
       "      <th>12</th>\n",
       "      <td>13</td>\n",
       "      <td>90014</td>\n",
       "      <td>90014</td>\n",
       "      <td>Zip Code: 90014</td>\n",
       "      <td>navigatela/reports/zipcode_county_report.cfm?p...</td>\n",
       "      <td>POLYGON ((-118.25466 34.04861, -118.25502 34.0...</td>\n",
       "    </tr>\n",
       "    <tr>\n",
       "      <th>13</th>\n",
       "      <td>14</td>\n",
       "      <td>90015</td>\n",
       "      <td>90015</td>\n",
       "      <td>Zip Code: 90015</td>\n",
       "      <td>navigatela/reports/zipcode_county_report.cfm?p...</td>\n",
       "      <td>POLYGON ((-118.27482 34.05184, -118.27526 34.0...</td>\n",
       "    </tr>\n",
       "    <tr>\n",
       "      <th>14</th>\n",
       "      <td>15</td>\n",
       "      <td>90016</td>\n",
       "      <td>90016</td>\n",
       "      <td>Zip Code: 90016</td>\n",
       "      <td>navigatela/reports/zipcode_county_report.cfm?p...</td>\n",
       "      <td>POLYGON ((-118.35503 34.04160, -118.35494 34.0...</td>\n",
       "    </tr>\n",
       "  </tbody>\n",
       "</table>\n",
       "</div>"
      ],
      "text/plain": [
       "    OBJECTID ZIPCODE    ZIP          TOOLTIP  \\\n",
       "0          1   90001  90001  Zip Code: 90001   \n",
       "1          2   90002  90002  Zip Code: 90002   \n",
       "2          3   90003  90003  Zip Code: 90003   \n",
       "3          4   90004  90004  Zip Code: 90004   \n",
       "4          5   90005  90005  Zip Code: 90005   \n",
       "5          6   90006  90006  Zip Code: 90006   \n",
       "6          7   90007  90007  Zip Code: 90007   \n",
       "7          8   90008  90008  Zip Code: 90008   \n",
       "8          9   90010  90010  Zip Code: 90010   \n",
       "9         10   90011  90011  Zip Code: 90011   \n",
       "10        11   90012  90012  Zip Code: 90012   \n",
       "11        12   90013  90013  Zip Code: 90013   \n",
       "12        13   90014  90014  Zip Code: 90014   \n",
       "13        14   90015  90015  Zip Code: 90015   \n",
       "14        15   90016  90016  Zip Code: 90016   \n",
       "\n",
       "                                              NLA_URL  \\\n",
       "0   navigatela/reports/zipcode_county_report.cfm?p...   \n",
       "1   navigatela/reports/zipcode_county_report.cfm?p...   \n",
       "2   navigatela/reports/zipcode_county_report.cfm?p...   \n",
       "3   navigatela/reports/zipcode_county_report.cfm?p...   \n",
       "4   navigatela/reports/zipcode_county_report.cfm?p...   \n",
       "5   navigatela/reports/zipcode_county_report.cfm?p...   \n",
       "6   navigatela/reports/zipcode_county_report.cfm?p...   \n",
       "7   navigatela/reports/zipcode_county_report.cfm?p...   \n",
       "8   navigatela/reports/zipcode_county_report.cfm?p...   \n",
       "9   navigatela/reports/zipcode_county_report.cfm?p...   \n",
       "10  navigatela/reports/zipcode_county_report.cfm?p...   \n",
       "11  navigatela/reports/zipcode_county_report.cfm?p...   \n",
       "12  navigatela/reports/zipcode_county_report.cfm?p...   \n",
       "13  navigatela/reports/zipcode_county_report.cfm?p...   \n",
       "14  navigatela/reports/zipcode_county_report.cfm?p...   \n",
       "\n",
       "                                             geometry  \n",
       "0   POLYGON ((-118.24338 33.98924, -118.24348 33.9...  \n",
       "1   POLYGON ((-118.23431 33.96101, -118.23442 33.9...  \n",
       "2   POLYGON ((-118.28285 33.97597, -118.28285 33.9...  \n",
       "3   POLYGON ((-118.28410 34.08349, -118.28438 34.0...  \n",
       "4   MULTIPOLYGON (((-118.33652 34.06190, -118.3367...  \n",
       "5   POLYGON ((-118.28438 34.05604, -118.28438 34.0...  \n",
       "6   POLYGON ((-118.28269 34.03937, -118.28287 34.0...  \n",
       "7   POLYGON ((-118.36738 34.01807, -118.36763 34.0...  \n",
       "8   POLYGON ((-118.32776 34.06240, -118.32875 34.0...  \n",
       "9   POLYGON ((-118.24348 34.00247, -118.24348 34.0...  \n",
       "10  POLYGON ((-118.24165 34.09262, -118.24321 34.0...  \n",
       "11  POLYGON ((-118.25059 34.05275, -118.25106 34.0...  \n",
       "12  POLYGON ((-118.25466 34.04861, -118.25502 34.0...  \n",
       "13  POLYGON ((-118.27482 34.05184, -118.27526 34.0...  \n",
       "14  POLYGON ((-118.35503 34.04160, -118.35494 34.0...  "
      ]
     },
     "execution_count": 18,
     "metadata": {},
     "output_type": "execute_result"
    }
   ],
   "source": [
    "zips_df.head(15)"
   ]
  },
  {
   "cell_type": "code",
   "execution_count": 14,
   "id": "15757097-8214-4f3b-82a4-9a7d7a1de90a",
   "metadata": {},
   "outputs": [
    {
     "data": {
      "text/plain": [
       "<AxesSubplot:>"
      ]
     },
     "execution_count": 14,
     "metadata": {},
     "output_type": "execute_result"
    },
    {
     "data": {
      "image/png": "[encoded data removed]",
      "text/plain": [
       "<Figure size 432x288 with 1 Axes>"
      ]
     },
     "metadata": {
      "needs_background": "light"
     },
     "output_type": "display_data"
    }
   ],
   "source": [
    "zips_df.plot()"
   ]
  },
  {
   "cell_type": "markdown",
   "id": "97f9cbb2-b87a-48b9-a85b-ceafe8ad4d65",
   "metadata": {},
   "source": [
    "### Filter just for ZIP codes in DTLA"
   ]
  },
  {
   "cell_type": "code",
   "execution_count": 32,
   "id": "ba5db47a-7980-436c-aab3-f10096e0f51b",
   "metadata": {},
   "outputs": [],
   "source": [
    "downtown_zips = [\"90012\", \"90013\", \"90014\", \"90015\", \"90017\", \"90021\", \"90071\"]"
   ]
  },
  {
   "cell_type": "code",
   "execution_count": 34,
   "id": "7a395fd9-0ba6-4e6e-8e10-8976d8ff9d50",
   "metadata": {},
   "outputs": [],
   "source": [
    "downtown_zips_df = zips_df[zips_df[\"ZIPCODE\"].isin(downtown_zips)]"
   ]
  },
  {
   "cell_type": "code",
   "execution_count": 35,
   "id": "713e34b0-7761-4be0-86d7-97ed6a556cd8",
   "metadata": {},
   "outputs": [
    {
     "name": "stdout",
     "output_type": "stream",
     "text": [
      "    OBJECTID ZIPCODE    ZIP          TOOLTIP  \\\n",
      "10        11   90012  90012  Zip Code: 90012   \n",
      "11        12   90013  90013  Zip Code: 90013   \n",
      "12        13   90014  90014  Zip Code: 90014   \n",
      "13        14   90015  90015  Zip Code: 90015   \n",
      "15        16   90017  90017  Zip Code: 90017   \n",
      "19        20   90021  90021  Zip Code: 90021   \n",
      "60        61   90071  90071  Zip Code: 90071   \n",
      "\n",
      "                                              NLA_URL  \\\n",
      "10  navigatela/reports/zipcode_county_report.cfm?p...   \n",
      "11  navigatela/reports/zipcode_county_report.cfm?p...   \n",
      "12  navigatela/reports/zipcode_county_report.cfm?p...   \n",
      "13  navigatela/reports/zipcode_county_report.cfm?p...   \n",
      "15  navigatela/reports/zipcode_county_report.cfm?p...   \n",
      "19  navigatela/reports/zipcode_county_report.cfm?p...   \n",
      "60  navigatela/reports/zipcode_county_report.cfm?p...   \n",
      "\n",
      "                                             geometry  \n",
      "10  POLYGON ((-118.24165 34.09262, -118.24321 34.0...  \n",
      "11  POLYGON ((-118.25059 34.05275, -118.25106 34.0...  \n",
      "12  POLYGON ((-118.25466 34.04861, -118.25502 34.0...  \n",
      "13  POLYGON ((-118.27482 34.05184, -118.27526 34.0...  \n",
      "15  POLYGON ((-118.26839 34.06118, -118.26859 34.0...  \n",
      "19  POLYGON ((-118.24468 34.04205, -118.24477 34.0...  \n",
      "60  POLYGON ((-118.25502 34.05547, -118.25563 34.0...  \n"
     ]
    }
   ],
   "source": [
    "print(downtown_zips_df)"
   ]
  },
  {
   "cell_type": "markdown",
   "id": "ac8cfb1c-165c-4a20-8fe8-d8a03565b3af",
   "metadata": {},
   "source": [
    "### Plot out those ZIP codes"
   ]
  },
  {
   "cell_type": "code",
   "execution_count": 36,
   "id": "aad6b4d0-4868-48d4-a43a-55e1c9f14e43",
   "metadata": {},
   "outputs": [
    {
     "data": {
      "text/plain": [
       "<AxesSubplot:>"
      ]
     },
     "execution_count": 36,
     "metadata": {},
     "output_type": "execute_result"
    },
    {
     "data": {
      "image/png": "[encoded data removed]",
      "text/plain": [
       "<Figure size 432x288 with 1 Axes>"
      ]
     },
     "metadata": {
      "needs_background": "light"
     },
     "output_type": "display_data"
    }
   ],
   "source": [
    "downtown_zips_df.plot()"
   ]
  },
  {
   "cell_type": "code",
   "execution_count": 37,
   "id": "e79e2fba-e1ad-4de9-b264-9cf6c0f1373f",
   "metadata": {},
   "outputs": [],
   "source": [
    "downtown_zips_df.to_csv(\"downtown_zips_df.csv\")"
   ]
  },
  {
   "cell_type": "code",
   "execution_count": null,
   "id": "93076be4-cb12-491e-9fc3-67606493963f",
   "metadata": {},
   "outputs": [],
   "source": []
  }
 ],
 "metadata": {
  "kernelspec": {
   "display_name": "Python 3",
   "language": "python",
   "name": "python3"
  },
  "language_info": {
   "codemirror_mode": {
    "name": "ipython",
    "version": 3
   },
   "file_extension": ".py",
   "mimetype": "text/x-python",
   "name": "python",
   "nbconvert_exporter": "python",
   "pygments_lexer": "ipython3",
   "version": "3.8.8"
  }
 },
 "nbformat": 4,
 "nbformat_minor": 5
}
