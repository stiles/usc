{
 "cells": [
  {
   "cell_type": "code",
   "execution_count": 1,
   "id": "c8ed6749-9189-47da-9edd-9069aa97e90b",
   "metadata": {},
   "outputs": [],
   "source": [
    "import pandas as pd"
   ]
  },
  {
   "cell_type": "code",
   "execution_count": 2,
   "id": "96332f75-1ae3-482d-b074-47c7a54bed4d",
   "metadata": {},
   "outputs": [],
   "source": [
    "desert_df= pd.read_csv('data/Food_Desert_2015.csv')"
   ]
  },
  {
   "cell_type": "code",
   "execution_count": 3,
   "id": "55697c7f-02ee-40a8-b301-a7cc2ad74349",
   "metadata": {},
   "outputs": [],
   "source": [
    "desert_df = desert_df[['year','county_name', 'state_name', 'state_abbr', 'metro_nonmetro', 'desert_pop_2010', 'total_pop_2010']]"
   ]
  },
  {
   "cell_type": "code",
   "execution_count": 4,
   "id": "a27b8579-b60b-4fb4-b858-517b802090f7",
   "metadata": {},
   "outputs": [
    {
     "name": "stdout",
     "output_type": "stream",
     "text": [
      "<class 'pandas.core.frame.DataFrame'>\n",
      "RangeIndex: 3143 entries, 0 to 3142\n",
      "Data columns (total 7 columns):\n",
      " #   Column           Non-Null Count  Dtype \n",
      "---  ------           --------------  ----- \n",
      " 0   year             3143 non-null   int64 \n",
      " 1   county_name      3143 non-null   object\n",
      " 2   state_name       3143 non-null   object\n",
      " 3   state_abbr       3143 non-null   object\n",
      " 4   metro_nonmetro   3143 non-null   object\n",
      " 5   desert_pop_2010  3143 non-null   int64 \n",
      " 6   total_pop_2010   3143 non-null   int64 \n",
      "dtypes: int64(3), object(4)\n",
      "memory usage: 172.0+ KB\n"
     ]
    }
   ],
   "source": [
    "desert_df.info()"
   ]
  },
  {
   "cell_type": "markdown",
   "id": "41a3f3f2-d18d-4e72-9af0-9a6e39c0bec2",
   "metadata": {},
   "source": [
    "### Len"
   ]
  },
  {
   "cell_type": "code",
   "execution_count": 5,
   "id": "69a00101-2352-40d7-8d46-32965ba2cc5e",
   "metadata": {},
   "outputs": [
    {
     "data": {
      "text/plain": [
       "3143"
      ]
     },
     "execution_count": 5,
     "metadata": {},
     "output_type": "execute_result"
    }
   ],
   "source": [
    "len(desert_df)"
   ]
  },
  {
   "cell_type": "markdown",
   "id": "3f5ee67d-41a0-45c2-97ce-b8e0397d6a0a",
   "metadata": {},
   "source": [
    "### Sort values"
   ]
  },
  {
   "cell_type": "code",
   "execution_count": 6,
   "id": "46e6ffe2-7f44-480b-b0f5-c7e9c24425d2",
   "metadata": {},
   "outputs": [
    {
     "data": {
      "text/html": [
       "<div>\n",
       "<style scoped>\n",
       "    .dataframe tbody tr th:only-of-type {\n",
       "        vertical-align: middle;\n",
       "    }\n",
       "\n",
       "    .dataframe tbody tr th {\n",
       "        vertical-align: top;\n",
       "    }\n",
       "\n",
       "    .dataframe thead th {\n",
       "        text-align: right;\n",
       "    }\n",
       "</style>\n",
       "<table border=\"1\" class=\"dataframe\">\n",
       "  <thead>\n",
       "    <tr style=\"text-align: right;\">\n",
       "      <th></th>\n",
       "      <th>year</th>\n",
       "      <th>county_name</th>\n",
       "      <th>state_name</th>\n",
       "      <th>state_abbr</th>\n",
       "      <th>metro_nonmetro</th>\n",
       "      <th>desert_pop_2010</th>\n",
       "      <th>total_pop_2010</th>\n",
       "    </tr>\n",
       "  </thead>\n",
       "  <tbody>\n",
       "    <tr>\n",
       "      <th>2623</th>\n",
       "      <td>2015</td>\n",
       "      <td>Harris County</td>\n",
       "      <td>Texas</td>\n",
       "      <td>TX</td>\n",
       "      <td>Metropolitan</td>\n",
       "      <td>1814695</td>\n",
       "      <td>4092459</td>\n",
       "    </tr>\n",
       "    <tr>\n",
       "      <th>103</th>\n",
       "      <td>2015</td>\n",
       "      <td>Maricopa County</td>\n",
       "      <td>Arizona</td>\n",
       "      <td>AZ</td>\n",
       "      <td>Metropolitan</td>\n",
       "      <td>1446218</td>\n",
       "      <td>3817117</td>\n",
       "    </tr>\n",
       "    <tr>\n",
       "      <th>204</th>\n",
       "      <td>2015</td>\n",
       "      <td>Los Angeles County</td>\n",
       "      <td>California</td>\n",
       "      <td>CA</td>\n",
       "      <td>Metropolitan</td>\n",
       "      <td>1356106</td>\n",
       "      <td>9818605</td>\n",
       "    </tr>\n",
       "    <tr>\n",
       "      <th>2742</th>\n",
       "      <td>2015</td>\n",
       "      <td>Tarrant County</td>\n",
       "      <td>Texas</td>\n",
       "      <td>TX</td>\n",
       "      <td>Metropolitan</td>\n",
       "      <td>1053133</td>\n",
       "      <td>1809034</td>\n",
       "    </tr>\n",
       "    <tr>\n",
       "      <th>218</th>\n",
       "      <td>2015</td>\n",
       "      <td>Riverside County</td>\n",
       "      <td>California</td>\n",
       "      <td>CA</td>\n",
       "      <td>Metropolitan</td>\n",
       "      <td>1025120</td>\n",
       "      <td>2189641</td>\n",
       "    </tr>\n",
       "  </tbody>\n",
       "</table>\n",
       "</div>"
      ],
      "text/plain": [
       "      year         county_name  state_name state_abbr metro_nonmetro  \\\n",
       "2623  2015       Harris County       Texas         TX   Metropolitan   \n",
       "103   2015     Maricopa County     Arizona         AZ   Metropolitan   \n",
       "204   2015  Los Angeles County  California         CA   Metropolitan   \n",
       "2742  2015      Tarrant County       Texas         TX   Metropolitan   \n",
       "218   2015    Riverside County  California         CA   Metropolitan   \n",
       "\n",
       "      desert_pop_2010  total_pop_2010  \n",
       "2623          1814695         4092459  \n",
       "103           1446218         3817117  \n",
       "204           1356106         9818605  \n",
       "2742          1053133         1809034  \n",
       "218           1025120         2189641  "
      ]
     },
     "execution_count": 6,
     "metadata": {},
     "output_type": "execute_result"
    }
   ],
   "source": [
    "desert_df.sort_values('desert_pop_2010', ascending=False).head(5)"
   ]
  },
  {
   "cell_type": "markdown",
   "id": "29a69751-c5e8-49d4-bede-49ecbb5d62ad",
   "metadata": {},
   "source": [
    "### Value counts"
   ]
  },
  {
   "cell_type": "code",
   "execution_count": 7,
   "id": "3503c16f-6f0d-4d9a-9900-f427d85e80fe",
   "metadata": {},
   "outputs": [
    {
     "data": {
      "text/plain": [
       "3143"
      ]
     },
     "execution_count": 7,
     "metadata": {},
     "output_type": "execute_result"
    }
   ],
   "source": [
    "desert_df.value_counts('county_name').sum()"
   ]
  },
  {
   "cell_type": "code",
   "execution_count": 8,
   "id": "5507bf20-f7ff-437d-80a3-a0a7d9a0bd75",
   "metadata": {},
   "outputs": [
    {
     "data": {
      "text/plain": [
       "state_name\n",
       "Texas             46\n",
       "Florida           37\n",
       "California        34\n",
       "Georgia           32\n",
       "North Carolina    29\n",
       "dtype: int64"
      ]
     },
     "execution_count": 8,
     "metadata": {},
     "output_type": "execute_result"
    }
   ],
   "source": [
    "desert_df[desert_df['desert_pop_2010'] > 40000].value_counts('state_name').head()"
   ]
  },
  {
   "cell_type": "markdown",
   "id": "f80a111e-ce38-4774-9b39-7e9ea6999b44",
   "metadata": {},
   "source": [
    "### Describe"
   ]
  },
  {
   "cell_type": "code",
   "execution_count": 9,
   "id": "bc1b1217-10af-4e5d-878b-23ae88bc1b69",
   "metadata": {},
   "outputs": [
    {
     "data": {
      "text/html": [
       "<div>\n",
       "<style scoped>\n",
       "    .dataframe tbody tr th:only-of-type {\n",
       "        vertical-align: middle;\n",
       "    }\n",
       "\n",
       "    .dataframe tbody tr th {\n",
       "        vertical-align: top;\n",
       "    }\n",
       "\n",
       "    .dataframe thead th {\n",
       "        text-align: right;\n",
       "    }\n",
       "</style>\n",
       "<table border=\"1\" class=\"dataframe\">\n",
       "  <thead>\n",
       "    <tr style=\"text-align: right;\">\n",
       "      <th></th>\n",
       "      <th>year</th>\n",
       "      <th>desert_pop_2010</th>\n",
       "      <th>total_pop_2010</th>\n",
       "    </tr>\n",
       "  </thead>\n",
       "  <tbody>\n",
       "    <tr>\n",
       "      <th>count</th>\n",
       "      <td>3143.0</td>\n",
       "      <td>3.143000e+03</td>\n",
       "      <td>3.143000e+03</td>\n",
       "    </tr>\n",
       "    <tr>\n",
       "      <th>mean</th>\n",
       "      <td>2015.0</td>\n",
       "      <td>4.132523e+04</td>\n",
       "      <td>9.823275e+04</td>\n",
       "    </tr>\n",
       "    <tr>\n",
       "      <th>std</th>\n",
       "      <td>0.0</td>\n",
       "      <td>1.036171e+05</td>\n",
       "      <td>3.129012e+05</td>\n",
       "    </tr>\n",
       "    <tr>\n",
       "      <th>min</th>\n",
       "      <td>2015.0</td>\n",
       "      <td>0.000000e+00</td>\n",
       "      <td>8.200000e+01</td>\n",
       "    </tr>\n",
       "    <tr>\n",
       "      <th>25%</th>\n",
       "      <td>2015.0</td>\n",
       "      <td>3.714000e+03</td>\n",
       "      <td>1.110450e+04</td>\n",
       "    </tr>\n",
       "    <tr>\n",
       "      <th>50%</th>\n",
       "      <td>2015.0</td>\n",
       "      <td>1.017100e+04</td>\n",
       "      <td>2.585700e+04</td>\n",
       "    </tr>\n",
       "    <tr>\n",
       "      <th>75%</th>\n",
       "      <td>2015.0</td>\n",
       "      <td>2.953850e+04</td>\n",
       "      <td>6.669900e+04</td>\n",
       "    </tr>\n",
       "    <tr>\n",
       "      <th>max</th>\n",
       "      <td>2015.0</td>\n",
       "      <td>1.814695e+06</td>\n",
       "      <td>9.818605e+06</td>\n",
       "    </tr>\n",
       "  </tbody>\n",
       "</table>\n",
       "</div>"
      ],
      "text/plain": [
       "         year  desert_pop_2010  total_pop_2010\n",
       "count  3143.0     3.143000e+03    3.143000e+03\n",
       "mean   2015.0     4.132523e+04    9.823275e+04\n",
       "std       0.0     1.036171e+05    3.129012e+05\n",
       "min    2015.0     0.000000e+00    8.200000e+01\n",
       "25%    2015.0     3.714000e+03    1.110450e+04\n",
       "50%    2015.0     1.017100e+04    2.585700e+04\n",
       "75%    2015.0     2.953850e+04    6.669900e+04\n",
       "max    2015.0     1.814695e+06    9.818605e+06"
      ]
     },
     "execution_count": 9,
     "metadata": {},
     "output_type": "execute_result"
    }
   ],
   "source": [
    "desert_df.describe()"
   ]
  },
  {
   "cell_type": "markdown",
   "id": "8e707133-242a-463c-b7c3-c5516386c62f",
   "metadata": {},
   "source": [
    "### Create a data subset"
   ]
  },
  {
   "cell_type": "code",
   "execution_count": 10,
   "id": "73dde133-ffcf-455e-b1ff-4b4fbadbc4a4",
   "metadata": {},
   "outputs": [],
   "source": [
    "desert_df['desert_pop_per100k'] = desert_df['desert_pop_2010']/desert_df['total_pop_2010']*100000"
   ]
  },
  {
   "cell_type": "code",
   "execution_count": 11,
   "id": "b924f65e-7dc2-4c4d-94e1-6e112639e191",
   "metadata": {},
   "outputs": [
    {
     "name": "stdout",
     "output_type": "stream",
     "text": [
      "<class 'pandas.core.frame.DataFrame'>\n",
      "RangeIndex: 3143 entries, 0 to 3142\n",
      "Data columns (total 8 columns):\n",
      " #   Column              Non-Null Count  Dtype  \n",
      "---  ------              --------------  -----  \n",
      " 0   year                3143 non-null   int64  \n",
      " 1   county_name         3143 non-null   object \n",
      " 2   state_name          3143 non-null   object \n",
      " 3   state_abbr          3143 non-null   object \n",
      " 4   metro_nonmetro      3143 non-null   object \n",
      " 5   desert_pop_2010     3143 non-null   int64  \n",
      " 6   total_pop_2010      3143 non-null   int64  \n",
      " 7   desert_pop_per100k  3143 non-null   float64\n",
      "dtypes: float64(1), int64(3), object(4)\n",
      "memory usage: 196.6+ KB\n"
     ]
    }
   ],
   "source": [
    "desert_df.info()"
   ]
  },
  {
   "cell_type": "markdown",
   "id": "c4a509f1-8c24-417b-b2af-a3cb2d349ba9",
   "metadata": {},
   "source": [
    "### Merge two datasets"
   ]
  },
  {
   "cell_type": "code",
   "execution_count": 12,
   "id": "086b3008-af2f-49bd-b4db-6468ef6aec77",
   "metadata": {},
   "outputs": [],
   "source": [
    "diabetes_df = pd.read_csv('data/DiabetesPrev.csv')"
   ]
  },
  {
   "cell_type": "code",
   "execution_count": 13,
   "id": "ae54d064-13e1-4893-a669-549084aa3319",
   "metadata": {},
   "outputs": [],
   "source": [
    "df_merged = pd.merge(desert_df, diabetes_df, left_on='county_name', right_on='metro_nonmetro')"
   ]
  },
  {
   "cell_type": "code",
   "execution_count": 16,
   "id": "42c230fc-922e-4526-bf44-295a199294cf",
   "metadata": {},
   "outputs": [
    {
     "name": "stdout",
     "output_type": "stream",
     "text": [
      "<class 'pandas.core.frame.DataFrame'>\n",
      "Index: 0 entries\n",
      "Data columns (total 18 columns):\n",
      " #   Column                             Non-Null Count  Dtype  \n",
      "---  ------                             --------------  -----  \n",
      " 0   year_x                             0 non-null      int64  \n",
      " 1   county_name_x                      0 non-null      object \n",
      " 2   state_name_x                       0 non-null      object \n",
      " 3   state_abbr_x                       0 non-null      object \n",
      " 4   metro_nonmetro_x                   0 non-null      object \n",
      " 5   desert_pop_2010                    0 non-null      int64  \n",
      " 6   total_pop_2010                     0 non-null      int64  \n",
      " 7   desert_pop_per100k                 0 non-null      float64\n",
      " 8   year_y                             0 non-null      int64  \n",
      " 9   fips                               0 non-null      int64  \n",
      " 10  state_fips                         0 non-null      int64  \n",
      " 11  county_fips                        0 non-null      int64  \n",
      " 12  county_name_y                      0 non-null      object \n",
      " 13  state_name_y                       0 non-null      object \n",
      " 14  state_abbr_y                       0 non-null      object \n",
      " 15  metro_nonmetro_y                   0 non-null      object \n",
      " 16  diabetes_population_20_over        0 non-null      float64\n",
      " 17  total_population_inferred_20_over  0 non-null      float64\n",
      "dtypes: float64(3), int64(7), object(8)\n",
      "memory usage: 0.0+ bytes\n"
     ]
    }
   ],
   "source": [
    "df_merged.info()"
   ]
  },
  {
   "cell_type": "code",
   "execution_count": 18,
   "id": "4abb9ace-fc85-4ece-9854-f99c909f976d",
   "metadata": {},
   "outputs": [],
   "source": [
    "merged_100k = df_merged[df_merged['desert_pop_per100k'] > 90000]"
   ]
  },
  {
   "cell_type": "code",
   "execution_count": null,
   "id": "aa4fc197-4bad-46c9-99f5-2abc1a914c49",
   "metadata": {},
   "outputs": [],
   "source": [
    "merged_100k[merged_100k['merged_100k'] > 6000].sort_values['cou']"
   ]
  }
 ],
 "metadata": {
  "kernelspec": {
   "display_name": "Python 3",
   "language": "python",
   "name": "python3"
  },
  "language_info": {
   "codemirror_mode": {
    "name": "ipython",
    "version": 3
   },
   "file_extension": ".py",
   "mimetype": "text/x-python",
   "name": "python",
   "nbconvert_exporter": "python",
   "pygments_lexer": "ipython3",
   "version": "3.8.8"
  }
 },
 "nbformat": 4,
 "nbformat_minor": 5
}
