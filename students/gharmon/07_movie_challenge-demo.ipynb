{
 "cells": [
  {
   "cell_type": "markdown",
   "id": "b7d85d1e-898b-4e69-931a-d26df4d856a4",
   "metadata": {},
   "source": [
    "# IMDB movie ratings"
   ]
  },
  {
   "cell_type": "markdown",
   "id": "7630749f-b12f-4dd7-8037-0245b81dfcec",
   "metadata": {},
   "source": [
    "#### Import python tools"
   ]
  },
  {
   "cell_type": "code",
   "execution_count": 1,
   "id": "c33dce56-aed0-4aa9-b430-0b7a42408895",
   "metadata": {},
   "outputs": [],
   "source": [
    "%load_ext lab_black"
   ]
  },
  {
   "cell_type": "code",
   "execution_count": 2,
   "id": "df79ce59-7408-4067-95ca-593236256d5b",
   "metadata": {},
   "outputs": [],
   "source": [
    "import pandas as pd"
   ]
  },
  {
   "cell_type": "markdown",
   "id": "515684cf-e6dd-4639-9c9a-42318fa70aa5",
   "metadata": {},
   "source": [
    "## Read our data"
   ]
  },
  {
   "cell_type": "code",
   "execution_count": 4,
   "id": "2fc71f8b-e2df-4aa3-81e7-164bafb760a4",
   "metadata": {},
   "outputs": [],
   "source": [
    "url = \"https://raw.githubusercontent.com/stiles/usc/main/data/raw/imdb_1000.csv\""
   ]
  },
  {
   "cell_type": "markdown",
   "id": "c5eb1a55-2652-4ff8-b601-de8465bce9da",
   "metadata": {},
   "source": [
    "#### Create a movies dataframe, and sort it by title"
   ]
  },
  {
   "cell_type": "code",
   "execution_count": 5,
   "id": "bb89dd99-c57f-4d9a-94be-2d09e5923466",
   "metadata": {},
   "outputs": [],
   "source": [
    "movies_df = pd.read_csv(url)"
   ]
  },
  {
   "cell_type": "markdown",
   "id": "48712998-dc9d-422f-a3e4-abc16fd54f88",
   "metadata": {},
   "source": [
    "#### First five rows?"
   ]
  },
  {
   "cell_type": "code",
   "execution_count": 6,
   "id": "03bb6eff-1b17-43d6-a0a1-ca6c765300b4",
   "metadata": {},
   "outputs": [
    {
     "data": {
      "text/html": [
       "<div>\n",
       "<style scoped>\n",
       "    .dataframe tbody tr th:only-of-type {\n",
       "        vertical-align: middle;\n",
       "    }\n",
       "\n",
       "    .dataframe tbody tr th {\n",
       "        vertical-align: top;\n",
       "    }\n",
       "\n",
       "    .dataframe thead th {\n",
       "        text-align: right;\n",
       "    }\n",
       "</style>\n",
       "<table border=\"1\" class=\"dataframe\">\n",
       "  <thead>\n",
       "    <tr style=\"text-align: right;\">\n",
       "      <th></th>\n",
       "      <th>star_rating</th>\n",
       "      <th>title</th>\n",
       "      <th>content_rating</th>\n",
       "      <th>genre</th>\n",
       "      <th>duration</th>\n",
       "      <th>actors_list</th>\n",
       "    </tr>\n",
       "  </thead>\n",
       "  <tbody>\n",
       "    <tr>\n",
       "      <th>0</th>\n",
       "      <td>9.3</td>\n",
       "      <td>The Shawshank Redemption</td>\n",
       "      <td>R</td>\n",
       "      <td>Crime</td>\n",
       "      <td>142</td>\n",
       "      <td>[u'Tim Robbins', u'Morgan Freeman', u'Bob Gunt...</td>\n",
       "    </tr>\n",
       "    <tr>\n",
       "      <th>1</th>\n",
       "      <td>9.2</td>\n",
       "      <td>The Godfather</td>\n",
       "      <td>R</td>\n",
       "      <td>Crime</td>\n",
       "      <td>175</td>\n",
       "      <td>[u'Marlon Brando', u'Al Pacino', u'James Caan']</td>\n",
       "    </tr>\n",
       "    <tr>\n",
       "      <th>2</th>\n",
       "      <td>9.1</td>\n",
       "      <td>The Godfather: Part II</td>\n",
       "      <td>R</td>\n",
       "      <td>Crime</td>\n",
       "      <td>200</td>\n",
       "      <td>[u'Al Pacino', u'Robert De Niro', u'Robert Duv...</td>\n",
       "    </tr>\n",
       "    <tr>\n",
       "      <th>3</th>\n",
       "      <td>9.0</td>\n",
       "      <td>The Dark Knight</td>\n",
       "      <td>PG-13</td>\n",
       "      <td>Action</td>\n",
       "      <td>152</td>\n",
       "      <td>[u'Christian Bale', u'Heath Ledger', u'Aaron E...</td>\n",
       "    </tr>\n",
       "    <tr>\n",
       "      <th>4</th>\n",
       "      <td>8.9</td>\n",
       "      <td>Pulp Fiction</td>\n",
       "      <td>R</td>\n",
       "      <td>Crime</td>\n",
       "      <td>154</td>\n",
       "      <td>[u'John Travolta', u'Uma Thurman', u'Samuel L....</td>\n",
       "    </tr>\n",
       "  </tbody>\n",
       "</table>\n",
       "</div>"
      ],
      "text/plain": [
       "   star_rating                     title content_rating   genre  duration  \\\n",
       "0          9.3  The Shawshank Redemption              R   Crime       142   \n",
       "1          9.2             The Godfather              R   Crime       175   \n",
       "2          9.1    The Godfather: Part II              R   Crime       200   \n",
       "3          9.0           The Dark Knight          PG-13  Action       152   \n",
       "4          8.9              Pulp Fiction              R   Crime       154   \n",
       "\n",
       "                                         actors_list  \n",
       "0  [u'Tim Robbins', u'Morgan Freeman', u'Bob Gunt...  \n",
       "1    [u'Marlon Brando', u'Al Pacino', u'James Caan']  \n",
       "2  [u'Al Pacino', u'Robert De Niro', u'Robert Duv...  \n",
       "3  [u'Christian Bale', u'Heath Ledger', u'Aaron E...  \n",
       "4  [u'John Travolta', u'Uma Thurman', u'Samuel L....  "
      ]
     },
     "execution_count": 6,
     "metadata": {},
     "output_type": "execute_result"
    }
   ],
   "source": [
    "movies_df.head(5)"
   ]
  },
  {
   "cell_type": "markdown",
   "id": "172c5c63-6eda-484a-81da-3b3dfe6589f0",
   "metadata": {},
   "source": [
    "#### Use the `describe()` method to see the distribution"
   ]
  },
  {
   "cell_type": "code",
   "execution_count": 7,
   "id": "90021c19-fed4-4619-84b4-c15bcb71cd6c",
   "metadata": {},
   "outputs": [
    {
     "data": {
      "text/html": [
       "<div>\n",
       "<style scoped>\n",
       "    .dataframe tbody tr th:only-of-type {\n",
       "        vertical-align: middle;\n",
       "    }\n",
       "\n",
       "    .dataframe tbody tr th {\n",
       "        vertical-align: top;\n",
       "    }\n",
       "\n",
       "    .dataframe thead th {\n",
       "        text-align: right;\n",
       "    }\n",
       "</style>\n",
       "<table border=\"1\" class=\"dataframe\">\n",
       "  <thead>\n",
       "    <tr style=\"text-align: right;\">\n",
       "      <th></th>\n",
       "      <th>star_rating</th>\n",
       "      <th>duration</th>\n",
       "    </tr>\n",
       "  </thead>\n",
       "  <tbody>\n",
       "    <tr>\n",
       "      <th>count</th>\n",
       "      <td>979.000000</td>\n",
       "      <td>979.000000</td>\n",
       "    </tr>\n",
       "    <tr>\n",
       "      <th>mean</th>\n",
       "      <td>7.889785</td>\n",
       "      <td>120.979571</td>\n",
       "    </tr>\n",
       "    <tr>\n",
       "      <th>std</th>\n",
       "      <td>0.336069</td>\n",
       "      <td>26.218010</td>\n",
       "    </tr>\n",
       "    <tr>\n",
       "      <th>min</th>\n",
       "      <td>7.400000</td>\n",
       "      <td>64.000000</td>\n",
       "    </tr>\n",
       "    <tr>\n",
       "      <th>25%</th>\n",
       "      <td>7.600000</td>\n",
       "      <td>102.000000</td>\n",
       "    </tr>\n",
       "    <tr>\n",
       "      <th>50%</th>\n",
       "      <td>7.800000</td>\n",
       "      <td>117.000000</td>\n",
       "    </tr>\n",
       "    <tr>\n",
       "      <th>75%</th>\n",
       "      <td>8.100000</td>\n",
       "      <td>134.000000</td>\n",
       "    </tr>\n",
       "    <tr>\n",
       "      <th>max</th>\n",
       "      <td>9.300000</td>\n",
       "      <td>242.000000</td>\n",
       "    </tr>\n",
       "  </tbody>\n",
       "</table>\n",
       "</div>"
      ],
      "text/plain": [
       "       star_rating    duration\n",
       "count   979.000000  979.000000\n",
       "mean      7.889785  120.979571\n",
       "std       0.336069   26.218010\n",
       "min       7.400000   64.000000\n",
       "25%       7.600000  102.000000\n",
       "50%       7.800000  117.000000\n",
       "75%       8.100000  134.000000\n",
       "max       9.300000  242.000000"
      ]
     },
     "execution_count": 7,
     "metadata": {},
     "output_type": "execute_result"
    }
   ],
   "source": [
    "movies_df.describe()"
   ]
  },
  {
   "cell_type": "markdown",
   "id": "04c093c0-6b31-4bd8-9dd8-9e9cea80e004",
   "metadata": {},
   "source": [
    "---"
   ]
  },
  {
   "cell_type": "markdown",
   "id": "d9675971-e6e9-49a7-a237-028d043f33b9",
   "metadata": {},
   "source": [
    "## Categorization exercise"
   ]
  },
  {
   "cell_type": "markdown",
   "id": "b84119c2-fe4d-4914-8f95-4650e7c8acb9",
   "metadata": {},
   "source": [
    "#### What do you consider a 'long' movie? "
   ]
  },
  {
   "cell_type": "code",
   "execution_count": 8,
   "id": "7cefa30d-befc-46a8-9a0b-e8f6ec35489f",
   "metadata": {},
   "outputs": [],
   "source": [
    "movies_long = 175"
   ]
  },
  {
   "cell_type": "code",
   "execution_count": 9,
   "id": "31a05f1c-b16d-4eda-8b11-32a2e3f9ff9b",
   "metadata": {},
   "outputs": [],
   "source": [
    "movies_long = movies_df[\"duration\"].mean() + movies_df[\"duration\"].std()"
   ]
  },
  {
   "cell_type": "code",
   "execution_count": 10,
   "id": "9beb675a-00e6-4069-9e44-95332ea61b13",
   "metadata": {},
   "outputs": [
    {
     "data": {
      "text/plain": [
       "147.19758083721905"
      ]
     },
     "execution_count": 10,
     "metadata": {},
     "output_type": "execute_result"
    }
   ],
   "source": [
    "movies_long"
   ]
  },
  {
   "cell_type": "markdown",
   "id": "ef1692cf-5a5f-43fc-9f1f-5e2896db1975",
   "metadata": {},
   "source": [
    "#### Boolean categorization function"
   ]
  },
  {
   "cell_type": "code",
   "execution_count": 13,
   "id": "82a59cdb-74cd-4fc1-93c1-f080dae18a11",
   "metadata": {},
   "outputs": [],
   "source": [
    "def categorize_long_movies(time):\n",
    "    if time >= movies_long:\n",
    "        return True\n",
    "    else:\n",
    "        return False"
   ]
  },
  {
   "cell_type": "markdown",
   "id": "fcd60d5c-9704-4b5c-a3bf-c6b09962919c",
   "metadata": {},
   "source": [
    "#### Apply that to our duration column as a new column"
   ]
  },
  {
   "cell_type": "code",
   "execution_count": 14,
   "id": "c25f9f42-0398-45f0-83ab-5525d4b7359a",
   "metadata": {},
   "outputs": [],
   "source": [
    "movies_df[\"is_long\"] = movies_df[\"duration\"].apply(categorize_long_movies)"
   ]
  },
  {
   "cell_type": "code",
   "execution_count": 15,
   "id": "2beca6d5-73ad-45a8-bbe1-4a21dcce9023",
   "metadata": {},
   "outputs": [
    {
     "data": {
      "text/html": [
       "<div>\n",
       "<style scoped>\n",
       "    .dataframe tbody tr th:only-of-type {\n",
       "        vertical-align: middle;\n",
       "    }\n",
       "\n",
       "    .dataframe tbody tr th {\n",
       "        vertical-align: top;\n",
       "    }\n",
       "\n",
       "    .dataframe thead th {\n",
       "        text-align: right;\n",
       "    }\n",
       "</style>\n",
       "<table border=\"1\" class=\"dataframe\">\n",
       "  <thead>\n",
       "    <tr style=\"text-align: right;\">\n",
       "      <th></th>\n",
       "      <th>star_rating</th>\n",
       "      <th>title</th>\n",
       "      <th>content_rating</th>\n",
       "      <th>genre</th>\n",
       "      <th>duration</th>\n",
       "      <th>actors_list</th>\n",
       "      <th>is_long</th>\n",
       "    </tr>\n",
       "  </thead>\n",
       "  <tbody>\n",
       "    <tr>\n",
       "      <th>0</th>\n",
       "      <td>9.3</td>\n",
       "      <td>The Shawshank Redemption</td>\n",
       "      <td>R</td>\n",
       "      <td>Crime</td>\n",
       "      <td>142</td>\n",
       "      <td>[u'Tim Robbins', u'Morgan Freeman', u'Bob Gunt...</td>\n",
       "      <td>False</td>\n",
       "    </tr>\n",
       "    <tr>\n",
       "      <th>1</th>\n",
       "      <td>9.2</td>\n",
       "      <td>The Godfather</td>\n",
       "      <td>R</td>\n",
       "      <td>Crime</td>\n",
       "      <td>175</td>\n",
       "      <td>[u'Marlon Brando', u'Al Pacino', u'James Caan']</td>\n",
       "      <td>True</td>\n",
       "    </tr>\n",
       "    <tr>\n",
       "      <th>2</th>\n",
       "      <td>9.1</td>\n",
       "      <td>The Godfather: Part II</td>\n",
       "      <td>R</td>\n",
       "      <td>Crime</td>\n",
       "      <td>200</td>\n",
       "      <td>[u'Al Pacino', u'Robert De Niro', u'Robert Duv...</td>\n",
       "      <td>True</td>\n",
       "    </tr>\n",
       "    <tr>\n",
       "      <th>3</th>\n",
       "      <td>9.0</td>\n",
       "      <td>The Dark Knight</td>\n",
       "      <td>PG-13</td>\n",
       "      <td>Action</td>\n",
       "      <td>152</td>\n",
       "      <td>[u'Christian Bale', u'Heath Ledger', u'Aaron E...</td>\n",
       "      <td>True</td>\n",
       "    </tr>\n",
       "    <tr>\n",
       "      <th>4</th>\n",
       "      <td>8.9</td>\n",
       "      <td>Pulp Fiction</td>\n",
       "      <td>R</td>\n",
       "      <td>Crime</td>\n",
       "      <td>154</td>\n",
       "      <td>[u'John Travolta', u'Uma Thurman', u'Samuel L....</td>\n",
       "      <td>True</td>\n",
       "    </tr>\n",
       "  </tbody>\n",
       "</table>\n",
       "</div>"
      ],
      "text/plain": [
       "   star_rating                     title content_rating   genre  duration  \\\n",
       "0          9.3  The Shawshank Redemption              R   Crime       142   \n",
       "1          9.2             The Godfather              R   Crime       175   \n",
       "2          9.1    The Godfather: Part II              R   Crime       200   \n",
       "3          9.0           The Dark Knight          PG-13  Action       152   \n",
       "4          8.9              Pulp Fiction              R   Crime       154   \n",
       "\n",
       "                                         actors_list  is_long  \n",
       "0  [u'Tim Robbins', u'Morgan Freeman', u'Bob Gunt...    False  \n",
       "1    [u'Marlon Brando', u'Al Pacino', u'James Caan']     True  \n",
       "2  [u'Al Pacino', u'Robert De Niro', u'Robert Duv...     True  \n",
       "3  [u'Christian Bale', u'Heath Ledger', u'Aaron E...     True  \n",
       "4  [u'John Travolta', u'Uma Thurman', u'Samuel L....     True  "
      ]
     },
     "execution_count": 15,
     "metadata": {},
     "output_type": "execute_result"
    }
   ],
   "source": [
    "movies_df.head()"
   ]
  },
  {
   "cell_type": "code",
   "execution_count": 16,
   "id": "07a9bfb6-990d-4044-8b2e-124ca159b937",
   "metadata": {},
   "outputs": [
    {
     "data": {
      "text/plain": [
       "False    845\n",
       "True     134\n",
       "Name: is_long, dtype: int64"
      ]
     },
     "execution_count": 16,
     "metadata": {},
     "output_type": "execute_result"
    }
   ],
   "source": [
    "movies_df.is_long.value_counts()"
   ]
  },
  {
   "cell_type": "markdown",
   "id": "80005bf4-96e7-4476-b6c7-ace02b928e88",
   "metadata": {},
   "source": [
    "---"
   ]
  },
  {
   "cell_type": "markdown",
   "id": "93f8f0b3-4f86-4af2-8638-32ffc08dceb9",
   "metadata": {},
   "source": [
    "## Looping exercise"
   ]
  },
  {
   "cell_type": "code",
   "execution_count": null,
   "id": "0c6c9993-1b00-446d-a4a6-50bc01dd96b4",
   "metadata": {},
   "outputs": [],
   "source": []
  },
  {
   "cell_type": "code",
   "execution_count": 4,
   "id": "e34f4f1e-3690-494d-9bfb-6044fdeaa519",
   "metadata": {},
   "outputs": [],
   "source": [
    "# https://www.imdb.com/search/title/?genres=comedy"
   ]
  },
  {
   "cell_type": "code",
   "execution_count": 18,
   "id": "a87074bc-650f-42b3-8158-fd06074c49d7",
   "metadata": {},
   "outputs": [
    {
     "name": "stdout",
     "output_type": "stream",
     "text": [
      "https://www.imdb.com/search/title/?genres=Crime\n",
      "https://www.imdb.com/search/title/?genres=Action\n",
      "https://www.imdb.com/search/title/?genres=Drama\n",
      "https://www.imdb.com/search/title/?genres=Western\n",
      "https://www.imdb.com/search/title/?genres=Adventure\n",
      "https://www.imdb.com/search/title/?genres=Biography\n",
      "https://www.imdb.com/search/title/?genres=Comedy\n",
      "https://www.imdb.com/search/title/?genres=Animation\n",
      "https://www.imdb.com/search/title/?genres=Mystery\n",
      "https://www.imdb.com/search/title/?genres=Horror\n",
      "https://www.imdb.com/search/title/?genres=Film-Noir\n",
      "https://www.imdb.com/search/title/?genres=Sci-Fi\n",
      "https://www.imdb.com/search/title/?genres=History\n",
      "https://www.imdb.com/search/title/?genres=Thriller\n",
      "https://www.imdb.com/search/title/?genres=Family\n",
      "https://www.imdb.com/search/title/?genres=Fantasy\n"
     ]
    }
   ],
   "source": [
    "for g in movies_df[\"genre\"].unique():\n",
    "    print(\"https://www.imdb.com/search/title/?genres=\" + g)"
   ]
  },
  {
   "cell_type": "code",
   "execution_count": 20,
   "id": "82f0c6f3-61d2-4b1f-94ce-9186c32f6221",
   "metadata": {},
   "outputs": [],
   "source": [
    "movies_df[\"genre_url\"] = (\n",
    "    \"https://www.imdb.com/search/title/?genres=\" + movies_df[\"genre\"]\n",
    ")"
   ]
  },
  {
   "cell_type": "code",
   "execution_count": 21,
   "id": "8330d0c8-0017-456c-84c9-c7dc45a64cdf",
   "metadata": {},
   "outputs": [
    {
     "data": {
      "text/html": [
       "<div>\n",
       "<style scoped>\n",
       "    .dataframe tbody tr th:only-of-type {\n",
       "        vertical-align: middle;\n",
       "    }\n",
       "\n",
       "    .dataframe tbody tr th {\n",
       "        vertical-align: top;\n",
       "    }\n",
       "\n",
       "    .dataframe thead th {\n",
       "        text-align: right;\n",
       "    }\n",
       "</style>\n",
       "<table border=\"1\" class=\"dataframe\">\n",
       "  <thead>\n",
       "    <tr style=\"text-align: right;\">\n",
       "      <th></th>\n",
       "      <th>star_rating</th>\n",
       "      <th>title</th>\n",
       "      <th>content_rating</th>\n",
       "      <th>genre</th>\n",
       "      <th>duration</th>\n",
       "      <th>actors_list</th>\n",
       "      <th>is_long</th>\n",
       "      <th>genre_url</th>\n",
       "    </tr>\n",
       "  </thead>\n",
       "  <tbody>\n",
       "    <tr>\n",
       "      <th>0</th>\n",
       "      <td>9.3</td>\n",
       "      <td>The Shawshank Redemption</td>\n",
       "      <td>R</td>\n",
       "      <td>Crime</td>\n",
       "      <td>142</td>\n",
       "      <td>[u'Tim Robbins', u'Morgan Freeman', u'Bob Gunt...</td>\n",
       "      <td>False</td>\n",
       "      <td>https://www.imdb.com/search/title/?genres=Crime</td>\n",
       "    </tr>\n",
       "    <tr>\n",
       "      <th>1</th>\n",
       "      <td>9.2</td>\n",
       "      <td>The Godfather</td>\n",
       "      <td>R</td>\n",
       "      <td>Crime</td>\n",
       "      <td>175</td>\n",
       "      <td>[u'Marlon Brando', u'Al Pacino', u'James Caan']</td>\n",
       "      <td>True</td>\n",
       "      <td>https://www.imdb.com/search/title/?genres=Crime</td>\n",
       "    </tr>\n",
       "    <tr>\n",
       "      <th>2</th>\n",
       "      <td>9.1</td>\n",
       "      <td>The Godfather: Part II</td>\n",
       "      <td>R</td>\n",
       "      <td>Crime</td>\n",
       "      <td>200</td>\n",
       "      <td>[u'Al Pacino', u'Robert De Niro', u'Robert Duv...</td>\n",
       "      <td>True</td>\n",
       "      <td>https://www.imdb.com/search/title/?genres=Crime</td>\n",
       "    </tr>\n",
       "    <tr>\n",
       "      <th>3</th>\n",
       "      <td>9.0</td>\n",
       "      <td>The Dark Knight</td>\n",
       "      <td>PG-13</td>\n",
       "      <td>Action</td>\n",
       "      <td>152</td>\n",
       "      <td>[u'Christian Bale', u'Heath Ledger', u'Aaron E...</td>\n",
       "      <td>True</td>\n",
       "      <td>https://www.imdb.com/search/title/?genres=Action</td>\n",
       "    </tr>\n",
       "    <tr>\n",
       "      <th>4</th>\n",
       "      <td>8.9</td>\n",
       "      <td>Pulp Fiction</td>\n",
       "      <td>R</td>\n",
       "      <td>Crime</td>\n",
       "      <td>154</td>\n",
       "      <td>[u'John Travolta', u'Uma Thurman', u'Samuel L....</td>\n",
       "      <td>True</td>\n",
       "      <td>https://www.imdb.com/search/title/?genres=Crime</td>\n",
       "    </tr>\n",
       "  </tbody>\n",
       "</table>\n",
       "</div>"
      ],
      "text/plain": [
       "   star_rating                     title content_rating   genre  duration  \\\n",
       "0          9.3  The Shawshank Redemption              R   Crime       142   \n",
       "1          9.2             The Godfather              R   Crime       175   \n",
       "2          9.1    The Godfather: Part II              R   Crime       200   \n",
       "3          9.0           The Dark Knight          PG-13  Action       152   \n",
       "4          8.9              Pulp Fiction              R   Crime       154   \n",
       "\n",
       "                                         actors_list  is_long  \\\n",
       "0  [u'Tim Robbins', u'Morgan Freeman', u'Bob Gunt...    False   \n",
       "1    [u'Marlon Brando', u'Al Pacino', u'James Caan']     True   \n",
       "2  [u'Al Pacino', u'Robert De Niro', u'Robert Duv...     True   \n",
       "3  [u'Christian Bale', u'Heath Ledger', u'Aaron E...     True   \n",
       "4  [u'John Travolta', u'Uma Thurman', u'Samuel L....     True   \n",
       "\n",
       "                                          genre_url  \n",
       "0   https://www.imdb.com/search/title/?genres=Crime  \n",
       "1   https://www.imdb.com/search/title/?genres=Crime  \n",
       "2   https://www.imdb.com/search/title/?genres=Crime  \n",
       "3  https://www.imdb.com/search/title/?genres=Action  \n",
       "4   https://www.imdb.com/search/title/?genres=Crime  "
      ]
     },
     "execution_count": 21,
     "metadata": {},
     "output_type": "execute_result"
    }
   ],
   "source": [
    "movies_df.head()"
   ]
  },
  {
   "cell_type": "code",
   "execution_count": null,
   "id": "ca808d8e-862c-41ab-bd62-ecd2ba34c0bc",
   "metadata": {},
   "outputs": [],
   "source": []
  },
  {
   "cell_type": "markdown",
   "id": "6e5a5065-b342-4e4b-bfee-06a369db1779",
   "metadata": {},
   "source": [
    "---"
   ]
  },
  {
   "cell_type": "markdown",
   "id": "9dee68b0-2a9d-4184-a173-321c16cdd084",
   "metadata": {},
   "source": [
    "### Questions"
   ]
  },
  {
   "cell_type": "markdown",
   "id": "ff727de8-4204-4dcb-96d6-64a8fc932148",
   "metadata": {},
   "source": [
    "#### How many crime movies vs. other types? "
   ]
  },
  {
   "cell_type": "code",
   "execution_count": 28,
   "id": "63e635a3-42ca-4569-9a15-609408e14f79",
   "metadata": {},
   "outputs": [
    {
     "data": {
      "text/plain": [
       "star_rating  title                     content_rating  genre  duration  actors_list                                                          is_long  genre_url                                      \n",
       "7.4          Bound                     R               Crime  108       [u'Jennifer Tilly', u'Gina Gershon', u'Joe Pantoliano']              False    https://www.imdb.com/search/title/?genres=Crime    1\n",
       "8.0          Rope                      PG              Crime  80        [u'James Stewart', u'John Dall', u'Farley Granger']                  False    https://www.imdb.com/search/title/?genres=Crime    1\n",
       "8.1          Strangers on a Train      APPROVED        Crime  101       [u'Farley Granger', u'Robert Walker', u'Ruth Roman']                 False    https://www.imdb.com/search/title/?genres=Crime    1\n",
       "             Sin City                  R               Crime  124       [u'Mickey Rourke', u'Clive Owen', u'Bruce Willis']                   False    https://www.imdb.com/search/title/?genres=Crime    1\n",
       "             Prisoners                 R               Crime  153       [u'Hugh Jackman', u'Jake Gyllenhaal', u'Viola Davis']                True     https://www.imdb.com/search/title/?genres=Crime    1\n",
       "                                                                                                                                                                                                        ..\n",
       "7.6          West Side Story           UNRATED         Crime  152       [u'Natalie Wood', u'George Chakiris', u'Richard Beymer']             True     https://www.imdb.com/search/title/?genres=Crime    1\n",
       "             The Town                  R               Crime  125       [u'Ben Affleck', u'Rebecca Hall', u'Jon Hamm']                       False    https://www.imdb.com/search/title/?genres=Crime    1\n",
       "             The Man Who Wasn't There  R               Crime  116       [u'Billy Bob Thornton', u'Frances McDormand', u'Michael Badalucco']  False    https://www.imdb.com/search/title/?genres=Crime    1\n",
       "             The Godfather: Part III   R               Crime  162       [u'Al Pacino', u'Diane Keaton', u'Andy Garcia']                      True     https://www.imdb.com/search/title/?genres=Crime    1\n",
       "9.3          The Shawshank Redemption  R               Crime  142       [u'Tim Robbins', u'Morgan Freeman', u'Bob Gunton']                   False    https://www.imdb.com/search/title/?genres=Crime    1\n",
       "Length: 124, dtype: int64"
      ]
     },
     "execution_count": 28,
     "metadata": {},
     "output_type": "execute_result"
    }
   ],
   "source": [
    "movies_df[movies_df[\"genre\"] == \"Crime\"].value_counts()"
   ]
  },
  {
   "cell_type": "code",
   "execution_count": 26,
   "id": "66404a2d-cb1c-4ff8-b7fb-7f26b3dfd020",
   "metadata": {},
   "outputs": [
    {
     "data": {
      "text/plain": [
       "Drama        278\n",
       "Comedy       156\n",
       "Action       136\n",
       "Crime        124\n",
       "Biography     77\n",
       "Adventure     75\n",
       "Animation     62\n",
       "Horror        29\n",
       "Mystery       16\n",
       "Western        9\n",
       "Sci-Fi         5\n",
       "Thriller       5\n",
       "Film-Noir      3\n",
       "Family         2\n",
       "History        1\n",
       "Fantasy        1\n",
       "Name: genre, dtype: int64"
      ]
     },
     "execution_count": 26,
     "metadata": {},
     "output_type": "execute_result"
    }
   ],
   "source": [
    "movies_df.genre.value_counts()"
   ]
  },
  {
   "cell_type": "markdown",
   "id": "ef1ddc2b-a910-475f-99a8-b55ebc0de686",
   "metadata": {},
   "source": [
    "#### Which movie featuring Jack Nicholson had the highest star rating? "
   ]
  },
  {
   "cell_type": "code",
   "execution_count": 43,
   "id": "8c028096-ae6e-4b85-b8ff-a617190d3131",
   "metadata": {},
   "outputs": [
    {
     "data": {
      "text/html": [
       "<div>\n",
       "<style scoped>\n",
       "    .dataframe tbody tr th:only-of-type {\n",
       "        vertical-align: middle;\n",
       "    }\n",
       "\n",
       "    .dataframe tbody tr th {\n",
       "        vertical-align: top;\n",
       "    }\n",
       "\n",
       "    .dataframe thead th {\n",
       "        text-align: right;\n",
       "    }\n",
       "</style>\n",
       "<table border=\"1\" class=\"dataframe\">\n",
       "  <thead>\n",
       "    <tr style=\"text-align: right;\">\n",
       "      <th></th>\n",
       "      <th>star_rating</th>\n",
       "      <th>title</th>\n",
       "      <th>content_rating</th>\n",
       "      <th>genre</th>\n",
       "      <th>duration</th>\n",
       "      <th>actors_list</th>\n",
       "      <th>is_long</th>\n",
       "      <th>genre_url</th>\n",
       "    </tr>\n",
       "  </thead>\n",
       "  <tbody>\n",
       "    <tr>\n",
       "      <th>943</th>\n",
       "      <td>7.4</td>\n",
       "      <td>The Bucket List</td>\n",
       "      <td>PG-13</td>\n",
       "      <td>Adventure</td>\n",
       "      <td>97</td>\n",
       "      <td>[u'Jack Nicholson', u'Morgan Freeman', u'Sean ...</td>\n",
       "      <td>False</td>\n",
       "      <td>https://www.imdb.com/search/title/?genres=Adve...</td>\n",
       "    </tr>\n",
       "    <tr>\n",
       "      <th>944</th>\n",
       "      <td>7.4</td>\n",
       "      <td>Terms of Endearment</td>\n",
       "      <td>R</td>\n",
       "      <td>Comedy</td>\n",
       "      <td>132</td>\n",
       "      <td>[u'Shirley MacLaine', u'Debra Winger', u'Jack ...</td>\n",
       "      <td>False</td>\n",
       "      <td>https://www.imdb.com/search/title/?genres=Comedy</td>\n",
       "    </tr>\n",
       "    <tr>\n",
       "      <th>716</th>\n",
       "      <td>7.6</td>\n",
       "      <td>A Few Good Men</td>\n",
       "      <td>R</td>\n",
       "      <td>Drama</td>\n",
       "      <td>138</td>\n",
       "      <td>[u'Tom Cruise', u'Jack Nicholson', u'Demi Moore']</td>\n",
       "      <td>False</td>\n",
       "      <td>https://www.imdb.com/search/title/?genres=Drama</td>\n",
       "    </tr>\n",
       "    <tr>\n",
       "      <th>801</th>\n",
       "      <td>7.6</td>\n",
       "      <td>Batman</td>\n",
       "      <td>PG-13</td>\n",
       "      <td>Action</td>\n",
       "      <td>126</td>\n",
       "      <td>[u'Michael Keaton', u'Jack Nicholson', u'Kim B...</td>\n",
       "      <td>False</td>\n",
       "      <td>https://www.imdb.com/search/title/?genres=Action</td>\n",
       "    </tr>\n",
       "    <tr>\n",
       "      <th>578</th>\n",
       "      <td>7.8</td>\n",
       "      <td>As Good as It Gets</td>\n",
       "      <td>PG-13</td>\n",
       "      <td>Comedy</td>\n",
       "      <td>139</td>\n",
       "      <td>[u'Jack Nicholson', u'Helen Hunt', u'Greg Kinn...</td>\n",
       "      <td>False</td>\n",
       "      <td>https://www.imdb.com/search/title/?genres=Comedy</td>\n",
       "    </tr>\n",
       "    <tr>\n",
       "      <th>130</th>\n",
       "      <td>8.3</td>\n",
       "      <td>Chinatown</td>\n",
       "      <td>R</td>\n",
       "      <td>Drama</td>\n",
       "      <td>130</td>\n",
       "      <td>[u'Jack Nicholson', u'Faye Dunaway', u'John Hu...</td>\n",
       "      <td>False</td>\n",
       "      <td>https://www.imdb.com/search/title/?genres=Drama</td>\n",
       "    </tr>\n",
       "    <tr>\n",
       "      <th>49</th>\n",
       "      <td>8.5</td>\n",
       "      <td>The Departed</td>\n",
       "      <td>R</td>\n",
       "      <td>Crime</td>\n",
       "      <td>151</td>\n",
       "      <td>[u'Leonardo DiCaprio', u'Matt Damon', u'Jack N...</td>\n",
       "      <td>True</td>\n",
       "      <td>https://www.imdb.com/search/title/?genres=Crime</td>\n",
       "    </tr>\n",
       "    <tr>\n",
       "      <th>62</th>\n",
       "      <td>8.5</td>\n",
       "      <td>The Shining</td>\n",
       "      <td>R</td>\n",
       "      <td>Horror</td>\n",
       "      <td>146</td>\n",
       "      <td>[u'Jack Nicholson', u'Shelley Duvall', u'Danny...</td>\n",
       "      <td>False</td>\n",
       "      <td>https://www.imdb.com/search/title/?genres=Horror</td>\n",
       "    </tr>\n",
       "    <tr>\n",
       "      <th>16</th>\n",
       "      <td>8.7</td>\n",
       "      <td>One Flew Over the Cuckoo's Nest</td>\n",
       "      <td>R</td>\n",
       "      <td>Drama</td>\n",
       "      <td>133</td>\n",
       "      <td>[u'Jack Nicholson', u'Louise Fletcher', u'Mich...</td>\n",
       "      <td>False</td>\n",
       "      <td>https://www.imdb.com/search/title/?genres=Drama</td>\n",
       "    </tr>\n",
       "  </tbody>\n",
       "</table>\n",
       "</div>"
      ],
      "text/plain": [
       "     star_rating                            title content_rating      genre  \\\n",
       "943          7.4                  The Bucket List          PG-13  Adventure   \n",
       "944          7.4              Terms of Endearment              R     Comedy   \n",
       "716          7.6                   A Few Good Men              R      Drama   \n",
       "801          7.6                           Batman          PG-13     Action   \n",
       "578          7.8               As Good as It Gets          PG-13     Comedy   \n",
       "130          8.3                        Chinatown              R      Drama   \n",
       "49           8.5                     The Departed              R      Crime   \n",
       "62           8.5                      The Shining              R     Horror   \n",
       "16           8.7  One Flew Over the Cuckoo's Nest              R      Drama   \n",
       "\n",
       "     duration                                        actors_list  is_long  \\\n",
       "943        97  [u'Jack Nicholson', u'Morgan Freeman', u'Sean ...    False   \n",
       "944       132  [u'Shirley MacLaine', u'Debra Winger', u'Jack ...    False   \n",
       "716       138  [u'Tom Cruise', u'Jack Nicholson', u'Demi Moore']    False   \n",
       "801       126  [u'Michael Keaton', u'Jack Nicholson', u'Kim B...    False   \n",
       "578       139  [u'Jack Nicholson', u'Helen Hunt', u'Greg Kinn...    False   \n",
       "130       130  [u'Jack Nicholson', u'Faye Dunaway', u'John Hu...    False   \n",
       "49        151  [u'Leonardo DiCaprio', u'Matt Damon', u'Jack N...     True   \n",
       "62        146  [u'Jack Nicholson', u'Shelley Duvall', u'Danny...    False   \n",
       "16        133  [u'Jack Nicholson', u'Louise Fletcher', u'Mich...    False   \n",
       "\n",
       "                                             genre_url  \n",
       "943  https://www.imdb.com/search/title/?genres=Adve...  \n",
       "944   https://www.imdb.com/search/title/?genres=Comedy  \n",
       "716    https://www.imdb.com/search/title/?genres=Drama  \n",
       "801   https://www.imdb.com/search/title/?genres=Action  \n",
       "578   https://www.imdb.com/search/title/?genres=Comedy  \n",
       "130    https://www.imdb.com/search/title/?genres=Drama  \n",
       "49     https://www.imdb.com/search/title/?genres=Crime  \n",
       "62    https://www.imdb.com/search/title/?genres=Horror  \n",
       "16     https://www.imdb.com/search/title/?genres=Drama  "
      ]
     },
     "execution_count": 43,
     "metadata": {},
     "output_type": "execute_result"
    }
   ],
   "source": [
    "movies_df[movies_df[\"actors_list\"].str.contains(\"Jack Nicholson\")].sort_values(\n",
    "    \"star_rating\", ascending=True\n",
    ")"
   ]
  },
  {
   "cell_type": "code",
   "execution_count": 39,
   "id": "38eaee71-8136-41a4-84b4-2a48658b15fa",
   "metadata": {},
   "outputs": [],
   "source": [
    "###actors = movies_df[\"actors_list\"]"
   ]
  },
  {
   "cell_type": "markdown",
   "id": "b63335eb-3030-4c54-a338-1eb3ab8b20a2",
   "metadata": {},
   "source": [
    "#### How does the average duration of dramas compare with other genres? "
   ]
  },
  {
   "cell_type": "code",
   "execution_count": 44,
   "id": "2f1c1c83-51c0-4453-8755-68f192a40560",
   "metadata": {},
   "outputs": [
    {
     "data": {
      "text/html": [
       "<div>\n",
       "<style scoped>\n",
       "    .dataframe tbody tr th:only-of-type {\n",
       "        vertical-align: middle;\n",
       "    }\n",
       "\n",
       "    .dataframe tbody tr th {\n",
       "        vertical-align: top;\n",
       "    }\n",
       "\n",
       "    .dataframe thead th {\n",
       "        text-align: right;\n",
       "    }\n",
       "</style>\n",
       "<table border=\"1\" class=\"dataframe\">\n",
       "  <thead>\n",
       "    <tr style=\"text-align: right;\">\n",
       "      <th></th>\n",
       "      <th>star_rating</th>\n",
       "      <th>duration</th>\n",
       "      <th>is_long</th>\n",
       "    </tr>\n",
       "    <tr>\n",
       "      <th>genre</th>\n",
       "      <th></th>\n",
       "      <th></th>\n",
       "      <th></th>\n",
       "    </tr>\n",
       "  </thead>\n",
       "  <tbody>\n",
       "    <tr>\n",
       "      <th>Action</th>\n",
       "      <td>7.884559</td>\n",
       "      <td>126.485294</td>\n",
       "      <td>0.139706</td>\n",
       "    </tr>\n",
       "    <tr>\n",
       "      <th>Adventure</th>\n",
       "      <td>7.933333</td>\n",
       "      <td>134.840000</td>\n",
       "      <td>0.293333</td>\n",
       "    </tr>\n",
       "    <tr>\n",
       "      <th>Animation</th>\n",
       "      <td>7.914516</td>\n",
       "      <td>96.596774</td>\n",
       "      <td>0.000000</td>\n",
       "    </tr>\n",
       "    <tr>\n",
       "      <th>Biography</th>\n",
       "      <td>7.862338</td>\n",
       "      <td>131.844156</td>\n",
       "      <td>0.233766</td>\n",
       "    </tr>\n",
       "    <tr>\n",
       "      <th>Comedy</th>\n",
       "      <td>7.822436</td>\n",
       "      <td>107.602564</td>\n",
       "      <td>0.044872</td>\n",
       "    </tr>\n",
       "    <tr>\n",
       "      <th>Crime</th>\n",
       "      <td>7.916935</td>\n",
       "      <td>122.298387</td>\n",
       "      <td>0.145161</td>\n",
       "    </tr>\n",
       "    <tr>\n",
       "      <th>Drama</th>\n",
       "      <td>7.902518</td>\n",
       "      <td>126.539568</td>\n",
       "      <td>0.165468</td>\n",
       "    </tr>\n",
       "    <tr>\n",
       "      <th>Family</th>\n",
       "      <td>7.850000</td>\n",
       "      <td>107.500000</td>\n",
       "      <td>0.000000</td>\n",
       "    </tr>\n",
       "    <tr>\n",
       "      <th>Fantasy</th>\n",
       "      <td>7.700000</td>\n",
       "      <td>112.000000</td>\n",
       "      <td>0.000000</td>\n",
       "    </tr>\n",
       "    <tr>\n",
       "      <th>Film-Noir</th>\n",
       "      <td>8.033333</td>\n",
       "      <td>97.333333</td>\n",
       "      <td>0.000000</td>\n",
       "    </tr>\n",
       "    <tr>\n",
       "      <th>History</th>\n",
       "      <td>8.000000</td>\n",
       "      <td>66.000000</td>\n",
       "      <td>0.000000</td>\n",
       "    </tr>\n",
       "    <tr>\n",
       "      <th>Horror</th>\n",
       "      <td>7.806897</td>\n",
       "      <td>102.517241</td>\n",
       "      <td>0.000000</td>\n",
       "    </tr>\n",
       "    <tr>\n",
       "      <th>Mystery</th>\n",
       "      <td>7.975000</td>\n",
       "      <td>115.625000</td>\n",
       "      <td>0.062500</td>\n",
       "    </tr>\n",
       "    <tr>\n",
       "      <th>Sci-Fi</th>\n",
       "      <td>7.920000</td>\n",
       "      <td>109.000000</td>\n",
       "      <td>0.000000</td>\n",
       "    </tr>\n",
       "    <tr>\n",
       "      <th>Thriller</th>\n",
       "      <td>7.680000</td>\n",
       "      <td>114.200000</td>\n",
       "      <td>0.000000</td>\n",
       "    </tr>\n",
       "    <tr>\n",
       "      <th>Western</th>\n",
       "      <td>8.255556</td>\n",
       "      <td>136.666667</td>\n",
       "      <td>0.333333</td>\n",
       "    </tr>\n",
       "  </tbody>\n",
       "</table>\n",
       "</div>"
      ],
      "text/plain": [
       "           star_rating    duration   is_long\n",
       "genre                                       \n",
       "Action        7.884559  126.485294  0.139706\n",
       "Adventure     7.933333  134.840000  0.293333\n",
       "Animation     7.914516   96.596774  0.000000\n",
       "Biography     7.862338  131.844156  0.233766\n",
       "Comedy        7.822436  107.602564  0.044872\n",
       "Crime         7.916935  122.298387  0.145161\n",
       "Drama         7.902518  126.539568  0.165468\n",
       "Family        7.850000  107.500000  0.000000\n",
       "Fantasy       7.700000  112.000000  0.000000\n",
       "Film-Noir     8.033333   97.333333  0.000000\n",
       "History       8.000000   66.000000  0.000000\n",
       "Horror        7.806897  102.517241  0.000000\n",
       "Mystery       7.975000  115.625000  0.062500\n",
       "Sci-Fi        7.920000  109.000000  0.000000\n",
       "Thriller      7.680000  114.200000  0.000000\n",
       "Western       8.255556  136.666667  0.333333"
      ]
     },
     "execution_count": 44,
     "metadata": {},
     "output_type": "execute_result"
    }
   ],
   "source": [
    "movies_df.groupby([\"genre\"]).mean(\"duration\")"
   ]
  },
  {
   "cell_type": "code",
   "execution_count": 45,
   "id": "cc79ecfb-d461-435b-b96e-108c86928fac",
   "metadata": {},
   "outputs": [
    {
     "data": {
      "text/plain": [
       "genre\n",
       "Action       126.485294\n",
       "Adventure    134.840000\n",
       "Animation     96.596774\n",
       "Biography    131.844156\n",
       "Comedy       107.602564\n",
       "Crime        122.298387\n",
       "Drama        126.539568\n",
       "Family       107.500000\n",
       "Fantasy      112.000000\n",
       "Film-Noir     97.333333\n",
       "History       66.000000\n",
       "Horror       102.517241\n",
       "Mystery      115.625000\n",
       "Sci-Fi       109.000000\n",
       "Thriller     114.200000\n",
       "Western      136.666667\n",
       "Name: duration, dtype: float64"
      ]
     },
     "execution_count": 45,
     "metadata": {},
     "output_type": "execute_result"
    }
   ],
   "source": [
    "movies_df.groupby([\"genre\"])[\"duration\"].mean()"
   ]
  },
  {
   "cell_type": "code",
   "execution_count": null,
   "id": "01b587ed-84f5-42e9-8370-1a132f6e2f30",
   "metadata": {},
   "outputs": [],
   "source": []
  },
  {
   "cell_type": "markdown",
   "id": "e2434494-2911-4c40-840c-0f2f3200550f",
   "metadata": {},
   "source": [
    "#### How many movies contain Al Pacino?"
   ]
  },
  {
   "cell_type": "code",
   "execution_count": 46,
   "id": "47c8e855-c8b2-4c71-87cf-4d674a4ac9bf",
   "metadata": {},
   "outputs": [
    {
     "data": {
      "text/plain": [
       "13"
      ]
     },
     "execution_count": 46,
     "metadata": {},
     "output_type": "execute_result"
    }
   ],
   "source": [
    "len(movies_df[movies_df[\"actors_list\"].str.contains(\"Al Pacino\")])"
   ]
  },
  {
   "cell_type": "code",
   "execution_count": null,
   "id": "a26d28e6-b58d-4187-9c58-c37413de1ac7",
   "metadata": {},
   "outputs": [],
   "source": []
  },
  {
   "cell_type": "markdown",
   "id": "77a48eef-567c-4dfd-bb38-b2f23b584130",
   "metadata": {},
   "source": [
    "#### What's the longest PG-13 action movie? "
   ]
  },
  {
   "cell_type": "code",
   "execution_count": 51,
   "id": "499d0be9-6123-4a27-8894-d9afe23a126f",
   "metadata": {},
   "outputs": [],
   "source": [
    "action = movies_df[movies_df[\"genre\"] == \"Action\"]"
   ]
  },
  {
   "cell_type": "code",
   "execution_count": 66,
   "id": "678b7825-4436-4c03-b2c6-9b8b587f5425",
   "metadata": {},
   "outputs": [
    {
     "data": {
      "text/html": [
       "<div>\n",
       "<style scoped>\n",
       "    .dataframe tbody tr th:only-of-type {\n",
       "        vertical-align: middle;\n",
       "    }\n",
       "\n",
       "    .dataframe tbody tr th {\n",
       "        vertical-align: top;\n",
       "    }\n",
       "\n",
       "    .dataframe thead th {\n",
       "        text-align: right;\n",
       "    }\n",
       "</style>\n",
       "<table border=\"1\" class=\"dataframe\">\n",
       "  <thead>\n",
       "    <tr style=\"text-align: right;\">\n",
       "      <th></th>\n",
       "      <th>star_rating</th>\n",
       "      <th>title</th>\n",
       "      <th>content_rating</th>\n",
       "      <th>genre</th>\n",
       "      <th>duration</th>\n",
       "      <th>actors_list</th>\n",
       "      <th>is_long</th>\n",
       "      <th>genre_url</th>\n",
       "    </tr>\n",
       "  </thead>\n",
       "  <tbody>\n",
       "    <tr>\n",
       "      <th>385</th>\n",
       "      <td>8.0</td>\n",
       "      <td>Spartacus</td>\n",
       "      <td>PG-13</td>\n",
       "      <td>Action</td>\n",
       "      <td>197</td>\n",
       "      <td>[u'Kirk Douglas', u'Laurence Olivier', u'Jean ...</td>\n",
       "      <td>True</td>\n",
       "      <td>https://www.imdb.com/search/title/?genres=Action</td>\n",
       "    </tr>\n",
       "    <tr>\n",
       "      <th>684</th>\n",
       "      <td>7.7</td>\n",
       "      <td>The Big Blue</td>\n",
       "      <td>PG-13</td>\n",
       "      <td>Action</td>\n",
       "      <td>168</td>\n",
       "      <td>[u'Jean-Marc Barr', u'Jean Reno', u'Rosanna Ar...</td>\n",
       "      <td>True</td>\n",
       "      <td>https://www.imdb.com/search/title/?genres=Action</td>\n",
       "    </tr>\n",
       "    <tr>\n",
       "      <th>43</th>\n",
       "      <td>8.5</td>\n",
       "      <td>The Dark Knight Rises</td>\n",
       "      <td>PG-13</td>\n",
       "      <td>Action</td>\n",
       "      <td>165</td>\n",
       "      <td>[u'Christian Bale', u'Tom Hardy', u'Anne Hatha...</td>\n",
       "      <td>True</td>\n",
       "      <td>https://www.imdb.com/search/title/?genres=Action</td>\n",
       "    </tr>\n",
       "    <tr>\n",
       "      <th>433</th>\n",
       "      <td>7.9</td>\n",
       "      <td>Avatar</td>\n",
       "      <td>PG-13</td>\n",
       "      <td>Action</td>\n",
       "      <td>162</td>\n",
       "      <td>[u'Sam Worthington', u'Zoe Saldana', u'Sigourn...</td>\n",
       "      <td>True</td>\n",
       "      <td>https://www.imdb.com/search/title/?genres=Action</td>\n",
       "    </tr>\n",
       "    <tr>\n",
       "      <th>3</th>\n",
       "      <td>9.0</td>\n",
       "      <td>The Dark Knight</td>\n",
       "      <td>PG-13</td>\n",
       "      <td>Action</td>\n",
       "      <td>152</td>\n",
       "      <td>[u'Christian Bale', u'Heath Ledger', u'Aaron E...</td>\n",
       "      <td>True</td>\n",
       "      <td>https://www.imdb.com/search/title/?genres=Action</td>\n",
       "    </tr>\n",
       "  </tbody>\n",
       "</table>\n",
       "</div>"
      ],
      "text/plain": [
       "     star_rating                  title content_rating   genre  duration  \\\n",
       "385          8.0              Spartacus          PG-13  Action       197   \n",
       "684          7.7           The Big Blue          PG-13  Action       168   \n",
       "43           8.5  The Dark Knight Rises          PG-13  Action       165   \n",
       "433          7.9                 Avatar          PG-13  Action       162   \n",
       "3            9.0        The Dark Knight          PG-13  Action       152   \n",
       "\n",
       "                                           actors_list  is_long  \\\n",
       "385  [u'Kirk Douglas', u'Laurence Olivier', u'Jean ...     True   \n",
       "684  [u'Jean-Marc Barr', u'Jean Reno', u'Rosanna Ar...     True   \n",
       "43   [u'Christian Bale', u'Tom Hardy', u'Anne Hatha...     True   \n",
       "433  [u'Sam Worthington', u'Zoe Saldana', u'Sigourn...     True   \n",
       "3    [u'Christian Bale', u'Heath Ledger', u'Aaron E...     True   \n",
       "\n",
       "                                            genre_url  \n",
       "385  https://www.imdb.com/search/title/?genres=Action  \n",
       "684  https://www.imdb.com/search/title/?genres=Action  \n",
       "43   https://www.imdb.com/search/title/?genres=Action  \n",
       "433  https://www.imdb.com/search/title/?genres=Action  \n",
       "3    https://www.imdb.com/search/title/?genres=Action  "
      ]
     },
     "execution_count": 66,
     "metadata": {},
     "output_type": "execute_result"
    }
   ],
   "source": [
    "action[action[\"content_rating\"] == \"PG-13\"].sort_values(\n",
    "    \"duration\", ascending=False\n",
    ").head(5)"
   ]
  },
  {
   "cell_type": "markdown",
   "id": "e602b22e-c952-45a3-ac32-014e0b316209",
   "metadata": {},
   "source": [
    "#### Which genre has the highest star rating?"
   ]
  },
  {
   "cell_type": "code",
   "execution_count": 65,
   "id": "74573dc4-843d-4dd1-9f90-0083229ed648",
   "metadata": {},
   "outputs": [
    {
     "data": {
      "text/plain": [
       "genre\n",
       "Western      8.255556\n",
       "Film-Noir    8.033333\n",
       "History      8.000000\n",
       "Mystery      7.975000\n",
       "Adventure    7.933333\n",
       "Sci-Fi       7.920000\n",
       "Crime        7.916935\n",
       "Animation    7.914516\n",
       "Drama        7.902518\n",
       "Action       7.884559\n",
       "Biography    7.862338\n",
       "Family       7.850000\n",
       "Comedy       7.822436\n",
       "Horror       7.806897\n",
       "Fantasy      7.700000\n",
       "Thriller     7.680000\n",
       "Name: star_rating, dtype: float64"
      ]
     },
     "execution_count": 65,
     "metadata": {},
     "output_type": "execute_result"
    }
   ],
   "source": [
    "movies_df.groupby([\"genre\"])[\"star_rating\"].mean().sort_values(ascending=False)"
   ]
  },
  {
   "cell_type": "code",
   "execution_count": null,
   "id": "8a8848ff-f5b4-4d3c-a29a-3ba826a7ecca",
   "metadata": {},
   "outputs": [],
   "source": []
  },
  {
   "cell_type": "markdown",
   "id": "80b4783b-afd4-417b-bb25-0289fae25af4",
   "metadata": {},
   "source": [
    "#### How many movies contain the word 'city'? "
   ]
  },
  {
   "cell_type": "code",
   "execution_count": 74,
   "id": "d6f3c6ef-af87-4981-b45b-73e5a6e56431",
   "metadata": {},
   "outputs": [
    {
     "data": {
      "text/plain": [
       "5"
      ]
     },
     "execution_count": 74,
     "metadata": {},
     "output_type": "execute_result"
    }
   ],
   "source": [
    "len(movies_df[movies_df[\"title\"].str.contains(\"City\", case=False)])"
   ]
  },
  {
   "cell_type": "code",
   "execution_count": null,
   "id": "81272960-5355-426e-bb68-f893fe6ee045",
   "metadata": {},
   "outputs": [],
   "source": []
  },
  {
   "cell_type": "markdown",
   "id": "83e5d8ca-8cf0-4608-8c8b-f78c47b236e2",
   "metadata": {},
   "source": [
    "#### Do long movies have a higher average star rating than not long movies?"
   ]
  },
  {
   "cell_type": "code",
   "execution_count": 76,
   "id": "5a9a0d36-1183-41d9-93d1-41162463cfc6",
   "metadata": {},
   "outputs": [
    {
     "data": {
      "text/plain": [
       "is_long\n",
       "False    7.858698\n",
       "True     8.085821\n",
       "Name: star_rating, dtype: float64"
      ]
     },
     "execution_count": 76,
     "metadata": {},
     "output_type": "execute_result"
    }
   ],
   "source": [
    "movies_df.groupby([\"is_long\"])[\"star_rating\"].mean()"
   ]
  },
  {
   "cell_type": "code",
   "execution_count": null,
   "id": "0eedff1f-bc15-4f95-9977-7f1aa63f72a5",
   "metadata": {},
   "outputs": [],
   "source": []
  },
  {
   "cell_type": "markdown",
   "id": "e70721cb-fc6f-4ed9-ad60-f24db60dad2a",
   "metadata": {},
   "source": [
    "#### Are \"G\" rated movies more popular than \"R\" rated movies? "
   ]
  },
  {
   "cell_type": "code",
   "execution_count": 81,
   "id": "ff68f346-cece-45d5-ae27-db496731592e",
   "metadata": {},
   "outputs": [],
   "source": [
    "ratings_movies = movies_df.groupby([\"content_rating\"])[\"star_rating\"]"
   ]
  },
  {
   "cell_type": "code",
   "execution_count": 82,
   "id": "d53acbd0-4056-4a2a-a787-1ea4675f0d7f",
   "metadata": {},
   "outputs": [
    {
     "ename": "AttributeError",
     "evalue": "'SeriesGroupBy' object has no attribute 'sort_values'",
     "output_type": "error",
     "traceback": [
      "\u001b[0;31m---------------------------------------------------------------------------\u001b[0m",
      "\u001b[0;31mAttributeError\u001b[0m                            Traceback (most recent call last)",
      "\u001b[0;32m<ipython-input-82-a46ba2dcacda>\u001b[0m in \u001b[0;36m<module>\u001b[0;34m\u001b[0m\n\u001b[0;32m----> 1\u001b[0;31m \u001b[0mratings_movies\u001b[0m\u001b[0;34m.\u001b[0m\u001b[0msort_values\u001b[0m\u001b[0;34m(\u001b[0m\u001b[0;34m[\u001b[0m\u001b[0;34m\"star_rating\"\u001b[0m\u001b[0;34m]\u001b[0m\u001b[0;34m)\u001b[0m\u001b[0;34m\u001b[0m\u001b[0;34m\u001b[0m\u001b[0m\n\u001b[0m",
      "\u001b[0;32m~/opt/anaconda3/lib/python3.8/site-packages/pandas/core/groupby/groupby.py\u001b[0m in \u001b[0;36m__getattr__\u001b[0;34m(self, attr)\u001b[0m\n\u001b[1;32m    750\u001b[0m             \u001b[0;32mreturn\u001b[0m \u001b[0mself\u001b[0m\u001b[0;34m[\u001b[0m\u001b[0mattr\u001b[0m\u001b[0;34m]\u001b[0m\u001b[0;34m\u001b[0m\u001b[0;34m\u001b[0m\u001b[0m\n\u001b[1;32m    751\u001b[0m \u001b[0;34m\u001b[0m\u001b[0m\n\u001b[0;32m--> 752\u001b[0;31m         raise AttributeError(\n\u001b[0m\u001b[1;32m    753\u001b[0m             \u001b[0;34mf\"'{type(self).__name__}' object has no attribute '{attr}'\"\u001b[0m\u001b[0;34m\u001b[0m\u001b[0;34m\u001b[0m\u001b[0m\n\u001b[1;32m    754\u001b[0m         )\n",
      "\u001b[0;31mAttributeError\u001b[0m: 'SeriesGroupBy' object has no attribute 'sort_values'"
     ]
    }
   ],
   "source": [
    "ratings_movies.sort_values([\"star_rating\"])"
   ]
  },
  {
   "cell_type": "markdown",
   "id": "4538ec88-2718-4170-be31-8283d53446fc",
   "metadata": {},
   "source": [
    "---"
   ]
  },
  {
   "cell_type": "markdown",
   "id": "f64aeea7-9bee-4d6e-9286-c3fa10f83b49",
   "metadata": {},
   "source": [
    "## Bonus questions! "
   ]
  },
  {
   "cell_type": "markdown",
   "id": "791e4e9a-99a9-42bc-8297-42c1105df1d2",
   "metadata": {},
   "source": [
    "#### How many movies start with \"The\"?"
   ]
  },
  {
   "cell_type": "code",
   "execution_count": null,
   "id": "cd1d9885-2f50-4068-89f7-4d96ad192541",
   "metadata": {},
   "outputs": [],
   "source": []
  },
  {
   "cell_type": "code",
   "execution_count": null,
   "id": "4afa8f02-d0fb-4e68-9513-2ea704bf44c0",
   "metadata": {},
   "outputs": [],
   "source": []
  },
  {
   "cell_type": "markdown",
   "id": "23b983a1-9797-46da-84fd-4e42fd45552f",
   "metadata": {},
   "source": [
    "#### What movie title has the most characters in its name? "
   ]
  },
  {
   "cell_type": "code",
   "execution_count": null,
   "id": "0a14c34f-4cdb-435a-80d1-25b8fee8c2ff",
   "metadata": {},
   "outputs": [],
   "source": []
  },
  {
   "cell_type": "code",
   "execution_count": null,
   "id": "b93fc762-48cb-4ce6-a01a-18dacd0d36bb",
   "metadata": {},
   "outputs": [],
   "source": []
  },
  {
   "cell_type": "code",
   "execution_count": null,
   "id": "33b0a33e-9b7b-4c75-afa3-7f67cd4f5d5d",
   "metadata": {},
   "outputs": [],
   "source": []
  },
  {
   "cell_type": "markdown",
   "id": "5e3ea9b6-9205-426b-8ab8-f99262c6faa3",
   "metadata": {},
   "source": [
    "#### What percentage of all the movies are in the crime genre? "
   ]
  },
  {
   "cell_type": "code",
   "execution_count": null,
   "id": "51745d7d-829d-4b61-b717-8437cd520aa7",
   "metadata": {},
   "outputs": [],
   "source": []
  },
  {
   "cell_type": "code",
   "execution_count": null,
   "id": "1e1500ed-bf23-4a10-8d1e-455c44ecc5b8",
   "metadata": {},
   "outputs": [],
   "source": []
  },
  {
   "cell_type": "markdown",
   "id": "4483c96a-bdf2-4ce9-859d-3b352400089c",
   "metadata": {},
   "source": [
    "#### What percentage of movies featuring Meryl Streep are 'long' vs. 'not long'?"
   ]
  },
  {
   "cell_type": "code",
   "execution_count": null,
   "id": "d44ecb8b-a194-45e1-a9a3-f3d66da4e7cd",
   "metadata": {},
   "outputs": [],
   "source": []
  },
  {
   "cell_type": "code",
   "execution_count": null,
   "id": "34ee17c2-1b86-4429-9d1a-6652a6e674df",
   "metadata": {},
   "outputs": [],
   "source": []
  },
  {
   "cell_type": "code",
   "execution_count": null,
   "id": "ec164750-a7ff-4251-93fe-58641d293af6",
   "metadata": {},
   "outputs": [],
   "source": []
  }
 ],
 "metadata": {
  "kernelspec": {
   "display_name": "Python 3",
   "language": "python",
   "name": "python3"
  },
  "language_info": {
   "codemirror_mode": {
    "name": "ipython",
    "version": 3
   },
   "file_extension": ".py",
   "mimetype": "text/x-python",
   "name": "python",
   "nbconvert_exporter": "python",
   "pygments_lexer": "ipython3",
   "version": "3.8.8"
  }
 },
 "nbformat": 4,
 "nbformat_minor": 5
}
