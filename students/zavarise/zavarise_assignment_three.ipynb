{
 "cells": [
  {
   "cell_type": "markdown",
   "id": "98077971-87b9-4dfc-9afe-06ed3f92a28f",
   "metadata": {},
   "source": [
    "Assignment 3"
   ]
  },
  {
   "cell_type": "markdown",
   "id": "7606243d-b026-46af-adfa-6d6dfa8f06e3",
   "metadata": {},
   "source": [
    "#### Load our Python tools"
   ]
  },
  {
   "cell_type": "code",
   "execution_count": 1,
   "id": "ca566512-ad02-4813-901b-a2676a84b593",
   "metadata": {},
   "outputs": [],
   "source": [
    "import pandas as pd"
   ]
  },
  {
   "cell_type": "code",
   "execution_count": 2,
   "id": "0d76fe50-3877-4c54-b096-5af96b68f0a9",
   "metadata": {},
   "outputs": [],
   "source": [
    "df = pd.read_csv('https://raw.githubusercontent.com/stiles/usc/main/data/raw/demolition_permit.csv')"
   ]
  },
  {
   "cell_type": "markdown",
   "id": "90b3e9ee-fc25-417b-9c6b-d84588789bec",
   "metadata": {
    "tags": []
   },
   "source": [
    "### what does the data look like"
   ]
  },
  {
   "cell_type": "code",
   "execution_count": 6,
   "id": "83cc8a97-a1cb-4f89-9e2d-ff9bbd9a465f",
   "metadata": {},
   "outputs": [
    {
     "data": {
      "text/html": [
       "<div>\n",
       "<style scoped>\n",
       "    .dataframe tbody tr th:only-of-type {\n",
       "        vertical-align: middle;\n",
       "    }\n",
       "\n",
       "    .dataframe tbody tr th {\n",
       "        vertical-align: top;\n",
       "    }\n",
       "\n",
       "    .dataframe thead th {\n",
       "        text-align: right;\n",
       "    }\n",
       "</style>\n",
       "<table border=\"1\" class=\"dataframe\">\n",
       "  <thead>\n",
       "    <tr style=\"text-align: right;\">\n",
       "      <th></th>\n",
       "      <th>assessor book</th>\n",
       "      <th>assessor page</th>\n",
       "      <th>assessor parcel</th>\n",
       "      <th>tract</th>\n",
       "      <th>block</th>\n",
       "      <th>lot</th>\n",
       "      <th>reference # (old permit #)</th>\n",
       "      <th>pcis permit #</th>\n",
       "      <th>status</th>\n",
       "      <th>status date</th>\n",
       "      <th>...</th>\n",
       "      <th>applicant last name</th>\n",
       "      <th>applicant business name</th>\n",
       "      <th>applicant address 1</th>\n",
       "      <th>applicant address 2</th>\n",
       "      <th>applicant address 3</th>\n",
       "      <th>zone</th>\n",
       "      <th>occupancy</th>\n",
       "      <th>floor area-l.a. building code definition</th>\n",
       "      <th>census tract</th>\n",
       "      <th>latitude/longitude</th>\n",
       "    </tr>\n",
       "  </thead>\n",
       "  <tbody>\n",
       "    <tr>\n",
       "      <th>0</th>\n",
       "      <td>4286</td>\n",
       "      <td>14</td>\n",
       "      <td>25</td>\n",
       "      <td>OCEAN PARK PLACE</td>\n",
       "      <td>NaN</td>\n",
       "      <td>54</td>\n",
       "      <td>18WL90365</td>\n",
       "      <td>18019-30000-00302</td>\n",
       "      <td>Permit Finaled</td>\n",
       "      <td>10/30/2020 12:00:00 AM</td>\n",
       "      <td>...</td>\n",
       "      <td>MAALOUF</td>\n",
       "      <td>NaN</td>\n",
       "      <td>NaN</td>\n",
       "      <td>NaN</td>\n",
       "      <td>NaN</td>\n",
       "      <td>RD1.5-1</td>\n",
       "      <td>NaN</td>\n",
       "      <td>-360.0</td>\n",
       "      <td>2734.02</td>\n",
       "      <td>(33.9924, -118.47526)</td>\n",
       "    </tr>\n",
       "    <tr>\n",
       "      <th>1</th>\n",
       "      <td>5054</td>\n",
       "      <td>16</td>\n",
       "      <td>14</td>\n",
       "      <td>WEST ADAMS STREET TRACT</td>\n",
       "      <td>NaN</td>\n",
       "      <td>34</td>\n",
       "      <td>20LA42698</td>\n",
       "      <td>19019-30000-06037</td>\n",
       "      <td>Permit Finaled</td>\n",
       "      <td>10/30/2020 12:00:00 AM</td>\n",
       "      <td>...</td>\n",
       "      <td>GENCHEWA</td>\n",
       "      <td>NaN</td>\n",
       "      <td>8416 HAROLD WAY</td>\n",
       "      <td>NaN</td>\n",
       "      <td>LOS ANGELES CA</td>\n",
       "      <td>RD1.5-1-O-HPOZ</td>\n",
       "      <td>NaN</td>\n",
       "      <td>-384.0</td>\n",
       "      <td>2222.00</td>\n",
       "      <td>(34.03157, -118.29609)</td>\n",
       "    </tr>\n",
       "    <tr>\n",
       "      <th>2</th>\n",
       "      <td>4316</td>\n",
       "      <td>16</td>\n",
       "      <td>16</td>\n",
       "      <td>TR 15593</td>\n",
       "      <td>NaN</td>\n",
       "      <td>111</td>\n",
       "      <td>20WL04473</td>\n",
       "      <td>20019-30000-00183</td>\n",
       "      <td>Issued</td>\n",
       "      <td>01/13/2020 12:00:00 AM</td>\n",
       "      <td>...</td>\n",
       "      <td>BIBAWI</td>\n",
       "      <td>NaN</td>\n",
       "      <td>NaN</td>\n",
       "      <td>NaN</td>\n",
       "      <td>NaN</td>\n",
       "      <td>R1V2</td>\n",
       "      <td>NaN</td>\n",
       "      <td>-2638.0</td>\n",
       "      <td>2690.00</td>\n",
       "      <td>(34.03481, -118.40391)</td>\n",
       "    </tr>\n",
       "    <tr>\n",
       "      <th>3</th>\n",
       "      <td>4249</td>\n",
       "      <td>18</td>\n",
       "      <td>9</td>\n",
       "      <td>TR 13371</td>\n",
       "      <td>NaN</td>\n",
       "      <td>154</td>\n",
       "      <td>20WL06439</td>\n",
       "      <td>20019-30000-03251</td>\n",
       "      <td>Permit Finaled</td>\n",
       "      <td>10/30/2020 12:00:00 AM</td>\n",
       "      <td>...</td>\n",
       "      <td>REES</td>\n",
       "      <td>NaN</td>\n",
       "      <td>NaN</td>\n",
       "      <td>NaN</td>\n",
       "      <td>NaN</td>\n",
       "      <td>R1V2</td>\n",
       "      <td>NaN</td>\n",
       "      <td>-2597.0</td>\n",
       "      <td>2719.02</td>\n",
       "      <td>(34.01355, -118.43075)</td>\n",
       "    </tr>\n",
       "    <tr>\n",
       "      <th>4</th>\n",
       "      <td>4265</td>\n",
       "      <td>21</td>\n",
       "      <td>15</td>\n",
       "      <td>SAN VICENTE PARK</td>\n",
       "      <td>5</td>\n",
       "      <td>15</td>\n",
       "      <td>19WL02462</td>\n",
       "      <td>19019-30000-04653</td>\n",
       "      <td>Permit Finaled</td>\n",
       "      <td>01/15/2020 12:00:00 AM</td>\n",
       "      <td>...</td>\n",
       "      <td>BROWN</td>\n",
       "      <td>NaN</td>\n",
       "      <td>NaN</td>\n",
       "      <td>NaN</td>\n",
       "      <td>NaN</td>\n",
       "      <td>R1-1</td>\n",
       "      <td>NaN</td>\n",
       "      <td>-400.0</td>\n",
       "      <td>2643.02</td>\n",
       "      <td>(34.04858, -118.46933)</td>\n",
       "    </tr>\n",
       "  </tbody>\n",
       "</table>\n",
       "<p>5 rows × 54 columns</p>\n",
       "</div>"
      ],
      "text/plain": [
       "   assessor book  assessor page  assessor parcel                    tract  \\\n",
       "0           4286             14               25         OCEAN PARK PLACE   \n",
       "1           5054             16               14  WEST ADAMS STREET TRACT   \n",
       "2           4316             16               16                 TR 15593   \n",
       "3           4249             18                9                 TR 13371   \n",
       "4           4265             21               15         SAN VICENTE PARK   \n",
       "\n",
       "  block  lot reference # (old permit #)      pcis permit #          status  \\\n",
       "0   NaN   54                  18WL90365  18019-30000-00302  Permit Finaled   \n",
       "1   NaN   34                  20LA42698  19019-30000-06037  Permit Finaled   \n",
       "2   NaN  111                  20WL04473  20019-30000-00183          Issued   \n",
       "3   NaN  154                  20WL06439  20019-30000-03251  Permit Finaled   \n",
       "4     5   15                  19WL02462  19019-30000-04653  Permit Finaled   \n",
       "\n",
       "              status date  ... applicant last name applicant business name  \\\n",
       "0  10/30/2020 12:00:00 AM  ...             MAALOUF                     NaN   \n",
       "1  10/30/2020 12:00:00 AM  ...            GENCHEWA                     NaN   \n",
       "2  01/13/2020 12:00:00 AM  ...              BIBAWI                     NaN   \n",
       "3  10/30/2020 12:00:00 AM  ...                REES                     NaN   \n",
       "4  01/15/2020 12:00:00 AM  ...               BROWN                     NaN   \n",
       "\n",
       "  applicant address 1  applicant address 2  applicant address 3  \\\n",
       "0                 NaN                  NaN                  NaN   \n",
       "1     8416 HAROLD WAY                  NaN       LOS ANGELES CA   \n",
       "2                 NaN                  NaN                  NaN   \n",
       "3                 NaN                  NaN                  NaN   \n",
       "4                 NaN                  NaN                  NaN   \n",
       "\n",
       "             zone occupancy  floor area-l.a. building code definition  \\\n",
       "0         RD1.5-1       NaN                                    -360.0   \n",
       "1  RD1.5-1-O-HPOZ       NaN                                    -384.0   \n",
       "2            R1V2       NaN                                   -2638.0   \n",
       "3            R1V2       NaN                                   -2597.0   \n",
       "4            R1-1       NaN                                    -400.0   \n",
       "\n",
       "  census tract      latitude/longitude  \n",
       "0      2734.02   (33.9924, -118.47526)  \n",
       "1      2222.00  (34.03157, -118.29609)  \n",
       "2      2690.00  (34.03481, -118.40391)  \n",
       "3      2719.02  (34.01355, -118.43075)  \n",
       "4      2643.02  (34.04858, -118.46933)  \n",
       "\n",
       "[5 rows x 54 columns]"
      ]
     },
     "execution_count": 6,
     "metadata": {},
     "output_type": "execute_result"
    }
   ],
   "source": [
    "df.head()"
   ]
  },
  {
   "cell_type": "code",
   "execution_count": 5,
   "id": "c43703e4-5c05-4269-8432-b48a102a0d43",
   "metadata": {},
   "outputs": [],
   "source": [
    "df.columns=df.columns.str.lower()"
   ]
  },
  {
   "cell_type": "markdown",
   "id": "6685b745-b2ce-449e-8aea-27961e64978f",
   "metadata": {
    "tags": []
   },
   "source": [
    "Count the number of rows in your data with len()"
   ]
  },
  {
   "cell_type": "code",
   "execution_count": 15,
   "id": "dbce37e2-f1e4-43af-b7ce-03dee9f7a67a",
   "metadata": {},
   "outputs": [
    {
     "data": {
      "text/plain": [
       "3044"
      ]
     },
     "execution_count": 15,
     "metadata": {},
     "output_type": "execute_result"
    }
   ],
   "source": [
    "len(df)"
   ]
  },
  {
   "cell_type": "markdown",
   "id": "98d096bc-b75c-487f-84ee-df9548282671",
   "metadata": {},
   "source": [
    "Sort your data with sort_values()"
   ]
  },
  {
   "cell_type": "markdown",
   "id": "5a765255-6dc4-4222-9759-1d0100956d1a",
   "metadata": {},
   "source": [
    "\n",
    "Sort your data with sort_values()\n",
    "Count values on a column using value_counts()\n",
    "Explore distributions with describe()"
   ]
  },
  {
   "cell_type": "code",
   "execution_count": null,
   "id": "5d092b9e-c245-4fc1-892d-9b70aa17ec89",
   "metadata": {},
   "outputs": [],
   "source": []
  },
  {
   "cell_type": "markdown",
   "id": "d795815b-a959-4579-a76a-b0a0672b9b29",
   "metadata": {},
   "source": []
  },
  {
   "cell_type": "markdown",
   "id": "291d9e0c-8e04-4f74-8dfa-5af473b14927",
   "metadata": {},
   "source": []
  },
  {
   "cell_type": "markdown",
   "id": "02bbb0cc-40aa-415c-b54a-b1ce405c56b1",
   "metadata": {},
   "source": []
  },
  {
   "cell_type": "code",
   "execution_count": null,
   "id": "7c4bab26-658a-4870-9249-e16bd3323564",
   "metadata": {},
   "outputs": [],
   "source": []
  },
  {
   "cell_type": "markdown",
   "id": "117f40d6-ea57-445f-8f36-2c4d8fe7ccbf",
   "metadata": {},
   "source": []
  },
  {
   "cell_type": "code",
   "execution_count": null,
   "id": "60a7ad3f-13b0-4ed0-ab0e-3ab11e55fd98",
   "metadata": {},
   "outputs": [],
   "source": []
  },
  {
   "cell_type": "markdown",
   "id": "bf4eb5d0-3d19-446b-8269-f1260b945510",
   "metadata": {},
   "source": []
  },
  {
   "cell_type": "code",
   "execution_count": null,
   "id": "b10d0687-7812-4690-8ac2-6176c4f21f24",
   "metadata": {},
   "outputs": [],
   "source": []
  },
  {
   "cell_type": "markdown",
   "id": "bdc528d6-231e-43aa-a868-e9f0910a9f86",
   "metadata": {},
   "source": []
  },
  {
   "cell_type": "code",
   "execution_count": null,
   "id": "94a2df6f-8ea2-442e-80a8-c647ac195db8",
   "metadata": {},
   "outputs": [],
   "source": []
  },
  {
   "cell_type": "code",
   "execution_count": null,
   "id": "2f84bdc4-9dbd-40df-8f7a-b3a71c5c4761",
   "metadata": {},
   "outputs": [],
   "source": []
  },
  {
   "cell_type": "markdown",
   "id": "372bc259-a0d6-40d2-a204-f80e8b6dc89f",
   "metadata": {},
   "source": []
  },
  {
   "cell_type": "code",
   "execution_count": null,
   "id": "8e73e925-820a-419f-9e88-1ef5cbd98957",
   "metadata": {},
   "outputs": [],
   "source": []
  },
  {
   "cell_type": "markdown",
   "id": "a2b169f8-f795-4e4e-8ec6-9d3a0e3c5251",
   "metadata": {},
   "source": []
  },
  {
   "cell_type": "code",
   "execution_count": null,
   "id": "7b759274-54da-4998-b2e6-f5285c17e079",
   "metadata": {},
   "outputs": [],
   "source": []
  },
  {
   "cell_type": "markdown",
   "id": "615cf21d-ce09-40a4-8de1-195dca0c62f9",
   "metadata": {},
   "source": []
  },
  {
   "cell_type": "code",
   "execution_count": null,
   "id": "49d61ebc-0e12-42cc-8121-2abeb0d27fc9",
   "metadata": {},
   "outputs": [],
   "source": [
    "\n",
    "\n"
   ]
  },
  {
   "cell_type": "code",
   "execution_count": null,
   "id": "8ad22070-21a0-4c75-9666-4b612746266a",
   "metadata": {},
   "outputs": [],
   "source": []
  },
  {
   "cell_type": "markdown",
   "id": "b8a66968-54eb-4445-8a12-52b10d1e92db",
   "metadata": {},
   "source": []
  },
  {
   "cell_type": "code",
   "execution_count": null,
   "id": "758a0866-755d-4aad-8f98-3e2aeebd4f29",
   "metadata": {},
   "outputs": [],
   "source": []
  },
  {
   "cell_type": "code",
   "execution_count": null,
   "id": "fc167202-7a5d-4051-a09f-bcda4e645b31",
   "metadata": {},
   "outputs": [],
   "source": []
  },
  {
   "cell_type": "code",
   "execution_count": null,
   "id": "aa44961d-7406-4fdc-a61a-780fbf15c803",
   "metadata": {},
   "outputs": [],
   "source": []
  },
  {
   "cell_type": "markdown",
   "id": "aeaaef58-165f-459d-88cd-46423842a39f",
   "metadata": {},
   "source": []
  },
  {
   "cell_type": "markdown",
   "id": "09d1b765-e907-4141-af9d-f34beccd912c",
   "metadata": {},
   "source": []
  },
  {
   "cell_type": "markdown",
   "id": "aa062bb9-b5df-482c-82b6-057079ab9e8d",
   "metadata": {},
   "source": []
  },
  {
   "cell_type": "code",
   "execution_count": null,
   "id": "cfd368de-1674-4fb1-a25c-f6e14f83cedf",
   "metadata": {},
   "outputs": [],
   "source": []
  },
  {
   "cell_type": "markdown",
   "id": "f1a231fd-ed3b-4eb4-8761-547c0747da17",
   "metadata": {},
   "source": []
  },
  {
   "cell_type": "code",
   "execution_count": null,
   "id": "5a80f9c2-b121-4b03-86f3-af7af84e0cb9",
   "metadata": {},
   "outputs": [],
   "source": []
  },
  {
   "cell_type": "code",
   "execution_count": null,
   "id": "6575f729-a9c3-4b7a-8998-842ccc6e9146",
   "metadata": {},
   "outputs": [],
   "source": []
  },
  {
   "cell_type": "markdown",
   "id": "f2ee6877-997e-45ec-9507-6322636a2dc5",
   "metadata": {},
   "source": []
  },
  {
   "cell_type": "code",
   "execution_count": null,
   "id": "61f0690c-b852-4f96-a81d-c91ee03703cf",
   "metadata": {},
   "outputs": [],
   "source": []
  },
  {
   "cell_type": "code",
   "execution_count": null,
   "id": "d1b5b6ba-10c4-4d29-bdfc-985db7f3ece6",
   "metadata": {},
   "outputs": [],
   "source": []
  },
  {
   "cell_type": "code",
   "execution_count": null,
   "id": "e06f0f7a-2f33-4ee3-a7c7-64d534f81e00",
   "metadata": {},
   "outputs": [],
   "source": []
  },
  {
   "cell_type": "markdown",
   "id": "3cf978c1-9888-4536-8385-1997e3da954b",
   "metadata": {},
   "source": []
  },
  {
   "cell_type": "code",
   "execution_count": null,
   "id": "e1bd5800-e182-4527-ab50-f2581668fe41",
   "metadata": {},
   "outputs": [],
   "source": []
  },
  {
   "cell_type": "code",
   "execution_count": null,
   "id": "b4b90c9b-32cc-4404-aa62-b5096164c195",
   "metadata": {},
   "outputs": [],
   "source": []
  },
  {
   "cell_type": "code",
   "execution_count": null,
   "id": "7e897866-6f21-4cf8-b0fc-7b93635e77c8",
   "metadata": {},
   "outputs": [],
   "source": []
  },
  {
   "cell_type": "code",
   "execution_count": null,
   "id": "58520589-8e7f-4c9f-ac9d-8584df7f163d",
   "metadata": {},
   "outputs": [],
   "source": []
  }
 ],
 "metadata": {
  "kernelspec": {
   "display_name": "Python 3 (ipykernel)",
   "language": "python",
   "name": "python3"
  },
  "language_info": {
   "codemirror_mode": {
    "name": "ipython",
    "version": 3
   },
   "file_extension": ".py",
   "mimetype": "text/x-python",
   "name": "python",
   "nbconvert_exporter": "python",
   "pygments_lexer": "ipython3",
   "version": "3.9.7"
  }
 },
 "nbformat": 4,
 "nbformat_minor": 5
}
