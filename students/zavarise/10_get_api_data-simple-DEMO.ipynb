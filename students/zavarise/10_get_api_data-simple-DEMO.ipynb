{
 "cells": [
  {
   "cell_type": "markdown",
   "id": "de872774-504e-4e20-8ba5-8ab6691ebb3d",
   "metadata": {},
   "source": [
    "# Accessing data from an API"
   ]
  },
  {
   "cell_type": "markdown",
   "id": "2c84208b-1af7-49c4-9258-4ee2919f6900",
   "metadata": {},
   "source": [
    "This notebook has two simple excerises demonstrating how to extract data from an [Application Programming Interface](https://en.wikipedia.org/wiki/API). An API is a tool for computers or applications to interact with one another. In our case, we'll be asking for data, and the API will return it. These systems can be complicated, but most of those we might use in data journalism are relatively simple."
   ]
  },
  {
   "cell_type": "markdown",
   "id": "92e7b332-c581-4d4b-82f8-06aab829f80e",
   "metadata": {},
   "source": [
    "#### Import our data tools"
   ]
  },
  {
   "cell_type": "code",
   "execution_count": 1,
   "id": "e0719e5b-a9f3-46cf-a9fe-cc265c2c37a3",
   "metadata": {},
   "outputs": [],
   "source": [
    "%load_ext lab_black"
   ]
  },
  {
   "cell_type": "code",
   "execution_count": 2,
   "id": "54f28d60-f846-46c3-8c56-659a92e5806b",
   "metadata": {},
   "outputs": [],
   "source": [
    "import pandas as pd\n",
    "import requests"
   ]
  },
  {
   "cell_type": "code",
   "execution_count": 3,
   "id": "a61bdfc1-28d4-43e3-b11e-67fd894676b7",
   "metadata": {},
   "outputs": [],
   "source": [
    "pd.options.display.max_columns = 100\n",
    "pd.options.display.max_rows = 1000\n",
    "pd.options.display.max_colwidth = None"
   ]
  },
  {
   "cell_type": "markdown",
   "id": "58da4e76-be26-4247-8e82-385493b522eb",
   "metadata": {},
   "source": [
    "---"
   ]
  },
  {
   "cell_type": "markdown",
   "id": "0291ae2b-2543-48e3-843a-78cad1d3d3ce",
   "metadata": {},
   "source": [
    "## Cat facts!"
   ]
  },
  {
   "cell_type": "markdown",
   "id": "e0cd737e-d6b2-4621-bdef-b9f73c76cf2b",
   "metadata": {},
   "source": [
    "[Read the documentation](https://alexwohlbruck.github.io/cat-facts/docs/)"
   ]
  },
  {
   "cell_type": "markdown",
   "id": "6c247eb5-0900-496d-a70b-ae3fba351b21",
   "metadata": {},
   "source": [
    "#### Get random facts"
   ]
  },
  {
   "cell_type": "code",
   "execution_count": 4,
   "id": "34a6c553-5231-499b-8429-f7a507991443",
   "metadata": {},
   "outputs": [],
   "source": [
    "cat_df = pd.read_json(\n",
    "    \"https://cat-fact.herokuapp.com/facts/random?animal_type=cat&amount=500\"\n",
    ")"
   ]
  },
  {
   "cell_type": "markdown",
   "id": "1b799caa-637a-4011-9e18-c95d1f54f306",
   "metadata": {},
   "source": [
    "#### First five rows"
   ]
  },
  {
   "cell_type": "code",
   "execution_count": 5,
   "id": "63b91c0a-fa1e-42cf-934d-b7678842203f",
   "metadata": {},
   "outputs": [
    {
     "data": {
      "text/html": [
       "<div>\n",
       "<style scoped>\n",
       "    .dataframe tbody tr th:only-of-type {\n",
       "        vertical-align: middle;\n",
       "    }\n",
       "\n",
       "    .dataframe tbody tr th {\n",
       "        vertical-align: top;\n",
       "    }\n",
       "\n",
       "    .dataframe thead th {\n",
       "        text-align: right;\n",
       "    }\n",
       "</style>\n",
       "<table border=\"1\" class=\"dataframe\">\n",
       "  <thead>\n",
       "    <tr style=\"text-align: right;\">\n",
       "      <th></th>\n",
       "      <th>status</th>\n",
       "      <th>_id</th>\n",
       "      <th>user</th>\n",
       "      <th>text</th>\n",
       "      <th>type</th>\n",
       "      <th>deleted</th>\n",
       "      <th>createdAt</th>\n",
       "      <th>updatedAt</th>\n",
       "      <th>__v</th>\n",
       "      <th>source</th>\n",
       "      <th>used</th>\n",
       "      <th>sendDate</th>\n",
       "    </tr>\n",
       "  </thead>\n",
       "  <tbody>\n",
       "    <tr>\n",
       "      <th>0</th>\n",
       "      <td>{'verified': None, 'sentCount': 0}</td>\n",
       "      <td>6239fefb6f13e62a722fcfdd</td>\n",
       "      <td>61b8a19266b26cede617e5a2</td>\n",
       "      <td>Ороролом.</td>\n",
       "      <td>cat</td>\n",
       "      <td>False</td>\n",
       "      <td>2022-03-22T16:53:15.424Z</td>\n",
       "      <td>2022-03-22T16:53:15.424Z</td>\n",
       "      <td>0.0</td>\n",
       "      <td>NaN</td>\n",
       "      <td>NaN</td>\n",
       "      <td>NaN</td>\n",
       "    </tr>\n",
       "    <tr>\n",
       "      <th>1</th>\n",
       "      <td>{'verified': True, 'sentCount': 1}</td>\n",
       "      <td>5b1b3f48841d9700146158cb</td>\n",
       "      <td>5a9ac18c7478810ea6c06381</td>\n",
       "      <td>At night, Disneyland is overrun by cats. The theme park feeds them and takes care of them though, because they keep the rodent population in check.</td>\n",
       "      <td>cat</td>\n",
       "      <td>False</td>\n",
       "      <td>2018-06-21T20:20:04.352Z</td>\n",
       "      <td>2020-08-23T20:20:01.611Z</td>\n",
       "      <td>0.0</td>\n",
       "      <td>user</td>\n",
       "      <td>0.0</td>\n",
       "      <td>NaN</td>\n",
       "    </tr>\n",
       "    <tr>\n",
       "      <th>2</th>\n",
       "      <td>{'verified': None, 'sentCount': 0}</td>\n",
       "      <td>61d350b7403b4002d3795dbc</td>\n",
       "      <td>61b8566766b26cede617b4ef</td>\n",
       "      <td>222222222222222.</td>\n",
       "      <td>cat</td>\n",
       "      <td>False</td>\n",
       "      <td>2022-01-03T19:38:31.660Z</td>\n",
       "      <td>2022-01-03T19:38:31.660Z</td>\n",
       "      <td>0.0</td>\n",
       "      <td>NaN</td>\n",
       "      <td>NaN</td>\n",
       "      <td>NaN</td>\n",
       "    </tr>\n",
       "    <tr>\n",
       "      <th>3</th>\n",
       "      <td>{'verified': True, 'sentCount': 1}</td>\n",
       "      <td>591f98703b90f7150a19c179</td>\n",
       "      <td>5a9ac18c7478810ea6c06381</td>\n",
       "      <td>A cat's field of vision is about 200 degrees.</td>\n",
       "      <td>cat</td>\n",
       "      <td>False</td>\n",
       "      <td>2018-01-04T01:10:54.673Z</td>\n",
       "      <td>2020-08-23T20:20:01.611Z</td>\n",
       "      <td>0.0</td>\n",
       "      <td>api</td>\n",
       "      <td>0.0</td>\n",
       "      <td>NaN</td>\n",
       "    </tr>\n",
       "    <tr>\n",
       "      <th>4</th>\n",
       "      <td>{'verified': None, 'sentCount': 0}</td>\n",
       "      <td>61b8308866b26cede617a45e</td>\n",
       "      <td>61b82e5766b26cede617a314</td>\n",
       "      <td>While us humans have 206 bones, cats on average have 244. It ranges between 230-250 depending on how long a cat’s tail is and how many toes the cat has.</td>\n",
       "      <td>cat</td>\n",
       "      <td>False</td>\n",
       "      <td>2021-12-14T05:50:00.012Z</td>\n",
       "      <td>2021-12-14T05:50:00.012Z</td>\n",
       "      <td>0.0</td>\n",
       "      <td>NaN</td>\n",
       "      <td>NaN</td>\n",
       "      <td>NaN</td>\n",
       "    </tr>\n",
       "  </tbody>\n",
       "</table>\n",
       "</div>"
      ],
      "text/plain": [
       "                               status                       _id  \\\n",
       "0  {'verified': None, 'sentCount': 0}  6239fefb6f13e62a722fcfdd   \n",
       "1  {'verified': True, 'sentCount': 1}  5b1b3f48841d9700146158cb   \n",
       "2  {'verified': None, 'sentCount': 0}  61d350b7403b4002d3795dbc   \n",
       "3  {'verified': True, 'sentCount': 1}  591f98703b90f7150a19c179   \n",
       "4  {'verified': None, 'sentCount': 0}  61b8308866b26cede617a45e   \n",
       "\n",
       "                       user  \\\n",
       "0  61b8a19266b26cede617e5a2   \n",
       "1  5a9ac18c7478810ea6c06381   \n",
       "2  61b8566766b26cede617b4ef   \n",
       "3  5a9ac18c7478810ea6c06381   \n",
       "4  61b82e5766b26cede617a314   \n",
       "\n",
       "                                                                                                                                                       text  \\\n",
       "0                                                                                                                                                 Ороролом.   \n",
       "1       At night, Disneyland is overrun by cats. The theme park feeds them and takes care of them though, because they keep the rodent population in check.   \n",
       "2                                                                                                                                          222222222222222.   \n",
       "3                                                                                                             A cat's field of vision is about 200 degrees.   \n",
       "4  While us humans have 206 bones, cats on average have 244. It ranges between 230-250 depending on how long a cat’s tail is and how many toes the cat has.   \n",
       "\n",
       "  type  deleted                 createdAt                 updatedAt  __v  \\\n",
       "0  cat    False  2022-03-22T16:53:15.424Z  2022-03-22T16:53:15.424Z  0.0   \n",
       "1  cat    False  2018-06-21T20:20:04.352Z  2020-08-23T20:20:01.611Z  0.0   \n",
       "2  cat    False  2022-01-03T19:38:31.660Z  2022-01-03T19:38:31.660Z  0.0   \n",
       "3  cat    False  2018-01-04T01:10:54.673Z  2020-08-23T20:20:01.611Z  0.0   \n",
       "4  cat    False  2021-12-14T05:50:00.012Z  2021-12-14T05:50:00.012Z  0.0   \n",
       "\n",
       "  source  used sendDate  \n",
       "0    NaN   NaN      NaN  \n",
       "1   user   0.0      NaN  \n",
       "2    NaN   NaN      NaN  \n",
       "3    api   0.0      NaN  \n",
       "4    NaN   NaN      NaN  "
      ]
     },
     "execution_count": 5,
     "metadata": {},
     "output_type": "execute_result"
    }
   ],
   "source": [
    "cat_df.head()"
   ]
  },
  {
   "cell_type": "markdown",
   "id": "93e8eec5-3aa1-4527-9f5d-e5256b2f7cf5",
   "metadata": {},
   "source": [
    "#### How many records? "
   ]
  },
  {
   "cell_type": "code",
   "execution_count": 6,
   "id": "17ee5f8a-eebd-40e8-b624-33a8ff3bd791",
   "metadata": {},
   "outputs": [
    {
     "data": {
      "text/plain": [
       "500"
      ]
     },
     "execution_count": 6,
     "metadata": {},
     "output_type": "execute_result"
    }
   ],
   "source": [
    "len(cat_df)"
   ]
  },
  {
   "cell_type": "markdown",
   "id": "ba113498-d591-40b3-8195-2f04c5bc858f",
   "metadata": {},
   "source": [
    "#### What's the first fact?"
   ]
  },
  {
   "cell_type": "code",
   "execution_count": 7,
   "id": "70ede381-0322-40a2-896c-fa370a3859f6",
   "metadata": {},
   "outputs": [
    {
     "data": {
      "text/plain": [
       "'Ороролом.'"
      ]
     },
     "execution_count": 7,
     "metadata": {},
     "output_type": "execute_result"
    }
   ],
   "source": [
    "cat_df[\"text\"][0]"
   ]
  },
  {
   "cell_type": "code",
   "execution_count": null,
   "id": "3d14ec3a-10c9-4751-9bd9-da6b5d3a8823",
   "metadata": {},
   "outputs": [],
   "source": []
  },
  {
   "cell_type": "markdown",
   "id": "b5aec3ef-5f25-445e-9e4c-7100f9b2ce24",
   "metadata": {},
   "source": [
    "#### Exctract the nested json inside the `status` column"
   ]
  },
  {
   "cell_type": "code",
   "execution_count": 8,
   "id": "d9e75fc6-67ad-49fd-964b-04743131047e",
   "metadata": {},
   "outputs": [
    {
     "ename": "ValueError",
     "evalue": "Columns must be same length as key",
     "output_type": "error",
     "traceback": [
      "\u001b[0;31m---------------------------------------------------------------------------\u001b[0m",
      "\u001b[0;31mValueError\u001b[0m                                Traceback (most recent call last)",
      "\u001b[0;32m/var/folders/w5/3gbnk82j74g1qmgs1yk83qxr0000gn/T/ipykernel_97094/359162094.py\u001b[0m in \u001b[0;36m<module>\u001b[0;34m\u001b[0m\n\u001b[0;32m----> 1\u001b[0;31m \u001b[0mcat_df\u001b[0m\u001b[0;34m[\u001b[0m\u001b[0;34m[\u001b[0m\u001b[0;34m\"verified\"\u001b[0m\u001b[0;34m,\u001b[0m \u001b[0;34m\"sentCount\"\u001b[0m\u001b[0;34m,\u001b[0m \u001b[0;34m\"feedback\"\u001b[0m\u001b[0;34m]\u001b[0m\u001b[0;34m]\u001b[0m \u001b[0;34m=\u001b[0m \u001b[0mpd\u001b[0m\u001b[0;34m.\u001b[0m\u001b[0mjson_normalize\u001b[0m\u001b[0;34m(\u001b[0m\u001b[0mcat_df\u001b[0m\u001b[0;34m[\u001b[0m\u001b[0;34m\"status\"\u001b[0m\u001b[0;34m]\u001b[0m\u001b[0;34m)\u001b[0m\u001b[0;34m\u001b[0m\u001b[0;34m\u001b[0m\u001b[0m\n\u001b[0m",
      "\u001b[0;32m~/opt/anaconda3/lib/python3.9/site-packages/pandas/core/frame.py\u001b[0m in \u001b[0;36m__setitem__\u001b[0;34m(self, key, value)\u001b[0m\n\u001b[1;32m   3598\u001b[0m             \u001b[0mself\u001b[0m\u001b[0;34m.\u001b[0m\u001b[0m_setitem_frame\u001b[0m\u001b[0;34m(\u001b[0m\u001b[0mkey\u001b[0m\u001b[0;34m,\u001b[0m \u001b[0mvalue\u001b[0m\u001b[0;34m)\u001b[0m\u001b[0;34m\u001b[0m\u001b[0;34m\u001b[0m\u001b[0m\n\u001b[1;32m   3599\u001b[0m         \u001b[0;32melif\u001b[0m \u001b[0misinstance\u001b[0m\u001b[0;34m(\u001b[0m\u001b[0mkey\u001b[0m\u001b[0;34m,\u001b[0m \u001b[0;34m(\u001b[0m\u001b[0mSeries\u001b[0m\u001b[0;34m,\u001b[0m \u001b[0mnp\u001b[0m\u001b[0;34m.\u001b[0m\u001b[0mndarray\u001b[0m\u001b[0;34m,\u001b[0m \u001b[0mlist\u001b[0m\u001b[0;34m,\u001b[0m \u001b[0mIndex\u001b[0m\u001b[0;34m)\u001b[0m\u001b[0;34m)\u001b[0m\u001b[0;34m:\u001b[0m\u001b[0;34m\u001b[0m\u001b[0;34m\u001b[0m\u001b[0m\n\u001b[0;32m-> 3600\u001b[0;31m             \u001b[0mself\u001b[0m\u001b[0;34m.\u001b[0m\u001b[0m_setitem_array\u001b[0m\u001b[0;34m(\u001b[0m\u001b[0mkey\u001b[0m\u001b[0;34m,\u001b[0m \u001b[0mvalue\u001b[0m\u001b[0;34m)\u001b[0m\u001b[0;34m\u001b[0m\u001b[0;34m\u001b[0m\u001b[0m\n\u001b[0m\u001b[1;32m   3601\u001b[0m         \u001b[0;32melif\u001b[0m \u001b[0misinstance\u001b[0m\u001b[0;34m(\u001b[0m\u001b[0mvalue\u001b[0m\u001b[0;34m,\u001b[0m \u001b[0mDataFrame\u001b[0m\u001b[0;34m)\u001b[0m\u001b[0;34m:\u001b[0m\u001b[0;34m\u001b[0m\u001b[0;34m\u001b[0m\u001b[0m\n\u001b[1;32m   3602\u001b[0m             \u001b[0mself\u001b[0m\u001b[0;34m.\u001b[0m\u001b[0m_set_item_frame_value\u001b[0m\u001b[0;34m(\u001b[0m\u001b[0mkey\u001b[0m\u001b[0;34m,\u001b[0m \u001b[0mvalue\u001b[0m\u001b[0;34m)\u001b[0m\u001b[0;34m\u001b[0m\u001b[0;34m\u001b[0m\u001b[0m\n",
      "\u001b[0;32m~/opt/anaconda3/lib/python3.9/site-packages/pandas/core/frame.py\u001b[0m in \u001b[0;36m_setitem_array\u001b[0;34m(self, key, value)\u001b[0m\n\u001b[1;32m   3637\u001b[0m         \u001b[0;32melse\u001b[0m\u001b[0;34m:\u001b[0m\u001b[0;34m\u001b[0m\u001b[0;34m\u001b[0m\u001b[0m\n\u001b[1;32m   3638\u001b[0m             \u001b[0;32mif\u001b[0m \u001b[0misinstance\u001b[0m\u001b[0;34m(\u001b[0m\u001b[0mvalue\u001b[0m\u001b[0;34m,\u001b[0m \u001b[0mDataFrame\u001b[0m\u001b[0;34m)\u001b[0m\u001b[0;34m:\u001b[0m\u001b[0;34m\u001b[0m\u001b[0;34m\u001b[0m\u001b[0m\n\u001b[0;32m-> 3639\u001b[0;31m                 \u001b[0mcheck_key_length\u001b[0m\u001b[0;34m(\u001b[0m\u001b[0mself\u001b[0m\u001b[0;34m.\u001b[0m\u001b[0mcolumns\u001b[0m\u001b[0;34m,\u001b[0m \u001b[0mkey\u001b[0m\u001b[0;34m,\u001b[0m \u001b[0mvalue\u001b[0m\u001b[0;34m)\u001b[0m\u001b[0;34m\u001b[0m\u001b[0;34m\u001b[0m\u001b[0m\n\u001b[0m\u001b[1;32m   3640\u001b[0m                 \u001b[0;32mfor\u001b[0m \u001b[0mk1\u001b[0m\u001b[0;34m,\u001b[0m \u001b[0mk2\u001b[0m \u001b[0;32min\u001b[0m \u001b[0mzip\u001b[0m\u001b[0;34m(\u001b[0m\u001b[0mkey\u001b[0m\u001b[0;34m,\u001b[0m \u001b[0mvalue\u001b[0m\u001b[0;34m.\u001b[0m\u001b[0mcolumns\u001b[0m\u001b[0;34m)\u001b[0m\u001b[0;34m:\u001b[0m\u001b[0;34m\u001b[0m\u001b[0;34m\u001b[0m\u001b[0m\n\u001b[1;32m   3641\u001b[0m                     \u001b[0mself\u001b[0m\u001b[0;34m[\u001b[0m\u001b[0mk1\u001b[0m\u001b[0;34m]\u001b[0m \u001b[0;34m=\u001b[0m \u001b[0mvalue\u001b[0m\u001b[0;34m[\u001b[0m\u001b[0mk2\u001b[0m\u001b[0;34m]\u001b[0m\u001b[0;34m\u001b[0m\u001b[0;34m\u001b[0m\u001b[0m\n",
      "\u001b[0;32m~/opt/anaconda3/lib/python3.9/site-packages/pandas/core/indexers.py\u001b[0m in \u001b[0;36mcheck_key_length\u001b[0;34m(columns, key, value)\u001b[0m\n\u001b[1;32m    426\u001b[0m     \u001b[0;32mif\u001b[0m \u001b[0mcolumns\u001b[0m\u001b[0;34m.\u001b[0m\u001b[0mis_unique\u001b[0m\u001b[0;34m:\u001b[0m\u001b[0;34m\u001b[0m\u001b[0;34m\u001b[0m\u001b[0m\n\u001b[1;32m    427\u001b[0m         \u001b[0;32mif\u001b[0m \u001b[0mlen\u001b[0m\u001b[0;34m(\u001b[0m\u001b[0mvalue\u001b[0m\u001b[0;34m.\u001b[0m\u001b[0mcolumns\u001b[0m\u001b[0;34m)\u001b[0m \u001b[0;34m!=\u001b[0m \u001b[0mlen\u001b[0m\u001b[0;34m(\u001b[0m\u001b[0mkey\u001b[0m\u001b[0;34m)\u001b[0m\u001b[0;34m:\u001b[0m\u001b[0;34m\u001b[0m\u001b[0;34m\u001b[0m\u001b[0m\n\u001b[0;32m--> 428\u001b[0;31m             \u001b[0;32mraise\u001b[0m \u001b[0mValueError\u001b[0m\u001b[0;34m(\u001b[0m\u001b[0;34m\"Columns must be same length as key\"\u001b[0m\u001b[0;34m)\u001b[0m\u001b[0;34m\u001b[0m\u001b[0;34m\u001b[0m\u001b[0m\n\u001b[0m\u001b[1;32m    429\u001b[0m     \u001b[0;32melse\u001b[0m\u001b[0;34m:\u001b[0m\u001b[0;34m\u001b[0m\u001b[0;34m\u001b[0m\u001b[0m\n\u001b[1;32m    430\u001b[0m         \u001b[0;31m# Missing keys in columns are represented as -1\u001b[0m\u001b[0;34m\u001b[0m\u001b[0;34m\u001b[0m\u001b[0m\n",
      "\u001b[0;31mValueError\u001b[0m: Columns must be same length as key"
     ]
    }
   ],
   "source": [
    "cat_df[[\"verified\", \"sentCount\", \"feedback\"]] = pd.json_normalize(cat_df[\"status\"])"
   ]
  },
  {
   "cell_type": "code",
   "execution_count": null,
   "id": "909ba614-443d-4fd2-9451-30ddebdc7187",
   "metadata": {},
   "outputs": [],
   "source": [
    "cat_df.head()"
   ]
  },
  {
   "cell_type": "code",
   "execution_count": null,
   "id": "1fc9d246-48c8-49fd-9f7b-38ebab8808c5",
   "metadata": {},
   "outputs": [],
   "source": []
  },
  {
   "cell_type": "markdown",
   "id": "062a20c8-c39f-465d-89ff-c9e3c86c846f",
   "metadata": {},
   "source": [
    "#### Slim the dataframe"
   ]
  },
  {
   "cell_type": "code",
   "execution_count": null,
   "id": "77bd77e6-d73c-4fb9-9c80-36c5c3ef68d6",
   "metadata": {},
   "outputs": [],
   "source": [
    "cat_df_slim = cat_df[[\"_id\", \"sentCount\", \"text\", \"createdAt\", \"verified\",]].copy()"
   ]
  },
  {
   "cell_type": "code",
   "execution_count": null,
   "id": "abca92ce-82ed-4b67-8f1d-2865142aa917",
   "metadata": {},
   "outputs": [],
   "source": [
    "cat_df_slim"
   ]
  },
  {
   "cell_type": "markdown",
   "id": "2edb2ffe-5608-47b7-8f17-e745173cac6c",
   "metadata": {},
   "source": [
    "#### Just the verified facts, pls"
   ]
  },
  {
   "cell_type": "code",
   "execution_count": null,
   "id": "6094b2c4-2fed-4e22-940d-56cdf0709703",
   "metadata": {},
   "outputs": [],
   "source": [
    "verified_df = cat_df_slim[cat_df_slim[\"verified\"] == True]"
   ]
  },
  {
   "cell_type": "markdown",
   "id": "9729df76-427d-4911-a02d-e4fe71f19bc6",
   "metadata": {},
   "source": [
    "#### Find facts that mentions specific words? "
   ]
  },
  {
   "cell_type": "code",
   "execution_count": null,
   "id": "5f77a850-ea14-4bf2-9285-e1bb99b4e9ed",
   "metadata": {},
   "outputs": [],
   "source": [
    "len(verified_df)"
   ]
  },
  {
   "cell_type": "code",
   "execution_count": null,
   "id": "df191938-2700-40a0-ba49-8b5dfb20bb2f",
   "metadata": {},
   "outputs": [],
   "source": [
    "verified_df[verified_df[\"text\"].str.lower().str.contains(\"dog|food|toys\")]"
   ]
  },
  {
   "cell_type": "code",
   "execution_count": null,
   "id": "7b105d13-abec-4fe2-99fb-d9585137fa48",
   "metadata": {},
   "outputs": [],
   "source": [
    "verified_df.head()"
   ]
  },
  {
   "cell_type": "markdown",
   "id": "779b6f93-c7b9-4876-8aab-988049cbb964",
   "metadata": {},
   "source": [
    "#### Find the oldest fact? "
   ]
  },
  {
   "cell_type": "code",
   "execution_count": null,
   "id": "50f28bef-effa-4acf-94eb-25e3de0c009f",
   "metadata": {},
   "outputs": [],
   "source": [
    "verified_df.sort_values(\"createdAt\", ascending=False).head()"
   ]
  },
  {
   "cell_type": "code",
   "execution_count": null,
   "id": "f3391cbf-2f11-45ab-a2cc-e93eb8c11bf6",
   "metadata": {
    "tags": []
   },
   "outputs": [],
   "source": [
    "verified_df.dtypes"
   ]
  },
  {
   "cell_type": "code",
   "execution_count": null,
   "id": "8800b27a-6627-4c2d-a1a2-a7a02e74e245",
   "metadata": {},
   "outputs": [],
   "source": [
    "verified_df.['date'] = pd.to_datetime(verified_df[\"createdAt\"]).dt.strftime(\"%Y-%m-%d\")"
   ]
  },
  {
   "cell_type": "code",
   "execution_count": null,
   "id": "3e7fd01c-3b70-4362-81cb-b0266da62fe7",
   "metadata": {},
   "outputs": [],
   "source": []
  },
  {
   "cell_type": "markdown",
   "id": "fc179617-2c81-4305-b778-a675efb88aac",
   "metadata": {},
   "source": [
    "#### Most recent verified fact?"
   ]
  },
  {
   "cell_type": "code",
   "execution_count": null,
   "id": "484945bd-21f4-478e-9327-fd9927501bfa",
   "metadata": {},
   "outputs": [],
   "source": [
    "verified_df.sort_values('date', ascending = False).head()"
   ]
  },
  {
   "cell_type": "markdown",
   "id": "1cea13ed-842c-48cd-8522-06859a25a992",
   "metadata": {},
   "source": [
    "---"
   ]
  },
  {
   "cell_type": "markdown",
   "id": "da50f0d9-5b44-42e6-9112-950ebf7deef5",
   "metadata": {},
   "source": [
    "## Dad jokes!"
   ]
  },
  {
   "cell_type": "markdown",
   "id": "4b661117-ead2-4905-bb99-e7d1a21ac3b4",
   "metadata": {},
   "source": [
    "[Read the documentation](https://icanhazdadjoke.com/api#fetch-a-random-dad-joke)"
   ]
  },
  {
   "cell_type": "markdown",
   "id": "545cac74-46f5-42c8-99c4-3b76ab9fce26",
   "metadata": {},
   "source": [
    "#### Give the request headers so the API knows how to answer it"
   ]
  },
  {
   "cell_type": "code",
   "execution_count": 11,
   "id": "a5f7a050-8817-4b8e-b01c-e803d326c7a1",
   "metadata": {},
   "outputs": [],
   "source": [
    "headers = {\n",
    "    \"Accept\": \"application/json\",\n",
    "}"
   ]
  },
  {
   "cell_type": "markdown",
   "id": "6c36b6fc-a7a3-4bed-96d7-6d55155a5ebc",
   "metadata": {},
   "source": [
    "#### Get a response from the API in the format we requested"
   ]
  },
  {
   "cell_type": "code",
   "execution_count": 12,
   "id": "3beca3aa-5f97-47a4-9005-a2b43a9bfaaf",
   "metadata": {},
   "outputs": [],
   "source": [
    "response = requests.get(\"https://icanhazdadjoke.com/search?page=1\", headers=headers)"
   ]
  },
  {
   "cell_type": "markdown",
   "id": "bd5f5213-6217-487d-9bda-ee4ef9fe77e7",
   "metadata": {},
   "source": [
    "#### What comes back?"
   ]
  },
  {
   "cell_type": "code",
   "execution_count": 13,
   "id": "a1738b72-221d-4dbd-be09-9db02c517ba6",
   "metadata": {},
   "outputs": [
    {
     "data": {
      "text/plain": [
       "{'current_page': 1,\n",
       " 'limit': 20,\n",
       " 'next_page': 2,\n",
       " 'previous_page': 1,\n",
       " 'results': [{'id': '0189hNRf2g',\n",
       "   'joke': \"I'm tired of following my dreams. I'm just going to ask them where they are going and meet up with them later.\"},\n",
       "  {'id': '08EQZ8EQukb',\n",
       "   'joke': \"Did you hear about the guy whose whole left side was cut off? He's all right now.\"},\n",
       "  {'id': '08xHQCdx5Ed',\n",
       "   'joke': 'Why didn’t the skeleton cross the road? Because he had no guts.'},\n",
       "  {'id': '0DQKB51oGlb',\n",
       "   'joke': \"What did one nut say as he chased another nut?  I'm a cashew!\"},\n",
       "  {'id': '0DtrrOZDlyd',\n",
       "   'joke': \"Chances are if you' ve seen one shopping center, you've seen a mall.\"},\n",
       "  {'id': '0LuXvkq4Muc',\n",
       "   'joke': \"I knew I shouldn't steal a mixer from work, but it was a whisk I was willing to take.\"},\n",
       "  {'id': '0ga2EdN7prc',\n",
       "   'joke': 'How come the stadium got hot after the game? Because all of the fans left.'},\n",
       "  {'id': '0oO71TSv4Ed',\n",
       "   'joke': 'Why was it called the dark ages? Because of all the knights. '},\n",
       "  {'id': '0oz51ozk3ob', 'joke': 'A steak pun is a rare medium well done.'},\n",
       "  {'id': '0ozAXv4Mmjb',\n",
       "   'joke': 'Why did the tomato blush? Because it saw the salad dressing.'},\n",
       "  {'id': '0wcFBQfiGBd',\n",
       "   'joke': 'Did you hear the joke about the wandering nun? She was a roman catholic.'},\n",
       "  {'id': '189xHQ7pOuc',\n",
       "   'joke': 'What creature is smarter than a talking parrot? A spelling bee.'},\n",
       "  {'id': '18Elj3EIYvc',\n",
       "   'joke': \"I'll tell you what often gets over looked... garden fences.\"},\n",
       "  {'id': '18h3wcU8xAd',\n",
       "   'joke': 'Why did the kid cross the playground? To get to the other slide.'},\n",
       "  {'id': '1DIRSfx51Dd',\n",
       "   'joke': \"Why do birds fly south for the winter? Because it's too far to walk.\"},\n",
       "  {'id': '1DQZDY0gVnb',\n",
       "   'joke': \"What is a centipedes's favorite Beatle song?  I want to hold your hand, hand, hand, hand...\"},\n",
       "  {'id': '1DQZvXvX8Ed',\n",
       "   'joke': 'My first time using an elevator was an uplifting experience. The second time let me down.'},\n",
       "  {'id': '1DQZvcFBdib', 'joke': \"To be Frank, I'd have to change my name.\"},\n",
       "  {'id': '1Dt4M7Ufaxc',\n",
       "   'joke': 'Slept like a log last night … woke up in the fireplace.'},\n",
       "  {'id': '1T01LBXLuzd',\n",
       "   'joke': \"Why does a Moon-rock taste better than an Earth-rock? Because it's a little meteor.\"}],\n",
       " 'search_term': '',\n",
       " 'status': 200,\n",
       " 'total_jokes': 649,\n",
       " 'total_pages': 33}"
      ]
     },
     "execution_count": 13,
     "metadata": {},
     "output_type": "execute_result"
    }
   ],
   "source": [
    "response.json()"
   ]
  },
  {
   "cell_type": "markdown",
   "id": "74836972-64aa-4557-8d44-87be2ea316e6",
   "metadata": {},
   "source": [
    "#### What's the limit per API call? "
   ]
  },
  {
   "cell_type": "code",
   "execution_count": 14,
   "id": "f8bc9d6b-da8c-42a3-b2ae-1671bb6a8f8e",
   "metadata": {},
   "outputs": [
    {
     "data": {
      "text/plain": [
       "[{'id': '0189hNRf2g',\n",
       "  'joke': \"I'm tired of following my dreams. I'm just going to ask them where they are going and meet up with them later.\"},\n",
       " {'id': '08EQZ8EQukb',\n",
       "  'joke': \"Did you hear about the guy whose whole left side was cut off? He's all right now.\"},\n",
       " {'id': '08xHQCdx5Ed',\n",
       "  'joke': 'Why didn’t the skeleton cross the road? Because he had no guts.'},\n",
       " {'id': '0DQKB51oGlb',\n",
       "  'joke': \"What did one nut say as he chased another nut?  I'm a cashew!\"},\n",
       " {'id': '0DtrrOZDlyd',\n",
       "  'joke': \"Chances are if you' ve seen one shopping center, you've seen a mall.\"},\n",
       " {'id': '0LuXvkq4Muc',\n",
       "  'joke': \"I knew I shouldn't steal a mixer from work, but it was a whisk I was willing to take.\"},\n",
       " {'id': '0ga2EdN7prc',\n",
       "  'joke': 'How come the stadium got hot after the game? Because all of the fans left.'},\n",
       " {'id': '0oO71TSv4Ed',\n",
       "  'joke': 'Why was it called the dark ages? Because of all the knights. '},\n",
       " {'id': '0oz51ozk3ob', 'joke': 'A steak pun is a rare medium well done.'},\n",
       " {'id': '0ozAXv4Mmjb',\n",
       "  'joke': 'Why did the tomato blush? Because it saw the salad dressing.'},\n",
       " {'id': '0wcFBQfiGBd',\n",
       "  'joke': 'Did you hear the joke about the wandering nun? She was a roman catholic.'},\n",
       " {'id': '189xHQ7pOuc',\n",
       "  'joke': 'What creature is smarter than a talking parrot? A spelling bee.'},\n",
       " {'id': '18Elj3EIYvc',\n",
       "  'joke': \"I'll tell you what often gets over looked... garden fences.\"},\n",
       " {'id': '18h3wcU8xAd',\n",
       "  'joke': 'Why did the kid cross the playground? To get to the other slide.'},\n",
       " {'id': '1DIRSfx51Dd',\n",
       "  'joke': \"Why do birds fly south for the winter? Because it's too far to walk.\"},\n",
       " {'id': '1DQZDY0gVnb',\n",
       "  'joke': \"What is a centipedes's favorite Beatle song?  I want to hold your hand, hand, hand, hand...\"},\n",
       " {'id': '1DQZvXvX8Ed',\n",
       "  'joke': 'My first time using an elevator was an uplifting experience. The second time let me down.'},\n",
       " {'id': '1DQZvcFBdib', 'joke': \"To be Frank, I'd have to change my name.\"},\n",
       " {'id': '1Dt4M7Ufaxc',\n",
       "  'joke': 'Slept like a log last night … woke up in the fireplace.'},\n",
       " {'id': '1T01LBXLuzd',\n",
       "  'joke': \"Why does a Moon-rock taste better than an Earth-rock? Because it's a little meteor.\"}]"
      ]
     },
     "execution_count": 14,
     "metadata": {},
     "output_type": "execute_result"
    }
   ],
   "source": [
    "response.json()[\"results\"]"
   ]
  },
  {
   "cell_type": "markdown",
   "id": "3421f21a-befb-49f9-bd8f-ea0a5cb9d702",
   "metadata": {},
   "source": [
    "#### How many total jokes? "
   ]
  },
  {
   "cell_type": "code",
   "execution_count": 18,
   "id": "6a6c30cf-f0fe-4aca-992c-80ca69c5c7da",
   "metadata": {},
   "outputs": [
    {
     "data": {
      "text/plain": [
       "649"
      ]
     },
     "execution_count": 18,
     "metadata": {},
     "output_type": "execute_result"
    }
   ],
   "source": [
    "response.json()[\"total_jokes\"]"
   ]
  },
  {
   "cell_type": "markdown",
   "id": "8545cf74-5e07-4f6a-96d2-226c129f8276",
   "metadata": {},
   "source": [
    "#### How many pages of 20 jokes? "
   ]
  },
  {
   "cell_type": "code",
   "execution_count": null,
   "id": "819b33b4-dcfe-488e-9501-e9c8dbbcb008",
   "metadata": {},
   "outputs": [],
   "source": []
  },
  {
   "cell_type": "markdown",
   "id": "c2024f47-4ed9-4209-aeed-94ebf195eff1",
   "metadata": {},
   "source": [
    "#### Ok, just the jokes"
   ]
  },
  {
   "cell_type": "code",
   "execution_count": 16,
   "id": "cff80dff-e568-4f2d-843e-18c494f88a75",
   "metadata": {},
   "outputs": [],
   "source": [
    "jokes_df = pd.DataFrame(response.json()[\"results\"])"
   ]
  },
  {
   "cell_type": "markdown",
   "id": "a3cce074-468e-443e-8d43-e13ad3f6e702",
   "metadata": {},
   "source": [
    "#### How many records?"
   ]
  },
  {
   "cell_type": "code",
   "execution_count": 17,
   "id": "353b9393-c717-4b52-a19d-44ecbf793e16",
   "metadata": {},
   "outputs": [
    {
     "data": {
      "text/plain": [
       "20"
      ]
     },
     "execution_count": 17,
     "metadata": {},
     "output_type": "execute_result"
    }
   ],
   "source": [
    "len(jokes_df)"
   ]
  },
  {
   "cell_type": "markdown",
   "id": "31409e11-3a00-465f-80da-59f18eacbba8",
   "metadata": {},
   "source": [
    "#### Get all the jokes with a loop"
   ]
  },
  {
   "cell_type": "code",
   "execution_count": null,
   "id": "723d8553-dce0-42ad-8467-684e24a423e3",
   "metadata": {},
   "outputs": [],
   "source": []
  },
  {
   "cell_type": "markdown",
   "id": "2bc5b2ba-7bc8-4de5-8d73-9a6c440d4934",
   "metadata": {},
   "source": [
    "#### How many? "
   ]
  },
  {
   "cell_type": "code",
   "execution_count": null,
   "id": "42d445b1-9ed5-460e-a66d-41ccbfcd6659",
   "metadata": {},
   "outputs": [],
   "source": []
  },
  {
   "cell_type": "markdown",
   "id": "40e04375-1eeb-4d05-a377-e14177939fe8",
   "metadata": {},
   "source": [
    "#### Export "
   ]
  },
  {
   "cell_type": "code",
   "execution_count": null,
   "id": "64087eec-99e6-4cea-8f83-eb06c88099cc",
   "metadata": {},
   "outputs": [],
   "source": []
  }
 ],
 "metadata": {
  "kernelspec": {
   "display_name": "Python 3 (ipykernel)",
   "language": "python",
   "name": "python3"
  },
  "language_info": {
   "codemirror_mode": {
    "name": "ipython",
    "version": 3
   },
   "file_extension": ".py",
   "mimetype": "text/x-python",
   "name": "python",
   "nbconvert_exporter": "python",
   "pygments_lexer": "ipython3",
   "version": "3.9.7"
  }
 },
 "nbformat": 4,
 "nbformat_minor": 5
}
