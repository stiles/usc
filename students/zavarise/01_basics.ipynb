{
 "cells": [
  {
   "cell_type": "markdown",
   "id": "98077971-87b9-4dfc-9afe-06ed3f92a28f",
   "metadata": {},
   "source": [
    "# Week 4: An intro to Python, Pandas and Jupyter "
   ]
  },
  {
   "cell_type": "markdown",
   "id": "178eff46-37f3-429e-bde5-c5507a1db115",
   "metadata": {},
   "source": [
    "## Environment basics\n",
    "- Class [Github repo](https://github.com/stiles/usc)\n",
    "- Structure and workflow\n",
    "- Clone repo using Github Desktop | [documentation](https://docs.github.com/en/desktop/contributing-and-collaborating-using-github-desktop/adding-and-cloning-repositories/cloning-a-repository-from-github-to-github-desktop)\n",
    "- Set a directory structure locally and stick to it!"
   ]
  },
  {
   "cell_type": "markdown",
   "id": "c2d222dd-5afe-46a9-9437-b293062641c3",
   "metadata": {},
   "source": [
    "### Jupyter Lab interface basics\n",
    "- Directory pane\n",
    "- [Documentation](https://jupyterlab.readthedocs.io/en/stable/)\n",
    "- Typing and executing code in cells\n",
    "- Cell types\n",
    "- Running/restarting a notebook\n",
    "- Markdown/documentation\n",
    "- Keyboard shortcuts\n",
    "- Copy/paste cells"
   ]
  },
  {
   "cell_type": "markdown",
   "id": "ec3c201c-7865-4776-bdae-e96a068d5b87",
   "metadata": {},
   "source": [
    "### Import Python tools\n",
    "These are the Python libraries we will use to complete our work. Here we only need to import [Pandas](https://pandas.pydata.org/docs/getting_started/index.html#getting-started). "
   ]
  },
  {
   "cell_type": "code",
   "execution_count": 16,
   "id": "935de077-06e7-4310-8331-92f9b9d525b4",
   "metadata": {},
   "outputs": [],
   "source": [
    "import pandas as pd"
   ]
  },
  {
   "cell_type": "markdown",
   "id": "e772d16e-565c-48b7-828e-6460f09912ee",
   "metadata": {},
   "source": [
    "### Now what? "
   ]
  },
  {
   "cell_type": "markdown",
   "id": "3eb18dbd-e47d-46f6-aa22-79d14175c6fa",
   "metadata": {},
   "source": [
    "#### Let's start with simple math"
   ]
  },
  {
   "cell_type": "code",
   "execution_count": 17,
   "id": "fd8a7283-73f7-4acd-926b-454c00973d70",
   "metadata": {},
   "outputs": [
    {
     "data": {
      "text/plain": [
       "16"
      ]
     },
     "execution_count": 17,
     "metadata": {},
     "output_type": "execute_result"
    }
   ],
   "source": [
    "10 + 6"
   ]
  },
  {
   "cell_type": "code",
   "execution_count": 18,
   "id": "9fb50d9c-b9ce-4d4d-adc4-3c463cb6efae",
   "metadata": {},
   "outputs": [
    {
     "data": {
      "text/plain": [
       "20.0"
      ]
     },
     "execution_count": 18,
     "metadata": {},
     "output_type": "execute_result"
    }
   ],
   "source": [
    "100 / 5"
   ]
  },
  {
   "cell_type": "code",
   "execution_count": 19,
   "id": "68f14b46-b3c4-409f-a968-8e7b042edef1",
   "metadata": {},
   "outputs": [
    {
     "data": {
      "text/plain": [
       "60"
      ]
     },
     "execution_count": 19,
     "metadata": {},
     "output_type": "execute_result"
    }
   ],
   "source": [
    "6 * 10"
   ]
  },
  {
   "cell_type": "markdown",
   "id": "9fa9039d-5b11-4135-b91c-d280891c36a7",
   "metadata": {},
   "source": [
    "#### Defining a variable"
   ]
  },
  {
   "cell_type": "code",
   "execution_count": 20,
   "id": "9512d64e-b1d7-4693-b147-cea23eb149d6",
   "metadata": {},
   "outputs": [],
   "source": [
    "number = 100"
   ]
  },
  {
   "cell_type": "code",
   "execution_count": 21,
   "id": "aaa2c5fa-6ff8-454d-81fb-b78e5b4b785e",
   "metadata": {},
   "outputs": [
    {
     "name": "stdout",
     "output_type": "stream",
     "text": [
      "100\n"
     ]
    }
   ],
   "source": [
    "print(number)"
   ]
  },
  {
   "cell_type": "code",
   "execution_count": 22,
   "id": "9e07ac5f-14ed-4e6d-9b0b-23373dae9b9a",
   "metadata": {},
   "outputs": [
    {
     "data": {
      "text/plain": [
       "103"
      ]
     },
     "execution_count": 22,
     "metadata": {},
     "output_type": "execute_result"
    }
   ],
   "source": [
    "number + 3"
   ]
  },
  {
   "cell_type": "code",
   "execution_count": 23,
   "id": "b6f26db8-6c4d-4b13-88fb-aff0dd6d6b6e",
   "metadata": {},
   "outputs": [
    {
     "name": "stdout",
     "output_type": "stream",
     "text": [
      "100 100 100\n"
     ]
    }
   ],
   "source": [
    "print(number, number, number)"
   ]
  },
  {
   "cell_type": "markdown",
   "id": "9bb9bcce-a789-47d3-ae3d-b7ac9882ad4e",
   "metadata": {},
   "source": [
    "#### Conduct a simple data analysis"
   ]
  },
  {
   "cell_type": "code",
   "execution_count": 24,
   "id": "2b3ebc8b-d51d-4741-9726-5189f2d19d4b",
   "metadata": {},
   "outputs": [],
   "source": [
    "my_list = [2, 4, 6, 8, 10, 12, 14, 16]"
   ]
  },
  {
   "cell_type": "code",
   "execution_count": 25,
   "id": "a91582b6-d124-4b8d-8450-b22f4f404b98",
   "metadata": {},
   "outputs": [
    {
     "data": {
      "text/plain": [
       "[2, 4, 6, 8, 10, 12, 14, 16]"
      ]
     },
     "execution_count": 25,
     "metadata": {},
     "output_type": "execute_result"
    }
   ],
   "source": [
    "my_list"
   ]
  },
  {
   "cell_type": "code",
   "execution_count": 26,
   "id": "1fed6ac1-6e2d-4521-a46e-676f1a7b6ca4",
   "metadata": {},
   "outputs": [],
   "source": [
    "my_series = pd.Series(my_list)"
   ]
  },
  {
   "cell_type": "code",
   "execution_count": 27,
   "id": "ab3cf535-2900-4480-837c-b5f65d9ec778",
   "metadata": {},
   "outputs": [],
   "source": [
    "# my_series = pd.Series(np.random.randint(10, 1000,size=100000000))"
   ]
  },
  {
   "cell_type": "code",
   "execution_count": 28,
   "id": "e0bfc6db-3a83-4d82-8a7e-1c86b3c91d44",
   "metadata": {},
   "outputs": [
    {
     "data": {
      "text/plain": [
       "0     2\n",
       "1     4\n",
       "2     6\n",
       "3     8\n",
       "4    10\n",
       "5    12\n",
       "6    14\n",
       "7    16\n",
       "dtype: int64"
      ]
     },
     "execution_count": 28,
     "metadata": {},
     "output_type": "execute_result"
    }
   ],
   "source": [
    "my_series"
   ]
  },
  {
   "cell_type": "markdown",
   "id": "f51886bd-2173-4c07-a598-db50f4b62c47",
   "metadata": {},
   "source": [
    "#### Descriptive statistics"
   ]
  },
  {
   "cell_type": "markdown",
   "id": "8f52a44d-1804-47b4-b507-07e07975da18",
   "metadata": {},
   "source": [
    "Once the data becomes a Series, you can immediately run a wide range of [descriptive statistics](https://en.wikipedia.org/wiki/Descriptive_statistics). Let’s try a few."
   ]
  },
  {
   "cell_type": "code",
   "execution_count": 29,
   "id": "b8e2604e-ae2b-4f56-a9b9-c2797d7bf33c",
   "metadata": {},
   "outputs": [
    {
     "data": {
      "text/plain": [
       "72"
      ]
     },
     "execution_count": 29,
     "metadata": {},
     "output_type": "execute_result"
    }
   ],
   "source": [
    "my_series.sum()"
   ]
  },
  {
   "cell_type": "markdown",
   "id": "5af366d0-f24c-49a1-a31c-1ebca51ca714",
   "metadata": {},
   "source": [
    "#### Then find the maximum value in the next"
   ]
  },
  {
   "cell_type": "code",
   "execution_count": 30,
   "id": "8400d337-73c1-4b50-849b-f9a72e86c63a",
   "metadata": {},
   "outputs": [
    {
     "data": {
      "text/plain": [
       "16"
      ]
     },
     "execution_count": 30,
     "metadata": {},
     "output_type": "execute_result"
    }
   ],
   "source": [
    "my_series.max()"
   ]
  },
  {
   "cell_type": "markdown",
   "id": "da16fed0-26db-421d-a0e7-994ae3eeafa6",
   "metadata": {},
   "source": [
    "#### The minimum value in the next"
   ]
  },
  {
   "cell_type": "code",
   "execution_count": 31,
   "id": "dac15093-a102-4b47-bc1f-f6e48fcbc51f",
   "metadata": {},
   "outputs": [
    {
     "data": {
      "text/plain": [
       "2"
      ]
     },
     "execution_count": 31,
     "metadata": {},
     "output_type": "execute_result"
    }
   ],
   "source": [
    "my_series.min()"
   ]
  },
  {
   "cell_type": "markdown",
   "id": "e6a93f1a-cef3-49ea-8ced-9d6b002b79f2",
   "metadata": {},
   "source": [
    "#### How about the average (also known as the mean)? Keep adding cells and calculating new statistics."
   ]
  },
  {
   "cell_type": "code",
   "execution_count": 32,
   "id": "33b4c878-382e-4a5c-860d-72375cd46feb",
   "metadata": {},
   "outputs": [
    {
     "data": {
      "text/plain": [
       "9.0"
      ]
     },
     "execution_count": 32,
     "metadata": {},
     "output_type": "execute_result"
    }
   ],
   "source": [
    "my_series.mean()"
   ]
  },
  {
   "cell_type": "markdown",
   "id": "55931cc5-55cb-47b6-a578-bcce10a13a14",
   "metadata": {},
   "source": [
    "#### The median?"
   ]
  },
  {
   "cell_type": "code",
   "execution_count": 33,
   "id": "25d6f049-c886-4cf5-b38b-fff2298e3549",
   "metadata": {},
   "outputs": [
    {
     "data": {
      "text/plain": [
       "9.0"
      ]
     },
     "execution_count": 33,
     "metadata": {},
     "output_type": "execute_result"
    }
   ],
   "source": [
    "my_series.median()"
   ]
  },
  {
   "cell_type": "markdown",
   "id": "9bdf878c-77e2-41d1-9830-f5ecca1cbe61",
   "metadata": {},
   "source": [
    "#### The standard deviation?"
   ]
  },
  {
   "cell_type": "code",
   "execution_count": 34,
   "id": "2e5d8808-b9b4-47b5-95be-befb52e0bf57",
   "metadata": {},
   "outputs": [
    {
     "data": {
      "text/plain": [
       "4.898979485566356"
      ]
     },
     "execution_count": 34,
     "metadata": {},
     "output_type": "execute_result"
    }
   ],
   "source": [
    "my_series.std()"
   ]
  },
  {
   "cell_type": "markdown",
   "id": "ce27c034-aa3b-4a30-84f6-0c04b5faadcb",
   "metadata": {},
   "source": [
    "####  And all of the above, plus a little more about the distribution, in one simple command."
   ]
  },
  {
   "cell_type": "code",
   "execution_count": 35,
   "id": "33696467-c53a-4d13-9761-7781fd2e43e7",
   "metadata": {},
   "outputs": [
    {
     "data": {
      "text/plain": [
       "count     8.0\n",
       "mean      9.0\n",
       "std       5.0\n",
       "min       2.0\n",
       "25%       6.0\n",
       "50%       9.0\n",
       "75%      12.0\n",
       "max      16.0\n",
       "dtype: float64"
      ]
     },
     "execution_count": 35,
     "metadata": {},
     "output_type": "execute_result"
    }
   ],
   "source": [
    "my_series.describe().round()"
   ]
  },
  {
   "cell_type": "markdown",
   "id": "3f70c84e-9f07-4439-bda7-012cef0e2d57",
   "metadata": {},
   "source": [
    "---"
   ]
  },
  {
   "cell_type": "markdown",
   "id": "d53c3cfa-6ad3-4d1c-a1d8-1a05dc1e586b",
   "metadata": {},
   "source": [
    "## Import data"
   ]
  },
  {
   "cell_type": "markdown",
   "id": "8f32a563-7aa6-4bce-8e94-4faf8174ae56",
   "metadata": {},
   "source": [
    "#### Read a CSV file with members of Congress"
   ]
  },
  {
   "cell_type": "code",
   "execution_count": 98,
   "id": "270bc688-0b4b-4992-8203-6219787fc7c8",
   "metadata": {},
   "outputs": [],
   "source": [
    "df_csv = pd.read_csv('../../data/raw/members_of_congress_117.csv')"
   ]
  },
  {
   "cell_type": "code",
   "execution_count": 99,
   "id": "834e8a73-e0eb-479c-a62d-3285d0438128",
   "metadata": {},
   "outputs": [
    {
     "data": {
      "text/html": [
       "<div>\n",
       "<style scoped>\n",
       "    .dataframe tbody tr th:only-of-type {\n",
       "        vertical-align: middle;\n",
       "    }\n",
       "\n",
       "    .dataframe tbody tr th {\n",
       "        vertical-align: top;\n",
       "    }\n",
       "\n",
       "    .dataframe thead th {\n",
       "        text-align: right;\n",
       "    }\n",
       "</style>\n",
       "<table border=\"1\" class=\"dataframe\">\n",
       "  <thead>\n",
       "    <tr style=\"text-align: right;\">\n",
       "      <th></th>\n",
       "      <th>id</th>\n",
       "      <th>seniority</th>\n",
       "      <th>full_name</th>\n",
       "      <th>apstate</th>\n",
       "      <th>first_name</th>\n",
       "      <th>last_name</th>\n",
       "      <th>chamber</th>\n",
       "      <th>session</th>\n",
       "      <th>state</th>\n",
       "      <th>party</th>\n",
       "      <th>dw_nominate</th>\n",
       "      <th>votes_with_party_pct</th>\n",
       "    </tr>\n",
       "  </thead>\n",
       "  <tbody>\n",
       "    <tr>\n",
       "      <th>0</th>\n",
       "      <td>A000370</td>\n",
       "      <td>10</td>\n",
       "      <td>Alma Adams</td>\n",
       "      <td>N.C.</td>\n",
       "      <td>Alma</td>\n",
       "      <td>Adams</td>\n",
       "      <td>house</td>\n",
       "      <td>117</td>\n",
       "      <td>NC</td>\n",
       "      <td>D</td>\n",
       "      <td>-0.465</td>\n",
       "      <td>98.65</td>\n",
       "    </tr>\n",
       "    <tr>\n",
       "      <th>1</th>\n",
       "      <td>A000055</td>\n",
       "      <td>26</td>\n",
       "      <td>Robert Aderholt</td>\n",
       "      <td>Ala.</td>\n",
       "      <td>Robert</td>\n",
       "      <td>Aderholt</td>\n",
       "      <td>house</td>\n",
       "      <td>117</td>\n",
       "      <td>AL</td>\n",
       "      <td>R</td>\n",
       "      <td>0.376</td>\n",
       "      <td>97.02</td>\n",
       "    </tr>\n",
       "    <tr>\n",
       "      <th>2</th>\n",
       "      <td>A000371</td>\n",
       "      <td>8</td>\n",
       "      <td>Pete Aguilar</td>\n",
       "      <td>Calif.</td>\n",
       "      <td>Pete</td>\n",
       "      <td>Aguilar</td>\n",
       "      <td>house</td>\n",
       "      <td>117</td>\n",
       "      <td>CA</td>\n",
       "      <td>D</td>\n",
       "      <td>-0.294</td>\n",
       "      <td>98.43</td>\n",
       "    </tr>\n",
       "    <tr>\n",
       "      <th>3</th>\n",
       "      <td>A000372</td>\n",
       "      <td>8</td>\n",
       "      <td>Rick Allen</td>\n",
       "      <td>Ga.</td>\n",
       "      <td>Rick</td>\n",
       "      <td>Allen</td>\n",
       "      <td>house</td>\n",
       "      <td>117</td>\n",
       "      <td>GA</td>\n",
       "      <td>R</td>\n",
       "      <td>0.696</td>\n",
       "      <td>93.12</td>\n",
       "    </tr>\n",
       "    <tr>\n",
       "      <th>4</th>\n",
       "      <td>A000376</td>\n",
       "      <td>4</td>\n",
       "      <td>Colin Allred</td>\n",
       "      <td>Texas</td>\n",
       "      <td>Colin</td>\n",
       "      <td>Allred</td>\n",
       "      <td>house</td>\n",
       "      <td>117</td>\n",
       "      <td>TX</td>\n",
       "      <td>D</td>\n",
       "      <td>NaN</td>\n",
       "      <td>97.54</td>\n",
       "    </tr>\n",
       "  </tbody>\n",
       "</table>\n",
       "</div>"
      ],
      "text/plain": [
       "        id  seniority        full_name apstate first_name last_name chamber  \\\n",
       "0  A000370         10       Alma Adams    N.C.       Alma     Adams   house   \n",
       "1  A000055         26  Robert Aderholt    Ala.     Robert  Aderholt   house   \n",
       "2  A000371          8     Pete Aguilar  Calif.       Pete   Aguilar   house   \n",
       "3  A000372          8       Rick Allen     Ga.       Rick     Allen   house   \n",
       "4  A000376          4     Colin Allred   Texas      Colin    Allred   house   \n",
       "\n",
       "   session state party  dw_nominate  votes_with_party_pct  \n",
       "0      117    NC     D       -0.465                 98.65  \n",
       "1      117    AL     R        0.376                 97.02  \n",
       "2      117    CA     D       -0.294                 98.43  \n",
       "3      117    GA     R        0.696                 93.12  \n",
       "4      117    TX     D          NaN                 97.54  "
      ]
     },
     "execution_count": 99,
     "metadata": {},
     "output_type": "execute_result"
    }
   ],
   "source": [
    "df_csv.head()"
   ]
  },
  {
   "cell_type": "markdown",
   "id": "380a1947-87a0-4847-9c44-de454c5ea13e",
   "metadata": {},
   "source": [
    "#### Or an Excel file"
   ]
  },
  {
   "cell_type": "code",
   "execution_count": 100,
   "id": "31951550-48ca-4192-b97f-0be4534f6a8c",
   "metadata": {},
   "outputs": [],
   "source": [
    "df_excel = pd.read_excel('../../data/raw/members_of_congress_117_excel.xlsx')"
   ]
  },
  {
   "cell_type": "markdown",
   "id": "9a11189b-ea78-4e18-a569-0ad5745fab5d",
   "metadata": {},
   "source": [
    "#### Import from a URL"
   ]
  },
  {
   "cell_type": "code",
   "execution_count": 101,
   "id": "0300f487-255d-42bd-adb9-479eaf3cce3d",
   "metadata": {},
   "outputs": [],
   "source": [
    "df_url = pd.read_csv('https://raw.githubusercontent.com/stiles/notebooks/master/congress/output/members_of_congress_117.csv')"
   ]
  },
  {
   "cell_type": "markdown",
   "id": "9497a313-b61a-4e08-bf38-c52213b80cb8",
   "metadata": {},
   "source": [
    "#### Make a copy and assign a new variable"
   ]
  },
  {
   "cell_type": "code",
   "execution_count": 102,
   "id": "305ad59e-953e-44b9-9933-ec0139644f85",
   "metadata": {},
   "outputs": [],
   "source": [
    "df = df_csv.copy()"
   ]
  },
  {
   "cell_type": "markdown",
   "id": "d98b1ea9-9c43-443d-9324-3b2b1c18bb8f",
   "metadata": {},
   "source": [
    "---"
   ]
  },
  {
   "cell_type": "markdown",
   "id": "ea417047-b03b-49eb-867f-e2b6473423fc",
   "metadata": {},
   "source": [
    "## Understanding the dataframe"
   ]
  },
  {
   "cell_type": "markdown",
   "id": "c1cdf367-efe1-4320-a311-bae9aa1a09e5",
   "metadata": {},
   "source": [
    "#### Use the `describe()` to get summary stats on any numerical columns"
   ]
  },
  {
   "cell_type": "code",
   "execution_count": 103,
   "id": "83d614e9-1c6f-4229-8e5e-86f53789e6a4",
   "metadata": {},
   "outputs": [
    {
     "data": {
      "text/html": [
       "<div>\n",
       "<style scoped>\n",
       "    .dataframe tbody tr th:only-of-type {\n",
       "        vertical-align: middle;\n",
       "    }\n",
       "\n",
       "    .dataframe tbody tr th {\n",
       "        vertical-align: top;\n",
       "    }\n",
       "\n",
       "    .dataframe thead th {\n",
       "        text-align: right;\n",
       "    }\n",
       "</style>\n",
       "<table border=\"1\" class=\"dataframe\">\n",
       "  <thead>\n",
       "    <tr style=\"text-align: right;\">\n",
       "      <th></th>\n",
       "      <th>seniority</th>\n",
       "      <th>session</th>\n",
       "      <th>dw_nominate</th>\n",
       "      <th>votes_with_party_pct</th>\n",
       "    </tr>\n",
       "  </thead>\n",
       "  <tbody>\n",
       "    <tr>\n",
       "      <th>count</th>\n",
       "      <td>548.0</td>\n",
       "      <td>548.0</td>\n",
       "      <td>385.0</td>\n",
       "      <td>542.0</td>\n",
       "    </tr>\n",
       "    <tr>\n",
       "      <th>mean</th>\n",
       "      <td>11.0</td>\n",
       "      <td>117.0</td>\n",
       "      <td>0.0</td>\n",
       "      <td>95.0</td>\n",
       "    </tr>\n",
       "    <tr>\n",
       "      <th>std</th>\n",
       "      <td>9.0</td>\n",
       "      <td>0.0</td>\n",
       "      <td>0.0</td>\n",
       "      <td>5.0</td>\n",
       "    </tr>\n",
       "    <tr>\n",
       "      <th>min</th>\n",
       "      <td>1.0</td>\n",
       "      <td>117.0</td>\n",
       "      <td>-1.0</td>\n",
       "      <td>55.0</td>\n",
       "    </tr>\n",
       "    <tr>\n",
       "      <th>25%</th>\n",
       "      <td>4.0</td>\n",
       "      <td>117.0</td>\n",
       "      <td>-0.0</td>\n",
       "      <td>94.0</td>\n",
       "    </tr>\n",
       "    <tr>\n",
       "      <th>50%</th>\n",
       "      <td>8.0</td>\n",
       "      <td>117.0</td>\n",
       "      <td>-0.0</td>\n",
       "      <td>98.0</td>\n",
       "    </tr>\n",
       "    <tr>\n",
       "      <th>75%</th>\n",
       "      <td>15.0</td>\n",
       "      <td>117.0</td>\n",
       "      <td>0.0</td>\n",
       "      <td>99.0</td>\n",
       "    </tr>\n",
       "    <tr>\n",
       "      <th>max</th>\n",
       "      <td>50.0</td>\n",
       "      <td>117.0</td>\n",
       "      <td>1.0</td>\n",
       "      <td>100.0</td>\n",
       "    </tr>\n",
       "  </tbody>\n",
       "</table>\n",
       "</div>"
      ],
      "text/plain": [
       "       seniority  session  dw_nominate  votes_with_party_pct\n",
       "count      548.0    548.0        385.0                 542.0\n",
       "mean        11.0    117.0          0.0                  95.0\n",
       "std          9.0      0.0          0.0                   5.0\n",
       "min          1.0    117.0         -1.0                  55.0\n",
       "25%          4.0    117.0         -0.0                  94.0\n",
       "50%          8.0    117.0         -0.0                  98.0\n",
       "75%         15.0    117.0          0.0                  99.0\n",
       "max         50.0    117.0          1.0                 100.0"
      ]
     },
     "execution_count": 103,
     "metadata": {},
     "output_type": "execute_result"
    }
   ],
   "source": [
    "df.describe().round()"
   ]
  },
  {
   "cell_type": "markdown",
   "id": "6d67e9ec-23d9-49ab-8c42-eefd20654dc9",
   "metadata": {},
   "source": [
    "#### Use the `info()` method for data types and columns"
   ]
  },
  {
   "cell_type": "code",
   "execution_count": 104,
   "id": "cebe1d23-7b0e-4ca6-8370-8360aefb4638",
   "metadata": {},
   "outputs": [
    {
     "name": "stdout",
     "output_type": "stream",
     "text": [
      "<class 'pandas.core.frame.DataFrame'>\n",
      "RangeIndex: 548 entries, 0 to 547\n",
      "Data columns (total 12 columns):\n",
      " #   Column                Non-Null Count  Dtype  \n",
      "---  ------                --------------  -----  \n",
      " 0   id                    548 non-null    object \n",
      " 1   seniority             548 non-null    int64  \n",
      " 2   full_name             548 non-null    object \n",
      " 3   apstate               536 non-null    object \n",
      " 4   first_name            548 non-null    object \n",
      " 5   last_name             548 non-null    object \n",
      " 6   chamber               548 non-null    object \n",
      " 7   session               548 non-null    int64  \n",
      " 8   state                 548 non-null    object \n",
      " 9   party                 548 non-null    object \n",
      " 10  dw_nominate           385 non-null    float64\n",
      " 11  votes_with_party_pct  542 non-null    float64\n",
      "dtypes: float64(2), int64(2), object(8)\n",
      "memory usage: 51.5+ KB\n"
     ]
    }
   ],
   "source": [
    "df.info()"
   ]
  },
  {
   "cell_type": "markdown",
   "id": "955c340f-3be4-4ca0-847a-1e9b5e0ca17a",
   "metadata": {},
   "source": [
    "#### Reading one column, or \"series\""
   ]
  },
  {
   "cell_type": "code",
   "execution_count": 105,
   "id": "77f79094-3409-4c66-b75d-3c8988512725",
   "metadata": {},
   "outputs": [
    {
     "data": {
      "text/plain": [
       "0              Alma Adams\n",
       "1         Robert Aderholt\n",
       "2            Pete Aguilar\n",
       "3              Rick Allen\n",
       "4            Colin Allred\n",
       "              ...        \n",
       "543      Elizabeth Warren\n",
       "544    Sheldon Whitehouse\n",
       "545          Roger Wicker\n",
       "546             Ron Wyden\n",
       "547            Todd Young\n",
       "Name: full_name, Length: 548, dtype: object"
      ]
     },
     "execution_count": 105,
     "metadata": {},
     "output_type": "execute_result"
    }
   ],
   "source": [
    "df['full_name']"
   ]
  },
  {
   "cell_type": "markdown",
   "id": "a4dcaac0-4bd7-44db-9323-189e1c0c5d03",
   "metadata": {},
   "source": [
    "#### Counting values in categorical or string columns"
   ]
  },
  {
   "cell_type": "code",
   "execution_count": 106,
   "id": "a4b240ea-79ce-47a6-843b-dde498a8b2f6",
   "metadata": {},
   "outputs": [
    {
     "data": {
      "text/plain": [
       "D     278\n",
       "R     268\n",
       "ID      2\n",
       "Name: party, dtype: int64"
      ]
     },
     "execution_count": 106,
     "metadata": {},
     "output_type": "execute_result"
    }
   ],
   "source": [
    "df.party.value_counts()"
   ]
  },
  {
   "cell_type": "markdown",
   "id": "96a0ce3a-6e6b-4ff3-86ba-dc591712e431",
   "metadata": {},
   "source": [
    "---"
   ]
  },
  {
   "cell_type": "markdown",
   "id": "b0566aed-7d07-40d2-bd37-07a7948f71fc",
   "metadata": {},
   "source": [
    "## Interacting with the data"
   ]
  },
  {
   "cell_type": "markdown",
   "id": "19e7561e-080d-49e9-94bb-58a0d89ebc28",
   "metadata": {},
   "source": [
    "#### Use the `head()` method to see the first *n* rows"
   ]
  },
  {
   "cell_type": "code",
   "execution_count": 107,
   "id": "1a8149c6-a1c3-40ba-9194-37614fbcffa6",
   "metadata": {},
   "outputs": [
    {
     "data": {
      "text/html": [
       "<div>\n",
       "<style scoped>\n",
       "    .dataframe tbody tr th:only-of-type {\n",
       "        vertical-align: middle;\n",
       "    }\n",
       "\n",
       "    .dataframe tbody tr th {\n",
       "        vertical-align: top;\n",
       "    }\n",
       "\n",
       "    .dataframe thead th {\n",
       "        text-align: right;\n",
       "    }\n",
       "</style>\n",
       "<table border=\"1\" class=\"dataframe\">\n",
       "  <thead>\n",
       "    <tr style=\"text-align: right;\">\n",
       "      <th></th>\n",
       "      <th>id</th>\n",
       "      <th>seniority</th>\n",
       "      <th>full_name</th>\n",
       "      <th>apstate</th>\n",
       "      <th>first_name</th>\n",
       "      <th>last_name</th>\n",
       "      <th>chamber</th>\n",
       "      <th>session</th>\n",
       "      <th>state</th>\n",
       "      <th>party</th>\n",
       "      <th>dw_nominate</th>\n",
       "      <th>votes_with_party_pct</th>\n",
       "    </tr>\n",
       "  </thead>\n",
       "  <tbody>\n",
       "    <tr>\n",
       "      <th>0</th>\n",
       "      <td>A000370</td>\n",
       "      <td>10</td>\n",
       "      <td>Alma Adams</td>\n",
       "      <td>N.C.</td>\n",
       "      <td>Alma</td>\n",
       "      <td>Adams</td>\n",
       "      <td>house</td>\n",
       "      <td>117</td>\n",
       "      <td>NC</td>\n",
       "      <td>D</td>\n",
       "      <td>-0.465</td>\n",
       "      <td>98.65</td>\n",
       "    </tr>\n",
       "    <tr>\n",
       "      <th>1</th>\n",
       "      <td>A000055</td>\n",
       "      <td>26</td>\n",
       "      <td>Robert Aderholt</td>\n",
       "      <td>Ala.</td>\n",
       "      <td>Robert</td>\n",
       "      <td>Aderholt</td>\n",
       "      <td>house</td>\n",
       "      <td>117</td>\n",
       "      <td>AL</td>\n",
       "      <td>R</td>\n",
       "      <td>0.376</td>\n",
       "      <td>97.02</td>\n",
       "    </tr>\n",
       "    <tr>\n",
       "      <th>2</th>\n",
       "      <td>A000371</td>\n",
       "      <td>8</td>\n",
       "      <td>Pete Aguilar</td>\n",
       "      <td>Calif.</td>\n",
       "      <td>Pete</td>\n",
       "      <td>Aguilar</td>\n",
       "      <td>house</td>\n",
       "      <td>117</td>\n",
       "      <td>CA</td>\n",
       "      <td>D</td>\n",
       "      <td>-0.294</td>\n",
       "      <td>98.43</td>\n",
       "    </tr>\n",
       "    <tr>\n",
       "      <th>3</th>\n",
       "      <td>A000372</td>\n",
       "      <td>8</td>\n",
       "      <td>Rick Allen</td>\n",
       "      <td>Ga.</td>\n",
       "      <td>Rick</td>\n",
       "      <td>Allen</td>\n",
       "      <td>house</td>\n",
       "      <td>117</td>\n",
       "      <td>GA</td>\n",
       "      <td>R</td>\n",
       "      <td>0.696</td>\n",
       "      <td>93.12</td>\n",
       "    </tr>\n",
       "    <tr>\n",
       "      <th>4</th>\n",
       "      <td>A000376</td>\n",
       "      <td>4</td>\n",
       "      <td>Colin Allred</td>\n",
       "      <td>Texas</td>\n",
       "      <td>Colin</td>\n",
       "      <td>Allred</td>\n",
       "      <td>house</td>\n",
       "      <td>117</td>\n",
       "      <td>TX</td>\n",
       "      <td>D</td>\n",
       "      <td>NaN</td>\n",
       "      <td>97.54</td>\n",
       "    </tr>\n",
       "    <tr>\n",
       "      <th>5</th>\n",
       "      <td>A000369</td>\n",
       "      <td>12</td>\n",
       "      <td>Mark Amodei</td>\n",
       "      <td>Nev.</td>\n",
       "      <td>Mark</td>\n",
       "      <td>Amodei</td>\n",
       "      <td>house</td>\n",
       "      <td>117</td>\n",
       "      <td>NV</td>\n",
       "      <td>R</td>\n",
       "      <td>0.380</td>\n",
       "      <td>95.43</td>\n",
       "    </tr>\n",
       "    <tr>\n",
       "      <th>6</th>\n",
       "      <td>A000377</td>\n",
       "      <td>4</td>\n",
       "      <td>Kelly Armstrong</td>\n",
       "      <td>N.D.</td>\n",
       "      <td>Kelly</td>\n",
       "      <td>Armstrong</td>\n",
       "      <td>house</td>\n",
       "      <td>117</td>\n",
       "      <td>ND</td>\n",
       "      <td>R</td>\n",
       "      <td>NaN</td>\n",
       "      <td>95.19</td>\n",
       "    </tr>\n",
       "    <tr>\n",
       "      <th>7</th>\n",
       "      <td>A000375</td>\n",
       "      <td>6</td>\n",
       "      <td>Jodey Arrington</td>\n",
       "      <td>Texas</td>\n",
       "      <td>Jodey</td>\n",
       "      <td>Arrington</td>\n",
       "      <td>house</td>\n",
       "      <td>117</td>\n",
       "      <td>TX</td>\n",
       "      <td>R</td>\n",
       "      <td>0.648</td>\n",
       "      <td>89.31</td>\n",
       "    </tr>\n",
       "    <tr>\n",
       "      <th>8</th>\n",
       "      <td>A000148</td>\n",
       "      <td>2</td>\n",
       "      <td>Jake Auchincloss</td>\n",
       "      <td>Mass.</td>\n",
       "      <td>Jake</td>\n",
       "      <td>Auchincloss</td>\n",
       "      <td>house</td>\n",
       "      <td>117</td>\n",
       "      <td>MA</td>\n",
       "      <td>D</td>\n",
       "      <td>NaN</td>\n",
       "      <td>98.65</td>\n",
       "    </tr>\n",
       "    <tr>\n",
       "      <th>9</th>\n",
       "      <td>A000378</td>\n",
       "      <td>4</td>\n",
       "      <td>Cynthia Axne</td>\n",
       "      <td>Iowa</td>\n",
       "      <td>Cynthia</td>\n",
       "      <td>Axne</td>\n",
       "      <td>house</td>\n",
       "      <td>117</td>\n",
       "      <td>IA</td>\n",
       "      <td>D</td>\n",
       "      <td>NaN</td>\n",
       "      <td>96.87</td>\n",
       "    </tr>\n",
       "  </tbody>\n",
       "</table>\n",
       "</div>"
      ],
      "text/plain": [
       "        id  seniority         full_name apstate first_name    last_name  \\\n",
       "0  A000370         10        Alma Adams    N.C.       Alma        Adams   \n",
       "1  A000055         26   Robert Aderholt    Ala.     Robert     Aderholt   \n",
       "2  A000371          8      Pete Aguilar  Calif.       Pete      Aguilar   \n",
       "3  A000372          8        Rick Allen     Ga.       Rick        Allen   \n",
       "4  A000376          4      Colin Allred   Texas      Colin       Allred   \n",
       "5  A000369         12       Mark Amodei    Nev.       Mark       Amodei   \n",
       "6  A000377          4   Kelly Armstrong    N.D.      Kelly    Armstrong   \n",
       "7  A000375          6   Jodey Arrington   Texas      Jodey    Arrington   \n",
       "8  A000148          2  Jake Auchincloss   Mass.       Jake  Auchincloss   \n",
       "9  A000378          4      Cynthia Axne    Iowa    Cynthia         Axne   \n",
       "\n",
       "  chamber  session state party  dw_nominate  votes_with_party_pct  \n",
       "0   house      117    NC     D       -0.465                 98.65  \n",
       "1   house      117    AL     R        0.376                 97.02  \n",
       "2   house      117    CA     D       -0.294                 98.43  \n",
       "3   house      117    GA     R        0.696                 93.12  \n",
       "4   house      117    TX     D          NaN                 97.54  \n",
       "5   house      117    NV     R        0.380                 95.43  \n",
       "6   house      117    ND     R          NaN                 95.19  \n",
       "7   house      117    TX     R        0.648                 89.31  \n",
       "8   house      117    MA     D          NaN                 98.65  \n",
       "9   house      117    IA     D          NaN                 96.87  "
      ]
     },
     "execution_count": 107,
     "metadata": {},
     "output_type": "execute_result"
    }
   ],
   "source": [
    "df.head(10)"
   ]
  },
  {
   "cell_type": "markdown",
   "id": "be3a7905-a4e0-4f2d-93de-2380a33af7e4",
   "metadata": {},
   "source": [
    "#### Use the `tail()` method to see the first *n* rows"
   ]
  },
  {
   "cell_type": "code",
   "execution_count": 108,
   "id": "4e5242ab-18e3-4c68-aa80-cb501088db15",
   "metadata": {},
   "outputs": [
    {
     "data": {
      "text/html": [
       "<div>\n",
       "<style scoped>\n",
       "    .dataframe tbody tr th:only-of-type {\n",
       "        vertical-align: middle;\n",
       "    }\n",
       "\n",
       "    .dataframe tbody tr th {\n",
       "        vertical-align: top;\n",
       "    }\n",
       "\n",
       "    .dataframe thead th {\n",
       "        text-align: right;\n",
       "    }\n",
       "</style>\n",
       "<table border=\"1\" class=\"dataframe\">\n",
       "  <thead>\n",
       "    <tr style=\"text-align: right;\">\n",
       "      <th></th>\n",
       "      <th>id</th>\n",
       "      <th>seniority</th>\n",
       "      <th>full_name</th>\n",
       "      <th>apstate</th>\n",
       "      <th>first_name</th>\n",
       "      <th>last_name</th>\n",
       "      <th>chamber</th>\n",
       "      <th>session</th>\n",
       "      <th>state</th>\n",
       "      <th>party</th>\n",
       "      <th>dw_nominate</th>\n",
       "      <th>votes_with_party_pct</th>\n",
       "    </tr>\n",
       "  </thead>\n",
       "  <tbody>\n",
       "    <tr>\n",
       "      <th>538</th>\n",
       "      <td>T000461</td>\n",
       "      <td>11</td>\n",
       "      <td>Patrick Toomey</td>\n",
       "      <td>Pa.</td>\n",
       "      <td>Patrick</td>\n",
       "      <td>Toomey</td>\n",
       "      <td>senate</td>\n",
       "      <td>117</td>\n",
       "      <td>PA</td>\n",
       "      <td>R</td>\n",
       "      <td>0.630</td>\n",
       "      <td>90.91</td>\n",
       "    </tr>\n",
       "    <tr>\n",
       "      <th>539</th>\n",
       "      <td>T000278</td>\n",
       "      <td>1</td>\n",
       "      <td>Tommy Tuberville</td>\n",
       "      <td>Ala.</td>\n",
       "      <td>Tommy</td>\n",
       "      <td>Tuberville</td>\n",
       "      <td>senate</td>\n",
       "      <td>117</td>\n",
       "      <td>AL</td>\n",
       "      <td>R</td>\n",
       "      <td>NaN</td>\n",
       "      <td>88.46</td>\n",
       "    </tr>\n",
       "    <tr>\n",
       "      <th>540</th>\n",
       "      <td>V000128</td>\n",
       "      <td>5</td>\n",
       "      <td>Chris Van Hollen</td>\n",
       "      <td>Md.</td>\n",
       "      <td>Chris</td>\n",
       "      <td>Van Hollen</td>\n",
       "      <td>senate</td>\n",
       "      <td>117</td>\n",
       "      <td>MD</td>\n",
       "      <td>D</td>\n",
       "      <td>-0.391</td>\n",
       "      <td>99.62</td>\n",
       "    </tr>\n",
       "    <tr>\n",
       "      <th>541</th>\n",
       "      <td>W000805</td>\n",
       "      <td>13</td>\n",
       "      <td>Mark Warner</td>\n",
       "      <td>Va.</td>\n",
       "      <td>Mark</td>\n",
       "      <td>Warner</td>\n",
       "      <td>senate</td>\n",
       "      <td>117</td>\n",
       "      <td>VA</td>\n",
       "      <td>D</td>\n",
       "      <td>-0.203</td>\n",
       "      <td>99.62</td>\n",
       "    </tr>\n",
       "    <tr>\n",
       "      <th>542</th>\n",
       "      <td>W000790</td>\n",
       "      <td>1</td>\n",
       "      <td>Raphael Warnock</td>\n",
       "      <td>Ga.</td>\n",
       "      <td>Raphael</td>\n",
       "      <td>Warnock</td>\n",
       "      <td>senate</td>\n",
       "      <td>117</td>\n",
       "      <td>GA</td>\n",
       "      <td>D</td>\n",
       "      <td>NaN</td>\n",
       "      <td>99.03</td>\n",
       "    </tr>\n",
       "    <tr>\n",
       "      <th>543</th>\n",
       "      <td>W000817</td>\n",
       "      <td>9</td>\n",
       "      <td>Elizabeth Warren</td>\n",
       "      <td>Mass.</td>\n",
       "      <td>Elizabeth</td>\n",
       "      <td>Warren</td>\n",
       "      <td>senate</td>\n",
       "      <td>117</td>\n",
       "      <td>MA</td>\n",
       "      <td>D</td>\n",
       "      <td>-0.759</td>\n",
       "      <td>97.91</td>\n",
       "    </tr>\n",
       "    <tr>\n",
       "      <th>544</th>\n",
       "      <td>W000802</td>\n",
       "      <td>15</td>\n",
       "      <td>Sheldon Whitehouse</td>\n",
       "      <td>R.I.</td>\n",
       "      <td>Sheldon</td>\n",
       "      <td>Whitehouse</td>\n",
       "      <td>senate</td>\n",
       "      <td>117</td>\n",
       "      <td>RI</td>\n",
       "      <td>D</td>\n",
       "      <td>-0.355</td>\n",
       "      <td>99.05</td>\n",
       "    </tr>\n",
       "    <tr>\n",
       "      <th>545</th>\n",
       "      <td>W000437</td>\n",
       "      <td>15</td>\n",
       "      <td>Roger Wicker</td>\n",
       "      <td>Miss.</td>\n",
       "      <td>Roger</td>\n",
       "      <td>Wicker</td>\n",
       "      <td>senate</td>\n",
       "      <td>117</td>\n",
       "      <td>MS</td>\n",
       "      <td>R</td>\n",
       "      <td>0.378</td>\n",
       "      <td>91.20</td>\n",
       "    </tr>\n",
       "    <tr>\n",
       "      <th>546</th>\n",
       "      <td>W000779</td>\n",
       "      <td>26</td>\n",
       "      <td>Ron Wyden</td>\n",
       "      <td>Ore.</td>\n",
       "      <td>Ron</td>\n",
       "      <td>Wyden</td>\n",
       "      <td>senate</td>\n",
       "      <td>117</td>\n",
       "      <td>OR</td>\n",
       "      <td>D</td>\n",
       "      <td>-0.330</td>\n",
       "      <td>98.87</td>\n",
       "    </tr>\n",
       "    <tr>\n",
       "      <th>547</th>\n",
       "      <td>Y000064</td>\n",
       "      <td>5</td>\n",
       "      <td>Todd Young</td>\n",
       "      <td>Ind.</td>\n",
       "      <td>Todd</td>\n",
       "      <td>Young</td>\n",
       "      <td>senate</td>\n",
       "      <td>117</td>\n",
       "      <td>IN</td>\n",
       "      <td>R</td>\n",
       "      <td>0.465</td>\n",
       "      <td>90.33</td>\n",
       "    </tr>\n",
       "  </tbody>\n",
       "</table>\n",
       "</div>"
      ],
      "text/plain": [
       "          id  seniority           full_name apstate first_name   last_name  \\\n",
       "538  T000461         11      Patrick Toomey     Pa.    Patrick      Toomey   \n",
       "539  T000278          1    Tommy Tuberville    Ala.      Tommy  Tuberville   \n",
       "540  V000128          5    Chris Van Hollen     Md.      Chris  Van Hollen   \n",
       "541  W000805         13         Mark Warner     Va.       Mark      Warner   \n",
       "542  W000790          1     Raphael Warnock     Ga.    Raphael     Warnock   \n",
       "543  W000817          9    Elizabeth Warren   Mass.  Elizabeth      Warren   \n",
       "544  W000802         15  Sheldon Whitehouse    R.I.    Sheldon  Whitehouse   \n",
       "545  W000437         15        Roger Wicker   Miss.      Roger      Wicker   \n",
       "546  W000779         26           Ron Wyden    Ore.        Ron       Wyden   \n",
       "547  Y000064          5          Todd Young    Ind.       Todd       Young   \n",
       "\n",
       "    chamber  session state party  dw_nominate  votes_with_party_pct  \n",
       "538  senate      117    PA     R        0.630                 90.91  \n",
       "539  senate      117    AL     R          NaN                 88.46  \n",
       "540  senate      117    MD     D       -0.391                 99.62  \n",
       "541  senate      117    VA     D       -0.203                 99.62  \n",
       "542  senate      117    GA     D          NaN                 99.03  \n",
       "543  senate      117    MA     D       -0.759                 97.91  \n",
       "544  senate      117    RI     D       -0.355                 99.05  \n",
       "545  senate      117    MS     R        0.378                 91.20  \n",
       "546  senate      117    OR     D       -0.330                 98.87  \n",
       "547  senate      117    IN     R        0.465                 90.33  "
      ]
     },
     "execution_count": 108,
     "metadata": {},
     "output_type": "execute_result"
    }
   ],
   "source": [
    "df.tail(10)"
   ]
  },
  {
   "cell_type": "markdown",
   "id": "6f164d2b-94a1-4eb5-8164-173fcf44fac9",
   "metadata": {},
   "source": [
    "#### Sorting with the `sort_values()` method to find member with most seniority"
   ]
  },
  {
   "cell_type": "code",
   "execution_count": 96,
   "id": "9fc83bd1-b9cd-457a-b43f-f8aecc974528",
   "metadata": {},
   "outputs": [
    {
     "data": {
      "text/html": [
       "<div>\n",
       "<style scoped>\n",
       "    .dataframe tbody tr th:only-of-type {\n",
       "        vertical-align: middle;\n",
       "    }\n",
       "\n",
       "    .dataframe tbody tr th {\n",
       "        vertical-align: top;\n",
       "    }\n",
       "\n",
       "    .dataframe thead th {\n",
       "        text-align: right;\n",
       "    }\n",
       "</style>\n",
       "<table border=\"1\" class=\"dataframe\">\n",
       "  <thead>\n",
       "    <tr style=\"text-align: right;\">\n",
       "      <th></th>\n",
       "      <th>id</th>\n",
       "      <th>seniority</th>\n",
       "      <th>full_name</th>\n",
       "      <th>apstate</th>\n",
       "      <th>first_name</th>\n",
       "      <th>last_name</th>\n",
       "      <th>chamber</th>\n",
       "      <th>session</th>\n",
       "      <th>state</th>\n",
       "      <th>party</th>\n",
       "      <th>dw_nominate</th>\n",
       "      <th>votes_with_party_pct</th>\n",
       "    </tr>\n",
       "  </thead>\n",
       "  <tbody>\n",
       "    <tr>\n",
       "      <th>444</th>\n",
       "      <td>Y000033</td>\n",
       "      <td>50</td>\n",
       "      <td>Don Young</td>\n",
       "      <td>Alaska</td>\n",
       "      <td>Don</td>\n",
       "      <td>Young</td>\n",
       "      <td>house</td>\n",
       "      <td>117</td>\n",
       "      <td>AK</td>\n",
       "      <td>R</td>\n",
       "      <td>0.283</td>\n",
       "      <td>88.45</td>\n",
       "    </tr>\n",
       "    <tr>\n",
       "      <th>497</th>\n",
       "      <td>L000174</td>\n",
       "      <td>47</td>\n",
       "      <td>Patrick Leahy</td>\n",
       "      <td>Vt.</td>\n",
       "      <td>Patrick</td>\n",
       "      <td>Leahy</td>\n",
       "      <td>senate</td>\n",
       "      <td>117</td>\n",
       "      <td>VT</td>\n",
       "      <td>D</td>\n",
       "      <td>-0.360</td>\n",
       "      <td>99.62</td>\n",
       "    </tr>\n",
       "    <tr>\n",
       "      <th>188</th>\n",
       "      <td>H000874</td>\n",
       "      <td>42</td>\n",
       "      <td>Steny Hoyer</td>\n",
       "      <td>Md.</td>\n",
       "      <td>Steny</td>\n",
       "      <td>Hoyer</td>\n",
       "      <td>house</td>\n",
       "      <td>117</td>\n",
       "      <td>MD</td>\n",
       "      <td>D</td>\n",
       "      <td>-0.380</td>\n",
       "      <td>98.41</td>\n",
       "    </tr>\n",
       "    <tr>\n",
       "      <th>340</th>\n",
       "      <td>R000395</td>\n",
       "      <td>42</td>\n",
       "      <td>Harold Rogers</td>\n",
       "      <td>Ky.</td>\n",
       "      <td>Harold</td>\n",
       "      <td>Rogers</td>\n",
       "      <td>house</td>\n",
       "      <td>117</td>\n",
       "      <td>KY</td>\n",
       "      <td>R</td>\n",
       "      <td>0.338</td>\n",
       "      <td>97.03</td>\n",
       "    </tr>\n",
       "    <tr>\n",
       "      <th>378</th>\n",
       "      <td>S000522</td>\n",
       "      <td>42</td>\n",
       "      <td>Christopher Smith</td>\n",
       "      <td>N.J.</td>\n",
       "      <td>Christopher</td>\n",
       "      <td>Smith</td>\n",
       "      <td>house</td>\n",
       "      <td>117</td>\n",
       "      <td>NJ</td>\n",
       "      <td>R</td>\n",
       "      <td>0.167</td>\n",
       "      <td>88.51</td>\n",
       "    </tr>\n",
       "    <tr>\n",
       "      <th>479</th>\n",
       "      <td>G000386</td>\n",
       "      <td>41</td>\n",
       "      <td>Charles Grassley</td>\n",
       "      <td>Iowa</td>\n",
       "      <td>Charles</td>\n",
       "      <td>Grassley</td>\n",
       "      <td>senate</td>\n",
       "      <td>117</td>\n",
       "      <td>IA</td>\n",
       "      <td>R</td>\n",
       "      <td>0.350</td>\n",
       "      <td>82.83</td>\n",
       "    </tr>\n",
       "    <tr>\n",
       "      <th>209</th>\n",
       "      <td>K000009</td>\n",
       "      <td>40</td>\n",
       "      <td>Marcy Kaptur</td>\n",
       "      <td>Ohio</td>\n",
       "      <td>Marcy</td>\n",
       "      <td>Kaptur</td>\n",
       "      <td>house</td>\n",
       "      <td>117</td>\n",
       "      <td>OH</td>\n",
       "      <td>D</td>\n",
       "      <td>-0.350</td>\n",
       "      <td>98.64</td>\n",
       "    </tr>\n",
       "    <tr>\n",
       "      <th>505</th>\n",
       "      <td>M000355</td>\n",
       "      <td>37</td>\n",
       "      <td>Mitch McConnell</td>\n",
       "      <td>Ky.</td>\n",
       "      <td>Mitch</td>\n",
       "      <td>McConnell</td>\n",
       "      <td>senate</td>\n",
       "      <td>117</td>\n",
       "      <td>KY</td>\n",
       "      <td>R</td>\n",
       "      <td>0.405</td>\n",
       "      <td>89.94</td>\n",
       "    </tr>\n",
       "    <tr>\n",
       "      <th>97</th>\n",
       "      <td>D000191</td>\n",
       "      <td>36</td>\n",
       "      <td>Peter DeFazio</td>\n",
       "      <td>Ore.</td>\n",
       "      <td>Peter</td>\n",
       "      <td>DeFazio</td>\n",
       "      <td>house</td>\n",
       "      <td>117</td>\n",
       "      <td>OR</td>\n",
       "      <td>D</td>\n",
       "      <td>-0.428</td>\n",
       "      <td>98.40</td>\n",
       "    </tr>\n",
       "    <tr>\n",
       "      <th>311</th>\n",
       "      <td>P000034</td>\n",
       "      <td>36</td>\n",
       "      <td>Frank Pallone</td>\n",
       "      <td>N.J.</td>\n",
       "      <td>Frank</td>\n",
       "      <td>Pallone</td>\n",
       "      <td>house</td>\n",
       "      <td>117</td>\n",
       "      <td>NJ</td>\n",
       "      <td>D</td>\n",
       "      <td>-0.404</td>\n",
       "      <td>98.66</td>\n",
       "    </tr>\n",
       "  </tbody>\n",
       "</table>\n",
       "</div>"
      ],
      "text/plain": [
       "          id  seniority          full_name apstate   first_name  last_name  \\\n",
       "444  Y000033         50          Don Young  Alaska          Don      Young   \n",
       "497  L000174         47      Patrick Leahy     Vt.      Patrick      Leahy   \n",
       "188  H000874         42        Steny Hoyer     Md.        Steny      Hoyer   \n",
       "340  R000395         42      Harold Rogers     Ky.       Harold     Rogers   \n",
       "378  S000522         42  Christopher Smith    N.J.  Christopher      Smith   \n",
       "479  G000386         41   Charles Grassley    Iowa      Charles   Grassley   \n",
       "209  K000009         40       Marcy Kaptur    Ohio        Marcy     Kaptur   \n",
       "505  M000355         37    Mitch McConnell     Ky.        Mitch  McConnell   \n",
       "97   D000191         36      Peter DeFazio    Ore.        Peter    DeFazio   \n",
       "311  P000034         36      Frank Pallone    N.J.        Frank    Pallone   \n",
       "\n",
       "    chamber  session state party  dw_nominate  votes_with_party_pct  \n",
       "444   house      117    AK     R        0.283                 88.45  \n",
       "497  senate      117    VT     D       -0.360                 99.62  \n",
       "188   house      117    MD     D       -0.380                 98.41  \n",
       "340   house      117    KY     R        0.338                 97.03  \n",
       "378   house      117    NJ     R        0.167                 88.51  \n",
       "479  senate      117    IA     R        0.350                 82.83  \n",
       "209   house      117    OH     D       -0.350                 98.64  \n",
       "505  senate      117    KY     R        0.405                 89.94  \n",
       "97    house      117    OR     D       -0.428                 98.40  \n",
       "311   house      117    NJ     D       -0.404                 98.66  "
      ]
     },
     "execution_count": 96,
     "metadata": {},
     "output_type": "execute_result"
    }
   ],
   "source": [
    "df.sort_values('seniority', ascending=False).head(10)"
   ]
  },
  {
   "cell_type": "markdown",
   "id": "581f1540-05fd-4481-8b61-a2ff0f9a9040",
   "metadata": {},
   "source": [
    "#### Sorting with the `sort_values()` method to find member who's most liberal or conservative"
   ]
  },
  {
   "cell_type": "code",
   "execution_count": 97,
   "id": "b52ba59f-8e98-47d1-a02d-5879aade1a3b",
   "metadata": {},
   "outputs": [
    {
     "data": {
      "text/html": [
       "<div>\n",
       "<style scoped>\n",
       "    .dataframe tbody tr th:only-of-type {\n",
       "        vertical-align: middle;\n",
       "    }\n",
       "\n",
       "    .dataframe tbody tr th {\n",
       "        vertical-align: top;\n",
       "    }\n",
       "\n",
       "    .dataframe thead th {\n",
       "        text-align: right;\n",
       "    }\n",
       "</style>\n",
       "<table border=\"1\" class=\"dataframe\">\n",
       "  <thead>\n",
       "    <tr style=\"text-align: right;\">\n",
       "      <th></th>\n",
       "      <th>id</th>\n",
       "      <th>seniority</th>\n",
       "      <th>full_name</th>\n",
       "      <th>apstate</th>\n",
       "      <th>first_name</th>\n",
       "      <th>last_name</th>\n",
       "      <th>chamber</th>\n",
       "      <th>session</th>\n",
       "      <th>state</th>\n",
       "      <th>party</th>\n",
       "      <th>dw_nominate</th>\n",
       "      <th>votes_with_party_pct</th>\n",
       "    </tr>\n",
       "  </thead>\n",
       "  <tbody>\n",
       "    <tr>\n",
       "      <th>543</th>\n",
       "      <td>W000817</td>\n",
       "      <td>9</td>\n",
       "      <td>Elizabeth Warren</td>\n",
       "      <td>Mass.</td>\n",
       "      <td>Elizabeth</td>\n",
       "      <td>Warren</td>\n",
       "      <td>senate</td>\n",
       "      <td>117</td>\n",
       "      <td>MA</td>\n",
       "      <td>D</td>\n",
       "      <td>-0.759</td>\n",
       "      <td>97.91</td>\n",
       "    </tr>\n",
       "    <tr>\n",
       "      <th>481</th>\n",
       "      <td>H001075</td>\n",
       "      <td>3</td>\n",
       "      <td>Kamala Harris</td>\n",
       "      <td>Calif.</td>\n",
       "      <td>Kamala</td>\n",
       "      <td>Harris</td>\n",
       "      <td>senate</td>\n",
       "      <td>117</td>\n",
       "      <td>CA</td>\n",
       "      <td>D</td>\n",
       "      <td>-0.709</td>\n",
       "      <td>100.00</td>\n",
       "    </tr>\n",
       "    <tr>\n",
       "      <th>197</th>\n",
       "      <td>J000298</td>\n",
       "      <td>6</td>\n",
       "      <td>Pramila Jayapal</td>\n",
       "      <td>Wash.</td>\n",
       "      <td>Pramila</td>\n",
       "      <td>Jayapal</td>\n",
       "      <td>house</td>\n",
       "      <td>117</td>\n",
       "      <td>WA</td>\n",
       "      <td>D</td>\n",
       "      <td>-0.691</td>\n",
       "      <td>97.52</td>\n",
       "    </tr>\n",
       "    <tr>\n",
       "      <th>238</th>\n",
       "      <td>L000551</td>\n",
       "      <td>26</td>\n",
       "      <td>Barbara Lee</td>\n",
       "      <td>Calif.</td>\n",
       "      <td>Barbara</td>\n",
       "      <td>Lee</td>\n",
       "      <td>house</td>\n",
       "      <td>117</td>\n",
       "      <td>CA</td>\n",
       "      <td>D</td>\n",
       "      <td>-0.681</td>\n",
       "      <td>97.96</td>\n",
       "    </tr>\n",
       "    <tr>\n",
       "      <th>427</th>\n",
       "      <td>W000187</td>\n",
       "      <td>32</td>\n",
       "      <td>Maxine Waters</td>\n",
       "      <td>Calif.</td>\n",
       "      <td>Maxine</td>\n",
       "      <td>Waters</td>\n",
       "      <td>house</td>\n",
       "      <td>117</td>\n",
       "      <td>CA</td>\n",
       "      <td>D</td>\n",
       "      <td>-0.655</td>\n",
       "      <td>95.12</td>\n",
       "    </tr>\n",
       "    <tr>\n",
       "      <th>428</th>\n",
       "      <td>W000822</td>\n",
       "      <td>8</td>\n",
       "      <td>Bonnie Watson Coleman</td>\n",
       "      <td>N.J.</td>\n",
       "      <td>Bonnie</td>\n",
       "      <td>Watson Coleman</td>\n",
       "      <td>house</td>\n",
       "      <td>117</td>\n",
       "      <td>NJ</td>\n",
       "      <td>D</td>\n",
       "      <td>-0.621</td>\n",
       "      <td>98.21</td>\n",
       "    </tr>\n",
       "    <tr>\n",
       "      <th>117</th>\n",
       "      <td>E000297</td>\n",
       "      <td>6</td>\n",
       "      <td>Adriano Espaillat</td>\n",
       "      <td>N.Y.</td>\n",
       "      <td>Adriano</td>\n",
       "      <td>Espaillat</td>\n",
       "      <td>house</td>\n",
       "      <td>117</td>\n",
       "      <td>NY</td>\n",
       "      <td>D</td>\n",
       "      <td>-0.615</td>\n",
       "      <td>97.97</td>\n",
       "    </tr>\n",
       "    <tr>\n",
       "      <th>71</th>\n",
       "      <td>C001067</td>\n",
       "      <td>16</td>\n",
       "      <td>Yvette Clarke</td>\n",
       "      <td>N.Y.</td>\n",
       "      <td>Yvette</td>\n",
       "      <td>Clarke</td>\n",
       "      <td>house</td>\n",
       "      <td>117</td>\n",
       "      <td>NY</td>\n",
       "      <td>D</td>\n",
       "      <td>-0.613</td>\n",
       "      <td>98.18</td>\n",
       "    </tr>\n",
       "    <tr>\n",
       "      <th>359</th>\n",
       "      <td>S001145</td>\n",
       "      <td>24</td>\n",
       "      <td>Jan Schakowsky</td>\n",
       "      <td>Ill.</td>\n",
       "      <td>Jan</td>\n",
       "      <td>Schakowsky</td>\n",
       "      <td>house</td>\n",
       "      <td>117</td>\n",
       "      <td>IL</td>\n",
       "      <td>D</td>\n",
       "      <td>-0.606</td>\n",
       "      <td>98.64</td>\n",
       "    </tr>\n",
       "    <tr>\n",
       "      <th>164</th>\n",
       "      <td>G000551</td>\n",
       "      <td>20</td>\n",
       "      <td>Ra√∫l Grijalva</td>\n",
       "      <td>Ariz.</td>\n",
       "      <td>Ra√∫l</td>\n",
       "      <td>Grijalva</td>\n",
       "      <td>house</td>\n",
       "      <td>117</td>\n",
       "      <td>AZ</td>\n",
       "      <td>D</td>\n",
       "      <td>-0.598</td>\n",
       "      <td>98.41</td>\n",
       "    </tr>\n",
       "  </tbody>\n",
       "</table>\n",
       "</div>"
      ],
      "text/plain": [
       "          id  seniority              full_name apstate first_name  \\\n",
       "543  W000817          9       Elizabeth Warren   Mass.  Elizabeth   \n",
       "481  H001075          3          Kamala Harris  Calif.     Kamala   \n",
       "197  J000298          6        Pramila Jayapal   Wash.    Pramila   \n",
       "238  L000551         26            Barbara Lee  Calif.    Barbara   \n",
       "427  W000187         32          Maxine Waters  Calif.     Maxine   \n",
       "428  W000822          8  Bonnie Watson Coleman    N.J.     Bonnie   \n",
       "117  E000297          6      Adriano Espaillat    N.Y.    Adriano   \n",
       "71   C001067         16          Yvette Clarke    N.Y.     Yvette   \n",
       "359  S001145         24         Jan Schakowsky    Ill.        Jan   \n",
       "164  G000551         20         Ra√∫l Grijalva   Ariz.      Ra√∫l   \n",
       "\n",
       "          last_name chamber  session state party  dw_nominate  \\\n",
       "543          Warren  senate      117    MA     D       -0.759   \n",
       "481          Harris  senate      117    CA     D       -0.709   \n",
       "197         Jayapal   house      117    WA     D       -0.691   \n",
       "238             Lee   house      117    CA     D       -0.681   \n",
       "427          Waters   house      117    CA     D       -0.655   \n",
       "428  Watson Coleman   house      117    NJ     D       -0.621   \n",
       "117       Espaillat   house      117    NY     D       -0.615   \n",
       "71           Clarke   house      117    NY     D       -0.613   \n",
       "359      Schakowsky   house      117    IL     D       -0.606   \n",
       "164        Grijalva   house      117    AZ     D       -0.598   \n",
       "\n",
       "     votes_with_party_pct  \n",
       "543                 97.91  \n",
       "481                100.00  \n",
       "197                 97.52  \n",
       "238                 97.96  \n",
       "427                 95.12  \n",
       "428                 98.21  \n",
       "117                 97.97  \n",
       "71                  98.18  \n",
       "359                 98.64  \n",
       "164                 98.41  "
      ]
     },
     "execution_count": 97,
     "metadata": {},
     "output_type": "execute_result"
    }
   ],
   "source": [
    "df.sort_values('dw_nominate', ascending=True).head(10)"
   ]
  },
  {
   "cell_type": "markdown",
   "id": "b8ee2ba7-ab22-43e2-ad37-56b4274be513",
   "metadata": {},
   "source": [
    "---"
   ]
  },
  {
   "cell_type": "markdown",
   "id": "a148ec98-2df7-44e5-9ffc-4d38a0239bd6",
   "metadata": {
    "tags": []
   },
   "source": [
    "## What questions would you ask of this dataset? "
   ]
  },
  {
   "cell_type": "code",
   "execution_count": 123,
   "id": "a30eeb7c-53e0-4dae-b296-f58f4a1161d1",
   "metadata": {
    "tags": []
   },
   "outputs": [
    {
     "data": {
      "text/plain": [
       "50"
      ]
     },
     "execution_count": 123,
     "metadata": {},
     "output_type": "execute_result"
    }
   ],
   "source": [
    "df['seniority'].max()"
   ]
  },
  {
   "cell_type": "code",
   "execution_count": null,
   "id": "835fca97-b802-4d8d-89f8-bf8cd9a1dd47",
   "metadata": {
    "collapsed": true,
    "jupyter": {
     "outputs_hidden": true
    },
    "tags": []
   },
   "outputs": [
    {
     "ename": "NameError",
     "evalue": "name 'df' is not defined",
     "output_type": "error",
     "traceback": [
      "\u001b[0;31m---------------------------------------------------------------------------\u001b[0m",
      "\u001b[0;31mNameError\u001b[0m                                 Traceback (most recent call last)",
      "\u001b[0;32m/var/folders/w5/3gbnk82j74g1qmgs1yk83qxr0000gn/T/ipykernel_57542/2084117076.py\u001b[0m in \u001b[0;36m<module>\u001b[0;34m\u001b[0m\n\u001b[0;32m----> 1\u001b[0;31m \u001b[0mdf\u001b[0m\u001b[0;34m[\u001b[0m\u001b[0;34m'seniority'\u001b[0m\u001b[0;34m]\u001b[0m\u001b[0;34m.\u001b[0m\u001b[0mmin\u001b[0m\u001b[0;34m(\u001b[0m\u001b[0;34m)\u001b[0m\u001b[0;34m\u001b[0m\u001b[0;34m\u001b[0m\u001b[0m\n\u001b[0m",
      "\u001b[0;31mNameError\u001b[0m: name 'df' is not defined"
     ]
    }
   ],
   "source": [
    "df['seniority'].min()"
   ]
  },
  {
   "cell_type": "code",
   "execution_count": 125,
   "id": "dc896555-81fa-452d-b703-2d5e7f86e7a2",
   "metadata": {},
   "outputs": [
    {
     "data": {
      "text/plain": [
       "10.88"
      ]
     },
     "execution_count": 125,
     "metadata": {},
     "output_type": "execute_result"
    }
   ],
   "source": [
    "round(df['seniority'].mean(), 2)"
   ]
  },
  {
   "cell_type": "code",
   "execution_count": 126,
   "id": "02e01f29-16a1-4b23-af47-2a193983fd71",
   "metadata": {},
   "outputs": [
    {
     "data": {
      "text/plain": [
       "95.34"
      ]
     },
     "execution_count": 126,
     "metadata": {},
     "output_type": "execute_result"
    }
   ],
   "source": [
    "round(df['votes_with_party_pct'].mean(), 2)"
   ]
  },
  {
   "cell_type": "code",
   "execution_count": 127,
   "id": "10d35404-5b9f-4080-83cb-e30943254a58",
   "metadata": {},
   "outputs": [
    {
     "data": {
      "text/plain": [
       "chamber  party\n",
       "house    D       -0.390068\n",
       "         R        0.492037\n",
       "senate   D       -0.349682\n",
       "         ID      -0.345500\n",
       "         R        0.501841\n",
       "Name: dw_nominate, dtype: float64"
      ]
     },
     "execution_count": 127,
     "metadata": {},
     "output_type": "execute_result"
    }
   ],
   "source": [
    "df.groupby(['chamber', 'party'])['dw_nominate'].mean()"
   ]
  },
  {
   "cell_type": "code",
   "execution_count": 128,
   "id": "4ab68b05-ab54-453e-b059-1eda6e7245f4",
   "metadata": {},
   "outputs": [
    {
     "data": {
      "text/plain": [
       "state\n",
       "MA   -0.459125\n",
       "VT   -0.433667\n",
       "HI   -0.384000\n",
       "RI   -0.371750\n",
       "NJ   -0.367800\n",
       "Name: dw_nominate, dtype: float64"
      ]
     },
     "execution_count": 128,
     "metadata": {},
     "output_type": "execute_result"
    }
   ],
   "source": [
    "df.groupby(['state'])['dw_nominate'].mean().sort_values().head()"
   ]
  },
  {
   "cell_type": "code",
   "execution_count": 129,
   "id": "2e80be9b-e324-4d23-8d35-f77eba6a915a",
   "metadata": {},
   "outputs": [
    {
     "data": {
      "text/plain": [
       "party\n",
       "R      9.298507\n",
       "ID    12.000000\n",
       "D     12.388489\n",
       "Name: seniority, dtype: float64"
      ]
     },
     "execution_count": 129,
     "metadata": {},
     "output_type": "execute_result"
    }
   ],
   "source": [
    "df.groupby(['party'])['seniority'].mean().sort_values().head()"
   ]
  },
  {
   "cell_type": "markdown",
   "id": "2b848a56-d565-4943-b7f9-3a61ebc17b55",
   "metadata": {},
   "source": [
    "---"
   ]
  },
  {
   "cell_type": "markdown",
   "id": "3ec2d9c7-8609-496d-9f47-6801dee7920f",
   "metadata": {},
   "source": [
    "## Export"
   ]
  },
  {
   "cell_type": "code",
   "execution_count": 130,
   "id": "84ad26ed-abeb-446e-98c7-56ae59ccd638",
   "metadata": {},
   "outputs": [],
   "source": [
    "df.to_csv('../../data/processed/members_of_congress_117.csv', index=False)\n",
    "df.to_excel('../../data/processed/members_of_congress_117.xlsx')"
   ]
  }
 ],
 "metadata": {
  "kernelspec": {
   "display_name": "Python 3 (ipykernel)",
   "language": "python",
   "name": "python3"
  },
  "language_info": {
   "codemirror_mode": {
    "name": "ipython",
    "version": 3
   },
   "file_extension": ".py",
   "mimetype": "text/x-python",
   "name": "python",
   "nbconvert_exporter": "python",
   "pygments_lexer": "ipython3",
   "version": "3.9.7"
  }
 },
 "nbformat": 4,
 "nbformat_minor": 5
}
