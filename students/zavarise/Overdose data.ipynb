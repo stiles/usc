{
 "cells": [
  {
   "cell_type": "markdown",
   "id": "35bad2be-fa5a-472a-80df-82041bd99e53",
   "metadata": {},
   "source": [
    "### Overdose data"
   ]
  },
  {
   "cell_type": "code",
   "execution_count": 2,
   "id": "77e62274-8794-4ba0-9976-72bd5d0a2ce8",
   "metadata": {},
   "outputs": [],
   "source": [
    "import pandas as pd"
   ]
  },
  {
   "cell_type": "code",
   "execution_count": 23,
   "id": "306dd3e5-10ee-4355-b0a8-36ef6c12cbda",
   "metadata": {},
   "outputs": [],
   "source": [
    "import geopandas as gpd"
   ]
  },
  {
   "cell_type": "code",
   "execution_count": 9,
   "id": "f4bed130-f571-4f2a-ae20-d914035d1a45",
   "metadata": {},
   "outputs": [],
   "source": [
    "overdose = pd.read_csv('data/raw/overdose_data_2021.csv', dtype = {'death_zip_code': str , 'event_zip': str})"
   ]
  },
  {
   "cell_type": "code",
   "execution_count": 10,
   "id": "dfdb3fb5-55f5-4bf0-aa12-d97066eedda3",
   "metadata": {},
   "outputs": [],
   "source": [
    "overdose.columns = overdose.columns.str.lower().str.replace(' ', '_', regex = False)"
   ]
  },
  {
   "cell_type": "code",
   "execution_count": 11,
   "id": "e70c7ac2-af38-4a51-badf-4bbbd32d125b",
   "metadata": {},
   "outputs": [],
   "source": [
    "overdose['race'] = overdose['race'].str.title()"
   ]
  },
  {
   "cell_type": "code",
   "execution_count": 12,
   "id": "0279f57f-04d6-4bfd-a854-03fb6ce05c5c",
   "metadata": {},
   "outputs": [
    {
     "data": {
      "text/html": [
       "<div>\n",
       "<style scoped>\n",
       "    .dataframe tbody tr th:only-of-type {\n",
       "        vertical-align: middle;\n",
       "    }\n",
       "\n",
       "    .dataframe tbody tr th {\n",
       "        vertical-align: top;\n",
       "    }\n",
       "\n",
       "    .dataframe thead th {\n",
       "        text-align: right;\n",
       "    }\n",
       "</style>\n",
       "<table border=\"1\" class=\"dataframe\">\n",
       "  <thead>\n",
       "    <tr style=\"text-align: right;\">\n",
       "      <th></th>\n",
       "      <th>case_number</th>\n",
       "      <th>age</th>\n",
       "      <th>gender</th>\n",
       "      <th>race</th>\n",
       "      <th>date_of_death</th>\n",
       "      <th>deathplace</th>\n",
       "      <th>death_address</th>\n",
       "      <th>deathcity</th>\n",
       "      <th>death_zip_code</th>\n",
       "      <th>event_place</th>\n",
       "      <th>event_address</th>\n",
       "      <th>eventcity</th>\n",
       "      <th>event_zip</th>\n",
       "      <th>mode</th>\n",
       "      <th>cause_a</th>\n",
       "      <th>cause_b</th>\n",
       "      <th>cause_c</th>\n",
       "      <th>cause_d</th>\n",
       "    </tr>\n",
       "  </thead>\n",
       "  <tbody>\n",
       "    <tr>\n",
       "      <th>0</th>\n",
       "      <td>2021-03798</td>\n",
       "      <td>59.0</td>\n",
       "      <td>Male</td>\n",
       "      <td>Hispanic/Latin American</td>\n",
       "      <td>3/7/2021</td>\n",
       "      <td>ABANDONED BUILDING</td>\n",
       "      <td>1433 PLAYGROUND STREET</td>\n",
       "      <td>LOS ANGELES</td>\n",
       "      <td>90033</td>\n",
       "      <td>ABANDONED BUILDING</td>\n",
       "      <td>1433 PLAYGROUND STREET</td>\n",
       "      <td>LOS ANGELES</td>\n",
       "      <td>90033.0</td>\n",
       "      <td>ACCIDENT</td>\n",
       "      <td>EFFECTS OF FENTANYL AND METHAMPHETAMINE</td>\n",
       "      <td>NaN</td>\n",
       "      <td>NaN</td>\n",
       "      <td>NaN</td>\n",
       "    </tr>\n",
       "    <tr>\n",
       "      <th>1</th>\n",
       "      <td>2021-04526</td>\n",
       "      <td>26.0</td>\n",
       "      <td>Male</td>\n",
       "      <td>Black</td>\n",
       "      <td>3/28/2021</td>\n",
       "      <td>ABANDONED BUILDING</td>\n",
       "      <td>743 WEST AVENUE I</td>\n",
       "      <td>LANCASTER</td>\n",
       "      <td>93534</td>\n",
       "      <td>UNKNOWN</td>\n",
       "      <td>NaN</td>\n",
       "      <td>NaN</td>\n",
       "      <td>NaN</td>\n",
       "      <td>ACCIDENT</td>\n",
       "      <td>EFFECTS OF FENTANYL AND METHEMPHETAMINE</td>\n",
       "      <td>NaN</td>\n",
       "      <td>NaN</td>\n",
       "      <td>NaN</td>\n",
       "    </tr>\n",
       "    <tr>\n",
       "      <th>2</th>\n",
       "      <td>2021-07819</td>\n",
       "      <td>30.0</td>\n",
       "      <td>Male</td>\n",
       "      <td>Black</td>\n",
       "      <td>7/4/2021</td>\n",
       "      <td>ABANDONED BUILDING</td>\n",
       "      <td>1888 S. MAIN STREET</td>\n",
       "      <td>LOS ANGELES</td>\n",
       "      <td>90012</td>\n",
       "      <td>ABANDONED BUILDING</td>\n",
       "      <td>1888 S. MAIN STREET</td>\n",
       "      <td>LOS ANGELES</td>\n",
       "      <td>90012.0</td>\n",
       "      <td>ACCIDENT</td>\n",
       "      <td>COMBINED EFFECTS OF FENTANYL AND METHAMPHETAMINE</td>\n",
       "      <td>NaN</td>\n",
       "      <td>NaN</td>\n",
       "      <td>NaN</td>\n",
       "    </tr>\n",
       "    <tr>\n",
       "      <th>3</th>\n",
       "      <td>2021-08268</td>\n",
       "      <td>34.0</td>\n",
       "      <td>Male</td>\n",
       "      <td>Black</td>\n",
       "      <td>7/16/2021</td>\n",
       "      <td>ABANDONED BUILDING</td>\n",
       "      <td>1337 ORANGE DRIVE</td>\n",
       "      <td>LOS ANGELES</td>\n",
       "      <td>90028</td>\n",
       "      <td>ABANDONED BACK HOUSE</td>\n",
       "      <td>1337 ORANGE DRIVE</td>\n",
       "      <td>LOS ANGELES</td>\n",
       "      <td>90028.0</td>\n",
       "      <td>ACCIDENT</td>\n",
       "      <td>EFFECTS OF FENTANYL AND METHAMPHETAMINE</td>\n",
       "      <td>NaN</td>\n",
       "      <td>NaN</td>\n",
       "      <td>NaN</td>\n",
       "    </tr>\n",
       "    <tr>\n",
       "      <th>4</th>\n",
       "      <td>2021-11490</td>\n",
       "      <td>52.0</td>\n",
       "      <td>Male</td>\n",
       "      <td>Black</td>\n",
       "      <td>10/15/2021</td>\n",
       "      <td>ABANDONED BUILDING</td>\n",
       "      <td>E. VERNON AVENUE &amp; METTLER AVENUE</td>\n",
       "      <td>LOS ANGELES</td>\n",
       "      <td>90011</td>\n",
       "      <td>UNKNOWN</td>\n",
       "      <td>NaN</td>\n",
       "      <td>NaN</td>\n",
       "      <td>NaN</td>\n",
       "      <td>ACCIDENT</td>\n",
       "      <td>cocaine and methamphetamine toxicity</td>\n",
       "      <td>NaN</td>\n",
       "      <td>NaN</td>\n",
       "      <td>NaN</td>\n",
       "    </tr>\n",
       "  </tbody>\n",
       "</table>\n",
       "</div>"
      ],
      "text/plain": [
       "  case_number   age gender                     race date_of_death  \\\n",
       "0  2021-03798  59.0   Male  Hispanic/Latin American      3/7/2021   \n",
       "1  2021-04526  26.0   Male                    Black     3/28/2021   \n",
       "2  2021-07819  30.0   Male                    Black      7/4/2021   \n",
       "3  2021-08268  34.0   Male                    Black     7/16/2021   \n",
       "4  2021-11490  52.0   Male                    Black    10/15/2021   \n",
       "\n",
       "           deathplace                      death_address    deathcity  \\\n",
       "0  ABANDONED BUILDING             1433 PLAYGROUND STREET  LOS ANGELES   \n",
       "1  ABANDONED BUILDING                 743 WEST AVENUE I     LANCASTER   \n",
       "2  ABANDONED BUILDING                1888 S. MAIN STREET  LOS ANGELES   \n",
       "3  ABANDONED BUILDING                  1337 ORANGE DRIVE  LOS ANGELES   \n",
       "4  ABANDONED BUILDING  E. VERNON AVENUE & METTLER AVENUE  LOS ANGELES   \n",
       "\n",
       "   death_zip_code           event_place           event_address    eventcity  \\\n",
       "0           90033    ABANDONED BUILDING  1433 PLAYGROUND STREET  LOS ANGELES   \n",
       "1           93534               UNKNOWN                     NaN          NaN   \n",
       "2           90012    ABANDONED BUILDING     1888 S. MAIN STREET  LOS ANGELES   \n",
       "3           90028  ABANDONED BACK HOUSE       1337 ORANGE DRIVE  LOS ANGELES   \n",
       "4           90011               UNKNOWN                     NaN          NaN   \n",
       "\n",
       "   event_zip      mode                                           cause_a  \\\n",
       "0    90033.0  ACCIDENT           EFFECTS OF FENTANYL AND METHAMPHETAMINE   \n",
       "1        NaN  ACCIDENT           EFFECTS OF FENTANYL AND METHEMPHETAMINE   \n",
       "2    90012.0  ACCIDENT  COMBINED EFFECTS OF FENTANYL AND METHAMPHETAMINE   \n",
       "3    90028.0  ACCIDENT           EFFECTS OF FENTANYL AND METHAMPHETAMINE   \n",
       "4        NaN  ACCIDENT              cocaine and methamphetamine toxicity   \n",
       "\n",
       "  cause_b cause_c cause_d  \n",
       "0     NaN     NaN     NaN  \n",
       "1     NaN     NaN     NaN  \n",
       "2     NaN     NaN     NaN  \n",
       "3     NaN     NaN     NaN  \n",
       "4     NaN     NaN     NaN  "
      ]
     },
     "execution_count": 12,
     "metadata": {},
     "output_type": "execute_result"
    }
   ],
   "source": [
    "overdose.head()"
   ]
  },
  {
   "cell_type": "code",
   "execution_count": 19,
   "id": "3030af57-647b-456b-9135-8a8379a065c3",
   "metadata": {},
   "outputs": [],
   "source": [
    "deaths_by_zip = overdose.groupby('death_zip_code').agg({'case_number': 'count'}).reset_index().sort_values('case_number', ascending = False).rename(columns = {'case_number': 'count'})"
   ]
  },
  {
   "cell_type": "code",
   "execution_count": 41,
   "id": "f4bebf26-1470-4f98-b845-c97c75dee0f6",
   "metadata": {},
   "outputs": [],
   "source": [
    "deaths_by_zip['death_zip_code'] = deaths_by_zip['death_zip_code'].astype(str)"
   ]
  },
  {
   "cell_type": "markdown",
   "id": "ac9c9c33-b020-4a70-8f3e-67bfc1ac6f11",
   "metadata": {},
   "source": [
    "---"
   ]
  },
  {
   "cell_type": "markdown",
   "id": "060ac154-31d8-4d71-8155-564258fa35a8",
   "metadata": {},
   "source": [
    "### Import geography"
   ]
  },
  {
   "cell_type": "code",
   "execution_count": 42,
   "id": "f1dc21da-ad17-4638-852e-0f096c477e9f",
   "metadata": {},
   "outputs": [],
   "source": [
    "la_zips = gpd.read_file('../../data/geo/la_county_zips_tesla_rate.geojson', dtype = {'zip': str})"
   ]
  },
  {
   "cell_type": "code",
   "execution_count": 43,
   "id": "44f2fe75-b767-48b7-9be9-2c074bd215e6",
   "metadata": {},
   "outputs": [],
   "source": [
    "la_zips['zip'] = la_zips['zip'].astype(str)"
   ]
  },
  {
   "cell_type": "code",
   "execution_count": 44,
   "id": "2d03ba87-8eca-44fa-95a1-0b8d691ada12",
   "metadata": {},
   "outputs": [],
   "source": [
    "la_zips = la_zips[['zip', 'geometry']]"
   ]
  },
  {
   "cell_type": "code",
   "execution_count": 45,
   "id": "7925f466-11b6-4505-a203-84c69d9f5bdc",
   "metadata": {},
   "outputs": [
    {
     "data": {
      "text/plain": [
       "zip           object\n",
       "geometry    geometry\n",
       "dtype: object"
      ]
     },
     "execution_count": 45,
     "metadata": {},
     "output_type": "execute_result"
    }
   ],
   "source": [
    "la_zips.dtypes"
   ]
  },
  {
   "cell_type": "code",
   "execution_count": 50,
   "id": "6585a21c-ede5-4883-b4c4-60b9dac8a622",
   "metadata": {},
   "outputs": [],
   "source": [
    "death_zips_map = pd.merge(la_zips, deaths_by_zip, left_on = 'zip', right_on = 'death_zip_code', how = 'left') "
   ]
  },
  {
   "cell_type": "code",
   "execution_count": 51,
   "id": "3224227f-520d-4ad8-8928-0391d6bdcead",
   "metadata": {},
   "outputs": [
    {
     "data": {
      "text/plain": [
       "<AxesSubplot:>"
      ]
     },
     "execution_count": 51,
     "metadata": {},
     "output_type": "execute_result"
    },
    {
     "data": {
      "image/png": "[encoded data removed]",
      "text/plain": [
       "<Figure size 432x288 with 1 Axes>"
      ]
     },
     "metadata": {
      "needs_background": "light"
     },
     "output_type": "display_data"
    }
   ],
   "source": [
    "death_zips_map.plot()"
   ]
  },
  {
   "cell_type": "code",
   "execution_count": null,
   "id": "d1b7c833-3d90-451b-a0bc-347469ab940d",
   "metadata": {},
   "outputs": [],
   "source": []
  }
 ],
 "metadata": {
  "kernelspec": {
   "display_name": "Python 3 (ipykernel)",
   "language": "python",
   "name": "python3"
  },
  "language_info": {
   "codemirror_mode": {
    "name": "ipython",
    "version": 3
   },
   "file_extension": ".py",
   "mimetype": "text/x-python",
   "name": "python",
   "nbconvert_exporter": "python",
   "pygments_lexer": "ipython3",
   "version": "3.9.7"
  }
 },
 "nbformat": 4,
 "nbformat_minor": 5
}
