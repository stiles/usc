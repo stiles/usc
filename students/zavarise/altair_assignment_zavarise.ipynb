{
 "cells": [
  {
   "cell_type": "markdown",
   "id": "5bb5c2de-25c7-4ad6-9147-18e09446ca73",
   "metadata": {},
   "source": [
    "### Altair Assignment"
   ]
  },
  {
   "cell_type": "code",
   "execution_count": 2,
   "id": "51ed745a-a186-4069-9d6e-87ab745d08ac",
   "metadata": {},
   "outputs": [
    {
     "name": "stdout",
     "output_type": "stream",
     "text": [
      "The lab_black extension is already loaded. To reload it, use:\n",
      "  %reload_ext lab_black\n"
     ]
    }
   ],
   "source": [
    "%load_ext lab_black"
   ]
  },
  {
   "cell_type": "code",
   "execution_count": 3,
   "id": "74631adc-cb13-4a82-a50a-64d0b218699c",
   "metadata": {},
   "outputs": [],
   "source": [
    "import pandas as pd\n",
    "import altair as alt"
   ]
  },
  {
   "cell_type": "code",
   "execution_count": 4,
   "id": "fac5eb5f-ba02-43c6-b2e3-ee43b48bea14",
   "metadata": {},
   "outputs": [],
   "source": [
    "pd.options.display.max_columns = 1000\n",
    "pd.options.display.max_rows = 1000"
   ]
  },
  {
   "cell_type": "markdown",
   "id": "7b95a8d3-2810-4522-89dd-4a3b23c8fd85",
   "metadata": {},
   "source": [
    "### L.A. County Vaccine Data"
   ]
  },
  {
   "cell_type": "code",
   "execution_count": 5,
   "id": "673bcac6-a9a3-4677-abbe-dd14d9c64926",
   "metadata": {},
   "outputs": [],
   "source": [
    "vaccine = pd.read_csv(\n",
    "    \"https://raw.githubusercontent.com/stiles/usc/main/data/processed/no_vax_corr.csv\"\n",
    ")"
   ]
  },
  {
   "cell_type": "code",
   "execution_count": 6,
   "id": "6a88fcff-41d3-41e4-8652-7dd92693b49c",
   "metadata": {},
   "outputs": [
    {
     "data": {
      "text/html": [
       "<div>\n",
       "<style scoped>\n",
       "    .dataframe tbody tr th:only-of-type {\n",
       "        vertical-align: middle;\n",
       "    }\n",
       "\n",
       "    .dataframe tbody tr th {\n",
       "        vertical-align: top;\n",
       "    }\n",
       "\n",
       "    .dataframe thead th {\n",
       "        text-align: right;\n",
       "    }\n",
       "</style>\n",
       "<table border=\"1\" class=\"dataframe\">\n",
       "  <thead>\n",
       "    <tr style=\"text-align: right;\">\n",
       "      <th></th>\n",
       "      <th>county</th>\n",
       "      <th>fips</th>\n",
       "      <th>no_percent</th>\n",
       "      <th>yes_percent</th>\n",
       "      <th>winner_2021</th>\n",
       "      <th>fully_vaccinated_percent</th>\n",
       "      <th>population</th>\n",
       "    </tr>\n",
       "  </thead>\n",
       "  <tbody>\n",
       "    <tr>\n",
       "      <th>0</th>\n",
       "      <td>Alameda</td>\n",
       "      <td>1</td>\n",
       "      <td>82.5</td>\n",
       "      <td>17.5</td>\n",
       "      <td>D</td>\n",
       "      <td>81.46</td>\n",
       "      <td>1643700.0</td>\n",
       "    </tr>\n",
       "    <tr>\n",
       "      <th>1</th>\n",
       "      <td>Alpine</td>\n",
       "      <td>3</td>\n",
       "      <td>60.9</td>\n",
       "      <td>39.1</td>\n",
       "      <td>D</td>\n",
       "      <td>62.54</td>\n",
       "      <td>1148.0</td>\n",
       "    </tr>\n",
       "    <tr>\n",
       "      <th>2</th>\n",
       "      <td>Amador</td>\n",
       "      <td>5</td>\n",
       "      <td>36.9</td>\n",
       "      <td>63.1</td>\n",
       "      <td>R</td>\n",
       "      <td>54.27</td>\n",
       "      <td>37829.0</td>\n",
       "    </tr>\n",
       "    <tr>\n",
       "      <th>3</th>\n",
       "      <td>Butte</td>\n",
       "      <td>7</td>\n",
       "      <td>47.5</td>\n",
       "      <td>52.5</td>\n",
       "      <td>R</td>\n",
       "      <td>50.26</td>\n",
       "      <td>227075.0</td>\n",
       "    </tr>\n",
       "    <tr>\n",
       "      <th>4</th>\n",
       "      <td>Calaveras</td>\n",
       "      <td>9</td>\n",
       "      <td>38.3</td>\n",
       "      <td>61.7</td>\n",
       "      <td>R</td>\n",
       "      <td>53.23</td>\n",
       "      <td>45235.0</td>\n",
       "    </tr>\n",
       "  </tbody>\n",
       "</table>\n",
       "</div>"
      ],
      "text/plain": [
       "      county  fips  no_percent  yes_percent winner_2021  \\\n",
       "0    Alameda     1        82.5         17.5           D   \n",
       "1     Alpine     3        60.9         39.1           D   \n",
       "2     Amador     5        36.9         63.1           R   \n",
       "3      Butte     7        47.5         52.5           R   \n",
       "4  Calaveras     9        38.3         61.7           R   \n",
       "\n",
       "   fully_vaccinated_percent  population  \n",
       "0                     81.46   1643700.0  \n",
       "1                     62.54      1148.0  \n",
       "2                     54.27     37829.0  \n",
       "3                     50.26    227075.0  \n",
       "4                     53.23     45235.0  "
      ]
     },
     "execution_count": 6,
     "metadata": {},
     "output_type": "execute_result"
    }
   ],
   "source": [
    "vaccine.head()"
   ]
  },
  {
   "cell_type": "code",
   "execution_count": 7,
   "id": "b1c6d94c-49a6-46df-bec0-8482d0a6f69d",
   "metadata": {},
   "outputs": [
    {
     "data": {
      "text/html": [
       "\n",
       "<div id=\"altair-viz-1fbdee77991f4b81bede24b0b2c47d03\"></div>\n",
       "<script type=\"text/javascript\">\n",
       "  var VEGA_DEBUG = (typeof VEGA_DEBUG == \"undefined\") ? {} : VEGA_DEBUG;\n",
       "  (function(spec, embedOpt){\n",
       "    let outputDiv = document.currentScript.previousElementSibling;\n",
       "    if (outputDiv.id !== \"altair-viz-1fbdee77991f4b81bede24b0b2c47d03\") {\n",
       "      outputDiv = document.getElementById(\"altair-viz-1fbdee77991f4b81bede24b0b2c47d03\");\n",
       "    }\n",
       "    const paths = {\n",
       "      \"vega\": \"https://cdn.jsdelivr.net/npm//vega@5?noext\",\n",
       "      \"vega-lib\": \"https://cdn.jsdelivr.net/npm//vega-lib?noext\",\n",
       "      \"vega-lite\": \"https://cdn.jsdelivr.net/npm//vega-lite@4.17.0?noext\",\n",
       "      \"vega-embed\": \"https://cdn.jsdelivr.net/npm//vega-embed@6?noext\",\n",
       "    };\n",
       "\n",
       "    function maybeLoadScript(lib, version) {\n",
       "      var key = `${lib.replace(\"-\", \"\")}_version`;\n",
       "      return (VEGA_DEBUG[key] == version) ?\n",
       "        Promise.resolve(paths[lib]) :\n",
       "        new Promise(function(resolve, reject) {\n",
       "          var s = document.createElement('script');\n",
       "          document.getElementsByTagName(\"head\")[0].appendChild(s);\n",
       "          s.async = true;\n",
       "          s.onload = () => {\n",
       "            VEGA_DEBUG[key] = version;\n",
       "            return resolve(paths[lib]);\n",
       "          };\n",
       "          s.onerror = () => reject(`Error loading script: ${paths[lib]}`);\n",
       "          s.src = paths[lib];\n",
       "        });\n",
       "    }\n",
       "\n",
       "    function showError(err) {\n",
       "      outputDiv.innerHTML = `<div class=\"error\" style=\"color:red;\">${err}</div>`;\n",
       "      throw err;\n",
       "    }\n",
       "\n",
       "    function displayChart(vegaEmbed) {\n",
       "      vegaEmbed(outputDiv, spec, embedOpt)\n",
       "        .catch(err => showError(`Javascript Error: ${err.message}<br>This usually means there's a typo in your chart specification. See the javascript console for the full traceback.`));\n",
       "    }\n",
       "\n",
       "    if(typeof define === \"function\" && define.amd) {\n",
       "      requirejs.config({paths});\n",
       "      require([\"vega-embed\"], displayChart, err => showError(`Error loading script: ${err.message}`));\n",
       "    } else {\n",
       "      maybeLoadScript(\"vega\", \"5\")\n",
       "        .then(() => maybeLoadScript(\"vega-lite\", \"4.17.0\"))\n",
       "        .then(() => maybeLoadScript(\"vega-embed\", \"6\"))\n",
       "        .catch(showError)\n",
       "        .then(() => displayChart(vegaEmbed));\n",
       "    }\n",
       "  })({\"config\": {\"view\": {\"continuousWidth\": 400, \"continuousHeight\": 300}}, \"data\": {\"name\": \"data-ab90f1fb5b9c2e95b2d3d8f6cc9adf05\"}, \"mark\": {\"type\": \"bar\", \"color\": \"red\", \"size\": 5}, \"encoding\": {\"x\": {\"field\": \"fully_vaccinated_percent\", \"type\": \"quantitative\"}, \"y\": {\"field\": \"county\", \"type\": \"nominal\"}}, \"height\": 400, \"title\": \"Vaccination rates in Los Angeles County\", \"width\": 380, \"$schema\": \"https://vega.github.io/schema/vega-lite/v4.17.0.json\", \"datasets\": {\"data-ab90f1fb5b9c2e95b2d3d8f6cc9adf05\": [{\"county\": \"Alameda\", \"fips\": 1, \"no_percent\": 82.5, \"yes_percent\": 17.5, \"winner_2021\": \"D\", \"fully_vaccinated_percent\": 81.46, \"population\": 1643700.0}, {\"county\": \"Alpine\", \"fips\": 3, \"no_percent\": 60.9, \"yes_percent\": 39.1, \"winner_2021\": \"D\", \"fully_vaccinated_percent\": 62.54, \"population\": 1148.0}, {\"county\": \"Amador\", \"fips\": 5, \"no_percent\": 36.9, \"yes_percent\": 63.1, \"winner_2021\": \"R\", \"fully_vaccinated_percent\": 54.27, \"population\": 37829.0}, {\"county\": \"Butte\", \"fips\": 7, \"no_percent\": 47.5, \"yes_percent\": 52.5, \"winner_2021\": \"R\", \"fully_vaccinated_percent\": 50.26, \"population\": 227075.0}, {\"county\": \"Calaveras\", \"fips\": 9, \"no_percent\": 38.3, \"yes_percent\": 61.7, \"winner_2021\": \"R\", \"fully_vaccinated_percent\": 53.23, \"population\": 45235.0}, {\"county\": \"Colusa\", \"fips\": 11, \"no_percent\": 37.1, \"yes_percent\": 62.9, \"winner_2021\": \"R\", \"fully_vaccinated_percent\": 59.01, \"population\": 21464.0}, {\"county\": \"Contra Costa\", \"fips\": 13, \"no_percent\": 73.1, \"yes_percent\": 26.9, \"winner_2021\": \"D\", \"fully_vaccinated_percent\": 82.37, \"population\": 1133247.0}, {\"county\": \"Del Norte\", \"fips\": 15, \"no_percent\": 42.0, \"yes_percent\": 58.0, \"winner_2021\": \"R\", \"fully_vaccinated_percent\": 47.12, \"population\": 27424.0}, {\"county\": \"El Dorado\", \"fips\": 17, \"no_percent\": 44.9, \"yes_percent\": 55.1, \"winner_2021\": \"R\", \"fully_vaccinated_percent\": 62.01, \"population\": 186661.0}, {\"county\": \"Fresno\", \"fips\": 19, \"no_percent\": 49.8, \"yes_percent\": 50.2, \"winner_2021\": \"R\", \"fully_vaccinated_percent\": 60.73, \"population\": 978130.0}, {\"county\": \"Glenn\", \"fips\": 21, \"no_percent\": 30.6, \"yes_percent\": 69.4, \"winner_2021\": \"R\", \"fully_vaccinated_percent\": 54.75, \"population\": 27897.0}, {\"county\": \"Humboldt\", \"fips\": 23, \"no_percent\": 65.9, \"yes_percent\": 34.1, \"winner_2021\": \"D\", \"fully_vaccinated_percent\": 64.92, \"population\": 135768.0}, {\"county\": \"Imperial\", \"fips\": 25, \"no_percent\": 61.3, \"yes_percent\": 38.7, \"winner_2021\": \"D\", \"fully_vaccinated_percent\": 88.09, \"population\": 180216.0}, {\"county\": \"Inyo\", \"fips\": 27, \"no_percent\": 49.2, \"yes_percent\": 50.8, \"winner_2021\": \"R\", \"fully_vaccinated_percent\": 60.75, \"population\": 18085.0}, {\"county\": \"Kern\", \"fips\": 29, \"no_percent\": 41.9, \"yes_percent\": 58.1, \"winner_2021\": \"R\", \"fully_vaccinated_percent\": 53.06, \"population\": 883053.0}, {\"county\": \"Kings\", \"fips\": 31, \"no_percent\": 37.2, \"yes_percent\": 62.8, \"winner_2021\": \"R\", \"fully_vaccinated_percent\": 44.62, \"population\": 150075.0}, {\"county\": \"Lake\", \"fips\": 33, \"no_percent\": 60.1, \"yes_percent\": 39.9, \"winner_2021\": \"D\", \"fully_vaccinated_percent\": 53.88, \"population\": 64148.0}, {\"county\": \"Lassen\", \"fips\": 35, \"no_percent\": 17.1, \"yes_percent\": 82.9, \"winner_2021\": \"R\", \"fully_vaccinated_percent\": 27.81, \"population\": 31185.0}, {\"county\": \"Los Angeles\", \"fips\": 37, \"no_percent\": 70.8, \"yes_percent\": 29.2, \"winner_2021\": \"D\", \"fully_vaccinated_percent\": 71.32, \"population\": 10098052.0}, {\"county\": \"Madera\", \"fips\": 39, \"no_percent\": 41.1, \"yes_percent\": 58.9, \"winner_2021\": \"R\", \"fully_vaccinated_percent\": 53.58, \"population\": 155013.0}, {\"county\": \"Marin\", \"fips\": 41, \"no_percent\": 84.3, \"yes_percent\": 15.7, \"winner_2021\": \"D\", \"fully_vaccinated_percent\": 85.81, \"population\": 260295.0}, {\"county\": \"Mariposa\", \"fips\": 43, \"no_percent\": 40.3, \"yes_percent\": 59.7, \"winner_2021\": \"R\", \"fully_vaccinated_percent\": 42.96, \"population\": 17540.0}, {\"county\": \"Mendocino\", \"fips\": 45, \"no_percent\": 69.6, \"yes_percent\": 30.4, \"winner_2021\": \"D\", \"fully_vaccinated_percent\": 66.92, \"population\": 87422.0}, {\"county\": \"Merced\", \"fips\": 47, \"no_percent\": 50.1, \"yes_percent\": 49.9, \"winner_2021\": \"D\", \"fully_vaccinated_percent\": 51.51, \"population\": 269075.0}, {\"county\": \"Modoc\", \"fips\": 49, \"no_percent\": 22.0, \"yes_percent\": 78.0, \"winner_2021\": \"R\", \"fully_vaccinated_percent\": 40.86, \"population\": 8938.0}, {\"county\": \"Mono\", \"fips\": 51, \"no_percent\": 57.4, \"yes_percent\": 42.6, \"winner_2021\": \"D\", \"fully_vaccinated_percent\": 63.49, \"population\": 14174.0}, {\"county\": \"Monterey\", \"fips\": 53, \"no_percent\": 70.9, \"yes_percent\": 29.1, \"winner_2021\": \"D\", \"fully_vaccinated_percent\": 70.7, \"population\": 433212.0}, {\"county\": \"Napa\", \"fips\": 55, \"no_percent\": 70.5, \"yes_percent\": 29.5, \"winner_2021\": \"D\", \"fully_vaccinated_percent\": 76.05, \"population\": 140530.0}, {\"county\": \"Nevada\", \"fips\": 57, \"no_percent\": 57.7, \"yes_percent\": 42.3, \"winner_2021\": \"D\", \"fully_vaccinated_percent\": 62.51, \"population\": 99092.0}, {\"county\": \"Orange\", \"fips\": 59, \"no_percent\": 52.6, \"yes_percent\": 47.4, \"winner_2021\": \"D\", \"fully_vaccinated_percent\": 71.68, \"population\": 3164182.0}, {\"county\": \"Placer\", \"fips\": 61, \"no_percent\": 48.9, \"yes_percent\": 51.1, \"winner_2021\": \"R\", \"fully_vaccinated_percent\": 68.58, \"population\": 380077.0}, {\"county\": \"Plumas\", \"fips\": 63, \"no_percent\": 37.1, \"yes_percent\": 62.9, \"winner_2021\": \"R\", \"fully_vaccinated_percent\": 54.56, \"population\": 18699.0}, {\"county\": \"Riverside\", \"fips\": 65, \"no_percent\": 52.4, \"yes_percent\": 47.6, \"winner_2021\": \"D\", \"fully_vaccinated_percent\": 59.51, \"population\": 2383286.0}, {\"county\": \"Sacramento\", \"fips\": 67, \"no_percent\": 64.0, \"yes_percent\": 36.0, \"winner_2021\": \"D\", \"fully_vaccinated_percent\": 67.58, \"population\": 1510023.0}, {\"county\": \"San Benito\", \"fips\": 69, \"no_percent\": 59.2, \"yes_percent\": 40.8, \"winner_2021\": \"D\", \"fully_vaccinated_percent\": 74.26, \"population\": 59416.0}, {\"county\": \"San Bernardino\", \"fips\": 71, \"no_percent\": 52.0, \"yes_percent\": 48.0, \"winner_2021\": \"D\", \"fully_vaccinated_percent\": 56.59, \"population\": 2135413.0}, {\"county\": \"San Diego\", \"fips\": 73, \"no_percent\": 58.6, \"yes_percent\": 41.4, \"winner_2021\": \"D\", \"fully_vaccinated_percent\": 80.82, \"population\": 3302833.0}, {\"county\": \"San Francisco\", \"fips\": 75, \"no_percent\": 86.7, \"yes_percent\": 13.3, \"winner_2021\": \"D\", \"fully_vaccinated_percent\": 83.78, \"population\": 870044.0}, {\"county\": \"San Joaquin\", \"fips\": 77, \"no_percent\": 56.0, \"yes_percent\": 44.0, \"winner_2021\": \"D\", \"fully_vaccinated_percent\": 61.86, \"population\": 732212.0}, {\"county\": \"San Luis Obispo\", \"fips\": 79, \"no_percent\": 58.5, \"yes_percent\": 41.5, \"winner_2021\": \"D\", \"fully_vaccinated_percent\": 63.54, \"population\": 281455.0}, {\"county\": \"San Mateo\", \"fips\": 81, \"no_percent\": 79.1, \"yes_percent\": 20.9, \"winner_2021\": \"D\", \"fully_vaccinated_percent\": 83.19, \"population\": 765935.0}, {\"county\": \"Santa Barbara\", \"fips\": 83, \"no_percent\": 65.0, \"yes_percent\": 35.0, \"winner_2021\": \"D\", \"fully_vaccinated_percent\": 68.21, \"population\": 443738.0}, {\"county\": \"Santa Clara\", \"fips\": 85, \"no_percent\": 75.9, \"yes_percent\": 24.1, \"winner_2021\": \"D\", \"fully_vaccinated_percent\": 84.57, \"population\": 1922200.0}, {\"county\": \"Santa Cruz\", \"fips\": 87, \"no_percent\": 80.2, \"yes_percent\": 19.8, \"winner_2021\": \"D\", \"fully_vaccinated_percent\": 73.77, \"population\": 273765.0}, {\"county\": \"Shasta\", \"fips\": 89, \"no_percent\": 33.7, \"yes_percent\": 66.3, \"winner_2021\": \"R\", \"fully_vaccinated_percent\": 45.94, \"population\": 179085.0}, {\"county\": \"Sierra\", \"fips\": 91, \"no_percent\": 38.1, \"yes_percent\": 61.9, \"winner_2021\": \"R\", \"fully_vaccinated_percent\": 53.21, \"population\": 2930.0}, {\"county\": \"Siskiyou\", \"fips\": 93, \"no_percent\": 41.3, \"yes_percent\": 58.7, \"winner_2021\": \"R\", \"fully_vaccinated_percent\": 47.62, \"population\": 43540.0}, {\"county\": \"Solano\", \"fips\": 95, \"no_percent\": 64.3, \"yes_percent\": 35.7, \"winner_2021\": \"D\", \"fully_vaccinated_percent\": 66.54, \"population\": 438530.0}, {\"county\": \"Sonoma\", \"fips\": 97, \"no_percent\": 77.9, \"yes_percent\": 22.1, \"winner_2021\": \"D\", \"fully_vaccinated_percent\": 75.91, \"population\": 501317.0}, {\"county\": \"Stanislaus\", \"fips\": 99, \"no_percent\": 48.3, \"yes_percent\": 51.7, \"winner_2021\": \"R\", \"fully_vaccinated_percent\": 56.66, \"population\": 539301.0}, {\"county\": \"Sutter\", \"fips\": 101, \"no_percent\": 40.8, \"yes_percent\": 59.2, \"winner_2021\": \"R\", \"fully_vaccinated_percent\": 59.43, \"population\": 95872.0}, {\"county\": \"Tehama\", \"fips\": 103, \"no_percent\": 26.2, \"yes_percent\": 73.8, \"winner_2021\": \"R\", \"fully_vaccinated_percent\": 43.02, \"population\": 63373.0}, {\"county\": \"Trinity\", \"fips\": 105, \"no_percent\": 45.7, \"yes_percent\": 54.3, \"winner_2021\": \"R\", \"fully_vaccinated_percent\": 45.99, \"population\": 12862.0}, {\"county\": \"Tulare\", \"fips\": 107, \"no_percent\": 41.4, \"yes_percent\": 58.6, \"winner_2021\": \"R\", \"fully_vaccinated_percent\": 53.29, \"population\": 460477.0}, {\"county\": \"Tuolumne\", \"fips\": 109, \"no_percent\": 39.6, \"yes_percent\": 60.4, \"winner_2021\": \"R\", \"fully_vaccinated_percent\": 51.89, \"population\": 53932.0}, {\"county\": \"Ventura\", \"fips\": 111, \"no_percent\": 59.5, \"yes_percent\": 40.5, \"winner_2021\": \"D\", \"fully_vaccinated_percent\": 70.44, \"population\": 848112.0}, {\"county\": \"Yolo\", \"fips\": 113, \"no_percent\": 71.4, \"yes_percent\": 28.6, \"winner_2021\": \"D\", \"fully_vaccinated_percent\": 70.86, \"population\": 214977.0}, {\"county\": \"Yuba\", \"fips\": 115, \"no_percent\": 39.2, \"yes_percent\": 60.8, \"winner_2021\": \"R\", \"fully_vaccinated_percent\": 49.56, \"population\": 75493.0}]}}, {\"mode\": \"vega-lite\"});\n",
       "</script>"
      ],
      "text/plain": [
       "alt.Chart(...)"
      ]
     },
     "execution_count": 7,
     "metadata": {},
     "output_type": "execute_result"
    }
   ],
   "source": [
    "alt.Chart(vaccine).mark_bar(color=\"red\", size=5).encode(\n",
    "    x=\"fully_vaccinated_percent\", y=\"county\"\n",
    ").properties(width=380, height=400, title=\"Vaccination rates in Los Angeles County\")"
   ]
  },
  {
   "cell_type": "code",
   "execution_count": null,
   "id": "bbe27a28-da90-4ef2-af6b-5a12dcb2183e",
   "metadata": {},
   "outputs": [],
   "source": []
  }
 ],
 "metadata": {
  "kernelspec": {
   "display_name": "Python 3 (ipykernel)",
   "language": "python",
   "name": "python3"
  },
  "language_info": {
   "codemirror_mode": {
    "name": "ipython",
    "version": 3
   },
   "file_extension": ".py",
   "mimetype": "text/x-python",
   "name": "python",
   "nbconvert_exporter": "python",
   "pygments_lexer": "ipython3",
   "version": "3.9.7"
  }
 },
 "nbformat": 4,
 "nbformat_minor": 5
}
