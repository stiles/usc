{
 "cells": [
  {
   "cell_type": "markdown",
   "id": "5bb5c2de-25c7-4ad6-9147-18e09446ca73",
   "metadata": {},
   "source": [
    "### Altair Assignment"
   ]
  },
  {
   "cell_type": "code",
   "execution_count": 2,
   "id": "51ed745a-a186-4069-9d6e-87ab745d08ac",
   "metadata": {},
   "outputs": [],
   "source": [
    "%load_ext lab_black"
   ]
  },
  {
   "cell_type": "code",
   "execution_count": 3,
   "id": "74631adc-cb13-4a82-a50a-64d0b218699c",
   "metadata": {},
   "outputs": [],
   "source": [
    "import pandas as pd\n",
    "import altair as alt"
   ]
  },
  {
   "cell_type": "code",
   "execution_count": 4,
   "id": "fac5eb5f-ba02-43c6-b2e3-ee43b48bea14",
   "metadata": {},
   "outputs": [],
   "source": [
    "pd.options.display.max_columns = 1000\n",
    "pd.options.display.max_rows = 1000"
   ]
  },
  {
   "cell_type": "markdown",
   "id": "7b95a8d3-2810-4522-89dd-4a3b23c8fd85",
   "metadata": {},
   "source": [
    "### L.A. County Vaccine Data"
   ]
  },
  {
   "cell_type": "code",
   "execution_count": 7,
   "id": "673bcac6-a9a3-4677-abbe-dd14d9c64926",
   "metadata": {},
   "outputs": [],
   "source": [
    "vaccine = pd.read_csv(\n",
    "    \"https://raw.githubusercontent.com/stiles/usc/main/data/processed/no_vax_corr.csv\"\n",
    ")"
   ]
  },
  {
   "cell_type": "code",
   "execution_count": 8,
   "id": "6a88fcff-41d3-41e4-8652-7dd92693b49c",
   "metadata": {},
   "outputs": [
    {
     "data": {
      "text/html": [
       "<div>\n",
       "<style scoped>\n",
       "    .dataframe tbody tr th:only-of-type {\n",
       "        vertical-align: middle;\n",
       "    }\n",
       "\n",
       "    .dataframe tbody tr th {\n",
       "        vertical-align: top;\n",
       "    }\n",
       "\n",
       "    .dataframe thead th {\n",
       "        text-align: right;\n",
       "    }\n",
       "</style>\n",
       "<table border=\"1\" class=\"dataframe\">\n",
       "  <thead>\n",
       "    <tr style=\"text-align: right;\">\n",
       "      <th></th>\n",
       "      <th>county</th>\n",
       "      <th>fips</th>\n",
       "      <th>no_percent</th>\n",
       "      <th>yes_percent</th>\n",
       "      <th>winner_2021</th>\n",
       "      <th>fully_vaccinated_percent</th>\n",
       "      <th>population</th>\n",
       "    </tr>\n",
       "  </thead>\n",
       "  <tbody>\n",
       "    <tr>\n",
       "      <th>0</th>\n",
       "      <td>Alameda</td>\n",
       "      <td>1</td>\n",
       "      <td>82.5</td>\n",
       "      <td>17.5</td>\n",
       "      <td>D</td>\n",
       "      <td>81.46</td>\n",
       "      <td>1643700.0</td>\n",
       "    </tr>\n",
       "    <tr>\n",
       "      <th>1</th>\n",
       "      <td>Alpine</td>\n",
       "      <td>3</td>\n",
       "      <td>60.9</td>\n",
       "      <td>39.1</td>\n",
       "      <td>D</td>\n",
       "      <td>62.54</td>\n",
       "      <td>1148.0</td>\n",
       "    </tr>\n",
       "    <tr>\n",
       "      <th>2</th>\n",
       "      <td>Amador</td>\n",
       "      <td>5</td>\n",
       "      <td>36.9</td>\n",
       "      <td>63.1</td>\n",
       "      <td>R</td>\n",
       "      <td>54.27</td>\n",
       "      <td>37829.0</td>\n",
       "    </tr>\n",
       "    <tr>\n",
       "      <th>3</th>\n",
       "      <td>Butte</td>\n",
       "      <td>7</td>\n",
       "      <td>47.5</td>\n",
       "      <td>52.5</td>\n",
       "      <td>R</td>\n",
       "      <td>50.26</td>\n",
       "      <td>227075.0</td>\n",
       "    </tr>\n",
       "    <tr>\n",
       "      <th>4</th>\n",
       "      <td>Calaveras</td>\n",
       "      <td>9</td>\n",
       "      <td>38.3</td>\n",
       "      <td>61.7</td>\n",
       "      <td>R</td>\n",
       "      <td>53.23</td>\n",
       "      <td>45235.0</td>\n",
       "    </tr>\n",
       "  </tbody>\n",
       "</table>\n",
       "</div>"
      ],
      "text/plain": [
       "      county  fips  no_percent  yes_percent winner_2021  \\\n",
       "0    Alameda     1        82.5         17.5           D   \n",
       "1     Alpine     3        60.9         39.1           D   \n",
       "2     Amador     5        36.9         63.1           R   \n",
       "3      Butte     7        47.5         52.5           R   \n",
       "4  Calaveras     9        38.3         61.7           R   \n",
       "\n",
       "   fully_vaccinated_percent  population  \n",
       "0                     81.46   1643700.0  \n",
       "1                     62.54      1148.0  \n",
       "2                     54.27     37829.0  \n",
       "3                     50.26    227075.0  \n",
       "4                     53.23     45235.0  "
      ]
     },
     "execution_count": 8,
     "metadata": {},
     "output_type": "execute_result"
    }
   ],
   "source": [
    "vaccine.head()"
   ]
  },
  {
   "cell_type": "code",
   "execution_count": null,
   "id": "b1c6d94c-49a6-46df-bec0-8482d0a6f69d",
   "metadata": {},
   "outputs": [],
   "source": []
  }
 ],
 "metadata": {
  "kernelspec": {
   "display_name": "Python 3 (ipykernel)",
   "language": "python",
   "name": "python3"
  },
  "language_info": {
   "codemirror_mode": {
    "name": "ipython",
    "version": 3
   },
   "file_extension": ".py",
   "mimetype": "text/x-python",
   "name": "python",
   "nbconvert_exporter": "python",
   "pygments_lexer": "ipython3",
   "version": "3.9.7"
  }
 },
 "nbformat": 4,
 "nbformat_minor": 5
}
