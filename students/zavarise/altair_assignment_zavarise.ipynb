{
 "cells": [
  {
   "cell_type": "markdown",
   "id": "5bb5c2de-25c7-4ad6-9147-18e09446ca73",
   "metadata": {},
   "source": [
    "### Altair Assignment"
   ]
  },
  {
   "cell_type": "code",
   "execution_count": 1,
   "id": "74631adc-cb13-4a82-a50a-64d0b218699c",
   "metadata": {},
   "outputs": [],
   "source": [
    "import pandas as pd\n",
    "import altair as alt"
   ]
  },
  {
   "cell_type": "code",
   "execution_count": null,
   "id": "fac5eb5f-ba02-43c6-b2e3-ee43b48bea14",
   "metadata": {},
   "outputs": [],
   "source": []
  }
 ],
 "metadata": {
  "kernelspec": {
   "display_name": "Python 3 (ipykernel)",
   "language": "python",
   "name": "python3"
  },
  "language_info": {
   "codemirror_mode": {
    "name": "ipython",
    "version": 3
   },
   "file_extension": ".py",
   "mimetype": "text/x-python",
   "name": "python",
   "nbconvert_exporter": "python",
   "pygments_lexer": "ipython3",
   "version": "3.9.7"
  }
 },
 "nbformat": 4,
 "nbformat_minor": 5
}
