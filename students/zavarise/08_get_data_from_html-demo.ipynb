{
 "cells": [
  {
   "cell_type": "markdown",
   "id": "3a306da0-f7aa-4f36-80bd-df9c59b6ad3e",
   "metadata": {},
   "source": [
    "# Data from HTML tables: U.S. births"
   ]
  },
  {
   "cell_type": "code",
   "execution_count": 1,
   "id": "8790e0c0-fa54-4ace-ae01-5b97686a049a",
   "metadata": {},
   "outputs": [],
   "source": [
    "import pandas as pd\n",
    "import altair as alt"
   ]
  },
  {
   "cell_type": "markdown",
   "id": "267d134a-f18e-4892-83da-a00ca2137949",
   "metadata": {},
   "source": [
    "#### Get url"
   ]
  },
  {
   "cell_type": "code",
   "execution_count": 2,
   "id": "5adf4b7a-a4cf-43d5-9dec-efd515881102",
   "metadata": {},
   "outputs": [],
   "source": [
    "url = \"https://www.ssa.gov/oact/babynames/numberUSbirths.html\""
   ]
  },
  {
   "cell_type": "markdown",
   "id": "46d15109-3c56-4673-84f5-bc72f9348185",
   "metadata": {},
   "source": [
    "#### Read it into a dataframe"
   ]
  },
  {
   "cell_type": "code",
   "execution_count": null,
   "id": "57cf40f6-b67e-425b-8853-a3c2998b8965",
   "metadata": {},
   "outputs": [],
   "source": []
  },
  {
   "cell_type": "markdown",
   "id": "301db708-a17f-4cd0-98ad-17e0e13ca080",
   "metadata": {},
   "source": [
    "#### Clean up columns"
   ]
  },
  {
   "cell_type": "code",
   "execution_count": null,
   "id": "3baf4a19-059c-4078-b2da-8781c0e32c73",
   "metadata": {},
   "outputs": [],
   "source": []
  },
  {
   "cell_type": "code",
   "execution_count": null,
   "id": "60c2b5dd-25a4-4dc5-bf87-925b4035b06b",
   "metadata": {},
   "outputs": [],
   "source": []
  },
  {
   "cell_type": "markdown",
   "id": "c2aef944-e9a9-4cd9-bc1e-31d52f521c8d",
   "metadata": {},
   "source": [
    "#### Convert year"
   ]
  },
  {
   "cell_type": "code",
   "execution_count": null,
   "id": "c0c75ee4-fbe0-4333-9c1d-82546ef6c7da",
   "metadata": {},
   "outputs": [],
   "source": []
  },
  {
   "cell_type": "markdown",
   "id": "1b062b4d-ee0b-41c9-8a80-3c2edd5f940d",
   "metadata": {},
   "source": [
    "#### Chart it!"
   ]
  },
  {
   "cell_type": "code",
   "execution_count": null,
   "id": "cf8c156a-412c-4ed6-9428-70a46a5c02f6",
   "metadata": {},
   "outputs": [],
   "source": []
  },
  {
   "cell_type": "code",
   "execution_count": 3,
   "id": "e951e824-c2ff-40e6-93ee-27d090ac7730",
   "metadata": {},
   "outputs": [],
   "source": [
    "# births.to_csv('../../data/processed/ssa_births_1880_2020.csv', index=False)"
   ]
  },
  {
   "cell_type": "markdown",
   "id": "4f451c54-bc5a-4f12-9b1a-b344881679ce",
   "metadata": {},
   "source": [
    "---"
   ]
  },
  {
   "cell_type": "markdown",
   "id": "1532258e-367a-4821-bf18-813e36434b9f",
   "metadata": {},
   "source": [
    "## Get data from Wikipedia"
   ]
  },
  {
   "cell_type": "code",
   "execution_count": 4,
   "id": "3d54b936-7aba-407d-925d-07a747b61bf4",
   "metadata": {},
   "outputs": [],
   "source": [
    "# Used in this story: https://www.grid.news/story/politics/2022/01/13/what-economic-and-political-indicators-tell-us-about-the-2022-midterms/"
   ]
  },
  {
   "cell_type": "code",
   "execution_count": null,
   "id": "cb322e59-899c-4649-aa5b-626e663e36c7",
   "metadata": {},
   "outputs": [],
   "source": []
  },
  {
   "cell_type": "markdown",
   "id": "18184bd3-edc8-494a-a687-f734e0f1fbfe",
   "metadata": {},
   "source": [
    "#### Clean up the column names"
   ]
  },
  {
   "cell_type": "code",
   "execution_count": null,
   "id": "a1e7d817-6b56-4702-9741-dae779e74071",
   "metadata": {},
   "outputs": [],
   "source": []
  },
  {
   "cell_type": "markdown",
   "id": "00549220-6bec-49b3-b87d-d27a7c464eb3",
   "metadata": {},
   "source": [
    "#### Make them lower case"
   ]
  },
  {
   "cell_type": "code",
   "execution_count": null,
   "id": "76367507-9314-486f-8335-49f4bb69a0de",
   "metadata": {},
   "outputs": [],
   "source": []
  },
  {
   "cell_type": "markdown",
   "id": "ae561d81-af2d-482f-908c-fb71624a6eb5",
   "metadata": {},
   "source": [
    "#### Or just rename them entirely"
   ]
  },
  {
   "cell_type": "code",
   "execution_count": null,
   "id": "57bcf347-a859-4a3f-aaf0-54fc3d84600d",
   "metadata": {},
   "outputs": [],
   "source": []
  },
  {
   "cell_type": "markdown",
   "id": "5169796f-4b71-4fba-90a2-33b5a0a74398",
   "metadata": {},
   "source": [
    "#### First five rows"
   ]
  },
  {
   "cell_type": "code",
   "execution_count": null,
   "id": "9c406857-dd72-4fb3-9706-fb76a1826247",
   "metadata": {},
   "outputs": [],
   "source": []
  },
  {
   "cell_type": "markdown",
   "id": "c8783c43-ed2e-45d7-b020-0ee9ce4d43cd",
   "metadata": {},
   "source": [
    "#### Filter to presidents after 1900"
   ]
  },
  {
   "cell_type": "code",
   "execution_count": null,
   "id": "aa74ec01-6468-45b2-b6e0-088189faf6ff",
   "metadata": {},
   "outputs": [],
   "source": []
  },
  {
   "cell_type": "markdown",
   "id": "27f060a7-d77b-453d-aa30-bf1a0ecd8e16",
   "metadata": {},
   "source": [
    "#### First, convert data type on year column"
   ]
  },
  {
   "cell_type": "code",
   "execution_count": null,
   "id": "109b4523-d465-4641-92a7-a575df8b1efe",
   "metadata": {},
   "outputs": [],
   "source": []
  },
  {
   "cell_type": "markdown",
   "id": "6e7def7a-9942-4c4c-93fc-0e5e43112c69",
   "metadata": {},
   "source": [
    "#### Now try the filter"
   ]
  },
  {
   "cell_type": "code",
   "execution_count": null,
   "id": "319489de-be93-4344-812b-585f4e3c9d7f",
   "metadata": {},
   "outputs": [],
   "source": []
  },
  {
   "cell_type": "markdown",
   "id": "7a94f9a6-95c2-49fd-bf57-714cfb7339b0",
   "metadata": {},
   "source": [
    "#### Export"
   ]
  },
  {
   "cell_type": "code",
   "execution_count": 5,
   "id": "d42735f5-d4d8-4261-b191-b032dadf8948",
   "metadata": {},
   "outputs": [],
   "source": [
    "# wiki_df.to_csv('../../data/processed/wiki_midterm_gains_losses_party.csv', index=False)"
   ]
  }
 ],
 "metadata": {
  "kernelspec": {
   "display_name": "Python 3",
   "language": "python",
   "name": "python3"
  },
  "language_info": {
   "codemirror_mode": {
    "name": "ipython",
    "version": 3
   },
   "file_extension": ".py",
   "mimetype": "text/x-python",
   "name": "python",
   "nbconvert_exporter": "python",
   "pygments_lexer": "ipython3",
   "version": "3.8.8"
  }
 },
 "nbformat": 4,
 "nbformat_minor": 5
}
