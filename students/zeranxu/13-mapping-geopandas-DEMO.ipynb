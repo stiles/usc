{
 "cells": [
  {
   "cell_type": "markdown",
   "id": "cf543214-f1e4-46f5-a4ca-0641e43e455f",
   "metadata": {},
   "source": [
    "# Intro to map data with Geopandas"
   ]
  },
  {
   "cell_type": "markdown",
   "id": "ece5a4d3-be58-4d94-9736-5e9d10a41ba9",
   "metadata": {},
   "source": [
    "#### Load python tools"
   ]
  },
  {
   "cell_type": "code",
   "execution_count": 11,
   "id": "2594907b-7dfe-4e1f-9406-771e53069144",
   "metadata": {},
   "outputs": [
    {
     "name": "stdout",
     "output_type": "stream",
     "text": [
      "The lab_black extension is already loaded. To reload it, use:\n",
      "  %reload_ext lab_black\n"
     ]
    }
   ],
   "source": [
    "%load_ext lab_black"
   ]
  },
  {
   "cell_type": "code",
   "execution_count": null,
   "id": "d72edc4d-b826-4d3a-b5ab-d5773c071348",
   "metadata": {},
   "outputs": [],
   "source": [
    "!pip install geopandas"
   ]
  },
  {
   "cell_type": "code",
   "execution_count": 8,
   "id": "5d82586b-0073-434d-bcee-46e1013d7fc5",
   "metadata": {},
   "outputs": [],
   "source": [
    "import pandas as pd\n",
    "import geopandas as gpd"
   ]
  },
  {
   "cell_type": "code",
   "execution_count": 9,
   "id": "c09bfa5f-474a-40ea-abcc-a5e7787e501c",
   "metadata": {},
   "outputs": [],
   "source": [
    "pd.options.display.max_columns = 1000\n",
    "pd.options.display.max_rows = 1000"
   ]
  },
  {
   "cell_type": "markdown",
   "id": "6e8fe962-7c4f-413c-890e-97fc70adb134",
   "metadata": {},
   "source": [
    "---"
   ]
  },
  {
   "cell_type": "markdown",
   "id": "c2a67d82-9df5-45e4-9947-52cc5ea2b730",
   "metadata": {},
   "source": [
    "## Import geography"
   ]
  },
  {
   "cell_type": "markdown",
   "id": "3a91c5a6-bf04-4430-be0a-fac67b7dbf1c",
   "metadata": {},
   "source": [
    "#### Read states GeoJSON file"
   ]
  },
  {
   "cell_type": "code",
   "execution_count": 10,
   "id": "b28201ff-ee94-4f6c-a761-2564c0e448ce",
   "metadata": {},
   "outputs": [
    {
     "ename": "AttributeError",
     "evalue": "module 'geopandas' has no attribute 'read_file'",
     "output_type": "error",
     "traceback": [
      "\u001b[1;31m---------------------------------------------------------------------------\u001b[0m",
      "\u001b[1;31mAttributeError\u001b[0m                            Traceback (most recent call last)",
      "\u001b[1;32m~\\AppData\\Local\\Temp/ipykernel_13884/1578871433.py\u001b[0m in \u001b[0;36m<module>\u001b[1;34m\u001b[0m\n\u001b[1;32m----> 1\u001b[1;33m states_gdf = gpd.read_file(\n\u001b[0m\u001b[0;32m      2\u001b[0m     \u001b[1;34m\"https://raw.githubusercontent.com/stiles/usc/main/data/geo/states.geojson\"\u001b[0m\u001b[1;33m\u001b[0m\u001b[1;33m\u001b[0m\u001b[0m\n\u001b[0;32m      3\u001b[0m )\n",
      "\u001b[1;31mAttributeError\u001b[0m: module 'geopandas' has no attribute 'read_file'"
     ]
    }
   ],
   "source": [
    "states_gdf = gpd.read_file(\n",
    "    \"https://raw.githubusercontent.com/stiles/usc/main/data/geo/states.geojson\"\n",
    ")"
   ]
  },
  {
   "cell_type": "markdown",
   "id": "89d64edb-0a79-4094-95d7-b24861bc6840",
   "metadata": {},
   "source": [
    "#### What's that look like? "
   ]
  },
  {
   "cell_type": "code",
   "execution_count": null,
   "id": "bda88c1f-e0e5-40cf-8315-2ab221652118",
   "metadata": {},
   "outputs": [],
   "source": [
    "states_gdf.head()"
   ]
  },
  {
   "cell_type": "markdown",
   "id": "b380a383-1555-4a13-8e12-3b53ed5d67a8",
   "metadata": {},
   "source": [
    "#### Quick plot"
   ]
  },
  {
   "cell_type": "code",
   "execution_count": null,
   "id": "d0b9296a-d000-4b79-b063-71ef3b3fb9dd",
   "metadata": {},
   "outputs": [],
   "source": [
    "states_gdf.plot()"
   ]
  },
  {
   "cell_type": "markdown",
   "id": "7abe1ca9-3dc0-41a5-9515-26c6e28f8c89",
   "metadata": {},
   "source": [
    "#### Exclude features: Alaska and Hawaii"
   ]
  },
  {
   "cell_type": "code",
   "execution_count": null,
   "id": "abbe0160-2132-4907-9b14-b806718eda0d",
   "metadata": {},
   "outputs": [],
   "source": []
  },
  {
   "cell_type": "markdown",
   "id": "296dba7c-50a9-4946-acaf-bfd89ddbe23a",
   "metadata": {},
   "source": [
    "#### Focus on the mainland states"
   ]
  },
  {
   "cell_type": "code",
   "execution_count": null,
   "id": "43308c74-7d72-4384-a4b2-7c2ca8779881",
   "metadata": {},
   "outputs": [],
   "source": []
  },
  {
   "cell_type": "markdown",
   "id": "b414c442-6bc0-414f-b21f-47179fb9ab3f",
   "metadata": {},
   "source": [
    "#### Plot it"
   ]
  },
  {
   "cell_type": "code",
   "execution_count": null,
   "id": "f7233391-989e-4ccf-a2c6-c76549169acb",
   "metadata": {},
   "outputs": [],
   "source": []
  },
  {
   "cell_type": "markdown",
   "id": "35b7366b-32be-44ce-be95-02dd87011952",
   "metadata": {},
   "source": [
    "#### Filter just west coast"
   ]
  },
  {
   "cell_type": "code",
   "execution_count": null,
   "id": "9c0d2d55-2257-4685-90d5-483a3a4fe0b9",
   "metadata": {},
   "outputs": [],
   "source": []
  },
  {
   "cell_type": "code",
   "execution_count": null,
   "id": "a1894253-fc0b-48b7-8ea0-d5bf6fda8694",
   "metadata": {},
   "outputs": [],
   "source": []
  },
  {
   "cell_type": "markdown",
   "id": "1b686359-5727-4e59-9767-a6084fce7db7",
   "metadata": {},
   "source": [
    "#### Plot it"
   ]
  },
  {
   "cell_type": "code",
   "execution_count": null,
   "id": "822cec05-7b70-44cc-a464-c0cfaa56e650",
   "metadata": {},
   "outputs": [],
   "source": []
  },
  {
   "cell_type": "markdown",
   "id": "ec91b6c9-4075-4dc7-a6e1-98f4cb7f0166",
   "metadata": {},
   "source": [
    "---"
   ]
  },
  {
   "cell_type": "markdown",
   "id": "6fc65518-6910-47dc-8e10-5ba4610d1078",
   "metadata": {},
   "source": [
    "## Import values data"
   ]
  },
  {
   "cell_type": "markdown",
   "id": "e3679855-5531-45df-b3a0-08ff836af848",
   "metadata": {},
   "source": [
    "#### Mexican-American population by state"
   ]
  },
  {
   "cell_type": "code",
   "execution_count": null,
   "id": "396fbd6a-515b-413a-aa02-9a49b0d70690",
   "metadata": {},
   "outputs": [],
   "source": [
    "df = pd.read_csv(\n",
    "    \"https://raw.githubusercontent.com/stiles/usc/main/data/processed/mexican_pop_states.csv\",\n",
    "    dtype={\"geoid\": str},\n",
    ")"
   ]
  },
  {
   "cell_type": "markdown",
   "id": "f99da557-9a8c-400c-95c3-fed7214df235",
   "metadata": {},
   "source": [
    "#### First five rows"
   ]
  },
  {
   "cell_type": "code",
   "execution_count": null,
   "id": "48d2850f-cf51-446e-8f5a-de70fbe26f42",
   "metadata": {},
   "outputs": [],
   "source": []
  },
  {
   "cell_type": "markdown",
   "id": "48da66bc-21d4-4cda-bcf7-403c48c812de",
   "metadata": {},
   "source": [
    "#### Which state's population has the highest share of Mexican-American residents? "
   ]
  },
  {
   "cell_type": "code",
   "execution_count": null,
   "id": "b36786fb-3b67-4862-b514-9b12b3894bf8",
   "metadata": {},
   "outputs": [],
   "source": []
  },
  {
   "cell_type": "markdown",
   "id": "d7113c78-8fed-4ad1-9836-b193aeeef743",
   "metadata": {},
   "source": [
    "#### Which state's population has the lowest share of Hispanic residents? "
   ]
  },
  {
   "cell_type": "code",
   "execution_count": null,
   "id": "7eb08567-9449-40af-bcce-866b47cfbffb",
   "metadata": {},
   "outputs": [],
   "source": []
  },
  {
   "cell_type": "markdown",
   "id": "443c310e-ac1d-4253-9ff6-cfba2df0c8d9",
   "metadata": {},
   "source": [
    "---"
   ]
  },
  {
   "cell_type": "markdown",
   "id": "6ca73e63-73d6-4828-aca5-a338fe931d41",
   "metadata": {},
   "source": [
    "## Merge"
   ]
  },
  {
   "cell_type": "code",
   "execution_count": null,
   "id": "ac596cdd-8339-48bc-a1d7-e4a49cabddaa",
   "metadata": {},
   "outputs": [],
   "source": []
  },
  {
   "cell_type": "markdown",
   "id": "e1cd1a1d-f970-4453-89c4-5bf7e2bc22bd",
   "metadata": {},
   "source": [
    "#### Did it work? "
   ]
  },
  {
   "cell_type": "code",
   "execution_count": null,
   "id": "b791391b-9025-4e49-b24d-c60c144ff025",
   "metadata": {},
   "outputs": [],
   "source": []
  },
  {
   "cell_type": "markdown",
   "id": "1c43bb14-ae4f-4895-ab91-fb1446117e47",
   "metadata": {},
   "source": [
    "#### First five rows? "
   ]
  },
  {
   "cell_type": "code",
   "execution_count": null,
   "id": "a3e99b61-425d-4c32-97dc-fd6eb2c2e105",
   "metadata": {},
   "outputs": [],
   "source": []
  },
  {
   "cell_type": "markdown",
   "id": "3428dc1d-773e-4b22-bb66-b5ccb49bc122",
   "metadata": {},
   "source": [
    "---"
   ]
  },
  {
   "cell_type": "markdown",
   "id": "8f665e44-4b99-4c85-ba07-95cf3970e472",
   "metadata": {},
   "source": [
    "## Export"
   ]
  },
  {
   "cell_type": "markdown",
   "id": "c9ede30d-928b-40bf-814e-a51df1392ccf",
   "metadata": {},
   "source": [
    "#### Save our geodataframe as GeoJSON"
   ]
  },
  {
   "cell_type": "code",
   "execution_count": null,
   "id": "1c5126a9-127e-4680-bd33-4c8834950172",
   "metadata": {},
   "outputs": [],
   "source": [
    "# mex_am_gdf.to_file(\"../data/geo/mexican_americans_states.geojson\", driver=\"GeoJSON\")"
   ]
  }
 ],
 "metadata": {
  "kernelspec": {
   "display_name": "Python 3 (ipykernel)",
   "language": "python",
   "name": "python3"
  },
  "language_info": {
   "codemirror_mode": {
    "name": "ipython",
    "version": 3
   },
   "file_extension": ".py",
   "mimetype": "text/x-python",
   "name": "python",
   "nbconvert_exporter": "python",
   "pygments_lexer": "ipython3",
   "version": "3.9.7"
  }
 },
 "nbformat": 4,
 "nbformat_minor": 5
}
