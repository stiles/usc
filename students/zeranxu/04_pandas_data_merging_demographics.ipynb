{
 "cells": [
  {
   "cell_type": "markdown",
   "id": "98077971-87b9-4dfc-9afe-06ed3f92a28f",
   "metadata": {},
   "source": [
    "# Week 6: Merging data with Pandas, Part 2\n",
    "Adding demographics to our voting/vax table [using the `merge()` method](https://pandas.pydata.org/docs/reference/api/pandas.DataFrame.merge.html)"
   ]
  },
  {
   "cell_type": "markdown",
   "id": "7606243d-b026-46af-adfa-6d6dfa8f06e3",
   "metadata": {},
   "source": [
    "#### Load our Python tools"
   ]
  },
  {
   "cell_type": "code",
   "execution_count": 1,
   "id": "5aa6e6c5-2705-40ab-ade1-719f609a3794",
   "metadata": {},
   "outputs": [],
   "source": [
    "%load_ext lab_black"
   ]
  },
  {
   "cell_type": "code",
   "execution_count": 2,
   "id": "7c2be76f-ca72-4a68-9ef4-3848ec01746a",
   "metadata": {},
   "outputs": [],
   "source": [
    "import pandas as pd\n",
    "import altair as alt"
   ]
  },
  {
   "cell_type": "code",
   "execution_count": 3,
   "id": "084ca41d-4ca9-4f90-a6fd-3109902a2fda",
   "metadata": {},
   "outputs": [],
   "source": [
    "pd.options.display.max_columns = 100\n",
    "pd.options.display.max_rows = 1000\n",
    "pd.options.display.max_colwidth = None"
   ]
  },
  {
   "cell_type": "markdown",
   "id": "c856fd59-ac22-49de-876d-84413a76fed0",
   "metadata": {},
   "source": [
    "---"
   ]
  },
  {
   "cell_type": "markdown",
   "id": "8d244a4f-97c5-4a94-b8e4-61b2ae4a9d57",
   "metadata": {},
   "source": [
    "## Vax/Recall"
   ]
  },
  {
   "cell_type": "markdown",
   "id": "0db6426c-7f83-4b0e-a8a7-618d3563e328",
   "metadata": {},
   "source": [
    "#### Read data (don't forget to define data types here)"
   ]
  },
  {
   "cell_type": "code",
   "execution_count": 4,
   "id": "b0a267a6-3b48-4818-8c1c-df3222c40a40",
   "metadata": {},
   "outputs": [],
   "source": [
    "vax_recall_df = pd.read_csv(\"../../data/processed/no_vax_corr.csv\", dtype={\"fips\": str})"
   ]
  },
  {
   "cell_type": "code",
   "execution_count": null,
   "id": "499d1ef3-e4d8-439b-bdb4-016bcf466a7f",
   "metadata": {},
   "outputs": [],
   "source": []
  },
  {
   "cell_type": "markdown",
   "id": "f7d3bc4a-147b-4e39-866f-66a545ab0437",
   "metadata": {},
   "source": [
    "---"
   ]
  },
  {
   "cell_type": "markdown",
   "id": "f5804749-d1ac-4bc2-9bb7-a5b0f0926b13",
   "metadata": {},
   "source": [
    "## Demographics"
   ]
  },
  {
   "cell_type": "code",
   "execution_count": 5,
   "id": "c8dc5cc1-e495-4b0f-8380-4210833474cb",
   "metadata": {},
   "outputs": [],
   "source": [
    "demos_df = pd.read_csv(\n",
    "    \"../../data/raw/ca_counties_demographics.csv\",\n",
    "    dtype={\"state_fips\": str, \"cnty_fips\": str, \"fips\": str},\n",
    ")"
   ]
  },
  {
   "cell_type": "code",
   "execution_count": null,
   "id": "0604c68b-6244-4770-b6af-41f576e9ca47",
   "metadata": {},
   "outputs": [],
   "source": []
  },
  {
   "cell_type": "markdown",
   "id": "9ec15aa6-2abb-4826-b9a5-3b7f0577c1df",
   "metadata": {},
   "source": [
    "---"
   ]
  },
  {
   "cell_type": "markdown",
   "id": "36109068-9146-4240-ba83-952ca1480ae9",
   "metadata": {},
   "source": [
    "## Merge"
   ]
  },
  {
   "cell_type": "markdown",
   "id": "2ee2638b-77d8-423a-8326-88f30ca99f4e",
   "metadata": {},
   "source": [
    "#### Join, or merge, the demographics and the vax/recall dataframes"
   ]
  },
  {
   "cell_type": "code",
   "execution_count": null,
   "id": "88cbc9bf-76b8-40e8-a55f-70431c902ca6",
   "metadata": {},
   "outputs": [],
   "source": []
  },
  {
   "cell_type": "markdown",
   "id": "5e1f739a-f56b-4a89-9fa5-eee73640a102",
   "metadata": {},
   "source": [
    "#### Did they merge correctly? "
   ]
  },
  {
   "cell_type": "code",
   "execution_count": null,
   "id": "68b79e73-553c-4126-abde-ea5b442ac2ee",
   "metadata": {},
   "outputs": [],
   "source": []
  },
  {
   "cell_type": "markdown",
   "id": "4cb0abdc-2f08-4612-a5bd-51c2db893451",
   "metadata": {},
   "source": [
    "#### What's it look like? "
   ]
  },
  {
   "cell_type": "code",
   "execution_count": null,
   "id": "2d397828-9999-4913-9dcc-fc7b49e41ac0",
   "metadata": {},
   "outputs": [],
   "source": []
  },
  {
   "cell_type": "code",
   "execution_count": null,
   "id": "287e97f2-366c-48ac-9809-ec560f9ceb3d",
   "metadata": {},
   "outputs": [],
   "source": []
  },
  {
   "cell_type": "code",
   "execution_count": null,
   "id": "fb36f633-ab1d-4aa4-9293-a5de02739009",
   "metadata": {},
   "outputs": [],
   "source": []
  },
  {
   "cell_type": "markdown",
   "id": "c46439c4-77a1-4866-aad0-d108de52f3b0",
   "metadata": {},
   "source": [
    "#### How did small counties vote? "
   ]
  },
  {
   "cell_type": "code",
   "execution_count": null,
   "id": "3ea2591f-da07-45f3-9880-e6a3199a5199",
   "metadata": {},
   "outputs": [],
   "source": []
  },
  {
   "cell_type": "markdown",
   "id": "df3fbdda-32a2-4db0-b7f4-ac0f47299d7e",
   "metadata": {},
   "source": [
    "#### Large? "
   ]
  },
  {
   "cell_type": "code",
   "execution_count": null,
   "id": "022926db-8c2a-4642-8488-9a621fde8170",
   "metadata": {},
   "outputs": [],
   "source": []
  },
  {
   "cell_type": "markdown",
   "id": "929e6e37-6af2-44fd-bcc0-56a203f56e6e",
   "metadata": {},
   "source": [
    "#### Mean no vote for small? "
   ]
  },
  {
   "cell_type": "code",
   "execution_count": null,
   "id": "e22a2b63-c42f-4264-b560-fb4544c78237",
   "metadata": {},
   "outputs": [],
   "source": []
  },
  {
   "cell_type": "markdown",
   "id": "4473a7f1-f72a-4f1f-864d-5830254f5956",
   "metadata": {},
   "source": [
    "#### Mean no vote for large?"
   ]
  },
  {
   "cell_type": "code",
   "execution_count": null,
   "id": "bdec9cbd-67e5-4139-9eaf-e64bf13dfc01",
   "metadata": {},
   "outputs": [],
   "source": []
  },
  {
   "cell_type": "markdown",
   "id": "29640a2c-083b-4a37-8be3-f6c2acb3fa06",
   "metadata": {},
   "source": [
    "---"
   ]
  },
  {
   "cell_type": "markdown",
   "id": "f2d12015-10d6-4317-b1b3-c373512101e5",
   "metadata": {},
   "source": [
    "## Export"
   ]
  },
  {
   "cell_type": "code",
   "execution_count": null,
   "id": "34c90b5a-6f4c-4e6a-b7f6-183968c6252f",
   "metadata": {},
   "outputs": [],
   "source": []
  },
  {
   "cell_type": "markdown",
   "id": "12099457-d423-4ea8-bca6-225328c5316b",
   "metadata": {},
   "source": [
    "---"
   ]
  },
  {
   "cell_type": "markdown",
   "id": "c2ebd7fc-8107-4539-bcfb-65e247ab9ef6",
   "metadata": {},
   "source": [
    "## We've just scratched the surface\n",
    "#### Read this [excellent explainer](https://towardsdatascience.com/all-the-pandas-merge-you-should-know-for-combining-datasets-526b9ecaf184) on all things `merge()`"
   ]
  }
 ],
 "metadata": {
  "kernelspec": {
   "display_name": "Python 3 (ipykernel)",
   "language": "python",
   "name": "python3"
  },
  "language_info": {
   "codemirror_mode": {
    "name": "ipython",
    "version": 3
   },
   "file_extension": ".py",
   "mimetype": "text/x-python",
   "name": "python",
   "nbconvert_exporter": "python",
   "pygments_lexer": "ipython3",
   "version": "3.9.7"
  }
 },
 "nbformat": 4,
 "nbformat_minor": 5
}
