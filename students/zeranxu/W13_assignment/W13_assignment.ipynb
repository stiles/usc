{
 "cells": [
  {
   "cell_type": "code",
   "execution_count": 1,
   "id": "53ad31cd-a5b1-4a3b-99ec-bba21d0e3ec2",
   "metadata": {},
   "outputs": [],
   "source": [
    "import pandas as pd\n",
    "import geopandas as gpd"
   ]
  },
  {
   "cell_type": "code",
   "execution_count": 2,
   "id": "953f2b67-f84d-4887-b96c-983b7f7280de",
   "metadata": {},
   "outputs": [],
   "source": [
    "pd.options.display.max_columns = 1000\n",
    "pd.options.display.max_rows = 1000"
   ]
  },
  {
   "cell_type": "markdown",
   "id": "cb4ddef9-0665-4c4a-8337-8f3e932e8f9e",
   "metadata": {},
   "source": [
    "The import data is the School District Boundaries of LA county"
   ]
  },
  {
   "cell_type": "code",
   "execution_count": 3,
   "id": "45705389-db20-4eee-8f9d-7d3883d3bac1",
   "metadata": {},
   "outputs": [],
   "source": [
    "school_df = gpd.read_file(\"School_District_Boundaries.geojson\")"
   ]
  },
  {
   "cell_type": "code",
   "execution_count": 4,
   "id": "e30d54aa-3b19-4f3d-a945-ea448ca0e0a3",
   "metadata": {},
   "outputs": [
    {
     "data": {
      "text/html": [
       "<div>\n",
       "<style scoped>\n",
       "    .dataframe tbody tr th:only-of-type {\n",
       "        vertical-align: middle;\n",
       "    }\n",
       "\n",
       "    .dataframe tbody tr th {\n",
       "        vertical-align: top;\n",
       "    }\n",
       "\n",
       "    .dataframe thead th {\n",
       "        text-align: right;\n",
       "    }\n",
       "</style>\n",
       "<table border=\"1\" class=\"dataframe\">\n",
       "  <thead>\n",
       "    <tr style=\"text-align: right;\">\n",
       "      <th></th>\n",
       "      <th>OBJECTID</th>\n",
       "      <th>LABEL</th>\n",
       "      <th>ABBR</th>\n",
       "      <th>DISTRICT_TYPE</th>\n",
       "      <th>ShapeSTArea</th>\n",
       "      <th>ShapeSTLength</th>\n",
       "      <th>geometry</th>\n",
       "    </tr>\n",
       "  </thead>\n",
       "  <tbody>\n",
       "    <tr>\n",
       "      <th>0</th>\n",
       "      <td>1</td>\n",
       "      <td>ABC UNIFIED SCHOOL</td>\n",
       "      <td>1101</td>\n",
       "      <td>Unified School District</td>\n",
       "      <td>4.229265e+08</td>\n",
       "      <td>116125.061158</td>\n",
       "      <td>POLYGON ((-118.05176 33.89644, -118.05186 33.8...</td>\n",
       "    </tr>\n",
       "    <tr>\n",
       "      <th>1</th>\n",
       "      <td>2</td>\n",
       "      <td>BELLFLOWER UNIFIED SCHOOL</td>\n",
       "      <td>1102</td>\n",
       "      <td>Unified School District</td>\n",
       "      <td>2.002302e+08</td>\n",
       "      <td>70736.409036</td>\n",
       "      <td>POLYGON ((-118.10975 33.90982, -118.11143 33.9...</td>\n",
       "    </tr>\n",
       "    <tr>\n",
       "      <th>2</th>\n",
       "      <td>3</td>\n",
       "      <td>DOWNEY UNIFIED SCHOOL</td>\n",
       "      <td>1103</td>\n",
       "      <td>Unified School District</td>\n",
       "      <td>3.853795e+08</td>\n",
       "      <td>93124.304264</td>\n",
       "      <td>POLYGON ((-118.11896 33.97057, -118.11898 33.9...</td>\n",
       "    </tr>\n",
       "    <tr>\n",
       "      <th>3</th>\n",
       "      <td>4</td>\n",
       "      <td>NORWALK-LA MIRADA UNIF SCHOOL</td>\n",
       "      <td>1104</td>\n",
       "      <td>Unified School District</td>\n",
       "      <td>4.345402e+08</td>\n",
       "      <td>129810.612207</td>\n",
       "      <td>POLYGON ((-118.08616 33.91710, -118.08790 33.9...</td>\n",
       "    </tr>\n",
       "    <tr>\n",
       "      <th>4</th>\n",
       "      <td>5</td>\n",
       "      <td>AZUSA UNIFIED SCHOOL</td>\n",
       "      <td>1105</td>\n",
       "      <td>Unified School District</td>\n",
       "      <td>4.199201e+09</td>\n",
       "      <td>391810.296316</td>\n",
       "      <td>POLYGON ((-117.66026 34.33961, -117.67600 34.3...</td>\n",
       "    </tr>\n",
       "  </tbody>\n",
       "</table>\n",
       "</div>"
      ],
      "text/plain": [
       "   OBJECTID                          LABEL  ABBR            DISTRICT_TYPE  \\\n",
       "0         1             ABC UNIFIED SCHOOL  1101  Unified School District   \n",
       "1         2      BELLFLOWER UNIFIED SCHOOL  1102  Unified School District   \n",
       "2         3          DOWNEY UNIFIED SCHOOL  1103  Unified School District   \n",
       "3         4  NORWALK-LA MIRADA UNIF SCHOOL  1104  Unified School District   \n",
       "4         5           AZUSA UNIFIED SCHOOL  1105  Unified School District   \n",
       "\n",
       "    ShapeSTArea  ShapeSTLength  \\\n",
       "0  4.229265e+08  116125.061158   \n",
       "1  2.002302e+08   70736.409036   \n",
       "2  3.853795e+08   93124.304264   \n",
       "3  4.345402e+08  129810.612207   \n",
       "4  4.199201e+09  391810.296316   \n",
       "\n",
       "                                            geometry  \n",
       "0  POLYGON ((-118.05176 33.89644, -118.05186 33.8...  \n",
       "1  POLYGON ((-118.10975 33.90982, -118.11143 33.9...  \n",
       "2  POLYGON ((-118.11896 33.97057, -118.11898 33.9...  \n",
       "3  POLYGON ((-118.08616 33.91710, -118.08790 33.9...  \n",
       "4  POLYGON ((-117.66026 34.33961, -117.67600 34.3...  "
      ]
     },
     "execution_count": 4,
     "metadata": {},
     "output_type": "execute_result"
    }
   ],
   "source": [
    "school_df.head()"
   ]
  },
  {
   "cell_type": "code",
   "execution_count": 5,
   "id": "c348d9cc-564b-4723-897a-80e2362fbb5c",
   "metadata": {},
   "outputs": [
    {
     "data": {
      "text/plain": [
       "<AxesSubplot:>"
      ]
     },
     "execution_count": 5,
     "metadata": {},
     "output_type": "execute_result"
    },
    {
     "data": {
      "image/png": "[encoded data removed]",
      "text/plain": [
       "<Figure size 432x288 with 1 Axes>"
      ]
     },
     "metadata": {
      "needs_background": "light"
     },
     "output_type": "display_data"
    }
   ],
   "source": [
    "school_df.plot()"
   ]
  },
  {
   "cell_type": "markdown",
   "id": "2b6e652f-af2f-4fba-bb55-ae9991f7e9b6",
   "metadata": {},
   "source": [
    "Create a subset of the school district in City of Pasadena"
   ]
  },
  {
   "cell_type": "code",
   "execution_count": 6,
   "id": "d7dc81fa-b73d-4159-bbdb-4fa00b8e801c",
   "metadata": {},
   "outputs": [],
   "source": [
    "pasadena_school = [\"PASADENA UNIFIED SCHOOL\", \"SOUTH PASADENA UNIFIED SCHOOL\"]"
   ]
  },
  {
   "cell_type": "code",
   "execution_count": 7,
   "id": "29b56d11-13c8-4087-9dbb-abc27fb64e30",
   "metadata": {},
   "outputs": [],
   "source": [
    "pasadena_school_gdf = school_df[school_df[\"LABEL\"].isin(pasadena_school)]"
   ]
  },
  {
   "cell_type": "code",
   "execution_count": 8,
   "id": "f70d8bd5-d50d-46ee-8639-3f5d2bc8a184",
   "metadata": {},
   "outputs": [
    {
     "data": {
      "text/plain": [
       "<AxesSubplot:>"
      ]
     },
     "execution_count": 8,
     "metadata": {},
     "output_type": "execute_result"
    },
    {
     "data": {
      "image/png": "[encoded data removed]",
      "text/plain": [
       "<Figure size 432x288 with 1 Axes>"
      ]
     },
     "metadata": {
      "needs_background": "light"
     },
     "output_type": "display_data"
    }
   ],
   "source": [
    "pasadena_school_gdf.plot()"
   ]
  },
  {
   "cell_type": "code",
   "execution_count": 9,
   "id": "04192789-45b9-4cfd-9a95-94162d40bbde",
   "metadata": {},
   "outputs": [],
   "source": [
    "pasadena_school_gdf.to_file(\"pasadena_school_gdf.geojson\", driver=\"GeoJSON\")"
   ]
  },
  {
   "cell_type": "code",
   "execution_count": null,
   "id": "4f3f4d14-c25d-42f1-9afd-79092bd259b7",
   "metadata": {},
   "outputs": [],
   "source": []
  }
 ],
 "metadata": {
  "kernelspec": {
   "display_name": "Python 3 (ipykernel)",
   "language": "python",
   "name": "python3"
  },
  "language_info": {
   "codemirror_mode": {
    "name": "ipython",
    "version": 3
   },
   "file_extension": ".py",
   "mimetype": "text/x-python",
   "name": "python",
   "nbconvert_exporter": "python",
   "pygments_lexer": "ipython3",
   "version": "3.9.7"
  }
 },
 "nbformat": 4,
 "nbformat_minor": 5
}
