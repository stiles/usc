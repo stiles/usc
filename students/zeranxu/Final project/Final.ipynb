{
 "cells": [
  {
   "cell_type": "markdown",
   "id": "a9b8e078-32cf-4f52-acd6-3f1f3f6808eb",
   "metadata": {},
   "source": [
    "# Zeran's final project: Map of 2021 CA county car accident statistics"
   ]
  },
  {
   "cell_type": "markdown",
   "id": "c3377c80-bb0a-452e-a670-e060a2bbf10b",
   "metadata": {},
   "source": [
    "Moosavi, Sobhan, Mohammad Hossein Samavatian, Srinivasan Parthasarathy, and Rajiv Ramnath. “A Countrywide Traffic Accident Dataset.”, 2019."
   ]
  },
  {
   "cell_type": "code",
   "execution_count": 1,
   "id": "c3095628-f874-4670-876e-0da03557ed37",
   "metadata": {},
   "outputs": [],
   "source": [
    "import pandas as pd\n",
    "import geopandas as gpd\n",
    "import numpy as np"
   ]
  },
  {
   "cell_type": "code",
   "execution_count": 2,
   "id": "50103ae9-bc68-4cf9-a105-a6405bc7e34a",
   "metadata": {},
   "outputs": [],
   "source": [
    "pd.options.display.max_columns = 1000\n",
    "pd.options.display.max_rows = 1000"
   ]
  },
  {
   "cell_type": "code",
   "execution_count": 3,
   "id": "37f75dfe-9e2a-42ba-8fca-9ee8feea0169",
   "metadata": {},
   "outputs": [],
   "source": [
    "df1 = pd.read_csv('2021_CA_accident.csv', dtype=object)"
   ]
  },
  {
   "cell_type": "code",
   "execution_count": 4,
   "id": "1b81a270-97a9-4856-b106-7739ecf2d663",
   "metadata": {},
   "outputs": [
    {
     "data": {
      "text/html": [
       "<div>\n",
       "<style scoped>\n",
       "    .dataframe tbody tr th:only-of-type {\n",
       "        vertical-align: middle;\n",
       "    }\n",
       "\n",
       "    .dataframe tbody tr th {\n",
       "        vertical-align: top;\n",
       "    }\n",
       "\n",
       "    .dataframe thead th {\n",
       "        text-align: right;\n",
       "    }\n",
       "</style>\n",
       "<table border=\"1\" class=\"dataframe\">\n",
       "  <thead>\n",
       "    <tr style=\"text-align: right;\">\n",
       "      <th></th>\n",
       "      <th>Start_Time</th>\n",
       "      <th>Start_Lat</th>\n",
       "      <th>Start_Lng</th>\n",
       "      <th>End_Lat</th>\n",
       "      <th>End_Lng</th>\n",
       "      <th>City</th>\n",
       "      <th>County</th>\n",
       "      <th>State</th>\n",
       "      <th>Zipcode</th>\n",
       "    </tr>\n",
       "  </thead>\n",
       "  <tbody>\n",
       "    <tr>\n",
       "      <th>0</th>\n",
       "      <td>30/07/2021 23:37</td>\n",
       "      <td>40.908676</td>\n",
       "      <td>-123.707116</td>\n",
       "      <td>40.904856</td>\n",
       "      <td>-123.740056</td>\n",
       "      <td>Salyer</td>\n",
       "      <td>Humboldt</td>\n",
       "      <td>CA</td>\n",
       "      <td>95563</td>\n",
       "    </tr>\n",
       "    <tr>\n",
       "      <th>1</th>\n",
       "      <td>09/12/2021 08:51</td>\n",
       "      <td>37.419536</td>\n",
       "      <td>-122.09064</td>\n",
       "      <td>37.410966</td>\n",
       "      <td>-122.076087</td>\n",
       "      <td>Mountain View</td>\n",
       "      <td>Santa Clara</td>\n",
       "      <td>CA</td>\n",
       "      <td>94043</td>\n",
       "    </tr>\n",
       "    <tr>\n",
       "      <th>2</th>\n",
       "      <td>17/12/2021 09:59</td>\n",
       "      <td>34.067525</td>\n",
       "      <td>-117.555253</td>\n",
       "      <td>34.083371</td>\n",
       "      <td>-117.63309</td>\n",
       "      <td>Ontario</td>\n",
       "      <td>San Bernardino</td>\n",
       "      <td>CA</td>\n",
       "      <td>91761</td>\n",
       "    </tr>\n",
       "    <tr>\n",
       "      <th>3</th>\n",
       "      <td>05/06/2021 11:31</td>\n",
       "      <td>33.136771</td>\n",
       "      <td>-117.171024</td>\n",
       "      <td>33.137891</td>\n",
       "      <td>-117.176274</td>\n",
       "      <td>San Marcos</td>\n",
       "      <td>San Diego</td>\n",
       "      <td>CA</td>\n",
       "      <td>92069</td>\n",
       "    </tr>\n",
       "    <tr>\n",
       "      <th>4</th>\n",
       "      <td>14/11/2021 09:05</td>\n",
       "      <td>33.713961</td>\n",
       "      <td>-117.964872</td>\n",
       "      <td>33.708591</td>\n",
       "      <td>-117.958442</td>\n",
       "      <td>Fountain Valley</td>\n",
       "      <td>Orange</td>\n",
       "      <td>CA</td>\n",
       "      <td>92708</td>\n",
       "    </tr>\n",
       "  </tbody>\n",
       "</table>\n",
       "</div>"
      ],
      "text/plain": [
       "         Start_Time  Start_Lat    Start_Lng    End_Lat      End_Lng  \\\n",
       "0  30/07/2021 23:37  40.908676  -123.707116  40.904856  -123.740056   \n",
       "1  09/12/2021 08:51  37.419536   -122.09064  37.410966  -122.076087   \n",
       "2  17/12/2021 09:59  34.067525  -117.555253  34.083371   -117.63309   \n",
       "3  05/06/2021 11:31  33.136771  -117.171024  33.137891  -117.176274   \n",
       "4  14/11/2021 09:05  33.713961  -117.964872  33.708591  -117.958442   \n",
       "\n",
       "              City          County State Zipcode  \n",
       "0           Salyer        Humboldt    CA   95563  \n",
       "1    Mountain View     Santa Clara    CA   94043  \n",
       "2          Ontario  San Bernardino    CA   91761  \n",
       "3       San Marcos       San Diego    CA   92069  \n",
       "4  Fountain Valley          Orange    CA   92708  "
      ]
     },
     "execution_count": 4,
     "metadata": {},
     "output_type": "execute_result"
    }
   ],
   "source": [
    "df1.head()"
   ]
  },
  {
   "cell_type": "code",
   "execution_count": 5,
   "id": "745d5832-6e78-4ce4-b0cd-a701f5449240",
   "metadata": {},
   "outputs": [
    {
     "name": "stdout",
     "output_type": "stream",
     "text": [
      "<class 'pandas.core.frame.DataFrame'>\n",
      "RangeIndex: 208686 entries, 0 to 208685\n",
      "Data columns (total 9 columns):\n",
      " #   Column      Non-Null Count   Dtype \n",
      "---  ------      --------------   ----- \n",
      " 0   Start_Time  208686 non-null  object\n",
      " 1   Start_Lat   208686 non-null  object\n",
      " 2   Start_Lng   208686 non-null  object\n",
      " 3   End_Lat     208686 non-null  object\n",
      " 4   End_Lng     208686 non-null  object\n",
      " 5   City        208684 non-null  object\n",
      " 6   County      208686 non-null  object\n",
      " 7   State       208686 non-null  object\n",
      " 8   Zipcode     208599 non-null  object\n",
      "dtypes: object(9)\n",
      "memory usage: 14.3+ MB\n"
     ]
    }
   ],
   "source": [
    "df1.info()"
   ]
  },
  {
   "cell_type": "code",
   "execution_count": 6,
   "id": "a757743a-3fbc-4580-af63-67b5b0f22f03",
   "metadata": {},
   "outputs": [
    {
     "data": {
      "text/plain": [
       "Los Angeles        58149\n",
       "San Bernardino     14884\n",
       "San Diego          13296\n",
       "Orange             13035\n",
       "Sacramento         12563\n",
       "Riverside          10668\n",
       "Alameda             8359\n",
       "Kern                6767\n",
       "Santa Clara         5092\n",
       "Fresno              4918\n",
       "San Joaquin         4346\n",
       "Contra Costa        4006\n",
       "Ventura             2851\n",
       "Tulare              2846\n",
       "Stanislaus          2804\n",
       "Monterey            2568\n",
       "Sonoma              2551\n",
       "Placer              2374\n",
       "San Mateo           2259\n",
       "Merced              2226\n",
       "Santa Barbara       2092\n",
       "Santa Cruz          1848\n",
       "San Luis Obispo     1830\n",
       "Solano              1810\n",
       "El Dorado           1727\n",
       "Madera              1592\n",
       "San Francisco       1369\n",
       "Marin               1296\n",
       "Butte               1272\n",
       "Nevada              1262\n",
       "Humboldt            1258\n",
       "Mendocino           1256\n",
       "Shasta              1222\n",
       "Yolo                1118\n",
       "Yuba                 892\n",
       "Napa                 883\n",
       "Siskiyou             877\n",
       "Kings                828\n",
       "Lake                 771\n",
       "Tuolumne             753\n",
       "Tehama               696\n",
       "Sutter               584\n",
       "Calaveras            572\n",
       "San Benito           567\n",
       "Lassen               476\n",
       "Del Norte            456\n",
       "Amador               410\n",
       "Mono                 326\n",
       "Trinity              321\n",
       "Inyo                 320\n",
       "Plumas               317\n",
       "Colusa               299\n",
       "Glenn                252\n",
       "Mariposa             238\n",
       "Modoc                157\n",
       "Sierra                72\n",
       "Alpine                70\n",
       "Imperial              35\n",
       "Name: County, dtype: int64"
      ]
     },
     "execution_count": 6,
     "metadata": {},
     "output_type": "execute_result"
    }
   ],
   "source": [
    "df1.County.value_counts()"
   ]
  },
  {
   "cell_type": "code",
   "execution_count": 20,
   "id": "504c174f-9d8b-4733-8a96-7858c074a771",
   "metadata": {},
   "outputs": [],
   "source": [
    "df = pd.read_csv('CA_car_accident.csv', dtype=object)"
   ]
  },
  {
   "cell_type": "code",
   "execution_count": 21,
   "id": "5c2b32f7-6398-4bdb-9665-51c97f8efd8a",
   "metadata": {},
   "outputs": [
    {
     "name": "stdout",
     "output_type": "stream",
     "text": [
      "<class 'pandas.core.frame.DataFrame'>\n",
      "RangeIndex: 58 entries, 0 to 57\n",
      "Data columns (total 4 columns):\n",
      " #   Column               Non-Null Count  Dtype \n",
      "---  ------               --------------  ----- \n",
      " 0   year                 58 non-null     object\n",
      " 1   state                58 non-null     object\n",
      " 2   car_accidents_count  58 non-null     object\n",
      " 3   county_name          58 non-null     object\n",
      "dtypes: object(4)\n",
      "memory usage: 1.9+ KB\n"
     ]
    }
   ],
   "source": [
    "df.info()"
   ]
  },
  {
   "cell_type": "code",
   "execution_count": 22,
   "id": "00d870f4-b402-429a-b985-f771cbecc1ac",
   "metadata": {},
   "outputs": [
    {
     "data": {
      "text/html": [
       "<div>\n",
       "<style scoped>\n",
       "    .dataframe tbody tr th:only-of-type {\n",
       "        vertical-align: middle;\n",
       "    }\n",
       "\n",
       "    .dataframe tbody tr th {\n",
       "        vertical-align: top;\n",
       "    }\n",
       "\n",
       "    .dataframe thead th {\n",
       "        text-align: right;\n",
       "    }\n",
       "</style>\n",
       "<table border=\"1\" class=\"dataframe\">\n",
       "  <thead>\n",
       "    <tr style=\"text-align: right;\">\n",
       "      <th></th>\n",
       "      <th>year</th>\n",
       "      <th>state</th>\n",
       "      <th>car_accidents_count</th>\n",
       "      <th>county_name</th>\n",
       "    </tr>\n",
       "  </thead>\n",
       "  <tbody>\n",
       "    <tr>\n",
       "      <th>0</th>\n",
       "      <td>2021</td>\n",
       "      <td>CA</td>\n",
       "      <td>58149</td>\n",
       "      <td>Los Angeles</td>\n",
       "    </tr>\n",
       "    <tr>\n",
       "      <th>1</th>\n",
       "      <td>2021</td>\n",
       "      <td>CA</td>\n",
       "      <td>14884</td>\n",
       "      <td>San Bernardino</td>\n",
       "    </tr>\n",
       "    <tr>\n",
       "      <th>2</th>\n",
       "      <td>2021</td>\n",
       "      <td>CA</td>\n",
       "      <td>13296</td>\n",
       "      <td>San Diego</td>\n",
       "    </tr>\n",
       "    <tr>\n",
       "      <th>3</th>\n",
       "      <td>2021</td>\n",
       "      <td>CA</td>\n",
       "      <td>13035</td>\n",
       "      <td>Orange</td>\n",
       "    </tr>\n",
       "    <tr>\n",
       "      <th>4</th>\n",
       "      <td>2021</td>\n",
       "      <td>CA</td>\n",
       "      <td>12563</td>\n",
       "      <td>Sacramento</td>\n",
       "    </tr>\n",
       "  </tbody>\n",
       "</table>\n",
       "</div>"
      ],
      "text/plain": [
       "   year state car_accidents_count     county_name\n",
       "0  2021    CA               58149     Los Angeles\n",
       "1  2021    CA               14884  San Bernardino\n",
       "2  2021    CA               13296       San Diego\n",
       "3  2021    CA               13035         Orange \n",
       "4  2021    CA               12563     Sacramento "
      ]
     },
     "execution_count": 22,
     "metadata": {},
     "output_type": "execute_result"
    }
   ],
   "source": [
    "df.head()"
   ]
  },
  {
   "cell_type": "code",
   "execution_count": 17,
   "id": "cbd29a19-846b-41eb-8e61-27105d08ff2e",
   "metadata": {},
   "outputs": [],
   "source": [
    "zips_la_gdf = gpd.read_file(\n",
    "    \"https://raw.githubusercontent.com/stiles/notebooks/master/zips/data/processed/ca_zips.geojson\"\n",
    ")"
   ]
  },
  {
   "cell_type": "code",
   "execution_count": 9,
   "id": "1b9aa5a2-a9fa-4a31-928d-1a4c70d7e514",
   "metadata": {},
   "outputs": [
    {
     "data": {
      "text/html": [
       "<div>\n",
       "<style scoped>\n",
       "    .dataframe tbody tr th:only-of-type {\n",
       "        vertical-align: middle;\n",
       "    }\n",
       "\n",
       "    .dataframe tbody tr th {\n",
       "        vertical-align: top;\n",
       "    }\n",
       "\n",
       "    .dataframe thead th {\n",
       "        text-align: right;\n",
       "    }\n",
       "</style>\n",
       "<table border=\"1\" class=\"dataframe\">\n",
       "  <thead>\n",
       "    <tr style=\"text-align: right;\">\n",
       "      <th></th>\n",
       "      <th>id</th>\n",
       "      <th>name</th>\n",
       "      <th>county_name</th>\n",
       "      <th>geometry</th>\n",
       "    </tr>\n",
       "  </thead>\n",
       "  <tbody>\n",
       "    <tr>\n",
       "      <th>0</th>\n",
       "      <td>90001</td>\n",
       "      <td>Los Angeles</td>\n",
       "      <td>Los Angeles County</td>\n",
       "      <td>POLYGON ((-118.24329 33.98901, -118.24754 33.9...</td>\n",
       "    </tr>\n",
       "    <tr>\n",
       "      <th>1</th>\n",
       "      <td>90002</td>\n",
       "      <td>Los Angeles</td>\n",
       "      <td>Los Angeles County</td>\n",
       "      <td>POLYGON ((-118.23085 33.95772, -118.23108 33.9...</td>\n",
       "    </tr>\n",
       "    <tr>\n",
       "      <th>2</th>\n",
       "      <td>90003</td>\n",
       "      <td>Los Angeles</td>\n",
       "      <td>Los Angeles County</td>\n",
       "      <td>MULTIPOLYGON (((-118.28268 33.98926, -118.2826...</td>\n",
       "    </tr>\n",
       "    <tr>\n",
       "      <th>3</th>\n",
       "      <td>90004</td>\n",
       "      <td>Los Angeles</td>\n",
       "      <td>Los Angeles County</td>\n",
       "      <td>MULTIPOLYGON (((-118.33852 34.06891, -118.3371...</td>\n",
       "    </tr>\n",
       "    <tr>\n",
       "      <th>4</th>\n",
       "      <td>90005</td>\n",
       "      <td>Los Angeles</td>\n",
       "      <td>Los Angeles County</td>\n",
       "      <td>POLYGON ((-118.31879 34.05514, -118.31852 34.0...</td>\n",
       "    </tr>\n",
       "  </tbody>\n",
       "</table>\n",
       "</div>"
      ],
      "text/plain": [
       "      id         name         county_name  \\\n",
       "0  90001  Los Angeles  Los Angeles County   \n",
       "1  90002  Los Angeles  Los Angeles County   \n",
       "2  90003  Los Angeles  Los Angeles County   \n",
       "3  90004  Los Angeles  Los Angeles County   \n",
       "4  90005  Los Angeles  Los Angeles County   \n",
       "\n",
       "                                            geometry  \n",
       "0  POLYGON ((-118.24329 33.98901, -118.24754 33.9...  \n",
       "1  POLYGON ((-118.23085 33.95772, -118.23108 33.9...  \n",
       "2  MULTIPOLYGON (((-118.28268 33.98926, -118.2826...  \n",
       "3  MULTIPOLYGON (((-118.33852 34.06891, -118.3371...  \n",
       "4  POLYGON ((-118.31879 34.05514, -118.31852 34.0...  "
      ]
     },
     "execution_count": 9,
     "metadata": {},
     "output_type": "execute_result"
    }
   ],
   "source": [
    "zips_la_gdf.head()"
   ]
  },
  {
   "cell_type": "code",
   "execution_count": 10,
   "id": "d60c1f13-a4b3-4327-a52b-1fc7d79b3b8b",
   "metadata": {},
   "outputs": [],
   "source": [
    "exclude = [\"90704\", \"90274\"]"
   ]
  },
  {
   "cell_type": "code",
   "execution_count": 11,
   "id": "dd85f985-279b-4652-a4db-ea4b02ad80e3",
   "metadata": {},
   "outputs": [],
   "source": [
    "no_islands = zips_la_gdf[~zips_la_gdf[\"id\"].isin(exclude)]"
   ]
  },
  {
   "cell_type": "code",
   "execution_count": 12,
   "id": "cc2d952f-e80a-4f37-990a-16188a400b06",
   "metadata": {},
   "outputs": [
    {
     "data": {
      "text/plain": [
       "<AxesSubplot:>"
      ]
     },
     "execution_count": 12,
     "metadata": {},
     "output_type": "execute_result"
    },
    {
     "data": {
      "image/png": "[encoded data removed]",
      "text/plain": [
       "<Figure size 432x288 with 1 Axes>"
      ]
     },
     "metadata": {
      "needs_background": "light"
     },
     "output_type": "display_data"
    }
   ],
   "source": [
    "no_islands.plot()"
   ]
  },
  {
   "cell_type": "code",
   "execution_count": null,
   "id": "6301f07e-b845-4399-98f1-f8112220f3cf",
   "metadata": {},
   "outputs": [],
   "source": [
    "# The number of car accidents in every county in CA."
   ]
  },
  {
   "cell_type": "code",
   "execution_count": 26,
   "id": "f9e74a3b-7b41-437f-a4c4-a835974a23f6",
   "metadata": {},
   "outputs": [],
   "source": [
    "ca_gdf = pd.merge(no_islands, df, left_on=\"name\", right_on=\"county_name\", how=\"left\"\n",
    ").fillna(0)"
   ]
  },
  {
   "cell_type": "code",
   "execution_count": 27,
   "id": "2725c1a1-52ca-4e1c-8972-76ac3e960997",
   "metadata": {},
   "outputs": [
    {
     "data": {
      "text/html": [
       "<div>\n",
       "<style scoped>\n",
       "    .dataframe tbody tr th:only-of-type {\n",
       "        vertical-align: middle;\n",
       "    }\n",
       "\n",
       "    .dataframe tbody tr th {\n",
       "        vertical-align: top;\n",
       "    }\n",
       "\n",
       "    .dataframe thead th {\n",
       "        text-align: right;\n",
       "    }\n",
       "</style>\n",
       "<table border=\"1\" class=\"dataframe\">\n",
       "  <thead>\n",
       "    <tr style=\"text-align: right;\">\n",
       "      <th></th>\n",
       "      <th>id</th>\n",
       "      <th>name</th>\n",
       "      <th>county_name_x</th>\n",
       "      <th>geometry</th>\n",
       "      <th>year</th>\n",
       "      <th>state</th>\n",
       "      <th>car_accidents_count</th>\n",
       "      <th>county_name_y</th>\n",
       "    </tr>\n",
       "  </thead>\n",
       "  <tbody>\n",
       "    <tr>\n",
       "      <th>0</th>\n",
       "      <td>90001</td>\n",
       "      <td>Los Angeles</td>\n",
       "      <td>Los Angeles County</td>\n",
       "      <td>POLYGON ((-118.24329 33.98901, -118.24754 33.9...</td>\n",
       "      <td>2021</td>\n",
       "      <td>CA</td>\n",
       "      <td>58149</td>\n",
       "      <td>Los Angeles</td>\n",
       "    </tr>\n",
       "    <tr>\n",
       "      <th>1</th>\n",
       "      <td>90002</td>\n",
       "      <td>Los Angeles</td>\n",
       "      <td>Los Angeles County</td>\n",
       "      <td>POLYGON ((-118.23085 33.95772, -118.23108 33.9...</td>\n",
       "      <td>2021</td>\n",
       "      <td>CA</td>\n",
       "      <td>58149</td>\n",
       "      <td>Los Angeles</td>\n",
       "    </tr>\n",
       "    <tr>\n",
       "      <th>2</th>\n",
       "      <td>90003</td>\n",
       "      <td>Los Angeles</td>\n",
       "      <td>Los Angeles County</td>\n",
       "      <td>MULTIPOLYGON (((-118.28268 33.98926, -118.2826...</td>\n",
       "      <td>2021</td>\n",
       "      <td>CA</td>\n",
       "      <td>58149</td>\n",
       "      <td>Los Angeles</td>\n",
       "    </tr>\n",
       "    <tr>\n",
       "      <th>3</th>\n",
       "      <td>90004</td>\n",
       "      <td>Los Angeles</td>\n",
       "      <td>Los Angeles County</td>\n",
       "      <td>MULTIPOLYGON (((-118.33852 34.06891, -118.3371...</td>\n",
       "      <td>2021</td>\n",
       "      <td>CA</td>\n",
       "      <td>58149</td>\n",
       "      <td>Los Angeles</td>\n",
       "    </tr>\n",
       "    <tr>\n",
       "      <th>4</th>\n",
       "      <td>90005</td>\n",
       "      <td>Los Angeles</td>\n",
       "      <td>Los Angeles County</td>\n",
       "      <td>POLYGON ((-118.31879 34.05514, -118.31852 34.0...</td>\n",
       "      <td>2021</td>\n",
       "      <td>CA</td>\n",
       "      <td>58149</td>\n",
       "      <td>Los Angeles</td>\n",
       "    </tr>\n",
       "  </tbody>\n",
       "</table>\n",
       "</div>"
      ],
      "text/plain": [
       "      id         name       county_name_x  \\\n",
       "0  90001  Los Angeles  Los Angeles County   \n",
       "1  90002  Los Angeles  Los Angeles County   \n",
       "2  90003  Los Angeles  Los Angeles County   \n",
       "3  90004  Los Angeles  Los Angeles County   \n",
       "4  90005  Los Angeles  Los Angeles County   \n",
       "\n",
       "                                            geometry  year state  \\\n",
       "0  POLYGON ((-118.24329 33.98901, -118.24754 33.9...  2021    CA   \n",
       "1  POLYGON ((-118.23085 33.95772, -118.23108 33.9...  2021    CA   \n",
       "2  MULTIPOLYGON (((-118.28268 33.98926, -118.2826...  2021    CA   \n",
       "3  MULTIPOLYGON (((-118.33852 34.06891, -118.3371...  2021    CA   \n",
       "4  POLYGON ((-118.31879 34.05514, -118.31852 34.0...  2021    CA   \n",
       "\n",
       "  car_accidents_count county_name_y  \n",
       "0               58149   Los Angeles  \n",
       "1               58149   Los Angeles  \n",
       "2               58149   Los Angeles  \n",
       "3               58149   Los Angeles  \n",
       "4               58149   Los Angeles  "
      ]
     },
     "execution_count": 27,
     "metadata": {},
     "output_type": "execute_result"
    }
   ],
   "source": [
    "ca_gdf.head()"
   ]
  },
  {
   "cell_type": "code",
   "execution_count": 28,
   "id": "de560520-7382-4189-986b-144bd69bc0ef",
   "metadata": {},
   "outputs": [
    {
     "data": {
      "text/plain": [
       "<AxesSubplot:>"
      ]
     },
     "execution_count": 28,
     "metadata": {},
     "output_type": "execute_result"
    },
    {
     "data": {
      "image/png": "[encoded data removed]",
      "text/plain": [
       "<Figure size 432x288 with 1 Axes>"
      ]
     },
     "metadata": {
      "needs_background": "light"
     },
     "output_type": "display_data"
    }
   ],
   "source": [
    "ca_gdf.plot()"
   ]
  },
  {
   "cell_type": "code",
   "execution_count": 29,
   "id": "a3133d3c-0816-4cb8-bea9-c3c788aa03d5",
   "metadata": {},
   "outputs": [],
   "source": [
    "ca_gdf.to_file(\n",
    "    \"ca_gdf.geojson\", driver=\"GeoJSON\"\n",
    ")"
   ]
  },
  {
   "cell_type": "code",
   "execution_count": null,
   "id": "42f3f5d5-efb3-4c71-8bdd-c9c0500efea0",
   "metadata": {},
   "outputs": [],
   "source": [
    "# The location of every car accident"
   ]
  },
  {
   "cell_type": "code",
   "execution_count": 30,
   "id": "db1d07d5-e250-47d4-92e5-9bcc727036d0",
   "metadata": {},
   "outputs": [],
   "source": [
    "ca_gdf1 = pd.merge(no_islands, df1, left_on=\"id\", right_on=\"Zipcode\", how=\"left\"\n",
    ").fillna(0)"
   ]
  },
  {
   "cell_type": "code",
   "execution_count": 33,
   "id": "1fbfdd51-3be9-451c-b375-8c4c853a29a3",
   "metadata": {},
   "outputs": [
    {
     "data": {
      "text/html": [
       "<div>\n",
       "<style scoped>\n",
       "    .dataframe tbody tr th:only-of-type {\n",
       "        vertical-align: middle;\n",
       "    }\n",
       "\n",
       "    .dataframe tbody tr th {\n",
       "        vertical-align: top;\n",
       "    }\n",
       "\n",
       "    .dataframe thead th {\n",
       "        text-align: right;\n",
       "    }\n",
       "</style>\n",
       "<table border=\"1\" class=\"dataframe\">\n",
       "  <thead>\n",
       "    <tr style=\"text-align: right;\">\n",
       "      <th></th>\n",
       "      <th>id</th>\n",
       "      <th>name</th>\n",
       "      <th>county_name</th>\n",
       "      <th>geometry</th>\n",
       "      <th>Start_Time</th>\n",
       "      <th>Start_Lat</th>\n",
       "      <th>Start_Lng</th>\n",
       "      <th>End_Lat</th>\n",
       "      <th>End_Lng</th>\n",
       "      <th>City</th>\n",
       "      <th>County</th>\n",
       "      <th>State</th>\n",
       "      <th>Zipcode</th>\n",
       "    </tr>\n",
       "  </thead>\n",
       "  <tbody>\n",
       "    <tr>\n",
       "      <th>0</th>\n",
       "      <td>90001</td>\n",
       "      <td>Los Angeles</td>\n",
       "      <td>Los Angeles County</td>\n",
       "      <td>POLYGON ((-118.24329 33.98901, -118.24754 33.9...</td>\n",
       "      <td>14/12/2021 22:39</td>\n",
       "      <td>33.962998</td>\n",
       "      <td>-118.237936</td>\n",
       "      <td>33.965204</td>\n",
       "      <td>-118.237949</td>\n",
       "      <td>Los Angeles</td>\n",
       "      <td>Los Angeles</td>\n",
       "      <td>CA</td>\n",
       "      <td>90001</td>\n",
       "    </tr>\n",
       "    <tr>\n",
       "      <th>1</th>\n",
       "      <td>90001</td>\n",
       "      <td>Los Angeles</td>\n",
       "      <td>Los Angeles County</td>\n",
       "      <td>POLYGON ((-118.24329 33.98901, -118.24754 33.9...</td>\n",
       "      <td>19/12/2021 15:22</td>\n",
       "      <td>33.974732</td>\n",
       "      <td>-118.238982</td>\n",
       "      <td>33.974673</td>\n",
       "      <td>-118.233776</td>\n",
       "      <td>Los Angeles</td>\n",
       "      <td>Los Angeles</td>\n",
       "      <td>CA</td>\n",
       "      <td>90001</td>\n",
       "    </tr>\n",
       "    <tr>\n",
       "      <th>2</th>\n",
       "      <td>90001</td>\n",
       "      <td>Los Angeles</td>\n",
       "      <td>Los Angeles County</td>\n",
       "      <td>POLYGON ((-118.24329 33.98901, -118.24754 33.9...</td>\n",
       "      <td>06/05/2021 05:36</td>\n",
       "      <td>33.974749</td>\n",
       "      <td>-118.244774</td>\n",
       "      <td>33.974674</td>\n",
       "      <td>-118.234669</td>\n",
       "      <td>Los Angeles</td>\n",
       "      <td>Los Angeles</td>\n",
       "      <td>CA</td>\n",
       "      <td>90001</td>\n",
       "    </tr>\n",
       "    <tr>\n",
       "      <th>3</th>\n",
       "      <td>90001</td>\n",
       "      <td>Los Angeles</td>\n",
       "      <td>Los Angeles County</td>\n",
       "      <td>POLYGON ((-118.24329 33.98901, -118.24754 33.9...</td>\n",
       "      <td>47:00.0</td>\n",
       "      <td>33.980805</td>\n",
       "      <td>-118.256442</td>\n",
       "      <td>33.982023</td>\n",
       "      <td>-118.255615</td>\n",
       "      <td>Los Angeles</td>\n",
       "      <td>Los Angeles</td>\n",
       "      <td>CA</td>\n",
       "      <td>90001</td>\n",
       "    </tr>\n",
       "    <tr>\n",
       "      <th>4</th>\n",
       "      <td>90001</td>\n",
       "      <td>Los Angeles</td>\n",
       "      <td>Los Angeles County</td>\n",
       "      <td>POLYGON ((-118.24329 33.98901, -118.24754 33.9...</td>\n",
       "      <td>28/10/2021 11:54</td>\n",
       "      <td>33.974395</td>\n",
       "      <td>-118.238083</td>\n",
       "      <td>33.974023</td>\n",
       "      <td>-118.238085</td>\n",
       "      <td>Los Angeles</td>\n",
       "      <td>Los Angeles</td>\n",
       "      <td>CA</td>\n",
       "      <td>90001</td>\n",
       "    </tr>\n",
       "  </tbody>\n",
       "</table>\n",
       "</div>"
      ],
      "text/plain": [
       "      id         name         county_name  \\\n",
       "0  90001  Los Angeles  Los Angeles County   \n",
       "1  90001  Los Angeles  Los Angeles County   \n",
       "2  90001  Los Angeles  Los Angeles County   \n",
       "3  90001  Los Angeles  Los Angeles County   \n",
       "4  90001  Los Angeles  Los Angeles County   \n",
       "\n",
       "                                            geometry        Start_Time  \\\n",
       "0  POLYGON ((-118.24329 33.98901, -118.24754 33.9...  14/12/2021 22:39   \n",
       "1  POLYGON ((-118.24329 33.98901, -118.24754 33.9...  19/12/2021 15:22   \n",
       "2  POLYGON ((-118.24329 33.98901, -118.24754 33.9...  06/05/2021 05:36   \n",
       "3  POLYGON ((-118.24329 33.98901, -118.24754 33.9...           47:00.0   \n",
       "4  POLYGON ((-118.24329 33.98901, -118.24754 33.9...  28/10/2021 11:54   \n",
       "\n",
       "   Start_Lat    Start_Lng    End_Lat      End_Lng         City       County  \\\n",
       "0  33.962998  -118.237936  33.965204  -118.237949  Los Angeles  Los Angeles   \n",
       "1  33.974732  -118.238982  33.974673  -118.233776  Los Angeles  Los Angeles   \n",
       "2  33.974749  -118.244774  33.974674  -118.234669  Los Angeles  Los Angeles   \n",
       "3  33.980805  -118.256442  33.982023  -118.255615  Los Angeles  Los Angeles   \n",
       "4  33.974395  -118.238083  33.974023  -118.238085  Los Angeles  Los Angeles   \n",
       "\n",
       "  State Zipcode  \n",
       "0    CA   90001  \n",
       "1    CA   90001  \n",
       "2    CA   90001  \n",
       "3    CA   90001  \n",
       "4    CA   90001  "
      ]
     },
     "execution_count": 33,
     "metadata": {},
     "output_type": "execute_result"
    }
   ],
   "source": [
    "ca_gdf1.head()"
   ]
  },
  {
   "cell_type": "code",
   "execution_count": 31,
   "id": "75e03133-c109-4a16-b891-2ebf56428830",
   "metadata": {},
   "outputs": [
    {
     "data": {
      "text/plain": [
       "<AxesSubplot:>"
      ]
     },
     "execution_count": 31,
     "metadata": {},
     "output_type": "execute_result"
    },
    {
     "data": {
      "image/png": "[encoded data removed]",
      "text/plain": [
       "<Figure size 432x288 with 1 Axes>"
      ]
     },
     "metadata": {
      "needs_background": "light"
     },
     "output_type": "display_data"
    }
   ],
   "source": [
    "ca_gdf1.plot()"
   ]
  },
  {
   "cell_type": "code",
   "execution_count": 32,
   "id": "0c691f9f-4107-49b2-8480-c45e6bd1d098",
   "metadata": {},
   "outputs": [],
   "source": [
    "ca_gdf1.to_file(\n",
    "    \"ca_gdf1.geojson\", driver=\"GeoJSON\"\n",
    ")"
   ]
  },
  {
   "cell_type": "code",
   "execution_count": null,
   "id": "31ee994a-4ea3-4332-8c62-36555c642789",
   "metadata": {},
   "outputs": [],
   "source": []
  }
 ],
 "metadata": {
  "kernelspec": {
   "display_name": "Python 3 (ipykernel)",
   "language": "python",
   "name": "python3"
  },
  "language_info": {
   "codemirror_mode": {
    "name": "ipython",
    "version": 3
   },
   "file_extension": ".py",
   "mimetype": "text/x-python",
   "name": "python",
   "nbconvert_exporter": "python",
   "pygments_lexer": "ipython3",
   "version": "3.9.7"
  }
 },
 "nbformat": 4,
 "nbformat_minor": 5
}
