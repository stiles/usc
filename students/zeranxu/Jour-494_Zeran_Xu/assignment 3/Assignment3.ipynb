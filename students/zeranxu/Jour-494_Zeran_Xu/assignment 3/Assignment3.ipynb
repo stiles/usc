{
 "cells": [
  {
   "cell_type": "code",
   "execution_count": 1,
   "id": "7d286cab-9f24-476e-a894-b8f5eaae9c5b",
   "metadata": {},
   "outputs": [],
   "source": [
    "import requests\n",
    "import time\n",
    "import csv\n",
    "from bs4 import BeautifulSoup as soup"
   ]
  },
  {
   "cell_type": "code",
   "execution_count": 2,
   "id": "a37a59ec-d1d7-4fe8-9fa5-5acb69f59de7",
   "metadata": {},
   "outputs": [],
   "source": [
    "site = \"http://books.toscrape.com/\""
   ]
  },
  {
   "cell_type": "code",
   "execution_count": 3,
   "id": "a121ba77-2653-4b98-aae1-43699810e817",
   "metadata": {},
   "outputs": [],
   "source": [
    "file = open (\"books.csv\", \"w\", encoding = \"UTF-8\")"
   ]
  },
  {
   "cell_type": "code",
   "execution_count": 4,
   "id": "8596981f-8c5f-433e-90a7-627165cb8d79",
   "metadata": {},
   "outputs": [],
   "source": [
    "headers = [\"book_title\", \"rating\", \"price\"]"
   ]
  },
  {
   "cell_type": "code",
   "execution_count": 5,
   "id": "d0a5d6da-228e-4eed-a0f0-17bb36f1a20c",
   "metadata": {},
   "outputs": [],
   "source": [
    "writer = csv.DictWriter(file, fieldnames = headers)"
   ]
  },
  {
   "cell_type": "code",
   "execution_count": 6,
   "id": "b8d53cf0-5b0a-439d-834c-dbf830431fe2",
   "metadata": {},
   "outputs": [
    {
     "data": {
      "text/plain": [
       "25"
      ]
     },
     "execution_count": 6,
     "metadata": {},
     "output_type": "execute_result"
    }
   ],
   "source": [
    "writer.writeheader()"
   ]
  },
  {
   "cell_type": "code",
   "execution_count": 7,
   "id": "43db9e8c-20d1-46ed-a300-3c45008a889e",
   "metadata": {},
   "outputs": [],
   "source": [
    "r = requests.get(site)"
   ]
  },
  {
   "cell_type": "code",
   "execution_count": 8,
   "id": "8c1b6c00-aa2c-4f2d-8303-a96d291ad941",
   "metadata": {},
   "outputs": [
    {
     "data": {
      "text/plain": [
       "<Response [200]>"
      ]
     },
     "execution_count": 8,
     "metadata": {},
     "output_type": "execute_result"
    }
   ],
   "source": [
    "r"
   ]
  },
  {
   "cell_type": "code",
   "execution_count": 9,
   "id": "35374953-c365-4736-b476-2eb9691fde50",
   "metadata": {},
   "outputs": [],
   "source": [
    "r.encoding = 'utf-8' "
   ]
  },
  {
   "cell_type": "code",
   "execution_count": 10,
   "id": "42d01c08-e6bd-4c73-975b-e76d7ccbd0db",
   "metadata": {},
   "outputs": [],
   "source": [
    "page = soup(r.text,'html.parser')"
   ]
  },
  {
   "cell_type": "code",
   "execution_count": 11,
   "id": "e3c1d553-40e9-41f4-86f1-be418d09d236",
   "metadata": {},
   "outputs": [],
   "source": [
    "books = page.findAll('li', {'class':'col-xs-6 col-sm-4 col-md-3 col-lg-3'})"
   ]
  },
  {
   "cell_type": "code",
   "execution_count": 12,
   "id": "309c996b-9ed8-4ba5-ba62-9371cbd9aa8b",
   "metadata": {},
   "outputs": [
    {
     "data": {
      "text/plain": [
       "20"
      ]
     },
     "execution_count": 12,
     "metadata": {},
     "output_type": "execute_result"
    }
   ],
   "source": [
    "len(books)"
   ]
  },
  {
   "cell_type": "code",
   "execution_count": 13,
   "id": "c6830320-3bc1-45b6-a5a9-03087f09c2d9",
   "metadata": {},
   "outputs": [
    {
     "data": {
      "text/plain": [
       "<li class=\"col-xs-6 col-sm-4 col-md-3 col-lg-3\">\n",
       "<article class=\"product_pod\">\n",
       "<div class=\"image_container\">\n",
       "<a href=\"catalogue/a-light-in-the-attic_1000/index.html\"><img alt=\"A Light in the Attic\" class=\"thumbnail\" src=\"media/cache/2c/da/2cdad67c44b002e7ead0cc35693c0e8b.jpg\"/></a>\n",
       "</div>\n",
       "<p class=\"star-rating Three\">\n",
       "<i class=\"icon-star\"></i>\n",
       "<i class=\"icon-star\"></i>\n",
       "<i class=\"icon-star\"></i>\n",
       "<i class=\"icon-star\"></i>\n",
       "<i class=\"icon-star\"></i>\n",
       "</p>\n",
       "<h3><a href=\"catalogue/a-light-in-the-attic_1000/index.html\" title=\"A Light in the Attic\">A Light in the ...</a></h3>\n",
       "<div class=\"product_price\">\n",
       "<p class=\"price_color\">£51.77</p>\n",
       "<p class=\"instock availability\">\n",
       "<i class=\"icon-ok\"></i>\n",
       "    \n",
       "        In stock\n",
       "    \n",
       "</p>\n",
       "<form>\n",
       "<button class=\"btn btn-primary btn-block\" data-loading-text=\"Adding...\" type=\"submit\">Add to basket</button>\n",
       "</form>\n",
       "</div>\n",
       "</article>\n",
       "</li>"
      ]
     },
     "execution_count": 13,
     "metadata": {},
     "output_type": "execute_result"
    }
   ],
   "source": [
    "books[0]"
   ]
  },
  {
   "cell_type": "code",
   "execution_count": 14,
   "id": "315732fa-3579-468a-b036-d35059a02978",
   "metadata": {},
   "outputs": [],
   "source": [
    "book_title_0 = books[0].h3.find(\"a\")[\"title\"]"
   ]
  },
  {
   "cell_type": "code",
   "execution_count": 15,
   "id": "64494b69-a60b-4f72-a4a8-629605f0c913",
   "metadata": {},
   "outputs": [
    {
     "data": {
      "text/plain": [
       "'A Light in the Attic'"
      ]
     },
     "execution_count": 15,
     "metadata": {},
     "output_type": "execute_result"
    }
   ],
   "source": [
    "book_title_0"
   ]
  },
  {
   "cell_type": "code",
   "execution_count": 16,
   "id": "8c06f717-2aab-4b9b-9e8a-45dff35a1d2b",
   "metadata": {},
   "outputs": [],
   "source": [
    "rating_0 = books[0].find(\"p\", class_=\"star-rating\")[\"class\"][1]"
   ]
  },
  {
   "cell_type": "code",
   "execution_count": 17,
   "id": "473f5000-7fff-4d8e-affa-0dc115f04bea",
   "metadata": {},
   "outputs": [
    {
     "data": {
      "text/plain": [
       "'Three'"
      ]
     },
     "execution_count": 17,
     "metadata": {},
     "output_type": "execute_result"
    }
   ],
   "source": [
    "rating_0"
   ]
  },
  {
   "cell_type": "code",
   "execution_count": 18,
   "id": "5bd3be40-11ef-4811-9325-ab37801e3933",
   "metadata": {},
   "outputs": [],
   "source": [
    "price_0 = books[0].find(\"p\", class_=\"price_color\").text.strip().replace('Â','').replace('£','')"
   ]
  },
  {
   "cell_type": "code",
   "execution_count": 19,
   "id": "5a6614b5-147d-4d65-ae60-d54c003a8409",
   "metadata": {},
   "outputs": [
    {
     "data": {
      "text/plain": [
       "'51.77'"
      ]
     },
     "execution_count": 19,
     "metadata": {},
     "output_type": "execute_result"
    }
   ],
   "source": [
    "price_0"
   ]
  },
  {
   "cell_type": "code",
   "execution_count": 20,
   "id": "23e6deb9-e559-4042-8aad-00fed0b2972d",
   "metadata": {},
   "outputs": [],
   "source": [
    "def getInfo(b):\n",
    "    \n",
    "    book_title = b.h3.find(\"a\")[\"title\"]\n",
    "    time.sleep(1)\n",
    "    rating = b.find(\"p\", class_=\"star-rating\")[\"class\"][1]\n",
    "    time.sleep(1)\n",
    "    price = b.find(\"p\", class_=\"price_color\").text.strip().replace('Â£','')\n",
    "    \n",
    "    writer.writerow({\n",
    "      \"book_title\":book_title,\n",
    "      \"rating\":rating,\n",
    "      \"price\":price\n",
    "    })\n",
    "    "
   ]
  },
  {
   "cell_type": "code",
   "execution_count": 21,
   "id": "59afae3d-221f-4699-acd3-058752d623a0",
   "metadata": {},
   "outputs": [],
   "source": [
    "def scrapePage(link):\n",
    "    r = requests.get(link)\n",
    "    \n",
    "    page = soup(r.text,\"html.parser\")\n",
    "    \n",
    "    boxes = page.find_all(\"li\",{\"class\":\"col-xs-6 col-sm-4 col-md-3 col-lg-3\"})\n",
    "    \n",
    "    for b in boxes:\n",
    "        getInfo(b)"
   ]
  },
  {
   "cell_type": "code",
   "execution_count": 22,
   "id": "79d52067-2646-4099-9d21-8ebb7db51dcf",
   "metadata": {},
   "outputs": [],
   "source": [
    "newUrl = \"http://books.toscrape.com/catalogue/page-1\""
   ]
  },
  {
   "cell_type": "code",
   "execution_count": 23,
   "id": "095896dd-b27d-476e-b4ba-157610a17111",
   "metadata": {},
   "outputs": [],
   "source": [
    "scrapePage(newUrl)"
   ]
  },
  {
   "cell_type": "code",
   "execution_count": 24,
   "id": "30ed15ba-54c7-45fa-a759-072bb83d0693",
   "metadata": {},
   "outputs": [],
   "source": [
    "page_numbers = list(range(1,51))"
   ]
  },
  {
   "cell_type": "code",
   "execution_count": 25,
   "id": "01582e2e-9c93-475a-b237-a95fa15d600c",
   "metadata": {},
   "outputs": [
    {
     "name": "stdout",
     "output_type": "stream",
     "text": [
      "scraping page 1\n",
      "scraping page 2\n",
      "scraping page 3\n",
      "scraping page 4\n",
      "scraping page 5\n",
      "scraping page 6\n",
      "scraping page 7\n",
      "scraping page 8\n",
      "scraping page 9\n",
      "scraping page 10\n",
      "scraping page 11\n",
      "scraping page 12\n",
      "scraping page 13\n",
      "scraping page 14\n",
      "scraping page 15\n",
      "scraping page 16\n",
      "scraping page 17\n",
      "scraping page 18\n",
      "scraping page 19\n",
      "scraping page 20\n",
      "scraping page 21\n",
      "scraping page 22\n",
      "scraping page 23\n",
      "scraping page 24\n",
      "scraping page 25\n",
      "scraping page 26\n",
      "scraping page 27\n",
      "scraping page 28\n",
      "scraping page 29\n",
      "scraping page 30\n",
      "scraping page 31\n",
      "scraping page 32\n",
      "scraping page 33\n",
      "scraping page 34\n",
      "scraping page 35\n",
      "scraping page 36\n",
      "scraping page 37\n",
      "scraping page 38\n",
      "scraping page 39\n",
      "scraping page 40\n",
      "scraping page 41\n",
      "scraping page 42\n",
      "scraping page 43\n",
      "scraping page 44\n",
      "scraping page 45\n",
      "scraping page 46\n",
      "scraping page 47\n",
      "scraping page 48\n",
      "scraping page 49\n",
      "scraping page 50\n"
     ]
    }
   ],
   "source": [
    "for p in page_numbers:\n",
    "    front = \"http://books.toscrape.com/catalogue/page-\"\n",
    "    page_url = front+str(p)+\".html\"\n",
    "    \n",
    "    time.sleep(1)\n",
    "    \n",
    "    scrapePage(page_url)\n",
    "    \n",
    "    time.sleep(1)\n",
    "    \n",
    "    print(f\"scraping page {p}\")"
   ]
  },
  {
   "cell_type": "code",
   "execution_count": 26,
   "id": "fab498ff-243f-4ae9-a4cd-53ad7a08c893",
   "metadata": {},
   "outputs": [],
   "source": [
    "file.close()"
   ]
  },
  {
   "cell_type": "code",
   "execution_count": null,
   "id": "c29e0cca-a5fe-4901-99af-ae40e91fab2e",
   "metadata": {},
   "outputs": [],
   "source": []
  }
 ],
 "metadata": {
  "kernelspec": {
   "display_name": "Python 3 (ipykernel)",
   "language": "python",
   "name": "python3"
  },
  "language_info": {
   "codemirror_mode": {
    "name": "ipython",
    "version": 3
   },
   "file_extension": ".py",
   "mimetype": "text/x-python",
   "name": "python",
   "nbconvert_exporter": "python",
   "pygments_lexer": "ipython3",
   "version": "3.9.7"
  }
 },
 "nbformat": 4,
 "nbformat_minor": 5
}
