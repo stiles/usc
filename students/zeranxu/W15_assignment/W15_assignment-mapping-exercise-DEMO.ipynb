{
 "cells": [
  {
   "cell_type": "markdown",
   "id": "cf543214-f1e4-46f5-a4ca-0641e43e455f",
   "metadata": {},
   "source": [
    "# Zeran's mapping exercise\n",
    "Choose one of the map ideas below, processed the data with GeoPandas and export the data to QGIS for presentation. *Hint: You might need to change data types using the `dtype` argument when importing files so that you can merge with FIPS and ZIP codes effectively.*"
   ]
  },
  {
   "cell_type": "markdown",
   "id": "ece5a4d3-be58-4d94-9736-5e9d10a41ba9",
   "metadata": {},
   "source": [
    "#### Load python tools"
   ]
  },
  {
   "cell_type": "code",
   "execution_count": 1,
   "id": "2594907b-7dfe-4e1f-9406-771e53069144",
   "metadata": {},
   "outputs": [],
   "source": [
    "%load_ext lab_black"
   ]
  },
  {
   "cell_type": "code",
   "execution_count": 2,
   "id": "5d82586b-0073-434d-bcee-46e1013d7fc5",
   "metadata": {
    "tags": []
   },
   "outputs": [],
   "source": [
    "import pandas as pd\n",
    "import geopandas as gpd\n",
    "import numpy as np"
   ]
  },
  {
   "cell_type": "code",
   "execution_count": 3,
   "id": "558e402e-5ce6-4bae-bf4f-0157e6bc405d",
   "metadata": {},
   "outputs": [],
   "source": [
    "pd.options.display.max_columns = 1000\n",
    "pd.options.display.max_rows = 1000"
   ]
  },
  {
   "cell_type": "markdown",
   "id": "ab9cecce-39c5-4745-9f89-3dfba2e43fbc",
   "metadata": {},
   "source": [
    "### Election map\n",
    "#### What percentage of vote did Biden/Trump receive in California counties?"
   ]
  },
  {
   "cell_type": "code",
   "execution_count": 4,
   "id": "185545d4-f703-4be0-b679-550b93dc0ebf",
   "metadata": {},
   "outputs": [],
   "source": [
    "# Values: https://raw.githubusercontent.com/stiles/notebooks/master/elections/data/ca_counties_election_results_2020.csv\n",
    "# Geo: https://raw.githubusercontent.com/stiles/usc/main/data/geo/counties_simple.geojson"
   ]
  },
  {
   "cell_type": "markdown",
   "id": "0a278a62-673f-491f-959c-dd5cfc457a5e",
   "metadata": {},
   "source": [
    "#### Read election results"
   ]
  },
  {
   "cell_type": "code",
   "execution_count": 5,
   "id": "3cd3aac6-8e17-4a97-804c-f5ce2187239f",
   "metadata": {},
   "outputs": [],
   "source": [
    "election_df = pd.read_csv(\n",
    "    \"https://raw.githubusercontent.com/stiles/notebooks/master/elections/data/ca_counties_election_results_2020.csv\"\n",
    ")"
   ]
  },
  {
   "cell_type": "code",
   "execution_count": 6,
   "id": "1cd49a1f-e5ed-4017-a318-e736347c3f2b",
   "metadata": {},
   "outputs": [
    {
     "data": {
      "text/html": [
       "<div>\n",
       "<style scoped>\n",
       "    .dataframe tbody tr th:only-of-type {\n",
       "        vertical-align: middle;\n",
       "    }\n",
       "\n",
       "    .dataframe tbody tr th {\n",
       "        vertical-align: top;\n",
       "    }\n",
       "\n",
       "    .dataframe thead th {\n",
       "        text-align: right;\n",
       "    }\n",
       "</style>\n",
       "<table border=\"1\" class=\"dataframe\">\n",
       "  <thead>\n",
       "    <tr style=\"text-align: right;\">\n",
       "      <th></th>\n",
       "      <th>state_name</th>\n",
       "      <th>county_fips</th>\n",
       "      <th>county_name</th>\n",
       "      <th>votes_gop</th>\n",
       "      <th>votes_dem</th>\n",
       "      <th>total_votes</th>\n",
       "      <th>diff</th>\n",
       "      <th>per_gop</th>\n",
       "      <th>per_dem</th>\n",
       "      <th>per_point_diff</th>\n",
       "      <th>winner</th>\n",
       "    </tr>\n",
       "  </thead>\n",
       "  <tbody>\n",
       "    <tr>\n",
       "      <th>0</th>\n",
       "      <td>California</td>\n",
       "      <td>1</td>\n",
       "      <td>Alameda</td>\n",
       "      <td>136309</td>\n",
       "      <td>617659</td>\n",
       "      <td>769864</td>\n",
       "      <td>-481350</td>\n",
       "      <td>0.177056</td>\n",
       "      <td>0.802296</td>\n",
       "      <td>0.625240</td>\n",
       "      <td>Biden</td>\n",
       "    </tr>\n",
       "    <tr>\n",
       "      <th>1</th>\n",
       "      <td>California</td>\n",
       "      <td>3</td>\n",
       "      <td>Alpine</td>\n",
       "      <td>244</td>\n",
       "      <td>476</td>\n",
       "      <td>741</td>\n",
       "      <td>-232</td>\n",
       "      <td>0.329285</td>\n",
       "      <td>0.642375</td>\n",
       "      <td>0.313090</td>\n",
       "      <td>Biden</td>\n",
       "    </tr>\n",
       "    <tr>\n",
       "      <th>2</th>\n",
       "      <td>California</td>\n",
       "      <td>5</td>\n",
       "      <td>Amador</td>\n",
       "      <td>13585</td>\n",
       "      <td>8153</td>\n",
       "      <td>22302</td>\n",
       "      <td>5432</td>\n",
       "      <td>0.609138</td>\n",
       "      <td>0.365573</td>\n",
       "      <td>0.243566</td>\n",
       "      <td>Trump</td>\n",
       "    </tr>\n",
       "    <tr>\n",
       "      <th>3</th>\n",
       "      <td>California</td>\n",
       "      <td>7</td>\n",
       "      <td>Butte</td>\n",
       "      <td>48730</td>\n",
       "      <td>50426</td>\n",
       "      <td>102042</td>\n",
       "      <td>-1696</td>\n",
       "      <td>0.477548</td>\n",
       "      <td>0.494169</td>\n",
       "      <td>0.016621</td>\n",
       "      <td>Biden</td>\n",
       "    </tr>\n",
       "    <tr>\n",
       "      <th>4</th>\n",
       "      <td>California</td>\n",
       "      <td>9</td>\n",
       "      <td>Calaveras</td>\n",
       "      <td>16518</td>\n",
       "      <td>10046</td>\n",
       "      <td>27164</td>\n",
       "      <td>6472</td>\n",
       "      <td>0.608084</td>\n",
       "      <td>0.369828</td>\n",
       "      <td>0.238257</td>\n",
       "      <td>Trump</td>\n",
       "    </tr>\n",
       "  </tbody>\n",
       "</table>\n",
       "</div>"
      ],
      "text/plain": [
       "   state_name  county_fips county_name  votes_gop  votes_dem  total_votes  \\\n",
       "0  California            1     Alameda     136309     617659       769864   \n",
       "1  California            3      Alpine        244        476          741   \n",
       "2  California            5      Amador      13585       8153        22302   \n",
       "3  California            7       Butte      48730      50426       102042   \n",
       "4  California            9   Calaveras      16518      10046        27164   \n",
       "\n",
       "     diff   per_gop   per_dem  per_point_diff winner  \n",
       "0 -481350  0.177056  0.802296        0.625240  Biden  \n",
       "1    -232  0.329285  0.642375        0.313090  Biden  \n",
       "2    5432  0.609138  0.365573        0.243566  Trump  \n",
       "3   -1696  0.477548  0.494169        0.016621  Biden  \n",
       "4    6472  0.608084  0.369828        0.238257  Trump  "
      ]
     },
     "execution_count": 6,
     "metadata": {},
     "output_type": "execute_result"
    }
   ],
   "source": [
    "election_df.head()"
   ]
  },
  {
   "cell_type": "code",
   "execution_count": 7,
   "id": "f914cb02-4196-43b4-b9e8-6a5bbad6a9e6",
   "metadata": {},
   "outputs": [
    {
     "name": "stdout",
     "output_type": "stream",
     "text": [
      "<class 'pandas.core.frame.DataFrame'>\n",
      "RangeIndex: 58 entries, 0 to 57\n",
      "Data columns (total 11 columns):\n",
      " #   Column          Non-Null Count  Dtype  \n",
      "---  ------          --------------  -----  \n",
      " 0   state_name      58 non-null     object \n",
      " 1   county_fips     58 non-null     int64  \n",
      " 2   county_name     58 non-null     object \n",
      " 3   votes_gop       58 non-null     int64  \n",
      " 4   votes_dem       58 non-null     int64  \n",
      " 5   total_votes     58 non-null     int64  \n",
      " 6   diff            58 non-null     int64  \n",
      " 7   per_gop         58 non-null     float64\n",
      " 8   per_dem         58 non-null     float64\n",
      " 9   per_point_diff  58 non-null     float64\n",
      " 10  winner          58 non-null     object \n",
      "dtypes: float64(3), int64(5), object(3)\n",
      "memory usage: 5.1+ KB\n"
     ]
    }
   ],
   "source": [
    "election_df.info()"
   ]
  },
  {
   "cell_type": "code",
   "execution_count": 8,
   "id": "23c23f80-1bf0-4c39-a3a0-fb68ef726e73",
   "metadata": {},
   "outputs": [],
   "source": [
    "election_df = pd.read_csv(\n",
    "    \"https://raw.githubusercontent.com/stiles/notebooks/master/elections/data/ca_counties_election_results_2020.csv\",\n",
    "    dtype={\"county_fips\": str},\n",
    ")"
   ]
  },
  {
   "cell_type": "markdown",
   "id": "d3555d23-1267-4778-b182-bb43b583d18d",
   "metadata": {},
   "source": [
    "#### Read county boundaries"
   ]
  },
  {
   "cell_type": "code",
   "execution_count": 9,
   "id": "b899ae4a-ebaf-4f47-be48-c66ce526a269",
   "metadata": {},
   "outputs": [],
   "source": [
    "ca_counties_gdf = gpd.read_file(\n",
    "    \"https://raw.githubusercontent.com/stiles/usc/main/data/geo/counties_simple.geojson\",\n",
    "    dtype={\"county_fips\": str},\n",
    ")"
   ]
  },
  {
   "cell_type": "code",
   "execution_count": 10,
   "id": "fd1aab75-5cdf-4dc0-b527-68839935e85f",
   "metadata": {},
   "outputs": [
    {
     "name": "stdout",
     "output_type": "stream",
     "text": [
      "<class 'geopandas.geodataframe.GeoDataFrame'>\n",
      "RangeIndex: 58 entries, 0 to 57\n",
      "Data columns (total 3 columns):\n",
      " #   Column       Non-Null Count  Dtype   \n",
      "---  ------       --------------  -----   \n",
      " 0   county_name  58 non-null     object  \n",
      " 1   county_fips  58 non-null     object  \n",
      " 2   geometry     58 non-null     geometry\n",
      "dtypes: geometry(1), object(2)\n",
      "memory usage: 1.5+ KB\n"
     ]
    }
   ],
   "source": [
    "ca_counties_gdf.info()"
   ]
  },
  {
   "cell_type": "markdown",
   "id": "bbbcade1-6576-4a03-9c94-45782f5e9e3f",
   "metadata": {},
   "source": [
    "#### Merge the two "
   ]
  },
  {
   "cell_type": "code",
   "execution_count": 11,
   "id": "86721fd9-a1ae-499d-9b28-43fa4fbf0c40",
   "metadata": {},
   "outputs": [],
   "source": [
    "ca_presidential = pd.merge(\n",
    "    ca_counties_gdf, election_df, on=[\"county_fips\", \"county_name\"]\n",
    ")"
   ]
  },
  {
   "cell_type": "code",
   "execution_count": 12,
   "id": "c804990d-fdfa-4f33-a35b-39decbb61d26",
   "metadata": {},
   "outputs": [
    {
     "data": {
      "text/html": [
       "<div>\n",
       "<style scoped>\n",
       "    .dataframe tbody tr th:only-of-type {\n",
       "        vertical-align: middle;\n",
       "    }\n",
       "\n",
       "    .dataframe tbody tr th {\n",
       "        vertical-align: top;\n",
       "    }\n",
       "\n",
       "    .dataframe thead th {\n",
       "        text-align: right;\n",
       "    }\n",
       "</style>\n",
       "<table border=\"1\" class=\"dataframe\">\n",
       "  <thead>\n",
       "    <tr style=\"text-align: right;\">\n",
       "      <th></th>\n",
       "      <th>county_name</th>\n",
       "      <th>county_fips</th>\n",
       "      <th>geometry</th>\n",
       "      <th>state_name</th>\n",
       "      <th>votes_gop</th>\n",
       "      <th>votes_dem</th>\n",
       "      <th>total_votes</th>\n",
       "      <th>diff</th>\n",
       "      <th>per_gop</th>\n",
       "      <th>per_dem</th>\n",
       "      <th>per_point_diff</th>\n",
       "      <th>winner</th>\n",
       "    </tr>\n",
       "  </thead>\n",
       "  <tbody>\n",
       "    <tr>\n",
       "      <th>0</th>\n",
       "      <td>Alameda</td>\n",
       "      <td>001</td>\n",
       "      <td>POLYGON ((-122.27125 37.90503, -122.27024 37.9...</td>\n",
       "      <td>California</td>\n",
       "      <td>136309</td>\n",
       "      <td>617659</td>\n",
       "      <td>769864</td>\n",
       "      <td>-481350</td>\n",
       "      <td>0.177056</td>\n",
       "      <td>0.802296</td>\n",
       "      <td>0.625240</td>\n",
       "      <td>Biden</td>\n",
       "    </tr>\n",
       "    <tr>\n",
       "      <th>1</th>\n",
       "      <td>Alpine</td>\n",
       "      <td>003</td>\n",
       "      <td>POLYGON ((-119.58667 38.71420, -119.58653 38.7...</td>\n",
       "      <td>California</td>\n",
       "      <td>244</td>\n",
       "      <td>476</td>\n",
       "      <td>741</td>\n",
       "      <td>-232</td>\n",
       "      <td>0.329285</td>\n",
       "      <td>0.642375</td>\n",
       "      <td>0.313090</td>\n",
       "      <td>Biden</td>\n",
       "    </tr>\n",
       "    <tr>\n",
       "      <th>2</th>\n",
       "      <td>Amador</td>\n",
       "      <td>005</td>\n",
       "      <td>POLYGON ((-120.07246 38.70276, -120.07249 38.6...</td>\n",
       "      <td>California</td>\n",
       "      <td>13585</td>\n",
       "      <td>8153</td>\n",
       "      <td>22302</td>\n",
       "      <td>5432</td>\n",
       "      <td>0.609138</td>\n",
       "      <td>0.365573</td>\n",
       "      <td>0.243566</td>\n",
       "      <td>Trump</td>\n",
       "    </tr>\n",
       "    <tr>\n",
       "      <th>3</th>\n",
       "      <td>Butte</td>\n",
       "      <td>007</td>\n",
       "      <td>POLYGON ((-121.07661 39.59729, -121.07945 39.5...</td>\n",
       "      <td>California</td>\n",
       "      <td>48730</td>\n",
       "      <td>50426</td>\n",
       "      <td>102042</td>\n",
       "      <td>-1696</td>\n",
       "      <td>0.477548</td>\n",
       "      <td>0.494169</td>\n",
       "      <td>0.016621</td>\n",
       "      <td>Biden</td>\n",
       "    </tr>\n",
       "    <tr>\n",
       "      <th>4</th>\n",
       "      <td>Calaveras</td>\n",
       "      <td>009</td>\n",
       "      <td>POLYGON ((-120.01792 38.43586, -120.01788 38.4...</td>\n",
       "      <td>California</td>\n",
       "      <td>16518</td>\n",
       "      <td>10046</td>\n",
       "      <td>27164</td>\n",
       "      <td>6472</td>\n",
       "      <td>0.608084</td>\n",
       "      <td>0.369828</td>\n",
       "      <td>0.238257</td>\n",
       "      <td>Trump</td>\n",
       "    </tr>\n",
       "  </tbody>\n",
       "</table>\n",
       "</div>"
      ],
      "text/plain": [
       "  county_name county_fips                                           geometry  \\\n",
       "0     Alameda         001  POLYGON ((-122.27125 37.90503, -122.27024 37.9...   \n",
       "1      Alpine         003  POLYGON ((-119.58667 38.71420, -119.58653 38.7...   \n",
       "2      Amador         005  POLYGON ((-120.07246 38.70276, -120.07249 38.6...   \n",
       "3       Butte         007  POLYGON ((-121.07661 39.59729, -121.07945 39.5...   \n",
       "4   Calaveras         009  POLYGON ((-120.01792 38.43586, -120.01788 38.4...   \n",
       "\n",
       "   state_name  votes_gop  votes_dem  total_votes    diff   per_gop   per_dem  \\\n",
       "0  California     136309     617659       769864 -481350  0.177056  0.802296   \n",
       "1  California        244        476          741    -232  0.329285  0.642375   \n",
       "2  California      13585       8153        22302    5432  0.609138  0.365573   \n",
       "3  California      48730      50426       102042   -1696  0.477548  0.494169   \n",
       "4  California      16518      10046        27164    6472  0.608084  0.369828   \n",
       "\n",
       "   per_point_diff winner  \n",
       "0        0.625240  Biden  \n",
       "1        0.313090  Biden  \n",
       "2        0.243566  Trump  \n",
       "3        0.016621  Biden  \n",
       "4        0.238257  Trump  "
      ]
     },
     "execution_count": 12,
     "metadata": {},
     "output_type": "execute_result"
    }
   ],
   "source": [
    "ca_presidential.head()"
   ]
  },
  {
   "cell_type": "code",
   "execution_count": 13,
   "id": "5d810d1d-3eae-440d-97f4-fc1644c96461",
   "metadata": {},
   "outputs": [],
   "source": [
    "ca_presidential.to_file(\"ca_presidential.geojson\", driver=\"GeoJSON\")"
   ]
  },
  {
   "cell_type": "code",
   "execution_count": null,
   "id": "e863b05c-1be6-493c-b210-4dfded888224",
   "metadata": {},
   "outputs": [],
   "source": []
  },
  {
   "cell_type": "markdown",
   "id": "32f18e4a-bf3a-4c13-86ba-d8a6a008bf44",
   "metadata": {},
   "source": [
    "---"
   ]
  },
  {
   "cell_type": "markdown",
   "id": "1a8cd4d4-a39a-4832-a854-662fea4e38e0",
   "metadata": {},
   "source": [
    "### Vehicle map\n",
    "##### What's the Tesla ownership rate by LA ZIP Codes?"
   ]
  },
  {
   "cell_type": "code",
   "execution_count": 14,
   "id": "49a0ab1e-6bf8-404e-a672-fb038c5b2a74",
   "metadata": {},
   "outputs": [],
   "source": [
    "# Values: https://raw.githubusercontent.com/stiles/notebooks/master/california-fuel-vehicles/output/tesla_zips_slim.csv\n",
    "# Geo: https://raw.githubusercontent.com/stiles/notebooks/master/zips/data/processed/ca_zips_simple.geojson.json"
   ]
  },
  {
   "cell_type": "markdown",
   "id": "8cf7c725-1036-473b-8e0f-963e4f60e464",
   "metadata": {},
   "source": [
    "#### Read Tesla data"
   ]
  },
  {
   "cell_type": "code",
   "execution_count": 15,
   "id": "18634d36-09c2-49e6-a110-7f838cb4e7a8",
   "metadata": {},
   "outputs": [],
   "source": [
    "tesla_df = pd.read_csv(\n",
    "    \"https://raw.githubusercontent.com/stiles/notebooks/master/california-fuel-vehicles/output/tesla_zips_slim.csv\"\n",
    ")"
   ]
  },
  {
   "cell_type": "code",
   "execution_count": 17,
   "id": "6bdf6875-ec46-4ee0-b0ba-13112b76a4c4",
   "metadata": {},
   "outputs": [
    {
     "name": "stdout",
     "output_type": "stream",
     "text": [
      "<class 'pandas.core.frame.DataFrame'>\n",
      "RangeIndex: 882 entries, 0 to 881\n",
      "Data columns (total 7 columns):\n",
      " #   Column            Non-Null Count  Dtype  \n",
      "---  ------            --------------  -----  \n",
      " 0   zip               882 non-null    int64  \n",
      " 1   name              882 non-null    object \n",
      " 2   teslas            882 non-null    int64  \n",
      " 3   all_vehicles      882 non-null    int64  \n",
      " 4   tesla_rate_1k     882 non-null    float64\n",
      " 5   avg_house_income  882 non-null    int64  \n",
      " 6   avg_net_worth     882 non-null    int64  \n",
      "dtypes: float64(1), int64(5), object(1)\n",
      "memory usage: 48.4+ KB\n"
     ]
    }
   ],
   "source": [
    "tesla_df.info()"
   ]
  },
  {
   "cell_type": "code",
   "execution_count": 18,
   "id": "182a2cae-1a2b-4684-9b32-70df3b434096",
   "metadata": {},
   "outputs": [],
   "source": [
    "tesla_df = pd.read_csv(\n",
    "    \"https://raw.githubusercontent.com/stiles/notebooks/master/california-fuel-vehicles/output/tesla_zips_slim.csv\",\n",
    "    dtype={\"zip\": str},\n",
    ")"
   ]
  },
  {
   "cell_type": "markdown",
   "id": "883a00aa-1206-4c0b-bf53-0525dcb6e2da",
   "metadata": {},
   "source": [
    "#### Read ZIP Codes geo file"
   ]
  },
  {
   "cell_type": "code",
   "execution_count": 19,
   "id": "0c07e314-1181-42b4-b26f-568c211dafb2",
   "metadata": {},
   "outputs": [],
   "source": [
    "zip_gdf = gpd.read_file(\n",
    "    \"https://raw.githubusercontent.com/stiles/notebooks/master/zips/data/processed/ca_zips_simple.geojson.json\"\n",
    ")"
   ]
  },
  {
   "cell_type": "code",
   "execution_count": 20,
   "id": "e9ad639e-0f3d-41b9-81e6-a732d8702f4c",
   "metadata": {},
   "outputs": [
    {
     "data": {
      "text/html": [
       "<div>\n",
       "<style scoped>\n",
       "    .dataframe tbody tr th:only-of-type {\n",
       "        vertical-align: middle;\n",
       "    }\n",
       "\n",
       "    .dataframe tbody tr th {\n",
       "        vertical-align: top;\n",
       "    }\n",
       "\n",
       "    .dataframe thead th {\n",
       "        text-align: right;\n",
       "    }\n",
       "</style>\n",
       "<table border=\"1\" class=\"dataframe\">\n",
       "  <thead>\n",
       "    <tr style=\"text-align: right;\">\n",
       "      <th></th>\n",
       "      <th>id</th>\n",
       "      <th>name</th>\n",
       "      <th>county_name</th>\n",
       "      <th>geometry</th>\n",
       "    </tr>\n",
       "  </thead>\n",
       "  <tbody>\n",
       "    <tr>\n",
       "      <th>0</th>\n",
       "      <td>90001</td>\n",
       "      <td>Los Angeles</td>\n",
       "      <td>Los Angeles County</td>\n",
       "      <td>POLYGON ((-118.24329 33.98901, -118.25996 33.9...</td>\n",
       "    </tr>\n",
       "    <tr>\n",
       "      <th>1</th>\n",
       "      <td>90002</td>\n",
       "      <td>Los Angeles</td>\n",
       "      <td>Los Angeles County</td>\n",
       "      <td>POLYGON ((-118.23085 33.95772, -118.23160 33.9...</td>\n",
       "    </tr>\n",
       "    <tr>\n",
       "      <th>2</th>\n",
       "      <td>90003</td>\n",
       "      <td>Los Angeles</td>\n",
       "      <td>Los Angeles County</td>\n",
       "      <td>POLYGON ((-118.28268 33.98926, -118.28383 33.9...</td>\n",
       "    </tr>\n",
       "    <tr>\n",
       "      <th>3</th>\n",
       "      <td>90004</td>\n",
       "      <td>Los Angeles</td>\n",
       "      <td>Los Angeles County</td>\n",
       "      <td>MULTIPOLYGON (((-118.33852 34.06891, -118.3371...</td>\n",
       "    </tr>\n",
       "    <tr>\n",
       "      <th>4</th>\n",
       "      <td>90005</td>\n",
       "      <td>Los Angeles</td>\n",
       "      <td>Los Angeles County</td>\n",
       "      <td>POLYGON ((-118.31879 34.05514, -118.30658 34.0...</td>\n",
       "    </tr>\n",
       "  </tbody>\n",
       "</table>\n",
       "</div>"
      ],
      "text/plain": [
       "      id         name         county_name  \\\n",
       "0  90001  Los Angeles  Los Angeles County   \n",
       "1  90002  Los Angeles  Los Angeles County   \n",
       "2  90003  Los Angeles  Los Angeles County   \n",
       "3  90004  Los Angeles  Los Angeles County   \n",
       "4  90005  Los Angeles  Los Angeles County   \n",
       "\n",
       "                                            geometry  \n",
       "0  POLYGON ((-118.24329 33.98901, -118.25996 33.9...  \n",
       "1  POLYGON ((-118.23085 33.95772, -118.23160 33.9...  \n",
       "2  POLYGON ((-118.28268 33.98926, -118.28383 33.9...  \n",
       "3  MULTIPOLYGON (((-118.33852 34.06891, -118.3371...  \n",
       "4  POLYGON ((-118.31879 34.05514, -118.30658 34.0...  "
      ]
     },
     "execution_count": 20,
     "metadata": {},
     "output_type": "execute_result"
    }
   ],
   "source": [
    "zip_gdf.head()"
   ]
  },
  {
   "cell_type": "markdown",
   "id": "a3c7575d-7d0a-4435-ba26-707fff46fd5a",
   "metadata": {},
   "source": [
    "#### Merge the two"
   ]
  },
  {
   "cell_type": "code",
   "execution_count": null,
   "id": "6162160a-7581-419d-b663-d5e2192c4ec8",
   "metadata": {},
   "outputs": [],
   "source": []
  },
  {
   "cell_type": "markdown",
   "id": "aec9045a-c2c4-4dcf-95bc-85c5353b25ab",
   "metadata": {},
   "source": [
    "#### Export merged geo file"
   ]
  },
  {
   "cell_type": "code",
   "execution_count": null,
   "id": "ab9bdc93-6774-4190-807d-2f83b5684dce",
   "metadata": {},
   "outputs": [],
   "source": []
  },
  {
   "cell_type": "code",
   "execution_count": null,
   "id": "7d4ec6d4-498c-44f9-8b68-110f33bb78f3",
   "metadata": {},
   "outputs": [],
   "source": []
  },
  {
   "cell_type": "markdown",
   "id": "4a522579-29f7-4236-b345-1634b15e7b35",
   "metadata": {},
   "source": [
    "---"
   ]
  }
 ],
 "metadata": {
  "kernelspec": {
   "display_name": "Python 3 (ipykernel)",
   "language": "python",
   "name": "python3"
  },
  "language_info": {
   "codemirror_mode": {
    "name": "ipython",
    "version": 3
   },
   "file_extension": ".py",
   "mimetype": "text/x-python",
   "name": "python",
   "nbconvert_exporter": "python",
   "pygments_lexer": "ipython3",
   "version": "3.9.7"
  }
 },
 "nbformat": 4,
 "nbformat_minor": 5
}
