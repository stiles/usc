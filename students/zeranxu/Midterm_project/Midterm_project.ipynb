{
 "cells": [
  {
   "cell_type": "code",
   "execution_count": 69,
   "id": "65cca15f-ecbd-4526-99b2-732d28728b53",
   "metadata": {},
   "outputs": [],
   "source": [
    "import pandas as pd\n",
    "import folium\n",
    "import json\n",
    "from folium import plugins"
   ]
  },
  {
   "cell_type": "code",
   "execution_count": 70,
   "id": "3b37e0b1-ee78-4425-824a-03a766304f6a",
   "metadata": {},
   "outputs": [],
   "source": [
    "with open('laMap.geojson') as f:\n",
    "    laArea = json.load(f)"
   ]
  },
  {
   "cell_type": "code",
   "execution_count": 71,
   "id": "ca4e6db4-8366-471b-96ca-777c07891c74",
   "metadata": {},
   "outputs": [],
   "source": [
    "df = pd.read_csv(\"US_Accidents_Dec20_updated_LA.csv\")"
   ]
  },
  {
   "cell_type": "code",
   "execution_count": 72,
   "id": "81da216e-2a81-42ec-9c7b-303c535b922e",
   "metadata": {},
   "outputs": [
    {
     "data": {
      "text/html": [
       "<div>\n",
       "<style scoped>\n",
       "    .dataframe tbody tr th:only-of-type {\n",
       "        vertical-align: middle;\n",
       "    }\n",
       "\n",
       "    .dataframe tbody tr th {\n",
       "        vertical-align: top;\n",
       "    }\n",
       "\n",
       "    .dataframe thead th {\n",
       "        text-align: right;\n",
       "    }\n",
       "</style>\n",
       "<table border=\"1\" class=\"dataframe\">\n",
       "  <thead>\n",
       "    <tr style=\"text-align: right;\">\n",
       "      <th></th>\n",
       "      <th>ID</th>\n",
       "      <th>Severity</th>\n",
       "      <th>Start_Time</th>\n",
       "      <th>End_Time</th>\n",
       "      <th>Start_Lat</th>\n",
       "      <th>Start_Lng</th>\n",
       "      <th>End_Lat</th>\n",
       "      <th>End_Lng</th>\n",
       "      <th>Distance(mi)</th>\n",
       "      <th>Description</th>\n",
       "      <th>...</th>\n",
       "      <th>Roundabout</th>\n",
       "      <th>Station</th>\n",
       "      <th>Stop</th>\n",
       "      <th>Traffic_Calming</th>\n",
       "      <th>Traffic_Signal</th>\n",
       "      <th>Turning_Loop</th>\n",
       "      <th>Sunrise_Sunset</th>\n",
       "      <th>Civil_Twilight</th>\n",
       "      <th>Nautical_Twilight</th>\n",
       "      <th>Astronomical_Twilight</th>\n",
       "    </tr>\n",
       "  </thead>\n",
       "  <tbody>\n",
       "    <tr>\n",
       "      <th>0</th>\n",
       "      <td>A-2721958</td>\n",
       "      <td>2</td>\n",
       "      <td>22/03/2016 19:14</td>\n",
       "      <td>23/03/2016 01:14</td>\n",
       "      <td>33.91133</td>\n",
       "      <td>-118.16819</td>\n",
       "      <td>33.91585</td>\n",
       "      <td>-118.18840</td>\n",
       "      <td>1.200</td>\n",
       "      <td>At I-710/Garfield Ave - Accident.</td>\n",
       "      <td>...</td>\n",
       "      <td>False</td>\n",
       "      <td>False</td>\n",
       "      <td>False</td>\n",
       "      <td>False</td>\n",
       "      <td>False</td>\n",
       "      <td>False</td>\n",
       "      <td>Night</td>\n",
       "      <td>Day</td>\n",
       "      <td>Day</td>\n",
       "      <td>Day</td>\n",
       "    </tr>\n",
       "    <tr>\n",
       "      <th>1</th>\n",
       "      <td>A-2721959</td>\n",
       "      <td>2</td>\n",
       "      <td>22/03/2016 19:43</td>\n",
       "      <td>23/03/2016 01:43</td>\n",
       "      <td>33.89238</td>\n",
       "      <td>-118.04408</td>\n",
       "      <td>33.89494</td>\n",
       "      <td>-118.04882</td>\n",
       "      <td>0.324</td>\n",
       "      <td>At Carmenita Rd/Exit 119 - Accident.</td>\n",
       "      <td>...</td>\n",
       "      <td>False</td>\n",
       "      <td>False</td>\n",
       "      <td>False</td>\n",
       "      <td>False</td>\n",
       "      <td>False</td>\n",
       "      <td>False</td>\n",
       "      <td>Night</td>\n",
       "      <td>Night</td>\n",
       "      <td>Day</td>\n",
       "      <td>Day</td>\n",
       "    </tr>\n",
       "    <tr>\n",
       "      <th>2</th>\n",
       "      <td>A-2721960</td>\n",
       "      <td>2</td>\n",
       "      <td>22/03/2016 19:36</td>\n",
       "      <td>23/03/2016 01:36</td>\n",
       "      <td>34.09256</td>\n",
       "      <td>-118.20622</td>\n",
       "      <td>34.09256</td>\n",
       "      <td>-118.20622</td>\n",
       "      <td>0.000</td>\n",
       "      <td>At Avenue 43 - Accident.</td>\n",
       "      <td>...</td>\n",
       "      <td>False</td>\n",
       "      <td>False</td>\n",
       "      <td>True</td>\n",
       "      <td>False</td>\n",
       "      <td>False</td>\n",
       "      <td>False</td>\n",
       "      <td>Night</td>\n",
       "      <td>Night</td>\n",
       "      <td>Day</td>\n",
       "      <td>Day</td>\n",
       "    </tr>\n",
       "    <tr>\n",
       "      <th>3</th>\n",
       "      <td>A-2721961</td>\n",
       "      <td>2</td>\n",
       "      <td>22/03/2016 20:12</td>\n",
       "      <td>23/03/2016 02:12</td>\n",
       "      <td>33.91619</td>\n",
       "      <td>-118.23915</td>\n",
       "      <td>33.91619</td>\n",
       "      <td>-118.23903</td>\n",
       "      <td>0.007</td>\n",
       "      <td>At Wilmington Ave - Accident.</td>\n",
       "      <td>...</td>\n",
       "      <td>False</td>\n",
       "      <td>False</td>\n",
       "      <td>False</td>\n",
       "      <td>False</td>\n",
       "      <td>True</td>\n",
       "      <td>False</td>\n",
       "      <td>Night</td>\n",
       "      <td>Night</td>\n",
       "      <td>Night</td>\n",
       "      <td>Day</td>\n",
       "    </tr>\n",
       "    <tr>\n",
       "      <th>4</th>\n",
       "      <td>A-2721962</td>\n",
       "      <td>2</td>\n",
       "      <td>22/03/2016 20:12</td>\n",
       "      <td>23/03/2016 02:12</td>\n",
       "      <td>33.91619</td>\n",
       "      <td>-118.23903</td>\n",
       "      <td>33.91619</td>\n",
       "      <td>-118.23915</td>\n",
       "      <td>0.007</td>\n",
       "      <td>At Wilmington Ave - Accident.</td>\n",
       "      <td>...</td>\n",
       "      <td>False</td>\n",
       "      <td>False</td>\n",
       "      <td>False</td>\n",
       "      <td>False</td>\n",
       "      <td>True</td>\n",
       "      <td>False</td>\n",
       "      <td>Night</td>\n",
       "      <td>Night</td>\n",
       "      <td>Night</td>\n",
       "      <td>Day</td>\n",
       "    </tr>\n",
       "  </tbody>\n",
       "</table>\n",
       "<p>5 rows × 47 columns</p>\n",
       "</div>"
      ],
      "text/plain": [
       "          ID  Severity        Start_Time          End_Time  Start_Lat  \\\n",
       "0  A-2721958         2  22/03/2016 19:14  23/03/2016 01:14   33.91133   \n",
       "1  A-2721959         2  22/03/2016 19:43  23/03/2016 01:43   33.89238   \n",
       "2  A-2721960         2  22/03/2016 19:36  23/03/2016 01:36   34.09256   \n",
       "3  A-2721961         2  22/03/2016 20:12  23/03/2016 02:12   33.91619   \n",
       "4  A-2721962         2  22/03/2016 20:12  23/03/2016 02:12   33.91619   \n",
       "\n",
       "   Start_Lng   End_Lat    End_Lng  Distance(mi)  \\\n",
       "0 -118.16819  33.91585 -118.18840         1.200   \n",
       "1 -118.04408  33.89494 -118.04882         0.324   \n",
       "2 -118.20622  34.09256 -118.20622         0.000   \n",
       "3 -118.23915  33.91619 -118.23903         0.007   \n",
       "4 -118.23903  33.91619 -118.23915         0.007   \n",
       "\n",
       "                            Description  ...  Roundabout Station   Stop  \\\n",
       "0     At I-710/Garfield Ave - Accident.  ...       False   False  False   \n",
       "1  At Carmenita Rd/Exit 119 - Accident.  ...       False   False  False   \n",
       "2              At Avenue 43 - Accident.  ...       False   False   True   \n",
       "3         At Wilmington Ave - Accident.  ...       False   False  False   \n",
       "4         At Wilmington Ave - Accident.  ...       False   False  False   \n",
       "\n",
       "  Traffic_Calming Traffic_Signal Turning_Loop Sunrise_Sunset Civil_Twilight  \\\n",
       "0           False          False        False          Night            Day   \n",
       "1           False          False        False          Night          Night   \n",
       "2           False          False        False          Night          Night   \n",
       "3           False           True        False          Night          Night   \n",
       "4           False           True        False          Night          Night   \n",
       "\n",
       "  Nautical_Twilight Astronomical_Twilight  \n",
       "0               Day                   Day  \n",
       "1               Day                   Day  \n",
       "2               Day                   Day  \n",
       "3             Night                   Day  \n",
       "4             Night                   Day  \n",
       "\n",
       "[5 rows x 47 columns]"
      ]
     },
     "execution_count": 72,
     "metadata": {},
     "output_type": "execute_result"
    }
   ],
   "source": [
    "df.head()"
   ]
  },
  {
   "cell_type": "code",
   "execution_count": 73,
   "id": "540a6846-2804-4a16-8289-7eff313f7adc",
   "metadata": {},
   "outputs": [
    {
     "data": {
      "text/plain": [
       "ID                       False\n",
       "Severity                 False\n",
       "Start_Time               False\n",
       "End_Time                 False\n",
       "Start_Lat                False\n",
       "Start_Lng                False\n",
       "End_Lat                  False\n",
       "End_Lng                  False\n",
       "Distance(mi)             False\n",
       "Description              False\n",
       "Number                    True\n",
       "Street                   False\n",
       "Side                     False\n",
       "City                      True\n",
       "County                   False\n",
       "State                    False\n",
       "Zipcode                  False\n",
       "Country                  False\n",
       "Timezone                 False\n",
       "Airport_Code             False\n",
       "Weather_Timestamp         True\n",
       "Temperature(F)            True\n",
       "Wind_Chill(F)             True\n",
       "Humidity(%)               True\n",
       "Pressure(in)              True\n",
       "Visibility(mi)            True\n",
       "Wind_Direction            True\n",
       "Wind_Speed(mph)           True\n",
       "Precipitation(in)         True\n",
       "Weather_Condition         True\n",
       "Amenity                  False\n",
       "Bump                     False\n",
       "Crossing                 False\n",
       "Give_Way                 False\n",
       "Junction                 False\n",
       "No_Exit                  False\n",
       "Railway                  False\n",
       "Roundabout               False\n",
       "Station                  False\n",
       "Stop                     False\n",
       "Traffic_Calming          False\n",
       "Traffic_Signal           False\n",
       "Turning_Loop             False\n",
       "Sunrise_Sunset            True\n",
       "Civil_Twilight            True\n",
       "Nautical_Twilight         True\n",
       "Astronomical_Twilight     True\n",
       "dtype: bool"
      ]
     },
     "execution_count": 73,
     "metadata": {},
     "output_type": "execute_result"
    }
   ],
   "source": [
    "df.isna().any()"
   ]
  },
  {
   "cell_type": "markdown",
   "id": "d9b7fafd-53e6-4c87-b6c6-509b743bd165",
   "metadata": {},
   "source": [
    "1. Clean the date data"
   ]
  },
  {
   "cell_type": "code",
   "execution_count": 74,
   "id": "b0900491-0382-4cc2-8f66-80f68b0f619d",
   "metadata": {},
   "outputs": [],
   "source": [
    "df['clean_Start_Time'] = pd.to_datetime(df['Start_Time'], format = '%d/%m/%Y %H:%M', errors = 'coerce')\n",
    "# Clean the start time"
   ]
  },
  {
   "cell_type": "code",
   "execution_count": 75,
   "id": "6afa4a0e-516b-41b1-9057-7102cf2a5be0",
   "metadata": {},
   "outputs": [],
   "source": [
    "df['Year'] = df['clean_Start_Time'].dt.year"
   ]
  },
  {
   "cell_type": "code",
   "execution_count": 80,
   "id": "040e78e0-7436-4dc1-b611-a6fd6f55ce2a",
   "metadata": {},
   "outputs": [
    {
     "data": {
      "text/plain": [
       "0        2016.0\n",
       "1        2016.0\n",
       "2        2016.0\n",
       "3        2016.0\n",
       "4        2016.0\n",
       "          ...  \n",
       "90715    2019.0\n",
       "90716    2019.0\n",
       "90717    2019.0\n",
       "90718    2019.0\n",
       "90719    2019.0\n",
       "Name: Year, Length: 90720, dtype: float64"
      ]
     },
     "execution_count": 80,
     "metadata": {},
     "output_type": "execute_result"
    }
   ],
   "source": [
    "df['Year']"
   ]
  },
  {
   "cell_type": "code",
   "execution_count": 81,
   "id": "ac91f1c0-c5a7-489a-92b5-832c8c037f1c",
   "metadata": {},
   "outputs": [
    {
     "data": {
      "text/plain": [
       "0       2016-03-22 19:14:00\n",
       "1       2016-03-22 19:43:00\n",
       "2       2016-03-22 19:36:00\n",
       "3       2016-03-22 20:12:00\n",
       "4       2016-03-22 20:12:00\n",
       "                ...        \n",
       "90715   2019-12-10 16:58:00\n",
       "90716   2019-12-10 16:53:00\n",
       "90717   2019-12-10 16:57:00\n",
       "90718   2019-12-10 16:56:00\n",
       "90719   2019-12-10 17:02:00\n",
       "Name: clean_Start_Time, Length: 90720, dtype: datetime64[ns]"
      ]
     },
     "execution_count": 81,
     "metadata": {},
     "output_type": "execute_result"
    }
   ],
   "source": [
    "df.clean_Start_Time"
   ]
  },
  {
   "cell_type": "code",
   "execution_count": 82,
   "id": "5ccaa4ce-28d8-4208-aa10-9eec75dcb3cd",
   "metadata": {},
   "outputs": [],
   "source": [
    "df['clean_End_Time'] = pd.to_datetime(df['End_Time'], format = '%d/%m/%Y %H:%M', errors = 'coerce')"
   ]
  },
  {
   "cell_type": "code",
   "execution_count": 83,
   "id": "c4edd2c4-58aa-4d2b-91c4-0abb7320f00c",
   "metadata": {},
   "outputs": [
    {
     "data": {
      "text/plain": [
       "0        23/03/2016 01:14\n",
       "1        23/03/2016 01:43\n",
       "2        23/03/2016 01:36\n",
       "3        23/03/2016 02:12\n",
       "4        23/03/2016 02:12\n",
       "               ...       \n",
       "90715    10/12/2019 18:10\n",
       "90716    10/12/2019 17:48\n",
       "90717    10/12/2019 17:50\n",
       "90718    10/12/2019 17:27\n",
       "90719    10/12/2019 17:55\n",
       "Name: End_Time, Length: 90720, dtype: object"
      ]
     },
     "execution_count": 83,
     "metadata": {},
     "output_type": "execute_result"
    }
   ],
   "source": [
    "df.End_Time"
   ]
  },
  {
   "cell_type": "code",
   "execution_count": null,
   "id": "be01559b-6a4d-4284-b0c3-2db405590909",
   "metadata": {},
   "outputs": [],
   "source": []
  },
  {
   "cell_type": "markdown",
   "id": "5b35ac93-ebfd-4ffa-a764-b81692c75461",
   "metadata": {},
   "source": [
    "# 基本分析"
   ]
  },
  {
   "cell_type": "code",
   "execution_count": 84,
   "id": "2b130990-dc1e-446d-b0b4-2a53dfd9ef6e",
   "metadata": {},
   "outputs": [
    {
     "data": {
      "text/plain": [
       "90720"
      ]
     },
     "execution_count": 84,
     "metadata": {},
     "output_type": "execute_result"
    }
   ],
   "source": [
    "len(df)\n",
    "\n",
    "# How many cases are there in LA county from 2016-2020?"
   ]
  },
  {
   "cell_type": "code",
   "execution_count": 85,
   "id": "2d3be9d0-72df-4944-acbb-c7ce0325124d",
   "metadata": {},
   "outputs": [
    {
     "data": {
      "text/plain": [
       "2    85629\n",
       "3     3805\n",
       "4     1285\n",
       "1        1\n",
       "Name: Severity, dtype: int64"
      ]
     },
     "execution_count": 85,
     "metadata": {},
     "output_type": "execute_result"
    }
   ],
   "source": [
    "df.Severity.value_counts()\n",
    "\n",
    "# The number of traffic accidents in 4 different severity"
   ]
  },
  {
   "cell_type": "code",
   "execution_count": 86,
   "id": "41dfbcf1-7240-4477-9454-49aa6878d4ac",
   "metadata": {},
   "outputs": [
    {
     "data": {
      "text/plain": [
       "0.33"
      ]
     },
     "execution_count": 86,
     "metadata": {},
     "output_type": "execute_result"
    }
   ],
   "source": [
    "round(df[\"Distance(mi)\"].mean(),2)"
   ]
  },
  {
   "cell_type": "code",
   "execution_count": 87,
   "id": "d88bc72f-daef-41ae-8d7d-51e5cc02a69c",
   "metadata": {},
   "outputs": [
    {
     "data": {
      "text/plain": [
       "137.62"
      ]
     },
     "execution_count": 87,
     "metadata": {},
     "output_type": "execute_result"
    }
   ],
   "source": [
    "round(df[\"Distance(mi)\"].max(),2)"
   ]
  },
  {
   "cell_type": "code",
   "execution_count": 88,
   "id": "09fc0b2c-ecae-4eeb-a507-e4949acd4b40",
   "metadata": {},
   "outputs": [
    {
     "data": {
      "text/plain": [
       "0.0"
      ]
     },
     "execution_count": 88,
     "metadata": {},
     "output_type": "execute_result"
    }
   ],
   "source": [
    "round(df[\"Distance(mi)\"].min(),2)"
   ]
  },
  {
   "cell_type": "markdown",
   "id": "672de726-5cb6-45e2-b49f-05e8ea66e1f8",
   "metadata": {},
   "source": [
    "# 时间"
   ]
  },
  {
   "cell_type": "markdown",
   "id": "6c827e15-025a-4151-893d-5a880178186f",
   "metadata": {},
   "source": [
    "The Average traffic delay due to road accidents"
   ]
  },
  {
   "cell_type": "code",
   "execution_count": 89,
   "id": "8820e062-bc06-4806-89cc-904c5edd8ef0",
   "metadata": {},
   "outputs": [],
   "source": [
    "df['duration_time_hour'] = (df['clean_End_Time'] - df['clean_Start_Time']).dt.seconds/60/60"
   ]
  },
  {
   "cell_type": "code",
   "execution_count": 90,
   "id": "795c60e3-a541-4175-9b14-d34da6e4d8b8",
   "metadata": {},
   "outputs": [],
   "source": [
    "df['duration_time_hour'] = round(df['duration_time_hour'])"
   ]
  },
  {
   "cell_type": "code",
   "execution_count": 91,
   "id": "20bb9969-c0f3-43b4-8e5a-1bc9452ddd5a",
   "metadata": {},
   "outputs": [
    {
     "data": {
      "text/plain": [
       "0        6.0\n",
       "1        6.0\n",
       "2        6.0\n",
       "3        6.0\n",
       "4        6.0\n",
       "        ... \n",
       "90715    1.0\n",
       "90716    1.0\n",
       "90717    1.0\n",
       "90718    1.0\n",
       "90719    1.0\n",
       "Name: duration_time_hour, Length: 90720, dtype: float64"
      ]
     },
     "execution_count": 91,
     "metadata": {},
     "output_type": "execute_result"
    }
   ],
   "source": [
    "df['duration_time_hour']"
   ]
  },
  {
   "cell_type": "code",
   "execution_count": 92,
   "id": "eaf06db5-d527-4ee3-a3a2-94df4d0cd53a",
   "metadata": {},
   "outputs": [
    {
     "data": {
      "text/plain": [
       "24.0"
      ]
     },
     "execution_count": 92,
     "metadata": {},
     "output_type": "execute_result"
    }
   ],
   "source": [
    "df.duration_time_hour.max()"
   ]
  },
  {
   "cell_type": "code",
   "execution_count": 93,
   "id": "b9ab658b-6149-4a71-a119-6a47566dade0",
   "metadata": {},
   "outputs": [
    {
     "data": {
      "text/plain": [
       "0.0"
      ]
     },
     "execution_count": 93,
     "metadata": {},
     "output_type": "execute_result"
    }
   ],
   "source": [
    "df.duration_time_hour.min()"
   ]
  },
  {
   "cell_type": "code",
   "execution_count": 94,
   "id": "0aa6b7c8-12d7-475e-ac1b-e51a45bcff10",
   "metadata": {},
   "outputs": [
    {
     "data": {
      "text/plain": [
       "3.13"
      ]
     },
     "execution_count": 94,
     "metadata": {},
     "output_type": "execute_result"
    }
   ],
   "source": [
    "round(df.duration_time_hour.mean(), 2)"
   ]
  },
  {
   "cell_type": "markdown",
   "id": "364e587e-9025-4654-a2b0-16cbe889b1c8",
   "metadata": {},
   "source": [
    "Road accidents percentage over past 5 years"
   ]
  },
  {
   "cell_type": "code",
   "execution_count": 95,
   "id": "2416225a-68ac-47c9-8af9-d1a4d80ea660",
   "metadata": {},
   "outputs": [],
   "source": [
    "Year_df = pd.DataFrame(df.clean_Start_Time.dt.year.value_counts()).reset_index().rename(columns={'index':'Year', 'clean_Start_Time':'Cases'}).sort_values(by='Cases', ascending=False)"
   ]
  },
  {
   "cell_type": "code",
   "execution_count": 96,
   "id": "38d6dc8a-d18b-4e49-b861-908db74cdf10",
   "metadata": {},
   "outputs": [],
   "source": [
    "Year_df['accident/day'] = round(Year_df['Cases']/365)"
   ]
  },
  {
   "cell_type": "code",
   "execution_count": 97,
   "id": "d0d6dff8-d255-4270-8f91-a6225f542054",
   "metadata": {},
   "outputs": [
    {
     "data": {
      "text/html": [
       "<div>\n",
       "<style scoped>\n",
       "    .dataframe tbody tr th:only-of-type {\n",
       "        vertical-align: middle;\n",
       "    }\n",
       "\n",
       "    .dataframe tbody tr th {\n",
       "        vertical-align: top;\n",
       "    }\n",
       "\n",
       "    .dataframe thead th {\n",
       "        text-align: right;\n",
       "    }\n",
       "</style>\n",
       "<table border=\"1\" class=\"dataframe\">\n",
       "  <thead>\n",
       "    <tr style=\"text-align: right;\">\n",
       "      <th></th>\n",
       "      <th>Year</th>\n",
       "      <th>Cases</th>\n",
       "      <th>accident/day</th>\n",
       "    </tr>\n",
       "  </thead>\n",
       "  <tbody>\n",
       "    <tr>\n",
       "      <th>0</th>\n",
       "      <td>2020.0</td>\n",
       "      <td>63802</td>\n",
       "      <td>175.0</td>\n",
       "    </tr>\n",
       "    <tr>\n",
       "      <th>1</th>\n",
       "      <td>2016.0</td>\n",
       "      <td>11802</td>\n",
       "      <td>32.0</td>\n",
       "    </tr>\n",
       "    <tr>\n",
       "      <th>2</th>\n",
       "      <td>2017.0</td>\n",
       "      <td>8224</td>\n",
       "      <td>23.0</td>\n",
       "    </tr>\n",
       "    <tr>\n",
       "      <th>3</th>\n",
       "      <td>2019.0</td>\n",
       "      <td>4507</td>\n",
       "      <td>12.0</td>\n",
       "    </tr>\n",
       "  </tbody>\n",
       "</table>\n",
       "</div>"
      ],
      "text/plain": [
       "     Year  Cases  accident/day\n",
       "0  2020.0  63802         175.0\n",
       "1  2016.0  11802          32.0\n",
       "2  2017.0   8224          23.0\n",
       "3  2019.0   4507          12.0"
      ]
     },
     "execution_count": 97,
     "metadata": {},
     "output_type": "execute_result"
    }
   ],
   "source": [
    "Year_df"
   ]
  },
  {
   "cell_type": "code",
   "execution_count": 98,
   "id": "99038a00-7a71-4f3d-a818-4d7cc05cdea7",
   "metadata": {},
   "outputs": [
    {
     "data": {
      "text/html": [
       "<div>\n",
       "<style scoped>\n",
       "    .dataframe tbody tr th:only-of-type {\n",
       "        vertical-align: middle;\n",
       "    }\n",
       "\n",
       "    .dataframe tbody tr th {\n",
       "        vertical-align: top;\n",
       "    }\n",
       "\n",
       "    .dataframe thead th {\n",
       "        text-align: right;\n",
       "    }\n",
       "</style>\n",
       "<table border=\"1\" class=\"dataframe\">\n",
       "  <thead>\n",
       "    <tr style=\"text-align: right;\">\n",
       "      <th>Severity</th>\n",
       "      <th>1</th>\n",
       "      <th>2</th>\n",
       "      <th>3</th>\n",
       "      <th>4</th>\n",
       "    </tr>\n",
       "    <tr>\n",
       "      <th>Year</th>\n",
       "      <th></th>\n",
       "      <th></th>\n",
       "      <th></th>\n",
       "      <th></th>\n",
       "    </tr>\n",
       "  </thead>\n",
       "  <tbody>\n",
       "    <tr>\n",
       "      <th>2016.0</th>\n",
       "      <td>NaN</td>\n",
       "      <td>9923.0</td>\n",
       "      <td>1515.0</td>\n",
       "      <td>364.0</td>\n",
       "    </tr>\n",
       "    <tr>\n",
       "      <th>2017.0</th>\n",
       "      <td>NaN</td>\n",
       "      <td>6930.0</td>\n",
       "      <td>1014.0</td>\n",
       "      <td>280.0</td>\n",
       "    </tr>\n",
       "    <tr>\n",
       "      <th>2019.0</th>\n",
       "      <td>NaN</td>\n",
       "      <td>4447.0</td>\n",
       "      <td>26.0</td>\n",
       "      <td>34.0</td>\n",
       "    </tr>\n",
       "    <tr>\n",
       "      <th>2020.0</th>\n",
       "      <td>1.0</td>\n",
       "      <td>61947.0</td>\n",
       "      <td>1250.0</td>\n",
       "      <td>604.0</td>\n",
       "    </tr>\n",
       "  </tbody>\n",
       "</table>\n",
       "</div>"
      ],
      "text/plain": [
       "Severity    1        2       3      4\n",
       "Year                                 \n",
       "2016.0    NaN   9923.0  1515.0  364.0\n",
       "2017.0    NaN   6930.0  1014.0  280.0\n",
       "2019.0    NaN   4447.0    26.0   34.0\n",
       "2020.0    1.0  61947.0  1250.0  604.0"
      ]
     },
     "execution_count": 98,
     "metadata": {},
     "output_type": "execute_result"
    }
   ],
   "source": [
    "df.groupby(['Year', 'Severity']).size().unstack()"
   ]
  },
  {
   "cell_type": "code",
   "execution_count": null,
   "id": "3418c0e3-2f7f-41f0-9f1d-e0c242a7ad88",
   "metadata": {},
   "outputs": [],
   "source": []
  },
  {
   "cell_type": "markdown",
   "id": "be4d2cb1-8606-48a8-a4f8-12c20f58faa9",
   "metadata": {},
   "source": [
    "# 地点"
   ]
  },
  {
   "cell_type": "markdown",
   "id": "41db4d01-40c4-44a4-84d3-04fbad94b8a9",
   "metadata": {},
   "source": [
    "Top ten cities with the highest cases in LA county"
   ]
  },
  {
   "cell_type": "code",
   "execution_count": 99,
   "id": "6b2c961d-167f-4767-9313-4f423c0eb9af",
   "metadata": {},
   "outputs": [],
   "source": [
    "city_df = pd.DataFrame(df['City'].value_counts()).reset_index().rename(columns={'index':'City', 'City':'Cases'})\n",
    "\n",
    "# The number of traffic accidents in different cities"
   ]
  },
  {
   "cell_type": "code",
   "execution_count": 100,
   "id": "85673826-fc95-4dc4-9f6c-c75f0b420f11",
   "metadata": {},
   "outputs": [
    {
     "data": {
      "text/html": [
       "<div>\n",
       "<style scoped>\n",
       "    .dataframe tbody tr th:only-of-type {\n",
       "        vertical-align: middle;\n",
       "    }\n",
       "\n",
       "    .dataframe tbody tr th {\n",
       "        vertical-align: top;\n",
       "    }\n",
       "\n",
       "    .dataframe thead th {\n",
       "        text-align: right;\n",
       "    }\n",
       "</style>\n",
       "<table border=\"1\" class=\"dataframe\">\n",
       "  <thead>\n",
       "    <tr style=\"text-align: right;\">\n",
       "      <th></th>\n",
       "      <th>City</th>\n",
       "      <th>Cases</th>\n",
       "    </tr>\n",
       "  </thead>\n",
       "  <tbody>\n",
       "    <tr>\n",
       "      <th>0</th>\n",
       "      <td>Los Angeles</td>\n",
       "      <td>26699</td>\n",
       "    </tr>\n",
       "    <tr>\n",
       "      <th>1</th>\n",
       "      <td>Long Beach</td>\n",
       "      <td>3660</td>\n",
       "    </tr>\n",
       "    <tr>\n",
       "      <th>2</th>\n",
       "      <td>Whittier</td>\n",
       "      <td>2603</td>\n",
       "    </tr>\n",
       "    <tr>\n",
       "      <th>3</th>\n",
       "      <td>Baldwin Park</td>\n",
       "      <td>1930</td>\n",
       "    </tr>\n",
       "    <tr>\n",
       "      <th>4</th>\n",
       "      <td>Pomona</td>\n",
       "      <td>1787</td>\n",
       "    </tr>\n",
       "    <tr>\n",
       "      <th>5</th>\n",
       "      <td>Gardena</td>\n",
       "      <td>1644</td>\n",
       "    </tr>\n",
       "    <tr>\n",
       "      <th>6</th>\n",
       "      <td>Sherman Oaks</td>\n",
       "      <td>1575</td>\n",
       "    </tr>\n",
       "    <tr>\n",
       "      <th>7</th>\n",
       "      <td>Pasadena</td>\n",
       "      <td>1498</td>\n",
       "    </tr>\n",
       "    <tr>\n",
       "      <th>8</th>\n",
       "      <td>Downey</td>\n",
       "      <td>1382</td>\n",
       "    </tr>\n",
       "    <tr>\n",
       "      <th>9</th>\n",
       "      <td>Diamond Bar</td>\n",
       "      <td>1372</td>\n",
       "    </tr>\n",
       "  </tbody>\n",
       "</table>\n",
       "</div>"
      ],
      "text/plain": [
       "           City  Cases\n",
       "0   Los Angeles  26699\n",
       "1    Long Beach   3660\n",
       "2      Whittier   2603\n",
       "3  Baldwin Park   1930\n",
       "4        Pomona   1787\n",
       "5       Gardena   1644\n",
       "6  Sherman Oaks   1575\n",
       "7      Pasadena   1498\n",
       "8        Downey   1382\n",
       "9   Diamond Bar   1372"
      ]
     },
     "execution_count": 100,
     "metadata": {},
     "output_type": "execute_result"
    }
   ],
   "source": [
    "city_df.head(10)"
   ]
  },
  {
   "cell_type": "markdown",
   "id": "64346bda-d494-44e4-9572-0c58f68274d9",
   "metadata": {},
   "source": [
    "Top ten street with the highest cases in LA county"
   ]
  },
  {
   "cell_type": "code",
   "execution_count": 101,
   "id": "4b42855a-70b0-46c2-ac70-1f6f33d5c894",
   "metadata": {},
   "outputs": [
    {
     "data": {
      "text/html": [
       "<div>\n",
       "<style scoped>\n",
       "    .dataframe tbody tr th:only-of-type {\n",
       "        vertical-align: middle;\n",
       "    }\n",
       "\n",
       "    .dataframe tbody tr th {\n",
       "        vertical-align: top;\n",
       "    }\n",
       "\n",
       "    .dataframe thead th {\n",
       "        text-align: right;\n",
       "    }\n",
       "</style>\n",
       "<table border=\"1\" class=\"dataframe\">\n",
       "  <thead>\n",
       "    <tr style=\"text-align: right;\">\n",
       "      <th></th>\n",
       "      <th>index</th>\n",
       "      <th>Street</th>\n",
       "    </tr>\n",
       "  </thead>\n",
       "  <tbody>\n",
       "    <tr>\n",
       "      <th>0</th>\n",
       "      <td>I-10 W</td>\n",
       "      <td>3701</td>\n",
       "    </tr>\n",
       "    <tr>\n",
       "      <th>1</th>\n",
       "      <td>I-10 E</td>\n",
       "      <td>3700</td>\n",
       "    </tr>\n",
       "    <tr>\n",
       "      <th>2</th>\n",
       "      <td>I-405 N</td>\n",
       "      <td>3368</td>\n",
       "    </tr>\n",
       "    <tr>\n",
       "      <th>3</th>\n",
       "      <td>Golden State Fwy S</td>\n",
       "      <td>2574</td>\n",
       "    </tr>\n",
       "    <tr>\n",
       "      <th>4</th>\n",
       "      <td>I-405 S</td>\n",
       "      <td>2164</td>\n",
       "    </tr>\n",
       "    <tr>\n",
       "      <th>5</th>\n",
       "      <td>Foothill Fwy E</td>\n",
       "      <td>2036</td>\n",
       "    </tr>\n",
       "    <tr>\n",
       "      <th>6</th>\n",
       "      <td>Foothill Fwy W</td>\n",
       "      <td>2027</td>\n",
       "    </tr>\n",
       "    <tr>\n",
       "      <th>7</th>\n",
       "      <td>I-5 N</td>\n",
       "      <td>2022</td>\n",
       "    </tr>\n",
       "    <tr>\n",
       "      <th>8</th>\n",
       "      <td>I-605 S</td>\n",
       "      <td>1883</td>\n",
       "    </tr>\n",
       "    <tr>\n",
       "      <th>9</th>\n",
       "      <td>Golden State Fwy N</td>\n",
       "      <td>1870</td>\n",
       "    </tr>\n",
       "  </tbody>\n",
       "</table>\n",
       "</div>"
      ],
      "text/plain": [
       "                index  Street\n",
       "0              I-10 W    3701\n",
       "1              I-10 E    3700\n",
       "2             I-405 N    3368\n",
       "3  Golden State Fwy S    2574\n",
       "4             I-405 S    2164\n",
       "5      Foothill Fwy E    2036\n",
       "6      Foothill Fwy W    2027\n",
       "7               I-5 N    2022\n",
       "8             I-605 S    1883\n",
       "9  Golden State Fwy N    1870"
      ]
     },
     "execution_count": 101,
     "metadata": {},
     "output_type": "execute_result"
    }
   ],
   "source": [
    "df.Street.value_counts().head(10).reset_index()\n",
    "\n",
    "# The number of traffic accidents in different streets"
   ]
  },
  {
   "cell_type": "markdown",
   "id": "e8626368-0bf3-41de-85c4-21615c53c062",
   "metadata": {},
   "source": [
    "根据交通事故引起堵塞的起始点描绘的点图"
   ]
  },
  {
   "cell_type": "code",
   "execution_count": 6,
   "id": "d99f63c7-0941-491e-81e3-7b1182787bf8",
   "metadata": {},
   "outputs": [],
   "source": [
    "laMap = folium.Map(location=[34.0522,-118.2437], tiles='Stamen Toner', zoom_start=9)"
   ]
  },
  {
   "cell_type": "code",
   "execution_count": 53,
   "id": "3cce4e3e-e683-4bec-beab-561d48561a89",
   "metadata": {},
   "outputs": [
    {
     "data": {
      "text/plain": [
       "<folium.features.GeoJson at 0x1f86f0a2fa0>"
      ]
     },
     "execution_count": 53,
     "metadata": {},
     "output_type": "execute_result"
    }
   ],
   "source": [
    "folium.GeoJson(laArea).add_to(laMap)"
   ]
  },
  {
   "cell_type": "code",
   "execution_count": 66,
   "id": "b6729d5f-b392-4d99-8c7f-2db4d8cdd6b3",
   "metadata": {},
   "outputs": [],
   "source": [
    "for i,row in df.iterrows():\n",
    "    folium.CircleMarker((row.Start_Lat,row.Start_Lng), radius=1, weight=1, color='red', fill_color='red', fill_opacity=.5).add_to(laMap)"
   ]
  },
  {
   "cell_type": "code",
   "execution_count": 68,
   "id": "5f78ae1f-dbf8-4674-bb0a-000fcb2eeab6",
   "metadata": {},
   "outputs": [],
   "source": [
    "laMap.save('laPointMap_accident.html')"
   ]
  },
  {
   "cell_type": "markdown",
   "id": "2a0c4153-b498-4d1d-803f-7b2b844a3d82",
   "metadata": {},
   "source": [
    "# 路况"
   ]
  },
  {
   "cell_type": "code",
   "execution_count": 109,
   "id": "639d5553-c111-4c31-9a92-8f95e752f4cd",
   "metadata": {},
   "outputs": [
    {
     "data": {
      "text/plain": [
       "R    81714\n",
       "L     9006\n",
       "Name: Side, dtype: int64"
      ]
     },
     "execution_count": 109,
     "metadata": {},
     "output_type": "execute_result"
    }
   ],
   "source": [
    "df.Side.value_counts()"
   ]
  },
  {
   "cell_type": "code",
   "execution_count": 107,
   "id": "3eb2eaa6-1176-4464-9235-7ed220dbabce",
   "metadata": {},
   "outputs": [
    {
     "data": {
      "text/plain": [
       "R    90.07\n",
       "L     9.93\n",
       "Name: Side, dtype: float64"
      ]
     },
     "execution_count": 107,
     "metadata": {},
     "output_type": "execute_result"
    }
   ],
   "source": [
    "df.Side.value_counts(normalize=True).round(4) * 100"
   ]
  },
  {
   "cell_type": "code",
   "execution_count": 103,
   "id": "09f635e9-9dd9-4e0c-b544-a5ec1d5ec58c",
   "metadata": {},
   "outputs": [
    {
     "data": {
      "text/plain": [
       "0         Clear\n",
       "1         Clear\n",
       "2         Clear\n",
       "3         Clear\n",
       "4         Clear\n",
       "          ...  \n",
       "90715    Cloudy\n",
       "90716    Cloudy\n",
       "90717    Cloudy\n",
       "90718    Cloudy\n",
       "90719    Cloudy\n",
       "Name: Weather_Condition, Length: 87688, dtype: object"
      ]
     },
     "execution_count": 103,
     "metadata": {},
     "output_type": "execute_result"
    }
   ],
   "source": [
    "df[\"Weather_Condition\"].dropna(how='any')\n",
    "\n",
    "# cleaning the null data in \"Weather_Condition\""
   ]
  },
  {
   "cell_type": "code",
   "execution_count": 36,
   "id": "f5b2297c-08a4-4591-8937-e8329417e68e",
   "metadata": {},
   "outputs": [
    {
     "data": {
      "text/plain": [
       "Fair                       43178\n",
       "Clear                      12136\n",
       "Cloudy                      7669\n",
       "Mostly Cloudy               5575\n",
       "Partly Cloudy               5118\n",
       "Light Rain                  3360\n",
       "Haze                        3085\n",
       "Overcast                    2297\n",
       "Rain                        1548\n",
       "Scattered Clouds             903\n",
       "Heavy Rain                   730\n",
       "Fog                          718\n",
       "Smoke                        677\n",
       "Fair / Windy                 308\n",
       "Mist                          53\n",
       "Partly Cloudy / Windy         51\n",
       "Cloudy / Windy                31\n",
       "Light Rain / Windy            31\n",
       "Snow                          24\n",
       "T-Storm                       20\n",
       "Drizzle                       17\n",
       "Thunder in the Vicinity       17\n",
       "Heavy T-Storm                 16\n",
       "Light Rain Showers            14\n",
       "Rain Showers                  13\n",
       "Rain / Windy                  11\n",
       "Mostly Cloudy / Windy         10\n",
       "Widespread Dust               10\n",
       "Heavy Rain / Windy             9\n",
       "Blowing Dust                   9\n",
       "Light Rain with Thunder        8\n",
       "Thunder                        8\n",
       "Patches of Fog                 6\n",
       "Fog / Windy                    6\n",
       "Light Drizzle                  4\n",
       "Light Snow                     4\n",
       "Light Snow / Windy             3\n",
       "Showers in the Vicinity        2\n",
       "Shallow Fog                    2\n",
       "Snow / Windy                   2\n",
       "Heavy Snow                     1\n",
       "Rain Shower                    1\n",
       "Haze / Windy                   1\n",
       "Blowing Dust / Windy           1\n",
       "Light Rain Shower              1\n",
       "Name: Weather_Condition, dtype: int64"
      ]
     },
     "execution_count": 36,
     "metadata": {},
     "output_type": "execute_result"
    }
   ],
   "source": [
    "df.Weather_Condition.value_counts()"
   ]
  },
  {
   "cell_type": "code",
   "execution_count": 37,
   "id": "e55314b6-0afd-4c8c-8bd7-06f433b8e091",
   "metadata": {},
   "outputs": [
    {
     "data": {
      "text/plain": [
       "Fair                       49.240\n",
       "Clear                      13.840\n",
       "Cloudy                      8.746\n",
       "Mostly Cloudy               6.358\n",
       "Partly Cloudy               5.837\n",
       "Light Rain                  3.832\n",
       "Haze                        3.518\n",
       "Overcast                    2.620\n",
       "Rain                        1.765\n",
       "Scattered Clouds            1.030\n",
       "Heavy Rain                  0.832\n",
       "Fog                         0.819\n",
       "Smoke                       0.772\n",
       "Fair / Windy                0.351\n",
       "Mist                        0.060\n",
       "Partly Cloudy / Windy       0.058\n",
       "Cloudy / Windy              0.035\n",
       "Light Rain / Windy          0.035\n",
       "Snow                        0.027\n",
       "T-Storm                     0.023\n",
       "Drizzle                     0.019\n",
       "Thunder in the Vicinity     0.019\n",
       "Heavy T-Storm               0.018\n",
       "Light Rain Showers          0.016\n",
       "Rain Showers                0.015\n",
       "Rain / Windy                0.013\n",
       "Mostly Cloudy / Windy       0.011\n",
       "Widespread Dust             0.011\n",
       "Heavy Rain / Windy          0.010\n",
       "Blowing Dust                0.010\n",
       "Light Rain with Thunder     0.009\n",
       "Thunder                     0.009\n",
       "Patches of Fog              0.007\n",
       "Fog / Windy                 0.007\n",
       "Light Drizzle               0.005\n",
       "Light Snow                  0.005\n",
       "Light Snow / Windy          0.003\n",
       "Showers in the Vicinity     0.002\n",
       "Shallow Fog                 0.002\n",
       "Snow / Windy                0.002\n",
       "Heavy Snow                  0.001\n",
       "Rain Shower                 0.001\n",
       "Haze / Windy                0.001\n",
       "Blowing Dust / Windy        0.001\n",
       "Light Rain Shower           0.001\n",
       "Name: Weather_Condition, dtype: float64"
      ]
     },
     "execution_count": 37,
     "metadata": {},
     "output_type": "execute_result"
    }
   ],
   "source": [
    "pd.value_counts(df.Weather_Condition, normalize=True).round(5) * 100"
   ]
  },
  {
   "cell_type": "markdown",
   "id": "57573df4-3e3e-4a4f-921b-7849aa505c83",
   "metadata": {},
   "source": [
    "在不同湿度环境下发生车祸的概率（根据在不同湿度环境下发生车祸的次数）"
   ]
  },
  {
   "cell_type": "code",
   "execution_count": 38,
   "id": "b4b73855-01f4-4f38-adbc-15f6ce96e145",
   "metadata": {},
   "outputs": [
    {
     "data": {
      "text/plain": [
       "0        58.0\n",
       "1        50.0\n",
       "2        24.0\n",
       "3        56.0\n",
       "4        56.0\n",
       "         ... \n",
       "90715    72.0\n",
       "90716    70.0\n",
       "90717    67.0\n",
       "90718    67.0\n",
       "90719    70.0\n",
       "Name: Humidity(%), Length: 87473, dtype: float64"
      ]
     },
     "execution_count": 38,
     "metadata": {},
     "output_type": "execute_result"
    }
   ],
   "source": [
    "df[\"Humidity(%)\"].dropna(how='any')\n",
    "\n",
    "# cleaning the null data in \"Humidity(%)\""
   ]
  },
  {
   "cell_type": "code",
   "execution_count": 39,
   "id": "c2863d77-aee5-4356-b4b6-305a20b516fe",
   "metadata": {},
   "outputs": [
    {
     "data": {
      "text/plain": [
       "83.0    2179\n",
       "78.0    2041\n",
       "75.0    2035\n",
       "72.0    1985\n",
       "80.0    1983\n",
       "        ... \n",
       "98.0       4\n",
       "3.0        3\n",
       "99.0       2\n",
       "91.0       2\n",
       "95.0       1\n",
       "Name: Humidity(%), Length: 98, dtype: int64"
      ]
     },
     "execution_count": 39,
     "metadata": {},
     "output_type": "execute_result"
    }
   ],
   "source": [
    "df[\"Humidity(%)\"].value_counts()"
   ]
  },
  {
   "cell_type": "code",
   "execution_count": 40,
   "id": "b6f31f94-3d6f-4a84-9673-880edb99ce60",
   "metadata": {},
   "outputs": [],
   "source": [
    "bins = [0,10,20,30,40,50,60,70,80,90,100]"
   ]
  },
  {
   "cell_type": "code",
   "execution_count": 41,
   "id": "849b075f-4b84-411b-9e62-7e3755da0afb",
   "metadata": {},
   "outputs": [],
   "source": [
    "df_Humidity = pd.cut(df[\"Humidity(%)\"], bins)"
   ]
  },
  {
   "cell_type": "code",
   "execution_count": 42,
   "id": "87e673cf-6587-4871-a13b-47126a863a99",
   "metadata": {},
   "outputs": [
    {
     "data": {
      "text/plain": [
       "(70, 80]     13590\n",
       "(60, 70]     13546\n",
       "(50, 60]     12473\n",
       "(80, 90]     12044\n",
       "(40, 50]      9618\n",
       "(30, 40]      8198\n",
       "(20, 30]      6579\n",
       "(10, 20]      5964\n",
       "(90, 100]     3586\n",
       "(0, 10]       1875\n",
       "Name: Humidity(%), dtype: int64"
      ]
     },
     "execution_count": 42,
     "metadata": {},
     "output_type": "execute_result"
    }
   ],
   "source": [
    "pd.value_counts(df_Humidity)"
   ]
  },
  {
   "cell_type": "code",
   "execution_count": 43,
   "id": "e3190065-9311-453a-b77e-b6254431b2d9",
   "metadata": {},
   "outputs": [],
   "source": [
    "df_Humidity_scope = pd.value_counts(df_Humidity, normalize=True).round(2) * 100"
   ]
  },
  {
   "cell_type": "code",
   "execution_count": 44,
   "id": "d46e0cf3-a157-4332-b62c-0a45756ea33e",
   "metadata": {},
   "outputs": [
    {
     "data": {
      "text/plain": [
       "(70, 80]     16.0\n",
       "(60, 70]     15.0\n",
       "(50, 60]     14.0\n",
       "(80, 90]     14.0\n",
       "(40, 50]     11.0\n",
       "(30, 40]      9.0\n",
       "(20, 30]      8.0\n",
       "(10, 20]      7.0\n",
       "(90, 100]     4.0\n",
       "(0, 10]       2.0\n",
       "Name: Humidity(%), dtype: float64"
      ]
     },
     "execution_count": 44,
     "metadata": {},
     "output_type": "execute_result"
    }
   ],
   "source": [
    "df_Humidity_scope"
   ]
  },
  {
   "cell_type": "code",
   "execution_count": 45,
   "id": "8ba463ca-0376-402d-9bed-fa4f060c6dea",
   "metadata": {},
   "outputs": [
    {
     "data": {
      "text/html": [
       "<div>\n",
       "<style scoped>\n",
       "    .dataframe tbody tr th:only-of-type {\n",
       "        vertical-align: middle;\n",
       "    }\n",
       "\n",
       "    .dataframe tbody tr th {\n",
       "        vertical-align: top;\n",
       "    }\n",
       "\n",
       "    .dataframe thead th {\n",
       "        text-align: right;\n",
       "    }\n",
       "</style>\n",
       "<table border=\"1\" class=\"dataframe\">\n",
       "  <thead>\n",
       "    <tr style=\"text-align: right;\">\n",
       "      <th></th>\n",
       "      <th>Humidity_scope</th>\n",
       "      <th>Cases%</th>\n",
       "    </tr>\n",
       "  </thead>\n",
       "  <tbody>\n",
       "    <tr>\n",
       "      <th>9</th>\n",
       "      <td>(0, 10]</td>\n",
       "      <td>2.0</td>\n",
       "    </tr>\n",
       "    <tr>\n",
       "      <th>7</th>\n",
       "      <td>(10, 20]</td>\n",
       "      <td>7.0</td>\n",
       "    </tr>\n",
       "    <tr>\n",
       "      <th>6</th>\n",
       "      <td>(20, 30]</td>\n",
       "      <td>8.0</td>\n",
       "    </tr>\n",
       "    <tr>\n",
       "      <th>5</th>\n",
       "      <td>(30, 40]</td>\n",
       "      <td>9.0</td>\n",
       "    </tr>\n",
       "    <tr>\n",
       "      <th>4</th>\n",
       "      <td>(40, 50]</td>\n",
       "      <td>11.0</td>\n",
       "    </tr>\n",
       "    <tr>\n",
       "      <th>2</th>\n",
       "      <td>(50, 60]</td>\n",
       "      <td>14.0</td>\n",
       "    </tr>\n",
       "    <tr>\n",
       "      <th>1</th>\n",
       "      <td>(60, 70]</td>\n",
       "      <td>15.0</td>\n",
       "    </tr>\n",
       "    <tr>\n",
       "      <th>0</th>\n",
       "      <td>(70, 80]</td>\n",
       "      <td>16.0</td>\n",
       "    </tr>\n",
       "    <tr>\n",
       "      <th>3</th>\n",
       "      <td>(80, 90]</td>\n",
       "      <td>14.0</td>\n",
       "    </tr>\n",
       "    <tr>\n",
       "      <th>8</th>\n",
       "      <td>(90, 100]</td>\n",
       "      <td>4.0</td>\n",
       "    </tr>\n",
       "  </tbody>\n",
       "</table>\n",
       "</div>"
      ],
      "text/plain": [
       "  Humidity_scope  Cases%\n",
       "9        (0, 10]     2.0\n",
       "7       (10, 20]     7.0\n",
       "6       (20, 30]     8.0\n",
       "5       (30, 40]     9.0\n",
       "4       (40, 50]    11.0\n",
       "2       (50, 60]    14.0\n",
       "1       (60, 70]    15.0\n",
       "0       (70, 80]    16.0\n",
       "3       (80, 90]    14.0\n",
       "8      (90, 100]     4.0"
      ]
     },
     "execution_count": 45,
     "metadata": {},
     "output_type": "execute_result"
    }
   ],
   "source": [
    "df_Humidity_scope.reset_index().rename(columns={'index':'Humidity_scope', 'Humidity(%)':'Cases%'}).sort_values(by=['Humidity_scope'])"
   ]
  },
  {
   "cell_type": "markdown",
   "id": "ef4c41d0-274c-4ed1-b8a3-28e7164d5b56",
   "metadata": {},
   "source": [
    "在不同能见度下发生车祸的几率"
   ]
  },
  {
   "cell_type": "code",
   "execution_count": 46,
   "id": "725983c0-cae0-42a1-b4e1-b9d7b0309118",
   "metadata": {},
   "outputs": [
    {
     "data": {
      "text/plain": [
       "0        10.0\n",
       "1        10.0\n",
       "2        10.0\n",
       "3        10.0\n",
       "4        10.0\n",
       "         ... \n",
       "90715    10.0\n",
       "90716    10.0\n",
       "90717    10.0\n",
       "90718    10.0\n",
       "90719    10.0\n",
       "Name: Visibility(mi), Length: 87583, dtype: float64"
      ]
     },
     "execution_count": 46,
     "metadata": {},
     "output_type": "execute_result"
    }
   ],
   "source": [
    "df[\"Visibility(mi)\"].dropna(how='any')\n",
    "\n",
    "# cleaning the null data in \"Humidity(%)\""
   ]
  },
  {
   "cell_type": "code",
   "execution_count": 47,
   "id": "031a75f8-024c-4586-9734-5d078f9f67e1",
   "metadata": {},
   "outputs": [
    {
     "data": {
      "text/html": [
       "<div>\n",
       "<style scoped>\n",
       "    .dataframe tbody tr th:only-of-type {\n",
       "        vertical-align: middle;\n",
       "    }\n",
       "\n",
       "    .dataframe tbody tr th {\n",
       "        vertical-align: top;\n",
       "    }\n",
       "\n",
       "    .dataframe thead th {\n",
       "        text-align: right;\n",
       "    }\n",
       "</style>\n",
       "<table border=\"1\" class=\"dataframe\">\n",
       "  <thead>\n",
       "    <tr style=\"text-align: right;\">\n",
       "      <th></th>\n",
       "      <th>index</th>\n",
       "      <th>Visibility(mi)</th>\n",
       "    </tr>\n",
       "  </thead>\n",
       "  <tbody>\n",
       "    <tr>\n",
       "      <th>0</th>\n",
       "      <td>min</td>\n",
       "      <td>0.0</td>\n",
       "    </tr>\n",
       "    <tr>\n",
       "      <th>1</th>\n",
       "      <td>max</td>\n",
       "      <td>25.0</td>\n",
       "    </tr>\n",
       "    <tr>\n",
       "      <th>2</th>\n",
       "      <td>median</td>\n",
       "      <td>10.0</td>\n",
       "    </tr>\n",
       "    <tr>\n",
       "      <th>3</th>\n",
       "      <td>mean</td>\n",
       "      <td>9.0</td>\n",
       "    </tr>\n",
       "  </tbody>\n",
       "</table>\n",
       "</div>"
      ],
      "text/plain": [
       "    index  Visibility(mi)\n",
       "0     min             0.0\n",
       "1     max            25.0\n",
       "2  median            10.0\n",
       "3    mean             9.0"
      ]
     },
     "execution_count": 47,
     "metadata": {},
     "output_type": "execute_result"
    }
   ],
   "source": [
    "df[\"Visibility(mi)\"].agg(['min', 'max', 'median', 'mean']).round(2).reset_index()"
   ]
  },
  {
   "cell_type": "code",
   "execution_count": 48,
   "id": "32169fd4-16cc-4bd9-af91-76439a5ab0e2",
   "metadata": {},
   "outputs": [],
   "source": [
    "bins = [0,1,2,3,4,5,6,7,8,9,10,25]"
   ]
  },
  {
   "cell_type": "code",
   "execution_count": 49,
   "id": "c0f520a8-27fc-4b57-81cf-e56f512a092c",
   "metadata": {},
   "outputs": [],
   "source": [
    "df_Visibility = pd.cut(df[\"Visibility(mi)\"], bins)"
   ]
  },
  {
   "cell_type": "code",
   "execution_count": 50,
   "id": "f7bac32e-5581-40bc-8902-4c997daf9d97",
   "metadata": {},
   "outputs": [
    {
     "data": {
      "text/plain": [
       "(9, 10]     67014\n",
       "(8, 9]       3366\n",
       "(6, 7]       3285\n",
       "(7, 8]       2949\n",
       "(5, 6]       2336\n",
       "(4, 5]       2211\n",
       "(3, 4]       1809\n",
       "(1, 2]       1713\n",
       "(2, 3]       1610\n",
       "(0, 1]       1248\n",
       "(10, 25]       13\n",
       "Name: Visibility(mi), dtype: int64"
      ]
     },
     "execution_count": 50,
     "metadata": {},
     "output_type": "execute_result"
    }
   ],
   "source": [
    "pd.value_counts(df_Visibility)"
   ]
  },
  {
   "cell_type": "code",
   "execution_count": 51,
   "id": "940e86c4-ac20-4cb1-8132-e4211cc639d1",
   "metadata": {},
   "outputs": [],
   "source": [
    "df_Visibility_scope = pd.value_counts(df_Visibility, normalize=True).round(4) * 100"
   ]
  },
  {
   "cell_type": "code",
   "execution_count": 52,
   "id": "df2a2416-3eb5-4c87-b9af-c30b5637448a",
   "metadata": {},
   "outputs": [
    {
     "data": {
      "text/html": [
       "<div>\n",
       "<style scoped>\n",
       "    .dataframe tbody tr th:only-of-type {\n",
       "        vertical-align: middle;\n",
       "    }\n",
       "\n",
       "    .dataframe tbody tr th {\n",
       "        vertical-align: top;\n",
       "    }\n",
       "\n",
       "    .dataframe thead th {\n",
       "        text-align: right;\n",
       "    }\n",
       "</style>\n",
       "<table border=\"1\" class=\"dataframe\">\n",
       "  <thead>\n",
       "    <tr style=\"text-align: right;\">\n",
       "      <th></th>\n",
       "      <th>Visibility_scope</th>\n",
       "      <th>Cases%</th>\n",
       "    </tr>\n",
       "  </thead>\n",
       "  <tbody>\n",
       "    <tr>\n",
       "      <th>9</th>\n",
       "      <td>(0, 1]</td>\n",
       "      <td>1.43</td>\n",
       "    </tr>\n",
       "    <tr>\n",
       "      <th>7</th>\n",
       "      <td>(1, 2]</td>\n",
       "      <td>1.96</td>\n",
       "    </tr>\n",
       "    <tr>\n",
       "      <th>8</th>\n",
       "      <td>(2, 3]</td>\n",
       "      <td>1.84</td>\n",
       "    </tr>\n",
       "    <tr>\n",
       "      <th>6</th>\n",
       "      <td>(3, 4]</td>\n",
       "      <td>2.07</td>\n",
       "    </tr>\n",
       "    <tr>\n",
       "      <th>5</th>\n",
       "      <td>(4, 5]</td>\n",
       "      <td>2.53</td>\n",
       "    </tr>\n",
       "    <tr>\n",
       "      <th>4</th>\n",
       "      <td>(5, 6]</td>\n",
       "      <td>2.67</td>\n",
       "    </tr>\n",
       "    <tr>\n",
       "      <th>2</th>\n",
       "      <td>(6, 7]</td>\n",
       "      <td>3.75</td>\n",
       "    </tr>\n",
       "    <tr>\n",
       "      <th>3</th>\n",
       "      <td>(7, 8]</td>\n",
       "      <td>3.37</td>\n",
       "    </tr>\n",
       "    <tr>\n",
       "      <th>1</th>\n",
       "      <td>(8, 9]</td>\n",
       "      <td>3.84</td>\n",
       "    </tr>\n",
       "    <tr>\n",
       "      <th>0</th>\n",
       "      <td>(9, 10]</td>\n",
       "      <td>76.54</td>\n",
       "    </tr>\n",
       "    <tr>\n",
       "      <th>10</th>\n",
       "      <td>(10, 25]</td>\n",
       "      <td>0.01</td>\n",
       "    </tr>\n",
       "  </tbody>\n",
       "</table>\n",
       "</div>"
      ],
      "text/plain": [
       "   Visibility_scope  Cases%\n",
       "9            (0, 1]    1.43\n",
       "7            (1, 2]    1.96\n",
       "8            (2, 3]    1.84\n",
       "6            (3, 4]    2.07\n",
       "5            (4, 5]    2.53\n",
       "4            (5, 6]    2.67\n",
       "2            (6, 7]    3.75\n",
       "3            (7, 8]    3.37\n",
       "1            (8, 9]    3.84\n",
       "0           (9, 10]   76.54\n",
       "10         (10, 25]    0.01"
      ]
     },
     "execution_count": 52,
     "metadata": {},
     "output_type": "execute_result"
    }
   ],
   "source": [
    "df_Visibility_scope.reset_index().rename(columns={'index':'Visibility_scope', 'Visibility(mi)':'Cases%'}).sort_values(by=['Visibility_scope'])"
   ]
  }
 ],
 "metadata": {
  "kernelspec": {
   "display_name": "Python 3 (ipykernel)",
   "language": "python",
   "name": "python3"
  },
  "language_info": {
   "codemirror_mode": {
    "name": "ipython",
    "version": 3
   },
   "file_extension": ".py",
   "mimetype": "text/x-python",
   "name": "python",
   "nbconvert_exporter": "python",
   "pygments_lexer": "ipython3",
   "version": "3.9.7"
  }
 },
 "nbformat": 4,
 "nbformat_minor": 5
}
