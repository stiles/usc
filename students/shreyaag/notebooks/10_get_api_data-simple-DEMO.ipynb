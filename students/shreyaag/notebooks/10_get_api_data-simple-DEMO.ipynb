{
 "cells": [
  {
   "cell_type": "markdown",
   "id": "de872774-504e-4e20-8ba5-8ab6691ebb3d",
   "metadata": {},
   "source": [
    "# Accessing data from an API"
   ]
  },
  {
   "cell_type": "markdown",
   "id": "2c84208b-1af7-49c4-9258-4ee2919f6900",
   "metadata": {},
   "source": [
    "This notebook has two simple excerises demonstrating how to extract data from an [Application Programming Interface](https://en.wikipedia.org/wiki/API). An API is a tool for computers or applications to interact with one another. In our case, we'll be asking for data, and the API will return it. These systems can be complicated, but most of those we might use in data journalism are relatively simple."
   ]
  },
  {
   "cell_type": "markdown",
   "id": "92e7b332-c581-4d4b-82f8-06aab829f80e",
   "metadata": {},
   "source": [
    "#### Import our data tools"
   ]
  },
  {
   "cell_type": "code",
   "execution_count": 63,
   "id": "e0719e5b-a9f3-46cf-a9fe-cc265c2c37a3",
   "metadata": {},
   "outputs": [
    {
     "name": "stdout",
     "output_type": "stream",
     "text": [
      "The lab_black extension is already loaded. To reload it, use:\n",
      "  %reload_ext lab_black\n"
     ]
    }
   ],
   "source": [
    "%load_ext lab_black"
   ]
  },
  {
   "cell_type": "code",
   "execution_count": 64,
   "id": "54f28d60-f846-46c3-8c56-659a92e5806b",
   "metadata": {},
   "outputs": [],
   "source": [
    "import pandas as pd\n",
    "import requests"
   ]
  },
  {
   "cell_type": "code",
   "execution_count": 65,
   "id": "a61bdfc1-28d4-43e3-b11e-67fd894676b7",
   "metadata": {},
   "outputs": [],
   "source": [
    "pd.options.display.max_columns = 100\n",
    "pd.options.display.max_rows = 1000\n",
    "pd.options.display.max_colwidth = None"
   ]
  },
  {
   "cell_type": "markdown",
   "id": "58da4e76-be26-4247-8e82-385493b522eb",
   "metadata": {},
   "source": [
    "---"
   ]
  },
  {
   "cell_type": "markdown",
   "id": "0291ae2b-2543-48e3-843a-78cad1d3d3ce",
   "metadata": {},
   "source": [
    "## Cat facts!"
   ]
  },
  {
   "cell_type": "markdown",
   "id": "e0cd737e-d6b2-4621-bdef-b9f73c76cf2b",
   "metadata": {},
   "source": [
    "[Read the documentation](https://alexwohlbruck.github.io/cat-facts/docs/)"
   ]
  },
  {
   "cell_type": "markdown",
   "id": "6c247eb5-0900-496d-a70b-ae3fba351b21",
   "metadata": {},
   "source": [
    "#### Get random facts"
   ]
  },
  {
   "cell_type": "code",
   "execution_count": 66,
   "id": "34a6c553-5231-499b-8429-f7a507991443",
   "metadata": {},
   "outputs": [],
   "source": [
    "cat_df = pd.read_json(\n",
    "    \"https://cat-fact.herokuapp.com/facts/random?animal_type=cat&amount=500\"\n",
    ")"
   ]
  },
  {
   "cell_type": "markdown",
   "id": "1b799caa-637a-4011-9e18-c95d1f54f306",
   "metadata": {},
   "source": [
    "#### First five rows"
   ]
  },
  {
   "cell_type": "code",
   "execution_count": 67,
   "id": "63b91c0a-fa1e-42cf-934d-b7678842203f",
   "metadata": {},
   "outputs": [
    {
     "data": {
      "text/html": [
       "<div>\n",
       "<style scoped>\n",
       "    .dataframe tbody tr th:only-of-type {\n",
       "        vertical-align: middle;\n",
       "    }\n",
       "\n",
       "    .dataframe tbody tr th {\n",
       "        vertical-align: top;\n",
       "    }\n",
       "\n",
       "    .dataframe thead th {\n",
       "        text-align: right;\n",
       "    }\n",
       "</style>\n",
       "<table border=\"1\" class=\"dataframe\">\n",
       "  <thead>\n",
       "    <tr style=\"text-align: right;\">\n",
       "      <th></th>\n",
       "      <th>status</th>\n",
       "      <th>_id</th>\n",
       "      <th>user</th>\n",
       "      <th>text</th>\n",
       "      <th>type</th>\n",
       "      <th>deleted</th>\n",
       "      <th>createdAt</th>\n",
       "      <th>updatedAt</th>\n",
       "      <th>__v</th>\n",
       "      <th>source</th>\n",
       "      <th>used</th>\n",
       "    </tr>\n",
       "  </thead>\n",
       "  <tbody>\n",
       "    <tr>\n",
       "      <th>0</th>\n",
       "      <td>{'verified': None, 'sentCount': 0}</td>\n",
       "      <td>61d99d283c4466aa794b0d28</td>\n",
       "      <td>61d330ae403b4002d37918f1</td>\n",
       "      <td>My new new fact.</td>\n",
       "      <td>cat</td>\n",
       "      <td>False</td>\n",
       "      <td>2022-01-08T14:18:16.821Z</td>\n",
       "      <td>2022-01-08T14:18:16.821Z</td>\n",
       "      <td>0.0</td>\n",
       "      <td>NaN</td>\n",
       "      <td>NaN</td>\n",
       "    </tr>\n",
       "    <tr>\n",
       "      <th>1</th>\n",
       "      <td>{'verified': True, 'sentCount': 1}</td>\n",
       "      <td>5b1b4055841d9700146158d3</td>\n",
       "      <td>5a9ac18c7478810ea6c06381</td>\n",
       "      <td>Scottish sailer Alexander Selkirk once survived for 4 years on a deserted island thanks to feral cats that protected him from large rats during the night.</td>\n",
       "      <td>cat</td>\n",
       "      <td>False</td>\n",
       "      <td>2018-07-02T20:20:03.046Z</td>\n",
       "      <td>2020-08-23T20:20:01.611Z</td>\n",
       "      <td>0.0</td>\n",
       "      <td>user</td>\n",
       "      <td>0.0</td>\n",
       "    </tr>\n",
       "    <tr>\n",
       "      <th>2</th>\n",
       "      <td>{'verified': True, 'sentCount': 1}</td>\n",
       "      <td>5a456246255f4b0021f54c04</td>\n",
       "      <td>5a9ac18c7478810ea6c06381</td>\n",
       "      <td>A cat can die from essential oils</td>\n",
       "      <td>cat</td>\n",
       "      <td>False</td>\n",
       "      <td>2018-01-25T21:20:05.232Z</td>\n",
       "      <td>2020-08-23T20:20:01.611Z</td>\n",
       "      <td>0.0</td>\n",
       "      <td>user</td>\n",
       "      <td>0.0</td>\n",
       "    </tr>\n",
       "    <tr>\n",
       "      <th>3</th>\n",
       "      <td>{'verified': None, 'sentCount': 0}</td>\n",
       "      <td>6161eac7b5401f0017b61bff</td>\n",
       "      <td>6161eaa6b5401f0017b61bf8</td>\n",
       "      <td>Meow goes Meow after Meow goes Meow.</td>\n",
       "      <td>cat</td>\n",
       "      <td>False</td>\n",
       "      <td>2021-10-09T19:17:27.624Z</td>\n",
       "      <td>2021-10-09T19:17:27.624Z</td>\n",
       "      <td>0.0</td>\n",
       "      <td>NaN</td>\n",
       "      <td>NaN</td>\n",
       "    </tr>\n",
       "    <tr>\n",
       "      <th>4</th>\n",
       "      <td>{'verified': None, 'sentCount': 0}</td>\n",
       "      <td>61faa1ee30eb726f3dda1672</td>\n",
       "      <td>61faa14730eb726f3dda1602</td>\n",
       "      <td>Dsac.</td>\n",
       "      <td>cat</td>\n",
       "      <td>False</td>\n",
       "      <td>2022-02-02T15:23:26.757Z</td>\n",
       "      <td>2022-02-02T15:23:26.757Z</td>\n",
       "      <td>0.0</td>\n",
       "      <td>NaN</td>\n",
       "      <td>NaN</td>\n",
       "    </tr>\n",
       "  </tbody>\n",
       "</table>\n",
       "</div>"
      ],
      "text/plain": [
       "                               status                       _id  \\\n",
       "0  {'verified': None, 'sentCount': 0}  61d99d283c4466aa794b0d28   \n",
       "1  {'verified': True, 'sentCount': 1}  5b1b4055841d9700146158d3   \n",
       "2  {'verified': True, 'sentCount': 1}  5a456246255f4b0021f54c04   \n",
       "3  {'verified': None, 'sentCount': 0}  6161eac7b5401f0017b61bff   \n",
       "4  {'verified': None, 'sentCount': 0}  61faa1ee30eb726f3dda1672   \n",
       "\n",
       "                       user  \\\n",
       "0  61d330ae403b4002d37918f1   \n",
       "1  5a9ac18c7478810ea6c06381   \n",
       "2  5a9ac18c7478810ea6c06381   \n",
       "3  6161eaa6b5401f0017b61bf8   \n",
       "4  61faa14730eb726f3dda1602   \n",
       "\n",
       "                                                                                                                                                         text  \\\n",
       "0                                                                                                                                            My new new fact.   \n",
       "1  Scottish sailer Alexander Selkirk once survived for 4 years on a deserted island thanks to feral cats that protected him from large rats during the night.   \n",
       "2                                                                                                                           A cat can die from essential oils   \n",
       "3                                                                                                                        Meow goes Meow after Meow goes Meow.   \n",
       "4                                                                                                                                                       Dsac.   \n",
       "\n",
       "  type  deleted                 createdAt                 updatedAt  __v  \\\n",
       "0  cat    False  2022-01-08T14:18:16.821Z  2022-01-08T14:18:16.821Z  0.0   \n",
       "1  cat    False  2018-07-02T20:20:03.046Z  2020-08-23T20:20:01.611Z  0.0   \n",
       "2  cat    False  2018-01-25T21:20:05.232Z  2020-08-23T20:20:01.611Z  0.0   \n",
       "3  cat    False  2021-10-09T19:17:27.624Z  2021-10-09T19:17:27.624Z  0.0   \n",
       "4  cat    False  2022-02-02T15:23:26.757Z  2022-02-02T15:23:26.757Z  0.0   \n",
       "\n",
       "  source  used  \n",
       "0    NaN   NaN  \n",
       "1   user   0.0  \n",
       "2   user   0.0  \n",
       "3    NaN   NaN  \n",
       "4    NaN   NaN  "
      ]
     },
     "execution_count": 67,
     "metadata": {},
     "output_type": "execute_result"
    }
   ],
   "source": [
    "cat_df.head()"
   ]
  },
  {
   "cell_type": "markdown",
   "id": "93e8eec5-3aa1-4527-9f5d-e5256b2f7cf5",
   "metadata": {},
   "source": [
    "#### How many records? "
   ]
  },
  {
   "cell_type": "code",
   "execution_count": 68,
   "id": "17ee5f8a-eebd-40e8-b624-33a8ff3bd791",
   "metadata": {},
   "outputs": [
    {
     "data": {
      "text/plain": [
       "500"
      ]
     },
     "execution_count": 68,
     "metadata": {},
     "output_type": "execute_result"
    }
   ],
   "source": [
    "len(cat_df)"
   ]
  },
  {
   "cell_type": "markdown",
   "id": "ba113498-d591-40b3-8195-2f04c5bc858f",
   "metadata": {},
   "source": [
    "#### What's the first fact?"
   ]
  },
  {
   "cell_type": "code",
   "execution_count": 69,
   "id": "70ede381-0322-40a2-896c-fa370a3859f6",
   "metadata": {},
   "outputs": [
    {
     "data": {
      "text/plain": [
       "'My new new fact.'"
      ]
     },
     "execution_count": 69,
     "metadata": {},
     "output_type": "execute_result"
    }
   ],
   "source": [
    "cat_df[\"text\"][0]"
   ]
  },
  {
   "cell_type": "code",
   "execution_count": null,
   "id": "3d14ec3a-10c9-4751-9bd9-da6b5d3a8823",
   "metadata": {},
   "outputs": [],
   "source": []
  },
  {
   "cell_type": "markdown",
   "id": "b5aec3ef-5f25-445e-9e4c-7100f9b2ce24",
   "metadata": {},
   "source": [
    "#### Extract the nested json inside the `status` column"
   ]
  },
  {
   "cell_type": "code",
   "execution_count": 70,
   "id": "d9e75fc6-67ad-49fd-964b-04743131047e",
   "metadata": {},
   "outputs": [],
   "source": [
    "cat_df[[\"verified\", \"sentCount\"]] = pd.json_normalize(cat_df[\"status\"])"
   ]
  },
  {
   "cell_type": "code",
   "execution_count": 71,
   "id": "1fc9d246-48c8-49fd-9f7b-38ebab8808c5",
   "metadata": {},
   "outputs": [
    {
     "data": {
      "text/html": [
       "<div>\n",
       "<style scoped>\n",
       "    .dataframe tbody tr th:only-of-type {\n",
       "        vertical-align: middle;\n",
       "    }\n",
       "\n",
       "    .dataframe tbody tr th {\n",
       "        vertical-align: top;\n",
       "    }\n",
       "\n",
       "    .dataframe thead th {\n",
       "        text-align: right;\n",
       "    }\n",
       "</style>\n",
       "<table border=\"1\" class=\"dataframe\">\n",
       "  <thead>\n",
       "    <tr style=\"text-align: right;\">\n",
       "      <th></th>\n",
       "      <th>status</th>\n",
       "      <th>_id</th>\n",
       "      <th>user</th>\n",
       "      <th>text</th>\n",
       "      <th>type</th>\n",
       "      <th>deleted</th>\n",
       "      <th>createdAt</th>\n",
       "      <th>updatedAt</th>\n",
       "      <th>__v</th>\n",
       "      <th>source</th>\n",
       "      <th>used</th>\n",
       "      <th>verified</th>\n",
       "      <th>sentCount</th>\n",
       "    </tr>\n",
       "  </thead>\n",
       "  <tbody>\n",
       "    <tr>\n",
       "      <th>0</th>\n",
       "      <td>{'verified': None, 'sentCount': 0}</td>\n",
       "      <td>61d99d283c4466aa794b0d28</td>\n",
       "      <td>61d330ae403b4002d37918f1</td>\n",
       "      <td>My new new fact.</td>\n",
       "      <td>cat</td>\n",
       "      <td>False</td>\n",
       "      <td>2022-01-08T14:18:16.821Z</td>\n",
       "      <td>2022-01-08T14:18:16.821Z</td>\n",
       "      <td>0.0</td>\n",
       "      <td>NaN</td>\n",
       "      <td>NaN</td>\n",
       "      <td>None</td>\n",
       "      <td>0</td>\n",
       "    </tr>\n",
       "    <tr>\n",
       "      <th>1</th>\n",
       "      <td>{'verified': True, 'sentCount': 1}</td>\n",
       "      <td>5b1b4055841d9700146158d3</td>\n",
       "      <td>5a9ac18c7478810ea6c06381</td>\n",
       "      <td>Scottish sailer Alexander Selkirk once survived for 4 years on a deserted island thanks to feral cats that protected him from large rats during the night.</td>\n",
       "      <td>cat</td>\n",
       "      <td>False</td>\n",
       "      <td>2018-07-02T20:20:03.046Z</td>\n",
       "      <td>2020-08-23T20:20:01.611Z</td>\n",
       "      <td>0.0</td>\n",
       "      <td>user</td>\n",
       "      <td>0.0</td>\n",
       "      <td>True</td>\n",
       "      <td>1</td>\n",
       "    </tr>\n",
       "    <tr>\n",
       "      <th>2</th>\n",
       "      <td>{'verified': True, 'sentCount': 1}</td>\n",
       "      <td>5a456246255f4b0021f54c04</td>\n",
       "      <td>5a9ac18c7478810ea6c06381</td>\n",
       "      <td>A cat can die from essential oils</td>\n",
       "      <td>cat</td>\n",
       "      <td>False</td>\n",
       "      <td>2018-01-25T21:20:05.232Z</td>\n",
       "      <td>2020-08-23T20:20:01.611Z</td>\n",
       "      <td>0.0</td>\n",
       "      <td>user</td>\n",
       "      <td>0.0</td>\n",
       "      <td>True</td>\n",
       "      <td>1</td>\n",
       "    </tr>\n",
       "    <tr>\n",
       "      <th>3</th>\n",
       "      <td>{'verified': None, 'sentCount': 0}</td>\n",
       "      <td>6161eac7b5401f0017b61bff</td>\n",
       "      <td>6161eaa6b5401f0017b61bf8</td>\n",
       "      <td>Meow goes Meow after Meow goes Meow.</td>\n",
       "      <td>cat</td>\n",
       "      <td>False</td>\n",
       "      <td>2021-10-09T19:17:27.624Z</td>\n",
       "      <td>2021-10-09T19:17:27.624Z</td>\n",
       "      <td>0.0</td>\n",
       "      <td>NaN</td>\n",
       "      <td>NaN</td>\n",
       "      <td>None</td>\n",
       "      <td>0</td>\n",
       "    </tr>\n",
       "    <tr>\n",
       "      <th>4</th>\n",
       "      <td>{'verified': None, 'sentCount': 0}</td>\n",
       "      <td>61faa1ee30eb726f3dda1672</td>\n",
       "      <td>61faa14730eb726f3dda1602</td>\n",
       "      <td>Dsac.</td>\n",
       "      <td>cat</td>\n",
       "      <td>False</td>\n",
       "      <td>2022-02-02T15:23:26.757Z</td>\n",
       "      <td>2022-02-02T15:23:26.757Z</td>\n",
       "      <td>0.0</td>\n",
       "      <td>NaN</td>\n",
       "      <td>NaN</td>\n",
       "      <td>None</td>\n",
       "      <td>0</td>\n",
       "    </tr>\n",
       "  </tbody>\n",
       "</table>\n",
       "</div>"
      ],
      "text/plain": [
       "                               status                       _id  \\\n",
       "0  {'verified': None, 'sentCount': 0}  61d99d283c4466aa794b0d28   \n",
       "1  {'verified': True, 'sentCount': 1}  5b1b4055841d9700146158d3   \n",
       "2  {'verified': True, 'sentCount': 1}  5a456246255f4b0021f54c04   \n",
       "3  {'verified': None, 'sentCount': 0}  6161eac7b5401f0017b61bff   \n",
       "4  {'verified': None, 'sentCount': 0}  61faa1ee30eb726f3dda1672   \n",
       "\n",
       "                       user  \\\n",
       "0  61d330ae403b4002d37918f1   \n",
       "1  5a9ac18c7478810ea6c06381   \n",
       "2  5a9ac18c7478810ea6c06381   \n",
       "3  6161eaa6b5401f0017b61bf8   \n",
       "4  61faa14730eb726f3dda1602   \n",
       "\n",
       "                                                                                                                                                         text  \\\n",
       "0                                                                                                                                            My new new fact.   \n",
       "1  Scottish sailer Alexander Selkirk once survived for 4 years on a deserted island thanks to feral cats that protected him from large rats during the night.   \n",
       "2                                                                                                                           A cat can die from essential oils   \n",
       "3                                                                                                                        Meow goes Meow after Meow goes Meow.   \n",
       "4                                                                                                                                                       Dsac.   \n",
       "\n",
       "  type  deleted                 createdAt                 updatedAt  __v  \\\n",
       "0  cat    False  2022-01-08T14:18:16.821Z  2022-01-08T14:18:16.821Z  0.0   \n",
       "1  cat    False  2018-07-02T20:20:03.046Z  2020-08-23T20:20:01.611Z  0.0   \n",
       "2  cat    False  2018-01-25T21:20:05.232Z  2020-08-23T20:20:01.611Z  0.0   \n",
       "3  cat    False  2021-10-09T19:17:27.624Z  2021-10-09T19:17:27.624Z  0.0   \n",
       "4  cat    False  2022-02-02T15:23:26.757Z  2022-02-02T15:23:26.757Z  0.0   \n",
       "\n",
       "  source  used verified  sentCount  \n",
       "0    NaN   NaN     None          0  \n",
       "1   user   0.0     True          1  \n",
       "2   user   0.0     True          1  \n",
       "3    NaN   NaN     None          0  \n",
       "4    NaN   NaN     None          0  "
      ]
     },
     "execution_count": 71,
     "metadata": {},
     "output_type": "execute_result"
    }
   ],
   "source": [
    "cat_df.head()"
   ]
  },
  {
   "cell_type": "markdown",
   "id": "062a20c8-c39f-465d-89ff-c9e3c86c846f",
   "metadata": {},
   "source": [
    "#### Slim the dataframe"
   ]
  },
  {
   "cell_type": "code",
   "execution_count": 72,
   "id": "77bd77e6-d73c-4fb9-9c80-36c5c3ef68d6",
   "metadata": {},
   "outputs": [],
   "source": [
    "cat_df_slim = cat_df[[\"_id\", \"text\", \"createdAt\", \"verified\"]].copy()"
   ]
  },
  {
   "cell_type": "code",
   "execution_count": 73,
   "id": "ab285468-7a2e-4524-8058-29ddb0db4a2f",
   "metadata": {},
   "outputs": [
    {
     "data": {
      "text/html": [
       "<div>\n",
       "<style scoped>\n",
       "    .dataframe tbody tr th:only-of-type {\n",
       "        vertical-align: middle;\n",
       "    }\n",
       "\n",
       "    .dataframe tbody tr th {\n",
       "        vertical-align: top;\n",
       "    }\n",
       "\n",
       "    .dataframe thead th {\n",
       "        text-align: right;\n",
       "    }\n",
       "</style>\n",
       "<table border=\"1\" class=\"dataframe\">\n",
       "  <thead>\n",
       "    <tr style=\"text-align: right;\">\n",
       "      <th></th>\n",
       "      <th>_id</th>\n",
       "      <th>text</th>\n",
       "      <th>createdAt</th>\n",
       "      <th>verified</th>\n",
       "    </tr>\n",
       "  </thead>\n",
       "  <tbody>\n",
       "    <tr>\n",
       "      <th>0</th>\n",
       "      <td>61d99d283c4466aa794b0d28</td>\n",
       "      <td>My new new fact.</td>\n",
       "      <td>2022-01-08T14:18:16.821Z</td>\n",
       "      <td>None</td>\n",
       "    </tr>\n",
       "    <tr>\n",
       "      <th>1</th>\n",
       "      <td>5b1b4055841d9700146158d3</td>\n",
       "      <td>Scottish sailer Alexander Selkirk once survived for 4 years on a deserted island thanks to feral cats that protected him from large rats during the night.</td>\n",
       "      <td>2018-07-02T20:20:03.046Z</td>\n",
       "      <td>True</td>\n",
       "    </tr>\n",
       "    <tr>\n",
       "      <th>2</th>\n",
       "      <td>5a456246255f4b0021f54c04</td>\n",
       "      <td>A cat can die from essential oils</td>\n",
       "      <td>2018-01-25T21:20:05.232Z</td>\n",
       "      <td>True</td>\n",
       "    </tr>\n",
       "    <tr>\n",
       "      <th>3</th>\n",
       "      <td>6161eac7b5401f0017b61bff</td>\n",
       "      <td>Meow goes Meow after Meow goes Meow.</td>\n",
       "      <td>2021-10-09T19:17:27.624Z</td>\n",
       "      <td>None</td>\n",
       "    </tr>\n",
       "    <tr>\n",
       "      <th>4</th>\n",
       "      <td>61faa1ee30eb726f3dda1672</td>\n",
       "      <td>Dsac.</td>\n",
       "      <td>2022-02-02T15:23:26.757Z</td>\n",
       "      <td>None</td>\n",
       "    </tr>\n",
       "  </tbody>\n",
       "</table>\n",
       "</div>"
      ],
      "text/plain": [
       "                        _id  \\\n",
       "0  61d99d283c4466aa794b0d28   \n",
       "1  5b1b4055841d9700146158d3   \n",
       "2  5a456246255f4b0021f54c04   \n",
       "3  6161eac7b5401f0017b61bff   \n",
       "4  61faa1ee30eb726f3dda1672   \n",
       "\n",
       "                                                                                                                                                         text  \\\n",
       "0                                                                                                                                            My new new fact.   \n",
       "1  Scottish sailer Alexander Selkirk once survived for 4 years on a deserted island thanks to feral cats that protected him from large rats during the night.   \n",
       "2                                                                                                                           A cat can die from essential oils   \n",
       "3                                                                                                                        Meow goes Meow after Meow goes Meow.   \n",
       "4                                                                                                                                                       Dsac.   \n",
       "\n",
       "                  createdAt verified  \n",
       "0  2022-01-08T14:18:16.821Z     None  \n",
       "1  2018-07-02T20:20:03.046Z     True  \n",
       "2  2018-01-25T21:20:05.232Z     True  \n",
       "3  2021-10-09T19:17:27.624Z     None  \n",
       "4  2022-02-02T15:23:26.757Z     None  "
      ]
     },
     "execution_count": 73,
     "metadata": {},
     "output_type": "execute_result"
    }
   ],
   "source": [
    "cat_df_slim.head()"
   ]
  },
  {
   "cell_type": "markdown",
   "id": "2edb2ffe-5608-47b7-8f17-e745173cac6c",
   "metadata": {},
   "source": [
    "#### Just the verified facts, pls"
   ]
  },
  {
   "cell_type": "code",
   "execution_count": 74,
   "id": "6094b2c4-2fed-4e22-940d-56cdf0709703",
   "metadata": {},
   "outputs": [
    {
     "data": {
      "text/html": [
       "<div>\n",
       "<style scoped>\n",
       "    .dataframe tbody tr th:only-of-type {\n",
       "        vertical-align: middle;\n",
       "    }\n",
       "\n",
       "    .dataframe tbody tr th {\n",
       "        vertical-align: top;\n",
       "    }\n",
       "\n",
       "    .dataframe thead th {\n",
       "        text-align: right;\n",
       "    }\n",
       "</style>\n",
       "<table border=\"1\" class=\"dataframe\">\n",
       "  <thead>\n",
       "    <tr style=\"text-align: right;\">\n",
       "      <th></th>\n",
       "      <th>_id</th>\n",
       "      <th>text</th>\n",
       "      <th>createdAt</th>\n",
       "      <th>verified</th>\n",
       "    </tr>\n",
       "  </thead>\n",
       "  <tbody>\n",
       "    <tr>\n",
       "      <th>1</th>\n",
       "      <td>5b1b4055841d9700146158d3</td>\n",
       "      <td>Scottish sailer Alexander Selkirk once survived for 4 years on a deserted island thanks to feral cats that protected him from large rats during the night.</td>\n",
       "      <td>2018-07-02T20:20:03.046Z</td>\n",
       "      <td>True</td>\n",
       "    </tr>\n",
       "    <tr>\n",
       "      <th>2</th>\n",
       "      <td>5a456246255f4b0021f54c04</td>\n",
       "      <td>A cat can die from essential oils</td>\n",
       "      <td>2018-01-25T21:20:05.232Z</td>\n",
       "      <td>True</td>\n",
       "    </tr>\n",
       "    <tr>\n",
       "      <th>5</th>\n",
       "      <td>591f98703b90f7150a19c12c</td>\n",
       "      <td>Tests done by the Behavioral Department of the Musuem of Natural History conclude that while a dog's memory lasts about 5 minutes, a cat's recall can last as long as 16 hours.</td>\n",
       "      <td>2018-01-04T01:10:54.673Z</td>\n",
       "      <td>True</td>\n",
       "    </tr>\n",
       "    <tr>\n",
       "      <th>6</th>\n",
       "      <td>591f98783b90f7150a19c1da</td>\n",
       "      <td>The cat appears to be the only domestic companion animal not mentioned in the Bible.</td>\n",
       "      <td>2018-01-04T01:10:54.673Z</td>\n",
       "      <td>True</td>\n",
       "    </tr>\n",
       "    <tr>\n",
       "      <th>8</th>\n",
       "      <td>5d38bc970f1c57001592f152</td>\n",
       "      <td>The pink substance inside a cat's nail is called the \"quick\" or the \"dermis\". When trimming your cat's nails, be sure to only cut the upper white part of the nail, not the quick.</td>\n",
       "      <td>2019-07-24T20:16:23.558Z</td>\n",
       "      <td>True</td>\n",
       "    </tr>\n",
       "  </tbody>\n",
       "</table>\n",
       "</div>"
      ],
      "text/plain": [
       "                        _id  \\\n",
       "1  5b1b4055841d9700146158d3   \n",
       "2  5a456246255f4b0021f54c04   \n",
       "5  591f98703b90f7150a19c12c   \n",
       "6  591f98783b90f7150a19c1da   \n",
       "8  5d38bc970f1c57001592f152   \n",
       "\n",
       "                                                                                                                                                                                 text  \\\n",
       "1                          Scottish sailer Alexander Selkirk once survived for 4 years on a deserted island thanks to feral cats that protected him from large rats during the night.   \n",
       "2                                                                                                                                                   A cat can die from essential oils   \n",
       "5     Tests done by the Behavioral Department of the Musuem of Natural History conclude that while a dog's memory lasts about 5 minutes, a cat's recall can last as long as 16 hours.   \n",
       "6                                                                                                The cat appears to be the only domestic companion animal not mentioned in the Bible.   \n",
       "8  The pink substance inside a cat's nail is called the \"quick\" or the \"dermis\". When trimming your cat's nails, be sure to only cut the upper white part of the nail, not the quick.   \n",
       "\n",
       "                  createdAt verified  \n",
       "1  2018-07-02T20:20:03.046Z     True  \n",
       "2  2018-01-25T21:20:05.232Z     True  \n",
       "5  2018-01-04T01:10:54.673Z     True  \n",
       "6  2018-01-04T01:10:54.673Z     True  \n",
       "8  2019-07-24T20:16:23.558Z     True  "
      ]
     },
     "execution_count": 74,
     "metadata": {},
     "output_type": "execute_result"
    }
   ],
   "source": [
    "verified_df = cat_df_slim[cat_df_slim[\"verified\"] == True]\n",
    "verified_df.head()"
   ]
  },
  {
   "cell_type": "code",
   "execution_count": 75,
   "id": "d0e08183-2d85-4b74-a71d-cf3c0ae2dc5c",
   "metadata": {},
   "outputs": [
    {
     "data": {
      "text/plain": [
       "296"
      ]
     },
     "execution_count": 75,
     "metadata": {},
     "output_type": "execute_result"
    }
   ],
   "source": [
    "len(verified_df)"
   ]
  },
  {
   "cell_type": "markdown",
   "id": "9729df76-427d-4911-a02d-e4fe71f19bc6",
   "metadata": {},
   "source": [
    "#### Find facts that mentions specific words? "
   ]
  },
  {
   "cell_type": "code",
   "execution_count": 76,
   "id": "5f77a850-ea14-4bf2-9285-e1bb99b4e9ed",
   "metadata": {},
   "outputs": [
    {
     "data": {
      "text/html": [
       "<div>\n",
       "<style scoped>\n",
       "    .dataframe tbody tr th:only-of-type {\n",
       "        vertical-align: middle;\n",
       "    }\n",
       "\n",
       "    .dataframe tbody tr th {\n",
       "        vertical-align: top;\n",
       "    }\n",
       "\n",
       "    .dataframe thead th {\n",
       "        text-align: right;\n",
       "    }\n",
       "</style>\n",
       "<table border=\"1\" class=\"dataframe\">\n",
       "  <thead>\n",
       "    <tr style=\"text-align: right;\">\n",
       "      <th></th>\n",
       "      <th>_id</th>\n",
       "      <th>text</th>\n",
       "      <th>createdAt</th>\n",
       "      <th>verified</th>\n",
       "    </tr>\n",
       "  </thead>\n",
       "  <tbody>\n",
       "    <tr>\n",
       "      <th>5</th>\n",
       "      <td>591f98703b90f7150a19c12c</td>\n",
       "      <td>Tests done by the Behavioral Department of the Musuem of Natural History conclude that while a dog's memory lasts about 5 minutes, a cat's recall can last as long as 16 hours.</td>\n",
       "      <td>2018-01-04T01:10:54.673Z</td>\n",
       "      <td>True</td>\n",
       "    </tr>\n",
       "    <tr>\n",
       "      <th>40</th>\n",
       "      <td>5b1b3f56841d9700146158cc</td>\n",
       "      <td>Cats lack antibodies against dog blood so they can only receive it via a transfusion once. The second time would kill them.</td>\n",
       "      <td>2018-06-22T20:20:02.344Z</td>\n",
       "      <td>True</td>\n",
       "    </tr>\n",
       "    <tr>\n",
       "      <th>45</th>\n",
       "      <td>591f98783b90f7150a19c1cc</td>\n",
       "      <td>British cat owners spend roughly 550 million pounds yearly on cat food.</td>\n",
       "      <td>2018-04-15T20:20:02.691Z</td>\n",
       "      <td>True</td>\n",
       "    </tr>\n",
       "    <tr>\n",
       "      <th>54</th>\n",
       "      <td>591f98883b90f7150a19c267</td>\n",
       "      <td>Cat bites are more likely to become infected than dog bites.</td>\n",
       "      <td>2018-01-04T01:10:54.673Z</td>\n",
       "      <td>True</td>\n",
       "    </tr>\n",
       "    <tr>\n",
       "      <th>56</th>\n",
       "      <td>591f98783b90f7150a19c1b5</td>\n",
       "      <td>Cats have 32 muscles that control the outer ear (compared to human's 6 muscles each). A cat can rotate its ears independently 180 degrees, and can turn in the direction of sound 10 times faster than those of the best watchdog.</td>\n",
       "      <td>2018-01-04T01:10:54.673Z</td>\n",
       "      <td>True</td>\n",
       "    </tr>\n",
       "    <tr>\n",
       "      <th>84</th>\n",
       "      <td>5c609776e54902001453302d</td>\n",
       "      <td>When kittens ages to weeks five and six, they should start making the transition to dry food.</td>\n",
       "      <td>2019-02-10T21:28:22.019Z</td>\n",
       "      <td>True</td>\n",
       "    </tr>\n",
       "    <tr>\n",
       "      <th>95</th>\n",
       "      <td>591f98803b90f7150a19c238</td>\n",
       "      <td>In 1987 cats overtook dogs as the number one pet in America.</td>\n",
       "      <td>2018-01-04T01:10:54.673Z</td>\n",
       "      <td>True</td>\n",
       "    </tr>\n",
       "    <tr>\n",
       "      <th>109</th>\n",
       "      <td>591f98108dec2e14e3c20b0f</td>\n",
       "      <td>Cats have been domesticated for half as long as dogs have been.</td>\n",
       "      <td>2018-01-04T01:10:54.673Z</td>\n",
       "      <td>True</td>\n",
       "    </tr>\n",
       "    <tr>\n",
       "      <th>121</th>\n",
       "      <td>5c60999ae549020014533038</td>\n",
       "      <td>Cats love playing with yarn, ribbons, and fishing-rode style toys. However, cats should not be left alone with anything that they could get tangled in.</td>\n",
       "      <td>2019-02-10T21:37:30.093Z</td>\n",
       "      <td>True</td>\n",
       "    </tr>\n",
       "    <tr>\n",
       "      <th>122</th>\n",
       "      <td>591f9894d369931519ce3593</td>\n",
       "      <td>The average cat food meal is the equivalent to about five mice.</td>\n",
       "      <td>2018-01-04T01:10:54.673Z</td>\n",
       "      <td>True</td>\n",
       "    </tr>\n",
       "    <tr>\n",
       "      <th>127</th>\n",
       "      <td>5a0260d1134ec2001f032f98</td>\n",
       "      <td>Cats, like dogs, are digitigrades. They walk directly on their toes, with the bones of their feet making up the lower part of the visible leg.</td>\n",
       "      <td>2018-03-08T21:20:02.710Z</td>\n",
       "      <td>True</td>\n",
       "    </tr>\n",
       "    <tr>\n",
       "      <th>150</th>\n",
       "      <td>591f98703b90f7150a19c16e</td>\n",
       "      <td>On February 28, 1 980 a female cat climbed 70 feet up the sheer pebble-dash outside wall of a block of flats in Bradford, Yorkshire and took refuge in the roof space. She had been frightened by a dog.</td>\n",
       "      <td>2018-01-04T01:10:54.673Z</td>\n",
       "      <td>True</td>\n",
       "    </tr>\n",
       "    <tr>\n",
       "      <th>154</th>\n",
       "      <td>591f7aab0cf1d60ee8afcd61</td>\n",
       "      <td>A cat's brain is more similar to a man's brain than that of a dog.</td>\n",
       "      <td>2018-01-04T01:10:54.673Z</td>\n",
       "      <td>True</td>\n",
       "    </tr>\n",
       "    <tr>\n",
       "      <th>157</th>\n",
       "      <td>58e00a120aac31001185ed17</td>\n",
       "      <td>A cat's brain is 90% similar to a human's — more similar than to a dog's.</td>\n",
       "      <td>2018-03-07T21:20:03.618Z</td>\n",
       "      <td>True</td>\n",
       "    </tr>\n",
       "    <tr>\n",
       "      <th>182</th>\n",
       "      <td>591f98088dec2e14e3c20b0e</td>\n",
       "      <td>In 1987, cats overtook dogs as the number one pet in America (about 50 million cats resided in 24 million homes in 1986). About 37% of American homes today have at least one cat.</td>\n",
       "      <td>2018-01-04T01:10:54.673Z</td>\n",
       "      <td>True</td>\n",
       "    </tr>\n",
       "    <tr>\n",
       "      <th>210</th>\n",
       "      <td>58e00bdb0aac31001185edfd</td>\n",
       "      <td>Cats can change their meow to manipulate a human. They often imitate a human baby when they need food, for example.</td>\n",
       "      <td>2018-03-18T20:20:02.459Z</td>\n",
       "      <td>True</td>\n",
       "    </tr>\n",
       "    <tr>\n",
       "      <th>273</th>\n",
       "      <td>591f9890d369931519ce3552</td>\n",
       "      <td>A steady diet of dog food may cause blindness in your cat - it lacks taurine.</td>\n",
       "      <td>2018-01-04T01:10:54.673Z</td>\n",
       "      <td>True</td>\n",
       "    </tr>\n",
       "    <tr>\n",
       "      <th>309</th>\n",
       "      <td>591f98803b90f7150a19c229</td>\n",
       "      <td>In an average year, cat owners in the United States spend over $2 billion on cat food.</td>\n",
       "      <td>2018-01-04T01:10:54.673Z</td>\n",
       "      <td>True</td>\n",
       "    </tr>\n",
       "    <tr>\n",
       "      <th>366</th>\n",
       "      <td>5b1b408a841d9700146158d5</td>\n",
       "      <td>Domestic cats will try not to drink from a water bowl that is next to their food. This is because in the wild, water next to their kill could be contaminated.</td>\n",
       "      <td>2018-06-19T20:20:02.801Z</td>\n",
       "      <td>True</td>\n",
       "    </tr>\n",
       "    <tr>\n",
       "      <th>408</th>\n",
       "      <td>59cd7a97c828120020f7d3a1</td>\n",
       "      <td>Since cats treat us like cats and depend on us for things like food, water, and opening the door to let them out, they do recognize, that we are in some way in charge — the “big cat” in the shared territory. As territorial animals, our cats are constantly wondering why we’re not doing other cat things that the big cat would normally do in their territory. In fact, the “let me in, let me out, let me in” phenomenon is a good example. The bigger cat ostensibly rules the territory and therefore should be the one patrolling and marking it with pee so other cats stay away. But since humans don’t do this, indoor-outdoor cats reluctantly take on the role themselves. The apparent neuroticism of cats wanting to go outside every five minutes only to be let right back in is funny to us because it seems so silly and unnecessary. But to the cats, it’s very necessary (and frustrating) to cover for their dumb pals.</td>\n",
       "      <td>2018-02-06T21:24:00.650Z</td>\n",
       "      <td>True</td>\n",
       "    </tr>\n",
       "    <tr>\n",
       "      <th>414</th>\n",
       "      <td>591f98803b90f7150a19c21b</td>\n",
       "      <td>An estimated 50% of today's cat owners never take their cats to a veterinarian for health care. Too, because cats tend to keep their problems to themselves, many owners think their cat is perfectly healthy when actually they may be suffering from a life-threatening disease. Therefore, cats, on an average, are much sicker than dogs by the time they are brought to your veterinarian for treatment.</td>\n",
       "      <td>2018-01-04T01:10:54.673Z</td>\n",
       "      <td>True</td>\n",
       "    </tr>\n",
       "    <tr>\n",
       "      <th>456</th>\n",
       "      <td>591f98783b90f7150a19c19c</td>\n",
       "      <td>In households in the UK and USA, there are more cats kept as pets than dogs. At least 35% of households with cats have 2 or more cats.</td>\n",
       "      <td>2018-01-04T01:10:54.673Z</td>\n",
       "      <td>True</td>\n",
       "    </tr>\n",
       "  </tbody>\n",
       "</table>\n",
       "</div>"
      ],
      "text/plain": [
       "                          _id  \\\n",
       "5    591f98703b90f7150a19c12c   \n",
       "40   5b1b3f56841d9700146158cc   \n",
       "45   591f98783b90f7150a19c1cc   \n",
       "54   591f98883b90f7150a19c267   \n",
       "56   591f98783b90f7150a19c1b5   \n",
       "84   5c609776e54902001453302d   \n",
       "95   591f98803b90f7150a19c238   \n",
       "109  591f98108dec2e14e3c20b0f   \n",
       "121  5c60999ae549020014533038   \n",
       "122  591f9894d369931519ce3593   \n",
       "127  5a0260d1134ec2001f032f98   \n",
       "150  591f98703b90f7150a19c16e   \n",
       "154  591f7aab0cf1d60ee8afcd61   \n",
       "157  58e00a120aac31001185ed17   \n",
       "182  591f98088dec2e14e3c20b0e   \n",
       "210  58e00bdb0aac31001185edfd   \n",
       "273  591f9890d369931519ce3552   \n",
       "309  591f98803b90f7150a19c229   \n",
       "366  5b1b408a841d9700146158d5   \n",
       "408  59cd7a97c828120020f7d3a1   \n",
       "414  591f98803b90f7150a19c21b   \n",
       "456  591f98783b90f7150a19c19c   \n",
       "\n",
       "                                                                                                                                                                                                                                                                                                                                                                                                                                                                                                                                                                                                                                                                                                                                                                                                                                                                                                                                                 text  \\\n",
       "5                                                                                                                                                                                                                                                                                                                                                                                                                                                                                                                                                                                                                                                                                                                                                                     Tests done by the Behavioral Department of the Musuem of Natural History conclude that while a dog's memory lasts about 5 minutes, a cat's recall can last as long as 16 hours.   \n",
       "40                                                                                                                                                                                                                                                                                                                                                                                                                                                                                                                                                                                                                                                                                                                                                                                                                        Cats lack antibodies against dog blood so they can only receive it via a transfusion once. The second time would kill them.   \n",
       "45                                                                                                                                                                                                                                                                                                                                                                                                                                                                                                                                                                                                                                                                                                                                                                                                                                                                            British cat owners spend roughly 550 million pounds yearly on cat food.   \n",
       "54                                                                                                                                                                                                                                                                                                                                                                                                                                                                                                                                                                                                                                                                                                                                                                                                                                                                                       Cat bites are more likely to become infected than dog bites.   \n",
       "56                                                                                                                                                                                                                                                                                                                                                                                                                                                                                                                                                                                                                                                                                                                 Cats have 32 muscles that control the outer ear (compared to human's 6 muscles each). A cat can rotate its ears independently 180 degrees, and can turn in the direction of sound 10 times faster than those of the best watchdog.   \n",
       "84                                                                                                                                                                                                                                                                                                                                                                                                                                                                                                                                                                                                                                                                                                                                                                                                                                                      When kittens ages to weeks five and six, they should start making the transition to dry food.   \n",
       "95                                                                                                                                                                                                                                                                                                                                                                                                                                                                                                                                                                                                                                                                                                                                                                                                                                                                                       In 1987 cats overtook dogs as the number one pet in America.   \n",
       "109                                                                                                                                                                                                                                                                                                                                                                                                                                                                                                                                                                                                                                                                                                                                                                                                                                                                                   Cats have been domesticated for half as long as dogs have been.   \n",
       "121                                                                                                                                                                                                                                                                                                                                                                                                                                                                                                                                                                                                                                                                                                                                                                                           Cats love playing with yarn, ribbons, and fishing-rode style toys. However, cats should not be left alone with anything that they could get tangled in.   \n",
       "122                                                                                                                                                                                                                                                                                                                                                                                                                                                                                                                                                                                                                                                                                                                                                                                                                                                                                   The average cat food meal is the equivalent to about five mice.   \n",
       "127                                                                                                                                                                                                                                                                                                                                                                                                                                                                                                                                                                                                                                                                                                                                                                                                    Cats, like dogs, are digitigrades. They walk directly on their toes, with the bones of their feet making up the lower part of the visible leg.   \n",
       "150                                                                                                                                                                                                                                                                                                                                                                                                                                                                                                                                                                                                                                                                                                                                          On February 28, 1 980 a female cat climbed 70 feet up the sheer pebble-dash outside wall of a block of flats in Bradford, Yorkshire and took refuge in the roof space. She had been frightened by a dog.   \n",
       "154                                                                                                                                                                                                                                                                                                                                                                                                                                                                                                                                                                                                                                                                                                                                                                                                                                                                                A cat's brain is more similar to a man's brain than that of a dog.   \n",
       "157                                                                                                                                                                                                                                                                                                                                                                                                                                                                                                                                                                                                                                                                                                                                                                                                                                                                         A cat's brain is 90% similar to a human's — more similar than to a dog's.   \n",
       "182                                                                                                                                                                                                                                                                                                                                                                                                                                                                                                                                                                                                                                                                                                                                                                In 1987, cats overtook dogs as the number one pet in America (about 50 million cats resided in 24 million homes in 1986). About 37% of American homes today have at least one cat.   \n",
       "210                                                                                                                                                                                                                                                                                                                                                                                                                                                                                                                                                                                                                                                                                                                                                                                                                               Cats can change their meow to manipulate a human. They often imitate a human baby when they need food, for example.   \n",
       "273                                                                                                                                                                                                                                                                                                                                                                                                                                                                                                                                                                                                                                                                                                                                                                                                                                                                     A steady diet of dog food may cause blindness in your cat - it lacks taurine.   \n",
       "309                                                                                                                                                                                                                                                                                                                                                                                                                                                                                                                                                                                                                                                                                                                                                                                                                                                            In an average year, cat owners in the United States spend over $2 billion on cat food.   \n",
       "366                                                                                                                                                                                                                                                                                                                                                                                                                                                                                                                                                                                                                                                                                                                                                                                    Domestic cats will try not to drink from a water bowl that is next to their food. This is because in the wild, water next to their kill could be contaminated.   \n",
       "408  Since cats treat us like cats and depend on us for things like food, water, and opening the door to let them out, they do recognize, that we are in some way in charge — the “big cat” in the shared territory. As territorial animals, our cats are constantly wondering why we’re not doing other cat things that the big cat would normally do in their territory. In fact, the “let me in, let me out, let me in” phenomenon is a good example. The bigger cat ostensibly rules the territory and therefore should be the one patrolling and marking it with pee so other cats stay away. But since humans don’t do this, indoor-outdoor cats reluctantly take on the role themselves. The apparent neuroticism of cats wanting to go outside every five minutes only to be let right back in is funny to us because it seems so silly and unnecessary. But to the cats, it’s very necessary (and frustrating) to cover for their dumb pals.   \n",
       "414                                                                                                                                                                                                                                                                                                                                                                                                                                                                                                                                     An estimated 50% of today's cat owners never take their cats to a veterinarian for health care. Too, because cats tend to keep their problems to themselves, many owners think their cat is perfectly healthy when actually they may be suffering from a life-threatening disease. Therefore, cats, on an average, are much sicker than dogs by the time they are brought to your veterinarian for treatment.   \n",
       "456                                                                                                                                                                                                                                                                                                                                                                                                                                                                                                                                                                                                                                                                                                                                                                                                            In households in the UK and USA, there are more cats kept as pets than dogs. At least 35% of households with cats have 2 or more cats.   \n",
       "\n",
       "                    createdAt verified  \n",
       "5    2018-01-04T01:10:54.673Z     True  \n",
       "40   2018-06-22T20:20:02.344Z     True  \n",
       "45   2018-04-15T20:20:02.691Z     True  \n",
       "54   2018-01-04T01:10:54.673Z     True  \n",
       "56   2018-01-04T01:10:54.673Z     True  \n",
       "84   2019-02-10T21:28:22.019Z     True  \n",
       "95   2018-01-04T01:10:54.673Z     True  \n",
       "109  2018-01-04T01:10:54.673Z     True  \n",
       "121  2019-02-10T21:37:30.093Z     True  \n",
       "122  2018-01-04T01:10:54.673Z     True  \n",
       "127  2018-03-08T21:20:02.710Z     True  \n",
       "150  2018-01-04T01:10:54.673Z     True  \n",
       "154  2018-01-04T01:10:54.673Z     True  \n",
       "157  2018-03-07T21:20:03.618Z     True  \n",
       "182  2018-01-04T01:10:54.673Z     True  \n",
       "210  2018-03-18T20:20:02.459Z     True  \n",
       "273  2018-01-04T01:10:54.673Z     True  \n",
       "309  2018-01-04T01:10:54.673Z     True  \n",
       "366  2018-06-19T20:20:02.801Z     True  \n",
       "408  2018-02-06T21:24:00.650Z     True  \n",
       "414  2018-01-04T01:10:54.673Z     True  \n",
       "456  2018-01-04T01:10:54.673Z     True  "
      ]
     },
     "execution_count": 76,
     "metadata": {},
     "output_type": "execute_result"
    }
   ],
   "source": [
    "verified_df[verified_df[\"text\"].str.contains(\"dog|food|toys\", case=False)]"
   ]
  },
  {
   "cell_type": "markdown",
   "id": "779b6f93-c7b9-4876-8aab-988049cbb964",
   "metadata": {},
   "source": [
    "#### Find the oldest fact? "
   ]
  },
  {
   "cell_type": "code",
   "execution_count": 77,
   "id": "b04eab0d-0315-4538-a8c0-b15e7ba09ce3",
   "metadata": {},
   "outputs": [
    {
     "name": "stderr",
     "output_type": "stream",
     "text": [
      "/var/folders/wf/w7svbvxx3p7b2r8r1hxg6psr0000gn/T/ipykernel_36649/2100922763.py:1: SettingWithCopyWarning: \n",
      "A value is trying to be set on a copy of a slice from a DataFrame.\n",
      "Try using .loc[row_indexer,col_indexer] = value instead\n",
      "\n",
      "See the caveats in the documentation: https://pandas.pydata.org/pandas-docs/stable/user_guide/indexing.html#returning-a-view-versus-a-copy\n",
      "  verified_df[\"date\"] = pd.to_datetime(verified_df[\"createdAt\"]).dt.strftime(\"%Y-%m-%d\")\n"
     ]
    }
   ],
   "source": [
    "verified_df[\"date\"] = pd.to_datetime(verified_df[\"createdAt\"]).dt.strftime(\"%Y-%m-%d\")"
   ]
  },
  {
   "cell_type": "code",
   "execution_count": 81,
   "id": "50f28bef-effa-4acf-94eb-25e3de0c009f",
   "metadata": {},
   "outputs": [
    {
     "data": {
      "text/html": [
       "<div>\n",
       "<style scoped>\n",
       "    .dataframe tbody tr th:only-of-type {\n",
       "        vertical-align: middle;\n",
       "    }\n",
       "\n",
       "    .dataframe tbody tr th {\n",
       "        vertical-align: top;\n",
       "    }\n",
       "\n",
       "    .dataframe thead th {\n",
       "        text-align: right;\n",
       "    }\n",
       "</style>\n",
       "<table border=\"1\" class=\"dataframe\">\n",
       "  <thead>\n",
       "    <tr style=\"text-align: right;\">\n",
       "      <th></th>\n",
       "      <th>_id</th>\n",
       "      <th>text</th>\n",
       "      <th>createdAt</th>\n",
       "      <th>verified</th>\n",
       "      <th>date</th>\n",
       "    </tr>\n",
       "  </thead>\n",
       "  <tbody>\n",
       "    <tr>\n",
       "      <th>257</th>\n",
       "      <td>591f9894d369931519ce35ab</td>\n",
       "      <td>Cats, especially older cats, do get cancer. Many times this disease can be treated successfully.</td>\n",
       "      <td>2018-01-04T01:10:54.673Z</td>\n",
       "      <td>True</td>\n",
       "      <td>2018-01-04</td>\n",
       "    </tr>\n",
       "    <tr>\n",
       "      <th>187</th>\n",
       "      <td>591f98703b90f7150a19c179</td>\n",
       "      <td>A cat's field of vision is about 200 degrees.</td>\n",
       "      <td>2018-01-04T01:10:54.673Z</td>\n",
       "      <td>True</td>\n",
       "      <td>2018-01-04</td>\n",
       "    </tr>\n",
       "    <tr>\n",
       "      <th>185</th>\n",
       "      <td>591f98783b90f7150a19c19a</td>\n",
       "      <td>Mountain lions are strong jumpers, thanks to muscular hind legs that are longer than their front legs.</td>\n",
       "      <td>2018-01-04T01:10:54.673Z</td>\n",
       "      <td>True</td>\n",
       "      <td>2018-01-04</td>\n",
       "    </tr>\n",
       "    <tr>\n",
       "      <th>182</th>\n",
       "      <td>591f98088dec2e14e3c20b0e</td>\n",
       "      <td>In 1987, cats overtook dogs as the number one pet in America (about 50 million cats resided in 24 million homes in 1986). About 37% of American homes today have at least one cat.</td>\n",
       "      <td>2018-01-04T01:10:54.673Z</td>\n",
       "      <td>True</td>\n",
       "      <td>2018-01-04</td>\n",
       "    </tr>\n",
       "    <tr>\n",
       "      <th>180</th>\n",
       "      <td>591f97c48dec2e14e3c20afc</td>\n",
       "      <td>Cats respond most readily to names that end in an \"ee\" sound.</td>\n",
       "      <td>2018-01-04T01:10:54.673Z</td>\n",
       "      <td>True</td>\n",
       "      <td>2018-01-04</td>\n",
       "    </tr>\n",
       "  </tbody>\n",
       "</table>\n",
       "</div>"
      ],
      "text/plain": [
       "                          _id  \\\n",
       "257  591f9894d369931519ce35ab   \n",
       "187  591f98703b90f7150a19c179   \n",
       "185  591f98783b90f7150a19c19a   \n",
       "182  591f98088dec2e14e3c20b0e   \n",
       "180  591f97c48dec2e14e3c20afc   \n",
       "\n",
       "                                                                                                                                                                                   text  \\\n",
       "257                                                                                    Cats, especially older cats, do get cancer. Many times this disease can be treated successfully.   \n",
       "187                                                                                                                                       A cat's field of vision is about 200 degrees.   \n",
       "185                                                                              Mountain lions are strong jumpers, thanks to muscular hind legs that are longer than their front legs.   \n",
       "182  In 1987, cats overtook dogs as the number one pet in America (about 50 million cats resided in 24 million homes in 1986). About 37% of American homes today have at least one cat.   \n",
       "180                                                                                                                       Cats respond most readily to names that end in an \"ee\" sound.   \n",
       "\n",
       "                    createdAt verified        date  \n",
       "257  2018-01-04T01:10:54.673Z     True  2018-01-04  \n",
       "187  2018-01-04T01:10:54.673Z     True  2018-01-04  \n",
       "185  2018-01-04T01:10:54.673Z     True  2018-01-04  \n",
       "182  2018-01-04T01:10:54.673Z     True  2018-01-04  \n",
       "180  2018-01-04T01:10:54.673Z     True  2018-01-04  "
      ]
     },
     "execution_count": 81,
     "metadata": {},
     "output_type": "execute_result"
    }
   ],
   "source": [
    "verified_df.sort_values(\"date\", ascending=True).head()"
   ]
  },
  {
   "cell_type": "markdown",
   "id": "fc179617-2c81-4305-b778-a675efb88aac",
   "metadata": {},
   "source": [
    "#### Most recent verified fact?"
   ]
  },
  {
   "cell_type": "code",
   "execution_count": 82,
   "id": "484945bd-21f4-478e-9327-fd9927501bfa",
   "metadata": {},
   "outputs": [
    {
     "data": {
      "text/html": [
       "<div>\n",
       "<style scoped>\n",
       "    .dataframe tbody tr th:only-of-type {\n",
       "        vertical-align: middle;\n",
       "    }\n",
       "\n",
       "    .dataframe tbody tr th {\n",
       "        vertical-align: top;\n",
       "    }\n",
       "\n",
       "    .dataframe thead th {\n",
       "        text-align: right;\n",
       "    }\n",
       "</style>\n",
       "<table border=\"1\" class=\"dataframe\">\n",
       "  <thead>\n",
       "    <tr style=\"text-align: right;\">\n",
       "      <th></th>\n",
       "      <th>_id</th>\n",
       "      <th>text</th>\n",
       "      <th>createdAt</th>\n",
       "      <th>verified</th>\n",
       "      <th>date</th>\n",
       "    </tr>\n",
       "  </thead>\n",
       "  <tbody>\n",
       "    <tr>\n",
       "      <th>443</th>\n",
       "      <td>5de780600013130015a3ccaf</td>\n",
       "      <td>About one in two cats respond to catnip, and only develop a sensitivity to it at around 3 to 6 months of age.</td>\n",
       "      <td>2019-12-04T09:46:08.461Z</td>\n",
       "      <td>True</td>\n",
       "      <td>2019-12-04</td>\n",
       "    </tr>\n",
       "    <tr>\n",
       "      <th>353</th>\n",
       "      <td>5daa192179186100154250c4</td>\n",
       "      <td>GitHub is a cloud source version control system where its mascot is an octocat, an anthropomorphized cat with five tentacles.</td>\n",
       "      <td>2019-10-18T19:57:21.696Z</td>\n",
       "      <td>True</td>\n",
       "      <td>2019-10-18</td>\n",
       "    </tr>\n",
       "    <tr>\n",
       "      <th>248</th>\n",
       "      <td>5d9d4ae168a764001553b388</td>\n",
       "      <td>Cats conserve energy by sleeping for an average of 13 to 14 hours a day.</td>\n",
       "      <td>2019-10-09T02:50:09.633Z</td>\n",
       "      <td>True</td>\n",
       "      <td>2019-10-09</td>\n",
       "    </tr>\n",
       "    <tr>\n",
       "      <th>240</th>\n",
       "      <td>5d38bd750f1c57001592f155</td>\n",
       "      <td>Legend holds that a goddess rewarded a temple cat's piety by turning the cat's eyes blue and his coat golden, thus creating the first Birman cat.</td>\n",
       "      <td>2019-07-24T20:20:05.522Z</td>\n",
       "      <td>True</td>\n",
       "      <td>2019-07-24</td>\n",
       "    </tr>\n",
       "    <tr>\n",
       "      <th>73</th>\n",
       "      <td>5d38baf20f1c57001592f14b</td>\n",
       "      <td>The stationmaster of the Kishi rail station in western Japan until 2015 was a cat named Tama. The calico cat wore a stationmaster's cap and greeted visitors by the ticket gate. After her death, Tama was elevated to the status of a goddess in a Shinto-style funeral.</td>\n",
       "      <td>2019-07-24T20:09:22.445Z</td>\n",
       "      <td>True</td>\n",
       "      <td>2019-07-24</td>\n",
       "    </tr>\n",
       "  </tbody>\n",
       "</table>\n",
       "</div>"
      ],
      "text/plain": [
       "                          _id  \\\n",
       "443  5de780600013130015a3ccaf   \n",
       "353  5daa192179186100154250c4   \n",
       "248  5d9d4ae168a764001553b388   \n",
       "240  5d38bd750f1c57001592f155   \n",
       "73   5d38baf20f1c57001592f14b   \n",
       "\n",
       "                                                                                                                                                                                                                                                                          text  \\\n",
       "443                                                                                                                                                              About one in two cats respond to catnip, and only develop a sensitivity to it at around 3 to 6 months of age.   \n",
       "353                                                                                                                                              GitHub is a cloud source version control system where its mascot is an octocat, an anthropomorphized cat with five tentacles.   \n",
       "248                                                                                                                                                                                                   Cats conserve energy by sleeping for an average of 13 to 14 hours a day.   \n",
       "240                                                                                                                          Legend holds that a goddess rewarded a temple cat's piety by turning the cat's eyes blue and his coat golden, thus creating the first Birman cat.   \n",
       "73   The stationmaster of the Kishi rail station in western Japan until 2015 was a cat named Tama. The calico cat wore a stationmaster's cap and greeted visitors by the ticket gate. After her death, Tama was elevated to the status of a goddess in a Shinto-style funeral.   \n",
       "\n",
       "                    createdAt verified        date  \n",
       "443  2019-12-04T09:46:08.461Z     True  2019-12-04  \n",
       "353  2019-10-18T19:57:21.696Z     True  2019-10-18  \n",
       "248  2019-10-09T02:50:09.633Z     True  2019-10-09  \n",
       "240  2019-07-24T20:20:05.522Z     True  2019-07-24  \n",
       "73   2019-07-24T20:09:22.445Z     True  2019-07-24  "
      ]
     },
     "execution_count": 82,
     "metadata": {},
     "output_type": "execute_result"
    }
   ],
   "source": [
    "verified_df.sort_values(\"date\", ascending=False).head()"
   ]
  },
  {
   "cell_type": "markdown",
   "id": "1cea13ed-842c-48cd-8522-06859a25a992",
   "metadata": {},
   "source": [
    "---"
   ]
  },
  {
   "cell_type": "markdown",
   "id": "da50f0d9-5b44-42e6-9112-950ebf7deef5",
   "metadata": {},
   "source": [
    "## Dad jokes!"
   ]
  },
  {
   "cell_type": "markdown",
   "id": "4b661117-ead2-4905-bb99-e7d1a21ac3b4",
   "metadata": {},
   "source": [
    "[Read the documentation](https://icanhazdadjoke.com/api#fetch-a-random-dad-joke)"
   ]
  },
  {
   "cell_type": "markdown",
   "id": "545cac74-46f5-42c8-99c4-3b76ab9fce26",
   "metadata": {},
   "source": [
    "#### Give the request headers so the API knows how to answer it"
   ]
  },
  {
   "cell_type": "code",
   "execution_count": 83,
   "id": "a5f7a050-8817-4b8e-b01c-e803d326c7a1",
   "metadata": {},
   "outputs": [],
   "source": [
    "headers = {\n",
    "    \"Accept\": \"application/json\",\n",
    "}"
   ]
  },
  {
   "cell_type": "markdown",
   "id": "6c36b6fc-a7a3-4bed-96d7-6d55155a5ebc",
   "metadata": {},
   "source": [
    "#### Get a response from the API in the format we requested"
   ]
  },
  {
   "cell_type": "code",
   "execution_count": 84,
   "id": "3beca3aa-5f97-47a4-9005-a2b43a9bfaaf",
   "metadata": {},
   "outputs": [],
   "source": [
    "response = requests.get(\"https://icanhazdadjoke.com/search?page=1\", headers=headers)"
   ]
  },
  {
   "cell_type": "markdown",
   "id": "bd5f5213-6217-487d-9bda-ee4ef9fe77e7",
   "metadata": {},
   "source": [
    "#### What comes back?"
   ]
  },
  {
   "cell_type": "code",
   "execution_count": 87,
   "id": "a1738b72-221d-4dbd-be09-9db02c517ba6",
   "metadata": {},
   "outputs": [
    {
     "data": {
      "text/plain": [
       "{'current_page': 1,\n",
       " 'limit': 20,\n",
       " 'next_page': 2,\n",
       " 'previous_page': 1,\n",
       " 'results': [{'id': '0189hNRf2g',\n",
       "   'joke': \"I'm tired of following my dreams. I'm just going to ask them where they are going and meet up with them later.\"},\n",
       "  {'id': '08EQZ8EQukb',\n",
       "   'joke': \"Did you hear about the guy whose whole left side was cut off? He's all right now.\"},\n",
       "  {'id': '08xHQCdx5Ed',\n",
       "   'joke': 'Why didn’t the skeleton cross the road? Because he had no guts.'},\n",
       "  {'id': '0DQKB51oGlb',\n",
       "   'joke': \"What did one nut say as he chased another nut?  I'm a cashew!\"},\n",
       "  {'id': '0DtrrOZDlyd',\n",
       "   'joke': \"Chances are if you' ve seen one shopping center, you've seen a mall.\"},\n",
       "  {'id': '0LuXvkq4Muc',\n",
       "   'joke': \"I knew I shouldn't steal a mixer from work, but it was a whisk I was willing to take.\"},\n",
       "  {'id': '0ga2EdN7prc',\n",
       "   'joke': 'How come the stadium got hot after the game? Because all of the fans left.'},\n",
       "  {'id': '0oO71TSv4Ed',\n",
       "   'joke': 'Why was it called the dark ages? Because of all the knights. '},\n",
       "  {'id': '0oz51ozk3ob', 'joke': 'A steak pun is a rare medium well done.'},\n",
       "  {'id': '0ozAXv4Mmjb',\n",
       "   'joke': 'Why did the tomato blush? Because it saw the salad dressing.'},\n",
       "  {'id': '0wcFBQfiGBd',\n",
       "   'joke': 'Did you hear the joke about the wandering nun? She was a roman catholic.'},\n",
       "  {'id': '189xHQ7pOuc',\n",
       "   'joke': 'What creature is smarter than a talking parrot? A spelling bee.'},\n",
       "  {'id': '18Elj3EIYvc',\n",
       "   'joke': \"I'll tell you what often gets over looked... garden fences.\"},\n",
       "  {'id': '18h3wcU8xAd',\n",
       "   'joke': 'Why did the kid cross the playground? To get to the other slide.'},\n",
       "  {'id': '1DIRSfx51Dd',\n",
       "   'joke': \"Why do birds fly south for the winter? Because it's too far to walk.\"},\n",
       "  {'id': '1DQZDY0gVnb',\n",
       "   'joke': \"What is a centipedes's favorite Beatle song?  I want to hold your hand, hand, hand, hand...\"},\n",
       "  {'id': '1DQZvXvX8Ed',\n",
       "   'joke': 'My first time using an elevator was an uplifting experience. The second time let me down.'},\n",
       "  {'id': '1DQZvcFBdib', 'joke': \"To be Frank, I'd have to change my name.\"},\n",
       "  {'id': '1Dt4M7Ufaxc',\n",
       "   'joke': 'Slept like a log last night … woke up in the fireplace.'},\n",
       "  {'id': '1T01LBXLuzd',\n",
       "   'joke': \"Why does a Moon-rock taste better than an Earth-rock? Because it's a little meteor.\"}],\n",
       " 'search_term': '',\n",
       " 'status': 200,\n",
       " 'total_jokes': 649,\n",
       " 'total_pages': 33}"
      ]
     },
     "execution_count": 87,
     "metadata": {},
     "output_type": "execute_result"
    }
   ],
   "source": [
    "response.json()"
   ]
  },
  {
   "cell_type": "markdown",
   "id": "74836972-64aa-4557-8d44-87be2ea316e6",
   "metadata": {},
   "source": [
    "#### What's the limit per API call? "
   ]
  },
  {
   "cell_type": "code",
   "execution_count": 99,
   "id": "f8bc9d6b-da8c-42a3-b2ae-1671bb6a8f8e",
   "metadata": {},
   "outputs": [
    {
     "data": {
      "text/plain": [
       "20"
      ]
     },
     "execution_count": 99,
     "metadata": {},
     "output_type": "execute_result"
    }
   ],
   "source": [
    "response.json()[\"limit\"]"
   ]
  },
  {
   "cell_type": "markdown",
   "id": "3421f21a-befb-49f9-bd8f-ea0a5cb9d702",
   "metadata": {},
   "source": [
    "#### How many total jokes? "
   ]
  },
  {
   "cell_type": "code",
   "execution_count": 100,
   "id": "6a6c30cf-f0fe-4aca-992c-80ca69c5c7da",
   "metadata": {},
   "outputs": [
    {
     "data": {
      "text/plain": [
       "649"
      ]
     },
     "execution_count": 100,
     "metadata": {},
     "output_type": "execute_result"
    }
   ],
   "source": [
    "response.json()[\"total_jokes\"]"
   ]
  },
  {
   "cell_type": "markdown",
   "id": "8545cf74-5e07-4f6a-96d2-226c129f8276",
   "metadata": {},
   "source": [
    "#### How many pages of 20 jokes? "
   ]
  },
  {
   "cell_type": "code",
   "execution_count": 101,
   "id": "819b33b4-dcfe-488e-9501-e9c8dbbcb008",
   "metadata": {},
   "outputs": [
    {
     "data": {
      "text/plain": [
       "33"
      ]
     },
     "execution_count": 101,
     "metadata": {},
     "output_type": "execute_result"
    }
   ],
   "source": [
    "response.json()[\"total_pages\"]"
   ]
  },
  {
   "cell_type": "markdown",
   "id": "c2024f47-4ed9-4209-aeed-94ebf195eff1",
   "metadata": {},
   "source": [
    "#### Ok, just the jokes"
   ]
  },
  {
   "cell_type": "code",
   "execution_count": 96,
   "id": "cff80dff-e568-4f2d-843e-18c494f88a75",
   "metadata": {},
   "outputs": [
    {
     "data": {
      "text/html": [
       "<div>\n",
       "<style scoped>\n",
       "    .dataframe tbody tr th:only-of-type {\n",
       "        vertical-align: middle;\n",
       "    }\n",
       "\n",
       "    .dataframe tbody tr th {\n",
       "        vertical-align: top;\n",
       "    }\n",
       "\n",
       "    .dataframe thead th {\n",
       "        text-align: right;\n",
       "    }\n",
       "</style>\n",
       "<table border=\"1\" class=\"dataframe\">\n",
       "  <thead>\n",
       "    <tr style=\"text-align: right;\">\n",
       "      <th></th>\n",
       "      <th>id</th>\n",
       "      <th>joke</th>\n",
       "    </tr>\n",
       "  </thead>\n",
       "  <tbody>\n",
       "    <tr>\n",
       "      <th>0</th>\n",
       "      <td>0189hNRf2g</td>\n",
       "      <td>I'm tired of following my dreams. I'm just going to ask them where they are going and meet up with them later.</td>\n",
       "    </tr>\n",
       "    <tr>\n",
       "      <th>1</th>\n",
       "      <td>08EQZ8EQukb</td>\n",
       "      <td>Did you hear about the guy whose whole left side was cut off? He's all right now.</td>\n",
       "    </tr>\n",
       "    <tr>\n",
       "      <th>2</th>\n",
       "      <td>08xHQCdx5Ed</td>\n",
       "      <td>Why didn’t the skeleton cross the road? Because he had no guts.</td>\n",
       "    </tr>\n",
       "    <tr>\n",
       "      <th>3</th>\n",
       "      <td>0DQKB51oGlb</td>\n",
       "      <td>What did one nut say as he chased another nut?  I'm a cashew!</td>\n",
       "    </tr>\n",
       "    <tr>\n",
       "      <th>4</th>\n",
       "      <td>0DtrrOZDlyd</td>\n",
       "      <td>Chances are if you' ve seen one shopping center, you've seen a mall.</td>\n",
       "    </tr>\n",
       "  </tbody>\n",
       "</table>\n",
       "</div>"
      ],
      "text/plain": [
       "            id  \\\n",
       "0   0189hNRf2g   \n",
       "1  08EQZ8EQukb   \n",
       "2  08xHQCdx5Ed   \n",
       "3  0DQKB51oGlb   \n",
       "4  0DtrrOZDlyd   \n",
       "\n",
       "                                                                                                             joke  \n",
       "0  I'm tired of following my dreams. I'm just going to ask them where they are going and meet up with them later.  \n",
       "1                               Did you hear about the guy whose whole left side was cut off? He's all right now.  \n",
       "2                                                 Why didn’t the skeleton cross the road? Because he had no guts.  \n",
       "3                                                   What did one nut say as he chased another nut?  I'm a cashew!  \n",
       "4                                            Chances are if you' ve seen one shopping center, you've seen a mall.  "
      ]
     },
     "execution_count": 96,
     "metadata": {},
     "output_type": "execute_result"
    }
   ],
   "source": [
    "jokes_df = pd.DataFrame(response.json()[\"results\"])\n",
    "jokes_df.head()"
   ]
  },
  {
   "cell_type": "markdown",
   "id": "a3cce074-468e-443e-8d43-e13ad3f6e702",
   "metadata": {},
   "source": [
    "#### How many records?"
   ]
  },
  {
   "cell_type": "code",
   "execution_count": 92,
   "id": "353b9393-c717-4b52-a19d-44ecbf793e16",
   "metadata": {},
   "outputs": [
    {
     "data": {
      "text/plain": [
       "20"
      ]
     },
     "execution_count": 92,
     "metadata": {},
     "output_type": "execute_result"
    }
   ],
   "source": [
    "len(jokes_df)"
   ]
  },
  {
   "cell_type": "markdown",
   "id": "31409e11-3a00-465f-80da-59f18eacbba8",
   "metadata": {},
   "source": [
    "#### Get all the jokes with a loop"
   ]
  },
  {
   "cell_type": "code",
   "execution_count": 102,
   "id": "723d8553-dce0-42ad-8467-684e24a423e3",
   "metadata": {},
   "outputs": [],
   "source": [
    "data_pages = []\n",
    "\n",
    "for r in range(0, 34):\n",
    "    data_pages.append(\n",
    "        pd.DataFrame(\n",
    "            requests.get(\n",
    "                f\"https://icanhazdadjoke.com/search?page={r}\", headers=headers\n",
    "            ).json()[\"results\"]\n",
    "        )\n",
    "    )\n",
    "\n",
    "jokes_df = pd.concat(data_pages).reset_index(drop=True)"
   ]
  },
  {
   "cell_type": "markdown",
   "id": "2bc5b2ba-7bc8-4de5-8d73-9a6c440d4934",
   "metadata": {},
   "source": [
    "#### How many? "
   ]
  },
  {
   "cell_type": "code",
   "execution_count": 103,
   "id": "42d445b1-9ed5-460e-a66d-41ccbfcd6659",
   "metadata": {},
   "outputs": [
    {
     "data": {
      "text/plain": [
       "669"
      ]
     },
     "execution_count": 103,
     "metadata": {},
     "output_type": "execute_result"
    }
   ],
   "source": [
    "len(jokes_df)"
   ]
  },
  {
   "cell_type": "markdown",
   "id": "40e04375-1eeb-4d05-a377-e14177939fe8",
   "metadata": {},
   "source": [
    "#### Export "
   ]
  },
  {
   "cell_type": "code",
   "execution_count": 104,
   "id": "64087eec-99e6-4cea-8f83-eb06c88099cc",
   "metadata": {},
   "outputs": [],
   "source": [
    "jokes_df.to_csv(\"../data/processed/dad-jokes.csv\", index=False)"
   ]
  }
 ],
 "metadata": {
  "kernelspec": {
   "display_name": "Python 3 (ipykernel)",
   "language": "python",
   "name": "python3"
  },
  "language_info": {
   "codemirror_mode": {
    "name": "ipython",
    "version": 3
   },
   "file_extension": ".py",
   "mimetype": "text/x-python",
   "name": "python",
   "nbconvert_exporter": "python",
   "pygments_lexer": "ipython3",
   "version": "3.9.7"
  }
 },
 "nbformat": 4,
 "nbformat_minor": 5
}
