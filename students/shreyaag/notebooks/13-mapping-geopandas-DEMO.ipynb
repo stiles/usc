{
 "cells": [
  {
   "cell_type": "markdown",
   "id": "cf543214-f1e4-46f5-a4ca-0641e43e455f",
   "metadata": {},
   "source": [
    "# Intro to map data with Geopandas"
   ]
  },
  {
   "cell_type": "markdown",
   "id": "ece5a4d3-be58-4d94-9736-5e9d10a41ba9",
   "metadata": {},
   "source": [
    "#### Load python tools"
   ]
  },
  {
   "cell_type": "code",
   "execution_count": 24,
   "id": "2594907b-7dfe-4e1f-9406-771e53069144",
   "metadata": {},
   "outputs": [
    {
     "name": "stdout",
     "output_type": "stream",
     "text": [
      "The lab_black extension is already loaded. To reload it, use:\n",
      "  %reload_ext lab_black\n"
     ]
    }
   ],
   "source": [
    "%load_ext lab_black"
   ]
  },
  {
   "cell_type": "code",
   "execution_count": 25,
   "id": "d72edc4d-b826-4d3a-b5ab-d5773c071348",
   "metadata": {},
   "outputs": [],
   "source": [
    "#!pip install geopandas"
   ]
  },
  {
   "cell_type": "code",
   "execution_count": 26,
   "id": "5d82586b-0073-434d-bcee-46e1013d7fc5",
   "metadata": {},
   "outputs": [],
   "source": [
    "import pandas as pd\n",
    "import geopandas as gpd"
   ]
  },
  {
   "cell_type": "code",
   "execution_count": 27,
   "id": "c09bfa5f-474a-40ea-abcc-a5e7787e501c",
   "metadata": {},
   "outputs": [],
   "source": [
    "pd.options.display.max_columns = 1000\n",
    "pd.options.display.max_rows = 1000"
   ]
  },
  {
   "cell_type": "markdown",
   "id": "6e8fe962-7c4f-413c-890e-97fc70adb134",
   "metadata": {},
   "source": [
    "---"
   ]
  },
  {
   "cell_type": "markdown",
   "id": "c2a67d82-9df5-45e4-9947-52cc5ea2b730",
   "metadata": {},
   "source": [
    "## Import geography"
   ]
  },
  {
   "cell_type": "markdown",
   "id": "3a91c5a6-bf04-4430-be0a-fac67b7dbf1c",
   "metadata": {},
   "source": [
    "#### Read states GeoJSON file"
   ]
  },
  {
   "cell_type": "code",
   "execution_count": 28,
   "id": "b28201ff-ee94-4f6c-a761-2564c0e448ce",
   "metadata": {},
   "outputs": [],
   "source": [
    "states_gdf = gpd.read_file(\n",
    "    \"https://raw.githubusercontent.com/stiles/usc/main/data/geo/states.geojson\"\n",
    ")"
   ]
  },
  {
   "cell_type": "markdown",
   "id": "89d64edb-0a79-4094-95d7-b24861bc6840",
   "metadata": {},
   "source": [
    "#### What's that look like? "
   ]
  },
  {
   "cell_type": "code",
   "execution_count": 33,
   "id": "bda88c1f-e0e5-40cf-8315-2ab221652118",
   "metadata": {},
   "outputs": [
    {
     "data": {
      "text/html": [
       "<div>\n",
       "<style scoped>\n",
       "    .dataframe tbody tr th:only-of-type {\n",
       "        vertical-align: middle;\n",
       "    }\n",
       "\n",
       "    .dataframe tbody tr th {\n",
       "        vertical-align: top;\n",
       "    }\n",
       "\n",
       "    .dataframe thead th {\n",
       "        text-align: right;\n",
       "    }\n",
       "</style>\n",
       "<table border=\"1\" class=\"dataframe\">\n",
       "  <thead>\n",
       "    <tr style=\"text-align: right;\">\n",
       "      <th></th>\n",
       "      <th>state_fips</th>\n",
       "      <th>state_name</th>\n",
       "      <th>geometry</th>\n",
       "    </tr>\n",
       "  </thead>\n",
       "  <tbody>\n",
       "    <tr>\n",
       "      <th>0</th>\n",
       "      <td>01</td>\n",
       "      <td>Alabama</td>\n",
       "      <td>POLYGON ((-87.35930 35.00118, -85.60667 34.984...</td>\n",
       "    </tr>\n",
       "    <tr>\n",
       "      <th>1</th>\n",
       "      <td>02</td>\n",
       "      <td>Alaska</td>\n",
       "      <td>MULTIPOLYGON (((-131.60202 55.11798, -131.5691...</td>\n",
       "    </tr>\n",
       "    <tr>\n",
       "      <th>2</th>\n",
       "      <td>04</td>\n",
       "      <td>Arizona</td>\n",
       "      <td>POLYGON ((-109.04250 37.00026, -109.04798 31.3...</td>\n",
       "    </tr>\n",
       "    <tr>\n",
       "      <th>3</th>\n",
       "      <td>05</td>\n",
       "      <td>Arkansas</td>\n",
       "      <td>POLYGON ((-94.47384 36.50186, -90.15254 36.496...</td>\n",
       "    </tr>\n",
       "    <tr>\n",
       "      <th>4</th>\n",
       "      <td>06</td>\n",
       "      <td>California</td>\n",
       "      <td>POLYGON ((-123.23326 42.00619, -122.37885 42.0...</td>\n",
       "    </tr>\n",
       "  </tbody>\n",
       "</table>\n",
       "</div>"
      ],
      "text/plain": [
       "  state_fips  state_name                                           geometry\n",
       "0         01     Alabama  POLYGON ((-87.35930 35.00118, -85.60667 34.984...\n",
       "1         02      Alaska  MULTIPOLYGON (((-131.60202 55.11798, -131.5691...\n",
       "2         04     Arizona  POLYGON ((-109.04250 37.00026, -109.04798 31.3...\n",
       "3         05    Arkansas  POLYGON ((-94.47384 36.50186, -90.15254 36.496...\n",
       "4         06  California  POLYGON ((-123.23326 42.00619, -122.37885 42.0..."
      ]
     },
     "execution_count": 33,
     "metadata": {},
     "output_type": "execute_result"
    }
   ],
   "source": [
    "states_gdf.head()"
   ]
  },
  {
   "cell_type": "markdown",
   "id": "b380a383-1555-4a13-8e12-3b53ed5d67a8",
   "metadata": {},
   "source": [
    "#### Quick plot"
   ]
  },
  {
   "cell_type": "code",
   "execution_count": 32,
   "id": "d0b9296a-d000-4b79-b063-71ef3b3fb9dd",
   "metadata": {},
   "outputs": [
    {
     "data": {
      "text/plain": [
       "<AxesSubplot:>"
      ]
     },
     "execution_count": 32,
     "metadata": {},
     "output_type": "execute_result"
    },
    {
     "data": {
      "image/png": "[encoded data removed]",
      "text/plain": [
       "<Figure size 432x288 with 1 Axes>"
      ]
     },
     "metadata": {
      "needs_background": "light"
     },
     "output_type": "display_data"
    }
   ],
   "source": [
    "states_gdf.plot()"
   ]
  },
  {
   "cell_type": "markdown",
   "id": "7abe1ca9-3dc0-41a5-9515-26c6e28f8c89",
   "metadata": {},
   "source": [
    "#### Exclude features: Alaska and Hawaii"
   ]
  },
  {
   "cell_type": "code",
   "execution_count": 34,
   "id": "79f9b48a-4321-4b5b-b5ed-c7d3daa10ce8",
   "metadata": {},
   "outputs": [],
   "source": [
    "exclude = [\"Alaska\", \"Hawaii\", \"Puerto Rico\"]"
   ]
  },
  {
   "cell_type": "markdown",
   "id": "296dba7c-50a9-4946-acaf-bfd89ddbe23a",
   "metadata": {},
   "source": [
    "#### Focus on the mainland states"
   ]
  },
  {
   "cell_type": "code",
   "execution_count": 40,
   "id": "43308c74-7d72-4384-a4b2-7c2ca8779881",
   "metadata": {},
   "outputs": [],
   "source": [
    "mainland_gdf = states_gdf[~states_gdf[\"state_name\"].isin(exclude)]"
   ]
  },
  {
   "cell_type": "markdown",
   "id": "b414c442-6bc0-414f-b21f-47179fb9ab3f",
   "metadata": {
    "tags": []
   },
   "source": [
    "#### Plot it"
   ]
  },
  {
   "cell_type": "code",
   "execution_count": 41,
   "id": "f7233391-989e-4ccf-a2c6-c76549169acb",
   "metadata": {},
   "outputs": [
    {
     "data": {
      "text/plain": [
       "<AxesSubplot:>"
      ]
     },
     "execution_count": 41,
     "metadata": {},
     "output_type": "execute_result"
    },
    {
     "data": {
      "image/png": "[encoded data removed]",
      "text/plain": [
       "<Figure size 432x288 with 1 Axes>"
      ]
     },
     "metadata": {
      "needs_background": "light"
     },
     "output_type": "display_data"
    }
   ],
   "source": [
    "mainland_gdf.plot()"
   ]
  },
  {
   "cell_type": "markdown",
   "id": "35b7366b-32be-44ce-be95-02dd87011952",
   "metadata": {},
   "source": [
    "#### Filter just west coast"
   ]
  },
  {
   "cell_type": "code",
   "execution_count": 42,
   "id": "9c0d2d55-2257-4685-90d5-483a3a4fe0b9",
   "metadata": {},
   "outputs": [],
   "source": [
    "west_coast_states = [\"California\", \"Oregon\", \"Washington\"]"
   ]
  },
  {
   "cell_type": "code",
   "execution_count": 43,
   "id": "a1894253-fc0b-48b7-8ea0-d5bf6fda8694",
   "metadata": {},
   "outputs": [],
   "source": [
    "west_coast_gdf = states_gdf[states_gdf[\"state_name\"].isin(west_coast_states)]"
   ]
  },
  {
   "cell_type": "markdown",
   "id": "1b686359-5727-4e59-9767-a6084fce7db7",
   "metadata": {},
   "source": [
    "#### Plot it"
   ]
  },
  {
   "cell_type": "code",
   "execution_count": 44,
   "id": "822cec05-7b70-44cc-a464-c0cfaa56e650",
   "metadata": {},
   "outputs": [
    {
     "data": {
      "text/plain": [
       "<AxesSubplot:>"
      ]
     },
     "execution_count": 44,
     "metadata": {},
     "output_type": "execute_result"
    },
    {
     "data": {
      "image/png": "[encoded data removed]",
      "text/plain": [
       "<Figure size 432x288 with 1 Axes>"
      ]
     },
     "metadata": {
      "needs_background": "light"
     },
     "output_type": "display_data"
    }
   ],
   "source": [
    "west_coast_gdf.plot()"
   ]
  },
  {
   "cell_type": "markdown",
   "id": "ec91b6c9-4075-4dc7-a6e1-98f4cb7f0166",
   "metadata": {},
   "source": [
    "---"
   ]
  },
  {
   "cell_type": "markdown",
   "id": "6fc65518-6910-47dc-8e10-5ba4610d1078",
   "metadata": {},
   "source": [
    "## Import values data"
   ]
  },
  {
   "cell_type": "markdown",
   "id": "e3679855-5531-45df-b3a0-08ff836af848",
   "metadata": {},
   "source": [
    "#### Mexican-American population by state"
   ]
  },
  {
   "cell_type": "code",
   "execution_count": 45,
   "id": "396fbd6a-515b-413a-aa02-9a49b0d70690",
   "metadata": {},
   "outputs": [],
   "source": [
    "df = pd.read_csv(\n",
    "    \"https://raw.githubusercontent.com/stiles/usc/main/data/processed/mexican_pop_states.csv\",\n",
    "    dtype={\"geoid\": str},\n",
    ")"
   ]
  },
  {
   "cell_type": "markdown",
   "id": "f99da557-9a8c-400c-95c3-fed7214df235",
   "metadata": {},
   "source": [
    "#### First five rows"
   ]
  },
  {
   "cell_type": "code",
   "execution_count": 46,
   "id": "48d2850f-cf51-446e-8f5a-de70fbe26f42",
   "metadata": {},
   "outputs": [
    {
     "data": {
      "text/html": [
       "<div>\n",
       "<style scoped>\n",
       "    .dataframe tbody tr th:only-of-type {\n",
       "        vertical-align: middle;\n",
       "    }\n",
       "\n",
       "    .dataframe tbody tr th {\n",
       "        vertical-align: top;\n",
       "    }\n",
       "\n",
       "    .dataframe thead th {\n",
       "        text-align: right;\n",
       "    }\n",
       "</style>\n",
       "<table border=\"1\" class=\"dataframe\">\n",
       "  <thead>\n",
       "    <tr style=\"text-align: right;\">\n",
       "      <th></th>\n",
       "      <th>geoid</th>\n",
       "      <th>name</th>\n",
       "      <th>all_pop</th>\n",
       "      <th>hisp_pop</th>\n",
       "      <th>mexican_pop</th>\n",
       "      <th>hisp_pct_pop</th>\n",
       "      <th>mex_pct_all_pop</th>\n",
       "      <th>mex_pct_hisp_pop</th>\n",
       "    </tr>\n",
       "  </thead>\n",
       "  <tbody>\n",
       "    <tr>\n",
       "      <th>0</th>\n",
       "      <td>01</td>\n",
       "      <td>Alabama</td>\n",
       "      <td>4876250</td>\n",
       "      <td>208626</td>\n",
       "      <td>126071</td>\n",
       "      <td>4.28</td>\n",
       "      <td>2.59</td>\n",
       "      <td>60.43</td>\n",
       "    </tr>\n",
       "    <tr>\n",
       "      <th>1</th>\n",
       "      <td>02</td>\n",
       "      <td>Alaska</td>\n",
       "      <td>737068</td>\n",
       "      <td>51870</td>\n",
       "      <td>28205</td>\n",
       "      <td>7.04</td>\n",
       "      <td>3.83</td>\n",
       "      <td>54.38</td>\n",
       "    </tr>\n",
       "    <tr>\n",
       "      <th>2</th>\n",
       "      <td>04</td>\n",
       "      <td>Arizona</td>\n",
       "      <td>7050299</td>\n",
       "      <td>2208663</td>\n",
       "      <td>1957968</td>\n",
       "      <td>31.33</td>\n",
       "      <td>27.77</td>\n",
       "      <td>88.65</td>\n",
       "    </tr>\n",
       "    <tr>\n",
       "      <th>3</th>\n",
       "      <td>05</td>\n",
       "      <td>Arkansas</td>\n",
       "      <td>2999370</td>\n",
       "      <td>224130</td>\n",
       "      <td>161614</td>\n",
       "      <td>7.47</td>\n",
       "      <td>5.39</td>\n",
       "      <td>72.11</td>\n",
       "    </tr>\n",
       "    <tr>\n",
       "      <th>4</th>\n",
       "      <td>06</td>\n",
       "      <td>California</td>\n",
       "      <td>39283497</td>\n",
       "      <td>15327688</td>\n",
       "      <td>12687312</td>\n",
       "      <td>39.02</td>\n",
       "      <td>32.30</td>\n",
       "      <td>82.77</td>\n",
       "    </tr>\n",
       "  </tbody>\n",
       "</table>\n",
       "</div>"
      ],
      "text/plain": [
       "  geoid        name   all_pop  hisp_pop  mexican_pop  hisp_pct_pop  \\\n",
       "0    01     Alabama   4876250    208626       126071          4.28   \n",
       "1    02      Alaska    737068     51870        28205          7.04   \n",
       "2    04     Arizona   7050299   2208663      1957968         31.33   \n",
       "3    05    Arkansas   2999370    224130       161614          7.47   \n",
       "4    06  California  39283497  15327688     12687312         39.02   \n",
       "\n",
       "   mex_pct_all_pop  mex_pct_hisp_pop  \n",
       "0             2.59             60.43  \n",
       "1             3.83             54.38  \n",
       "2            27.77             88.65  \n",
       "3             5.39             72.11  \n",
       "4            32.30             82.77  "
      ]
     },
     "execution_count": 46,
     "metadata": {},
     "output_type": "execute_result"
    }
   ],
   "source": [
    "df.head()"
   ]
  },
  {
   "cell_type": "markdown",
   "id": "48da66bc-21d4-4cda-bcf7-403c48c812de",
   "metadata": {},
   "source": [
    "#### Which state's population has the highest share of Mexican-American residents? "
   ]
  },
  {
   "cell_type": "code",
   "execution_count": 48,
   "id": "b36786fb-3b67-4862-b514-9b12b3894bf8",
   "metadata": {},
   "outputs": [
    {
     "data": {
      "text/html": [
       "<div>\n",
       "<style scoped>\n",
       "    .dataframe tbody tr th:only-of-type {\n",
       "        vertical-align: middle;\n",
       "    }\n",
       "\n",
       "    .dataframe tbody tr th {\n",
       "        vertical-align: top;\n",
       "    }\n",
       "\n",
       "    .dataframe thead th {\n",
       "        text-align: right;\n",
       "    }\n",
       "</style>\n",
       "<table border=\"1\" class=\"dataframe\">\n",
       "  <thead>\n",
       "    <tr style=\"text-align: right;\">\n",
       "      <th></th>\n",
       "      <th>geoid</th>\n",
       "      <th>name</th>\n",
       "      <th>all_pop</th>\n",
       "      <th>hisp_pop</th>\n",
       "      <th>mexican_pop</th>\n",
       "      <th>hisp_pct_pop</th>\n",
       "      <th>mex_pct_all_pop</th>\n",
       "      <th>mex_pct_hisp_pop</th>\n",
       "    </tr>\n",
       "  </thead>\n",
       "  <tbody>\n",
       "    <tr>\n",
       "      <th>43</th>\n",
       "      <td>48</td>\n",
       "      <td>Texas</td>\n",
       "      <td>28260856</td>\n",
       "      <td>11116881</td>\n",
       "      <td>9502159</td>\n",
       "      <td>39.34</td>\n",
       "      <td>33.62</td>\n",
       "      <td>85.48</td>\n",
       "    </tr>\n",
       "  </tbody>\n",
       "</table>\n",
       "</div>"
      ],
      "text/plain": [
       "   geoid   name   all_pop  hisp_pop  mexican_pop  hisp_pct_pop  \\\n",
       "43    48  Texas  28260856  11116881      9502159         39.34   \n",
       "\n",
       "    mex_pct_all_pop  mex_pct_hisp_pop  \n",
       "43            33.62             85.48  "
      ]
     },
     "execution_count": 48,
     "metadata": {},
     "output_type": "execute_result"
    }
   ],
   "source": [
    "df[df[\"mex_pct_all_pop\"] == df[\"mex_pct_all_pop\"].max()]"
   ]
  },
  {
   "cell_type": "markdown",
   "id": "d7113c78-8fed-4ad1-9836-b193aeeef743",
   "metadata": {},
   "source": [
    "#### Which state's population has the lowest share of Hispanic residents? "
   ]
  },
  {
   "cell_type": "code",
   "execution_count": 52,
   "id": "7eb08567-9449-40af-bcce-866b47cfbffb",
   "metadata": {},
   "outputs": [
    {
     "data": {
      "text/html": [
       "<div>\n",
       "<style scoped>\n",
       "    .dataframe tbody tr th:only-of-type {\n",
       "        vertical-align: middle;\n",
       "    }\n",
       "\n",
       "    .dataframe tbody tr th {\n",
       "        vertical-align: top;\n",
       "    }\n",
       "\n",
       "    .dataframe thead th {\n",
       "        text-align: right;\n",
       "    }\n",
       "</style>\n",
       "<table border=\"1\" class=\"dataframe\">\n",
       "  <thead>\n",
       "    <tr style=\"text-align: right;\">\n",
       "      <th></th>\n",
       "      <th>geoid</th>\n",
       "      <th>name</th>\n",
       "      <th>all_pop</th>\n",
       "      <th>hisp_pop</th>\n",
       "      <th>mexican_pop</th>\n",
       "      <th>hisp_pct_pop</th>\n",
       "      <th>mex_pct_all_pop</th>\n",
       "      <th>mex_pct_hisp_pop</th>\n",
       "    </tr>\n",
       "  </thead>\n",
       "  <tbody>\n",
       "    <tr>\n",
       "      <th>48</th>\n",
       "      <td>54</td>\n",
       "      <td>West Virginia</td>\n",
       "      <td>1817305</td>\n",
       "      <td>28368</td>\n",
       "      <td>11009</td>\n",
       "      <td>1.56</td>\n",
       "      <td>0.61</td>\n",
       "      <td>38.81</td>\n",
       "    </tr>\n",
       "  </tbody>\n",
       "</table>\n",
       "</div>"
      ],
      "text/plain": [
       "   geoid           name  all_pop  hisp_pop  mexican_pop  hisp_pct_pop  \\\n",
       "48    54  West Virginia  1817305     28368        11009          1.56   \n",
       "\n",
       "    mex_pct_all_pop  mex_pct_hisp_pop  \n",
       "48             0.61             38.81  "
      ]
     },
     "execution_count": 52,
     "metadata": {},
     "output_type": "execute_result"
    }
   ],
   "source": [
    "df[df[\"hisp_pct_pop\"] == df[\"hisp_pct_pop\"].min()]"
   ]
  },
  {
   "cell_type": "markdown",
   "id": "443c310e-ac1d-4253-9ff6-cfba2df0c8d9",
   "metadata": {},
   "source": [
    "---"
   ]
  },
  {
   "cell_type": "markdown",
   "id": "6ca73e63-73d6-4828-aca5-a338fe931d41",
   "metadata": {},
   "source": [
    "## Merge"
   ]
  },
  {
   "cell_type": "code",
   "execution_count": 53,
   "id": "ac596cdd-8339-48bc-a1d7-e4a49cabddaa",
   "metadata": {},
   "outputs": [],
   "source": [
    "mex_am_gdf = pd.merge(mainland_gdf, df, left_on=\"state_fips\", right_on=\"geoid\")"
   ]
  },
  {
   "cell_type": "markdown",
   "id": "e1cd1a1d-f970-4453-89c4-5bf7e2bc22bd",
   "metadata": {},
   "source": [
    "#### Did it work? "
   ]
  },
  {
   "cell_type": "code",
   "execution_count": 56,
   "id": "b791391b-9025-4e49-b24d-c60c144ff025",
   "metadata": {},
   "outputs": [
    {
     "data": {
      "text/plain": [
       "<AxesSubplot:>"
      ]
     },
     "execution_count": 56,
     "metadata": {},
     "output_type": "execute_result"
    },
    {
     "data": {
      "image/png": "[encoded data removed]",
      "text/plain": [
       "<Figure size 432x288 with 1 Axes>"
      ]
     },
     "metadata": {
      "needs_background": "light"
     },
     "output_type": "display_data"
    }
   ],
   "source": [
    "mex_am_gdf.plot()"
   ]
  },
  {
   "cell_type": "markdown",
   "id": "1c43bb14-ae4f-4895-ab91-fb1446117e47",
   "metadata": {},
   "source": [
    "#### First five rows? "
   ]
  },
  {
   "cell_type": "code",
   "execution_count": 57,
   "id": "a3e99b61-425d-4c32-97dc-fd6eb2c2e105",
   "metadata": {},
   "outputs": [
    {
     "data": {
      "text/html": [
       "<div>\n",
       "<style scoped>\n",
       "    .dataframe tbody tr th:only-of-type {\n",
       "        vertical-align: middle;\n",
       "    }\n",
       "\n",
       "    .dataframe tbody tr th {\n",
       "        vertical-align: top;\n",
       "    }\n",
       "\n",
       "    .dataframe thead th {\n",
       "        text-align: right;\n",
       "    }\n",
       "</style>\n",
       "<table border=\"1\" class=\"dataframe\">\n",
       "  <thead>\n",
       "    <tr style=\"text-align: right;\">\n",
       "      <th></th>\n",
       "      <th>state_fips</th>\n",
       "      <th>state_name</th>\n",
       "      <th>geometry</th>\n",
       "      <th>geoid</th>\n",
       "      <th>name</th>\n",
       "      <th>all_pop</th>\n",
       "      <th>hisp_pop</th>\n",
       "      <th>mexican_pop</th>\n",
       "      <th>hisp_pct_pop</th>\n",
       "      <th>mex_pct_all_pop</th>\n",
       "      <th>mex_pct_hisp_pop</th>\n",
       "    </tr>\n",
       "  </thead>\n",
       "  <tbody>\n",
       "    <tr>\n",
       "      <th>0</th>\n",
       "      <td>01</td>\n",
       "      <td>Alabama</td>\n",
       "      <td>POLYGON ((-87.35930 35.00118, -85.60667 34.984...</td>\n",
       "      <td>01</td>\n",
       "      <td>Alabama</td>\n",
       "      <td>4876250</td>\n",
       "      <td>208626</td>\n",
       "      <td>126071</td>\n",
       "      <td>4.28</td>\n",
       "      <td>2.59</td>\n",
       "      <td>60.43</td>\n",
       "    </tr>\n",
       "    <tr>\n",
       "      <th>1</th>\n",
       "      <td>04</td>\n",
       "      <td>Arizona</td>\n",
       "      <td>POLYGON ((-109.04250 37.00026, -109.04798 31.3...</td>\n",
       "      <td>04</td>\n",
       "      <td>Arizona</td>\n",
       "      <td>7050299</td>\n",
       "      <td>2208663</td>\n",
       "      <td>1957968</td>\n",
       "      <td>31.33</td>\n",
       "      <td>27.77</td>\n",
       "      <td>88.65</td>\n",
       "    </tr>\n",
       "    <tr>\n",
       "      <th>2</th>\n",
       "      <td>05</td>\n",
       "      <td>Arkansas</td>\n",
       "      <td>POLYGON ((-94.47384 36.50186, -90.15254 36.496...</td>\n",
       "      <td>05</td>\n",
       "      <td>Arkansas</td>\n",
       "      <td>2999370</td>\n",
       "      <td>224130</td>\n",
       "      <td>161614</td>\n",
       "      <td>7.47</td>\n",
       "      <td>5.39</td>\n",
       "      <td>72.11</td>\n",
       "    </tr>\n",
       "    <tr>\n",
       "      <th>3</th>\n",
       "      <td>06</td>\n",
       "      <td>California</td>\n",
       "      <td>POLYGON ((-123.23326 42.00619, -122.37885 42.0...</td>\n",
       "      <td>06</td>\n",
       "      <td>California</td>\n",
       "      <td>39283497</td>\n",
       "      <td>15327688</td>\n",
       "      <td>12687312</td>\n",
       "      <td>39.02</td>\n",
       "      <td>32.30</td>\n",
       "      <td>82.77</td>\n",
       "    </tr>\n",
       "    <tr>\n",
       "      <th>4</th>\n",
       "      <td>08</td>\n",
       "      <td>Colorado</td>\n",
       "      <td>POLYGON ((-107.91973 41.00391, -105.72895 40.9...</td>\n",
       "      <td>08</td>\n",
       "      <td>Colorado</td>\n",
       "      <td>5610349</td>\n",
       "      <td>1208172</td>\n",
       "      <td>885441</td>\n",
       "      <td>21.53</td>\n",
       "      <td>15.78</td>\n",
       "      <td>73.29</td>\n",
       "    </tr>\n",
       "  </tbody>\n",
       "</table>\n",
       "</div>"
      ],
      "text/plain": [
       "  state_fips  state_name                                           geometry  \\\n",
       "0         01     Alabama  POLYGON ((-87.35930 35.00118, -85.60667 34.984...   \n",
       "1         04     Arizona  POLYGON ((-109.04250 37.00026, -109.04798 31.3...   \n",
       "2         05    Arkansas  POLYGON ((-94.47384 36.50186, -90.15254 36.496...   \n",
       "3         06  California  POLYGON ((-123.23326 42.00619, -122.37885 42.0...   \n",
       "4         08    Colorado  POLYGON ((-107.91973 41.00391, -105.72895 40.9...   \n",
       "\n",
       "  geoid        name   all_pop  hisp_pop  mexican_pop  hisp_pct_pop  \\\n",
       "0    01     Alabama   4876250    208626       126071          4.28   \n",
       "1    04     Arizona   7050299   2208663      1957968         31.33   \n",
       "2    05    Arkansas   2999370    224130       161614          7.47   \n",
       "3    06  California  39283497  15327688     12687312         39.02   \n",
       "4    08    Colorado   5610349   1208172       885441         21.53   \n",
       "\n",
       "   mex_pct_all_pop  mex_pct_hisp_pop  \n",
       "0             2.59             60.43  \n",
       "1            27.77             88.65  \n",
       "2             5.39             72.11  \n",
       "3            32.30             82.77  \n",
       "4            15.78             73.29  "
      ]
     },
     "execution_count": 57,
     "metadata": {},
     "output_type": "execute_result"
    }
   ],
   "source": [
    "mex_am_gdf.head()"
   ]
  },
  {
   "cell_type": "markdown",
   "id": "3428dc1d-773e-4b22-bb66-b5ccb49bc122",
   "metadata": {},
   "source": [
    "---"
   ]
  },
  {
   "cell_type": "markdown",
   "id": "8f665e44-4b99-4c85-ba07-95cf3970e472",
   "metadata": {},
   "source": [
    "## Export"
   ]
  },
  {
   "cell_type": "markdown",
   "id": "c9ede30d-928b-40bf-814e-a51df1392ccf",
   "metadata": {},
   "source": [
    "#### Save our geodataframe as GeoJSON"
   ]
  },
  {
   "cell_type": "code",
   "execution_count": 60,
   "id": "1c5126a9-127e-4680-bd33-4c8834950172",
   "metadata": {},
   "outputs": [],
   "source": [
    "mex_am_gdf.to_file(\n",
    "    \"../data/processed/mexican_americans_states.geojson\", driver=\"GeoJSON\"\n",
    ")"
   ]
  }
 ],
 "metadata": {
  "kernelspec": {
   "display_name": "Python 3 (ipykernel)",
   "language": "python",
   "name": "python3"
  },
  "language_info": {
   "codemirror_mode": {
    "name": "ipython",
    "version": 3
   },
   "file_extension": ".py",
   "mimetype": "text/x-python",
   "name": "python",
   "nbconvert_exporter": "python",
   "pygments_lexer": "ipython3",
   "version": "3.9.7"
  }
 },
 "nbformat": 4,
 "nbformat_minor": 5
}
