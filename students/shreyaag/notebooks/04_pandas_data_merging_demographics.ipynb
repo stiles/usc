{
 "cells": [
  {
   "cell_type": "markdown",
   "id": "98077971-87b9-4dfc-9afe-06ed3f92a28f",
   "metadata": {},
   "source": [
    "# Week 6: Merging data with Pandas, Part 2\n",
    "Adding demographics to our voting/vax table [using the `merge()` method](https://pandas.pydata.org/docs/reference/api/pandas.DataFrame.merge.html)"
   ]
  },
  {
   "cell_type": "markdown",
   "id": "7606243d-b026-46af-adfa-6d6dfa8f06e3",
   "metadata": {},
   "source": [
    "#### Load our Python tools"
   ]
  },
  {
   "cell_type": "code",
   "execution_count": 1,
   "id": "5aa6e6c5-2705-40ab-ade1-719f609a3794",
   "metadata": {},
   "outputs": [],
   "source": [
    "%load_ext lab_black"
   ]
  },
  {
   "cell_type": "code",
   "execution_count": 2,
   "id": "7c2be76f-ca72-4a68-9ef4-3848ec01746a",
   "metadata": {},
   "outputs": [],
   "source": [
    "import pandas as pd\n",
    "import altair as alt"
   ]
  },
  {
   "cell_type": "code",
   "execution_count": 3,
   "id": "084ca41d-4ca9-4f90-a6fd-3109902a2fda",
   "metadata": {},
   "outputs": [],
   "source": [
    "pd.options.display.max_columns = 100\n",
    "pd.options.display.max_rows = 1000\n",
    "pd.options.display.max_colwidth = None"
   ]
  },
  {
   "cell_type": "markdown",
   "id": "c856fd59-ac22-49de-876d-84413a76fed0",
   "metadata": {},
   "source": [
    "---"
   ]
  },
  {
   "cell_type": "markdown",
   "id": "8d244a4f-97c5-4a94-b8e4-61b2ae4a9d57",
   "metadata": {},
   "source": [
    "## Vax/Recall"
   ]
  },
  {
   "cell_type": "markdown",
   "id": "0db6426c-7f83-4b0e-a8a7-618d3563e328",
   "metadata": {},
   "source": [
    "#### Read data (don't forget to define data types here)"
   ]
  },
  {
   "cell_type": "code",
   "execution_count": 6,
   "id": "b0a267a6-3b48-4818-8c1c-df3222c40a40",
   "metadata": {},
   "outputs": [],
   "source": [
    "vax_recall_df = pd.read_csv(\"../data/processed/no_vax_corr.csv\", dtype={\"fips\": str})"
   ]
  },
  {
   "cell_type": "code",
   "execution_count": 7,
   "id": "499d1ef3-e4d8-439b-bdb4-016bcf466a7f",
   "metadata": {},
   "outputs": [
    {
     "data": {
      "text/html": [
       "<div>\n",
       "<style scoped>\n",
       "    .dataframe tbody tr th:only-of-type {\n",
       "        vertical-align: middle;\n",
       "    }\n",
       "\n",
       "    .dataframe tbody tr th {\n",
       "        vertical-align: top;\n",
       "    }\n",
       "\n",
       "    .dataframe thead th {\n",
       "        text-align: right;\n",
       "    }\n",
       "</style>\n",
       "<table border=\"1\" class=\"dataframe\">\n",
       "  <thead>\n",
       "    <tr style=\"text-align: right;\">\n",
       "      <th></th>\n",
       "      <th>county</th>\n",
       "      <th>fips</th>\n",
       "      <th>no_percent</th>\n",
       "      <th>yes_percent</th>\n",
       "      <th>winner_2021</th>\n",
       "      <th>fully_vaccinated_percent</th>\n",
       "      <th>population</th>\n",
       "    </tr>\n",
       "  </thead>\n",
       "  <tbody>\n",
       "    <tr>\n",
       "      <th>0</th>\n",
       "      <td>Alameda</td>\n",
       "      <td>001</td>\n",
       "      <td>82.5</td>\n",
       "      <td>17.5</td>\n",
       "      <td>D</td>\n",
       "      <td>81.46</td>\n",
       "      <td>1643700.0</td>\n",
       "    </tr>\n",
       "    <tr>\n",
       "      <th>1</th>\n",
       "      <td>Alpine</td>\n",
       "      <td>003</td>\n",
       "      <td>60.9</td>\n",
       "      <td>39.1</td>\n",
       "      <td>D</td>\n",
       "      <td>62.54</td>\n",
       "      <td>1148.0</td>\n",
       "    </tr>\n",
       "    <tr>\n",
       "      <th>2</th>\n",
       "      <td>Amador</td>\n",
       "      <td>005</td>\n",
       "      <td>36.9</td>\n",
       "      <td>63.1</td>\n",
       "      <td>R</td>\n",
       "      <td>54.27</td>\n",
       "      <td>37829.0</td>\n",
       "    </tr>\n",
       "    <tr>\n",
       "      <th>3</th>\n",
       "      <td>Butte</td>\n",
       "      <td>007</td>\n",
       "      <td>47.5</td>\n",
       "      <td>52.5</td>\n",
       "      <td>R</td>\n",
       "      <td>50.26</td>\n",
       "      <td>227075.0</td>\n",
       "    </tr>\n",
       "    <tr>\n",
       "      <th>4</th>\n",
       "      <td>Calaveras</td>\n",
       "      <td>009</td>\n",
       "      <td>38.3</td>\n",
       "      <td>61.7</td>\n",
       "      <td>R</td>\n",
       "      <td>53.23</td>\n",
       "      <td>45235.0</td>\n",
       "    </tr>\n",
       "  </tbody>\n",
       "</table>\n",
       "</div>"
      ],
      "text/plain": [
       "      county fips  no_percent  yes_percent winner_2021  \\\n",
       "0    Alameda  001        82.5         17.5           D   \n",
       "1     Alpine  003        60.9         39.1           D   \n",
       "2     Amador  005        36.9         63.1           R   \n",
       "3      Butte  007        47.5         52.5           R   \n",
       "4  Calaveras  009        38.3         61.7           R   \n",
       "\n",
       "   fully_vaccinated_percent  population  \n",
       "0                     81.46   1643700.0  \n",
       "1                     62.54      1148.0  \n",
       "2                     54.27     37829.0  \n",
       "3                     50.26    227075.0  \n",
       "4                     53.23     45235.0  "
      ]
     },
     "execution_count": 7,
     "metadata": {},
     "output_type": "execute_result"
    }
   ],
   "source": [
    "vax_recall_df.head()"
   ]
  },
  {
   "cell_type": "markdown",
   "id": "f7d3bc4a-147b-4e39-866f-66a545ab0437",
   "metadata": {},
   "source": [
    "---"
   ]
  },
  {
   "cell_type": "markdown",
   "id": "f5804749-d1ac-4bc2-9bb7-a5b0f0926b13",
   "metadata": {},
   "source": [
    "## Demographics"
   ]
  },
  {
   "cell_type": "code",
   "execution_count": 9,
   "id": "c8dc5cc1-e495-4b0f-8380-4210833474cb",
   "metadata": {},
   "outputs": [],
   "source": [
    "demos_df = pd.read_csv(\n",
    "    \"../data/raw/ca_counties_demographics.csv\",\n",
    "    dtype={\"state_fips\": str, \"cnty_fips\": str, \"fips\": str},\n",
    ")"
   ]
  },
  {
   "cell_type": "code",
   "execution_count": 10,
   "id": "0604c68b-6244-4770-b6af-41f576e9ca47",
   "metadata": {},
   "outputs": [
    {
     "data": {
      "text/html": [
       "<div>\n",
       "<style scoped>\n",
       "    .dataframe tbody tr th:only-of-type {\n",
       "        vertical-align: middle;\n",
       "    }\n",
       "\n",
       "    .dataframe tbody tr th {\n",
       "        vertical-align: top;\n",
       "    }\n",
       "\n",
       "    .dataframe thead th {\n",
       "        text-align: right;\n",
       "    }\n",
       "</style>\n",
       "<table border=\"1\" class=\"dataframe\">\n",
       "  <thead>\n",
       "    <tr style=\"text-align: right;\">\n",
       "      <th></th>\n",
       "      <th>name</th>\n",
       "      <th>state_name</th>\n",
       "      <th>state_fips</th>\n",
       "      <th>cnty_fips</th>\n",
       "      <th>fips</th>\n",
       "      <th>population</th>\n",
       "      <th>white</th>\n",
       "      <th>black</th>\n",
       "      <th>ameri_es</th>\n",
       "      <th>asian</th>\n",
       "      <th>hawn_pi</th>\n",
       "      <th>hispanic</th>\n",
       "      <th>other</th>\n",
       "      <th>mult_race</th>\n",
       "      <th>ave_hh_sz</th>\n",
       "      <th>hsehld_1_m</th>\n",
       "      <th>hsehld_1_f</th>\n",
       "      <th>marhh_chd</th>\n",
       "      <th>marhh_no_c</th>\n",
       "      <th>mhh_child</th>\n",
       "      <th>fhh_child</th>\n",
       "      <th>families</th>\n",
       "      <th>ave_fam_sz</th>\n",
       "      <th>hse_units</th>\n",
       "      <th>vacant</th>\n",
       "      <th>owner_occ</th>\n",
       "      <th>renter_occ</th>\n",
       "      <th>no_farms12</th>\n",
       "      <th>ave_size12</th>\n",
       "      <th>crop_acr12</th>\n",
       "      <th>ave_sale12</th>\n",
       "      <th>sqmi</th>\n",
       "      <th>no_farms17</th>\n",
       "      <th>ave_size17</th>\n",
       "      <th>crop_acr17</th>\n",
       "      <th>ave_sale17</th>\n",
       "      <th>shape_length</th>\n",
       "      <th>shape_area</th>\n",
       "    </tr>\n",
       "  </thead>\n",
       "  <tbody>\n",
       "    <tr>\n",
       "      <th>0</th>\n",
       "      <td>Alameda</td>\n",
       "      <td>California</td>\n",
       "      <td>06</td>\n",
       "      <td>001</td>\n",
       "      <td>06001</td>\n",
       "      <td>1632804</td>\n",
       "      <td>649122</td>\n",
       "      <td>190451</td>\n",
       "      <td>9799</td>\n",
       "      <td>394560</td>\n",
       "      <td>12802</td>\n",
       "      <td>339889</td>\n",
       "      <td>162540</td>\n",
       "      <td>90997</td>\n",
       "      <td>2.70</td>\n",
       "      <td>62350</td>\n",
       "      <td>79576</td>\n",
       "      <td>130014</td>\n",
       "      <td>123671</td>\n",
       "      <td>14625</td>\n",
       "      <td>41773</td>\n",
       "      <td>352423</td>\n",
       "      <td>3.30</td>\n",
       "      <td>582549</td>\n",
       "      <td>37411</td>\n",
       "      <td>291242</td>\n",
       "      <td>253896</td>\n",
       "      <td>452.0</td>\n",
       "      <td>393.0</td>\n",
       "      <td>20347.0</td>\n",
       "      <td>127261.0</td>\n",
       "      <td>744.06</td>\n",
       "      <td>446.0</td>\n",
       "      <td>411.0</td>\n",
       "      <td>17276.0</td>\n",
       "      <td>103507.0</td>\n",
       "      <td>3.850333</td>\n",
       "      <td>0.196742</td>\n",
       "    </tr>\n",
       "    <tr>\n",
       "      <th>1</th>\n",
       "      <td>Alpine</td>\n",
       "      <td>California</td>\n",
       "      <td>06</td>\n",
       "      <td>003</td>\n",
       "      <td>06003</td>\n",
       "      <td>1109</td>\n",
       "      <td>881</td>\n",
       "      <td>0</td>\n",
       "      <td>240</td>\n",
       "      <td>7</td>\n",
       "      <td>0</td>\n",
       "      <td>84</td>\n",
       "      <td>19</td>\n",
       "      <td>28</td>\n",
       "      <td>2.32</td>\n",
       "      <td>89</td>\n",
       "      <td>57</td>\n",
       "      <td>82</td>\n",
       "      <td>149</td>\n",
       "      <td>19</td>\n",
       "      <td>28</td>\n",
       "      <td>297</td>\n",
       "      <td>2.92</td>\n",
       "      <td>1760</td>\n",
       "      <td>1263</td>\n",
       "      <td>357</td>\n",
       "      <td>140</td>\n",
       "      <td>3.0</td>\n",
       "      <td>0.0</td>\n",
       "      <td>563.0</td>\n",
       "      <td>88444.0</td>\n",
       "      <td>743.60</td>\n",
       "      <td>6.0</td>\n",
       "      <td>529.0</td>\n",
       "      <td>0.0</td>\n",
       "      <td>0.0</td>\n",
       "      <td>2.174037</td>\n",
       "      <td>0.199155</td>\n",
       "    </tr>\n",
       "    <tr>\n",
       "      <th>2</th>\n",
       "      <td>Amador</td>\n",
       "      <td>California</td>\n",
       "      <td>06</td>\n",
       "      <td>005</td>\n",
       "      <td>06005</td>\n",
       "      <td>40533</td>\n",
       "      <td>33149</td>\n",
       "      <td>962</td>\n",
       "      <td>678</td>\n",
       "      <td>419</td>\n",
       "      <td>77</td>\n",
       "      <td>4756</td>\n",
       "      <td>1450</td>\n",
       "      <td>1356</td>\n",
       "      <td>2.30</td>\n",
       "      <td>1688</td>\n",
       "      <td>2215</td>\n",
       "      <td>2315</td>\n",
       "      <td>5548</td>\n",
       "      <td>384</td>\n",
       "      <td>724</td>\n",
       "      <td>9793</td>\n",
       "      <td>2.75</td>\n",
       "      <td>18032</td>\n",
       "      <td>3463</td>\n",
       "      <td>10883</td>\n",
       "      <td>3686</td>\n",
       "      <td>461.0</td>\n",
       "      <td>337.0</td>\n",
       "      <td>16022.0</td>\n",
       "      <td>69345.0</td>\n",
       "      <td>606.02</td>\n",
       "      <td>482.0</td>\n",
       "      <td>377.0</td>\n",
       "      <td>14646.0</td>\n",
       "      <td>64376.0</td>\n",
       "      <td>2.928250</td>\n",
       "      <td>0.161973</td>\n",
       "    </tr>\n",
       "    <tr>\n",
       "      <th>3</th>\n",
       "      <td>Butte</td>\n",
       "      <td>California</td>\n",
       "      <td>06</td>\n",
       "      <td>007</td>\n",
       "      <td>06007</td>\n",
       "      <td>210520</td>\n",
       "      <td>180096</td>\n",
       "      <td>3415</td>\n",
       "      <td>4395</td>\n",
       "      <td>9057</td>\n",
       "      <td>452</td>\n",
       "      <td>31116</td>\n",
       "      <td>12141</td>\n",
       "      <td>10444</td>\n",
       "      <td>2.45</td>\n",
       "      <td>10850</td>\n",
       "      <td>13570</td>\n",
       "      <td>14642</td>\n",
       "      <td>22980</td>\n",
       "      <td>2804</td>\n",
       "      <td>6466</td>\n",
       "      <td>52529</td>\n",
       "      <td>2.99</td>\n",
       "      <td>95835</td>\n",
       "      <td>8217</td>\n",
       "      <td>50991</td>\n",
       "      <td>36627</td>\n",
       "      <td>2056.0</td>\n",
       "      <td>185.0</td>\n",
       "      <td>227279.0</td>\n",
       "      <td>263265.0</td>\n",
       "      <td>1677.42</td>\n",
       "      <td>1912.0</td>\n",
       "      <td>182.0</td>\n",
       "      <td>214211.0</td>\n",
       "      <td>274139.0</td>\n",
       "      <td>4.291832</td>\n",
       "      <td>0.456019</td>\n",
       "    </tr>\n",
       "    <tr>\n",
       "      <th>4</th>\n",
       "      <td>Calaveras</td>\n",
       "      <td>California</td>\n",
       "      <td>06</td>\n",
       "      <td>009</td>\n",
       "      <td>06009</td>\n",
       "      <td>48292</td>\n",
       "      <td>40522</td>\n",
       "      <td>383</td>\n",
       "      <td>689</td>\n",
       "      <td>571</td>\n",
       "      <td>79</td>\n",
       "      <td>4703</td>\n",
       "      <td>1534</td>\n",
       "      <td>1800</td>\n",
       "      <td>2.39</td>\n",
       "      <td>2237</td>\n",
       "      <td>2430</td>\n",
       "      <td>3211</td>\n",
       "      <td>7419</td>\n",
       "      <td>463</td>\n",
       "      <td>989</td>\n",
       "      <td>13039</td>\n",
       "      <td>2.81</td>\n",
       "      <td>27925</td>\n",
       "      <td>9039</td>\n",
       "      <td>14520</td>\n",
       "      <td>4366</td>\n",
       "      <td>663.0</td>\n",
       "      <td>320.0</td>\n",
       "      <td>6059.0</td>\n",
       "      <td>39222.0</td>\n",
       "      <td>1036.54</td>\n",
       "      <td>699.0</td>\n",
       "      <td>343.0</td>\n",
       "      <td>14848.0</td>\n",
       "      <td>39249.0</td>\n",
       "      <td>3.024186</td>\n",
       "      <td>0.276134</td>\n",
       "    </tr>\n",
       "  </tbody>\n",
       "</table>\n",
       "</div>"
      ],
      "text/plain": [
       "        name  state_name state_fips cnty_fips   fips  population   white  \\\n",
       "0    Alameda  California         06       001  06001     1632804  649122   \n",
       "1     Alpine  California         06       003  06003        1109     881   \n",
       "2     Amador  California         06       005  06005       40533   33149   \n",
       "3      Butte  California         06       007  06007      210520  180096   \n",
       "4  Calaveras  California         06       009  06009       48292   40522   \n",
       "\n",
       "    black  ameri_es   asian  hawn_pi  hispanic   other  mult_race  ave_hh_sz  \\\n",
       "0  190451      9799  394560    12802    339889  162540      90997       2.70   \n",
       "1       0       240       7        0        84      19         28       2.32   \n",
       "2     962       678     419       77      4756    1450       1356       2.30   \n",
       "3    3415      4395    9057      452     31116   12141      10444       2.45   \n",
       "4     383       689     571       79      4703    1534       1800       2.39   \n",
       "\n",
       "   hsehld_1_m  hsehld_1_f  marhh_chd  marhh_no_c  mhh_child  fhh_child  \\\n",
       "0       62350       79576     130014      123671      14625      41773   \n",
       "1          89          57         82         149         19         28   \n",
       "2        1688        2215       2315        5548        384        724   \n",
       "3       10850       13570      14642       22980       2804       6466   \n",
       "4        2237        2430       3211        7419        463        989   \n",
       "\n",
       "   families  ave_fam_sz  hse_units  vacant  owner_occ  renter_occ  no_farms12  \\\n",
       "0    352423        3.30     582549   37411     291242      253896       452.0   \n",
       "1       297        2.92       1760    1263        357         140         3.0   \n",
       "2      9793        2.75      18032    3463      10883        3686       461.0   \n",
       "3     52529        2.99      95835    8217      50991       36627      2056.0   \n",
       "4     13039        2.81      27925    9039      14520        4366       663.0   \n",
       "\n",
       "   ave_size12  crop_acr12  ave_sale12     sqmi  no_farms17  ave_size17  \\\n",
       "0       393.0     20347.0    127261.0   744.06       446.0       411.0   \n",
       "1         0.0       563.0     88444.0   743.60         6.0       529.0   \n",
       "2       337.0     16022.0     69345.0   606.02       482.0       377.0   \n",
       "3       185.0    227279.0    263265.0  1677.42      1912.0       182.0   \n",
       "4       320.0      6059.0     39222.0  1036.54       699.0       343.0   \n",
       "\n",
       "   crop_acr17  ave_sale17  shape_length  shape_area  \n",
       "0     17276.0    103507.0      3.850333    0.196742  \n",
       "1         0.0         0.0      2.174037    0.199155  \n",
       "2     14646.0     64376.0      2.928250    0.161973  \n",
       "3    214211.0    274139.0      4.291832    0.456019  \n",
       "4     14848.0     39249.0      3.024186    0.276134  "
      ]
     },
     "execution_count": 10,
     "metadata": {},
     "output_type": "execute_result"
    }
   ],
   "source": [
    "demos_df.head()"
   ]
  },
  {
   "cell_type": "markdown",
   "id": "9ec15aa6-2abb-4826-b9a5-3b7f0577c1df",
   "metadata": {},
   "source": [
    "---"
   ]
  },
  {
   "cell_type": "markdown",
   "id": "36109068-9146-4240-ba83-952ca1480ae9",
   "metadata": {},
   "source": [
    "## Merge"
   ]
  },
  {
   "cell_type": "markdown",
   "id": "2ee2638b-77d8-423a-8326-88f30ca99f4e",
   "metadata": {},
   "source": [
    "#### Join, or merge, the demographics and the vax/recall dataframes"
   ]
  },
  {
   "cell_type": "code",
   "execution_count": null,
   "id": "88cbc9bf-76b8-40e8-a55f-70431c902ca6",
   "metadata": {},
   "outputs": [],
   "source": []
  },
  {
   "cell_type": "markdown",
   "id": "5e1f739a-f56b-4a89-9fa5-eee73640a102",
   "metadata": {},
   "source": [
    "#### Did they merge correctly? "
   ]
  },
  {
   "cell_type": "code",
   "execution_count": null,
   "id": "68b79e73-553c-4126-abde-ea5b442ac2ee",
   "metadata": {},
   "outputs": [],
   "source": []
  },
  {
   "cell_type": "markdown",
   "id": "4cb0abdc-2f08-4612-a5bd-51c2db893451",
   "metadata": {},
   "source": [
    "#### What's it look like? "
   ]
  },
  {
   "cell_type": "code",
   "execution_count": null,
   "id": "2d397828-9999-4913-9dcc-fc7b49e41ac0",
   "metadata": {},
   "outputs": [],
   "source": []
  },
  {
   "cell_type": "code",
   "execution_count": null,
   "id": "287e97f2-366c-48ac-9809-ec560f9ceb3d",
   "metadata": {},
   "outputs": [],
   "source": []
  },
  {
   "cell_type": "code",
   "execution_count": null,
   "id": "fb36f633-ab1d-4aa4-9293-a5de02739009",
   "metadata": {},
   "outputs": [],
   "source": []
  },
  {
   "cell_type": "markdown",
   "id": "c46439c4-77a1-4866-aad0-d108de52f3b0",
   "metadata": {},
   "source": [
    "#### How did small counties vote? "
   ]
  },
  {
   "cell_type": "code",
   "execution_count": null,
   "id": "3ea2591f-da07-45f3-9880-e6a3199a5199",
   "metadata": {},
   "outputs": [],
   "source": []
  },
  {
   "cell_type": "markdown",
   "id": "df3fbdda-32a2-4db0-b7f4-ac0f47299d7e",
   "metadata": {},
   "source": [
    "#### Large? "
   ]
  },
  {
   "cell_type": "code",
   "execution_count": null,
   "id": "022926db-8c2a-4642-8488-9a621fde8170",
   "metadata": {},
   "outputs": [],
   "source": []
  },
  {
   "cell_type": "markdown",
   "id": "929e6e37-6af2-44fd-bcc0-56a203f56e6e",
   "metadata": {},
   "source": [
    "#### Mean no vote for small? "
   ]
  },
  {
   "cell_type": "code",
   "execution_count": null,
   "id": "e22a2b63-c42f-4264-b560-fb4544c78237",
   "metadata": {},
   "outputs": [],
   "source": []
  },
  {
   "cell_type": "markdown",
   "id": "4473a7f1-f72a-4f1f-864d-5830254f5956",
   "metadata": {},
   "source": [
    "#### Mean no vote for large?"
   ]
  },
  {
   "cell_type": "code",
   "execution_count": null,
   "id": "bdec9cbd-67e5-4139-9eaf-e64bf13dfc01",
   "metadata": {},
   "outputs": [],
   "source": []
  },
  {
   "cell_type": "markdown",
   "id": "29640a2c-083b-4a37-8be3-f6c2acb3fa06",
   "metadata": {},
   "source": [
    "---"
   ]
  },
  {
   "cell_type": "markdown",
   "id": "f2d12015-10d6-4317-b1b3-c373512101e5",
   "metadata": {},
   "source": [
    "## Export"
   ]
  },
  {
   "cell_type": "code",
   "execution_count": null,
   "id": "34c90b5a-6f4c-4e6a-b7f6-183968c6252f",
   "metadata": {},
   "outputs": [],
   "source": []
  },
  {
   "cell_type": "markdown",
   "id": "12099457-d423-4ea8-bca6-225328c5316b",
   "metadata": {},
   "source": [
    "---"
   ]
  },
  {
   "cell_type": "markdown",
   "id": "c2ebd7fc-8107-4539-bcfb-65e247ab9ef6",
   "metadata": {},
   "source": [
    "## We've just scratched the surface\n",
    "#### Read this [excellent explainer](https://towardsdatascience.com/all-the-pandas-merge-you-should-know-for-combining-datasets-526b9ecaf184) on all things `merge()`"
   ]
  }
 ],
 "metadata": {
  "kernelspec": {
   "display_name": "Python 3 (ipykernel)",
   "language": "python",
   "name": "python3"
  },
  "language_info": {
   "codemirror_mode": {
    "name": "ipython",
    "version": 3
   },
   "file_extension": ".py",
   "mimetype": "text/x-python",
   "name": "python",
   "nbconvert_exporter": "python",
   "pygments_lexer": "ipython3",
   "version": "3.9.7"
  }
 },
 "nbformat": 4,
 "nbformat_minor": 5
}
