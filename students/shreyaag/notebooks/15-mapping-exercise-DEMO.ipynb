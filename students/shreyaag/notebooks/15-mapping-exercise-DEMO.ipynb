{
 "cells": [
  {
   "cell_type": "markdown",
   "id": "cf543214-f1e4-46f5-a4ca-0641e43e455f",
   "metadata": {},
   "source": [
    "# Class mapping exercise\n",
    "Choose one of the map ideas below, processed the data with GeoPandas and export the data to QGIS for presentation. *Hint: You might need to change data types using the `dtype` argument when importing files so that you can merge with FIPS and ZIP codes effectively.*"
   ]
  },
  {
   "cell_type": "markdown",
   "id": "ece5a4d3-be58-4d94-9736-5e9d10a41ba9",
   "metadata": {},
   "source": [
    "#### Load python tools"
   ]
  },
  {
   "cell_type": "code",
   "execution_count": 2,
   "id": "2594907b-7dfe-4e1f-9406-771e53069144",
   "metadata": {},
   "outputs": [],
   "source": [
    "%load_ext lab_black"
   ]
  },
  {
   "cell_type": "code",
   "execution_count": 3,
   "id": "5d82586b-0073-434d-bcee-46e1013d7fc5",
   "metadata": {},
   "outputs": [],
   "source": [
    "import pandas as pd\n",
    "import geopandas as gpd\n",
    "import numpy as np"
   ]
  },
  {
   "cell_type": "code",
   "execution_count": 4,
   "id": "558e402e-5ce6-4bae-bf4f-0157e6bc405d",
   "metadata": {},
   "outputs": [],
   "source": [
    "pd.options.display.max_columns = 1000\n",
    "pd.options.display.max_rows = 1000"
   ]
  },
  {
   "cell_type": "markdown",
   "id": "ab9cecce-39c5-4745-9f89-3dfba2e43fbc",
   "metadata": {},
   "source": [
    "### Election map\n",
    "#### What percentage of vote did Biden/Trump receive in California counties?"
   ]
  },
  {
   "cell_type": "code",
   "execution_count": 5,
   "id": "185545d4-f703-4be0-b679-550b93dc0ebf",
   "metadata": {},
   "outputs": [],
   "source": [
    "# Values: https://raw.githubusercontent.com/stiles/notebooks/master/elections/data/ca_counties_election_results_2020.csv\n",
    "# Geo: https://raw.githubusercontent.com/stiles/usc/main/data/geo/counties_simple.geojson"
   ]
  },
  {
   "cell_type": "markdown",
   "id": "0a278a62-673f-491f-959c-dd5cfc457a5e",
   "metadata": {},
   "source": [
    "#### Read election results"
   ]
  },
  {
   "cell_type": "code",
<<<<<<< HEAD
   "execution_count": 6,
=======
   "execution_count": null,
>>>>>>> c99e546fe6e26b86df244802e96b1831fbe1418c
   "id": "3cd3aac6-8e17-4a97-804c-f5ce2187239f",
   "metadata": {},
   "outputs": [],
   "source": []
  },
  {
   "cell_type": "code",
<<<<<<< HEAD
   "execution_count": 7,
=======
   "execution_count": null,
>>>>>>> c99e546fe6e26b86df244802e96b1831fbe1418c
   "id": "1cd49a1f-e5ed-4017-a318-e736347c3f2b",
   "metadata": {},
   "outputs": [],
   "source": []
  },
  {
   "cell_type": "markdown",
   "id": "d3555d23-1267-4778-b182-bb43b583d18d",
   "metadata": {},
   "source": [
    "#### Read county boundaries"
   ]
  },
  {
   "cell_type": "code",
<<<<<<< HEAD
   "execution_count": 8,
   "id": "b899ae4a-ebaf-4f47-be48-c66ce526a269",
   "metadata": {},
   "outputs": [
    {
     "data": {
      "text/html": [
       "<div>\n",
       "<style scoped>\n",
       "    .dataframe tbody tr th:only-of-type {\n",
       "        vertical-align: middle;\n",
       "    }\n",
       "\n",
       "    .dataframe tbody tr th {\n",
       "        vertical-align: top;\n",
       "    }\n",
       "\n",
       "    .dataframe thead th {\n",
       "        text-align: right;\n",
       "    }\n",
       "</style>\n",
       "<table border=\"1\" class=\"dataframe\">\n",
       "  <thead>\n",
       "    <tr style=\"text-align: right;\">\n",
       "      <th></th>\n",
       "      <th>state_name</th>\n",
       "      <th>county_fips</th>\n",
       "      <th>county_name</th>\n",
       "      <th>votes_gop</th>\n",
       "      <th>votes_dem</th>\n",
       "      <th>total_votes</th>\n",
       "      <th>diff</th>\n",
       "      <th>per_gop</th>\n",
       "      <th>per_dem</th>\n",
       "      <th>per_point_diff</th>\n",
       "      <th>winner</th>\n",
       "    </tr>\n",
       "  </thead>\n",
       "  <tbody>\n",
       "    <tr>\n",
       "      <th>0</th>\n",
       "      <td>California</td>\n",
       "      <td>1</td>\n",
       "      <td>Alameda</td>\n",
       "      <td>136309</td>\n",
       "      <td>617659</td>\n",
       "      <td>769864</td>\n",
       "      <td>-481350</td>\n",
       "      <td>0.177056</td>\n",
       "      <td>0.802296</td>\n",
       "      <td>0.625240</td>\n",
       "      <td>Biden</td>\n",
       "    </tr>\n",
       "    <tr>\n",
       "      <th>1</th>\n",
       "      <td>California</td>\n",
       "      <td>3</td>\n",
       "      <td>Alpine</td>\n",
       "      <td>244</td>\n",
       "      <td>476</td>\n",
       "      <td>741</td>\n",
       "      <td>-232</td>\n",
       "      <td>0.329285</td>\n",
       "      <td>0.642375</td>\n",
       "      <td>0.313090</td>\n",
       "      <td>Biden</td>\n",
       "    </tr>\n",
       "    <tr>\n",
       "      <th>2</th>\n",
       "      <td>California</td>\n",
       "      <td>5</td>\n",
       "      <td>Amador</td>\n",
       "      <td>13585</td>\n",
       "      <td>8153</td>\n",
       "      <td>22302</td>\n",
       "      <td>5432</td>\n",
       "      <td>0.609138</td>\n",
       "      <td>0.365573</td>\n",
       "      <td>0.243566</td>\n",
       "      <td>Trump</td>\n",
       "    </tr>\n",
       "    <tr>\n",
       "      <th>3</th>\n",
       "      <td>California</td>\n",
       "      <td>7</td>\n",
       "      <td>Butte</td>\n",
       "      <td>48730</td>\n",
       "      <td>50426</td>\n",
       "      <td>102042</td>\n",
       "      <td>-1696</td>\n",
       "      <td>0.477548</td>\n",
       "      <td>0.494169</td>\n",
       "      <td>0.016621</td>\n",
       "      <td>Biden</td>\n",
       "    </tr>\n",
       "    <tr>\n",
       "      <th>4</th>\n",
       "      <td>California</td>\n",
       "      <td>9</td>\n",
       "      <td>Calaveras</td>\n",
       "      <td>16518</td>\n",
       "      <td>10046</td>\n",
       "      <td>27164</td>\n",
       "      <td>6472</td>\n",
       "      <td>0.608084</td>\n",
       "      <td>0.369828</td>\n",
       "      <td>0.238257</td>\n",
       "      <td>Trump</td>\n",
       "    </tr>\n",
       "  </tbody>\n",
       "</table>\n",
       "</div>"
      ],
      "text/plain": [
       "   state_name  county_fips county_name  votes_gop  votes_dem  total_votes  \\\n",
       "0  California            1     Alameda     136309     617659       769864   \n",
       "1  California            3      Alpine        244        476          741   \n",
       "2  California            5      Amador      13585       8153        22302   \n",
       "3  California            7       Butte      48730      50426       102042   \n",
       "4  California            9   Calaveras      16518      10046        27164   \n",
       "\n",
       "     diff   per_gop   per_dem  per_point_diff winner  \n",
       "0 -481350  0.177056  0.802296        0.625240  Biden  \n",
       "1    -232  0.329285  0.642375        0.313090  Biden  \n",
       "2    5432  0.609138  0.365573        0.243566  Trump  \n",
       "3   -1696  0.477548  0.494169        0.016621  Biden  \n",
       "4    6472  0.608084  0.369828        0.238257  Trump  "
      ]
     },
     "execution_count": 8,
     "metadata": {},
     "output_type": "execute_result"
    }
   ],
   "source": [
    "election_df.head()"
   ]
  },
  {
   "cell_type": "code",
   "execution_count": 9,
   "id": "fd1aab75-5cdf-4dc0-b527-68839935e85f",
   "metadata": {},
   "outputs": [
    {
     "data": {
      "text/html": [
       "<div>\n",
       "<style scoped>\n",
       "    .dataframe tbody tr th:only-of-type {\n",
       "        vertical-align: middle;\n",
       "    }\n",
       "\n",
       "    .dataframe tbody tr th {\n",
       "        vertical-align: top;\n",
       "    }\n",
       "\n",
       "    .dataframe thead th {\n",
       "        text-align: right;\n",
       "    }\n",
       "</style>\n",
       "<table border=\"1\" class=\"dataframe\">\n",
       "  <thead>\n",
       "    <tr style=\"text-align: right;\">\n",
       "      <th></th>\n",
       "      <th>county_name</th>\n",
       "      <th>county_fips</th>\n",
       "      <th>geometry</th>\n",
       "    </tr>\n",
       "  </thead>\n",
       "  <tbody>\n",
       "    <tr>\n",
       "      <th>0</th>\n",
       "      <td>Alameda</td>\n",
       "      <td>001</td>\n",
       "      <td>POLYGON ((-122.27125 37.90503, -122.27024 37.9...</td>\n",
       "    </tr>\n",
       "    <tr>\n",
       "      <th>1</th>\n",
       "      <td>Alpine</td>\n",
       "      <td>003</td>\n",
       "      <td>POLYGON ((-119.58667 38.71420, -119.58653 38.7...</td>\n",
       "    </tr>\n",
       "    <tr>\n",
       "      <th>2</th>\n",
       "      <td>Amador</td>\n",
       "      <td>005</td>\n",
       "      <td>POLYGON ((-120.07246 38.70276, -120.07249 38.6...</td>\n",
       "    </tr>\n",
       "    <tr>\n",
       "      <th>3</th>\n",
       "      <td>Butte</td>\n",
       "      <td>007</td>\n",
       "      <td>POLYGON ((-121.07661 39.59729, -121.07945 39.5...</td>\n",
       "    </tr>\n",
       "    <tr>\n",
       "      <th>4</th>\n",
       "      <td>Calaveras</td>\n",
       "      <td>009</td>\n",
       "      <td>POLYGON ((-120.01792 38.43586, -120.01788 38.4...</td>\n",
       "    </tr>\n",
       "  </tbody>\n",
       "</table>\n",
       "</div>"
      ],
      "text/plain": [
       "  county_name county_fips                                           geometry\n",
       "0     Alameda         001  POLYGON ((-122.27125 37.90503, -122.27024 37.9...\n",
       "1      Alpine         003  POLYGON ((-119.58667 38.71420, -119.58653 38.7...\n",
       "2      Amador         005  POLYGON ((-120.07246 38.70276, -120.07249 38.6...\n",
       "3       Butte         007  POLYGON ((-121.07661 39.59729, -121.07945 39.5...\n",
       "4   Calaveras         009  POLYGON ((-120.01792 38.43586, -120.01788 38.4..."
      ]
     },
     "execution_count": 9,
     "metadata": {},
     "output_type": "execute_result"
    }
   ],
   "source": [
    "election_gdf.head()"
   ]
  },
  {
   "cell_type": "code",
   "execution_count": 10,
   "id": "d5e6fcd4-dc51-4ae2-b3d3-f32a32cfad72",
   "metadata": {},
   "outputs": [
    {
     "data": {
      "text/plain": [
       "<AxesSubplot:>"
      ]
     },
     "execution_count": 10,
     "metadata": {},
     "output_type": "execute_result"
    },
    {
     "data": {
      "image/png": "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\n",
      "text/plain": [
       "<Figure size 432x288 with 1 Axes>"
      ]
     },
     "metadata": {
      "needs_background": "light"
     },
     "output_type": "display_data"
    }
   ],
   "source": [
    "election_gdf.plot()"
   ]
=======
   "execution_count": null,
   "id": "b899ae4a-ebaf-4f47-be48-c66ce526a269",
   "metadata": {},
   "outputs": [],
   "source": []
  },
  {
   "cell_type": "code",
   "execution_count": null,
   "id": "fd1aab75-5cdf-4dc0-b527-68839935e85f",
   "metadata": {},
   "outputs": [],
   "source": []
>>>>>>> c99e546fe6e26b86df244802e96b1831fbe1418c
  },
  {
   "cell_type": "markdown",
   "id": "bbbcade1-6576-4a03-9c94-45782f5e9e3f",
   "metadata": {},
   "source": [
    "#### Merge the two "
   ]
  },
  {
   "cell_type": "code",
<<<<<<< HEAD
   "execution_count": 11,
=======
   "execution_count": null,
>>>>>>> c99e546fe6e26b86df244802e96b1831fbe1418c
   "id": "86721fd9-a1ae-499d-9b28-43fa4fbf0c40",
   "metadata": {},
   "outputs": [],
   "source": []
  },
  {
   "cell_type": "code",
<<<<<<< HEAD
   "execution_count": 12,
   "id": "c804990d-fdfa-4f33-a35b-39decbb61d26",
   "metadata": {},
   "outputs": [
    {
     "data": {
      "text/plain": [
       "<AxesSubplot:>"
      ]
     },
     "execution_count": 12,
     "metadata": {},
     "output_type": "execute_result"
    },
    {
     "data": {
      "image/png": "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\n",
      "text/plain": [
       "<Figure size 432x288 with 1 Axes>"
      ]
     },
     "metadata": {
      "needs_background": "light"
     },
     "output_type": "display_data"
    }
   ],
   "source": [
    "election_county.plot()"
   ]
  },
  {
   "cell_type": "code",
   "execution_count": 13,
   "id": "de3283ac-6cb7-4764-a8a5-a3fd8c20d818",
   "metadata": {},
   "outputs": [
    {
     "data": {
      "text/html": [
       "<div>\n",
       "<style scoped>\n",
       "    .dataframe tbody tr th:only-of-type {\n",
       "        vertical-align: middle;\n",
       "    }\n",
       "\n",
       "    .dataframe tbody tr th {\n",
       "        vertical-align: top;\n",
       "    }\n",
       "\n",
       "    .dataframe thead th {\n",
       "        text-align: right;\n",
       "    }\n",
       "</style>\n",
       "<table border=\"1\" class=\"dataframe\">\n",
       "  <thead>\n",
       "    <tr style=\"text-align: right;\">\n",
       "      <th></th>\n",
       "      <th>county_name</th>\n",
       "      <th>county_fips_x</th>\n",
       "      <th>geometry</th>\n",
       "      <th>state_name</th>\n",
       "      <th>county_fips_y</th>\n",
       "      <th>votes_gop</th>\n",
       "      <th>votes_dem</th>\n",
       "      <th>total_votes</th>\n",
       "      <th>diff</th>\n",
       "      <th>per_gop</th>\n",
       "      <th>per_dem</th>\n",
       "      <th>per_point_diff</th>\n",
       "      <th>winner</th>\n",
       "    </tr>\n",
       "  </thead>\n",
       "  <tbody>\n",
       "    <tr>\n",
       "      <th>0</th>\n",
       "      <td>Alameda</td>\n",
       "      <td>001</td>\n",
       "      <td>POLYGON ((-122.27125 37.90503, -122.27024 37.9...</td>\n",
       "      <td>California</td>\n",
       "      <td>1</td>\n",
       "      <td>136309</td>\n",
       "      <td>617659</td>\n",
       "      <td>769864</td>\n",
       "      <td>-481350</td>\n",
       "      <td>0.177056</td>\n",
       "      <td>0.802296</td>\n",
       "      <td>0.625240</td>\n",
       "      <td>Biden</td>\n",
       "    </tr>\n",
       "    <tr>\n",
       "      <th>1</th>\n",
       "      <td>Alpine</td>\n",
       "      <td>003</td>\n",
       "      <td>POLYGON ((-119.58667 38.71420, -119.58653 38.7...</td>\n",
       "      <td>California</td>\n",
       "      <td>3</td>\n",
       "      <td>244</td>\n",
       "      <td>476</td>\n",
       "      <td>741</td>\n",
       "      <td>-232</td>\n",
       "      <td>0.329285</td>\n",
       "      <td>0.642375</td>\n",
       "      <td>0.313090</td>\n",
       "      <td>Biden</td>\n",
       "    </tr>\n",
       "    <tr>\n",
       "      <th>2</th>\n",
       "      <td>Amador</td>\n",
       "      <td>005</td>\n",
       "      <td>POLYGON ((-120.07246 38.70276, -120.07249 38.6...</td>\n",
       "      <td>California</td>\n",
       "      <td>5</td>\n",
       "      <td>13585</td>\n",
       "      <td>8153</td>\n",
       "      <td>22302</td>\n",
       "      <td>5432</td>\n",
       "      <td>0.609138</td>\n",
       "      <td>0.365573</td>\n",
       "      <td>0.243566</td>\n",
       "      <td>Trump</td>\n",
       "    </tr>\n",
       "    <tr>\n",
       "      <th>3</th>\n",
       "      <td>Butte</td>\n",
       "      <td>007</td>\n",
       "      <td>POLYGON ((-121.07661 39.59729, -121.07945 39.5...</td>\n",
       "      <td>California</td>\n",
       "      <td>7</td>\n",
       "      <td>48730</td>\n",
       "      <td>50426</td>\n",
       "      <td>102042</td>\n",
       "      <td>-1696</td>\n",
       "      <td>0.477548</td>\n",
       "      <td>0.494169</td>\n",
       "      <td>0.016621</td>\n",
       "      <td>Biden</td>\n",
       "    </tr>\n",
       "    <tr>\n",
       "      <th>4</th>\n",
       "      <td>Calaveras</td>\n",
       "      <td>009</td>\n",
       "      <td>POLYGON ((-120.01792 38.43586, -120.01788 38.4...</td>\n",
       "      <td>California</td>\n",
       "      <td>9</td>\n",
       "      <td>16518</td>\n",
       "      <td>10046</td>\n",
       "      <td>27164</td>\n",
       "      <td>6472</td>\n",
       "      <td>0.608084</td>\n",
       "      <td>0.369828</td>\n",
       "      <td>0.238257</td>\n",
       "      <td>Trump</td>\n",
       "    </tr>\n",
       "  </tbody>\n",
       "</table>\n",
       "</div>"
      ],
      "text/plain": [
       "  county_name county_fips_x  \\\n",
       "0     Alameda           001   \n",
       "1      Alpine           003   \n",
       "2      Amador           005   \n",
       "3       Butte           007   \n",
       "4   Calaveras           009   \n",
       "\n",
       "                                            geometry  state_name  \\\n",
       "0  POLYGON ((-122.27125 37.90503, -122.27024 37.9...  California   \n",
       "1  POLYGON ((-119.58667 38.71420, -119.58653 38.7...  California   \n",
       "2  POLYGON ((-120.07246 38.70276, -120.07249 38.6...  California   \n",
       "3  POLYGON ((-121.07661 39.59729, -121.07945 39.5...  California   \n",
       "4  POLYGON ((-120.01792 38.43586, -120.01788 38.4...  California   \n",
       "\n",
       "   county_fips_y  votes_gop  votes_dem  total_votes    diff   per_gop  \\\n",
       "0              1     136309     617659       769864 -481350  0.177056   \n",
       "1              3        244        476          741    -232  0.329285   \n",
       "2              5      13585       8153        22302    5432  0.609138   \n",
       "3              7      48730      50426       102042   -1696  0.477548   \n",
       "4              9      16518      10046        27164    6472  0.608084   \n",
       "\n",
       "    per_dem  per_point_diff winner  \n",
       "0  0.802296        0.625240  Biden  \n",
       "1  0.642375        0.313090  Biden  \n",
       "2  0.365573        0.243566  Trump  \n",
       "3  0.494169        0.016621  Biden  \n",
       "4  0.369828        0.238257  Trump  "
      ]
     },
     "execution_count": 13,
     "metadata": {},
     "output_type": "execute_result"
    }
   ],
   "source": [
    "election_county.head()"
   ]
  },
  {
   "cell_type": "code",
   "execution_count": 14,
   "id": "c6c4ab87-bb0b-4280-b19e-df69cba88578",
   "metadata": {},
=======
   "execution_count": null,
   "id": "c804990d-fdfa-4f33-a35b-39decbb61d26",
   "metadata": {},
>>>>>>> c99e546fe6e26b86df244802e96b1831fbe1418c
   "outputs": [],
   "source": []
  },
  {
   "cell_type": "markdown",
   "id": "32f18e4a-bf3a-4c13-86ba-d8a6a008bf44",
   "metadata": {},
   "source": [
    "---"
   ]
  },
  {
   "cell_type": "markdown",
   "id": "1a8cd4d4-a39a-4832-a854-662fea4e38e0",
   "metadata": {},
   "source": [
    "### Vehicle map\n",
    "##### What's the Tesla ownership rate by LA ZIP Codes?"
   ]
  },
  {
   "cell_type": "code",
   "execution_count": 15,
   "id": "49a0ab1e-6bf8-404e-a672-fb038c5b2a74",
   "metadata": {},
   "outputs": [],
   "source": [
    "# Values: https://raw.githubusercontent.com/stiles/notebooks/master/california-fuel-vehicles/output/tesla_zips_slim.csv\n",
    "# Geo: https://raw.githubusercontent.com/stiles/notebooks/master/zips/data/processed/ca_zips_simple.geojson.json"
   ]
  },
  {
   "cell_type": "markdown",
   "id": "8cf7c725-1036-473b-8e0f-963e4f60e464",
   "metadata": {},
   "source": [
    "#### Read Tesla data"
   ]
  },
  {
   "cell_type": "code",
<<<<<<< HEAD
   "execution_count": 18,
   "id": "d7313746-d89f-4fa5-8fc5-41bf6b0a2869",
   "metadata": {},
   "outputs": [],
   "source": [
    "tesla_zips = pd.read_csv(\n",
    "    \"https://raw.githubusercontent.com/stiles/notebooks/master/california-fuel-vehicles/output/tesla_zips_slim.csv\",\n",
    "    dtype={\"zip\": str},\n",
    ")"
   ]
  },
  {
   "cell_type": "code",
   "execution_count": 19,
=======
   "execution_count": null,
   "id": "d7313746-d89f-4fa5-8fc5-41bf6b0a2869",
   "metadata": {},
   "outputs": [],
   "source": []
  },
  {
   "cell_type": "code",
   "execution_count": null,
>>>>>>> c99e546fe6e26b86df244802e96b1831fbe1418c
   "id": "18634d36-09c2-49e6-a110-7f838cb4e7a8",
   "metadata": {},
   "outputs": [],
   "source": []
  },
  {
   "cell_type": "markdown",
   "id": "883a00aa-1206-4c0b-bf53-0525dcb6e2da",
   "metadata": {},
   "source": [
    "#### Read ZIP Codes geo file"
   ]
  },
  {
   "cell_type": "code",
<<<<<<< HEAD
   "execution_count": 56,
   "id": "0c07e314-1181-42b4-b26f-568c211dafb2",
   "metadata": {},
   "outputs": [
    {
     "data": {
      "text/html": [
       "<div>\n",
       "<style scoped>\n",
       "    .dataframe tbody tr th:only-of-type {\n",
       "        vertical-align: middle;\n",
       "    }\n",
       "\n",
       "    .dataframe tbody tr th {\n",
       "        vertical-align: top;\n",
       "    }\n",
       "\n",
       "    .dataframe thead th {\n",
       "        text-align: right;\n",
       "    }\n",
       "</style>\n",
       "<table border=\"1\" class=\"dataframe\">\n",
       "  <thead>\n",
       "    <tr style=\"text-align: right;\">\n",
       "      <th></th>\n",
       "      <th>zip</th>\n",
       "      <th>name</th>\n",
       "      <th>teslas</th>\n",
       "      <th>all_vehicles</th>\n",
       "      <th>tesla_rate_1k</th>\n",
       "      <th>avg_house_income</th>\n",
       "      <th>avg_net_worth</th>\n",
       "    </tr>\n",
       "  </thead>\n",
       "  <tbody>\n",
       "    <tr>\n",
       "      <th>0</th>\n",
       "      <td>90004</td>\n",
       "      <td>Los Angeles</td>\n",
       "      <td>200</td>\n",
       "      <td>22734</td>\n",
       "      <td>8.80</td>\n",
       "      <td>65893</td>\n",
       "      <td>232653</td>\n",
       "    </tr>\n",
       "    <tr>\n",
       "      <th>1</th>\n",
       "      <td>90005</td>\n",
       "      <td>Los Angeles</td>\n",
       "      <td>58</td>\n",
       "      <td>12518</td>\n",
       "      <td>4.63</td>\n",
       "      <td>53191</td>\n",
       "      <td>105569</td>\n",
       "    </tr>\n",
       "    <tr>\n",
       "      <th>2</th>\n",
       "      <td>90006</td>\n",
       "      <td>Los Angeles</td>\n",
       "      <td>26</td>\n",
       "      <td>17324</td>\n",
       "      <td>1.50</td>\n",
       "      <td>42242</td>\n",
       "      <td>39289</td>\n",
       "    </tr>\n",
       "    <tr>\n",
       "      <th>3</th>\n",
       "      <td>90007</td>\n",
       "      <td>Los Angeles</td>\n",
       "      <td>27</td>\n",
       "      <td>10707</td>\n",
       "      <td>2.52</td>\n",
       "      <td>38564</td>\n",
       "      <td>39966</td>\n",
       "    </tr>\n",
       "    <tr>\n",
       "      <th>4</th>\n",
       "      <td>90008</td>\n",
       "      <td>Los Angeles</td>\n",
       "      <td>54</td>\n",
       "      <td>12611</td>\n",
       "      <td>4.28</td>\n",
       "      <td>56286</td>\n",
       "      <td>284531</td>\n",
       "    </tr>\n",
       "  </tbody>\n",
       "</table>\n",
       "</div>"
      ],
      "text/plain": [
       "     zip         name  teslas  all_vehicles  tesla_rate_1k  avg_house_income  \\\n",
       "0  90004  Los Angeles     200         22734           8.80             65893   \n",
       "1  90005  Los Angeles      58         12518           4.63             53191   \n",
       "2  90006  Los Angeles      26         17324           1.50             42242   \n",
       "3  90007  Los Angeles      27         10707           2.52             38564   \n",
       "4  90008  Los Angeles      54         12611           4.28             56286   \n",
       "\n",
       "   avg_net_worth  \n",
       "0         232653  \n",
       "1         105569  \n",
       "2          39289  \n",
       "3          39966  \n",
       "4         284531  "
      ]
     },
     "execution_count": 56,
     "metadata": {},
     "output_type": "execute_result"
    }
   ],
   "source": [
    "tesla_zips.head()"
   ]
  },
  {
   "cell_type": "code",
   "execution_count": 46,
   "id": "54253923-6e23-40b8-a0f9-6c5a326bdbb5",
   "metadata": {},
   "outputs": [],
   "source": [
    "include = [\"Los Angeles\", \"West Hollywood\", \"Beverly Hills\", \"Pasadena\", \"Culver City\"]"
   ]
  },
  {
   "cell_type": "code",
   "execution_count": 47,
   "id": "b87b4d07-165c-4420-91a6-cfc38ef769d9",
   "metadata": {},
   "outputs": [],
   "source": [
    "la_zips = tesla_zips[tesla_zips[\"name\"].isin(include)]"
   ]
  },
  {
   "cell_type": "code",
   "execution_count": 48,
   "id": "9e773004-8eb3-43f8-a030-6e297e7dfd03",
   "metadata": {},
   "outputs": [
    {
     "data": {
      "text/html": [
       "<div>\n",
       "<style scoped>\n",
       "    .dataframe tbody tr th:only-of-type {\n",
       "        vertical-align: middle;\n",
       "    }\n",
       "\n",
       "    .dataframe tbody tr th {\n",
       "        vertical-align: top;\n",
       "    }\n",
       "\n",
       "    .dataframe thead th {\n",
       "        text-align: right;\n",
       "    }\n",
       "</style>\n",
       "<table border=\"1\" class=\"dataframe\">\n",
       "  <thead>\n",
       "    <tr style=\"text-align: right;\">\n",
       "      <th></th>\n",
       "      <th>zip</th>\n",
       "      <th>name</th>\n",
       "      <th>teslas</th>\n",
       "      <th>all_vehicles</th>\n",
       "      <th>tesla_rate_1k</th>\n",
       "      <th>avg_house_income</th>\n",
       "      <th>avg_net_worth</th>\n",
       "    </tr>\n",
       "  </thead>\n",
       "  <tbody>\n",
       "    <tr>\n",
       "      <th>0</th>\n",
       "      <td>90004</td>\n",
       "      <td>Los Angeles</td>\n",
       "      <td>200</td>\n",
       "      <td>22734</td>\n",
       "      <td>8.80</td>\n",
       "      <td>65893</td>\n",
       "      <td>232653</td>\n",
       "    </tr>\n",
       "    <tr>\n",
       "      <th>1</th>\n",
       "      <td>90005</td>\n",
       "      <td>Los Angeles</td>\n",
       "      <td>58</td>\n",
       "      <td>12518</td>\n",
       "      <td>4.63</td>\n",
       "      <td>53191</td>\n",
       "      <td>105569</td>\n",
       "    </tr>\n",
       "    <tr>\n",
       "      <th>2</th>\n",
       "      <td>90006</td>\n",
       "      <td>Los Angeles</td>\n",
       "      <td>26</td>\n",
       "      <td>17324</td>\n",
       "      <td>1.50</td>\n",
       "      <td>42242</td>\n",
       "      <td>39289</td>\n",
       "    </tr>\n",
       "    <tr>\n",
       "      <th>3</th>\n",
       "      <td>90007</td>\n",
       "      <td>Los Angeles</td>\n",
       "      <td>27</td>\n",
       "      <td>10707</td>\n",
       "      <td>2.52</td>\n",
       "      <td>38564</td>\n",
       "      <td>39966</td>\n",
       "    </tr>\n",
       "    <tr>\n",
       "      <th>4</th>\n",
       "      <td>90008</td>\n",
       "      <td>Los Angeles</td>\n",
       "      <td>54</td>\n",
       "      <td>12611</td>\n",
       "      <td>4.28</td>\n",
       "      <td>56286</td>\n",
       "      <td>284531</td>\n",
       "    </tr>\n",
       "  </tbody>\n",
       "</table>\n",
       "</div>"
      ],
      "text/plain": [
       "     zip         name  teslas  all_vehicles  tesla_rate_1k  avg_house_income  \\\n",
       "0  90004  Los Angeles     200         22734           8.80             65893   \n",
       "1  90005  Los Angeles      58         12518           4.63             53191   \n",
       "2  90006  Los Angeles      26         17324           1.50             42242   \n",
       "3  90007  Los Angeles      27         10707           2.52             38564   \n",
       "4  90008  Los Angeles      54         12611           4.28             56286   \n",
       "\n",
       "   avg_net_worth  \n",
       "0         232653  \n",
       "1         105569  \n",
       "2          39289  \n",
       "3          39966  \n",
       "4         284531  "
      ]
     },
     "execution_count": 48,
     "metadata": {},
     "output_type": "execute_result"
    }
   ],
   "source": [
    "la_zips.head()"
   ]
  },
  {
   "cell_type": "code",
   "execution_count": 49,
   "id": "e9ad639e-0f3d-41b9-81e6-a732d8702f4c",
   "metadata": {},
   "outputs": [
    {
     "data": {
      "text/html": [
       "<div>\n",
       "<style scoped>\n",
       "    .dataframe tbody tr th:only-of-type {\n",
       "        vertical-align: middle;\n",
       "    }\n",
       "\n",
       "    .dataframe tbody tr th {\n",
       "        vertical-align: top;\n",
       "    }\n",
       "\n",
       "    .dataframe thead th {\n",
       "        text-align: right;\n",
       "    }\n",
       "</style>\n",
       "<table border=\"1\" class=\"dataframe\">\n",
       "  <thead>\n",
       "    <tr style=\"text-align: right;\">\n",
       "      <th></th>\n",
       "      <th>id</th>\n",
       "      <th>name</th>\n",
       "      <th>county_name</th>\n",
       "      <th>geometry</th>\n",
       "    </tr>\n",
       "  </thead>\n",
       "  <tbody>\n",
       "    <tr>\n",
       "      <th>0</th>\n",
       "      <td>90001</td>\n",
       "      <td>Los Angeles</td>\n",
       "      <td>Los Angeles County</td>\n",
       "      <td>POLYGON ((-118.24329 33.98901, -118.25996 33.9...</td>\n",
       "    </tr>\n",
       "    <tr>\n",
       "      <th>1</th>\n",
       "      <td>90002</td>\n",
       "      <td>Los Angeles</td>\n",
       "      <td>Los Angeles County</td>\n",
       "      <td>POLYGON ((-118.23085 33.95772, -118.23160 33.9...</td>\n",
       "    </tr>\n",
       "    <tr>\n",
       "      <th>2</th>\n",
       "      <td>90003</td>\n",
       "      <td>Los Angeles</td>\n",
       "      <td>Los Angeles County</td>\n",
       "      <td>POLYGON ((-118.28268 33.98926, -118.28383 33.9...</td>\n",
       "    </tr>\n",
       "    <tr>\n",
       "      <th>3</th>\n",
       "      <td>90004</td>\n",
       "      <td>Los Angeles</td>\n",
       "      <td>Los Angeles County</td>\n",
       "      <td>MULTIPOLYGON (((-118.33852 34.06891, -118.3371...</td>\n",
       "    </tr>\n",
       "    <tr>\n",
       "      <th>4</th>\n",
       "      <td>90005</td>\n",
       "      <td>Los Angeles</td>\n",
       "      <td>Los Angeles County</td>\n",
       "      <td>POLYGON ((-118.31879 34.05514, -118.30658 34.0...</td>\n",
       "    </tr>\n",
       "  </tbody>\n",
       "</table>\n",
       "</div>"
      ],
      "text/plain": [
       "      id         name         county_name  \\\n",
       "0  90001  Los Angeles  Los Angeles County   \n",
       "1  90002  Los Angeles  Los Angeles County   \n",
       "2  90003  Los Angeles  Los Angeles County   \n",
       "3  90004  Los Angeles  Los Angeles County   \n",
       "4  90005  Los Angeles  Los Angeles County   \n",
       "\n",
       "                                            geometry  \n",
       "0  POLYGON ((-118.24329 33.98901, -118.25996 33.9...  \n",
       "1  POLYGON ((-118.23085 33.95772, -118.23160 33.9...  \n",
       "2  POLYGON ((-118.28268 33.98926, -118.28383 33.9...  \n",
       "3  MULTIPOLYGON (((-118.33852 34.06891, -118.3371...  \n",
       "4  POLYGON ((-118.31879 34.05514, -118.30658 34.0...  "
      ]
     },
     "execution_count": 49,
     "metadata": {},
     "output_type": "execute_result"
    }
   ],
   "source": [
    "ca_zips.head()"
   ]
  },
  {
   "cell_type": "code",
   "execution_count": 50,
   "id": "5af14d2d-d5e2-459f-94e9-5c283aa94a2f",
   "metadata": {},
   "outputs": [
    {
     "data": {
      "text/plain": [
       "<AxesSubplot:>"
      ]
     },
     "execution_count": 50,
     "metadata": {},
     "output_type": "execute_result"
    },
    {
     "data": {
      "image/png": "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\n",
      "text/plain": [
       "<Figure size 432x288 with 1 Axes>"
      ]
     },
     "metadata": {
      "needs_background": "light"
     },
     "output_type": "display_data"
    }
   ],
   "source": [
    "ca_zips.plot()"
   ]
  },
  {
   "cell_type": "code",
   "execution_count": 51,
   "id": "dcfaa0e4-fd30-48c4-b2f3-7749cc20ab50",
   "metadata": {},
   "outputs": [],
   "source": [
    "# ca_zips = ca_zips[\"id\"].astype(int)"
   ]
=======
   "execution_count": null,
   "id": "0c07e314-1181-42b4-b26f-568c211dafb2",
   "metadata": {},
   "outputs": [],
   "source": []
  },
  {
   "cell_type": "code",
   "execution_count": null,
   "id": "e9ad639e-0f3d-41b9-81e6-a732d8702f4c",
   "metadata": {},
   "outputs": [],
   "source": []
>>>>>>> c99e546fe6e26b86df244802e96b1831fbe1418c
  },
  {
   "cell_type": "markdown",
   "id": "a3c7575d-7d0a-4435-ba26-707fff46fd5a",
   "metadata": {},
   "source": [
    "#### Merge the two"
   ]
  },
  {
   "cell_type": "code",
<<<<<<< HEAD
   "execution_count": 52,
   "id": "ee2974da-d520-4a6e-be0c-5490b9259729",
   "metadata": {},
   "outputs": [],
   "source": [
    "ca_tesla_zips = pd.merge(ca_zips, la_zips, left_on=\"id\", right_on=\"zip\")"
   ]
  },
  {
   "cell_type": "code",
   "execution_count": 53,
   "id": "250ae656-259f-4331-8756-285dbadce73c",
   "metadata": {},
   "outputs": [
    {
     "data": {
      "text/html": [
       "<div>\n",
       "<style scoped>\n",
       "    .dataframe tbody tr th:only-of-type {\n",
       "        vertical-align: middle;\n",
       "    }\n",
       "\n",
       "    .dataframe tbody tr th {\n",
       "        vertical-align: top;\n",
       "    }\n",
       "\n",
       "    .dataframe thead th {\n",
       "        text-align: right;\n",
       "    }\n",
       "</style>\n",
       "<table border=\"1\" class=\"dataframe\">\n",
       "  <thead>\n",
       "    <tr style=\"text-align: right;\">\n",
       "      <th></th>\n",
       "      <th>id</th>\n",
       "      <th>name_x</th>\n",
       "      <th>county_name</th>\n",
       "      <th>geometry</th>\n",
       "      <th>zip</th>\n",
       "      <th>name_y</th>\n",
       "      <th>teslas</th>\n",
       "      <th>all_vehicles</th>\n",
       "      <th>tesla_rate_1k</th>\n",
       "      <th>avg_house_income</th>\n",
       "      <th>avg_net_worth</th>\n",
       "    </tr>\n",
       "  </thead>\n",
       "  <tbody>\n",
       "    <tr>\n",
       "      <th>0</th>\n",
       "      <td>90004</td>\n",
       "      <td>Los Angeles</td>\n",
       "      <td>Los Angeles County</td>\n",
       "      <td>MULTIPOLYGON (((-118.33852 34.06891, -118.3371...</td>\n",
       "      <td>90004</td>\n",
       "      <td>Los Angeles</td>\n",
       "      <td>200</td>\n",
       "      <td>22734</td>\n",
       "      <td>8.80</td>\n",
       "      <td>65893</td>\n",
       "      <td>232653</td>\n",
       "    </tr>\n",
       "    <tr>\n",
       "      <th>1</th>\n",
       "      <td>90005</td>\n",
       "      <td>Los Angeles</td>\n",
       "      <td>Los Angeles County</td>\n",
       "      <td>POLYGON ((-118.31879 34.05514, -118.30658 34.0...</td>\n",
       "      <td>90005</td>\n",
       "      <td>Los Angeles</td>\n",
       "      <td>58</td>\n",
       "      <td>12518</td>\n",
       "      <td>4.63</td>\n",
       "      <td>53191</td>\n",
       "      <td>105569</td>\n",
       "    </tr>\n",
       "    <tr>\n",
       "      <th>2</th>\n",
       "      <td>90006</td>\n",
       "      <td>Los Angeles</td>\n",
       "      <td>Los Angeles County</td>\n",
       "      <td>POLYGON ((-118.28425 34.05586, -118.30534 34.0...</td>\n",
       "      <td>90006</td>\n",
       "      <td>Los Angeles</td>\n",
       "      <td>26</td>\n",
       "      <td>17324</td>\n",
       "      <td>1.50</td>\n",
       "      <td>42242</td>\n",
       "      <td>39289</td>\n",
       "    </tr>\n",
       "    <tr>\n",
       "      <th>3</th>\n",
       "      <td>90007</td>\n",
       "      <td>Los Angeles</td>\n",
       "      <td>Los Angeles County</td>\n",
       "      <td>POLYGON ((-118.27622 34.01303, -118.27402 34.0...</td>\n",
       "      <td>90007</td>\n",
       "      <td>Los Angeles</td>\n",
       "      <td>27</td>\n",
       "      <td>10707</td>\n",
       "      <td>2.52</td>\n",
       "      <td>38564</td>\n",
       "      <td>39966</td>\n",
       "    </tr>\n",
       "    <tr>\n",
       "      <th>4</th>\n",
       "      <td>90008</td>\n",
       "      <td>Los Angeles</td>\n",
       "      <td>Los Angeles County</td>\n",
       "      <td>POLYGON ((-118.31710 34.01644, -118.31825 34.0...</td>\n",
       "      <td>90008</td>\n",
       "      <td>Los Angeles</td>\n",
       "      <td>54</td>\n",
       "      <td>12611</td>\n",
       "      <td>4.28</td>\n",
       "      <td>56286</td>\n",
       "      <td>284531</td>\n",
       "    </tr>\n",
       "  </tbody>\n",
       "</table>\n",
       "</div>"
      ],
      "text/plain": [
       "      id       name_x         county_name  \\\n",
       "0  90004  Los Angeles  Los Angeles County   \n",
       "1  90005  Los Angeles  Los Angeles County   \n",
       "2  90006  Los Angeles  Los Angeles County   \n",
       "3  90007  Los Angeles  Los Angeles County   \n",
       "4  90008  Los Angeles  Los Angeles County   \n",
       "\n",
       "                                            geometry    zip       name_y  \\\n",
       "0  MULTIPOLYGON (((-118.33852 34.06891, -118.3371...  90004  Los Angeles   \n",
       "1  POLYGON ((-118.31879 34.05514, -118.30658 34.0...  90005  Los Angeles   \n",
       "2  POLYGON ((-118.28425 34.05586, -118.30534 34.0...  90006  Los Angeles   \n",
       "3  POLYGON ((-118.27622 34.01303, -118.27402 34.0...  90007  Los Angeles   \n",
       "4  POLYGON ((-118.31710 34.01644, -118.31825 34.0...  90008  Los Angeles   \n",
       "\n",
       "   teslas  all_vehicles  tesla_rate_1k  avg_house_income  avg_net_worth  \n",
       "0     200         22734           8.80             65893         232653  \n",
       "1      58         12518           4.63             53191         105569  \n",
       "2      26         17324           1.50             42242          39289  \n",
       "3      27         10707           2.52             38564          39966  \n",
       "4      54         12611           4.28             56286         284531  "
      ]
     },
     "execution_count": 53,
     "metadata": {},
     "output_type": "execute_result"
    }
   ],
   "source": [
    "ca_tesla_zips.head()"
   ]
=======
   "execution_count": null,
   "id": "ee2974da-d520-4a6e-be0c-5490b9259729",
   "metadata": {},
   "outputs": [],
   "source": []
>>>>>>> c99e546fe6e26b86df244802e96b1831fbe1418c
  },
  {
   "cell_type": "code",
   "execution_count": 54,
   "id": "94a5cfcb-546d-437b-9967-f1d5e03ca59b",
   "metadata": {},
   "outputs": [
    {
     "data": {
      "text/plain": [
       "<AxesSubplot:>"
      ]
     },
     "execution_count": 54,
     "metadata": {},
     "output_type": "execute_result"
    },
    {
     "data": {
      "image/png": "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\n",
      "text/plain": [
       "<Figure size 432x288 with 1 Axes>"
      ]
     },
     "metadata": {
      "needs_background": "light"
     },
     "output_type": "display_data"
    }
   ],
   "source": [
    "ca_tesla_zips.plot()"
   ]
  },
  {
   "cell_type": "markdown",
   "id": "aec9045a-c2c4-4dcf-95bc-85c5353b25ab",
   "metadata": {},
   "source": [
    "#### Export merged geo file"
   ]
  },
  {
   "cell_type": "code",
<<<<<<< HEAD
   "execution_count": 55,
   "id": "7d4ec6d4-498c-44f9-8b68-110f33bb78f3",
   "metadata": {},
   "outputs": [],
   "source": [
    "ca_tesla_zips.to_file(\"../data/geo/tesla_la_tracts.geojson\", driver=\"GeoJSON\")"
   ]
=======
   "execution_count": null,
   "id": "7d4ec6d4-498c-44f9-8b68-110f33bb78f3",
   "metadata": {},
   "outputs": [],
   "source": []
>>>>>>> c99e546fe6e26b86df244802e96b1831fbe1418c
  },
  {
   "cell_type": "markdown",
   "id": "4a522579-29f7-4236-b345-1634b15e7b35",
   "metadata": {},
   "source": [
    "---"
   ]
  },
  {
   "cell_type": "markdown",
   "id": "c6fa3491-f1c6-405d-9f0e-430640f00cb6",
   "metadata": {},
   "source": [
    "### Population map\n",
    "##### How's the white population distributed in LA by neighborhood? "
   ]
  },
  {
   "cell_type": "code",
   "execution_count": 6,
   "id": "39be56ea-267f-46bc-8d06-0939ca0a7110",
   "metadata": {},
   "outputs": [],
   "source": [
    "# Values:https://raw.githubusercontent.com/stiles/usc/main/data/processed/la_neighborhood_demographics.csv\n",
    "# Geo: https://raw.githubusercontent.com/stiles/usc/main/data/geo/la-neighborhoods.geojson"
   ]
  },
  {
   "cell_type": "markdown",
   "id": "ab674d6b-0e50-4534-b706-5514ed9b2180",
   "metadata": {},
   "source": [
    "#### Read race/ethnicity data"
   ]
  },
  {
   "cell_type": "code",
   "execution_count": null,
   "id": "57a9a45a-2316-4624-8621-687685143dcc",
   "metadata": {},
   "outputs": [],
   "source": []
  },
  {
   "cell_type": "code",
   "execution_count": null,
   "id": "95c89e25-eac3-401c-abff-31b4a5b908cf",
   "metadata": {},
   "outputs": [],
   "source": []
  },
  {
   "cell_type": "markdown",
   "id": "da5bfdc0-62d3-4dc1-8867-66c2b69324f8",
   "metadata": {},
   "source": [
    "#### Read LA neighborhoods geo file"
   ]
  },
  {
   "cell_type": "code",
   "execution_count": null,
   "id": "87c97bc6-0e54-4888-8f5c-8c45f41c9e14",
   "metadata": {},
   "outputs": [],
   "source": []
  },
  {
   "cell_type": "code",
   "execution_count": null,
   "id": "cafe509d-0087-4698-90e0-1f5ecd86bb38",
   "metadata": {},
   "outputs": [],
   "source": []
  },
  {
   "cell_type": "markdown",
   "id": "7f72237a-c36b-4791-bf3a-d7efde539b2c",
   "metadata": {},
   "source": [
    "#### Merge the two"
   ]
  },
  {
   "cell_type": "code",
   "execution_count": null,
   "id": "80ddfd77-a237-42da-acef-b7f79a632687",
   "metadata": {},
   "outputs": [],
   "source": []
  },
  {
   "cell_type": "markdown",
   "id": "d2b4f1a9-d2e9-42d6-8283-841441ec006b",
   "metadata": {},
   "source": [
    "#### Export merged geo file"
   ]
  },
  {
   "cell_type": "code",
   "execution_count": null,
   "id": "5be8d03c-e1f7-4d3c-8764-b602eeca51a4",
   "metadata": {},
   "outputs": [],
   "source": []
  }
 ],
 "metadata": {
  "kernelspec": {
   "display_name": "Python 3",
   "language": "python",
   "name": "python3"
  },
  "language_info": {
   "codemirror_mode": {
    "name": "ipython",
    "version": 3
   },
   "file_extension": ".py",
   "mimetype": "text/x-python",
   "name": "python",
   "nbconvert_exporter": "python",
   "pygments_lexer": "ipython3",
   "version": "3.8.8"
  }
 },
 "nbformat": 4,
 "nbformat_minor": 5
}
