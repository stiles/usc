{
 "cells": [
  {
   "cell_type": "markdown",
   "id": "98077971-87b9-4dfc-9afe-06ed3f92a28f",
   "metadata": {},
   "source": [
    "# Week 5: Diving into Pandas - DEMO"
   ]
  },
  {
   "cell_type": "markdown",
   "id": "7606243d-b026-46af-adfa-6d6dfa8f06e3",
   "metadata": {},
   "source": [
    "#### Load our Python tools"
   ]
  },
  {
   "cell_type": "code",
   "execution_count": 1,
   "id": "ca566512-ad02-4813-901b-a2676a84b593",
   "metadata": {},
   "outputs": [],
   "source": [
    "import pandas as pd"
   ]
  },
  {
   "cell_type": "markdown",
   "id": "3eb18dbd-e47d-46f6-aa22-79d14175c6fa",
   "metadata": {},
   "source": [
    "## Let's explore TikTok data"
   ]
  },
  {
   "cell_type": "markdown",
   "id": "90b3e9ee-fc25-417b-9c6b-d84588789bec",
   "metadata": {},
   "source": [
    "#### Videos by [@jongraz](https://www.tiktok.com/@jongraz) involving Noodle the Pug - DON'T FORGET THE DATA PATH"
   ]
  },
  {
   "cell_type": "code",
   "execution_count": 2,
   "id": "83cc8a97-a1cb-4f89-9e2d-ff9bbd9a465f",
   "metadata": {},
   "outputs": [],
   "source": [
    "videos = pd.read_csv('../data/raw/jon_graz_noodle_videos.csv')"
   ]
  },
  {
   "cell_type": "markdown",
   "id": "5a765255-6dc4-4222-9759-1d0100956d1a",
   "metadata": {},
   "source": [
    "#### TikTok stats for att [@jongraz](https://www.tiktok.com/@jongraz) videos"
   ]
  },
  {
   "cell_type": "code",
   "execution_count": 3,
   "id": "5d092b9e-c245-4fc1-892d-9b70aa17ec89",
   "metadata": {},
   "outputs": [],
   "source": [
    "stats = pd.read_csv('../data/raw/jon_graz_stats.csv')"
   ]
  },
  {
   "cell_type": "markdown",
   "id": "d795815b-a959-4579-a76a-b0a0672b9b29",
   "metadata": {},
   "source": [
    "---"
   ]
  },
  {
   "cell_type": "markdown",
   "id": "291d9e0c-8e04-4f74-8dfa-5af473b14927",
   "metadata": {},
   "source": [
    "## Videos"
   ]
  },
  {
   "cell_type": "markdown",
   "id": "02bbb0cc-40aa-415c-b54a-b1ce405c56b1",
   "metadata": {},
   "source": [
    "#### Glance at the first five rows"
   ]
  },
  {
   "cell_type": "code",
   "execution_count": 4,
   "id": "7c4bab26-658a-4870-9249-e16bd3323564",
   "metadata": {},
   "outputs": [
    {
     "data": {
      "text/html": [
       "<div>\n",
       "<style scoped>\n",
       "    .dataframe tbody tr th:only-of-type {\n",
       "        vertical-align: middle;\n",
       "    }\n",
       "\n",
       "    .dataframe tbody tr th {\n",
       "        vertical-align: top;\n",
       "    }\n",
       "\n",
       "    .dataframe thead th {\n",
       "        text-align: right;\n",
       "    }\n",
       "</style>\n",
       "<table border=\"1\" class=\"dataframe\">\n",
       "  <thead>\n",
       "    <tr style=\"text-align: right;\">\n",
       "      <th></th>\n",
       "      <th>date</th>\n",
       "      <th>bones_nobones</th>\n",
       "      <th>url</th>\n",
       "      <th>id</th>\n",
       "    </tr>\n",
       "  </thead>\n",
       "  <tbody>\n",
       "    <tr>\n",
       "      <th>0</th>\n",
       "      <td>1/22/2022</td>\n",
       "      <td>No bones</td>\n",
       "      <td>https://www.tiktok.com/@jongraz/video/70560513...</td>\n",
       "      <td>7056051376929066287</td>\n",
       "    </tr>\n",
       "    <tr>\n",
       "      <th>1</th>\n",
       "      <td>1/21/2022</td>\n",
       "      <td>Bones!</td>\n",
       "      <td>https://www.tiktok.com/@jongraz/video/70556789...</td>\n",
       "      <td>7055678935107030319</td>\n",
       "    </tr>\n",
       "    <tr>\n",
       "      <th>2</th>\n",
       "      <td>1/18/2022</td>\n",
       "      <td>No bones</td>\n",
       "      <td>https://www.tiktok.com/@jongraz/video/70545760...</td>\n",
       "      <td>705457600349412075</td>\n",
       "    </tr>\n",
       "    <tr>\n",
       "      <th>3</th>\n",
       "      <td>1/19/2022</td>\n",
       "      <td>Bones!</td>\n",
       "      <td>https://www.tiktok.com/@jongraz/video/70549392...</td>\n",
       "      <td>7054939278937165102</td>\n",
       "    </tr>\n",
       "    <tr>\n",
       "      <th>4</th>\n",
       "      <td>1/16/2022</td>\n",
       "      <td>No bones</td>\n",
       "      <td>https://www.tiktok.com/@jongraz/video/70538379...</td>\n",
       "      <td>7053837902991658287</td>\n",
       "    </tr>\n",
       "  </tbody>\n",
       "</table>\n",
       "</div>"
      ],
      "text/plain": [
       "        date bones_nobones                                                url  \\\n",
       "0  1/22/2022      No bones  https://www.tiktok.com/@jongraz/video/70560513...   \n",
       "1  1/21/2022        Bones!  https://www.tiktok.com/@jongraz/video/70556789...   \n",
       "2  1/18/2022      No bones  https://www.tiktok.com/@jongraz/video/70545760...   \n",
       "3  1/19/2022        Bones!  https://www.tiktok.com/@jongraz/video/70549392...   \n",
       "4  1/16/2022      No bones  https://www.tiktok.com/@jongraz/video/70538379...   \n",
       "\n",
       "                    id  \n",
       "0  7056051376929066287  \n",
       "1  7055678935107030319  \n",
       "2   705457600349412075  \n",
       "3  7054939278937165102  \n",
       "4  7053837902991658287  "
      ]
     },
     "execution_count": 4,
     "metadata": {},
     "output_type": "execute_result"
    }
   ],
   "source": [
    "videos.head()"
   ]
  },
  {
   "cell_type": "code",
   "execution_count": 5,
   "id": "b05835f3-34b7-4e03-afd3-6f47ca02b09a",
   "metadata": {},
   "outputs": [
    {
     "data": {
      "text/html": [
       "<div>\n",
       "<style scoped>\n",
       "    .dataframe tbody tr th:only-of-type {\n",
       "        vertical-align: middle;\n",
       "    }\n",
       "\n",
       "    .dataframe tbody tr th {\n",
       "        vertical-align: top;\n",
       "    }\n",
       "\n",
       "    .dataframe thead th {\n",
       "        text-align: right;\n",
       "    }\n",
       "</style>\n",
       "<table border=\"1\" class=\"dataframe\">\n",
       "  <thead>\n",
       "    <tr style=\"text-align: right;\">\n",
       "      <th></th>\n",
       "      <th>date</th>\n",
       "      <th>bones_nobones</th>\n",
       "      <th>url</th>\n",
       "      <th>id</th>\n",
       "    </tr>\n",
       "  </thead>\n",
       "  <tbody>\n",
       "    <tr>\n",
       "      <th>73</th>\n",
       "      <td>9/14/2021</td>\n",
       "      <td>Bones!</td>\n",
       "      <td>https://www.tiktok.com/@jongraz/video/70077862...</td>\n",
       "      <td>7007786296059940101</td>\n",
       "    </tr>\n",
       "    <tr>\n",
       "      <th>74</th>\n",
       "      <td>9/5/2021</td>\n",
       "      <td>No bones</td>\n",
       "      <td>https://www.tiktok.com/@jongraz/video/70044533...</td>\n",
       "      <td>7004453353946189062</td>\n",
       "    </tr>\n",
       "    <tr>\n",
       "      <th>75</th>\n",
       "      <td>8/21/2021</td>\n",
       "      <td>No bones</td>\n",
       "      <td>https://www.tiktok.com/@jongraz/video/69988717...</td>\n",
       "      <td>6998871742793993478</td>\n",
       "    </tr>\n",
       "    <tr>\n",
       "      <th>76</th>\n",
       "      <td>8/13/2021</td>\n",
       "      <td>No bones</td>\n",
       "      <td>https://www.tiktok.com/@jongraz/video/69959251...</td>\n",
       "      <td>6995925135182056709</td>\n",
       "    </tr>\n",
       "    <tr>\n",
       "      <th>77</th>\n",
       "      <td>3/11/2021</td>\n",
       "      <td>No bones</td>\n",
       "      <td>https://www.tiktok.com/@jongraz/video/69385478...</td>\n",
       "      <td>6938547829673626885</td>\n",
       "    </tr>\n",
       "  </tbody>\n",
       "</table>\n",
       "</div>"
      ],
      "text/plain": [
       "         date bones_nobones  \\\n",
       "73  9/14/2021        Bones!   \n",
       "74   9/5/2021      No bones   \n",
       "75  8/21/2021      No bones   \n",
       "76  8/13/2021      No bones   \n",
       "77  3/11/2021      No bones   \n",
       "\n",
       "                                                  url                   id  \n",
       "73  https://www.tiktok.com/@jongraz/video/70077862...  7007786296059940101  \n",
       "74  https://www.tiktok.com/@jongraz/video/70044533...  7004453353946189062  \n",
       "75  https://www.tiktok.com/@jongraz/video/69988717...  6998871742793993478  \n",
       "76  https://www.tiktok.com/@jongraz/video/69959251...  6995925135182056709  \n",
       "77  https://www.tiktok.com/@jongraz/video/69385478...  6938547829673626885  "
      ]
     },
     "execution_count": 5,
     "metadata": {},
     "output_type": "execute_result"
    }
   ],
   "source": [
    "videos.tail()"
   ]
  },
  {
   "cell_type": "markdown",
   "id": "117f40d6-ea57-445f-8f36-2c4d8fe7ccbf",
   "metadata": {},
   "source": [
    "#### How many total videos are there? "
   ]
  },
  {
   "cell_type": "code",
   "execution_count": 6,
   "id": "60a7ad3f-13b0-4ed0-ab0e-3ab11e55fd98",
   "metadata": {},
   "outputs": [
    {
     "data": {
      "text/plain": [
       "78"
      ]
     },
     "execution_count": 6,
     "metadata": {},
     "output_type": "execute_result"
    }
   ],
   "source": [
    "len(videos)"
   ]
  },
  {
   "cell_type": "markdown",
   "id": "bf4eb5d0-3d19-446b-8269-f1260b945510",
   "metadata": {},
   "source": [
    "#### What's the oldest video? "
   ]
  },
  {
   "cell_type": "code",
   "execution_count": 7,
   "id": "b10d0687-7812-4690-8ac2-6176c4f21f24",
   "metadata": {},
   "outputs": [
    {
     "data": {
      "text/html": [
       "<div>\n",
       "<style scoped>\n",
       "    .dataframe tbody tr th:only-of-type {\n",
       "        vertical-align: middle;\n",
       "    }\n",
       "\n",
       "    .dataframe tbody tr th {\n",
       "        vertical-align: top;\n",
       "    }\n",
       "\n",
       "    .dataframe thead th {\n",
       "        text-align: right;\n",
       "    }\n",
       "</style>\n",
       "<table border=\"1\" class=\"dataframe\">\n",
       "  <thead>\n",
       "    <tr style=\"text-align: right;\">\n",
       "      <th></th>\n",
       "      <th>date</th>\n",
       "      <th>bones_nobones</th>\n",
       "      <th>url</th>\n",
       "      <th>id</th>\n",
       "    </tr>\n",
       "  </thead>\n",
       "  <tbody>\n",
       "    <tr>\n",
       "      <th>74</th>\n",
       "      <td>9/5/2021</td>\n",
       "      <td>No bones</td>\n",
       "      <td>https://www.tiktok.com/@jongraz/video/70044533...</td>\n",
       "      <td>7004453353946189062</td>\n",
       "    </tr>\n",
       "    <tr>\n",
       "      <th>71</th>\n",
       "      <td>9/29/2021</td>\n",
       "      <td>No bones</td>\n",
       "      <td>https://www.tiktok.com/@jongraz/video/70133630...</td>\n",
       "      <td>7013363016121044229</td>\n",
       "    </tr>\n",
       "    <tr>\n",
       "      <th>72</th>\n",
       "      <td>9/22/2021</td>\n",
       "      <td>No bones</td>\n",
       "      <td>https://www.tiktok.com/@jongraz/video/70107548...</td>\n",
       "      <td>7010754857476885766</td>\n",
       "    </tr>\n",
       "    <tr>\n",
       "      <th>73</th>\n",
       "      <td>9/14/2021</td>\n",
       "      <td>Bones!</td>\n",
       "      <td>https://www.tiktok.com/@jongraz/video/70077862...</td>\n",
       "      <td>7007786296059940101</td>\n",
       "    </tr>\n",
       "    <tr>\n",
       "      <th>75</th>\n",
       "      <td>8/21/2021</td>\n",
       "      <td>No bones</td>\n",
       "      <td>https://www.tiktok.com/@jongraz/video/69988717...</td>\n",
       "      <td>6998871742793993478</td>\n",
       "    </tr>\n",
       "  </tbody>\n",
       "</table>\n",
       "</div>"
      ],
      "text/plain": [
       "         date bones_nobones  \\\n",
       "74   9/5/2021      No bones   \n",
       "71  9/29/2021      No bones   \n",
       "72  9/22/2021      No bones   \n",
       "73  9/14/2021        Bones!   \n",
       "75  8/21/2021      No bones   \n",
       "\n",
       "                                                  url                   id  \n",
       "74  https://www.tiktok.com/@jongraz/video/70044533...  7004453353946189062  \n",
       "71  https://www.tiktok.com/@jongraz/video/70133630...  7013363016121044229  \n",
       "72  https://www.tiktok.com/@jongraz/video/70107548...  7010754857476885766  \n",
       "73  https://www.tiktok.com/@jongraz/video/70077862...  7007786296059940101  \n",
       "75  https://www.tiktok.com/@jongraz/video/69988717...  6998871742793993478  "
      ]
     },
     "execution_count": 7,
     "metadata": {},
     "output_type": "execute_result"
    }
   ],
   "source": [
    "videos.sort_values(\"date\",ascending=False).head()"
   ]
  },
  {
   "cell_type": "markdown",
   "id": "bdc528d6-231e-43aa-a868-e9f0910a9f86",
   "metadata": {},
   "source": [
    "#### Newest? "
   ]
  },
  {
   "cell_type": "code",
   "execution_count": 8,
   "id": "94a2df6f-8ea2-442e-80a8-c647ac195db8",
   "metadata": {},
   "outputs": [
    {
     "data": {
      "text/html": [
       "<div>\n",
       "<style scoped>\n",
       "    .dataframe tbody tr th:only-of-type {\n",
       "        vertical-align: middle;\n",
       "    }\n",
       "\n",
       "    .dataframe tbody tr th {\n",
       "        vertical-align: top;\n",
       "    }\n",
       "\n",
       "    .dataframe thead th {\n",
       "        text-align: right;\n",
       "    }\n",
       "</style>\n",
       "<table border=\"1\" class=\"dataframe\">\n",
       "  <thead>\n",
       "    <tr style=\"text-align: right;\">\n",
       "      <th></th>\n",
       "      <th>date</th>\n",
       "      <th>bones_nobones</th>\n",
       "      <th>url</th>\n",
       "      <th>id</th>\n",
       "    </tr>\n",
       "  </thead>\n",
       "  <tbody>\n",
       "    <tr>\n",
       "      <th>10</th>\n",
       "      <td>1/1/2022</td>\n",
       "      <td>Bones!</td>\n",
       "      <td>https://www.tiktok.com/@jongraz/video/70482717...</td>\n",
       "      <td>7048271702387739910</td>\n",
       "    </tr>\n",
       "    <tr>\n",
       "      <th>7</th>\n",
       "      <td>1/11/2022</td>\n",
       "      <td>No bones</td>\n",
       "      <td>https://www.tiktok.com/@jongraz/video/70519729...</td>\n",
       "      <td>7051972968347503919</td>\n",
       "    </tr>\n",
       "    <tr>\n",
       "      <th>6</th>\n",
       "      <td>1/13/2022</td>\n",
       "      <td>Bones!</td>\n",
       "      <td>https://www.tiktok.com/@jongraz/video/70523416...</td>\n",
       "      <td>7052341674634235183</td>\n",
       "    </tr>\n",
       "    <tr>\n",
       "      <th>5</th>\n",
       "      <td>1/15/2022</td>\n",
       "      <td>Bones!</td>\n",
       "      <td>https://www.tiktok.com/@jongraz/video/70534547...</td>\n",
       "      <td>7053454719641029934</td>\n",
       "    </tr>\n",
       "    <tr>\n",
       "      <th>4</th>\n",
       "      <td>1/16/2022</td>\n",
       "      <td>No bones</td>\n",
       "      <td>https://www.tiktok.com/@jongraz/video/70538379...</td>\n",
       "      <td>7053837902991658287</td>\n",
       "    </tr>\n",
       "  </tbody>\n",
       "</table>\n",
       "</div>"
      ],
      "text/plain": [
       "         date bones_nobones  \\\n",
       "10   1/1/2022        Bones!   \n",
       "7   1/11/2022      No bones   \n",
       "6   1/13/2022        Bones!   \n",
       "5   1/15/2022        Bones!   \n",
       "4   1/16/2022      No bones   \n",
       "\n",
       "                                                  url                   id  \n",
       "10  https://www.tiktok.com/@jongraz/video/70482717...  7048271702387739910  \n",
       "7   https://www.tiktok.com/@jongraz/video/70519729...  7051972968347503919  \n",
       "6   https://www.tiktok.com/@jongraz/video/70523416...  7052341674634235183  \n",
       "5   https://www.tiktok.com/@jongraz/video/70534547...  7053454719641029934  \n",
       "4   https://www.tiktok.com/@jongraz/video/70538379...  7053837902991658287  "
      ]
     },
     "execution_count": 8,
     "metadata": {},
     "output_type": "execute_result"
    }
   ],
   "source": [
    "videos.sort_values(\"date\",ascending=True).head()"
   ]
  },
  {
   "cell_type": "markdown",
   "id": "e99a642a-318b-4e19-aff2-a3fb4dcfb365",
   "metadata": {},
   "source": [
    "#### Data types"
   ]
  },
  {
   "cell_type": "code",
   "execution_count": 9,
   "id": "11485187-0a6f-480b-bb8e-14109f7e92f0",
   "metadata": {},
   "outputs": [
    {
     "data": {
      "text/plain": [
       "date             object\n",
       "bones_nobones    object\n",
       "url              object\n",
       "id                int64\n",
       "dtype: object"
      ]
     },
     "execution_count": 9,
     "metadata": {},
     "output_type": "execute_result"
    }
   ],
   "source": [
    "videos.dtypes"
   ]
  },
  {
   "cell_type": "markdown",
   "id": "372bc259-a0d6-40d2-a204-f80e8b6dc89f",
   "metadata": {},
   "source": [
    "#### Convert the date string to a real date in a new column"
   ]
  },
  {
   "cell_type": "code",
   "execution_count": 10,
   "id": "8e73e925-820a-419f-9e88-1ef5cbd98957",
   "metadata": {},
   "outputs": [
    {
     "data": {
      "text/plain": [
       "0    2022-01-22\n",
       "1    2022-01-21\n",
       "2    2022-01-18\n",
       "3    2022-01-19\n",
       "4    2022-01-16\n",
       "        ...    \n",
       "73   2021-09-14\n",
       "74   2021-09-05\n",
       "75   2021-08-21\n",
       "76   2021-08-13\n",
       "77   2021-03-11\n",
       "Name: clean_date, Length: 78, dtype: datetime64[ns]"
      ]
     },
     "execution_count": 10,
     "metadata": {},
     "output_type": "execute_result"
    }
   ],
   "source": [
    "videos['clean_date'] = pd.to_datetime(videos['date'])\n",
    "videos['clean_date']"
   ]
  },
  {
   "cell_type": "code",
   "execution_count": 11,
   "id": "8ddadb7e-ca47-4809-836d-bbb936291786",
   "metadata": {},
   "outputs": [
    {
     "data": {
      "text/plain": [
       "date                     object\n",
       "bones_nobones            object\n",
       "url                      object\n",
       "id                        int64\n",
       "clean_date       datetime64[ns]\n",
       "dtype: object"
      ]
     },
     "execution_count": 11,
     "metadata": {},
     "output_type": "execute_result"
    }
   ],
   "source": [
    "videos.dtypes"
   ]
  },
  {
   "cell_type": "code",
   "execution_count": 12,
   "id": "7f4ece29-3733-408f-891c-d49235733066",
   "metadata": {},
   "outputs": [
    {
     "data": {
      "text/plain": [
       "date                     object\n",
       "bones_nobones            object\n",
       "url                      object\n",
       "id                       object\n",
       "clean_date       datetime64[ns]\n",
       "dtype: object"
      ]
     },
     "execution_count": 12,
     "metadata": {},
     "output_type": "execute_result"
    }
   ],
   "source": [
    "videos['id'] = videos['id'].astype(str)\n",
    "videos.dtypes"
   ]
  },
  {
   "cell_type": "markdown",
   "id": "a2b169f8-f795-4e4e-8ec6-9d3a0e3c5251",
   "metadata": {},
   "source": [
    "#### Now will it sort? Try with oldest"
   ]
  },
  {
   "cell_type": "code",
   "execution_count": 13,
   "id": "7b759274-54da-4998-b2e6-f5285c17e079",
   "metadata": {},
   "outputs": [
    {
     "data": {
      "text/html": [
       "<div>\n",
       "<style scoped>\n",
       "    .dataframe tbody tr th:only-of-type {\n",
       "        vertical-align: middle;\n",
       "    }\n",
       "\n",
       "    .dataframe tbody tr th {\n",
       "        vertical-align: top;\n",
       "    }\n",
       "\n",
       "    .dataframe thead th {\n",
       "        text-align: right;\n",
       "    }\n",
       "</style>\n",
       "<table border=\"1\" class=\"dataframe\">\n",
       "  <thead>\n",
       "    <tr style=\"text-align: right;\">\n",
       "      <th></th>\n",
       "      <th>date</th>\n",
       "      <th>bones_nobones</th>\n",
       "      <th>url</th>\n",
       "      <th>id</th>\n",
       "      <th>clean_date</th>\n",
       "    </tr>\n",
       "  </thead>\n",
       "  <tbody>\n",
       "    <tr>\n",
       "      <th>77</th>\n",
       "      <td>3/11/2021</td>\n",
       "      <td>No bones</td>\n",
       "      <td>https://www.tiktok.com/@jongraz/video/69385478...</td>\n",
       "      <td>6938547829673626885</td>\n",
       "      <td>2021-03-11</td>\n",
       "    </tr>\n",
       "    <tr>\n",
       "      <th>76</th>\n",
       "      <td>8/13/2021</td>\n",
       "      <td>No bones</td>\n",
       "      <td>https://www.tiktok.com/@jongraz/video/69959251...</td>\n",
       "      <td>6995925135182056709</td>\n",
       "      <td>2021-08-13</td>\n",
       "    </tr>\n",
       "    <tr>\n",
       "      <th>75</th>\n",
       "      <td>8/21/2021</td>\n",
       "      <td>No bones</td>\n",
       "      <td>https://www.tiktok.com/@jongraz/video/69988717...</td>\n",
       "      <td>6998871742793993478</td>\n",
       "      <td>2021-08-21</td>\n",
       "    </tr>\n",
       "    <tr>\n",
       "      <th>74</th>\n",
       "      <td>9/5/2021</td>\n",
       "      <td>No bones</td>\n",
       "      <td>https://www.tiktok.com/@jongraz/video/70044533...</td>\n",
       "      <td>7004453353946189062</td>\n",
       "      <td>2021-09-05</td>\n",
       "    </tr>\n",
       "    <tr>\n",
       "      <th>73</th>\n",
       "      <td>9/14/2021</td>\n",
       "      <td>Bones!</td>\n",
       "      <td>https://www.tiktok.com/@jongraz/video/70077862...</td>\n",
       "      <td>7007786296059940101</td>\n",
       "      <td>2021-09-14</td>\n",
       "    </tr>\n",
       "  </tbody>\n",
       "</table>\n",
       "</div>"
      ],
      "text/plain": [
       "         date bones_nobones  \\\n",
       "77  3/11/2021      No bones   \n",
       "76  8/13/2021      No bones   \n",
       "75  8/21/2021      No bones   \n",
       "74   9/5/2021      No bones   \n",
       "73  9/14/2021        Bones!   \n",
       "\n",
       "                                                  url                   id  \\\n",
       "77  https://www.tiktok.com/@jongraz/video/69385478...  6938547829673626885   \n",
       "76  https://www.tiktok.com/@jongraz/video/69959251...  6995925135182056709   \n",
       "75  https://www.tiktok.com/@jongraz/video/69988717...  6998871742793993478   \n",
       "74  https://www.tiktok.com/@jongraz/video/70044533...  7004453353946189062   \n",
       "73  https://www.tiktok.com/@jongraz/video/70077862...  7007786296059940101   \n",
       "\n",
       "   clean_date  \n",
       "77 2021-03-11  \n",
       "76 2021-08-13  \n",
       "75 2021-08-21  \n",
       "74 2021-09-05  \n",
       "73 2021-09-14  "
      ]
     },
     "execution_count": 13,
     "metadata": {},
     "output_type": "execute_result"
    }
   ],
   "source": [
    "videos.sort_values(\"clean_date\",ascending=True).head()"
   ]
  },
  {
   "cell_type": "markdown",
   "id": "615cf21d-ce09-40a4-8de1-195dca0c62f9",
   "metadata": {},
   "source": [
    "#### What if we just want the month, or year, or day of the week?"
   ]
  },
  {
   "cell_type": "code",
   "execution_count": 14,
   "id": "49d61ebc-0e12-42cc-8121-2abeb0d27fc9",
   "metadata": {},
   "outputs": [
    {
     "data": {
      "text/plain": [
       "0     2022\n",
       "1     2022\n",
       "2     2022\n",
       "3     2022\n",
       "4     2022\n",
       "      ... \n",
       "73    2021\n",
       "74    2021\n",
       "75    2021\n",
       "76    2021\n",
       "77    2021\n",
       "Name: year, Length: 78, dtype: int64"
      ]
     },
     "execution_count": 14,
     "metadata": {},
     "output_type": "execute_result"
    }
   ],
   "source": [
    "videos['year'] = videos['clean_date'].dt.year\n",
    "videos.year"
   ]
  },
  {
   "cell_type": "code",
   "execution_count": 15,
   "id": "8ad22070-21a0-4c75-9666-4b612746266a",
   "metadata": {},
   "outputs": [
    {
     "data": {
      "text/plain": [
       "0       January\n",
       "1       January\n",
       "2       January\n",
       "3       January\n",
       "4       January\n",
       "        ...    \n",
       "73    September\n",
       "74    September\n",
       "75       August\n",
       "76       August\n",
       "77        March\n",
       "Name: month, Length: 78, dtype: object"
      ]
     },
     "execution_count": 15,
     "metadata": {},
     "output_type": "execute_result"
    }
   ],
   "source": [
    "videos['month'] = videos['clean_date'].dt.month_name()\n",
    "videos.month"
   ]
  },
  {
   "cell_type": "code",
   "execution_count": 16,
   "id": "a1073fce-b3aa-4f7b-a7f0-0938d6c86db1",
   "metadata": {},
   "outputs": [
    {
     "data": {
      "text/plain": [
       "0      Saturday\n",
       "1        Friday\n",
       "2       Tuesday\n",
       "3     Wednesday\n",
       "4        Sunday\n",
       "        ...    \n",
       "73      Tuesday\n",
       "74       Sunday\n",
       "75     Saturday\n",
       "76       Friday\n",
       "77     Thursday\n",
       "Name: weekday, Length: 78, dtype: object"
      ]
     },
     "execution_count": 16,
     "metadata": {},
     "output_type": "execute_result"
    }
   ],
   "source": [
    "videos['weekday'] = videos['clean_date'].dt.day_name()\n",
    "videos.weekday"
   ]
  },
  {
   "cell_type": "code",
   "execution_count": 17,
   "id": "f772860e-0dd9-4f60-8eae-0c751218e3c6",
   "metadata": {},
   "outputs": [
    {
     "data": {
      "text/html": [
       "<div>\n",
       "<style scoped>\n",
       "    .dataframe tbody tr th:only-of-type {\n",
       "        vertical-align: middle;\n",
       "    }\n",
       "\n",
       "    .dataframe tbody tr th {\n",
       "        vertical-align: top;\n",
       "    }\n",
       "\n",
       "    .dataframe thead th {\n",
       "        text-align: right;\n",
       "    }\n",
       "</style>\n",
       "<table border=\"1\" class=\"dataframe\">\n",
       "  <thead>\n",
       "    <tr style=\"text-align: right;\">\n",
       "      <th></th>\n",
       "      <th>date</th>\n",
       "      <th>bones_nobones</th>\n",
       "      <th>url</th>\n",
       "      <th>id</th>\n",
       "      <th>clean_date</th>\n",
       "      <th>year</th>\n",
       "      <th>month</th>\n",
       "      <th>weekday</th>\n",
       "    </tr>\n",
       "  </thead>\n",
       "  <tbody>\n",
       "    <tr>\n",
       "      <th>0</th>\n",
       "      <td>1/22/2022</td>\n",
       "      <td>No bones</td>\n",
       "      <td>https://www.tiktok.com/@jongraz/video/70560513...</td>\n",
       "      <td>7056051376929066287</td>\n",
       "      <td>2022-01-22</td>\n",
       "      <td>2022</td>\n",
       "      <td>January</td>\n",
       "      <td>Saturday</td>\n",
       "    </tr>\n",
       "    <tr>\n",
       "      <th>1</th>\n",
       "      <td>1/21/2022</td>\n",
       "      <td>Bones!</td>\n",
       "      <td>https://www.tiktok.com/@jongraz/video/70556789...</td>\n",
       "      <td>7055678935107030319</td>\n",
       "      <td>2022-01-21</td>\n",
       "      <td>2022</td>\n",
       "      <td>January</td>\n",
       "      <td>Friday</td>\n",
       "    </tr>\n",
       "    <tr>\n",
       "      <th>2</th>\n",
       "      <td>1/18/2022</td>\n",
       "      <td>No bones</td>\n",
       "      <td>https://www.tiktok.com/@jongraz/video/70545760...</td>\n",
       "      <td>705457600349412075</td>\n",
       "      <td>2022-01-18</td>\n",
       "      <td>2022</td>\n",
       "      <td>January</td>\n",
       "      <td>Tuesday</td>\n",
       "    </tr>\n",
       "    <tr>\n",
       "      <th>3</th>\n",
       "      <td>1/19/2022</td>\n",
       "      <td>Bones!</td>\n",
       "      <td>https://www.tiktok.com/@jongraz/video/70549392...</td>\n",
       "      <td>7054939278937165102</td>\n",
       "      <td>2022-01-19</td>\n",
       "      <td>2022</td>\n",
       "      <td>January</td>\n",
       "      <td>Wednesday</td>\n",
       "    </tr>\n",
       "    <tr>\n",
       "      <th>4</th>\n",
       "      <td>1/16/2022</td>\n",
       "      <td>No bones</td>\n",
       "      <td>https://www.tiktok.com/@jongraz/video/70538379...</td>\n",
       "      <td>7053837902991658287</td>\n",
       "      <td>2022-01-16</td>\n",
       "      <td>2022</td>\n",
       "      <td>January</td>\n",
       "      <td>Sunday</td>\n",
       "    </tr>\n",
       "  </tbody>\n",
       "</table>\n",
       "</div>"
      ],
      "text/plain": [
       "        date bones_nobones                                                url  \\\n",
       "0  1/22/2022      No bones  https://www.tiktok.com/@jongraz/video/70560513...   \n",
       "1  1/21/2022        Bones!  https://www.tiktok.com/@jongraz/video/70556789...   \n",
       "2  1/18/2022      No bones  https://www.tiktok.com/@jongraz/video/70545760...   \n",
       "3  1/19/2022        Bones!  https://www.tiktok.com/@jongraz/video/70549392...   \n",
       "4  1/16/2022      No bones  https://www.tiktok.com/@jongraz/video/70538379...   \n",
       "\n",
       "                    id clean_date  year    month    weekday  \n",
       "0  7056051376929066287 2022-01-22  2022  January   Saturday  \n",
       "1  7055678935107030319 2022-01-21  2022  January     Friday  \n",
       "2   705457600349412075 2022-01-18  2022  January    Tuesday  \n",
       "3  7054939278937165102 2022-01-19  2022  January  Wednesday  \n",
       "4  7053837902991658287 2022-01-16  2022  January     Sunday  "
      ]
     },
     "execution_count": 17,
     "metadata": {},
     "output_type": "execute_result"
    }
   ],
   "source": [
    "videos.head()"
   ]
  },
  {
   "cell_type": "markdown",
   "id": "b8a66968-54eb-4445-8a12-52b10d1e92db",
   "metadata": {},
   "source": [
    "#### How many bones days vs. no bones days? "
   ]
  },
  {
   "cell_type": "code",
   "execution_count": 22,
   "id": "758a0866-755d-4aad-8f98-3e2aeebd4f29",
   "metadata": {},
   "outputs": [
    {
     "data": {
      "text/plain": [
       "bones_nobones\n",
       "Bones!      40\n",
       "No bones    38\n",
       "dtype: int64"
      ]
     },
     "execution_count": 22,
     "metadata": {},
     "output_type": "execute_result"
    }
   ],
   "source": [
    "videos.value_counts('bones_nobones')"
   ]
  },
  {
   "cell_type": "code",
   "execution_count": 29,
   "id": "fc167202-7a5d-4051-a09f-bcda4e645b31",
   "metadata": {},
   "outputs": [
    {
     "data": {
      "text/plain": [
       "bones_nobones\n",
       "Bones!      51.0\n",
       "No bones    49.0\n",
       "dtype: float64"
      ]
     },
     "execution_count": 29,
     "metadata": {},
     "output_type": "execute_result"
    }
   ],
   "source": [
    "videos.value_counts('bones_nobones', normalize=True).round(2) * 100"
   ]
  },
  {
   "cell_type": "code",
   "execution_count": 30,
   "id": "aa44961d-7406-4fdc-a61a-780fbf15c803",
   "metadata": {},
   "outputs": [
    {
     "data": {
      "text/plain": [
       "weekday\n",
       "Thursday     18.0\n",
       "Monday       17.0\n",
       "Friday       15.0\n",
       "Tuesday      15.0\n",
       "Saturday     14.0\n",
       "Wednesday    12.0\n",
       "Sunday        9.0\n",
       "dtype: float64"
      ]
     },
     "execution_count": 30,
     "metadata": {},
     "output_type": "execute_result"
    }
   ],
   "source": [
    "videos.value_counts('weekday', normalize=True).round(2) * 100"
   ]
  },
  {
   "cell_type": "markdown",
   "id": "aeaaef58-165f-459d-88cd-46423842a39f",
   "metadata": {},
   "source": [
    "---"
   ]
  },
  {
   "cell_type": "markdown",
   "id": "09d1b765-e907-4141-af9d-f34beccd912c",
   "metadata": {},
   "source": [
    "## TikTok API stats"
   ]
  },
  {
   "cell_type": "markdown",
   "id": "aa062bb9-b5df-482c-82b6-057079ab9e8d",
   "metadata": {},
   "source": [
    "#### First five rows?"
   ]
  },
  {
   "cell_type": "code",
   "execution_count": 18,
   "id": "cfd368de-1674-4fb1-a25c-f6e14f83cedf",
   "metadata": {},
   "outputs": [
    {
     "data": {
      "text/html": [
       "<div>\n",
       "<style scoped>\n",
       "    .dataframe tbody tr th:only-of-type {\n",
       "        vertical-align: middle;\n",
       "    }\n",
       "\n",
       "    .dataframe tbody tr th {\n",
       "        vertical-align: top;\n",
       "    }\n",
       "\n",
       "    .dataframe thead th {\n",
       "        text-align: right;\n",
       "    }\n",
       "</style>\n",
       "<table border=\"1\" class=\"dataframe\">\n",
       "  <thead>\n",
       "    <tr style=\"text-align: right;\">\n",
       "      <th></th>\n",
       "      <th>user_name</th>\n",
       "      <th>video_id</th>\n",
       "      <th>video_desc</th>\n",
       "      <th>video_time</th>\n",
       "      <th>video_duration</th>\n",
       "      <th>n_shares</th>\n",
       "      <th>n_comments</th>\n",
       "      <th>n_plays</th>\n",
       "      <th>video_link</th>\n",
       "      <th>timestamp</th>\n",
       "      <th>date</th>\n",
       "      <th>month</th>\n",
       "      <th>weekday</th>\n",
       "      <th>time</th>\n",
       "      <th>weekstart_timestamp</th>\n",
       "      <th>weekstart</th>\n",
       "      <th>updated_date</th>\n",
       "    </tr>\n",
       "  </thead>\n",
       "  <tbody>\n",
       "    <tr>\n",
       "      <th>0</th>\n",
       "      <td>jongraz</td>\n",
       "      <td>7050491114775842095</td>\n",
       "      <td>we must HEED THE BONES!! 🔮🦴🔮</td>\n",
       "      <td>1641570386</td>\n",
       "      <td>45</td>\n",
       "      <td>4122</td>\n",
       "      <td>1678</td>\n",
       "      <td>417600</td>\n",
       "      <td>https://www.tiktok.com/@jongraz/video/70504911...</td>\n",
       "      <td>2022-01-07 15:46:26.000000</td>\n",
       "      <td>2022-01-07</td>\n",
       "      <td>1</td>\n",
       "      <td>Friday</td>\n",
       "      <td>15:46:26</td>\n",
       "      <td>2022-01-03 15:46:26.000000</td>\n",
       "      <td>2022-01-03</td>\n",
       "      <td>2022-02-10 15:28:01.606582</td>\n",
       "    </tr>\n",
       "    <tr>\n",
       "      <th>1</th>\n",
       "      <td>jongraz</td>\n",
       "      <td>7048998918729764102</td>\n",
       "      <td>noodle is…is he all of us today? I think he ma...</td>\n",
       "      <td>1641222956</td>\n",
       "      <td>46</td>\n",
       "      <td>5531</td>\n",
       "      <td>1910</td>\n",
       "      <td>621200</td>\n",
       "      <td>https://www.tiktok.com/@jongraz/video/70489989...</td>\n",
       "      <td>2022-01-03 15:15:56.000000</td>\n",
       "      <td>2022-01-03</td>\n",
       "      <td>1</td>\n",
       "      <td>Monday</td>\n",
       "      <td>15:15:56</td>\n",
       "      <td>2022-01-03 15:15:56.000000</td>\n",
       "      <td>2022-01-03</td>\n",
       "      <td>2022-02-10 15:28:01.606582</td>\n",
       "    </tr>\n",
       "    <tr>\n",
       "      <th>2</th>\n",
       "      <td>jongraz</td>\n",
       "      <td>7048271702387739910</td>\n",
       "      <td>🚨🚨🚨 we needed THIS!! 🔮🦴🎉 #noodletok #newyearsa...</td>\n",
       "      <td>1641053638</td>\n",
       "      <td>55</td>\n",
       "      <td>11700</td>\n",
       "      <td>2559</td>\n",
       "      <td>791800</td>\n",
       "      <td>https://www.tiktok.com/@jongraz/video/70482717...</td>\n",
       "      <td>2022-01-01 16:13:58.000000</td>\n",
       "      <td>2022-01-01</td>\n",
       "      <td>1</td>\n",
       "      <td>Saturday</td>\n",
       "      <td>16:13:58</td>\n",
       "      <td>2021-12-27 16:13:58.000000</td>\n",
       "      <td>2021-12-27</td>\n",
       "      <td>2022-02-10 15:28:01.606582</td>\n",
       "    </tr>\n",
       "    <tr>\n",
       "      <th>3</th>\n",
       "      <td>jongraz</td>\n",
       "      <td>7047890544210496773</td>\n",
       "      <td>your ✨FINAL READING✨ of 2021 🔮🦴🔮</td>\n",
       "      <td>1640964892</td>\n",
       "      <td>59</td>\n",
       "      <td>7085</td>\n",
       "      <td>2550</td>\n",
       "      <td>557900</td>\n",
       "      <td>https://www.tiktok.com/@jongraz/video/70478905...</td>\n",
       "      <td>2021-12-31 15:34:52.000000</td>\n",
       "      <td>2021-12-31</td>\n",
       "      <td>12</td>\n",
       "      <td>Friday</td>\n",
       "      <td>15:34:52</td>\n",
       "      <td>2021-12-27 15:34:52.000000</td>\n",
       "      <td>2021-12-27</td>\n",
       "      <td>2022-02-10 15:28:01.606582</td>\n",
       "    </tr>\n",
       "    <tr>\n",
       "      <th>4</th>\n",
       "      <td>jongraz</td>\n",
       "      <td>7046779675493895430</td>\n",
       "      <td>plan or adjust your day accordingly 🔮🦴🔮 #noodl...</td>\n",
       "      <td>1640706249</td>\n",
       "      <td>55</td>\n",
       "      <td>3696</td>\n",
       "      <td>1299</td>\n",
       "      <td>528900</td>\n",
       "      <td>https://www.tiktok.com/@jongraz/video/70467796...</td>\n",
       "      <td>2021-12-28 15:44:09.000000</td>\n",
       "      <td>2021-12-28</td>\n",
       "      <td>12</td>\n",
       "      <td>Tuesday</td>\n",
       "      <td>15:44:09</td>\n",
       "      <td>2021-12-27 15:44:09.000000</td>\n",
       "      <td>2021-12-27</td>\n",
       "      <td>2022-02-10 15:28:01.606582</td>\n",
       "    </tr>\n",
       "  </tbody>\n",
       "</table>\n",
       "</div>"
      ],
      "text/plain": [
       "  user_name             video_id  \\\n",
       "0   jongraz  7050491114775842095   \n",
       "1   jongraz  7048998918729764102   \n",
       "2   jongraz  7048271702387739910   \n",
       "3   jongraz  7047890544210496773   \n",
       "4   jongraz  7046779675493895430   \n",
       "\n",
       "                                          video_desc  video_time  \\\n",
       "0                       we must HEED THE BONES!! 🔮🦴🔮  1641570386   \n",
       "1  noodle is…is he all of us today? I think he ma...  1641222956   \n",
       "2  🚨🚨🚨 we needed THIS!! 🔮🦴🎉 #noodletok #newyearsa...  1641053638   \n",
       "3                   your ✨FINAL READING✨ of 2021 🔮🦴🔮  1640964892   \n",
       "4  plan or adjust your day accordingly 🔮🦴🔮 #noodl...  1640706249   \n",
       "\n",
       "   video_duration  n_shares  n_comments  n_plays  \\\n",
       "0              45      4122        1678   417600   \n",
       "1              46      5531        1910   621200   \n",
       "2              55     11700        2559   791800   \n",
       "3              59      7085        2550   557900   \n",
       "4              55      3696        1299   528900   \n",
       "\n",
       "                                          video_link  \\\n",
       "0  https://www.tiktok.com/@jongraz/video/70504911...   \n",
       "1  https://www.tiktok.com/@jongraz/video/70489989...   \n",
       "2  https://www.tiktok.com/@jongraz/video/70482717...   \n",
       "3  https://www.tiktok.com/@jongraz/video/70478905...   \n",
       "4  https://www.tiktok.com/@jongraz/video/70467796...   \n",
       "\n",
       "                    timestamp        date  month   weekday      time  \\\n",
       "0  2022-01-07 15:46:26.000000  2022-01-07      1    Friday  15:46:26   \n",
       "1  2022-01-03 15:15:56.000000  2022-01-03      1    Monday  15:15:56   \n",
       "2  2022-01-01 16:13:58.000000  2022-01-01      1  Saturday  16:13:58   \n",
       "3  2021-12-31 15:34:52.000000  2021-12-31     12    Friday  15:34:52   \n",
       "4  2021-12-28 15:44:09.000000  2021-12-28     12   Tuesday  15:44:09   \n",
       "\n",
       "          weekstart_timestamp   weekstart                updated_date  \n",
       "0  2022-01-03 15:46:26.000000  2022-01-03  2022-02-10 15:28:01.606582  \n",
       "1  2022-01-03 15:15:56.000000  2022-01-03  2022-02-10 15:28:01.606582  \n",
       "2  2021-12-27 16:13:58.000000  2021-12-27  2022-02-10 15:28:01.606582  \n",
       "3  2021-12-27 15:34:52.000000  2021-12-27  2022-02-10 15:28:01.606582  \n",
       "4  2021-12-27 15:44:09.000000  2021-12-27  2022-02-10 15:28:01.606582  "
      ]
     },
     "execution_count": 18,
     "metadata": {},
     "output_type": "execute_result"
    }
   ],
   "source": [
    "stats.head()"
   ]
  },
  {
   "cell_type": "code",
   "execution_count": 19,
   "id": "80e2a63f-d937-4f85-8b62-7abbe4d60ddf",
   "metadata": {},
   "outputs": [
    {
     "data": {
      "text/html": [
       "<div>\n",
       "<style scoped>\n",
       "    .dataframe tbody tr th:only-of-type {\n",
       "        vertical-align: middle;\n",
       "    }\n",
       "\n",
       "    .dataframe tbody tr th {\n",
       "        vertical-align: top;\n",
       "    }\n",
       "\n",
       "    .dataframe thead th {\n",
       "        text-align: right;\n",
       "    }\n",
       "</style>\n",
       "<table border=\"1\" class=\"dataframe\">\n",
       "  <thead>\n",
       "    <tr style=\"text-align: right;\">\n",
       "      <th></th>\n",
       "      <th>user_name</th>\n",
       "      <th>video_id</th>\n",
       "      <th>video_desc</th>\n",
       "      <th>video_time</th>\n",
       "      <th>video_duration</th>\n",
       "      <th>n_shares</th>\n",
       "      <th>n_comments</th>\n",
       "      <th>n_plays</th>\n",
       "      <th>video_link</th>\n",
       "      <th>timestamp</th>\n",
       "      <th>date</th>\n",
       "      <th>month</th>\n",
       "      <th>weekday</th>\n",
       "      <th>time</th>\n",
       "      <th>weekstart_timestamp</th>\n",
       "      <th>weekstart</th>\n",
       "      <th>updated_date</th>\n",
       "    </tr>\n",
       "  </thead>\n",
       "  <tbody>\n",
       "    <tr>\n",
       "      <th>62</th>\n",
       "      <td>jongraz</td>\n",
       "      <td>7007786296059940101</td>\n",
       "      <td>no one saw it coming!! #pug #dog #noodletok #b...</td>\n",
       "      <td>1631627395</td>\n",
       "      <td>33</td>\n",
       "      <td>7701</td>\n",
       "      <td>929</td>\n",
       "      <td>972600</td>\n",
       "      <td>https://www.tiktok.com/@jongraz/video/70077862...</td>\n",
       "      <td>2021-09-14 13:49:55.000000</td>\n",
       "      <td>2021-09-14</td>\n",
       "      <td>9</td>\n",
       "      <td>Tuesday</td>\n",
       "      <td>13:49:55</td>\n",
       "      <td>2021-09-13 13:49:55.000000</td>\n",
       "      <td>2021-09-13</td>\n",
       "      <td>2022-02-10 15:28:01.606582</td>\n",
       "    </tr>\n",
       "    <tr>\n",
       "      <th>63</th>\n",
       "      <td>jongraz</td>\n",
       "      <td>7004453353946189062</td>\n",
       "      <td>one day we’re gonna have a full skeleton I swe...</td>\n",
       "      <td>1630851384</td>\n",
       "      <td>35</td>\n",
       "      <td>1935</td>\n",
       "      <td>289</td>\n",
       "      <td>477300</td>\n",
       "      <td>https://www.tiktok.com/@jongraz/video/70044533...</td>\n",
       "      <td>2021-09-05 14:16:24.000000</td>\n",
       "      <td>2021-09-05</td>\n",
       "      <td>9</td>\n",
       "      <td>Sunday</td>\n",
       "      <td>14:16:24</td>\n",
       "      <td>2021-08-30 14:16:24.000000</td>\n",
       "      <td>2021-08-30</td>\n",
       "      <td>2022-02-10 15:28:01.606582</td>\n",
       "    </tr>\n",
       "    <tr>\n",
       "      <th>64</th>\n",
       "      <td>jongraz</td>\n",
       "      <td>6998871742793993478</td>\n",
       "      <td>they’re nowhere to be found! #pug #seniordog #...</td>\n",
       "      <td>1629551814</td>\n",
       "      <td>25</td>\n",
       "      <td>7958</td>\n",
       "      <td>535</td>\n",
       "      <td>900000</td>\n",
       "      <td>https://www.tiktok.com/@jongraz/video/69988717...</td>\n",
       "      <td>2021-08-21 13:16:54.000000</td>\n",
       "      <td>2021-08-21</td>\n",
       "      <td>8</td>\n",
       "      <td>Saturday</td>\n",
       "      <td>13:16:54</td>\n",
       "      <td>2021-08-16 13:16:54.000000</td>\n",
       "      <td>2021-08-16</td>\n",
       "      <td>2022-02-10 15:28:01.606582</td>\n",
       "    </tr>\n",
       "    <tr>\n",
       "      <th>65</th>\n",
       "      <td>jongraz</td>\n",
       "      <td>6995925135182056709</td>\n",
       "      <td>he had them just last night!! #pug #seniordog ...</td>\n",
       "      <td>1628865753</td>\n",
       "      <td>22</td>\n",
       "      <td>34600</td>\n",
       "      <td>1445</td>\n",
       "      <td>2300000</td>\n",
       "      <td>https://www.tiktok.com/@jongraz/video/69959251...</td>\n",
       "      <td>2021-08-13 14:42:33.000000</td>\n",
       "      <td>2021-08-13</td>\n",
       "      <td>8</td>\n",
       "      <td>Friday</td>\n",
       "      <td>14:42:33</td>\n",
       "      <td>2021-08-09 14:42:33.000000</td>\n",
       "      <td>2021-08-09</td>\n",
       "      <td>2022-02-10 15:28:01.606582</td>\n",
       "    </tr>\n",
       "    <tr>\n",
       "      <th>66</th>\n",
       "      <td>jongraz</td>\n",
       "      <td>6938547829673626885</td>\n",
       "      <td>Do your dogs do this too?? #pug #dog #humor #d...</td>\n",
       "      <td>1615506561</td>\n",
       "      <td>41</td>\n",
       "      <td>12900</td>\n",
       "      <td>1767</td>\n",
       "      <td>763700</td>\n",
       "      <td>https://www.tiktok.com/@jongraz/video/69385478...</td>\n",
       "      <td>2021-03-11 23:49:21.000000</td>\n",
       "      <td>2021-03-11</td>\n",
       "      <td>3</td>\n",
       "      <td>Thursday</td>\n",
       "      <td>23:49:21</td>\n",
       "      <td>2021-03-08 23:49:21.000000</td>\n",
       "      <td>2021-03-08</td>\n",
       "      <td>2022-02-10 15:28:01.606582</td>\n",
       "    </tr>\n",
       "  </tbody>\n",
       "</table>\n",
       "</div>"
      ],
      "text/plain": [
       "   user_name             video_id  \\\n",
       "62   jongraz  7007786296059940101   \n",
       "63   jongraz  7004453353946189062   \n",
       "64   jongraz  6998871742793993478   \n",
       "65   jongraz  6995925135182056709   \n",
       "66   jongraz  6938547829673626885   \n",
       "\n",
       "                                           video_desc  video_time  \\\n",
       "62  no one saw it coming!! #pug #dog #noodletok #b...  1631627395   \n",
       "63  one day we’re gonna have a full skeleton I swe...  1630851384   \n",
       "64  they’re nowhere to be found! #pug #seniordog #...  1629551814   \n",
       "65  he had them just last night!! #pug #seniordog ...  1628865753   \n",
       "66  Do your dogs do this too?? #pug #dog #humor #d...  1615506561   \n",
       "\n",
       "    video_duration  n_shares  n_comments  n_plays  \\\n",
       "62              33      7701         929   972600   \n",
       "63              35      1935         289   477300   \n",
       "64              25      7958         535   900000   \n",
       "65              22     34600        1445  2300000   \n",
       "66              41     12900        1767   763700   \n",
       "\n",
       "                                           video_link  \\\n",
       "62  https://www.tiktok.com/@jongraz/video/70077862...   \n",
       "63  https://www.tiktok.com/@jongraz/video/70044533...   \n",
       "64  https://www.tiktok.com/@jongraz/video/69988717...   \n",
       "65  https://www.tiktok.com/@jongraz/video/69959251...   \n",
       "66  https://www.tiktok.com/@jongraz/video/69385478...   \n",
       "\n",
       "                     timestamp        date  month   weekday      time  \\\n",
       "62  2021-09-14 13:49:55.000000  2021-09-14      9   Tuesday  13:49:55   \n",
       "63  2021-09-05 14:16:24.000000  2021-09-05      9    Sunday  14:16:24   \n",
       "64  2021-08-21 13:16:54.000000  2021-08-21      8  Saturday  13:16:54   \n",
       "65  2021-08-13 14:42:33.000000  2021-08-13      8    Friday  14:42:33   \n",
       "66  2021-03-11 23:49:21.000000  2021-03-11      3  Thursday  23:49:21   \n",
       "\n",
       "           weekstart_timestamp   weekstart                updated_date  \n",
       "62  2021-09-13 13:49:55.000000  2021-09-13  2022-02-10 15:28:01.606582  \n",
       "63  2021-08-30 14:16:24.000000  2021-08-30  2022-02-10 15:28:01.606582  \n",
       "64  2021-08-16 13:16:54.000000  2021-08-16  2022-02-10 15:28:01.606582  \n",
       "65  2021-08-09 14:42:33.000000  2021-08-09  2022-02-10 15:28:01.606582  \n",
       "66  2021-03-08 23:49:21.000000  2021-03-08  2022-02-10 15:28:01.606582  "
      ]
     },
     "execution_count": 19,
     "metadata": {},
     "output_type": "execute_result"
    }
   ],
   "source": [
    "stats.tail()"
   ]
  },
  {
   "cell_type": "markdown",
   "id": "f1a231fd-ed3b-4eb4-8761-547c0747da17",
   "metadata": {},
   "source": [
    "#### 1. Merge with Noodle videos — two solutions"
   ]
  },
  {
   "cell_type": "code",
   "execution_count": 34,
   "id": "5a80f9c2-b121-4b03-86f3-af7af84e0cb9",
   "metadata": {},
   "outputs": [],
   "source": [
    "stats['video_id'] = stats['video_id'].astype(str)\n",
    "merge_df1 = pd.merge(videos, stats, left_on='id', right_on='video_id')"
   ]
  },
  {
   "cell_type": "code",
   "execution_count": 35,
   "id": "6575f729-a9c3-4b7a-8998-842ccc6e9146",
   "metadata": {},
   "outputs": [
    {
     "data": {
      "text/html": [
       "<div>\n",
       "<style scoped>\n",
       "    .dataframe tbody tr th:only-of-type {\n",
       "        vertical-align: middle;\n",
       "    }\n",
       "\n",
       "    .dataframe tbody tr th {\n",
       "        vertical-align: top;\n",
       "    }\n",
       "\n",
       "    .dataframe thead th {\n",
       "        text-align: right;\n",
       "    }\n",
       "</style>\n",
       "<table border=\"1\" class=\"dataframe\">\n",
       "  <thead>\n",
       "    <tr style=\"text-align: right;\">\n",
       "      <th></th>\n",
       "      <th>date_x</th>\n",
       "      <th>bones_nobones</th>\n",
       "      <th>url</th>\n",
       "      <th>id</th>\n",
       "      <th>clean_date</th>\n",
       "      <th>year</th>\n",
       "      <th>month_x</th>\n",
       "      <th>weekday_x</th>\n",
       "      <th>Bones_percentage</th>\n",
       "      <th>bones_percent</th>\n",
       "      <th>...</th>\n",
       "      <th>n_plays</th>\n",
       "      <th>video_link</th>\n",
       "      <th>timestamp</th>\n",
       "      <th>date_y</th>\n",
       "      <th>month_y</th>\n",
       "      <th>weekday_y</th>\n",
       "      <th>time</th>\n",
       "      <th>weekstart_timestamp</th>\n",
       "      <th>weekstart</th>\n",
       "      <th>updated_date</th>\n",
       "    </tr>\n",
       "  </thead>\n",
       "  <tbody>\n",
       "    <tr>\n",
       "      <th>0</th>\n",
       "      <td>1/7/2022</td>\n",
       "      <td>Bones!</td>\n",
       "      <td>https://www.tiktok.com/@jongraz/video/70504911...</td>\n",
       "      <td>7050491114775842095</td>\n",
       "      <td>2022-01-07</td>\n",
       "      <td>2022</td>\n",
       "      <td>January</td>\n",
       "      <td>Friday</td>\n",
       "      <td>NaN</td>\n",
       "      <td>NaN</td>\n",
       "      <td>...</td>\n",
       "      <td>417600</td>\n",
       "      <td>https://www.tiktok.com/@jongraz/video/70504911...</td>\n",
       "      <td>2022-01-07 15:46:26.000000</td>\n",
       "      <td>2022-01-07</td>\n",
       "      <td>1</td>\n",
       "      <td>Friday</td>\n",
       "      <td>15:46:26</td>\n",
       "      <td>2022-01-03 15:46:26.000000</td>\n",
       "      <td>2022-01-03</td>\n",
       "      <td>2022-02-10 15:28:01.606582</td>\n",
       "    </tr>\n",
       "    <tr>\n",
       "      <th>1</th>\n",
       "      <td>1/3/2022</td>\n",
       "      <td>No bones</td>\n",
       "      <td>https://www.tiktok.com/@jongraz/video/70489989...</td>\n",
       "      <td>7048998918729764102</td>\n",
       "      <td>2022-01-03</td>\n",
       "      <td>2022</td>\n",
       "      <td>January</td>\n",
       "      <td>Monday</td>\n",
       "      <td>NaN</td>\n",
       "      <td>NaN</td>\n",
       "      <td>...</td>\n",
       "      <td>621200</td>\n",
       "      <td>https://www.tiktok.com/@jongraz/video/70489989...</td>\n",
       "      <td>2022-01-03 15:15:56.000000</td>\n",
       "      <td>2022-01-03</td>\n",
       "      <td>1</td>\n",
       "      <td>Monday</td>\n",
       "      <td>15:15:56</td>\n",
       "      <td>2022-01-03 15:15:56.000000</td>\n",
       "      <td>2022-01-03</td>\n",
       "      <td>2022-02-10 15:28:01.606582</td>\n",
       "    </tr>\n",
       "    <tr>\n",
       "      <th>2</th>\n",
       "      <td>1/1/2022</td>\n",
       "      <td>Bones!</td>\n",
       "      <td>https://www.tiktok.com/@jongraz/video/70482717...</td>\n",
       "      <td>7048271702387739910</td>\n",
       "      <td>2022-01-01</td>\n",
       "      <td>2022</td>\n",
       "      <td>January</td>\n",
       "      <td>Saturday</td>\n",
       "      <td>NaN</td>\n",
       "      <td>NaN</td>\n",
       "      <td>...</td>\n",
       "      <td>791800</td>\n",
       "      <td>https://www.tiktok.com/@jongraz/video/70482717...</td>\n",
       "      <td>2022-01-01 16:13:58.000000</td>\n",
       "      <td>2022-01-01</td>\n",
       "      <td>1</td>\n",
       "      <td>Saturday</td>\n",
       "      <td>16:13:58</td>\n",
       "      <td>2021-12-27 16:13:58.000000</td>\n",
       "      <td>2021-12-27</td>\n",
       "      <td>2022-02-10 15:28:01.606582</td>\n",
       "    </tr>\n",
       "    <tr>\n",
       "      <th>3</th>\n",
       "      <td>12/31/2021</td>\n",
       "      <td>No bones</td>\n",
       "      <td>https://www.tiktok.com/@jongraz/video/70478905...</td>\n",
       "      <td>7047890544210496773</td>\n",
       "      <td>2021-12-31</td>\n",
       "      <td>2021</td>\n",
       "      <td>December</td>\n",
       "      <td>Friday</td>\n",
       "      <td>NaN</td>\n",
       "      <td>NaN</td>\n",
       "      <td>...</td>\n",
       "      <td>557900</td>\n",
       "      <td>https://www.tiktok.com/@jongraz/video/70478905...</td>\n",
       "      <td>2021-12-31 15:34:52.000000</td>\n",
       "      <td>2021-12-31</td>\n",
       "      <td>12</td>\n",
       "      <td>Friday</td>\n",
       "      <td>15:34:52</td>\n",
       "      <td>2021-12-27 15:34:52.000000</td>\n",
       "      <td>2021-12-27</td>\n",
       "      <td>2022-02-10 15:28:01.606582</td>\n",
       "    </tr>\n",
       "    <tr>\n",
       "      <th>4</th>\n",
       "      <td>12/28/2021</td>\n",
       "      <td>No bones</td>\n",
       "      <td>https://www.tiktok.com/@jongraz/video/70467796...</td>\n",
       "      <td>7046779675493895430</td>\n",
       "      <td>2021-12-28</td>\n",
       "      <td>2021</td>\n",
       "      <td>December</td>\n",
       "      <td>Tuesday</td>\n",
       "      <td>NaN</td>\n",
       "      <td>NaN</td>\n",
       "      <td>...</td>\n",
       "      <td>528900</td>\n",
       "      <td>https://www.tiktok.com/@jongraz/video/70467796...</td>\n",
       "      <td>2021-12-28 15:44:09.000000</td>\n",
       "      <td>2021-12-28</td>\n",
       "      <td>12</td>\n",
       "      <td>Tuesday</td>\n",
       "      <td>15:44:09</td>\n",
       "      <td>2021-12-27 15:44:09.000000</td>\n",
       "      <td>2021-12-27</td>\n",
       "      <td>2022-02-10 15:28:01.606582</td>\n",
       "    </tr>\n",
       "  </tbody>\n",
       "</table>\n",
       "<p>5 rows × 27 columns</p>\n",
       "</div>"
      ],
      "text/plain": [
       "       date_x bones_nobones  \\\n",
       "0    1/7/2022        Bones!   \n",
       "1    1/3/2022      No bones   \n",
       "2    1/1/2022        Bones!   \n",
       "3  12/31/2021      No bones   \n",
       "4  12/28/2021      No bones   \n",
       "\n",
       "                                                 url                   id  \\\n",
       "0  https://www.tiktok.com/@jongraz/video/70504911...  7050491114775842095   \n",
       "1  https://www.tiktok.com/@jongraz/video/70489989...  7048998918729764102   \n",
       "2  https://www.tiktok.com/@jongraz/video/70482717...  7048271702387739910   \n",
       "3  https://www.tiktok.com/@jongraz/video/70478905...  7047890544210496773   \n",
       "4  https://www.tiktok.com/@jongraz/video/70467796...  7046779675493895430   \n",
       "\n",
       "  clean_date  year   month_x weekday_x  Bones_percentage  bones_percent  ...  \\\n",
       "0 2022-01-07  2022   January    Friday               NaN            NaN  ...   \n",
       "1 2022-01-03  2022   January    Monday               NaN            NaN  ...   \n",
       "2 2022-01-01  2022   January  Saturday               NaN            NaN  ...   \n",
       "3 2021-12-31  2021  December    Friday               NaN            NaN  ...   \n",
       "4 2021-12-28  2021  December   Tuesday               NaN            NaN  ...   \n",
       "\n",
       "  n_plays                                         video_link  \\\n",
       "0  417600  https://www.tiktok.com/@jongraz/video/70504911...   \n",
       "1  621200  https://www.tiktok.com/@jongraz/video/70489989...   \n",
       "2  791800  https://www.tiktok.com/@jongraz/video/70482717...   \n",
       "3  557900  https://www.tiktok.com/@jongraz/video/70478905...   \n",
       "4  528900  https://www.tiktok.com/@jongraz/video/70467796...   \n",
       "\n",
       "                    timestamp      date_y  month_y  weekday_y      time  \\\n",
       "0  2022-01-07 15:46:26.000000  2022-01-07        1     Friday  15:46:26   \n",
       "1  2022-01-03 15:15:56.000000  2022-01-03        1     Monday  15:15:56   \n",
       "2  2022-01-01 16:13:58.000000  2022-01-01        1   Saturday  16:13:58   \n",
       "3  2021-12-31 15:34:52.000000  2021-12-31       12     Friday  15:34:52   \n",
       "4  2021-12-28 15:44:09.000000  2021-12-28       12    Tuesday  15:44:09   \n",
       "\n",
       "          weekstart_timestamp   weekstart                updated_date  \n",
       "0  2022-01-03 15:46:26.000000  2022-01-03  2022-02-10 15:28:01.606582  \n",
       "1  2022-01-03 15:15:56.000000  2022-01-03  2022-02-10 15:28:01.606582  \n",
       "2  2021-12-27 16:13:58.000000  2021-12-27  2022-02-10 15:28:01.606582  \n",
       "3  2021-12-27 15:34:52.000000  2021-12-27  2022-02-10 15:28:01.606582  \n",
       "4  2021-12-27 15:44:09.000000  2021-12-27  2022-02-10 15:28:01.606582  \n",
       "\n",
       "[5 rows x 27 columns]"
      ]
     },
     "execution_count": 35,
     "metadata": {},
     "output_type": "execute_result"
    }
   ],
   "source": [
    "merge_df1.head()"
   ]
  },
  {
   "cell_type": "markdown",
   "id": "f2ee6877-997e-45ec-9507-6322636a2dc5",
   "metadata": {},
   "source": [
    "#### 2. Filter from a list"
   ]
  },
  {
   "cell_type": "code",
   "execution_count": null,
   "id": "61f0690c-b852-4f96-a81d-c91ee03703cf",
   "metadata": {},
   "outputs": [],
   "source": []
  },
  {
   "cell_type": "code",
   "execution_count": null,
   "id": "d1b5b6ba-10c4-4d29-bdfc-985db7f3ece6",
   "metadata": {},
   "outputs": [],
   "source": []
  },
  {
   "cell_type": "code",
   "execution_count": null,
   "id": "e06f0f7a-2f33-4ee3-a7c7-64d534f81e00",
   "metadata": {},
   "outputs": [],
   "source": []
  },
  {
   "cell_type": "markdown",
   "id": "3cf978c1-9888-4536-8385-1997e3da954b",
   "metadata": {},
   "source": [
    "#### Which video got the most views? Two strategies"
   ]
  },
  {
   "cell_type": "code",
   "execution_count": null,
   "id": "e1bd5800-e182-4527-ab50-f2581668fe41",
   "metadata": {},
   "outputs": [],
   "source": []
  },
  {
   "cell_type": "code",
   "execution_count": null,
   "id": "b4b90c9b-32cc-4404-aa62-b5096164c195",
   "metadata": {},
   "outputs": [],
   "source": []
  }
 ],
 "metadata": {
  "kernelspec": {
   "display_name": "Python 3 (ipykernel)",
   "language": "python",
   "name": "python3"
  },
  "language_info": {
   "codemirror_mode": {
    "name": "ipython",
    "version": 3
   },
   "file_extension": ".py",
   "mimetype": "text/x-python",
   "name": "python",
   "nbconvert_exporter": "python",
   "pygments_lexer": "ipython3",
   "version": "3.9.7"
  }
 },
 "nbformat": 4,
 "nbformat_minor": 5
}
