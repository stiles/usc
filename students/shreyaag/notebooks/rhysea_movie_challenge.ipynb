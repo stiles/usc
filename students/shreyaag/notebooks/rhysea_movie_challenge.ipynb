{
 "cells": [
  {
   "cell_type": "markdown",
   "id": "b7d85d1e-898b-4e69-931a-d26df4d856a4",
   "metadata": {},
   "source": [
    "# IMDB movie ratings"
   ]
  },
  {
   "cell_type": "markdown",
   "id": "7630749f-b12f-4dd7-8037-0245b81dfcec",
   "metadata": {},
   "source": [
    "#### Import python tools"
   ]
  },
  {
   "cell_type": "code",
   "execution_count": null,
   "id": "c33dce56-aed0-4aa9-b430-0b7a42408895",
   "metadata": {},
   "outputs": [],
   "source": [
    "%load_ext lab_black"
   ]
  },
  {
   "cell_type": "code",
   "execution_count": 3,
   "id": "df79ce59-7408-4067-95ca-593236256d5b",
   "metadata": {},
   "outputs": [],
   "source": [
    "import pandas as pd"
   ]
  },
  {
   "cell_type": "markdown",
   "id": "515684cf-e6dd-4639-9c9a-42318fa70aa5",
   "metadata": {},
   "source": [
    "## Read our data"
   ]
  },
  {
   "cell_type": "code",
   "execution_count": 4,
   "id": "2fc71f8b-e2df-4aa3-81e7-164bafb760a4",
   "metadata": {},
   "outputs": [],
   "source": [
    "url = \"https://raw.githubusercontent.com/stiles/usc/main/data/raw/imdb_1000.csv\""
   ]
  },
  {
   "cell_type": "markdown",
   "id": "c5eb1a55-2652-4ff8-b601-de8465bce9da",
   "metadata": {},
   "source": [
    "#### Create a movies dataframe, and sort it by title"
   ]
  },
  {
   "cell_type": "code",
   "execution_count": 5,
   "id": "bb89dd99-c57f-4d9a-94be-2d09e5923466",
   "metadata": {},
   "outputs": [],
   "source": [
    "movie_df = pd.read_csv(\n",
    "    \"https://raw.githubusercontent.com/stiles/usc/main/data/raw/imdb_1000.csv\"\n",
    ")"
   ]
  },
  {
   "cell_type": "markdown",
   "id": "48712998-dc9d-422f-a3e4-abc16fd54f88",
   "metadata": {
    "tags": []
   },
   "source": [
    "#### First five rows?"
   ]
  },
  {
   "cell_type": "code",
   "execution_count": 6,
   "id": "03bb6eff-1b17-43d6-a0a1-ca6c765300b4",
   "metadata": {},
   "outputs": [
    {
     "data": {
      "text/html": [
       "<div>\n",
       "<style scoped>\n",
       "    .dataframe tbody tr th:only-of-type {\n",
       "        vertical-align: middle;\n",
       "    }\n",
       "\n",
       "    .dataframe tbody tr th {\n",
       "        vertical-align: top;\n",
       "    }\n",
       "\n",
       "    .dataframe thead th {\n",
       "        text-align: right;\n",
       "    }\n",
       "</style>\n",
       "<table border=\"1\" class=\"dataframe\">\n",
       "  <thead>\n",
       "    <tr style=\"text-align: right;\">\n",
       "      <th></th>\n",
       "      <th>star_rating</th>\n",
       "      <th>title</th>\n",
       "      <th>content_rating</th>\n",
       "      <th>genre</th>\n",
       "      <th>duration</th>\n",
       "      <th>actors_list</th>\n",
       "    </tr>\n",
       "  </thead>\n",
       "  <tbody>\n",
       "    <tr>\n",
       "      <th>0</th>\n",
       "      <td>9.3</td>\n",
       "      <td>The Shawshank Redemption</td>\n",
       "      <td>R</td>\n",
       "      <td>Crime</td>\n",
       "      <td>142</td>\n",
       "      <td>[u'Tim Robbins', u'Morgan Freeman', u'Bob Gunt...</td>\n",
       "    </tr>\n",
       "    <tr>\n",
       "      <th>1</th>\n",
       "      <td>9.2</td>\n",
       "      <td>The Godfather</td>\n",
       "      <td>R</td>\n",
       "      <td>Crime</td>\n",
       "      <td>175</td>\n",
       "      <td>[u'Marlon Brando', u'Al Pacino', u'James Caan']</td>\n",
       "    </tr>\n",
       "    <tr>\n",
       "      <th>2</th>\n",
       "      <td>9.1</td>\n",
       "      <td>The Godfather: Part II</td>\n",
       "      <td>R</td>\n",
       "      <td>Crime</td>\n",
       "      <td>200</td>\n",
       "      <td>[u'Al Pacino', u'Robert De Niro', u'Robert Duv...</td>\n",
       "    </tr>\n",
       "    <tr>\n",
       "      <th>3</th>\n",
       "      <td>9.0</td>\n",
       "      <td>The Dark Knight</td>\n",
       "      <td>PG-13</td>\n",
       "      <td>Action</td>\n",
       "      <td>152</td>\n",
       "      <td>[u'Christian Bale', u'Heath Ledger', u'Aaron E...</td>\n",
       "    </tr>\n",
       "    <tr>\n",
       "      <th>4</th>\n",
       "      <td>8.9</td>\n",
       "      <td>Pulp Fiction</td>\n",
       "      <td>R</td>\n",
       "      <td>Crime</td>\n",
       "      <td>154</td>\n",
       "      <td>[u'John Travolta', u'Uma Thurman', u'Samuel L....</td>\n",
       "    </tr>\n",
       "  </tbody>\n",
       "</table>\n",
       "</div>"
      ],
      "text/plain": [
       "   star_rating                     title content_rating   genre  duration  \\\n",
       "0          9.3  The Shawshank Redemption              R   Crime       142   \n",
       "1          9.2             The Godfather              R   Crime       175   \n",
       "2          9.1    The Godfather: Part II              R   Crime       200   \n",
       "3          9.0           The Dark Knight          PG-13  Action       152   \n",
       "4          8.9              Pulp Fiction              R   Crime       154   \n",
       "\n",
       "                                         actors_list  \n",
       "0  [u'Tim Robbins', u'Morgan Freeman', u'Bob Gunt...  \n",
       "1    [u'Marlon Brando', u'Al Pacino', u'James Caan']  \n",
       "2  [u'Al Pacino', u'Robert De Niro', u'Robert Duv...  \n",
       "3  [u'Christian Bale', u'Heath Ledger', u'Aaron E...  \n",
       "4  [u'John Travolta', u'Uma Thurman', u'Samuel L....  "
      ]
     },
     "execution_count": 6,
     "metadata": {},
     "output_type": "execute_result"
    }
   ],
   "source": [
    "movie_df.head()"
   ]
  },
  {
   "cell_type": "markdown",
   "id": "172c5c63-6eda-484a-81da-3b3dfe6589f0",
   "metadata": {},
   "source": [
    "#### Use the `describe()` method to see the distribution"
   ]
  },
  {
   "cell_type": "code",
   "execution_count": 7,
   "id": "90021c19-fed4-4619-84b4-c15bcb71cd6c",
   "metadata": {},
   "outputs": [
    {
     "data": {
      "text/html": [
       "<div>\n",
       "<style scoped>\n",
       "    .dataframe tbody tr th:only-of-type {\n",
       "        vertical-align: middle;\n",
       "    }\n",
       "\n",
       "    .dataframe tbody tr th {\n",
       "        vertical-align: top;\n",
       "    }\n",
       "\n",
       "    .dataframe thead th {\n",
       "        text-align: right;\n",
       "    }\n",
       "</style>\n",
       "<table border=\"1\" class=\"dataframe\">\n",
       "  <thead>\n",
       "    <tr style=\"text-align: right;\">\n",
       "      <th></th>\n",
       "      <th>star_rating</th>\n",
       "      <th>duration</th>\n",
       "    </tr>\n",
       "  </thead>\n",
       "  <tbody>\n",
       "    <tr>\n",
       "      <th>count</th>\n",
       "      <td>979.000000</td>\n",
       "      <td>979.000000</td>\n",
       "    </tr>\n",
       "    <tr>\n",
       "      <th>mean</th>\n",
       "      <td>7.889785</td>\n",
       "      <td>120.979571</td>\n",
       "    </tr>\n",
       "    <tr>\n",
       "      <th>std</th>\n",
       "      <td>0.336069</td>\n",
       "      <td>26.218010</td>\n",
       "    </tr>\n",
       "    <tr>\n",
       "      <th>min</th>\n",
       "      <td>7.400000</td>\n",
       "      <td>64.000000</td>\n",
       "    </tr>\n",
       "    <tr>\n",
       "      <th>25%</th>\n",
       "      <td>7.600000</td>\n",
       "      <td>102.000000</td>\n",
       "    </tr>\n",
       "    <tr>\n",
       "      <th>50%</th>\n",
       "      <td>7.800000</td>\n",
       "      <td>117.000000</td>\n",
       "    </tr>\n",
       "    <tr>\n",
       "      <th>75%</th>\n",
       "      <td>8.100000</td>\n",
       "      <td>134.000000</td>\n",
       "    </tr>\n",
       "    <tr>\n",
       "      <th>max</th>\n",
       "      <td>9.300000</td>\n",
       "      <td>242.000000</td>\n",
       "    </tr>\n",
       "  </tbody>\n",
       "</table>\n",
       "</div>"
      ],
      "text/plain": [
       "       star_rating    duration\n",
       "count   979.000000  979.000000\n",
       "mean      7.889785  120.979571\n",
       "std       0.336069   26.218010\n",
       "min       7.400000   64.000000\n",
       "25%       7.600000  102.000000\n",
       "50%       7.800000  117.000000\n",
       "75%       8.100000  134.000000\n",
       "max       9.300000  242.000000"
      ]
     },
     "execution_count": 7,
     "metadata": {},
     "output_type": "execute_result"
    }
   ],
   "source": [
    "movie_df.describe()"
   ]
  },
  {
   "cell_type": "code",
   "execution_count": 8,
   "id": "4ca57991-efb1-4efa-84ea-45d8394fa917",
   "metadata": {},
   "outputs": [
    {
     "name": "stdout",
     "output_type": "stream",
     "text": [
      "<class 'pandas.core.frame.DataFrame'>\n",
      "RangeIndex: 979 entries, 0 to 978\n",
      "Data columns (total 6 columns):\n",
      " #   Column          Non-Null Count  Dtype  \n",
      "---  ------          --------------  -----  \n",
      " 0   star_rating     979 non-null    float64\n",
      " 1   title           979 non-null    object \n",
      " 2   content_rating  976 non-null    object \n",
      " 3   genre           979 non-null    object \n",
      " 4   duration        979 non-null    int64  \n",
      " 5   actors_list     979 non-null    object \n",
      "dtypes: float64(1), int64(1), object(4)\n",
      "memory usage: 46.0+ KB\n"
     ]
    }
   ],
   "source": [
    "movie_df.info()"
   ]
  },
  {
   "cell_type": "markdown",
   "id": "04c093c0-6b31-4bd8-9dd8-9e9cea80e004",
   "metadata": {},
   "source": [
    "---"
   ]
  },
  {
   "cell_type": "markdown",
   "id": "d9675971-e6e9-49a7-a237-028d043f33b9",
   "metadata": {},
   "source": [
    "## Categorization exercise"
   ]
  },
  {
   "cell_type": "markdown",
   "id": "b84119c2-fe4d-4914-8f95-4650e7c8acb9",
   "metadata": {},
   "source": [
    "#### What do you consider a 'long' movie? "
   ]
  },
  {
   "cell_type": "code",
   "execution_count": 9,
   "id": "7cefa30d-befc-46a8-9a0b-e8f6ec35489f",
   "metadata": {},
   "outputs": [
    {
     "data": {
      "text/html": [
       "<div>\n",
       "<style scoped>\n",
       "    .dataframe tbody tr th:only-of-type {\n",
       "        vertical-align: middle;\n",
       "    }\n",
       "\n",
       "    .dataframe tbody tr th {\n",
       "        vertical-align: top;\n",
       "    }\n",
       "\n",
       "    .dataframe thead th {\n",
       "        text-align: right;\n",
       "    }\n",
       "</style>\n",
       "<table border=\"1\" class=\"dataframe\">\n",
       "  <thead>\n",
       "    <tr style=\"text-align: right;\">\n",
       "      <th></th>\n",
       "      <th>star_rating</th>\n",
       "      <th>title</th>\n",
       "      <th>content_rating</th>\n",
       "      <th>genre</th>\n",
       "      <th>duration</th>\n",
       "      <th>actors_list</th>\n",
       "    </tr>\n",
       "  </thead>\n",
       "  <tbody>\n",
       "    <tr>\n",
       "      <th>0</th>\n",
       "      <td>9.3</td>\n",
       "      <td>The Shawshank Redemption</td>\n",
       "      <td>R</td>\n",
       "      <td>Crime</td>\n",
       "      <td>142</td>\n",
       "      <td>[u'Tim Robbins', u'Morgan Freeman', u'Bob Gunt...</td>\n",
       "    </tr>\n",
       "    <tr>\n",
       "      <th>1</th>\n",
       "      <td>9.2</td>\n",
       "      <td>The Godfather</td>\n",
       "      <td>R</td>\n",
       "      <td>Crime</td>\n",
       "      <td>175</td>\n",
       "      <td>[u'Marlon Brando', u'Al Pacino', u'James Caan']</td>\n",
       "    </tr>\n",
       "    <tr>\n",
       "      <th>2</th>\n",
       "      <td>9.1</td>\n",
       "      <td>The Godfather: Part II</td>\n",
       "      <td>R</td>\n",
       "      <td>Crime</td>\n",
       "      <td>200</td>\n",
       "      <td>[u'Al Pacino', u'Robert De Niro', u'Robert Duv...</td>\n",
       "    </tr>\n",
       "    <tr>\n",
       "      <th>3</th>\n",
       "      <td>9.0</td>\n",
       "      <td>The Dark Knight</td>\n",
       "      <td>PG-13</td>\n",
       "      <td>Action</td>\n",
       "      <td>152</td>\n",
       "      <td>[u'Christian Bale', u'Heath Ledger', u'Aaron E...</td>\n",
       "    </tr>\n",
       "    <tr>\n",
       "      <th>4</th>\n",
       "      <td>8.9</td>\n",
       "      <td>Pulp Fiction</td>\n",
       "      <td>R</td>\n",
       "      <td>Crime</td>\n",
       "      <td>154</td>\n",
       "      <td>[u'John Travolta', u'Uma Thurman', u'Samuel L....</td>\n",
       "    </tr>\n",
       "  </tbody>\n",
       "</table>\n",
       "</div>"
      ],
      "text/plain": [
       "   star_rating                     title content_rating   genre  duration  \\\n",
       "0          9.3  The Shawshank Redemption              R   Crime       142   \n",
       "1          9.2             The Godfather              R   Crime       175   \n",
       "2          9.1    The Godfather: Part II              R   Crime       200   \n",
       "3          9.0           The Dark Knight          PG-13  Action       152   \n",
       "4          8.9              Pulp Fiction              R   Crime       154   \n",
       "\n",
       "                                         actors_list  \n",
       "0  [u'Tim Robbins', u'Morgan Freeman', u'Bob Gunt...  \n",
       "1    [u'Marlon Brando', u'Al Pacino', u'James Caan']  \n",
       "2  [u'Al Pacino', u'Robert De Niro', u'Robert Duv...  \n",
       "3  [u'Christian Bale', u'Heath Ledger', u'Aaron E...  \n",
       "4  [u'John Travolta', u'Uma Thurman', u'Samuel L....  "
      ]
     },
     "execution_count": 9,
     "metadata": {},
     "output_type": "execute_result"
    }
   ],
   "source": [
    "# Any movie above two hours is long, given our shorter attention spans.\n",
    "movie_df[movie_df[\"duration\"] > 120].head()"
   ]
  },
  {
   "cell_type": "code",
   "execution_count": 10,
   "id": "31a05f1c-b16d-4eda-8b11-32a2e3f9ff9b",
   "metadata": {},
   "outputs": [
    {
     "data": {
      "text/html": [
       "<div>\n",
       "<style scoped>\n",
       "    .dataframe tbody tr th:only-of-type {\n",
       "        vertical-align: middle;\n",
       "    }\n",
       "\n",
       "    .dataframe tbody tr th {\n",
       "        vertical-align: top;\n",
       "    }\n",
       "\n",
       "    .dataframe thead th {\n",
       "        text-align: right;\n",
       "    }\n",
       "</style>\n",
       "<table border=\"1\" class=\"dataframe\">\n",
       "  <thead>\n",
       "    <tr style=\"text-align: right;\">\n",
       "      <th></th>\n",
       "      <th>star_rating</th>\n",
       "      <th>title</th>\n",
       "      <th>content_rating</th>\n",
       "      <th>genre</th>\n",
       "      <th>duration</th>\n",
       "      <th>actors_list</th>\n",
       "    </tr>\n",
       "  </thead>\n",
       "  <tbody>\n",
       "    <tr>\n",
       "      <th>2</th>\n",
       "      <td>9.1</td>\n",
       "      <td>The Godfather: Part II</td>\n",
       "      <td>R</td>\n",
       "      <td>Crime</td>\n",
       "      <td>200</td>\n",
       "      <td>[u'Al Pacino', u'Robert De Niro', u'Robert Duv...</td>\n",
       "    </tr>\n",
       "    <tr>\n",
       "      <th>7</th>\n",
       "      <td>8.9</td>\n",
       "      <td>The Lord of the Rings: The Return of the King</td>\n",
       "      <td>PG-13</td>\n",
       "      <td>Adventure</td>\n",
       "      <td>201</td>\n",
       "      <td>[u'Elijah Wood', u'Viggo Mortensen', u'Ian McK...</td>\n",
       "    </tr>\n",
       "    <tr>\n",
       "      <th>8</th>\n",
       "      <td>8.9</td>\n",
       "      <td>Schindler's List</td>\n",
       "      <td>R</td>\n",
       "      <td>Biography</td>\n",
       "      <td>195</td>\n",
       "      <td>[u'Liam Neeson', u'Ralph Fiennes', u'Ben Kings...</td>\n",
       "    </tr>\n",
       "    <tr>\n",
       "      <th>17</th>\n",
       "      <td>8.7</td>\n",
       "      <td>Seven Samurai</td>\n",
       "      <td>UNRATED</td>\n",
       "      <td>Drama</td>\n",
       "      <td>207</td>\n",
       "      <td>[u'Toshir\\xf4 Mifune', u'Takashi Shimura', u'K...</td>\n",
       "    </tr>\n",
       "    <tr>\n",
       "      <th>40</th>\n",
       "      <td>8.5</td>\n",
       "      <td>The Green Mile</td>\n",
       "      <td>R</td>\n",
       "      <td>Crime</td>\n",
       "      <td>189</td>\n",
       "      <td>[u'Tom Hanks', u'Michael Clarke Duncan', u'Dav...</td>\n",
       "    </tr>\n",
       "  </tbody>\n",
       "</table>\n",
       "</div>"
      ],
      "text/plain": [
       "    star_rating                                          title content_rating  \\\n",
       "2           9.1                         The Godfather: Part II              R   \n",
       "7           8.9  The Lord of the Rings: The Return of the King          PG-13   \n",
       "8           8.9                               Schindler's List              R   \n",
       "17          8.7                                  Seven Samurai        UNRATED   \n",
       "40          8.5                                 The Green Mile              R   \n",
       "\n",
       "        genre  duration                                        actors_list  \n",
       "2       Crime       200  [u'Al Pacino', u'Robert De Niro', u'Robert Duv...  \n",
       "7   Adventure       201  [u'Elijah Wood', u'Viggo Mortensen', u'Ian McK...  \n",
       "8   Biography       195  [u'Liam Neeson', u'Ralph Fiennes', u'Ben Kings...  \n",
       "17      Drama       207  [u'Toshir\\xf4 Mifune', u'Takashi Shimura', u'K...  \n",
       "40      Crime       189  [u'Tom Hanks', u'Michael Clarke Duncan', u'Dav...  "
      ]
     },
     "execution_count": 10,
     "metadata": {},
     "output_type": "execute_result"
    }
   ],
   "source": [
    "# But most people would consider 3 hour long movies as 'long'\n",
    "movie_df[movie_df[\"duration\"] > 180].head()"
   ]
  },
  {
   "cell_type": "code",
   "execution_count": 11,
   "id": "1840c2de-ffc0-4e59-880c-ac71f90ab995",
   "metadata": {},
   "outputs": [
    {
     "data": {
      "text/plain": [
       "147.19758083721905"
      ]
     },
     "execution_count": 11,
     "metadata": {},
     "output_type": "execute_result"
    }
   ],
   "source": [
    "# But this method is cooler\n",
    "movie_long = 175\n",
    "movie_long = movie_df[\"duration\"].mean() + movie_df[\"duration\"].std()\n",
    "movie_long"
   ]
  },
  {
   "cell_type": "markdown",
   "id": "ef1692cf-5a5f-43fc-9f1f-5e2896db1975",
   "metadata": {},
   "source": [
    "#### Boolean categorization function"
   ]
  },
  {
   "cell_type": "code",
   "execution_count": 12,
   "id": "82a59cdb-74cd-4fc1-93c1-f080dae18a11",
   "metadata": {},
   "outputs": [],
   "source": [
    "def categorize_long_movies(time):\n",
    "    if time >= movie_long:\n",
    "        return True\n",
    "    else:\n",
    "        return False"
   ]
  },
  {
   "cell_type": "markdown",
   "id": "fcd60d5c-9704-4b5c-a3bf-c6b09962919c",
   "metadata": {},
   "source": [
    "#### Apply that to our duration column as a new column"
   ]
  },
  {
   "cell_type": "code",
   "execution_count": 13,
   "id": "c25f9f42-0398-45f0-83ab-5525d4b7359a",
   "metadata": {},
   "outputs": [],
   "source": [
    "movie_df[\"is_long\"] = movie_df[\"duration\"].apply(categorize_long_movies)"
   ]
  },
  {
   "cell_type": "code",
   "execution_count": 14,
   "id": "2beca6d5-73ad-45a8-bbe1-4a21dcce9023",
   "metadata": {},
   "outputs": [
    {
     "data": {
      "text/html": [
       "<div>\n",
       "<style scoped>\n",
       "    .dataframe tbody tr th:only-of-type {\n",
       "        vertical-align: middle;\n",
       "    }\n",
       "\n",
       "    .dataframe tbody tr th {\n",
       "        vertical-align: top;\n",
       "    }\n",
       "\n",
       "    .dataframe thead th {\n",
       "        text-align: right;\n",
       "    }\n",
       "</style>\n",
       "<table border=\"1\" class=\"dataframe\">\n",
       "  <thead>\n",
       "    <tr style=\"text-align: right;\">\n",
       "      <th></th>\n",
       "      <th>star_rating</th>\n",
       "      <th>title</th>\n",
       "      <th>content_rating</th>\n",
       "      <th>genre</th>\n",
       "      <th>duration</th>\n",
       "      <th>actors_list</th>\n",
       "      <th>is_long</th>\n",
       "    </tr>\n",
       "  </thead>\n",
       "  <tbody>\n",
       "    <tr>\n",
       "      <th>0</th>\n",
       "      <td>9.3</td>\n",
       "      <td>The Shawshank Redemption</td>\n",
       "      <td>R</td>\n",
       "      <td>Crime</td>\n",
       "      <td>142</td>\n",
       "      <td>[u'Tim Robbins', u'Morgan Freeman', u'Bob Gunt...</td>\n",
       "      <td>False</td>\n",
       "    </tr>\n",
       "    <tr>\n",
       "      <th>1</th>\n",
       "      <td>9.2</td>\n",
       "      <td>The Godfather</td>\n",
       "      <td>R</td>\n",
       "      <td>Crime</td>\n",
       "      <td>175</td>\n",
       "      <td>[u'Marlon Brando', u'Al Pacino', u'James Caan']</td>\n",
       "      <td>True</td>\n",
       "    </tr>\n",
       "    <tr>\n",
       "      <th>2</th>\n",
       "      <td>9.1</td>\n",
       "      <td>The Godfather: Part II</td>\n",
       "      <td>R</td>\n",
       "      <td>Crime</td>\n",
       "      <td>200</td>\n",
       "      <td>[u'Al Pacino', u'Robert De Niro', u'Robert Duv...</td>\n",
       "      <td>True</td>\n",
       "    </tr>\n",
       "    <tr>\n",
       "      <th>3</th>\n",
       "      <td>9.0</td>\n",
       "      <td>The Dark Knight</td>\n",
       "      <td>PG-13</td>\n",
       "      <td>Action</td>\n",
       "      <td>152</td>\n",
       "      <td>[u'Christian Bale', u'Heath Ledger', u'Aaron E...</td>\n",
       "      <td>True</td>\n",
       "    </tr>\n",
       "    <tr>\n",
       "      <th>4</th>\n",
       "      <td>8.9</td>\n",
       "      <td>Pulp Fiction</td>\n",
       "      <td>R</td>\n",
       "      <td>Crime</td>\n",
       "      <td>154</td>\n",
       "      <td>[u'John Travolta', u'Uma Thurman', u'Samuel L....</td>\n",
       "      <td>True</td>\n",
       "    </tr>\n",
       "  </tbody>\n",
       "</table>\n",
       "</div>"
      ],
      "text/plain": [
       "   star_rating                     title content_rating   genre  duration  \\\n",
       "0          9.3  The Shawshank Redemption              R   Crime       142   \n",
       "1          9.2             The Godfather              R   Crime       175   \n",
       "2          9.1    The Godfather: Part II              R   Crime       200   \n",
       "3          9.0           The Dark Knight          PG-13  Action       152   \n",
       "4          8.9              Pulp Fiction              R   Crime       154   \n",
       "\n",
       "                                         actors_list  is_long  \n",
       "0  [u'Tim Robbins', u'Morgan Freeman', u'Bob Gunt...    False  \n",
       "1    [u'Marlon Brando', u'Al Pacino', u'James Caan']     True  \n",
       "2  [u'Al Pacino', u'Robert De Niro', u'Robert Duv...     True  \n",
       "3  [u'Christian Bale', u'Heath Ledger', u'Aaron E...     True  \n",
       "4  [u'John Travolta', u'Uma Thurman', u'Samuel L....     True  "
      ]
     },
     "execution_count": 14,
     "metadata": {},
     "output_type": "execute_result"
    }
   ],
   "source": [
    "movie_df.head(5)"
   ]
  },
  {
   "cell_type": "code",
   "execution_count": 15,
   "id": "07a9bfb6-990d-4044-8b2e-124ca159b937",
   "metadata": {},
   "outputs": [
    {
     "data": {
      "text/plain": [
       "False    845\n",
       "True     134\n",
       "Name: is_long, dtype: int64"
      ]
     },
     "execution_count": 15,
     "metadata": {},
     "output_type": "execute_result"
    }
   ],
   "source": [
    "movie_df.is_long.value_counts()"
   ]
  },
  {
   "cell_type": "markdown",
   "id": "f479cac4-37da-4f76-89d9-e49c47c8ce1c",
   "metadata": {},
   "source": [
    "----"
   ]
  },
  {
   "cell_type": "markdown",
   "id": "93f8f0b3-4f86-4af2-8638-32ffc08dceb9",
   "metadata": {},
   "source": [
    "## Looping exercise"
   ]
  },
  {
   "cell_type": "code",
   "execution_count": 16,
   "id": "0c6c9993-1b00-446d-a4a6-50bc01dd96b4",
   "metadata": {},
   "outputs": [
    {
     "name": "stdout",
     "output_type": "stream",
     "text": [
      "https://www.imdb.com/search/title/?genres=Crime&title_type=feature&explore=genres\n",
      "https://www.imdb.com/search/title/?genres=Action&title_type=feature&explore=genres\n",
      "https://www.imdb.com/search/title/?genres=Drama&title_type=feature&explore=genres\n",
      "https://www.imdb.com/search/title/?genres=Western&title_type=feature&explore=genres\n",
      "https://www.imdb.com/search/title/?genres=Adventure&title_type=feature&explore=genres\n",
      "https://www.imdb.com/search/title/?genres=Biography&title_type=feature&explore=genres\n",
      "https://www.imdb.com/search/title/?genres=Comedy&title_type=feature&explore=genres\n",
      "https://www.imdb.com/search/title/?genres=Animation&title_type=feature&explore=genres\n",
      "https://www.imdb.com/search/title/?genres=Mystery&title_type=feature&explore=genres\n",
      "https://www.imdb.com/search/title/?genres=Horror&title_type=feature&explore=genres\n",
      "https://www.imdb.com/search/title/?genres=Film-Noir&title_type=feature&explore=genres\n",
      "https://www.imdb.com/search/title/?genres=Sci-Fi&title_type=feature&explore=genres\n",
      "https://www.imdb.com/search/title/?genres=History&title_type=feature&explore=genres\n",
      "https://www.imdb.com/search/title/?genres=Thriller&title_type=feature&explore=genres\n",
      "https://www.imdb.com/search/title/?genres=Family&title_type=feature&explore=genres\n",
      "https://www.imdb.com/search/title/?genres=Fantasy&title_type=feature&explore=genres\n"
     ]
    }
   ],
   "source": [
    "for i in movie_df[\"genre\"].unique():\n",
    "    print(\n",
    "        f\"https://www.imdb.com/search/title/?genres={i}&title_type=feature&explore=genres\"\n",
    "    )"
   ]
  },
  {
   "cell_type": "code",
   "execution_count": 17,
   "id": "141d6ac9-be1b-4c1a-a54c-97f54fb1a637",
   "metadata": {},
   "outputs": [
    {
     "data": {
      "text/plain": [
       "array(['Crime', 'Action', 'Drama', 'Western', 'Adventure', 'Biography',\n",
       "       'Comedy', 'Animation', 'Mystery', 'Horror', 'Film-Noir', 'Sci-Fi',\n",
       "       'History', 'Thriller', 'Family', 'Fantasy'], dtype=object)"
      ]
     },
     "execution_count": 17,
     "metadata": {},
     "output_type": "execute_result"
    }
   ],
   "source": [
    "movie_df[\"genre\"].unique()"
   ]
  },
  {
   "cell_type": "code",
   "execution_count": 21,
   "id": "e34f4f1e-3690-494d-9bfb-6044fdeaa519",
   "metadata": {},
   "outputs": [],
   "source": [
    "# Oops! Did not notice this earlier.\n",
    "# https://www.imdb.com/search/title/?genres=comedy"
   ]
  },
  {
   "cell_type": "code",
   "execution_count": 19,
   "id": "a87074bc-650f-42b3-8158-fd06074c49d7",
   "metadata": {},
   "outputs": [],
   "source": [
    "movie_df[\"genre_url\"] = \"https://www.imdb.com/search/title/?genres=\" + movie_df[\"genre\"]"
   ]
  },
  {
   "cell_type": "code",
   "execution_count": 20,
   "id": "82f0c6f3-61d2-4b1f-94ce-9186c32f6221",
   "metadata": {},
   "outputs": [
    {
     "data": {
      "text/html": [
       "<div>\n",
       "<style scoped>\n",
       "    .dataframe tbody tr th:only-of-type {\n",
       "        vertical-align: middle;\n",
       "    }\n",
       "\n",
       "    .dataframe tbody tr th {\n",
       "        vertical-align: top;\n",
       "    }\n",
       "\n",
       "    .dataframe thead th {\n",
       "        text-align: right;\n",
       "    }\n",
       "</style>\n",
       "<table border=\"1\" class=\"dataframe\">\n",
       "  <thead>\n",
       "    <tr style=\"text-align: right;\">\n",
       "      <th></th>\n",
       "      <th>star_rating</th>\n",
       "      <th>title</th>\n",
       "      <th>content_rating</th>\n",
       "      <th>genre</th>\n",
       "      <th>duration</th>\n",
       "      <th>actors_list</th>\n",
       "      <th>is_long</th>\n",
       "      <th>genre_url</th>\n",
       "    </tr>\n",
       "  </thead>\n",
       "  <tbody>\n",
       "    <tr>\n",
       "      <th>0</th>\n",
       "      <td>9.3</td>\n",
       "      <td>The Shawshank Redemption</td>\n",
       "      <td>R</td>\n",
       "      <td>Crime</td>\n",
       "      <td>142</td>\n",
       "      <td>[u'Tim Robbins', u'Morgan Freeman', u'Bob Gunt...</td>\n",
       "      <td>False</td>\n",
       "      <td>https://www.imdb.com/search/title/?genres=Crime</td>\n",
       "    </tr>\n",
       "    <tr>\n",
       "      <th>1</th>\n",
       "      <td>9.2</td>\n",
       "      <td>The Godfather</td>\n",
       "      <td>R</td>\n",
       "      <td>Crime</td>\n",
       "      <td>175</td>\n",
       "      <td>[u'Marlon Brando', u'Al Pacino', u'James Caan']</td>\n",
       "      <td>True</td>\n",
       "      <td>https://www.imdb.com/search/title/?genres=Crime</td>\n",
       "    </tr>\n",
       "    <tr>\n",
       "      <th>2</th>\n",
       "      <td>9.1</td>\n",
       "      <td>The Godfather: Part II</td>\n",
       "      <td>R</td>\n",
       "      <td>Crime</td>\n",
       "      <td>200</td>\n",
       "      <td>[u'Al Pacino', u'Robert De Niro', u'Robert Duv...</td>\n",
       "      <td>True</td>\n",
       "      <td>https://www.imdb.com/search/title/?genres=Crime</td>\n",
       "    </tr>\n",
       "    <tr>\n",
       "      <th>3</th>\n",
       "      <td>9.0</td>\n",
       "      <td>The Dark Knight</td>\n",
       "      <td>PG-13</td>\n",
       "      <td>Action</td>\n",
       "      <td>152</td>\n",
       "      <td>[u'Christian Bale', u'Heath Ledger', u'Aaron E...</td>\n",
       "      <td>True</td>\n",
       "      <td>https://www.imdb.com/search/title/?genres=Action</td>\n",
       "    </tr>\n",
       "    <tr>\n",
       "      <th>4</th>\n",
       "      <td>8.9</td>\n",
       "      <td>Pulp Fiction</td>\n",
       "      <td>R</td>\n",
       "      <td>Crime</td>\n",
       "      <td>154</td>\n",
       "      <td>[u'John Travolta', u'Uma Thurman', u'Samuel L....</td>\n",
       "      <td>True</td>\n",
       "      <td>https://www.imdb.com/search/title/?genres=Crime</td>\n",
       "    </tr>\n",
       "  </tbody>\n",
       "</table>\n",
       "</div>"
      ],
      "text/plain": [
       "   star_rating                     title content_rating   genre  duration  \\\n",
       "0          9.3  The Shawshank Redemption              R   Crime       142   \n",
       "1          9.2             The Godfather              R   Crime       175   \n",
       "2          9.1    The Godfather: Part II              R   Crime       200   \n",
       "3          9.0           The Dark Knight          PG-13  Action       152   \n",
       "4          8.9              Pulp Fiction              R   Crime       154   \n",
       "\n",
       "                                         actors_list  is_long  \\\n",
       "0  [u'Tim Robbins', u'Morgan Freeman', u'Bob Gunt...    False   \n",
       "1    [u'Marlon Brando', u'Al Pacino', u'James Caan']     True   \n",
       "2  [u'Al Pacino', u'Robert De Niro', u'Robert Duv...     True   \n",
       "3  [u'Christian Bale', u'Heath Ledger', u'Aaron E...     True   \n",
       "4  [u'John Travolta', u'Uma Thurman', u'Samuel L....     True   \n",
       "\n",
       "                                          genre_url  \n",
       "0   https://www.imdb.com/search/title/?genres=Crime  \n",
       "1   https://www.imdb.com/search/title/?genres=Crime  \n",
       "2   https://www.imdb.com/search/title/?genres=Crime  \n",
       "3  https://www.imdb.com/search/title/?genres=Action  \n",
       "4   https://www.imdb.com/search/title/?genres=Crime  "
      ]
     },
     "execution_count": 20,
     "metadata": {},
     "output_type": "execute_result"
    }
   ],
   "source": [
    "movie_df.head()"
   ]
  },
  {
   "cell_type": "markdown",
   "id": "6e5a5065-b342-4e4b-bfee-06a369db1779",
   "metadata": {},
   "source": [
    "---"
   ]
  },
  {
   "cell_type": "markdown",
   "id": "9dee68b0-2a9d-4184-a173-321c16cdd084",
   "metadata": {},
   "source": [
    "### Questions"
   ]
  },
  {
   "cell_type": "markdown",
   "id": "ff727de8-4204-4dcb-96d6-64a8fc932148",
   "metadata": {},
   "source": [
    "#### How many crime movies vs. other types? "
   ]
  },
  {
   "cell_type": "code",
   "execution_count": 22,
   "id": "63e635a3-42ca-4569-9a15-609408e14f79",
   "metadata": {},
   "outputs": [
    {
     "data": {
      "text/plain": [
       "Drama        278\n",
       "Comedy       156\n",
       "Action       136\n",
       "Crime        124\n",
       "Biography     77\n",
       "Adventure     75\n",
       "Animation     62\n",
       "Horror        29\n",
       "Mystery       16\n",
       "Western        9\n",
       "Sci-Fi         5\n",
       "Thriller       5\n",
       "Film-Noir      3\n",
       "Family         2\n",
       "History        1\n",
       "Fantasy        1\n",
       "Name: genre, dtype: int64"
      ]
     },
     "execution_count": 22,
     "metadata": {},
     "output_type": "execute_result"
    }
   ],
   "source": [
    "movie_df.genre.value_counts()"
   ]
  },
  {
   "cell_type": "code",
   "execution_count": 24,
   "id": "df565b2e-5d46-419c-9fa5-ffafc3aca3d9",
   "metadata": {},
   "outputs": [
    {
     "data": {
      "text/plain": [
       "star_rating  title                 content_rating  genre  duration  actors_list                                              is_long  genre_url                                      \n",
       "7.4          Bound                 R               Crime  108       [u'Jennifer Tilly', u'Gina Gershon', u'Joe Pantoliano']  False    https://www.imdb.com/search/title/?genres=Crime    1\n",
       "8.0          Rope                  PG              Crime  80        [u'James Stewart', u'John Dall', u'Farley Granger']      False    https://www.imdb.com/search/title/?genres=Crime    1\n",
       "8.1          Strangers on a Train  APPROVED        Crime  101       [u'Farley Granger', u'Robert Walker', u'Ruth Roman']     False    https://www.imdb.com/search/title/?genres=Crime    1\n",
       "             Sin City              R               Crime  124       [u'Mickey Rourke', u'Clive Owen', u'Bruce Willis']       False    https://www.imdb.com/search/title/?genres=Crime    1\n",
       "             Prisoners             R               Crime  153       [u'Hugh Jackman', u'Jake Gyllenhaal', u'Viola Davis']    True     https://www.imdb.com/search/title/?genres=Crime    1\n",
       "dtype: int64"
      ]
     },
     "execution_count": 24,
     "metadata": {},
     "output_type": "execute_result"
    }
   ],
   "source": [
    "# This is confusing. But it does give more data. Still, I'd rather not use this method.\n",
    "movie_df[movie_df[\"genre\"] == \"Crime\"].value_counts().head()"
   ]
  },
  {
   "cell_type": "markdown",
   "id": "ef1ddc2b-a910-475f-99a8-b55ebc0de686",
   "metadata": {},
   "source": [
    "#### Which movie featuring Jack Nicholson had the highest star rating? "
   ]
  },
  {
   "cell_type": "code",
   "execution_count": 25,
   "id": "8c028096-ae6e-4b85-b8ff-a617190d3131",
   "metadata": {},
   "outputs": [
    {
     "data": {
      "text/html": [
       "<div>\n",
       "<style scoped>\n",
       "    .dataframe tbody tr th:only-of-type {\n",
       "        vertical-align: middle;\n",
       "    }\n",
       "\n",
       "    .dataframe tbody tr th {\n",
       "        vertical-align: top;\n",
       "    }\n",
       "\n",
       "    .dataframe thead th {\n",
       "        text-align: right;\n",
       "    }\n",
       "</style>\n",
       "<table border=\"1\" class=\"dataframe\">\n",
       "  <thead>\n",
       "    <tr style=\"text-align: right;\">\n",
       "      <th></th>\n",
       "      <th>star_rating</th>\n",
       "      <th>title</th>\n",
       "      <th>content_rating</th>\n",
       "      <th>genre</th>\n",
       "      <th>duration</th>\n",
       "      <th>actors_list</th>\n",
       "      <th>is_long</th>\n",
       "      <th>genre_url</th>\n",
       "    </tr>\n",
       "  </thead>\n",
       "  <tbody>\n",
       "    <tr>\n",
       "      <th>16</th>\n",
       "      <td>8.7</td>\n",
       "      <td>One Flew Over the Cuckoo's Nest</td>\n",
       "      <td>R</td>\n",
       "      <td>Drama</td>\n",
       "      <td>133</td>\n",
       "      <td>[u'Jack Nicholson', u'Louise Fletcher', u'Mich...</td>\n",
       "      <td>False</td>\n",
       "      <td>https://www.imdb.com/search/title/?genres=Drama</td>\n",
       "    </tr>\n",
       "    <tr>\n",
       "      <th>49</th>\n",
       "      <td>8.5</td>\n",
       "      <td>The Departed</td>\n",
       "      <td>R</td>\n",
       "      <td>Crime</td>\n",
       "      <td>151</td>\n",
       "      <td>[u'Leonardo DiCaprio', u'Matt Damon', u'Jack N...</td>\n",
       "      <td>True</td>\n",
       "      <td>https://www.imdb.com/search/title/?genres=Crime</td>\n",
       "    </tr>\n",
       "    <tr>\n",
       "      <th>62</th>\n",
       "      <td>8.5</td>\n",
       "      <td>The Shining</td>\n",
       "      <td>R</td>\n",
       "      <td>Horror</td>\n",
       "      <td>146</td>\n",
       "      <td>[u'Jack Nicholson', u'Shelley Duvall', u'Danny...</td>\n",
       "      <td>False</td>\n",
       "      <td>https://www.imdb.com/search/title/?genres=Horror</td>\n",
       "    </tr>\n",
       "    <tr>\n",
       "      <th>130</th>\n",
       "      <td>8.3</td>\n",
       "      <td>Chinatown</td>\n",
       "      <td>R</td>\n",
       "      <td>Drama</td>\n",
       "      <td>130</td>\n",
       "      <td>[u'Jack Nicholson', u'Faye Dunaway', u'John Hu...</td>\n",
       "      <td>False</td>\n",
       "      <td>https://www.imdb.com/search/title/?genres=Drama</td>\n",
       "    </tr>\n",
       "    <tr>\n",
       "      <th>578</th>\n",
       "      <td>7.8</td>\n",
       "      <td>As Good as It Gets</td>\n",
       "      <td>PG-13</td>\n",
       "      <td>Comedy</td>\n",
       "      <td>139</td>\n",
       "      <td>[u'Jack Nicholson', u'Helen Hunt', u'Greg Kinn...</td>\n",
       "      <td>False</td>\n",
       "      <td>https://www.imdb.com/search/title/?genres=Comedy</td>\n",
       "    </tr>\n",
       "    <tr>\n",
       "      <th>716</th>\n",
       "      <td>7.6</td>\n",
       "      <td>A Few Good Men</td>\n",
       "      <td>R</td>\n",
       "      <td>Drama</td>\n",
       "      <td>138</td>\n",
       "      <td>[u'Tom Cruise', u'Jack Nicholson', u'Demi Moore']</td>\n",
       "      <td>False</td>\n",
       "      <td>https://www.imdb.com/search/title/?genres=Drama</td>\n",
       "    </tr>\n",
       "    <tr>\n",
       "      <th>801</th>\n",
       "      <td>7.6</td>\n",
       "      <td>Batman</td>\n",
       "      <td>PG-13</td>\n",
       "      <td>Action</td>\n",
       "      <td>126</td>\n",
       "      <td>[u'Michael Keaton', u'Jack Nicholson', u'Kim B...</td>\n",
       "      <td>False</td>\n",
       "      <td>https://www.imdb.com/search/title/?genres=Action</td>\n",
       "    </tr>\n",
       "    <tr>\n",
       "      <th>943</th>\n",
       "      <td>7.4</td>\n",
       "      <td>The Bucket List</td>\n",
       "      <td>PG-13</td>\n",
       "      <td>Adventure</td>\n",
       "      <td>97</td>\n",
       "      <td>[u'Jack Nicholson', u'Morgan Freeman', u'Sean ...</td>\n",
       "      <td>False</td>\n",
       "      <td>https://www.imdb.com/search/title/?genres=Adve...</td>\n",
       "    </tr>\n",
       "    <tr>\n",
       "      <th>944</th>\n",
       "      <td>7.4</td>\n",
       "      <td>Terms of Endearment</td>\n",
       "      <td>R</td>\n",
       "      <td>Comedy</td>\n",
       "      <td>132</td>\n",
       "      <td>[u'Shirley MacLaine', u'Debra Winger', u'Jack ...</td>\n",
       "      <td>False</td>\n",
       "      <td>https://www.imdb.com/search/title/?genres=Comedy</td>\n",
       "    </tr>\n",
       "  </tbody>\n",
       "</table>\n",
       "</div>"
      ],
      "text/plain": [
       "     star_rating                            title content_rating      genre  \\\n",
       "16           8.7  One Flew Over the Cuckoo's Nest              R      Drama   \n",
       "49           8.5                     The Departed              R      Crime   \n",
       "62           8.5                      The Shining              R     Horror   \n",
       "130          8.3                        Chinatown              R      Drama   \n",
       "578          7.8               As Good as It Gets          PG-13     Comedy   \n",
       "716          7.6                   A Few Good Men              R      Drama   \n",
       "801          7.6                           Batman          PG-13     Action   \n",
       "943          7.4                  The Bucket List          PG-13  Adventure   \n",
       "944          7.4              Terms of Endearment              R     Comedy   \n",
       "\n",
       "     duration                                        actors_list  is_long  \\\n",
       "16        133  [u'Jack Nicholson', u'Louise Fletcher', u'Mich...    False   \n",
       "49        151  [u'Leonardo DiCaprio', u'Matt Damon', u'Jack N...     True   \n",
       "62        146  [u'Jack Nicholson', u'Shelley Duvall', u'Danny...    False   \n",
       "130       130  [u'Jack Nicholson', u'Faye Dunaway', u'John Hu...    False   \n",
       "578       139  [u'Jack Nicholson', u'Helen Hunt', u'Greg Kinn...    False   \n",
       "716       138  [u'Tom Cruise', u'Jack Nicholson', u'Demi Moore']    False   \n",
       "801       126  [u'Michael Keaton', u'Jack Nicholson', u'Kim B...    False   \n",
       "943        97  [u'Jack Nicholson', u'Morgan Freeman', u'Sean ...    False   \n",
       "944       132  [u'Shirley MacLaine', u'Debra Winger', u'Jack ...    False   \n",
       "\n",
       "                                             genre_url  \n",
       "16     https://www.imdb.com/search/title/?genres=Drama  \n",
       "49     https://www.imdb.com/search/title/?genres=Crime  \n",
       "62    https://www.imdb.com/search/title/?genres=Horror  \n",
       "130    https://www.imdb.com/search/title/?genres=Drama  \n",
       "578   https://www.imdb.com/search/title/?genres=Comedy  \n",
       "716    https://www.imdb.com/search/title/?genres=Drama  \n",
       "801   https://www.imdb.com/search/title/?genres=Action  \n",
       "943  https://www.imdb.com/search/title/?genres=Adve...  \n",
       "944   https://www.imdb.com/search/title/?genres=Comedy  "
      ]
     },
     "execution_count": 25,
     "metadata": {},
     "output_type": "execute_result"
    }
   ],
   "source": [
    "movie_df[movie_df[\"actors_list\"].str.contains(\"Jack Nicholson\")].sort_values(\n",
    "    \"star_rating\", ascending=False\n",
    ")"
   ]
  },
  {
   "cell_type": "markdown",
   "id": "b63335eb-3030-4c54-a338-1eb3ab8b20a2",
   "metadata": {},
   "source": [
    "#### How does the average duration of dramas compare with other genres? "
   ]
  },
  {
   "cell_type": "code",
   "execution_count": 26,
   "id": "2f1c1c83-51c0-4453-8755-68f192a40560",
   "metadata": {},
   "outputs": [
    {
     "data": {
      "text/plain": [
       "genre\n",
       "Action       126.485294\n",
       "Adventure    134.840000\n",
       "Animation     96.596774\n",
       "Biography    131.844156\n",
       "Comedy       107.602564\n",
       "Crime        122.298387\n",
       "Drama        126.539568\n",
       "Family       107.500000\n",
       "Fantasy      112.000000\n",
       "Film-Noir     97.333333\n",
       "History       66.000000\n",
       "Horror       102.517241\n",
       "Mystery      115.625000\n",
       "Sci-Fi       109.000000\n",
       "Thriller     114.200000\n",
       "Western      136.666667\n",
       "Name: duration, dtype: float64"
      ]
     },
     "execution_count": 26,
     "metadata": {},
     "output_type": "execute_result"
    }
   ],
   "source": [
    "movie_df.groupby([\"genre\"])[\"duration\"].mean()"
   ]
  },
  {
   "cell_type": "markdown",
   "id": "e2434494-2911-4c40-840c-0f2f3200550f",
   "metadata": {},
   "source": [
    "#### How many movies contain Al Pacino?"
   ]
  },
  {
   "cell_type": "code",
   "execution_count": 27,
   "id": "47c8e855-c8b2-4c71-87cf-4d674a4ac9bf",
   "metadata": {},
   "outputs": [
    {
     "data": {
      "text/plain": [
       "13"
      ]
     },
     "execution_count": 27,
     "metadata": {},
     "output_type": "execute_result"
    }
   ],
   "source": [
    "len(movie_df[movie_df[\"actors_list\"].str.contains(\"Al Pacino\")])"
   ]
  },
  {
   "cell_type": "markdown",
   "id": "77a48eef-567c-4dfd-bb38-b2f23b584130",
   "metadata": {},
   "source": [
    "#### What's the longest PG-13 action movie? "
   ]
  },
  {
   "cell_type": "code",
   "execution_count": 28,
   "id": "a2ab9284-ee62-4a71-9776-c191238e28c9",
   "metadata": {},
   "outputs": [
    {
     "data": {
      "text/html": [
       "<div>\n",
       "<style scoped>\n",
       "    .dataframe tbody tr th:only-of-type {\n",
       "        vertical-align: middle;\n",
       "    }\n",
       "\n",
       "    .dataframe tbody tr th {\n",
       "        vertical-align: top;\n",
       "    }\n",
       "\n",
       "    .dataframe thead th {\n",
       "        text-align: right;\n",
       "    }\n",
       "</style>\n",
       "<table border=\"1\" class=\"dataframe\">\n",
       "  <thead>\n",
       "    <tr style=\"text-align: right;\">\n",
       "      <th></th>\n",
       "      <th>star_rating</th>\n",
       "      <th>title</th>\n",
       "      <th>content_rating</th>\n",
       "      <th>genre</th>\n",
       "      <th>duration</th>\n",
       "      <th>actors_list</th>\n",
       "      <th>is_long</th>\n",
       "      <th>genre_url</th>\n",
       "    </tr>\n",
       "  </thead>\n",
       "  <tbody>\n",
       "    <tr>\n",
       "      <th>385</th>\n",
       "      <td>8.0</td>\n",
       "      <td>Spartacus</td>\n",
       "      <td>PG-13</td>\n",
       "      <td>Action</td>\n",
       "      <td>197</td>\n",
       "      <td>[u'Kirk Douglas', u'Laurence Olivier', u'Jean ...</td>\n",
       "      <td>True</td>\n",
       "      <td>https://www.imdb.com/search/title/?genres=Action</td>\n",
       "    </tr>\n",
       "    <tr>\n",
       "      <th>684</th>\n",
       "      <td>7.7</td>\n",
       "      <td>The Big Blue</td>\n",
       "      <td>PG-13</td>\n",
       "      <td>Action</td>\n",
       "      <td>168</td>\n",
       "      <td>[u'Jean-Marc Barr', u'Jean Reno', u'Rosanna Ar...</td>\n",
       "      <td>True</td>\n",
       "      <td>https://www.imdb.com/search/title/?genres=Action</td>\n",
       "    </tr>\n",
       "    <tr>\n",
       "      <th>43</th>\n",
       "      <td>8.5</td>\n",
       "      <td>The Dark Knight Rises</td>\n",
       "      <td>PG-13</td>\n",
       "      <td>Action</td>\n",
       "      <td>165</td>\n",
       "      <td>[u'Christian Bale', u'Tom Hardy', u'Anne Hatha...</td>\n",
       "      <td>True</td>\n",
       "      <td>https://www.imdb.com/search/title/?genres=Action</td>\n",
       "    </tr>\n",
       "    <tr>\n",
       "      <th>433</th>\n",
       "      <td>7.9</td>\n",
       "      <td>Avatar</td>\n",
       "      <td>PG-13</td>\n",
       "      <td>Action</td>\n",
       "      <td>162</td>\n",
       "      <td>[u'Sam Worthington', u'Zoe Saldana', u'Sigourn...</td>\n",
       "      <td>True</td>\n",
       "      <td>https://www.imdb.com/search/title/?genres=Action</td>\n",
       "    </tr>\n",
       "    <tr>\n",
       "      <th>3</th>\n",
       "      <td>9.0</td>\n",
       "      <td>The Dark Knight</td>\n",
       "      <td>PG-13</td>\n",
       "      <td>Action</td>\n",
       "      <td>152</td>\n",
       "      <td>[u'Christian Bale', u'Heath Ledger', u'Aaron E...</td>\n",
       "      <td>True</td>\n",
       "      <td>https://www.imdb.com/search/title/?genres=Action</td>\n",
       "    </tr>\n",
       "  </tbody>\n",
       "</table>\n",
       "</div>"
      ],
      "text/plain": [
       "     star_rating                  title content_rating   genre  duration  \\\n",
       "385          8.0              Spartacus          PG-13  Action       197   \n",
       "684          7.7           The Big Blue          PG-13  Action       168   \n",
       "43           8.5  The Dark Knight Rises          PG-13  Action       165   \n",
       "433          7.9                 Avatar          PG-13  Action       162   \n",
       "3            9.0        The Dark Knight          PG-13  Action       152   \n",
       "\n",
       "                                           actors_list  is_long  \\\n",
       "385  [u'Kirk Douglas', u'Laurence Olivier', u'Jean ...     True   \n",
       "684  [u'Jean-Marc Barr', u'Jean Reno', u'Rosanna Ar...     True   \n",
       "43   [u'Christian Bale', u'Tom Hardy', u'Anne Hatha...     True   \n",
       "433  [u'Sam Worthington', u'Zoe Saldana', u'Sigourn...     True   \n",
       "3    [u'Christian Bale', u'Heath Ledger', u'Aaron E...     True   \n",
       "\n",
       "                                            genre_url  \n",
       "385  https://www.imdb.com/search/title/?genres=Action  \n",
       "684  https://www.imdb.com/search/title/?genres=Action  \n",
       "43   https://www.imdb.com/search/title/?genres=Action  \n",
       "433  https://www.imdb.com/search/title/?genres=Action  \n",
       "3    https://www.imdb.com/search/title/?genres=Action  "
      ]
     },
     "execution_count": 28,
     "metadata": {},
     "output_type": "execute_result"
    }
   ],
   "source": [
    "pg = movie_df[movie_df[\"content_rating\"] == \"PG-13\"]\n",
    "pg[pg[\"genre\"] == \"Action\"].sort_values(\"duration\", ascending=False).head()"
   ]
  },
  {
   "cell_type": "markdown",
   "id": "e602b22e-c952-45a3-ac32-014e0b316209",
   "metadata": {},
   "source": [
    "#### Which genre has the highest star rating?"
   ]
  },
  {
   "cell_type": "code",
   "execution_count": 29,
   "id": "74573dc4-843d-4dd1-9f90-0083229ed648",
   "metadata": {},
   "outputs": [
    {
     "data": {
      "text/plain": [
       "genre\n",
       "Western      8.255556\n",
       "Film-Noir    8.033333\n",
       "History      8.000000\n",
       "Mystery      7.975000\n",
       "Adventure    7.933333\n",
       "Sci-Fi       7.920000\n",
       "Crime        7.916935\n",
       "Animation    7.914516\n",
       "Drama        7.902518\n",
       "Action       7.884559\n",
       "Biography    7.862338\n",
       "Family       7.850000\n",
       "Comedy       7.822436\n",
       "Horror       7.806897\n",
       "Fantasy      7.700000\n",
       "Thriller     7.680000\n",
       "Name: star_rating, dtype: float64"
      ]
     },
     "execution_count": 29,
     "metadata": {},
     "output_type": "execute_result"
    }
   ],
   "source": [
    "movie_df.groupby([\"genre\"])[\"star_rating\"].mean().sort_values(ascending=False)"
   ]
  },
  {
   "cell_type": "markdown",
   "id": "80b4783b-afd4-417b-bb25-0289fae25af4",
   "metadata": {},
   "source": [
    "#### How many movies contain the word 'city'? "
   ]
  },
  {
   "cell_type": "code",
   "execution_count": 30,
   "id": "d6f3c6ef-af87-4981-b45b-73e5a6e56431",
   "metadata": {},
   "outputs": [
    {
     "data": {
      "text/plain": [
       "5"
      ]
     },
     "execution_count": 30,
     "metadata": {},
     "output_type": "execute_result"
    }
   ],
   "source": [
    "len(movie_df[movie_df[\"title\"].str.contains(\"city\", case=False)])"
   ]
  },
  {
   "cell_type": "markdown",
   "id": "83e5d8ca-8cf0-4608-8c8b-f78c47b236e2",
   "metadata": {},
   "source": [
    "#### Do long movies have a higher average star rating than not long movies?"
   ]
  },
  {
   "cell_type": "code",
   "execution_count": 31,
   "id": "5a9a0d36-1183-41d9-93d1-41162463cfc6",
   "metadata": {},
   "outputs": [
    {
     "data": {
      "text/plain": [
       "is_long\n",
       "False    7.858698\n",
       "True     8.085821\n",
       "Name: star_rating, dtype: float64"
      ]
     },
     "execution_count": 31,
     "metadata": {},
     "output_type": "execute_result"
    }
   ],
   "source": [
    "# YES!\n",
    "movie_df.groupby([\"is_long\"])[\"star_rating\"].mean()"
   ]
  },
  {
   "cell_type": "markdown",
   "id": "e70721cb-fc6f-4ed9-ad60-f24db60dad2a",
   "metadata": {},
   "source": [
    "#### Are \"G\" rated movies more popular than \"R\" rated movies? "
   ]
  },
  {
   "cell_type": "code",
   "execution_count": 32,
   "id": "ff68f346-cece-45d5-ae27-db496731592e",
   "metadata": {},
   "outputs": [
    {
     "data": {
      "text/plain": [
       "content_rating\n",
       "APPROVED     8.027660\n",
       "G            7.990625\n",
       "GP           7.933333\n",
       "NC-17        7.614286\n",
       "NOT RATED    8.123077\n",
       "PASSED       8.157143\n",
       "PG           7.879675\n",
       "PG-13        7.828571\n",
       "R            7.854783\n",
       "TV-MA        8.100000\n",
       "UNRATED      7.994737\n",
       "X            7.925000\n",
       "Name: star_rating, dtype: float64"
      ]
     },
     "execution_count": 32,
     "metadata": {},
     "output_type": "execute_result"
    }
   ],
   "source": [
    "# YES. Oh. Interesting data.\n",
    "movie_df.groupby([\"content_rating\"])[\"star_rating\"].mean()"
   ]
  },
  {
   "cell_type": "markdown",
   "id": "4538ec88-2718-4170-be31-8283d53446fc",
   "metadata": {},
   "source": [
    "---"
   ]
  },
  {
   "cell_type": "markdown",
   "id": "f64aeea7-9bee-4d6e-9286-c3fa10f83b49",
   "metadata": {},
   "source": [
    "## Bonus questions! "
   ]
  },
  {
   "cell_type": "markdown",
   "id": "791e4e9a-99a9-42bc-8297-42c1105df1d2",
   "metadata": {},
   "source": [
    "#### How many movies start with \"The\"?"
   ]
  },
  {
   "cell_type": "code",
   "execution_count": 33,
   "id": "cd1d9885-2f50-4068-89f7-4d96ad192541",
   "metadata": {},
   "outputs": [
    {
     "data": {
      "text/html": [
       "<div>\n",
       "<style scoped>\n",
       "    .dataframe tbody tr th:only-of-type {\n",
       "        vertical-align: middle;\n",
       "    }\n",
       "\n",
       "    .dataframe tbody tr th {\n",
       "        vertical-align: top;\n",
       "    }\n",
       "\n",
       "    .dataframe thead th {\n",
       "        text-align: right;\n",
       "    }\n",
       "</style>\n",
       "<table border=\"1\" class=\"dataframe\">\n",
       "  <thead>\n",
       "    <tr style=\"text-align: right;\">\n",
       "      <th></th>\n",
       "      <th>star_rating</th>\n",
       "      <th>title</th>\n",
       "      <th>content_rating</th>\n",
       "      <th>genre</th>\n",
       "      <th>duration</th>\n",
       "      <th>actors_list</th>\n",
       "      <th>is_long</th>\n",
       "      <th>genre_url</th>\n",
       "    </tr>\n",
       "  </thead>\n",
       "  <tbody>\n",
       "    <tr>\n",
       "      <th>0</th>\n",
       "      <td>9.3</td>\n",
       "      <td>The Shawshank Redemption</td>\n",
       "      <td>R</td>\n",
       "      <td>Crime</td>\n",
       "      <td>142</td>\n",
       "      <td>[u'Tim Robbins', u'Morgan Freeman', u'Bob Gunt...</td>\n",
       "      <td>False</td>\n",
       "      <td>https://www.imdb.com/search/title/?genres=Crime</td>\n",
       "    </tr>\n",
       "    <tr>\n",
       "      <th>1</th>\n",
       "      <td>9.2</td>\n",
       "      <td>The Godfather</td>\n",
       "      <td>R</td>\n",
       "      <td>Crime</td>\n",
       "      <td>175</td>\n",
       "      <td>[u'Marlon Brando', u'Al Pacino', u'James Caan']</td>\n",
       "      <td>True</td>\n",
       "      <td>https://www.imdb.com/search/title/?genres=Crime</td>\n",
       "    </tr>\n",
       "    <tr>\n",
       "      <th>2</th>\n",
       "      <td>9.1</td>\n",
       "      <td>The Godfather: Part II</td>\n",
       "      <td>R</td>\n",
       "      <td>Crime</td>\n",
       "      <td>200</td>\n",
       "      <td>[u'Al Pacino', u'Robert De Niro', u'Robert Duv...</td>\n",
       "      <td>True</td>\n",
       "      <td>https://www.imdb.com/search/title/?genres=Crime</td>\n",
       "    </tr>\n",
       "    <tr>\n",
       "      <th>3</th>\n",
       "      <td>9.0</td>\n",
       "      <td>The Dark Knight</td>\n",
       "      <td>PG-13</td>\n",
       "      <td>Action</td>\n",
       "      <td>152</td>\n",
       "      <td>[u'Christian Bale', u'Heath Ledger', u'Aaron E...</td>\n",
       "      <td>True</td>\n",
       "      <td>https://www.imdb.com/search/title/?genres=Action</td>\n",
       "    </tr>\n",
       "    <tr>\n",
       "      <th>6</th>\n",
       "      <td>8.9</td>\n",
       "      <td>The Good, the Bad and the Ugly</td>\n",
       "      <td>NOT RATED</td>\n",
       "      <td>Western</td>\n",
       "      <td>161</td>\n",
       "      <td>[u'Clint Eastwood', u'Eli Wallach', u'Lee Van ...</td>\n",
       "      <td>True</td>\n",
       "      <td>https://www.imdb.com/search/title/?genres=Western</td>\n",
       "    </tr>\n",
       "  </tbody>\n",
       "</table>\n",
       "</div>"
      ],
      "text/plain": [
       "   star_rating                           title content_rating    genre  \\\n",
       "0          9.3        The Shawshank Redemption              R    Crime   \n",
       "1          9.2                   The Godfather              R    Crime   \n",
       "2          9.1          The Godfather: Part II              R    Crime   \n",
       "3          9.0                 The Dark Knight          PG-13   Action   \n",
       "6          8.9  The Good, the Bad and the Ugly      NOT RATED  Western   \n",
       "\n",
       "   duration                                        actors_list  is_long  \\\n",
       "0       142  [u'Tim Robbins', u'Morgan Freeman', u'Bob Gunt...    False   \n",
       "1       175    [u'Marlon Brando', u'Al Pacino', u'James Caan']     True   \n",
       "2       200  [u'Al Pacino', u'Robert De Niro', u'Robert Duv...     True   \n",
       "3       152  [u'Christian Bale', u'Heath Ledger', u'Aaron E...     True   \n",
       "6       161  [u'Clint Eastwood', u'Eli Wallach', u'Lee Van ...     True   \n",
       "\n",
       "                                           genre_url  \n",
       "0    https://www.imdb.com/search/title/?genres=Crime  \n",
       "1    https://www.imdb.com/search/title/?genres=Crime  \n",
       "2    https://www.imdb.com/search/title/?genres=Crime  \n",
       "3   https://www.imdb.com/search/title/?genres=Action  \n",
       "6  https://www.imdb.com/search/title/?genres=Western  "
      ]
     },
     "execution_count": 33,
     "metadata": {},
     "output_type": "execute_result"
    }
   ],
   "source": [
    "movie_df[movie_df[\"title\"].str.contains(\"The\", case=False)].head()"
   ]
  },
  {
   "cell_type": "code",
   "execution_count": 34,
   "id": "886cd690-89c2-4d5c-96e5-c62ccc4f8aa1",
   "metadata": {},
   "outputs": [
    {
     "data": {
      "text/html": [
       "<div>\n",
       "<style scoped>\n",
       "    .dataframe tbody tr th:only-of-type {\n",
       "        vertical-align: middle;\n",
       "    }\n",
       "\n",
       "    .dataframe tbody tr th {\n",
       "        vertical-align: top;\n",
       "    }\n",
       "\n",
       "    .dataframe thead th {\n",
       "        text-align: right;\n",
       "    }\n",
       "</style>\n",
       "<table border=\"1\" class=\"dataframe\">\n",
       "  <thead>\n",
       "    <tr style=\"text-align: right;\">\n",
       "      <th></th>\n",
       "      <th>star_rating</th>\n",
       "      <th>title</th>\n",
       "      <th>content_rating</th>\n",
       "      <th>genre</th>\n",
       "      <th>duration</th>\n",
       "      <th>actors_list</th>\n",
       "      <th>is_long</th>\n",
       "      <th>genre_url</th>\n",
       "    </tr>\n",
       "  </thead>\n",
       "  <tbody>\n",
       "    <tr>\n",
       "      <th>0</th>\n",
       "      <td>9.3</td>\n",
       "      <td>The Shawshank Redemption</td>\n",
       "      <td>R</td>\n",
       "      <td>Crime</td>\n",
       "      <td>142</td>\n",
       "      <td>[u'Tim Robbins', u'Morgan Freeman', u'Bob Gunt...</td>\n",
       "      <td>False</td>\n",
       "      <td>https://www.imdb.com/search/title/?genres=Crime</td>\n",
       "    </tr>\n",
       "    <tr>\n",
       "      <th>1</th>\n",
       "      <td>9.2</td>\n",
       "      <td>The Godfather</td>\n",
       "      <td>R</td>\n",
       "      <td>Crime</td>\n",
       "      <td>175</td>\n",
       "      <td>[u'Marlon Brando', u'Al Pacino', u'James Caan']</td>\n",
       "      <td>True</td>\n",
       "      <td>https://www.imdb.com/search/title/?genres=Crime</td>\n",
       "    </tr>\n",
       "    <tr>\n",
       "      <th>2</th>\n",
       "      <td>9.1</td>\n",
       "      <td>The Godfather: Part II</td>\n",
       "      <td>R</td>\n",
       "      <td>Crime</td>\n",
       "      <td>200</td>\n",
       "      <td>[u'Al Pacino', u'Robert De Niro', u'Robert Duv...</td>\n",
       "      <td>True</td>\n",
       "      <td>https://www.imdb.com/search/title/?genres=Crime</td>\n",
       "    </tr>\n",
       "    <tr>\n",
       "      <th>3</th>\n",
       "      <td>9.0</td>\n",
       "      <td>The Dark Knight</td>\n",
       "      <td>PG-13</td>\n",
       "      <td>Action</td>\n",
       "      <td>152</td>\n",
       "      <td>[u'Christian Bale', u'Heath Ledger', u'Aaron E...</td>\n",
       "      <td>True</td>\n",
       "      <td>https://www.imdb.com/search/title/?genres=Action</td>\n",
       "    </tr>\n",
       "    <tr>\n",
       "      <th>6</th>\n",
       "      <td>8.9</td>\n",
       "      <td>The Good, the Bad and the Ugly</td>\n",
       "      <td>NOT RATED</td>\n",
       "      <td>Western</td>\n",
       "      <td>161</td>\n",
       "      <td>[u'Clint Eastwood', u'Eli Wallach', u'Lee Van ...</td>\n",
       "      <td>True</td>\n",
       "      <td>https://www.imdb.com/search/title/?genres=Western</td>\n",
       "    </tr>\n",
       "  </tbody>\n",
       "</table>\n",
       "</div>"
      ],
      "text/plain": [
       "   star_rating                           title content_rating    genre  \\\n",
       "0          9.3        The Shawshank Redemption              R    Crime   \n",
       "1          9.2                   The Godfather              R    Crime   \n",
       "2          9.1          The Godfather: Part II              R    Crime   \n",
       "3          9.0                 The Dark Knight          PG-13   Action   \n",
       "6          8.9  The Good, the Bad and the Ugly      NOT RATED  Western   \n",
       "\n",
       "   duration                                        actors_list  is_long  \\\n",
       "0       142  [u'Tim Robbins', u'Morgan Freeman', u'Bob Gunt...    False   \n",
       "1       175    [u'Marlon Brando', u'Al Pacino', u'James Caan']     True   \n",
       "2       200  [u'Al Pacino', u'Robert De Niro', u'Robert Duv...     True   \n",
       "3       152  [u'Christian Bale', u'Heath Ledger', u'Aaron E...     True   \n",
       "6       161  [u'Clint Eastwood', u'Eli Wallach', u'Lee Van ...     True   \n",
       "\n",
       "                                           genre_url  \n",
       "0    https://www.imdb.com/search/title/?genres=Crime  \n",
       "1    https://www.imdb.com/search/title/?genres=Crime  \n",
       "2    https://www.imdb.com/search/title/?genres=Crime  \n",
       "3   https://www.imdb.com/search/title/?genres=Action  \n",
       "6  https://www.imdb.com/search/title/?genres=Western  "
      ]
     },
     "execution_count": 34,
     "metadata": {},
     "output_type": "execute_result"
    }
   ],
   "source": [
    "# I used a different method above, but this is better, as it specifies we're searching the first three characters of the string.\n",
    "movie_df[movie_df[\"title\"].str[:3] == \"The\"].head()"
   ]
  },
  {
   "cell_type": "code",
   "execution_count": 96,
   "id": "4afa8f02-d0fb-4e68-9513-2ea704bf44c0",
   "metadata": {},
   "outputs": [
    {
     "data": {
      "text/plain": [
       "313"
      ]
     },
     "execution_count": 96,
     "metadata": {},
     "output_type": "execute_result"
    }
   ],
   "source": [
    "len(movie_df[movie_df[\"title\"].str.contains(\"The\", case=False)])"
   ]
  },
  {
   "cell_type": "code",
   "execution_count": 35,
   "id": "248d25d8-d783-4b1f-9816-2a9c73ba0c2d",
   "metadata": {},
   "outputs": [
    {
     "data": {
      "text/plain": [
       "223"
      ]
     },
     "execution_count": 35,
     "metadata": {},
     "output_type": "execute_result"
    }
   ],
   "source": [
    "# And the difference is clear in the value counts for the movies that start with \"The\"\n",
    "# versus movies that have \"The\" in them\n",
    "len(movie_df[movie_df[\"title\"].str[:3] == \"The\"])"
   ]
  },
  {
   "cell_type": "markdown",
   "id": "23b983a1-9797-46da-84fd-4e42fd45552f",
   "metadata": {},
   "source": [
    "#### What movie title has the most characters in its name? "
   ]
  },
  {
   "cell_type": "code",
   "execution_count": 36,
   "id": "0a14c34f-4cdb-435a-80d1-25b8fee8c2ff",
   "metadata": {},
   "outputs": [],
   "source": [
    "movie_df[\"title_length\"] = movie_df[\"title\"].str.len()"
   ]
  },
  {
   "cell_type": "code",
   "execution_count": 37,
   "id": "ca993fa8-9aa4-47a9-9d17-f5b069198544",
   "metadata": {},
   "outputs": [
    {
     "data": {
      "text/plain": [
       "68"
      ]
     },
     "execution_count": 37,
     "metadata": {},
     "output_type": "execute_result"
    }
   ],
   "source": [
    "movie_df[\"title_length\"].max()"
   ]
  },
  {
   "cell_type": "code",
   "execution_count": 38,
   "id": "b93fc762-48cb-4ce6-a01a-18dacd0d36bb",
   "metadata": {},
   "outputs": [
    {
     "data": {
      "text/html": [
       "<div>\n",
       "<style scoped>\n",
       "    .dataframe tbody tr th:only-of-type {\n",
       "        vertical-align: middle;\n",
       "    }\n",
       "\n",
       "    .dataframe tbody tr th {\n",
       "        vertical-align: top;\n",
       "    }\n",
       "\n",
       "    .dataframe thead th {\n",
       "        text-align: right;\n",
       "    }\n",
       "</style>\n",
       "<table border=\"1\" class=\"dataframe\">\n",
       "  <thead>\n",
       "    <tr style=\"text-align: right;\">\n",
       "      <th></th>\n",
       "      <th>star_rating</th>\n",
       "      <th>title</th>\n",
       "      <th>content_rating</th>\n",
       "      <th>genre</th>\n",
       "      <th>duration</th>\n",
       "      <th>actors_list</th>\n",
       "      <th>is_long</th>\n",
       "      <th>genre_url</th>\n",
       "      <th>title_length</th>\n",
       "    </tr>\n",
       "  </thead>\n",
       "  <tbody>\n",
       "    <tr>\n",
       "      <th>48</th>\n",
       "      <td>8.5</td>\n",
       "      <td>Dr. Strangelove or: How I Learned to Stop Worr...</td>\n",
       "      <td>PG</td>\n",
       "      <td>Comedy</td>\n",
       "      <td>95</td>\n",
       "      <td>[u'Peter Sellers', u'George C. Scott', u'Sterl...</td>\n",
       "      <td>False</td>\n",
       "      <td>https://www.imdb.com/search/title/?genres=Comedy</td>\n",
       "      <td>68</td>\n",
       "    </tr>\n",
       "  </tbody>\n",
       "</table>\n",
       "</div>"
      ],
      "text/plain": [
       "    star_rating                                              title  \\\n",
       "48          8.5  Dr. Strangelove or: How I Learned to Stop Worr...   \n",
       "\n",
       "   content_rating   genre  duration  \\\n",
       "48             PG  Comedy        95   \n",
       "\n",
       "                                          actors_list  is_long  \\\n",
       "48  [u'Peter Sellers', u'George C. Scott', u'Sterl...    False   \n",
       "\n",
       "                                           genre_url  title_length  \n",
       "48  https://www.imdb.com/search/title/?genres=Comedy            68  "
      ]
     },
     "execution_count": 38,
     "metadata": {},
     "output_type": "execute_result"
    }
   ],
   "source": [
    "movie_df[movie_df[\"title_length\"] == 68]"
   ]
  },
  {
   "cell_type": "markdown",
   "id": "5e3ea9b6-9205-426b-8ab8-f99262c6faa3",
   "metadata": {},
   "source": [
    "#### What percentage of all the movies are in the crime genre? "
   ]
  },
  {
   "cell_type": "code",
   "execution_count": 39,
   "id": "51745d7d-829d-4b61-b717-8437cd520aa7",
   "metadata": {},
   "outputs": [
    {
     "data": {
      "text/plain": [
       "Drama        28.396323\n",
       "Comedy       15.934627\n",
       "Action       13.891726\n",
       "Crime        12.665986\n",
       "Biography     7.865169\n",
       "Adventure     7.660878\n",
       "Animation     6.332993\n",
       "Horror        2.962206\n",
       "Mystery       1.634321\n",
       "Western       0.919305\n",
       "Sci-Fi        0.510725\n",
       "Thriller      0.510725\n",
       "Film-Noir     0.306435\n",
       "Family        0.204290\n",
       "History       0.102145\n",
       "Fantasy       0.102145\n",
       "Name: genre, dtype: float64"
      ]
     },
     "execution_count": 39,
     "metadata": {},
     "output_type": "execute_result"
    }
   ],
   "source": [
    "movie_df.genre.value_counts(normalize=True) * 100"
   ]
  },
  {
   "cell_type": "markdown",
   "id": "4483c96a-bdf2-4ce9-859d-3b352400089c",
   "metadata": {},
   "source": [
    "#### What percentage of movies featuring Meryl Streep are 'long' vs. 'not long'?"
   ]
  },
  {
   "cell_type": "code",
   "execution_count": 40,
   "id": "d44ecb8b-a194-45e1-a9a3-f3d66da4e7cd",
   "metadata": {},
   "outputs": [],
   "source": [
    "meryl_streep = (\n",
    "    movie_df[movie_df[\"actors_list\"].str.contains(\"Meryl Streep\")]\n",
    "    .groupby([\"is_long\"])\n",
    "    .size()\n",
    ").reset_index(name=\"count\")"
   ]
  },
  {
   "cell_type": "code",
   "execution_count": 43,
   "id": "34ee17c2-1b86-4429-9d1a-6652a6e674df",
   "metadata": {},
   "outputs": [
    {
     "data": {
      "text/html": [
       "<div>\n",
       "<style scoped>\n",
       "    .dataframe tbody tr th:only-of-type {\n",
       "        vertical-align: middle;\n",
       "    }\n",
       "\n",
       "    .dataframe tbody tr th {\n",
       "        vertical-align: top;\n",
       "    }\n",
       "\n",
       "    .dataframe thead th {\n",
       "        text-align: right;\n",
       "    }\n",
       "</style>\n",
       "<table border=\"1\" class=\"dataframe\">\n",
       "  <thead>\n",
       "    <tr style=\"text-align: right;\">\n",
       "      <th></th>\n",
       "      <th>is_long</th>\n",
       "      <th>count</th>\n",
       "      <th>is_long_share</th>\n",
       "    </tr>\n",
       "  </thead>\n",
       "  <tbody>\n",
       "    <tr>\n",
       "      <th>0</th>\n",
       "      <td>False</td>\n",
       "      <td>6</td>\n",
       "      <td>86.0</td>\n",
       "    </tr>\n",
       "    <tr>\n",
       "      <th>1</th>\n",
       "      <td>True</td>\n",
       "      <td>1</td>\n",
       "      <td>14.0</td>\n",
       "    </tr>\n",
       "  </tbody>\n",
       "</table>\n",
       "</div>"
      ],
      "text/plain": [
       "   is_long  count  is_long_share\n",
       "0    False      6           86.0\n",
       "1     True      1           14.0"
      ]
     },
     "execution_count": 43,
     "metadata": {},
     "output_type": "execute_result"
    }
   ],
   "source": [
    "meryl_streep[\"is_long_share\"] = (\n",
    "    meryl_streep[\"count\"] / meryl_streep[\"count\"].sum()\n",
    ").round(2) * 100\n",
    "meryl_streep"
   ]
  }
 ],
 "metadata": {
  "kernelspec": {
   "display_name": "Python 3 (ipykernel)",
   "language": "python",
   "name": "python3"
  },
  "language_info": {
   "codemirror_mode": {
    "name": "ipython",
    "version": 3
   },
   "file_extension": ".py",
   "mimetype": "text/x-python",
   "name": "python",
   "nbconvert_exporter": "python",
   "pygments_lexer": "ipython3",
   "version": "3.9.7"
  }
 },
 "nbformat": 4,
 "nbformat_minor": 5
}
