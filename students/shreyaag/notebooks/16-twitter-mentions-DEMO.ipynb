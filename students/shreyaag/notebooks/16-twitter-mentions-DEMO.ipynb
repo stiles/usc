{
 "cells": [
  {
   "cell_type": "markdown",
   "id": "6f9698f2-d8a4-4b13-a892-a22881981be2",
   "metadata": {},
   "source": [
    "# How often is 'x' mentioned on Twitter?\n",
    "##### *Counts pulled with the Twarc library. [Check it out](https://twarc-project.readthedocs.io/en/latest/twarc2_en_us/)*. "
   ]
  },
  {
   "cell_type": "markdown",
   "id": "0812ac7a-b561-49d0-80a3-0988bd1576fe",
   "metadata": {},
   "source": [
    "#### Load Python tools"
   ]
  },
  {
   "cell_type": "code",
   "execution_count": 1,
   "id": "c851cdf3-89dd-485a-b949-7aeac65d45be",
   "metadata": {},
   "outputs": [],
   "source": [
    "%load_ext lab_black"
   ]
  },
  {
   "cell_type": "code",
   "execution_count": 2,
   "id": "9daa0f89-eef6-4ca1-aadf-c6239249a24b",
   "metadata": {},
   "outputs": [],
   "source": [
    "import pandas as pd\n",
    "import altair as alt"
   ]
  },
  {
   "cell_type": "code",
   "execution_count": 3,
   "id": "d419d9cd-cfeb-4162-a82e-649042190d51",
   "metadata": {},
   "outputs": [],
   "source": [
    "pd.options.display.max_columns = 1000\n",
    "pd.options.display.max_rows = 1000"
   ]
  },
  {
   "cell_type": "markdown",
   "id": "f5883cdb-a884-4458-b847-5e5913ef9c74",
   "metadata": {},
   "source": [
    "---"
   ]
  },
  {
   "cell_type": "markdown",
   "id": "10a3d778-1a4a-4c87-bcb8-33c7df768b81",
   "metadata": {},
   "source": [
    "#### Read data"
   ]
  },
  {
   "cell_type": "code",
   "execution_count": 4,
   "id": "cf556015-64fd-4cdd-87ae-5aedc933f9d8",
   "metadata": {},
   "outputs": [],
   "source": [
    "# mentioned = \"USC\"\n",
    "\n",
    "# src = pd.read_csv(\n",
    "#     \"../data/raw/usc_mentions_daily.csv\", parse_dates=[\"start\", \"end\"]\n",
    "# ).sort_values(\"start\", ascending=False)"
   ]
  },
  {
   "cell_type": "code",
   "execution_count": 42,
   "id": "0a3d7e0b-efca-4566-b6d3-9b853f8741ff",
   "metadata": {},
   "outputs": [],
   "source": [
    "mentioned = \"elonmusk\"\n",
    "\n",
    "src = pd.read_csv(\n",
    "    \"https://raw.githubusercontent.com/stiles/usc/main/data/raw/elonmusk_mentions_daily_full_name.csv\",\n",
    "    parse_dates=[\"start\", \"end\"],\n",
    ").sort_values(\"start\", ascending=False)"
   ]
  },
  {
   "cell_type": "markdown",
   "id": "4415a1f6-184a-434d-b4ab-9f6f9879fab0",
   "metadata": {},
   "source": [
    "#### Process dates"
   ]
  },
  {
   "cell_type": "code",
   "execution_count": 6,
   "id": "9024b34b-8e11-44ad-92b7-87b0f99b2ae3",
   "metadata": {},
   "outputs": [],
   "source": [
    "src[\"year\"] = pd.to_datetime(src[\"start\"]).dt.strftime(\"%Y\")\n",
    "src[\"month_year\"] = pd.to_datetime(src[\"start\"]).dt.strftime(\"%Y-%m\")\n",
    "src[\"date\"] = pd.to_datetime(src[\"start\"]).dt.strftime(\"%Y-%m-%d\")"
   ]
  },
  {
   "cell_type": "code",
   "execution_count": 8,
   "id": "42b05272-1344-4358-a55a-a05baa66010e",
   "metadata": {},
   "outputs": [
    {
     "data": {
      "text/html": [
       "<div>\n",
       "<style scoped>\n",
       "    .dataframe tbody tr th:only-of-type {\n",
       "        vertical-align: middle;\n",
       "    }\n",
       "\n",
       "    .dataframe tbody tr th {\n",
       "        vertical-align: top;\n",
       "    }\n",
       "\n",
       "    .dataframe thead th {\n",
       "        text-align: right;\n",
       "    }\n",
       "</style>\n",
       "<table border=\"1\" class=\"dataframe\">\n",
       "  <thead>\n",
       "    <tr style=\"text-align: right;\">\n",
       "      <th></th>\n",
       "      <th>start</th>\n",
       "      <th>end</th>\n",
       "      <th>day_count</th>\n",
       "      <th>year</th>\n",
       "      <th>month_year</th>\n",
       "      <th>date</th>\n",
       "    </tr>\n",
       "  </thead>\n",
       "  <tbody>\n",
       "    <tr>\n",
       "      <th>30</th>\n",
       "      <td>2022-04-14 00:00:00+00:00</td>\n",
       "      <td>2022-04-14 17:43:29+00:00</td>\n",
       "      <td>529321</td>\n",
       "      <td>2022</td>\n",
       "      <td>2022-04</td>\n",
       "      <td>2022-04-14</td>\n",
       "    </tr>\n",
       "    <tr>\n",
       "      <th>29</th>\n",
       "      <td>2022-04-13 00:00:00+00:00</td>\n",
       "      <td>2022-04-14 00:00:00+00:00</td>\n",
       "      <td>81340</td>\n",
       "      <td>2022</td>\n",
       "      <td>2022-04</td>\n",
       "      <td>2022-04-13</td>\n",
       "    </tr>\n",
       "    <tr>\n",
       "      <th>28</th>\n",
       "      <td>2022-04-12 00:00:00+00:00</td>\n",
       "      <td>2022-04-13 00:00:00+00:00</td>\n",
       "      <td>83145</td>\n",
       "      <td>2022</td>\n",
       "      <td>2022-04</td>\n",
       "      <td>2022-04-12</td>\n",
       "    </tr>\n",
       "    <tr>\n",
       "      <th>27</th>\n",
       "      <td>2022-04-11 00:00:00+00:00</td>\n",
       "      <td>2022-04-12 00:00:00+00:00</td>\n",
       "      <td>182471</td>\n",
       "      <td>2022</td>\n",
       "      <td>2022-04</td>\n",
       "      <td>2022-04-11</td>\n",
       "    </tr>\n",
       "    <tr>\n",
       "      <th>26</th>\n",
       "      <td>2022-04-10 00:00:00+00:00</td>\n",
       "      <td>2022-04-11 00:00:00+00:00</td>\n",
       "      <td>95829</td>\n",
       "      <td>2022</td>\n",
       "      <td>2022-04</td>\n",
       "      <td>2022-04-10</td>\n",
       "    </tr>\n",
       "  </tbody>\n",
       "</table>\n",
       "</div>"
      ],
      "text/plain": [
       "                       start                       end  day_count  year  \\\n",
       "30 2022-04-14 00:00:00+00:00 2022-04-14 17:43:29+00:00     529321  2022   \n",
       "29 2022-04-13 00:00:00+00:00 2022-04-14 00:00:00+00:00      81340  2022   \n",
       "28 2022-04-12 00:00:00+00:00 2022-04-13 00:00:00+00:00      83145  2022   \n",
       "27 2022-04-11 00:00:00+00:00 2022-04-12 00:00:00+00:00     182471  2022   \n",
       "26 2022-04-10 00:00:00+00:00 2022-04-11 00:00:00+00:00      95829  2022   \n",
       "\n",
       "   month_year        date  \n",
       "30    2022-04  2022-04-14  \n",
       "29    2022-04  2022-04-13  \n",
       "28    2022-04  2022-04-12  \n",
       "27    2022-04  2022-04-11  \n",
       "26    2022-04  2022-04-10  "
      ]
     },
     "execution_count": 8,
     "metadata": {},
     "output_type": "execute_result"
    }
   ],
   "source": [
    "src.head()"
   ]
  },
  {
   "cell_type": "markdown",
   "id": "23b47438-2d31-4bea-be06-b2af82687113",
   "metadata": {},
   "source": [
    "#### Slim down and re-order the dataframe"
   ]
  },
  {
   "cell_type": "code",
   "execution_count": 9,
   "id": "99019675-57f2-4baa-87a9-caea703ed056",
   "metadata": {},
   "outputs": [],
   "source": [
    "df = src[[\"year\", \"month_year\", \"date\", \"day_count\"]].copy()"
   ]
  },
  {
   "cell_type": "code",
   "execution_count": null,
   "id": "0bcecb59-6dd9-406e-aa7a-345c71883a27",
   "metadata": {},
   "outputs": [],
   "source": []
  },
  {
   "cell_type": "markdown",
   "id": "e7931b73-84c4-4270-b448-2a0ec9658365",
   "metadata": {},
   "source": [
    "#### When was the first mention? "
   ]
  },
  {
   "cell_type": "code",
   "execution_count": 10,
   "id": "f8965c5a-00d0-446b-afaf-322eae4042fb",
   "metadata": {},
   "outputs": [
    {
     "data": {
      "text/html": [
       "<div>\n",
       "<style scoped>\n",
       "    .dataframe tbody tr th:only-of-type {\n",
       "        vertical-align: middle;\n",
       "    }\n",
       "\n",
       "    .dataframe tbody tr th {\n",
       "        vertical-align: top;\n",
       "    }\n",
       "\n",
       "    .dataframe thead th {\n",
       "        text-align: right;\n",
       "    }\n",
       "</style>\n",
       "<table border=\"1\" class=\"dataframe\">\n",
       "  <thead>\n",
       "    <tr style=\"text-align: right;\">\n",
       "      <th></th>\n",
       "      <th>year</th>\n",
       "      <th>month_year</th>\n",
       "      <th>date</th>\n",
       "      <th>day_count</th>\n",
       "    </tr>\n",
       "  </thead>\n",
       "  <tbody>\n",
       "    <tr>\n",
       "      <th>5501</th>\n",
       "      <td>2007</td>\n",
       "      <td>2007-03</td>\n",
       "      <td>2007-03-21</td>\n",
       "      <td>4</td>\n",
       "    </tr>\n",
       "  </tbody>\n",
       "</table>\n",
       "</div>"
      ],
      "text/plain": [
       "      year month_year        date  day_count\n",
       "5501  2007    2007-03  2007-03-21          4"
      ]
     },
     "execution_count": 10,
     "metadata": {},
     "output_type": "execute_result"
    }
   ],
   "source": [
    "df[df[\"day_count\"] > 0].tail(1)"
   ]
  },
  {
   "cell_type": "markdown",
   "id": "8d82379c-c28e-4a22-a966-9179c70adf59",
   "metadata": {},
   "source": [
    "#### Define that as a variable"
   ]
  },
  {
   "cell_type": "code",
   "execution_count": 19,
   "id": "569aa003-2888-4eab-9565-05b1498cabbe",
   "metadata": {},
   "outputs": [],
   "source": [
    "first = df[df[\"day_count\"] > 0][\"date\"].tail(1).iloc[0]"
   ]
  },
  {
   "cell_type": "code",
   "execution_count": 20,
   "id": "e9a7daa5-29c9-4fae-8349-f911dc186262",
   "metadata": {},
   "outputs": [
    {
     "data": {
      "text/plain": [
       "'2007-03-21'"
      ]
     },
     "execution_count": 20,
     "metadata": {},
     "output_type": "execute_result"
    }
   ],
   "source": [
    "first"
   ]
  },
  {
   "cell_type": "markdown",
   "id": "c7e1dbd9-e507-40f1-ae72-ed21d2546ccb",
   "metadata": {},
   "source": [
    "#### How many total mentions? "
   ]
  },
  {
   "cell_type": "code",
   "execution_count": 21,
   "id": "5632a682-5f99-4878-9e1a-aef87f7685ea",
   "metadata": {},
   "outputs": [
    {
     "data": {
      "text/plain": [
       "33300103"
      ]
     },
     "execution_count": 21,
     "metadata": {},
     "output_type": "execute_result"
    }
   ],
   "source": [
    "df.day_count.sum()"
   ]
  },
  {
   "cell_type": "markdown",
   "id": "b6f994e7-2ffd-4d2c-89ce-4477468746fa",
   "metadata": {},
   "source": [
    "#### Average mentions? "
   ]
  },
  {
   "cell_type": "code",
   "execution_count": 22,
   "id": "51aa75d7-94e4-42fb-a8e2-2be9a0193447",
   "metadata": {},
   "outputs": [
    {
     "data": {
      "text/plain": [
       "5673.897256772874"
      ]
     },
     "execution_count": 22,
     "metadata": {},
     "output_type": "execute_result"
    }
   ],
   "source": [
    "df.day_count.mean()"
   ]
  },
  {
   "cell_type": "markdown",
   "id": "7bcc0596-7a7a-4705-9388-d17446950fb4",
   "metadata": {},
   "source": [
    "#### Make a new dataframe starting from first mention"
   ]
  },
  {
   "cell_type": "code",
   "execution_count": 26,
   "id": "0933a22e-dc88-4480-bd4d-0f5dc7187ef2",
   "metadata": {},
   "outputs": [],
   "source": [
    "df_complete = df[df[\"date\"] >= first]"
   ]
  },
  {
   "cell_type": "markdown",
   "id": "6933d330-e47a-474a-bbb8-431e90f7fc8e",
   "metadata": {},
   "source": [
    "#### Which day was mentioned the most? "
   ]
  },
  {
   "cell_type": "code",
   "execution_count": 27,
   "id": "893d5332-add7-40a2-a14c-886e605a1b01",
   "metadata": {},
   "outputs": [
    {
     "data": {
      "text/html": [
       "<div>\n",
       "<style scoped>\n",
       "    .dataframe tbody tr th:only-of-type {\n",
       "        vertical-align: middle;\n",
       "    }\n",
       "\n",
       "    .dataframe tbody tr th {\n",
       "        vertical-align: top;\n",
       "    }\n",
       "\n",
       "    .dataframe thead th {\n",
       "        text-align: right;\n",
       "    }\n",
       "</style>\n",
       "<table border=\"1\" class=\"dataframe\">\n",
       "  <thead>\n",
       "    <tr style=\"text-align: right;\">\n",
       "      <th></th>\n",
       "      <th>year</th>\n",
       "      <th>month_year</th>\n",
       "      <th>date</th>\n",
       "      <th>day_count</th>\n",
       "    </tr>\n",
       "  </thead>\n",
       "  <tbody>\n",
       "    <tr>\n",
       "      <th>30</th>\n",
       "      <td>2022</td>\n",
       "      <td>2022-04</td>\n",
       "      <td>2022-04-14</td>\n",
       "      <td>529321</td>\n",
       "    </tr>\n",
       "  </tbody>\n",
       "</table>\n",
       "</div>"
      ],
      "text/plain": [
       "    year month_year        date  day_count\n",
       "30  2022    2022-04  2022-04-14     529321"
      ]
     },
     "execution_count": 27,
     "metadata": {},
     "output_type": "execute_result"
    }
   ],
   "source": [
    "df_complete[df_complete[\"day_count\"] == df_complete[\"day_count\"].max()]"
   ]
  },
  {
   "cell_type": "code",
   "execution_count": null,
   "id": "fd077e4f-c058-4edb-964d-a3870ebf448b",
   "metadata": {},
   "outputs": [],
   "source": []
  },
  {
   "cell_type": "code",
   "execution_count": null,
   "id": "e65bf9a6-ac73-43b7-8c30-d59202747454",
   "metadata": {},
   "outputs": [],
   "source": []
  },
  {
   "cell_type": "markdown",
   "id": "ce20a76a-334b-495d-a275-db81fa648887",
   "metadata": {},
   "source": [
    "#### Chart it"
   ]
  },
  {
   "cell_type": "code",
   "execution_count": 36,
   "id": "75816d58-3c63-4736-8fbd-4d0aea7aeec8",
   "metadata": {},
   "outputs": [
    {
     "data": {
      "text/html": [
       "\n",
       "<div id=\"altair-viz-4632c7e1889b4ed2a1dad70ec58ee375\"></div>\n",
       "<script type=\"text/javascript\">\n",
       "  var VEGA_DEBUG = (typeof VEGA_DEBUG == \"undefined\") ? {} : VEGA_DEBUG;\n",
       "  (function(spec, embedOpt){\n",
       "    let outputDiv = document.currentScript.previousElementSibling;\n",
       "    if (outputDiv.id !== \"altair-viz-4632c7e1889b4ed2a1dad70ec58ee375\") {\n",
       "      outputDiv = document.getElementById(\"altair-viz-4632c7e1889b4ed2a1dad70ec58ee375\");\n",
       "    }\n",
       "    const paths = {\n",
       "      \"vega\": \"https://cdn.jsdelivr.net/npm//vega@5?noext\",\n",
       "      \"vega-lib\": \"https://cdn.jsdelivr.net/npm//vega-lib?noext\",\n",
       "      \"vega-lite\": \"https://cdn.jsdelivr.net/npm//vega-lite@4.17.0?noext\",\n",
       "      \"vega-embed\": \"https://cdn.jsdelivr.net/npm//vega-embed@6?noext\",\n",
       "    };\n",
       "\n",
       "    function maybeLoadScript(lib, version) {\n",
       "      var key = `${lib.replace(\"-\", \"\")}_version`;\n",
       "      return (VEGA_DEBUG[key] == version) ?\n",
       "        Promise.resolve(paths[lib]) :\n",
       "        new Promise(function(resolve, reject) {\n",
       "          var s = document.createElement('script');\n",
       "          document.getElementsByTagName(\"head\")[0].appendChild(s);\n",
       "          s.async = true;\n",
       "          s.onload = () => {\n",
       "            VEGA_DEBUG[key] = version;\n",
       "            return resolve(paths[lib]);\n",
       "          };\n",
       "          s.onerror = () => reject(`Error loading script: ${paths[lib]}`);\n",
       "          s.src = paths[lib];\n",
       "        });\n",
       "    }\n",
       "\n",
       "    function showError(err) {\n",
       "      outputDiv.innerHTML = `<div class=\"error\" style=\"color:red;\">${err}</div>`;\n",
       "      throw err;\n",
       "    }\n",
       "\n",
       "    function displayChart(vegaEmbed) {\n",
       "      vegaEmbed(outputDiv, spec, embedOpt)\n",
       "        .catch(err => showError(`Javascript Error: ${err.message}<br>This usually means there's a typo in your chart specification. See the javascript console for the full traceback.`));\n",
       "    }\n",
       "\n",
       "    if(typeof define === \"function\" && define.amd) {\n",
       "      requirejs.config({paths});\n",
       "      require([\"vega-embed\"], displayChart, err => showError(`Error loading script: ${err.message}`));\n",
       "    } else {\n",
       "      maybeLoadScript(\"vega\", \"5\")\n",
       "        .then(() => maybeLoadScript(\"vega-lite\", \"4.17.0\"))\n",
       "        .then(() => maybeLoadScript(\"vega-embed\", \"6\"))\n",
       "        .catch(showError)\n",
       "        .then(() => displayChart(vegaEmbed));\n",
       "    }\n",
       "  })({\"config\": {\"view\": {\"continuousWidth\": 400, \"continuousHeight\": 300}}, \"data\": {\"name\": \"data-6975d51a4011df64dfa664a66accedef\"}, \"mark\": {\"type\": \"area\", \"color\": \"red\"}, \"encoding\": {\"x\": {\"field\": \"date\", \"type\": \"temporal\"}, \"y\": {\"field\": \"day_count\", \"type\": \"quantitative\"}}, \"width\": 900, \"$schema\": \"https://vega.github.io/schema/vega-lite/v4.17.0.json\", \"datasets\": {\"data-6975d51a4011df64dfa664a66accedef\": [{\"year\": \"2022\", \"month_year\": \"2022-04\", \"date\": \"2022-04-14\", \"day_count\": 529321}, {\"year\": \"2022\", \"month_year\": \"2022-04\", \"date\": \"2022-04-13\", \"day_count\": 81340}, {\"year\": \"2022\", \"month_year\": \"2022-04\", \"date\": \"2022-04-12\", \"day_count\": 83145}, {\"year\": \"2022\", \"month_year\": \"2022-04\", \"date\": \"2022-04-11\", \"day_count\": 182471}, {\"year\": \"2022\", \"month_year\": \"2022-04\", \"date\": \"2022-04-10\", \"day_count\": 95829}, {\"year\": \"2022\", \"month_year\": \"2022-04\", \"date\": \"2022-04-09\", \"day_count\": 86309}, {\"year\": \"2022\", \"month_year\": \"2022-04\", \"date\": \"2022-04-08\", \"day_count\": 111568}, {\"year\": \"2022\", \"month_year\": \"2022-04\", \"date\": \"2022-04-07\", \"day_count\": 99841}, {\"year\": \"2022\", \"month_year\": \"2022-04\", \"date\": \"2022-04-06\", \"day_count\": 194523}, {\"year\": \"2022\", \"month_year\": \"2022-04\", \"date\": \"2022-04-05\", \"day_count\": 385590}, {\"year\": \"2022\", \"month_year\": \"2022-04\", \"date\": \"2022-04-04\", \"day_count\": 256011}, {\"year\": \"2022\", \"month_year\": \"2022-04\", \"date\": \"2022-04-03\", \"day_count\": 26033}, {\"year\": \"2022\", \"month_year\": \"2022-04\", \"date\": \"2022-04-02\", \"day_count\": 15584}, {\"year\": \"2022\", \"month_year\": \"2022-04\", \"date\": \"2022-04-01\", \"day_count\": 17309}, {\"year\": \"2022\", \"month_year\": \"2022-03\", \"date\": \"2022-03-31\", \"day_count\": 12721}, {\"year\": \"2022\", \"month_year\": \"2022-03\", \"date\": \"2022-03-30\", \"day_count\": 22769}, {\"year\": \"2022\", \"month_year\": \"2022-03\", \"date\": \"2022-03-29\", \"day_count\": 22964}, {\"year\": \"2022\", \"month_year\": \"2022-03\", \"date\": \"2022-03-28\", \"day_count\": 39405}, {\"year\": \"2022\", \"month_year\": \"2022-03\", \"date\": \"2022-03-27\", \"day_count\": 67126}, {\"year\": \"2022\", \"month_year\": \"2022-03\", \"date\": \"2022-03-26\", \"day_count\": 49954}, {\"year\": \"2022\", \"month_year\": \"2022-03\", \"date\": \"2022-03-25\", \"day_count\": 30689}, {\"year\": \"2022\", \"month_year\": \"2022-03\", \"date\": \"2022-03-24\", \"day_count\": 18410}, {\"year\": \"2022\", \"month_year\": \"2022-03\", \"date\": \"2022-03-23\", \"day_count\": 26533}, {\"year\": \"2022\", \"month_year\": \"2022-03\", \"date\": \"2022-03-22\", \"day_count\": 29304}, {\"year\": \"2022\", \"month_year\": \"2022-03\", \"date\": \"2022-03-21\", \"day_count\": 23062}, {\"year\": \"2022\", \"month_year\": \"2022-03\", \"date\": \"2022-03-20\", \"day_count\": 19857}, {\"year\": \"2022\", \"month_year\": \"2022-03\", \"date\": \"2022-03-19\", \"day_count\": 23583}, {\"year\": \"2022\", \"month_year\": \"2022-03\", \"date\": \"2022-03-18\", \"day_count\": 34958}, {\"year\": \"2022\", \"month_year\": \"2022-03\", \"date\": \"2022-03-17\", \"day_count\": 39301}, {\"year\": \"2022\", \"month_year\": \"2022-03\", \"date\": \"2022-03-16\", \"day_count\": 42433}, {\"year\": \"2022\", \"month_year\": \"2022-03\", \"date\": \"2022-03-15\", \"day_count\": 65932}, {\"year\": \"2022\", \"month_year\": \"2022-03\", \"date\": \"2022-03-14\", \"day_count\": 93389}, {\"year\": \"2022\", \"month_year\": \"2022-03\", \"date\": \"2022-03-13\", \"day_count\": 18060}, {\"year\": \"2022\", \"month_year\": \"2022-03\", \"date\": \"2022-03-12\", \"day_count\": 21450}, {\"year\": \"2022\", \"month_year\": \"2022-03\", \"date\": \"2022-03-11\", \"day_count\": 28587}, {\"year\": \"2022\", \"month_year\": \"2022-03\", \"date\": \"2022-03-10\", \"day_count\": 37529}, {\"year\": \"2022\", \"month_year\": \"2022-03\", \"date\": \"2022-03-09\", \"day_count\": 38181}, {\"year\": \"2022\", \"month_year\": \"2022-03\", \"date\": \"2022-03-08\", \"day_count\": 45743}, {\"year\": \"2022\", \"month_year\": \"2022-03\", \"date\": \"2022-03-07\", \"day_count\": 41514}, {\"year\": \"2022\", \"month_year\": \"2022-03\", \"date\": \"2022-03-06\", \"day_count\": 91338}, {\"year\": \"2022\", \"month_year\": \"2022-03\", \"date\": \"2022-03-05\", \"day_count\": 94516}, {\"year\": \"2022\", \"month_year\": \"2022-03\", \"date\": \"2022-03-04\", \"day_count\": 28934}, {\"year\": \"2022\", \"month_year\": \"2022-03\", \"date\": \"2022-03-03\", \"day_count\": 44448}, {\"year\": \"2022\", \"month_year\": \"2022-03\", \"date\": \"2022-03-02\", \"day_count\": 36418}, {\"year\": \"2022\", \"month_year\": \"2022-03\", \"date\": \"2022-03-01\", \"day_count\": 57917}, {\"year\": \"2022\", \"month_year\": \"2022-02\", \"date\": \"2022-02-28\", \"day_count\": 52064}, {\"year\": \"2022\", \"month_year\": \"2022-02\", \"date\": \"2022-02-27\", \"day_count\": 140717}, {\"year\": \"2022\", \"month_year\": \"2022-02\", \"date\": \"2022-02-26\", \"day_count\": 35745}, {\"year\": \"2022\", \"month_year\": \"2022-02\", \"date\": \"2022-02-25\", \"day_count\": 20549}, {\"year\": \"2022\", \"month_year\": \"2022-02\", \"date\": \"2022-02-24\", \"day_count\": 23449}, {\"year\": \"2022\", \"month_year\": \"2022-02\", \"date\": \"2022-02-23\", \"day_count\": 34696}, {\"year\": \"2022\", \"month_year\": \"2022-02\", \"date\": \"2022-02-22\", \"day_count\": 21270}, {\"year\": \"2022\", \"month_year\": \"2022-02\", \"date\": \"2022-02-21\", \"day_count\": 30006}, {\"year\": \"2022\", \"month_year\": \"2022-02\", \"date\": \"2022-02-20\", \"day_count\": 27814}, {\"year\": \"2022\", \"month_year\": \"2022-02\", \"date\": \"2022-02-19\", \"day_count\": 39383}, {\"year\": \"2022\", \"month_year\": \"2022-02\", \"date\": \"2022-02-18\", \"day_count\": 85577}, {\"year\": \"2022\", \"month_year\": \"2022-02\", \"date\": \"2022-02-17\", \"day_count\": 62698}, {\"year\": \"2022\", \"month_year\": \"2022-02\", \"date\": \"2022-02-16\", \"day_count\": 30968}, {\"year\": \"2022\", \"month_year\": \"2022-02\", \"date\": \"2022-02-15\", \"day_count\": 36892}, {\"year\": \"2022\", \"month_year\": \"2022-02\", \"date\": \"2022-02-14\", \"day_count\": 28406}, {\"year\": \"2022\", \"month_year\": \"2022-02\", \"date\": \"2022-02-13\", \"day_count\": 55497}, {\"year\": \"2022\", \"month_year\": \"2022-02\", \"date\": \"2022-02-12\", \"day_count\": 51257}, {\"year\": \"2022\", \"month_year\": \"2022-02\", \"date\": \"2022-02-11\", \"day_count\": 50414}, {\"year\": \"2022\", \"month_year\": \"2022-02\", \"date\": \"2022-02-10\", \"day_count\": 28268}, {\"year\": \"2022\", \"month_year\": \"2022-02\", \"date\": \"2022-02-09\", \"day_count\": 20146}, {\"year\": \"2022\", \"month_year\": \"2022-02\", \"date\": \"2022-02-08\", \"day_count\": 18747}, {\"year\": \"2022\", \"month_year\": \"2022-02\", \"date\": \"2022-02-07\", \"day_count\": 24014}, {\"year\": \"2022\", \"month_year\": \"2022-02\", \"date\": \"2022-02-06\", \"day_count\": 37595}, {\"year\": \"2022\", \"month_year\": \"2022-02\", \"date\": \"2022-02-05\", \"day_count\": 49367}, {\"year\": \"2022\", \"month_year\": \"2022-02\", \"date\": \"2022-02-04\", \"day_count\": 20079}, {\"year\": \"2022\", \"month_year\": \"2022-02\", \"date\": \"2022-02-03\", \"day_count\": 22291}, {\"year\": \"2022\", \"month_year\": \"2022-02\", \"date\": \"2022-02-02\", \"day_count\": 25713}, {\"year\": \"2022\", \"month_year\": \"2022-02\", \"date\": \"2022-02-01\", \"day_count\": 38173}, {\"year\": \"2022\", \"month_year\": \"2022-01\", \"date\": \"2022-01-31\", \"day_count\": 69379}, {\"year\": \"2022\", \"month_year\": \"2022-01\", \"date\": \"2022-01-30\", \"day_count\": 45044}, {\"year\": \"2022\", \"month_year\": \"2022-01\", \"date\": \"2022-01-29\", \"day_count\": 45830}, {\"year\": \"2022\", \"month_year\": \"2022-01\", \"date\": \"2022-01-28\", \"day_count\": 123265}, {\"year\": \"2022\", \"month_year\": \"2022-01\", \"date\": \"2022-01-27\", \"day_count\": 44345}, {\"year\": \"2022\", \"month_year\": \"2022-01\", \"date\": \"2022-01-26\", \"day_count\": 32247}, {\"year\": \"2022\", \"month_year\": \"2022-01\", \"date\": \"2022-01-25\", \"day_count\": 22042}, {\"year\": \"2022\", \"month_year\": \"2022-01\", \"date\": \"2022-01-24\", \"day_count\": 29839}, {\"year\": \"2022\", \"month_year\": \"2022-01\", \"date\": \"2022-01-23\", \"day_count\": 38105}, {\"year\": \"2022\", \"month_year\": \"2022-01\", \"date\": \"2022-01-22\", \"day_count\": 16310}, {\"year\": \"2022\", \"month_year\": \"2022-01\", \"date\": \"2022-01-21\", \"day_count\": 23079}, {\"year\": \"2022\", \"month_year\": \"2022-01\", \"date\": \"2022-01-20\", \"day_count\": 17995}, {\"year\": \"2022\", \"month_year\": \"2022-01\", \"date\": \"2022-01-19\", \"day_count\": 18191}, {\"year\": \"2022\", \"month_year\": \"2022-01\", \"date\": \"2022-01-18\", \"day_count\": 21588}, {\"year\": \"2022\", \"month_year\": \"2022-01\", \"date\": \"2022-01-17\", \"day_count\": 33459}, {\"year\": \"2022\", \"month_year\": \"2022-01\", \"date\": \"2022-01-16\", \"day_count\": 29859}, {\"year\": \"2022\", \"month_year\": \"2022-01\", \"date\": \"2022-01-15\", \"day_count\": 19922}, {\"year\": \"2022\", \"month_year\": \"2022-01\", \"date\": \"2022-01-14\", \"day_count\": 23654}, {\"year\": \"2022\", \"month_year\": \"2022-01\", \"date\": \"2022-01-13\", \"day_count\": 13046}, {\"year\": \"2022\", \"month_year\": \"2022-01\", \"date\": \"2022-01-12\", \"day_count\": 11715}, {\"year\": \"2022\", \"month_year\": \"2022-01\", \"date\": \"2022-01-11\", \"day_count\": 14022}, {\"year\": \"2022\", \"month_year\": \"2022-01\", \"date\": \"2022-01-10\", \"day_count\": 19405}, {\"year\": \"2022\", \"month_year\": \"2022-01\", \"date\": \"2022-01-09\", \"day_count\": 19037}, {\"year\": \"2022\", \"month_year\": \"2022-01\", \"date\": \"2022-01-08\", \"day_count\": 14406}, {\"year\": \"2022\", \"month_year\": \"2022-01\", \"date\": \"2022-01-07\", \"day_count\": 22098}, {\"year\": \"2022\", \"month_year\": \"2022-01\", \"date\": \"2022-01-06\", \"day_count\": 18180}, {\"year\": \"2022\", \"month_year\": \"2022-01\", \"date\": \"2022-01-05\", \"day_count\": 33506}, {\"year\": \"2022\", \"month_year\": \"2022-01\", \"date\": \"2022-01-04\", \"day_count\": 46441}, {\"year\": \"2022\", \"month_year\": \"2022-01\", \"date\": \"2022-01-03\", \"day_count\": 26969}, {\"year\": \"2022\", \"month_year\": \"2022-01\", \"date\": \"2022-01-02\", \"day_count\": 28568}, {\"year\": \"2022\", \"month_year\": \"2022-01\", \"date\": \"2022-01-01\", \"day_count\": 30464}, {\"year\": \"2021\", \"month_year\": \"2021-12\", \"date\": \"2021-12-31\", \"day_count\": 27179}, {\"year\": \"2021\", \"month_year\": \"2021-12\", \"date\": \"2021-12-30\", \"day_count\": 30476}, {\"year\": \"2021\", \"month_year\": \"2021-12\", \"date\": \"2021-12-29\", \"day_count\": 38443}, {\"year\": \"2021\", \"month_year\": \"2021-12\", \"date\": \"2021-12-28\", \"day_count\": 30405}, {\"year\": \"2021\", \"month_year\": \"2021-12\", \"date\": \"2021-12-27\", \"day_count\": 34414}, {\"year\": \"2021\", \"month_year\": \"2021-12\", \"date\": \"2021-12-26\", \"day_count\": 22923}, {\"year\": \"2021\", \"month_year\": \"2021-12\", \"date\": \"2021-12-25\", \"day_count\": 21803}, {\"year\": \"2021\", \"month_year\": \"2021-12\", \"date\": \"2021-12-24\", \"day_count\": 38138}, {\"year\": \"2021\", \"month_year\": \"2021-12\", \"date\": \"2021-12-23\", \"day_count\": 46206}, {\"year\": \"2021\", \"month_year\": \"2021-12\", \"date\": \"2021-12-22\", \"day_count\": 66813}, {\"year\": \"2021\", \"month_year\": \"2021-12\", \"date\": \"2021-12-21\", \"day_count\": 54336}, {\"year\": \"2021\", \"month_year\": \"2021-12\", \"date\": \"2021-12-20\", \"day_count\": 49470}, {\"year\": \"2021\", \"month_year\": \"2021-12\", \"date\": \"2021-12-19\", \"day_count\": 44658}, {\"year\": \"2021\", \"month_year\": \"2021-12\", \"date\": \"2021-12-18\", \"day_count\": 57135}, {\"year\": \"2021\", \"month_year\": \"2021-12\", \"date\": \"2021-12-17\", \"day_count\": 79127}, {\"year\": \"2021\", \"month_year\": \"2021-12\", \"date\": \"2021-12-16\", \"day_count\": 79699}, {\"year\": \"2021\", \"month_year\": \"2021-12\", \"date\": \"2021-12-15\", \"day_count\": 140831}, {\"year\": \"2021\", \"month_year\": \"2021-12\", \"date\": \"2021-12-14\", \"day_count\": 157059}, {\"year\": \"2021\", \"month_year\": \"2021-12\", \"date\": \"2021-12-13\", \"day_count\": 142298}, {\"year\": \"2021\", \"month_year\": \"2021-12\", \"date\": \"2021-12-12\", \"day_count\": 19111}, {\"year\": \"2021\", \"month_year\": \"2021-12\", \"date\": \"2021-12-11\", \"day_count\": 24157}, {\"year\": \"2021\", \"month_year\": \"2021-12\", \"date\": \"2021-12-10\", \"day_count\": 33437}, {\"year\": \"2021\", \"month_year\": \"2021-12\", \"date\": \"2021-12-09\", \"day_count\": 25233}, {\"year\": \"2021\", \"month_year\": \"2021-12\", \"date\": \"2021-12-08\", \"day_count\": 59582}, {\"year\": \"2021\", \"month_year\": \"2021-12\", \"date\": \"2021-12-07\", \"day_count\": 62102}, {\"year\": \"2021\", \"month_year\": \"2021-12\", \"date\": \"2021-12-06\", \"day_count\": 13585}, {\"year\": \"2021\", \"month_year\": \"2021-12\", \"date\": \"2021-12-05\", \"day_count\": 14268}, {\"year\": \"2021\", \"month_year\": \"2021-12\", \"date\": \"2021-12-04\", \"day_count\": 19262}, {\"year\": \"2021\", \"month_year\": \"2021-12\", \"date\": \"2021-12-03\", \"day_count\": 17565}, {\"year\": \"2021\", \"month_year\": \"2021-12\", \"date\": \"2021-12-02\", \"day_count\": 14676}, {\"year\": \"2021\", \"month_year\": \"2021-12\", \"date\": \"2021-12-01\", \"day_count\": 16300}, {\"year\": \"2021\", \"month_year\": \"2021-11\", \"date\": \"2021-11-30\", \"day_count\": 17019}, {\"year\": \"2021\", \"month_year\": \"2021-11\", \"date\": \"2021-11-29\", \"day_count\": 15614}, {\"year\": \"2021\", \"month_year\": \"2021-11\", \"date\": \"2021-11-28\", \"day_count\": 14633}, {\"year\": \"2021\", \"month_year\": \"2021-11\", \"date\": \"2021-11-27\", \"day_count\": 15076}, {\"year\": \"2021\", \"month_year\": \"2021-11\", \"date\": \"2021-11-26\", \"day_count\": 13245}, {\"year\": \"2021\", \"month_year\": \"2021-11\", \"date\": \"2021-11-25\", \"day_count\": 19971}, {\"year\": \"2021\", \"month_year\": \"2021-11\", \"date\": \"2021-11-24\", \"day_count\": 32053}, {\"year\": \"2021\", \"month_year\": \"2021-11\", \"date\": \"2021-11-23\", \"day_count\": 28861}, {\"year\": \"2021\", \"month_year\": \"2021-11\", \"date\": \"2021-11-22\", \"day_count\": 28109}, {\"year\": \"2021\", \"month_year\": \"2021-11\", \"date\": \"2021-11-21\", \"day_count\": 16595}, {\"year\": \"2021\", \"month_year\": \"2021-11\", \"date\": \"2021-11-20\", \"day_count\": 20387}, {\"year\": \"2021\", \"month_year\": \"2021-11\", \"date\": \"2021-11-19\", \"day_count\": 26934}, {\"year\": \"2021\", \"month_year\": \"2021-11\", \"date\": \"2021-11-18\", \"day_count\": 28781}, {\"year\": \"2021\", \"month_year\": \"2021-11\", \"date\": \"2021-11-17\", \"day_count\": 34365}, {\"year\": \"2021\", \"month_year\": \"2021-11\", \"date\": \"2021-11-16\", \"day_count\": 61012}, {\"year\": \"2021\", \"month_year\": \"2021-11\", \"date\": \"2021-11-15\", \"day_count\": 124351}, {\"year\": \"2021\", \"month_year\": \"2021-11\", \"date\": \"2021-11-14\", \"day_count\": 53839}, {\"year\": \"2021\", \"month_year\": \"2021-11\", \"date\": \"2021-11-13\", \"day_count\": 24144}, {\"year\": \"2021\", \"month_year\": \"2021-11\", \"date\": \"2021-11-12\", \"day_count\": 23702}, {\"year\": \"2021\", \"month_year\": \"2021-11\", \"date\": \"2021-11-11\", \"day_count\": 39694}, {\"year\": \"2021\", \"month_year\": \"2021-11\", \"date\": \"2021-11-10\", \"day_count\": 23399}, {\"year\": \"2021\", \"month_year\": \"2021-11\", \"date\": \"2021-11-09\", \"day_count\": 33566}, {\"year\": \"2021\", \"month_year\": \"2021-11\", \"date\": \"2021-11-08\", \"day_count\": 58309}, {\"year\": \"2021\", \"month_year\": \"2021-11\", \"date\": \"2021-11-07\", \"day_count\": 35975}, {\"year\": \"2021\", \"month_year\": \"2021-11\", \"date\": \"2021-11-06\", \"day_count\": 22625}, {\"year\": \"2021\", \"month_year\": \"2021-11\", \"date\": \"2021-11-05\", \"day_count\": 17828}, {\"year\": \"2021\", \"month_year\": \"2021-11\", \"date\": \"2021-11-04\", \"day_count\": 18529}, {\"year\": \"2021\", \"month_year\": \"2021-11\", \"date\": \"2021-11-03\", \"day_count\": 38205}, {\"year\": \"2021\", \"month_year\": \"2021-11\", \"date\": \"2021-11-02\", \"day_count\": 120805}, {\"year\": \"2021\", \"month_year\": \"2021-11\", \"date\": \"2021-11-01\", \"day_count\": 109327}, {\"year\": \"2021\", \"month_year\": \"2021-10\", \"date\": \"2021-10-31\", \"day_count\": 27322}, {\"year\": \"2021\", \"month_year\": \"2021-10\", \"date\": \"2021-10-30\", \"day_count\": 26349}, {\"year\": \"2021\", \"month_year\": \"2021-10\", \"date\": \"2021-10-29\", \"day_count\": 44549}, {\"year\": \"2021\", \"month_year\": \"2021-10\", \"date\": \"2021-10-28\", \"day_count\": 53798}, {\"year\": \"2021\", \"month_year\": \"2021-10\", \"date\": \"2021-10-27\", \"day_count\": 99962}, {\"year\": \"2021\", \"month_year\": \"2021-10\", \"date\": \"2021-10-26\", \"day_count\": 58966}, {\"year\": \"2021\", \"month_year\": \"2021-10\", \"date\": \"2021-10-25\", \"day_count\": 40196}, {\"year\": \"2021\", \"month_year\": \"2021-10\", \"date\": \"2021-10-24\", \"day_count\": 18595}, {\"year\": \"2021\", \"month_year\": \"2021-10\", \"date\": \"2021-10-23\", \"day_count\": 14918}, {\"year\": \"2021\", \"month_year\": \"2021-10\", \"date\": \"2021-10-22\", \"day_count\": 18560}, {\"year\": \"2021\", \"month_year\": \"2021-10\", \"date\": \"2021-10-21\", \"day_count\": 14978}, {\"year\": \"2021\", \"month_year\": \"2021-10\", \"date\": \"2021-10-20\", \"day_count\": 21289}, {\"year\": \"2021\", \"month_year\": \"2021-10\", \"date\": \"2021-10-19\", \"day_count\": 24573}, {\"year\": \"2021\", \"month_year\": \"2021-10\", \"date\": \"2021-10-18\", \"day_count\": 19827}, {\"year\": \"2021\", \"month_year\": \"2021-10\", \"date\": \"2021-10-17\", \"day_count\": 10852}, {\"year\": \"2021\", \"month_year\": \"2021-10\", \"date\": \"2021-10-16\", \"day_count\": 13414}, {\"year\": \"2021\", \"month_year\": \"2021-10\", \"date\": \"2021-10-15\", \"day_count\": 15937}, {\"year\": \"2021\", \"month_year\": \"2021-10\", \"date\": \"2021-10-14\", \"day_count\": 47194}, {\"year\": \"2021\", \"month_year\": \"2021-10\", \"date\": \"2021-10-13\", \"day_count\": 14405}, {\"year\": \"2021\", \"month_year\": \"2021-10\", \"date\": \"2021-10-12\", \"day_count\": 14957}, {\"year\": \"2021\", \"month_year\": \"2021-10\", \"date\": \"2021-10-11\", \"day_count\": 17431}, {\"year\": \"2021\", \"month_year\": \"2021-10\", \"date\": \"2021-10-10\", \"day_count\": 19225}, {\"year\": \"2021\", \"month_year\": \"2021-10\", \"date\": \"2021-10-09\", \"day_count\": 23560}, {\"year\": \"2021\", \"month_year\": \"2021-10\", \"date\": \"2021-10-08\", \"day_count\": 36419}, {\"year\": \"2021\", \"month_year\": \"2021-10\", \"date\": \"2021-10-07\", \"day_count\": 23263}, {\"year\": \"2021\", \"month_year\": \"2021-10\", \"date\": \"2021-10-06\", \"day_count\": 16263}, {\"year\": \"2021\", \"month_year\": \"2021-10\", \"date\": \"2021-10-05\", \"day_count\": 13191}, {\"year\": \"2021\", \"month_year\": \"2021-10\", \"date\": \"2021-10-04\", \"day_count\": 24093}, {\"year\": \"2021\", \"month_year\": \"2021-10\", \"date\": \"2021-10-03\", \"day_count\": 31057}, {\"year\": \"2021\", \"month_year\": \"2021-10\", \"date\": \"2021-10-02\", \"day_count\": 11360}, {\"year\": \"2021\", \"month_year\": \"2021-10\", \"date\": \"2021-10-01\", \"day_count\": 9442}, {\"year\": \"2021\", \"month_year\": \"2021-09\", \"date\": \"2021-09-30\", \"day_count\": 16447}, {\"year\": \"2021\", \"month_year\": \"2021-09\", \"date\": \"2021-09-29\", \"day_count\": 25083}, {\"year\": \"2021\", \"month_year\": \"2021-09\", \"date\": \"2021-09-28\", \"day_count\": 12162}, {\"year\": \"2021\", \"month_year\": \"2021-09\", \"date\": \"2021-09-27\", \"day_count\": 10738}, {\"year\": \"2021\", \"month_year\": \"2021-09\", \"date\": \"2021-09-26\", \"day_count\": 16753}, {\"year\": \"2021\", \"month_year\": \"2021-09\", \"date\": \"2021-09-25\", \"day_count\": 37562}, {\"year\": \"2021\", \"month_year\": \"2021-09\", \"date\": \"2021-09-24\", \"day_count\": 48651}, {\"year\": \"2021\", \"month_year\": \"2021-09\", \"date\": \"2021-09-23\", \"day_count\": 10223}, {\"year\": \"2021\", \"month_year\": \"2021-09\", \"date\": \"2021-09-22\", \"day_count\": 9876}, {\"year\": \"2021\", \"month_year\": \"2021-09\", \"date\": \"2021-09-21\", \"day_count\": 13019}, {\"year\": \"2021\", \"month_year\": \"2021-09\", \"date\": \"2021-09-20\", \"day_count\": 22689}, {\"year\": \"2021\", \"month_year\": \"2021-09\", \"date\": \"2021-09-19\", \"day_count\": 16479}, {\"year\": \"2021\", \"month_year\": \"2021-09\", \"date\": \"2021-09-18\", \"day_count\": 11853}, {\"year\": \"2021\", \"month_year\": \"2021-09\", \"date\": \"2021-09-17\", \"day_count\": 13365}, {\"year\": \"2021\", \"month_year\": \"2021-09\", \"date\": \"2021-09-16\", \"day_count\": 16623}, {\"year\": \"2021\", \"month_year\": \"2021-09\", \"date\": \"2021-09-15\", \"day_count\": 12037}, {\"year\": \"2021\", \"month_year\": \"2021-09\", \"date\": \"2021-09-14\", \"day_count\": 21589}, {\"year\": \"2021\", \"month_year\": \"2021-09\", \"date\": \"2021-09-13\", \"day_count\": 16876}, {\"year\": \"2021\", \"month_year\": \"2021-09\", \"date\": \"2021-09-12\", \"day_count\": 8390}, {\"year\": \"2021\", \"month_year\": \"2021-09\", \"date\": \"2021-09-11\", \"day_count\": 6454}, {\"year\": \"2021\", \"month_year\": \"2021-09\", \"date\": \"2021-09-10\", \"day_count\": 9433}, {\"year\": \"2021\", \"month_year\": \"2021-09\", \"date\": \"2021-09-09\", \"day_count\": 13953}, {\"year\": \"2021\", \"month_year\": \"2021-09\", \"date\": \"2021-09-08\", \"day_count\": 10819}, {\"year\": \"2021\", \"month_year\": \"2021-09\", \"date\": \"2021-09-07\", \"day_count\": 11348}, {\"year\": \"2021\", \"month_year\": \"2021-09\", \"date\": \"2021-09-06\", \"day_count\": 11804}, {\"year\": \"2021\", \"month_year\": \"2021-09\", \"date\": \"2021-09-05\", \"day_count\": 10950}, {\"year\": \"2021\", \"month_year\": \"2021-09\", \"date\": \"2021-09-04\", \"day_count\": 12152}, {\"year\": \"2021\", \"month_year\": \"2021-09\", \"date\": \"2021-09-03\", \"day_count\": 13977}, {\"year\": \"2021\", \"month_year\": \"2021-09\", \"date\": \"2021-09-02\", \"day_count\": 14945}, {\"year\": \"2021\", \"month_year\": \"2021-09\", \"date\": \"2021-09-01\", \"day_count\": 13658}, {\"year\": \"2021\", \"month_year\": \"2021-08\", \"date\": \"2021-08-31\", \"day_count\": 23808}, {\"year\": \"2021\", \"month_year\": \"2021-08\", \"date\": \"2021-08-30\", \"day_count\": 15926}, {\"year\": \"2021\", \"month_year\": \"2021-08\", \"date\": \"2021-08-29\", \"day_count\": 13020}, {\"year\": \"2021\", \"month_year\": \"2021-08\", \"date\": \"2021-08-28\", \"day_count\": 12753}, {\"year\": \"2021\", \"month_year\": \"2021-08\", \"date\": \"2021-08-27\", \"day_count\": 25856}, {\"year\": \"2021\", \"month_year\": \"2021-08\", \"date\": \"2021-08-26\", \"day_count\": 12210}, {\"year\": \"2021\", \"month_year\": \"2021-08\", \"date\": \"2021-08-25\", \"day_count\": 10393}, {\"year\": \"2021\", \"month_year\": \"2021-08\", \"date\": \"2021-08-24\", \"day_count\": 11823}, {\"year\": \"2021\", \"month_year\": \"2021-08\", \"date\": \"2021-08-23\", \"day_count\": 13859}, {\"year\": \"2021\", \"month_year\": \"2021-08\", \"date\": \"2021-08-22\", \"day_count\": 14673}, {\"year\": \"2021\", \"month_year\": \"2021-08\", \"date\": \"2021-08-21\", \"day_count\": 25834}, {\"year\": \"2021\", \"month_year\": \"2021-08\", \"date\": \"2021-08-20\", \"day_count\": 50185}, {\"year\": \"2021\", \"month_year\": \"2021-08\", \"date\": \"2021-08-19\", \"day_count\": 10535}, {\"year\": \"2021\", \"month_year\": \"2021-08\", \"date\": \"2021-08-18\", \"day_count\": 13013}, {\"year\": \"2021\", \"month_year\": \"2021-08\", \"date\": \"2021-08-17\", \"day_count\": 17274}, {\"year\": \"2021\", \"month_year\": \"2021-08\", \"date\": \"2021-08-16\", \"day_count\": 21595}, {\"year\": \"2021\", \"month_year\": \"2021-08\", \"date\": \"2021-08-15\", \"day_count\": 13313}, {\"year\": \"2021\", \"month_year\": \"2021-08\", \"date\": \"2021-08-14\", \"day_count\": 16444}, {\"year\": \"2021\", \"month_year\": \"2021-08\", \"date\": \"2021-08-13\", \"day_count\": 17217}, {\"year\": \"2021\", \"month_year\": \"2021-08\", \"date\": \"2021-08-12\", \"day_count\": 14249}, {\"year\": \"2021\", \"month_year\": \"2021-08\", \"date\": \"2021-08-11\", \"day_count\": 16226}, {\"year\": \"2021\", \"month_year\": \"2021-08\", \"date\": \"2021-08-10\", \"day_count\": 18140}, {\"year\": \"2021\", \"month_year\": \"2021-08\", \"date\": \"2021-08-09\", \"day_count\": 16215}, {\"year\": \"2021\", \"month_year\": \"2021-08\", \"date\": \"2021-08-08\", \"day_count\": 16803}, {\"year\": \"2021\", \"month_year\": \"2021-08\", \"date\": \"2021-08-07\", \"day_count\": 15711}, {\"year\": \"2021\", \"month_year\": \"2021-08\", \"date\": \"2021-08-06\", \"day_count\": 14339}, {\"year\": \"2021\", \"month_year\": \"2021-08\", \"date\": \"2021-08-05\", \"day_count\": 16236}, {\"year\": \"2021\", \"month_year\": \"2021-08\", \"date\": \"2021-08-04\", \"day_count\": 37228}, {\"year\": \"2021\", \"month_year\": \"2021-08\", \"date\": \"2021-08-03\", \"day_count\": 21238}, {\"year\": \"2021\", \"month_year\": \"2021-08\", \"date\": \"2021-08-02\", \"day_count\": 17370}, {\"year\": \"2021\", \"month_year\": \"2021-08\", \"date\": \"2021-08-01\", \"day_count\": 16997}, {\"year\": \"2021\", \"month_year\": \"2021-07\", \"date\": \"2021-07-31\", \"day_count\": 14918}, {\"year\": \"2021\", \"month_year\": \"2021-07\", \"date\": \"2021-07-30\", \"day_count\": 13804}, {\"year\": \"2021\", \"month_year\": \"2021-07\", \"date\": \"2021-07-29\", \"day_count\": 13730}, {\"year\": \"2021\", \"month_year\": \"2021-07\", \"date\": \"2021-07-28\", \"day_count\": 12353}, {\"year\": \"2021\", \"month_year\": \"2021-07\", \"date\": \"2021-07-27\", \"day_count\": 26309}, {\"year\": \"2021\", \"month_year\": \"2021-07\", \"date\": \"2021-07-26\", \"day_count\": 23579}, {\"year\": \"2021\", \"month_year\": \"2021-07\", \"date\": \"2021-07-25\", \"day_count\": 21641}, {\"year\": \"2021\", \"month_year\": \"2021-07\", \"date\": \"2021-07-24\", \"day_count\": 13722}, {\"year\": \"2021\", \"month_year\": \"2021-07\", \"date\": \"2021-07-23\", \"day_count\": 14687}, {\"year\": \"2021\", \"month_year\": \"2021-07\", \"date\": \"2021-07-22\", \"day_count\": 47054}, {\"year\": \"2021\", \"month_year\": \"2021-07\", \"date\": \"2021-07-21\", \"day_count\": 54465}, {\"year\": \"2021\", \"month_year\": \"2021-07\", \"date\": \"2021-07-20\", \"day_count\": 24396}, {\"year\": \"2021\", \"month_year\": \"2021-07\", \"date\": \"2021-07-19\", \"day_count\": 25839}, {\"year\": \"2021\", \"month_year\": \"2021-07\", \"date\": \"2021-07-18\", \"day_count\": 17206}, {\"year\": \"2021\", \"month_year\": \"2021-07\", \"date\": \"2021-07-17\", \"day_count\": 19004}, {\"year\": \"2021\", \"month_year\": \"2021-07\", \"date\": \"2021-07-16\", \"day_count\": 12394}, {\"year\": \"2021\", \"month_year\": \"2021-07\", \"date\": \"2021-07-15\", \"day_count\": 18177}, {\"year\": \"2021\", \"month_year\": \"2021-07\", \"date\": \"2021-07-14\", \"day_count\": 16966}, {\"year\": \"2021\", \"month_year\": \"2021-07\", \"date\": \"2021-07-13\", \"day_count\": 25386}, {\"year\": \"2021\", \"month_year\": \"2021-07\", \"date\": \"2021-07-12\", \"day_count\": 20046}, {\"year\": \"2021\", \"month_year\": \"2021-07\", \"date\": \"2021-07-11\", \"day_count\": 13947}, {\"year\": \"2021\", \"month_year\": \"2021-07\", \"date\": \"2021-07-10\", \"day_count\": 14777}, {\"year\": \"2021\", \"month_year\": \"2021-07\", \"date\": \"2021-07-09\", \"day_count\": 16000}, {\"year\": \"2021\", \"month_year\": \"2021-07\", \"date\": \"2021-07-08\", \"day_count\": 18072}, {\"year\": \"2021\", \"month_year\": \"2021-07\", \"date\": \"2021-07-07\", \"day_count\": 18121}, {\"year\": \"2021\", \"month_year\": \"2021-07\", \"date\": \"2021-07-06\", \"day_count\": 17227}, {\"year\": \"2021\", \"month_year\": \"2021-07\", \"date\": \"2021-07-05\", \"day_count\": 16869}, {\"year\": \"2021\", \"month_year\": \"2021-07\", \"date\": \"2021-07-04\", \"day_count\": 20731}, {\"year\": \"2021\", \"month_year\": \"2021-07\", \"date\": \"2021-07-03\", \"day_count\": 29651}, {\"year\": \"2021\", \"month_year\": \"2021-07\", \"date\": \"2021-07-02\", \"day_count\": 26099}, {\"year\": \"2021\", \"month_year\": \"2021-07\", \"date\": \"2021-07-01\", \"day_count\": 22930}, {\"year\": \"2021\", \"month_year\": \"2021-06\", \"date\": \"2021-06-30\", \"day_count\": 16635}, {\"year\": \"2021\", \"month_year\": \"2021-06\", \"date\": \"2021-06-29\", \"day_count\": 28204}, {\"year\": \"2021\", \"month_year\": \"2021-06\", \"date\": \"2021-06-28\", \"day_count\": 38801}, {\"year\": \"2021\", \"month_year\": \"2021-06\", \"date\": \"2021-06-27\", \"day_count\": 21627}, {\"year\": \"2021\", \"month_year\": \"2021-06\", \"date\": \"2021-06-26\", \"day_count\": 28098}, {\"year\": \"2021\", \"month_year\": \"2021-06\", \"date\": \"2021-06-25\", \"day_count\": 25416}, {\"year\": \"2021\", \"month_year\": \"2021-06\", \"date\": \"2021-06-24\", \"day_count\": 11259}, {\"year\": \"2021\", \"month_year\": \"2021-06\", \"date\": \"2021-06-23\", \"day_count\": 10997}, {\"year\": \"2021\", \"month_year\": \"2021-06\", \"date\": \"2021-06-22\", \"day_count\": 15328}, {\"year\": \"2021\", \"month_year\": \"2021-06\", \"date\": \"2021-06-21\", \"day_count\": 18796}, {\"year\": \"2021\", \"month_year\": \"2021-06\", \"date\": \"2021-06-20\", \"day_count\": 22239}, {\"year\": \"2021\", \"month_year\": \"2021-06\", \"date\": \"2021-06-19\", \"day_count\": 10906}, {\"year\": \"2021\", \"month_year\": \"2021-06\", \"date\": \"2021-06-18\", \"day_count\": 12894}, {\"year\": \"2021\", \"month_year\": \"2021-06\", \"date\": \"2021-06-17\", \"day_count\": 19088}, {\"year\": \"2021\", \"month_year\": \"2021-06\", \"date\": \"2021-06-16\", \"day_count\": 27927}, {\"year\": \"2021\", \"month_year\": \"2021-06\", \"date\": \"2021-06-15\", \"day_count\": 25491}, {\"year\": \"2021\", \"month_year\": \"2021-06\", \"date\": \"2021-06-14\", \"day_count\": 33697}, {\"year\": \"2021\", \"month_year\": \"2021-06\", \"date\": \"2021-06-13\", \"day_count\": 22634}, {\"year\": \"2021\", \"month_year\": \"2021-06\", \"date\": \"2021-06-12\", \"day_count\": 18039}, {\"year\": \"2021\", \"month_year\": \"2021-06\", \"date\": \"2021-06-11\", \"day_count\": 23901}, {\"year\": \"2021\", \"month_year\": \"2021-06\", \"date\": \"2021-06-10\", \"day_count\": 36144}, {\"year\": \"2021\", \"month_year\": \"2021-06\", \"date\": \"2021-06-09\", \"day_count\": 54846}, {\"year\": \"2021\", \"month_year\": \"2021-06\", \"date\": \"2021-06-08\", \"day_count\": 44508}, {\"year\": \"2021\", \"month_year\": \"2021-06\", \"date\": \"2021-06-07\", \"day_count\": 33981}, {\"year\": \"2021\", \"month_year\": \"2021-06\", \"date\": \"2021-06-06\", \"day_count\": 66525}, {\"year\": \"2021\", \"month_year\": \"2021-06\", \"date\": \"2021-06-05\", \"day_count\": 60213}, {\"year\": \"2021\", \"month_year\": \"2021-06\", \"date\": \"2021-06-04\", \"day_count\": 52510}, {\"year\": \"2021\", \"month_year\": \"2021-06\", \"date\": \"2021-06-03\", \"day_count\": 22762}, {\"year\": \"2021\", \"month_year\": \"2021-06\", \"date\": \"2021-06-02\", \"day_count\": 21014}, {\"year\": \"2021\", \"month_year\": \"2021-06\", \"date\": \"2021-06-01\", \"day_count\": 21922}, {\"year\": \"2021\", \"month_year\": \"2021-05\", \"date\": \"2021-05-31\", \"day_count\": 27297}, {\"year\": \"2021\", \"month_year\": \"2021-05\", \"date\": \"2021-05-30\", \"day_count\": 17149}, {\"year\": \"2021\", \"month_year\": \"2021-05\", \"date\": \"2021-05-29\", \"day_count\": 16609}, {\"year\": \"2021\", \"month_year\": \"2021-05\", \"date\": \"2021-05-28\", \"day_count\": 17862}, {\"year\": \"2021\", \"month_year\": \"2021-05\", \"date\": \"2021-05-27\", \"day_count\": 15968}, {\"year\": \"2021\", \"month_year\": \"2021-05\", \"date\": \"2021-05-26\", \"day_count\": 19719}, {\"year\": \"2021\", \"month_year\": \"2021-05\", \"date\": \"2021-05-25\", \"day_count\": 27254}, {\"year\": \"2021\", \"month_year\": \"2021-05\", \"date\": \"2021-05-24\", \"day_count\": 27744}, {\"year\": \"2021\", \"month_year\": \"2021-05\", \"date\": \"2021-05-23\", \"day_count\": 18268}, {\"year\": \"2021\", \"month_year\": \"2021-05\", \"date\": \"2021-05-22\", \"day_count\": 24367}, {\"year\": \"2021\", \"month_year\": \"2021-05\", \"date\": \"2021-05-21\", \"day_count\": 30778}, {\"year\": \"2021\", \"month_year\": \"2021-05\", \"date\": \"2021-05-20\", \"day_count\": 43874}, {\"year\": \"2021\", \"month_year\": \"2021-05\", \"date\": \"2021-05-19\", \"day_count\": 64265}, {\"year\": \"2021\", \"month_year\": \"2021-05\", \"date\": \"2021-05-18\", \"day_count\": 40429}, {\"year\": \"2021\", \"month_year\": \"2021-05\", \"date\": \"2021-05-17\", \"day_count\": 76582}, {\"year\": \"2021\", \"month_year\": \"2021-05\", \"date\": \"2021-05-16\", \"day_count\": 68251}, {\"year\": \"2021\", \"month_year\": \"2021-05\", \"date\": \"2021-05-15\", \"day_count\": 34054}, {\"year\": \"2021\", \"month_year\": \"2021-05\", \"date\": \"2021-05-14\", \"day_count\": 70761}, {\"year\": \"2021\", \"month_year\": \"2021-05\", \"date\": \"2021-05-13\", \"day_count\": 154094}, {\"year\": \"2021\", \"month_year\": \"2021-05\", \"date\": \"2021-05-12\", \"day_count\": 43739}, {\"year\": \"2021\", \"month_year\": \"2021-05\", \"date\": \"2021-05-11\", \"day_count\": 47788}, {\"year\": \"2021\", \"month_year\": \"2021-05\", \"date\": \"2021-05-10\", \"day_count\": 79669}, {\"year\": \"2021\", \"month_year\": \"2021-05\", \"date\": \"2021-05-09\", \"day_count\": 194247}, {\"year\": \"2021\", \"month_year\": \"2021-05\", \"date\": \"2021-05-08\", \"day_count\": 75854}, {\"year\": \"2021\", \"month_year\": \"2021-05\", \"date\": \"2021-05-07\", \"day_count\": 57486}, {\"year\": \"2021\", \"month_year\": \"2021-05\", \"date\": \"2021-05-06\", \"day_count\": 35847}, {\"year\": \"2021\", \"month_year\": \"2021-05\", \"date\": \"2021-05-05\", \"day_count\": 24346}, {\"year\": \"2021\", \"month_year\": \"2021-05\", \"date\": \"2021-05-04\", \"day_count\": 31424}, {\"year\": \"2021\", \"month_year\": \"2021-05\", \"date\": \"2021-05-03\", \"day_count\": 22887}, {\"year\": \"2021\", \"month_year\": \"2021-05\", \"date\": \"2021-05-02\", \"day_count\": 33777}, {\"year\": \"2021\", \"month_year\": \"2021-05\", \"date\": \"2021-05-01\", \"day_count\": 25576}, {\"year\": \"2021\", \"month_year\": \"2021-04\", \"date\": \"2021-04-30\", \"day_count\": 16119}, {\"year\": \"2021\", \"month_year\": \"2021-04\", \"date\": \"2021-04-29\", \"day_count\": 19391}, {\"year\": \"2021\", \"month_year\": \"2021-04\", \"date\": \"2021-04-28\", \"day_count\": 26902}, {\"year\": \"2021\", \"month_year\": \"2021-04\", \"date\": \"2021-04-27\", \"day_count\": 33303}, {\"year\": \"2021\", \"month_year\": \"2021-04\", \"date\": \"2021-04-26\", \"day_count\": 40630}, {\"year\": \"2021\", \"month_year\": \"2021-04\", \"date\": \"2021-04-25\", \"day_count\": 61845}, {\"year\": \"2021\", \"month_year\": \"2021-04\", \"date\": \"2021-04-24\", \"day_count\": 33891}, {\"year\": \"2021\", \"month_year\": \"2021-04\", \"date\": \"2021-04-23\", \"day_count\": 23800}, {\"year\": \"2021\", \"month_year\": \"2021-04\", \"date\": \"2021-04-22\", \"day_count\": 19404}, {\"year\": \"2021\", \"month_year\": \"2021-04\", \"date\": \"2021-04-21\", \"day_count\": 17919}, {\"year\": \"2021\", \"month_year\": \"2021-04\", \"date\": \"2021-04-20\", \"day_count\": 22811}, {\"year\": \"2021\", \"month_year\": \"2021-04\", \"date\": \"2021-04-19\", \"day_count\": 22918}, {\"year\": \"2021\", \"month_year\": \"2021-04\", \"date\": \"2021-04-18\", \"day_count\": 19483}, {\"year\": \"2021\", \"month_year\": \"2021-04\", \"date\": \"2021-04-17\", \"day_count\": 21685}, {\"year\": \"2021\", \"month_year\": \"2021-04\", \"date\": \"2021-04-16\", \"day_count\": 30848}, {\"year\": \"2021\", \"month_year\": \"2021-04\", \"date\": \"2021-04-15\", \"day_count\": 18127}, {\"year\": \"2021\", \"month_year\": \"2021-04\", \"date\": \"2021-04-14\", \"day_count\": 16154}, {\"year\": \"2021\", \"month_year\": \"2021-04\", \"date\": \"2021-04-13\", \"day_count\": 15273}, {\"year\": \"2021\", \"month_year\": \"2021-04\", \"date\": \"2021-04-12\", \"day_count\": 16571}, {\"year\": \"2021\", \"month_year\": \"2021-04\", \"date\": \"2021-04-11\", \"day_count\": 16824}, {\"year\": \"2021\", \"month_year\": \"2021-04\", \"date\": \"2021-04-10\", \"day_count\": 23525}, {\"year\": \"2021\", \"month_year\": \"2021-04\", \"date\": \"2021-04-09\", \"day_count\": 48307}, {\"year\": \"2021\", \"month_year\": \"2021-04\", \"date\": \"2021-04-08\", \"day_count\": 15360}, {\"year\": \"2021\", \"month_year\": \"2021-04\", \"date\": \"2021-04-07\", \"day_count\": 9819}, {\"year\": \"2021\", \"month_year\": \"2021-04\", \"date\": \"2021-04-06\", \"day_count\": 10016}, {\"year\": \"2021\", \"month_year\": \"2021-04\", \"date\": \"2021-04-05\", \"day_count\": 11902}, {\"year\": \"2021\", \"month_year\": \"2021-04\", \"date\": \"2021-04-04\", \"day_count\": 13194}, {\"year\": \"2021\", \"month_year\": \"2021-04\", \"date\": \"2021-04-03\", \"day_count\": 15783}, {\"year\": \"2021\", \"month_year\": \"2021-04\", \"date\": \"2021-04-02\", \"day_count\": 14076}, {\"year\": \"2021\", \"month_year\": \"2021-04\", \"date\": \"2021-04-01\", \"day_count\": 13160}, {\"year\": \"2021\", \"month_year\": \"2021-03\", \"date\": \"2021-03-31\", \"day_count\": 11492}, {\"year\": \"2021\", \"month_year\": \"2021-03\", \"date\": \"2021-03-30\", \"day_count\": 17066}, {\"year\": \"2021\", \"month_year\": \"2021-03\", \"date\": \"2021-03-29\", \"day_count\": 11468}, {\"year\": \"2021\", \"month_year\": \"2021-03\", \"date\": \"2021-03-28\", \"day_count\": 13667}, {\"year\": \"2021\", \"month_year\": \"2021-03\", \"date\": \"2021-03-27\", \"day_count\": 17253}, {\"year\": \"2021\", \"month_year\": \"2021-03\", \"date\": \"2021-03-26\", \"day_count\": 26505}, {\"year\": \"2021\", \"month_year\": \"2021-03\", \"date\": \"2021-03-25\", \"day_count\": 34882}, {\"year\": \"2021\", \"month_year\": \"2021-03\", \"date\": \"2021-03-24\", \"day_count\": 64191}, {\"year\": \"2021\", \"month_year\": \"2021-03\", \"date\": \"2021-03-23\", \"day_count\": 29836}, {\"year\": \"2021\", \"month_year\": \"2021-03\", \"date\": \"2021-03-22\", \"day_count\": 40870}, {\"year\": \"2021\", \"month_year\": \"2021-03\", \"date\": \"2021-03-21\", \"day_count\": 25011}, {\"year\": \"2021\", \"month_year\": \"2021-03\", \"date\": \"2021-03-20\", \"day_count\": 17762}, {\"year\": \"2021\", \"month_year\": \"2021-03\", \"date\": \"2021-03-19\", \"day_count\": 23305}, {\"year\": \"2021\", \"month_year\": \"2021-03\", \"date\": \"2021-03-18\", \"day_count\": 18938}, {\"year\": \"2021\", \"month_year\": \"2021-03\", \"date\": \"2021-03-17\", \"day_count\": 12040}, {\"year\": \"2021\", \"month_year\": \"2021-03\", \"date\": \"2021-03-16\", \"day_count\": 17772}, {\"year\": \"2021\", \"month_year\": \"2021-03\", \"date\": \"2021-03-15\", \"day_count\": 24494}, {\"year\": \"2021\", \"month_year\": \"2021-03\", \"date\": \"2021-03-14\", \"day_count\": 20962}, {\"year\": \"2021\", \"month_year\": \"2021-03\", \"date\": \"2021-03-13\", \"day_count\": 23578}, {\"year\": \"2021\", \"month_year\": \"2021-03\", \"date\": \"2021-03-12\", \"day_count\": 16385}, {\"year\": \"2021\", \"month_year\": \"2021-03\", \"date\": \"2021-03-11\", \"day_count\": 10505}, {\"year\": \"2021\", \"month_year\": \"2021-03\", \"date\": \"2021-03-10\", \"day_count\": 12912}, {\"year\": \"2021\", \"month_year\": \"2021-03\", \"date\": \"2021-03-09\", \"day_count\": 11166}, {\"year\": \"2021\", \"month_year\": \"2021-03\", \"date\": \"2021-03-08\", \"day_count\": 14002}, {\"year\": \"2021\", \"month_year\": \"2021-03\", \"date\": \"2021-03-07\", \"day_count\": 21185}, {\"year\": \"2021\", \"month_year\": \"2021-03\", \"date\": \"2021-03-06\", \"day_count\": 29312}, {\"year\": \"2021\", \"month_year\": \"2021-03\", \"date\": \"2021-03-05\", \"day_count\": 40813}, {\"year\": \"2021\", \"month_year\": \"2021-03\", \"date\": \"2021-03-04\", \"day_count\": 18883}, {\"year\": \"2021\", \"month_year\": \"2021-03\", \"date\": \"2021-03-03\", \"day_count\": 20973}, {\"year\": \"2021\", \"month_year\": \"2021-03\", \"date\": \"2021-03-02\", \"day_count\": 16476}, {\"year\": \"2021\", \"month_year\": \"2021-03\", \"date\": \"2021-03-01\", \"day_count\": 12784}, {\"year\": \"2021\", \"month_year\": \"2021-02\", \"date\": \"2021-02-28\", \"day_count\": 10566}, {\"year\": \"2021\", \"month_year\": \"2021-02\", \"date\": \"2021-02-27\", \"day_count\": 11500}, {\"year\": \"2021\", \"month_year\": \"2021-02\", \"date\": \"2021-02-26\", \"day_count\": 19116}, {\"year\": \"2021\", \"month_year\": \"2021-02\", \"date\": \"2021-02-25\", \"day_count\": 33940}, {\"year\": \"2021\", \"month_year\": \"2021-02\", \"date\": \"2021-02-24\", \"day_count\": 24532}, {\"year\": \"2021\", \"month_year\": \"2021-02\", \"date\": \"2021-02-23\", \"day_count\": 30162}, {\"year\": \"2021\", \"month_year\": \"2021-02\", \"date\": \"2021-02-22\", \"day_count\": 21029}, {\"year\": \"2021\", \"month_year\": \"2021-02\", \"date\": \"2021-02-21\", \"day_count\": 21228}, {\"year\": \"2021\", \"month_year\": \"2021-02\", \"date\": \"2021-02-20\", \"day_count\": 29892}, {\"year\": \"2021\", \"month_year\": \"2021-02\", \"date\": \"2021-02-19\", \"day_count\": 36389}, {\"year\": \"2021\", \"month_year\": \"2021-02\", \"date\": \"2021-02-18\", \"day_count\": 34105}, {\"year\": \"2021\", \"month_year\": \"2021-02\", \"date\": \"2021-02-17\", \"day_count\": 30145}, {\"year\": \"2021\", \"month_year\": \"2021-02\", \"date\": \"2021-02-16\", \"day_count\": 19988}, {\"year\": \"2021\", \"month_year\": \"2021-02\", \"date\": \"2021-02-15\", \"day_count\": 24278}, {\"year\": \"2021\", \"month_year\": \"2021-02\", \"date\": \"2021-02-14\", \"day_count\": 18745}, {\"year\": \"2021\", \"month_year\": \"2021-02\", \"date\": \"2021-02-13\", \"day_count\": 20882}, {\"year\": \"2021\", \"month_year\": \"2021-02\", \"date\": \"2021-02-12\", \"day_count\": 32258}, {\"year\": \"2021\", \"month_year\": \"2021-02\", \"date\": \"2021-02-11\", \"day_count\": 31445}, {\"year\": \"2021\", \"month_year\": \"2021-02\", \"date\": \"2021-02-10\", \"day_count\": 36127}, {\"year\": \"2021\", \"month_year\": \"2021-02\", \"date\": \"2021-02-09\", \"day_count\": 56024}, {\"year\": \"2021\", \"month_year\": \"2021-02\", \"date\": \"2021-02-08\", \"day_count\": 72922}, {\"year\": \"2021\", \"month_year\": \"2021-02\", \"date\": \"2021-02-07\", \"day_count\": 37512}, {\"year\": \"2021\", \"month_year\": \"2021-02\", \"date\": \"2021-02-06\", \"day_count\": 25791}, {\"year\": \"2021\", \"month_year\": \"2021-02\", \"date\": \"2021-02-05\", \"day_count\": 43118}, {\"year\": \"2021\", \"month_year\": \"2021-02\", \"date\": \"2021-02-04\", \"day_count\": 56346}, {\"year\": \"2021\", \"month_year\": \"2021-02\", \"date\": \"2021-02-03\", \"day_count\": 33654}, {\"year\": \"2021\", \"month_year\": \"2021-02\", \"date\": \"2021-02-02\", \"day_count\": 48657}, {\"year\": \"2021\", \"month_year\": \"2021-02\", \"date\": \"2021-02-01\", \"day_count\": 99229}, {\"year\": \"2021\", \"month_year\": \"2021-01\", \"date\": \"2021-01-31\", \"day_count\": 18175}, {\"year\": \"2021\", \"month_year\": \"2021-01\", \"date\": \"2021-01-30\", \"day_count\": 35546}, {\"year\": \"2021\", \"month_year\": \"2021-01\", \"date\": \"2021-01-29\", \"day_count\": 90734}, {\"year\": \"2021\", \"month_year\": \"2021-01\", \"date\": \"2021-01-28\", \"day_count\": 70729}, {\"year\": \"2021\", \"month_year\": \"2021-01\", \"date\": \"2021-01-27\", \"day_count\": 39583}, {\"year\": \"2021\", \"month_year\": \"2021-01\", \"date\": \"2021-01-26\", \"day_count\": 17587}, {\"year\": \"2021\", \"month_year\": \"2021-01\", \"date\": \"2021-01-25\", \"day_count\": 11201}, {\"year\": \"2021\", \"month_year\": \"2021-01\", \"date\": \"2021-01-24\", \"day_count\": 14234}, {\"year\": \"2021\", \"month_year\": \"2021-01\", \"date\": \"2021-01-23\", \"day_count\": 17640}, {\"year\": \"2021\", \"month_year\": \"2021-01\", \"date\": \"2021-01-22\", \"day_count\": 27820}, {\"year\": \"2021\", \"month_year\": \"2021-01\", \"date\": \"2021-01-21\", \"day_count\": 10698}, {\"year\": \"2021\", \"month_year\": \"2021-01\", \"date\": \"2021-01-20\", \"day_count\": 32110}, {\"year\": \"2021\", \"month_year\": \"2021-01\", \"date\": \"2021-01-19\", \"day_count\": 18886}, {\"year\": \"2021\", \"month_year\": \"2021-01\", \"date\": \"2021-01-18\", \"day_count\": 16983}, {\"year\": \"2021\", \"month_year\": \"2021-01\", \"date\": \"2021-01-17\", \"day_count\": 11897}, {\"year\": \"2021\", \"month_year\": \"2021-01\", \"date\": \"2021-01-16\", \"day_count\": 16116}, {\"year\": \"2021\", \"month_year\": \"2021-01\", \"date\": \"2021-01-15\", \"day_count\": 25684}, {\"year\": \"2021\", \"month_year\": \"2021-01\", \"date\": \"2021-01-14\", \"day_count\": 42935}, {\"year\": \"2021\", \"month_year\": \"2021-01\", \"date\": \"2021-01-13\", \"day_count\": 59304}, {\"year\": \"2021\", \"month_year\": \"2021-01\", \"date\": \"2021-01-12\", \"day_count\": 59183}, {\"year\": \"2021\", \"month_year\": \"2021-01\", \"date\": \"2021-01-11\", \"day_count\": 58531}, {\"year\": \"2021\", \"month_year\": \"2021-01\", \"date\": \"2021-01-10\", \"day_count\": 56970}, {\"year\": \"2021\", \"month_year\": \"2021-01\", \"date\": \"2021-01-09\", \"day_count\": 47423}, {\"year\": \"2021\", \"month_year\": \"2021-01\", \"date\": \"2021-01-08\", \"day_count\": 110927}, {\"year\": \"2021\", \"month_year\": \"2021-01\", \"date\": \"2021-01-07\", \"day_count\": 139519}, {\"year\": \"2021\", \"month_year\": \"2021-01\", \"date\": \"2021-01-06\", \"day_count\": 7745}, {\"year\": \"2021\", \"month_year\": \"2021-01\", \"date\": \"2021-01-05\", \"day_count\": 6266}, {\"year\": \"2021\", \"month_year\": \"2021-01\", \"date\": \"2021-01-04\", \"day_count\": 7093}, {\"year\": \"2021\", \"month_year\": \"2021-01\", \"date\": \"2021-01-03\", \"day_count\": 7709}, {\"year\": \"2021\", \"month_year\": \"2021-01\", \"date\": \"2021-01-02\", \"day_count\": 10774}, {\"year\": \"2021\", \"month_year\": \"2021-01\", \"date\": \"2021-01-01\", \"day_count\": 9393}, {\"year\": \"2020\", \"month_year\": \"2020-12\", \"date\": \"2020-12-31\", \"day_count\": 8511}, {\"year\": \"2020\", \"month_year\": \"2020-12\", \"date\": \"2020-12-30\", \"day_count\": 10097}, {\"year\": \"2020\", \"month_year\": \"2020-12\", \"date\": \"2020-12-29\", \"day_count\": 15817}, {\"year\": \"2020\", \"month_year\": \"2020-12\", \"date\": \"2020-12-28\", \"day_count\": 8612}, {\"year\": \"2020\", \"month_year\": \"2020-12\", \"date\": \"2020-12-27\", \"day_count\": 8020}, {\"year\": \"2020\", \"month_year\": \"2020-12\", \"date\": \"2020-12-26\", \"day_count\": 5671}, {\"year\": \"2020\", \"month_year\": \"2020-12\", \"date\": \"2020-12-25\", \"day_count\": 5896}, {\"year\": \"2020\", \"month_year\": \"2020-12\", \"date\": \"2020-12-24\", \"day_count\": 7266}, {\"year\": \"2020\", \"month_year\": \"2020-12\", \"date\": \"2020-12-23\", \"day_count\": 12529}, {\"year\": \"2020\", \"month_year\": \"2020-12\", \"date\": \"2020-12-22\", \"day_count\": 11874}, {\"year\": \"2020\", \"month_year\": \"2020-12\", \"date\": \"2020-12-21\", \"day_count\": 15480}, {\"year\": \"2020\", \"month_year\": \"2020-12\", \"date\": \"2020-12-20\", \"day_count\": 18847}, {\"year\": \"2020\", \"month_year\": \"2020-12\", \"date\": \"2020-12-19\", \"day_count\": 7870}, {\"year\": \"2020\", \"month_year\": \"2020-12\", \"date\": \"2020-12-18\", \"day_count\": 9560}, {\"year\": \"2020\", \"month_year\": \"2020-12\", \"date\": \"2020-12-17\", \"day_count\": 21175}, {\"year\": \"2020\", \"month_year\": \"2020-12\", \"date\": \"2020-12-16\", \"day_count\": 25022}, {\"year\": \"2020\", \"month_year\": \"2020-12\", \"date\": \"2020-12-15\", \"day_count\": 30830}, {\"year\": \"2020\", \"month_year\": \"2020-12\", \"date\": \"2020-12-14\", \"day_count\": 24947}, {\"year\": \"2020\", \"month_year\": \"2020-12\", \"date\": \"2020-12-13\", \"day_count\": 14012}, {\"year\": \"2020\", \"month_year\": \"2020-12\", \"date\": \"2020-12-12\", \"day_count\": 8382}, {\"year\": \"2020\", \"month_year\": \"2020-12\", \"date\": \"2020-12-11\", \"day_count\": 15228}, {\"year\": \"2020\", \"month_year\": \"2020-12\", \"date\": \"2020-12-10\", \"day_count\": 25000}, {\"year\": \"2020\", \"month_year\": \"2020-12\", \"date\": \"2020-12-09\", \"day_count\": 28986}, {\"year\": \"2020\", \"month_year\": \"2020-12\", \"date\": \"2020-12-08\", \"day_count\": 13854}, {\"year\": \"2020\", \"month_year\": \"2020-12\", \"date\": \"2020-12-07\", \"day_count\": 8042}, {\"year\": \"2020\", \"month_year\": \"2020-12\", \"date\": \"2020-12-06\", \"day_count\": 9231}, {\"year\": \"2020\", \"month_year\": \"2020-12\", \"date\": \"2020-12-05\", \"day_count\": 7891}, {\"year\": \"2020\", \"month_year\": \"2020-12\", \"date\": \"2020-12-04\", \"day_count\": 9218}, {\"year\": \"2020\", \"month_year\": \"2020-12\", \"date\": \"2020-12-03\", \"day_count\": 7293}, {\"year\": \"2020\", \"month_year\": \"2020-12\", \"date\": \"2020-12-02\", \"day_count\": 10553}, {\"year\": \"2020\", \"month_year\": \"2020-12\", \"date\": \"2020-12-01\", \"day_count\": 6307}, {\"year\": \"2020\", \"month_year\": \"2020-11\", \"date\": \"2020-11-30\", \"day_count\": 5168}, {\"year\": \"2020\", \"month_year\": \"2020-11\", \"date\": \"2020-11-29\", \"day_count\": 5030}, {\"year\": \"2020\", \"month_year\": \"2020-11\", \"date\": \"2020-11-28\", \"day_count\": 4665}, {\"year\": \"2020\", \"month_year\": \"2020-11\", \"date\": \"2020-11-27\", \"day_count\": 8475}, {\"year\": \"2020\", \"month_year\": \"2020-11\", \"date\": \"2020-11-26\", \"day_count\": 7721}, {\"year\": \"2020\", \"month_year\": \"2020-11\", \"date\": \"2020-11-25\", \"day_count\": 17915}, {\"year\": \"2020\", \"month_year\": \"2020-11\", \"date\": \"2020-11-24\", \"day_count\": 30632}, {\"year\": \"2020\", \"month_year\": \"2020-11\", \"date\": \"2020-11-23\", \"day_count\": 5979}, {\"year\": \"2020\", \"month_year\": \"2020-11\", \"date\": \"2020-11-22\", \"day_count\": 5895}, {\"year\": \"2020\", \"month_year\": \"2020-11\", \"date\": \"2020-11-21\", \"day_count\": 4545}, {\"year\": \"2020\", \"month_year\": \"2020-11\", \"date\": \"2020-11-20\", \"day_count\": 5976}, {\"year\": \"2020\", \"month_year\": \"2020-11\", \"date\": \"2020-11-19\", \"day_count\": 7035}, {\"year\": \"2020\", \"month_year\": \"2020-11\", \"date\": \"2020-11-18\", \"day_count\": 9322}, {\"year\": \"2020\", \"month_year\": \"2020-11\", \"date\": \"2020-11-17\", \"day_count\": 11091}, {\"year\": \"2020\", \"month_year\": \"2020-11\", \"date\": \"2020-11-16\", \"day_count\": 27331}, {\"year\": \"2020\", \"month_year\": \"2020-11\", \"date\": \"2020-11-15\", \"day_count\": 13647}, {\"year\": \"2020\", \"month_year\": \"2020-11\", \"date\": \"2020-11-14\", \"day_count\": 26777}, {\"year\": \"2020\", \"month_year\": \"2020-11\", \"date\": \"2020-11-13\", \"day_count\": 39199}, {\"year\": \"2020\", \"month_year\": \"2020-11\", \"date\": \"2020-11-12\", \"day_count\": 5450}, {\"year\": \"2020\", \"month_year\": \"2020-11\", \"date\": \"2020-11-11\", \"day_count\": 4841}, {\"year\": \"2020\", \"month_year\": \"2020-11\", \"date\": \"2020-11-10\", \"day_count\": 6068}, {\"year\": \"2020\", \"month_year\": \"2020-11\", \"date\": \"2020-11-09\", \"day_count\": 6614}, {\"year\": \"2020\", \"month_year\": \"2020-11\", \"date\": \"2020-11-08\", \"day_count\": 4227}, {\"year\": \"2020\", \"month_year\": \"2020-11\", \"date\": \"2020-11-07\", \"day_count\": 8353}, {\"year\": \"2020\", \"month_year\": \"2020-11\", \"date\": \"2020-11-06\", \"day_count\": 7642}, {\"year\": \"2020\", \"month_year\": \"2020-11\", \"date\": \"2020-11-05\", \"day_count\": 3743}, {\"year\": \"2020\", \"month_year\": \"2020-11\", \"date\": \"2020-11-04\", \"day_count\": 4195}, {\"year\": \"2020\", \"month_year\": \"2020-11\", \"date\": \"2020-11-03\", \"day_count\": 4533}, {\"year\": \"2020\", \"month_year\": \"2020-11\", \"date\": \"2020-11-02\", \"day_count\": 5533}, {\"year\": \"2020\", \"month_year\": \"2020-11\", \"date\": \"2020-11-01\", \"day_count\": 6811}, {\"year\": \"2020\", \"month_year\": \"2020-10\", \"date\": \"2020-10-31\", \"day_count\": 4780}, {\"year\": \"2020\", \"month_year\": \"2020-10\", \"date\": \"2020-10-30\", \"day_count\": 9798}, {\"year\": \"2020\", \"month_year\": \"2020-10\", \"date\": \"2020-10-29\", \"day_count\": 9862}, {\"year\": \"2020\", \"month_year\": \"2020-10\", \"date\": \"2020-10-28\", \"day_count\": 5683}, {\"year\": \"2020\", \"month_year\": \"2020-10\", \"date\": \"2020-10-27\", \"day_count\": 6586}, {\"year\": \"2020\", \"month_year\": \"2020-10\", \"date\": \"2020-10-26\", \"day_count\": 9356}, {\"year\": \"2020\", \"month_year\": \"2020-10\", \"date\": \"2020-10-25\", \"day_count\": 4993}, {\"year\": \"2020\", \"month_year\": \"2020-10\", \"date\": \"2020-10-24\", \"day_count\": 3630}, {\"year\": \"2020\", \"month_year\": \"2020-10\", \"date\": \"2020-10-23\", \"day_count\": 5352}, {\"year\": \"2020\", \"month_year\": \"2020-10\", \"date\": \"2020-10-22\", \"day_count\": 5578}, {\"year\": \"2020\", \"month_year\": \"2020-10\", \"date\": \"2020-10-21\", \"day_count\": 6575}, {\"year\": \"2020\", \"month_year\": \"2020-10\", \"date\": \"2020-10-20\", \"day_count\": 12888}, {\"year\": \"2020\", \"month_year\": \"2020-10\", \"date\": \"2020-10-19\", \"day_count\": 31437}, {\"year\": \"2020\", \"month_year\": \"2020-10\", \"date\": \"2020-10-18\", \"day_count\": 5426}, {\"year\": \"2020\", \"month_year\": \"2020-10\", \"date\": \"2020-10-17\", \"day_count\": 4840}, {\"year\": \"2020\", \"month_year\": \"2020-10\", \"date\": \"2020-10-16\", \"day_count\": 6645}, {\"year\": \"2020\", \"month_year\": \"2020-10\", \"date\": \"2020-10-15\", \"day_count\": 6825}, {\"year\": \"2020\", \"month_year\": \"2020-10\", \"date\": \"2020-10-14\", \"day_count\": 6284}, {\"year\": \"2020\", \"month_year\": \"2020-10\", \"date\": \"2020-10-13\", \"day_count\": 6651}, {\"year\": \"2020\", \"month_year\": \"2020-10\", \"date\": \"2020-10-12\", \"day_count\": 6361}, {\"year\": \"2020\", \"month_year\": \"2020-10\", \"date\": \"2020-10-11\", \"day_count\": 6539}, {\"year\": \"2020\", \"month_year\": \"2020-10\", \"date\": \"2020-10-10\", \"day_count\": 5237}, {\"year\": \"2020\", \"month_year\": \"2020-10\", \"date\": \"2020-10-09\", \"day_count\": 5206}, {\"year\": \"2020\", \"month_year\": \"2020-10\", \"date\": \"2020-10-08\", \"day_count\": 5170}, {\"year\": \"2020\", \"month_year\": \"2020-10\", \"date\": \"2020-10-07\", \"day_count\": 5388}, {\"year\": \"2020\", \"month_year\": \"2020-10\", \"date\": \"2020-10-06\", \"day_count\": 5736}, {\"year\": \"2020\", \"month_year\": \"2020-10\", \"date\": \"2020-10-05\", \"day_count\": 4386}, {\"year\": \"2020\", \"month_year\": \"2020-10\", \"date\": \"2020-10-04\", \"day_count\": 5607}, {\"year\": \"2020\", \"month_year\": \"2020-10\", \"date\": \"2020-10-03\", \"day_count\": 4920}, {\"year\": \"2020\", \"month_year\": \"2020-10\", \"date\": \"2020-10-02\", \"day_count\": 7368}, {\"year\": \"2020\", \"month_year\": \"2020-10\", \"date\": \"2020-10-01\", \"day_count\": 7012}, {\"year\": \"2020\", \"month_year\": \"2020-09\", \"date\": \"2020-09-30\", \"day_count\": 15045}, {\"year\": \"2020\", \"month_year\": \"2020-09\", \"date\": \"2020-09-29\", \"day_count\": 19916}, {\"year\": \"2020\", \"month_year\": \"2020-09\", \"date\": \"2020-09-28\", \"day_count\": 8756}, {\"year\": \"2020\", \"month_year\": \"2020-09\", \"date\": \"2020-09-27\", \"day_count\": 5364}, {\"year\": \"2020\", \"month_year\": \"2020-09\", \"date\": \"2020-09-26\", \"day_count\": 5025}, {\"year\": \"2020\", \"month_year\": \"2020-09\", \"date\": \"2020-09-25\", \"day_count\": 6294}, {\"year\": \"2020\", \"month_year\": \"2020-09\", \"date\": \"2020-09-24\", \"day_count\": 6083}, {\"year\": \"2020\", \"month_year\": \"2020-09\", \"date\": \"2020-09-23\", \"day_count\": 13892}, {\"year\": \"2020\", \"month_year\": \"2020-09\", \"date\": \"2020-09-22\", \"day_count\": 10136}, {\"year\": \"2020\", \"month_year\": \"2020-09\", \"date\": \"2020-09-21\", \"day_count\": 7716}, {\"year\": \"2020\", \"month_year\": \"2020-09\", \"date\": \"2020-09-20\", \"day_count\": 5181}, {\"year\": \"2020\", \"month_year\": \"2020-09\", \"date\": \"2020-09-19\", \"day_count\": 5237}, {\"year\": \"2020\", \"month_year\": \"2020-09\", \"date\": \"2020-09-18\", \"day_count\": 7890}, {\"year\": \"2020\", \"month_year\": \"2020-09\", \"date\": \"2020-09-17\", \"day_count\": 9938}, {\"year\": \"2020\", \"month_year\": \"2020-09\", \"date\": \"2020-09-16\", \"day_count\": 10942}, {\"year\": \"2020\", \"month_year\": \"2020-09\", \"date\": \"2020-09-15\", \"day_count\": 10636}, {\"year\": \"2020\", \"month_year\": \"2020-09\", \"date\": \"2020-09-14\", \"day_count\": 5792}, {\"year\": \"2020\", \"month_year\": \"2020-09\", \"date\": \"2020-09-13\", \"day_count\": 11230}, {\"year\": \"2020\", \"month_year\": \"2020-09\", \"date\": \"2020-09-12\", \"day_count\": 9270}, {\"year\": \"2020\", \"month_year\": \"2020-09\", \"date\": \"2020-09-11\", \"day_count\": 9040}, {\"year\": \"2020\", \"month_year\": \"2020-09\", \"date\": \"2020-09-10\", \"day_count\": 8712}, {\"year\": \"2020\", \"month_year\": \"2020-09\", \"date\": \"2020-09-09\", \"day_count\": 9477}, {\"year\": \"2020\", \"month_year\": \"2020-09\", \"date\": \"2020-09-08\", \"day_count\": 28843}, {\"year\": \"2020\", \"month_year\": \"2020-09\", \"date\": \"2020-09-07\", \"day_count\": 7002}, {\"year\": \"2020\", \"month_year\": \"2020-09\", \"date\": \"2020-09-06\", \"day_count\": 5829}, {\"year\": \"2020\", \"month_year\": \"2020-09\", \"date\": \"2020-09-05\", \"day_count\": 9003}, {\"year\": \"2020\", \"month_year\": \"2020-09\", \"date\": \"2020-09-04\", \"day_count\": 17558}, {\"year\": \"2020\", \"month_year\": \"2020-09\", \"date\": \"2020-09-03\", \"day_count\": 16909}, {\"year\": \"2020\", \"month_year\": \"2020-09\", \"date\": \"2020-09-02\", \"day_count\": 16036}, {\"year\": \"2020\", \"month_year\": \"2020-09\", \"date\": \"2020-09-01\", \"day_count\": 16850}, {\"year\": \"2020\", \"month_year\": \"2020-08\", \"date\": \"2020-08-31\", \"day_count\": 17732}, {\"year\": \"2020\", \"month_year\": \"2020-08\", \"date\": \"2020-08-30\", \"day_count\": 28146}, {\"year\": \"2020\", \"month_year\": \"2020-08\", \"date\": \"2020-08-29\", \"day_count\": 66784}, {\"year\": \"2020\", \"month_year\": \"2020-08\", \"date\": \"2020-08-28\", \"day_count\": 16018}, {\"year\": \"2020\", \"month_year\": \"2020-08\", \"date\": \"2020-08-27\", \"day_count\": 14742}, {\"year\": \"2020\", \"month_year\": \"2020-08\", \"date\": \"2020-08-26\", \"day_count\": 10269}, {\"year\": \"2020\", \"month_year\": \"2020-08\", \"date\": \"2020-08-25\", \"day_count\": 6058}, {\"year\": \"2020\", \"month_year\": \"2020-08\", \"date\": \"2020-08-24\", \"day_count\": 6137}, {\"year\": \"2020\", \"month_year\": \"2020-08\", \"date\": \"2020-08-23\", \"day_count\": 12150}, {\"year\": \"2020\", \"month_year\": \"2020-08\", \"date\": \"2020-08-22\", \"day_count\": 13402}, {\"year\": \"2020\", \"month_year\": \"2020-08\", \"date\": \"2020-08-21\", \"day_count\": 14973}, {\"year\": \"2020\", \"month_year\": \"2020-08\", \"date\": \"2020-08-20\", \"day_count\": 11153}, {\"year\": \"2020\", \"month_year\": \"2020-08\", \"date\": \"2020-08-19\", \"day_count\": 8793}, {\"year\": \"2020\", \"month_year\": \"2020-08\", \"date\": \"2020-08-18\", \"day_count\": 10833}, {\"year\": \"2020\", \"month_year\": \"2020-08\", \"date\": \"2020-08-17\", \"day_count\": 7110}, {\"year\": \"2020\", \"month_year\": \"2020-08\", \"date\": \"2020-08-16\", \"day_count\": 6208}, {\"year\": \"2020\", \"month_year\": \"2020-08\", \"date\": \"2020-08-15\", \"day_count\": 6294}, {\"year\": \"2020\", \"month_year\": \"2020-08\", \"date\": \"2020-08-14\", \"day_count\": 16271}, {\"year\": \"2020\", \"month_year\": \"2020-08\", \"date\": \"2020-08-13\", \"day_count\": 5707}, {\"year\": \"2020\", \"month_year\": \"2020-08\", \"date\": \"2020-08-12\", \"day_count\": 4810}, {\"year\": \"2020\", \"month_year\": \"2020-08\", \"date\": \"2020-08-11\", \"day_count\": 6490}, {\"year\": \"2020\", \"month_year\": \"2020-08\", \"date\": \"2020-08-10\", \"day_count\": 8827}, {\"year\": \"2020\", \"month_year\": \"2020-08\", \"date\": \"2020-08-09\", \"day_count\": 12397}, {\"year\": \"2020\", \"month_year\": \"2020-08\", \"date\": \"2020-08-08\", \"day_count\": 48695}, {\"year\": \"2020\", \"month_year\": \"2020-08\", \"date\": \"2020-08-07\", \"day_count\": 15288}, {\"year\": \"2020\", \"month_year\": \"2020-08\", \"date\": \"2020-08-06\", \"day_count\": 8433}, {\"year\": \"2020\", \"month_year\": \"2020-08\", \"date\": \"2020-08-05\", \"day_count\": 10554}, {\"year\": \"2020\", \"month_year\": \"2020-08\", \"date\": \"2020-08-04\", \"day_count\": 13282}, {\"year\": \"2020\", \"month_year\": \"2020-08\", \"date\": \"2020-08-03\", \"day_count\": 26465}, {\"year\": \"2020\", \"month_year\": \"2020-08\", \"date\": \"2020-08-02\", \"day_count\": 22169}, {\"year\": \"2020\", \"month_year\": \"2020-08\", \"date\": \"2020-08-01\", \"day_count\": 20126}, {\"year\": \"2020\", \"month_year\": \"2020-07\", \"date\": \"2020-07-31\", \"day_count\": 23324}, {\"year\": \"2020\", \"month_year\": \"2020-07\", \"date\": \"2020-07-30\", \"day_count\": 15883}, {\"year\": \"2020\", \"month_year\": \"2020-07\", \"date\": \"2020-07-29\", \"day_count\": 21510}, {\"year\": \"2020\", \"month_year\": \"2020-07\", \"date\": \"2020-07-28\", \"day_count\": 39893}, {\"year\": \"2020\", \"month_year\": \"2020-07\", \"date\": \"2020-07-27\", \"day_count\": 49111}, {\"year\": \"2020\", \"month_year\": \"2020-07\", \"date\": \"2020-07-26\", \"day_count\": 101447}, {\"year\": \"2020\", \"month_year\": \"2020-07\", \"date\": \"2020-07-25\", \"day_count\": 194997}, {\"year\": \"2020\", \"month_year\": \"2020-07\", \"date\": \"2020-07-24\", \"day_count\": 28496}, {\"year\": \"2020\", \"month_year\": \"2020-07\", \"date\": \"2020-07-23\", \"day_count\": 15132}, {\"year\": \"2020\", \"month_year\": \"2020-07\", \"date\": \"2020-07-22\", \"day_count\": 18684}, {\"year\": \"2020\", \"month_year\": \"2020-07\", \"date\": \"2020-07-21\", \"day_count\": 10697}, {\"year\": \"2020\", \"month_year\": \"2020-07\", \"date\": \"2020-07-20\", \"day_count\": 7703}, {\"year\": \"2020\", \"month_year\": \"2020-07\", \"date\": \"2020-07-19\", \"day_count\": 7628}, {\"year\": \"2020\", \"month_year\": \"2020-07\", \"date\": \"2020-07-18\", \"day_count\": 7071}, {\"year\": \"2020\", \"month_year\": \"2020-07\", \"date\": \"2020-07-17\", \"day_count\": 8939}, {\"year\": \"2020\", \"month_year\": \"2020-07\", \"date\": \"2020-07-16\", \"day_count\": 77521}, {\"year\": \"2020\", \"month_year\": \"2020-07\", \"date\": \"2020-07-15\", \"day_count\": 119621}, {\"year\": \"2020\", \"month_year\": \"2020-07\", \"date\": \"2020-07-14\", \"day_count\": 14163}, {\"year\": \"2020\", \"month_year\": \"2020-07\", \"date\": \"2020-07-13\", \"day_count\": 15219}, {\"year\": \"2020\", \"month_year\": \"2020-07\", \"date\": \"2020-07-12\", \"day_count\": 8098}, {\"year\": \"2020\", \"month_year\": \"2020-07\", \"date\": \"2020-07-11\", \"day_count\": 16913}, {\"year\": \"2020\", \"month_year\": \"2020-07\", \"date\": \"2020-07-10\", \"day_count\": 13082}, {\"year\": \"2020\", \"month_year\": \"2020-07\", \"date\": \"2020-07-09\", \"day_count\": 11802}, {\"year\": \"2020\", \"month_year\": \"2020-07\", \"date\": \"2020-07-08\", \"day_count\": 15781}, {\"year\": \"2020\", \"month_year\": \"2020-07\", \"date\": \"2020-07-07\", \"day_count\": 19594}, {\"year\": \"2020\", \"month_year\": \"2020-07\", \"date\": \"2020-07-06\", \"day_count\": 35490}, {\"year\": \"2020\", \"month_year\": \"2020-07\", \"date\": \"2020-07-05\", \"day_count\": 87497}, {\"year\": \"2020\", \"month_year\": \"2020-07\", \"date\": \"2020-07-04\", \"day_count\": 40561}, {\"year\": \"2020\", \"month_year\": \"2020-07\", \"date\": \"2020-07-03\", \"day_count\": 23110}, {\"year\": \"2020\", \"month_year\": \"2020-07\", \"date\": \"2020-07-02\", \"day_count\": 21293}, {\"year\": \"2020\", \"month_year\": \"2020-07\", \"date\": \"2020-07-01\", \"day_count\": 11013}, {\"year\": \"2020\", \"month_year\": \"2020-06\", \"date\": \"2020-06-30\", \"day_count\": 5959}, {\"year\": \"2020\", \"month_year\": \"2020-06\", \"date\": \"2020-06-29\", \"day_count\": 6692}, {\"year\": \"2020\", \"month_year\": \"2020-06\", \"date\": \"2020-06-28\", \"day_count\": 11498}, {\"year\": \"2020\", \"month_year\": \"2020-06\", \"date\": \"2020-06-27\", \"day_count\": 5678}, {\"year\": \"2020\", \"month_year\": \"2020-06\", \"date\": \"2020-06-26\", \"day_count\": 8838}, {\"year\": \"2020\", \"month_year\": \"2020-06\", \"date\": \"2020-06-25\", \"day_count\": 6217}, {\"year\": \"2020\", \"month_year\": \"2020-06\", \"date\": \"2020-06-24\", \"day_count\": 5080}, {\"year\": \"2020\", \"month_year\": \"2020-06\", \"date\": \"2020-06-23\", \"day_count\": 5818}, {\"year\": \"2020\", \"month_year\": \"2020-06\", \"date\": \"2020-06-22\", \"day_count\": 6271}, {\"year\": \"2020\", \"month_year\": \"2020-06\", \"date\": \"2020-06-21\", \"day_count\": 5275}, {\"year\": \"2020\", \"month_year\": \"2020-06\", \"date\": \"2020-06-20\", \"day_count\": 6462}, {\"year\": \"2020\", \"month_year\": \"2020-06\", \"date\": \"2020-06-19\", \"day_count\": 7680}, {\"year\": \"2020\", \"month_year\": \"2020-06\", \"date\": \"2020-06-18\", \"day_count\": 8524}, {\"year\": \"2020\", \"month_year\": \"2020-06\", \"date\": \"2020-06-17\", \"day_count\": 6679}, {\"year\": \"2020\", \"month_year\": \"2020-06\", \"date\": \"2020-06-16\", \"day_count\": 4793}, {\"year\": \"2020\", \"month_year\": \"2020-06\", \"date\": \"2020-06-15\", \"day_count\": 4374}, {\"year\": \"2020\", \"month_year\": \"2020-06\", \"date\": \"2020-06-14\", \"day_count\": 3957}, {\"year\": \"2020\", \"month_year\": \"2020-06\", \"date\": \"2020-06-13\", \"day_count\": 5312}, {\"year\": \"2020\", \"month_year\": \"2020-06\", \"date\": \"2020-06-12\", \"day_count\": 5523}, {\"year\": \"2020\", \"month_year\": \"2020-06\", \"date\": \"2020-06-11\", \"day_count\": 9076}, {\"year\": \"2020\", \"month_year\": \"2020-06\", \"date\": \"2020-06-10\", \"day_count\": 10365}, {\"year\": \"2020\", \"month_year\": \"2020-06\", \"date\": \"2020-06-09\", \"day_count\": 6631}, {\"year\": \"2020\", \"month_year\": \"2020-06\", \"date\": \"2020-06-08\", \"day_count\": 7013}, {\"year\": \"2020\", \"month_year\": \"2020-06\", \"date\": \"2020-06-07\", \"day_count\": 6609}, {\"year\": \"2020\", \"month_year\": \"2020-06\", \"date\": \"2020-06-06\", \"day_count\": 8053}, {\"year\": \"2020\", \"month_year\": \"2020-06\", \"date\": \"2020-06-05\", \"day_count\": 12183}, {\"year\": \"2020\", \"month_year\": \"2020-06\", \"date\": \"2020-06-04\", \"day_count\": 10342}, {\"year\": \"2020\", \"month_year\": \"2020-06\", \"date\": \"2020-06-03\", \"day_count\": 7431}, {\"year\": \"2020\", \"month_year\": \"2020-06\", \"date\": \"2020-06-02\", \"day_count\": 15008}, {\"year\": \"2020\", \"month_year\": \"2020-06\", \"date\": \"2020-06-01\", \"day_count\": 21398}, {\"year\": \"2020\", \"month_year\": \"2020-05\", \"date\": \"2020-05-31\", \"day_count\": 56101}, {\"year\": \"2020\", \"month_year\": \"2020-05\", \"date\": \"2020-05-30\", \"day_count\": 73089}, {\"year\": \"2020\", \"month_year\": \"2020-05\", \"date\": \"2020-05-29\", \"day_count\": 22825}, {\"year\": \"2020\", \"month_year\": \"2020-05\", \"date\": \"2020-05-28\", \"day_count\": 43959}, {\"year\": \"2020\", \"month_year\": \"2020-05\", \"date\": \"2020-05-27\", \"day_count\": 45981}, {\"year\": \"2020\", \"month_year\": \"2020-05\", \"date\": \"2020-05-26\", \"day_count\": 16628}, {\"year\": \"2020\", \"month_year\": \"2020-05\", \"date\": \"2020-05-25\", \"day_count\": 18841}, {\"year\": \"2020\", \"month_year\": \"2020-05\", \"date\": \"2020-05-24\", \"day_count\": 16537}, {\"year\": \"2020\", \"month_year\": \"2020-05\", \"date\": \"2020-05-23\", \"day_count\": 9012}, {\"year\": \"2020\", \"month_year\": \"2020-05\", \"date\": \"2020-05-22\", \"day_count\": 21173}, {\"year\": \"2020\", \"month_year\": \"2020-05\", \"date\": \"2020-05-21\", \"day_count\": 20007}, {\"year\": \"2020\", \"month_year\": \"2020-05\", \"date\": \"2020-05-20\", \"day_count\": 12000}, {\"year\": \"2020\", \"month_year\": \"2020-05\", \"date\": \"2020-05-19\", \"day_count\": 14846}, {\"year\": \"2020\", \"month_year\": \"2020-05\", \"date\": \"2020-05-18\", \"day_count\": 27616}, {\"year\": \"2020\", \"month_year\": \"2020-05\", \"date\": \"2020-05-17\", \"day_count\": 17529}, {\"year\": \"2020\", \"month_year\": \"2020-05\", \"date\": \"2020-05-16\", \"day_count\": 11103}, {\"year\": \"2020\", \"month_year\": \"2020-05\", \"date\": \"2020-05-15\", \"day_count\": 18716}, {\"year\": \"2020\", \"month_year\": \"2020-05\", \"date\": \"2020-05-14\", \"day_count\": 28744}, {\"year\": \"2020\", \"month_year\": \"2020-05\", \"date\": \"2020-05-13\", \"day_count\": 66682}, {\"year\": \"2020\", \"month_year\": \"2020-05\", \"date\": \"2020-05-12\", \"day_count\": 83065}, {\"year\": \"2020\", \"month_year\": \"2020-05\", \"date\": \"2020-05-11\", \"day_count\": 80727}, {\"year\": \"2020\", \"month_year\": \"2020-05\", \"date\": \"2020-05-10\", \"day_count\": 105396}, {\"year\": \"2020\", \"month_year\": \"2020-05\", \"date\": \"2020-05-09\", \"day_count\": 44913}, {\"year\": \"2020\", \"month_year\": \"2020-05\", \"date\": \"2020-05-08\", \"day_count\": 38808}, {\"year\": \"2020\", \"month_year\": \"2020-05\", \"date\": \"2020-05-07\", \"day_count\": 137163}, {\"year\": \"2020\", \"month_year\": \"2020-05\", \"date\": \"2020-05-06\", \"day_count\": 239530}, {\"year\": \"2020\", \"month_year\": \"2020-05\", \"date\": \"2020-05-05\", \"day_count\": 123032}, {\"year\": \"2020\", \"month_year\": \"2020-05\", \"date\": \"2020-05-04\", \"day_count\": 12999}, {\"year\": \"2020\", \"month_year\": \"2020-05\", \"date\": \"2020-05-03\", \"day_count\": 11549}, {\"year\": \"2020\", \"month_year\": \"2020-05\", \"date\": \"2020-05-02\", \"day_count\": 45424}, {\"year\": \"2020\", \"month_year\": \"2020-05\", \"date\": \"2020-05-01\", \"day_count\": 49351}, {\"year\": \"2020\", \"month_year\": \"2020-04\", \"date\": \"2020-04-30\", \"day_count\": 54902}, {\"year\": \"2020\", \"month_year\": \"2020-04\", \"date\": \"2020-04-29\", \"day_count\": 66232}, {\"year\": \"2020\", \"month_year\": \"2020-04\", \"date\": \"2020-04-28\", \"day_count\": 5353}, {\"year\": \"2020\", \"month_year\": \"2020-04\", \"date\": \"2020-04-27\", \"day_count\": 4953}, {\"year\": \"2020\", \"month_year\": \"2020-04\", \"date\": \"2020-04-26\", \"day_count\": 4924}, {\"year\": \"2020\", \"month_year\": \"2020-04\", \"date\": \"2020-04-25\", \"day_count\": 6180}, {\"year\": \"2020\", \"month_year\": \"2020-04\", \"date\": \"2020-04-24\", \"day_count\": 6916}, {\"year\": \"2020\", \"month_year\": \"2020-04\", \"date\": \"2020-04-23\", \"day_count\": 9016}, {\"year\": \"2020\", \"month_year\": \"2020-04\", \"date\": \"2020-04-22\", \"day_count\": 4475}, {\"year\": \"2020\", \"month_year\": \"2020-04\", \"date\": \"2020-04-21\", \"day_count\": 5000}, {\"year\": \"2020\", \"month_year\": \"2020-04\", \"date\": \"2020-04-20\", \"day_count\": 9247}, {\"year\": \"2020\", \"month_year\": \"2020-04\", \"date\": \"2020-04-19\", \"day_count\": 13859}, {\"year\": \"2020\", \"month_year\": \"2020-04\", \"date\": \"2020-04-18\", \"day_count\": 10742}, {\"year\": \"2020\", \"month_year\": \"2020-04\", \"date\": \"2020-04-17\", \"day_count\": 15985}, {\"year\": \"2020\", \"month_year\": \"2020-04\", \"date\": \"2020-04-16\", \"day_count\": 16348}, {\"year\": \"2020\", \"month_year\": \"2020-04\", \"date\": \"2020-04-15\", \"day_count\": 9009}]}}, {\"mode\": \"vega-lite\"});\n",
       "</script>"
      ],
      "text/plain": [
       "alt.Chart(...)"
      ]
     },
     "execution_count": 36,
     "metadata": {},
     "output_type": "execute_result"
    }
   ],
   "source": [
    "alt.Chart(df_complete.head(365 * 2)).mark_area(color=\"red\").encode(\n",
    "    x=\"date:T\", y=\"day_count:Q\",\n",
    ").properties(width=900)"
   ]
  },
  {
   "cell_type": "code",
   "execution_count": null,
   "id": "87ca3d47-5bef-4ad8-8f66-97670198b0c2",
   "metadata": {},
   "outputs": [],
   "source": []
  },
  {
   "cell_type": "markdown",
   "id": "a72c9cb9-9422-4ad0-8318-37d059133f60",
   "metadata": {},
   "source": [
    "---"
   ]
  },
  {
   "cell_type": "markdown",
   "id": "b3ae7ed9-7804-479d-83d3-2fd333d727fc",
   "metadata": {},
   "source": [
    "## Aggregate "
   ]
  },
  {
   "cell_type": "markdown",
   "id": "d1c3657e-6c8a-497b-86cb-0ea9c6dec1c3",
   "metadata": {},
   "source": [
    "#### Groupby month/year"
   ]
  },
  {
   "cell_type": "code",
   "execution_count": 40,
   "id": "0faf93a8-6c61-404b-adb3-1c43f59124b5",
   "metadata": {},
   "outputs": [],
   "source": [
    "elon_months = (\n",
    "    df_complete.groupby([\"month_year\"])\n",
    "    .agg({\"day_count\": sum})\n",
    "    .sort_values(\"month_year\", ascending=False)\n",
    "    .reset_index()\n",
    ")"
   ]
  },
  {
   "cell_type": "code",
   "execution_count": 41,
   "id": "6cc1d8d0-88f5-43a4-a2e3-aa3bf5175d33",
   "metadata": {},
   "outputs": [
    {
     "data": {
      "text/html": [
       "\n",
       "<div id=\"altair-viz-67539af61bb04e57bb0e1fda20c8456d\"></div>\n",
       "<script type=\"text/javascript\">\n",
       "  var VEGA_DEBUG = (typeof VEGA_DEBUG == \"undefined\") ? {} : VEGA_DEBUG;\n",
       "  (function(spec, embedOpt){\n",
       "    let outputDiv = document.currentScript.previousElementSibling;\n",
       "    if (outputDiv.id !== \"altair-viz-67539af61bb04e57bb0e1fda20c8456d\") {\n",
       "      outputDiv = document.getElementById(\"altair-viz-67539af61bb04e57bb0e1fda20c8456d\");\n",
       "    }\n",
       "    const paths = {\n",
       "      \"vega\": \"https://cdn.jsdelivr.net/npm//vega@5?noext\",\n",
       "      \"vega-lib\": \"https://cdn.jsdelivr.net/npm//vega-lib?noext\",\n",
       "      \"vega-lite\": \"https://cdn.jsdelivr.net/npm//vega-lite@4.17.0?noext\",\n",
       "      \"vega-embed\": \"https://cdn.jsdelivr.net/npm//vega-embed@6?noext\",\n",
       "    };\n",
       "\n",
       "    function maybeLoadScript(lib, version) {\n",
       "      var key = `${lib.replace(\"-\", \"\")}_version`;\n",
       "      return (VEGA_DEBUG[key] == version) ?\n",
       "        Promise.resolve(paths[lib]) :\n",
       "        new Promise(function(resolve, reject) {\n",
       "          var s = document.createElement('script');\n",
       "          document.getElementsByTagName(\"head\")[0].appendChild(s);\n",
       "          s.async = true;\n",
       "          s.onload = () => {\n",
       "            VEGA_DEBUG[key] = version;\n",
       "            return resolve(paths[lib]);\n",
       "          };\n",
       "          s.onerror = () => reject(`Error loading script: ${paths[lib]}`);\n",
       "          s.src = paths[lib];\n",
       "        });\n",
       "    }\n",
       "\n",
       "    function showError(err) {\n",
       "      outputDiv.innerHTML = `<div class=\"error\" style=\"color:red;\">${err}</div>`;\n",
       "      throw err;\n",
       "    }\n",
       "\n",
       "    function displayChart(vegaEmbed) {\n",
       "      vegaEmbed(outputDiv, spec, embedOpt)\n",
       "        .catch(err => showError(`Javascript Error: ${err.message}<br>This usually means there's a typo in your chart specification. See the javascript console for the full traceback.`));\n",
       "    }\n",
       "\n",
       "    if(typeof define === \"function\" && define.amd) {\n",
       "      requirejs.config({paths});\n",
       "      require([\"vega-embed\"], displayChart, err => showError(`Error loading script: ${err.message}`));\n",
       "    } else {\n",
       "      maybeLoadScript(\"vega\", \"5\")\n",
       "        .then(() => maybeLoadScript(\"vega-lite\", \"4.17.0\"))\n",
       "        .then(() => maybeLoadScript(\"vega-embed\", \"6\"))\n",
       "        .catch(showError)\n",
       "        .then(() => displayChart(vegaEmbed));\n",
       "    }\n",
       "  })({\"config\": {\"view\": {\"continuousWidth\": 400, \"continuousHeight\": 300}}, \"data\": {\"name\": \"data-e4e908c4c6972bafe1719c9a6e2ab18e\"}, \"mark\": {\"type\": \"area\", \"color\": \"red\"}, \"encoding\": {\"x\": {\"field\": \"month_year\", \"type\": \"temporal\"}, \"y\": {\"field\": \"day_count\", \"type\": \"quantitative\"}}, \"width\": 900, \"$schema\": \"https://vega.github.io/schema/vega-lite/v4.17.0.json\", \"datasets\": {\"data-e4e908c4c6972bafe1719c9a6e2ab18e\": [{\"month_year\": \"2022-04\", \"day_count\": 2164874}, {\"month_year\": \"2022-03\", \"day_count\": 1247025}, {\"month_year\": \"2022-02\", \"day_count\": 1111795}, {\"month_year\": \"2022-01\", \"day_count\": 952010}, {\"month_year\": \"2021-12\", \"day_count\": 1480691}, {\"month_year\": \"2021-11\", \"day_count\": 1116953}, {\"month_year\": \"2021-10\", \"day_count\": 825945}, {\"month_year\": \"2021-09\", \"day_count\": 469908}, {\"month_year\": \"2021-08\", \"day_count\": 560483}, {\"month_year\": \"2021-07\", \"day_count\": 650100}, {\"month_year\": \"2021-06\", \"day_count\": 846402}, {\"month_year\": \"2021-05\", \"day_count\": 1467965}, {\"month_year\": \"2021-04\", \"day_count\": 669040}, {\"month_year\": \"2021-03\", \"day_count\": 676488}, {\"month_year\": \"2021-02\", \"day_count\": 959580}, {\"month_year\": \"2021-01\", \"day_count\": 1099395}, {\"month_year\": \"2020-12\", \"day_count\": 412021}, {\"month_year\": \"2020-11\", \"day_count\": 304413}, {\"month_year\": \"2020-10\", \"day_count\": 222119}, {\"month_year\": \"2020-09\", \"day_count\": 319602}, {\"month_year\": \"2020-08\", \"day_count\": 476316}, {\"month_year\": \"2020-07\", \"day_count\": 1081273}, {\"month_year\": \"2020-06\", \"day_count\": 234739}, {\"month_year\": \"2020-05\", \"day_count\": 1513346}, {\"month_year\": \"2020-04\", \"day_count\": 350558}, {\"month_year\": \"2020-03\", \"day_count\": 239183}, {\"month_year\": \"2020-02\", \"day_count\": 139287}, {\"month_year\": \"2020-01\", \"day_count\": 253531}, {\"month_year\": \"2019-12\", \"day_count\": 194818}, {\"month_year\": \"2019-11\", \"day_count\": 332655}, {\"month_year\": \"2019-10\", \"day_count\": 148826}, {\"month_year\": \"2019-09\", \"day_count\": 128471}, {\"month_year\": \"2019-08\", \"day_count\": 134524}, {\"month_year\": \"2019-07\", \"day_count\": 169355}, {\"month_year\": \"2019-06\", \"day_count\": 213011}, {\"month_year\": \"2019-05\", \"day_count\": 141383}, {\"month_year\": \"2019-04\", \"day_count\": 222858}, {\"month_year\": \"2019-03\", \"day_count\": 154559}, {\"month_year\": \"2019-02\", \"day_count\": 167164}, {\"month_year\": \"2019-01\", \"day_count\": 132499}, {\"month_year\": \"2018-12\", \"day_count\": 205084}, {\"month_year\": \"2018-11\", \"day_count\": 173152}, {\"month_year\": \"2018-10\", \"day_count\": 233789}, {\"month_year\": \"2018-09\", \"day_count\": 484181}, {\"month_year\": \"2018-08\", \"day_count\": 422355}, {\"month_year\": \"2018-07\", \"day_count\": 731458}, {\"month_year\": \"2018-06\", \"day_count\": 244309}, {\"month_year\": \"2018-05\", \"day_count\": 406402}, {\"month_year\": \"2018-04\", \"day_count\": 166688}, {\"month_year\": \"2018-03\", \"day_count\": 258163}, {\"month_year\": \"2018-02\", \"day_count\": 504860}, {\"month_year\": \"2018-01\", \"day_count\": 136200}, {\"month_year\": \"2017-12\", \"day_count\": 197122}, {\"month_year\": \"2017-11\", \"day_count\": 204649}, {\"month_year\": \"2017-10\", \"day_count\": 188111}, {\"month_year\": \"2017-09\", \"day_count\": 176567}, {\"month_year\": \"2017-08\", \"day_count\": 205244}, {\"month_year\": \"2017-07\", \"day_count\": 233858}, {\"month_year\": \"2017-06\", \"day_count\": 211943}, {\"month_year\": \"2017-05\", \"day_count\": 161446}, {\"month_year\": \"2017-04\", \"day_count\": 155433}, {\"month_year\": \"2017-03\", \"day_count\": 178356}, {\"month_year\": \"2017-02\", \"day_count\": 165361}, {\"month_year\": \"2017-01\", \"day_count\": 106702}, {\"month_year\": \"2016-12\", \"day_count\": 90210}, {\"month_year\": \"2016-11\", \"day_count\": 128450}, {\"month_year\": \"2016-10\", \"day_count\": 142956}, {\"month_year\": \"2016-09\", \"day_count\": 215376}, {\"month_year\": \"2016-08\", \"day_count\": 88139}, {\"month_year\": \"2016-07\", \"day_count\": 131933}, {\"month_year\": \"2016-06\", \"day_count\": 188631}, {\"month_year\": \"2016-05\", \"day_count\": 83864}, {\"month_year\": \"2016-04\", \"day_count\": 114909}, {\"month_year\": \"2016-03\", \"day_count\": 42991}, {\"month_year\": \"2016-02\", \"day_count\": 68665}, {\"month_year\": \"2016-01\", \"day_count\": 83697}, {\"month_year\": \"2015-12\", \"day_count\": 110230}, {\"month_year\": \"2015-11\", \"day_count\": 52751}, {\"month_year\": \"2015-10\", \"day_count\": 101592}, {\"month_year\": \"2015-09\", \"day_count\": 83362}, {\"month_year\": \"2015-08\", \"day_count\": 58206}, {\"month_year\": \"2015-07\", \"day_count\": 65349}, {\"month_year\": \"2015-06\", \"day_count\": 65414}, {\"month_year\": \"2015-05\", \"day_count\": 124740}, {\"month_year\": \"2015-04\", \"day_count\": 51874}, {\"month_year\": \"2015-03\", \"day_count\": 62706}, {\"month_year\": \"2015-02\", \"day_count\": 43904}, {\"month_year\": \"2015-01\", \"day_count\": 118259}, {\"month_year\": \"2014-12\", \"day_count\": 32445}, {\"month_year\": \"2014-11\", \"day_count\": 40911}, {\"month_year\": \"2014-10\", \"day_count\": 72806}, {\"month_year\": \"2014-09\", \"day_count\": 22618}, {\"month_year\": \"2014-08\", \"day_count\": 32995}, {\"month_year\": \"2014-07\", \"day_count\": 33754}, {\"month_year\": \"2014-06\", \"day_count\": 62893}, {\"month_year\": \"2014-05\", \"day_count\": 31312}, {\"month_year\": \"2014-04\", \"day_count\": 21107}, {\"month_year\": \"2014-03\", \"day_count\": 30271}, {\"month_year\": \"2014-02\", \"day_count\": 22196}, {\"month_year\": \"2014-01\", \"day_count\": 9345}, {\"month_year\": \"2013-12\", \"day_count\": 13390}, {\"month_year\": \"2013-11\", \"day_count\": 21549}, {\"month_year\": \"2013-10\", \"day_count\": 28250}, {\"month_year\": \"2013-09\", \"day_count\": 27602}, {\"month_year\": \"2013-08\", \"day_count\": 87230}, {\"month_year\": \"2013-07\", \"day_count\": 23662}, {\"month_year\": \"2013-06\", \"day_count\": 10509}, {\"month_year\": \"2013-05\", \"day_count\": 29747}, {\"month_year\": \"2013-04\", \"day_count\": 11903}, {\"month_year\": \"2013-03\", \"day_count\": 27605}, {\"month_year\": \"2013-02\", \"day_count\": 23806}, {\"month_year\": \"2013-01\", \"day_count\": 6487}, {\"month_year\": \"2012-12\", \"day_count\": 5521}, {\"month_year\": \"2012-11\", \"day_count\": 17439}, {\"month_year\": \"2012-10\", \"day_count\": 5936}, {\"month_year\": \"2012-09\", \"day_count\": 7387}, {\"month_year\": \"2012-08\", \"day_count\": 6612}, {\"month_year\": \"2012-07\", \"day_count\": 5041}, {\"month_year\": \"2012-06\", \"day_count\": 5758}, {\"month_year\": \"2012-05\", \"day_count\": 12265}, {\"month_year\": \"2012-04\", \"day_count\": 8462}, {\"month_year\": \"2012-03\", \"day_count\": 3573}, {\"month_year\": \"2012-02\", \"day_count\": 2841}, {\"month_year\": \"2012-01\", \"day_count\": 1248}, {\"month_year\": \"2011-12\", \"day_count\": 1391}, {\"month_year\": \"2011-11\", \"day_count\": 1073}, {\"month_year\": \"2011-10\", \"day_count\": 2604}, {\"month_year\": \"2011-09\", \"day_count\": 3355}, {\"month_year\": \"2011-08\", \"day_count\": 2895}, {\"month_year\": \"2011-07\", \"day_count\": 551}, {\"month_year\": \"2011-06\", \"day_count\": 364}, {\"month_year\": \"2011-05\", \"day_count\": 1347}, {\"month_year\": \"2011-04\", \"day_count\": 3768}, {\"month_year\": \"2011-03\", \"day_count\": 1090}, {\"month_year\": \"2011-02\", \"day_count\": 309}, {\"month_year\": \"2011-01\", \"day_count\": 652}, {\"month_year\": \"2010-12\", \"day_count\": 1860}, {\"month_year\": \"2010-11\", \"day_count\": 1006}, {\"month_year\": \"2010-10\", \"day_count\": 829}, {\"month_year\": \"2010-09\", \"day_count\": 341}, {\"month_year\": \"2010-08\", \"day_count\": 1683}, {\"month_year\": \"2010-07\", \"day_count\": 2850}, {\"month_year\": \"2010-06\", \"day_count\": 3433}, {\"month_year\": \"2010-05\", \"day_count\": 1822}, {\"month_year\": \"2010-04\", \"day_count\": 392}, {\"month_year\": \"2010-03\", \"day_count\": 215}, {\"month_year\": \"2010-02\", \"day_count\": 928}, {\"month_year\": \"2010-01\", \"day_count\": 259}, {\"month_year\": \"2009-12\", \"day_count\": 54}, {\"month_year\": \"2009-11\", \"day_count\": 124}, {\"month_year\": \"2009-10\", \"day_count\": 66}, {\"month_year\": \"2009-09\", \"day_count\": 249}, {\"month_year\": \"2009-08\", \"day_count\": 188}, {\"month_year\": \"2009-07\", \"day_count\": 241}, {\"month_year\": \"2009-06\", \"day_count\": 989}, {\"month_year\": \"2009-05\", \"day_count\": 486}, {\"month_year\": \"2009-04\", \"day_count\": 706}, {\"month_year\": \"2009-03\", \"day_count\": 110}, {\"month_year\": \"2009-02\", \"day_count\": 44}, {\"month_year\": \"2009-01\", \"day_count\": 55}, {\"month_year\": \"2008-12\", \"day_count\": 38}, {\"month_year\": \"2008-11\", \"day_count\": 134}, {\"month_year\": \"2008-10\", \"day_count\": 77}, {\"month_year\": \"2008-09\", \"day_count\": 78}, {\"month_year\": \"2008-08\", \"day_count\": 62}, {\"month_year\": \"2008-07\", \"day_count\": 10}, {\"month_year\": \"2008-06\", \"day_count\": 20}, {\"month_year\": \"2008-05\", \"day_count\": 24}, {\"month_year\": \"2008-04\", \"day_count\": 8}, {\"month_year\": \"2008-03\", \"day_count\": 6}, {\"month_year\": \"2008-02\", \"day_count\": 15}, {\"month_year\": \"2008-01\", \"day_count\": 1}, {\"month_year\": \"2007-12\", \"day_count\": 4}, {\"month_year\": \"2007-11\", \"day_count\": 0}, {\"month_year\": \"2007-10\", \"day_count\": 3}, {\"month_year\": \"2007-09\", \"day_count\": 2}, {\"month_year\": \"2007-08\", \"day_count\": 2}, {\"month_year\": \"2007-07\", \"day_count\": 0}, {\"month_year\": \"2007-06\", \"day_count\": 0}, {\"month_year\": \"2007-05\", \"day_count\": 4}, {\"month_year\": \"2007-04\", \"day_count\": 0}, {\"month_year\": \"2007-03\", \"day_count\": 4}]}}, {\"mode\": \"vega-lite\"});\n",
       "</script>"
      ],
      "text/plain": [
       "alt.Chart(...)"
      ]
     },
     "execution_count": 41,
     "metadata": {},
     "output_type": "execute_result"
    }
   ],
   "source": [
    "alt.Chart(elon_months).mark_area(color=\"red\").encode(\n",
    "    x=\"month_year:T\", y=\"day_count:Q\",\n",
    ").properties(width=900)"
   ]
  },
  {
   "cell_type": "markdown",
   "id": "59a5cae0-d2cc-410d-9ea8-8afc1eb033ff",
   "metadata": {},
   "source": [
    "#### Which month-year was max? "
   ]
  },
  {
   "cell_type": "code",
   "execution_count": null,
   "id": "7ff97ad4-135c-4bf7-ba02-b7b73a1214f5",
   "metadata": {},
   "outputs": [],
   "source": []
  },
  {
   "cell_type": "code",
   "execution_count": null,
   "id": "6f024597-6774-4144-a1b9-641f8c71dc3e",
   "metadata": {},
   "outputs": [],
   "source": []
  },
  {
   "cell_type": "code",
   "execution_count": null,
   "id": "ec9a6f6b-b7c8-4b13-82c7-7be9581ff2b3",
   "metadata": {},
   "outputs": [],
   "source": []
  },
  {
   "cell_type": "markdown",
   "id": "780ae687-48aa-4729-a812-82934aa583b9",
   "metadata": {},
   "source": [
    "---"
   ]
  },
  {
   "cell_type": "markdown",
   "id": "d422f236-d07f-4be8-b9b0-39a053bb4782",
   "metadata": {},
   "source": [
    "#### Exports"
   ]
  },
  {
   "cell_type": "code",
   "execution_count": 44,
   "id": "f109e755-52bc-4530-a013-6f16fa2fe961",
   "metadata": {},
   "outputs": [],
   "source": [
    "df_complete.to_csv(f\"../data/processed/twitter_mentions_{mentioned}.csv\", index=False)"
   ]
  },
  {
   "cell_type": "code",
   "execution_count": null,
   "id": "356fd494-f414-4ade-8a74-6b07b5c6e0ef",
   "metadata": {},
   "outputs": [],
   "source": []
  }
 ],
 "metadata": {
  "kernelspec": {
   "display_name": "Python 3 (ipykernel)",
   "language": "python",
   "name": "python3"
  },
  "language_info": {
   "codemirror_mode": {
    "name": "ipython",
    "version": 3
   },
   "file_extension": ".py",
   "mimetype": "text/x-python",
   "name": "python",
   "nbconvert_exporter": "python",
   "pygments_lexer": "ipython3",
   "version": "3.9.7"
  }
 },
 "nbformat": 4,
 "nbformat_minor": 5
}
