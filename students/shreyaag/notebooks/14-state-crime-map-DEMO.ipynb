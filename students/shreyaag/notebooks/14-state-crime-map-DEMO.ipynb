{
 "cells": [
  {
   "cell_type": "markdown",
   "id": "cf543214-f1e4-46f5-a4ca-0641e43e455f",
   "metadata": {},
   "source": [
    "# Mapping homicides, by state"
   ]
  },
  {
   "cell_type": "markdown",
   "id": "ece5a4d3-be58-4d94-9736-5e9d10a41ba9",
   "metadata": {},
   "source": [
    "#### Load python tools"
   ]
  },
  {
   "cell_type": "code",
   "execution_count": 1,
   "id": "2594907b-7dfe-4e1f-9406-771e53069144",
   "metadata": {},
   "outputs": [],
   "source": [
    "%load_ext lab_black"
   ]
  },
  {
   "cell_type": "code",
   "execution_count": 2,
   "id": "5d82586b-0073-434d-bcee-46e1013d7fc5",
   "metadata": {},
   "outputs": [],
   "source": [
    "import pandas as pd\n",
    "import geopandas as gpd\n",
    "import numpy as np"
   ]
  },
  {
   "cell_type": "code",
   "execution_count": 3,
   "id": "558e402e-5ce6-4bae-bf4f-0157e6bc405d",
   "metadata": {},
   "outputs": [],
   "source": [
    "pd.options.display.max_columns = 1000\n",
    "pd.options.display.max_rows = 1000"
   ]
  },
  {
   "cell_type": "markdown",
   "id": "0d5e4ae4-2af2-49aa-8233-17cbcee0d1d2",
   "metadata": {},
   "source": [
    "### Crime map\n",
    "##### What's the murder rate by state?"
   ]
  },
  {
   "cell_type": "code",
   "execution_count": 4,
   "id": "9a7ca8ec-284e-4d74-93f1-bc85abe1ca22",
   "metadata": {},
   "outputs": [],
   "source": [
    "# Values: https://raw.githubusercontent.com/stiles/usc/main/data/processed/homicide-rates-states.csv\n",
    "# Geo: https://raw.githubusercontent.com/stiles/usc/main/data/geo/states.geojson"
   ]
  },
  {
   "cell_type": "markdown",
   "id": "8c604e79-f6e6-4d25-af38-8367a06e25bd",
   "metadata": {},
   "source": [
    "#### Read state-level homicide data"
   ]
  },
  {
   "cell_type": "code",
   "execution_count": 5,
   "id": "597071f2-826e-443e-8172-14b75f8e60b7",
   "metadata": {},
   "outputs": [],
   "source": [
    "hom_rates = pd.read_csv(\n",
    "    \"https://raw.githubusercontent.com/stiles/usc/main/data/processed/homicide-rates-states.csv\"\n",
    ")"
   ]
  },
  {
   "cell_type": "code",
   "execution_count": 6,
   "id": "07aa6d30-6a4b-4aa2-b1da-259e686bc602",
   "metadata": {},
   "outputs": [
    {
     "data": {
      "text/html": [
       "<div>\n",
       "<style scoped>\n",
       "    .dataframe tbody tr th:only-of-type {\n",
       "        vertical-align: middle;\n",
       "    }\n",
       "\n",
       "    .dataframe tbody tr th {\n",
       "        vertical-align: top;\n",
       "    }\n",
       "\n",
       "    .dataframe thead th {\n",
       "        text-align: right;\n",
       "    }\n",
       "</style>\n",
       "<table border=\"1\" class=\"dataframe\">\n",
       "  <thead>\n",
       "    <tr style=\"text-align: right;\">\n",
       "      <th></th>\n",
       "      <th>year</th>\n",
       "      <th>state</th>\n",
       "      <th>rate</th>\n",
       "      <th>deaths</th>\n",
       "      <th>url</th>\n",
       "      <th>name</th>\n",
       "      <th>usps</th>\n",
       "      <th>ap</th>\n",
       "    </tr>\n",
       "  </thead>\n",
       "  <tbody>\n",
       "    <tr>\n",
       "      <th>0</th>\n",
       "      <td>2020</td>\n",
       "      <td>AL</td>\n",
       "      <td>14.2</td>\n",
       "      <td>654</td>\n",
       "      <td>/nchs/pressroom/states/alabama/al.htm</td>\n",
       "      <td>Alabama</td>\n",
       "      <td>AL</td>\n",
       "      <td>Ala.</td>\n",
       "    </tr>\n",
       "    <tr>\n",
       "      <th>1</th>\n",
       "      <td>2020</td>\n",
       "      <td>AK</td>\n",
       "      <td>7.3</td>\n",
       "      <td>55</td>\n",
       "      <td>/nchs/pressroom/states/alaska/ak.htm</td>\n",
       "      <td>Alaska</td>\n",
       "      <td>AK</td>\n",
       "      <td>Alaska</td>\n",
       "    </tr>\n",
       "    <tr>\n",
       "      <th>2</th>\n",
       "      <td>2020</td>\n",
       "      <td>AZ</td>\n",
       "      <td>7.5</td>\n",
       "      <td>525</td>\n",
       "      <td>/nchs/pressroom/states/arizona/az.htm</td>\n",
       "      <td>Arizona</td>\n",
       "      <td>AZ</td>\n",
       "      <td>Ariz.</td>\n",
       "    </tr>\n",
       "    <tr>\n",
       "      <th>3</th>\n",
       "      <td>2020</td>\n",
       "      <td>AR</td>\n",
       "      <td>13.0</td>\n",
       "      <td>371</td>\n",
       "      <td>/nchs/pressroom/states/arkansas/ar.htm</td>\n",
       "      <td>Arkansas</td>\n",
       "      <td>AR</td>\n",
       "      <td>Ark.</td>\n",
       "    </tr>\n",
       "    <tr>\n",
       "      <th>4</th>\n",
       "      <td>2020</td>\n",
       "      <td>CA</td>\n",
       "      <td>6.1</td>\n",
       "      <td>2368</td>\n",
       "      <td>/nchs/pressroom/states/california/ca.htm</td>\n",
       "      <td>California</td>\n",
       "      <td>CA</td>\n",
       "      <td>Calif.</td>\n",
       "    </tr>\n",
       "  </tbody>\n",
       "</table>\n",
       "</div>"
      ],
      "text/plain": [
       "   year state  rate  deaths                                       url  \\\n",
       "0  2020    AL  14.2     654     /nchs/pressroom/states/alabama/al.htm   \n",
       "1  2020    AK   7.3      55      /nchs/pressroom/states/alaska/ak.htm   \n",
       "2  2020    AZ   7.5     525     /nchs/pressroom/states/arizona/az.htm   \n",
       "3  2020    AR  13.0     371    /nchs/pressroom/states/arkansas/ar.htm   \n",
       "4  2020    CA   6.1    2368  /nchs/pressroom/states/california/ca.htm   \n",
       "\n",
       "         name usps      ap  \n",
       "0     Alabama   AL    Ala.  \n",
       "1      Alaska   AK  Alaska  \n",
       "2     Arizona   AZ   Ariz.  \n",
       "3    Arkansas   AR    Ark.  \n",
       "4  California   CA  Calif.  "
      ]
     },
     "execution_count": 6,
     "metadata": {},
     "output_type": "execute_result"
    }
   ],
   "source": [
    "hom_rates.head()"
   ]
  },
  {
   "cell_type": "code",
   "execution_count": 7,
   "id": "b2447ae2-1d75-43e7-be2d-1946ef0d07c7",
   "metadata": {},
   "outputs": [
    {
     "data": {
      "text/html": [
       "<div>\n",
       "<style scoped>\n",
       "    .dataframe tbody tr th:only-of-type {\n",
       "        vertical-align: middle;\n",
       "    }\n",
       "\n",
       "    .dataframe tbody tr th {\n",
       "        vertical-align: top;\n",
       "    }\n",
       "\n",
       "    .dataframe thead th {\n",
       "        text-align: right;\n",
       "    }\n",
       "</style>\n",
       "<table border=\"1\" class=\"dataframe\">\n",
       "  <thead>\n",
       "    <tr style=\"text-align: right;\">\n",
       "      <th></th>\n",
       "      <th>year</th>\n",
       "      <th>state</th>\n",
       "      <th>rate</th>\n",
       "      <th>deaths</th>\n",
       "      <th>url</th>\n",
       "      <th>name</th>\n",
       "      <th>usps</th>\n",
       "      <th>ap</th>\n",
       "    </tr>\n",
       "  </thead>\n",
       "  <tbody>\n",
       "    <tr>\n",
       "      <th>4</th>\n",
       "      <td>2020</td>\n",
       "      <td>CA</td>\n",
       "      <td>6.1</td>\n",
       "      <td>2368</td>\n",
       "      <td>/nchs/pressroom/states/california/ca.htm</td>\n",
       "      <td>California</td>\n",
       "      <td>CA</td>\n",
       "      <td>Calif.</td>\n",
       "    </tr>\n",
       "    <tr>\n",
       "      <th>42</th>\n",
       "      <td>2020</td>\n",
       "      <td>TX</td>\n",
       "      <td>7.6</td>\n",
       "      <td>2212</td>\n",
       "      <td>/nchs/pressroom/states/texas/tx.htm</td>\n",
       "      <td>Texas</td>\n",
       "      <td>TX</td>\n",
       "      <td>Texas</td>\n",
       "    </tr>\n",
       "    <tr>\n",
       "      <th>8</th>\n",
       "      <td>2020</td>\n",
       "      <td>FL</td>\n",
       "      <td>7.8</td>\n",
       "      <td>1530</td>\n",
       "      <td>/nchs/pressroom/states/florida/fl.htm</td>\n",
       "      <td>Florida</td>\n",
       "      <td>FL</td>\n",
       "      <td>Fla.</td>\n",
       "    </tr>\n",
       "    <tr>\n",
       "      <th>12</th>\n",
       "      <td>2020</td>\n",
       "      <td>IL</td>\n",
       "      <td>11.2</td>\n",
       "      <td>1353</td>\n",
       "      <td>/nchs/pressroom/states/illinois/il.htm</td>\n",
       "      <td>Illinois</td>\n",
       "      <td>IL</td>\n",
       "      <td>Ill.</td>\n",
       "    </tr>\n",
       "    <tr>\n",
       "      <th>9</th>\n",
       "      <td>2020</td>\n",
       "      <td>GA</td>\n",
       "      <td>10.5</td>\n",
       "      <td>1093</td>\n",
       "      <td>/nchs/pressroom/states/georgia/ga.htm</td>\n",
       "      <td>Georgia</td>\n",
       "      <td>GA</td>\n",
       "      <td>Ga.</td>\n",
       "    </tr>\n",
       "  </tbody>\n",
       "</table>\n",
       "</div>"
      ],
      "text/plain": [
       "    year state  rate  deaths                                       url  \\\n",
       "4   2020    CA   6.1    2368  /nchs/pressroom/states/california/ca.htm   \n",
       "42  2020    TX   7.6    2212       /nchs/pressroom/states/texas/tx.htm   \n",
       "8   2020    FL   7.8    1530     /nchs/pressroom/states/florida/fl.htm   \n",
       "12  2020    IL  11.2    1353    /nchs/pressroom/states/illinois/il.htm   \n",
       "9   2020    GA  10.5    1093     /nchs/pressroom/states/georgia/ga.htm   \n",
       "\n",
       "          name usps      ap  \n",
       "4   California   CA  Calif.  \n",
       "42       Texas   TX   Texas  \n",
       "8      Florida   FL    Fla.  \n",
       "12    Illinois   IL    Ill.  \n",
       "9      Georgia   GA     Ga.  "
      ]
     },
     "execution_count": 7,
     "metadata": {},
     "output_type": "execute_result"
    }
   ],
   "source": [
    "hom_rates.sort_values(\"deaths\", ascending=False).head()"
   ]
  },
  {
   "cell_type": "markdown",
   "id": "447944f8-7cbe-4666-9c4a-d9ce0b7aef53",
   "metadata": {},
   "source": [
    "#### Read state-level geo file"
   ]
  },
  {
   "cell_type": "code",
   "execution_count": 8,
   "id": "7156afab-ffa5-4bb5-a12e-784e8d62aec1",
   "metadata": {},
   "outputs": [],
   "source": [
    "geo = gpd.read_file(\n",
    "    \"https://raw.githubusercontent.com/stiles/usc/main/data/geo/states.geojson\"\n",
    ")"
   ]
  },
  {
   "cell_type": "code",
   "execution_count": 9,
   "id": "ca4ee01c-179d-4a72-b378-3b1972c3a530",
   "metadata": {},
   "outputs": [
    {
     "data": {
      "text/html": [
       "<div>\n",
       "<style scoped>\n",
       "    .dataframe tbody tr th:only-of-type {\n",
       "        vertical-align: middle;\n",
       "    }\n",
       "\n",
       "    .dataframe tbody tr th {\n",
       "        vertical-align: top;\n",
       "    }\n",
       "\n",
       "    .dataframe thead th {\n",
       "        text-align: right;\n",
       "    }\n",
       "</style>\n",
       "<table border=\"1\" class=\"dataframe\">\n",
       "  <thead>\n",
       "    <tr style=\"text-align: right;\">\n",
       "      <th></th>\n",
       "      <th>state_fips</th>\n",
       "      <th>state_name</th>\n",
       "      <th>geometry</th>\n",
       "    </tr>\n",
       "  </thead>\n",
       "  <tbody>\n",
       "    <tr>\n",
       "      <th>0</th>\n",
       "      <td>01</td>\n",
       "      <td>Alabama</td>\n",
       "      <td>POLYGON ((-87.35930 35.00118, -85.60667 34.984...</td>\n",
       "    </tr>\n",
       "    <tr>\n",
       "      <th>1</th>\n",
       "      <td>02</td>\n",
       "      <td>Alaska</td>\n",
       "      <td>MULTIPOLYGON (((-131.60202 55.11798, -131.5691...</td>\n",
       "    </tr>\n",
       "    <tr>\n",
       "      <th>2</th>\n",
       "      <td>04</td>\n",
       "      <td>Arizona</td>\n",
       "      <td>POLYGON ((-109.04250 37.00026, -109.04798 31.3...</td>\n",
       "    </tr>\n",
       "    <tr>\n",
       "      <th>3</th>\n",
       "      <td>05</td>\n",
       "      <td>Arkansas</td>\n",
       "      <td>POLYGON ((-94.47384 36.50186, -90.15254 36.496...</td>\n",
       "    </tr>\n",
       "    <tr>\n",
       "      <th>4</th>\n",
       "      <td>06</td>\n",
       "      <td>California</td>\n",
       "      <td>POLYGON ((-123.23326 42.00619, -122.37885 42.0...</td>\n",
       "    </tr>\n",
       "  </tbody>\n",
       "</table>\n",
       "</div>"
      ],
      "text/plain": [
       "  state_fips  state_name                                           geometry\n",
       "0         01     Alabama  POLYGON ((-87.35930 35.00118, -85.60667 34.984...\n",
       "1         02      Alaska  MULTIPOLYGON (((-131.60202 55.11798, -131.5691...\n",
       "2         04     Arizona  POLYGON ((-109.04250 37.00026, -109.04798 31.3...\n",
       "3         05    Arkansas  POLYGON ((-94.47384 36.50186, -90.15254 36.496...\n",
       "4         06  California  POLYGON ((-123.23326 42.00619, -122.37885 42.0..."
      ]
     },
     "execution_count": 9,
     "metadata": {},
     "output_type": "execute_result"
    }
   ],
   "source": [
    "geo.head()"
   ]
  },
  {
   "cell_type": "markdown",
   "id": "91882f35-cdae-4534-a7fd-ffa305976a4c",
   "metadata": {},
   "source": [
    "#### Filter: Just map the mainland"
   ]
  },
  {
   "cell_type": "code",
   "execution_count": 10,
   "id": "807d6bcd-01fd-4edb-8528-a4d658801c49",
   "metadata": {},
   "outputs": [
    {
     "data": {
      "text/plain": [
       "<AxesSubplot:>"
      ]
     },
     "execution_count": 10,
     "metadata": {},
     "output_type": "execute_result"
    },
    {
     "data": {
      "image/png": "[encoded data removed]",
      "text/plain": [
       "<Figure size 432x288 with 1 Axes>"
      ]
     },
     "metadata": {
      "needs_background": "light"
     },
     "output_type": "display_data"
    }
   ],
   "source": [
    "geo.plot()"
   ]
  },
  {
   "cell_type": "code",
   "execution_count": 11,
   "id": "91132c83-b1be-479d-9d8e-cf20662c8b84",
   "metadata": {},
   "outputs": [],
   "source": [
    "extras = [\"Hawaii\", \"Alaska\", \"Puerto Rico\"]"
   ]
  },
  {
   "cell_type": "code",
   "execution_count": 12,
   "id": "1671caf1-0419-43d4-8119-a4aeb7d3cbb6",
   "metadata": {},
   "outputs": [
    {
     "data": {
      "text/plain": [
       "<AxesSubplot:>"
      ]
     },
     "execution_count": 12,
     "metadata": {},
     "output_type": "execute_result"
    },
    {
     "data": {
      "image/png": "[encoded data removed]",
      "text/plain": [
       "<Figure size 432x288 with 1 Axes>"
      ]
     },
     "metadata": {
      "needs_background": "light"
     },
     "output_type": "display_data"
    }
   ],
   "source": [
    "mainland = geo[~geo[\"state_name\"].isin(extras)]\n",
    "mainland.plot()"
   ]
  },
  {
   "cell_type": "markdown",
   "id": "4ff62e7a-a550-41c4-8770-836f8af108ef",
   "metadata": {},
   "source": [
    "#### Merge the two"
   ]
  },
  {
   "cell_type": "code",
   "execution_count": 13,
   "id": "f6f0626a-f510-46ce-a9eb-bd49f95e8369",
   "metadata": {},
   "outputs": [],
   "source": [
    "homicide_state = pd.merge(mainland, hom_rates, left_on=\"state_name\", right_on=\"name\")"
   ]
  },
  {
   "cell_type": "code",
   "execution_count": 14,
   "id": "49eabfba-467f-4c1f-a4a9-36260fef2333",
   "metadata": {},
   "outputs": [
    {
     "data": {
      "text/html": [
       "<div>\n",
       "<style scoped>\n",
       "    .dataframe tbody tr th:only-of-type {\n",
       "        vertical-align: middle;\n",
       "    }\n",
       "\n",
       "    .dataframe tbody tr th {\n",
       "        vertical-align: top;\n",
       "    }\n",
       "\n",
       "    .dataframe thead th {\n",
       "        text-align: right;\n",
       "    }\n",
       "</style>\n",
       "<table border=\"1\" class=\"dataframe\">\n",
       "  <thead>\n",
       "    <tr style=\"text-align: right;\">\n",
       "      <th></th>\n",
       "      <th>state_fips</th>\n",
       "      <th>state_name</th>\n",
       "      <th>geometry</th>\n",
       "      <th>year</th>\n",
       "      <th>state</th>\n",
       "      <th>rate</th>\n",
       "      <th>deaths</th>\n",
       "      <th>url</th>\n",
       "      <th>name</th>\n",
       "      <th>usps</th>\n",
       "      <th>ap</th>\n",
       "    </tr>\n",
       "  </thead>\n",
       "  <tbody>\n",
       "    <tr>\n",
       "      <th>0</th>\n",
       "      <td>01</td>\n",
       "      <td>Alabama</td>\n",
       "      <td>POLYGON ((-87.35930 35.00118, -85.60667 34.984...</td>\n",
       "      <td>2020</td>\n",
       "      <td>AL</td>\n",
       "      <td>14.2</td>\n",
       "      <td>654</td>\n",
       "      <td>/nchs/pressroom/states/alabama/al.htm</td>\n",
       "      <td>Alabama</td>\n",
       "      <td>AL</td>\n",
       "      <td>Ala.</td>\n",
       "    </tr>\n",
       "    <tr>\n",
       "      <th>1</th>\n",
       "      <td>04</td>\n",
       "      <td>Arizona</td>\n",
       "      <td>POLYGON ((-109.04250 37.00026, -109.04798 31.3...</td>\n",
       "      <td>2020</td>\n",
       "      <td>AZ</td>\n",
       "      <td>7.5</td>\n",
       "      <td>525</td>\n",
       "      <td>/nchs/pressroom/states/arizona/az.htm</td>\n",
       "      <td>Arizona</td>\n",
       "      <td>AZ</td>\n",
       "      <td>Ariz.</td>\n",
       "    </tr>\n",
       "    <tr>\n",
       "      <th>2</th>\n",
       "      <td>05</td>\n",
       "      <td>Arkansas</td>\n",
       "      <td>POLYGON ((-94.47384 36.50186, -90.15254 36.496...</td>\n",
       "      <td>2020</td>\n",
       "      <td>AR</td>\n",
       "      <td>13.0</td>\n",
       "      <td>371</td>\n",
       "      <td>/nchs/pressroom/states/arkansas/ar.htm</td>\n",
       "      <td>Arkansas</td>\n",
       "      <td>AR</td>\n",
       "      <td>Ark.</td>\n",
       "    </tr>\n",
       "    <tr>\n",
       "      <th>3</th>\n",
       "      <td>06</td>\n",
       "      <td>California</td>\n",
       "      <td>POLYGON ((-123.23326 42.00619, -122.37885 42.0...</td>\n",
       "      <td>2020</td>\n",
       "      <td>CA</td>\n",
       "      <td>6.1</td>\n",
       "      <td>2368</td>\n",
       "      <td>/nchs/pressroom/states/california/ca.htm</td>\n",
       "      <td>California</td>\n",
       "      <td>CA</td>\n",
       "      <td>Calif.</td>\n",
       "    </tr>\n",
       "    <tr>\n",
       "      <th>4</th>\n",
       "      <td>08</td>\n",
       "      <td>Colorado</td>\n",
       "      <td>POLYGON ((-107.91973 41.00391, -105.72895 40.9...</td>\n",
       "      <td>2020</td>\n",
       "      <td>CO</td>\n",
       "      <td>5.8</td>\n",
       "      <td>336</td>\n",
       "      <td>/nchs/pressroom/states/colorado/co.htm</td>\n",
       "      <td>Colorado</td>\n",
       "      <td>CO</td>\n",
       "      <td>Colo.</td>\n",
       "    </tr>\n",
       "  </tbody>\n",
       "</table>\n",
       "</div>"
      ],
      "text/plain": [
       "  state_fips  state_name                                           geometry  \\\n",
       "0         01     Alabama  POLYGON ((-87.35930 35.00118, -85.60667 34.984...   \n",
       "1         04     Arizona  POLYGON ((-109.04250 37.00026, -109.04798 31.3...   \n",
       "2         05    Arkansas  POLYGON ((-94.47384 36.50186, -90.15254 36.496...   \n",
       "3         06  California  POLYGON ((-123.23326 42.00619, -122.37885 42.0...   \n",
       "4         08    Colorado  POLYGON ((-107.91973 41.00391, -105.72895 40.9...   \n",
       "\n",
       "   year state  rate  deaths                                       url  \\\n",
       "0  2020    AL  14.2     654     /nchs/pressroom/states/alabama/al.htm   \n",
       "1  2020    AZ   7.5     525     /nchs/pressroom/states/arizona/az.htm   \n",
       "2  2020    AR  13.0     371    /nchs/pressroom/states/arkansas/ar.htm   \n",
       "3  2020    CA   6.1    2368  /nchs/pressroom/states/california/ca.htm   \n",
       "4  2020    CO   5.8     336    /nchs/pressroom/states/colorado/co.htm   \n",
       "\n",
       "         name usps      ap  \n",
       "0     Alabama   AL    Ala.  \n",
       "1     Arizona   AZ   Ariz.  \n",
       "2    Arkansas   AR    Ark.  \n",
       "3  California   CA  Calif.  \n",
       "4    Colorado   CO   Colo.  "
      ]
     },
     "execution_count": 14,
     "metadata": {},
     "output_type": "execute_result"
    }
   ],
   "source": [
    "homicide_state.head()"
   ]
  },
  {
   "cell_type": "code",
   "execution_count": 15,
   "id": "cd624d70-b934-4fad-95c6-629578ded158",
   "metadata": {},
   "outputs": [
    {
     "data": {
      "text/plain": [
       "<AxesSubplot:>"
      ]
     },
     "execution_count": 15,
     "metadata": {},
     "output_type": "execute_result"
    },
    {
     "data": {
      "image/png": "[encoded data removed]",
      "text/plain": [
       "<Figure size 432x288 with 1 Axes>"
      ]
     },
     "metadata": {
      "needs_background": "light"
     },
     "output_type": "display_data"
    }
   ],
   "source": [
    "homicide_state.plot()"
   ]
  },
  {
   "cell_type": "markdown",
   "id": "f1f11a8e-66a6-4815-9e4f-09eb60648bd8",
   "metadata": {},
   "source": [
    "#### Export merged geo file"
   ]
  },
  {
   "cell_type": "code",
   "execution_count": 16,
   "id": "ba6df1f0-2557-4d57-90b4-1ede45637e4f",
   "metadata": {},
   "outputs": [],
   "source": [
    "homicide_state.to_file(\n",
    "    \"../data/processed/homicide_rates_per_state.geojson\", driver=\"GeoJSON\"\n",
    ")"
   ]
  }
 ],
 "metadata": {
  "kernelspec": {
   "display_name": "Python 3 (ipykernel)",
   "language": "python",
   "name": "python3"
  },
  "language_info": {
   "codemirror_mode": {
    "name": "ipython",
    "version": 3
   },
   "file_extension": ".py",
   "mimetype": "text/x-python",
   "name": "python",
   "nbconvert_exporter": "python",
   "pygments_lexer": "ipython3",
   "version": "3.9.7"
  }
 },
 "nbformat": 4,
 "nbformat_minor": 5
}
