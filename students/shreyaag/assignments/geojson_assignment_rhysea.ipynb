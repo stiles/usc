{
 "cells": [
  {
   "cell_type": "markdown",
   "id": "69c50f52-c40a-4b70-97fe-8fb7c74a7be5",
   "metadata": {},
   "source": [
    "## Geojson Assignment: Rhysea"
   ]
  },
  {
   "cell_type": "markdown",
   "id": "f3629740-49d9-4e02-8302-d7f899d4d369",
   "metadata": {},
   "source": [
    "Note: For this assignment, I am going to use a dataset from the Los Angeles GeoHub that shows liquefaction zones in the city. I might use it for my final project, which will relate to earthquake data. Liquefaction zones are of importance in earthquake country, because shaking in these zones can cause liquefaction which can destroy foundations of buildings, causing great damage and loss of lives. "
   ]
  },
  {
   "cell_type": "markdown",
   "id": "ff22071e-bce6-45cd-8958-6694cb832b0f",
   "metadata": {},
   "source": [
    "#### Importing Tools and Data"
   ]
  },
  {
   "cell_type": "code",
   "execution_count": 1,
   "id": "1720a39e-4f12-4b5a-8136-11304ae83b6c",
   "metadata": {},
   "outputs": [],
   "source": [
    "%load_ext lab_black"
   ]
  },
  {
   "cell_type": "code",
   "execution_count": 2,
   "id": "ed165508-a5da-4434-8fa9-bdae979b2c04",
   "metadata": {},
   "outputs": [],
   "source": [
    "import pandas as pd\n",
    "import geopandas as gpd"
   ]
  },
  {
   "cell_type": "code",
   "execution_count": 3,
   "id": "2854c0a8-95df-480b-9112-b90b02b111af",
   "metadata": {},
   "outputs": [],
   "source": [
    "pd.options.display.max_columns = 1000\n",
    "pd.options.display.max_rows = 1000"
   ]
  },
  {
   "cell_type": "code",
   "execution_count": null,
   "id": "9d11c731-2d0e-44b6-8c28-489724db8b0c",
   "metadata": {},
   "outputs": [],
   "source": [
    "liquefaction = gpd.read_file(\n",
    "    \"\"\n",
    ")"
   ]
  }
 ],
 "metadata": {
  "kernelspec": {
   "display_name": "Python 3 (ipykernel)",
   "language": "python",
   "name": "python3"
  },
  "language_info": {
   "codemirror_mode": {
    "name": "ipython",
    "version": 3
   },
   "file_extension": ".py",
   "mimetype": "text/x-python",
   "name": "python",
   "nbconvert_exporter": "python",
   "pygments_lexer": "ipython3",
   "version": "3.9.7"
  }
 },
 "nbformat": 4,
 "nbformat_minor": 5
}
