{
 "cells": [
  {
   "cell_type": "markdown",
   "id": "d33b91de-34b7-438a-9691-4184768d6a6f",
   "metadata": {},
   "source": [
    "# Rhysea's Assignment 3: Showing off my Pandas skills\n"
   ]
  },
  {
   "cell_type": "markdown",
   "id": "052f72da-f528-4ef8-a489-c0e32f40b914",
   "metadata": {},
   "source": [
    "## Notes:"
   ]
  },
  {
   "cell_type": "code",
   "execution_count": 1,
   "id": "5eb3b152-57fa-4dce-8890-9dd6323255b4",
   "metadata": {},
   "outputs": [],
   "source": [
    "import pandas as pd"
   ]
  },
  {
   "cell_type": "code",
   "execution_count": null,
   "id": "7236839e-56a2-4e78-91a1-6ace5a07ba2e",
   "metadata": {},
   "outputs": [],
   "source": []
  }
 ],
 "metadata": {
  "kernelspec": {
   "display_name": "Python 3 (ipykernel)",
   "language": "python",
   "name": "python3"
  },
  "language_info": {
   "codemirror_mode": {
    "name": "ipython",
    "version": 3
   },
   "file_extension": ".py",
   "mimetype": "text/x-python",
   "name": "python",
   "nbconvert_exporter": "python",
   "pygments_lexer": "ipython3",
   "version": "3.9.7"
  }
 },
 "nbformat": 4,
 "nbformat_minor": 5
}
