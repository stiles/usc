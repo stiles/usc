{
 "cells": [
  {
   "cell_type": "markdown",
   "id": "323b318a-ef13-4775-87a4-7bb5bf357f9a",
   "metadata": {},
   "source": [
    "## Final Project: JOUR 561"
   ]
  },
  {
   "cell_type": "markdown",
   "id": "3537bff0-1cd0-4e47-b3a2-0dd2c4cad800",
   "metadata": {},
   "source": [
    "#### EXPLORING EARTHQUAKE HAZARDS AND RISK IN LOS ANGELES"
   ]
  },
  {
   "cell_type": "markdown",
   "id": "fe4fb3da-f815-4429-94d2-ede669a71e90",
   "metadata": {},
   "source": [
    "For this project, I will use multiple kinds of data to visualize the hazards and risks due to earthquakes in LA County. I will use both the aggregation and analysis that we have learnt in class to understand and analyse the data, and I will create maps to visualize this analysis.\n",
    "\n",
    "I will mostly use the quaternary faults data from LA County, liquefaction zones data, locations of soft-story houses and some race and economic datasets in LA County to conduct my research. \n",
    "\n",
    "I will make some of the maps first in QGIS to see if they work, and then create some final ones in Datawrapper."
   ]
  },
  {
   "cell_type": "code",
   "execution_count": 3,
   "id": "6cdccb1f-1422-4a2a-84a5-34d69b524d86",
   "metadata": {},
   "outputs": [],
   "source": [
    "%load_ext lab_black\n",
    "import pandas as pd\n",
    "import geopandas as gpd\n",
    "import altair as alt\n",
    "\n",
    "pd.options.display.max_columns = 100\n",
    "pd.options.display.max_rows = 1000\n",
    "pd.options.display.max_colwidth = None"
   ]
  },
  {
   "cell_type": "markdown",
   "id": "7fbf0a07-2681-46ff-8526-c34c76600c7d",
   "metadata": {},
   "source": [
    "#### Part I: Importing Datasets"
   ]
  },
  {
   "cell_type": "markdown",
   "id": "9e879b51-eebc-4cfc-a819-22f8bc87e989",
   "metadata": {},
   "source": [
    "**WHAT THIS DATASET IS**: \n",
    "\n",
    "**HOW WILL IT BE USED**:\n",
    "\n",
    "\n",
    "**PRELIMINARY HYPOTHESIS**:\n"
   ]
  },
  {
   "cell_type": "code",
   "execution_count": 4,
   "id": "9c1ee1a2-f8e9-4468-8974-0432192ae884",
   "metadata": {},
   "outputs": [],
   "source": [
    "liquefaction = gpd.read_file(\"../data/geo/Liquefaction_zones.geojson\")"
   ]
  },
  {
   "cell_type": "markdown",
   "id": "ba0c5247-1eb9-4392-b578-cc913c659bc6",
   "metadata": {},
   "source": [
    "**WHAT THIS DATASET IS**: \n",
    "\n",
    "**HOW WILL IT BE USED**:\n",
    "\n",
    "\n",
    "**PRELIMINARY HYPOTHESIS**:"
   ]
  },
  {
   "cell_type": "code",
   "execution_count": 5,
   "id": "16635374-529c-46d9-b26e-b90611a8ed23",
   "metadata": {},
   "outputs": [],
   "source": [
    "fault_trace = gpd.read_file(\"../data/geo/Fault_Trace.geojson\")"
   ]
  },
  {
   "cell_type": "markdown",
   "id": "8c08b1e0-39d5-4736-ba2a-f35ed6ff1ec4",
   "metadata": {},
   "source": [
    "**WHAT THIS DATASET IS**: \n",
    "\n",
    "**HOW WILL IT BE USED**:\n",
    "\n",
    "\n",
    "**PRELIMINARY HYPOTHESIS**:"
   ]
  },
  {
   "cell_type": "code",
   "execution_count": 6,
   "id": "f75279c1-27cf-4cee-8063-50f2e69da3cb",
   "metadata": {},
   "outputs": [],
   "source": [
    "concrete_buildings = pd.read_csv(\"../data/raw/la_concrete_buildings.csv\")"
   ]
  },
  {
   "cell_type": "markdown",
   "id": "2f689435-86b8-4636-9eee-f88ac4105d44",
   "metadata": {},
   "source": [
    "**WHAT THIS DATASET IS**: \n",
    "\n",
    "**HOW WILL IT BE USED**:\n",
    "\n",
    "\n",
    "**PRELIMINARY HYPOTHESIS**:"
   ]
  },
  {
   "cell_type": "code",
   "execution_count": 7,
   "id": "a3e270a8-8019-40b0-9507-d5e268ca24a9",
   "metadata": {},
   "outputs": [],
   "source": [
    "ss_apartment = pd.read_csv(\"../data/raw/soft_story_apartment.csv\")"
   ]
  },
  {
   "cell_type": "markdown",
   "id": "280ef579-68fe-4f51-a48d-57fb66063a43",
   "metadata": {},
   "source": [
    "**WHAT THIS DATASET IS**: \n",
    "\n",
    "**HOW WILL IT BE USED**:\n",
    "\n",
    "\n",
    "**PRELIMINARY HYPOTHESIS**:"
   ]
  },
  {
   "cell_type": "code",
   "execution_count": 9,
   "id": "be33991d-8073-4dac-9d1a-1ecdeefb7b77",
   "metadata": {},
   "outputs": [],
   "source": [
    "ss_condo = pd.read_csv(\"../data/raw/soft_story_condo.csv\")"
   ]
  },
  {
   "cell_type": "markdown",
   "id": "56782dad-939c-4f38-aca3-4c8db806ea3a",
   "metadata": {},
   "source": [
    "**WHAT THIS DATASET IS**: \n",
    "\n",
    "**HOW WILL IT BE USED**:\n",
    "\n",
    "\n",
    "**PRELIMINARY HYPOTHESIS**:"
   ]
  },
  {
   "cell_type": "code",
   "execution_count": null,
   "id": "aa768ed3-cc9d-4eb6-acb3-555f902f37fd",
   "metadata": {},
   "outputs": [],
   "source": []
  },
  {
   "cell_type": "markdown",
   "id": "e60405db-28e0-45ae-a931-778200371543",
   "metadata": {},
   "source": [
    "**WHAT THIS DATASET IS**: \n",
    "\n",
    "**HOW WILL IT BE USED**:\n",
    "\n",
    "\n",
    "**PRELIMINARY HYPOTHESIS**:"
   ]
  },
  {
   "cell_type": "code",
   "execution_count": null,
   "id": "2c398d5c-ea15-4604-a97c-cf8592c742f4",
   "metadata": {},
   "outputs": [],
   "source": []
  },
  {
   "cell_type": "markdown",
   "id": "6c7a3a28-2b32-4ceb-a768-f1ba56ff915f",
   "metadata": {},
   "source": [
    "#### PART II: Basic Analysis of Datasets"
   ]
  },
  {
   "cell_type": "code",
   "execution_count": null,
   "id": "b8bb0cc1-e546-4496-acda-05e890dcbdd7",
   "metadata": {},
   "outputs": [],
   "source": []
  },
  {
   "cell_type": "code",
   "execution_count": null,
   "id": "223cb415-917e-484c-83a2-71a9efbde1c8",
   "metadata": {},
   "outputs": [],
   "source": []
  },
  {
   "cell_type": "code",
   "execution_count": null,
   "id": "ac0a6491-b870-41a8-9af8-5158e32f356b",
   "metadata": {},
   "outputs": [],
   "source": []
  },
  {
   "cell_type": "markdown",
   "id": "dad5319c-d601-4b82-ae4c-f77cb4812f24",
   "metadata": {},
   "source": [
    "#### PART III: Aggregation and Further Analysis"
   ]
  },
  {
   "cell_type": "code",
   "execution_count": null,
   "id": "3d0f1faf-7a10-4720-bd2c-9a65a20093f5",
   "metadata": {},
   "outputs": [],
   "source": []
  },
  {
   "cell_type": "code",
   "execution_count": null,
   "id": "21830c5c-65d6-450e-92ad-f3c4f286d130",
   "metadata": {},
   "outputs": [],
   "source": []
  },
  {
   "cell_type": "code",
   "execution_count": null,
   "id": "dadb3f27-d72c-44a0-93e5-f28c42067802",
   "metadata": {},
   "outputs": [],
   "source": []
  },
  {
   "cell_type": "markdown",
   "id": "8c3fc793-edab-4b87-8c1a-2b396bf1666e",
   "metadata": {},
   "source": [
    "#### PART IV: Creating Charts with Altair"
   ]
  },
  {
   "cell_type": "code",
   "execution_count": null,
   "id": "675505aa-7951-4c0e-99d8-44b47ebe4b70",
   "metadata": {},
   "outputs": [],
   "source": []
  },
  {
   "cell_type": "code",
   "execution_count": null,
   "id": "53cb19bd-dc01-483a-a38f-5d37491eec82",
   "metadata": {},
   "outputs": [],
   "source": []
  },
  {
   "cell_type": "code",
   "execution_count": null,
   "id": "f73f7eeb-0c5f-401a-ade3-5ead21a98168",
   "metadata": {},
   "outputs": [],
   "source": []
  },
  {
   "cell_type": "markdown",
   "id": "fdb4b880-7ae5-4b14-bc7b-83a34f3a4f07",
   "metadata": {},
   "source": [
    "#### PART V: Preparing dataframes for Mapping"
   ]
  },
  {
   "cell_type": "code",
   "execution_count": null,
   "id": "4b511f33-5615-4804-8c17-0b249d75f4dd",
   "metadata": {},
   "outputs": [],
   "source": []
  },
  {
   "cell_type": "code",
   "execution_count": null,
   "id": "98a8eba3-4a4c-467a-ad69-88a5d8a69d70",
   "metadata": {},
   "outputs": [],
   "source": []
  },
  {
   "cell_type": "code",
   "execution_count": null,
   "id": "d0707376-808c-4352-b513-091ec8a1ef95",
   "metadata": {},
   "outputs": [],
   "source": []
  }
 ],
 "metadata": {
  "kernelspec": {
   "display_name": "Python 3 (ipykernel)",
   "language": "python",
   "name": "python3"
  },
  "language_info": {
   "codemirror_mode": {
    "name": "ipython",
    "version": 3
   },
   "file_extension": ".py",
   "mimetype": "text/x-python",
   "name": "python",
   "nbconvert_exporter": "python",
   "pygments_lexer": "ipython3",
   "version": "3.9.7"
  }
 },
 "nbformat": 4,
 "nbformat_minor": 5
}
