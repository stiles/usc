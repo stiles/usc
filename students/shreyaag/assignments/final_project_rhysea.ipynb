{
 "cells": [
  {
   "cell_type": "markdown",
   "id": "323b318a-ef13-4775-87a4-7bb5bf357f9a",
   "metadata": {},
   "source": [
    "## Final Project: JOUR 561"
   ]
  },
  {
   "cell_type": "markdown",
   "id": "3537bff0-1cd0-4e47-b3a2-0dd2c4cad800",
   "metadata": {},
   "source": [
    "#### EXPLORING EARTHQUAKE HAZARDS AND RISK IN LOS ANGELES"
   ]
  },
  {
   "cell_type": "markdown",
   "id": "fe4fb3da-f815-4429-94d2-ede669a71e90",
   "metadata": {},
   "source": [
    "For this project, I will use multiple kinds of data to visualize the hazards and risks due to earthquakes in LA County. I will use both the aggregation and analysis that we have learnt in class to understand and analyse the data, and I will create maps to visualize this analysis.\n",
    "\n",
    "I will mostly use the quaternary faults data from LA County, liquefaction zones data, locations of soft-story houses and some race and economic datasets in LA County to conduct my research. \n",
    "\n",
    "\n",
    "The analysis part is small and the main focus is on the charts and maps, but I wanted this to be a culmination of what we have learnt throughout the semester, so I demonstrate the use of Groupbys quite a lot, some sorting and basic data analysis + cleaning, and visualizations through charts and maps. So, this final project consists of all three elements: a notebook with some analysis, some Altair charts and some QGIS and Datawrapper maps. "
   ]
  },
  {
   "cell_type": "code",
   "execution_count": 263,
   "id": "6cdccb1f-1422-4a2a-84a5-34d69b524d86",
   "metadata": {},
   "outputs": [
    {
     "name": "stdout",
     "output_type": "stream",
     "text": [
      "The lab_black extension is already loaded. To reload it, use:\n",
      "  %reload_ext lab_black\n"
     ]
    }
   ],
   "source": [
    "%load_ext lab_black\n",
    "import pandas as pd\n",
    "import geopandas as gpd\n",
    "import altair as alt\n",
    "\n",
    "pd.options.display.max_columns = 100\n",
    "pd.options.display.max_rows = 1000\n",
    "pd.options.display.max_colwidth = None"
   ]
  },
  {
   "cell_type": "markdown",
   "id": "7fbf0a07-2681-46ff-8526-c34c76600c7d",
   "metadata": {},
   "source": [
    "#### Part I: Importing Datasets"
   ]
  },
  {
   "cell_type": "code",
   "execution_count": 264,
   "id": "ddfbe052-ae63-4d6e-b1d2-a76563b3b626",
   "metadata": {},
   "outputs": [],
   "source": [
    "liquefaction = gpd.read_file(\"../data/geo/Liquefaction_zones.geojson\")"
   ]
  },
  {
   "cell_type": "markdown",
   "id": "9e879b51-eebc-4cfc-a819-22f8bc87e989",
   "metadata": {},
   "source": [
    "**WHAT THIS DATASET IS**: The shapefile for areas that are under risk of liquefaction in LA county.\n",
    "\n",
    "**HOW WILL IT BE USED**: I want to make a map with it in QGIS. I tried doing that and the map isn't perfect, so it will be one of the maps that I use for my analysis here. It is mostly there to visualize the zones that are most in danger from liquefaction in case of an earthquake. Liquefaction is a sort of 'liquifying' of the ground after an earthquake, such that the ground acts like quick sand. It can be bad enough that the ground can start swallowing up buildings. Usually happens in areas that have a good amount of underground water."
   ]
  },
  {
   "cell_type": "code",
   "execution_count": 265,
   "id": "b552044d-8eb2-4436-862d-71398beb57c6",
   "metadata": {},
   "outputs": [],
   "source": [
    "fault_trace = gpd.read_file(\"../data/geo/Fault_Trace.geojson\")"
   ]
  },
  {
   "cell_type": "markdown",
   "id": "ba0c5247-1eb9-4392-b578-cc913c659bc6",
   "metadata": {},
   "source": [
    "**WHAT THIS DATASET IS**: The shapefile for faults in LA county.\n",
    "\n",
    "**HOW WILL IT BE USED**: Similar to the above dataset, I just want to put this in a map to visualize the areas that are most in danger. "
   ]
  },
  {
   "cell_type": "code",
   "execution_count": 266,
   "id": "16635374-529c-46d9-b26e-b90611a8ed23",
   "metadata": {},
   "outputs": [
    {
     "data": {
      "text/html": [
       "<div>\n",
       "<style scoped>\n",
       "    .dataframe tbody tr th:only-of-type {\n",
       "        vertical-align: middle;\n",
       "    }\n",
       "\n",
       "    .dataframe tbody tr th {\n",
       "        vertical-align: top;\n",
       "    }\n",
       "\n",
       "    .dataframe thead th {\n",
       "        text-align: right;\n",
       "    }\n",
       "</style>\n",
       "<table border=\"1\" class=\"dataframe\">\n",
       "  <thead>\n",
       "    <tr style=\"text-align: right;\">\n",
       "      <th></th>\n",
       "      <th>num</th>\n",
       "      <th>lat</th>\n",
       "      <th>lon</th>\n",
       "      <th>address</th>\n",
       "      <th>zip_code</th>\n",
       "      <th>building_name</th>\n",
       "      <th>occupancy</th>\n",
       "      <th>code</th>\n",
       "      <th>stories</th>\n",
       "      <th>yrblt</th>\n",
       "      <th>sqft</th>\n",
       "      <th>hazus</th>\n",
       "      <th>level</th>\n",
       "      <th>bldvalue</th>\n",
       "      <th>adjvalue</th>\n",
       "      <th>multiplier</th>\n",
       "      <th>contents</th>\n",
       "      <th>combined</th>\n",
       "      <th>day</th>\n",
       "      <th>night</th>\n",
       "      <th>assessor</th>\n",
       "      <th>Type</th>\n",
       "      <th>Update</th>\n",
       "    </tr>\n",
       "  </thead>\n",
       "  <tbody>\n",
       "    <tr>\n",
       "      <th>0</th>\n",
       "      <td>1</td>\n",
       "      <td>34.03616</td>\n",
       "      <td>-118.26004</td>\n",
       "      <td>100 E PICO BLVD</td>\n",
       "      <td>90015</td>\n",
       "      <td>NaN</td>\n",
       "      <td>Industrial</td>\n",
       "      <td>IND2</td>\n",
       "      <td>2</td>\n",
       "      <td>1946.0</td>\n",
       "      <td>12690</td>\n",
       "      <td>C2L</td>\n",
       "      <td>PC</td>\n",
       "      <td>936776</td>\n",
       "      <td>2402362</td>\n",
       "      <td>1.5</td>\n",
       "      <td>3603542</td>\n",
       "      <td>6005904</td>\n",
       "      <td>63</td>\n",
       "      <td>4</td>\n",
       "      <td>C5B</td>\n",
       "      <td>NaN</td>\n",
       "      <td>NaN</td>\n",
       "    </tr>\n",
       "    <tr>\n",
       "      <th>1</th>\n",
       "      <td>2</td>\n",
       "      <td>34.03134</td>\n",
       "      <td>-118.22999</td>\n",
       "      <td>1000 S SANTA FE AVE</td>\n",
       "      <td>90021</td>\n",
       "      <td>NaN</td>\n",
       "      <td>Industrial</td>\n",
       "      <td>IND2</td>\n",
       "      <td>5</td>\n",
       "      <td>1917.0</td>\n",
       "      <td>62060</td>\n",
       "      <td>C2M</td>\n",
       "      <td>PC</td>\n",
       "      <td>4878537</td>\n",
       "      <td>12511007</td>\n",
       "      <td>1.5</td>\n",
       "      <td>18766511</td>\n",
       "      <td>31277518</td>\n",
       "      <td>310</td>\n",
       "      <td>19</td>\n",
       "      <td>CX</td>\n",
       "      <td>NaN</td>\n",
       "      <td>NaN</td>\n",
       "    </tr>\n",
       "    <tr>\n",
       "      <th>2</th>\n",
       "      <td>3</td>\n",
       "      <td>34.03594</td>\n",
       "      <td>-118.25172</td>\n",
       "      <td>1001 S SAN PEDRO ST</td>\n",
       "      <td>90015</td>\n",
       "      <td>NaN</td>\n",
       "      <td>Industrial</td>\n",
       "      <td>COM2</td>\n",
       "      <td>2</td>\n",
       "      <td>1909.0</td>\n",
       "      <td>9516</td>\n",
       "      <td>C2L</td>\n",
       "      <td>PC</td>\n",
       "      <td>538415</td>\n",
       "      <td>1380766</td>\n",
       "      <td>1.0</td>\n",
       "      <td>1380766</td>\n",
       "      <td>2761532</td>\n",
       "      <td>10</td>\n",
       "      <td>0</td>\n",
       "      <td>CX</td>\n",
       "      <td>NaN</td>\n",
       "      <td>NaN</td>\n",
       "    </tr>\n",
       "    <tr>\n",
       "      <th>3</th>\n",
       "      <td>4</td>\n",
       "      <td>34.03594</td>\n",
       "      <td>-118.25172</td>\n",
       "      <td>1001 S SAN PEDRO ST</td>\n",
       "      <td>90015</td>\n",
       "      <td>NaN</td>\n",
       "      <td>Industrial</td>\n",
       "      <td>COM2</td>\n",
       "      <td>2</td>\n",
       "      <td>1911.0</td>\n",
       "      <td>9764</td>\n",
       "      <td>C2L</td>\n",
       "      <td>PC</td>\n",
       "      <td>552447</td>\n",
       "      <td>1416751</td>\n",
       "      <td>1.0</td>\n",
       "      <td>1416751</td>\n",
       "      <td>2833501</td>\n",
       "      <td>10</td>\n",
       "      <td>0</td>\n",
       "      <td>CX</td>\n",
       "      <td>NaN</td>\n",
       "      <td>NaN</td>\n",
       "    </tr>\n",
       "    <tr>\n",
       "      <th>4</th>\n",
       "      <td>5</td>\n",
       "      <td>34.03594</td>\n",
       "      <td>-118.25172</td>\n",
       "      <td>1001 S SAN PEDRO ST</td>\n",
       "      <td>90015</td>\n",
       "      <td>NaN</td>\n",
       "      <td>Industrial</td>\n",
       "      <td>COM2</td>\n",
       "      <td>2</td>\n",
       "      <td>1914.0</td>\n",
       "      <td>14120</td>\n",
       "      <td>C2L</td>\n",
       "      <td>PC</td>\n",
       "      <td>798910</td>\n",
       "      <td>2048804</td>\n",
       "      <td>1.0</td>\n",
       "      <td>2048804</td>\n",
       "      <td>4097607</td>\n",
       "      <td>14</td>\n",
       "      <td>0</td>\n",
       "      <td>CX</td>\n",
       "      <td>NaN</td>\n",
       "      <td>NaN</td>\n",
       "    </tr>\n",
       "  </tbody>\n",
       "</table>\n",
       "</div>"
      ],
      "text/plain": [
       "   num       lat        lon              address  zip_code building_name  \\\n",
       "0    1  34.03616 -118.26004      100 E PICO BLVD     90015           NaN   \n",
       "1    2  34.03134 -118.22999  1000 S SANTA FE AVE     90021           NaN   \n",
       "2    3  34.03594 -118.25172  1001 S SAN PEDRO ST     90015           NaN   \n",
       "3    4  34.03594 -118.25172  1001 S SAN PEDRO ST     90015           NaN   \n",
       "4    5  34.03594 -118.25172  1001 S SAN PEDRO ST     90015           NaN   \n",
       "\n",
       "    occupancy  code  stories   yrblt   sqft hazus level  bldvalue  adjvalue  \\\n",
       "0  Industrial  IND2        2  1946.0  12690   C2L    PC    936776   2402362   \n",
       "1  Industrial  IND2        5  1917.0  62060   C2M    PC   4878537  12511007   \n",
       "2  Industrial  COM2        2  1909.0   9516   C2L    PC    538415   1380766   \n",
       "3  Industrial  COM2        2  1911.0   9764   C2L    PC    552447   1416751   \n",
       "4  Industrial  COM2        2  1914.0  14120   C2L    PC    798910   2048804   \n",
       "\n",
       "   multiplier  contents  combined  day  night assessor Type Update  \n",
       "0         1.5   3603542   6005904   63      4      C5B  NaN    NaN  \n",
       "1         1.5  18766511  31277518  310     19       CX  NaN    NaN  \n",
       "2         1.0   1380766   2761532   10      0       CX  NaN    NaN  \n",
       "3         1.0   1416751   2833501   10      0       CX  NaN    NaN  \n",
       "4         1.0   2048804   4097607   14      0       CX  NaN    NaN  "
      ]
     },
     "execution_count": 266,
     "metadata": {},
     "output_type": "execute_result"
    }
   ],
   "source": [
    "concrete_buildings = pd.read_csv(\"../data/raw/la_concrete_buildings.csv\")\n",
    "concrete_buildings.head()"
   ]
  },
  {
   "cell_type": "markdown",
   "id": "8c08b1e0-39d5-4736-ba2a-f35ed6ff1ec4",
   "metadata": {},
   "source": [
    "**WHAT THIS DATASET IS**: Contains data for all the concrete buildings in Los Angeles that are in danger from damage during earthquakes.\n",
    "\n",
    "**HOW WILL IT BE USED**: Some data analysis for what regions are most in danger from huge economic losses and damages if there is an earthquake. I will look at the height of the buildings to estimate the amount of risk––not only the number of stories but also the HAZUS building type label, under the 'hazus' column. C2 and C3 indicates the type of building: concrete shear wall or concrete unreinforced masonry wall (shear wall will do much better than unreinforced masonry wall during an earthquake); and the labels after that: L, M and H, refer to the height category (low-rise, medium-rise and high-rise). I will make a chart to represent the number of those kinds of buildings that are under danger. I will also classify them by zip code and will make a map to represent the density of concrete buildings in that zip code.\n",
    "\n",
    "**PRELIMINARY HYPOTHESIS**: High-rise buildings are generally more dangerous, but those are also usually well-made and earthquake safe because high-rise buildings tend to be newer. Once I do the analysis, I will be able to observe more clearly!"
   ]
  },
  {
   "cell_type": "code",
   "execution_count": 267,
   "id": "f75279c1-27cf-4cee-8063-50f2e69da3cb",
   "metadata": {},
   "outputs": [
    {
     "data": {
      "text/html": [
       "<div>\n",
       "<style scoped>\n",
       "    .dataframe tbody tr th:only-of-type {\n",
       "        vertical-align: middle;\n",
       "    }\n",
       "\n",
       "    .dataframe tbody tr th {\n",
       "        vertical-align: top;\n",
       "    }\n",
       "\n",
       "    .dataframe thead th {\n",
       "        text-align: right;\n",
       "    }\n",
       "</style>\n",
       "<table border=\"1\" class=\"dataframe\">\n",
       "  <thead>\n",
       "    <tr style=\"text-align: right;\">\n",
       "      <th></th>\n",
       "      <th>LOG_ID</th>\n",
       "      <th>STR_NBR</th>\n",
       "      <th>STR_FRAC</th>\n",
       "      <th>STR_DIR</th>\n",
       "      <th>STR_NAME</th>\n",
       "      <th>STR_SUFF</th>\n",
       "      <th>STR_SUFF_DIR</th>\n",
       "      <th>STR_UNIT</th>\n",
       "      <th>ZIP_CODE</th>\n",
       "    </tr>\n",
       "  </thead>\n",
       "  <tbody>\n",
       "    <tr>\n",
       "      <th>0</th>\n",
       "      <td>15882</td>\n",
       "      <td>2174</td>\n",
       "      <td>NaN</td>\n",
       "      <td>E</td>\n",
       "      <td>103RD</td>\n",
       "      <td>ST</td>\n",
       "      <td>NaN</td>\n",
       "      <td>NaN</td>\n",
       "      <td>90002.0</td>\n",
       "    </tr>\n",
       "    <tr>\n",
       "      <th>1</th>\n",
       "      <td>1421</td>\n",
       "      <td>446</td>\n",
       "      <td>NaN</td>\n",
       "      <td>W</td>\n",
       "      <td>106TH</td>\n",
       "      <td>ST</td>\n",
       "      <td>NaN</td>\n",
       "      <td>NaN</td>\n",
       "      <td>90003.0</td>\n",
       "    </tr>\n",
       "    <tr>\n",
       "      <th>2</th>\n",
       "      <td>15884</td>\n",
       "      <td>604</td>\n",
       "      <td>NaN</td>\n",
       "      <td>W</td>\n",
       "      <td>10TH</td>\n",
       "      <td>ST</td>\n",
       "      <td>NaN</td>\n",
       "      <td>NaN</td>\n",
       "      <td>90731.0</td>\n",
       "    </tr>\n",
       "    <tr>\n",
       "      <th>3</th>\n",
       "      <td>15820</td>\n",
       "      <td>631</td>\n",
       "      <td>NaN</td>\n",
       "      <td>W</td>\n",
       "      <td>10TH</td>\n",
       "      <td>ST</td>\n",
       "      <td>NaN</td>\n",
       "      <td>NaN</td>\n",
       "      <td>90731.0</td>\n",
       "    </tr>\n",
       "    <tr>\n",
       "      <th>4</th>\n",
       "      <td>15830</td>\n",
       "      <td>675</td>\n",
       "      <td>NaN</td>\n",
       "      <td>W</td>\n",
       "      <td>10TH</td>\n",
       "      <td>ST</td>\n",
       "      <td>NaN</td>\n",
       "      <td>NaN</td>\n",
       "      <td>90731.0</td>\n",
       "    </tr>\n",
       "  </tbody>\n",
       "</table>\n",
       "</div>"
      ],
      "text/plain": [
       "   LOG_ID  STR_NBR  STR_FRAC STR_DIR STR_NAME STR_SUFF  STR_SUFF_DIR  \\\n",
       "0   15882     2174       NaN       E    103RD       ST           NaN   \n",
       "1    1421      446       NaN       W    106TH       ST           NaN   \n",
       "2   15884      604       NaN       W     10TH       ST           NaN   \n",
       "3   15820      631       NaN       W     10TH       ST           NaN   \n",
       "4   15830      675       NaN       W     10TH       ST           NaN   \n",
       "\n",
       "   STR_UNIT  ZIP_CODE  \n",
       "0       NaN   90002.0  \n",
       "1       NaN   90003.0  \n",
       "2       NaN   90731.0  \n",
       "3       NaN   90731.0  \n",
       "4       NaN   90731.0  "
      ]
     },
     "execution_count": 267,
     "metadata": {},
     "output_type": "execute_result"
    }
   ],
   "source": [
    "ss_apartment = pd.read_csv(\"../data/raw/soft_story_apartment.csv\")\n",
    "ss_apartment.head()"
   ]
  },
  {
   "cell_type": "markdown",
   "id": "2f689435-86b8-4636-9eee-f88ac4105d44",
   "metadata": {},
   "source": [
    "**WHAT THIS DATASET IS**: The details of soft-story apartments in LA; soft-story apartments have a floor on stilts and are therefore in danger from earthquakes.\n",
    "\n",
    "**HOW WILL IT BE USED**: Since I have the zipcode, I will create maps to look at density of soft story buildings in LA."
   ]
  },
  {
   "cell_type": "code",
   "execution_count": 268,
   "id": "a3e270a8-8019-40b0-9507-d5e268ca24a9",
   "metadata": {},
   "outputs": [
    {
     "data": {
      "text/html": [
       "<div>\n",
       "<style scoped>\n",
       "    .dataframe tbody tr th:only-of-type {\n",
       "        vertical-align: middle;\n",
       "    }\n",
       "\n",
       "    .dataframe tbody tr th {\n",
       "        vertical-align: top;\n",
       "    }\n",
       "\n",
       "    .dataframe thead th {\n",
       "        text-align: right;\n",
       "    }\n",
       "</style>\n",
       "<table border=\"1\" class=\"dataframe\">\n",
       "  <thead>\n",
       "    <tr style=\"text-align: right;\">\n",
       "      <th></th>\n",
       "      <th>LOG_ID</th>\n",
       "      <th>STR_NBR</th>\n",
       "      <th>STR_FRAC</th>\n",
       "      <th>STR_DIR</th>\n",
       "      <th>STR_NAME</th>\n",
       "      <th>STR_SUFF</th>\n",
       "      <th>STR_SUFF_DIR</th>\n",
       "      <th>STR_UNIT</th>\n",
       "      <th>ZIP_CODE</th>\n",
       "    </tr>\n",
       "  </thead>\n",
       "  <tbody>\n",
       "    <tr>\n",
       "      <th>0</th>\n",
       "      <td>26424</td>\n",
       "      <td>1027.0</td>\n",
       "      <td>NaN</td>\n",
       "      <td>W</td>\n",
       "      <td>11TH</td>\n",
       "      <td>ST</td>\n",
       "      <td>NaN</td>\n",
       "      <td>1</td>\n",
       "      <td>90731.0</td>\n",
       "    </tr>\n",
       "    <tr>\n",
       "      <th>1</th>\n",
       "      <td>34116</td>\n",
       "      <td>1027.0</td>\n",
       "      <td>NaN</td>\n",
       "      <td>W</td>\n",
       "      <td>11TH</td>\n",
       "      <td>ST</td>\n",
       "      <td>NaN</td>\n",
       "      <td>10</td>\n",
       "      <td>90731.0</td>\n",
       "    </tr>\n",
       "    <tr>\n",
       "      <th>2</th>\n",
       "      <td>34113</td>\n",
       "      <td>1027.0</td>\n",
       "      <td>NaN</td>\n",
       "      <td>W</td>\n",
       "      <td>11TH</td>\n",
       "      <td>ST</td>\n",
       "      <td>NaN</td>\n",
       "      <td>2</td>\n",
       "      <td>90731.0</td>\n",
       "    </tr>\n",
       "    <tr>\n",
       "      <th>3</th>\n",
       "      <td>34114</td>\n",
       "      <td>1027.0</td>\n",
       "      <td>NaN</td>\n",
       "      <td>W</td>\n",
       "      <td>11TH</td>\n",
       "      <td>ST</td>\n",
       "      <td>NaN</td>\n",
       "      <td>3</td>\n",
       "      <td>90731.0</td>\n",
       "    </tr>\n",
       "    <tr>\n",
       "      <th>4</th>\n",
       "      <td>34115</td>\n",
       "      <td>1027.0</td>\n",
       "      <td>NaN</td>\n",
       "      <td>W</td>\n",
       "      <td>11TH</td>\n",
       "      <td>ST</td>\n",
       "      <td>NaN</td>\n",
       "      <td>4</td>\n",
       "      <td>90731.0</td>\n",
       "    </tr>\n",
       "  </tbody>\n",
       "</table>\n",
       "</div>"
      ],
      "text/plain": [
       "   LOG_ID  STR_NBR  STR_FRAC STR_DIR STR_NAME STR_SUFF  STR_SUFF_DIR STR_UNIT  \\\n",
       "0   26424   1027.0       NaN       W     11TH       ST           NaN        1   \n",
       "1   34116   1027.0       NaN       W     11TH       ST           NaN       10   \n",
       "2   34113   1027.0       NaN       W     11TH       ST           NaN        2   \n",
       "3   34114   1027.0       NaN       W     11TH       ST           NaN        3   \n",
       "4   34115   1027.0       NaN       W     11TH       ST           NaN        4   \n",
       "\n",
       "   ZIP_CODE  \n",
       "0   90731.0  \n",
       "1   90731.0  \n",
       "2   90731.0  \n",
       "3   90731.0  \n",
       "4   90731.0  "
      ]
     },
     "execution_count": 268,
     "metadata": {},
     "output_type": "execute_result"
    }
   ],
   "source": [
    "ss_condo = pd.read_csv(\"../data/raw/soft_story_condo.csv\")\n",
    "ss_condo.head()"
   ]
  },
  {
   "cell_type": "markdown",
   "id": "280ef579-68fe-4f51-a48d-57fb66063a43",
   "metadata": {},
   "source": [
    "**WHAT THIS DATASET IS**: The details of soft-story condos in LA; soft-story condos have a floor on stilts and are therefore in danger from earthquakes.\n",
    "\n",
    "**HOW WILL IT BE USED**: Since I have the zipcode, I will create maps to look at density of soft story condos in LA."
   ]
  },
  {
   "cell_type": "code",
   "execution_count": 269,
   "id": "be33991d-8073-4dac-9d1a-1ecdeefb7b77",
   "metadata": {},
   "outputs": [],
   "source": [
    "la_neighbourhoods = gpd.read_file(\"../data/geo/la_neighbourhoods.geojson\")"
   ]
  },
  {
   "cell_type": "markdown",
   "id": "56782dad-939c-4f38-aca3-4c8db806ea3a",
   "metadata": {},
   "source": [
    "**WHAT THIS DATASET IS**: Geo file of LA neighbourhoods\n",
    "\n",
    "**HOW WILL IT BE USED**: I wanted to merge it with other files to create maps. I later realized that none of my building data contain neighbourhoods and only contain zip codes so this will only be used in the QGIS map to create labels. I will demonstrate data cleaning here by removing unincorporated zones."
   ]
  },
  {
   "cell_type": "code",
   "execution_count": 270,
   "id": "aa768ed3-cc9d-4eb6-acb3-555f902f37fd",
   "metadata": {},
   "outputs": [],
   "source": [
    "la_zipcodes = gpd.read_file(\"../data/geo/zip_codes_la.geojson\")"
   ]
  },
  {
   "cell_type": "markdown",
   "id": "e60405db-28e0-45ae-a931-778200371543",
   "metadata": {},
   "source": [
    "**WHAT THIS DATASET IS**: Zipcodes data\n",
    "\n",
    "**HOW WILL IT BE USED**: Will be used for merges and analysis."
   ]
  },
  {
   "cell_type": "code",
   "execution_count": 271,
   "id": "e7cc0264-7ca6-4fd4-a11e-1192e913949e",
   "metadata": {},
   "outputs": [],
   "source": [
    "income_data = gpd.read_file(\"../data/raw/Median_Household_Income_(2016).geojson\")"
   ]
  },
  {
   "cell_type": "markdown",
   "id": "3185ca2c-33be-4488-8d92-4d7d4a548c3e",
   "metadata": {},
   "source": [
    "**WHAT THIS DATASET IS**: Income and population data for LA.\n",
    "\n",
    "**HOW WILL IT BE USED**: I will look at the zones that have highest and lowest income to determine which census tracts are in most danger from earthquakes. This will be used in a datawrapper map.\n"
   ]
  },
  {
   "cell_type": "markdown",
   "id": "6c7a3a28-2b32-4ceb-a768-f1ba56ff915f",
   "metadata": {},
   "source": [
    "#### PART II: Basic Analysis of Datasets"
   ]
  },
  {
   "cell_type": "code",
   "execution_count": 272,
   "id": "b8bb0cc1-e546-4496-acda-05e890dcbdd7",
   "metadata": {},
   "outputs": [
    {
     "data": {
      "text/plain": [
       "<AxesSubplot:>"
      ]
     },
     "execution_count": 272,
     "metadata": {},
     "output_type": "execute_result"
    },
    {
     "data": {
      "image/png": "[encoded data removed]",
      "text/plain": [
       "<Figure size 432x288 with 1 Axes>"
      ]
     },
     "metadata": {
      "needs_background": "light"
     },
     "output_type": "display_data"
    }
   ],
   "source": [
    "liquefaction.plot()"
   ]
  },
  {
   "cell_type": "code",
   "execution_count": 273,
   "id": "223cb415-917e-484c-83a2-71a9efbde1c8",
   "metadata": {},
   "outputs": [
    {
     "data": {
      "text/plain": [
       "<AxesSubplot:>"
      ]
     },
     "execution_count": 273,
     "metadata": {},
     "output_type": "execute_result"
    },
    {
     "data": {
      "image/png": "[encoded data removed]",
      "text/plain": [
       "<Figure size 432x288 with 1 Axes>"
      ]
     },
     "metadata": {
      "needs_background": "light"
     },
     "output_type": "display_data"
    }
   ],
   "source": [
    "fault_trace.plot()"
   ]
  },
  {
   "cell_type": "code",
   "execution_count": 274,
   "id": "319db510-6052-4193-8136-fc43a956515f",
   "metadata": {},
   "outputs": [
    {
     "data": {
      "text/plain": [
       "0              Acton\n",
       "1    Adams-Normandie\n",
       "2       Agoura Hills\n",
       "3         Agua Dulce\n",
       "4           Alhambra\n",
       "Name: name, dtype: object"
      ]
     },
     "execution_count": 274,
     "metadata": {},
     "output_type": "execute_result"
    }
   ],
   "source": [
    "# I will exclude all the unincorporated 'neighbourhoods' of LA\n",
    "# I used .head() here to make sure the file is not too long to read.\n",
    "la_neighbourhoods[\"name\"].head()"
   ]
  },
  {
   "cell_type": "code",
   "execution_count": 275,
   "id": "0dd6c40c-0aef-4e23-9ec9-526463ce188f",
   "metadata": {
    "tags": []
   },
   "outputs": [],
   "source": [
    "exclude = la_neighbourhoods[\n",
    "    la_neighbourhoods[\"name\"].str.contains(\"Unincorporated\", case=False)\n",
    "]\n",
    "final_la_hoods = la_neighbourhoods[~la_neighbourhoods[\"name\"].isin(exclude[\"name\"])]\n",
    "\n",
    "# IT WORKS!"
   ]
  },
  {
   "cell_type": "markdown",
   "id": "dad5319c-d601-4b82-ae4c-f77cb4812f24",
   "metadata": {},
   "source": [
    "#### PART III: Aggregation and Further Analysis"
   ]
  },
  {
   "cell_type": "markdown",
   "id": "2081a12a-b024-48d5-8557-f248799105bf",
   "metadata": {},
   "source": [
    "##### *STARTING WITH THE CONCRETE BUILDINGS DATASET*"
   ]
  },
  {
   "cell_type": "code",
   "execution_count": 276,
   "id": "1c33bb47-9d34-4fb4-b678-ad624363832b",
   "metadata": {},
   "outputs": [
    {
     "data": {
      "text/html": [
       "<div>\n",
       "<style scoped>\n",
       "    .dataframe tbody tr th:only-of-type {\n",
       "        vertical-align: middle;\n",
       "    }\n",
       "\n",
       "    .dataframe tbody tr th {\n",
       "        vertical-align: top;\n",
       "    }\n",
       "\n",
       "    .dataframe thead th {\n",
       "        text-align: right;\n",
       "    }\n",
       "</style>\n",
       "<table border=\"1\" class=\"dataframe\">\n",
       "  <thead>\n",
       "    <tr style=\"text-align: right;\">\n",
       "      <th></th>\n",
       "      <th>num</th>\n",
       "      <th>lat</th>\n",
       "      <th>lon</th>\n",
       "      <th>address</th>\n",
       "      <th>zip_code</th>\n",
       "      <th>building_name</th>\n",
       "      <th>occupancy</th>\n",
       "      <th>code</th>\n",
       "      <th>stories</th>\n",
       "      <th>yrblt</th>\n",
       "      <th>sqft</th>\n",
       "      <th>hazus</th>\n",
       "      <th>level</th>\n",
       "      <th>bldvalue</th>\n",
       "      <th>adjvalue</th>\n",
       "      <th>multiplier</th>\n",
       "      <th>contents</th>\n",
       "      <th>combined</th>\n",
       "      <th>day</th>\n",
       "      <th>night</th>\n",
       "      <th>assessor</th>\n",
       "      <th>Type</th>\n",
       "      <th>Update</th>\n",
       "    </tr>\n",
       "  </thead>\n",
       "  <tbody>\n",
       "    <tr>\n",
       "      <th>0</th>\n",
       "      <td>1</td>\n",
       "      <td>34.03616</td>\n",
       "      <td>-118.26004</td>\n",
       "      <td>100 E PICO BLVD</td>\n",
       "      <td>90015</td>\n",
       "      <td>NaN</td>\n",
       "      <td>Industrial</td>\n",
       "      <td>IND2</td>\n",
       "      <td>2</td>\n",
       "      <td>1946.0</td>\n",
       "      <td>12690</td>\n",
       "      <td>C2L</td>\n",
       "      <td>PC</td>\n",
       "      <td>936776</td>\n",
       "      <td>2402362</td>\n",
       "      <td>1.5</td>\n",
       "      <td>3603542</td>\n",
       "      <td>6005904</td>\n",
       "      <td>63</td>\n",
       "      <td>4</td>\n",
       "      <td>C5B</td>\n",
       "      <td>NaN</td>\n",
       "      <td>NaN</td>\n",
       "    </tr>\n",
       "    <tr>\n",
       "      <th>1</th>\n",
       "      <td>2</td>\n",
       "      <td>34.03134</td>\n",
       "      <td>-118.22999</td>\n",
       "      <td>1000 S SANTA FE AVE</td>\n",
       "      <td>90021</td>\n",
       "      <td>NaN</td>\n",
       "      <td>Industrial</td>\n",
       "      <td>IND2</td>\n",
       "      <td>5</td>\n",
       "      <td>1917.0</td>\n",
       "      <td>62060</td>\n",
       "      <td>C2M</td>\n",
       "      <td>PC</td>\n",
       "      <td>4878537</td>\n",
       "      <td>12511007</td>\n",
       "      <td>1.5</td>\n",
       "      <td>18766511</td>\n",
       "      <td>31277518</td>\n",
       "      <td>310</td>\n",
       "      <td>19</td>\n",
       "      <td>CX</td>\n",
       "      <td>NaN</td>\n",
       "      <td>NaN</td>\n",
       "    </tr>\n",
       "    <tr>\n",
       "      <th>2</th>\n",
       "      <td>3</td>\n",
       "      <td>34.03594</td>\n",
       "      <td>-118.25172</td>\n",
       "      <td>1001 S SAN PEDRO ST</td>\n",
       "      <td>90015</td>\n",
       "      <td>NaN</td>\n",
       "      <td>Industrial</td>\n",
       "      <td>COM2</td>\n",
       "      <td>2</td>\n",
       "      <td>1909.0</td>\n",
       "      <td>9516</td>\n",
       "      <td>C2L</td>\n",
       "      <td>PC</td>\n",
       "      <td>538415</td>\n",
       "      <td>1380766</td>\n",
       "      <td>1.0</td>\n",
       "      <td>1380766</td>\n",
       "      <td>2761532</td>\n",
       "      <td>10</td>\n",
       "      <td>0</td>\n",
       "      <td>CX</td>\n",
       "      <td>NaN</td>\n",
       "      <td>NaN</td>\n",
       "    </tr>\n",
       "    <tr>\n",
       "      <th>3</th>\n",
       "      <td>4</td>\n",
       "      <td>34.03594</td>\n",
       "      <td>-118.25172</td>\n",
       "      <td>1001 S SAN PEDRO ST</td>\n",
       "      <td>90015</td>\n",
       "      <td>NaN</td>\n",
       "      <td>Industrial</td>\n",
       "      <td>COM2</td>\n",
       "      <td>2</td>\n",
       "      <td>1911.0</td>\n",
       "      <td>9764</td>\n",
       "      <td>C2L</td>\n",
       "      <td>PC</td>\n",
       "      <td>552447</td>\n",
       "      <td>1416751</td>\n",
       "      <td>1.0</td>\n",
       "      <td>1416751</td>\n",
       "      <td>2833501</td>\n",
       "      <td>10</td>\n",
       "      <td>0</td>\n",
       "      <td>CX</td>\n",
       "      <td>NaN</td>\n",
       "      <td>NaN</td>\n",
       "    </tr>\n",
       "    <tr>\n",
       "      <th>4</th>\n",
       "      <td>5</td>\n",
       "      <td>34.03594</td>\n",
       "      <td>-118.25172</td>\n",
       "      <td>1001 S SAN PEDRO ST</td>\n",
       "      <td>90015</td>\n",
       "      <td>NaN</td>\n",
       "      <td>Industrial</td>\n",
       "      <td>COM2</td>\n",
       "      <td>2</td>\n",
       "      <td>1914.0</td>\n",
       "      <td>14120</td>\n",
       "      <td>C2L</td>\n",
       "      <td>PC</td>\n",
       "      <td>798910</td>\n",
       "      <td>2048804</td>\n",
       "      <td>1.0</td>\n",
       "      <td>2048804</td>\n",
       "      <td>4097607</td>\n",
       "      <td>14</td>\n",
       "      <td>0</td>\n",
       "      <td>CX</td>\n",
       "      <td>NaN</td>\n",
       "      <td>NaN</td>\n",
       "    </tr>\n",
       "  </tbody>\n",
       "</table>\n",
       "</div>"
      ],
      "text/plain": [
       "   num       lat        lon              address  zip_code building_name  \\\n",
       "0    1  34.03616 -118.26004      100 E PICO BLVD     90015           NaN   \n",
       "1    2  34.03134 -118.22999  1000 S SANTA FE AVE     90021           NaN   \n",
       "2    3  34.03594 -118.25172  1001 S SAN PEDRO ST     90015           NaN   \n",
       "3    4  34.03594 -118.25172  1001 S SAN PEDRO ST     90015           NaN   \n",
       "4    5  34.03594 -118.25172  1001 S SAN PEDRO ST     90015           NaN   \n",
       "\n",
       "    occupancy  code  stories   yrblt   sqft hazus level  bldvalue  adjvalue  \\\n",
       "0  Industrial  IND2        2  1946.0  12690   C2L    PC    936776   2402362   \n",
       "1  Industrial  IND2        5  1917.0  62060   C2M    PC   4878537  12511007   \n",
       "2  Industrial  COM2        2  1909.0   9516   C2L    PC    538415   1380766   \n",
       "3  Industrial  COM2        2  1911.0   9764   C2L    PC    552447   1416751   \n",
       "4  Industrial  COM2        2  1914.0  14120   C2L    PC    798910   2048804   \n",
       "\n",
       "   multiplier  contents  combined  day  night assessor Type Update  \n",
       "0         1.5   3603542   6005904   63      4      C5B  NaN    NaN  \n",
       "1         1.5  18766511  31277518  310     19       CX  NaN    NaN  \n",
       "2         1.0   1380766   2761532   10      0       CX  NaN    NaN  \n",
       "3         1.0   1416751   2833501   10      0       CX  NaN    NaN  \n",
       "4         1.0   2048804   4097607   14      0       CX  NaN    NaN  "
      ]
     },
     "execution_count": 276,
     "metadata": {},
     "output_type": "execute_result"
    }
   ],
   "source": [
    "concrete_buildings.head()"
   ]
  },
  {
   "cell_type": "code",
   "execution_count": 302,
   "id": "5a1af520-034a-4c00-bbfd-4d60121aa38c",
   "metadata": {},
   "outputs": [],
   "source": [
    "# Grouping by zipcode\n",
    "conc_zipcode = (\n",
    "    concrete_buildings.groupby(\"zip_code\")\n",
    "    .agg({\"num\": \"count\"})\n",
    "    .reset_index()\n",
    "    .rename(columns={\"num\": \"conc_buildings\"})\n",
    "    .sort_values(\"conc_buildings\", ascending=False)\n",
    ")"
   ]
  },
  {
   "cell_type": "code",
   "execution_count": 278,
   "id": "ebd5eb3a-0f26-439e-b7fa-1fe941084aa2",
   "metadata": {},
   "outputs": [
    {
     "data": {
      "text/html": [
       "<div>\n",
       "<style scoped>\n",
       "    .dataframe tbody tr th:only-of-type {\n",
       "        vertical-align: middle;\n",
       "    }\n",
       "\n",
       "    .dataframe tbody tr th {\n",
       "        vertical-align: top;\n",
       "    }\n",
       "\n",
       "    .dataframe thead th {\n",
       "        text-align: right;\n",
       "    }\n",
       "</style>\n",
       "<table border=\"1\" class=\"dataframe\">\n",
       "  <thead>\n",
       "    <tr style=\"text-align: right;\">\n",
       "      <th></th>\n",
       "      <th>zip_code</th>\n",
       "      <th>conc_buildings</th>\n",
       "    </tr>\n",
       "  </thead>\n",
       "  <tbody>\n",
       "    <tr>\n",
       "      <th>12</th>\n",
       "      <td>90014</td>\n",
       "      <td>109</td>\n",
       "    </tr>\n",
       "    <tr>\n",
       "      <th>13</th>\n",
       "      <td>90015</td>\n",
       "      <td>99</td>\n",
       "    </tr>\n",
       "    <tr>\n",
       "      <th>11</th>\n",
       "      <td>90013</td>\n",
       "      <td>88</td>\n",
       "    </tr>\n",
       "    <tr>\n",
       "      <th>25</th>\n",
       "      <td>90028</td>\n",
       "      <td>80</td>\n",
       "    </tr>\n",
       "    <tr>\n",
       "      <th>19</th>\n",
       "      <td>90021</td>\n",
       "      <td>62</td>\n",
       "    </tr>\n",
       "  </tbody>\n",
       "</table>\n",
       "</div>"
      ],
      "text/plain": [
       "    zip_code  conc_buildings\n",
       "12     90014             109\n",
       "13     90015              99\n",
       "11     90013              88\n",
       "25     90028              80\n",
       "19     90021              62"
      ]
     },
     "execution_count": 278,
     "metadata": {},
     "output_type": "execute_result"
    }
   ],
   "source": [
    "conc_zipcode.head()"
   ]
  },
  {
   "cell_type": "code",
   "execution_count": 279,
   "id": "389e92eb-838c-4033-872d-400b5e63af0b",
   "metadata": {},
   "outputs": [
    {
     "data": {
      "text/plain": [
       "zip_code          object\n",
       "conc_buildings     int64\n",
       "dtype: object"
      ]
     },
     "execution_count": 279,
     "metadata": {},
     "output_type": "execute_result"
    }
   ],
   "source": [
    "# I am converting my zipcode to a string because it will make the merges with the shapefile easier\n",
    "# Removing the decimal points because that will hinder the merge.\n",
    "\n",
    "conc_zipcode[\"zip_code\"] = (\n",
    "    conc_zipcode[\"zip_code\"].astype(str).apply(lambda x: x.replace(\".0\", \"\"))\n",
    ")\n",
    "\n",
    "conc_zipcode.dtypes"
   ]
  },
  {
   "cell_type": "code",
   "execution_count": 280,
   "id": "2c67eaa7-3669-4185-86ae-ca222a8e997e",
   "metadata": {},
   "outputs": [
    {
     "name": "stdout",
     "output_type": "stream",
     "text": [
      "The number of buildings in the dataset are 1451.\n"
     ]
    }
   ],
   "source": [
    "# Find out the length of the dataset\n",
    "row_no = len(concrete_buildings)\n",
    "print(f\"The number of buildings in the dataset are {row_no}.\")"
   ]
  },
  {
   "cell_type": "code",
   "execution_count": 281,
   "id": "093671aa-a6e6-4874-80e9-cc384f83509d",
   "metadata": {},
   "outputs": [
    {
     "data": {
      "text/plain": [
       "array(['Industrial', 'Commercial', 'School', 'Office', 'Warehouse',\n",
       "       'Nursing home', 'Hotel', 'INSTITUTIONAL', 'Shopping Mall',\n",
       "       'Residential', 'Lifeline', 'Theatre', 'Church',\n",
       "       'Residential/Condo', 'Recreation', 'Hospital',\n",
       "       'Professional building', 'Parking structure', 'Office/non profit',\n",
       "       'Bank', 'Utilities', 'Office/parking mix', 'Movie Studio',\n",
       "       'Children day care', 'Health Clinic', 'Religious', 'Store/combo',\n",
       "       'Industrial/Comercial', 'Residential/condo', 'Government',\n",
       "       'Nursing Home', 'police and fire station', 'Office/Non profit',\n",
       "       'Convent', 'services', nan, 'Market', 'Health clinic', 'Mortuary',\n",
       "       'Museum', 'Movie Theatre', 'Restaurant',\n",
       "       'High and open first floor', 'Commercial/res mix',\n",
       "       'Theater/auditorium', 'Commercial/residential mix',\n",
       "       'Manufacturing', 'Comm/Entertainment mix', 'Comm/residential mix',\n",
       "       'Club/Lodge'], dtype=object)"
      ]
     },
     "execution_count": 281,
     "metadata": {},
     "output_type": "execute_result"
    }
   ],
   "source": [
    "concrete_buildings[\"occupancy\"].unique()"
   ]
  },
  {
   "cell_type": "code",
   "execution_count": 282,
   "id": "abe75a36-8c98-42ee-9d7b-ba947c8a71c9",
   "metadata": {},
   "outputs": [
    {
     "name": "stdout",
     "output_type": "stream",
     "text": [
      "The number of residential buildings in danger from earthquakes are 122.\n"
     ]
    }
   ],
   "source": [
    "# I want to find the number of solely residential buildings that are in danger from earthquakes\n",
    "conc_residential = concrete_buildings[concrete_buildings[\"occupancy\"] == \"Residential\"]\n",
    "print(\n",
    "    f\"The number of residential buildings in danger from earthquakes are {len(conc_residential)}.\"\n",
    ")"
   ]
  },
  {
   "cell_type": "code",
   "execution_count": 303,
   "id": "b1759dc7-2957-4085-a220-82c9aedfc51c",
   "metadata": {},
   "outputs": [
    {
     "data": {
      "text/html": [
       "<div>\n",
       "<style scoped>\n",
       "    .dataframe tbody tr th:only-of-type {\n",
       "        vertical-align: middle;\n",
       "    }\n",
       "\n",
       "    .dataframe tbody tr th {\n",
       "        vertical-align: top;\n",
       "    }\n",
       "\n",
       "    .dataframe thead th {\n",
       "        text-align: right;\n",
       "    }\n",
       "</style>\n",
       "<table border=\"1\" class=\"dataframe\">\n",
       "  <thead>\n",
       "    <tr style=\"text-align: right;\">\n",
       "      <th></th>\n",
       "      <th>hazus</th>\n",
       "      <th>num</th>\n",
       "    </tr>\n",
       "  </thead>\n",
       "  <tbody>\n",
       "    <tr>\n",
       "      <th>0</th>\n",
       "      <td>C2H</td>\n",
       "      <td>43</td>\n",
       "    </tr>\n",
       "    <tr>\n",
       "      <th>1</th>\n",
       "      <td>C2L</td>\n",
       "      <td>513</td>\n",
       "    </tr>\n",
       "    <tr>\n",
       "      <th>2</th>\n",
       "      <td>C2M</td>\n",
       "      <td>136</td>\n",
       "    </tr>\n",
       "    <tr>\n",
       "      <th>3</th>\n",
       "      <td>C3H</td>\n",
       "      <td>174</td>\n",
       "    </tr>\n",
       "    <tr>\n",
       "      <th>4</th>\n",
       "      <td>C3L</td>\n",
       "      <td>396</td>\n",
       "    </tr>\n",
       "    <tr>\n",
       "      <th>5</th>\n",
       "      <td>C3M</td>\n",
       "      <td>189</td>\n",
       "    </tr>\n",
       "  </tbody>\n",
       "</table>\n",
       "</div>"
      ],
      "text/plain": [
       "  hazus  num\n",
       "0   C2H   43\n",
       "1   C2L  513\n",
       "2   C2M  136\n",
       "3   C3H  174\n",
       "4   C3L  396\n",
       "5   C3M  189"
      ]
     },
     "execution_count": 303,
     "metadata": {},
     "output_type": "execute_result"
    }
   ],
   "source": [
    "# Grouping by the HAZUS classification.\n",
    "hazus_classify = concrete_buildings.groupby(\"hazus\").agg({\"num\": \"count\"}).reset_index()\n",
    "hazus_classify"
   ]
  },
  {
   "cell_type": "markdown",
   "id": "89664a0f-3ea3-4921-9577-35ca2ef5451d",
   "metadata": {},
   "source": [
    "##### *LOOKING AT SOFT STORY CONDOS AND SOFT STORY APARTMENTS*"
   ]
  },
  {
   "cell_type": "code",
   "execution_count": 304,
   "id": "3d0f1faf-7a10-4720-bd2c-9a65a20093f5",
   "metadata": {},
   "outputs": [],
   "source": [
    "# Grouping by zipcode\n",
    "ss_condo_zipcode = (\n",
    "    ss_condo.groupby(\"ZIP_CODE\")\n",
    "    .agg({\"LOG_ID\": \"count\"})\n",
    "    .reset_index()\n",
    "    .rename(columns={\"LOG_ID\": \"ss_condos\"})\n",
    "    .sort_values(\"ss_condos\", ascending=False)\n",
    ")"
   ]
  },
  {
   "cell_type": "code",
   "execution_count": 285,
   "id": "21830c5c-65d6-450e-92ad-f3c4f286d130",
   "metadata": {},
   "outputs": [],
   "source": [
    "# I am converting my zipcode to a string because it will make the merges with the shapefile easier\n",
    "# Removing the decimal points because that will hinder the merge.\n",
    "\n",
    "ss_condo_zipcode[\"ZIP_CODE\"] = (\n",
    "    ss_condo_zipcode[\"ZIP_CODE\"].astype(str).apply(lambda x: x.replace(\".0\", \"\"))\n",
    ")"
   ]
  },
  {
   "cell_type": "code",
   "execution_count": 286,
   "id": "2ad5c122-05ad-401b-87fb-8b80b142b540",
   "metadata": {},
   "outputs": [
    {
     "data": {
      "text/html": [
       "<div>\n",
       "<style scoped>\n",
       "    .dataframe tbody tr th:only-of-type {\n",
       "        vertical-align: middle;\n",
       "    }\n",
       "\n",
       "    .dataframe tbody tr th {\n",
       "        vertical-align: top;\n",
       "    }\n",
       "\n",
       "    .dataframe thead th {\n",
       "        text-align: right;\n",
       "    }\n",
       "</style>\n",
       "<table border=\"1\" class=\"dataframe\">\n",
       "  <thead>\n",
       "    <tr style=\"text-align: right;\">\n",
       "      <th></th>\n",
       "      <th>ZIP_CODE</th>\n",
       "      <th>ss_condos</th>\n",
       "    </tr>\n",
       "  </thead>\n",
       "  <tbody>\n",
       "    <tr>\n",
       "      <th>26</th>\n",
       "      <td>90292</td>\n",
       "      <td>1290</td>\n",
       "    </tr>\n",
       "    <tr>\n",
       "      <th>48</th>\n",
       "      <td>91367</td>\n",
       "      <td>981</td>\n",
       "    </tr>\n",
       "    <tr>\n",
       "      <th>47</th>\n",
       "      <td>91356</td>\n",
       "      <td>877</td>\n",
       "    </tr>\n",
       "    <tr>\n",
       "      <th>37</th>\n",
       "      <td>91316</td>\n",
       "      <td>711</td>\n",
       "    </tr>\n",
       "    <tr>\n",
       "      <th>58</th>\n",
       "      <td>91504</td>\n",
       "      <td>696</td>\n",
       "    </tr>\n",
       "  </tbody>\n",
       "</table>\n",
       "</div>"
      ],
      "text/plain": [
       "   ZIP_CODE  ss_condos\n",
       "26    90292       1290\n",
       "48    91367        981\n",
       "47    91356        877\n",
       "37    91316        711\n",
       "58    91504        696"
      ]
     },
     "execution_count": 286,
     "metadata": {},
     "output_type": "execute_result"
    }
   ],
   "source": [
    "ss_condo_zipcode.head()"
   ]
  },
  {
   "cell_type": "code",
   "execution_count": 305,
   "id": "dadb3f27-d72c-44a0-93e5-f28c42067802",
   "metadata": {},
   "outputs": [],
   "source": [
    "# Grouping by zipcode\n",
    "ss_apartment_zipcode = (\n",
    "    ss_apartment.groupby(\"ZIP_CODE\")\n",
    "    .agg({\"LOG_ID\": \"count\"})\n",
    "    .reset_index()\n",
    "    .rename(columns={\"LOG_ID\": \"ss_apartments\"})\n",
    "    .sort_values(\"ss_apartments\", ascending=False)\n",
    ")"
   ]
  },
  {
   "cell_type": "code",
   "execution_count": 288,
   "id": "61e8a9b2-d800-428b-b140-0aa18d8d8a10",
   "metadata": {},
   "outputs": [
    {
     "data": {
      "text/html": [
       "<div>\n",
       "<style scoped>\n",
       "    .dataframe tbody tr th:only-of-type {\n",
       "        vertical-align: middle;\n",
       "    }\n",
       "\n",
       "    .dataframe tbody tr th {\n",
       "        vertical-align: top;\n",
       "    }\n",
       "\n",
       "    .dataframe thead th {\n",
       "        text-align: right;\n",
       "    }\n",
       "</style>\n",
       "<table border=\"1\" class=\"dataframe\">\n",
       "  <thead>\n",
       "    <tr style=\"text-align: right;\">\n",
       "      <th></th>\n",
       "      <th>ZIP_CODE</th>\n",
       "      <th>ss_apartments</th>\n",
       "    </tr>\n",
       "  </thead>\n",
       "  <tbody>\n",
       "    <tr>\n",
       "      <th>27</th>\n",
       "      <td>90034</td>\n",
       "      <td>887</td>\n",
       "    </tr>\n",
       "    <tr>\n",
       "      <th>19</th>\n",
       "      <td>90025</td>\n",
       "      <td>746</td>\n",
       "    </tr>\n",
       "    <tr>\n",
       "      <th>28</th>\n",
       "      <td>90035</td>\n",
       "      <td>424</td>\n",
       "    </tr>\n",
       "    <tr>\n",
       "      <th>50</th>\n",
       "      <td>90066</td>\n",
       "      <td>404</td>\n",
       "    </tr>\n",
       "    <tr>\n",
       "      <th>15</th>\n",
       "      <td>90019</td>\n",
       "      <td>374</td>\n",
       "    </tr>\n",
       "  </tbody>\n",
       "</table>\n",
       "</div>"
      ],
      "text/plain": [
       "   ZIP_CODE  ss_apartments\n",
       "27    90034            887\n",
       "19    90025            746\n",
       "28    90035            424\n",
       "50    90066            404\n",
       "15    90019            374"
      ]
     },
     "execution_count": 288,
     "metadata": {},
     "output_type": "execute_result"
    }
   ],
   "source": [
    "# I am converting my zipcode to a string because it will make the merges with the shapefile easier\n",
    "# Removing the decimal points because that will hinder the merge.\n",
    "\n",
    "ss_apartment_zipcode[\"ZIP_CODE\"] = (\n",
    "    ss_apartment_zipcode[\"ZIP_CODE\"].astype(str).apply(lambda x: x.replace(\".0\", \"\"))\n",
    ")\n",
    "\n",
    "ss_apartment_zipcode.head()"
   ]
  },
  {
   "cell_type": "markdown",
   "id": "8c3fc793-edab-4b87-8c1a-2b396bf1666e",
   "metadata": {},
   "source": [
    "#### PART IV: Creating Charts with Altair"
   ]
  },
  {
   "cell_type": "code",
   "execution_count": 301,
   "id": "675505aa-7951-4c0e-99d8-44b47ebe4b70",
   "metadata": {},
   "outputs": [
    {
     "data": {
      "text/html": [
       "\n",
       "<div id=\"altair-viz-2559df5a8db34de2bd6eef5948cca2ee\"></div>\n",
       "<script type=\"text/javascript\">\n",
       "  var VEGA_DEBUG = (typeof VEGA_DEBUG == \"undefined\") ? {} : VEGA_DEBUG;\n",
       "  (function(spec, embedOpt){\n",
       "    let outputDiv = document.currentScript.previousElementSibling;\n",
       "    if (outputDiv.id !== \"altair-viz-2559df5a8db34de2bd6eef5948cca2ee\") {\n",
       "      outputDiv = document.getElementById(\"altair-viz-2559df5a8db34de2bd6eef5948cca2ee\");\n",
       "    }\n",
       "    const paths = {\n",
       "      \"vega\": \"https://cdn.jsdelivr.net/npm//vega@5?noext\",\n",
       "      \"vega-lib\": \"https://cdn.jsdelivr.net/npm//vega-lib?noext\",\n",
       "      \"vega-lite\": \"https://cdn.jsdelivr.net/npm//vega-lite@4.17.0?noext\",\n",
       "      \"vega-embed\": \"https://cdn.jsdelivr.net/npm//vega-embed@6?noext\",\n",
       "    };\n",
       "\n",
       "    function maybeLoadScript(lib, version) {\n",
       "      var key = `${lib.replace(\"-\", \"\")}_version`;\n",
       "      return (VEGA_DEBUG[key] == version) ?\n",
       "        Promise.resolve(paths[lib]) :\n",
       "        new Promise(function(resolve, reject) {\n",
       "          var s = document.createElement('script');\n",
       "          document.getElementsByTagName(\"head\")[0].appendChild(s);\n",
       "          s.async = true;\n",
       "          s.onload = () => {\n",
       "            VEGA_DEBUG[key] = version;\n",
       "            return resolve(paths[lib]);\n",
       "          };\n",
       "          s.onerror = () => reject(`Error loading script: ${paths[lib]}`);\n",
       "          s.src = paths[lib];\n",
       "        });\n",
       "    }\n",
       "\n",
       "    function showError(err) {\n",
       "      outputDiv.innerHTML = `<div class=\"error\" style=\"color:red;\">${err}</div>`;\n",
       "      throw err;\n",
       "    }\n",
       "\n",
       "    function displayChart(vegaEmbed) {\n",
       "      vegaEmbed(outputDiv, spec, embedOpt)\n",
       "        .catch(err => showError(`Javascript Error: ${err.message}<br>This usually means there's a typo in your chart specification. See the javascript console for the full traceback.`));\n",
       "    }\n",
       "\n",
       "    if(typeof define === \"function\" && define.amd) {\n",
       "      requirejs.config({paths});\n",
       "      require([\"vega-embed\"], displayChart, err => showError(`Error loading script: ${err.message}`));\n",
       "    } else {\n",
       "      maybeLoadScript(\"vega\", \"5\")\n",
       "        .then(() => maybeLoadScript(\"vega-lite\", \"4.17.0\"))\n",
       "        .then(() => maybeLoadScript(\"vega-embed\", \"6\"))\n",
       "        .catch(showError)\n",
       "        .then(() => displayChart(vegaEmbed));\n",
       "    }\n",
       "  })({\"config\": {\"view\": {\"continuousWidth\": 400, \"continuousHeight\": 300}}, \"data\": {\"name\": \"data-8da1ac389d80e453949d27fa7b6f146e\"}, \"mark\": {\"type\": \"bar\", \"color\": \"orange\", \"size\": 30}, \"encoding\": {\"x\": {\"field\": \"hazus\", \"title\": \"Hazus Classification\", \"type\": \"nominal\"}, \"y\": {\"field\": \"num\", \"title\": \"Number of concrete buildings\", \"type\": \"quantitative\"}}, \"height\": 450, \"title\": \"Hazus Classification of Concrete Buildings in Danger From Earthquakes\", \"width\": 300, \"$schema\": \"https://vega.github.io/schema/vega-lite/v4.17.0.json\", \"datasets\": {\"data-8da1ac389d80e453949d27fa7b6f146e\": [{\"hazus\": \"C2H\", \"num\": 43}, {\"hazus\": \"C2L\", \"num\": 513}, {\"hazus\": \"C2M\", \"num\": 136}, {\"hazus\": \"C3H\", \"num\": 174}, {\"hazus\": \"C3L\", \"num\": 396}, {\"hazus\": \"C3M\", \"num\": 189}]}}, {\"mode\": \"vega-lite\"});\n",
       "</script>"
      ],
      "text/plain": [
       "alt.Chart(...)"
      ]
     },
     "execution_count": 301,
     "metadata": {},
     "output_type": "execute_result"
    }
   ],
   "source": [
    "# Chart for Hazus Classification of Concrete Buildings\n",
    "alt.Chart(hazus_classify).mark_bar(color=\"orange\", size=30).encode(\n",
    "    x=alt.X(\"hazus\", title=\"Hazus Classification\"),\n",
    "    y=alt.Y(\"num\", title=\"Number of concrete buildings\"),\n",
    ").properties(\n",
    "    width=300,\n",
    "    height=450,\n",
    "    title=\"Hazus Classification of Concrete Buildings in Danger From Earthquakes\",\n",
    ")\n",
    "# The highest number of buildings belong to C2L, which according to the classification are the safest. Yay!\n",
    "# There are more smaller buildings than taller which makes sense.\n",
    "# However, a significant number of buildings belong to C3H (~170), which is the classification most at risk.\n",
    "# Those I would recommend be retrofitted enough to avoid disaster and high damages."
   ]
  },
  {
   "cell_type": "code",
   "execution_count": 310,
   "id": "53cb19bd-dc01-483a-a38f-5d37491eec82",
   "metadata": {},
   "outputs": [
    {
     "data": {
      "text/html": [
       "\n",
       "<div id=\"altair-viz-0c7f2be022c24580b0fb09e1a107098d\"></div>\n",
       "<script type=\"text/javascript\">\n",
       "  var VEGA_DEBUG = (typeof VEGA_DEBUG == \"undefined\") ? {} : VEGA_DEBUG;\n",
       "  (function(spec, embedOpt){\n",
       "    let outputDiv = document.currentScript.previousElementSibling;\n",
       "    if (outputDiv.id !== \"altair-viz-0c7f2be022c24580b0fb09e1a107098d\") {\n",
       "      outputDiv = document.getElementById(\"altair-viz-0c7f2be022c24580b0fb09e1a107098d\");\n",
       "    }\n",
       "    const paths = {\n",
       "      \"vega\": \"https://cdn.jsdelivr.net/npm//vega@5?noext\",\n",
       "      \"vega-lib\": \"https://cdn.jsdelivr.net/npm//vega-lib?noext\",\n",
       "      \"vega-lite\": \"https://cdn.jsdelivr.net/npm//vega-lite@4.17.0?noext\",\n",
       "      \"vega-embed\": \"https://cdn.jsdelivr.net/npm//vega-embed@6?noext\",\n",
       "    };\n",
       "\n",
       "    function maybeLoadScript(lib, version) {\n",
       "      var key = `${lib.replace(\"-\", \"\")}_version`;\n",
       "      return (VEGA_DEBUG[key] == version) ?\n",
       "        Promise.resolve(paths[lib]) :\n",
       "        new Promise(function(resolve, reject) {\n",
       "          var s = document.createElement('script');\n",
       "          document.getElementsByTagName(\"head\")[0].appendChild(s);\n",
       "          s.async = true;\n",
       "          s.onload = () => {\n",
       "            VEGA_DEBUG[key] = version;\n",
       "            return resolve(paths[lib]);\n",
       "          };\n",
       "          s.onerror = () => reject(`Error loading script: ${paths[lib]}`);\n",
       "          s.src = paths[lib];\n",
       "        });\n",
       "    }\n",
       "\n",
       "    function showError(err) {\n",
       "      outputDiv.innerHTML = `<div class=\"error\" style=\"color:red;\">${err}</div>`;\n",
       "      throw err;\n",
       "    }\n",
       "\n",
       "    function displayChart(vegaEmbed) {\n",
       "      vegaEmbed(outputDiv, spec, embedOpt)\n",
       "        .catch(err => showError(`Javascript Error: ${err.message}<br>This usually means there's a typo in your chart specification. See the javascript console for the full traceback.`));\n",
       "    }\n",
       "\n",
       "    if(typeof define === \"function\" && define.amd) {\n",
       "      requirejs.config({paths});\n",
       "      require([\"vega-embed\"], displayChart, err => showError(`Error loading script: ${err.message}`));\n",
       "    } else {\n",
       "      maybeLoadScript(\"vega\", \"5\")\n",
       "        .then(() => maybeLoadScript(\"vega-lite\", \"4.17.0\"))\n",
       "        .then(() => maybeLoadScript(\"vega-embed\", \"6\"))\n",
       "        .catch(showError)\n",
       "        .then(() => displayChart(vegaEmbed));\n",
       "    }\n",
       "  })({\"config\": {\"view\": {\"continuousWidth\": 400, \"continuousHeight\": 300}}, \"data\": {\"name\": \"data-3db7b9b32cc9465e12840c17b1852215\"}, \"mark\": {\"type\": \"bar\", \"color\": \"blue\", \"size\": 10}, \"encoding\": {\"x\": {\"field\": \"ZIP_CODE\", \"title\": \"Zipcode\", \"type\": \"nominal\"}, \"y\": {\"field\": \"ss_condos\", \"title\": \"Number of soft story condos\", \"type\": \"quantitative\"}}, \"height\": 450, \"title\": \"Soft Story Condos At Risk From Earthquakes\", \"width\": 1000, \"$schema\": \"https://vega.github.io/schema/vega-lite/v4.17.0.json\", \"datasets\": {\"data-3db7b9b32cc9465e12840c17b1852215\": [{\"ZIP_CODE\": 90292.0, \"ss_condos\": 1290}, {\"ZIP_CODE\": 91367.0, \"ss_condos\": 981}, {\"ZIP_CODE\": 91356.0, \"ss_condos\": 877}, {\"ZIP_CODE\": 91316.0, \"ss_condos\": 711}, {\"ZIP_CODE\": 91504.0, \"ss_condos\": 696}, {\"ZIP_CODE\": 91604.0, \"ss_condos\": 438}, {\"ZIP_CODE\": 91311.0, \"ss_condos\": 407}, {\"ZIP_CODE\": 90272.0, \"ss_condos\": 378}, {\"ZIP_CODE\": 91326.0, \"ss_condos\": 312}, {\"ZIP_CODE\": 91306.0, \"ss_condos\": 297}, {\"ZIP_CODE\": 90710.0, \"ss_condos\": 271}, {\"ZIP_CODE\": 91403.0, \"ss_condos\": 266}, {\"ZIP_CODE\": 90042.0, \"ss_condos\": 224}, {\"ZIP_CODE\": 90025.0, \"ss_condos\": 211}, {\"ZIP_CODE\": 91423.0, \"ss_condos\": 205}, {\"ZIP_CODE\": 91335.0, \"ss_condos\": 200}, {\"ZIP_CODE\": 91402.0, \"ss_condos\": 188}, {\"ZIP_CODE\": 90049.0, \"ss_condos\": 174}, {\"ZIP_CODE\": 91607.0, \"ss_condos\": 162}, {\"ZIP_CODE\": 90293.0, \"ss_condos\": 159}, {\"ZIP_CODE\": 91344.0, \"ss_condos\": 150}, {\"ZIP_CODE\": 91040.0, \"ss_condos\": 133}, {\"ZIP_CODE\": 91411.0, \"ss_condos\": 123}, {\"ZIP_CODE\": 91405.0, \"ss_condos\": 122}, {\"ZIP_CODE\": 91345.0, \"ss_condos\": 113}, {\"ZIP_CODE\": 90034.0, \"ss_condos\": 108}, {\"ZIP_CODE\": 90068.0, \"ss_condos\": 105}, {\"ZIP_CODE\": 91401.0, \"ss_condos\": 102}, {\"ZIP_CODE\": 91343.0, \"ss_condos\": 99}, {\"ZIP_CODE\": 91602.0, \"ss_condos\": 95}, {\"ZIP_CODE\": 91605.0, \"ss_condos\": 86}, {\"ZIP_CODE\": 90012.0, \"ss_condos\": 86}, {\"ZIP_CODE\": 91324.0, \"ss_condos\": 84}, {\"ZIP_CODE\": 91304.0, \"ss_condos\": 81}, {\"ZIP_CODE\": 90024.0, \"ss_condos\": 81}, {\"ZIP_CODE\": 90027.0, \"ss_condos\": 72}, {\"ZIP_CODE\": 90731.0, \"ss_condos\": 71}, {\"ZIP_CODE\": 90066.0, \"ss_condos\": 68}, {\"ZIP_CODE\": 90046.0, \"ss_condos\": 60}, {\"ZIP_CODE\": 91606.0, \"ss_condos\": 58}, {\"ZIP_CODE\": 91601.0, \"ss_condos\": 55}, {\"ZIP_CODE\": 90064.0, \"ss_condos\": 54}, {\"ZIP_CODE\": 91307.0, \"ss_condos\": 54}, {\"ZIP_CODE\": 91352.0, \"ss_condos\": 50}, {\"ZIP_CODE\": 91404.0, \"ss_condos\": 45}, {\"ZIP_CODE\": 91325.0, \"ss_condos\": 44}, {\"ZIP_CODE\": 90230.0, \"ss_condos\": 42}, {\"ZIP_CODE\": 91342.0, \"ss_condos\": 36}, {\"ZIP_CODE\": 91406.0, \"ss_condos\": 30}, {\"ZIP_CODE\": 91042.0, \"ss_condos\": 27}, {\"ZIP_CODE\": 90295.0, \"ss_condos\": 23}, {\"ZIP_CODE\": 90035.0, \"ss_condos\": 23}, {\"ZIP_CODE\": 91634.0, \"ss_condos\": 18}, {\"ZIP_CODE\": 90048.0, \"ss_condos\": 16}, {\"ZIP_CODE\": 1979.0, \"ss_condos\": 13}, {\"ZIP_CODE\": 90020.0, \"ss_condos\": 12}, {\"ZIP_CODE\": 90045.0, \"ss_condos\": 12}, {\"ZIP_CODE\": 90039.0, \"ss_condos\": 12}, {\"ZIP_CODE\": 90290.0, \"ss_condos\": 9}, {\"ZIP_CODE\": 90291.0, \"ss_condos\": 8}, {\"ZIP_CODE\": 90202.0, \"ss_condos\": 8}, {\"ZIP_CODE\": 90069.0, \"ss_condos\": 7}, {\"ZIP_CODE\": 90057.0, \"ss_condos\": 5}, {\"ZIP_CODE\": 1973.0, \"ss_condos\": 1}, {\"ZIP_CODE\": 91436.0, \"ss_condos\": 1}, {\"ZIP_CODE\": 1976.0, \"ss_condos\": 1}, {\"ZIP_CODE\": 92092.0, \"ss_condos\": 1}]}}, {\"mode\": \"vega-lite\"});\n",
       "</script>"
      ],
      "text/plain": [
       "alt.Chart(...)"
      ]
     },
     "execution_count": 310,
     "metadata": {},
     "output_type": "execute_result"
    }
   ],
   "source": [
    "# I do not like this chart, but I have it here just to visualize the data in chart form.\n",
    "# I will visualize it again in map form.\n",
    "# Chart for Soft Story Condos At Risk From Earthquakes\n",
    "alt.Chart(ss_condo_zipcode).mark_bar(color=\"blue\", size=10).encode(\n",
    "    x=alt.X(\"ZIP_CODE:N\", title=\"Zipcode\"),\n",
    "    y=alt.Y(\"ss_condos\", title=\"Number of soft story condos\"),\n",
    ").properties(\n",
    "    width=1000, height=450, title=\"Soft Story Condos At Risk From Earthquakes\",\n",
    ")\n",
    "# Zipcodes at most risk are 90292: Marina Del Rey!\n",
    "# @ Prof. Stiles: stay safe!"
   ]
  },
  {
   "cell_type": "code",
   "execution_count": 313,
   "id": "f73f7eeb-0c5f-401a-ade3-5ead21a98168",
   "metadata": {},
   "outputs": [
    {
     "data": {
      "text/html": [
       "\n",
       "<div id=\"altair-viz-7fa41b77abac4d16b1d7b197a1f8c030\"></div>\n",
       "<script type=\"text/javascript\">\n",
       "  var VEGA_DEBUG = (typeof VEGA_DEBUG == \"undefined\") ? {} : VEGA_DEBUG;\n",
       "  (function(spec, embedOpt){\n",
       "    let outputDiv = document.currentScript.previousElementSibling;\n",
       "    if (outputDiv.id !== \"altair-viz-7fa41b77abac4d16b1d7b197a1f8c030\") {\n",
       "      outputDiv = document.getElementById(\"altair-viz-7fa41b77abac4d16b1d7b197a1f8c030\");\n",
       "    }\n",
       "    const paths = {\n",
       "      \"vega\": \"https://cdn.jsdelivr.net/npm//vega@5?noext\",\n",
       "      \"vega-lib\": \"https://cdn.jsdelivr.net/npm//vega-lib?noext\",\n",
       "      \"vega-lite\": \"https://cdn.jsdelivr.net/npm//vega-lite@4.17.0?noext\",\n",
       "      \"vega-embed\": \"https://cdn.jsdelivr.net/npm//vega-embed@6?noext\",\n",
       "    };\n",
       "\n",
       "    function maybeLoadScript(lib, version) {\n",
       "      var key = `${lib.replace(\"-\", \"\")}_version`;\n",
       "      return (VEGA_DEBUG[key] == version) ?\n",
       "        Promise.resolve(paths[lib]) :\n",
       "        new Promise(function(resolve, reject) {\n",
       "          var s = document.createElement('script');\n",
       "          document.getElementsByTagName(\"head\")[0].appendChild(s);\n",
       "          s.async = true;\n",
       "          s.onload = () => {\n",
       "            VEGA_DEBUG[key] = version;\n",
       "            return resolve(paths[lib]);\n",
       "          };\n",
       "          s.onerror = () => reject(`Error loading script: ${paths[lib]}`);\n",
       "          s.src = paths[lib];\n",
       "        });\n",
       "    }\n",
       "\n",
       "    function showError(err) {\n",
       "      outputDiv.innerHTML = `<div class=\"error\" style=\"color:red;\">${err}</div>`;\n",
       "      throw err;\n",
       "    }\n",
       "\n",
       "    function displayChart(vegaEmbed) {\n",
       "      vegaEmbed(outputDiv, spec, embedOpt)\n",
       "        .catch(err => showError(`Javascript Error: ${err.message}<br>This usually means there's a typo in your chart specification. See the javascript console for the full traceback.`));\n",
       "    }\n",
       "\n",
       "    if(typeof define === \"function\" && define.amd) {\n",
       "      requirejs.config({paths});\n",
       "      require([\"vega-embed\"], displayChart, err => showError(`Error loading script: ${err.message}`));\n",
       "    } else {\n",
       "      maybeLoadScript(\"vega\", \"5\")\n",
       "        .then(() => maybeLoadScript(\"vega-lite\", \"4.17.0\"))\n",
       "        .then(() => maybeLoadScript(\"vega-embed\", \"6\"))\n",
       "        .catch(showError)\n",
       "        .then(() => displayChart(vegaEmbed));\n",
       "    }\n",
       "  })({\"config\": {\"view\": {\"continuousWidth\": 400, \"continuousHeight\": 300}}, \"data\": {\"name\": \"data-1694b43e1f8bbb49c26885969e010fa2\"}, \"mark\": {\"type\": \"bar\", \"color\": \"purple\", \"size\": 10}, \"encoding\": {\"x\": {\"field\": \"ZIP_CODE\", \"title\": \"Zipcode\", \"type\": \"nominal\"}, \"y\": {\"field\": \"ss_apartments\", \"title\": \"Number of soft story condos\", \"type\": \"quantitative\"}}, \"height\": 450, \"title\": \"Soft Story Apartments At Risk From Earthquakes\", \"width\": 1200, \"$schema\": \"https://vega.github.io/schema/vega-lite/v4.17.0.json\", \"datasets\": {\"data-1694b43e1f8bbb49c26885969e010fa2\": [{\"ZIP_CODE\": 90034.0, \"ss_apartments\": 887}, {\"ZIP_CODE\": 90025.0, \"ss_apartments\": 746}, {\"ZIP_CODE\": 90035.0, \"ss_apartments\": 424}, {\"ZIP_CODE\": 90066.0, \"ss_apartments\": 404}, {\"ZIP_CODE\": 90019.0, \"ss_apartments\": 374}, {\"ZIP_CODE\": 90027.0, \"ss_apartments\": 341}, {\"ZIP_CODE\": 90008.0, \"ss_apartments\": 312}, {\"ZIP_CODE\": 90004.0, \"ss_apartments\": 310}, {\"ZIP_CODE\": 90049.0, \"ss_apartments\": 298}, {\"ZIP_CODE\": 90038.0, \"ss_apartments\": 289}, {\"ZIP_CODE\": 91601.0, \"ss_apartments\": 273}, {\"ZIP_CODE\": 91401.0, \"ss_apartments\": 239}, {\"ZIP_CODE\": 90026.0, \"ss_apartments\": 234}, {\"ZIP_CODE\": 91607.0, \"ss_apartments\": 230}, {\"ZIP_CODE\": 90029.0, \"ss_apartments\": 230}, {\"ZIP_CODE\": 91423.0, \"ss_apartments\": 220}, {\"ZIP_CODE\": 91606.0, \"ss_apartments\": 209}, {\"ZIP_CODE\": 90731.0, \"ss_apartments\": 205}, {\"ZIP_CODE\": 90006.0, \"ss_apartments\": 195}, {\"ZIP_CODE\": 90028.0, \"ss_apartments\": 190}, {\"ZIP_CODE\": 91405.0, \"ss_apartments\": 188}, {\"ZIP_CODE\": 91402.0, \"ss_apartments\": 184}, {\"ZIP_CODE\": 90046.0, \"ss_apartments\": 180}, {\"ZIP_CODE\": 90020.0, \"ss_apartments\": 163}, {\"ZIP_CODE\": 90024.0, \"ss_apartments\": 161}, {\"ZIP_CODE\": 91406.0, \"ss_apartments\": 161}, {\"ZIP_CODE\": 90048.0, \"ss_apartments\": 161}, {\"ZIP_CODE\": 91411.0, \"ss_apartments\": 153}, {\"ZIP_CODE\": 90291.0, \"ss_apartments\": 148}, {\"ZIP_CODE\": 91605.0, \"ss_apartments\": 147}, {\"ZIP_CODE\": 90007.0, \"ss_apartments\": 136}, {\"ZIP_CODE\": 91604.0, \"ss_apartments\": 134}, {\"ZIP_CODE\": 90068.0, \"ss_apartments\": 134}, {\"ZIP_CODE\": 91602.0, \"ss_apartments\": 133}, {\"ZIP_CODE\": 90005.0, \"ss_apartments\": 127}, {\"ZIP_CODE\": 90042.0, \"ss_apartments\": 125}, {\"ZIP_CODE\": 90016.0, \"ss_apartments\": 119}, {\"ZIP_CODE\": 91403.0, \"ss_apartments\": 118}, {\"ZIP_CODE\": 90018.0, \"ss_apartments\": 116}, {\"ZIP_CODE\": 90044.0, \"ss_apartments\": 112}, {\"ZIP_CODE\": 90293.0, \"ss_apartments\": 106}, {\"ZIP_CODE\": 90043.0, \"ss_apartments\": 102}, {\"ZIP_CODE\": 91304.0, \"ss_apartments\": 101}, {\"ZIP_CODE\": 91303.0, \"ss_apartments\": 100}, {\"ZIP_CODE\": 90012.0, \"ss_apartments\": 100}, {\"ZIP_CODE\": 91343.0, \"ss_apartments\": 99}, {\"ZIP_CODE\": 91335.0, \"ss_apartments\": 96}, {\"ZIP_CODE\": 90057.0, \"ss_apartments\": 94}, {\"ZIP_CODE\": 90064.0, \"ss_apartments\": 90}, {\"ZIP_CODE\": 90033.0, \"ss_apartments\": 88}, {\"ZIP_CODE\": 90045.0, \"ss_apartments\": 85}, {\"ZIP_CODE\": 91306.0, \"ss_apartments\": 79}, {\"ZIP_CODE\": 90501.0, \"ss_apartments\": 71}, {\"ZIP_CODE\": 90039.0, \"ss_apartments\": 70}, {\"ZIP_CODE\": 90032.0, \"ss_apartments\": 66}, {\"ZIP_CODE\": 91324.0, \"ss_apartments\": 65}, {\"ZIP_CODE\": 90011.0, \"ss_apartments\": 63}, {\"ZIP_CODE\": 91316.0, \"ss_apartments\": 61}, {\"ZIP_CODE\": 90065.0, \"ss_apartments\": 60}, {\"ZIP_CODE\": 91356.0, \"ss_apartments\": 53}, {\"ZIP_CODE\": 91325.0, \"ss_apartments\": 50}, {\"ZIP_CODE\": 90037.0, \"ss_apartments\": 49}, {\"ZIP_CODE\": 90744.0, \"ss_apartments\": 48}, {\"ZIP_CODE\": 90031.0, \"ss_apartments\": 48}, {\"ZIP_CODE\": 91344.0, \"ss_apartments\": 42}, {\"ZIP_CODE\": 90036.0, \"ss_apartments\": 41}, {\"ZIP_CODE\": 90069.0, \"ss_apartments\": 38}, {\"ZIP_CODE\": 90230.0, \"ss_apartments\": 36}, {\"ZIP_CODE\": 90047.0, \"ss_apartments\": 35}, {\"ZIP_CODE\": 90041.0, \"ss_apartments\": 34}, {\"ZIP_CODE\": 90710.0, \"ss_apartments\": 34}, {\"ZIP_CODE\": 91352.0, \"ss_apartments\": 32}, {\"ZIP_CODE\": 90003.0, \"ss_apartments\": 31}, {\"ZIP_CODE\": 90232.0, \"ss_apartments\": 30}, {\"ZIP_CODE\": 91042.0, \"ss_apartments\": 30}, {\"ZIP_CODE\": 90292.0, \"ss_apartments\": 28}, {\"ZIP_CODE\": 90247.0, \"ss_apartments\": 27}, {\"ZIP_CODE\": 90272.0, \"ss_apartments\": 24}, {\"ZIP_CODE\": 91342.0, \"ss_apartments\": 23}, {\"ZIP_CODE\": 90062.0, \"ss_apartments\": 22}, {\"ZIP_CODE\": 91345.0, \"ss_apartments\": 22}, {\"ZIP_CODE\": 90015.0, \"ss_apartments\": 18}, {\"ZIP_CODE\": 90732.0, \"ss_apartments\": 17}, {\"ZIP_CODE\": 91311.0, \"ss_apartments\": 15}, {\"ZIP_CODE\": 91364.0, \"ss_apartments\": 15}, {\"ZIP_CODE\": 91326.0, \"ss_apartments\": 13}, {\"ZIP_CODE\": 90017.0, \"ss_apartments\": 13}, {\"ZIP_CODE\": 91367.0, \"ss_apartments\": 11}, {\"ZIP_CODE\": 90023.0, \"ss_apartments\": 11}, {\"ZIP_CODE\": 90063.0, \"ss_apartments\": 10}, {\"ZIP_CODE\": 91331.0, \"ss_apartments\": 9}, {\"ZIP_CODE\": 90002.0, \"ss_apartments\": 9}, {\"ZIP_CODE\": 91040.0, \"ss_apartments\": 8}, {\"ZIP_CODE\": 91436.0, \"ss_apartments\": 8}, {\"ZIP_CODE\": 90061.0, \"ss_apartments\": 7}, {\"ZIP_CODE\": 90059.0, \"ss_apartments\": 7}, {\"ZIP_CODE\": 90402.0, \"ss_apartments\": 6}, {\"ZIP_CODE\": 90717.0, \"ss_apartments\": 3}, {\"ZIP_CODE\": 90001.0, \"ss_apartments\": 3}, {\"ZIP_CODE\": 90248.0, \"ss_apartments\": 2}, {\"ZIP_CODE\": 91340.0, \"ss_apartments\": 2}, {\"ZIP_CODE\": 91505.0, \"ss_apartments\": 2}, {\"ZIP_CODE\": 20292.0, \"ss_apartments\": 1}, {\"ZIP_CODE\": 90077.0, \"ss_apartments\": 1}, {\"ZIP_CODE\": 90056.0, \"ss_apartments\": 1}, {\"ZIP_CODE\": 93063.0, \"ss_apartments\": 1}]}}, {\"mode\": \"vega-lite\"});\n",
       "</script>"
      ],
      "text/plain": [
       "alt.Chart(...)"
      ]
     },
     "execution_count": 313,
     "metadata": {},
     "output_type": "execute_result"
    }
   ],
   "source": [
    "# I do not like this chart, but I have it here just to visualize the data in chart form.\n",
    "# I will visualize it again in map form.\n",
    "# Chart for Soft Story Apartments At Risk From Earthquakes\n",
    "alt.Chart(ss_apartment_zipcode).mark_bar(color=\"purple\", size=10).encode(\n",
    "    x=alt.X(\"ZIP_CODE:N\", title=\"Zipcode\"),\n",
    "    y=alt.Y(\"ss_apartments\", title=\"Number of soft story condos\"),\n",
    ").properties(\n",
    "    width=1200, height=450, title=\"Soft Story Apartments At Risk From Earthquakes\",\n",
    ")\n",
    "\n",
    "# Zipcodes at most risk are 90034: Palms (has a high hispanic population)\n",
    "# And 90025: West LA, Century City, South Westwood (which has a higher White population)"
   ]
  },
  {
   "cell_type": "markdown",
   "id": "fdb4b880-7ae5-4b14-bc7b-83a34f3a4f07",
   "metadata": {},
   "source": [
    "#### PART V: Preparing dataframes for Mapping"
   ]
  },
  {
   "cell_type": "code",
   "execution_count": 292,
   "id": "f2c0e221-d922-4508-8308-80403224721d",
   "metadata": {},
   "outputs": [],
   "source": [
    "conc_zipcode_la = pd.merge(\n",
    "    la_zipcodes, conc_zipcode, left_on=\"zipcode\", right_on=\"zip_code\"\n",
    ")"
   ]
  },
  {
   "cell_type": "code",
   "execution_count": 293,
   "id": "1e79f6be-2505-4aef-804a-d5009dc69e51",
   "metadata": {},
   "outputs": [
    {
     "data": {
      "text/plain": [
       "<AxesSubplot:>"
      ]
     },
     "execution_count": 293,
     "metadata": {},
     "output_type": "execute_result"
    },
    {
     "data": {
      "image/png": "[encoded data removed]",
      "text/plain": [
       "<Figure size 432x288 with 1 Axes>"
      ]
     },
     "metadata": {
      "needs_background": "light"
     },
     "output_type": "display_data"
    }
   ],
   "source": [
    "conc_zipcode_la.plot()"
   ]
  },
  {
   "cell_type": "code",
   "execution_count": 294,
   "id": "faf631de-ebd2-45d6-8965-265dcffed0b2",
   "metadata": {},
   "outputs": [],
   "source": [
    "conc_zipcode_la.to_file(\n",
    "    \"../data/processed/los_angeles_conc_buildings_zipcode\", driver=\"GeoJSON\"\n",
    ")"
   ]
  },
  {
   "cell_type": "code",
   "execution_count": 295,
   "id": "4b511f33-5615-4804-8c17-0b249d75f4dd",
   "metadata": {},
   "outputs": [],
   "source": [
    "ss_apartments_la = pd.merge(\n",
    "    la_zipcodes, ss_apartment_zipcode, left_on=\"zipcode\", right_on=\"ZIP_CODE\"\n",
    ")"
   ]
  },
  {
   "cell_type": "code",
   "execution_count": 296,
   "id": "98a8eba3-4a4c-467a-ad69-88a5d8a69d70",
   "metadata": {},
   "outputs": [
    {
     "data": {
      "text/plain": [
       "<AxesSubplot:>"
      ]
     },
     "execution_count": 296,
     "metadata": {},
     "output_type": "execute_result"
    },
    {
     "data": {
      "image/png": "[encoded data removed]",
      "text/plain": [
       "<Figure size 432x288 with 1 Axes>"
      ]
     },
     "metadata": {
      "needs_background": "light"
     },
     "output_type": "display_data"
    }
   ],
   "source": [
    "ss_apartments_la.plot()"
   ]
  },
  {
   "cell_type": "code",
   "execution_count": 297,
   "id": "d0707376-808c-4352-b513-091ec8a1ef95",
   "metadata": {},
   "outputs": [],
   "source": [
    "ss_apartments_la.to_file(\n",
    "    \"../data/processed/los_angeles_ss_apartments_zipcode\", driver=\"GeoJSON\"\n",
    ")"
   ]
  },
  {
   "cell_type": "code",
   "execution_count": 298,
   "id": "e205918a-2c47-4e9a-be9a-6a8ebfcaeb70",
   "metadata": {},
   "outputs": [],
   "source": [
    "ss_condos_la = pd.merge(\n",
    "    la_zipcodes, ss_condo_zipcode, left_on=\"zipcode\", right_on=\"ZIP_CODE\"\n",
    ")"
   ]
  },
  {
   "cell_type": "code",
   "execution_count": 299,
   "id": "51e9a8ca-aa5c-4a9d-b12a-0f88dcce7198",
   "metadata": {},
   "outputs": [
    {
     "data": {
      "text/plain": [
       "<AxesSubplot:>"
      ]
     },
     "execution_count": 299,
     "metadata": {},
     "output_type": "execute_result"
    },
    {
     "data": {
      "image/png": "[encoded data removed]",
      "text/plain": [
       "<Figure size 432x288 with 1 Axes>"
      ]
     },
     "metadata": {
      "needs_background": "light"
     },
     "output_type": "display_data"
    }
   ],
   "source": [
    "ss_condos_la.plot()"
   ]
  },
  {
   "cell_type": "code",
   "execution_count": 300,
   "id": "243656ad-000b-4036-9373-a82d91d47d20",
   "metadata": {},
   "outputs": [],
   "source": [
    "ss_condos_la.to_file(\n",
    "    \"../data/processed/los_angeles_ss_condos_zipcode\", driver=\"GeoJSON\"\n",
    ")"
   ]
  },
  {
   "cell_type": "markdown",
   "id": "b9d6c530-56d5-4979-b696-8585f114b06d",
   "metadata": {},
   "source": [
    "#### PART VI: LINKS TO MAPS"
   ]
  },
  {
   "cell_type": "markdown",
   "id": "b3c86332-03c9-4343-ab58-188fc1ed17e8",
   "metadata": {},
   "source": [
    "##### DATAWRAPPER:\n",
    "\n",
    "Income Distribution in Los Angeles: https://www.datawrapper.de/_/qrozz/\n",
    "\n",
    "Maps Showing soft story apartments and condos, and concrete buildings in danger: attached to Blackboard submission."
   ]
  },
  {
   "cell_type": "markdown",
   "id": "5d1cd78c-9af1-44bb-bdfb-69e9f2787db0",
   "metadata": {},
   "source": [
    "#### PART VII: SHORT ANALYSIS OF THE MAPS\n",
    "\n",
    "The labels in the maps are very disorienting and I don't like QGIS, but there was nothing else I could've done with the labels and those were necessary to make sense of the data. Ideally, I would not use QGIS but I had to, in this case, because I needed to somehow show my fault trace shapefiles and the liquefaction shapefiles with the rest of the data, which I could have only done here or on ArcMap or ArcGIS.\n",
    "\n",
    "Professor Stiles, Marina Del Rey looks prone to liquefaction. CONSIDER MOVING!\n",
    "\n",
    "What I found very alarming was that the southern and eastern part of LA county is prone to liquefaction. Those are the poorest areas of LA (according to my Datawrapper map) and also have the highest number of colored populations. \n",
    "\n",
    "Most soft story apartments and condos are in the Western parts of LA, which are relatively richer areas. So, we might expect a huge economic loss in case of an earthquake.\n",
    "\n",
    "Most concrete buildings are in downtown and central LA, which is not a surprise. But these are also the areas that are significant to the economy of the city. So, these buildings would need to be reinforced if we want to avoid both loss of life and economy in the city in case of an earthquake."
   ]
  }
 ],
 "metadata": {
  "kernelspec": {
   "display_name": "Python 3 (ipykernel)",
   "language": "python",
   "name": "python3"
  },
  "language_info": {
   "codemirror_mode": {
    "name": "ipython",
    "version": 3
   },
   "file_extension": ".py",
   "mimetype": "text/x-python",
   "name": "python",
   "nbconvert_exporter": "python",
   "pygments_lexer": "ipython3",
   "version": "3.9.7"
  }
 },
 "nbformat": 4,
 "nbformat_minor": 5
}
