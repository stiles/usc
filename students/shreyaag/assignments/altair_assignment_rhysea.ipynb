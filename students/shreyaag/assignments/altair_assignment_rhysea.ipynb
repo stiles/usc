{
 "cells": [
  {
   "cell_type": "markdown",
   "id": "de149f42-24a1-4d98-80a0-27860d62d4cf",
   "metadata": {},
   "source": [
    "# Altair Assignment\n"
   ]
  },
  {
   "cell_type": "markdown",
   "id": "01fa679a-8b33-411e-bde0-0379a372ae74",
   "metadata": {},
   "source": [
    "Note:\n"
   ]
  },
  {
   "cell_type": "markdown",
   "id": "ba1f77e0-3de8-4fbe-ab66-49ea5b9aa0d7",
   "metadata": {},
   "source": [
    "### Importing Tools"
   ]
  },
  {
   "cell_type": "code",
   "execution_count": 1,
   "id": "26736034-bed2-4337-bde1-e5a84574785d",
   "metadata": {},
   "outputs": [],
   "source": [
    "import pandas as pd\n",
    "import altair as alt"
   ]
  },
  {
   "cell_type": "code",
   "execution_count": null,
   "id": "f5fab651-d3a8-44e2-9556-4ff8bdd0ff61",
   "metadata": {},
   "outputs": [],
   "source": []
  }
 ],
 "metadata": {
  "kernelspec": {
   "display_name": "Python 3 (ipykernel)",
   "language": "python",
   "name": "python3"
  },
  "language_info": {
   "codemirror_mode": {
    "name": "ipython",
    "version": 3
   },
   "file_extension": ".py",
   "mimetype": "text/x-python",
   "name": "python",
   "nbconvert_exporter": "python",
   "pygments_lexer": "ipython3",
   "version": "3.9.7"
  }
 },
 "nbformat": 4,
 "nbformat_minor": 5
}
