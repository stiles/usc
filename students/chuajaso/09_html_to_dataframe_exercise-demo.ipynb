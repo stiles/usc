{
 "cells": [
  {
   "cell_type": "markdown",
   "id": "abd53c16-8954-4ea3-8a2a-8d55f1473e2e",
   "metadata": {},
   "source": [
    "# Data from HTML tables: L.A. County covid cases"
   ]
  },
  {
   "cell_type": "code",
   "execution_count": 52,
   "id": "afdc0be2-fe44-4498-8710-2c67d6165ac5",
   "metadata": {},
   "outputs": [],
   "source": [
    "import pandas as pd"
   ]
  },
  {
   "cell_type": "markdown",
   "id": "74b3adb1-af37-47ed-b53d-1cca345a0c6e",
   "metadata": {},
   "source": [
    "#### L.A. County COVID cases, deaths by community"
   ]
  },
  {
   "cell_type": "code",
   "execution_count": 53,
   "id": "c275b7f2-89ec-4c60-9c4d-9e1d11215181",
   "metadata": {},
   "outputs": [],
   "source": [
    "url = 'http://publichealth.lacounty.gov/media/Coronavirus/locations.htm'"
   ]
  },
  {
   "cell_type": "markdown",
   "id": "0dda0e3f-2a20-4498-863e-c2bc71c5b449",
   "metadata": {},
   "source": [
    "#### Read the \"CITY/COMMUNITY\" cases table into a dataframe"
   ]
  },
  {
   "cell_type": "code",
   "execution_count": 54,
   "id": "2524d247-622a-4134-9002-73de23ed3a1c",
   "metadata": {},
   "outputs": [
    {
     "data": {
      "text/html": [
       "<div>\n",
       "<style scoped>\n",
       "    .dataframe tbody tr th:only-of-type {\n",
       "        vertical-align: middle;\n",
       "    }\n",
       "\n",
       "    .dataframe tbody tr th {\n",
       "        vertical-align: top;\n",
       "    }\n",
       "\n",
       "    .dataframe thead th {\n",
       "        text-align: right;\n",
       "    }\n",
       "</style>\n",
       "<table border=\"1\" class=\"dataframe\">\n",
       "  <thead>\n",
       "    <tr style=\"text-align: right;\">\n",
       "      <th></th>\n",
       "      <th>CITY/COMMUNITY**</th>\n",
       "      <th>Cases</th>\n",
       "      <th>Case Rate1</th>\n",
       "      <th>Deaths</th>\n",
       "      <th>Death Rate2</th>\n",
       "    </tr>\n",
       "  </thead>\n",
       "  <tbody>\n",
       "    <tr>\n",
       "      <th>0</th>\n",
       "      <td>City of Agoura Hills</td>\n",
       "      <td>4094</td>\n",
       "      <td>19604.0</td>\n",
       "      <td>22</td>\n",
       "      <td>105.0</td>\n",
       "    </tr>\n",
       "    <tr>\n",
       "      <th>1</th>\n",
       "      <td>City of Alhambra</td>\n",
       "      <td>16498</td>\n",
       "      <td>19024.0</td>\n",
       "      <td>249</td>\n",
       "      <td>287.0</td>\n",
       "    </tr>\n",
       "    <tr>\n",
       "      <th>2</th>\n",
       "      <td>City of Arcadia</td>\n",
       "      <td>7869</td>\n",
       "      <td>13625.0</td>\n",
       "      <td>163</td>\n",
       "      <td>282.0</td>\n",
       "    </tr>\n",
       "    <tr>\n",
       "      <th>3</th>\n",
       "      <td>City of Artesia</td>\n",
       "      <td>4109</td>\n",
       "      <td>24466.0</td>\n",
       "      <td>88</td>\n",
       "      <td>524.0</td>\n",
       "    </tr>\n",
       "    <tr>\n",
       "      <th>4</th>\n",
       "      <td>City of Avalon</td>\n",
       "      <td>62</td>\n",
       "      <td>1602.0</td>\n",
       "      <td>0</td>\n",
       "      <td>0.0</td>\n",
       "    </tr>\n",
       "    <tr>\n",
       "      <th>...</th>\n",
       "      <td>...</td>\n",
       "      <td>...</td>\n",
       "      <td>...</td>\n",
       "      <td>...</td>\n",
       "      <td>...</td>\n",
       "    </tr>\n",
       "    <tr>\n",
       "      <th>337</th>\n",
       "      <td>Unincorporated - Whittier</td>\n",
       "      <td>724</td>\n",
       "      <td>19133.0</td>\n",
       "      <td>10</td>\n",
       "      <td>264.0</td>\n",
       "    </tr>\n",
       "    <tr>\n",
       "      <th>338</th>\n",
       "      <td>Unincorporated - Whittier Narrows</td>\n",
       "      <td>64</td>\n",
       "      <td>533333.0</td>\n",
       "      <td>1</td>\n",
       "      <td>8333.0</td>\n",
       "    </tr>\n",
       "    <tr>\n",
       "      <th>339</th>\n",
       "      <td>Unincorporated - Willowbrook</td>\n",
       "      <td>13618</td>\n",
       "      <td>39006.0</td>\n",
       "      <td>128</td>\n",
       "      <td>367.0</td>\n",
       "    </tr>\n",
       "    <tr>\n",
       "      <th>340</th>\n",
       "      <td>Unincorporated - Wiseburn</td>\n",
       "      <td>1398</td>\n",
       "      <td>23196.0</td>\n",
       "      <td>14</td>\n",
       "      <td>232.0</td>\n",
       "    </tr>\n",
       "    <tr>\n",
       "      <th>341</th>\n",
       "      <td>- Under Investigation</td>\n",
       "      <td>67825</td>\n",
       "      <td>NaN</td>\n",
       "      <td>105</td>\n",
       "      <td>NaN</td>\n",
       "    </tr>\n",
       "  </tbody>\n",
       "</table>\n",
       "<p>342 rows × 5 columns</p>\n",
       "</div>"
      ],
      "text/plain": [
       "                      CITY/COMMUNITY**  Cases  Case Rate1  Deaths  Death Rate2\n",
       "0                 City of Agoura Hills   4094     19604.0      22        105.0\n",
       "1                     City of Alhambra  16498     19024.0     249        287.0\n",
       "2                      City of Arcadia   7869     13625.0     163        282.0\n",
       "3                      City of Artesia   4109     24466.0      88        524.0\n",
       "4                       City of Avalon     62      1602.0       0          0.0\n",
       "..                                 ...    ...         ...     ...          ...\n",
       "337          Unincorporated - Whittier    724     19133.0      10        264.0\n",
       "338  Unincorporated - Whittier Narrows     64    533333.0       1       8333.0\n",
       "339       Unincorporated - Willowbrook  13618     39006.0     128        367.0\n",
       "340          Unincorporated - Wiseburn   1398     23196.0      14        232.0\n",
       "341              - Under Investigation  67825         NaN     105          NaN\n",
       "\n",
       "[342 rows x 5 columns]"
      ]
     },
     "execution_count": 54,
     "metadata": {},
     "output_type": "execute_result"
    }
   ],
   "source": [
    "cases = pd.read_html(url)[1]\n",
    "cases"
   ]
  },
  {
   "cell_type": "markdown",
   "id": "f00f04b8-86c2-49fc-9aec-ad7b36149ee2",
   "metadata": {},
   "source": [
    "#### Define cleaner column names"
   ]
  },
  {
   "cell_type": "code",
   "execution_count": 55,
   "id": "b75ab57e-c764-434f-be2e-b0e993826533",
   "metadata": {},
   "outputs": [],
   "source": [
    "cases.columns = [\"CITY_COMMUNITY\", \"CASES\",\t\"CASE_RATE\",\t\"DEATHS\",\t\"DEATH_RATE\"]"
   ]
  },
  {
   "cell_type": "code",
   "execution_count": 56,
   "id": "a3ddaea2-328c-4d18-87a7-1b5858fffcac",
   "metadata": {},
   "outputs": [
    {
     "data": {
      "text/html": [
       "<div>\n",
       "<style scoped>\n",
       "    .dataframe tbody tr th:only-of-type {\n",
       "        vertical-align: middle;\n",
       "    }\n",
       "\n",
       "    .dataframe tbody tr th {\n",
       "        vertical-align: top;\n",
       "    }\n",
       "\n",
       "    .dataframe thead th {\n",
       "        text-align: right;\n",
       "    }\n",
       "</style>\n",
       "<table border=\"1\" class=\"dataframe\">\n",
       "  <thead>\n",
       "    <tr style=\"text-align: right;\">\n",
       "      <th></th>\n",
       "      <th>CITY_COMMUNITY</th>\n",
       "      <th>CASES</th>\n",
       "      <th>CASE_RATE</th>\n",
       "      <th>DEATHS</th>\n",
       "      <th>DEATH_RATE</th>\n",
       "    </tr>\n",
       "  </thead>\n",
       "  <tbody>\n",
       "  </tbody>\n",
       "</table>\n",
       "</div>"
      ],
      "text/plain": [
       "Empty DataFrame\n",
       "Columns: [CITY_COMMUNITY, CASES, CASE_RATE, DEATHS, DEATH_RATE]\n",
       "Index: []"
      ]
     },
     "execution_count": 56,
     "metadata": {},
     "output_type": "execute_result"
    }
   ],
   "source": [
    "cases.head(0)"
   ]
  },
  {
   "cell_type": "markdown",
   "id": "20995e1f-f2c5-4e49-af83-1a9c919f707a",
   "metadata": {},
   "source": [
    "---"
   ]
  },
  {
   "cell_type": "markdown",
   "id": "231be332-85cd-48d9-b88c-9cd615e93582",
   "metadata": {},
   "source": [
    "#### How many deaths in Los Angeles - Del Rey? Encino?"
   ]
  },
  {
   "cell_type": "code",
   "execution_count": 57,
   "id": "54c37e15-1055-44b7-b44f-6cc4f2ddd0d2",
   "metadata": {},
   "outputs": [
    {
     "data": {
      "text/plain": [
       "112    42\n",
       "Name: DEATHS, dtype: int64"
      ]
     },
     "execution_count": 57,
     "metadata": {},
     "output_type": "execute_result"
    }
   ],
   "source": [
    "cases[cases[\"CITY_COMMUNITY\"] == \"Los Angeles - Del Rey\"][\"DEATHS\"]"
   ]
  },
  {
   "cell_type": "code",
   "execution_count": 58,
   "id": "cd4797e7",
   "metadata": {},
   "outputs": [
    {
     "data": {
      "text/plain": [
       "120    87\n",
       "Name: DEATHS, dtype: int64"
      ]
     },
     "execution_count": 58,
     "metadata": {},
     "output_type": "execute_result"
    }
   ],
   "source": [
    "cases[cases[\"CITY_COMMUNITY\"] == \"Los Angeles - Encino\"][\"DEATHS\"]"
   ]
  },
  {
   "cell_type": "markdown",
   "id": "320e0ec9-5c48-440f-992b-d76014f19056",
   "metadata": {},
   "source": [
    "#### How many cases in places outside Los Angeles? [Hint](https://www.google.com/search?q=Python+pandas+string+does+not+contain&oq=Python+pandas+string+does+not+contain)"
   ]
  },
  {
   "cell_type": "code",
   "execution_count": 59,
   "id": "d1a14036-0c75-4733-b4f3-47cc58d0b209",
   "metadata": {},
   "outputs": [
    {
     "data": {
      "text/plain": [
       "17286"
      ]
     },
     "execution_count": 59,
     "metadata": {},
     "output_type": "execute_result"
    }
   ],
   "source": [
    "cases[~cases[\"CITY_COMMUNITY\"].str.startswith(\"Los Angeles\")][\"DEATHS\"].sum()"
   ]
  },
  {
   "cell_type": "markdown",
   "id": "cc9391ab-13c7-402c-831b-58c0b1672efb",
   "metadata": {},
   "source": [
    "#### Which large cities/neighborhoods have the highest rates? "
   ]
  },
  {
   "cell_type": "code",
   "execution_count": 60,
   "id": "544e83b4-471e-431d-b846-cc2bb867e9d8",
   "metadata": {},
   "outputs": [
    {
     "data": {
      "text/html": [
       "<div>\n",
       "<style scoped>\n",
       "    .dataframe tbody tr th:only-of-type {\n",
       "        vertical-align: middle;\n",
       "    }\n",
       "\n",
       "    .dataframe tbody tr th {\n",
       "        vertical-align: top;\n",
       "    }\n",
       "\n",
       "    .dataframe thead th {\n",
       "        text-align: right;\n",
       "    }\n",
       "</style>\n",
       "<table border=\"1\" class=\"dataframe\">\n",
       "  <thead>\n",
       "    <tr style=\"text-align: right;\">\n",
       "      <th></th>\n",
       "      <th>CITY_COMMUNITY</th>\n",
       "      <th>CASES</th>\n",
       "      <th>CASE_RATE</th>\n",
       "      <th>DEATHS</th>\n",
       "      <th>DEATH_RATE</th>\n",
       "    </tr>\n",
       "  </thead>\n",
       "  <tbody>\n",
       "    <tr>\n",
       "      <th>220</th>\n",
       "      <td>Los Angeles - Wholesale District*</td>\n",
       "      <td>16161</td>\n",
       "      <td>44731.0</td>\n",
       "      <td>134</td>\n",
       "      <td>371.0</td>\n",
       "    </tr>\n",
       "    <tr>\n",
       "      <th>66</th>\n",
       "      <td>City of San Fernando</td>\n",
       "      <td>10368</td>\n",
       "      <td>42126.0</td>\n",
       "      <td>80</td>\n",
       "      <td>325.0</td>\n",
       "    </tr>\n",
       "    <tr>\n",
       "      <th>113</th>\n",
       "      <td>Los Angeles - Downtown*</td>\n",
       "      <td>11540</td>\n",
       "      <td>41953.0</td>\n",
       "      <td>65</td>\n",
       "      <td>236.0</td>\n",
       "    </tr>\n",
       "    <tr>\n",
       "      <th>166</th>\n",
       "      <td>Los Angeles - Pacoima</td>\n",
       "      <td>31883</td>\n",
       "      <td>41418.0</td>\n",
       "      <td>279</td>\n",
       "      <td>362.0</td>\n",
       "    </tr>\n",
       "    <tr>\n",
       "      <th>208</th>\n",
       "      <td>Los Angeles - Vernon Central</td>\n",
       "      <td>21536</td>\n",
       "      <td>41417.0</td>\n",
       "      <td>194</td>\n",
       "      <td>373.0</td>\n",
       "    </tr>\n",
       "  </tbody>\n",
       "</table>\n",
       "</div>"
      ],
      "text/plain": [
       "                        CITY_COMMUNITY  CASES  CASE_RATE  DEATHS  DEATH_RATE\n",
       "220  Los Angeles - Wholesale District*  16161    44731.0     134       371.0\n",
       "66                City of San Fernando  10368    42126.0      80       325.0\n",
       "113            Los Angeles - Downtown*  11540    41953.0      65       236.0\n",
       "166              Los Angeles - Pacoima  31883    41418.0     279       362.0\n",
       "208       Los Angeles - Vernon Central  21536    41417.0     194       373.0"
      ]
     },
     "execution_count": 60,
     "metadata": {},
     "output_type": "execute_result"
    }
   ],
   "source": [
    "# What areas have more than 10k cases?\n",
    "cases[cases[\"CASES\"] > 10000].sort_values(['CASE_RATE'], ascending=False).head(5)"
   ]
  },
  {
   "cell_type": "markdown",
   "id": "4c77f5fe-dbc9-45cd-8b24-e7cdbfe3c535",
   "metadata": {},
   "source": [
    "---"
   ]
  },
  {
   "cell_type": "markdown",
   "id": "441e5ed4-ee9a-48ff-a3a9-6c0d0b16ff1d",
   "metadata": {},
   "source": [
    "#### Bonus: Create a true/false column for Los Angeles"
   ]
  },
  {
   "cell_type": "code",
   "execution_count": 61,
   "id": "29049c62-74c1-4c87-8ccf-70bee39b0c64",
   "metadata": {},
   "outputs": [
    {
     "data": {
      "text/html": [
       "<div>\n",
       "<style scoped>\n",
       "    .dataframe tbody tr th:only-of-type {\n",
       "        vertical-align: middle;\n",
       "    }\n",
       "\n",
       "    .dataframe tbody tr th {\n",
       "        vertical-align: top;\n",
       "    }\n",
       "\n",
       "    .dataframe thead th {\n",
       "        text-align: right;\n",
       "    }\n",
       "</style>\n",
       "<table border=\"1\" class=\"dataframe\">\n",
       "  <thead>\n",
       "    <tr style=\"text-align: right;\">\n",
       "      <th></th>\n",
       "      <th>CITY_COMMUNITY</th>\n",
       "      <th>CASES</th>\n",
       "      <th>CASE_RATE</th>\n",
       "      <th>DEATHS</th>\n",
       "      <th>DEATH_RATE</th>\n",
       "      <th>IS_LA</th>\n",
       "    </tr>\n",
       "  </thead>\n",
       "  <tbody>\n",
       "    <tr>\n",
       "      <th>143</th>\n",
       "      <td>Los Angeles - Lafayette Square</td>\n",
       "      <td>1222</td>\n",
       "      <td>26804.0</td>\n",
       "      <td>10</td>\n",
       "      <td>219.0</td>\n",
       "      <td>True</td>\n",
       "    </tr>\n",
       "    <tr>\n",
       "      <th>237</th>\n",
       "      <td>Unincorporated - Bradbury</td>\n",
       "      <td>67</td>\n",
       "      <td>62037.0</td>\n",
       "      <td>26</td>\n",
       "      <td>24074.0</td>\n",
       "      <td>False</td>\n",
       "    </tr>\n",
       "    <tr>\n",
       "      <th>17</th>\n",
       "      <td>City of Commerce*</td>\n",
       "      <td>4478</td>\n",
       "      <td>34264.0</td>\n",
       "      <td>46</td>\n",
       "      <td>352.0</td>\n",
       "      <td>False</td>\n",
       "    </tr>\n",
       "    <tr>\n",
       "      <th>244</th>\n",
       "      <td>Unincorporated - Covina (Charter Oak)</td>\n",
       "      <td>3560</td>\n",
       "      <td>27085.0</td>\n",
       "      <td>26</td>\n",
       "      <td>198.0</td>\n",
       "      <td>False</td>\n",
       "    </tr>\n",
       "    <tr>\n",
       "      <th>294</th>\n",
       "      <td>Unincorporated - Pellissier Village</td>\n",
       "      <td>296</td>\n",
       "      <td>47819.0</td>\n",
       "      <td>1</td>\n",
       "      <td>162.0</td>\n",
       "      <td>False</td>\n",
       "    </tr>\n",
       "    <tr>\n",
       "      <th>303</th>\n",
       "      <td>Unincorporated - Rowland Heights</td>\n",
       "      <td>8622</td>\n",
       "      <td>16899.0</td>\n",
       "      <td>101</td>\n",
       "      <td>198.0</td>\n",
       "      <td>False</td>\n",
       "    </tr>\n",
       "    <tr>\n",
       "      <th>155</th>\n",
       "      <td>Los Angeles - Mar Vista</td>\n",
       "      <td>7069</td>\n",
       "      <td>16644.0</td>\n",
       "      <td>41</td>\n",
       "      <td>97.0</td>\n",
       "      <td>True</td>\n",
       "    </tr>\n",
       "    <tr>\n",
       "      <th>89</th>\n",
       "      <td>Los Angeles - Angelino Heights</td>\n",
       "      <td>617</td>\n",
       "      <td>24660.0</td>\n",
       "      <td>8</td>\n",
       "      <td>320.0</td>\n",
       "      <td>True</td>\n",
       "    </tr>\n",
       "    <tr>\n",
       "      <th>31</th>\n",
       "      <td>City of Hawthorne</td>\n",
       "      <td>22325</td>\n",
       "      <td>25144.0</td>\n",
       "      <td>272</td>\n",
       "      <td>306.0</td>\n",
       "      <td>False</td>\n",
       "    </tr>\n",
       "    <tr>\n",
       "      <th>185</th>\n",
       "      <td>Los Angeles - South Park</td>\n",
       "      <td>14738</td>\n",
       "      <td>38824.0</td>\n",
       "      <td>125</td>\n",
       "      <td>329.0</td>\n",
       "      <td>True</td>\n",
       "    </tr>\n",
       "  </tbody>\n",
       "</table>\n",
       "</div>"
      ],
      "text/plain": [
       "                            CITY_COMMUNITY  CASES  CASE_RATE  DEATHS  \\\n",
       "143         Los Angeles - Lafayette Square   1222    26804.0      10   \n",
       "237              Unincorporated - Bradbury     67    62037.0      26   \n",
       "17                       City of Commerce*   4478    34264.0      46   \n",
       "244  Unincorporated - Covina (Charter Oak)   3560    27085.0      26   \n",
       "294    Unincorporated - Pellissier Village    296    47819.0       1   \n",
       "303       Unincorporated - Rowland Heights   8622    16899.0     101   \n",
       "155                Los Angeles - Mar Vista   7069    16644.0      41   \n",
       "89          Los Angeles - Angelino Heights    617    24660.0       8   \n",
       "31                       City of Hawthorne  22325    25144.0     272   \n",
       "185               Los Angeles - South Park  14738    38824.0     125   \n",
       "\n",
       "     DEATH_RATE  IS_LA  \n",
       "143       219.0   True  \n",
       "237     24074.0  False  \n",
       "17        352.0  False  \n",
       "244       198.0  False  \n",
       "294       162.0  False  \n",
       "303       198.0  False  \n",
       "155        97.0   True  \n",
       "89        320.0   True  \n",
       "31        306.0  False  \n",
       "185       329.0   True  "
      ]
     },
     "execution_count": 61,
     "metadata": {},
     "output_type": "execute_result"
    }
   ],
   "source": [
    "cases[\"IS_LA\"] = cases[\"CITY_COMMUNITY\"].str.startswith(\"Los Angeles\")\n",
    "cases.sample(10)"
   ]
  },
  {
   "cell_type": "markdown",
   "id": "83d8786d-9a36-4dc9-9d21-dce6ac8eefa2",
   "metadata": {},
   "source": [
    "#### Bonus: Were there more cases in the county vs. the city of Los Angeles? "
   ]
  },
  {
   "cell_type": "code",
   "execution_count": 62,
   "id": "93b1f26e-d2d1-4069-95f0-fab2cedef33e",
   "metadata": {},
   "outputs": [
    {
     "data": {
      "text/plain": [
       "2306227"
      ]
     },
     "execution_count": 62,
     "metadata": {},
     "output_type": "execute_result"
    }
   ],
   "source": [
    "# How many in LA City?\n",
    "cases[cases[\"IS_LA\"] == True][\"CASES\"].sum()"
   ]
  },
  {
   "cell_type": "code",
   "execution_count": 63,
   "id": "c8a0a864",
   "metadata": {},
   "outputs": [
    {
     "data": {
      "text/plain": [
       "1506000"
      ]
     },
     "execution_count": 63,
     "metadata": {},
     "output_type": "execute_result"
    }
   ],
   "source": [
    "# How many NOT LA City?\n",
    "cases[cases[\"IS_LA\"] == False][\"CASES\"].sum()"
   ]
  },
  {
   "cell_type": "markdown",
   "id": "c2362734-2647-490e-b69c-8993c3651f21",
   "metadata": {},
   "source": [
    "#### Discussion: How would you determine whether there were disproportionately more cases in the county? "
   ]
  },
  {
   "cell_type": "code",
   "execution_count": 64,
   "id": "c4c63aa4-fb75-45b8-8602-c64165ea235f",
   "metadata": {},
   "outputs": [
    {
     "data": {
      "text/plain": [
       "26413.585714285713"
      ]
     },
     "execution_count": 64,
     "metadata": {},
     "output_type": "execute_result"
    }
   ],
   "source": [
    "cases[cases[\"IS_LA\"] == True][\"CASE_RATE\"].mean()"
   ]
  },
  {
   "cell_type": "code",
   "execution_count": 65,
   "id": "fc4e22f4-b608-45f9-acbf-b0d88b7cd1d9",
   "metadata": {},
   "outputs": [
    {
     "data": {
      "text/plain": [
       "30348.915422885573"
      ]
     },
     "execution_count": 65,
     "metadata": {},
     "output_type": "execute_result"
    }
   ],
   "source": [
    "cases[cases[\"IS_LA\"] == False][\"CASE_RATE\"].mean()"
   ]
  }
 ],
 "metadata": {
  "interpreter": {
   "hash": "e7cb1b9ae4d417fedf7f40a8eec98f7cfbd359e096bd857395a915f4609834ce"
  },
  "kernelspec": {
   "display_name": "Python 3",
   "language": "python",
   "name": "python3910jvsc74a57bd0e7cb1b9ae4d417fedf7f40a8eec98f7cfbd359e096bd857395a915f4609834ce"
  },
  "language_info": {
   "codemirror_mode": {
    "name": "ipython",
    "version": 3
   },
   "file_extension": ".py",
   "mimetype": "text/x-python",
   "name": "python",
   "nbconvert_exporter": "python",
   "pygments_lexer": "ipython3",
   "version": "3.9.10"
  }
 },
 "nbformat": 4,
 "nbformat_minor": 5
}
