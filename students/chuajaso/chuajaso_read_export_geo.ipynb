{
 "cells": [
  {
   "cell_type": "code",
   "execution_count": 109,
   "metadata": {},
   "outputs": [
    {
     "name": "stdout",
     "output_type": "stream",
     "text": [
      "The lab_black extension is already loaded. To reload it, use:\n",
      "  %reload_ext lab_black\n"
     ]
    }
   ],
   "source": [
    "%load_ext lab_black\n",
    "# !pip install geopandas\n",
    "import pandas as pd\n",
    "import geopandas as gpd\n",
    "\n",
    "pd.options.display.max_columns = 1000\n",
    "pd.options.display.max_rows = 1000"
   ]
  },
  {
   "cell_type": "code",
   "execution_count": 110,
   "metadata": {},
   "outputs": [],
   "source": [
    "# Import the data using geopandas' .read_file() method\n",
    "gdf = gpd.read_file(\"./data/Upper_Floridan_Aquifer_Wells.csv\")"
   ]
  },
  {
   "cell_type": "code",
   "execution_count": 111,
   "metadata": {},
   "outputs": [
    {
     "data": {
      "text/html": [
       "<div>\n",
       "<style scoped>\n",
       "    .dataframe tbody tr th:only-of-type {\n",
       "        vertical-align: middle;\n",
       "    }\n",
       "\n",
       "    .dataframe tbody tr th {\n",
       "        vertical-align: top;\n",
       "    }\n",
       "\n",
       "    .dataframe thead th {\n",
       "        text-align: right;\n",
       "    }\n",
       "</style>\n",
       "<table border=\"1\" class=\"dataframe\">\n",
       "  <thead>\n",
       "    <tr style=\"text-align: right;\">\n",
       "      <th></th>\n",
       "      <th>X</th>\n",
       "      <th>Y</th>\n",
       "      <th>OBJECTID</th>\n",
       "      <th>SITEID</th>\n",
       "      <th>SITENAME</th>\n",
       "      <th>AGENCY</th>\n",
       "      <th>OBSERVATIONTYPE</th>\n",
       "      <th>LATDD</th>\n",
       "      <th>LONGDD</th>\n",
       "      <th>HORIZONTALDATUM</th>\n",
       "      <th>TOTALDEPTH</th>\n",
       "      <th>CASEDDEPTH</th>\n",
       "      <th>COMMENTS</th>\n",
       "      <th>geometry</th>\n",
       "    </tr>\n",
       "  </thead>\n",
       "  <tbody>\n",
       "    <tr>\n",
       "      <th>0</th>\n",
       "      <td>-81.8419709909263</td>\n",
       "      <td>27.5974387133633</td>\n",
       "      <td>1</td>\n",
       "      <td>579770</td>\n",
       "      <td>ROMP 41 AVPK PZ MONITOR</td>\n",
       "      <td>SWFWMD</td>\n",
       "      <td>Well</td>\n",
       "      <td>27.59743361</td>\n",
       "      <td>-81.84196778</td>\n",
       "      <td></td>\n",
       "      <td>1401</td>\n",
       "      <td>828</td>\n",
       "      <td></td>\n",
       "      <td>None</td>\n",
       "    </tr>\n",
       "    <tr>\n",
       "      <th>1</th>\n",
       "      <td>-81.7376087562021</td>\n",
       "      <td>28.1686191325505</td>\n",
       "      <td>2</td>\n",
       "      <td>17652</td>\n",
       "      <td>LAKE ALFRED DEEP NR LAKE ALFRED</td>\n",
       "      <td>SWFWMD</td>\n",
       "      <td>Well</td>\n",
       "      <td>28.16861389</td>\n",
       "      <td>-81.73760556</td>\n",
       "      <td></td>\n",
       "      <td>425</td>\n",
       "      <td>102</td>\n",
       "      <td></td>\n",
       "      <td>None</td>\n",
       "    </tr>\n",
       "  </tbody>\n",
       "</table>\n",
       "</div>"
      ],
      "text/plain": [
       "                   X                 Y OBJECTID  SITEID  \\\n",
       "0  -81.8419709909263  27.5974387133633        1  579770   \n",
       "1  -81.7376087562021  28.1686191325505        2   17652   \n",
       "\n",
       "                          SITENAME  AGENCY OBSERVATIONTYPE        LATDD  \\\n",
       "0          ROMP 41 AVPK PZ MONITOR  SWFWMD            Well  27.59743361   \n",
       "1  LAKE ALFRED DEEP NR LAKE ALFRED  SWFWMD            Well  28.16861389   \n",
       "\n",
       "         LONGDD HORIZONTALDATUM TOTALDEPTH CASEDDEPTH COMMENTS geometry  \n",
       "0  -81.84196778                       1401        828              None  \n",
       "1  -81.73760556                        425        102              None  "
      ]
     },
     "execution_count": 111,
     "metadata": {},
     "output_type": "execute_result"
    }
   ],
   "source": [
    "# Use the .head() method to inspect the results\n",
    "gdf.head(2)"
   ]
  },
  {
   "cell_type": "code",
   "execution_count": 112,
   "metadata": {},
   "outputs": [
    {
     "data": {
      "text/plain": [
       "<AxesSubplot:>"
      ]
     },
     "execution_count": 112,
     "metadata": {},
     "output_type": "execute_result"
    },
    {
     "data": {
      "image/png": "[encoded data removed]",
      "text/plain": [
       "<Figure size 432x288 with 1 Axes>"
      ]
     },
     "metadata": {},
     "output_type": "display_data"
    }
   ],
   "source": [
    "gdf.plot()"
   ]
  },
  {
   "cell_type": "code",
   "execution_count": 113,
   "metadata": {},
   "outputs": [
    {
     "data": {
      "text/plain": [
       "<AxesSubplot:>"
      ]
     },
     "execution_count": 113,
     "metadata": {},
     "output_type": "execute_result"
    },
    {
     "data": {
      "image/png": "[encoded data removed]",
      "text/plain": [
       "<Figure size 432x288 with 1 Axes>"
      ]
     },
     "metadata": {},
     "output_type": "display_data"
    }
   ],
   "source": [
    "# Oh no! It's empty!\n",
    "# Fix\n",
    "\n",
    "gdf = gpd.GeoDataFrame(\n",
    "    gdf,\n",
    "    geometry=gpd.points_from_xy(gdf[\"Y\"].astype(float), gdf[\"X\"].astype(float)),\n",
    ")\n",
    "gdf.plot()"
   ]
  },
  {
   "cell_type": "code",
   "execution_count": 114,
   "metadata": {},
   "outputs": [],
   "source": [
    "filtered = gdf[pd.to_numeric(gdf[\"TOTALDEPTH\"], errors=\"coerce\").notnull()]"
   ]
  },
  {
   "cell_type": "code",
   "execution_count": 115,
   "metadata": {},
   "outputs": [
    {
     "data": {
      "text/plain": [
       "504"
      ]
     },
     "execution_count": 115,
     "metadata": {},
     "output_type": "execute_result"
    }
   ],
   "source": [
    "# Filter/subset the geodataframe (only California counties, or only place with n numbers of residents, etc)\n",
    "# Show me only wells with a depth deeper than the mean\n",
    "depth_deeper = filtered[\n",
    "    filtered[\"TOTALDEPTH\"].astype(float) >= filtered[\"TOTALDEPTH\"].astype(float).mean()\n",
    "]\n",
    "len(depth_deeper)"
   ]
  },
  {
   "cell_type": "code",
   "execution_count": 116,
   "metadata": {},
   "outputs": [],
   "source": [
    "# Export your newly filtered geodataframe\n",
    "depth_deeper.to_csv(\"./data/Upper_Floridan_Aquifer_Wells_deep.csv\")"
   ]
  },
  {
   "cell_type": "code",
   "execution_count": null,
   "metadata": {},
   "outputs": [],
   "source": []
  }
 ],
 "metadata": {
  "interpreter": {
   "hash": "e7cb1b9ae4d417fedf7f40a8eec98f7cfbd359e096bd857395a915f4609834ce"
  },
  "kernelspec": {
   "display_name": "Python 3.9.10 ('base')",
   "language": "python",
   "name": "python3"
  },
  "language_info": {
   "codemirror_mode": {
    "name": "ipython",
    "version": 3
   },
   "file_extension": ".py",
   "mimetype": "text/x-python",
   "name": "python",
   "nbconvert_exporter": "python",
   "pygments_lexer": "ipython3",
   "version": "3.9.10"
  },
  "orig_nbformat": 4
 },
 "nbformat": 4,
 "nbformat_minor": 2
}
