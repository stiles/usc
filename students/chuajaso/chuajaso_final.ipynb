{
 "cells": [
  {
   "cell_type": "markdown",
   "metadata": {},
   "source": [
    "# Foreword\n",
    "In this notebook, I explored a dataset from the Florida Fish and Wildlife Conservation Commission, logging Florida Panther Mortality. Formerly a critically endangered species, their numbers have since recovered. \n",
    "\n",
    "## Charts\n",
    "### When Panthers Die\n",
    "#### By year\n",
    "https://www.datawrapper.de/_/PnuSi/\n",
    "#### By month\n",
    "https://www.datawrapper.de/_/05T7R/\n",
    "\n",
    "### How Panthers die\n",
    "https://www.datawrapper.de/_/1Dldc/\n",
    "\n",
    "### Where Panthers Die\n",
    "https://www.datawrapper.de/_/pIBa9/\n",
    "\n",
    "\n",
    "\n",
    "# On the notebook\n",
    "\n",
    "Toward the end of the notebook, there are some cells that have a lot of output. That is solely to export the data for visualization."
   ]
  },
  {
   "cell_type": "code",
   "execution_count": 275,
   "metadata": {},
   "outputs": [
    {
     "name": "stdout",
     "output_type": "stream",
     "text": [
      "The lab_black extension is already loaded. To reload it, use:\n",
      "  %reload_ext lab_black\n"
     ]
    }
   ],
   "source": [
    "#### Load python tools\n",
    "%load_ext lab_black\n",
    "# !pip install geopandas\n",
    "import pandas as pd\n",
    "import geopandas as gpd\n",
    "import shapely.geometry\n",
    "import numpy as np\n",
    "import matplotlib.pyplot as plt\n",
    "\n",
    "pd.options.display.max_columns = 1000\n",
    "pd.options.display.max_rows = 1000"
   ]
  },
  {
   "cell_type": "markdown",
   "metadata": {},
   "source": [
    "Import data"
   ]
  },
  {
   "cell_type": "code",
   "execution_count": 250,
   "metadata": {},
   "outputs": [],
   "source": [
    "# https://geodata.floridagio.gov/datasets/myfwc::florida-panther-mortality/about\n",
    "df = gpd.read_file(\"./data/Florida_Panther_Mortality.geojson\")"
   ]
  },
  {
   "cell_type": "code",
   "execution_count": 251,
   "metadata": {},
   "outputs": [
    {
     "data": {
      "text/html": [
       "<div>\n",
       "<style scoped>\n",
       "    .dataframe tbody tr th:only-of-type {\n",
       "        vertical-align: middle;\n",
       "    }\n",
       "\n",
       "    .dataframe tbody tr th {\n",
       "        vertical-align: top;\n",
       "    }\n",
       "\n",
       "    .dataframe thead th {\n",
       "        text-align: right;\n",
       "    }\n",
       "</style>\n",
       "<table border=\"1\" class=\"dataframe\">\n",
       "  <thead>\n",
       "    <tr style=\"text-align: right;\">\n",
       "      <th></th>\n",
       "      <th>OBJECTID</th>\n",
       "      <th>PANTHERID</th>\n",
       "      <th>SEX</th>\n",
       "      <th>AGE</th>\n",
       "      <th>LOCATION</th>\n",
       "      <th>CAUSE</th>\n",
       "      <th>YEAR</th>\n",
       "      <th>Date</th>\n",
       "      <th>last_edited_date</th>\n",
       "      <th>CauseLong</th>\n",
       "      <th>PANTHERID2</th>\n",
       "      <th>MORTID</th>\n",
       "      <th>AGE_UNITS</th>\n",
       "      <th>geometry</th>\n",
       "    </tr>\n",
       "  </thead>\n",
       "  <tbody>\n",
       "    <tr>\n",
       "      <th>0</th>\n",
       "      <td>1740</td>\n",
       "      <td>UCFP422</td>\n",
       "      <td>Female</td>\n",
       "      <td>4</td>\n",
       "      <td>SR29 Chapparal Slough</td>\n",
       "      <td>Vehicular trauma</td>\n",
       "      <td>2022</td>\n",
       "      <td>2022-04-11T04:00:00+00:00</td>\n",
       "      <td>2022-05-02T15:27:17+00:00</td>\n",
       "      <td>Vehicular trauma</td>\n",
       "      <td></td>\n",
       "      <td>MN-01195</td>\n",
       "      <td>Years</td>\n",
       "      <td>POINT (-81.39091 26.83788)</td>\n",
       "    </tr>\n",
       "  </tbody>\n",
       "</table>\n",
       "</div>"
      ],
      "text/plain": [
       "   OBJECTID PANTHERID     SEX AGE               LOCATION             CAUSE  \\\n",
       "0      1740   UCFP422  Female   4  SR29 Chapparal Slough  Vehicular trauma   \n",
       "\n",
       "   YEAR                       Date           last_edited_date  \\\n",
       "0  2022  2022-04-11T04:00:00+00:00  2022-05-02T15:27:17+00:00   \n",
       "\n",
       "          CauseLong PANTHERID2    MORTID AGE_UNITS                    geometry  \n",
       "0  Vehicular trauma             MN-01195     Years  POINT (-81.39091 26.83788)  "
      ]
     },
     "execution_count": 251,
     "metadata": {},
     "output_type": "execute_result"
    }
   ],
   "source": [
    "# Examine the data and cols\n",
    "df.head(1)"
   ]
  },
  {
   "cell_type": "markdown",
   "metadata": {},
   "source": [
    "This data set is from the Florida Fish and Wildlife Conservation Commission. Each row represents a deceased florida panther.\n",
    "\n",
    "There is no data dictionary so lets do some exploration."
   ]
  },
  {
   "cell_type": "code",
   "execution_count": 252,
   "metadata": {},
   "outputs": [
    {
     "data": {
      "text/plain": [
       "OBJECTID               int64\n",
       "PANTHERID             object\n",
       "SEX                   object\n",
       "AGE                   object\n",
       "LOCATION              object\n",
       "CAUSE                 object\n",
       "YEAR                   int64\n",
       "Date                  object\n",
       "last_edited_date      object\n",
       "CauseLong             object\n",
       "PANTHERID2            object\n",
       "MORTID                object\n",
       "AGE_UNITS             object\n",
       "geometry            geometry\n",
       "dtype: object"
      ]
     },
     "execution_count": 252,
     "metadata": {},
     "output_type": "execute_result"
    }
   ],
   "source": [
    "# What data types are we dealing with?\n",
    "df.dtypes"
   ]
  },
  {
   "cell_type": "code",
   "execution_count": 253,
   "metadata": {},
   "outputs": [
    {
     "data": {
      "text/plain": [
       "3      56\n",
       "2.5    56\n",
       "2      52\n",
       "4      46\n",
       "3.5    41\n",
       "Name: AGE, dtype: int64"
      ]
     },
     "execution_count": 253,
     "metadata": {},
     "output_type": "execute_result"
    }
   ],
   "source": [
    "# I suspect Age should be a number. What values does it have?\n",
    "df[\"AGE\"].value_counts().head()"
   ]
  },
  {
   "cell_type": "code",
   "execution_count": 254,
   "metadata": {},
   "outputs": [],
   "source": [
    "# Age looks to be a number. Lets fix that.\n",
    "# df[\"AGE\"].astype(float)  # FAILS WITH ValueError: could not convert string to float: '2.5-3'\n",
    "\n",
    "# Looks like this is a string for good reason. I may revist this. Moving on to Date."
   ]
  },
  {
   "cell_type": "code",
   "execution_count": 255,
   "metadata": {},
   "outputs": [],
   "source": [
    "# Date looks to be a date\n",
    "df[\"Date\"] = pd.to_datetime(df[\"Date\"])"
   ]
  },
  {
   "cell_type": "code",
   "execution_count": 256,
   "metadata": {},
   "outputs": [
    {
     "name": "stdout",
     "output_type": "stream",
     "text": [
      "2022-04-11 04:00:00+00:00\n",
      "1972-02-13 05:00:00+00:00\n",
      "18319 days 23:00:00\n",
      "50.18904109589041\n"
     ]
    }
   ],
   "source": [
    "# What is the time frame?\n",
    "print(df[\"Date\"].max())\n",
    "print(df[\"Date\"].min())\n",
    "print((df[\"Date\"].max() - df[\"Date\"].min()))\n",
    "print(18319 / 365)"
   ]
  },
  {
   "cell_type": "code",
   "execution_count": 257,
   "metadata": {},
   "outputs": [
    {
     "data": {
      "text/plain": [
       "608"
      ]
     },
     "execution_count": 257,
     "metadata": {},
     "output_type": "execute_result"
    }
   ],
   "source": [
    "# This looks like mortality data over the last 50 years.\n",
    "# How many entries are here?\n",
    "len(df)"
   ]
  },
  {
   "cell_type": "code",
   "execution_count": 258,
   "metadata": {},
   "outputs": [
    {
     "data": {
      "text/plain": [
       "<AxesSubplot:>"
      ]
     },
     "execution_count": 258,
     "metadata": {},
     "output_type": "execute_result"
    },
    {
     "data": {
      "image/png": "[encoded data removed]",
      "text/plain": [
       "<Figure size 432x288 with 1 Axes>"
      ]
     },
     "metadata": {},
     "output_type": "display_data"
    }
   ],
   "source": [
    "# Is there a specific month that panthers die most?\n",
    "df[\"month\"] = df[\"Date\"].apply(lambda x: x.month)\n",
    "panther_death_month = df[\"month\"].value_counts().sort_index()\n",
    "panther_death_month.plot(kind=\"bar\")"
   ]
  },
  {
   "cell_type": "markdown",
   "metadata": {},
   "source": [
    "It seems most panther deaths are reported in January, with a dip in frequency during the summer months. I wonder if it's due to patterns in panthers (migration or hunting), or patterns with people (road trips, summer break, vacations)"
   ]
  },
  {
   "cell_type": "code",
   "execution_count": 309,
   "metadata": {},
   "outputs": [
    {
     "data": {
      "text/plain": [
       "<AxesSubplot:>"
      ]
     },
     "execution_count": 309,
     "metadata": {},
     "output_type": "execute_result"
    },
    {
     "data": {
      "image/png": "[encoded data removed]",
      "text/plain": [
       "<Figure size 432x288 with 1 Axes>"
      ]
     },
     "metadata": {},
     "output_type": "display_data"
    }
   ],
   "source": [
    "# How about over years?\n",
    "df[\"year\"] = df[\"Date\"].apply(lambda x: x.year)\n",
    "panther_death_year = df[\"year\"].value_counts().sort_index()\n",
    "panther_death_year.plot(kind=\"bar\")"
   ]
  },
  {
   "cell_type": "markdown",
   "metadata": {},
   "source": [
    "It seems as the species recovered, more were being found dead."
   ]
  },
  {
   "cell_type": "code",
   "execution_count": 259,
   "metadata": {},
   "outputs": [
    {
     "data": {
      "text/plain": [
       "Male       0.574013\n",
       "Female     0.407895\n",
       "Unknown    0.018092\n",
       "Name: SEX, dtype: float64"
      ]
     },
     "execution_count": 259,
     "metadata": {},
     "output_type": "execute_result"
    }
   ],
   "source": [
    "# What about gender?\n",
    "df.SEX.value_counts(normalize=True)"
   ]
  },
  {
   "cell_type": "markdown",
   "metadata": {},
   "source": [
    "Seems to slightly lean male... perhaps an expert can comment on this."
   ]
  },
  {
   "cell_type": "code",
   "execution_count": 260,
   "metadata": {},
   "outputs": [
    {
     "data": {
      "text/plain": [
       "<AxesSubplot:>"
      ]
     },
     "execution_count": 260,
     "metadata": {},
     "output_type": "execute_result"
    },
    {
     "data": {
      "image/png": "[encoded data removed]",
      "text/plain": [
       "<Figure size 432x288 with 1 Axes>"
      ]
     },
     "metadata": {},
     "output_type": "display_data"
    }
   ],
   "source": [
    "# What is the most common causes of death?\n",
    "panther_death_cause = df[\"CauseLong\"].value_counts().sort_values()\n",
    "panther_death_cause.plot(kind=\"barh\")"
   ]
  },
  {
   "cell_type": "markdown",
   "metadata": {},
   "source": [
    "Looks like the overwhelming majority(?) of deaths are due to vehicles. I want to see this on a map later."
   ]
  },
  {
   "cell_type": "code",
   "execution_count": 261,
   "metadata": {},
   "outputs": [
    {
     "data": {
      "text/plain": [
       "Vehicular trauma    0.651316\n",
       "Unknown             0.141447\n",
       "Name: CauseLong, dtype: float64"
      ]
     },
     "execution_count": 261,
     "metadata": {},
     "output_type": "execute_result"
    }
   ],
   "source": [
    "# Is it actually a majority?\n",
    "df[\"CauseLong\"].value_counts(normalize=True).head(2)"
   ]
  },
  {
   "cell_type": "markdown",
   "metadata": {},
   "source": [
    "Yes. It is a majority."
   ]
  },
  {
   "cell_type": "code",
   "execution_count": 262,
   "metadata": {},
   "outputs": [
    {
     "data": {
      "text/plain": [
       "<AxesSubplot:>"
      ]
     },
     "execution_count": 262,
     "metadata": {},
     "output_type": "execute_result"
    },
    {
     "data": {
      "image/png": "[encoded data removed]",
      "text/plain": [
       "<Figure size 432x288 with 1 Axes>"
      ]
     },
     "metadata": {},
     "output_type": "display_data"
    }
   ],
   "source": [
    "# Lets see the geo\n",
    "df.plot()"
   ]
  },
  {
   "cell_type": "markdown",
   "metadata": {},
   "source": [
    "This isn't helpful without a basemap.\n",
    "\n",
    "Upon opening in QGIS, It's obvious the majority of incidents occur in an area bounded by Cape Coral to the west, Lake Okeechobee to the north and east, and Miami in the south. There are a few locations as north as Gainesville.\n",
    "\n",
    "Another apparent observation, many entries are on highways, like the western part of Alligator Alley and State Road 29."
   ]
  },
  {
   "cell_type": "code",
   "execution_count": 313,
   "metadata": {},
   "outputs": [],
   "source": [
    "# Export to csv for visualization\n",
    "df.drop(\"geometry\", axis=1).to_csv(\"./data/processed/panther_data.csv\")\n",
    "df.geometry.to_csv(\"./data/processed/panther_markers.csv\")\n",
    "panther_death_cause.to_csv(\"./data/processed/panther_death_cause.csv\")\n",
    "panther_death_month.to_csv(\"./data/processed/panther_death_month.csv\")\n",
    "panther_death_year.to_csv(\"./data/processed/panther_death_year.csv\")"
   ]
  },
  {
   "cell_type": "markdown",
   "metadata": {},
   "source": [
    "The point data needs to be binned before visualizing. Hexbin maybe?"
   ]
  },
  {
   "cell_type": "code",
   "execution_count": 301,
   "metadata": {},
   "outputs": [],
   "source": [
    "# https://james-brennan.github.io/posts/fast_gridding_geopandas/\n",
    "\n",
    "# total area for the grid\n",
    "xmin, ymin, xmax, ymax = df.total_bounds\n",
    "# how many cells across and down\n",
    "n_cells = 100\n",
    "cell_size = (xmax - xmin) / n_cells\n",
    "# projection of the grid\n",
    "crs = (\n",
    "    \"+proj=sinu +lon_0=0 +x_0=0 +y_0=0 +a=6371007.181 +b=6371007.181 +units=m +no_defs\"\n",
    ")\n",
    "# create the cells in a loop\n",
    "grid_cells = []\n",
    "for x0 in np.arange(xmin, xmax + cell_size, cell_size):\n",
    "    for y0 in np.arange(ymin, ymax + cell_size, cell_size):\n",
    "        # bounds\n",
    "        x1 = x0 - cell_size\n",
    "        y1 = y0 + cell_size\n",
    "        grid_cells.append(shapely.geometry.box(x0, y0, x1, y1))\n",
    "cell = gpd.GeoDataFrame(grid_cells, columns=[\"geometry\"], crs=crs)"
   ]
  },
  {
   "cell_type": "code",
   "execution_count": 302,
   "metadata": {},
   "outputs": [
    {
     "name": "stderr",
     "output_type": "stream",
     "text": [
      "/opt/homebrew/Caskroom/miniconda/base/lib/python3.9/site-packages/IPython/core/interactiveshell.py:3191: FutureWarning: The `op` parameter is deprecated and will be removed in a future release. Please use the `predicate` parameter instead.\n",
      "  if await self.run_code(code, result, async_=asy):\n",
      "/var/folders/v9/204jm2cs4k9ghhdzc13897gw0000gn/T/ipykernel_53730/3245292534.py:1: UserWarning: CRS mismatch between the CRS of left geometries and the CRS of right geometries.\n",
      "Use `to_crs()` to reproject one of the input geometries to match the CRS of the other.\n",
      "\n",
      "Left CRS: EPSG:4326\n",
      "Right CRS: +proj=sinu +lon_0=0 +x_0=0 +y_0=0 +a=6371007.181 + ...\n",
      "\n",
      "  merged = gpd.sjoin(df, cell, how=\"left\", op=\"within\")\n"
     ]
    }
   ],
   "source": [
    "merged = gpd.sjoin(df, cell, how=\"left\", op=\"within\")"
   ]
  },
  {
   "cell_type": "markdown",
   "metadata": {},
   "source": []
  },
  {
   "cell_type": "code",
   "execution_count": 303,
   "metadata": {},
   "outputs": [],
   "source": [
    "# make a simple count variable that we can sum\n",
    "merged[\"n_panthers\"] = 1\n",
    "# Compute stats per grid cell -- aggregate fires to grid cells with dissolve\n",
    "dissolve = merged.dissolve(by=\"index_right\", aggfunc=\"count\").drop(columns=\"geometry\")\n",
    "# put this into cell\n",
    "cell.loc[dissolve.index, \"n_panthers\"] = dissolve.n_panthers.values"
   ]
  },
  {
   "cell_type": "code",
   "execution_count": 304,
   "metadata": {},
   "outputs": [
    {
     "data": {
      "text/plain": [
       "(-82.10431434460101, -80.31832853593527, 25.138477728025332, 29.88603494093429)"
      ]
     },
     "execution_count": 304,
     "metadata": {},
     "output_type": "execute_result"
    },
    {
     "data": {
      "image/png": "[encoded data removed]",
      "text/plain": [
       "<Figure size 864x576 with 1 Axes>"
      ]
     },
     "metadata": {},
     "output_type": "display_data"
    }
   ],
   "source": [
    "ax = cell.plot(\n",
    "    column=\"n_panthers\",\n",
    "    figsize=(12, 8),\n",
    "    cmap=\"OrRd\",\n",
    "    vmax=dissolve.n_panthers.max() + 10,\n",
    "    edgecolor=\"grey\",\n",
    ")\n",
    "plt.autoscale(False)\n",
    "ax.axis(\"off\")"
   ]
  },
  {
   "cell_type": "code",
   "execution_count": 305,
   "metadata": {},
   "outputs": [
    {
     "data": {
      "text/html": [
       "<div>\n",
       "<style scoped>\n",
       "    .dataframe tbody tr th:only-of-type {\n",
       "        vertical-align: middle;\n",
       "    }\n",
       "\n",
       "    .dataframe tbody tr th {\n",
       "        vertical-align: top;\n",
       "    }\n",
       "\n",
       "    .dataframe thead th {\n",
       "        text-align: right;\n",
       "    }\n",
       "</style>\n",
       "<table border=\"1\" class=\"dataframe\">\n",
       "  <thead>\n",
       "    <tr style=\"text-align: right;\">\n",
       "      <th></th>\n",
       "      <th>geometry</th>\n",
       "      <th>n_panthers</th>\n",
       "    </tr>\n",
       "  </thead>\n",
       "  <tbody>\n",
       "    <tr>\n",
       "      <th>3258</th>\n",
       "      <td>POLYGON ((-82.023 26.937, -82.023 26.957, -82....</td>\n",
       "      <td>NaN</td>\n",
       "    </tr>\n",
       "    <tr>\n",
       "      <th>18816</th>\n",
       "      <td>POLYGON ((-80.523 28.622, -80.523 28.643, -80....</td>\n",
       "      <td>NaN</td>\n",
       "    </tr>\n",
       "  </tbody>\n",
       "</table>\n",
       "</div>"
      ],
      "text/plain": [
       "                                                geometry  n_panthers\n",
       "3258   POLYGON ((-82.023 26.937, -82.023 26.957, -82....         NaN\n",
       "18816  POLYGON ((-80.523 28.622, -80.523 28.643, -80....         NaN"
      ]
     },
     "execution_count": 305,
     "metadata": {},
     "output_type": "execute_result"
    }
   ],
   "source": [
    "cell.sample(2)"
   ]
  },
  {
   "cell_type": "code",
   "execution_count": 308,
   "metadata": {},
   "outputs": [
    {
     "name": "stdout",
     "output_type": "stream",
     "text": [
      "1.0     273\n",
      "2.0      60\n",
      "3.0      25\n",
      "4.0      18\n",
      "5.0       7\n",
      "6.0       2\n",
      "8.0       1\n",
      "10.0      1\n",
      "Name: n_panthers, dtype: int64\n"
     ]
    },
    {
     "name": "stderr",
     "output_type": "stream",
     "text": [
      "/opt/homebrew/Caskroom/miniconda/base/lib/python3.9/site-packages/geopandas/io/file.py:362: FutureWarning: pandas.Int64Index is deprecated and will be removed from pandas in a future version. Use pandas.Index with the appropriate dtype instead.\n",
      "  pd.Int64Index,\n",
      "/opt/homebrew/Caskroom/miniconda/base/lib/python3.9/site-packages/geopandas/io/file.py:362: FutureWarning: pandas.Int64Index is deprecated and will be removed from pandas in a future version. Use pandas.Index with the appropriate dtype instead.\n",
      "  pd.Int64Index,\n",
      "/opt/homebrew/Caskroom/miniconda/base/lib/python3.9/site-packages/geopandas/io/file.py:362: FutureWarning: pandas.Int64Index is deprecated and will be removed from pandas in a future version. Use pandas.Index with the appropriate dtype instead.\n",
      "  pd.Int64Index,\n",
      "/opt/homebrew/Caskroom/miniconda/base/lib/python3.9/site-packages/geopandas/io/file.py:362: FutureWarning: pandas.Int64Index is deprecated and will be removed from pandas in a future version. Use pandas.Index with the appropriate dtype instead.\n",
      "  pd.Int64Index,\n",
      "/opt/homebrew/Caskroom/miniconda/base/lib/python3.9/site-packages/geopandas/io/file.py:362: FutureWarning: pandas.Int64Index is deprecated and will be removed from pandas in a future version. Use pandas.Index with the appropriate dtype instead.\n",
      "  pd.Int64Index,\n",
      "/opt/homebrew/Caskroom/miniconda/base/lib/python3.9/site-packages/geopandas/io/file.py:362: FutureWarning: pandas.Int64Index is deprecated and will be removed from pandas in a future version. Use pandas.Index with the appropriate dtype instead.\n",
      "  pd.Int64Index,\n",
      "/opt/homebrew/Caskroom/miniconda/base/lib/python3.9/site-packages/geopandas/io/file.py:362: FutureWarning: pandas.Int64Index is deprecated and will be removed from pandas in a future version. Use pandas.Index with the appropriate dtype instead.\n",
      "  pd.Int64Index,\n",
      "/opt/homebrew/Caskroom/miniconda/base/lib/python3.9/site-packages/geopandas/io/file.py:362: FutureWarning: pandas.Int64Index is deprecated and will be removed from pandas in a future version. Use pandas.Index with the appropriate dtype instead.\n",
      "  pd.Int64Index,\n"
     ]
    }
   ],
   "source": [
    "# Drop empty cells\n",
    "cell_cleaned = cell.dropna()\n",
    "\n",
    "\n",
    "print(cell_cleaned.n_panthers.value_counts())\n",
    "\n",
    "# Split into diffrent CSV for visualization\n",
    "for n in cell_cleaned.n_panthers.value_counts().keys():\n",
    "\n",
    "    cell_cleaned[cell_cleaned.n_panthers == n].to_file(\n",
    "        \"./data/processed/panther_cell_value\" + str(n) + \".geojson\",\n",
    "        driver=\"GeoJSON\",\n",
    "    )"
   ]
  },
  {
   "cell_type": "code",
   "execution_count": 307,
   "metadata": {},
   "outputs": [
    {
     "name": "stderr",
     "output_type": "stream",
     "text": [
      "/opt/homebrew/Caskroom/miniconda/base/lib/python3.9/site-packages/geopandas/io/file.py:362: FutureWarning: pandas.Int64Index is deprecated and will be removed from pandas in a future version. Use pandas.Index with the appropriate dtype instead.\n",
      "  pd.Int64Index,\n"
     ]
    }
   ],
   "source": [
    "# write cells to to disk for visualizing\n",
    "cell.to_csv(\"./data/processed/panther_cells.csv\")\n",
    "cell.to_file(\n",
    "    \"./data/processed/panther_cells.json\",\n",
    "    driver=\"GeoJSON\",\n",
    ")"
   ]
  },
  {
   "cell_type": "code",
   "execution_count": 272,
   "metadata": {},
   "outputs": [],
   "source": [
    "# Add lat/long for datawrapepr\n",
    "df[\"lon\"] = df[\"geometry\"].x\n",
    "df[\"lat\"] = df[\"geometry\"].y\n",
    "df.to_csv(\"./data/processed/panther.csv\")"
   ]
  },
  {
   "cell_type": "code",
   "execution_count": null,
   "metadata": {},
   "outputs": [],
   "source": []
  }
 ],
 "metadata": {
  "interpreter": {
   "hash": "e7cb1b9ae4d417fedf7f40a8eec98f7cfbd359e096bd857395a915f4609834ce"
  },
  "kernelspec": {
   "display_name": "Python 3.9.10 ('base')",
   "language": "python",
   "name": "python3"
  },
  "language_info": {
   "codemirror_mode": {
    "name": "ipython",
    "version": 3
   },
   "file_extension": ".py",
   "mimetype": "text/x-python",
   "name": "python",
   "nbconvert_exporter": "python",
   "pygments_lexer": "ipython3",
   "version": "3.9.10"
  },
  "orig_nbformat": 4
 },
 "nbformat": 4,
 "nbformat_minor": 2
}
