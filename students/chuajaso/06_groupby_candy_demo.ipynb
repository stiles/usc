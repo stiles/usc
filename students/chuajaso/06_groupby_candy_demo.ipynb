{
 "cells": [
  {
   "cell_type": "markdown",
   "id": "564e3285-652b-46c8-9148-15d6b4895ad9",
   "metadata": {},
   "source": [
    "# Groupby: Candy!\n",
    "Use this method when you want to collapse a dataframe by a categorical column and run an aggregation. For example, if you had a list of candy consumed and wanted to look at the total caleries by brand or type. Let's look."
   ]
  },
  {
   "cell_type": "markdown",
   "id": "b33ad272-23b8-45d3-99e3-b006192bee92",
   "metadata": {},
   "source": [
    "#### Load python tools"
   ]
  },
  {
   "cell_type": "code",
   "execution_count": 1,
   "id": "b22b7261-fe68-4445-bf94-82a506fa5018",
   "metadata": {},
   "outputs": [],
   "source": [
    "import pandas as pd"
   ]
  },
  {
   "cell_type": "markdown",
   "id": "e80cc819-8cc4-4587-8e04-959ea605e1ef",
   "metadata": {},
   "source": [
    "#### Read our candy dataset"
   ]
  },
  {
   "cell_type": "code",
   "execution_count": 2,
   "id": "0ddbbb65-b276-4a35-b770-c2729fb07b05",
   "metadata": {},
   "outputs": [],
   "source": [
    "# CSV from here: https://docs.google.com/spreadsheets/d/1aLw0zKcOQD7d16kmrjc6nFb_jdXmoEhSTJFzO2i5kPM/edit?usp=sharing"
   ]
  },
  {
   "cell_type": "code",
   "execution_count": 3,
   "id": "08cc99c1-1fd7-48bd-a8c0-f3195cb67457",
   "metadata": {},
   "outputs": [],
   "source": [
    "url = \"https://docs.google.com/spreadsheets/d/e/2PACX-1vQ5SEEqfwggc80EtHHb4s5eYd06ulLjJbOtNcjcGvktph-\\\n",
    "jCp9d8llRsUNs8BB9hM6Ze4IZ25AC9fRe/pub?gid=0&single=true&output=csv\""
   ]
  },
  {
   "cell_type": "markdown",
   "id": "ee6636f5-5318-49ba-aad2-87c1942c70d2",
   "metadata": {},
   "source": [
    "#### Read the data"
   ]
  },
  {
   "cell_type": "code",
   "execution_count": null,
   "id": "6d8fffaa-b731-44be-b01d-5172cc9395bd",
   "metadata": {},
   "outputs": [],
   "source": []
  },
  {
   "cell_type": "markdown",
   "id": "17197d66-25ab-49a8-ac7a-f565bc1bd4d7",
   "metadata": {},
   "source": [
    "#### First five rows"
   ]
  },
  {
   "cell_type": "code",
   "execution_count": null,
   "id": "72c0a236-de6c-4810-b32f-80361aa74b7b",
   "metadata": {},
   "outputs": [],
   "source": []
  },
  {
   "cell_type": "markdown",
   "id": "f8b88e94-54f6-4101-b706-533a382ea5c7",
   "metadata": {},
   "source": [
    "#### Last five rows"
   ]
  },
  {
   "cell_type": "code",
   "execution_count": null,
   "id": "4d74318e-b576-4018-a7ef-46066d7bec88",
   "metadata": {},
   "outputs": [],
   "source": []
  },
  {
   "cell_type": "markdown",
   "id": "e2c1ea6a-af60-43a3-a09f-8564cb078af6",
   "metadata": {},
   "source": [
    "#### How many records? "
   ]
  },
  {
   "cell_type": "code",
   "execution_count": null,
   "id": "be85d1fa-a9a1-4a1a-9d05-56a2d5f726b0",
   "metadata": {},
   "outputs": [],
   "source": []
  },
  {
   "cell_type": "markdown",
   "id": "7b818250-ab0f-49e2-b896-d52dd46f9134",
   "metadata": {},
   "source": [
    "#### How many calories we talking? "
   ]
  },
  {
   "cell_type": "code",
   "execution_count": null,
   "id": "41c9a820-db89-4d19-9417-7b540fad0262",
   "metadata": {},
   "outputs": [],
   "source": []
  },
  {
   "cell_type": "code",
   "execution_count": null,
   "id": "e9c4ceda-8510-4a38-a3ab-74b1f19887d7",
   "metadata": {},
   "outputs": [],
   "source": []
  },
  {
   "cell_type": "markdown",
   "id": "c0a043a0-e696-4800-acc1-de3ecbf991c5",
   "metadata": {},
   "source": [
    "#### Just those with peanuts"
   ]
  },
  {
   "cell_type": "code",
   "execution_count": null,
   "id": "c91cf5ee-31a4-4e0f-963d-0c2cb2c67fdc",
   "metadata": {},
   "outputs": [],
   "source": []
  },
  {
   "cell_type": "markdown",
   "id": "930cca37-62d2-47f6-b7b1-fd0afd246b4a",
   "metadata": {},
   "source": [
    "#### Just those with a user rating above 5"
   ]
  },
  {
   "cell_type": "code",
   "execution_count": null,
   "id": "4c16b63e-ee11-4d1c-972a-c9be8fa31b75",
   "metadata": {},
   "outputs": [],
   "source": []
  },
  {
   "cell_type": "markdown",
   "id": "bca10464-092c-4493-ac6e-8b45fdc6a0cf",
   "metadata": {},
   "source": [
    "---"
   ]
  },
  {
   "cell_type": "markdown",
   "id": "0503cb39-ffdb-4988-9c82-15594a229a66",
   "metadata": {},
   "source": [
    "#### How many of each brand? "
   ]
  },
  {
   "cell_type": "code",
   "execution_count": null,
   "id": "3540a5f1-9343-4c9b-b7dc-5276266aa32f",
   "metadata": {},
   "outputs": [],
   "source": []
  },
  {
   "cell_type": "markdown",
   "id": "c9d79edc-0d43-4502-943e-ee9d404f93c4",
   "metadata": {},
   "source": [
    "#### How many of each color? "
   ]
  },
  {
   "cell_type": "code",
   "execution_count": null,
   "id": "f9c263b6-396e-46db-82eb-147b9d5dec34",
   "metadata": {},
   "outputs": [],
   "source": []
  },
  {
   "cell_type": "markdown",
   "id": "d6525494-9952-4bb2-a941-ea245badeb55",
   "metadata": {},
   "source": [
    "#### What's the average user rating for each brand? "
   ]
  },
  {
   "cell_type": "code",
   "execution_count": null,
   "id": "ed728c8f-2e2b-4802-9291-b422d830b007",
   "metadata": {},
   "outputs": [],
   "source": []
  },
  {
   "cell_type": "markdown",
   "id": "e7a9fcbd-b47a-4f20-b635-db073eb40ae8",
   "metadata": {},
   "source": [
    "#### What's the average rating for products related to peanuts? "
   ]
  },
  {
   "cell_type": "code",
   "execution_count": null,
   "id": "2fae28b3-ed4a-4984-88ee-83c6db7b3f70",
   "metadata": {},
   "outputs": [],
   "source": []
  },
  {
   "cell_type": "markdown",
   "id": "0ef7eaae-c1cc-49f9-b0f7-de9e724fde0c",
   "metadata": {},
   "source": [
    "#### What's the average rating for products related to color? "
   ]
  },
  {
   "cell_type": "code",
   "execution_count": null,
   "id": "4d216169-5e2d-4c52-980d-e12a7959f48c",
   "metadata": {},
   "outputs": [],
   "source": []
  },
  {
   "cell_type": "markdown",
   "id": "7d763c7d-f276-47f2-9ea3-e6a5d14a59ae",
   "metadata": {},
   "source": [
    "---"
   ]
  },
  {
   "cell_type": "markdown",
   "id": "2b9dc720-3d33-4df8-9b68-e5a80f7cf675",
   "metadata": {},
   "source": [
    "#### What's the average calories, by type? "
   ]
  },
  {
   "cell_type": "code",
   "execution_count": null,
   "id": "9921fdec-220c-49d0-a0ab-fb68e66a4010",
   "metadata": {},
   "outputs": [],
   "source": []
  },
  {
   "cell_type": "markdown",
   "id": "794aea91-a455-42b7-8753-aa0bbeb88af0",
   "metadata": {},
   "source": [
    "#### Fat?"
   ]
  },
  {
   "cell_type": "code",
   "execution_count": null,
   "id": "ebf62e44-7971-47fb-92d8-5f8d871d9d11",
   "metadata": {},
   "outputs": [],
   "source": []
  },
  {
   "cell_type": "markdown",
   "id": "fa7dfd0c-0d1a-433c-8f24-ee49885df083",
   "metadata": {},
   "source": [
    "#### What if you ate all the Snickers. How many calories? "
   ]
  },
  {
   "cell_type": "code",
   "execution_count": null,
   "id": "d837d601-08f7-4bb0-94be-3123cc281e3c",
   "metadata": {},
   "outputs": [],
   "source": []
  },
  {
   "cell_type": "code",
   "execution_count": null,
   "id": "d21f51f2-b78f-4793-8899-c80feaf983f1",
   "metadata": {},
   "outputs": [],
   "source": []
  },
  {
   "cell_type": "markdown",
   "id": "a0e2d32a-6bad-44a8-9eb7-4c50071f9a86",
   "metadata": {},
   "source": [
    "#### Which owner has the highest average user score? "
   ]
  },
  {
   "cell_type": "code",
   "execution_count": null,
   "id": "d3c89fe0-451d-4a58-b0e6-f3dda98ae08f",
   "metadata": {},
   "outputs": [],
   "source": []
  },
  {
   "cell_type": "markdown",
   "id": "42b6a8e8-d116-4680-9b35-4f9c82a3f325",
   "metadata": {},
   "source": [
    "#### What other questions? "
   ]
  },
  {
   "cell_type": "code",
   "execution_count": null,
   "id": "5a096c0b-b143-4eb5-8165-b700e6056e5c",
   "metadata": {},
   "outputs": [],
   "source": []
  },
  {
   "cell_type": "code",
   "execution_count": null,
   "id": "d7d5375a-91a4-4149-af9c-4c53534b300c",
   "metadata": {},
   "outputs": [],
   "source": []
  },
  {
   "cell_type": "code",
   "execution_count": null,
   "id": "158370c0-599e-4bce-8f9a-f21df78bb631",
   "metadata": {},
   "outputs": [],
   "source": []
  },
  {
   "cell_type": "code",
   "execution_count": null,
   "id": "7ef58bae-4cd3-4096-a282-22a67dc9eac6",
   "metadata": {},
   "outputs": [],
   "source": []
  }
 ],
 "metadata": {
  "kernelspec": {
   "display_name": "Python 3 (ipykernel)",
   "language": "python",
   "name": "python3"
  },
  "language_info": {
   "codemirror_mode": {
    "name": "ipython",
    "version": 3
   },
   "file_extension": ".py",
   "mimetype": "text/x-python",
   "name": "python",
   "nbconvert_exporter": "python",
   "pygments_lexer": "ipython3",
   "version": "3.9.10"
  }
 },
 "nbformat": 4,
 "nbformat_minor": 5
}
