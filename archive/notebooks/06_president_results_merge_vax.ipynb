{
 "cells": [
  {
   "cell_type": "markdown",
   "id": "00de63d1-fc2c-4417-b42b-702c746ad20e",
   "metadata": {},
   "source": [
    "# Merge presidential election with vax rates"
   ]
  },
  {
   "cell_type": "markdown",
   "id": "3efa3278-534e-4c94-9bbb-ae7acd33b536",
   "metadata": {},
   "source": [
    "### Import Python tools"
   ]
  },
  {
   "cell_type": "code",
   "execution_count": 1,
   "id": "b33df1cc-59bd-4c8b-bb3d-4f17ade5a203",
   "metadata": {},
   "outputs": [],
   "source": [
    "# !pip install nb_black\n",
    "%load_ext lab_black"
   ]
  },
  {
   "cell_type": "code",
   "execution_count": 2,
   "id": "6fc2a786-93a9-4de1-ab0b-e28b12ef59ca",
   "metadata": {},
   "outputs": [],
   "source": [
    "import pandas as pd"
   ]
  },
  {
   "cell_type": "markdown",
   "id": "af3784dc-17c4-480b-b7cf-357b0be82d59",
   "metadata": {},
   "source": [
    "---"
   ]
  },
  {
   "cell_type": "markdown",
   "id": "1738295e-a6f2-43f0-94ab-18f158c21fe3",
   "metadata": {},
   "source": [
    "### Read elections data cleaned in 04 notebook"
   ]
  },
  {
   "cell_type": "code",
   "execution_count": 3,
   "id": "ef14ad9b-66e6-41b2-ba93-7830f9e7a910",
   "metadata": {},
   "outputs": [],
   "source": [
    "df = pd.read_json(\"../data/elections/counties_election_results_2020.json\")"
   ]
  },
  {
   "cell_type": "code",
   "execution_count": 4,
   "id": "e14b370b-e206-4cba-9f1e-b05f7db8e9ac",
   "metadata": {},
   "outputs": [
    {
     "data": {
      "text/html": [
       "<div>\n",
       "<style scoped>\n",
       "    .dataframe tbody tr th:only-of-type {\n",
       "        vertical-align: middle;\n",
       "    }\n",
       "\n",
       "    .dataframe tbody tr th {\n",
       "        vertical-align: top;\n",
       "    }\n",
       "\n",
       "    .dataframe thead th {\n",
       "        text-align: right;\n",
       "    }\n",
       "</style>\n",
       "<table border=\"1\" class=\"dataframe\">\n",
       "  <thead>\n",
       "    <tr style=\"text-align: right;\">\n",
       "      <th></th>\n",
       "      <th>state_name</th>\n",
       "      <th>county_fips</th>\n",
       "      <th>county_name</th>\n",
       "      <th>votes_gop</th>\n",
       "      <th>votes_dem</th>\n",
       "      <th>total_votes</th>\n",
       "      <th>margin_dem</th>\n",
       "      <th>margin_gop</th>\n",
       "      <th>pct_dem</th>\n",
       "      <th>pct_gop</th>\n",
       "      <th>dem_diff</th>\n",
       "      <th>gop_diff</th>\n",
       "      <th>winner</th>\n",
       "    </tr>\n",
       "  </thead>\n",
       "  <tbody>\n",
       "    <tr>\n",
       "      <th>0</th>\n",
       "      <td>Alabama</td>\n",
       "      <td>1001</td>\n",
       "      <td>Autauga</td>\n",
       "      <td>19838</td>\n",
       "      <td>7503</td>\n",
       "      <td>27770</td>\n",
       "      <td>-12335</td>\n",
       "      <td>12335</td>\n",
       "      <td>27</td>\n",
       "      <td>71</td>\n",
       "      <td>-44</td>\n",
       "      <td>44</td>\n",
       "      <td>gop</td>\n",
       "    </tr>\n",
       "    <tr>\n",
       "      <th>1</th>\n",
       "      <td>Alabama</td>\n",
       "      <td>1003</td>\n",
       "      <td>Baldwin</td>\n",
       "      <td>83544</td>\n",
       "      <td>24578</td>\n",
       "      <td>109679</td>\n",
       "      <td>-58966</td>\n",
       "      <td>58966</td>\n",
       "      <td>22</td>\n",
       "      <td>76</td>\n",
       "      <td>-54</td>\n",
       "      <td>54</td>\n",
       "      <td>gop</td>\n",
       "    </tr>\n",
       "    <tr>\n",
       "      <th>2</th>\n",
       "      <td>Alabama</td>\n",
       "      <td>1005</td>\n",
       "      <td>Barbour</td>\n",
       "      <td>5622</td>\n",
       "      <td>4816</td>\n",
       "      <td>10518</td>\n",
       "      <td>-806</td>\n",
       "      <td>806</td>\n",
       "      <td>46</td>\n",
       "      <td>53</td>\n",
       "      <td>-7</td>\n",
       "      <td>7</td>\n",
       "      <td>gop</td>\n",
       "    </tr>\n",
       "    <tr>\n",
       "      <th>3</th>\n",
       "      <td>Alabama</td>\n",
       "      <td>1007</td>\n",
       "      <td>Bibb</td>\n",
       "      <td>7525</td>\n",
       "      <td>1986</td>\n",
       "      <td>9595</td>\n",
       "      <td>-5539</td>\n",
       "      <td>5539</td>\n",
       "      <td>21</td>\n",
       "      <td>78</td>\n",
       "      <td>-57</td>\n",
       "      <td>57</td>\n",
       "      <td>gop</td>\n",
       "    </tr>\n",
       "    <tr>\n",
       "      <th>4</th>\n",
       "      <td>Alabama</td>\n",
       "      <td>1009</td>\n",
       "      <td>Blount</td>\n",
       "      <td>24711</td>\n",
       "      <td>2640</td>\n",
       "      <td>27588</td>\n",
       "      <td>-22071</td>\n",
       "      <td>22071</td>\n",
       "      <td>10</td>\n",
       "      <td>90</td>\n",
       "      <td>-80</td>\n",
       "      <td>80</td>\n",
       "      <td>gop</td>\n",
       "    </tr>\n",
       "  </tbody>\n",
       "</table>\n",
       "</div>"
      ],
      "text/plain": [
       "  state_name  county_fips county_name  votes_gop  votes_dem  total_votes  \\\n",
       "0    Alabama         1001     Autauga      19838       7503        27770   \n",
       "1    Alabama         1003     Baldwin      83544      24578       109679   \n",
       "2    Alabama         1005     Barbour       5622       4816        10518   \n",
       "3    Alabama         1007        Bibb       7525       1986         9595   \n",
       "4    Alabama         1009      Blount      24711       2640        27588   \n",
       "\n",
       "   margin_dem  margin_gop  pct_dem  pct_gop  dem_diff  gop_diff winner  \n",
       "0      -12335       12335       27       71       -44        44    gop  \n",
       "1      -58966       58966       22       76       -54        54    gop  \n",
       "2        -806         806       46       53        -7         7    gop  \n",
       "3       -5539        5539       21       78       -57        57    gop  \n",
       "4      -22071       22071       10       90       -80        80    gop  "
      ]
     },
     "execution_count": 4,
     "metadata": {},
     "output_type": "execute_result"
    }
   ],
   "source": [
    "df.head()"
   ]
  },
  {
   "cell_type": "code",
   "execution_count": 5,
   "id": "dcc983ee-f613-4318-a68f-79146ce84274",
   "metadata": {},
   "outputs": [],
   "source": [
    "df[\"county_fips\"] = df[\"county_fips\"].astype(str).str.zfill(5)"
   ]
  },
  {
   "cell_type": "markdown",
   "id": "fbf7be71-53f0-4384-b102-af6870b7634d",
   "metadata": {},
   "source": [
    "### Get vax data from CDC"
   ]
  },
  {
   "cell_type": "code",
   "execution_count": 6,
   "id": "31aa2db0-d676-4276-8602-8a6b471fde42",
   "metadata": {},
   "outputs": [],
   "source": [
    "# Cleaned up version (and most recent week) of this table\n",
    "# vax_pct = pct fully vaccinated\n",
    "# https://data.cdc.gov/Vaccinations/COVID-19-Vaccinations-in-the-United-States-County/8xkx-amqh"
   ]
  },
  {
   "cell_type": "code",
   "execution_count": 7,
   "id": "d5453ba8-dd46-4198-9cc8-01223dcad40e",
   "metadata": {},
   "outputs": [],
   "source": [
    "vax_counties = pd.read_json(\"../data/vaccinations/usa-vaccination-county-totals.json\")"
   ]
  },
  {
   "cell_type": "code",
   "execution_count": 8,
   "id": "6018c562-5dd4-46ea-9877-3f6d6188a1d4",
   "metadata": {},
   "outputs": [
    {
     "data": {
      "text/html": [
       "<div>\n",
       "<style scoped>\n",
       "    .dataframe tbody tr th:only-of-type {\n",
       "        vertical-align: middle;\n",
       "    }\n",
       "\n",
       "    .dataframe tbody tr th {\n",
       "        vertical-align: top;\n",
       "    }\n",
       "\n",
       "    .dataframe thead th {\n",
       "        text-align: right;\n",
       "    }\n",
       "</style>\n",
       "<table border=\"1\" class=\"dataframe\">\n",
       "  <thead>\n",
       "    <tr style=\"text-align: right;\">\n",
       "      <th></th>\n",
       "      <th>fips</th>\n",
       "      <th>county_name</th>\n",
       "      <th>state_name</th>\n",
       "      <th>vax_pct</th>\n",
       "    </tr>\n",
       "  </thead>\n",
       "  <tbody>\n",
       "    <tr>\n",
       "      <th>0</th>\n",
       "      <td>41061</td>\n",
       "      <td>Union County</td>\n",
       "      <td>OR</td>\n",
       "      <td>43.2</td>\n",
       "    </tr>\n",
       "    <tr>\n",
       "      <th>1</th>\n",
       "      <td>29093</td>\n",
       "      <td>Iron County</td>\n",
       "      <td>MO</td>\n",
       "      <td>33.9</td>\n",
       "    </tr>\n",
       "    <tr>\n",
       "      <th>2</th>\n",
       "      <td>38091</td>\n",
       "      <td>Steele County</td>\n",
       "      <td>ND</td>\n",
       "      <td>41.3</td>\n",
       "    </tr>\n",
       "    <tr>\n",
       "      <th>3</th>\n",
       "      <td>18085</td>\n",
       "      <td>Kosciusko County</td>\n",
       "      <td>IN</td>\n",
       "      <td>36.8</td>\n",
       "    </tr>\n",
       "    <tr>\n",
       "      <th>4</th>\n",
       "      <td>36075</td>\n",
       "      <td>Oswego County</td>\n",
       "      <td>NY</td>\n",
       "      <td>53.0</td>\n",
       "    </tr>\n",
       "  </tbody>\n",
       "</table>\n",
       "</div>"
      ],
      "text/plain": [
       "    fips       county_name state_name  vax_pct\n",
       "0  41061      Union County         OR     43.2\n",
       "1  29093       Iron County         MO     33.9\n",
       "2  38091     Steele County         ND     41.3\n",
       "3  18085  Kosciusko County         IN     36.8\n",
       "4  36075     Oswego County         NY     53.0"
      ]
     },
     "execution_count": 8,
     "metadata": {},
     "output_type": "execute_result"
    }
   ],
   "source": [
    "vax_counties.head()"
   ]
  },
  {
   "cell_type": "code",
   "execution_count": 9,
   "id": "a7494c73-03da-4aca-9fd8-d3e5ec9d42b4",
   "metadata": {},
   "outputs": [
    {
     "data": {
      "text/plain": [
       "fips            object\n",
       "county_name     object\n",
       "state_name      object\n",
       "vax_pct        float64\n",
       "dtype: object"
      ]
     },
     "execution_count": 9,
     "metadata": {},
     "output_type": "execute_result"
    }
   ],
   "source": [
    "vax_counties.dtypes"
   ]
  },
  {
   "cell_type": "markdown",
   "id": "5a1d9e19-b936-43c8-8f12-20c1e3426bd8",
   "metadata": {},
   "source": [
    "### Merge vax with election results"
   ]
  },
  {
   "cell_type": "code",
   "execution_count": 10,
   "id": "dbb9bb62-0648-4628-8d6c-59a4f0af91fe",
   "metadata": {},
   "outputs": [],
   "source": [
    "merge = pd.merge(\n",
    "    df,\n",
    "    vax_counties[[\"fips\", \"vax_pct\"]],\n",
    "    left_on=\"county_fips\",\n",
    "    right_on=\"fips\",\n",
    "    how=\"left\",\n",
    ")"
   ]
  },
  {
   "cell_type": "code",
   "execution_count": 11,
   "id": "12e23ddb-ccc5-4197-8670-1179532c5ece",
   "metadata": {},
   "outputs": [],
   "source": [
    "merge.drop([\"fips\"], axis=1, inplace=True)"
   ]
  },
  {
   "cell_type": "code",
   "execution_count": 12,
   "id": "a4eb2949-de0e-4058-a58c-018055b63786",
   "metadata": {},
   "outputs": [
    {
     "data": {
      "text/plain": [
       "3152"
      ]
     },
     "execution_count": 12,
     "metadata": {},
     "output_type": "execute_result"
    }
   ],
   "source": [
    "len(merge)"
   ]
  },
  {
   "cell_type": "markdown",
   "id": "026945fc-44b2-4dfd-af43-e115d3dd5169",
   "metadata": {},
   "source": [
    "### What does the merged file look like? "
   ]
  },
  {
   "cell_type": "code",
   "execution_count": 13,
   "id": "d0d818ef-a84e-40b2-b6ba-3d70212340c9",
   "metadata": {},
   "outputs": [
    {
     "data": {
      "text/html": [
       "<div>\n",
       "<style scoped>\n",
       "    .dataframe tbody tr th:only-of-type {\n",
       "        vertical-align: middle;\n",
       "    }\n",
       "\n",
       "    .dataframe tbody tr th {\n",
       "        vertical-align: top;\n",
       "    }\n",
       "\n",
       "    .dataframe thead th {\n",
       "        text-align: right;\n",
       "    }\n",
       "</style>\n",
       "<table border=\"1\" class=\"dataframe\">\n",
       "  <thead>\n",
       "    <tr style=\"text-align: right;\">\n",
       "      <th></th>\n",
       "      <th>state_name</th>\n",
       "      <th>county_fips</th>\n",
       "      <th>county_name</th>\n",
       "      <th>votes_gop</th>\n",
       "      <th>votes_dem</th>\n",
       "      <th>total_votes</th>\n",
       "      <th>margin_dem</th>\n",
       "      <th>margin_gop</th>\n",
       "      <th>pct_dem</th>\n",
       "      <th>pct_gop</th>\n",
       "      <th>dem_diff</th>\n",
       "      <th>gop_diff</th>\n",
       "      <th>winner</th>\n",
       "      <th>vax_pct</th>\n",
       "    </tr>\n",
       "  </thead>\n",
       "  <tbody>\n",
       "    <tr>\n",
       "      <th>0</th>\n",
       "      <td>Alabama</td>\n",
       "      <td>01001</td>\n",
       "      <td>Autauga</td>\n",
       "      <td>19838</td>\n",
       "      <td>7503</td>\n",
       "      <td>27770</td>\n",
       "      <td>-12335</td>\n",
       "      <td>12335</td>\n",
       "      <td>27</td>\n",
       "      <td>71</td>\n",
       "      <td>-44</td>\n",
       "      <td>44</td>\n",
       "      <td>gop</td>\n",
       "      <td>34.7</td>\n",
       "    </tr>\n",
       "    <tr>\n",
       "      <th>1</th>\n",
       "      <td>Alabama</td>\n",
       "      <td>01003</td>\n",
       "      <td>Baldwin</td>\n",
       "      <td>83544</td>\n",
       "      <td>24578</td>\n",
       "      <td>109679</td>\n",
       "      <td>-58966</td>\n",
       "      <td>58966</td>\n",
       "      <td>22</td>\n",
       "      <td>76</td>\n",
       "      <td>-54</td>\n",
       "      <td>54</td>\n",
       "      <td>gop</td>\n",
       "      <td>43.4</td>\n",
       "    </tr>\n",
       "    <tr>\n",
       "      <th>2</th>\n",
       "      <td>Alabama</td>\n",
       "      <td>01005</td>\n",
       "      <td>Barbour</td>\n",
       "      <td>5622</td>\n",
       "      <td>4816</td>\n",
       "      <td>10518</td>\n",
       "      <td>-806</td>\n",
       "      <td>806</td>\n",
       "      <td>46</td>\n",
       "      <td>53</td>\n",
       "      <td>-7</td>\n",
       "      <td>7</td>\n",
       "      <td>gop</td>\n",
       "      <td>36.6</td>\n",
       "    </tr>\n",
       "    <tr>\n",
       "      <th>3</th>\n",
       "      <td>Alabama</td>\n",
       "      <td>01007</td>\n",
       "      <td>Bibb</td>\n",
       "      <td>7525</td>\n",
       "      <td>1986</td>\n",
       "      <td>9595</td>\n",
       "      <td>-5539</td>\n",
       "      <td>5539</td>\n",
       "      <td>21</td>\n",
       "      <td>78</td>\n",
       "      <td>-57</td>\n",
       "      <td>57</td>\n",
       "      <td>gop</td>\n",
       "      <td>30.2</td>\n",
       "    </tr>\n",
       "    <tr>\n",
       "      <th>4</th>\n",
       "      <td>Alabama</td>\n",
       "      <td>01009</td>\n",
       "      <td>Blount</td>\n",
       "      <td>24711</td>\n",
       "      <td>2640</td>\n",
       "      <td>27588</td>\n",
       "      <td>-22071</td>\n",
       "      <td>22071</td>\n",
       "      <td>10</td>\n",
       "      <td>90</td>\n",
       "      <td>-80</td>\n",
       "      <td>80</td>\n",
       "      <td>gop</td>\n",
       "      <td>27.2</td>\n",
       "    </tr>\n",
       "  </tbody>\n",
       "</table>\n",
       "</div>"
      ],
      "text/plain": [
       "  state_name county_fips county_name  votes_gop  votes_dem  total_votes  \\\n",
       "0    Alabama       01001     Autauga      19838       7503        27770   \n",
       "1    Alabama       01003     Baldwin      83544      24578       109679   \n",
       "2    Alabama       01005     Barbour       5622       4816        10518   \n",
       "3    Alabama       01007        Bibb       7525       1986         9595   \n",
       "4    Alabama       01009      Blount      24711       2640        27588   \n",
       "\n",
       "   margin_dem  margin_gop  pct_dem  pct_gop  dem_diff  gop_diff winner  \\\n",
       "0      -12335       12335       27       71       -44        44    gop   \n",
       "1      -58966       58966       22       76       -54        54    gop   \n",
       "2        -806         806       46       53        -7         7    gop   \n",
       "3       -5539        5539       21       78       -57        57    gop   \n",
       "4      -22071       22071       10       90       -80        80    gop   \n",
       "\n",
       "   vax_pct  \n",
       "0     34.7  \n",
       "1     43.4  \n",
       "2     36.6  \n",
       "3     30.2  \n",
       "4     27.2  "
      ]
     },
     "execution_count": 13,
     "metadata": {},
     "output_type": "execute_result"
    }
   ],
   "source": [
    "merge.head()"
   ]
  },
  {
   "cell_type": "markdown",
   "id": "42772856-ea8b-4987-b5c7-a9c040ab1995",
   "metadata": {},
   "source": [
    "---"
   ]
  },
  {
   "cell_type": "code",
   "execution_count": 14,
   "id": "59b47173-a4d9-468b-a14e-ffb201d9d723",
   "metadata": {},
   "outputs": [],
   "source": [
    "merge_slim = merge[[\"state_name\", \"county_name\", \"pct_gop\", \"vax_pct\"]]"
   ]
  },
  {
   "cell_type": "code",
   "execution_count": 15,
   "id": "bacee0b9-e4ab-45bc-ad8d-5fbd27ca5248",
   "metadata": {},
   "outputs": [
    {
     "data": {
      "text/html": [
       "<div>\n",
       "<style scoped>\n",
       "    .dataframe tbody tr th:only-of-type {\n",
       "        vertical-align: middle;\n",
       "    }\n",
       "\n",
       "    .dataframe tbody tr th {\n",
       "        vertical-align: top;\n",
       "    }\n",
       "\n",
       "    .dataframe thead th {\n",
       "        text-align: right;\n",
       "    }\n",
       "</style>\n",
       "<table border=\"1\" class=\"dataframe\">\n",
       "  <thead>\n",
       "    <tr style=\"text-align: right;\">\n",
       "      <th></th>\n",
       "      <th>pct_gop</th>\n",
       "      <th>vax_pct</th>\n",
       "    </tr>\n",
       "  </thead>\n",
       "  <tbody>\n",
       "    <tr>\n",
       "      <th>pct_gop</th>\n",
       "      <td>1.000000</td>\n",
       "      <td>-0.480022</td>\n",
       "    </tr>\n",
       "    <tr>\n",
       "      <th>vax_pct</th>\n",
       "      <td>-0.480022</td>\n",
       "      <td>1.000000</td>\n",
       "    </tr>\n",
       "  </tbody>\n",
       "</table>\n",
       "</div>"
      ],
      "text/plain": [
       "          pct_gop   vax_pct\n",
       "pct_gop  1.000000 -0.480022\n",
       "vax_pct -0.480022  1.000000"
      ]
     },
     "execution_count": 15,
     "metadata": {},
     "output_type": "execute_result"
    }
   ],
   "source": [
    "merge_slim.corr(method=\"pearson\")"
   ]
  },
  {
   "cell_type": "markdown",
   "id": "f1e35814-fbe6-4284-a08e-ebbc08c318a1",
   "metadata": {},
   "source": [
    "---"
   ]
  },
  {
   "cell_type": "markdown",
   "id": "2ec07ac5-308c-4661-ad47-ad73ab6d7991",
   "metadata": {},
   "source": [
    "### Difference between counties won and votes won"
   ]
  },
  {
   "cell_type": "code",
   "execution_count": 16,
   "id": "59959133-0f85-4ac9-8836-14f3e6ed84db",
   "metadata": {},
   "outputs": [
    {
     "data": {
      "text/plain": [
       "gop    2595\n",
       "dem     557\n",
       "Name: winner, dtype: int64"
      ]
     },
     "execution_count": 16,
     "metadata": {},
     "output_type": "execute_result"
    }
   ],
   "source": [
    "merge.winner.value_counts()"
   ]
  },
  {
   "cell_type": "markdown",
   "id": "c4bbc651-5b7d-46f3-952f-dae595cc268e",
   "metadata": {},
   "source": [
    "### Aggregate by winner"
   ]
  },
  {
   "cell_type": "code",
   "execution_count": 17,
   "id": "55b9f34e-454d-4954-ab66-e890ff5769ed",
   "metadata": {},
   "outputs": [
    {
     "data": {
      "text/plain": [
       "74208670"
      ]
     },
     "execution_count": 17,
     "metadata": {},
     "output_type": "execute_result"
    }
   ],
   "source": [
    "merge.votes_gop.sum()"
   ]
  },
  {
   "cell_type": "code",
   "execution_count": 18,
   "id": "2961b65b-dbf7-491c-8e97-841032ccf62a",
   "metadata": {},
   "outputs": [
    {
     "data": {
      "text/plain": [
       "81265196"
      ]
     },
     "execution_count": 18,
     "metadata": {},
     "output_type": "execute_result"
    }
   ],
   "source": [
    "merge.votes_dem.sum()"
   ]
  },
  {
   "cell_type": "code",
   "execution_count": 19,
   "id": "659f627e-5a24-4942-b18a-0ee262b3aa0d",
   "metadata": {},
   "outputs": [
    {
     "data": {
      "text/html": [
       "<div>\n",
       "<style scoped>\n",
       "    .dataframe tbody tr th:only-of-type {\n",
       "        vertical-align: middle;\n",
       "    }\n",
       "\n",
       "    .dataframe tbody tr th {\n",
       "        vertical-align: top;\n",
       "    }\n",
       "\n",
       "    .dataframe thead th {\n",
       "        text-align: right;\n",
       "    }\n",
       "</style>\n",
       "<table border=\"1\" class=\"dataframe\">\n",
       "  <thead>\n",
       "    <tr style=\"text-align: right;\">\n",
       "      <th></th>\n",
       "      <th>winner</th>\n",
       "      <th>total_votes</th>\n",
       "    </tr>\n",
       "  </thead>\n",
       "  <tbody>\n",
       "    <tr>\n",
       "      <th>0</th>\n",
       "      <td>dem</td>\n",
       "      <td>169433.0</td>\n",
       "    </tr>\n",
       "    <tr>\n",
       "      <th>1</th>\n",
       "      <td>gop</td>\n",
       "      <td>24685.0</td>\n",
       "    </tr>\n",
       "  </tbody>\n",
       "</table>\n",
       "</div>"
      ],
      "text/plain": [
       "  winner  total_votes\n",
       "0    dem     169433.0\n",
       "1    gop      24685.0"
      ]
     },
     "execution_count": 19,
     "metadata": {},
     "output_type": "execute_result"
    }
   ],
   "source": [
    "merge.groupby([\"winner\"]).agg({\"total_votes\": \"mean\"}).round(0).reset_index()"
   ]
  },
  {
   "cell_type": "markdown",
   "id": "5f78f1ec-ea5c-4c42-bc6b-91ded06905db",
   "metadata": {},
   "source": [
    "---"
   ]
  },
  {
   "cell_type": "markdown",
   "id": "c734153f-a60b-4f5f-a999-a598f524bd60",
   "metadata": {},
   "source": [
    "### Export"
   ]
  },
  {
   "cell_type": "code",
   "execution_count": 20,
   "id": "5b8d854b-32bc-4336-b376-cc7bab82c44b",
   "metadata": {},
   "outputs": [],
   "source": [
    "merge.to_csv(\"../data/elections/elections_vax_merge.csv\", index=False)"
   ]
  },
  {
   "cell_type": "code",
   "execution_count": 21,
   "id": "1205a607-4044-4b8e-8267-c2bec3aa2099",
   "metadata": {},
   "outputs": [],
   "source": [
    "merge.to_json(\"../data/elections/elections_vax_merge.json\", indent=4, orient=\"records\")"
   ]
  }
 ],
 "metadata": {
  "kernelspec": {
   "display_name": "Python 3",
   "language": "python",
   "name": "python3"
  },
  "language_info": {
   "codemirror_mode": {
    "name": "ipython",
    "version": 3
   },
   "file_extension": ".py",
   "mimetype": "text/x-python",
   "name": "python",
   "nbconvert_exporter": "python",
   "pygments_lexer": "ipython3",
   "version": "3.8.8"
  }
 },
 "nbformat": 4,
 "nbformat_minor": 5
}
