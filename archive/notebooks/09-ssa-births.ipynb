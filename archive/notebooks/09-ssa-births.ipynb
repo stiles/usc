{
 "cells": [
  {
   "cell_type": "markdown",
   "id": "23c641e9-a43b-43c4-ac55-730d9e40272b",
   "metadata": {},
   "source": [
    "# Get Social Security Administration birth totals"
   ]
  },
  {
   "cell_type": "code",
   "execution_count": 1,
   "id": "33e17930-1e4b-43a8-9967-35c424ae92a4",
   "metadata": {},
   "outputs": [],
   "source": [
    "import pandas as pd\n",
    "import requests\n",
    "import altair as alt\n",
    "import numpy as np"
   ]
  },
  {
   "cell_type": "markdown",
   "id": "2f18d875-6507-4367-ac51-6c403178c0b1",
   "metadata": {},
   "source": [
    "### Get url"
   ]
  },
  {
   "cell_type": "code",
   "execution_count": 2,
   "id": "61f37d9c-9dfe-4395-b290-7c7815e76517",
   "metadata": {},
   "outputs": [],
   "source": [
    "url = \"https://www.ssa.gov/oact/babynames/numberUSbirths.html\""
   ]
  },
  {
   "cell_type": "markdown",
   "id": "b64b7514-4371-4b62-98b0-1f6e369171ee",
   "metadata": {},
   "source": [
    "### Read it into a dataframe"
   ]
  },
  {
   "cell_type": "code",
   "execution_count": 3,
   "id": "5e95969b-f75c-4814-abb2-8cc046f785d6",
   "metadata": {},
   "outputs": [],
   "source": [
    "births = pd.read_html(url)[0]"
   ]
  },
  {
   "cell_type": "markdown",
   "id": "c9e4f247-a684-4e9a-8c97-d25c07075355",
   "metadata": {},
   "source": [
    "### Clean up columns"
   ]
  },
  {
   "cell_type": "code",
   "execution_count": 4,
   "id": "b1fdb6f0-73a1-4c0c-822b-8853f10e9132",
   "metadata": {},
   "outputs": [],
   "source": [
    "births.rename(\n",
    "    columns={\n",
    "        \"Year of birth\": \"year\",\n",
    "        \"Male\": \"male\",\n",
    "        \"Female\": \"female\",\n",
    "        \"Total\": \"total\",\n",
    "    },\n",
    "    inplace=True,\n",
    ")"
   ]
  },
  {
   "cell_type": "markdown",
   "id": "e8851d69-5c70-4b69-8c63-ff89dea4514e",
   "metadata": {},
   "source": [
    "### Convert year"
   ]
  },
  {
   "cell_type": "code",
   "execution_count": 5,
   "id": "2bc9f625-0663-4595-9540-1595b7bb6a8b",
   "metadata": {},
   "outputs": [],
   "source": [
    "births.year = births.year.astype(str)"
   ]
  },
  {
   "cell_type": "markdown",
   "id": "b3c9a935-e580-4de8-b69a-35095d17d05e",
   "metadata": {},
   "source": [
    "### Chart it"
   ]
  },
  {
   "cell_type": "code",
   "execution_count": 6,
   "id": "897495e9-b995-4248-98e8-9d1beca9fd37",
   "metadata": {},
   "outputs": [
    {
     "data": {
      "text/html": [
       "\n",
       "<div id=\"altair-viz-b62f5e85fe4841da915a70a4b16eaa35\"></div>\n",
       "<script type=\"text/javascript\">\n",
       "  (function(spec, embedOpt){\n",
       "    let outputDiv = document.currentScript.previousElementSibling;\n",
       "    if (outputDiv.id !== \"altair-viz-b62f5e85fe4841da915a70a4b16eaa35\") {\n",
       "      outputDiv = document.getElementById(\"altair-viz-b62f5e85fe4841da915a70a4b16eaa35\");\n",
       "    }\n",
       "    const paths = {\n",
       "      \"vega\": \"https://cdn.jsdelivr.net/npm//vega@5?noext\",\n",
       "      \"vega-lib\": \"https://cdn.jsdelivr.net/npm//vega-lib?noext\",\n",
       "      \"vega-lite\": \"https://cdn.jsdelivr.net/npm//vega-lite@4.8.1?noext\",\n",
       "      \"vega-embed\": \"https://cdn.jsdelivr.net/npm//vega-embed@6?noext\",\n",
       "    };\n",
       "\n",
       "    function loadScript(lib) {\n",
       "      return new Promise(function(resolve, reject) {\n",
       "        var s = document.createElement('script');\n",
       "        s.src = paths[lib];\n",
       "        s.async = true;\n",
       "        s.onload = () => resolve(paths[lib]);\n",
       "        s.onerror = () => reject(`Error loading script: ${paths[lib]}`);\n",
       "        document.getElementsByTagName(\"head\")[0].appendChild(s);\n",
       "      });\n",
       "    }\n",
       "\n",
       "    function showError(err) {\n",
       "      outputDiv.innerHTML = `<div class=\"error\" style=\"color:red;\">${err}</div>`;\n",
       "      throw err;\n",
       "    }\n",
       "\n",
       "    function displayChart(vegaEmbed) {\n",
       "      vegaEmbed(outputDiv, spec, embedOpt)\n",
       "        .catch(err => showError(`Javascript Error: ${err.message}<br>This usually means there's a typo in your chart specification. See the javascript console for the full traceback.`));\n",
       "    }\n",
       "\n",
       "    if(typeof define === \"function\" && define.amd) {\n",
       "      requirejs.config({paths});\n",
       "      require([\"vega-embed\"], displayChart, err => showError(`Error loading script: ${err.message}`));\n",
       "    } else if (typeof vegaEmbed === \"function\") {\n",
       "      displayChart(vegaEmbed);\n",
       "    } else {\n",
       "      loadScript(\"vega\")\n",
       "        .then(() => loadScript(\"vega-lite\"))\n",
       "        .then(() => loadScript(\"vega-embed\"))\n",
       "        .catch(showError)\n",
       "        .then(() => displayChart(vegaEmbed));\n",
       "    }\n",
       "  })({\"config\": {\"view\": {\"continuousWidth\": 400, \"continuousHeight\": 300}}, \"data\": {\"name\": \"data-298709662dc859ca198b302731b308a0\"}, \"mark\": {\"type\": \"bar\", \"color\": \"red\"}, \"encoding\": {\"x\": {\"type\": \"temporal\", \"axis\": {\"tickCount\": 20}, \"field\": \"year\"}, \"y\": {\"type\": \"quantitative\", \"field\": \"total\"}}, \"title\": \"Births by year\", \"width\": 900, \"$schema\": \"https://vega.github.io/schema/vega-lite/v4.8.1.json\", \"datasets\": {\"data-298709662dc859ca198b302731b308a0\": [{\"year\": \"1880\", \"male\": 118399, \"female\": 97606, \"total\": 216005}, {\"year\": \"1881\", \"male\": 108280, \"female\": 98855, \"total\": 207135}, {\"year\": \"1882\", \"male\": 122031, \"female\": 115694, \"total\": 237725}, {\"year\": \"1883\", \"male\": 112475, \"female\": 120059, \"total\": 232534}, {\"year\": \"1884\", \"male\": 122738, \"female\": 137585, \"total\": 260323}, {\"year\": \"1885\", \"male\": 115945, \"female\": 141947, \"total\": 257892}, {\"year\": \"1886\", \"male\": 119041, \"female\": 153735, \"total\": 272776}, {\"year\": \"1887\", \"male\": 109311, \"female\": 155423, \"total\": 264734}, {\"year\": \"1888\", \"male\": 129906, \"female\": 189445, \"total\": 319351}, {\"year\": \"1889\", \"male\": 119032, \"female\": 189218, \"total\": 308250}, {\"year\": \"1890\", \"male\": 119700, \"female\": 201662, \"total\": 321362}, {\"year\": \"1891\", \"male\": 109265, \"female\": 196565, \"total\": 305830}, {\"year\": \"1892\", \"male\": 131452, \"female\": 224913, \"total\": 356365}, {\"year\": \"1893\", \"male\": 121042, \"female\": 225232, \"total\": 346274}, {\"year\": \"1894\", \"male\": 124893, \"female\": 235972, \"total\": 360865}, {\"year\": \"1895\", \"male\": 126643, \"female\": 247106, \"total\": 373749}, {\"year\": \"1896\", \"male\": 129070, \"female\": 251993, \"total\": 381063}, {\"year\": \"1897\", \"male\": 121942, \"female\": 248275, \"total\": 370217}, {\"year\": \"1898\", \"male\": 132100, \"female\": 274146, \"total\": 406246}, {\"year\": \"1899\", \"male\": 115193, \"female\": 247489, \"total\": 362682}, {\"year\": \"1900\", \"male\": 162128, \"female\": 317744, \"total\": 479872}, {\"year\": \"1901\", \"male\": 115594, \"female\": 254229, \"total\": 369823}, {\"year\": \"1902\", \"male\": 132748, \"female\": 280332, \"total\": 413080}, {\"year\": \"1903\", \"male\": 129322, \"female\": 278195, \"total\": 407517}, {\"year\": \"1904\", \"male\": 138507, \"female\": 292434, \"total\": 430941}, {\"year\": \"1905\", \"male\": 143234, \"female\": 309865, \"total\": 453099}, {\"year\": \"1906\", \"male\": 144067, \"female\": 313437, \"total\": 457504}, {\"year\": \"1907\", \"male\": 158585, \"female\": 337434, \"total\": 496019}, {\"year\": \"1908\", \"male\": 166367, \"female\": 354532, \"total\": 520899}, {\"year\": \"1909\", \"male\": 176865, \"female\": 368096, \"total\": 544961}, {\"year\": \"1910\", \"male\": 208518, \"female\": 419528, \"total\": 628046}, {\"year\": \"1911\", \"male\": 241397, \"female\": 441818, \"total\": 683215}, {\"year\": \"1912\", \"male\": 451455, \"female\": 586717, \"total\": 1038172}, {\"year\": \"1913\", \"male\": 536246, \"female\": 654915, \"total\": 1191161}, {\"year\": \"1914\", \"male\": 683323, \"female\": 796627, \"total\": 1479950}, {\"year\": \"1915\", \"male\": 880929, \"female\": 1023870, \"total\": 1904799}, {\"year\": \"1916\", \"male\": 923251, \"female\": 1085721, \"total\": 2008972}, {\"year\": \"1917\", \"male\": 959314, \"female\": 1123692, \"total\": 2083006}, {\"year\": \"1918\", \"male\": 1048658, \"female\": 1202362, \"total\": 2251020}, {\"year\": \"1919\", \"male\": 1015343, \"female\": 1174649, \"total\": 2189992}, {\"year\": \"1920\", \"male\": 1100802, \"female\": 1244037, \"total\": 2344839}, {\"year\": \"1921\", \"male\": 1137940, \"female\": 1279728, \"total\": 2417668}, {\"year\": \"1922\", \"male\": 1125222, \"female\": 1247582, \"total\": 2372804}, {\"year\": \"1923\", \"male\": 1132293, \"female\": 1252480, \"total\": 2384773}, {\"year\": \"1924\", \"male\": 1169071, \"female\": 1295700, \"total\": 2464771}, {\"year\": \"1925\", \"male\": 1151445, \"female\": 1263102, \"total\": 2414547}, {\"year\": \"1926\", \"male\": 1145471, \"female\": 1230175, \"total\": 2375646}, {\"year\": \"1927\", \"male\": 1161935, \"female\": 1236418, \"total\": 2398353}, {\"year\": \"1928\", \"male\": 1141201, \"female\": 1195551, \"total\": 2336752}, {\"year\": \"1929\", \"male\": 1107635, \"female\": 1157561, \"total\": 2265196}, {\"year\": \"1930\", \"male\": 1129535, \"female\": 1166496, \"total\": 2296031}, {\"year\": \"1931\", \"male\": 1069758, \"female\": 1103712, \"total\": 2173470}, {\"year\": \"1932\", \"male\": 1074417, \"female\": 1106280, \"total\": 2180697}, {\"year\": \"1933\", \"male\": 1020132, \"female\": 1045996, \"total\": 2066128}, {\"year\": \"1934\", \"male\": 1061843, \"female\": 1082318, \"total\": 2144161}, {\"year\": \"1935\", \"male\": 1069541, \"female\": 1086745, \"total\": 2156286}, {\"year\": \"1936\", \"male\": 1064269, \"female\": 1077533, \"total\": 2141802}, {\"year\": \"1937\", \"male\": 1093604, \"female\": 1101832, \"total\": 2195436}, {\"year\": \"1938\", \"male\": 1136449, \"female\": 1141443, \"total\": 2277892}, {\"year\": \"1939\", \"male\": 1133264, \"female\": 1134071, \"total\": 2267335}, {\"year\": \"1940\", \"male\": 1186119, \"female\": 1181296, \"total\": 2367415}, {\"year\": \"1941\", \"male\": 1254790, \"female\": 1245944, \"total\": 2500734}, {\"year\": \"1942\", \"male\": 1408212, \"female\": 1390473, \"total\": 2798685}, {\"year\": \"1943\", \"male\": 1454534, \"female\": 1435357, \"total\": 2889891}, {\"year\": \"1944\", \"male\": 1389101, \"female\": 1366499, \"total\": 2755600}, {\"year\": \"1945\", \"male\": 1371401, \"female\": 1346093, \"total\": 2717494}, {\"year\": \"1946\", \"male\": 1650307, \"female\": 1612887, \"total\": 3263194}, {\"year\": \"1947\", \"male\": 1857537, \"female\": 1817844, \"total\": 3675381}, {\"year\": \"1948\", \"male\": 1782694, \"female\": 1742619, \"total\": 3525313}, {\"year\": \"1949\", \"male\": 1801962, \"female\": 1755518, \"total\": 3557480}, {\"year\": \"1950\", \"male\": 1818961, \"female\": 1758532, \"total\": 3577493}, {\"year\": \"1951\", \"male\": 1911710, \"female\": 1847276, \"total\": 3758986}, {\"year\": \"1952\", \"male\": 1973383, \"female\": 1901995, \"total\": 3875378}, {\"year\": \"1953\", \"male\": 2002250, \"female\": 1929497, \"total\": 3931747}, {\"year\": \"1954\", \"male\": 2069388, \"female\": 1990980, \"total\": 4060368}, {\"year\": \"1955\", \"male\": 2090634, \"female\": 2004989, \"total\": 4095623}, {\"year\": \"1956\", \"male\": 2145337, \"female\": 2059447, \"total\": 4204784}, {\"year\": \"1957\", \"male\": 2188110, \"female\": 2097885, \"total\": 4285995}, {\"year\": \"1958\", \"male\": 2153726, \"female\": 2065355, \"total\": 4219081}, {\"year\": \"1959\", \"male\": 2166024, \"female\": 2078386, \"total\": 4244410}, {\"year\": \"1960\", \"male\": 2165427, \"female\": 2079852, \"total\": 4245279}, {\"year\": \"1961\", \"male\": 2156167, \"female\": 2076596, \"total\": 4232763}, {\"year\": \"1962\", \"male\": 2102063, \"female\": 2027001, \"total\": 4129064}, {\"year\": \"1963\", \"male\": 2065085, \"female\": 1988027, \"total\": 4053112}, {\"year\": \"1964\", \"male\": 2027281, \"female\": 1957374, \"total\": 3984655}, {\"year\": \"1965\", \"male\": 1895047, \"female\": 1827419, \"total\": 3722466}, {\"year\": \"1966\", \"male\": 1817860, \"female\": 1755670, \"total\": 3573530}, {\"year\": \"1967\", \"male\": 1779736, \"female\": 1716811, \"total\": 3496547}, {\"year\": \"1968\", \"male\": 1775955, \"female\": 1709628, \"total\": 3485583}, {\"year\": \"1969\", \"male\": 1829798, \"female\": 1762754, \"total\": 3592552}, {\"year\": \"1970\", \"male\": 1905485, \"female\": 1831900, \"total\": 3737385}, {\"year\": \"1971\", \"male\": 1818380, \"female\": 1752473, \"total\": 3570853}, {\"year\": \"1972\", \"male\": 1674616, \"female\": 1612520, \"total\": 3287136}, {\"year\": \"1973\", \"male\": 1614174, \"female\": 1554111, \"total\": 3168285}, {\"year\": \"1974\", \"male\": 1630742, \"female\": 1566194, \"total\": 3196936}, {\"year\": \"1975\", \"male\": 1623078, \"female\": 1560867, \"total\": 3183945}, {\"year\": \"1976\", \"male\": 1633194, \"female\": 1571923, \"total\": 3205117}, {\"year\": \"1977\", \"male\": 1709921, \"female\": 1645014, \"total\": 3354935}, {\"year\": \"1978\", \"male\": 1709262, \"female\": 1643878, \"total\": 3353140}, {\"year\": \"1979\", \"male\": 1791950, \"female\": 1723300, \"total\": 3515250}, {\"year\": \"1980\", \"male\": 1855318, \"female\": 1780623, \"total\": 3635941}, {\"year\": \"1981\", \"male\": 1862800, \"female\": 1788473, \"total\": 3651273}, {\"year\": \"1982\", \"male\": 1887562, \"female\": 1814281, \"total\": 3701843}, {\"year\": \"1983\", \"male\": 1863881, \"female\": 1789590, \"total\": 3653471}, {\"year\": \"1984\", \"male\": 1876837, \"female\": 1803203, \"total\": 3680040}, {\"year\": \"1985\", \"male\": 1924390, \"female\": 1846211, \"total\": 3770601}, {\"year\": \"1986\", \"male\": 1921601, \"female\": 1845376, \"total\": 3766977}, {\"year\": \"1987\", \"male\": 1950068, \"female\": 1874089, \"total\": 3824157}, {\"year\": \"1988\", \"male\": 2001977, \"female\": 1922913, \"total\": 3924890}, {\"year\": \"1989\", \"male\": 2095879, \"female\": 1992102, \"total\": 4087981}, {\"year\": \"1990\", \"male\": 2151718, \"female\": 2054239, \"total\": 4205957}, {\"year\": \"1991\", \"male\": 2119489, \"female\": 2033303, \"total\": 4152792}, {\"year\": \"1992\", \"male\": 2098942, \"female\": 2004490, \"total\": 4103432}, {\"year\": \"1993\", \"male\": 2065241, \"female\": 1971376, \"total\": 4036617}, {\"year\": \"1994\", \"male\": 2038147, \"female\": 1949207, \"total\": 3987354}, {\"year\": \"1995\", \"male\": 2011158, \"female\": 1921402, \"total\": 3932560}, {\"year\": \"1996\", \"male\": 2003535, \"female\": 1917062, \"total\": 3920597}, {\"year\": \"1997\", \"male\": 1997631, \"female\": 1909075, \"total\": 3906706}, {\"year\": \"1998\", \"male\": 2027468, \"female\": 1938316, \"total\": 3965784}, {\"year\": \"1999\", \"male\": 2038777, \"female\": 1946561, \"total\": 3985338}, {\"year\": \"2000\", \"male\": 2087895, \"female\": 1995340, \"total\": 4083235}, {\"year\": \"2001\", \"male\": 2067937, \"female\": 1980498, \"total\": 4048435}, {\"year\": \"2002\", \"male\": 2066133, \"female\": 1974571, \"total\": 4040704}, {\"year\": \"2003\", \"male\": 2100670, \"female\": 2006036, \"total\": 4106706}, {\"year\": \"2004\", \"male\": 2112803, \"female\": 2017272, \"total\": 4130075}, {\"year\": \"2005\", \"male\": 2126696, \"female\": 2028915, \"total\": 4155611}, {\"year\": \"2006\", \"male\": 2191611, \"female\": 2089743, \"total\": 4281354}, {\"year\": \"2007\", \"male\": 2214309, \"female\": 2115697, \"total\": 4330006}, {\"year\": \"2008\", \"male\": 2179535, \"female\": 2081968, \"total\": 4261503}, {\"year\": \"2009\", \"male\": 2120035, \"female\": 2024110, \"total\": 4144145}, {\"year\": \"2010\", \"male\": 2053404, \"female\": 1959586, \"total\": 4012990}, {\"year\": \"2011\", \"male\": 2030102, \"female\": 1936458, \"total\": 3966560}, {\"year\": \"2012\", \"male\": 2027770, \"female\": 1938028, \"total\": 3965798}, {\"year\": \"2013\", \"male\": 2019062, \"female\": 1926017, \"total\": 3945079}, {\"year\": \"2014\", \"male\": 2047308, \"female\": 1954449, \"total\": 4001757}, {\"year\": \"2015\", \"male\": 2042095, \"female\": 1948706, \"total\": 3990801}, {\"year\": \"2016\", \"male\": 2022858, \"female\": 1933195, \"total\": 3956053}, {\"year\": \"2017\", \"male\": 1975558, \"female\": 1885970, \"total\": 3861528}, {\"year\": \"2018\", \"male\": 1939284, \"female\": 1855454, \"total\": 3794738}, {\"year\": \"2019\", \"male\": 1914661, \"female\": 1828242, \"total\": 3742903}, {\"year\": \"2020\", \"male\": 1831432, \"female\": 1751046, \"total\": 3582478}]}}, {\"mode\": \"vega-lite\"});\n",
       "</script>"
      ],
      "text/plain": [
       "alt.Chart(...)"
      ]
     },
     "execution_count": 6,
     "metadata": {},
     "output_type": "execute_result"
    }
   ],
   "source": [
    "alt.Chart(births).mark_bar(color='red').encode(\n",
    "    x=alt.X('year:T', axis=alt.Axis(tickCount=20)),\n",
    "    y='total'\n",
    ").properties(title='Births by year', width=900)"
   ]
  },
  {
   "cell_type": "code",
   "execution_count": 7,
   "id": "32f0afef-a0d2-4a99-abc1-ffdf19fe615e",
   "metadata": {},
   "outputs": [],
   "source": [
    "births.to_csv('data/ssa_births.csv', index=False)"
   ]
  }
 ],
 "metadata": {
  "kernelspec": {
   "display_name": "Python 3",
   "language": "python",
   "name": "python3"
  },
  "language_info": {
   "codemirror_mode": {
    "name": "ipython",
    "version": 3
   },
   "file_extension": ".py",
   "mimetype": "text/x-python",
   "name": "python",
   "nbconvert_exporter": "python",
   "pygments_lexer": "ipython3",
   "version": "3.8.8"
  }
 },
 "nbformat": 4,
 "nbformat_minor": 5
}
