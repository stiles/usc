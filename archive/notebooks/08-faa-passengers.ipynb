{
 "cells": [
  {
   "cell_type": "markdown",
   "id": "23c641e9-a43b-43c4-ac55-730d9e40272b",
   "metadata": {},
   "source": [
    "# FAA unruly passenger investigations initiated"
   ]
  },
  {
   "cell_type": "code",
   "execution_count": 1,
   "id": "33e17930-1e4b-43a8-9967-35c424ae92a4",
   "metadata": {},
   "outputs": [],
   "source": [
    "import pandas as pd\n",
    "import requests\n",
    "import altair as alt\n",
    "import numpy as np"
   ]
  },
  {
   "cell_type": "markdown",
   "id": "2f18d875-6507-4367-ac51-6c403178c0b1",
   "metadata": {},
   "source": [
    "### Get url"
   ]
  },
  {
   "cell_type": "code",
   "execution_count": 2,
   "id": "28c1f5c4-afda-4482-bc3f-5a408912aa55",
   "metadata": {},
   "outputs": [],
   "source": [
    "url = 'https://www.faa.gov/data_research/passengers_cargo/unruly_passengers/'"
   ]
  },
  {
   "cell_type": "markdown",
   "id": "6719fe65-8019-4c7f-a27f-1479265e44be",
   "metadata": {},
   "source": [
    "### Grab the page and extract the table"
   ]
  },
  {
   "cell_type": "code",
   "execution_count": 3,
   "id": "77760f80-7e81-4c30-a629-5dae11478f05",
   "metadata": {},
   "outputs": [],
   "source": [
    "response = requests.get(url)\n",
    "table = pd.read_html(response.text, attrs={'class':'striped'})"
   ]
  },
  {
   "cell_type": "markdown",
   "id": "24387c49-3825-40c4-b927-3061c8ba35ab",
   "metadata": {},
   "source": [
    "### Convert the table - a single item in a list - into a dataframe"
   ]
  },
  {
   "cell_type": "code",
   "execution_count": 4,
   "id": "2fb014e9-40fe-4b23-8e29-7dffe1f9c9ad",
   "metadata": {},
   "outputs": [],
   "source": [
    "df = pd.DataFrame(table[0])"
   ]
  },
  {
   "cell_type": "markdown",
   "id": "e8038f0a-54db-420f-be8d-99bf798ba11d",
   "metadata": {},
   "source": [
    "### Clean up columns, types in dataframe"
   ]
  },
  {
   "cell_type": "code",
   "execution_count": 5,
   "id": "0e706671-86e6-424b-b6a3-a3ce987db3d1",
   "metadata": {},
   "outputs": [],
   "source": [
    "df.columns = ['year', 'investigations']"
   ]
  },
  {
   "cell_type": "code",
   "execution_count": 6,
   "id": "d77dee69-3522-4cb8-b3dc-bb9bdabef785",
   "metadata": {},
   "outputs": [],
   "source": [
    "df['year'] = df['year'].astype(str)"
   ]
  },
  {
   "cell_type": "code",
   "execution_count": 7,
   "id": "c8f488a9-6815-4ee7-a6a7-077d5cc80388",
   "metadata": {},
   "outputs": [
    {
     "data": {
      "text/html": [
       "<div>\n",
       "<style scoped>\n",
       "    .dataframe tbody tr th:only-of-type {\n",
       "        vertical-align: middle;\n",
       "    }\n",
       "\n",
       "    .dataframe tbody tr th {\n",
       "        vertical-align: top;\n",
       "    }\n",
       "\n",
       "    .dataframe thead th {\n",
       "        text-align: right;\n",
       "    }\n",
       "</style>\n",
       "<table border=\"1\" class=\"dataframe\">\n",
       "  <thead>\n",
       "    <tr style=\"text-align: right;\">\n",
       "      <th></th>\n",
       "      <th>year</th>\n",
       "      <th>investigations</th>\n",
       "    </tr>\n",
       "  </thead>\n",
       "  <tbody>\n",
       "    <tr>\n",
       "      <th>0</th>\n",
       "      <td>1995</td>\n",
       "      <td>146</td>\n",
       "    </tr>\n",
       "    <tr>\n",
       "      <th>1</th>\n",
       "      <td>1996</td>\n",
       "      <td>184</td>\n",
       "    </tr>\n",
       "    <tr>\n",
       "      <th>2</th>\n",
       "      <td>1997</td>\n",
       "      <td>237</td>\n",
       "    </tr>\n",
       "    <tr>\n",
       "      <th>3</th>\n",
       "      <td>1998</td>\n",
       "      <td>204</td>\n",
       "    </tr>\n",
       "    <tr>\n",
       "      <th>4</th>\n",
       "      <td>1999</td>\n",
       "      <td>226</td>\n",
       "    </tr>\n",
       "    <tr>\n",
       "      <th>5</th>\n",
       "      <td>2000</td>\n",
       "      <td>255</td>\n",
       "    </tr>\n",
       "    <tr>\n",
       "      <th>6</th>\n",
       "      <td>2001</td>\n",
       "      <td>305</td>\n",
       "    </tr>\n",
       "    <tr>\n",
       "      <th>7</th>\n",
       "      <td>2002</td>\n",
       "      <td>279</td>\n",
       "    </tr>\n",
       "    <tr>\n",
       "      <th>8</th>\n",
       "      <td>2003</td>\n",
       "      <td>286</td>\n",
       "    </tr>\n",
       "    <tr>\n",
       "      <th>9</th>\n",
       "      <td>2004</td>\n",
       "      <td>310</td>\n",
       "    </tr>\n",
       "    <tr>\n",
       "      <th>10</th>\n",
       "      <td>2005</td>\n",
       "      <td>205</td>\n",
       "    </tr>\n",
       "    <tr>\n",
       "      <th>11</th>\n",
       "      <td>2006</td>\n",
       "      <td>137</td>\n",
       "    </tr>\n",
       "    <tr>\n",
       "      <th>12</th>\n",
       "      <td>2007</td>\n",
       "      <td>153</td>\n",
       "    </tr>\n",
       "    <tr>\n",
       "      <th>13</th>\n",
       "      <td>2008</td>\n",
       "      <td>124</td>\n",
       "    </tr>\n",
       "    <tr>\n",
       "      <th>14</th>\n",
       "      <td>2009</td>\n",
       "      <td>139</td>\n",
       "    </tr>\n",
       "    <tr>\n",
       "      <th>15</th>\n",
       "      <td>2010</td>\n",
       "      <td>128</td>\n",
       "    </tr>\n",
       "    <tr>\n",
       "      <th>16</th>\n",
       "      <td>2011</td>\n",
       "      <td>155</td>\n",
       "    </tr>\n",
       "    <tr>\n",
       "      <th>17</th>\n",
       "      <td>2012</td>\n",
       "      <td>183</td>\n",
       "    </tr>\n",
       "    <tr>\n",
       "      <th>18</th>\n",
       "      <td>2013</td>\n",
       "      <td>149</td>\n",
       "    </tr>\n",
       "    <tr>\n",
       "      <th>19</th>\n",
       "      <td>2014</td>\n",
       "      <td>147</td>\n",
       "    </tr>\n",
       "    <tr>\n",
       "      <th>20</th>\n",
       "      <td>2015</td>\n",
       "      <td>105</td>\n",
       "    </tr>\n",
       "    <tr>\n",
       "      <th>21</th>\n",
       "      <td>2016</td>\n",
       "      <td>102</td>\n",
       "    </tr>\n",
       "    <tr>\n",
       "      <th>22</th>\n",
       "      <td>2017</td>\n",
       "      <td>91</td>\n",
       "    </tr>\n",
       "    <tr>\n",
       "      <th>23</th>\n",
       "      <td>2018</td>\n",
       "      <td>159</td>\n",
       "    </tr>\n",
       "    <tr>\n",
       "      <th>24</th>\n",
       "      <td>2019</td>\n",
       "      <td>146</td>\n",
       "    </tr>\n",
       "    <tr>\n",
       "      <th>25</th>\n",
       "      <td>2020</td>\n",
       "      <td>183</td>\n",
       "    </tr>\n",
       "    <tr>\n",
       "      <th>26</th>\n",
       "      <td>2021</td>\n",
       "      <td>906</td>\n",
       "    </tr>\n",
       "  </tbody>\n",
       "</table>\n",
       "</div>"
      ],
      "text/plain": [
       "    year  investigations\n",
       "0   1995             146\n",
       "1   1996             184\n",
       "2   1997             237\n",
       "3   1998             204\n",
       "4   1999             226\n",
       "5   2000             255\n",
       "6   2001             305\n",
       "7   2002             279\n",
       "8   2003             286\n",
       "9   2004             310\n",
       "10  2005             205\n",
       "11  2006             137\n",
       "12  2007             153\n",
       "13  2008             124\n",
       "14  2009             139\n",
       "15  2010             128\n",
       "16  2011             155\n",
       "17  2012             183\n",
       "18  2013             149\n",
       "19  2014             147\n",
       "20  2015             105\n",
       "21  2016             102\n",
       "22  2017              91\n",
       "23  2018             159\n",
       "24  2019             146\n",
       "25  2020             183\n",
       "26  2021             906"
      ]
     },
     "execution_count": 7,
     "metadata": {},
     "output_type": "execute_result"
    }
   ],
   "source": [
    "df"
   ]
  },
  {
   "cell_type": "markdown",
   "id": "134854b7-f8f4-4d73-afcf-8df3950a2701",
   "metadata": {},
   "source": [
    "---"
   ]
  },
  {
   "cell_type": "markdown",
   "id": "af8087f2-83eb-4586-84bb-abdfd8edd36e",
   "metadata": {},
   "source": [
    "### Descriptives"
   ]
  },
  {
   "cell_type": "code",
   "execution_count": 8,
   "id": "bfd09c60-85d7-4699-b5ff-5c30dfec73fd",
   "metadata": {},
   "outputs": [
    {
     "data": {
      "text/plain": [
       "209.04"
      ]
     },
     "execution_count": 8,
     "metadata": {},
     "output_type": "execute_result"
    }
   ],
   "source": [
    "# Annual investigations, on average? \n",
    "round(df.investigations.mean(), 2)"
   ]
  },
  {
   "cell_type": "code",
   "execution_count": 9,
   "id": "a80c97fb-36e1-4b75-8345-97b31f5c7d52",
   "metadata": {},
   "outputs": [
    {
     "data": {
      "text/plain": [
       "159.0"
      ]
     },
     "execution_count": 9,
     "metadata": {},
     "output_type": "execute_result"
    }
   ],
   "source": [
    "# Median?\n",
    "round(df.investigations.median(), 2)"
   ]
  },
  {
   "cell_type": "code",
   "execution_count": 10,
   "id": "f9f4b750-3c4d-483c-8527-5da975b7c488",
   "metadata": {},
   "outputs": [
    {
     "data": {
      "text/plain": [
       "906"
      ]
     },
     "execution_count": 10,
     "metadata": {},
     "output_type": "execute_result"
    }
   ],
   "source": [
    "# Annual investigations max\n",
    "round(df.investigations.max(), 2)"
   ]
  },
  {
   "cell_type": "markdown",
   "id": "6c98cbe9-0805-42f2-a354-c8633745813b",
   "metadata": {},
   "source": [
    "### What's the average from 1995-2020?"
   ]
  },
  {
   "cell_type": "code",
   "execution_count": 11,
   "id": "72439eab-549d-412b-8adb-202eae1a176a",
   "metadata": {},
   "outputs": [],
   "source": [
    "mean_cases = df[df['year'] < '2020']['investigations'].mean()"
   ]
  },
  {
   "cell_type": "code",
   "execution_count": 12,
   "id": "a22f04bb-0f7d-418b-a3d0-912ee8a804d8",
   "metadata": {},
   "outputs": [
    {
     "data": {
      "text/plain": [
       "182.2"
      ]
     },
     "execution_count": 12,
     "metadata": {},
     "output_type": "execute_result"
    }
   ],
   "source": [
    "mean_cases"
   ]
  },
  {
   "cell_type": "markdown",
   "id": "2905d66f-3e48-4229-b430-f2340a7ff2a0",
   "metadata": {},
   "source": [
    "### Versus this year? "
   ]
  },
  {
   "cell_type": "code",
   "execution_count": 13,
   "id": "a5975635-ec1b-44ab-a2bb-8a22063d40ff",
   "metadata": {},
   "outputs": [],
   "source": [
    "this_year = df[df['year'] == '2021']['investigations'].sum()"
   ]
  },
  {
   "cell_type": "code",
   "execution_count": 14,
   "id": "c1b009f0-9ff3-4d1e-b94c-fb3df372c873",
   "metadata": {},
   "outputs": [
    {
     "data": {
      "text/plain": [
       "906"
      ]
     },
     "execution_count": 14,
     "metadata": {},
     "output_type": "execute_result"
    }
   ],
   "source": [
    "this_year"
   ]
  },
  {
   "cell_type": "markdown",
   "id": "b93eba54-6b5f-4f46-8625-509c684fbad5",
   "metadata": {},
   "source": [
    "### % change from mean in 2021"
   ]
  },
  {
   "cell_type": "code",
   "execution_count": 15,
   "id": "0601bf1b-64c9-471a-823a-3905ac9232c5",
   "metadata": {},
   "outputs": [],
   "source": [
    "change = ((this_year - mean_cases)/mean_cases*100).round()"
   ]
  },
  {
   "cell_type": "code",
   "execution_count": 16,
   "id": "fe7901f0-d8a8-48b5-a78e-55dbef38a1e2",
   "metadata": {},
   "outputs": [
    {
     "data": {
      "text/plain": [
       "397.0"
      ]
     },
     "execution_count": 16,
     "metadata": {},
     "output_type": "execute_result"
    }
   ],
   "source": [
    "change"
   ]
  },
  {
   "cell_type": "markdown",
   "id": "5d00af4c-ab74-4d2f-b889-10539a8f8972",
   "metadata": {},
   "source": [
    "### How many cases in the last decade?"
   ]
  },
  {
   "cell_type": "code",
   "execution_count": 23,
   "id": "206c94dc-2e9c-4dc4-81dc-072fa995959b",
   "metadata": {},
   "outputs": [],
   "source": [
    "five_years = df[(df['year'] > '2015') & (df['year'] < '2021')]"
   ]
  },
  {
   "cell_type": "code",
   "execution_count": 26,
   "id": "19883d6e-4447-45a4-94c5-173bc5fed46a",
   "metadata": {},
   "outputs": [
    {
     "data": {
      "text/plain": [
       "681"
      ]
     },
     "execution_count": 26,
     "metadata": {},
     "output_type": "execute_result"
    }
   ],
   "source": [
    "five_years['investigations'].sum()"
   ]
  },
  {
   "cell_type": "markdown",
   "id": "b3c9a935-e580-4de8-b69a-35095d17d05e",
   "metadata": {},
   "source": [
    "### Chart it"
   ]
  },
  {
   "cell_type": "code",
   "execution_count": 19,
   "id": "897495e9-b995-4248-98e8-9d1beca9fd37",
   "metadata": {},
   "outputs": [
    {
     "data": {
      "text/html": [
       "\n",
       "<div id=\"altair-viz-afe35daf879b49bda2383c8b612a9793\"></div>\n",
       "<script type=\"text/javascript\">\n",
       "  (function(spec, embedOpt){\n",
       "    let outputDiv = document.currentScript.previousElementSibling;\n",
       "    if (outputDiv.id !== \"altair-viz-afe35daf879b49bda2383c8b612a9793\") {\n",
       "      outputDiv = document.getElementById(\"altair-viz-afe35daf879b49bda2383c8b612a9793\");\n",
       "    }\n",
       "    const paths = {\n",
       "      \"vega\": \"https://cdn.jsdelivr.net/npm//vega@5?noext\",\n",
       "      \"vega-lib\": \"https://cdn.jsdelivr.net/npm//vega-lib?noext\",\n",
       "      \"vega-lite\": \"https://cdn.jsdelivr.net/npm//vega-lite@4.8.1?noext\",\n",
       "      \"vega-embed\": \"https://cdn.jsdelivr.net/npm//vega-embed@6?noext\",\n",
       "    };\n",
       "\n",
       "    function loadScript(lib) {\n",
       "      return new Promise(function(resolve, reject) {\n",
       "        var s = document.createElement('script');\n",
       "        s.src = paths[lib];\n",
       "        s.async = true;\n",
       "        s.onload = () => resolve(paths[lib]);\n",
       "        s.onerror = () => reject(`Error loading script: ${paths[lib]}`);\n",
       "        document.getElementsByTagName(\"head\")[0].appendChild(s);\n",
       "      });\n",
       "    }\n",
       "\n",
       "    function showError(err) {\n",
       "      outputDiv.innerHTML = `<div class=\"error\" style=\"color:red;\">${err}</div>`;\n",
       "      throw err;\n",
       "    }\n",
       "\n",
       "    function displayChart(vegaEmbed) {\n",
       "      vegaEmbed(outputDiv, spec, embedOpt)\n",
       "        .catch(err => showError(`Javascript Error: ${err.message}<br>This usually means there's a typo in your chart specification. See the javascript console for the full traceback.`));\n",
       "    }\n",
       "\n",
       "    if(typeof define === \"function\" && define.amd) {\n",
       "      requirejs.config({paths});\n",
       "      require([\"vega-embed\"], displayChart, err => showError(`Error loading script: ${err.message}`));\n",
       "    } else if (typeof vegaEmbed === \"function\") {\n",
       "      displayChart(vegaEmbed);\n",
       "    } else {\n",
       "      loadScript(\"vega\")\n",
       "        .then(() => loadScript(\"vega-lite\"))\n",
       "        .then(() => loadScript(\"vega-embed\"))\n",
       "        .catch(showError)\n",
       "        .then(() => displayChart(vegaEmbed));\n",
       "    }\n",
       "  })({\"config\": {\"view\": {\"continuousWidth\": 400, \"continuousHeight\": 300}}, \"data\": {\"name\": \"data-d1522a008e08c4cbe98a51db7bae3ec2\"}, \"mark\": {\"type\": \"bar\", \"color\": \"orange\"}, \"encoding\": {\"x\": {\"type\": \"nominal\", \"field\": \"year\"}, \"y\": {\"type\": \"quantitative\", \"field\": \"investigations\"}}, \"title\": \"FAA unruly passenger investigations\", \"$schema\": \"https://vega.github.io/schema/vega-lite/v4.8.1.json\", \"datasets\": {\"data-d1522a008e08c4cbe98a51db7bae3ec2\": [{\"year\": \"1995\", \"investigations\": 146}, {\"year\": \"1996\", \"investigations\": 184}, {\"year\": \"1997\", \"investigations\": 237}, {\"year\": \"1998\", \"investigations\": 204}, {\"year\": \"1999\", \"investigations\": 226}, {\"year\": \"2000\", \"investigations\": 255}, {\"year\": \"2001\", \"investigations\": 305}, {\"year\": \"2002\", \"investigations\": 279}, {\"year\": \"2003\", \"investigations\": 286}, {\"year\": \"2004\", \"investigations\": 310}, {\"year\": \"2005\", \"investigations\": 205}, {\"year\": \"2006\", \"investigations\": 137}, {\"year\": \"2007\", \"investigations\": 153}, {\"year\": \"2008\", \"investigations\": 124}, {\"year\": \"2009\", \"investigations\": 139}, {\"year\": \"2010\", \"investigations\": 128}, {\"year\": \"2011\", \"investigations\": 155}, {\"year\": \"2012\", \"investigations\": 183}, {\"year\": \"2013\", \"investigations\": 149}, {\"year\": \"2014\", \"investigations\": 147}, {\"year\": \"2015\", \"investigations\": 105}, {\"year\": \"2016\", \"investigations\": 102}, {\"year\": \"2017\", \"investigations\": 91}, {\"year\": \"2018\", \"investigations\": 159}, {\"year\": \"2019\", \"investigations\": 146}, {\"year\": \"2020\", \"investigations\": 183}, {\"year\": \"2021\", \"investigations\": 906}]}}, {\"mode\": \"vega-lite\"});\n",
       "</script>"
      ],
      "text/plain": [
       "alt.Chart(...)"
      ]
     },
     "execution_count": 19,
     "metadata": {},
     "output_type": "execute_result"
    }
   ],
   "source": [
    "alt.Chart(df).mark_bar(color='orange').encode(\n",
    "    x='year',\n",
    "    y='investigations'\n",
    ").properties(title='FAA unruly passenger investigations')"
   ]
  },
  {
   "cell_type": "code",
   "execution_count": 20,
   "id": "32f0afef-a0d2-4a99-abc1-ffdf19fe615e",
   "metadata": {},
   "outputs": [],
   "source": [
    "df.to_csv('data/faa-investigations-initiated.csv', index=False)"
   ]
  }
 ],
 "metadata": {
  "kernelspec": {
   "display_name": "Python 3",
   "language": "python",
   "name": "python3"
  },
  "language_info": {
   "codemirror_mode": {
    "name": "ipython",
    "version": 3
   },
   "file_extension": ".py",
   "mimetype": "text/x-python",
   "name": "python",
   "nbconvert_exporter": "python",
   "pygments_lexer": "ipython3",
   "version": "3.8.8"
  }
 },
 "nbformat": 4,
 "nbformat_minor": 5
}
