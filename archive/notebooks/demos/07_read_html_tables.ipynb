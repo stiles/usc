{
 "cells": [
  {
   "cell_type": "markdown",
   "id": "182672ed-b13b-41e2-9522-0f00aa42f171",
   "metadata": {},
   "source": [
    "# Use Pandas to convert live HTML tables to dataframes"
   ]
  },
  {
   "cell_type": "code",
   "execution_count": 1,
   "id": "abe12d70-c89c-4753-8432-fb5140dc48bf",
   "metadata": {},
   "outputs": [],
   "source": [
    "%load_ext lab_black\n",
    "import pandas as pd"
   ]
  },
  {
   "cell_type": "markdown",
   "id": "76d42348-13cc-44a6-b240-8d57ed14be62",
   "metadata": {},
   "source": [
    "### L.A. County COVID cases, deaths by community"
   ]
  },
  {
   "cell_type": "code",
   "execution_count": 2,
   "id": "9e519e1e-d463-41b6-a94f-72e3cbc983a8",
   "metadata": {},
   "outputs": [],
   "source": [
    "url_dph = \"http://publichealth.lacounty.gov/media/Coronavirus/locations.htm\""
   ]
  },
  {
   "cell_type": "markdown",
   "id": "cfb56fbd-3f30-4808-88c4-124b70af3724",
   "metadata": {},
   "source": [
    "### Read the page and grab its tables"
   ]
  },
  {
   "cell_type": "code",
   "execution_count": 3,
   "id": "38a175f2-9d90-44f2-b941-b0bbc0cc4f91",
   "metadata": {},
   "outputs": [],
   "source": [
    "page_dph = pd.read_html(url_dph, attrs={\"class\": \"table\"})"
   ]
  },
  {
   "cell_type": "markdown",
   "id": "c5574423-ae3f-457e-bc3d-b3d8f23ff5f2",
   "metadata": {},
   "source": [
    "### Read the second table into a dataframe"
   ]
  },
  {
   "cell_type": "code",
   "execution_count": 4,
   "id": "c0f0c737-372e-4fa2-8455-0f1012972d20",
   "metadata": {},
   "outputs": [
    {
     "data": {
      "text/html": [
       "<div>\n",
       "<style scoped>\n",
       "    .dataframe tbody tr th:only-of-type {\n",
       "        vertical-align: middle;\n",
       "    }\n",
       "\n",
       "    .dataframe tbody tr th {\n",
       "        vertical-align: top;\n",
       "    }\n",
       "\n",
       "    .dataframe thead th {\n",
       "        text-align: right;\n",
       "    }\n",
       "</style>\n",
       "<table border=\"1\" class=\"dataframe\">\n",
       "  <thead>\n",
       "    <tr style=\"text-align: right;\">\n",
       "      <th></th>\n",
       "      <th>CITY/COMMUNITY**</th>\n",
       "      <th>Cases</th>\n",
       "      <th>Case Rate1</th>\n",
       "      <th>Deaths</th>\n",
       "      <th>Death Rate2</th>\n",
       "    </tr>\n",
       "  </thead>\n",
       "  <tbody>\n",
       "    <tr>\n",
       "      <th>0</th>\n",
       "      <td>City of Agoura Hills</td>\n",
       "      <td>1458</td>\n",
       "      <td>6982.0</td>\n",
       "      <td>19</td>\n",
       "      <td>91.0</td>\n",
       "    </tr>\n",
       "    <tr>\n",
       "      <th>1</th>\n",
       "      <td>City of Alhambra</td>\n",
       "      <td>8241</td>\n",
       "      <td>9503.0</td>\n",
       "      <td>217</td>\n",
       "      <td>250.0</td>\n",
       "    </tr>\n",
       "    <tr>\n",
       "      <th>2</th>\n",
       "      <td>City of Arcadia</td>\n",
       "      <td>3385</td>\n",
       "      <td>5861.0</td>\n",
       "      <td>147</td>\n",
       "      <td>255.0</td>\n",
       "    </tr>\n",
       "    <tr>\n",
       "      <th>3</th>\n",
       "      <td>City of Artesia</td>\n",
       "      <td>2446</td>\n",
       "      <td>14564.0</td>\n",
       "      <td>80</td>\n",
       "      <td>476.0</td>\n",
       "    </tr>\n",
       "    <tr>\n",
       "      <th>4</th>\n",
       "      <td>City of Avalon</td>\n",
       "      <td>32</td>\n",
       "      <td>827.0</td>\n",
       "      <td>0</td>\n",
       "      <td>0.0</td>\n",
       "    </tr>\n",
       "    <tr>\n",
       "      <th>...</th>\n",
       "      <td>...</td>\n",
       "      <td>...</td>\n",
       "      <td>...</td>\n",
       "      <td>...</td>\n",
       "      <td>...</td>\n",
       "    </tr>\n",
       "    <tr>\n",
       "      <th>337</th>\n",
       "      <td>Unincorporated - Whittier</td>\n",
       "      <td>374</td>\n",
       "      <td>9884.0</td>\n",
       "      <td>9</td>\n",
       "      <td>238.0</td>\n",
       "    </tr>\n",
       "    <tr>\n",
       "      <th>338</th>\n",
       "      <td>Unincorporated - Whittier Narrows</td>\n",
       "      <td>54</td>\n",
       "      <td>450000.0</td>\n",
       "      <td>1</td>\n",
       "      <td>8333.0</td>\n",
       "    </tr>\n",
       "    <tr>\n",
       "      <th>339</th>\n",
       "      <td>Unincorporated - Willowbrook</td>\n",
       "      <td>7935</td>\n",
       "      <td>22728.0</td>\n",
       "      <td>107</td>\n",
       "      <td>306.0</td>\n",
       "    </tr>\n",
       "    <tr>\n",
       "      <th>340</th>\n",
       "      <td>Unincorporated - Wiseburn</td>\n",
       "      <td>645</td>\n",
       "      <td>10702.0</td>\n",
       "      <td>12</td>\n",
       "      <td>199.0</td>\n",
       "    </tr>\n",
       "    <tr>\n",
       "      <th>341</th>\n",
       "      <td>- Under Investigation</td>\n",
       "      <td>17503</td>\n",
       "      <td>NaN</td>\n",
       "      <td>66</td>\n",
       "      <td>NaN</td>\n",
       "    </tr>\n",
       "  </tbody>\n",
       "</table>\n",
       "<p>342 rows × 5 columns</p>\n",
       "</div>"
      ],
      "text/plain": [
       "                      CITY/COMMUNITY**  Cases  Case Rate1  Deaths  Death Rate2\n",
       "0                 City of Agoura Hills   1458      6982.0      19         91.0\n",
       "1                     City of Alhambra   8241      9503.0     217        250.0\n",
       "2                      City of Arcadia   3385      5861.0     147        255.0\n",
       "3                      City of Artesia   2446     14564.0      80        476.0\n",
       "4                       City of Avalon     32       827.0       0          0.0\n",
       "..                                 ...    ...         ...     ...          ...\n",
       "337          Unincorporated - Whittier    374      9884.0       9        238.0\n",
       "338  Unincorporated - Whittier Narrows     54    450000.0       1       8333.0\n",
       "339       Unincorporated - Willowbrook   7935     22728.0     107        306.0\n",
       "340          Unincorporated - Wiseburn    645     10702.0      12        199.0\n",
       "341              - Under Investigation  17503         NaN      66          NaN\n",
       "\n",
       "[342 rows x 5 columns]"
      ]
     },
     "execution_count": 4,
     "metadata": {},
     "output_type": "execute_result"
    }
   ],
   "source": [
    "df_dph = pd.DataFrame(page_dph[1])\n",
    "df_dph"
   ]
  },
  {
   "cell_type": "code",
   "execution_count": 5,
   "id": "8b72bfe8-6c1d-46c1-8a31-046301884ee5",
   "metadata": {},
   "outputs": [
    {
     "data": {
      "text/html": [
       "<div>\n",
       "<style scoped>\n",
       "    .dataframe tbody tr th:only-of-type {\n",
       "        vertical-align: middle;\n",
       "    }\n",
       "\n",
       "    .dataframe tbody tr th {\n",
       "        vertical-align: top;\n",
       "    }\n",
       "\n",
       "    .dataframe thead th {\n",
       "        text-align: right;\n",
       "    }\n",
       "</style>\n",
       "<table border=\"1\" class=\"dataframe\">\n",
       "  <thead>\n",
       "    <tr style=\"text-align: right;\">\n",
       "      <th></th>\n",
       "      <th>CITY/COMMUNITY**</th>\n",
       "      <th>Cases</th>\n",
       "      <th>Case Rate1</th>\n",
       "      <th>Deaths</th>\n",
       "      <th>Death Rate2</th>\n",
       "    </tr>\n",
       "  </thead>\n",
       "  <tbody>\n",
       "    <tr>\n",
       "      <th>28</th>\n",
       "      <td>City of Glendale</td>\n",
       "      <td>24883</td>\n",
       "      <td>12050.0</td>\n",
       "      <td>689</td>\n",
       "      <td>334.0</td>\n",
       "    </tr>\n",
       "  </tbody>\n",
       "</table>\n",
       "</div>"
      ],
      "text/plain": [
       "    CITY/COMMUNITY**  Cases  Case Rate1  Deaths  Death Rate2\n",
       "28  City of Glendale  24883     12050.0     689        334.0"
      ]
     },
     "execution_count": 5,
     "metadata": {},
     "output_type": "execute_result"
    }
   ],
   "source": [
    "df_dph[df_dph[\"CITY/COMMUNITY**\"] == \"City of Glendale\"]"
   ]
  },
  {
   "cell_type": "code",
   "execution_count": 14,
   "id": "f7121746-b5bf-4cbd-acf0-7fdc8597dc03",
   "metadata": {},
   "outputs": [],
   "source": [
    "df_dph.columns = (\n",
    "    df_dph.columns.str.lower()\n",
    "    .str.replace(\"**\", \"\", regex=False)\n",
    "    .str.replace(\"/\", \"_\", regex=False)\n",
    "    .str.replace(\" \", \"_\", regex=False)\n",
    ")"
   ]
  },
  {
   "cell_type": "code",
   "execution_count": 15,
   "id": "d56786e7-7382-4405-b77d-28fd66bc7028",
   "metadata": {},
   "outputs": [
    {
     "data": {
      "text/html": [
       "<div>\n",
       "<style scoped>\n",
       "    .dataframe tbody tr th:only-of-type {\n",
       "        vertical-align: middle;\n",
       "    }\n",
       "\n",
       "    .dataframe tbody tr th {\n",
       "        vertical-align: top;\n",
       "    }\n",
       "\n",
       "    .dataframe thead th {\n",
       "        text-align: right;\n",
       "    }\n",
       "</style>\n",
       "<table border=\"1\" class=\"dataframe\">\n",
       "  <thead>\n",
       "    <tr style=\"text-align: right;\">\n",
       "      <th></th>\n",
       "      <th>city_community</th>\n",
       "      <th>cases</th>\n",
       "      <th>case_rate1</th>\n",
       "      <th>deaths</th>\n",
       "      <th>death_rate2</th>\n",
       "    </tr>\n",
       "  </thead>\n",
       "  <tbody>\n",
       "    <tr>\n",
       "      <th>0</th>\n",
       "      <td>City of Agoura Hills</td>\n",
       "      <td>1458</td>\n",
       "      <td>6982.0</td>\n",
       "      <td>19</td>\n",
       "      <td>91.0</td>\n",
       "    </tr>\n",
       "    <tr>\n",
       "      <th>1</th>\n",
       "      <td>City of Alhambra</td>\n",
       "      <td>8241</td>\n",
       "      <td>9503.0</td>\n",
       "      <td>217</td>\n",
       "      <td>250.0</td>\n",
       "    </tr>\n",
       "    <tr>\n",
       "      <th>2</th>\n",
       "      <td>City of Arcadia</td>\n",
       "      <td>3385</td>\n",
       "      <td>5861.0</td>\n",
       "      <td>147</td>\n",
       "      <td>255.0</td>\n",
       "    </tr>\n",
       "    <tr>\n",
       "      <th>3</th>\n",
       "      <td>City of Artesia</td>\n",
       "      <td>2446</td>\n",
       "      <td>14564.0</td>\n",
       "      <td>80</td>\n",
       "      <td>476.0</td>\n",
       "    </tr>\n",
       "    <tr>\n",
       "      <th>4</th>\n",
       "      <td>City of Avalon</td>\n",
       "      <td>32</td>\n",
       "      <td>827.0</td>\n",
       "      <td>0</td>\n",
       "      <td>0.0</td>\n",
       "    </tr>\n",
       "  </tbody>\n",
       "</table>\n",
       "</div>"
      ],
      "text/plain": [
       "         city_community  cases  case_rate1  deaths  death_rate2\n",
       "0  City of Agoura Hills   1458      6982.0      19         91.0\n",
       "1      City of Alhambra   8241      9503.0     217        250.0\n",
       "2       City of Arcadia   3385      5861.0     147        255.0\n",
       "3       City of Artesia   2446     14564.0      80        476.0\n",
       "4        City of Avalon     32       827.0       0          0.0"
      ]
     },
     "execution_count": 15,
     "metadata": {},
     "output_type": "execute_result"
    }
   ],
   "source": [
    "df_dph.head()"
   ]
  },
  {
   "cell_type": "code",
   "execution_count": null,
   "id": "a7b7eea5-f50f-4632-897f-1b7c3688aec2",
   "metadata": {},
   "outputs": [],
   "source": []
  },
  {
   "cell_type": "code",
   "execution_count": 24,
   "id": "ed27ec62-da7a-4228-8361-61825f25913e",
   "metadata": {},
   "outputs": [],
   "source": [
    "at_least_one_death = df_dph[df_dph[\"cases\"] > 500]"
   ]
  },
  {
   "cell_type": "code",
   "execution_count": 25,
   "id": "68b954b1-7a2d-46cd-a7ae-043f2d8d88fe",
   "metadata": {},
   "outputs": [
    {
     "data": {
      "text/html": [
       "<div>\n",
       "<style scoped>\n",
       "    .dataframe tbody tr th:only-of-type {\n",
       "        vertical-align: middle;\n",
       "    }\n",
       "\n",
       "    .dataframe tbody tr th {\n",
       "        vertical-align: top;\n",
       "    }\n",
       "\n",
       "    .dataframe thead th {\n",
       "        text-align: right;\n",
       "    }\n",
       "</style>\n",
       "<table border=\"1\" class=\"dataframe\">\n",
       "  <thead>\n",
       "    <tr style=\"text-align: right;\">\n",
       "      <th></th>\n",
       "      <th>city_community</th>\n",
       "      <th>cases</th>\n",
       "      <th>case_rate1</th>\n",
       "      <th>deaths</th>\n",
       "      <th>death_rate2</th>\n",
       "    </tr>\n",
       "  </thead>\n",
       "  <tbody>\n",
       "    <tr>\n",
       "      <th>170</th>\n",
       "      <td>Los Angeles - Park La Brea</td>\n",
       "      <td>906</td>\n",
       "      <td>6672.0</td>\n",
       "      <td>1</td>\n",
       "      <td>7.0</td>\n",
       "    </tr>\n",
       "    <tr>\n",
       "      <th>95</th>\n",
       "      <td>Los Angeles - Beverlywood</td>\n",
       "      <td>1306</td>\n",
       "      <td>9914.0</td>\n",
       "      <td>2</td>\n",
       "      <td>15.0</td>\n",
       "    </tr>\n",
       "    <tr>\n",
       "      <th>93</th>\n",
       "      <td>Los Angeles - Bel Air</td>\n",
       "      <td>567</td>\n",
       "      <td>6727.0</td>\n",
       "      <td>2</td>\n",
       "      <td>24.0</td>\n",
       "    </tr>\n",
       "    <tr>\n",
       "      <th>175</th>\n",
       "      <td>Los Angeles - Rancho Park</td>\n",
       "      <td>518</td>\n",
       "      <td>7896.0</td>\n",
       "      <td>2</td>\n",
       "      <td>30.0</td>\n",
       "    </tr>\n",
       "    <tr>\n",
       "      <th>318</th>\n",
       "      <td>Unincorporated - Stevenson Ranch</td>\n",
       "      <td>1744</td>\n",
       "      <td>8318.0</td>\n",
       "      <td>8</td>\n",
       "      <td>38.0</td>\n",
       "    </tr>\n",
       "    <tr>\n",
       "      <th>130</th>\n",
       "      <td>Los Angeles - Hancock Park</td>\n",
       "      <td>1434</td>\n",
       "      <td>8416.0</td>\n",
       "      <td>7</td>\n",
       "      <td>41.0</td>\n",
       "    </tr>\n",
       "    <tr>\n",
       "      <th>283</th>\n",
       "      <td>Unincorporated - Marina del Rey</td>\n",
       "      <td>681</td>\n",
       "      <td>7236.0</td>\n",
       "      <td>4</td>\n",
       "      <td>43.0</td>\n",
       "    </tr>\n",
       "    <tr>\n",
       "      <th>94</th>\n",
       "      <td>Los Angeles - Beverly Crest</td>\n",
       "      <td>899</td>\n",
       "      <td>7178.0</td>\n",
       "      <td>6</td>\n",
       "      <td>48.0</td>\n",
       "    </tr>\n",
       "    <tr>\n",
       "      <th>49</th>\n",
       "      <td>City of Manhattan Beach</td>\n",
       "      <td>2099</td>\n",
       "      <td>5831.0</td>\n",
       "      <td>19</td>\n",
       "      <td>53.0</td>\n",
       "    </tr>\n",
       "    <tr>\n",
       "      <th>204</th>\n",
       "      <td>Los Angeles - Venice</td>\n",
       "      <td>2711</td>\n",
       "      <td>8001.0</td>\n",
       "      <td>18</td>\n",
       "      <td>53.0</td>\n",
       "    </tr>\n",
       "    <tr>\n",
       "      <th>219</th>\n",
       "      <td>Los Angeles - Westwood</td>\n",
       "      <td>3740</td>\n",
       "      <td>6912.0</td>\n",
       "      <td>29</td>\n",
       "      <td>54.0</td>\n",
       "    </tr>\n",
       "    <tr>\n",
       "      <th>32</th>\n",
       "      <td>City of Hermosa Beach</td>\n",
       "      <td>1591</td>\n",
       "      <td>8088.0</td>\n",
       "      <td>11</td>\n",
       "      <td>56.0</td>\n",
       "    </tr>\n",
       "    <tr>\n",
       "      <th>184</th>\n",
       "      <td>Los Angeles - South Carthay</td>\n",
       "      <td>1000</td>\n",
       "      <td>9438.0</td>\n",
       "      <td>6</td>\n",
       "      <td>57.0</td>\n",
       "    </tr>\n",
       "    <tr>\n",
       "      <th>26</th>\n",
       "      <td>City of El Segundo</td>\n",
       "      <td>1084</td>\n",
       "      <td>6458.0</td>\n",
       "      <td>10</td>\n",
       "      <td>60.0</td>\n",
       "    </tr>\n",
       "    <tr>\n",
       "      <th>97</th>\n",
       "      <td>Los Angeles - Brentwood</td>\n",
       "      <td>2151</td>\n",
       "      <td>6949.0</td>\n",
       "      <td>20</td>\n",
       "      <td>65.0</td>\n",
       "    </tr>\n",
       "    <tr>\n",
       "      <th>195</th>\n",
       "      <td>Los Angeles - Toluca Lake</td>\n",
       "      <td>757</td>\n",
       "      <td>8697.0</td>\n",
       "      <td>6</td>\n",
       "      <td>69.0</td>\n",
       "    </tr>\n",
       "    <tr>\n",
       "      <th>165</th>\n",
       "      <td>Los Angeles - Pacific Palisades</td>\n",
       "      <td>1169</td>\n",
       "      <td>5491.0</td>\n",
       "      <td>15</td>\n",
       "      <td>70.0</td>\n",
       "    </tr>\n",
       "    <tr>\n",
       "      <th>118</th>\n",
       "      <td>Los Angeles - Elysian Park</td>\n",
       "      <td>656</td>\n",
       "      <td>11485.0</td>\n",
       "      <td>4</td>\n",
       "      <td>70.0</td>\n",
       "    </tr>\n",
       "    <tr>\n",
       "      <th>56</th>\n",
       "      <td>City of Palos Verdes Estates</td>\n",
       "      <td>679</td>\n",
       "      <td>5021.0</td>\n",
       "      <td>10</td>\n",
       "      <td>74.0</td>\n",
       "    </tr>\n",
       "    <tr>\n",
       "      <th>239</th>\n",
       "      <td>Unincorporated - Castaic*</td>\n",
       "      <td>4496</td>\n",
       "      <td>16535.0</td>\n",
       "      <td>21</td>\n",
       "      <td>77.0</td>\n",
       "    </tr>\n",
       "  </tbody>\n",
       "</table>\n",
       "</div>"
      ],
      "text/plain": [
       "                       city_community  cases  case_rate1  deaths  death_rate2\n",
       "170        Los Angeles - Park La Brea    906      6672.0       1          7.0\n",
       "95          Los Angeles - Beverlywood   1306      9914.0       2         15.0\n",
       "93              Los Angeles - Bel Air    567      6727.0       2         24.0\n",
       "175         Los Angeles - Rancho Park    518      7896.0       2         30.0\n",
       "318  Unincorporated - Stevenson Ranch   1744      8318.0       8         38.0\n",
       "130        Los Angeles - Hancock Park   1434      8416.0       7         41.0\n",
       "283   Unincorporated - Marina del Rey    681      7236.0       4         43.0\n",
       "94        Los Angeles - Beverly Crest    899      7178.0       6         48.0\n",
       "49            City of Manhattan Beach   2099      5831.0      19         53.0\n",
       "204              Los Angeles - Venice   2711      8001.0      18         53.0\n",
       "219            Los Angeles - Westwood   3740      6912.0      29         54.0\n",
       "32              City of Hermosa Beach   1591      8088.0      11         56.0\n",
       "184       Los Angeles - South Carthay   1000      9438.0       6         57.0\n",
       "26                 City of El Segundo   1084      6458.0      10         60.0\n",
       "97            Los Angeles - Brentwood   2151      6949.0      20         65.0\n",
       "195         Los Angeles - Toluca Lake    757      8697.0       6         69.0\n",
       "165   Los Angeles - Pacific Palisades   1169      5491.0      15         70.0\n",
       "118        Los Angeles - Elysian Park    656     11485.0       4         70.0\n",
       "56       City of Palos Verdes Estates    679      5021.0      10         74.0\n",
       "239         Unincorporated - Castaic*   4496     16535.0      21         77.0"
      ]
     },
     "execution_count": 25,
     "metadata": {},
     "output_type": "execute_result"
    }
   ],
   "source": [
    "at_least_one_death.sort_values(\"death_rate2\", ascending=True).head(20)"
   ]
  },
  {
   "cell_type": "code",
   "execution_count": null,
   "id": "67f54fc8-2713-44e8-9809-4c7c54f9f418",
   "metadata": {},
   "outputs": [],
   "source": []
  },
  {
   "cell_type": "code",
   "execution_count": null,
   "id": "0527e32b-0d76-405f-a13f-a63573491b86",
   "metadata": {},
   "outputs": [],
   "source": []
  },
  {
   "cell_type": "markdown",
   "id": "eb7f3d5c-107c-480b-a6a8-efc5d00d6099",
   "metadata": {},
   "source": [
    "### Just these columns/names"
   ]
  },
  {
   "cell_type": "code",
   "execution_count": null,
   "id": "581dd69b-662b-4f26-8efc-279ea52db83b",
   "metadata": {},
   "outputs": [],
   "source": []
  },
  {
   "cell_type": "code",
   "execution_count": null,
   "id": "0cf88137-b19d-4881-9b9a-86fa608ecdc1",
   "metadata": {},
   "outputs": [],
   "source": []
  },
  {
   "cell_type": "code",
   "execution_count": null,
   "id": "bc340234-443b-46ae-ac36-9e66c2c4c195",
   "metadata": {},
   "outputs": [],
   "source": []
  },
  {
   "cell_type": "markdown",
   "id": "0d5fe323-068f-4967-837a-d635995a57a7",
   "metadata": {},
   "source": [
    "---"
   ]
  },
  {
   "cell_type": "markdown",
   "id": "a7d27154-8707-4da9-9eb5-a288588041c3",
   "metadata": {},
   "source": [
    "### DOJ Jan. 6 insurrection defendants"
   ]
  },
  {
   "cell_type": "code",
   "execution_count": 8,
   "id": "09f736fd-d128-4392-9024-d55d92a4ff91",
   "metadata": {},
   "outputs": [],
   "source": [
    "url_doj = \"https://www.justice.gov/usao-dc/capitol-breach-cases\""
   ]
  },
  {
   "cell_type": "markdown",
   "id": "f23c5071-957d-4f9f-a895-f0a80e45ee43",
   "metadata": {},
   "source": [
    "### Read the page and grab its tables"
   ]
  },
  {
   "cell_type": "code",
   "execution_count": null,
   "id": "0621cebe-0081-46ec-b740-160f13225f1f",
   "metadata": {},
   "outputs": [],
   "source": []
  },
  {
   "cell_type": "markdown",
   "id": "c215000d-fab6-48eb-8de5-70253d4b4de6",
   "metadata": {},
   "source": [
    "### Read the first table into a dataframe"
   ]
  },
  {
   "cell_type": "code",
   "execution_count": null,
   "id": "c5d1279c-77ba-4200-b184-c2255d0512e4",
   "metadata": {},
   "outputs": [],
   "source": []
  },
  {
   "cell_type": "markdown",
   "id": "5220cf67-616a-4df9-b2b1-027d235793e0",
   "metadata": {},
   "source": [
    "### Clean up the columns"
   ]
  },
  {
   "cell_type": "code",
   "execution_count": 9,
   "id": "d2ad19c2-5aba-4b30-b395-302f36ddb92f",
   "metadata": {},
   "outputs": [],
   "source": [
    "# df_doj.columns = (\n",
    "#     df_doj.columns.str.strip()\n",
    "#     .str.lower()\n",
    "#     .str.replace(\" \", \"_\", regex=False)\n",
    "#     .str.replace(\":\", \"\", regex=False)\n",
    "#     .str.replace(\"/\", \"_\", regex=False)\n",
    "#     .str.replace(\",\", \"_\", regex=False)\n",
    "#     .str.replace(\"*\", \"\", regex=False)\n",
    "#     .str.replace(\"(s)\", \"s\", regex=False)\n",
    "# )"
   ]
  },
  {
   "cell_type": "markdown",
   "id": "33a9de1b-f88a-4663-a0e7-3b94076c547b",
   "metadata": {},
   "source": [
    "### Clean up the location names"
   ]
  },
  {
   "cell_type": "code",
   "execution_count": 10,
   "id": "c76fc5ed-e084-47a6-82d7-e0b22a08a531",
   "metadata": {},
   "outputs": [],
   "source": [
    "# df_doj[\"location_of_arrest\"] = (\n",
    "#     df_doj[\"location_of_arrest\"]\n",
    "#     .str.strip()\n",
    "#     .str.title()\n",
    "#     .str.replace(\", Middle District\", \"\", regex=False)\n",
    "#     .str.replace(\", Southern District\", \"\", regex=False)\n",
    "#     .str.replace(\", Central District\", \"\", regex=False)\n",
    "#     .str.replace(\", Western District\", \"\", regex=False)\n",
    "#     .str.replace(\", Eastern District\", \"\", regex=False)\n",
    "#     .str.replace(\", Northern District\", \"\", regex=False)\n",
    "# )"
   ]
  },
  {
   "cell_type": "markdown",
   "id": "d6cae53c-0b66-4ef6-9593-cbf76542246c",
   "metadata": {},
   "source": [
    "### If there's no location, be specific about it"
   ]
  },
  {
   "cell_type": "code",
   "execution_count": null,
   "id": "940bfd3b-b2b8-4710-8bc5-b38407b2961d",
   "metadata": {},
   "outputs": [],
   "source": []
  },
  {
   "cell_type": "markdown",
   "id": "b454d2a2-fb9a-494c-a316-5d4a32c737f6",
   "metadata": {},
   "source": [
    "### Split the location column into two"
   ]
  },
  {
   "cell_type": "code",
   "execution_count": null,
   "id": "075347b2-1412-4bd0-b012-435932e65973",
   "metadata": {},
   "outputs": [],
   "source": []
  },
  {
   "cell_type": "markdown",
   "id": "bd530fc9-f8a4-418e-b6fc-e0def9ce5911",
   "metadata": {},
   "source": [
    "### Drop the original location column"
   ]
  },
  {
   "cell_type": "code",
   "execution_count": null,
   "id": "a5e3b27f-042e-4b0e-bea4-b28dfbad9f02",
   "metadata": {},
   "outputs": [],
   "source": []
  },
  {
   "cell_type": "markdown",
   "id": "655dd5a3-fa60-404b-afc8-d50b9811c426",
   "metadata": {},
   "source": [
    "### Group on state, count cases"
   ]
  },
  {
   "cell_type": "code",
   "execution_count": null,
   "id": "eae11536-e6da-41d7-8453-ceef66d46888",
   "metadata": {},
   "outputs": [],
   "source": []
  },
  {
   "cell_type": "markdown",
   "id": "2b44f525-c363-4d66-bd31-84c21a564b99",
   "metadata": {},
   "source": [
    "### Rename your aggregated column"
   ]
  },
  {
   "cell_type": "code",
   "execution_count": null,
   "id": "2891fee6-e7c1-4593-bc8a-d3f13ae66a6a",
   "metadata": {},
   "outputs": [],
   "source": []
  },
  {
   "cell_type": "markdown",
   "id": "1c305664-d3fa-48d7-93be-6874f6de8310",
   "metadata": {},
   "source": [
    "---"
   ]
  },
  {
   "cell_type": "markdown",
   "id": "64c34854-f54e-4e06-a37e-e688fdbb6b9a",
   "metadata": {},
   "source": [
    "### Export both dataframes"
   ]
  },
  {
   "cell_type": "code",
   "execution_count": 11,
   "id": "30d231aa-5c6e-4e57-8020-22aab8349553",
   "metadata": {},
   "outputs": [],
   "source": [
    "# df_dph.to_csv('data/la-county-covid-rates-by-community.csv', index=False)"
   ]
  },
  {
   "cell_type": "code",
   "execution_count": 12,
   "id": "031dcdf5-f7ac-4372-aabb-45533ecfdd70",
   "metadata": {},
   "outputs": [],
   "source": [
    "# df_doj.to_csv('data/doj-capitol-breach-arrests.csv', index=False)"
   ]
  },
  {
   "cell_type": "code",
   "execution_count": 13,
   "id": "26b78261-7a09-4f0c-89e0-3a391441f1ab",
   "metadata": {},
   "outputs": [],
   "source": [
    "# states.to_csv('data/doj-capitol-breach-arrests-by-state.csv', index=False)"
   ]
  }
 ],
 "metadata": {
  "kernelspec": {
   "display_name": "Python 3",
   "language": "python",
   "name": "python3"
  },
  "language_info": {
   "codemirror_mode": {
    "name": "ipython",
    "version": 3
   },
   "file_extension": ".py",
   "mimetype": "text/x-python",
   "name": "python",
   "nbconvert_exporter": "python",
   "pygments_lexer": "ipython3",
   "version": "3.8.8"
  }
 },
 "nbformat": 4,
 "nbformat_minor": 5
}
