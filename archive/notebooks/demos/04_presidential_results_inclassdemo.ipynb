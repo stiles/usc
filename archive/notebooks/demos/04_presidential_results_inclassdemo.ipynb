{
 "cells": [
  {
   "cell_type": "markdown",
   "id": "c50506ea-a04b-4948-a20f-b2879f695cd5",
   "metadata": {},
   "source": [
    "# 2020 presidential election results"
   ]
  },
  {
   "cell_type": "markdown",
   "id": "38837603-e0a9-452e-8f8c-6bc07ba9ba2d",
   "metadata": {},
   "source": [
    "### Import Python tools"
   ]
  },
  {
   "cell_type": "code",
   "execution_count": 1,
   "id": "9a173c78-ee08-4fca-997c-8d923e166ebb",
   "metadata": {},
   "outputs": [],
   "source": [
    "# !pip install nb_black"
   ]
  },
  {
   "cell_type": "code",
   "execution_count": 2,
   "id": "4c2e5309-8da8-4a23-8621-8a910cb10f39",
   "metadata": {},
   "outputs": [],
   "source": [
    "%load_ext lab_black"
   ]
  },
  {
   "cell_type": "code",
   "execution_count": 3,
   "id": "3c1ef1b7-79cc-4b0e-a34f-3400e24869c4",
   "metadata": {},
   "outputs": [],
   "source": [
    "import pandas as pd"
   ]
  },
  {
   "cell_type": "markdown",
   "id": "05b6cce9-418a-4389-a1e5-5d20e245a7b3",
   "metadata": {},
   "source": [
    "### Read the data"
   ]
  },
  {
   "cell_type": "code",
   "execution_count": 4,
   "id": "5667bb6a-a780-42df-96ac-10cdb6cb30a3",
   "metadata": {},
   "outputs": [],
   "source": [
    "df = pd.read_json(\"../../data/elections/election_results_2020.json\")"
   ]
  },
  {
   "cell_type": "markdown",
   "id": "97f72550-2bd5-4864-9c5a-20340b0f1bb4",
   "metadata": {},
   "source": [
    "### Just the first five rows"
   ]
  },
  {
   "cell_type": "code",
   "execution_count": 5,
   "id": "c86666ca-6e65-4050-92ba-1d2dbd8c8800",
   "metadata": {},
   "outputs": [
    {
     "data": {
      "text/html": [
       "<div>\n",
       "<style scoped>\n",
       "    .dataframe tbody tr th:only-of-type {\n",
       "        vertical-align: middle;\n",
       "    }\n",
       "\n",
       "    .dataframe tbody tr th {\n",
       "        vertical-align: top;\n",
       "    }\n",
       "\n",
       "    .dataframe thead th {\n",
       "        text-align: right;\n",
       "    }\n",
       "</style>\n",
       "<table border=\"1\" class=\"dataframe\">\n",
       "  <thead>\n",
       "    <tr style=\"text-align: right;\">\n",
       "      <th></th>\n",
       "      <th>state_name</th>\n",
       "      <th>county_fips</th>\n",
       "      <th>county_name</th>\n",
       "      <th>votes_gop</th>\n",
       "      <th>votes_dem</th>\n",
       "      <th>total_votes</th>\n",
       "    </tr>\n",
       "  </thead>\n",
       "  <tbody>\n",
       "    <tr>\n",
       "      <th>0</th>\n",
       "      <td>Alabama</td>\n",
       "      <td>1001</td>\n",
       "      <td>Autauga County</td>\n",
       "      <td>19838</td>\n",
       "      <td>7503</td>\n",
       "      <td>27770</td>\n",
       "    </tr>\n",
       "    <tr>\n",
       "      <th>1</th>\n",
       "      <td>Alabama</td>\n",
       "      <td>1003</td>\n",
       "      <td>Baldwin County</td>\n",
       "      <td>83544</td>\n",
       "      <td>24578</td>\n",
       "      <td>109679</td>\n",
       "    </tr>\n",
       "    <tr>\n",
       "      <th>2</th>\n",
       "      <td>Alabama</td>\n",
       "      <td>1005</td>\n",
       "      <td>Barbour County</td>\n",
       "      <td>5622</td>\n",
       "      <td>4816</td>\n",
       "      <td>10518</td>\n",
       "    </tr>\n",
       "    <tr>\n",
       "      <th>3</th>\n",
       "      <td>Alabama</td>\n",
       "      <td>1007</td>\n",
       "      <td>Bibb County</td>\n",
       "      <td>7525</td>\n",
       "      <td>1986</td>\n",
       "      <td>9595</td>\n",
       "    </tr>\n",
       "    <tr>\n",
       "      <th>4</th>\n",
       "      <td>Alabama</td>\n",
       "      <td>1009</td>\n",
       "      <td>Blount County</td>\n",
       "      <td>24711</td>\n",
       "      <td>2640</td>\n",
       "      <td>27588</td>\n",
       "    </tr>\n",
       "  </tbody>\n",
       "</table>\n",
       "</div>"
      ],
      "text/plain": [
       "  state_name  county_fips     county_name  votes_gop  votes_dem  total_votes\n",
       "0    Alabama         1001  Autauga County      19838       7503        27770\n",
       "1    Alabama         1003  Baldwin County      83544      24578       109679\n",
       "2    Alabama         1005  Barbour County       5622       4816        10518\n",
       "3    Alabama         1007     Bibb County       7525       1986         9595\n",
       "4    Alabama         1009   Blount County      24711       2640        27588"
      ]
     },
     "execution_count": 5,
     "metadata": {},
     "output_type": "execute_result"
    }
   ],
   "source": [
    "df.head()"
   ]
  },
  {
   "cell_type": "markdown",
   "id": "88e58e53-08b5-4f52-b90c-b85f9e7c10c6",
   "metadata": {},
   "source": [
    "### Let's change data types"
   ]
  },
  {
   "cell_type": "code",
   "execution_count": 6,
   "id": "13201d26-fd2a-4154-801f-006c6e85871f",
   "metadata": {},
   "outputs": [
    {
     "data": {
      "text/plain": [
       "state_name     object\n",
       "county_fips     int64\n",
       "county_name    object\n",
       "votes_gop       int64\n",
       "votes_dem       int64\n",
       "total_votes     int64\n",
       "dtype: object"
      ]
     },
     "execution_count": 6,
     "metadata": {},
     "output_type": "execute_result"
    }
   ],
   "source": [
    "df.dtypes"
   ]
  },
  {
   "cell_type": "code",
   "execution_count": 7,
   "id": "202bdc43-2b56-425e-8623-6b8fbb541448",
   "metadata": {},
   "outputs": [],
   "source": [
    "df[\"county_fips\"] = df[\"county_fips\"].astype(str)"
   ]
  },
  {
   "cell_type": "markdown",
   "id": "5e5a5cbd-3c68-4aa3-9d6f-df8a51bcf4d6",
   "metadata": {},
   "source": [
    "### Deal with four-digit FIPS codes"
   ]
  },
  {
   "cell_type": "code",
   "execution_count": 8,
   "id": "1c3f8622-3d30-4972-a7a8-f2aba18ff522",
   "metadata": {},
   "outputs": [],
   "source": [
    "df[\"county_fips\"] = df[\"county_fips\"].str.zfill(5)"
   ]
  },
  {
   "cell_type": "code",
   "execution_count": 9,
   "id": "efc6b094-0181-4973-a83a-1fef747a124e",
   "metadata": {},
   "outputs": [
    {
     "data": {
      "text/html": [
       "<div>\n",
       "<style scoped>\n",
       "    .dataframe tbody tr th:only-of-type {\n",
       "        vertical-align: middle;\n",
       "    }\n",
       "\n",
       "    .dataframe tbody tr th {\n",
       "        vertical-align: top;\n",
       "    }\n",
       "\n",
       "    .dataframe thead th {\n",
       "        text-align: right;\n",
       "    }\n",
       "</style>\n",
       "<table border=\"1\" class=\"dataframe\">\n",
       "  <thead>\n",
       "    <tr style=\"text-align: right;\">\n",
       "      <th></th>\n",
       "      <th>state_name</th>\n",
       "      <th>county_fips</th>\n",
       "      <th>county_name</th>\n",
       "      <th>votes_gop</th>\n",
       "      <th>votes_dem</th>\n",
       "      <th>total_votes</th>\n",
       "    </tr>\n",
       "  </thead>\n",
       "  <tbody>\n",
       "    <tr>\n",
       "      <th>0</th>\n",
       "      <td>Alabama</td>\n",
       "      <td>01001</td>\n",
       "      <td>Autauga County</td>\n",
       "      <td>19838</td>\n",
       "      <td>7503</td>\n",
       "      <td>27770</td>\n",
       "    </tr>\n",
       "    <tr>\n",
       "      <th>1</th>\n",
       "      <td>Alabama</td>\n",
       "      <td>01003</td>\n",
       "      <td>Baldwin County</td>\n",
       "      <td>83544</td>\n",
       "      <td>24578</td>\n",
       "      <td>109679</td>\n",
       "    </tr>\n",
       "    <tr>\n",
       "      <th>2</th>\n",
       "      <td>Alabama</td>\n",
       "      <td>01005</td>\n",
       "      <td>Barbour County</td>\n",
       "      <td>5622</td>\n",
       "      <td>4816</td>\n",
       "      <td>10518</td>\n",
       "    </tr>\n",
       "    <tr>\n",
       "      <th>3</th>\n",
       "      <td>Alabama</td>\n",
       "      <td>01007</td>\n",
       "      <td>Bibb County</td>\n",
       "      <td>7525</td>\n",
       "      <td>1986</td>\n",
       "      <td>9595</td>\n",
       "    </tr>\n",
       "    <tr>\n",
       "      <th>4</th>\n",
       "      <td>Alabama</td>\n",
       "      <td>01009</td>\n",
       "      <td>Blount County</td>\n",
       "      <td>24711</td>\n",
       "      <td>2640</td>\n",
       "      <td>27588</td>\n",
       "    </tr>\n",
       "  </tbody>\n",
       "</table>\n",
       "</div>"
      ],
      "text/plain": [
       "  state_name county_fips     county_name  votes_gop  votes_dem  total_votes\n",
       "0    Alabama       01001  Autauga County      19838       7503        27770\n",
       "1    Alabama       01003  Baldwin County      83544      24578       109679\n",
       "2    Alabama       01005  Barbour County       5622       4816        10518\n",
       "3    Alabama       01007     Bibb County       7525       1986         9595\n",
       "4    Alabama       01009   Blount County      24711       2640        27588"
      ]
     },
     "execution_count": 9,
     "metadata": {},
     "output_type": "execute_result"
    }
   ],
   "source": [
    "df.head()"
   ]
  },
  {
   "cell_type": "markdown",
   "id": "60f46297-c519-483b-982a-c51f548ea2b0",
   "metadata": {},
   "source": [
    "### Basics about the dataset"
   ]
  },
  {
   "cell_type": "code",
   "execution_count": 10,
   "id": "4454bad7-a9b2-4027-a903-09e684cdd14f",
   "metadata": {},
   "outputs": [
    {
     "data": {
      "text/html": [
       "<div>\n",
       "<style scoped>\n",
       "    .dataframe tbody tr th:only-of-type {\n",
       "        vertical-align: middle;\n",
       "    }\n",
       "\n",
       "    .dataframe tbody tr th {\n",
       "        vertical-align: top;\n",
       "    }\n",
       "\n",
       "    .dataframe thead th {\n",
       "        text-align: right;\n",
       "    }\n",
       "</style>\n",
       "<table border=\"1\" class=\"dataframe\">\n",
       "  <thead>\n",
       "    <tr style=\"text-align: right;\">\n",
       "      <th></th>\n",
       "      <th>votes_gop</th>\n",
       "      <th>votes_dem</th>\n",
       "      <th>total_votes</th>\n",
       "    </tr>\n",
       "  </thead>\n",
       "  <tbody>\n",
       "    <tr>\n",
       "      <th>count</th>\n",
       "      <td>3152.0</td>\n",
       "      <td>3152.0</td>\n",
       "      <td>3152.0</td>\n",
       "    </tr>\n",
       "    <tr>\n",
       "      <th>mean</th>\n",
       "      <td>23543.0</td>\n",
       "      <td>25782.0</td>\n",
       "      <td>50264.0</td>\n",
       "    </tr>\n",
       "    <tr>\n",
       "      <th>std</th>\n",
       "      <td>54040.0</td>\n",
       "      <td>96930.0</td>\n",
       "      <td>149378.0</td>\n",
       "    </tr>\n",
       "    <tr>\n",
       "      <th>min</th>\n",
       "      <td>60.0</td>\n",
       "      <td>4.0</td>\n",
       "      <td>66.0</td>\n",
       "    </tr>\n",
       "    <tr>\n",
       "      <th>25%</th>\n",
       "      <td>3662.0</td>\n",
       "      <td>1320.0</td>\n",
       "      <td>5415.0</td>\n",
       "    </tr>\n",
       "    <tr>\n",
       "      <th>50%</th>\n",
       "      <td>8123.0</td>\n",
       "      <td>3690.0</td>\n",
       "      <td>12336.0</td>\n",
       "    </tr>\n",
       "    <tr>\n",
       "      <th>75%</th>\n",
       "      <td>20509.0</td>\n",
       "      <td>11944.0</td>\n",
       "      <td>33304.0</td>\n",
       "    </tr>\n",
       "    <tr>\n",
       "      <th>max</th>\n",
       "      <td>1145530.0</td>\n",
       "      <td>3028885.0</td>\n",
       "      <td>4263443.0</td>\n",
       "    </tr>\n",
       "  </tbody>\n",
       "</table>\n",
       "</div>"
      ],
      "text/plain": [
       "       votes_gop  votes_dem  total_votes\n",
       "count     3152.0     3152.0       3152.0\n",
       "mean     23543.0    25782.0      50264.0\n",
       "std      54040.0    96930.0     149378.0\n",
       "min         60.0        4.0         66.0\n",
       "25%       3662.0     1320.0       5415.0\n",
       "50%       8123.0     3690.0      12336.0\n",
       "75%      20509.0    11944.0      33304.0\n",
       "max    1145530.0  3028885.0    4263443.0"
      ]
     },
     "execution_count": 10,
     "metadata": {},
     "output_type": "execute_result"
    }
   ],
   "source": [
    "df.describe().round(0)"
   ]
  },
  {
   "cell_type": "markdown",
   "id": "47010bbb-bfaa-49ee-8bff-3220f7a17d07",
   "metadata": {},
   "source": [
    "### Look at a slim version of the data"
   ]
  },
  {
   "cell_type": "code",
   "execution_count": 11,
   "id": "1871a5b1-77e9-45ff-8a56-496942cb1cfe",
   "metadata": {},
   "outputs": [
    {
     "data": {
      "text/html": [
       "<div>\n",
       "<style scoped>\n",
       "    .dataframe tbody tr th:only-of-type {\n",
       "        vertical-align: middle;\n",
       "    }\n",
       "\n",
       "    .dataframe tbody tr th {\n",
       "        vertical-align: top;\n",
       "    }\n",
       "\n",
       "    .dataframe thead th {\n",
       "        text-align: right;\n",
       "    }\n",
       "</style>\n",
       "<table border=\"1\" class=\"dataframe\">\n",
       "  <thead>\n",
       "    <tr style=\"text-align: right;\">\n",
       "      <th></th>\n",
       "      <th>county_fips</th>\n",
       "      <th>total_votes</th>\n",
       "    </tr>\n",
       "  </thead>\n",
       "  <tbody>\n",
       "    <tr>\n",
       "      <th>3147</th>\n",
       "      <td>56037</td>\n",
       "      <td>16603</td>\n",
       "    </tr>\n",
       "    <tr>\n",
       "      <th>3148</th>\n",
       "      <td>56039</td>\n",
       "      <td>14677</td>\n",
       "    </tr>\n",
       "    <tr>\n",
       "      <th>3149</th>\n",
       "      <td>56041</td>\n",
       "      <td>9402</td>\n",
       "    </tr>\n",
       "    <tr>\n",
       "      <th>3150</th>\n",
       "      <td>56043</td>\n",
       "      <td>4012</td>\n",
       "    </tr>\n",
       "    <tr>\n",
       "      <th>3151</th>\n",
       "      <td>56045</td>\n",
       "      <td>3542</td>\n",
       "    </tr>\n",
       "  </tbody>\n",
       "</table>\n",
       "</div>"
      ],
      "text/plain": [
       "     county_fips  total_votes\n",
       "3147       56037        16603\n",
       "3148       56039        14677\n",
       "3149       56041         9402\n",
       "3150       56043         4012\n",
       "3151       56045         3542"
      ]
     },
     "execution_count": 11,
     "metadata": {},
     "output_type": "execute_result"
    }
   ],
   "source": [
    "df[[\"county_fips\", \"total_votes\"]].tail()"
   ]
  },
  {
   "cell_type": "code",
   "execution_count": 12,
   "id": "eb7e44fb-dc80-441b-a83f-1f8cd2b9b17f",
   "metadata": {},
   "outputs": [],
   "source": [
    "### Let's change the county_name string"
   ]
  },
  {
   "cell_type": "code",
   "execution_count": 13,
   "id": "71adcc80-0955-42a1-9312-dc808d79bd4e",
   "metadata": {},
   "outputs": [],
   "source": [
    "df[\"county_name\"] = (\n",
    "    df[\"county_name\"].str.replace(\" County\", \"\").str.replace(\" Parish\", \"\")\n",
    ")"
   ]
  },
  {
   "cell_type": "code",
   "execution_count": 14,
   "id": "aaf4cd62-52df-4464-b5b6-d6bde7a033fb",
   "metadata": {},
   "outputs": [
    {
     "data": {
      "text/html": [
       "<div>\n",
       "<style scoped>\n",
       "    .dataframe tbody tr th:only-of-type {\n",
       "        vertical-align: middle;\n",
       "    }\n",
       "\n",
       "    .dataframe tbody tr th {\n",
       "        vertical-align: top;\n",
       "    }\n",
       "\n",
       "    .dataframe thead th {\n",
       "        text-align: right;\n",
       "    }\n",
       "</style>\n",
       "<table border=\"1\" class=\"dataframe\">\n",
       "  <thead>\n",
       "    <tr style=\"text-align: right;\">\n",
       "      <th></th>\n",
       "      <th>state_name</th>\n",
       "      <th>county_fips</th>\n",
       "      <th>county_name</th>\n",
       "      <th>votes_gop</th>\n",
       "      <th>votes_dem</th>\n",
       "      <th>total_votes</th>\n",
       "    </tr>\n",
       "  </thead>\n",
       "  <tbody>\n",
       "    <tr>\n",
       "      <th>0</th>\n",
       "      <td>Alabama</td>\n",
       "      <td>01001</td>\n",
       "      <td>Autauga</td>\n",
       "      <td>19838</td>\n",
       "      <td>7503</td>\n",
       "      <td>27770</td>\n",
       "    </tr>\n",
       "    <tr>\n",
       "      <th>1</th>\n",
       "      <td>Alabama</td>\n",
       "      <td>01003</td>\n",
       "      <td>Baldwin</td>\n",
       "      <td>83544</td>\n",
       "      <td>24578</td>\n",
       "      <td>109679</td>\n",
       "    </tr>\n",
       "    <tr>\n",
       "      <th>2</th>\n",
       "      <td>Alabama</td>\n",
       "      <td>01005</td>\n",
       "      <td>Barbour</td>\n",
       "      <td>5622</td>\n",
       "      <td>4816</td>\n",
       "      <td>10518</td>\n",
       "    </tr>\n",
       "    <tr>\n",
       "      <th>3</th>\n",
       "      <td>Alabama</td>\n",
       "      <td>01007</td>\n",
       "      <td>Bibb</td>\n",
       "      <td>7525</td>\n",
       "      <td>1986</td>\n",
       "      <td>9595</td>\n",
       "    </tr>\n",
       "    <tr>\n",
       "      <th>4</th>\n",
       "      <td>Alabama</td>\n",
       "      <td>01009</td>\n",
       "      <td>Blount</td>\n",
       "      <td>24711</td>\n",
       "      <td>2640</td>\n",
       "      <td>27588</td>\n",
       "    </tr>\n",
       "  </tbody>\n",
       "</table>\n",
       "</div>"
      ],
      "text/plain": [
       "  state_name county_fips county_name  votes_gop  votes_dem  total_votes\n",
       "0    Alabama       01001     Autauga      19838       7503        27770\n",
       "1    Alabama       01003     Baldwin      83544      24578       109679\n",
       "2    Alabama       01005     Barbour       5622       4816        10518\n",
       "3    Alabama       01007        Bibb       7525       1986         9595\n",
       "4    Alabama       01009      Blount      24711       2640        27588"
      ]
     },
     "execution_count": 14,
     "metadata": {},
     "output_type": "execute_result"
    }
   ],
   "source": [
    "df.head()"
   ]
  },
  {
   "cell_type": "markdown",
   "id": "72e658cc-9c44-47ad-b408-92febaa946d0",
   "metadata": {},
   "source": [
    "### Did it work? Subset the data"
   ]
  },
  {
   "cell_type": "code",
   "execution_count": 15,
   "id": "66376f4e-28b6-4b58-a436-ff272ee3f296",
   "metadata": {},
   "outputs": [
    {
     "data": {
      "text/html": [
       "<div>\n",
       "<style scoped>\n",
       "    .dataframe tbody tr th:only-of-type {\n",
       "        vertical-align: middle;\n",
       "    }\n",
       "\n",
       "    .dataframe tbody tr th {\n",
       "        vertical-align: top;\n",
       "    }\n",
       "\n",
       "    .dataframe thead th {\n",
       "        text-align: right;\n",
       "    }\n",
       "</style>\n",
       "<table border=\"1\" class=\"dataframe\">\n",
       "  <thead>\n",
       "    <tr style=\"text-align: right;\">\n",
       "      <th></th>\n",
       "      <th>state_name</th>\n",
       "      <th>county_fips</th>\n",
       "      <th>county_name</th>\n",
       "      <th>votes_gop</th>\n",
       "      <th>votes_dem</th>\n",
       "      <th>total_votes</th>\n",
       "    </tr>\n",
       "  </thead>\n",
       "  <tbody>\n",
       "    <tr>\n",
       "      <th>1123</th>\n",
       "      <td>Louisiana</td>\n",
       "      <td>22001</td>\n",
       "      <td>Acadia</td>\n",
       "      <td>22596</td>\n",
       "      <td>5443</td>\n",
       "      <td>28425</td>\n",
       "    </tr>\n",
       "    <tr>\n",
       "      <th>1124</th>\n",
       "      <td>Louisiana</td>\n",
       "      <td>22003</td>\n",
       "      <td>Allen</td>\n",
       "      <td>7574</td>\n",
       "      <td>2108</td>\n",
       "      <td>9810</td>\n",
       "    </tr>\n",
       "    <tr>\n",
       "      <th>1125</th>\n",
       "      <td>Louisiana</td>\n",
       "      <td>22005</td>\n",
       "      <td>Ascension</td>\n",
       "      <td>40687</td>\n",
       "      <td>20399</td>\n",
       "      <td>62325</td>\n",
       "    </tr>\n",
       "    <tr>\n",
       "      <th>1126</th>\n",
       "      <td>Louisiana</td>\n",
       "      <td>22007</td>\n",
       "      <td>Assumption</td>\n",
       "      <td>7271</td>\n",
       "      <td>3833</td>\n",
       "      <td>11235</td>\n",
       "    </tr>\n",
       "    <tr>\n",
       "      <th>1127</th>\n",
       "      <td>Louisiana</td>\n",
       "      <td>22009</td>\n",
       "      <td>Avoyelles</td>\n",
       "      <td>12028</td>\n",
       "      <td>4979</td>\n",
       "      <td>17292</td>\n",
       "    </tr>\n",
       "    <tr>\n",
       "      <th>...</th>\n",
       "      <td>...</td>\n",
       "      <td>...</td>\n",
       "      <td>...</td>\n",
       "      <td>...</td>\n",
       "      <td>...</td>\n",
       "      <td>...</td>\n",
       "    </tr>\n",
       "    <tr>\n",
       "      <th>1182</th>\n",
       "      <td>Louisiana</td>\n",
       "      <td>22119</td>\n",
       "      <td>Webster</td>\n",
       "      <td>11830</td>\n",
       "      <td>6172</td>\n",
       "      <td>18216</td>\n",
       "    </tr>\n",
       "    <tr>\n",
       "      <th>1183</th>\n",
       "      <td>Louisiana</td>\n",
       "      <td>22121</td>\n",
       "      <td>West Baton Rouge</td>\n",
       "      <td>7684</td>\n",
       "      <td>6200</td>\n",
       "      <td>14097</td>\n",
       "    </tr>\n",
       "    <tr>\n",
       "      <th>1184</th>\n",
       "      <td>Louisiana</td>\n",
       "      <td>22123</td>\n",
       "      <td>West Carroll</td>\n",
       "      <td>4317</td>\n",
       "      <td>710</td>\n",
       "      <td>5052</td>\n",
       "    </tr>\n",
       "    <tr>\n",
       "      <th>1185</th>\n",
       "      <td>Louisiana</td>\n",
       "      <td>22125</td>\n",
       "      <td>West Feliciana</td>\n",
       "      <td>3863</td>\n",
       "      <td>2298</td>\n",
       "      <td>6268</td>\n",
       "    </tr>\n",
       "    <tr>\n",
       "      <th>1186</th>\n",
       "      <td>Louisiana</td>\n",
       "      <td>22127</td>\n",
       "      <td>Winn</td>\n",
       "      <td>4619</td>\n",
       "      <td>1543</td>\n",
       "      <td>6225</td>\n",
       "    </tr>\n",
       "  </tbody>\n",
       "</table>\n",
       "<p>64 rows × 6 columns</p>\n",
       "</div>"
      ],
      "text/plain": [
       "     state_name county_fips       county_name  votes_gop  votes_dem  \\\n",
       "1123  Louisiana       22001            Acadia      22596       5443   \n",
       "1124  Louisiana       22003             Allen       7574       2108   \n",
       "1125  Louisiana       22005         Ascension      40687      20399   \n",
       "1126  Louisiana       22007        Assumption       7271       3833   \n",
       "1127  Louisiana       22009         Avoyelles      12028       4979   \n",
       "...         ...         ...               ...        ...        ...   \n",
       "1182  Louisiana       22119           Webster      11830       6172   \n",
       "1183  Louisiana       22121  West Baton Rouge       7684       6200   \n",
       "1184  Louisiana       22123      West Carroll       4317        710   \n",
       "1185  Louisiana       22125    West Feliciana       3863       2298   \n",
       "1186  Louisiana       22127              Winn       4619       1543   \n",
       "\n",
       "      total_votes  \n",
       "1123        28425  \n",
       "1124         9810  \n",
       "1125        62325  \n",
       "1126        11235  \n",
       "1127        17292  \n",
       "...           ...  \n",
       "1182        18216  \n",
       "1183        14097  \n",
       "1184         5052  \n",
       "1185         6268  \n",
       "1186         6225  \n",
       "\n",
       "[64 rows x 6 columns]"
      ]
     },
     "execution_count": 15,
     "metadata": {},
     "output_type": "execute_result"
    }
   ],
   "source": [
    "df[df[\"state_name\"] == \"Louisiana\"]"
   ]
  },
  {
   "cell_type": "code",
   "execution_count": 22,
   "id": "9e7eca32-dd76-4db5-be14-5732e55aad9f",
   "metadata": {},
   "outputs": [
    {
     "data": {
      "text/html": [
       "<div>\n",
       "<style scoped>\n",
       "    .dataframe tbody tr th:only-of-type {\n",
       "        vertical-align: middle;\n",
       "    }\n",
       "\n",
       "    .dataframe tbody tr th {\n",
       "        vertical-align: top;\n",
       "    }\n",
       "\n",
       "    .dataframe thead th {\n",
       "        text-align: right;\n",
       "    }\n",
       "</style>\n",
       "<table border=\"1\" class=\"dataframe\">\n",
       "  <thead>\n",
       "    <tr style=\"text-align: right;\">\n",
       "      <th></th>\n",
       "      <th>state_name</th>\n",
       "      <th>county_fips</th>\n",
       "      <th>county_name</th>\n",
       "      <th>votes_gop</th>\n",
       "      <th>votes_dem</th>\n",
       "      <th>total_votes</th>\n",
       "    </tr>\n",
       "  </thead>\n",
       "  <tbody>\n",
       "    <tr>\n",
       "      <th>114</th>\n",
       "      <td>Arizona</td>\n",
       "      <td>04013</td>\n",
       "      <td>Maricopa</td>\n",
       "      <td>995665</td>\n",
       "      <td>1040774</td>\n",
       "      <td>2069475</td>\n",
       "    </tr>\n",
       "    <tr>\n",
       "      <th>215</th>\n",
       "      <td>California</td>\n",
       "      <td>06037</td>\n",
       "      <td>Los Angeles</td>\n",
       "      <td>1145530</td>\n",
       "      <td>3028885</td>\n",
       "      <td>4263443</td>\n",
       "    </tr>\n",
       "    <tr>\n",
       "      <th>226</th>\n",
       "      <td>California</td>\n",
       "      <td>06059</td>\n",
       "      <td>Orange</td>\n",
       "      <td>676498</td>\n",
       "      <td>814009</td>\n",
       "      <td>1521725</td>\n",
       "    </tr>\n",
       "    <tr>\n",
       "      <th>233</th>\n",
       "      <td>California</td>\n",
       "      <td>06073</td>\n",
       "      <td>San Diego</td>\n",
       "      <td>600094</td>\n",
       "      <td>964650</td>\n",
       "      <td>1601722</td>\n",
       "    </tr>\n",
       "    <tr>\n",
       "      <th>373</th>\n",
       "      <td>Florida</td>\n",
       "      <td>12086</td>\n",
       "      <td>Miami-Dade</td>\n",
       "      <td>532833</td>\n",
       "      <td>617864</td>\n",
       "      <td>1156816</td>\n",
       "    </tr>\n",
       "    <tr>\n",
       "      <th>620</th>\n",
       "      <td>Illinois</td>\n",
       "      <td>17031</td>\n",
       "      <td>Cook</td>\n",
       "      <td>558269</td>\n",
       "      <td>1725973</td>\n",
       "      <td>2321399</td>\n",
       "    </tr>\n",
       "    <tr>\n",
       "      <th>2633</th>\n",
       "      <td>Texas</td>\n",
       "      <td>48201</td>\n",
       "      <td>Harris</td>\n",
       "      <td>700630</td>\n",
       "      <td>918193</td>\n",
       "      <td>1640818</td>\n",
       "    </tr>\n",
       "  </tbody>\n",
       "</table>\n",
       "</div>"
      ],
      "text/plain": [
       "      state_name county_fips  county_name  votes_gop  votes_dem  total_votes\n",
       "114      Arizona       04013     Maricopa     995665    1040774      2069475\n",
       "215   California       06037  Los Angeles    1145530    3028885      4263443\n",
       "226   California       06059       Orange     676498     814009      1521725\n",
       "233   California       06073    San Diego     600094     964650      1601722\n",
       "373      Florida       12086   Miami-Dade     532833     617864      1156816\n",
       "620     Illinois       17031         Cook     558269    1725973      2321399\n",
       "2633       Texas       48201       Harris     700630     918193      1640818"
      ]
     },
     "execution_count": 22,
     "metadata": {},
     "output_type": "execute_result"
    }
   ],
   "source": [
    "df[df[\"votes_gop\"] > 500000]"
   ]
  },
  {
   "cell_type": "markdown",
   "id": "47be1083-6a4c-40b0-aa15-68382b56c4ae",
   "metadata": {},
   "source": [
    "### Subset some more. Just large Texas counties?"
   ]
  },
  {
   "cell_type": "code",
   "execution_count": 29,
   "id": "7d73eac9-1e88-4465-9ab3-9e2627b3028d",
   "metadata": {},
   "outputs": [],
   "source": [
    "df_texas_big = df[(df[\"state_name\"] == \"Texas\") & (df[\"total_votes\"] > 250000)]"
   ]
  },
  {
   "cell_type": "code",
   "execution_count": 30,
   "id": "5e23fd54-f550-4949-88cd-715cfca7a4f7",
   "metadata": {},
   "outputs": [
    {
     "data": {
      "text/html": [
       "<div>\n",
       "<style scoped>\n",
       "    .dataframe tbody tr th:only-of-type {\n",
       "        vertical-align: middle;\n",
       "    }\n",
       "\n",
       "    .dataframe tbody tr th {\n",
       "        vertical-align: top;\n",
       "    }\n",
       "\n",
       "    .dataframe thead th {\n",
       "        text-align: right;\n",
       "    }\n",
       "</style>\n",
       "<table border=\"1\" class=\"dataframe\">\n",
       "  <thead>\n",
       "    <tr style=\"text-align: right;\">\n",
       "      <th></th>\n",
       "      <th>state_name</th>\n",
       "      <th>county_fips</th>\n",
       "      <th>county_name</th>\n",
       "      <th>votes_gop</th>\n",
       "      <th>votes_dem</th>\n",
       "      <th>total_votes</th>\n",
       "    </tr>\n",
       "  </thead>\n",
       "  <tbody>\n",
       "    <tr>\n",
       "      <th>2547</th>\n",
       "      <td>Texas</td>\n",
       "      <td>48029</td>\n",
       "      <td>Bexar</td>\n",
       "      <td>308618</td>\n",
       "      <td>448452</td>\n",
       "      <td>768952</td>\n",
       "    </tr>\n",
       "    <tr>\n",
       "      <th>2575</th>\n",
       "      <td>Texas</td>\n",
       "      <td>48085</td>\n",
       "      <td>Collin</td>\n",
       "      <td>252318</td>\n",
       "      <td>230945</td>\n",
       "      <td>492216</td>\n",
       "    </tr>\n",
       "    <tr>\n",
       "      <th>2589</th>\n",
       "      <td>Texas</td>\n",
       "      <td>48113</td>\n",
       "      <td>Dallas</td>\n",
       "      <td>307076</td>\n",
       "      <td>598576</td>\n",
       "      <td>921638</td>\n",
       "    </tr>\n",
       "    <tr>\n",
       "      <th>2593</th>\n",
       "      <td>Texas</td>\n",
       "      <td>48121</td>\n",
       "      <td>Denton</td>\n",
       "      <td>222480</td>\n",
       "      <td>188695</td>\n",
       "      <td>417964</td>\n",
       "    </tr>\n",
       "    <tr>\n",
       "      <th>2603</th>\n",
       "      <td>Texas</td>\n",
       "      <td>48141</td>\n",
       "      <td>El Paso</td>\n",
       "      <td>84331</td>\n",
       "      <td>178126</td>\n",
       "      <td>267215</td>\n",
       "    </tr>\n",
       "    <tr>\n",
       "      <th>2611</th>\n",
       "      <td>Texas</td>\n",
       "      <td>48157</td>\n",
       "      <td>Fort Bend</td>\n",
       "      <td>157718</td>\n",
       "      <td>195552</td>\n",
       "      <td>357514</td>\n",
       "    </tr>\n",
       "    <tr>\n",
       "      <th>2633</th>\n",
       "      <td>Texas</td>\n",
       "      <td>48201</td>\n",
       "      <td>Harris</td>\n",
       "      <td>700630</td>\n",
       "      <td>918193</td>\n",
       "      <td>1640818</td>\n",
       "    </tr>\n",
       "    <tr>\n",
       "      <th>2702</th>\n",
       "      <td>Texas</td>\n",
       "      <td>48339</td>\n",
       "      <td>Montgomery</td>\n",
       "      <td>193382</td>\n",
       "      <td>74377</td>\n",
       "      <td>271451</td>\n",
       "    </tr>\n",
       "    <tr>\n",
       "      <th>2752</th>\n",
       "      <td>Texas</td>\n",
       "      <td>48439</td>\n",
       "      <td>Tarrant</td>\n",
       "      <td>409741</td>\n",
       "      <td>411567</td>\n",
       "      <td>834697</td>\n",
       "    </tr>\n",
       "    <tr>\n",
       "      <th>2759</th>\n",
       "      <td>Texas</td>\n",
       "      <td>48453</td>\n",
       "      <td>Travis</td>\n",
       "      <td>161337</td>\n",
       "      <td>435860</td>\n",
       "      <td>610349</td>\n",
       "    </tr>\n",
       "    <tr>\n",
       "      <th>2778</th>\n",
       "      <td>Texas</td>\n",
       "      <td>48491</td>\n",
       "      <td>Williamson</td>\n",
       "      <td>139729</td>\n",
       "      <td>143795</td>\n",
       "      <td>289312</td>\n",
       "    </tr>\n",
       "  </tbody>\n",
       "</table>\n",
       "</div>"
      ],
      "text/plain": [
       "     state_name county_fips county_name  votes_gop  votes_dem  total_votes\n",
       "2547      Texas       48029       Bexar     308618     448452       768952\n",
       "2575      Texas       48085      Collin     252318     230945       492216\n",
       "2589      Texas       48113      Dallas     307076     598576       921638\n",
       "2593      Texas       48121      Denton     222480     188695       417964\n",
       "2603      Texas       48141     El Paso      84331     178126       267215\n",
       "2611      Texas       48157   Fort Bend     157718     195552       357514\n",
       "2633      Texas       48201      Harris     700630     918193      1640818\n",
       "2702      Texas       48339  Montgomery     193382      74377       271451\n",
       "2752      Texas       48439     Tarrant     409741     411567       834697\n",
       "2759      Texas       48453      Travis     161337     435860       610349\n",
       "2778      Texas       48491  Williamson     139729     143795       289312"
      ]
     },
     "execution_count": 30,
     "metadata": {},
     "output_type": "execute_result"
    }
   ],
   "source": [
    "df_texas_big"
   ]
  },
  {
   "cell_type": "markdown",
   "id": "044a61e1-276e-4120-a332-f0cc08b04d2c",
   "metadata": {},
   "source": [
    "---"
   ]
  },
  {
   "cell_type": "markdown",
   "id": "65c83d9e-f200-420a-8408-1f7720139597",
   "metadata": {},
   "source": [
    "### Calculate the margin for each party"
   ]
  },
  {
   "cell_type": "code",
   "execution_count": 40,
   "id": "658fd469-5108-48e6-b86d-c2d262462d96",
   "metadata": {},
   "outputs": [],
   "source": [
    "df[\"pct_dem\"] = round((df[\"votes_dem\"] / df[\"total_votes\"]) * 100, 0)\n",
    "df[\"pct_gop\"] = round((df[\"votes_gop\"] / df[\"total_votes\"]) * 100, 0)"
   ]
  },
  {
   "cell_type": "code",
   "execution_count": 42,
   "id": "34abdbac-3e10-42b9-8c7a-e8a973fe0b1e",
   "metadata": {},
   "outputs": [],
   "source": [
    "df[\"dem_diff\"] = df[\"pct_dem\"] - df[\"pct_gop\"]\n",
    "df[\"gop_diff\"] = df[\"pct_gop\"] - df[\"pct_dem\"]"
   ]
  },
  {
   "cell_type": "code",
   "execution_count": 43,
   "id": "bc0d17ab-8045-40c1-b4d7-07236ec7ed28",
   "metadata": {},
   "outputs": [
    {
     "data": {
      "text/html": [
       "<div>\n",
       "<style scoped>\n",
       "    .dataframe tbody tr th:only-of-type {\n",
       "        vertical-align: middle;\n",
       "    }\n",
       "\n",
       "    .dataframe tbody tr th {\n",
       "        vertical-align: top;\n",
       "    }\n",
       "\n",
       "    .dataframe thead th {\n",
       "        text-align: right;\n",
       "    }\n",
       "</style>\n",
       "<table border=\"1\" class=\"dataframe\">\n",
       "  <thead>\n",
       "    <tr style=\"text-align: right;\">\n",
       "      <th></th>\n",
       "      <th>state_name</th>\n",
       "      <th>county_fips</th>\n",
       "      <th>county_name</th>\n",
       "      <th>votes_gop</th>\n",
       "      <th>votes_dem</th>\n",
       "      <th>total_votes</th>\n",
       "      <th>pct_dem</th>\n",
       "      <th>pct_gop</th>\n",
       "      <th>dem_diff</th>\n",
       "      <th>gop_diff</th>\n",
       "    </tr>\n",
       "  </thead>\n",
       "  <tbody>\n",
       "    <tr>\n",
       "      <th>0</th>\n",
       "      <td>Alabama</td>\n",
       "      <td>01001</td>\n",
       "      <td>Autauga</td>\n",
       "      <td>19838</td>\n",
       "      <td>7503</td>\n",
       "      <td>27770</td>\n",
       "      <td>27.0</td>\n",
       "      <td>71.0</td>\n",
       "      <td>-44.0</td>\n",
       "      <td>44.0</td>\n",
       "    </tr>\n",
       "    <tr>\n",
       "      <th>1</th>\n",
       "      <td>Alabama</td>\n",
       "      <td>01003</td>\n",
       "      <td>Baldwin</td>\n",
       "      <td>83544</td>\n",
       "      <td>24578</td>\n",
       "      <td>109679</td>\n",
       "      <td>22.0</td>\n",
       "      <td>76.0</td>\n",
       "      <td>-54.0</td>\n",
       "      <td>54.0</td>\n",
       "    </tr>\n",
       "    <tr>\n",
       "      <th>2</th>\n",
       "      <td>Alabama</td>\n",
       "      <td>01005</td>\n",
       "      <td>Barbour</td>\n",
       "      <td>5622</td>\n",
       "      <td>4816</td>\n",
       "      <td>10518</td>\n",
       "      <td>46.0</td>\n",
       "      <td>53.0</td>\n",
       "      <td>-7.0</td>\n",
       "      <td>7.0</td>\n",
       "    </tr>\n",
       "    <tr>\n",
       "      <th>3</th>\n",
       "      <td>Alabama</td>\n",
       "      <td>01007</td>\n",
       "      <td>Bibb</td>\n",
       "      <td>7525</td>\n",
       "      <td>1986</td>\n",
       "      <td>9595</td>\n",
       "      <td>21.0</td>\n",
       "      <td>78.0</td>\n",
       "      <td>-57.0</td>\n",
       "      <td>57.0</td>\n",
       "    </tr>\n",
       "    <tr>\n",
       "      <th>4</th>\n",
       "      <td>Alabama</td>\n",
       "      <td>01009</td>\n",
       "      <td>Blount</td>\n",
       "      <td>24711</td>\n",
       "      <td>2640</td>\n",
       "      <td>27588</td>\n",
       "      <td>10.0</td>\n",
       "      <td>90.0</td>\n",
       "      <td>-80.0</td>\n",
       "      <td>80.0</td>\n",
       "    </tr>\n",
       "  </tbody>\n",
       "</table>\n",
       "</div>"
      ],
      "text/plain": [
       "  state_name county_fips county_name  votes_gop  votes_dem  total_votes  \\\n",
       "0    Alabama       01001     Autauga      19838       7503        27770   \n",
       "1    Alabama       01003     Baldwin      83544      24578       109679   \n",
       "2    Alabama       01005     Barbour       5622       4816        10518   \n",
       "3    Alabama       01007        Bibb       7525       1986         9595   \n",
       "4    Alabama       01009      Blount      24711       2640        27588   \n",
       "\n",
       "   pct_dem  pct_gop  dem_diff  gop_diff  \n",
       "0     27.0     71.0     -44.0      44.0  \n",
       "1     22.0     76.0     -54.0      54.0  \n",
       "2     46.0     53.0      -7.0       7.0  \n",
       "3     21.0     78.0     -57.0      57.0  \n",
       "4     10.0     90.0     -80.0      80.0  "
      ]
     },
     "execution_count": 43,
     "metadata": {},
     "output_type": "execute_result"
    }
   ],
   "source": [
    "df.head()"
   ]
  },
  {
   "cell_type": "markdown",
   "id": "522629ea-9f41-4deb-aa8b-53e93202acdf",
   "metadata": {},
   "source": [
    "### Which party won each county — the Python way?"
   ]
  },
  {
   "cell_type": "code",
   "execution_count": 48,
   "id": "888a6fc9-04cc-4e7b-9efa-cf8c846b58d0",
   "metadata": {},
   "outputs": [],
   "source": [
    "def winner(r):\n",
    "    if r[\"votes_dem\"] > r[\"votes_gop\"]:\n",
    "        return \"dem\"\n",
    "    elif r[\"votes_gop\"] > r[\"votes_dem\"]:\n",
    "        return \"gop\"\n",
    "    else:\n",
    "        return \"tie\""
   ]
  },
  {
   "cell_type": "code",
   "execution_count": 49,
   "id": "29ec4dde-1489-46e9-8d75-6d5598d1c329",
   "metadata": {},
   "outputs": [],
   "source": [
    "df[\"winner\"] = df.apply(winner, axis=1)"
   ]
  },
  {
   "cell_type": "code",
   "execution_count": 56,
   "id": "df41a66a-f2a7-4f4c-9bc5-4951e326878f",
   "metadata": {},
   "outputs": [
    {
     "data": {
      "text/plain": [
       "gop    2595\n",
       "dem     557\n",
       "Name: winner, dtype: int64"
      ]
     },
     "execution_count": 56,
     "metadata": {},
     "output_type": "execute_result"
    }
   ],
   "source": [
    "df[\"winner\"].value_counts()"
   ]
  },
  {
   "cell_type": "code",
   "execution_count": 55,
   "id": "4ac11fa7-0973-499c-9ac0-b52832d398f1",
   "metadata": {},
   "outputs": [
    {
     "data": {
      "text/plain": [
       "gop    0.82\n",
       "dem    0.18\n",
       "Name: winner, dtype: float64"
      ]
     },
     "execution_count": 55,
     "metadata": {},
     "output_type": "execute_result"
    }
   ],
   "source": [
    "df[\"winner\"].value_counts(\"normalize\").round(2)"
   ]
  },
  {
   "cell_type": "markdown",
   "id": "c3326edc-5918-4561-bcc7-e17341999121",
   "metadata": {},
   "source": [
    "### Or, the Pandas way? "
   ]
  },
  {
   "cell_type": "code",
   "execution_count": 69,
   "id": "349b0638-dd8d-42fc-9695-34b9827df905",
   "metadata": {},
   "outputs": [],
   "source": [
    "df[\"winner_nu\"] = (\n",
    "    df[[\"votes_dem\", \"votes_gop\"]].idxmax(axis=1).str.replace(\"votes_\", \"\")\n",
    ")"
   ]
  },
  {
   "cell_type": "markdown",
   "id": "1eb8bfe4-76ba-4859-b72e-90c34ab12ce8",
   "metadata": {},
   "source": [
    "### Did it work? "
   ]
  },
  {
   "cell_type": "code",
   "execution_count": 70,
   "id": "74dff665-3a28-4bc3-b0a3-274b43bb4682",
   "metadata": {},
   "outputs": [
    {
     "data": {
      "text/html": [
       "<div>\n",
       "<style scoped>\n",
       "    .dataframe tbody tr th:only-of-type {\n",
       "        vertical-align: middle;\n",
       "    }\n",
       "\n",
       "    .dataframe tbody tr th {\n",
       "        vertical-align: top;\n",
       "    }\n",
       "\n",
       "    .dataframe thead th {\n",
       "        text-align: right;\n",
       "    }\n",
       "</style>\n",
       "<table border=\"1\" class=\"dataframe\">\n",
       "  <thead>\n",
       "    <tr style=\"text-align: right;\">\n",
       "      <th></th>\n",
       "      <th>state_name</th>\n",
       "      <th>county_fips</th>\n",
       "      <th>county_name</th>\n",
       "      <th>votes_gop</th>\n",
       "      <th>votes_dem</th>\n",
       "      <th>total_votes</th>\n",
       "      <th>pct_dem</th>\n",
       "      <th>pct_gop</th>\n",
       "      <th>dem_diff</th>\n",
       "      <th>gop_diff</th>\n",
       "      <th>winner</th>\n",
       "      <th>winner_nu</th>\n",
       "    </tr>\n",
       "  </thead>\n",
       "  <tbody>\n",
       "    <tr>\n",
       "      <th>0</th>\n",
       "      <td>Alabama</td>\n",
       "      <td>01001</td>\n",
       "      <td>Autauga</td>\n",
       "      <td>19838</td>\n",
       "      <td>7503</td>\n",
       "      <td>27770</td>\n",
       "      <td>27.0</td>\n",
       "      <td>71.0</td>\n",
       "      <td>-44.0</td>\n",
       "      <td>44.0</td>\n",
       "      <td>gop</td>\n",
       "      <td>gop</td>\n",
       "    </tr>\n",
       "    <tr>\n",
       "      <th>1</th>\n",
       "      <td>Alabama</td>\n",
       "      <td>01003</td>\n",
       "      <td>Baldwin</td>\n",
       "      <td>83544</td>\n",
       "      <td>24578</td>\n",
       "      <td>109679</td>\n",
       "      <td>22.0</td>\n",
       "      <td>76.0</td>\n",
       "      <td>-54.0</td>\n",
       "      <td>54.0</td>\n",
       "      <td>gop</td>\n",
       "      <td>gop</td>\n",
       "    </tr>\n",
       "    <tr>\n",
       "      <th>2</th>\n",
       "      <td>Alabama</td>\n",
       "      <td>01005</td>\n",
       "      <td>Barbour</td>\n",
       "      <td>5622</td>\n",
       "      <td>4816</td>\n",
       "      <td>10518</td>\n",
       "      <td>46.0</td>\n",
       "      <td>53.0</td>\n",
       "      <td>-7.0</td>\n",
       "      <td>7.0</td>\n",
       "      <td>gop</td>\n",
       "      <td>gop</td>\n",
       "    </tr>\n",
       "    <tr>\n",
       "      <th>3</th>\n",
       "      <td>Alabama</td>\n",
       "      <td>01007</td>\n",
       "      <td>Bibb</td>\n",
       "      <td>7525</td>\n",
       "      <td>1986</td>\n",
       "      <td>9595</td>\n",
       "      <td>21.0</td>\n",
       "      <td>78.0</td>\n",
       "      <td>-57.0</td>\n",
       "      <td>57.0</td>\n",
       "      <td>gop</td>\n",
       "      <td>gop</td>\n",
       "    </tr>\n",
       "    <tr>\n",
       "      <th>4</th>\n",
       "      <td>Alabama</td>\n",
       "      <td>01009</td>\n",
       "      <td>Blount</td>\n",
       "      <td>24711</td>\n",
       "      <td>2640</td>\n",
       "      <td>27588</td>\n",
       "      <td>10.0</td>\n",
       "      <td>90.0</td>\n",
       "      <td>-80.0</td>\n",
       "      <td>80.0</td>\n",
       "      <td>gop</td>\n",
       "      <td>gop</td>\n",
       "    </tr>\n",
       "  </tbody>\n",
       "</table>\n",
       "</div>"
      ],
      "text/plain": [
       "  state_name county_fips county_name  votes_gop  votes_dem  total_votes  \\\n",
       "0    Alabama       01001     Autauga      19838       7503        27770   \n",
       "1    Alabama       01003     Baldwin      83544      24578       109679   \n",
       "2    Alabama       01005     Barbour       5622       4816        10518   \n",
       "3    Alabama       01007        Bibb       7525       1986         9595   \n",
       "4    Alabama       01009      Blount      24711       2640        27588   \n",
       "\n",
       "   pct_dem  pct_gop  dem_diff  gop_diff winner winner_nu  \n",
       "0     27.0     71.0     -44.0      44.0    gop       gop  \n",
       "1     22.0     76.0     -54.0      54.0    gop       gop  \n",
       "2     46.0     53.0      -7.0       7.0    gop       gop  \n",
       "3     21.0     78.0     -57.0      57.0    gop       gop  \n",
       "4     10.0     90.0     -80.0      80.0    gop       gop  "
      ]
     },
     "execution_count": 70,
     "metadata": {},
     "output_type": "execute_result"
    }
   ],
   "source": [
    "df.head()"
   ]
  },
  {
   "cell_type": "markdown",
   "id": "d5defb8e-7068-4423-acff-b8aa086fe419",
   "metadata": {},
   "source": [
    "### We don't need that 'winner_nu' column"
   ]
  },
  {
   "cell_type": "code",
   "execution_count": 73,
   "id": "e1e51339-be93-4186-992b-a76541a459d2",
   "metadata": {},
   "outputs": [],
   "source": [
    "df.drop([\"winner_nu\"], axis=1, inplace=True)"
   ]
  },
  {
   "cell_type": "code",
   "execution_count": 74,
   "id": "8811beba-aa20-4207-85fc-67d913c2c72b",
   "metadata": {},
   "outputs": [
    {
     "data": {
      "text/html": [
       "<div>\n",
       "<style scoped>\n",
       "    .dataframe tbody tr th:only-of-type {\n",
       "        vertical-align: middle;\n",
       "    }\n",
       "\n",
       "    .dataframe tbody tr th {\n",
       "        vertical-align: top;\n",
       "    }\n",
       "\n",
       "    .dataframe thead th {\n",
       "        text-align: right;\n",
       "    }\n",
       "</style>\n",
       "<table border=\"1\" class=\"dataframe\">\n",
       "  <thead>\n",
       "    <tr style=\"text-align: right;\">\n",
       "      <th></th>\n",
       "      <th>state_name</th>\n",
       "      <th>county_fips</th>\n",
       "      <th>county_name</th>\n",
       "      <th>votes_gop</th>\n",
       "      <th>votes_dem</th>\n",
       "      <th>total_votes</th>\n",
       "      <th>pct_dem</th>\n",
       "      <th>pct_gop</th>\n",
       "      <th>dem_diff</th>\n",
       "      <th>gop_diff</th>\n",
       "      <th>winner</th>\n",
       "    </tr>\n",
       "  </thead>\n",
       "  <tbody>\n",
       "    <tr>\n",
       "      <th>0</th>\n",
       "      <td>Alabama</td>\n",
       "      <td>01001</td>\n",
       "      <td>Autauga</td>\n",
       "      <td>19838</td>\n",
       "      <td>7503</td>\n",
       "      <td>27770</td>\n",
       "      <td>27.0</td>\n",
       "      <td>71.0</td>\n",
       "      <td>-44.0</td>\n",
       "      <td>44.0</td>\n",
       "      <td>gop</td>\n",
       "    </tr>\n",
       "    <tr>\n",
       "      <th>1</th>\n",
       "      <td>Alabama</td>\n",
       "      <td>01003</td>\n",
       "      <td>Baldwin</td>\n",
       "      <td>83544</td>\n",
       "      <td>24578</td>\n",
       "      <td>109679</td>\n",
       "      <td>22.0</td>\n",
       "      <td>76.0</td>\n",
       "      <td>-54.0</td>\n",
       "      <td>54.0</td>\n",
       "      <td>gop</td>\n",
       "    </tr>\n",
       "    <tr>\n",
       "      <th>2</th>\n",
       "      <td>Alabama</td>\n",
       "      <td>01005</td>\n",
       "      <td>Barbour</td>\n",
       "      <td>5622</td>\n",
       "      <td>4816</td>\n",
       "      <td>10518</td>\n",
       "      <td>46.0</td>\n",
       "      <td>53.0</td>\n",
       "      <td>-7.0</td>\n",
       "      <td>7.0</td>\n",
       "      <td>gop</td>\n",
       "    </tr>\n",
       "    <tr>\n",
       "      <th>3</th>\n",
       "      <td>Alabama</td>\n",
       "      <td>01007</td>\n",
       "      <td>Bibb</td>\n",
       "      <td>7525</td>\n",
       "      <td>1986</td>\n",
       "      <td>9595</td>\n",
       "      <td>21.0</td>\n",
       "      <td>78.0</td>\n",
       "      <td>-57.0</td>\n",
       "      <td>57.0</td>\n",
       "      <td>gop</td>\n",
       "    </tr>\n",
       "    <tr>\n",
       "      <th>4</th>\n",
       "      <td>Alabama</td>\n",
       "      <td>01009</td>\n",
       "      <td>Blount</td>\n",
       "      <td>24711</td>\n",
       "      <td>2640</td>\n",
       "      <td>27588</td>\n",
       "      <td>10.0</td>\n",
       "      <td>90.0</td>\n",
       "      <td>-80.0</td>\n",
       "      <td>80.0</td>\n",
       "      <td>gop</td>\n",
       "    </tr>\n",
       "  </tbody>\n",
       "</table>\n",
       "</div>"
      ],
      "text/plain": [
       "  state_name county_fips county_name  votes_gop  votes_dem  total_votes  \\\n",
       "0    Alabama       01001     Autauga      19838       7503        27770   \n",
       "1    Alabama       01003     Baldwin      83544      24578       109679   \n",
       "2    Alabama       01005     Barbour       5622       4816        10518   \n",
       "3    Alabama       01007        Bibb       7525       1986         9595   \n",
       "4    Alabama       01009      Blount      24711       2640        27588   \n",
       "\n",
       "   pct_dem  pct_gop  dem_diff  gop_diff winner  \n",
       "0     27.0     71.0     -44.0      44.0    gop  \n",
       "1     22.0     76.0     -54.0      54.0    gop  \n",
       "2     46.0     53.0      -7.0       7.0    gop  \n",
       "3     21.0     78.0     -57.0      57.0    gop  \n",
       "4     10.0     90.0     -80.0      80.0    gop  "
      ]
     },
     "execution_count": 74,
     "metadata": {},
     "output_type": "execute_result"
    }
   ],
   "source": [
    "df.head()"
   ]
  },
  {
   "cell_type": "markdown",
   "id": "8264edb9-4bc3-43e2-9ff8-063d8b69361a",
   "metadata": {},
   "source": [
    "---"
   ]
  },
  {
   "cell_type": "markdown",
   "id": "908eff52-9001-4095-8140-53e09fae7099",
   "metadata": {},
   "source": [
    "### Where was the Republicans' largest margin? "
   ]
  },
  {
   "cell_type": "code",
   "execution_count": null,
   "id": "3c3d5b30-f5ab-4473-a74d-a8940efccd20",
   "metadata": {},
   "outputs": [],
   "source": []
  },
  {
   "cell_type": "markdown",
   "id": "e323ea1e-8df5-4b27-a6de-1d255f67b85a",
   "metadata": {},
   "source": [
    "### Which counties were most Democratic?"
   ]
  },
  {
   "cell_type": "code",
   "execution_count": null,
   "id": "fe2b5275-f3df-4a86-89a0-fd7f28bd9957",
   "metadata": {},
   "outputs": [],
   "source": []
  },
  {
   "cell_type": "markdown",
   "id": "ee3f8e6a-5ee2-4c91-aae9-8dd8a1ebddb9",
   "metadata": {},
   "source": [
    "### Which counties were most Republican?"
   ]
  },
  {
   "cell_type": "code",
   "execution_count": null,
   "id": "d32a6c88-732b-47f7-99c9-443fc1428722",
   "metadata": {},
   "outputs": [],
   "source": []
  },
  {
   "cell_type": "markdown",
   "id": "2180c403-4539-40e7-9824-792ad7475895",
   "metadata": {},
   "source": [
    "### Which counties were most Democratic? "
   ]
  },
  {
   "cell_type": "code",
   "execution_count": null,
   "id": "ad42033f-2bc8-4556-ab16-53b11120c184",
   "metadata": {},
   "outputs": [],
   "source": []
  },
  {
   "cell_type": "markdown",
   "id": "cc1126af-72e8-4940-99ee-f5f64a2b8153",
   "metadata": {},
   "source": [
    "---"
   ]
  },
  {
   "cell_type": "markdown",
   "id": "92004ae1-9b09-4bec-a85f-ecc2ba8c80de",
   "metadata": {},
   "source": [
    "### Difference between counties won and votes won"
   ]
  },
  {
   "cell_type": "code",
   "execution_count": null,
   "id": "23891728-47cf-4c33-b19c-3f3c23fd26ed",
   "metadata": {},
   "outputs": [],
   "source": []
  },
  {
   "cell_type": "markdown",
   "id": "79d131fb-3905-4d43-a6e2-e62b5cc56452",
   "metadata": {},
   "source": [
    "### Aggregate by winner"
   ]
  },
  {
   "cell_type": "code",
   "execution_count": null,
   "id": "9ee74b1e-b978-47e0-9389-bf43a34d8a81",
   "metadata": {},
   "outputs": [],
   "source": []
  },
  {
   "cell_type": "code",
   "execution_count": null,
   "id": "c3dc4708-bbca-4562-b2cd-a2d345f22cac",
   "metadata": {},
   "outputs": [],
   "source": []
  },
  {
   "cell_type": "code",
   "execution_count": null,
   "id": "57a3f421-0377-4369-92d1-4a6cf57a27f0",
   "metadata": {},
   "outputs": [],
   "source": []
  },
  {
   "cell_type": "markdown",
   "id": "08cd2fb1-6473-4c24-84f0-26e0c8ea4115",
   "metadata": {},
   "source": [
    "---"
   ]
  },
  {
   "cell_type": "markdown",
   "id": "00157c46-e6fe-4826-b13d-598fb4f3573f",
   "metadata": {},
   "source": [
    "### Aggregate by state"
   ]
  },
  {
   "cell_type": "code",
   "execution_count": null,
   "id": "b2787fdf-ad97-41d4-8c2a-7a38a136ee80",
   "metadata": {},
   "outputs": [],
   "source": []
  },
  {
   "cell_type": "markdown",
   "id": "30a53212-85f0-4ab4-a347-0dcf0f059889",
   "metadata": {},
   "source": [
    "### Assign the new dataframe to a variable called states"
   ]
  },
  {
   "cell_type": "code",
   "execution_count": null,
   "id": "febca487-37b9-4804-b964-35bcfac65e48",
   "metadata": {},
   "outputs": [],
   "source": []
  },
  {
   "cell_type": "markdown",
   "id": "b2c78b9c-df41-4b7c-8ad3-da3355c59096",
   "metadata": {},
   "source": [
    "### Calculate vote share by state"
   ]
  },
  {
   "cell_type": "code",
   "execution_count": null,
   "id": "f54b6911-74de-41be-8c5d-4985ae3ba427",
   "metadata": {},
   "outputs": [],
   "source": []
  },
  {
   "cell_type": "code",
   "execution_count": null,
   "id": "631b2832-5f22-419e-8db7-b88e1b997c65",
   "metadata": {},
   "outputs": [],
   "source": []
  },
  {
   "cell_type": "markdown",
   "id": "3f5a838e-ffcc-4d95-8de8-54704868cf0d",
   "metadata": {},
   "source": [
    "### And the winner is..."
   ]
  },
  {
   "cell_type": "code",
   "execution_count": null,
   "id": "9d2dfc55-09f0-40de-b206-5103283d8a10",
   "metadata": {},
   "outputs": [],
   "source": []
  },
  {
   "cell_type": "code",
   "execution_count": null,
   "id": "ddf6671e-7cf9-4db6-a522-c2f37770a7ef",
   "metadata": {},
   "outputs": [],
   "source": []
  },
  {
   "cell_type": "code",
   "execution_count": null,
   "id": "a3d98a92-d0d5-4db2-9c72-802304c958bb",
   "metadata": {},
   "outputs": [],
   "source": []
  },
  {
   "cell_type": "markdown",
   "id": "7d1c5bca-9d7a-41da-953a-23c072377359",
   "metadata": {},
   "source": [
    "---"
   ]
  },
  {
   "cell_type": "markdown",
   "id": "31e8da25-6c26-4da2-8c90-1019d2d1c575",
   "metadata": {},
   "source": [
    "### Export the states"
   ]
  },
  {
   "cell_type": "code",
   "execution_count": 16,
   "id": "6e7539e2-fdd9-4e92-8dcf-caf8cac0797f",
   "metadata": {},
   "outputs": [
    {
     "ename": "NameError",
     "evalue": "name 'states' is not defined",
     "output_type": "error",
     "traceback": [
      "\u001b[0;31m---------------------------------------------------------------------------\u001b[0m",
      "\u001b[0;31mNameError\u001b[0m                                 Traceback (most recent call last)",
      "\u001b[0;32m<ipython-input-16-eecee2d50e24>\u001b[0m in \u001b[0;36m<module>\u001b[0;34m\u001b[0m\n\u001b[0;32m----> 1\u001b[0;31m \u001b[0mstates\u001b[0m\u001b[0;34m.\u001b[0m\u001b[0mto_csv\u001b[0m\u001b[0;34m(\u001b[0m\u001b[0;34m\"../data/elections/states_election_results_2020.csv\"\u001b[0m\u001b[0;34m,\u001b[0m \u001b[0mindex\u001b[0m\u001b[0;34m=\u001b[0m\u001b[0;32mFalse\u001b[0m\u001b[0;34m)\u001b[0m\u001b[0;34m\u001b[0m\u001b[0;34m\u001b[0m\u001b[0m\n\u001b[0m",
      "\u001b[0;31mNameError\u001b[0m: name 'states' is not defined"
     ]
    }
   ],
   "source": [
    "states.to_csv(\"../data/elections/states_election_results_2020.csv\", index=False)"
   ]
  },
  {
   "cell_type": "code",
   "execution_count": null,
   "id": "ec5553b7-b8eb-434f-8df9-240a80f851a5",
   "metadata": {},
   "outputs": [],
   "source": [
    "states.to_json(\n",
    "    \"../data/elections/states_election_results_2020.json\", orient=\"records\", indent=4\n",
    ")"
   ]
  },
  {
   "cell_type": "markdown",
   "id": "6aa85b17-0b8c-4151-a82b-1ace08d90bec",
   "metadata": {},
   "source": [
    "### Counties"
   ]
  },
  {
   "cell_type": "code",
   "execution_count": null,
   "id": "8cd4c544-8095-4ec7-9bd3-fbe3d4b77ef9",
   "metadata": {},
   "outputs": [],
   "source": [
    "df.to_csv(\"../data/elections/counties_election_results_2020.csv\", index=False)"
   ]
  },
  {
   "cell_type": "code",
   "execution_count": null,
   "id": "ea43eded-9315-46b9-ac8a-ed28ee15f3f3",
   "metadata": {},
   "outputs": [],
   "source": [
    "df.to_json(\n",
    "    \"../data/elections/counties_election_results_2020.json\", orient=\"records\", indent=4\n",
    ")"
   ]
  },
  {
   "cell_type": "markdown",
   "id": "0c52a890-19bc-4099-b36a-4254b0348da3",
   "metadata": {},
   "source": [
    "---"
   ]
  },
  {
   "cell_type": "code",
   "execution_count": null,
   "id": "455452a9-9fbf-4203-b4a6-64d5c1d60adc",
   "metadata": {},
   "outputs": [],
   "source": []
  },
  {
   "cell_type": "code",
   "execution_count": null,
   "id": "a20c5f35-c1c3-4991-95ba-ea072e4f10a4",
   "metadata": {},
   "outputs": [],
   "source": []
  },
  {
   "cell_type": "code",
   "execution_count": null,
   "id": "90cfc6b7-b86f-4568-a379-269c62a19da1",
   "metadata": {},
   "outputs": [],
   "source": []
  },
  {
   "cell_type": "code",
   "execution_count": null,
   "id": "0ebfc5c7-d306-4528-83c1-a9ac5b9d405d",
   "metadata": {},
   "outputs": [],
   "source": []
  },
  {
   "cell_type": "markdown",
   "id": "73004ae1-5261-4316-8413-dbe7d37d6760",
   "metadata": {},
   "source": [
    "---"
   ]
  },
  {
   "cell_type": "markdown",
   "id": "749696cd-e097-4d18-b344-3ac00f48b6fc",
   "metadata": {},
   "source": [
    "### Export the states"
   ]
  },
  {
   "cell_type": "code",
   "execution_count": null,
   "id": "bfefc503-f322-47a8-9f9a-269c27716ae7",
   "metadata": {},
   "outputs": [],
   "source": [
    "states.to_csv(\"../data/elections/states_election_results_2020.csv\", index=False)"
   ]
  },
  {
   "cell_type": "code",
   "execution_count": null,
   "id": "c9eba032-34f3-4da4-8193-f66d983fc868",
   "metadata": {},
   "outputs": [],
   "source": [
    "states.to_json(\n",
    "    \"../data/elections/states_election_results_2020.json\", orient=\"records\", indent=4\n",
    ")"
   ]
  },
  {
   "cell_type": "markdown",
   "id": "1a88277f-4697-4dd5-960c-207453f2d82c",
   "metadata": {},
   "source": [
    "### Counties"
   ]
  },
  {
   "cell_type": "code",
   "execution_count": null,
   "id": "6105f0f7-4326-4f39-abb3-99260975571a",
   "metadata": {},
   "outputs": [],
   "source": [
    "df.to_csv(\"../data/elections/counties_election_results_2020.csv\", index=False)"
   ]
  },
  {
   "cell_type": "code",
   "execution_count": null,
   "id": "b9c519e9-5e7e-4edf-ac67-b2e93f61e32f",
   "metadata": {},
   "outputs": [],
   "source": [
    "df.to_json(\n",
    "    \"../data/elections/counties_election_results_2020.json\", orient=\"records\", indent=4\n",
    ")"
   ]
  },
  {
   "cell_type": "markdown",
   "id": "6ee5d799-67e4-4cdc-b111-c5aadeb52b8f",
   "metadata": {},
   "source": [
    "---"
   ]
  }
 ],
 "metadata": {
  "kernelspec": {
   "display_name": "Python 3",
   "language": "python",
   "name": "python3"
  },
  "language_info": {
   "codemirror_mode": {
    "name": "ipython",
    "version": 3
   },
   "file_extension": ".py",
   "mimetype": "text/x-python",
   "name": "python",
   "nbconvert_exporter": "python",
   "pygments_lexer": "ipython3",
   "version": "3.8.8"
  }
 },
 "nbformat": 4,
 "nbformat_minor": 5
}
