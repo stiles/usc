{
 "cells": [
  {
   "cell_type": "markdown",
   "id": "98077971-87b9-4dfc-9afe-06ed3f92a28f",
   "metadata": {},
   "source": [
    "# Mapping LAPD crime data"
   ]
  },
  {
   "cell_type": "markdown",
   "id": "56bdb0a6-14f7-4a3a-ae63-5cda7fe20769",
   "metadata": {},
   "source": [
    "### Import Python tools"
   ]
  },
  {
   "cell_type": "code",
   "execution_count": 1,
   "id": "3210e74c-f506-4811-8674-691bdee0d724",
   "metadata": {},
   "outputs": [],
   "source": [
    "%load_ext lab_black"
   ]
  },
  {
   "cell_type": "code",
   "execution_count": 2,
   "id": "75c24f28-ad1f-4a50-85d6-9cf2fc5eefb4",
   "metadata": {},
   "outputs": [],
   "source": [
    "import pandas as pd\n",
    "import numpy as np\n",
    "import geopandas as gpd"
   ]
  },
  {
   "cell_type": "markdown",
   "id": "a69748cf-8afe-4c4b-8604-1d5d154829b1",
   "metadata": {},
   "source": [
    "---"
   ]
  },
  {
   "cell_type": "markdown",
   "id": "ef4db6d6-0d59-46b2-943e-9c6ba2ec849f",
   "metadata": {},
   "source": [
    "### Read the data"
   ]
  },
  {
   "cell_type": "code",
   "execution_count": 5,
   "id": "8abaff6f-1406-4279-b41c-af4e3168cfa0",
   "metadata": {},
   "outputs": [],
   "source": [
    "src = pd.read_csv(\n",
    "    \"../../../data/lapd/lapd_crimes_2010_present_usc_area.csv\",\n",
    "    dtype={\"premises_code\": str, \"crime_code\": str},\n",
    ")"
   ]
  },
  {
   "cell_type": "code",
   "execution_count": null,
   "id": "3381f632-5ae4-4bb5-b116-ea913dfb9503",
   "metadata": {},
   "outputs": [],
   "source": []
  },
  {
   "cell_type": "markdown",
   "id": "b73d4a11-43a6-477a-bbce-aba207f78672",
   "metadata": {},
   "source": [
    "### Lighten the dataframe by selecting columns we want (could also drop those we don't)"
   ]
  },
  {
   "cell_type": "code",
   "execution_count": null,
   "id": "a1b165c7-8149-4cb8-a36b-b75a266d271f",
   "metadata": {},
   "outputs": [],
   "source": [
    "df = src[\n",
    "    [\n",
    "        \"record_id\",\n",
    "        \"date_occurred\",\n",
    "        \"time_occurred\",\n",
    "        \"part_type\",\n",
    "        \"crime_code_description\",\n",
    "        \"modus_operandi_code\",\n",
    "        \"victim_age\",\n",
    "        \"victim_sex\",\n",
    "        \"descent_description\",\n",
    "        \"premises_code\",\n",
    "        \"premises_description\",\n",
    "        \"weapon_description\",\n",
    "        \"latitude\",\n",
    "        \"longitude\",\n",
    "        \"year\",\n",
    "        \"hour\",\n",
    "        \"weekday\",\n",
    "    ]\n",
    "]"
   ]
  },
  {
   "cell_type": "markdown",
   "id": "affd8007-9f52-4716-a6b1-df28f2bf08fd",
   "metadata": {},
   "source": [
    "### Just crimes involving campus and student victims, and make a new dataframe"
   ]
  },
  {
   "cell_type": "code",
   "execution_count": null,
   "id": "8089f248-9e35-4bc8-a238-91ccad8ec042",
   "metadata": {},
   "outputs": [],
   "source": []
  },
  {
   "cell_type": "markdown",
   "id": "586a08a2-f160-4972-a7b8-b6e5cab096dd",
   "metadata": {},
   "source": [
    "### How many cases is that? "
   ]
  },
  {
   "cell_type": "code",
   "execution_count": null,
   "id": "95ad301b-8b8f-4ef1-90ec-15c8df257a04",
   "metadata": {},
   "outputs": [],
   "source": []
  },
  {
   "cell_type": "markdown",
   "id": "9b802822-618a-44bc-be67-17e84692e7ff",
   "metadata": {},
   "source": [
    "### Now that we've isolated the students/campus, lighten dataframe even more"
   ]
  },
  {
   "cell_type": "code",
   "execution_count": null,
   "id": "866eb0f0-0c20-475c-91ca-9e95d50fc96c",
   "metadata": {},
   "outputs": [],
   "source": []
  },
  {
   "cell_type": "code",
   "execution_count": null,
   "id": "998fce54-2405-4f6b-9382-6f09ff57156c",
   "metadata": {},
   "outputs": [],
   "source": []
  },
  {
   "cell_type": "markdown",
   "id": "9ba8f917-5f11-4567-b03a-5b0f6ef0666a",
   "metadata": {},
   "source": [
    "---"
   ]
  },
  {
   "cell_type": "markdown",
   "id": "75fa24fa-27c6-4393-bdb3-8ea033c0400c",
   "metadata": {},
   "source": [
    "### Earliest case? "
   ]
  },
  {
   "cell_type": "code",
   "execution_count": null,
   "id": "18966396-1832-4ee2-ada9-d707998dbfee",
   "metadata": {},
   "outputs": [],
   "source": []
  },
  {
   "cell_type": "markdown",
   "id": "d75ff116-1919-49d6-a6ef-163273c3f48e",
   "metadata": {},
   "source": [
    "### Most-recent case? "
   ]
  },
  {
   "cell_type": "code",
   "execution_count": null,
   "id": "c99420bd-cd92-4d58-b002-382b6ebd88f2",
   "metadata": {},
   "outputs": [],
   "source": []
  },
  {
   "cell_type": "markdown",
   "id": "abb17834-cbe7-459f-a23e-a17338162aea",
   "metadata": {},
   "source": [
    "### Gender breakdown in numbers"
   ]
  },
  {
   "cell_type": "code",
   "execution_count": null,
   "id": "2f50d3bd-ab97-4221-98a7-b79deebf65f9",
   "metadata": {},
   "outputs": [],
   "source": []
  },
  {
   "cell_type": "markdown",
   "id": "ae7115cf-b79b-4718-951d-cbfbcf8ec2f0",
   "metadata": {},
   "source": [
    "### Gender breakdown in percentage terms"
   ]
  },
  {
   "cell_type": "code",
   "execution_count": null,
   "id": "01f72c29-da66-4b87-a57b-d0a36c6808d5",
   "metadata": {},
   "outputs": [],
   "source": []
  },
  {
   "cell_type": "markdown",
   "id": "fadc1138-8d9d-4d9f-907f-9f7b511f0937",
   "metadata": {},
   "source": [
    "### Average age of student victim?"
   ]
  },
  {
   "cell_type": "code",
   "execution_count": null,
   "id": "d5e67553-0154-4f56-89f9-bea1edeb9745",
   "metadata": {},
   "outputs": [],
   "source": []
  },
  {
   "cell_type": "markdown",
   "id": "31b12b4d-d67a-47ef-94fa-c96adf345bb3",
   "metadata": {},
   "source": [
    "### Average age of female student victims? "
   ]
  },
  {
   "cell_type": "code",
   "execution_count": null,
   "id": "01dd9358-afd1-4b63-9bc1-53c843902b43",
   "metadata": {},
   "outputs": [],
   "source": []
  },
  {
   "cell_type": "markdown",
   "id": "f66622e8-ed65-42ad-a216-8ebb90ba8716",
   "metadata": {},
   "source": [
    "### What times? Are crimes common during the day? "
   ]
  },
  {
   "cell_type": "code",
   "execution_count": null,
   "id": "cb99f7e2-2989-4779-b7a3-3450a315be18",
   "metadata": {},
   "outputs": [],
   "source": []
  },
  {
   "cell_type": "markdown",
   "id": "a5c65bce-2121-4b96-9ebc-59ec3ac58d35",
   "metadata": {},
   "source": [
    "---"
   ]
  },
  {
   "cell_type": "markdown",
   "id": "d1aaf000-112a-4019-87dc-39a3f3c98224",
   "metadata": {},
   "source": [
    "### Most common crimes"
   ]
  },
  {
   "cell_type": "code",
   "execution_count": null,
   "id": "22d28c7d-c196-4d95-873d-91c0eedb99af",
   "metadata": {},
   "outputs": [],
   "source": []
  },
  {
   "cell_type": "markdown",
   "id": "803c8d19-96ab-4888-bf0b-cf3bee7e9582",
   "metadata": {},
   "source": [
    "---"
   ]
  },
  {
   "cell_type": "markdown",
   "id": "23e18c9a-d5a9-4a63-abd3-c0ded8d90b12",
   "metadata": {},
   "source": [
    "### Geography"
   ]
  },
  {
   "cell_type": "code",
   "execution_count": null,
   "id": "82fcc594-1229-4d71-9f95-8fac7e8b1dec",
   "metadata": {},
   "outputs": [],
   "source": []
  },
  {
   "cell_type": "code",
   "execution_count": null,
   "id": "2774fc1d-1bca-4efe-9034-6a6c267731d0",
   "metadata": {},
   "outputs": [],
   "source": [
    "df_students_campus_geo = gpd.GeoDataFrame(\n",
    "    df_students_campus,\n",
    "    geometry=gpd.points_from_xy(\n",
    "        df_students_campus[\"longitude\"], df_students_campus[\"latitude\"]\n",
    "    ),\n",
    ")"
   ]
  },
  {
   "cell_type": "code",
   "execution_count": null,
   "id": "e05d5b3b-aacc-49bb-87fc-3fa5e2ddc0c3",
   "metadata": {},
   "outputs": [],
   "source": [
    "df_students_campus_geo.plot()"
   ]
  },
  {
   "cell_type": "markdown",
   "id": "5e16cfe8-5918-4fef-8861-d1c9d34e2354",
   "metadata": {},
   "source": [
    "### Focus on the main campus"
   ]
  },
  {
   "cell_type": "code",
   "execution_count": null,
   "id": "9b0ba860-7463-4868-9c64-df7d5821dd30",
   "metadata": {},
   "outputs": [],
   "source": []
  },
  {
   "cell_type": "markdown",
   "id": "5037ee77-9932-4281-81bf-87d045b4d7e6",
   "metadata": {},
   "source": [
    "### Get rid of outlier coordinates"
   ]
  },
  {
   "cell_type": "code",
   "execution_count": null,
   "id": "21f7aebf-ea18-46ed-915b-dbefc521e5cd",
   "metadata": {},
   "outputs": [],
   "source": [
    "df_students_campus_geo = df_students_campus_geo[\n",
    "    (df_students_campus_geo[\"latitude\"] > 33.9340)\n",
    "    & (df_students_campus_geo[\"latitude\"] < 34.06)\n",
    "]"
   ]
  },
  {
   "cell_type": "code",
   "execution_count": null,
   "id": "62fccc43-f4b8-44eb-8080-a2e8a08deb2d",
   "metadata": {},
   "outputs": [],
   "source": []
  },
  {
   "cell_type": "markdown",
   "id": "38dec533-d340-4a82-ad59-4c3a8185680b",
   "metadata": {},
   "source": [
    "### Export"
   ]
  },
  {
   "cell_type": "code",
   "execution_count": null,
   "id": "df658a48-2c13-4d7a-9ec5-d9d91b3e0d38",
   "metadata": {},
   "outputs": [],
   "source": [
    "df_students_campus_geo.to_file(\n",
    "    \"../qgis-training/data/geo/df_students_campus_geo-DEMO.geojson\", driver=\"GeoJSON\"\n",
    ")\n",
    "df_students_campus_geo.to_file(\n",
    "    \"../demos/qgis-training/data/geo/df_students_campus_geo-DEMO.geojson\", driver=\"GeoJSON\"\n",
    ")"
   ]
  }
 ],
 "metadata": {
  "kernelspec": {
   "display_name": "Python 3",
   "language": "python",
   "name": "python3"
  },
  "language_info": {
   "codemirror_mode": {
    "name": "ipython",
    "version": 3
   },
   "file_extension": ".py",
   "mimetype": "text/x-python",
   "name": "python",
   "nbconvert_exporter": "python",
   "pygments_lexer": "ipython3",
   "version": "3.8.8"
  }
 },
 "nbformat": 4,
 "nbformat_minor": 5
}
