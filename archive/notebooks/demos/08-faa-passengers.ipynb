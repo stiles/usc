{
 "cells": [
  {
   "cell_type": "markdown",
   "id": "23c641e9-a43b-43c4-ac55-730d9e40272b",
   "metadata": {},
   "source": [
    "# FAA unruly passenger investigations initiated"
   ]
  },
  {
   "cell_type": "code",
   "execution_count": 1,
   "id": "09775c4e-239d-472b-907b-b575326ea8ea",
   "metadata": {},
   "outputs": [],
   "source": [
    "# Might need to install \n",
    "\n",
    "# !pip install altair\n",
    "# !pip install requests"
   ]
  },
  {
   "cell_type": "code",
   "execution_count": 2,
   "id": "fe97ce55-742f-4a2d-b57c-cef5d3fe427c",
   "metadata": {},
   "outputs": [],
   "source": [
    "import pandas as pd\n",
    "import altair as alt"
   ]
  },
  {
   "cell_type": "code",
   "execution_count": 3,
   "id": "90bcaa48-e7d5-4166-9b37-5cb427fd486c",
   "metadata": {},
   "outputs": [],
   "source": [
    "import numpy as np\n",
    "import requests"
   ]
  },
  {
   "cell_type": "markdown",
   "id": "2f18d875-6507-4367-ac51-6c403178c0b1",
   "metadata": {},
   "source": [
    "### Get url"
   ]
  },
  {
   "cell_type": "code",
   "execution_count": 4,
   "id": "28c1f5c4-afda-4482-bc3f-5a408912aa55",
   "metadata": {},
   "outputs": [],
   "source": [
    "url = 'https://www.faa.gov/data_research/passengers_cargo/unruly_passengers/'"
   ]
  },
  {
   "cell_type": "markdown",
   "id": "6719fe65-8019-4c7f-a27f-1479265e44be",
   "metadata": {},
   "source": [
    "### Grab the page using the requests library"
   ]
  },
  {
   "cell_type": "code",
   "execution_count": null,
   "id": "d8e4e0ac-bd49-4427-ab13-28c1ca8e94ce",
   "metadata": {},
   "outputs": [],
   "source": []
  },
  {
   "cell_type": "markdown",
   "id": "0056f190-3b85-4888-87c5-88a873a5a172",
   "metadata": {},
   "source": [
    "### Extract the table"
   ]
  },
  {
   "cell_type": "code",
   "execution_count": null,
   "id": "bf22b641-a8de-45c5-a058-fb241e69d8f1",
   "metadata": {},
   "outputs": [],
   "source": []
  },
  {
   "cell_type": "markdown",
   "id": "24387c49-3825-40c4-b927-3061c8ba35ab",
   "metadata": {},
   "source": [
    "### Convert the table - a single item in a list - into a dataframe"
   ]
  },
  {
   "cell_type": "code",
   "execution_count": null,
   "id": "2fb014e9-40fe-4b23-8e29-7dffe1f9c9ad",
   "metadata": {},
   "outputs": [],
   "source": []
  },
  {
   "cell_type": "markdown",
   "id": "e8038f0a-54db-420f-be8d-99bf798ba11d",
   "metadata": {},
   "source": [
    "### Clean up columns, types in dataframe"
   ]
  },
  {
   "cell_type": "code",
   "execution_count": null,
   "id": "0e706671-86e6-424b-b6a3-a3ce987db3d1",
   "metadata": {},
   "outputs": [],
   "source": []
  },
  {
   "cell_type": "markdown",
   "id": "7c857612-3169-480e-bfd8-dbf3102ab572",
   "metadata": {},
   "source": [
    "### Year as a string"
   ]
  },
  {
   "cell_type": "code",
   "execution_count": null,
   "id": "986b434b-74fc-4318-b94e-d97b82e48ae4",
   "metadata": {},
   "outputs": [],
   "source": []
  },
  {
   "cell_type": "code",
   "execution_count": null,
   "id": "c8f488a9-6815-4ee7-a6a7-077d5cc80388",
   "metadata": {},
   "outputs": [],
   "source": []
  },
  {
   "cell_type": "markdown",
   "id": "134854b7-f8f4-4d73-afcf-8df3950a2701",
   "metadata": {},
   "source": [
    "---"
   ]
  },
  {
   "cell_type": "markdown",
   "id": "af8087f2-83eb-4586-84bb-abdfd8edd36e",
   "metadata": {},
   "source": [
    "### Descriptives"
   ]
  },
  {
   "cell_type": "code",
   "execution_count": 5,
   "id": "bfd09c60-85d7-4699-b5ff-5c30dfec73fd",
   "metadata": {},
   "outputs": [],
   "source": [
    "# Annual investigations, on average? \n"
   ]
  },
  {
   "cell_type": "code",
   "execution_count": 6,
   "id": "a80c97fb-36e1-4b75-8345-97b31f5c7d52",
   "metadata": {},
   "outputs": [],
   "source": [
    "# Median?\n"
   ]
  },
  {
   "cell_type": "code",
   "execution_count": 7,
   "id": "f9f4b750-3c4d-483c-8527-5da975b7c488",
   "metadata": {},
   "outputs": [],
   "source": [
    "# Annual investigations max\n"
   ]
  },
  {
   "cell_type": "markdown",
   "id": "6c98cbe9-0805-42f2-a354-c8633745813b",
   "metadata": {},
   "source": [
    "### What's the average from 1995-2020?"
   ]
  },
  {
   "cell_type": "code",
   "execution_count": null,
   "id": "72439eab-549d-412b-8adb-202eae1a176a",
   "metadata": {},
   "outputs": [],
   "source": []
  },
  {
   "cell_type": "code",
   "execution_count": null,
   "id": "a22f04bb-0f7d-418b-a3d0-912ee8a804d8",
   "metadata": {},
   "outputs": [],
   "source": []
  },
  {
   "cell_type": "markdown",
   "id": "2905d66f-3e48-4229-b430-f2340a7ff2a0",
   "metadata": {},
   "source": [
    "### Versus this year? "
   ]
  },
  {
   "cell_type": "code",
   "execution_count": null,
   "id": "a5975635-ec1b-44ab-a2bb-8a22063d40ff",
   "metadata": {},
   "outputs": [],
   "source": []
  },
  {
   "cell_type": "code",
   "execution_count": null,
   "id": "c1b009f0-9ff3-4d1e-b94c-fb3df372c873",
   "metadata": {},
   "outputs": [],
   "source": []
  },
  {
   "cell_type": "markdown",
   "id": "b93eba54-6b5f-4f46-8625-509c684fbad5",
   "metadata": {},
   "source": [
    "### % change from mean in 2021"
   ]
  },
  {
   "cell_type": "code",
   "execution_count": null,
   "id": "0601bf1b-64c9-471a-823a-3905ac9232c5",
   "metadata": {},
   "outputs": [],
   "source": []
  },
  {
   "cell_type": "code",
   "execution_count": null,
   "id": "fe7901f0-d8a8-48b5-a78e-55dbef38a1e2",
   "metadata": {},
   "outputs": [],
   "source": []
  },
  {
   "cell_type": "markdown",
   "id": "5d00af4c-ab74-4d2f-b889-10539a8f8972",
   "metadata": {},
   "source": [
    "### How many cases in the last decade?"
   ]
  },
  {
   "cell_type": "code",
   "execution_count": null,
   "id": "206c94dc-2e9c-4dc4-81dc-072fa995959b",
   "metadata": {},
   "outputs": [],
   "source": []
  },
  {
   "cell_type": "code",
   "execution_count": null,
   "id": "19883d6e-4447-45a4-94c5-173bc5fed46a",
   "metadata": {},
   "outputs": [],
   "source": []
  },
  {
   "cell_type": "markdown",
   "id": "b3c9a935-e580-4de8-b69a-35095d17d05e",
   "metadata": {},
   "source": [
    "### Chart it"
   ]
  },
  {
   "cell_type": "code",
   "execution_count": 8,
   "id": "897495e9-b995-4248-98e8-9d1beca9fd37",
   "metadata": {},
   "outputs": [],
   "source": [
    "# alt.Chart(df).mark_bar(color='orange').encode(\n",
    "#     x='year',\n",
    "#     y='investigations'\n",
    "# ).properties(title='FAA unruly passenger investigations')"
   ]
  },
  {
   "cell_type": "code",
   "execution_count": 9,
   "id": "32f0afef-a0d2-4a99-abc1-ffdf19fe615e",
   "metadata": {},
   "outputs": [],
   "source": [
    "# df.to_csv('data/faa-investigations-initiated.csv', index=False)"
   ]
  }
 ],
 "metadata": {
  "kernelspec": {
   "display_name": "Python 3",
   "language": "python",
   "name": "python3"
  },
  "language_info": {
   "codemirror_mode": {
    "name": "ipython",
    "version": 3
   },
   "file_extension": ".py",
   "mimetype": "text/x-python",
   "name": "python",
   "nbconvert_exporter": "python",
   "pygments_lexer": "ipython3",
   "version": "3.8.8"
  }
 },
 "nbformat": 4,
 "nbformat_minor": 5
}
