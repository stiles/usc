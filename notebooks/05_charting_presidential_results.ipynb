{
 "cells": [
  {
   "cell_type": "markdown",
   "id": "c6b75eb0-d78e-4040-9a7e-935f129a615a",
   "metadata": {},
   "source": [
    "# Charting the presidential results"
   ]
  },
  {
   "cell_type": "code",
   "execution_count": 1,
   "id": "80da3256-d337-451f-ac9f-0eb08c5a6f1a",
   "metadata": {},
   "outputs": [],
   "source": [
    "# !pip install altair"
   ]
  },
  {
   "cell_type": "code",
   "execution_count": 2,
   "id": "d7dd54b2-020c-460b-b1eb-906cae196598",
   "metadata": {},
   "outputs": [],
   "source": [
    "import pandas as pd\n",
    "import altair as alt"
   ]
  },
  {
   "cell_type": "markdown",
   "id": "20ebdc1e-b310-455e-a8fc-33307110e89d",
   "metadata": {},
   "source": [
    "### Import data"
   ]
  },
  {
   "cell_type": "code",
   "execution_count": 3,
   "id": "d00a17a9-96ba-4617-87bf-3d607f00e833",
   "metadata": {},
   "outputs": [],
   "source": [
    "states = pd.read_json('../data/elections/states_election_results_2020.json')"
   ]
  },
  {
   "cell_type": "code",
   "execution_count": 4,
   "id": "d0fa91e3-6b3b-4392-a76f-fe8bfcd0f421",
   "metadata": {},
   "outputs": [],
   "source": [
    "counties = pd.read_json('../data/elections/counties_election_results_2020.json')"
   ]
  },
  {
   "cell_type": "markdown",
   "id": "11824923-bc03-4618-abfb-f3263604b82e",
   "metadata": {},
   "source": [
    "### Chart it"
   ]
  },
  {
   "cell_type": "code",
   "execution_count": 5,
   "id": "789abd2a-5fd9-4fed-8a30-1ddf634990e5",
   "metadata": {},
   "outputs": [
    {
     "data": {
      "text/html": [
       "\n",
       "<div id=\"altair-viz-24583a49ad764cf1bf1129bc11e14f28\"></div>\n",
       "<script type=\"text/javascript\">\n",
       "  (function(spec, embedOpt){\n",
       "    let outputDiv = document.currentScript.previousElementSibling;\n",
       "    if (outputDiv.id !== \"altair-viz-24583a49ad764cf1bf1129bc11e14f28\") {\n",
       "      outputDiv = document.getElementById(\"altair-viz-24583a49ad764cf1bf1129bc11e14f28\");\n",
       "    }\n",
       "    const paths = {\n",
       "      \"vega\": \"https://cdn.jsdelivr.net/npm//vega@5?noext\",\n",
       "      \"vega-lib\": \"https://cdn.jsdelivr.net/npm//vega-lib?noext\",\n",
       "      \"vega-lite\": \"https://cdn.jsdelivr.net/npm//vega-lite@4.8.1?noext\",\n",
       "      \"vega-embed\": \"https://cdn.jsdelivr.net/npm//vega-embed@6?noext\",\n",
       "    };\n",
       "\n",
       "    function loadScript(lib) {\n",
       "      return new Promise(function(resolve, reject) {\n",
       "        var s = document.createElement('script');\n",
       "        s.src = paths[lib];\n",
       "        s.async = true;\n",
       "        s.onload = () => resolve(paths[lib]);\n",
       "        s.onerror = () => reject(`Error loading script: ${paths[lib]}`);\n",
       "        document.getElementsByTagName(\"head\")[0].appendChild(s);\n",
       "      });\n",
       "    }\n",
       "\n",
       "    function showError(err) {\n",
       "      outputDiv.innerHTML = `<div class=\"error\" style=\"color:red;\">${err}</div>`;\n",
       "      throw err;\n",
       "    }\n",
       "\n",
       "    function displayChart(vegaEmbed) {\n",
       "      vegaEmbed(outputDiv, spec, embedOpt)\n",
       "        .catch(err => showError(`Javascript Error: ${err.message}<br>This usually means there's a typo in your chart specification. See the javascript console for the full traceback.`));\n",
       "    }\n",
       "\n",
       "    if(typeof define === \"function\" && define.amd) {\n",
       "      requirejs.config({paths});\n",
       "      require([\"vega-embed\"], displayChart, err => showError(`Error loading script: ${err.message}`));\n",
       "    } else if (typeof vegaEmbed === \"function\") {\n",
       "      displayChart(vegaEmbed);\n",
       "    } else {\n",
       "      loadScript(\"vega\")\n",
       "        .then(() => loadScript(\"vega-lite\"))\n",
       "        .then(() => loadScript(\"vega-embed\"))\n",
       "        .catch(showError)\n",
       "        .then(() => displayChart(vegaEmbed));\n",
       "    }\n",
       "  })({\"config\": {\"view\": {\"continuousWidth\": 400, \"continuousHeight\": 300}}, \"data\": {\"name\": \"data-3f5c32af22fe092b310a3dce2959372d\"}, \"mark\": {\"type\": \"bar\", \"color\": \"blue\"}, \"encoding\": {\"x\": {\"type\": \"quantitative\", \"field\": \"pct_dem\"}, \"y\": {\"type\": \"nominal\", \"field\": \"state_name\", \"sort\": \"-x\"}}, \"$schema\": \"https://vega.github.io/schema/vega-lite/v4.8.1.json\", \"datasets\": {\"data-3f5c32af22fe092b310a3dce2959372d\": [{\"state_name\": \"Alabama\", \"votes_gop\": 1441168, \"votes_dem\": 849648, \"total_votes\": 2323304, \"pct_dem\": 37, \"pct_gop\": 62, \"winner\": \"gop\"}, {\"state_name\": \"Alaska\", \"votes_gop\": 189892, \"votes_dem\": 153405, \"total_votes\": 391346, \"pct_dem\": 39, \"pct_gop\": 49, \"winner\": \"gop\"}, {\"state_name\": \"Arizona\", \"votes_gop\": 1661686, \"votes_dem\": 1672143, \"total_votes\": 3387326, \"pct_dem\": 49, \"pct_gop\": 49, \"winner\": \"dem\"}, {\"state_name\": \"Arkansas\", \"votes_gop\": 760647, \"votes_dem\": 423932, \"total_votes\": 1219069, \"pct_dem\": 35, \"pct_gop\": 62, \"winner\": \"gop\"}, {\"state_name\": \"California\", \"votes_gop\": 6005961, \"votes_dem\": 11109764, \"total_votes\": 17495906, \"pct_dem\": 63, \"pct_gop\": 34, \"winner\": \"dem\"}, {\"state_name\": \"Colorado\", \"votes_gop\": 1364607, \"votes_dem\": 1804352, \"total_votes\": 3256953, \"pct_dem\": 55, \"pct_gop\": 42, \"winner\": \"dem\"}, {\"state_name\": \"Connecticut\", \"votes_gop\": 715291, \"votes_dem\": 1080680, \"total_votes\": 1824280, \"pct_dem\": 59, \"pct_gop\": 39, \"winner\": \"dem\"}, {\"state_name\": \"Delaware\", \"votes_gop\": 200603, \"votes_dem\": 296268, \"total_votes\": 504010, \"pct_dem\": 59, \"pct_gop\": 40, \"winner\": \"dem\"}, {\"state_name\": \"District of Columbia\", \"votes_gop\": 18586, \"votes_dem\": 317323, \"total_votes\": 344356, \"pct_dem\": 92, \"pct_gop\": 5, \"winner\": \"dem\"}, {\"state_name\": \"Florida\", \"votes_gop\": 5668731, \"votes_dem\": 5297045, \"total_votes\": 11067456, \"pct_dem\": 48, \"pct_gop\": 51, \"winner\": \"gop\"}]}}, {\"mode\": \"vega-lite\"});\n",
       "</script>"
      ],
      "text/plain": [
       "alt.Chart(...)"
      ]
     },
     "execution_count": 5,
     "metadata": {},
     "output_type": "execute_result"
    }
   ],
   "source": [
    "alt.Chart(states.head(10)).mark_bar(color='blue').encode(\n",
    "    x='pct_dem',\n",
    "    y=alt.Y('state_name', sort='-x')\n",
    ")"
   ]
  },
  {
   "cell_type": "code",
   "execution_count": 6,
   "id": "746dfcf8-622e-4a3e-b485-5b1be35ca38b",
   "metadata": {},
   "outputs": [
    {
     "data": {
      "text/html": [
       "\n",
       "<div id=\"altair-viz-63b88e9df3164220b6b9a328e6cc1c4e\"></div>\n",
       "<script type=\"text/javascript\">\n",
       "  (function(spec, embedOpt){\n",
       "    let outputDiv = document.currentScript.previousElementSibling;\n",
       "    if (outputDiv.id !== \"altair-viz-63b88e9df3164220b6b9a328e6cc1c4e\") {\n",
       "      outputDiv = document.getElementById(\"altair-viz-63b88e9df3164220b6b9a328e6cc1c4e\");\n",
       "    }\n",
       "    const paths = {\n",
       "      \"vega\": \"https://cdn.jsdelivr.net/npm//vega@5?noext\",\n",
       "      \"vega-lib\": \"https://cdn.jsdelivr.net/npm//vega-lib?noext\",\n",
       "      \"vega-lite\": \"https://cdn.jsdelivr.net/npm//vega-lite@4.8.1?noext\",\n",
       "      \"vega-embed\": \"https://cdn.jsdelivr.net/npm//vega-embed@6?noext\",\n",
       "    };\n",
       "\n",
       "    function loadScript(lib) {\n",
       "      return new Promise(function(resolve, reject) {\n",
       "        var s = document.createElement('script');\n",
       "        s.src = paths[lib];\n",
       "        s.async = true;\n",
       "        s.onload = () => resolve(paths[lib]);\n",
       "        s.onerror = () => reject(`Error loading script: ${paths[lib]}`);\n",
       "        document.getElementsByTagName(\"head\")[0].appendChild(s);\n",
       "      });\n",
       "    }\n",
       "\n",
       "    function showError(err) {\n",
       "      outputDiv.innerHTML = `<div class=\"error\" style=\"color:red;\">${err}</div>`;\n",
       "      throw err;\n",
       "    }\n",
       "\n",
       "    function displayChart(vegaEmbed) {\n",
       "      vegaEmbed(outputDiv, spec, embedOpt)\n",
       "        .catch(err => showError(`Javascript Error: ${err.message}<br>This usually means there's a typo in your chart specification. See the javascript console for the full traceback.`));\n",
       "    }\n",
       "\n",
       "    if(typeof define === \"function\" && define.amd) {\n",
       "      requirejs.config({paths});\n",
       "      require([\"vega-embed\"], displayChart, err => showError(`Error loading script: ${err.message}`));\n",
       "    } else if (typeof vegaEmbed === \"function\") {\n",
       "      displayChart(vegaEmbed);\n",
       "    } else {\n",
       "      loadScript(\"vega\")\n",
       "        .then(() => loadScript(\"vega-lite\"))\n",
       "        .then(() => loadScript(\"vega-embed\"))\n",
       "        .catch(showError)\n",
       "        .then(() => displayChart(vegaEmbed));\n",
       "    }\n",
       "  })({\"config\": {\"view\": {\"continuousWidth\": 400, \"continuousHeight\": 300}}, \"data\": {\"name\": \"data-3f5c32af22fe092b310a3dce2959372d\"}, \"mark\": {\"type\": \"bar\", \"color\": \"red\"}, \"encoding\": {\"x\": {\"type\": \"quantitative\", \"field\": \"pct_gop\"}, \"y\": {\"type\": \"nominal\", \"field\": \"state_name\", \"sort\": \"-x\"}}, \"$schema\": \"https://vega.github.io/schema/vega-lite/v4.8.1.json\", \"datasets\": {\"data-3f5c32af22fe092b310a3dce2959372d\": [{\"state_name\": \"Alabama\", \"votes_gop\": 1441168, \"votes_dem\": 849648, \"total_votes\": 2323304, \"pct_dem\": 37, \"pct_gop\": 62, \"winner\": \"gop\"}, {\"state_name\": \"Alaska\", \"votes_gop\": 189892, \"votes_dem\": 153405, \"total_votes\": 391346, \"pct_dem\": 39, \"pct_gop\": 49, \"winner\": \"gop\"}, {\"state_name\": \"Arizona\", \"votes_gop\": 1661686, \"votes_dem\": 1672143, \"total_votes\": 3387326, \"pct_dem\": 49, \"pct_gop\": 49, \"winner\": \"dem\"}, {\"state_name\": \"Arkansas\", \"votes_gop\": 760647, \"votes_dem\": 423932, \"total_votes\": 1219069, \"pct_dem\": 35, \"pct_gop\": 62, \"winner\": \"gop\"}, {\"state_name\": \"California\", \"votes_gop\": 6005961, \"votes_dem\": 11109764, \"total_votes\": 17495906, \"pct_dem\": 63, \"pct_gop\": 34, \"winner\": \"dem\"}, {\"state_name\": \"Colorado\", \"votes_gop\": 1364607, \"votes_dem\": 1804352, \"total_votes\": 3256953, \"pct_dem\": 55, \"pct_gop\": 42, \"winner\": \"dem\"}, {\"state_name\": \"Connecticut\", \"votes_gop\": 715291, \"votes_dem\": 1080680, \"total_votes\": 1824280, \"pct_dem\": 59, \"pct_gop\": 39, \"winner\": \"dem\"}, {\"state_name\": \"Delaware\", \"votes_gop\": 200603, \"votes_dem\": 296268, \"total_votes\": 504010, \"pct_dem\": 59, \"pct_gop\": 40, \"winner\": \"dem\"}, {\"state_name\": \"District of Columbia\", \"votes_gop\": 18586, \"votes_dem\": 317323, \"total_votes\": 344356, \"pct_dem\": 92, \"pct_gop\": 5, \"winner\": \"dem\"}, {\"state_name\": \"Florida\", \"votes_gop\": 5668731, \"votes_dem\": 5297045, \"total_votes\": 11067456, \"pct_dem\": 48, \"pct_gop\": 51, \"winner\": \"gop\"}]}}, {\"mode\": \"vega-lite\"});\n",
       "</script>"
      ],
      "text/plain": [
       "alt.Chart(...)"
      ]
     },
     "execution_count": 6,
     "metadata": {},
     "output_type": "execute_result"
    }
   ],
   "source": [
    "alt.Chart(states.head(10)).mark_bar(color='red').encode(\n",
    "    x='pct_gop',\n",
    "    y=alt.Y('state_name', sort='-x')\n",
    ")"
   ]
  },
  {
   "cell_type": "code",
   "execution_count": null,
   "id": "c78afca0-80f3-4d54-a659-ae87868a4fed",
   "metadata": {},
   "outputs": [],
   "source": []
  },
  {
   "cell_type": "markdown",
   "id": "c82ec456-cb47-4d35-8b6c-516bd4f05169",
   "metadata": {},
   "source": [
    "### Melt the data for charting"
   ]
  },
  {
   "cell_type": "code",
   "execution_count": 7,
   "id": "e5dcb94d-0318-4da4-b374-2ae8988d6c3b",
   "metadata": {},
   "outputs": [],
   "source": [
    "states_melt = pd.melt(states, id_vars=['state_name'], value_vars=['pct_dem', 'pct_gop'],\n",
    "        var_name='winner', value_name='share', ignore_index=True).reset_index(drop=True)"
   ]
  },
  {
   "cell_type": "code",
   "execution_count": 8,
   "id": "7c62abb5-1d15-4a4f-9200-a12e1e3caf06",
   "metadata": {},
   "outputs": [
    {
     "data": {
      "text/html": [
       "<div>\n",
       "<style scoped>\n",
       "    .dataframe tbody tr th:only-of-type {\n",
       "        vertical-align: middle;\n",
       "    }\n",
       "\n",
       "    .dataframe tbody tr th {\n",
       "        vertical-align: top;\n",
       "    }\n",
       "\n",
       "    .dataframe thead th {\n",
       "        text-align: right;\n",
       "    }\n",
       "</style>\n",
       "<table border=\"1\" class=\"dataframe\">\n",
       "  <thead>\n",
       "    <tr style=\"text-align: right;\">\n",
       "      <th></th>\n",
       "      <th>state_name</th>\n",
       "      <th>winner</th>\n",
       "      <th>share</th>\n",
       "    </tr>\n",
       "  </thead>\n",
       "  <tbody>\n",
       "    <tr>\n",
       "      <th>0</th>\n",
       "      <td>Alabama</td>\n",
       "      <td>pct_dem</td>\n",
       "      <td>37</td>\n",
       "    </tr>\n",
       "    <tr>\n",
       "      <th>51</th>\n",
       "      <td>Alabama</td>\n",
       "      <td>pct_gop</td>\n",
       "      <td>62</td>\n",
       "    </tr>\n",
       "    <tr>\n",
       "      <th>1</th>\n",
       "      <td>Alaska</td>\n",
       "      <td>pct_dem</td>\n",
       "      <td>39</td>\n",
       "    </tr>\n",
       "    <tr>\n",
       "      <th>52</th>\n",
       "      <td>Alaska</td>\n",
       "      <td>pct_gop</td>\n",
       "      <td>49</td>\n",
       "    </tr>\n",
       "    <tr>\n",
       "      <th>2</th>\n",
       "      <td>Arizona</td>\n",
       "      <td>pct_dem</td>\n",
       "      <td>49</td>\n",
       "    </tr>\n",
       "  </tbody>\n",
       "</table>\n",
       "</div>"
      ],
      "text/plain": [
       "   state_name   winner  share\n",
       "0     Alabama  pct_dem     37\n",
       "51    Alabama  pct_gop     62\n",
       "1      Alaska  pct_dem     39\n",
       "52     Alaska  pct_gop     49\n",
       "2     Arizona  pct_dem     49"
      ]
     },
     "execution_count": 8,
     "metadata": {},
     "output_type": "execute_result"
    }
   ],
   "source": [
    "states_melt.sort_values('state_name', ascending=True).head()"
   ]
  },
  {
   "cell_type": "code",
   "execution_count": 9,
   "id": "121c62cc-927d-4efb-b0c5-3f0c33206722",
   "metadata": {},
   "outputs": [
    {
     "data": {
      "text/html": [
       "\n",
       "<div id=\"altair-viz-cc6d2bdafe19495ca466fb99ad83998b\"></div>\n",
       "<script type=\"text/javascript\">\n",
       "  (function(spec, embedOpt){\n",
       "    let outputDiv = document.currentScript.previousElementSibling;\n",
       "    if (outputDiv.id !== \"altair-viz-cc6d2bdafe19495ca466fb99ad83998b\") {\n",
       "      outputDiv = document.getElementById(\"altair-viz-cc6d2bdafe19495ca466fb99ad83998b\");\n",
       "    }\n",
       "    const paths = {\n",
       "      \"vega\": \"https://cdn.jsdelivr.net/npm//vega@5?noext\",\n",
       "      \"vega-lib\": \"https://cdn.jsdelivr.net/npm//vega-lib?noext\",\n",
       "      \"vega-lite\": \"https://cdn.jsdelivr.net/npm//vega-lite@4.8.1?noext\",\n",
       "      \"vega-embed\": \"https://cdn.jsdelivr.net/npm//vega-embed@6?noext\",\n",
       "    };\n",
       "\n",
       "    function loadScript(lib) {\n",
       "      return new Promise(function(resolve, reject) {\n",
       "        var s = document.createElement('script');\n",
       "        s.src = paths[lib];\n",
       "        s.async = true;\n",
       "        s.onload = () => resolve(paths[lib]);\n",
       "        s.onerror = () => reject(`Error loading script: ${paths[lib]}`);\n",
       "        document.getElementsByTagName(\"head\")[0].appendChild(s);\n",
       "      });\n",
       "    }\n",
       "\n",
       "    function showError(err) {\n",
       "      outputDiv.innerHTML = `<div class=\"error\" style=\"color:red;\">${err}</div>`;\n",
       "      throw err;\n",
       "    }\n",
       "\n",
       "    function displayChart(vegaEmbed) {\n",
       "      vegaEmbed(outputDiv, spec, embedOpt)\n",
       "        .catch(err => showError(`Javascript Error: ${err.message}<br>This usually means there's a typo in your chart specification. See the javascript console for the full traceback.`));\n",
       "    }\n",
       "\n",
       "    if(typeof define === \"function\" && define.amd) {\n",
       "      requirejs.config({paths});\n",
       "      require([\"vega-embed\"], displayChart, err => showError(`Error loading script: ${err.message}`));\n",
       "    } else if (typeof vegaEmbed === \"function\") {\n",
       "      displayChart(vegaEmbed);\n",
       "    } else {\n",
       "      loadScript(\"vega\")\n",
       "        .then(() => loadScript(\"vega-lite\"))\n",
       "        .then(() => loadScript(\"vega-embed\"))\n",
       "        .catch(showError)\n",
       "        .then(() => displayChart(vegaEmbed));\n",
       "    }\n",
       "  })({\"config\": {\"view\": {\"continuousWidth\": 400, \"continuousHeight\": 300}}, \"data\": {\"name\": \"data-4350fe9339fe9c1857b8a90c253dbdc5\"}, \"mark\": \"bar\", \"encoding\": {\"color\": {\"type\": \"nominal\", \"field\": \"winner\"}, \"x\": {\"type\": \"quantitative\", \"field\": \"share\", \"stack\": \"normalize\"}, \"y\": {\"type\": \"nominal\", \"field\": \"state_name\"}}, \"$schema\": \"https://vega.github.io/schema/vega-lite/v4.8.1.json\", \"datasets\": {\"data-4350fe9339fe9c1857b8a90c253dbdc5\": [{\"state_name\": \"Alabama\", \"winner\": \"pct_dem\", \"share\": 37}, {\"state_name\": \"Alaska\", \"winner\": \"pct_dem\", \"share\": 39}, {\"state_name\": \"Arizona\", \"winner\": \"pct_dem\", \"share\": 49}, {\"state_name\": \"Arkansas\", \"winner\": \"pct_dem\", \"share\": 35}, {\"state_name\": \"California\", \"winner\": \"pct_dem\", \"share\": 63}, {\"state_name\": \"Colorado\", \"winner\": \"pct_dem\", \"share\": 55}, {\"state_name\": \"Connecticut\", \"winner\": \"pct_dem\", \"share\": 59}, {\"state_name\": \"Delaware\", \"winner\": \"pct_dem\", \"share\": 59}, {\"state_name\": \"District of Columbia\", \"winner\": \"pct_dem\", \"share\": 92}, {\"state_name\": \"Florida\", \"winner\": \"pct_dem\", \"share\": 48}, {\"state_name\": \"Georgia\", \"winner\": \"pct_dem\", \"share\": 49}, {\"state_name\": \"Hawaii\", \"winner\": \"pct_dem\", \"share\": 64}, {\"state_name\": \"Idaho\", \"winner\": \"pct_dem\", \"share\": 33}, {\"state_name\": \"Illinois\", \"winner\": \"pct_dem\", \"share\": 57}, {\"state_name\": \"Indiana\", \"winner\": \"pct_dem\", \"share\": 41}, {\"state_name\": \"Iowa\", \"winner\": \"pct_dem\", \"share\": 45}, {\"state_name\": \"Kansas\", \"winner\": \"pct_dem\", \"share\": 41}, {\"state_name\": \"Kentucky\", \"winner\": \"pct_dem\", \"share\": 36}, {\"state_name\": \"Louisiana\", \"winner\": \"pct_dem\", \"share\": 40}, {\"state_name\": \"Maine\", \"winner\": \"pct_dem\", \"share\": 53}, {\"state_name\": \"Maryland\", \"winner\": \"pct_dem\", \"share\": 65}, {\"state_name\": \"Massachusetts\", \"winner\": \"pct_dem\", \"share\": 66}, {\"state_name\": \"Michigan\", \"winner\": \"pct_dem\", \"share\": 51}, {\"state_name\": \"Minnesota\", \"winner\": \"pct_dem\", \"share\": 52}, {\"state_name\": \"Mississippi\", \"winner\": \"pct_dem\", \"share\": 41}, {\"state_name\": \"Missouri\", \"winner\": \"pct_dem\", \"share\": 41}, {\"state_name\": \"Montana\", \"winner\": \"pct_dem\", \"share\": 40}, {\"state_name\": \"Nebraska\", \"winner\": \"pct_dem\", \"share\": 39}, {\"state_name\": \"Nevada\", \"winner\": \"pct_dem\", \"share\": 50}, {\"state_name\": \"New Hampshire\", \"winner\": \"pct_dem\", \"share\": 53}, {\"state_name\": \"New Jersey\", \"winner\": \"pct_dem\", \"share\": 57}, {\"state_name\": \"New Mexico\", \"winner\": \"pct_dem\", \"share\": 54}, {\"state_name\": \"New York\", \"winner\": \"pct_dem\", \"share\": 61}, {\"state_name\": \"North Carolina\", \"winner\": \"pct_dem\", \"share\": 49}, {\"state_name\": \"North Dakota\", \"winner\": \"pct_dem\", \"share\": 32}, {\"state_name\": \"Ohio\", \"winner\": \"pct_dem\", \"share\": 45}, {\"state_name\": \"Oklahoma\", \"winner\": \"pct_dem\", \"share\": 32}, {\"state_name\": \"Oregon\", \"winner\": \"pct_dem\", \"share\": 56}, {\"state_name\": \"Pennsylvania\", \"winner\": \"pct_dem\", \"share\": 50}, {\"state_name\": \"Rhode Island\", \"winner\": \"pct_dem\", \"share\": 59}, {\"state_name\": \"South Carolina\", \"winner\": \"pct_dem\", \"share\": 43}, {\"state_name\": \"South Dakota\", \"winner\": \"pct_dem\", \"share\": 36}, {\"state_name\": \"Tennessee\", \"winner\": \"pct_dem\", \"share\": 37}, {\"state_name\": \"Texas\", \"winner\": \"pct_dem\", \"share\": 46}, {\"state_name\": \"Utah\", \"winner\": \"pct_dem\", \"share\": 38}, {\"state_name\": \"Vermont\", \"winner\": \"pct_dem\", \"share\": 66}, {\"state_name\": \"Virginia\", \"winner\": \"pct_dem\", \"share\": 54}, {\"state_name\": \"Washington\", \"winner\": \"pct_dem\", \"share\": 58}, {\"state_name\": \"West Virginia\", \"winner\": \"pct_dem\", \"share\": 30}, {\"state_name\": \"Wisconsin\", \"winner\": \"pct_dem\", \"share\": 49}, {\"state_name\": \"Wyoming\", \"winner\": \"pct_dem\", \"share\": 27}, {\"state_name\": \"Alabama\", \"winner\": \"pct_gop\", \"share\": 62}, {\"state_name\": \"Alaska\", \"winner\": \"pct_gop\", \"share\": 49}, {\"state_name\": \"Arizona\", \"winner\": \"pct_gop\", \"share\": 49}, {\"state_name\": \"Arkansas\", \"winner\": \"pct_gop\", \"share\": 62}, {\"state_name\": \"California\", \"winner\": \"pct_gop\", \"share\": 34}, {\"state_name\": \"Colorado\", \"winner\": \"pct_gop\", \"share\": 42}, {\"state_name\": \"Connecticut\", \"winner\": \"pct_gop\", \"share\": 39}, {\"state_name\": \"Delaware\", \"winner\": \"pct_gop\", \"share\": 40}, {\"state_name\": \"District of Columbia\", \"winner\": \"pct_gop\", \"share\": 5}, {\"state_name\": \"Florida\", \"winner\": \"pct_gop\", \"share\": 51}, {\"state_name\": \"Georgia\", \"winner\": \"pct_gop\", \"share\": 49}, {\"state_name\": \"Hawaii\", \"winner\": \"pct_gop\", \"share\": 34}, {\"state_name\": \"Idaho\", \"winner\": \"pct_gop\", \"share\": 64}, {\"state_name\": \"Illinois\", \"winner\": \"pct_gop\", \"share\": 41}, {\"state_name\": \"Indiana\", \"winner\": \"pct_gop\", \"share\": 57}, {\"state_name\": \"Iowa\", \"winner\": \"pct_gop\", \"share\": 53}, {\"state_name\": \"Kansas\", \"winner\": \"pct_gop\", \"share\": 56}, {\"state_name\": \"Kentucky\", \"winner\": \"pct_gop\", \"share\": 62}, {\"state_name\": \"Louisiana\", \"winner\": \"pct_gop\", \"share\": 58}, {\"state_name\": \"Maine\", \"winner\": \"pct_gop\", \"share\": 44}, {\"state_name\": \"Maryland\", \"winner\": \"pct_gop\", \"share\": 32}, {\"state_name\": \"Massachusetts\", \"winner\": \"pct_gop\", \"share\": 32}, {\"state_name\": \"Michigan\", \"winner\": \"pct_gop\", \"share\": 48}, {\"state_name\": \"Minnesota\", \"winner\": \"pct_gop\", \"share\": 45}, {\"state_name\": \"Mississippi\", \"winner\": \"pct_gop\", \"share\": 58}, {\"state_name\": \"Missouri\", \"winner\": \"pct_gop\", \"share\": 57}, {\"state_name\": \"Montana\", \"winner\": \"pct_gop\", \"share\": 57}, {\"state_name\": \"Nebraska\", \"winner\": \"pct_gop\", \"share\": 58}, {\"state_name\": \"Nevada\", \"winner\": \"pct_gop\", \"share\": 48}, {\"state_name\": \"New Hampshire\", \"winner\": \"pct_gop\", \"share\": 45}, {\"state_name\": \"New Jersey\", \"winner\": \"pct_gop\", \"share\": 41}, {\"state_name\": \"New Mexico\", \"winner\": \"pct_gop\", \"share\": 43}, {\"state_name\": \"New York\", \"winner\": \"pct_gop\", \"share\": 38}, {\"state_name\": \"North Carolina\", \"winner\": \"pct_gop\", \"share\": 50}, {\"state_name\": \"North Dakota\", \"winner\": \"pct_gop\", \"share\": 65}, {\"state_name\": \"Ohio\", \"winner\": \"pct_gop\", \"share\": 53}, {\"state_name\": \"Oklahoma\", \"winner\": \"pct_gop\", \"share\": 65}, {\"state_name\": \"Oregon\", \"winner\": \"pct_gop\", \"share\": 40}, {\"state_name\": \"Pennsylvania\", \"winner\": \"pct_gop\", \"share\": 49}, {\"state_name\": \"Rhode Island\", \"winner\": \"pct_gop\", \"share\": 39}, {\"state_name\": \"South Carolina\", \"winner\": \"pct_gop\", \"share\": 55}, {\"state_name\": \"South Dakota\", \"winner\": \"pct_gop\", \"share\": 62}, {\"state_name\": \"Tennessee\", \"winner\": \"pct_gop\", \"share\": 61}, {\"state_name\": \"Texas\", \"winner\": \"pct_gop\", \"share\": 52}, {\"state_name\": \"Utah\", \"winner\": \"pct_gop\", \"share\": 58}, {\"state_name\": \"Vermont\", \"winner\": \"pct_gop\", \"share\": 31}, {\"state_name\": \"Virginia\", \"winner\": \"pct_gop\", \"share\": 44}, {\"state_name\": \"Washington\", \"winner\": \"pct_gop\", \"share\": 39}, {\"state_name\": \"West Virginia\", \"winner\": \"pct_gop\", \"share\": 69}, {\"state_name\": \"Wisconsin\", \"winner\": \"pct_gop\", \"share\": 49}, {\"state_name\": \"Wyoming\", \"winner\": \"pct_gop\", \"share\": 70}]}}, {\"mode\": \"vega-lite\"});\n",
       "</script>"
      ],
      "text/plain": [
       "alt.Chart(...)"
      ]
     },
     "execution_count": 9,
     "metadata": {},
     "output_type": "execute_result"
    }
   ],
   "source": [
    "alt.Chart(states_melt).mark_bar().encode(\n",
    "    x=alt.X('share', stack=\"normalize\"),\n",
    "    y='state_name',\n",
    "    color='winner'\n",
    ")"
   ]
  },
  {
   "cell_type": "markdown",
   "id": "d1287b36-f547-47de-a521-e10e04d5ca91",
   "metadata": {},
   "source": [
    "---"
   ]
  },
  {
   "cell_type": "code",
   "execution_count": 10,
   "id": "e7c68c25-ee37-44e2-a2c5-228096388e56",
   "metadata": {},
   "outputs": [],
   "source": [
    "states.to_csv('../data/elections/states_chart.csv', index=False)"
   ]
  }
 ],
 "metadata": {
  "kernelspec": {
   "display_name": "Python 3",
   "language": "python",
   "name": "python3"
  },
  "language_info": {
   "codemirror_mode": {
    "name": "ipython",
    "version": 3
   },
   "file_extension": ".py",
   "mimetype": "text/x-python",
   "name": "python",
   "nbconvert_exporter": "python",
   "pygments_lexer": "ipython3",
   "version": "3.8.8"
  }
 },
 "nbformat": 4,
 "nbformat_minor": 5
}
