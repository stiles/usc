{
 "cells": [
  {
   "cell_type": "markdown",
   "id": "182672ed-b13b-41e2-9522-0f00aa42f171",
   "metadata": {},
   "source": [
    "# Use Pandas to convert live HTML tables to dataframes"
   ]
  },
  {
   "cell_type": "code",
   "execution_count": 1,
   "id": "abe12d70-c89c-4753-8432-fb5140dc48bf",
   "metadata": {},
   "outputs": [],
   "source": [
    "import pandas as pd"
   ]
  },
  {
   "cell_type": "markdown",
   "id": "76d42348-13cc-44a6-b240-8d57ed14be62",
   "metadata": {},
   "source": [
    "### L.A. County COVID cases, deaths by community"
   ]
  },
  {
   "cell_type": "code",
   "execution_count": 2,
   "id": "9e519e1e-d463-41b6-a94f-72e3cbc983a8",
   "metadata": {},
   "outputs": [],
   "source": [
    "url_dph = 'http://publichealth.lacounty.gov/media/Coronavirus/locations.htm'"
   ]
  },
  {
   "cell_type": "code",
   "execution_count": 3,
   "id": "88fe472d-9198-4c87-918c-9f2fa67be8f4",
   "metadata": {},
   "outputs": [],
   "source": [
    "page_dph = pd.read_html(url_dph, attrs={'class':'table'})"
   ]
  },
  {
   "cell_type": "code",
   "execution_count": 4,
   "id": "9d361395-309c-4e33-a789-8f5b22f126d0",
   "metadata": {},
   "outputs": [],
   "source": [
    "df_dph = pd.DataFrame(page_dph[1])"
   ]
  },
  {
   "cell_type": "code",
   "execution_count": 5,
   "id": "03bada78-30e8-47b7-b261-ad28da9343fd",
   "metadata": {},
   "outputs": [],
   "source": [
    "df_dph.columns = ['place', 'cases', 'case_rate', 'deaths', 'death_rate']"
   ]
  },
  {
   "cell_type": "code",
   "execution_count": 6,
   "id": "0cf88137-b19d-4881-9b9a-86fa608ecdc1",
   "metadata": {},
   "outputs": [
    {
     "data": {
      "text/html": [
       "<div>\n",
       "<style scoped>\n",
       "    .dataframe tbody tr th:only-of-type {\n",
       "        vertical-align: middle;\n",
       "    }\n",
       "\n",
       "    .dataframe tbody tr th {\n",
       "        vertical-align: top;\n",
       "    }\n",
       "\n",
       "    .dataframe thead th {\n",
       "        text-align: right;\n",
       "    }\n",
       "</style>\n",
       "<table border=\"1\" class=\"dataframe\">\n",
       "  <thead>\n",
       "    <tr style=\"text-align: right;\">\n",
       "      <th></th>\n",
       "      <th>place</th>\n",
       "      <th>cases</th>\n",
       "      <th>case_rate</th>\n",
       "      <th>deaths</th>\n",
       "      <th>death_rate</th>\n",
       "    </tr>\n",
       "  </thead>\n",
       "  <tbody>\n",
       "    <tr>\n",
       "      <th>0</th>\n",
       "      <td>City of Agoura Hills</td>\n",
       "      <td>1446</td>\n",
       "      <td>6924.0</td>\n",
       "      <td>19</td>\n",
       "      <td>91.0</td>\n",
       "    </tr>\n",
       "    <tr>\n",
       "      <th>1</th>\n",
       "      <td>City of Alhambra</td>\n",
       "      <td>8213</td>\n",
       "      <td>9470.0</td>\n",
       "      <td>217</td>\n",
       "      <td>250.0</td>\n",
       "    </tr>\n",
       "    <tr>\n",
       "      <th>2</th>\n",
       "      <td>City of Arcadia</td>\n",
       "      <td>3370</td>\n",
       "      <td>5835.0</td>\n",
       "      <td>147</td>\n",
       "      <td>255.0</td>\n",
       "    </tr>\n",
       "    <tr>\n",
       "      <th>3</th>\n",
       "      <td>City of Artesia</td>\n",
       "      <td>2436</td>\n",
       "      <td>14504.0</td>\n",
       "      <td>80</td>\n",
       "      <td>476.0</td>\n",
       "    </tr>\n",
       "    <tr>\n",
       "      <th>4</th>\n",
       "      <td>City of Avalon</td>\n",
       "      <td>32</td>\n",
       "      <td>827.0</td>\n",
       "      <td>0</td>\n",
       "      <td>0.0</td>\n",
       "    </tr>\n",
       "    <tr>\n",
       "      <th>5</th>\n",
       "      <td>City of Azusa</td>\n",
       "      <td>7441</td>\n",
       "      <td>14870.0</td>\n",
       "      <td>130</td>\n",
       "      <td>260.0</td>\n",
       "    </tr>\n",
       "    <tr>\n",
       "      <th>6</th>\n",
       "      <td>City of Baldwin Park</td>\n",
       "      <td>14655</td>\n",
       "      <td>19090.0</td>\n",
       "      <td>334</td>\n",
       "      <td>435.0</td>\n",
       "    </tr>\n",
       "    <tr>\n",
       "      <th>7</th>\n",
       "      <td>City of Bell</td>\n",
       "      <td>7569</td>\n",
       "      <td>20833.0</td>\n",
       "      <td>126</td>\n",
       "      <td>347.0</td>\n",
       "    </tr>\n",
       "    <tr>\n",
       "      <th>8</th>\n",
       "      <td>City of Bell Gardens</td>\n",
       "      <td>9092</td>\n",
       "      <td>21109.0</td>\n",
       "      <td>120</td>\n",
       "      <td>279.0</td>\n",
       "    </tr>\n",
       "    <tr>\n",
       "      <th>9</th>\n",
       "      <td>City of Bellflower</td>\n",
       "      <td>13004</td>\n",
       "      <td>16729.0</td>\n",
       "      <td>214</td>\n",
       "      <td>275.0</td>\n",
       "    </tr>\n",
       "  </tbody>\n",
       "</table>\n",
       "</div>"
      ],
      "text/plain": [
       "                  place  cases  case_rate  deaths  death_rate\n",
       "0  City of Agoura Hills   1446     6924.0      19        91.0\n",
       "1      City of Alhambra   8213     9470.0     217       250.0\n",
       "2       City of Arcadia   3370     5835.0     147       255.0\n",
       "3       City of Artesia   2436    14504.0      80       476.0\n",
       "4        City of Avalon     32      827.0       0         0.0\n",
       "5         City of Azusa   7441    14870.0     130       260.0\n",
       "6  City of Baldwin Park  14655    19090.0     334       435.0\n",
       "7          City of Bell   7569    20833.0     126       347.0\n",
       "8  City of Bell Gardens   9092    21109.0     120       279.0\n",
       "9    City of Bellflower  13004    16729.0     214       275.0"
      ]
     },
     "execution_count": 6,
     "metadata": {},
     "output_type": "execute_result"
    }
   ],
   "source": [
    "df_dph.head(10)"
   ]
  },
  {
   "cell_type": "code",
   "execution_count": 7,
   "id": "bc340234-443b-46ae-ac36-9e66c2c4c195",
   "metadata": {},
   "outputs": [
    {
     "data": {
      "text/html": [
       "<div>\n",
       "<style scoped>\n",
       "    .dataframe tbody tr th:only-of-type {\n",
       "        vertical-align: middle;\n",
       "    }\n",
       "\n",
       "    .dataframe tbody tr th {\n",
       "        vertical-align: top;\n",
       "    }\n",
       "\n",
       "    .dataframe thead th {\n",
       "        text-align: right;\n",
       "    }\n",
       "</style>\n",
       "<table border=\"1\" class=\"dataframe\">\n",
       "  <thead>\n",
       "    <tr style=\"text-align: right;\">\n",
       "      <th></th>\n",
       "      <th>place</th>\n",
       "      <th>cases</th>\n",
       "      <th>case_rate</th>\n",
       "      <th>deaths</th>\n",
       "      <th>death_rate</th>\n",
       "    </tr>\n",
       "  </thead>\n",
       "  <tbody>\n",
       "    <tr>\n",
       "      <th>311</th>\n",
       "      <td>Unincorporated - Saugus</td>\n",
       "      <td>166</td>\n",
       "      <td>107097.0</td>\n",
       "      <td>0</td>\n",
       "      <td>0.0</td>\n",
       "    </tr>\n",
       "    <tr>\n",
       "      <th>309</th>\n",
       "      <td>Unincorporated - Santa Catalina Island</td>\n",
       "      <td>252</td>\n",
       "      <td>94382.0</td>\n",
       "      <td>3</td>\n",
       "      <td>1124.0</td>\n",
       "    </tr>\n",
       "    <tr>\n",
       "      <th>79</th>\n",
       "      <td>City of Vernon</td>\n",
       "      <td>141</td>\n",
       "      <td>67464.0</td>\n",
       "      <td>0</td>\n",
       "      <td>0.0</td>\n",
       "    </tr>\n",
       "    <tr>\n",
       "      <th>35</th>\n",
       "      <td>City of Industry</td>\n",
       "      <td>191</td>\n",
       "      <td>43707.0</td>\n",
       "      <td>5</td>\n",
       "      <td>1144.0</td>\n",
       "    </tr>\n",
       "    <tr>\n",
       "      <th>294</th>\n",
       "      <td>Unincorporated - Pellissier Village</td>\n",
       "      <td>191</td>\n",
       "      <td>30856.0</td>\n",
       "      <td>1</td>\n",
       "      <td>162.0</td>\n",
       "    </tr>\n",
       "    <tr>\n",
       "      <th>166</th>\n",
       "      <td>Los Angeles - Pacoima</td>\n",
       "      <td>19208</td>\n",
       "      <td>24952.0</td>\n",
       "      <td>244</td>\n",
       "      <td>317.0</td>\n",
       "    </tr>\n",
       "    <tr>\n",
       "      <th>66</th>\n",
       "      <td>City of San Fernando</td>\n",
       "      <td>6002</td>\n",
       "      <td>24386.0</td>\n",
       "      <td>71</td>\n",
       "      <td>288.0</td>\n",
       "    </tr>\n",
       "    <tr>\n",
       "      <th>232</th>\n",
       "      <td>Unincorporated - Athens Village</td>\n",
       "      <td>1191</td>\n",
       "      <td>24321.0</td>\n",
       "      <td>31</td>\n",
       "      <td>633.0</td>\n",
       "    </tr>\n",
       "    <tr>\n",
       "      <th>208</th>\n",
       "      <td>Los Angeles - Vernon Central</td>\n",
       "      <td>12304</td>\n",
       "      <td>23662.0</td>\n",
       "      <td>172</td>\n",
       "      <td>331.0</td>\n",
       "    </tr>\n",
       "    <tr>\n",
       "      <th>220</th>\n",
       "      <td>Los Angeles - Wholesale District*</td>\n",
       "      <td>8497</td>\n",
       "      <td>23519.0</td>\n",
       "      <td>116</td>\n",
       "      <td>321.0</td>\n",
       "    </tr>\n",
       "  </tbody>\n",
       "</table>\n",
       "</div>"
      ],
      "text/plain": [
       "                                      place  cases  case_rate  deaths  \\\n",
       "311                 Unincorporated - Saugus    166   107097.0       0   \n",
       "309  Unincorporated - Santa Catalina Island    252    94382.0       3   \n",
       "79                           City of Vernon    141    67464.0       0   \n",
       "35                         City of Industry    191    43707.0       5   \n",
       "294     Unincorporated - Pellissier Village    191    30856.0       1   \n",
       "166                   Los Angeles - Pacoima  19208    24952.0     244   \n",
       "66                     City of San Fernando   6002    24386.0      71   \n",
       "232         Unincorporated - Athens Village   1191    24321.0      31   \n",
       "208            Los Angeles - Vernon Central  12304    23662.0     172   \n",
       "220       Los Angeles - Wholesale District*   8497    23519.0     116   \n",
       "\n",
       "     death_rate  \n",
       "311         0.0  \n",
       "309      1124.0  \n",
       "79          0.0  \n",
       "35       1144.0  \n",
       "294       162.0  \n",
       "166       317.0  \n",
       "66        288.0  \n",
       "232       633.0  \n",
       "208       331.0  \n",
       "220       321.0  "
      ]
     },
     "execution_count": 7,
     "metadata": {},
     "output_type": "execute_result"
    }
   ],
   "source": [
    "df_dph[df_dph['cases'] > 100 ].sort_values('case_rate', ascending=False).head(10)"
   ]
  },
  {
   "cell_type": "markdown",
   "id": "0d5fe323-068f-4967-837a-d635995a57a7",
   "metadata": {},
   "source": [
    "---"
   ]
  },
  {
   "cell_type": "markdown",
   "id": "a7d27154-8707-4da9-9eb5-a288588041c3",
   "metadata": {},
   "source": [
    "### DOJ Jan. 6 insurrection defendants"
   ]
  },
  {
   "cell_type": "code",
   "execution_count": 8,
   "id": "09f736fd-d128-4392-9024-d55d92a4ff91",
   "metadata": {},
   "outputs": [],
   "source": [
    "url_doj = 'https://www.justice.gov/usao-dc/capitol-breach-cases'"
   ]
  },
  {
   "cell_type": "code",
   "execution_count": 9,
   "id": "101365f6-91ed-4d38-ad1d-a3a59e9f6ece",
   "metadata": {},
   "outputs": [],
   "source": [
    "page_doj = pd.read_html(url_doj, attrs={'class':'tablesaw'})"
   ]
  },
  {
   "cell_type": "code",
   "execution_count": 10,
   "id": "9309a067-2633-42f3-9841-0fba23774f10",
   "metadata": {},
   "outputs": [],
   "source": [
    "df_doj = pd.DataFrame(page_doj[0])"
   ]
  },
  {
   "cell_type": "code",
   "execution_count": 11,
   "id": "d2ad19c2-5aba-4b30-b395-302f36ddb92f",
   "metadata": {},
   "outputs": [],
   "source": [
    "df_doj.columns = (\n",
    "    df_doj.columns.str.strip()\n",
    "    .str.lower()\n",
    "    .str.replace(\" \", \"_\", regex=False)\n",
    "    .str.replace(\":\", \"\", regex=False)\n",
    "    .str.replace(\"/\", \"_\", regex=False)\n",
    "    .str.replace(\",\", \"_\", regex=False)\n",
    "    .str.replace(\"*\", \"\", regex=False)\n",
    "    .str.replace(\"(s)\", \"s\", regex=False)\n",
    ")"
   ]
  },
  {
   "cell_type": "code",
   "execution_count": 12,
   "id": "7c720f0e-2f1e-4025-8fb4-c06d90007c19",
   "metadata": {},
   "outputs": [],
   "source": [
    "df_doj[\"location_of_arrest\"] = (\n",
    "    df_doj[\"location_of_arrest\"]\n",
    "    .str.strip()\n",
    "    .str.title()\n",
    "    .str.replace(\", Middle District\", \"\", regex=False)\n",
    "    .str.replace(\", Southern District\", \"\", regex=False)\n",
    "    .str.replace(\", Central District\", \"\", regex=False)\n",
    "    .str.replace(\", Western District\", \"\", regex=False)\n",
    "    .str.replace(\", Eastern District\", \"\", regex=False)\n",
    "    .str.replace(\", Northern District\", \"\", regex=False)\n",
    ")"
   ]
  },
  {
   "cell_type": "code",
   "execution_count": 13,
   "id": "05a55261-8424-48c9-a6c2-717b5d1f774a",
   "metadata": {},
   "outputs": [],
   "source": [
    "df_doj[\"location_of_arrest\"] = df_doj[\"location_of_arrest\"].fillna(\"Not listed\")"
   ]
  },
  {
   "cell_type": "code",
   "execution_count": 14,
   "id": "55e7039e-c61a-41b4-8008-9e243d26427b",
   "metadata": {},
   "outputs": [],
   "source": [
    "df_doj[[\"location_of_arrest_state\", \"location_of_arrest_other\"]] = df_doj[\"location_of_arrest\"].str.split(\", \", n=1, expand=True)"
   ]
  },
  {
   "cell_type": "code",
   "execution_count": 15,
   "id": "c1fe34a5-a049-4d5b-8975-0ba46eba95e9",
   "metadata": {},
   "outputs": [],
   "source": [
    "df_doj.drop(columns=[\"location_of_arrest\"], inplace=True)"
   ]
  },
  {
   "cell_type": "code",
   "execution_count": 16,
   "id": "a95fa771-c0b7-49f1-bc84-c1b2451bbddd",
   "metadata": {},
   "outputs": [
    {
     "data": {
      "text/plain": [
       "Florida         62\n",
       "Texas           58\n",
       "Pennsylvania    57\n",
       "New York        43\n",
       "California      32\n",
       "Name: location_of_arrest_state, dtype: int64"
      ]
     },
     "execution_count": 16,
     "metadata": {},
     "output_type": "execute_result"
    }
   ],
   "source": [
    "df_doj.location_of_arrest_state.value_counts().head()"
   ]
  },
  {
   "cell_type": "code",
   "execution_count": 17,
   "id": "eae11536-e6da-41d7-8453-ceef66d46888",
   "metadata": {},
   "outputs": [],
   "source": [
    "states = df_doj.groupby(['location_of_arrest_state']).agg({'case_number':'count'}).reset_index()"
   ]
  },
  {
   "cell_type": "code",
   "execution_count": 18,
   "id": "320544f6-0913-4e9e-a820-cf42e360f8e7",
   "metadata": {},
   "outputs": [],
   "source": [
    "states.rename(columns={'case_number':'cases'}, inplace=True)"
   ]
  },
  {
   "cell_type": "code",
   "execution_count": 19,
   "id": "fe209ee4-2c6e-441b-8a0b-d3a3f75a2ba7",
   "metadata": {},
   "outputs": [
    {
     "data": {
      "text/html": [
       "<div>\n",
       "<style scoped>\n",
       "    .dataframe tbody tr th:only-of-type {\n",
       "        vertical-align: middle;\n",
       "    }\n",
       "\n",
       "    .dataframe tbody tr th {\n",
       "        vertical-align: top;\n",
       "    }\n",
       "\n",
       "    .dataframe thead th {\n",
       "        text-align: right;\n",
       "    }\n",
       "</style>\n",
       "<table border=\"1\" class=\"dataframe\">\n",
       "  <thead>\n",
       "    <tr style=\"text-align: right;\">\n",
       "      <th></th>\n",
       "      <th>location_of_arrest_state</th>\n",
       "      <th>cases</th>\n",
       "    </tr>\n",
       "  </thead>\n",
       "  <tbody>\n",
       "    <tr>\n",
       "      <th>10</th>\n",
       "      <td>Florida</td>\n",
       "      <td>62</td>\n",
       "    </tr>\n",
       "    <tr>\n",
       "      <th>43</th>\n",
       "      <td>Texas</td>\n",
       "      <td>58</td>\n",
       "    </tr>\n",
       "    <tr>\n",
       "      <th>40</th>\n",
       "      <td>Pennsylvania</td>\n",
       "      <td>56</td>\n",
       "    </tr>\n",
       "    <tr>\n",
       "      <th>33</th>\n",
       "      <td>New York</td>\n",
       "      <td>43</td>\n",
       "    </tr>\n",
       "    <tr>\n",
       "      <th>4</th>\n",
       "      <td>California</td>\n",
       "      <td>32</td>\n",
       "    </tr>\n",
       "  </tbody>\n",
       "</table>\n",
       "</div>"
      ],
      "text/plain": [
       "   location_of_arrest_state  cases\n",
       "10                  Florida     62\n",
       "43                    Texas     58\n",
       "40             Pennsylvania     56\n",
       "33                 New York     43\n",
       "4                California     32"
      ]
     },
     "execution_count": 19,
     "metadata": {},
     "output_type": "execute_result"
    }
   ],
   "source": [
    "states.sort_values('cases', ascending=False).head()"
   ]
  },
  {
   "cell_type": "markdown",
   "id": "1c305664-d3fa-48d7-93be-6874f6de8310",
   "metadata": {},
   "source": [
    "---"
   ]
  },
  {
   "cell_type": "markdown",
   "id": "64c34854-f54e-4e06-a37e-e688fdbb6b9a",
   "metadata": {},
   "source": [
    "### Export both dataframes"
   ]
  },
  {
   "cell_type": "code",
   "execution_count": 20,
   "id": "30d231aa-5c6e-4e57-8020-22aab8349553",
   "metadata": {},
   "outputs": [],
   "source": [
    "df_dph.to_csv('data/la-county-covid-rates-by-community.csv', index=False)"
   ]
  },
  {
   "cell_type": "code",
   "execution_count": 21,
   "id": "031dcdf5-f7ac-4372-aabb-45533ecfdd70",
   "metadata": {},
   "outputs": [],
   "source": [
    "df_doj.to_csv('data/doj-capitol-breach-arrests.csv', index=False)"
   ]
  },
  {
   "cell_type": "code",
   "execution_count": 22,
   "id": "26b78261-7a09-4f0c-89e0-3a391441f1ab",
   "metadata": {},
   "outputs": [],
   "source": [
    "states.to_csv('data/doj-capitol-breach-arrests-by-state.csv', index=False)"
   ]
  }
 ],
 "metadata": {
  "kernelspec": {
   "display_name": "Python 3",
   "language": "python",
   "name": "python3"
  },
  "language_info": {
   "codemirror_mode": {
    "name": "ipython",
    "version": 3
   },
   "file_extension": ".py",
   "mimetype": "text/x-python",
   "name": "python",
   "nbconvert_exporter": "python",
   "pygments_lexer": "ipython3",
   "version": "3.8.8"
  }
 },
 "nbformat": 4,
 "nbformat_minor": 5
}
