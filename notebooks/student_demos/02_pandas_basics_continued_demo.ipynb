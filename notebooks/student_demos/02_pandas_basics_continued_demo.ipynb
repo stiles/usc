{
 "cells": [
  {
   "cell_type": "markdown",
   "id": "98077971-87b9-4dfc-9afe-06ed3f92a28f",
   "metadata": {},
   "source": [
    "# Week 5: Diving into Pandas - DEMO"
   ]
  },
  {
   "cell_type": "markdown",
   "id": "7606243d-b026-46af-adfa-6d6dfa8f06e3",
   "metadata": {},
   "source": [
    "#### Load our Python tools"
   ]
  },
  {
   "cell_type": "code",
   "execution_count": 1,
   "id": "ca566512-ad02-4813-901b-a2676a84b593",
   "metadata": {},
   "outputs": [],
   "source": [
    "import pandas as pd"
   ]
  },
  {
   "cell_type": "markdown",
   "id": "3eb18dbd-e47d-46f6-aa22-79d14175c6fa",
   "metadata": {},
   "source": [
    "## Let's explore TikTok data"
   ]
  },
  {
   "cell_type": "markdown",
   "id": "90b3e9ee-fc25-417b-9c6b-d84588789bec",
   "metadata": {},
   "source": [
    "#### Videos by [@jongraz](https://www.tiktok.com/@jongraz) involving Noodle the Pug - DON'T FORGET THE DATA PATH"
   ]
  },
  {
   "cell_type": "code",
   "execution_count": 2,
   "id": "83cc8a97-a1cb-4f89-9e2d-ff9bbd9a465f",
   "metadata": {},
   "outputs": [],
   "source": [
    "videos = pd.read_csv('../../data/raw/jon_graz_noodle_videos.csv')"
   ]
  },
  {
   "cell_type": "markdown",
   "id": "5a765255-6dc4-4222-9759-1d0100956d1a",
   "metadata": {},
   "source": [
    "#### TikTok stats for att [@jongraz](https://www.tiktok.com/@jongraz) videos"
   ]
  },
  {
   "cell_type": "code",
   "execution_count": 3,
   "id": "5d092b9e-c245-4fc1-892d-9b70aa17ec89",
   "metadata": {},
   "outputs": [],
   "source": [
    "stats = pd.read_csv('../../data/raw/jon_graz_stats.csv')"
   ]
  },
  {
   "cell_type": "markdown",
   "id": "d795815b-a959-4579-a76a-b0a0672b9b29",
   "metadata": {},
   "source": [
    "---"
   ]
  },
  {
   "cell_type": "markdown",
   "id": "291d9e0c-8e04-4f74-8dfa-5af473b14927",
   "metadata": {},
   "source": [
    "## Videos"
   ]
  },
  {
   "cell_type": "markdown",
   "id": "02bbb0cc-40aa-415c-b54a-b1ce405c56b1",
   "metadata": {},
   "source": [
    "#### Glance at the first five rows"
   ]
  },
  {
   "cell_type": "code",
   "execution_count": null,
   "id": "7c4bab26-658a-4870-9249-e16bd3323564",
   "metadata": {},
   "outputs": [],
   "source": []
  },
  {
   "cell_type": "markdown",
   "id": "117f40d6-ea57-445f-8f36-2c4d8fe7ccbf",
   "metadata": {},
   "source": [
    "#### How many total videos are there? "
   ]
  },
  {
   "cell_type": "code",
   "execution_count": null,
   "id": "60a7ad3f-13b0-4ed0-ab0e-3ab11e55fd98",
   "metadata": {},
   "outputs": [],
   "source": []
  },
  {
   "cell_type": "markdown",
   "id": "bf4eb5d0-3d19-446b-8269-f1260b945510",
   "metadata": {},
   "source": [
    "#### What's the oldest video? "
   ]
  },
  {
   "cell_type": "code",
   "execution_count": null,
   "id": "b10d0687-7812-4690-8ac2-6176c4f21f24",
   "metadata": {},
   "outputs": [],
   "source": []
  },
  {
   "cell_type": "markdown",
   "id": "bdc528d6-231e-43aa-a868-e9f0910a9f86",
   "metadata": {},
   "source": [
    "#### Newest? "
   ]
  },
  {
   "cell_type": "code",
   "execution_count": null,
   "id": "94a2df6f-8ea2-442e-80a8-c647ac195db8",
   "metadata": {},
   "outputs": [],
   "source": []
  },
  {
   "cell_type": "markdown",
   "id": "e99a642a-318b-4e19-aff2-a3fb4dcfb365",
   "metadata": {},
   "source": [
    "#### Data types"
   ]
  },
  {
   "cell_type": "code",
   "execution_count": null,
   "id": "11485187-0a6f-480b-bb8e-14109f7e92f0",
   "metadata": {},
   "outputs": [],
   "source": []
  },
  {
   "cell_type": "markdown",
   "id": "372bc259-a0d6-40d2-a204-f80e8b6dc89f",
   "metadata": {},
   "source": [
    "#### Convert the date string to a real date in a new column"
   ]
  },
  {
   "cell_type": "code",
   "execution_count": null,
   "id": "8e73e925-820a-419f-9e88-1ef5cbd98957",
   "metadata": {},
   "outputs": [],
   "source": []
  },
  {
   "cell_type": "markdown",
   "id": "a2b169f8-f795-4e4e-8ec6-9d3a0e3c5251",
   "metadata": {},
   "source": [
    "#### Now will it sort? Try with oldest"
   ]
  },
  {
   "cell_type": "code",
   "execution_count": null,
   "id": "7b759274-54da-4998-b2e6-f5285c17e079",
   "metadata": {},
   "outputs": [],
   "source": []
  },
  {
   "cell_type": "markdown",
   "id": "615cf21d-ce09-40a4-8de1-195dca0c62f9",
   "metadata": {},
   "source": [
    "#### What if we just want the month, or year, or day of the week?"
   ]
  },
  {
   "cell_type": "code",
   "execution_count": null,
   "id": "49d61ebc-0e12-42cc-8121-2abeb0d27fc9",
   "metadata": {},
   "outputs": [],
   "source": []
  },
  {
   "cell_type": "code",
   "execution_count": null,
   "id": "8ad22070-21a0-4c75-9666-4b612746266a",
   "metadata": {},
   "outputs": [],
   "source": []
  },
  {
   "cell_type": "markdown",
   "id": "b8a66968-54eb-4445-8a12-52b10d1e92db",
   "metadata": {},
   "source": [
    "#### How many bones days vs. no bones days? "
   ]
  },
  {
   "cell_type": "code",
   "execution_count": null,
   "id": "758a0866-755d-4aad-8f98-3e2aeebd4f29",
   "metadata": {},
   "outputs": [],
   "source": []
  },
  {
   "cell_type": "code",
   "execution_count": null,
   "id": "fc167202-7a5d-4051-a09f-bcda4e645b31",
   "metadata": {},
   "outputs": [],
   "source": []
  },
  {
   "cell_type": "code",
   "execution_count": null,
   "id": "aa44961d-7406-4fdc-a61a-780fbf15c803",
   "metadata": {},
   "outputs": [],
   "source": []
  },
  {
   "cell_type": "markdown",
   "id": "aeaaef58-165f-459d-88cd-46423842a39f",
   "metadata": {},
   "source": [
    "---"
   ]
  },
  {
   "cell_type": "markdown",
   "id": "09d1b765-e907-4141-af9d-f34beccd912c",
   "metadata": {},
   "source": [
    "## TikTok API stats"
   ]
  },
  {
   "cell_type": "markdown",
   "id": "aa062bb9-b5df-482c-82b6-057079ab9e8d",
   "metadata": {},
   "source": [
    "#### First five rows?"
   ]
  },
  {
   "cell_type": "code",
   "execution_count": null,
   "id": "cfd368de-1674-4fb1-a25c-f6e14f83cedf",
   "metadata": {},
   "outputs": [],
   "source": []
  },
  {
   "cell_type": "markdown",
   "id": "f1a231fd-ed3b-4eb4-8761-547c0747da17",
   "metadata": {},
   "source": [
    "#### 1. Merge with Noodle videos — two solutions"
   ]
  },
  {
   "cell_type": "code",
   "execution_count": null,
   "id": "5a80f9c2-b121-4b03-86f3-af7af84e0cb9",
   "metadata": {},
   "outputs": [],
   "source": []
  },
  {
   "cell_type": "code",
   "execution_count": null,
   "id": "6575f729-a9c3-4b7a-8998-842ccc6e9146",
   "metadata": {},
   "outputs": [],
   "source": []
  },
  {
   "cell_type": "markdown",
   "id": "f2ee6877-997e-45ec-9507-6322636a2dc5",
   "metadata": {},
   "source": [
    "#### 2. Filter from a list"
   ]
  },
  {
   "cell_type": "code",
   "execution_count": null,
   "id": "61f0690c-b852-4f96-a81d-c91ee03703cf",
   "metadata": {},
   "outputs": [],
   "source": []
  },
  {
   "cell_type": "code",
   "execution_count": null,
   "id": "d1b5b6ba-10c4-4d29-bdfc-985db7f3ece6",
   "metadata": {},
   "outputs": [],
   "source": []
  },
  {
   "cell_type": "code",
   "execution_count": null,
   "id": "e06f0f7a-2f33-4ee3-a7c7-64d534f81e00",
   "metadata": {},
   "outputs": [],
   "source": []
  },
  {
   "cell_type": "markdown",
   "id": "3cf978c1-9888-4536-8385-1997e3da954b",
   "metadata": {},
   "source": [
    "#### Which video got the most views? Two strategies"
   ]
  },
  {
   "cell_type": "code",
   "execution_count": null,
   "id": "e1bd5800-e182-4527-ab50-f2581668fe41",
   "metadata": {},
   "outputs": [],
   "source": []
  },
  {
   "cell_type": "code",
   "execution_count": null,
   "id": "b4b90c9b-32cc-4404-aa62-b5096164c195",
   "metadata": {},
   "outputs": [],
   "source": []
  }
 ],
 "metadata": {
  "kernelspec": {
   "display_name": "Python 3",
   "language": "python",
   "name": "python3"
  },
  "language_info": {
   "codemirror_mode": {
    "name": "ipython",
    "version": 3
   },
   "file_extension": ".py",
   "mimetype": "text/x-python",
   "name": "python",
   "nbconvert_exporter": "python",
   "pygments_lexer": "ipython3",
   "version": "3.8.8"
  }
 },
 "nbformat": 4,
 "nbformat_minor": 5
}
