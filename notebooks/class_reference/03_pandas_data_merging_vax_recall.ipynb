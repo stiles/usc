{
 "cells": [
  {
   "cell_type": "markdown",
   "id": "e967555c-ec5c-4f09-a3a5-ffedb2f61d2d",
   "metadata": {},
   "source": [
    "# Week 6: Merging data with Pandas, Part 1\n",
    "What's the relationship between vaccination rates and votes in the recall election [using the `merge()` method](https://pandas.pydata.org/docs/reference/api/pandas.DataFrame.merge.html)"
   ]
  },
  {
   "cell_type": "markdown",
   "id": "7606243d-b026-46af-adfa-6d6dfa8f06e3",
   "metadata": {},
   "source": [
    "#### Load our Python tools"
   ]
  },
  {
   "cell_type": "code",
   "execution_count": 1,
   "id": "5aa6e6c5-2705-40ab-ade1-719f609a3794",
   "metadata": {},
   "outputs": [],
   "source": [
    "%load_ext lab_black"
   ]
  },
  {
   "cell_type": "code",
   "execution_count": 2,
   "id": "7c2be76f-ca72-4a68-9ef4-3848ec01746a",
   "metadata": {},
   "outputs": [],
   "source": [
    "import pandas as pd\n",
    "import altair as alt"
   ]
  },
  {
   "cell_type": "code",
   "execution_count": 3,
   "id": "084ca41d-4ca9-4f90-a6fd-3109902a2fda",
   "metadata": {},
   "outputs": [],
   "source": [
    "pd.options.display.max_columns = 100\n",
    "pd.options.display.max_rows = 1000\n",
    "pd.options.display.max_colwidth = None"
   ]
  },
  {
   "cell_type": "markdown",
   "id": "c856fd59-ac22-49de-876d-84413a76fed0",
   "metadata": {},
   "source": [
    "---"
   ]
  },
  {
   "cell_type": "markdown",
   "id": "00457e57-275d-4bf7-aa19-f4e8df565d50",
   "metadata": {},
   "source": [
    "### Vax percentage"
   ]
  },
  {
   "cell_type": "markdown",
   "id": "3a903e69-ebc0-4182-8e9a-3e17109f4bcf",
   "metadata": {},
   "source": [
    "#### LA Times [coronavirus repo](https://github.com/datadesk/california-coronavirus-data)"
   ]
  },
  {
   "cell_type": "code",
   "execution_count": 4,
   "id": "e88c0253-491f-410d-8627-4fcd86dde983",
   "metadata": {},
   "outputs": [],
   "source": [
    "vax_url = \"https://raw.githubusercontent.com/datadesk/california-coronavirus-data/master/cdph-vaccination-county-totals.csv\""
   ]
  },
  {
   "cell_type": "markdown",
   "id": "a564f528-f49a-4a39-9839-6465783cedb5",
   "metadata": {},
   "source": [
    "#### Read weekly vaccination totals by county data"
   ]
  },
  {
   "cell_type": "code",
   "execution_count": 5,
   "id": "cec8d2c2-fdbb-44bf-9bff-ee2bafe93673",
   "metadata": {},
   "outputs": [],
   "source": [
    "vax_df = pd.read_csv(vax_url, dtype={\"fips\": str})"
   ]
  },
  {
   "cell_type": "markdown",
   "id": "ebe393de-e82c-409b-8c43-e14aa5d54a94",
   "metadata": {},
   "source": [
    "#### How many weeks is this (don't forget to sort)? "
   ]
  },
  {
   "cell_type": "code",
   "execution_count": 6,
   "id": "96879ab8-ed2a-40bb-98ab-93ff3272d787",
   "metadata": {},
   "outputs": [
    {
     "data": {
      "text/html": [
       "<div>\n",
       "<style scoped>\n",
       "    .dataframe tbody tr th:only-of-type {\n",
       "        vertical-align: middle;\n",
       "    }\n",
       "\n",
       "    .dataframe tbody tr th {\n",
       "        vertical-align: top;\n",
       "    }\n",
       "\n",
       "    .dataframe thead th {\n",
       "        text-align: right;\n",
       "    }\n",
       "</style>\n",
       "<table border=\"1\" class=\"dataframe\">\n",
       "  <thead>\n",
       "    <tr style=\"text-align: right;\">\n",
       "      <th></th>\n",
       "      <th>date</th>\n",
       "      <th>county</th>\n",
       "      <th>fips</th>\n",
       "      <th>population</th>\n",
       "      <th>doses_administered</th>\n",
       "      <th>new_doses_administered</th>\n",
       "      <th>pfizer_doses</th>\n",
       "      <th>new_pfizer_doses</th>\n",
       "      <th>moderna_doses</th>\n",
       "      <th>new_moderna_doses</th>\n",
       "      <th>jj_doses</th>\n",
       "      <th>new_jj_doses</th>\n",
       "      <th>partially_vaccinated</th>\n",
       "      <th>new_partially_vaccinated</th>\n",
       "      <th>at_least_one_dose</th>\n",
       "      <th>new_at_least_one_dose</th>\n",
       "      <th>fully_vaccinated</th>\n",
       "      <th>new_fully_vaccinated</th>\n",
       "      <th>partially_vaccinated_percent</th>\n",
       "      <th>at_least_one_dose_percent</th>\n",
       "      <th>fully_vaccinated_percent</th>\n",
       "    </tr>\n",
       "  </thead>\n",
       "  <tbody>\n",
       "    <tr>\n",
       "      <th>0</th>\n",
       "      <td>2022-02-15</td>\n",
       "      <td>Alameda</td>\n",
       "      <td>001</td>\n",
       "      <td>1643700.0</td>\n",
       "      <td>3485200</td>\n",
       "      <td>2534</td>\n",
       "      <td>2127016.0</td>\n",
       "      <td>1470</td>\n",
       "      <td>1060982.0</td>\n",
       "      <td>606</td>\n",
       "      <td>133395.0</td>\n",
       "      <td>30</td>\n",
       "      <td>108068.0</td>\n",
       "      <td>395</td>\n",
       "      <td>1447101.0</td>\n",
       "      <td>402</td>\n",
       "      <td>1339033.0</td>\n",
       "      <td>552</td>\n",
       "      <td>0.065747</td>\n",
       "      <td>0.880392</td>\n",
       "      <td>0.814646</td>\n",
       "    </tr>\n",
       "    <tr>\n",
       "      <th>45</th>\n",
       "      <td>2022-02-15</td>\n",
       "      <td>Sierra</td>\n",
       "      <td>091</td>\n",
       "      <td>2930.0</td>\n",
       "      <td>3929</td>\n",
       "      <td>9</td>\n",
       "      <td>567.0</td>\n",
       "      <td>1</td>\n",
       "      <td>3232.0</td>\n",
       "      <td>1</td>\n",
       "      <td>74.0</td>\n",
       "      <td>0</td>\n",
       "      <td>116.0</td>\n",
       "      <td>5</td>\n",
       "      <td>1675.0</td>\n",
       "      <td>5</td>\n",
       "      <td>1559.0</td>\n",
       "      <td>4</td>\n",
       "      <td>0.039590</td>\n",
       "      <td>0.571672</td>\n",
       "      <td>0.532082</td>\n",
       "    </tr>\n",
       "    <tr>\n",
       "      <th>32</th>\n",
       "      <td>2022-02-15</td>\n",
       "      <td>Riverside</td>\n",
       "      <td>065</td>\n",
       "      <td>2383286.0</td>\n",
       "      <td>3547225</td>\n",
       "      <td>1911</td>\n",
       "      <td>2058984.0</td>\n",
       "      <td>965</td>\n",
       "      <td>1300748.0</td>\n",
       "      <td>525</td>\n",
       "      <td>96269.0</td>\n",
       "      <td>28</td>\n",
       "      <td>166410.0</td>\n",
       "      <td>359</td>\n",
       "      <td>1584812.0</td>\n",
       "      <td>374</td>\n",
       "      <td>1418402.0</td>\n",
       "      <td>567</td>\n",
       "      <td>0.069824</td>\n",
       "      <td>0.664969</td>\n",
       "      <td>0.595146</td>\n",
       "    </tr>\n",
       "    <tr>\n",
       "      <th>33</th>\n",
       "      <td>2022-02-15</td>\n",
       "      <td>Sacramento</td>\n",
       "      <td>067</td>\n",
       "      <td>1510023.0</td>\n",
       "      <td>2602807</td>\n",
       "      <td>1630</td>\n",
       "      <td>1452709.0</td>\n",
       "      <td>835</td>\n",
       "      <td>988452.0</td>\n",
       "      <td>453</td>\n",
       "      <td>67939.0</td>\n",
       "      <td>43</td>\n",
       "      <td>92216.0</td>\n",
       "      <td>230</td>\n",
       "      <td>1112681.0</td>\n",
       "      <td>243</td>\n",
       "      <td>1020465.0</td>\n",
       "      <td>455</td>\n",
       "      <td>0.061069</td>\n",
       "      <td>0.736864</td>\n",
       "      <td>0.675794</td>\n",
       "    </tr>\n",
       "    <tr>\n",
       "      <th>34</th>\n",
       "      <td>2022-02-15</td>\n",
       "      <td>San Benito</td>\n",
       "      <td>069</td>\n",
       "      <td>59416.0</td>\n",
       "      <td>110868</td>\n",
       "      <td>71</td>\n",
       "      <td>60297.0</td>\n",
       "      <td>33</td>\n",
       "      <td>42528.0</td>\n",
       "      <td>25</td>\n",
       "      <td>3916.0</td>\n",
       "      <td>0</td>\n",
       "      <td>4502.0</td>\n",
       "      <td>11</td>\n",
       "      <td>48622.0</td>\n",
       "      <td>11</td>\n",
       "      <td>44120.0</td>\n",
       "      <td>18</td>\n",
       "      <td>0.075771</td>\n",
       "      <td>0.818332</td>\n",
       "      <td>0.742561</td>\n",
       "    </tr>\n",
       "  </tbody>\n",
       "</table>\n",
       "</div>"
      ],
      "text/plain": [
       "          date      county fips  population  doses_administered  \\\n",
       "0   2022-02-15     Alameda  001   1643700.0             3485200   \n",
       "45  2022-02-15      Sierra  091      2930.0                3929   \n",
       "32  2022-02-15   Riverside  065   2383286.0             3547225   \n",
       "33  2022-02-15  Sacramento  067   1510023.0             2602807   \n",
       "34  2022-02-15  San Benito  069     59416.0              110868   \n",
       "\n",
       "    new_doses_administered  pfizer_doses  new_pfizer_doses  moderna_doses  \\\n",
       "0                     2534     2127016.0              1470      1060982.0   \n",
       "45                       9         567.0                 1         3232.0   \n",
       "32                    1911     2058984.0               965      1300748.0   \n",
       "33                    1630     1452709.0               835       988452.0   \n",
       "34                      71       60297.0                33        42528.0   \n",
       "\n",
       "    new_moderna_doses  jj_doses  new_jj_doses  partially_vaccinated  \\\n",
       "0                 606  133395.0            30              108068.0   \n",
       "45                  1      74.0             0                 116.0   \n",
       "32                525   96269.0            28              166410.0   \n",
       "33                453   67939.0            43               92216.0   \n",
       "34                 25    3916.0             0                4502.0   \n",
       "\n",
       "    new_partially_vaccinated  at_least_one_dose  new_at_least_one_dose  \\\n",
       "0                        395          1447101.0                    402   \n",
       "45                         5             1675.0                      5   \n",
       "32                       359          1584812.0                    374   \n",
       "33                       230          1112681.0                    243   \n",
       "34                        11            48622.0                     11   \n",
       "\n",
       "    fully_vaccinated  new_fully_vaccinated  partially_vaccinated_percent  \\\n",
       "0          1339033.0                   552                      0.065747   \n",
       "45            1559.0                     4                      0.039590   \n",
       "32         1418402.0                   567                      0.069824   \n",
       "33         1020465.0                   455                      0.061069   \n",
       "34           44120.0                    18                      0.075771   \n",
       "\n",
       "    at_least_one_dose_percent  fully_vaccinated_percent  \n",
       "0                    0.880392                  0.814646  \n",
       "45                   0.571672                  0.532082  \n",
       "32                   0.664969                  0.595146  \n",
       "33                   0.736864                  0.675794  \n",
       "34                   0.818332                  0.742561  "
      ]
     },
     "execution_count": 6,
     "metadata": {},
     "output_type": "execute_result"
    }
   ],
   "source": [
    "vax_df.sort_values(\"date\", ascending=False).head(5)"
   ]
  },
  {
   "cell_type": "code",
   "execution_count": 7,
   "id": "224e2b85-e47e-4d22-9d36-c4a1122f8680",
   "metadata": {},
   "outputs": [
    {
     "data": {
      "text/plain": [
       "'2022-02-15'"
      ]
     },
     "execution_count": 7,
     "metadata": {},
     "output_type": "execute_result"
    }
   ],
   "source": [
    "vax_df[\"date\"].max()"
   ]
  },
  {
   "cell_type": "code",
   "execution_count": 8,
   "id": "cb4883a6-1ae6-49c5-ab61-4b097a13c631",
   "metadata": {},
   "outputs": [
    {
     "data": {
      "text/plain": [
       "'2020-01-05'"
      ]
     },
     "execution_count": 8,
     "metadata": {},
     "output_type": "execute_result"
    }
   ],
   "source": [
    "vax_df[\"date\"].min()"
   ]
  },
  {
   "cell_type": "markdown",
   "id": "e1a34763-0931-406a-8ff2-71c7d3c66546",
   "metadata": {},
   "source": [
    "#### Select the most recent week"
   ]
  },
  {
   "cell_type": "code",
   "execution_count": 9,
   "id": "2ab6813b-39e6-4abf-9424-33da23f9d40a",
   "metadata": {},
   "outputs": [],
   "source": [
    "most_recent = vax_df[vax_df[\"date\"] == vax_df[\"date\"].max()]"
   ]
  },
  {
   "cell_type": "markdown",
   "id": "1b79f1ef-6dca-4b64-bd38-fd916e76a739",
   "metadata": {},
   "source": [
    "#### Get only the columns we need"
   ]
  },
  {
   "cell_type": "code",
   "execution_count": 10,
   "id": "a7cafd0c-edac-4bfc-8e93-8b987fafd2ec",
   "metadata": {},
   "outputs": [],
   "source": [
    "vax_slim = most_recent[[\"county\", \"fips\", \"fully_vaccinated_percent\", \"population\"]]"
   ]
  },
  {
   "cell_type": "code",
   "execution_count": 11,
   "id": "cdc0a622-e0eb-4c6d-bffb-5d2e321c4b34",
   "metadata": {},
   "outputs": [
    {
     "data": {
      "text/html": [
       "<div>\n",
       "<style scoped>\n",
       "    .dataframe tbody tr th:only-of-type {\n",
       "        vertical-align: middle;\n",
       "    }\n",
       "\n",
       "    .dataframe tbody tr th {\n",
       "        vertical-align: top;\n",
       "    }\n",
       "\n",
       "    .dataframe thead th {\n",
       "        text-align: right;\n",
       "    }\n",
       "</style>\n",
       "<table border=\"1\" class=\"dataframe\">\n",
       "  <thead>\n",
       "    <tr style=\"text-align: right;\">\n",
       "      <th></th>\n",
       "      <th>county</th>\n",
       "      <th>fips</th>\n",
       "      <th>fully_vaccinated_percent</th>\n",
       "      <th>population</th>\n",
       "    </tr>\n",
       "  </thead>\n",
       "  <tbody>\n",
       "    <tr>\n",
       "      <th>0</th>\n",
       "      <td>Alameda</td>\n",
       "      <td>001</td>\n",
       "      <td>0.814646</td>\n",
       "      <td>1643700.0</td>\n",
       "    </tr>\n",
       "    <tr>\n",
       "      <th>1</th>\n",
       "      <td>Alpine</td>\n",
       "      <td>003</td>\n",
       "      <td>0.625436</td>\n",
       "      <td>1148.0</td>\n",
       "    </tr>\n",
       "    <tr>\n",
       "      <th>2</th>\n",
       "      <td>Amador</td>\n",
       "      <td>005</td>\n",
       "      <td>0.542652</td>\n",
       "      <td>37829.0</td>\n",
       "    </tr>\n",
       "    <tr>\n",
       "      <th>3</th>\n",
       "      <td>Butte</td>\n",
       "      <td>007</td>\n",
       "      <td>0.502600</td>\n",
       "      <td>227075.0</td>\n",
       "    </tr>\n",
       "    <tr>\n",
       "      <th>4</th>\n",
       "      <td>Calaveras</td>\n",
       "      <td>009</td>\n",
       "      <td>0.532287</td>\n",
       "      <td>45235.0</td>\n",
       "    </tr>\n",
       "  </tbody>\n",
       "</table>\n",
       "</div>"
      ],
      "text/plain": [
       "      county fips  fully_vaccinated_percent  population\n",
       "0    Alameda  001                  0.814646   1643700.0\n",
       "1     Alpine  003                  0.625436      1148.0\n",
       "2     Amador  005                  0.542652     37829.0\n",
       "3      Butte  007                  0.502600    227075.0\n",
       "4  Calaveras  009                  0.532287     45235.0"
      ]
     },
     "execution_count": 11,
     "metadata": {},
     "output_type": "execute_result"
    }
   ],
   "source": [
    "vax_slim.head()"
   ]
  },
  {
   "cell_type": "markdown",
   "id": "c75bc2c9-618a-4185-8000-8d498f6f9e7b",
   "metadata": {},
   "source": [
    "---"
   ]
  },
  {
   "cell_type": "markdown",
   "id": "2baeea9b-cc96-4c44-be4c-edfe56c8e922",
   "metadata": {},
   "source": [
    "### Recall vote"
   ]
  },
  {
   "cell_type": "markdown",
   "id": "fa5f87e8-52a6-43ec-b96c-446b5438dd10",
   "metadata": {},
   "source": [
    "#### Read the county-level election results"
   ]
  },
  {
   "cell_type": "code",
   "execution_count": 12,
   "id": "baf840d8-1716-48aa-942d-61ad3cce056f",
   "metadata": {},
   "outputs": [],
   "source": [
    "recall_df = pd.read_json(\n",
    "    \"../../data/raw/gov_race_change_counties.json\", dtype={\"fips\": str}\n",
    ")"
   ]
  },
  {
   "cell_type": "markdown",
   "id": "f25ea6be-f62f-460f-bd3d-4cc3a0d355dd",
   "metadata": {},
   "source": [
    "#### Rename columns"
   ]
  },
  {
   "cell_type": "code",
   "execution_count": 13,
   "id": "bd9f25e0-82ca-42f6-bc80-c454d5a2a190",
   "metadata": {},
   "outputs": [],
   "source": [
    "recall_df.rename(\n",
    "    columns={\n",
    "        \"d_pct_21\": \"no_percent\",\n",
    "        \"r_pct_21\": \"yes_percent\",\n",
    "        \"leader_2021\": \"winner_2021\",\n",
    "    },\n",
    "    inplace=True,\n",
    ")"
   ]
  },
  {
   "cell_type": "code",
   "execution_count": 14,
   "id": "c9a77d54-fecb-403f-8a18-1ebae87a1981",
   "metadata": {},
   "outputs": [],
   "source": [
    "# This will also work without the inplace argument\n",
    "# recall_df = recall_df.rename(columns={\"d_pct_21\": \"no_percent\"})"
   ]
  },
  {
   "cell_type": "markdown",
   "id": "8584a4ba-21c9-4618-b5ef-6187dd26b988",
   "metadata": {},
   "source": [
    "#### What's that look like? "
   ]
  },
  {
   "cell_type": "code",
   "execution_count": 15,
   "id": "e2d5b8ef-ceea-40ef-bf7a-1c762ea2e2fc",
   "metadata": {},
   "outputs": [
    {
     "data": {
      "text/html": [
       "<div>\n",
       "<style scoped>\n",
       "    .dataframe tbody tr th:only-of-type {\n",
       "        vertical-align: middle;\n",
       "    }\n",
       "\n",
       "    .dataframe tbody tr th {\n",
       "        vertical-align: top;\n",
       "    }\n",
       "\n",
       "    .dataframe thead th {\n",
       "        text-align: right;\n",
       "    }\n",
       "</style>\n",
       "<table border=\"1\" class=\"dataframe\">\n",
       "  <thead>\n",
       "    <tr style=\"text-align: right;\">\n",
       "      <th></th>\n",
       "      <th>county</th>\n",
       "      <th>fips</th>\n",
       "      <th>dem_2018</th>\n",
       "      <th>dem_2021</th>\n",
       "      <th>rep_2018</th>\n",
       "      <th>rep_2021</th>\n",
       "      <th>votes_2018</th>\n",
       "      <th>votes_2021</th>\n",
       "      <th>d_pct_18</th>\n",
       "      <th>no_percent</th>\n",
       "      <th>r_pct_18</th>\n",
       "      <th>yes_percent</th>\n",
       "      <th>d_change</th>\n",
       "      <th>r_change</th>\n",
       "      <th>winner_2021</th>\n",
       "      <th>leader_2018</th>\n",
       "    </tr>\n",
       "  </thead>\n",
       "  <tbody>\n",
       "    <tr>\n",
       "      <th>0</th>\n",
       "      <td>Alameda</td>\n",
       "      <td>001</td>\n",
       "      <td>462558</td>\n",
       "      <td>287014</td>\n",
       "      <td>111677</td>\n",
       "      <td>60716</td>\n",
       "      <td>574235</td>\n",
       "      <td>347730</td>\n",
       "      <td>80.6</td>\n",
       "      <td>82.5</td>\n",
       "      <td>19.4</td>\n",
       "      <td>17.5</td>\n",
       "      <td>1.9</td>\n",
       "      <td>-1.9</td>\n",
       "      <td>D</td>\n",
       "      <td>D</td>\n",
       "    </tr>\n",
       "    <tr>\n",
       "      <th>1</th>\n",
       "      <td>Alpine</td>\n",
       "      <td>003</td>\n",
       "      <td>386</td>\n",
       "      <td>340</td>\n",
       "      <td>229</td>\n",
       "      <td>218</td>\n",
       "      <td>615</td>\n",
       "      <td>558</td>\n",
       "      <td>62.8</td>\n",
       "      <td>60.9</td>\n",
       "      <td>37.2</td>\n",
       "      <td>39.1</td>\n",
       "      <td>-1.9</td>\n",
       "      <td>1.9</td>\n",
       "      <td>D</td>\n",
       "      <td>D</td>\n",
       "    </tr>\n",
       "    <tr>\n",
       "      <th>2</th>\n",
       "      <td>Amador</td>\n",
       "      <td>005</td>\n",
       "      <td>6237</td>\n",
       "      <td>6411</td>\n",
       "      <td>11356</td>\n",
       "      <td>10971</td>\n",
       "      <td>17593</td>\n",
       "      <td>17382</td>\n",
       "      <td>35.5</td>\n",
       "      <td>36.9</td>\n",
       "      <td>64.5</td>\n",
       "      <td>63.1</td>\n",
       "      <td>1.4</td>\n",
       "      <td>-1.4</td>\n",
       "      <td>R</td>\n",
       "      <td>R</td>\n",
       "    </tr>\n",
       "    <tr>\n",
       "      <th>3</th>\n",
       "      <td>Butte</td>\n",
       "      <td>007</td>\n",
       "      <td>41500</td>\n",
       "      <td>31774</td>\n",
       "      <td>47226</td>\n",
       "      <td>35182</td>\n",
       "      <td>88726</td>\n",
       "      <td>66956</td>\n",
       "      <td>46.8</td>\n",
       "      <td>47.5</td>\n",
       "      <td>53.2</td>\n",
       "      <td>52.5</td>\n",
       "      <td>0.7</td>\n",
       "      <td>-0.7</td>\n",
       "      <td>R</td>\n",
       "      <td>R</td>\n",
       "    </tr>\n",
       "    <tr>\n",
       "      <th>4</th>\n",
       "      <td>Calaveras</td>\n",
       "      <td>009</td>\n",
       "      <td>7765</td>\n",
       "      <td>7106</td>\n",
       "      <td>13845</td>\n",
       "      <td>11450</td>\n",
       "      <td>21610</td>\n",
       "      <td>18556</td>\n",
       "      <td>35.9</td>\n",
       "      <td>38.3</td>\n",
       "      <td>64.1</td>\n",
       "      <td>61.7</td>\n",
       "      <td>2.4</td>\n",
       "      <td>-2.4</td>\n",
       "      <td>R</td>\n",
       "      <td>R</td>\n",
       "    </tr>\n",
       "  </tbody>\n",
       "</table>\n",
       "</div>"
      ],
      "text/plain": [
       "      county fips  dem_2018  dem_2021  rep_2018  rep_2021  votes_2018  \\\n",
       "0    Alameda  001    462558    287014    111677     60716      574235   \n",
       "1     Alpine  003       386       340       229       218         615   \n",
       "2     Amador  005      6237      6411     11356     10971       17593   \n",
       "3      Butte  007     41500     31774     47226     35182       88726   \n",
       "4  Calaveras  009      7765      7106     13845     11450       21610   \n",
       "\n",
       "   votes_2021  d_pct_18  no_percent  r_pct_18  yes_percent  d_change  \\\n",
       "0      347730      80.6        82.5      19.4         17.5       1.9   \n",
       "1         558      62.8        60.9      37.2         39.1      -1.9   \n",
       "2       17382      35.5        36.9      64.5         63.1       1.4   \n",
       "3       66956      46.8        47.5      53.2         52.5       0.7   \n",
       "4       18556      35.9        38.3      64.1         61.7       2.4   \n",
       "\n",
       "   r_change winner_2021 leader_2018  \n",
       "0      -1.9           D           D  \n",
       "1       1.9           D           D  \n",
       "2      -1.4           R           R  \n",
       "3      -0.7           R           R  \n",
       "4      -2.4           R           R  "
      ]
     },
     "execution_count": 15,
     "metadata": {},
     "output_type": "execute_result"
    }
   ],
   "source": [
    "recall_df.head()"
   ]
  },
  {
   "cell_type": "markdown",
   "id": "8caf1598-326f-47aa-a22e-306b3b61697f",
   "metadata": {},
   "source": [
    "#### Which county was most against the recall?"
   ]
  },
  {
   "cell_type": "code",
   "execution_count": 16,
   "id": "62dbfe94-692f-42ee-813b-3ba708746f52",
   "metadata": {},
   "outputs": [
    {
     "data": {
      "text/html": [
       "<div>\n",
       "<style scoped>\n",
       "    .dataframe tbody tr th:only-of-type {\n",
       "        vertical-align: middle;\n",
       "    }\n",
       "\n",
       "    .dataframe tbody tr th {\n",
       "        vertical-align: top;\n",
       "    }\n",
       "\n",
       "    .dataframe thead th {\n",
       "        text-align: right;\n",
       "    }\n",
       "</style>\n",
       "<table border=\"1\" class=\"dataframe\">\n",
       "  <thead>\n",
       "    <tr style=\"text-align: right;\">\n",
       "      <th></th>\n",
       "      <th>county</th>\n",
       "      <th>fips</th>\n",
       "      <th>dem_2018</th>\n",
       "      <th>dem_2021</th>\n",
       "      <th>rep_2018</th>\n",
       "      <th>rep_2021</th>\n",
       "      <th>votes_2018</th>\n",
       "      <th>votes_2021</th>\n",
       "      <th>d_pct_18</th>\n",
       "      <th>no_percent</th>\n",
       "      <th>r_pct_18</th>\n",
       "      <th>yes_percent</th>\n",
       "      <th>d_change</th>\n",
       "      <th>r_change</th>\n",
       "      <th>winner_2021</th>\n",
       "      <th>leader_2018</th>\n",
       "    </tr>\n",
       "  </thead>\n",
       "  <tbody>\n",
       "    <tr>\n",
       "      <th>37</th>\n",
       "      <td>San Francisco</td>\n",
       "      <td>075</td>\n",
       "      <td>312181</td>\n",
       "      <td>231861</td>\n",
       "      <td>49181</td>\n",
       "      <td>35571</td>\n",
       "      <td>361362</td>\n",
       "      <td>267432</td>\n",
       "      <td>86.4</td>\n",
       "      <td>86.7</td>\n",
       "      <td>13.6</td>\n",
       "      <td>13.3</td>\n",
       "      <td>0.3</td>\n",
       "      <td>-0.3</td>\n",
       "      <td>D</td>\n",
       "      <td>D</td>\n",
       "    </tr>\n",
       "  </tbody>\n",
       "</table>\n",
       "</div>"
      ],
      "text/plain": [
       "           county fips  dem_2018  dem_2021  rep_2018  rep_2021  votes_2018  \\\n",
       "37  San Francisco  075    312181    231861     49181     35571      361362   \n",
       "\n",
       "    votes_2021  d_pct_18  no_percent  r_pct_18  yes_percent  d_change  \\\n",
       "37      267432      86.4        86.7      13.6         13.3       0.3   \n",
       "\n",
       "    r_change winner_2021 leader_2018  \n",
       "37      -0.3           D           D  "
      ]
     },
     "execution_count": 16,
     "metadata": {},
     "output_type": "execute_result"
    }
   ],
   "source": [
    "recall_df[recall_df[\"no_percent\"] == recall_df[\"no_percent\"].max()]"
   ]
  },
  {
   "cell_type": "markdown",
   "id": "645ab794-a785-41d9-9e4d-0993acfe1b08",
   "metadata": {},
   "source": [
    "#### For it? "
   ]
  },
  {
   "cell_type": "code",
   "execution_count": 17,
   "id": "81c33d65-4bf3-4755-b884-cbfe245374d4",
   "metadata": {},
   "outputs": [
    {
     "data": {
      "text/html": [
       "<div>\n",
       "<style scoped>\n",
       "    .dataframe tbody tr th:only-of-type {\n",
       "        vertical-align: middle;\n",
       "    }\n",
       "\n",
       "    .dataframe tbody tr th {\n",
       "        vertical-align: top;\n",
       "    }\n",
       "\n",
       "    .dataframe thead th {\n",
       "        text-align: right;\n",
       "    }\n",
       "</style>\n",
       "<table border=\"1\" class=\"dataframe\">\n",
       "  <thead>\n",
       "    <tr style=\"text-align: right;\">\n",
       "      <th></th>\n",
       "      <th>county</th>\n",
       "      <th>fips</th>\n",
       "      <th>dem_2018</th>\n",
       "      <th>dem_2021</th>\n",
       "      <th>rep_2018</th>\n",
       "      <th>rep_2021</th>\n",
       "      <th>votes_2018</th>\n",
       "      <th>votes_2021</th>\n",
       "      <th>d_pct_18</th>\n",
       "      <th>no_percent</th>\n",
       "      <th>r_pct_18</th>\n",
       "      <th>yes_percent</th>\n",
       "      <th>d_change</th>\n",
       "      <th>r_change</th>\n",
       "      <th>winner_2021</th>\n",
       "      <th>leader_2018</th>\n",
       "    </tr>\n",
       "  </thead>\n",
       "  <tbody>\n",
       "    <tr>\n",
       "      <th>17</th>\n",
       "      <td>Lassen</td>\n",
       "      <td>035</td>\n",
       "      <td>2043</td>\n",
       "      <td>1357</td>\n",
       "      <td>6973</td>\n",
       "      <td>6590</td>\n",
       "      <td>9016</td>\n",
       "      <td>7947</td>\n",
       "      <td>22.7</td>\n",
       "      <td>17.1</td>\n",
       "      <td>77.3</td>\n",
       "      <td>82.9</td>\n",
       "      <td>-5.6</td>\n",
       "      <td>5.6</td>\n",
       "      <td>R</td>\n",
       "      <td>R</td>\n",
       "    </tr>\n",
       "  </tbody>\n",
       "</table>\n",
       "</div>"
      ],
      "text/plain": [
       "    county fips  dem_2018  dem_2021  rep_2018  rep_2021  votes_2018  \\\n",
       "17  Lassen  035      2043      1357      6973      6590        9016   \n",
       "\n",
       "    votes_2021  d_pct_18  no_percent  r_pct_18  yes_percent  d_change  \\\n",
       "17        7947      22.7        17.1      77.3         82.9      -5.6   \n",
       "\n",
       "    r_change winner_2021 leader_2018  \n",
       "17       5.6           R           R  "
      ]
     },
     "execution_count": 17,
     "metadata": {},
     "output_type": "execute_result"
    }
   ],
   "source": [
    "recall_df[recall_df[\"yes_percent\"] == recall_df[\"yes_percent\"].max()]"
   ]
  },
  {
   "cell_type": "markdown",
   "id": "d7bbc77c-2e4c-40a3-ae54-ded3a79b8d20",
   "metadata": {},
   "source": [
    "#### Get only the columns we need"
   ]
  },
  {
   "cell_type": "code",
   "execution_count": 18,
   "id": "06f6cd7b-a715-4f8e-9b82-c7af03d05252",
   "metadata": {},
   "outputs": [],
   "source": [
    "recall_df_slim = recall_df[\n",
    "    [\"county\", \"fips\", \"no_percent\", \"yes_percent\", \"winner_2021\"]\n",
    "]"
   ]
  },
  {
   "cell_type": "code",
   "execution_count": 19,
   "id": "dcaec491-e497-4fc5-8d48-5f8a2d802b0a",
   "metadata": {},
   "outputs": [
    {
     "data": {
      "text/html": [
       "<div>\n",
       "<style scoped>\n",
       "    .dataframe tbody tr th:only-of-type {\n",
       "        vertical-align: middle;\n",
       "    }\n",
       "\n",
       "    .dataframe tbody tr th {\n",
       "        vertical-align: top;\n",
       "    }\n",
       "\n",
       "    .dataframe thead th {\n",
       "        text-align: right;\n",
       "    }\n",
       "</style>\n",
       "<table border=\"1\" class=\"dataframe\">\n",
       "  <thead>\n",
       "    <tr style=\"text-align: right;\">\n",
       "      <th></th>\n",
       "      <th>county</th>\n",
       "      <th>fips</th>\n",
       "      <th>no_percent</th>\n",
       "      <th>yes_percent</th>\n",
       "      <th>winner_2021</th>\n",
       "    </tr>\n",
       "  </thead>\n",
       "  <tbody>\n",
       "    <tr>\n",
       "      <th>0</th>\n",
       "      <td>Alameda</td>\n",
       "      <td>001</td>\n",
       "      <td>82.5</td>\n",
       "      <td>17.5</td>\n",
       "      <td>D</td>\n",
       "    </tr>\n",
       "    <tr>\n",
       "      <th>1</th>\n",
       "      <td>Alpine</td>\n",
       "      <td>003</td>\n",
       "      <td>60.9</td>\n",
       "      <td>39.1</td>\n",
       "      <td>D</td>\n",
       "    </tr>\n",
       "    <tr>\n",
       "      <th>2</th>\n",
       "      <td>Amador</td>\n",
       "      <td>005</td>\n",
       "      <td>36.9</td>\n",
       "      <td>63.1</td>\n",
       "      <td>R</td>\n",
       "    </tr>\n",
       "    <tr>\n",
       "      <th>3</th>\n",
       "      <td>Butte</td>\n",
       "      <td>007</td>\n",
       "      <td>47.5</td>\n",
       "      <td>52.5</td>\n",
       "      <td>R</td>\n",
       "    </tr>\n",
       "    <tr>\n",
       "      <th>4</th>\n",
       "      <td>Calaveras</td>\n",
       "      <td>009</td>\n",
       "      <td>38.3</td>\n",
       "      <td>61.7</td>\n",
       "      <td>R</td>\n",
       "    </tr>\n",
       "  </tbody>\n",
       "</table>\n",
       "</div>"
      ],
      "text/plain": [
       "      county fips  no_percent  yes_percent winner_2021\n",
       "0    Alameda  001        82.5         17.5           D\n",
       "1     Alpine  003        60.9         39.1           D\n",
       "2     Amador  005        36.9         63.1           R\n",
       "3      Butte  007        47.5         52.5           R\n",
       "4  Calaveras  009        38.3         61.7           R"
      ]
     },
     "execution_count": 19,
     "metadata": {},
     "output_type": "execute_result"
    }
   ],
   "source": [
    "recall_df_slim.head()"
   ]
  },
  {
   "cell_type": "markdown",
   "id": "73e767c0-269c-4042-af6a-89337a5f2d1e",
   "metadata": {},
   "source": [
    "---"
   ]
  },
  {
   "cell_type": "markdown",
   "id": "247bc04e-84c4-4fd4-9d56-e53159335e38",
   "metadata": {},
   "source": [
    "## Merge the vax data with the election results"
   ]
  },
  {
   "cell_type": "markdown",
   "id": "8b70b629-aefc-4324-a2da-40a6bdf2469a",
   "metadata": {},
   "source": [
    "#### Use the `merge()` method"
   ]
  },
  {
   "cell_type": "code",
   "execution_count": 20,
   "id": "44d209ab-97c6-4c98-84ad-7a6f08b927e5",
   "metadata": {},
   "outputs": [],
   "source": [
    "merged = pd.merge(recall_df_slim, vax_slim, on=[\"fips\", \"county\"])"
   ]
  },
  {
   "cell_type": "code",
   "execution_count": 21,
   "id": "965f68d5-aa24-4c0c-8900-ab31323b24a8",
   "metadata": {},
   "outputs": [
    {
     "data": {
      "text/html": [
       "<div>\n",
       "<style scoped>\n",
       "    .dataframe tbody tr th:only-of-type {\n",
       "        vertical-align: middle;\n",
       "    }\n",
       "\n",
       "    .dataframe tbody tr th {\n",
       "        vertical-align: top;\n",
       "    }\n",
       "\n",
       "    .dataframe thead th {\n",
       "        text-align: right;\n",
       "    }\n",
       "</style>\n",
       "<table border=\"1\" class=\"dataframe\">\n",
       "  <thead>\n",
       "    <tr style=\"text-align: right;\">\n",
       "      <th></th>\n",
       "      <th>no_percent</th>\n",
       "      <th>yes_percent</th>\n",
       "      <th>fully_vaccinated_percent</th>\n",
       "      <th>population</th>\n",
       "    </tr>\n",
       "  </thead>\n",
       "  <tbody>\n",
       "    <tr>\n",
       "      <th>no_percent</th>\n",
       "      <td>1.000000</td>\n",
       "      <td>-1.000000</td>\n",
       "      <td>0.877600</td>\n",
       "      <td>0.275861</td>\n",
       "    </tr>\n",
       "    <tr>\n",
       "      <th>yes_percent</th>\n",
       "      <td>-1.000000</td>\n",
       "      <td>1.000000</td>\n",
       "      <td>-0.877600</td>\n",
       "      <td>-0.275861</td>\n",
       "    </tr>\n",
       "    <tr>\n",
       "      <th>fully_vaccinated_percent</th>\n",
       "      <td>0.877600</td>\n",
       "      <td>-0.877600</td>\n",
       "      <td>1.000000</td>\n",
       "      <td>0.295092</td>\n",
       "    </tr>\n",
       "    <tr>\n",
       "      <th>population</th>\n",
       "      <td>0.275861</td>\n",
       "      <td>-0.275861</td>\n",
       "      <td>0.295092</td>\n",
       "      <td>1.000000</td>\n",
       "    </tr>\n",
       "  </tbody>\n",
       "</table>\n",
       "</div>"
      ],
      "text/plain": [
       "                          no_percent  yes_percent  fully_vaccinated_percent  \\\n",
       "no_percent                  1.000000    -1.000000                  0.877600   \n",
       "yes_percent                -1.000000     1.000000                 -0.877600   \n",
       "fully_vaccinated_percent    0.877600    -0.877600                  1.000000   \n",
       "population                  0.275861    -0.275861                  0.295092   \n",
       "\n",
       "                          population  \n",
       "no_percent                  0.275861  \n",
       "yes_percent                -0.275861  \n",
       "fully_vaccinated_percent    0.295092  \n",
       "population                  1.000000  "
      ]
     },
     "execution_count": 21,
     "metadata": {},
     "output_type": "execute_result"
    }
   ],
   "source": [
    "merged.corr(method=\"pearson\")"
   ]
  },
  {
   "cell_type": "markdown",
   "id": "bc8e320b-2d6a-4d3d-acf8-75898081bd1e",
   "metadata": {},
   "source": [
    "---"
   ]
  },
  {
   "cell_type": "code",
   "execution_count": 22,
   "id": "8806f5b2-d8ff-400c-a5b2-ba40c3478c7f",
   "metadata": {},
   "outputs": [
    {
     "data": {
      "text/html": [
       "\n",
       "<div id=\"altair-viz-37aebc202fca4efe8f3b984e2bb33831\"></div>\n",
       "<script type=\"text/javascript\">\n",
       "  (function(spec, embedOpt){\n",
       "    let outputDiv = document.currentScript.previousElementSibling;\n",
       "    if (outputDiv.id !== \"altair-viz-37aebc202fca4efe8f3b984e2bb33831\") {\n",
       "      outputDiv = document.getElementById(\"altair-viz-37aebc202fca4efe8f3b984e2bb33831\");\n",
       "    }\n",
       "    const paths = {\n",
       "      \"vega\": \"https://cdn.jsdelivr.net/npm//vega@5?noext\",\n",
       "      \"vega-lib\": \"https://cdn.jsdelivr.net/npm//vega-lib?noext\",\n",
       "      \"vega-lite\": \"https://cdn.jsdelivr.net/npm//vega-lite@4.8.1?noext\",\n",
       "      \"vega-embed\": \"https://cdn.jsdelivr.net/npm//vega-embed@6?noext\",\n",
       "    };\n",
       "\n",
       "    function loadScript(lib) {\n",
       "      return new Promise(function(resolve, reject) {\n",
       "        var s = document.createElement('script');\n",
       "        s.src = paths[lib];\n",
       "        s.async = true;\n",
       "        s.onload = () => resolve(paths[lib]);\n",
       "        s.onerror = () => reject(`Error loading script: ${paths[lib]}`);\n",
       "        document.getElementsByTagName(\"head\")[0].appendChild(s);\n",
       "      });\n",
       "    }\n",
       "\n",
       "    function showError(err) {\n",
       "      outputDiv.innerHTML = `<div class=\"error\" style=\"color:red;\">${err}</div>`;\n",
       "      throw err;\n",
       "    }\n",
       "\n",
       "    function displayChart(vegaEmbed) {\n",
       "      vegaEmbed(outputDiv, spec, embedOpt)\n",
       "        .catch(err => showError(`Javascript Error: ${err.message}<br>This usually means there's a typo in your chart specification. See the javascript console for the full traceback.`));\n",
       "    }\n",
       "\n",
       "    if(typeof define === \"function\" && define.amd) {\n",
       "      requirejs.config({paths});\n",
       "      require([\"vega-embed\"], displayChart, err => showError(`Error loading script: ${err.message}`));\n",
       "    } else if (typeof vegaEmbed === \"function\") {\n",
       "      displayChart(vegaEmbed);\n",
       "    } else {\n",
       "      loadScript(\"vega\")\n",
       "        .then(() => loadScript(\"vega-lite\"))\n",
       "        .then(() => loadScript(\"vega-embed\"))\n",
       "        .catch(showError)\n",
       "        .then(() => displayChart(vegaEmbed));\n",
       "    }\n",
       "  })({\"config\": {\"view\": {\"continuousWidth\": 400, \"continuousHeight\": 300}}, \"data\": {\"name\": \"data-8a902afa9688fb7d7c3ad0065037ec32\"}, \"mark\": {\"type\": \"circle\", \"size\": 100}, \"encoding\": {\"color\": {\"type\": \"nominal\", \"field\": \"winner_2021\", \"scale\": {\"domain\": [\"R\", \"D\"], \"range\": [\"#d94f54\", \"#5789b8\"]}}, \"x\": {\"type\": \"quantitative\", \"axis\": {\"tickCount\": 6, \"title\": \"No percentage\"}, \"field\": \"no_percent\", \"scale\": {\"domain\": [10, 100]}}, \"y\": {\"type\": \"quantitative\", \"axis\": {\"format\": \"%\", \"tickCount\": 6, \"title\": \"One dose percentage\"}, \"field\": \"fully_vaccinated_percent\", \"scale\": {\"domain\": [0.2, 1]}}}, \"height\": 500, \"width\": 500, \"$schema\": \"https://vega.github.io/schema/vega-lite/v4.8.1.json\", \"datasets\": {\"data-8a902afa9688fb7d7c3ad0065037ec32\": [{\"county\": \"Alameda\", \"fips\": \"001\", \"no_percent\": 82.5, \"yes_percent\": 17.5, \"winner_2021\": \"D\", \"fully_vaccinated_percent\": 0.8146456165967025, \"population\": 1643700.0}, {\"county\": \"Alpine\", \"fips\": \"003\", \"no_percent\": 60.9, \"yes_percent\": 39.1, \"winner_2021\": \"D\", \"fully_vaccinated_percent\": 0.6254355400696864, \"population\": 1148.0}, {\"county\": \"Amador\", \"fips\": \"005\", \"no_percent\": 36.9, \"yes_percent\": 63.1, \"winner_2021\": \"R\", \"fully_vaccinated_percent\": 0.542652462396574, \"population\": 37829.0}, {\"county\": \"Butte\", \"fips\": \"007\", \"no_percent\": 47.5, \"yes_percent\": 52.5, \"winner_2021\": \"R\", \"fully_vaccinated_percent\": 0.50260046240229, \"population\": 227075.0}, {\"county\": \"Calaveras\", \"fips\": \"009\", \"no_percent\": 38.3, \"yes_percent\": 61.7, \"winner_2021\": \"R\", \"fully_vaccinated_percent\": 0.5322869459489333, \"population\": 45235.0}, {\"county\": \"Colusa\", \"fips\": \"011\", \"no_percent\": 37.1, \"yes_percent\": 62.9, \"winner_2021\": \"R\", \"fully_vaccinated_percent\": 0.5900577711516959, \"population\": 21464.0}, {\"county\": \"Contra Costa\", \"fips\": \"013\", \"no_percent\": 73.1, \"yes_percent\": 26.9, \"winner_2021\": \"D\", \"fully_vaccinated_percent\": 0.823745397075836, \"population\": 1133247.0}, {\"county\": \"Del Norte\", \"fips\": \"015\", \"no_percent\": 42.0, \"yes_percent\": 58.0, \"winner_2021\": \"R\", \"fully_vaccinated_percent\": 0.4711931155192532, \"population\": 27424.0}, {\"county\": \"El Dorado\", \"fips\": \"017\", \"no_percent\": 44.9, \"yes_percent\": 55.1, \"winner_2021\": \"R\", \"fully_vaccinated_percent\": 0.6200652519808637, \"population\": 186661.0}, {\"county\": \"Fresno\", \"fips\": \"019\", \"no_percent\": 49.8, \"yes_percent\": 50.2, \"winner_2021\": \"R\", \"fully_vaccinated_percent\": 0.6073119115046057, \"population\": 978130.0}, {\"county\": \"Glenn\", \"fips\": \"021\", \"no_percent\": 30.6, \"yes_percent\": 69.4, \"winner_2021\": \"R\", \"fully_vaccinated_percent\": 0.5475499157615514, \"population\": 27897.0}, {\"county\": \"Humboldt\", \"fips\": \"023\", \"no_percent\": 65.9, \"yes_percent\": 34.1, \"winner_2021\": \"D\", \"fully_vaccinated_percent\": 0.6492177832773555, \"population\": 135768.0}, {\"county\": \"Imperial\", \"fips\": \"025\", \"no_percent\": 61.3, \"yes_percent\": 38.7, \"winner_2021\": \"D\", \"fully_vaccinated_percent\": 0.8809151240733342, \"population\": 180216.0}, {\"county\": \"Inyo\", \"fips\": \"027\", \"no_percent\": 49.2, \"yes_percent\": 50.8, \"winner_2021\": \"R\", \"fully_vaccinated_percent\": 0.6075200442355543, \"population\": 18085.0}, {\"county\": \"Kern\", \"fips\": \"029\", \"no_percent\": 41.9, \"yes_percent\": 58.1, \"winner_2021\": \"R\", \"fully_vaccinated_percent\": 0.5306057507307036, \"population\": 883053.0}, {\"county\": \"Kings\", \"fips\": \"031\", \"no_percent\": 37.2, \"yes_percent\": 62.8, \"winner_2021\": \"R\", \"fully_vaccinated_percent\": 0.4461769115442279, \"population\": 150075.0}, {\"county\": \"Lake\", \"fips\": \"033\", \"no_percent\": 60.1, \"yes_percent\": 39.9, \"winner_2021\": \"D\", \"fully_vaccinated_percent\": 0.5388164868741037, \"population\": 64148.0}, {\"county\": \"Lassen\", \"fips\": \"035\", \"no_percent\": 17.1, \"yes_percent\": 82.9, \"winner_2021\": \"R\", \"fully_vaccinated_percent\": 0.2781144781144781, \"population\": 31185.0}, {\"county\": \"Los Angeles\", \"fips\": \"037\", \"no_percent\": 70.8, \"yes_percent\": 29.2, \"winner_2021\": \"D\", \"fully_vaccinated_percent\": 0.7132006252294997, \"population\": 10098052.0}, {\"county\": \"Madera\", \"fips\": \"039\", \"no_percent\": 41.1, \"yes_percent\": 58.9, \"winner_2021\": \"R\", \"fully_vaccinated_percent\": 0.5357937721352403, \"population\": 155013.0}, {\"county\": \"Marin\", \"fips\": \"041\", \"no_percent\": 84.3, \"yes_percent\": 15.7, \"winner_2021\": \"D\", \"fully_vaccinated_percent\": 0.8580572043258611, \"population\": 260295.0}, {\"county\": \"Mariposa\", \"fips\": \"043\", \"no_percent\": 40.3, \"yes_percent\": 59.7, \"winner_2021\": \"R\", \"fully_vaccinated_percent\": 0.4295895096921323, \"population\": 17540.0}, {\"county\": \"Mendocino\", \"fips\": \"045\", \"no_percent\": 69.6, \"yes_percent\": 30.4, \"winner_2021\": \"D\", \"fully_vaccinated_percent\": 0.6691565052275171, \"population\": 87422.0}, {\"county\": \"Merced\", \"fips\": \"047\", \"no_percent\": 50.1, \"yes_percent\": 49.9, \"winner_2021\": \"D\", \"fully_vaccinated_percent\": 0.5151240360494286, \"population\": 269075.0}, {\"county\": \"Modoc\", \"fips\": \"049\", \"no_percent\": 22.0, \"yes_percent\": 78.0, \"winner_2021\": \"R\", \"fully_vaccinated_percent\": 0.4085925262922354, \"population\": 8938.0}, {\"county\": \"Mono\", \"fips\": \"051\", \"no_percent\": 57.4, \"yes_percent\": 42.6, \"winner_2021\": \"D\", \"fully_vaccinated_percent\": 0.6348948779455341, \"population\": 14174.0}, {\"county\": \"Monterey\", \"fips\": \"053\", \"no_percent\": 70.9, \"yes_percent\": 29.1, \"winner_2021\": \"D\", \"fully_vaccinated_percent\": 0.7070210428150652, \"population\": 433212.0}, {\"county\": \"Napa\", \"fips\": \"055\", \"no_percent\": 70.5, \"yes_percent\": 29.5, \"winner_2021\": \"D\", \"fully_vaccinated_percent\": 0.7605066533836191, \"population\": 140530.0}, {\"county\": \"Nevada\", \"fips\": \"057\", \"no_percent\": 57.7, \"yes_percent\": 42.3, \"winner_2021\": \"D\", \"fully_vaccinated_percent\": 0.6251059621361966, \"population\": 99092.0}, {\"county\": \"Orange\", \"fips\": \"059\", \"no_percent\": 52.6, \"yes_percent\": 47.4, \"winner_2021\": \"D\", \"fully_vaccinated_percent\": 0.7167880987882492, \"population\": 3164182.0}, {\"county\": \"Placer\", \"fips\": \"061\", \"no_percent\": 48.9, \"yes_percent\": 51.1, \"winner_2021\": \"R\", \"fully_vaccinated_percent\": 0.6858057709358893, \"population\": 380077.0}, {\"county\": \"Plumas\", \"fips\": \"063\", \"no_percent\": 37.1, \"yes_percent\": 62.9, \"winner_2021\": \"R\", \"fully_vaccinated_percent\": 0.5456441520936949, \"population\": 18699.0}, {\"county\": \"Riverside\", \"fips\": \"065\", \"no_percent\": 52.4, \"yes_percent\": 47.6, \"winner_2021\": \"D\", \"fully_vaccinated_percent\": 0.5951455259670891, \"population\": 2383286.0}, {\"county\": \"Sacramento\", \"fips\": \"067\", \"no_percent\": 64.0, \"yes_percent\": 36.0, \"winner_2021\": \"D\", \"fully_vaccinated_percent\": 0.6757943422053836, \"population\": 1510023.0}, {\"county\": \"San Benito\", \"fips\": \"069\", \"no_percent\": 59.2, \"yes_percent\": 40.8, \"winner_2021\": \"D\", \"fully_vaccinated_percent\": 0.7425609263498048, \"population\": 59416.0}, {\"county\": \"San Bernardino\", \"fips\": \"071\", \"no_percent\": 52.0, \"yes_percent\": 48.0, \"winner_2021\": \"D\", \"fully_vaccinated_percent\": 0.5658867863031648, \"population\": 2135413.0}, {\"county\": \"San Diego\", \"fips\": \"073\", \"no_percent\": 58.6, \"yes_percent\": 41.4, \"winner_2021\": \"D\", \"fully_vaccinated_percent\": 0.8081970841395856, \"population\": 3302833.0}, {\"county\": \"San Francisco\", \"fips\": \"075\", \"no_percent\": 86.7, \"yes_percent\": 13.3, \"winner_2021\": \"D\", \"fully_vaccinated_percent\": 0.837755331914248, \"population\": 870044.0}, {\"county\": \"San Joaquin\", \"fips\": \"077\", \"no_percent\": 56.0, \"yes_percent\": 44.0, \"winner_2021\": \"D\", \"fully_vaccinated_percent\": 0.6185899712105237, \"population\": 732212.0}, {\"county\": \"San Luis Obispo\", \"fips\": \"079\", \"no_percent\": 58.5, \"yes_percent\": 41.5, \"winner_2021\": \"D\", \"fully_vaccinated_percent\": 0.6354479401680553, \"population\": 281455.0}, {\"county\": \"San Mateo\", \"fips\": \"081\", \"no_percent\": 79.1, \"yes_percent\": 20.9, \"winner_2021\": \"D\", \"fully_vaccinated_percent\": 0.831903490505069, \"population\": 765935.0}, {\"county\": \"Santa Barbara\", \"fips\": \"083\", \"no_percent\": 65.0, \"yes_percent\": 35.0, \"winner_2021\": \"D\", \"fully_vaccinated_percent\": 0.6821209812997759, \"population\": 443738.0}, {\"county\": \"Santa Clara\", \"fips\": \"085\", \"no_percent\": 75.9, \"yes_percent\": 24.1, \"winner_2021\": \"D\", \"fully_vaccinated_percent\": 0.8456882738528769, \"population\": 1922200.0}, {\"county\": \"Santa Cruz\", \"fips\": \"087\", \"no_percent\": 80.2, \"yes_percent\": 19.8, \"winner_2021\": \"D\", \"fully_vaccinated_percent\": 0.737720307563056, \"population\": 273765.0}, {\"county\": \"Shasta\", \"fips\": \"089\", \"no_percent\": 33.7, \"yes_percent\": 66.3, \"winner_2021\": \"R\", \"fully_vaccinated_percent\": 0.4594131278443197, \"population\": 179085.0}, {\"county\": \"Sierra\", \"fips\": \"091\", \"no_percent\": 38.1, \"yes_percent\": 61.9, \"winner_2021\": \"R\", \"fully_vaccinated_percent\": 0.5320819112627987, \"population\": 2930.0}, {\"county\": \"Siskiyou\", \"fips\": \"093\", \"no_percent\": 41.3, \"yes_percent\": 58.7, \"winner_2021\": \"R\", \"fully_vaccinated_percent\": 0.4761598530087276, \"population\": 43540.0}, {\"county\": \"Solano\", \"fips\": \"095\", \"no_percent\": 64.3, \"yes_percent\": 35.7, \"winner_2021\": \"D\", \"fully_vaccinated_percent\": 0.6654117164162087, \"population\": 438530.0}, {\"county\": \"Sonoma\", \"fips\": \"097\", \"no_percent\": 77.9, \"yes_percent\": 22.1, \"winner_2021\": \"D\", \"fully_vaccinated_percent\": 0.7590626290351215, \"population\": 501317.0}, {\"county\": \"Stanislaus\", \"fips\": \"099\", \"no_percent\": 48.3, \"yes_percent\": 51.7, \"winner_2021\": \"R\", \"fully_vaccinated_percent\": 0.5666204957899207, \"population\": 539301.0}, {\"county\": \"Sutter\", \"fips\": \"101\", \"no_percent\": 40.8, \"yes_percent\": 59.2, \"winner_2021\": \"R\", \"fully_vaccinated_percent\": 0.5943132510013351, \"population\": 95872.0}, {\"county\": \"Tehama\", \"fips\": \"103\", \"no_percent\": 26.2, \"yes_percent\": 73.8, \"winner_2021\": \"R\", \"fully_vaccinated_percent\": 0.4302147602291196, \"population\": 63373.0}, {\"county\": \"Trinity\", \"fips\": \"105\", \"no_percent\": 45.7, \"yes_percent\": 54.3, \"winner_2021\": \"R\", \"fully_vaccinated_percent\": 0.4598818224226403, \"population\": 12862.0}, {\"county\": \"Tulare\", \"fips\": \"107\", \"no_percent\": 41.4, \"yes_percent\": 58.6, \"winner_2021\": \"R\", \"fully_vaccinated_percent\": 0.5328995802179045, \"population\": 460477.0}, {\"county\": \"Tuolumne\", \"fips\": \"109\", \"no_percent\": 39.6, \"yes_percent\": 60.4, \"winner_2021\": \"R\", \"fully_vaccinated_percent\": 0.5188941630200994, \"population\": 53932.0}, {\"county\": \"Ventura\", \"fips\": \"111\", \"no_percent\": 59.5, \"yes_percent\": 40.5, \"winner_2021\": \"D\", \"fully_vaccinated_percent\": 0.7043751296998509, \"population\": 848112.0}, {\"county\": \"Yolo\", \"fips\": \"113\", \"no_percent\": 71.4, \"yes_percent\": 28.6, \"winner_2021\": \"D\", \"fully_vaccinated_percent\": 0.7086199919061109, \"population\": 214977.0}, {\"county\": \"Yuba\", \"fips\": \"115\", \"no_percent\": 39.2, \"yes_percent\": 60.8, \"winner_2021\": \"R\", \"fully_vaccinated_percent\": 0.4955558793530526, \"population\": 75493.0}]}}, {\"mode\": \"vega-lite\"});\n",
       "</script>"
      ],
      "text/plain": [
       "alt.Chart(...)"
      ]
     },
     "execution_count": 22,
     "metadata": {},
     "output_type": "execute_result"
    }
   ],
   "source": [
    "domain = [\"R\", \"D\"]\n",
    "range_ = [\"#d94f54\", \"#5789b8\"]\n",
    "\n",
    "alt.Chart(merged).mark_circle(size=100).encode(\n",
    "    x=alt.X(\n",
    "        \"no_percent\",\n",
    "        scale=alt.Scale(domain=[10, 100]),\n",
    "        axis=alt.Axis(tickCount=6, title=\"No percentage\"),\n",
    "    ),\n",
    "    y=alt.Y(\n",
    "        \"fully_vaccinated_percent\",\n",
    "        scale=alt.Scale(domain=[0.2, 1]),\n",
    "        axis=alt.Axis(tickCount=6, title=\"One dose percentage\", format=\"%\"),\n",
    "    ),\n",
    "    #     size=\"population\",\n",
    "    color=alt.Color(\"winner_2021\", scale=alt.Scale(domain=domain, range=range_)),\n",
    "    #     tooltip=[\"county\", \"population\"],\n",
    ").properties(width=500, height=500)"
   ]
  },
  {
   "cell_type": "code",
   "execution_count": 23,
   "id": "a157cd95-def1-4f32-b581-4f4667b0c35d",
   "metadata": {},
   "outputs": [],
   "source": [
    "merged[\"fully_vaccinated_percent\"] = round(merged[\"fully_vaccinated_percent\"] * 100, 2)"
   ]
  },
  {
   "cell_type": "code",
   "execution_count": 24,
   "id": "4ac6d1da-ef58-42f9-8484-cda13b258b19",
   "metadata": {},
   "outputs": [],
   "source": [
    "merged.to_csv(\"../../data/processed/no_vax_corr.csv\", index=False)"
   ]
  },
  {
   "cell_type": "markdown",
   "id": "e1d1542a-df3b-4e3f-bd6c-10e1a250d728",
   "metadata": {},
   "source": [
    "---"
   ]
  }
 ],
 "metadata": {
  "kernelspec": {
   "display_name": "Python 3",
   "language": "python",
   "name": "python3"
  },
  "language_info": {
   "codemirror_mode": {
    "name": "ipython",
    "version": 3
   },
   "file_extension": ".py",
   "mimetype": "text/x-python",
   "name": "python",
   "nbconvert_exporter": "python",
   "pygments_lexer": "ipython3",
   "version": "3.8.8"
  }
 },
 "nbformat": 4,
 "nbformat_minor": 5
}
