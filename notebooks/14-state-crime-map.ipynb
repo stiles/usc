{
 "cells": [
  {
   "cell_type": "markdown",
   "id": "cf543214-f1e4-46f5-a4ca-0641e43e455f",
   "metadata": {},
   "source": [
    "# Mapping homicides, by state"
   ]
  },
  {
   "cell_type": "markdown",
   "id": "ece5a4d3-be58-4d94-9736-5e9d10a41ba9",
   "metadata": {},
   "source": [
    "#### Load python tools"
   ]
  },
  {
   "cell_type": "code",
   "execution_count": 1,
   "id": "2594907b-7dfe-4e1f-9406-771e53069144",
   "metadata": {},
   "outputs": [],
   "source": [
    "%load_ext lab_black"
   ]
  },
  {
   "cell_type": "code",
   "execution_count": 2,
   "id": "5d82586b-0073-434d-bcee-46e1013d7fc5",
   "metadata": {},
   "outputs": [],
   "source": [
    "import pandas as pd\n",
    "import geopandas as gpd\n",
    "import numpy as np"
   ]
  },
  {
   "cell_type": "code",
   "execution_count": 3,
   "id": "558e402e-5ce6-4bae-bf4f-0157e6bc405d",
   "metadata": {},
   "outputs": [],
   "source": [
    "pd.options.display.max_columns = 1000\n",
    "pd.options.display.max_rows = 1000"
   ]
  },
  {
   "cell_type": "markdown",
   "id": "0d5e4ae4-2af2-49aa-8233-17cbcee0d1d2",
   "metadata": {},
   "source": [
    "### Crime map\n",
    "##### What's the murder rate by state?"
   ]
  },
  {
   "cell_type": "code",
   "execution_count": 25,
   "id": "9a7ca8ec-284e-4d74-93f1-bc85abe1ca22",
   "metadata": {},
   "outputs": [],
   "source": [
    "# Values: https://raw.githubusercontent.com/stiles/usc/main/data/processed/homicide-rates-states.csv\n",
    "# Geo: https://raw.githubusercontent.com/stiles/usc/main/data/geo/states.geojson"
   ]
  },
  {
   "cell_type": "markdown",
   "id": "8c604e79-f6e6-4d25-af38-8367a06e25bd",
   "metadata": {},
   "source": [
    "#### Read state-level homicide data"
   ]
  },
  {
   "cell_type": "code",
   "execution_count": 26,
   "id": "597071f2-826e-443e-8172-14b75f8e60b7",
   "metadata": {},
   "outputs": [],
   "source": [
    "homicide_df = pd.read_csv(\n",
    "    \"https://raw.githubusercontent.com/stiles/usc/main/data/processed/homicide-rates-states.csv\"\n",
    ")"
   ]
  },
  {
   "cell_type": "code",
   "execution_count": 27,
   "id": "f695a4d8-4df8-41cd-baff-7a653c56d9b1",
   "metadata": {},
   "outputs": [
    {
     "data": {
      "text/html": [
       "<div>\n",
       "<style scoped>\n",
       "    .dataframe tbody tr th:only-of-type {\n",
       "        vertical-align: middle;\n",
       "    }\n",
       "\n",
       "    .dataframe tbody tr th {\n",
       "        vertical-align: top;\n",
       "    }\n",
       "\n",
       "    .dataframe thead th {\n",
       "        text-align: right;\n",
       "    }\n",
       "</style>\n",
       "<table border=\"1\" class=\"dataframe\">\n",
       "  <thead>\n",
       "    <tr style=\"text-align: right;\">\n",
       "      <th></th>\n",
       "      <th>year</th>\n",
       "      <th>state</th>\n",
       "      <th>rate</th>\n",
       "      <th>deaths</th>\n",
       "      <th>url</th>\n",
       "      <th>name</th>\n",
       "      <th>usps</th>\n",
       "      <th>ap</th>\n",
       "    </tr>\n",
       "  </thead>\n",
       "  <tbody>\n",
       "    <tr>\n",
       "      <th>0</th>\n",
       "      <td>2020</td>\n",
       "      <td>AL</td>\n",
       "      <td>14.2</td>\n",
       "      <td>654</td>\n",
       "      <td>/nchs/pressroom/states/alabama/al.htm</td>\n",
       "      <td>Alabama</td>\n",
       "      <td>AL</td>\n",
       "      <td>Ala.</td>\n",
       "    </tr>\n",
       "    <tr>\n",
       "      <th>1</th>\n",
       "      <td>2020</td>\n",
       "      <td>AK</td>\n",
       "      <td>7.3</td>\n",
       "      <td>55</td>\n",
       "      <td>/nchs/pressroom/states/alaska/ak.htm</td>\n",
       "      <td>Alaska</td>\n",
       "      <td>AK</td>\n",
       "      <td>Alaska</td>\n",
       "    </tr>\n",
       "    <tr>\n",
       "      <th>2</th>\n",
       "      <td>2020</td>\n",
       "      <td>AZ</td>\n",
       "      <td>7.5</td>\n",
       "      <td>525</td>\n",
       "      <td>/nchs/pressroom/states/arizona/az.htm</td>\n",
       "      <td>Arizona</td>\n",
       "      <td>AZ</td>\n",
       "      <td>Ariz.</td>\n",
       "    </tr>\n",
       "    <tr>\n",
       "      <th>3</th>\n",
       "      <td>2020</td>\n",
       "      <td>AR</td>\n",
       "      <td>13.0</td>\n",
       "      <td>371</td>\n",
       "      <td>/nchs/pressroom/states/arkansas/ar.htm</td>\n",
       "      <td>Arkansas</td>\n",
       "      <td>AR</td>\n",
       "      <td>Ark.</td>\n",
       "    </tr>\n",
       "    <tr>\n",
       "      <th>4</th>\n",
       "      <td>2020</td>\n",
       "      <td>CA</td>\n",
       "      <td>6.1</td>\n",
       "      <td>2368</td>\n",
       "      <td>/nchs/pressroom/states/california/ca.htm</td>\n",
       "      <td>California</td>\n",
       "      <td>CA</td>\n",
       "      <td>Calif.</td>\n",
       "    </tr>\n",
       "  </tbody>\n",
       "</table>\n",
       "</div>"
      ],
      "text/plain": [
       "   year state  rate  deaths                                       url  \\\n",
       "0  2020    AL  14.2     654     /nchs/pressroom/states/alabama/al.htm   \n",
       "1  2020    AK   7.3      55      /nchs/pressroom/states/alaska/ak.htm   \n",
       "2  2020    AZ   7.5     525     /nchs/pressroom/states/arizona/az.htm   \n",
       "3  2020    AR  13.0     371    /nchs/pressroom/states/arkansas/ar.htm   \n",
       "4  2020    CA   6.1    2368  /nchs/pressroom/states/california/ca.htm   \n",
       "\n",
       "         name usps      ap  \n",
       "0     Alabama   AL    Ala.  \n",
       "1      Alaska   AK  Alaska  \n",
       "2     Arizona   AZ   Ariz.  \n",
       "3    Arkansas   AR    Ark.  \n",
       "4  California   CA  Calif.  "
      ]
     },
     "execution_count": 27,
     "metadata": {},
     "output_type": "execute_result"
    }
   ],
   "source": [
    "homicide_df.head()"
   ]
  },
  {
   "cell_type": "markdown",
   "id": "447944f8-7cbe-4666-9c4a-d9ce0b7aef53",
   "metadata": {},
   "source": [
    "#### Read state-level geo file"
   ]
  },
  {
   "cell_type": "code",
   "execution_count": 28,
   "id": "7156afab-ffa5-4bb5-a12e-784e8d62aec1",
   "metadata": {},
   "outputs": [],
   "source": [
    "states_gdf = gpd.read_file(\n",
    "    \"https://raw.githubusercontent.com/stiles/usc/main/data/geo/states.geojson\"\n",
    ")"
   ]
  },
  {
   "cell_type": "markdown",
   "id": "91882f35-cdae-4534-a7fd-ffa305976a4c",
   "metadata": {},
   "source": [
    "#### Filter: Just map the mainland"
   ]
  },
  {
   "cell_type": "code",
   "execution_count": 29,
   "id": "807d6bcd-01fd-4edb-8528-a4d658801c49",
   "metadata": {},
   "outputs": [],
   "source": [
    "exclude = [\"Hawaii\", \"Alaska\"]"
   ]
  },
  {
   "cell_type": "code",
   "execution_count": 30,
   "id": "1671caf1-0419-43d4-8119-a4aeb7d3cbb6",
   "metadata": {},
   "outputs": [],
   "source": [
    "states_gdf_mainland = states_gdf[~states_gdf[\"state_name\"].isin(exclude)]"
   ]
  },
  {
   "cell_type": "markdown",
   "id": "4ff62e7a-a550-41c4-8770-836f8af108ef",
   "metadata": {},
   "source": [
    "#### Merge the two"
   ]
  },
  {
   "cell_type": "code",
   "execution_count": 31,
   "id": "f6f0626a-f510-46ce-a9eb-bd49f95e8369",
   "metadata": {},
   "outputs": [],
   "source": [
    "states_homicide_gdf = pd.merge(\n",
    "    states_gdf_mainland, homicide_df, left_on=\"state_name\", right_on=\"name\"\n",
    ")"
   ]
  },
  {
   "cell_type": "code",
   "execution_count": 32,
   "id": "49eabfba-467f-4c1f-a4a9-36260fef2333",
   "metadata": {},
   "outputs": [
    {
     "data": {
      "text/plain": [
       "<AxesSubplot:>"
      ]
     },
     "execution_count": 32,
     "metadata": {},
     "output_type": "execute_result"
    },
    {
     "data": {
      "image/png": "[encoded data removed]",
      "text/plain": [
       "<Figure size 432x288 with 1 Axes>"
      ]
     },
     "metadata": {
      "needs_background": "light"
     },
     "output_type": "display_data"
    }
   ],
   "source": [
    "states_homicide_gdf.plot()"
   ]
  },
  {
   "cell_type": "markdown",
   "id": "f1f11a8e-66a6-4815-9e4f-09eb60648bd8",
   "metadata": {},
   "source": [
    "#### Export merged geo file"
   ]
  },
  {
   "cell_type": "code",
   "execution_count": 33,
   "id": "ba6df1f0-2557-4d57-90b4-1ede45637e4f",
   "metadata": {},
   "outputs": [],
   "source": [
    "states_homicide_gdf.to_file(\"../data/geo/states_homicide.geojson\", driver=\"GeoJSON\")"
   ]
  }
 ],
 "metadata": {
  "kernelspec": {
   "display_name": "Python 3",
   "language": "python",
   "name": "python3"
  },
  "language_info": {
   "codemirror_mode": {
    "name": "ipython",
    "version": 3
   },
   "file_extension": ".py",
   "mimetype": "text/x-python",
   "name": "python",
   "nbconvert_exporter": "python",
   "pygments_lexer": "ipython3",
   "version": "3.8.8"
  }
 },
 "nbformat": 4,
 "nbformat_minor": 5
}
