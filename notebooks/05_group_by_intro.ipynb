{
 "cells": [
  {
   "cell_type": "markdown",
   "id": "564e3285-652b-46c8-9148-15d6b4895ad9",
   "metadata": {},
   "source": [
    "# Using groupby in Pandas\n",
    "Use this method when you want to collapse a dataframe by a categorical column and run an aggregation. For example, if you had a list of alcohol consumption by country, and you wanted to know the average consumed **for each** continent. Let's look at that example."
   ]
  },
  {
   "cell_type": "markdown",
   "id": "b33ad272-23b8-45d3-99e3-b006192bee92",
   "metadata": {},
   "source": [
    "#### Load python tools"
   ]
  },
  {
   "cell_type": "code",
   "execution_count": 1,
   "id": "b22b7261-fe68-4445-bf94-82a506fa5018",
   "metadata": {},
   "outputs": [],
   "source": [
    "import pandas as pd"
   ]
  },
  {
   "cell_type": "markdown",
   "id": "e80cc819-8cc4-4587-8e04-959ea605e1ef",
   "metadata": {},
   "source": [
    "#### Read sample dataset"
   ]
  },
  {
   "cell_type": "code",
   "execution_count": 2,
   "id": "bfde2aa3-58c8-4a61-a7aa-8bde4389bb3c",
   "metadata": {},
   "outputs": [],
   "source": [
    "df = pd.read_csv('https://bit.ly/drinksbycountry')"
   ]
  },
  {
   "cell_type": "markdown",
   "id": "290286e6-fff7-47d9-a313-bf78c4421aec",
   "metadata": {},
   "source": [
    "#### What's that dataframe look like? "
   ]
  },
  {
   "cell_type": "code",
   "execution_count": 3,
   "id": "a6fa61a8-e2c2-46a6-86a1-562e204aa558",
   "metadata": {},
   "outputs": [
    {
     "data": {
      "text/html": [
       "<div>\n",
       "<style scoped>\n",
       "    .dataframe tbody tr th:only-of-type {\n",
       "        vertical-align: middle;\n",
       "    }\n",
       "\n",
       "    .dataframe tbody tr th {\n",
       "        vertical-align: top;\n",
       "    }\n",
       "\n",
       "    .dataframe thead th {\n",
       "        text-align: right;\n",
       "    }\n",
       "</style>\n",
       "<table border=\"1\" class=\"dataframe\">\n",
       "  <thead>\n",
       "    <tr style=\"text-align: right;\">\n",
       "      <th></th>\n",
       "      <th>country</th>\n",
       "      <th>beer_servings</th>\n",
       "      <th>spirit_servings</th>\n",
       "      <th>wine_servings</th>\n",
       "      <th>total_litres_of_pure_alcohol</th>\n",
       "      <th>continent</th>\n",
       "    </tr>\n",
       "  </thead>\n",
       "  <tbody>\n",
       "    <tr>\n",
       "      <th>0</th>\n",
       "      <td>Afghanistan</td>\n",
       "      <td>0</td>\n",
       "      <td>0</td>\n",
       "      <td>0</td>\n",
       "      <td>0.0</td>\n",
       "      <td>Asia</td>\n",
       "    </tr>\n",
       "    <tr>\n",
       "      <th>1</th>\n",
       "      <td>Albania</td>\n",
       "      <td>89</td>\n",
       "      <td>132</td>\n",
       "      <td>54</td>\n",
       "      <td>4.9</td>\n",
       "      <td>Europe</td>\n",
       "    </tr>\n",
       "    <tr>\n",
       "      <th>2</th>\n",
       "      <td>Algeria</td>\n",
       "      <td>25</td>\n",
       "      <td>0</td>\n",
       "      <td>14</td>\n",
       "      <td>0.7</td>\n",
       "      <td>Africa</td>\n",
       "    </tr>\n",
       "    <tr>\n",
       "      <th>3</th>\n",
       "      <td>Andorra</td>\n",
       "      <td>245</td>\n",
       "      <td>138</td>\n",
       "      <td>312</td>\n",
       "      <td>12.4</td>\n",
       "      <td>Europe</td>\n",
       "    </tr>\n",
       "    <tr>\n",
       "      <th>4</th>\n",
       "      <td>Angola</td>\n",
       "      <td>217</td>\n",
       "      <td>57</td>\n",
       "      <td>45</td>\n",
       "      <td>5.9</td>\n",
       "      <td>Africa</td>\n",
       "    </tr>\n",
       "  </tbody>\n",
       "</table>\n",
       "</div>"
      ],
      "text/plain": [
       "       country  beer_servings  spirit_servings  wine_servings  \\\n",
       "0  Afghanistan              0                0              0   \n",
       "1      Albania             89              132             54   \n",
       "2      Algeria             25                0             14   \n",
       "3      Andorra            245              138            312   \n",
       "4       Angola            217               57             45   \n",
       "\n",
       "   total_litres_of_pure_alcohol continent  \n",
       "0                           0.0      Asia  \n",
       "1                           4.9    Europe  \n",
       "2                           0.7    Africa  \n",
       "3                          12.4    Europe  \n",
       "4                           5.9    Africa  "
      ]
     },
     "execution_count": 3,
     "metadata": {},
     "output_type": "execute_result"
    }
   ],
   "source": [
    "df.head()"
   ]
  },
  {
   "cell_type": "markdown",
   "id": "9ba2676e-82a0-49ce-8408-042e03adfc0a",
   "metadata": {},
   "source": [
    "#### How many records, or countries? "
   ]
  },
  {
   "cell_type": "code",
   "execution_count": 4,
   "id": "922bcbc3-11aa-4ab7-9c07-46cbea5cc290",
   "metadata": {},
   "outputs": [
    {
     "data": {
      "text/plain": [
       "193"
      ]
     },
     "execution_count": 4,
     "metadata": {},
     "output_type": "execute_result"
    }
   ],
   "source": [
    "len(df)"
   ]
  },
  {
   "cell_type": "markdown",
   "id": "9ec429cc-8f30-4483-a861-a7de743506c4",
   "metadata": {},
   "source": [
    "#### How many countries in each continent? "
   ]
  },
  {
   "cell_type": "code",
   "execution_count": 5,
   "id": "8afed303-39dd-4485-a2d4-9ee2fb6ed086",
   "metadata": {},
   "outputs": [
    {
     "data": {
      "text/plain": [
       "Africa           53\n",
       "Europe           45\n",
       "Asia             44\n",
       "North America    23\n",
       "Oceania          16\n",
       "South America    12\n",
       "Name: continent, dtype: int64"
      ]
     },
     "execution_count": 5,
     "metadata": {},
     "output_type": "execute_result"
    }
   ],
   "source": [
    "df['continent'].value_counts()"
   ]
  },
  {
   "cell_type": "markdown",
   "id": "c88251c5-02b4-443b-b76d-a591fac05765",
   "metadata": {},
   "source": [
    "---"
   ]
  },
  {
   "cell_type": "markdown",
   "id": "5a3a0065-af3d-49b4-a711-c1280c87c002",
   "metadata": {},
   "source": [
    "#### What's the average beer servings in all countries? "
   ]
  },
  {
   "cell_type": "code",
   "execution_count": 6,
   "id": "25b4df48-644b-423d-a0b7-fdc25bf80608",
   "metadata": {},
   "outputs": [
    {
     "data": {
      "text/plain": [
       "106.16062176165804"
      ]
     },
     "execution_count": 6,
     "metadata": {},
     "output_type": "execute_result"
    }
   ],
   "source": [
    "df['beer_servings'].mean()"
   ]
  },
  {
   "cell_type": "markdown",
   "id": "682e00c1-5d9b-4fc7-9bb7-8b0ba2c79893",
   "metadata": {},
   "source": [
    "#### But what about **for each** continent? "
   ]
  },
  {
   "cell_type": "code",
   "execution_count": 7,
   "id": "a8d67b81-13e6-4667-9fc9-91a58cb60bc2",
   "metadata": {},
   "outputs": [
    {
     "data": {
      "text/plain": [
       "continent\n",
       "Africa            61.471698\n",
       "Asia              37.045455\n",
       "Europe           193.777778\n",
       "North America    145.434783\n",
       "Oceania           89.687500\n",
       "South America    175.083333\n",
       "Name: beer_servings, dtype: float64"
      ]
     },
     "execution_count": 7,
     "metadata": {},
     "output_type": "execute_result"
    }
   ],
   "source": [
    "df.groupby(['continent'])['beer_servings'].mean()"
   ]
  },
  {
   "cell_type": "markdown",
   "id": "0d77fd16-4cb9-4ddc-a6ef-335306507ac2",
   "metadata": {},
   "source": [
    "#### You're basically doing this, but **for each** continent"
   ]
  },
  {
   "cell_type": "code",
   "execution_count": 8,
   "id": "fc883c68-71f2-4c5c-897e-8acec57c7678",
   "metadata": {},
   "outputs": [
    {
     "data": {
      "text/plain": [
       "61.471698113207545"
      ]
     },
     "execution_count": 8,
     "metadata": {},
     "output_type": "execute_result"
    }
   ],
   "source": [
    "df[df['continent'] == 'Africa']['beer_servings'].mean()"
   ]
  },
  {
   "cell_type": "markdown",
   "id": "72922226-a776-45b9-8eaa-50e00a25a23d",
   "metadata": {},
   "source": [
    "#### Or ... "
   ]
  },
  {
   "cell_type": "code",
   "execution_count": 9,
   "id": "8e029a8d-3acc-4718-bac7-3f6129877b52",
   "metadata": {},
   "outputs": [
    {
     "data": {
      "text/plain": [
       "37.04545454545455"
      ]
     },
     "execution_count": 9,
     "metadata": {},
     "output_type": "execute_result"
    }
   ],
   "source": [
    "df[df['continent'] == 'Asia']['beer_servings'].mean()"
   ]
  },
  {
   "cell_type": "markdown",
   "id": "f091a503-65dc-4be6-b648-bb54f8b1cc57",
   "metadata": {},
   "source": [
    "#### Remember, you can subset a dataframe — in this case to see each country in North America:"
   ]
  },
  {
   "cell_type": "code",
   "execution_count": 10,
   "id": "1c205fb8-a829-4802-911a-f9ab727d2eba",
   "metadata": {},
   "outputs": [],
   "source": [
    "north_america = df[df['continent'] == 'North America']"
   ]
  },
  {
   "cell_type": "markdown",
   "id": "399d9a59-e485-4ca7-90e6-c423cd86daba",
   "metadata": {},
   "source": [
    "#### Which countries consume the most beer? "
   ]
  },
  {
   "cell_type": "code",
   "execution_count": 11,
   "id": "60f6f19f-ef2e-4a3f-9f23-1a1e750171b6",
   "metadata": {},
   "outputs": [
    {
     "data": {
      "text/html": [
       "<div>\n",
       "<style scoped>\n",
       "    .dataframe tbody tr th:only-of-type {\n",
       "        vertical-align: middle;\n",
       "    }\n",
       "\n",
       "    .dataframe tbody tr th {\n",
       "        vertical-align: top;\n",
       "    }\n",
       "\n",
       "    .dataframe thead th {\n",
       "        text-align: right;\n",
       "    }\n",
       "</style>\n",
       "<table border=\"1\" class=\"dataframe\">\n",
       "  <thead>\n",
       "    <tr style=\"text-align: right;\">\n",
       "      <th></th>\n",
       "      <th>country</th>\n",
       "      <th>beer_servings</th>\n",
       "      <th>spirit_servings</th>\n",
       "      <th>wine_servings</th>\n",
       "      <th>total_litres_of_pure_alcohol</th>\n",
       "      <th>continent</th>\n",
       "    </tr>\n",
       "  </thead>\n",
       "  <tbody>\n",
       "    <tr>\n",
       "      <th>130</th>\n",
       "      <td>Panama</td>\n",
       "      <td>285</td>\n",
       "      <td>104</td>\n",
       "      <td>18</td>\n",
       "      <td>7.2</td>\n",
       "      <td>North America</td>\n",
       "    </tr>\n",
       "    <tr>\n",
       "      <th>17</th>\n",
       "      <td>Belize</td>\n",
       "      <td>263</td>\n",
       "      <td>114</td>\n",
       "      <td>8</td>\n",
       "      <td>6.8</td>\n",
       "      <td>North America</td>\n",
       "    </tr>\n",
       "    <tr>\n",
       "      <th>184</th>\n",
       "      <td>USA</td>\n",
       "      <td>249</td>\n",
       "      <td>158</td>\n",
       "      <td>84</td>\n",
       "      <td>8.7</td>\n",
       "      <td>North America</td>\n",
       "    </tr>\n",
       "    <tr>\n",
       "      <th>32</th>\n",
       "      <td>Canada</td>\n",
       "      <td>240</td>\n",
       "      <td>122</td>\n",
       "      <td>100</td>\n",
       "      <td>8.2</td>\n",
       "      <td>North America</td>\n",
       "    </tr>\n",
       "    <tr>\n",
       "      <th>109</th>\n",
       "      <td>Mexico</td>\n",
       "      <td>238</td>\n",
       "      <td>68</td>\n",
       "      <td>5</td>\n",
       "      <td>5.5</td>\n",
       "      <td>North America</td>\n",
       "    </tr>\n",
       "  </tbody>\n",
       "</table>\n",
       "</div>"
      ],
      "text/plain": [
       "    country  beer_servings  spirit_servings  wine_servings  \\\n",
       "130  Panama            285              104             18   \n",
       "17   Belize            263              114              8   \n",
       "184     USA            249              158             84   \n",
       "32   Canada            240              122            100   \n",
       "109  Mexico            238               68              5   \n",
       "\n",
       "     total_litres_of_pure_alcohol      continent  \n",
       "130                           7.2  North America  \n",
       "17                            6.8  North America  \n",
       "184                           8.7  North America  \n",
       "32                            8.2  North America  \n",
       "109                           5.5  North America  "
      ]
     },
     "execution_count": 11,
     "metadata": {},
     "output_type": "execute_result"
    }
   ],
   "source": [
    "north_america.sort_values('beer_servings', ascending=False).head(5)"
   ]
  },
  {
   "cell_type": "markdown",
   "id": "a213f6a0-116a-480a-bfad-8b4b6191d361",
   "metadata": {},
   "source": [
    "#### Or total litres of alcohol"
   ]
  },
  {
   "cell_type": "code",
   "execution_count": 12,
   "id": "21b72710-f4b7-4d1f-a319-1fd44eefafd6",
   "metadata": {},
   "outputs": [
    {
     "data": {
      "text/html": [
       "<div>\n",
       "<style scoped>\n",
       "    .dataframe tbody tr th:only-of-type {\n",
       "        vertical-align: middle;\n",
       "    }\n",
       "\n",
       "    .dataframe tbody tr th {\n",
       "        vertical-align: top;\n",
       "    }\n",
       "\n",
       "    .dataframe thead th {\n",
       "        text-align: right;\n",
       "    }\n",
       "</style>\n",
       "<table border=\"1\" class=\"dataframe\">\n",
       "  <thead>\n",
       "    <tr style=\"text-align: right;\">\n",
       "      <th></th>\n",
       "      <th>country</th>\n",
       "      <th>beer_servings</th>\n",
       "      <th>spirit_servings</th>\n",
       "      <th>wine_servings</th>\n",
       "      <th>total_litres_of_pure_alcohol</th>\n",
       "      <th>continent</th>\n",
       "    </tr>\n",
       "  </thead>\n",
       "  <tbody>\n",
       "    <tr>\n",
       "      <th>68</th>\n",
       "      <td>Grenada</td>\n",
       "      <td>199</td>\n",
       "      <td>438</td>\n",
       "      <td>28</td>\n",
       "      <td>11.9</td>\n",
       "      <td>North America</td>\n",
       "    </tr>\n",
       "    <tr>\n",
       "      <th>144</th>\n",
       "      <td>St. Lucia</td>\n",
       "      <td>171</td>\n",
       "      <td>315</td>\n",
       "      <td>71</td>\n",
       "      <td>10.1</td>\n",
       "      <td>North America</td>\n",
       "    </tr>\n",
       "    <tr>\n",
       "      <th>184</th>\n",
       "      <td>USA</td>\n",
       "      <td>249</td>\n",
       "      <td>158</td>\n",
       "      <td>84</td>\n",
       "      <td>8.7</td>\n",
       "      <td>North America</td>\n",
       "    </tr>\n",
       "    <tr>\n",
       "      <th>32</th>\n",
       "      <td>Canada</td>\n",
       "      <td>240</td>\n",
       "      <td>122</td>\n",
       "      <td>100</td>\n",
       "      <td>8.2</td>\n",
       "      <td>North America</td>\n",
       "    </tr>\n",
       "    <tr>\n",
       "      <th>143</th>\n",
       "      <td>St. Kitts &amp; Nevis</td>\n",
       "      <td>194</td>\n",
       "      <td>205</td>\n",
       "      <td>32</td>\n",
       "      <td>7.7</td>\n",
       "      <td>North America</td>\n",
       "    </tr>\n",
       "  </tbody>\n",
       "</table>\n",
       "</div>"
      ],
      "text/plain": [
       "               country  beer_servings  spirit_servings  wine_servings  \\\n",
       "68             Grenada            199              438             28   \n",
       "144          St. Lucia            171              315             71   \n",
       "184                USA            249              158             84   \n",
       "32              Canada            240              122            100   \n",
       "143  St. Kitts & Nevis            194              205             32   \n",
       "\n",
       "     total_litres_of_pure_alcohol      continent  \n",
       "68                           11.9  North America  \n",
       "144                          10.1  North America  \n",
       "184                           8.7  North America  \n",
       "32                            8.2  North America  \n",
       "143                           7.7  North America  "
      ]
     },
     "execution_count": 12,
     "metadata": {},
     "output_type": "execute_result"
    }
   ],
   "source": [
    "north_america.sort_values('total_litres_of_pure_alcohol', ascending=False).head(5)"
   ]
  },
  {
   "cell_type": "markdown",
   "id": "e51254b0-fedb-494b-830b-0748f500ac16",
   "metadata": {},
   "source": [
    "#### Back to groupby: You can use other aggregation methods, too"
   ]
  },
  {
   "cell_type": "code",
   "execution_count": 13,
   "id": "9c63a07e-20ea-431f-bd34-cbf3b60b6ee9",
   "metadata": {},
   "outputs": [
    {
     "data": {
      "text/plain": [
       "continent\n",
       "Africa           376\n",
       "Asia             247\n",
       "Europe           361\n",
       "North America    285\n",
       "Oceania          306\n",
       "South America    333\n",
       "Name: beer_servings, dtype: int64"
      ]
     },
     "execution_count": 13,
     "metadata": {},
     "output_type": "execute_result"
    }
   ],
   "source": [
    "df.groupby(['continent'])['beer_servings'].max()"
   ]
  },
  {
   "cell_type": "code",
   "execution_count": 14,
   "id": "83ba04dc-9441-4904-b3ef-d374479af3e3",
   "metadata": {},
   "outputs": [
    {
     "data": {
      "text/plain": [
       "continent\n",
       "Africa            0\n",
       "Asia              0\n",
       "Europe            0\n",
       "North America     1\n",
       "Oceania           0\n",
       "South America    93\n",
       "Name: beer_servings, dtype: int64"
      ]
     },
     "execution_count": 14,
     "metadata": {},
     "output_type": "execute_result"
    }
   ],
   "source": [
    "df.groupby(['continent'])['beer_servings'].min()"
   ]
  },
  {
   "cell_type": "markdown",
   "id": "39fca196-5a87-4e12-b1c2-22eb58b5bbf7",
   "metadata": {},
   "source": [
    "#### There's another method allowing more agg types"
   ]
  },
  {
   "cell_type": "code",
   "execution_count": 15,
   "id": "286a86be-aba6-48b8-b845-3a5161fe5d08",
   "metadata": {},
   "outputs": [
    {
     "data": {
      "text/html": [
       "<div>\n",
       "<style scoped>\n",
       "    .dataframe tbody tr th:only-of-type {\n",
       "        vertical-align: middle;\n",
       "    }\n",
       "\n",
       "    .dataframe tbody tr th {\n",
       "        vertical-align: top;\n",
       "    }\n",
       "\n",
       "    .dataframe thead th {\n",
       "        text-align: right;\n",
       "    }\n",
       "</style>\n",
       "<table border=\"1\" class=\"dataframe\">\n",
       "  <thead>\n",
       "    <tr style=\"text-align: right;\">\n",
       "      <th></th>\n",
       "      <th>continent</th>\n",
       "      <th>min</th>\n",
       "      <th>max</th>\n",
       "      <th>count</th>\n",
       "      <th>mean</th>\n",
       "    </tr>\n",
       "  </thead>\n",
       "  <tbody>\n",
       "    <tr>\n",
       "      <th>0</th>\n",
       "      <td>Africa</td>\n",
       "      <td>0</td>\n",
       "      <td>376</td>\n",
       "      <td>53</td>\n",
       "      <td>61.471698</td>\n",
       "    </tr>\n",
       "    <tr>\n",
       "      <th>1</th>\n",
       "      <td>Asia</td>\n",
       "      <td>0</td>\n",
       "      <td>247</td>\n",
       "      <td>44</td>\n",
       "      <td>37.045455</td>\n",
       "    </tr>\n",
       "    <tr>\n",
       "      <th>2</th>\n",
       "      <td>Europe</td>\n",
       "      <td>0</td>\n",
       "      <td>361</td>\n",
       "      <td>45</td>\n",
       "      <td>193.777778</td>\n",
       "    </tr>\n",
       "    <tr>\n",
       "      <th>3</th>\n",
       "      <td>North America</td>\n",
       "      <td>1</td>\n",
       "      <td>285</td>\n",
       "      <td>23</td>\n",
       "      <td>145.434783</td>\n",
       "    </tr>\n",
       "    <tr>\n",
       "      <th>4</th>\n",
       "      <td>Oceania</td>\n",
       "      <td>0</td>\n",
       "      <td>306</td>\n",
       "      <td>16</td>\n",
       "      <td>89.687500</td>\n",
       "    </tr>\n",
       "    <tr>\n",
       "      <th>5</th>\n",
       "      <td>South America</td>\n",
       "      <td>93</td>\n",
       "      <td>333</td>\n",
       "      <td>12</td>\n",
       "      <td>175.083333</td>\n",
       "    </tr>\n",
       "  </tbody>\n",
       "</table>\n",
       "</div>"
      ],
      "text/plain": [
       "       continent  min  max  count        mean\n",
       "0         Africa    0  376     53   61.471698\n",
       "1           Asia    0  247     44   37.045455\n",
       "2         Europe    0  361     45  193.777778\n",
       "3  North America    1  285     23  145.434783\n",
       "4        Oceania    0  306     16   89.687500\n",
       "5  South America   93  333     12  175.083333"
      ]
     },
     "execution_count": 15,
     "metadata": {},
     "output_type": "execute_result"
    }
   ],
   "source": [
    "df.groupby(['continent'])['beer_servings'].agg(['min', 'max', 'count', 'mean']).reset_index()"
   ]
  },
  {
   "cell_type": "markdown",
   "id": "7905c771-1c6d-498b-a038-c6f86ea68db2",
   "metadata": {},
   "source": [
    "#### You can define a groupby as a variable, if you want"
   ]
  },
  {
   "cell_type": "code",
   "execution_count": 16,
   "id": "64e0e6b1-51a7-42b7-8796-5a9fca5a4d38",
   "metadata": {},
   "outputs": [],
   "source": [
    "continents = df.groupby(['continent'])['beer_servings'].agg(['min', 'max', 'count', 'mean']).reset_index()"
   ]
  },
  {
   "cell_type": "markdown",
   "id": "b094cd22-d544-4216-91ee-fc075d7edf7e",
   "metadata": {},
   "source": [
    "#### You can also stick to one aggregation method but use if for all your numerical columns"
   ]
  },
  {
   "cell_type": "code",
   "execution_count": 17,
   "id": "0157a675-1ed4-48fc-8171-9403ec48f4c4",
   "metadata": {},
   "outputs": [],
   "source": [
    "all_drinks = df.groupby(['continent']).mean()"
   ]
  },
  {
   "cell_type": "markdown",
   "id": "360bb49e-13cc-477d-aa34-af9d197bc90b",
   "metadata": {},
   "source": [
    "#### And even plot it if you want"
   ]
  },
  {
   "cell_type": "code",
   "execution_count": 18,
   "id": "b334912b-7d11-4b54-a93a-ae995262cbe9",
   "metadata": {},
   "outputs": [
    {
     "data": {
      "text/plain": [
       "<AxesSubplot:xlabel='continent'>"
      ]
     },
     "execution_count": 18,
     "metadata": {},
     "output_type": "execute_result"
    },
    {
     "data": {
      "image/png": "[encoded data removed]",
      "text/plain": [
       "<Figure size 432x288 with 1 Axes>"
      ]
     },
     "metadata": {
      "needs_background": "light"
     },
     "output_type": "display_data"
    }
   ],
   "source": [
    "all_drinks.plot(kind='bar')"
   ]
  }
 ],
 "metadata": {
  "kernelspec": {
   "display_name": "Python 3",
   "language": "python",
   "name": "python3"
  },
  "language_info": {
   "codemirror_mode": {
    "name": "ipython",
    "version": 3
   },
   "file_extension": ".py",
   "mimetype": "text/x-python",
   "name": "python",
   "nbconvert_exporter": "python",
   "pygments_lexer": "ipython3",
   "version": "3.8.8"
  }
 },
 "nbformat": 4,
 "nbformat_minor": 5
}
