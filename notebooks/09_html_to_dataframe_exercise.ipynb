{
 "cells": [
  {
   "cell_type": "markdown",
   "id": "abd53c16-8954-4ea3-8a2a-8d55f1473e2e",
   "metadata": {},
   "source": [
    "# Data from HTML tables: L.A. County covid cases"
   ]
  },
  {
   "cell_type": "code",
   "execution_count": 1,
   "id": "afdc0be2-fe44-4498-8710-2c67d6165ac5",
   "metadata": {},
   "outputs": [],
   "source": [
    "import pandas as pd"
   ]
  },
  {
   "cell_type": "markdown",
   "id": "74b3adb1-af37-47ed-b53d-1cca345a0c6e",
   "metadata": {},
   "source": [
    "#### L.A. County COVID cases, deaths by community"
   ]
  },
  {
   "cell_type": "code",
   "execution_count": 2,
   "id": "c275b7f2-89ec-4c60-9c4d-9e1d11215181",
   "metadata": {},
   "outputs": [],
   "source": [
    "url = 'http://publichealth.lacounty.gov/media/Coronavirus/locations.htm'"
   ]
  },
  {
   "cell_type": "markdown",
   "id": "0dda0e3f-2a20-4498-863e-c2bc71c5b449",
   "metadata": {},
   "source": [
    "#### Read the \"CITY/COMMUNITY\" cases table into a dataframe"
   ]
  },
  {
   "cell_type": "code",
   "execution_count": 3,
   "id": "2524d247-622a-4134-9002-73de23ed3a1c",
   "metadata": {},
   "outputs": [],
   "source": [
    "df = pd.read_html(url)[1]"
   ]
  },
  {
   "cell_type": "markdown",
   "id": "f00f04b8-86c2-49fc-9aec-ad7b36149ee2",
   "metadata": {},
   "source": [
    "#### Define cleaner column names"
   ]
  },
  {
   "cell_type": "code",
   "execution_count": 4,
   "id": "b75ab57e-c764-434f-be2e-b0e993826533",
   "metadata": {},
   "outputs": [],
   "source": [
    "df.columns = ['place', 'cases', 'case_rate', 'deaths', 'death_rate']"
   ]
  },
  {
   "cell_type": "code",
   "execution_count": 5,
   "id": "a3ddaea2-328c-4d18-87a7-1b5858fffcac",
   "metadata": {},
   "outputs": [
    {
     "data": {
      "text/html": [
       "<div>\n",
       "<style scoped>\n",
       "    .dataframe tbody tr th:only-of-type {\n",
       "        vertical-align: middle;\n",
       "    }\n",
       "\n",
       "    .dataframe tbody tr th {\n",
       "        vertical-align: top;\n",
       "    }\n",
       "\n",
       "    .dataframe thead th {\n",
       "        text-align: right;\n",
       "    }\n",
       "</style>\n",
       "<table border=\"1\" class=\"dataframe\">\n",
       "  <thead>\n",
       "    <tr style=\"text-align: right;\">\n",
       "      <th></th>\n",
       "      <th>place</th>\n",
       "      <th>cases</th>\n",
       "      <th>case_rate</th>\n",
       "      <th>deaths</th>\n",
       "      <th>death_rate</th>\n",
       "    </tr>\n",
       "  </thead>\n",
       "  <tbody>\n",
       "    <tr>\n",
       "      <th>0</th>\n",
       "      <td>City of Agoura Hills</td>\n",
       "      <td>4088</td>\n",
       "      <td>19576.0</td>\n",
       "      <td>22</td>\n",
       "      <td>105.0</td>\n",
       "    </tr>\n",
       "    <tr>\n",
       "      <th>1</th>\n",
       "      <td>City of Alhambra</td>\n",
       "      <td>16488</td>\n",
       "      <td>19012.0</td>\n",
       "      <td>249</td>\n",
       "      <td>287.0</td>\n",
       "    </tr>\n",
       "    <tr>\n",
       "      <th>2</th>\n",
       "      <td>City of Arcadia</td>\n",
       "      <td>7867</td>\n",
       "      <td>13622.0</td>\n",
       "      <td>163</td>\n",
       "      <td>282.0</td>\n",
       "    </tr>\n",
       "    <tr>\n",
       "      <th>3</th>\n",
       "      <td>City of Artesia</td>\n",
       "      <td>4109</td>\n",
       "      <td>24466.0</td>\n",
       "      <td>88</td>\n",
       "      <td>524.0</td>\n",
       "    </tr>\n",
       "    <tr>\n",
       "      <th>4</th>\n",
       "      <td>City of Avalon</td>\n",
       "      <td>62</td>\n",
       "      <td>1602.0</td>\n",
       "      <td>0</td>\n",
       "      <td>0.0</td>\n",
       "    </tr>\n",
       "    <tr>\n",
       "      <th>5</th>\n",
       "      <td>City of Azusa</td>\n",
       "      <td>13590</td>\n",
       "      <td>27158.0</td>\n",
       "      <td>155</td>\n",
       "      <td>310.0</td>\n",
       "    </tr>\n",
       "    <tr>\n",
       "      <th>6</th>\n",
       "      <td>City of Baldwin Park</td>\n",
       "      <td>22676</td>\n",
       "      <td>29538.0</td>\n",
       "      <td>383</td>\n",
       "      <td>499.0</td>\n",
       "    </tr>\n",
       "    <tr>\n",
       "      <th>7</th>\n",
       "      <td>City of Bell</td>\n",
       "      <td>13697</td>\n",
       "      <td>37700.0</td>\n",
       "      <td>138</td>\n",
       "      <td>380.0</td>\n",
       "    </tr>\n",
       "    <tr>\n",
       "      <th>8</th>\n",
       "      <td>City of Bell Gardens</td>\n",
       "      <td>14013</td>\n",
       "      <td>32535.0</td>\n",
       "      <td>134</td>\n",
       "      <td>311.0</td>\n",
       "    </tr>\n",
       "    <tr>\n",
       "      <th>9</th>\n",
       "      <td>City of Bellflower</td>\n",
       "      <td>23061</td>\n",
       "      <td>29666.0</td>\n",
       "      <td>252</td>\n",
       "      <td>324.0</td>\n",
       "    </tr>\n",
       "  </tbody>\n",
       "</table>\n",
       "</div>"
      ],
      "text/plain": [
       "                  place  cases  case_rate  deaths  death_rate\n",
       "0  City of Agoura Hills   4088    19576.0      22       105.0\n",
       "1      City of Alhambra  16488    19012.0     249       287.0\n",
       "2       City of Arcadia   7867    13622.0     163       282.0\n",
       "3       City of Artesia   4109    24466.0      88       524.0\n",
       "4        City of Avalon     62     1602.0       0         0.0\n",
       "5         City of Azusa  13590    27158.0     155       310.0\n",
       "6  City of Baldwin Park  22676    29538.0     383       499.0\n",
       "7          City of Bell  13697    37700.0     138       380.0\n",
       "8  City of Bell Gardens  14013    32535.0     134       311.0\n",
       "9    City of Bellflower  23061    29666.0     252       324.0"
      ]
     },
     "execution_count": 5,
     "metadata": {},
     "output_type": "execute_result"
    }
   ],
   "source": [
    "df.head(10)"
   ]
  },
  {
   "cell_type": "markdown",
   "id": "20995e1f-f2c5-4e49-af83-1a9c919f707a",
   "metadata": {},
   "source": [
    "---"
   ]
  },
  {
   "cell_type": "markdown",
   "id": "231be332-85cd-48d9-b88c-9cd615e93582",
   "metadata": {},
   "source": [
    "#### How many deaths in Los Angeles - Del Rey? Encino?"
   ]
  },
  {
   "cell_type": "code",
   "execution_count": 6,
   "id": "54c37e15-1055-44b7-b44f-6cc4f2ddd0d2",
   "metadata": {},
   "outputs": [
    {
     "data": {
      "text/html": [
       "<div>\n",
       "<style scoped>\n",
       "    .dataframe tbody tr th:only-of-type {\n",
       "        vertical-align: middle;\n",
       "    }\n",
       "\n",
       "    .dataframe tbody tr th {\n",
       "        vertical-align: top;\n",
       "    }\n",
       "\n",
       "    .dataframe thead th {\n",
       "        text-align: right;\n",
       "    }\n",
       "</style>\n",
       "<table border=\"1\" class=\"dataframe\">\n",
       "  <thead>\n",
       "    <tr style=\"text-align: right;\">\n",
       "      <th></th>\n",
       "      <th>place</th>\n",
       "      <th>cases</th>\n",
       "      <th>case_rate</th>\n",
       "      <th>deaths</th>\n",
       "      <th>death_rate</th>\n",
       "    </tr>\n",
       "  </thead>\n",
       "  <tbody>\n",
       "    <tr>\n",
       "      <th>112</th>\n",
       "      <td>Los Angeles - Del Rey</td>\n",
       "      <td>5852</td>\n",
       "      <td>19548.0</td>\n",
       "      <td>42</td>\n",
       "      <td>140.0</td>\n",
       "    </tr>\n",
       "    <tr>\n",
       "      <th>172</th>\n",
       "      <td>Los Angeles - Playa Del Rey</td>\n",
       "      <td>397</td>\n",
       "      <td>12422.0</td>\n",
       "      <td>3</td>\n",
       "      <td>94.0</td>\n",
       "    </tr>\n",
       "    <tr>\n",
       "      <th>246</th>\n",
       "      <td>Unincorporated - Del Rey</td>\n",
       "      <td>87</td>\n",
       "      <td>27358.0</td>\n",
       "      <td>1</td>\n",
       "      <td>314.0</td>\n",
       "    </tr>\n",
       "  </tbody>\n",
       "</table>\n",
       "</div>"
      ],
      "text/plain": [
       "                           place  cases  case_rate  deaths  death_rate\n",
       "112        Los Angeles - Del Rey   5852    19548.0      42       140.0\n",
       "172  Los Angeles - Playa Del Rey    397    12422.0       3        94.0\n",
       "246     Unincorporated - Del Rey     87    27358.0       1       314.0"
      ]
     },
     "execution_count": 6,
     "metadata": {},
     "output_type": "execute_result"
    }
   ],
   "source": [
    "df[df['place'].str.contains('Del Rey')].sort_values('deaths', ascending=False).head(10)"
   ]
  },
  {
   "cell_type": "markdown",
   "id": "320e0ec9-5c48-440f-992b-d76014f19056",
   "metadata": {},
   "source": [
    "#### How many cases in places outside Los Angeles? [Hint](https://www.google.com/search?q=Python+pandas+string+does+not+contain&oq=Python+pandas+string+does+not+contain)"
   ]
  },
  {
   "cell_type": "code",
   "execution_count": 7,
   "id": "d1a14036-0c75-4733-b4f3-47cc58d0b209",
   "metadata": {},
   "outputs": [
    {
     "data": {
      "text/plain": [
       "1454356"
      ]
     },
     "execution_count": 7,
     "metadata": {},
     "output_type": "execute_result"
    }
   ],
   "source": [
    "df[~df['place'].str.contains('Los Angeles')]['cases'].sum()"
   ]
  },
  {
   "cell_type": "markdown",
   "id": "cc9391ab-13c7-402c-831b-58c0b1672efb",
   "metadata": {},
   "source": [
    "#### Which large cities/neighborhoods have the highest rates? "
   ]
  },
  {
   "cell_type": "code",
   "execution_count": 8,
   "id": "544e83b4-471e-431d-b846-cc2bb867e9d8",
   "metadata": {},
   "outputs": [
    {
     "data": {
      "text/html": [
       "<div>\n",
       "<style scoped>\n",
       "    .dataframe tbody tr th:only-of-type {\n",
       "        vertical-align: middle;\n",
       "    }\n",
       "\n",
       "    .dataframe tbody tr th {\n",
       "        vertical-align: top;\n",
       "    }\n",
       "\n",
       "    .dataframe thead th {\n",
       "        text-align: right;\n",
       "    }\n",
       "</style>\n",
       "<table border=\"1\" class=\"dataframe\">\n",
       "  <thead>\n",
       "    <tr style=\"text-align: right;\">\n",
       "      <th></th>\n",
       "      <th>place</th>\n",
       "      <th>cases</th>\n",
       "      <th>case_rate</th>\n",
       "      <th>deaths</th>\n",
       "      <th>death_rate</th>\n",
       "    </tr>\n",
       "  </thead>\n",
       "  <tbody>\n",
       "    <tr>\n",
       "      <th>220</th>\n",
       "      <td>Los Angeles - Wholesale District*</td>\n",
       "      <td>16159</td>\n",
       "      <td>44726.0</td>\n",
       "      <td>134</td>\n",
       "      <td>371.0</td>\n",
       "    </tr>\n",
       "    <tr>\n",
       "      <th>66</th>\n",
       "      <td>City of San Fernando</td>\n",
       "      <td>10367</td>\n",
       "      <td>42122.0</td>\n",
       "      <td>80</td>\n",
       "      <td>325.0</td>\n",
       "    </tr>\n",
       "    <tr>\n",
       "      <th>113</th>\n",
       "      <td>Los Angeles - Downtown*</td>\n",
       "      <td>11530</td>\n",
       "      <td>41917.0</td>\n",
       "      <td>65</td>\n",
       "      <td>236.0</td>\n",
       "    </tr>\n",
       "    <tr>\n",
       "      <th>166</th>\n",
       "      <td>Los Angeles - Pacoima</td>\n",
       "      <td>31875</td>\n",
       "      <td>41407.0</td>\n",
       "      <td>279</td>\n",
       "      <td>362.0</td>\n",
       "    </tr>\n",
       "    <tr>\n",
       "      <th>208</th>\n",
       "      <td>Los Angeles - Vernon Central</td>\n",
       "      <td>21527</td>\n",
       "      <td>41400.0</td>\n",
       "      <td>194</td>\n",
       "      <td>373.0</td>\n",
       "    </tr>\n",
       "    <tr>\n",
       "      <th>125</th>\n",
       "      <td>Los Angeles - Florence-Firestone</td>\n",
       "      <td>19303</td>\n",
       "      <td>40685.0</td>\n",
       "      <td>154</td>\n",
       "      <td>325.0</td>\n",
       "    </tr>\n",
       "    <tr>\n",
       "      <th>191</th>\n",
       "      <td>Los Angeles - Sylmar*</td>\n",
       "      <td>33213</td>\n",
       "      <td>40308.0</td>\n",
       "      <td>305</td>\n",
       "      <td>370.0</td>\n",
       "    </tr>\n",
       "    <tr>\n",
       "      <th>260</th>\n",
       "      <td>Unincorporated - Florence-Firestone</td>\n",
       "      <td>26055</td>\n",
       "      <td>40267.0</td>\n",
       "      <td>254</td>\n",
       "      <td>393.0</td>\n",
       "    </tr>\n",
       "    <tr>\n",
       "      <th>104</th>\n",
       "      <td>Los Angeles - Century Palms/Cove</td>\n",
       "      <td>13406</td>\n",
       "      <td>39703.0</td>\n",
       "      <td>130</td>\n",
       "      <td>385.0</td>\n",
       "    </tr>\n",
       "    <tr>\n",
       "      <th>90</th>\n",
       "      <td>Los Angeles - Arleta</td>\n",
       "      <td>13560</td>\n",
       "      <td>39453.0</td>\n",
       "      <td>133</td>\n",
       "      <td>387.0</td>\n",
       "    </tr>\n",
       "  </tbody>\n",
       "</table>\n",
       "</div>"
      ],
      "text/plain": [
       "                                   place  cases  case_rate  deaths  death_rate\n",
       "220    Los Angeles - Wholesale District*  16159    44726.0     134       371.0\n",
       "66                  City of San Fernando  10367    42122.0      80       325.0\n",
       "113              Los Angeles - Downtown*  11530    41917.0      65       236.0\n",
       "166                Los Angeles - Pacoima  31875    41407.0     279       362.0\n",
       "208         Los Angeles - Vernon Central  21527    41400.0     194       373.0\n",
       "125     Los Angeles - Florence-Firestone  19303    40685.0     154       325.0\n",
       "191                Los Angeles - Sylmar*  33213    40308.0     305       370.0\n",
       "260  Unincorporated - Florence-Firestone  26055    40267.0     254       393.0\n",
       "104     Los Angeles - Century Palms/Cove  13406    39703.0     130       385.0\n",
       "90                  Los Angeles - Arleta  13560    39453.0     133       387.0"
      ]
     },
     "execution_count": 8,
     "metadata": {},
     "output_type": "execute_result"
    }
   ],
   "source": [
    "df[df['cases'] > 10000].sort_values('case_rate', ascending=False).head(10)"
   ]
  },
  {
   "cell_type": "markdown",
   "id": "4c77f5fe-dbc9-45cd-8b24-e7cdbfe3c535",
   "metadata": {},
   "source": [
    "---"
   ]
  },
  {
   "cell_type": "markdown",
   "id": "441e5ed4-ee9a-48ff-a3a9-6c0d0b16ff1d",
   "metadata": {},
   "source": [
    "#### Bonus: Create a true/false column for Los Angeles"
   ]
  },
  {
   "cell_type": "code",
   "execution_count": 9,
   "id": "29049c62-74c1-4c87-8ccf-70bee39b0c64",
   "metadata": {},
   "outputs": [],
   "source": [
    "df['in_la'] = df['place'].str.contains('Los Angeles')"
   ]
  },
  {
   "cell_type": "markdown",
   "id": "83d8786d-9a36-4dc9-9d21-dce6ac8eefa2",
   "metadata": {},
   "source": [
    "#### Bonus: Were there more cases in the county vs. the city of Los Angeles? "
   ]
  },
  {
   "cell_type": "code",
   "execution_count": 10,
   "id": "93b1f26e-d2d1-4069-95f0-fab2cedef33e",
   "metadata": {},
   "outputs": [
    {
     "data": {
      "text/plain": [
       "False    58.0\n",
       "True     42.0\n",
       "Name: in_la, dtype: float64"
      ]
     },
     "execution_count": 10,
     "metadata": {},
     "output_type": "execute_result"
    }
   ],
   "source": [
    "(df['in_la'].value_counts(normalize=True)*100).round()"
   ]
  },
  {
   "cell_type": "markdown",
   "id": "c2362734-2647-490e-b69c-8993c3651f21",
   "metadata": {},
   "source": [
    "#### Discussion: How would you determine whether there were disproportionately more cases in the county? "
   ]
  },
  {
   "cell_type": "code",
   "execution_count": null,
   "id": "c4c63aa4-fb75-45b8-8602-c64165ea235f",
   "metadata": {},
   "outputs": [],
   "source": []
  },
  {
   "cell_type": "code",
   "execution_count": null,
   "id": "fc4e22f4-b608-45f9-acbf-b0d88b7cd1d9",
   "metadata": {},
   "outputs": [],
   "source": []
  }
 ],
 "metadata": {
  "kernelspec": {
   "display_name": "Python 3",
   "language": "python",
   "name": "python3"
  },
  "language_info": {
   "codemirror_mode": {
    "name": "ipython",
    "version": 3
   },
   "file_extension": ".py",
   "mimetype": "text/x-python",
   "name": "python",
   "nbconvert_exporter": "python",
   "pygments_lexer": "ipython3",
   "version": "3.8.8"
  }
 },
 "nbformat": 4,
 "nbformat_minor": 5
}
