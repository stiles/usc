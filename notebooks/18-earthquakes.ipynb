{
 "cells": [
  {
   "cell_type": "markdown",
   "id": "53dbadec-08ee-45d4-b00c-01c8bd5f905a",
   "metadata": {},
   "source": [
    "# Earthquake data"
   ]
  },
  {
   "cell_type": "markdown",
   "id": "bf12d8b3-9657-4caf-aa02-dc3a67b8aad9",
   "metadata": {},
   "source": [
    "#### Load Python tools"
   ]
  },
  {
   "cell_type": "code",
   "execution_count": 1,
   "id": "30adbcd6-1262-45a6-9368-dd4348a30246",
   "metadata": {},
   "outputs": [],
   "source": [
    "%load_ext lab_black"
   ]
  },
  {
   "cell_type": "code",
   "execution_count": 19,
   "id": "bbbf38df-b6aa-4b09-91c3-7d08cb151526",
   "metadata": {},
   "outputs": [],
   "source": [
    "import pandas as pd\n",
    "import geopandas as gpd\n",
    "import geojson"
   ]
  },
  {
   "cell_type": "code",
   "execution_count": 3,
   "id": "e6b2b19e-fa6d-41ef-afbd-4f45a977f880",
   "metadata": {},
   "outputs": [],
   "source": [
    "pd.options.display.max_columns = 1000\n",
    "pd.options.display.max_rows = 1000"
   ]
  },
  {
   "cell_type": "markdown",
   "id": "fd92d546-2f53-47c1-9747-6ad3501050e2",
   "metadata": {},
   "source": [
    "---"
   ]
  },
  {
   "cell_type": "markdown",
   "id": "3fb7c377-4480-4491-b234-d96df2b0e245",
   "metadata": {},
   "source": [
    "## Read data"
   ]
  },
  {
   "cell_type": "markdown",
   "id": "4a8f8fbf-c7d4-4906-a789-73287154ba17",
   "metadata": {},
   "source": [
    "#### Northridge quake [impact area data](https://services.arcgis.com/QJfoC7c7Z2icolha/arcgis/rest/services/impact_area1375916377789/FeatureServer/0)  from Esri"
   ]
  },
  {
   "cell_type": "code",
   "execution_count": 4,
   "id": "083e859f-bdcf-4703-bab9-bd99e78b4319",
   "metadata": {},
   "outputs": [],
   "source": [
    "northridge_src = gpd.read_file(\n",
    "    \"https://raw.githubusercontent.com/stiles/usc/main/data/geo/impact_area.geojson\"\n",
    ")"
   ]
  },
  {
   "cell_type": "code",
   "execution_count": 5,
   "id": "621204d0-b14d-4dd5-afb6-88d2ed560c85",
   "metadata": {},
   "outputs": [
    {
     "data": {
      "text/plain": [
       "<AxesSubplot:>"
      ]
     },
     "execution_count": 5,
     "metadata": {},
     "output_type": "execute_result"
    },
    {
     "data": {
      "image/png": "[encoded data removed]",
      "text/plain": [
       "<Figure size 432x288 with 1 Axes>"
      ]
     },
     "metadata": {
      "needs_background": "light"
     },
     "output_type": "display_data"
    }
   ],
   "source": [
    "northridge_src.plot()"
   ]
  },
  {
   "cell_type": "code",
   "execution_count": 6,
   "id": "7ec29ca1-32e0-4730-a680-3712f5b388d7",
   "metadata": {},
   "outputs": [
    {
     "data": {
      "text/plain": [
       "Index(['OBJECTID', 'CIKR_AMTwr', 'CIKR_BrTn', 'CIKR_Dam', 'CIKR_Edu',\n",
       "       'CIKR_ECC', 'CIKR_FMTwr', 'CIKR_FrSta', 'CIKR_Hzmt', 'CIKR_HCF',\n",
       "       ...\n",
       "       'PCI_CY_2', 'TOTHU_CY_2', 'OWNER_CY_2', 'RENTER_CY_2', 'VACANT_CY_2',\n",
       "       'MEDVAL_CY_2', 'AVGVAL_CY_2', 'POP014_CY', 'POP65U_CY', 'geometry'],\n",
       "      dtype='object', length=153)"
      ]
     },
     "execution_count": 6,
     "metadata": {},
     "output_type": "execute_result"
    }
   ],
   "source": [
    "northridge_src.columns"
   ]
  },
  {
   "cell_type": "code",
   "execution_count": 7,
   "id": "c56f50fb-1156-4593-8869-eeac3e18027e",
   "metadata": {},
   "outputs": [],
   "source": [
    "# Esri's metadata here: https://services.arcgis.com/QJfoC7c7Z2icolha/arcgis/rest/services/impact_area1375916377789/FeatureServer/0"
   ]
  },
  {
   "cell_type": "markdown",
   "id": "e01501ea-78fb-4428-b34e-c22753f5fe77",
   "metadata": {},
   "source": [
    "#### Just get the number of people, businesses and infrastructure"
   ]
  },
  {
   "cell_type": "code",
   "execution_count": 8,
   "id": "808eeed1-0a84-4133-a714-092dee495cc1",
   "metadata": {},
   "outputs": [],
   "source": [
    "northridge_src_slim = northridge_src[\n",
    "    [\"GRID_CODE\", \"CIKR_Total\", \"BUS_Total\", \"TOTPOP_CY_2\", \"geometry\"]\n",
    "].copy()"
   ]
  },
  {
   "cell_type": "markdown",
   "id": "edc5fa0d-0c32-40d2-b521-b042d7b56313",
   "metadata": {},
   "source": [
    "#### Rename columns"
   ]
  },
  {
   "cell_type": "code",
   "execution_count": 9,
   "id": "3c2d65f5-0683-4e61-9d74-778dd1632093",
   "metadata": {},
   "outputs": [],
   "source": [
    "northridge_src_slim.rename(\n",
    "    columns={\n",
    "        \"GRID_CODE\": \"impact_code\",\n",
    "        \"CIKR_Total\": \"critical_infrastructure\",\n",
    "        \"BUS_Total\": \"businesses\",\n",
    "        \"TOTPOP_CY_2\": \"population\",\n",
    "    },\n",
    "    inplace=True,\n",
    ")"
   ]
  },
  {
   "cell_type": "markdown",
   "id": "492b3a83-67b4-436b-903d-12c9e70ed721",
   "metadata": {},
   "source": [
    "#### Add descriptions to impact codes"
   ]
  },
  {
   "cell_type": "code",
   "execution_count": 10,
   "id": "8931a32f-8abc-4a5e-a359-ff7a741d3a45",
   "metadata": {},
   "outputs": [],
   "source": [
    "northridge_src_slim[\"impact_code\"] = northridge_src_slim[\"impact_code\"].astype(str)"
   ]
  },
  {
   "cell_type": "code",
   "execution_count": 11,
   "id": "87a828b5-18b7-4b0b-8eee-c697c54d5cb2",
   "metadata": {},
   "outputs": [],
   "source": [
    "codes = {\n",
    "    \"4\": \"Shaking, no damage\",\n",
    "    \"5\": \"Very light\",\n",
    "    \"6\": \"Light\",\n",
    "    \"7\": \"Moderate\",\n",
    "    \"8\": \"Moderate/Heavy\",\n",
    "    \"9\": \"Heavy\",\n",
    "}"
   ]
  },
  {
   "cell_type": "code",
   "execution_count": 12,
   "id": "8e26d199-0a05-41d5-b6f6-9f8e7e0ab54c",
   "metadata": {},
   "outputs": [],
   "source": [
    "northridge_src_slim[\"impact_code_desc\"] = northridge_src_slim[\"impact_code\"].map(codes)"
   ]
  },
  {
   "cell_type": "markdown",
   "id": "2f6df057-6cfe-4eec-b706-e51e29ad864f",
   "metadata": {},
   "source": [
    "#### Prepare for export"
   ]
  },
  {
   "cell_type": "code",
   "execution_count": 13,
   "id": "fd0c7daa-28d9-44c4-9b60-d1912c059ba0",
   "metadata": {},
   "outputs": [],
   "source": [
    "northridge_src_slim = northridge_src_slim[\n",
    "    [\n",
    "        \"impact_code\",\n",
    "        \"impact_code_desc\",\n",
    "        \"critical_infrastructure\",\n",
    "        \"businesses\",\n",
    "        \"population\",\n",
    "        \"geometry\",\n",
    "    ]\n",
    "]"
   ]
  },
  {
   "cell_type": "markdown",
   "id": "a7976405-d91e-4b48-baab-b9d664771603",
   "metadata": {},
   "source": [
    "#### Heaviest area?"
   ]
  },
  {
   "cell_type": "code",
   "execution_count": 14,
   "id": "de7cdac7-1e9f-491c-9c00-2f48909adccf",
   "metadata": {},
   "outputs": [
    {
     "data": {
      "text/plain": [
       "<AxesSubplot:>"
      ]
     },
     "execution_count": 14,
     "metadata": {},
     "output_type": "execute_result"
    },
    {
     "data": {
      "image/png": "[encoded data removed]",
      "text/plain": [
       "<Figure size 432x288 with 1 Axes>"
      ]
     },
     "metadata": {
      "needs_background": "light"
     },
     "output_type": "display_data"
    }
   ],
   "source": [
    "northridge_src_slim[northridge_src_slim[\"impact_code\"] == \"9\"].plot()"
   ]
  },
  {
   "cell_type": "markdown",
   "id": "d8b9ca54-aa22-49f0-a6b1-2a4da86ed0f2",
   "metadata": {},
   "source": [
    "#### How many people lived there? "
   ]
  },
  {
   "cell_type": "code",
   "execution_count": 15,
   "id": "ff586d9b-f15e-40b8-9be8-b36977cdfef4",
   "metadata": {},
   "outputs": [
    {
     "data": {
      "text/plain": [
       "315994"
      ]
     },
     "execution_count": 15,
     "metadata": {},
     "output_type": "execute_result"
    }
   ],
   "source": [
    "northridge_src_slim[northridge_src_slim[\"impact_code\"] == \"9\"][\"population\"].iloc[0]"
   ]
  },
  {
   "cell_type": "markdown",
   "id": "230ad923-341e-43e5-9d0a-8b689871a7d1",
   "metadata": {},
   "source": [
    "---"
   ]
  },
  {
   "cell_type": "markdown",
   "id": "bfe15bc0-2d17-45fe-bf4a-bbb3eaf99ca5",
   "metadata": {},
   "source": [
    "## Historical earthquakes"
   ]
  },
  {
   "cell_type": "markdown",
   "id": "8fb9fe6c-af62-4b9a-9c36-7bbe14adedb2",
   "metadata": {},
   "source": [
    "#### L.A. area quakes >= 5 magnitude from USGS [earthquake catalog](https://earthquake.usgs.gov/earthquakes/search/)"
   ]
  },
  {
   "cell_type": "code",
   "execution_count": 25,
   "id": "fa091814-1b07-42b6-b635-69bbb53ab9cb",
   "metadata": {},
   "outputs": [],
   "source": [
    "with open(\"../data/geo/query.json\") as f:\n",
    "    gj = geojson.load(f)"
   ]
  },
  {
   "cell_type": "code",
   "execution_count": 26,
   "id": "59607fce-942c-4912-8aa9-f28a84eb1d80",
   "metadata": {},
   "outputs": [],
   "source": [
    "features = gj[\"features\"]"
   ]
  },
  {
   "cell_type": "code",
   "execution_count": 27,
   "id": "adfe63c5-05f9-401b-b4dd-596dd06885a7",
   "metadata": {},
   "outputs": [],
   "source": [
    "la_quakes_gdf = gpd.GeoDataFrame(features)"
   ]
  },
  {
   "cell_type": "markdown",
   "id": "d64ad5ac-0534-41a4-9473-51dd3db99035",
   "metadata": {},
   "source": [
    "#### Unpack nested properties"
   ]
  },
  {
   "cell_type": "code",
   "execution_count": 29,
   "id": "9de1d901-0bb3-41db-bc0a-a1d869c168c8",
   "metadata": {},
   "outputs": [],
   "source": [
    "la_quakes_gdf[\n",
    "    [\n",
    "        \"mag\",\n",
    "        \"place\",\n",
    "        \"time\",\n",
    "        \"updated\",\n",
    "        \"tz\",\n",
    "        \"url\",\n",
    "        \"detail\",\n",
    "        \"felt\",\n",
    "        \"cdi\",\n",
    "        \"mmi\",\n",
    "        \"alert\",\n",
    "        \"status\",\n",
    "        \"tsunami\",\n",
    "        \"sig\",\n",
    "        \"net\",\n",
    "        \"code\",\n",
    "        \"ids\",\n",
    "        \"sources\",\n",
    "        \"types\",\n",
    "        \"nst\",\n",
    "        \"dmin\",\n",
    "        \"rms\",\n",
    "        \"gap\",\n",
    "        \"magType\",\n",
    "        \"type\",\n",
    "        \"title\",\n",
    "    ]\n",
    "] = pd.json_normalize(la_quakes_gdf[\"properties\"])"
   ]
  },
  {
   "cell_type": "code",
   "execution_count": 30,
   "id": "30febda0-2325-4d48-8c2f-8a549fe1b083",
   "metadata": {},
   "outputs": [],
   "source": [
    "la_quakes_gdf[\"year\"] = pd.to_datetime(la_quakes_gdf[\"time\"], unit=\"ms\").dt.strftime(\n",
    "    \"%Y\"\n",
    ")\n",
    "la_quakes_gdf[\"date\"] = pd.to_datetime(la_quakes_gdf[\"time\"], unit=\"ms\").dt.strftime(\n",
    "    \"%Y-%m-%d\"\n",
    ")"
   ]
  },
  {
   "cell_type": "code",
   "execution_count": 31,
   "id": "5f7fc761-e28c-4ba7-9e06-3be9b8225306",
   "metadata": {},
   "outputs": [],
   "source": [
    "la_quakes_gdf.drop(\n",
    "    [\n",
    "        \"properties\",\n",
    "        \"type\",\n",
    "        \"updated\",\n",
    "        \"tz\",\n",
    "        \"url\",\n",
    "        \"detail\",\n",
    "        \"status\",\n",
    "        \"net\",\n",
    "        \"code\",\n",
    "        \"ids\",\n",
    "        \"sources\",\n",
    "        \"types\",\n",
    "        \"alert\",\n",
    "    ],\n",
    "    axis=1,\n",
    "    inplace=True,\n",
    ")"
   ]
  },
  {
   "cell_type": "code",
   "execution_count": 32,
   "id": "a400f42e-6c5c-47db-94f7-076fa8d0605b",
   "metadata": {},
   "outputs": [
    {
     "data": {
      "text/plain": [
       "<AxesSubplot:>"
      ]
     },
     "execution_count": 32,
     "metadata": {},
     "output_type": "execute_result"
    },
    {
     "data": {
      "image/png": "[encoded data removed]",
      "text/plain": [
       "<Figure size 432x288 with 1 Axes>"
      ]
     },
     "metadata": {
      "needs_background": "light"
     },
     "output_type": "display_data"
    }
   ],
   "source": [
    "la_quakes_gdf.plot()"
   ]
  },
  {
   "cell_type": "code",
   "execution_count": 33,
   "id": "50b2affb-c358-4c56-9bf4-428cbe6da7a0",
   "metadata": {},
   "outputs": [],
   "source": [
    "la_quakes_gdf[\"latitude\"] = la_quakes_gdf[\"geometry\"].x\n",
    "la_quakes_gdf[\"longitude\"] = la_quakes_gdf[\"geometry\"].y"
   ]
  },
  {
   "cell_type": "code",
   "execution_count": 34,
   "id": "7ab0a3cb-e10e-465f-aabc-d9f4e0aa5aa1",
   "metadata": {},
   "outputs": [],
   "source": [
    "la_quakes_gdf = la_quakes_gdf[\n",
    "    [\n",
    "        \"id\",\n",
    "        \"mag\",\n",
    "        \"place\",\n",
    "        \"year\",\n",
    "        \"date\",\n",
    "        \"latitude\",\n",
    "        \"longitude\",\n",
    "        \"title\",\n",
    "        \"geometry\",\n",
    "    ]\n",
    "]"
   ]
  },
  {
   "cell_type": "code",
   "execution_count": 35,
   "id": "31011e85-fe92-4f30-977a-b58a82be5922",
   "metadata": {},
   "outputs": [
    {
     "data": {
      "text/html": [
       "<div>\n",
       "<style scoped>\n",
       "    .dataframe tbody tr th:only-of-type {\n",
       "        vertical-align: middle;\n",
       "    }\n",
       "\n",
       "    .dataframe tbody tr th {\n",
       "        vertical-align: top;\n",
       "    }\n",
       "\n",
       "    .dataframe thead th {\n",
       "        text-align: right;\n",
       "    }\n",
       "</style>\n",
       "<table border=\"1\" class=\"dataframe\">\n",
       "  <thead>\n",
       "    <tr style=\"text-align: right;\">\n",
       "      <th></th>\n",
       "      <th>id</th>\n",
       "      <th>mag</th>\n",
       "      <th>place</th>\n",
       "      <th>year</th>\n",
       "      <th>date</th>\n",
       "      <th>latitude</th>\n",
       "      <th>longitude</th>\n",
       "      <th>title</th>\n",
       "      <th>geometry</th>\n",
       "    </tr>\n",
       "  </thead>\n",
       "  <tbody>\n",
       "    <tr>\n",
       "      <th>0</th>\n",
       "      <td>ci40243288</td>\n",
       "      <td>3.62</td>\n",
       "      <td>7km NE of Imperial, CA</td>\n",
       "      <td>2022</td>\n",
       "      <td>2022-04-21</td>\n",
       "      <td>-115.512667</td>\n",
       "      <td>32.892167</td>\n",
       "      <td>M 3.6 - 7km NE of Imperial, CA</td>\n",
       "      <td>POINT Z (-115.51267 32.89217 13.89000)</td>\n",
       "    </tr>\n",
       "    <tr>\n",
       "      <th>1</th>\n",
       "      <td>ci40242720</td>\n",
       "      <td>3.27</td>\n",
       "      <td>7km SSE of Brawley, CA</td>\n",
       "      <td>2022</td>\n",
       "      <td>2022-04-20</td>\n",
       "      <td>-115.513167</td>\n",
       "      <td>32.917000</td>\n",
       "      <td>M 3.3 - 7km SSE of Brawley, CA</td>\n",
       "      <td>POINT Z (-115.51317 32.91700 11.34000)</td>\n",
       "    </tr>\n",
       "    <tr>\n",
       "      <th>2</th>\n",
       "      <td>ci40241880</td>\n",
       "      <td>3.41</td>\n",
       "      <td>7km SSE of Brawley, CA</td>\n",
       "      <td>2022</td>\n",
       "      <td>2022-04-20</td>\n",
       "      <td>-115.510667</td>\n",
       "      <td>32.916833</td>\n",
       "      <td>M 3.4 - 7km SSE of Brawley, CA</td>\n",
       "      <td>POINT Z (-115.51067 32.91683 13.80000)</td>\n",
       "    </tr>\n",
       "    <tr>\n",
       "      <th>3</th>\n",
       "      <td>ci40241816</td>\n",
       "      <td>3.29</td>\n",
       "      <td>7km S of Brawley, CA</td>\n",
       "      <td>2022</td>\n",
       "      <td>2022-04-20</td>\n",
       "      <td>-115.517167</td>\n",
       "      <td>32.915000</td>\n",
       "      <td>M 3.3 - 7km S of Brawley, CA</td>\n",
       "      <td>POINT Z (-115.51717 32.91500 7.69000)</td>\n",
       "    </tr>\n",
       "    <tr>\n",
       "      <th>4</th>\n",
       "      <td>ci40241440</td>\n",
       "      <td>3.72</td>\n",
       "      <td>8km SSE of Brawley, CA</td>\n",
       "      <td>2022</td>\n",
       "      <td>2022-04-19</td>\n",
       "      <td>-115.513500</td>\n",
       "      <td>32.909833</td>\n",
       "      <td>M 3.7 - 8km SSE of Brawley, CA</td>\n",
       "      <td>POINT Z (-115.51350 32.90983 15.55000)</td>\n",
       "    </tr>\n",
       "  </tbody>\n",
       "</table>\n",
       "</div>"
      ],
      "text/plain": [
       "           id   mag                   place  year        date    latitude  \\\n",
       "0  ci40243288  3.62  7km NE of Imperial, CA  2022  2022-04-21 -115.512667   \n",
       "1  ci40242720  3.27  7km SSE of Brawley, CA  2022  2022-04-20 -115.513167   \n",
       "2  ci40241880  3.41  7km SSE of Brawley, CA  2022  2022-04-20 -115.510667   \n",
       "3  ci40241816  3.29    7km S of Brawley, CA  2022  2022-04-20 -115.517167   \n",
       "4  ci40241440  3.72  8km SSE of Brawley, CA  2022  2022-04-19 -115.513500   \n",
       "\n",
       "   longitude                           title  \\\n",
       "0  32.892167  M 3.6 - 7km NE of Imperial, CA   \n",
       "1  32.917000  M 3.3 - 7km SSE of Brawley, CA   \n",
       "2  32.916833  M 3.4 - 7km SSE of Brawley, CA   \n",
       "3  32.915000    M 3.3 - 7km S of Brawley, CA   \n",
       "4  32.909833  M 3.7 - 8km SSE of Brawley, CA   \n",
       "\n",
       "                                 geometry  \n",
       "0  POINT Z (-115.51267 32.89217 13.89000)  \n",
       "1  POINT Z (-115.51317 32.91700 11.34000)  \n",
       "2  POINT Z (-115.51067 32.91683 13.80000)  \n",
       "3   POINT Z (-115.51717 32.91500 7.69000)  \n",
       "4  POINT Z (-115.51350 32.90983 15.55000)  "
      ]
     },
     "execution_count": 35,
     "metadata": {},
     "output_type": "execute_result"
    }
   ],
   "source": [
    "la_quakes_gdf.head()"
   ]
  },
  {
   "cell_type": "markdown",
   "id": "8ffbf983-4fd2-4993-8940-a7206a806416",
   "metadata": {},
   "source": [
    "---"
   ]
  },
  {
   "cell_type": "markdown",
   "id": "f7371495-9a8f-4cc1-b456-40d806322008",
   "metadata": {},
   "source": [
    "## Export"
   ]
  },
  {
   "cell_type": "code",
   "execution_count": 36,
   "id": "8d828164-c0f7-4f36-911a-e8a052ab963d",
   "metadata": {},
   "outputs": [],
   "source": [
    "northridge_src_slim.to_file(\n",
    "    \"../../usc/data/geo/northridge_quake_boundaries.geojson\", driver=\"GeoJSON\"\n",
    ")"
   ]
  },
  {
   "cell_type": "code",
   "execution_count": 37,
   "id": "e461cefc-507e-45dc-bcfc-0aa19d06648d",
   "metadata": {},
   "outputs": [],
   "source": [
    "la_quakes_gdf.to_file(\n",
    "    \"../../usc/data/geo/la-area-quakes-1950-2022.geojson\", driver=\"GeoJSON\"\n",
    ")"
   ]
  }
 ],
 "metadata": {
  "kernelspec": {
   "display_name": "Python 3",
   "language": "python",
   "name": "python3"
  },
  "language_info": {
   "codemirror_mode": {
    "name": "ipython",
    "version": 3
   },
   "file_extension": ".py",
   "mimetype": "text/x-python",
   "name": "python",
   "nbconvert_exporter": "python",
   "pygments_lexer": "ipython3",
   "version": "3.8.8"
  }
 },
 "nbformat": 4,
 "nbformat_minor": 5
}
