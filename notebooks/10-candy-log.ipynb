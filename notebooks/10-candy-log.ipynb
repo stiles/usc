{
 "cells": [
  {
   "cell_type": "markdown",
   "id": "98077971-87b9-4dfc-9afe-06ed3f92a28f",
   "metadata": {},
   "source": [
    "# Week 14: Family candy log!"
   ]
  },
  {
   "cell_type": "markdown",
   "id": "56bdb0a6-14f7-4a3a-ae63-5cda7fe20769",
   "metadata": {},
   "source": [
    "### Import Python tools"
   ]
  },
  {
   "cell_type": "code",
   "execution_count": 1,
   "id": "cc685e28-9135-4491-9828-29f92d5da8b2",
   "metadata": {},
   "outputs": [],
   "source": [
    "%load_ext lab_black"
   ]
  },
  {
   "cell_type": "code",
   "execution_count": 2,
   "id": "d666d874-777f-418b-8209-01db32eb2548",
   "metadata": {},
   "outputs": [],
   "source": [
    "import pandas as pd"
   ]
  },
  {
   "cell_type": "code",
   "execution_count": 3,
   "id": "0abd3f12-b52e-463a-99ce-858aff276091",
   "metadata": {},
   "outputs": [],
   "source": [
    "# CSV from here: https://docs.google.com/spreadsheets/d/1GZrzx0_JyspsGtEuWydBCXdVOH-8HwWdK1veLh9nf5g/edit?usp=sharing"
   ]
  },
  {
   "cell_type": "code",
   "execution_count": 4,
   "id": "e36806de-e009-4766-bff6-fe7dee9f527c",
   "metadata": {},
   "outputs": [],
   "source": [
    "url = \"https://docs.google.com/spreadsheets/d/e/\\\n",
    "2PACX-1vR4fIh1zczPJQ959IKxT_qcJWor3_37lmaq9UXm0UMN9DhGb-7yh3yUjBh4VAzaTUpGaU2ZozPb4M4f/\\\n",
    "pub?gid=0&single=true&output=csv\""
   ]
  },
  {
   "cell_type": "code",
   "execution_count": 5,
   "id": "18f19b6b-1110-4c86-b50f-7c9768e82b77",
   "metadata": {},
   "outputs": [],
   "source": [
    "df = pd.read_csv(url)"
   ]
  },
  {
   "cell_type": "markdown",
   "id": "c938d924-2bcd-4ab0-a2d7-4f2f745e4f32",
   "metadata": {},
   "source": [
    "### First five rows"
   ]
  },
  {
   "cell_type": "code",
   "execution_count": 6,
   "id": "975a2f25-7121-4acc-bcaf-e9fadd64e62a",
   "metadata": {},
   "outputs": [
    {
     "data": {
      "text/html": [
       "<div>\n",
       "<style scoped>\n",
       "    .dataframe tbody tr th:only-of-type {\n",
       "        vertical-align: middle;\n",
       "    }\n",
       "\n",
       "    .dataframe tbody tr th {\n",
       "        vertical-align: top;\n",
       "    }\n",
       "\n",
       "    .dataframe thead th {\n",
       "        text-align: right;\n",
       "    }\n",
       "</style>\n",
       "<table border=\"1\" class=\"dataframe\">\n",
       "  <thead>\n",
       "    <tr style=\"text-align: right;\">\n",
       "      <th></th>\n",
       "      <th>user</th>\n",
       "      <th>brand</th>\n",
       "      <th>package_color</th>\n",
       "      <th>type</th>\n",
       "      <th>peanuts</th>\n",
       "      <th>user_rating</th>\n",
       "    </tr>\n",
       "  </thead>\n",
       "  <tbody>\n",
       "    <tr>\n",
       "      <th>0</th>\n",
       "      <td>1</td>\n",
       "      <td>Dove</td>\n",
       "      <td>blue</td>\n",
       "      <td>bars</td>\n",
       "      <td>False</td>\n",
       "      <td>9</td>\n",
       "    </tr>\n",
       "    <tr>\n",
       "      <th>1</th>\n",
       "      <td>2</td>\n",
       "      <td>Dove</td>\n",
       "      <td>blue</td>\n",
       "      <td>bars</td>\n",
       "      <td>False</td>\n",
       "      <td>5</td>\n",
       "    </tr>\n",
       "    <tr>\n",
       "      <th>2</th>\n",
       "      <td>3</td>\n",
       "      <td>Dove</td>\n",
       "      <td>blue</td>\n",
       "      <td>bars</td>\n",
       "      <td>False</td>\n",
       "      <td>3</td>\n",
       "    </tr>\n",
       "    <tr>\n",
       "      <th>3</th>\n",
       "      <td>4</td>\n",
       "      <td>M&amp;Ms</td>\n",
       "      <td>brown</td>\n",
       "      <td>candies</td>\n",
       "      <td>False</td>\n",
       "      <td>1</td>\n",
       "    </tr>\n",
       "    <tr>\n",
       "      <th>4</th>\n",
       "      <td>5</td>\n",
       "      <td>M&amp;Ms</td>\n",
       "      <td>brown</td>\n",
       "      <td>candies</td>\n",
       "      <td>False</td>\n",
       "      <td>1</td>\n",
       "    </tr>\n",
       "  </tbody>\n",
       "</table>\n",
       "</div>"
      ],
      "text/plain": [
       "   user brand package_color     type  peanuts  user_rating\n",
       "0     1  Dove          blue     bars    False            9\n",
       "1     2  Dove          blue     bars    False            5\n",
       "2     3  Dove          blue     bars    False            3\n",
       "3     4  M&Ms         brown  candies    False            1\n",
       "4     5  M&Ms         brown  candies    False            1"
      ]
     },
     "execution_count": 6,
     "metadata": {},
     "output_type": "execute_result"
    }
   ],
   "source": [
    "df.head()"
   ]
  },
  {
   "cell_type": "markdown",
   "id": "381d1780-ead2-4bfb-bc72-fe25df4dbd6c",
   "metadata": {},
   "source": [
    "### Last five rows"
   ]
  },
  {
   "cell_type": "code",
   "execution_count": 7,
   "id": "c060a8d1-d05a-44f7-9998-98d336180672",
   "metadata": {},
   "outputs": [],
   "source": [
    "df.tail()"
   ]
  },
  {
   "cell_type": "markdown",
   "id": "c8f641ad-88fd-43fd-a590-9f13545e503f",
   "metadata": {},
   "source": [
    "### How many records? "
   ]
  },
  {
   "cell_type": "code",
   "execution_count": 13,
   "id": "ffda9636-d33f-40e1-9b37-f97df4c83dab",
   "metadata": {},
   "outputs": [
    {
     "data": {
      "text/plain": [
       "27"
      ]
     },
     "execution_count": 13,
     "metadata": {},
     "output_type": "execute_result"
    }
   ],
   "source": [
    "len(df)"
   ]
  },
  {
   "cell_type": "markdown",
   "id": "a3224881-acca-4c1c-a77c-020af35456aa",
   "metadata": {},
   "source": [
    "### Just those with peanuts"
   ]
  },
  {
   "cell_type": "code",
   "execution_count": 14,
   "id": "7b68050a-b408-4a01-b461-405cd3781ba9",
   "metadata": {},
   "outputs": [
    {
     "data": {
      "text/html": [
       "<div>\n",
       "<style scoped>\n",
       "    .dataframe tbody tr th:only-of-type {\n",
       "        vertical-align: middle;\n",
       "    }\n",
       "\n",
       "    .dataframe tbody tr th {\n",
       "        vertical-align: top;\n",
       "    }\n",
       "\n",
       "    .dataframe thead th {\n",
       "        text-align: right;\n",
       "    }\n",
       "</style>\n",
       "<table border=\"1\" class=\"dataframe\">\n",
       "  <thead>\n",
       "    <tr style=\"text-align: right;\">\n",
       "      <th></th>\n",
       "      <th>user</th>\n",
       "      <th>brand</th>\n",
       "      <th>package_color</th>\n",
       "      <th>type</th>\n",
       "      <th>peanuts</th>\n",
       "      <th>user_rating</th>\n",
       "    </tr>\n",
       "  </thead>\n",
       "  <tbody>\n",
       "    <tr>\n",
       "      <th>21</th>\n",
       "      <td>22</td>\n",
       "      <td>Snickers</td>\n",
       "      <td>brown</td>\n",
       "      <td>bars</td>\n",
       "      <td>True</td>\n",
       "      <td>5</td>\n",
       "    </tr>\n",
       "    <tr>\n",
       "      <th>22</th>\n",
       "      <td>23</td>\n",
       "      <td>Snickers</td>\n",
       "      <td>brown</td>\n",
       "      <td>bars</td>\n",
       "      <td>True</td>\n",
       "      <td>5</td>\n",
       "    </tr>\n",
       "    <tr>\n",
       "      <th>23</th>\n",
       "      <td>24</td>\n",
       "      <td>Snickers</td>\n",
       "      <td>brown</td>\n",
       "      <td>bars</td>\n",
       "      <td>True</td>\n",
       "      <td>4</td>\n",
       "    </tr>\n",
       "    <tr>\n",
       "      <th>24</th>\n",
       "      <td>25</td>\n",
       "      <td>Snickers</td>\n",
       "      <td>brown</td>\n",
       "      <td>bars</td>\n",
       "      <td>True</td>\n",
       "      <td>8</td>\n",
       "    </tr>\n",
       "    <tr>\n",
       "      <th>25</th>\n",
       "      <td>26</td>\n",
       "      <td>Snickers</td>\n",
       "      <td>brown</td>\n",
       "      <td>bars</td>\n",
       "      <td>True</td>\n",
       "      <td>9</td>\n",
       "    </tr>\n",
       "    <tr>\n",
       "      <th>26</th>\n",
       "      <td>27</td>\n",
       "      <td>Snickers</td>\n",
       "      <td>brown</td>\n",
       "      <td>bars</td>\n",
       "      <td>True</td>\n",
       "      <td>7</td>\n",
       "    </tr>\n",
       "  </tbody>\n",
       "</table>\n",
       "</div>"
      ],
      "text/plain": [
       "    user     brand package_color  type  peanuts  user_rating\n",
       "21    22  Snickers         brown  bars     True            5\n",
       "22    23  Snickers         brown  bars     True            5\n",
       "23    24  Snickers         brown  bars     True            4\n",
       "24    25  Snickers         brown  bars     True            8\n",
       "25    26  Snickers         brown  bars     True            9\n",
       "26    27  Snickers         brown  bars     True            7"
      ]
     },
     "execution_count": 14,
     "metadata": {},
     "output_type": "execute_result"
    }
   ],
   "source": [
    "df[df[\"peanuts\"] == True]"
   ]
  },
  {
   "cell_type": "markdown",
   "id": "3a149fa2-e2de-46bc-b817-250a6497e5f4",
   "metadata": {},
   "source": [
    "### Just those with a user rating above 5"
   ]
  },
  {
   "cell_type": "code",
   "execution_count": 16,
   "id": "b13afbfa-3129-4ea5-9163-ef5b67004f0f",
   "metadata": {},
   "outputs": [
    {
     "data": {
      "text/html": [
       "<div>\n",
       "<style scoped>\n",
       "    .dataframe tbody tr th:only-of-type {\n",
       "        vertical-align: middle;\n",
       "    }\n",
       "\n",
       "    .dataframe tbody tr th {\n",
       "        vertical-align: top;\n",
       "    }\n",
       "\n",
       "    .dataframe thead th {\n",
       "        text-align: right;\n",
       "    }\n",
       "</style>\n",
       "<table border=\"1\" class=\"dataframe\">\n",
       "  <thead>\n",
       "    <tr style=\"text-align: right;\">\n",
       "      <th></th>\n",
       "      <th>user</th>\n",
       "      <th>brand</th>\n",
       "      <th>package_color</th>\n",
       "      <th>type</th>\n",
       "      <th>peanuts</th>\n",
       "      <th>user_rating</th>\n",
       "    </tr>\n",
       "  </thead>\n",
       "  <tbody>\n",
       "    <tr>\n",
       "      <th>0</th>\n",
       "      <td>1</td>\n",
       "      <td>Dove</td>\n",
       "      <td>blue</td>\n",
       "      <td>bars</td>\n",
       "      <td>False</td>\n",
       "      <td>9</td>\n",
       "    </tr>\n",
       "    <tr>\n",
       "      <th>5</th>\n",
       "      <td>6</td>\n",
       "      <td>M&amp;Ms</td>\n",
       "      <td>brown</td>\n",
       "      <td>candies</td>\n",
       "      <td>False</td>\n",
       "      <td>8</td>\n",
       "    </tr>\n",
       "    <tr>\n",
       "      <th>6</th>\n",
       "      <td>7</td>\n",
       "      <td>M&amp;Ms</td>\n",
       "      <td>brown</td>\n",
       "      <td>candies</td>\n",
       "      <td>False</td>\n",
       "      <td>8</td>\n",
       "    </tr>\n",
       "    <tr>\n",
       "      <th>7</th>\n",
       "      <td>8</td>\n",
       "      <td>Milky Way</td>\n",
       "      <td>gold</td>\n",
       "      <td>bars</td>\n",
       "      <td>False</td>\n",
       "      <td>10</td>\n",
       "    </tr>\n",
       "    <tr>\n",
       "      <th>10</th>\n",
       "      <td>11</td>\n",
       "      <td>Milky Way</td>\n",
       "      <td>gold</td>\n",
       "      <td>bars</td>\n",
       "      <td>False</td>\n",
       "      <td>10</td>\n",
       "    </tr>\n",
       "    <tr>\n",
       "      <th>13</th>\n",
       "      <td>14</td>\n",
       "      <td>Milky Way</td>\n",
       "      <td>gold</td>\n",
       "      <td>bars</td>\n",
       "      <td>False</td>\n",
       "      <td>9</td>\n",
       "    </tr>\n",
       "    <tr>\n",
       "      <th>16</th>\n",
       "      <td>17</td>\n",
       "      <td>Skittles</td>\n",
       "      <td>red</td>\n",
       "      <td>candies</td>\n",
       "      <td>False</td>\n",
       "      <td>10</td>\n",
       "    </tr>\n",
       "    <tr>\n",
       "      <th>17</th>\n",
       "      <td>18</td>\n",
       "      <td>Skittles</td>\n",
       "      <td>red</td>\n",
       "      <td>candies</td>\n",
       "      <td>False</td>\n",
       "      <td>10</td>\n",
       "    </tr>\n",
       "    <tr>\n",
       "      <th>18</th>\n",
       "      <td>19</td>\n",
       "      <td>Skittles</td>\n",
       "      <td>red</td>\n",
       "      <td>candies</td>\n",
       "      <td>False</td>\n",
       "      <td>8</td>\n",
       "    </tr>\n",
       "    <tr>\n",
       "      <th>19</th>\n",
       "      <td>20</td>\n",
       "      <td>Skittles</td>\n",
       "      <td>red</td>\n",
       "      <td>candies</td>\n",
       "      <td>False</td>\n",
       "      <td>7</td>\n",
       "    </tr>\n",
       "    <tr>\n",
       "      <th>20</th>\n",
       "      <td>21</td>\n",
       "      <td>Skittles</td>\n",
       "      <td>red</td>\n",
       "      <td>candies</td>\n",
       "      <td>False</td>\n",
       "      <td>8</td>\n",
       "    </tr>\n",
       "    <tr>\n",
       "      <th>24</th>\n",
       "      <td>25</td>\n",
       "      <td>Snickers</td>\n",
       "      <td>brown</td>\n",
       "      <td>bars</td>\n",
       "      <td>True</td>\n",
       "      <td>8</td>\n",
       "    </tr>\n",
       "    <tr>\n",
       "      <th>25</th>\n",
       "      <td>26</td>\n",
       "      <td>Snickers</td>\n",
       "      <td>brown</td>\n",
       "      <td>bars</td>\n",
       "      <td>True</td>\n",
       "      <td>9</td>\n",
       "    </tr>\n",
       "    <tr>\n",
       "      <th>26</th>\n",
       "      <td>27</td>\n",
       "      <td>Snickers</td>\n",
       "      <td>brown</td>\n",
       "      <td>bars</td>\n",
       "      <td>True</td>\n",
       "      <td>7</td>\n",
       "    </tr>\n",
       "  </tbody>\n",
       "</table>\n",
       "</div>"
      ],
      "text/plain": [
       "    user      brand package_color     type  peanuts  user_rating\n",
       "0      1       Dove          blue     bars    False            9\n",
       "5      6       M&Ms         brown  candies    False            8\n",
       "6      7       M&Ms         brown  candies    False            8\n",
       "7      8  Milky Way          gold     bars    False           10\n",
       "10    11  Milky Way          gold     bars    False           10\n",
       "13    14  Milky Way          gold     bars    False            9\n",
       "16    17   Skittles           red  candies    False           10\n",
       "17    18   Skittles           red  candies    False           10\n",
       "18    19   Skittles           red  candies    False            8\n",
       "19    20   Skittles           red  candies    False            7\n",
       "20    21   Skittles           red  candies    False            8\n",
       "24    25   Snickers         brown     bars     True            8\n",
       "25    26   Snickers         brown     bars     True            9\n",
       "26    27   Snickers         brown     bars     True            7"
      ]
     },
     "execution_count": 16,
     "metadata": {},
     "output_type": "execute_result"
    }
   ],
   "source": [
    "df[df[\"user_rating\"] > 5]"
   ]
  },
  {
   "cell_type": "markdown",
   "id": "dda3eb85-5973-4455-aa31-bd869d43be45",
   "metadata": {},
   "source": [
    "---"
   ]
  },
  {
   "cell_type": "markdown",
   "id": "545949b0-0085-44ab-ac1e-2d9fc654c84c",
   "metadata": {},
   "source": [
    "### How many of each brand? "
   ]
  },
  {
   "cell_type": "code",
   "execution_count": 8,
   "id": "96e378e3-299d-4ff4-9d81-599764c5206f",
   "metadata": {},
   "outputs": [
    {
     "data": {
      "text/html": [
       "<div>\n",
       "<style scoped>\n",
       "    .dataframe tbody tr th:only-of-type {\n",
       "        vertical-align: middle;\n",
       "    }\n",
       "\n",
       "    .dataframe tbody tr th {\n",
       "        vertical-align: top;\n",
       "    }\n",
       "\n",
       "    .dataframe thead th {\n",
       "        text-align: right;\n",
       "    }\n",
       "</style>\n",
       "<table border=\"1\" class=\"dataframe\">\n",
       "  <thead>\n",
       "    <tr style=\"text-align: right;\">\n",
       "      <th></th>\n",
       "      <th>brand</th>\n",
       "      <th>user</th>\n",
       "    </tr>\n",
       "  </thead>\n",
       "  <tbody>\n",
       "    <tr>\n",
       "      <th>0</th>\n",
       "      <td>Dove</td>\n",
       "      <td>3</td>\n",
       "    </tr>\n",
       "    <tr>\n",
       "      <th>1</th>\n",
       "      <td>M&amp;Ms</td>\n",
       "      <td>4</td>\n",
       "    </tr>\n",
       "    <tr>\n",
       "      <th>2</th>\n",
       "      <td>Milky Way</td>\n",
       "      <td>8</td>\n",
       "    </tr>\n",
       "    <tr>\n",
       "      <th>3</th>\n",
       "      <td>Skittles</td>\n",
       "      <td>6</td>\n",
       "    </tr>\n",
       "    <tr>\n",
       "      <th>4</th>\n",
       "      <td>Snickers</td>\n",
       "      <td>6</td>\n",
       "    </tr>\n",
       "  </tbody>\n",
       "</table>\n",
       "</div>"
      ],
      "text/plain": [
       "       brand  user\n",
       "0       Dove     3\n",
       "1       M&Ms     4\n",
       "2  Milky Way     8\n",
       "3   Skittles     6\n",
       "4   Snickers     6"
      ]
     },
     "execution_count": 8,
     "metadata": {},
     "output_type": "execute_result"
    }
   ],
   "source": [
    "df.groupby([\"brand\"]).agg({\"user\": \"count\"}).reset_index()"
   ]
  },
  {
   "cell_type": "markdown",
   "id": "98bf9638-185a-4d33-b33b-b6216134c9b1",
   "metadata": {},
   "source": [
    "### How many of each color? "
   ]
  },
  {
   "cell_type": "code",
   "execution_count": 9,
   "id": "78f0f1fa-4042-47fb-b7a5-1bc37e8e5026",
   "metadata": {},
   "outputs": [
    {
     "data": {
      "text/html": [
       "<div>\n",
       "<style scoped>\n",
       "    .dataframe tbody tr th:only-of-type {\n",
       "        vertical-align: middle;\n",
       "    }\n",
       "\n",
       "    .dataframe tbody tr th {\n",
       "        vertical-align: top;\n",
       "    }\n",
       "\n",
       "    .dataframe thead th {\n",
       "        text-align: right;\n",
       "    }\n",
       "</style>\n",
       "<table border=\"1\" class=\"dataframe\">\n",
       "  <thead>\n",
       "    <tr style=\"text-align: right;\">\n",
       "      <th></th>\n",
       "      <th>package_color</th>\n",
       "      <th>user</th>\n",
       "    </tr>\n",
       "  </thead>\n",
       "  <tbody>\n",
       "    <tr>\n",
       "      <th>0</th>\n",
       "      <td>blue</td>\n",
       "      <td>3</td>\n",
       "    </tr>\n",
       "    <tr>\n",
       "      <th>1</th>\n",
       "      <td>brown</td>\n",
       "      <td>10</td>\n",
       "    </tr>\n",
       "    <tr>\n",
       "      <th>2</th>\n",
       "      <td>gold</td>\n",
       "      <td>8</td>\n",
       "    </tr>\n",
       "    <tr>\n",
       "      <th>3</th>\n",
       "      <td>red</td>\n",
       "      <td>6</td>\n",
       "    </tr>\n",
       "  </tbody>\n",
       "</table>\n",
       "</div>"
      ],
      "text/plain": [
       "  package_color  user\n",
       "0          blue     3\n",
       "1         brown    10\n",
       "2          gold     8\n",
       "3           red     6"
      ]
     },
     "execution_count": 9,
     "metadata": {},
     "output_type": "execute_result"
    }
   ],
   "source": [
    "df.groupby([\"package_color\"]).agg({\"user\": \"count\"}).reset_index()"
   ]
  },
  {
   "cell_type": "markdown",
   "id": "191d2c01-297e-4235-82ff-8e4f10870bc6",
   "metadata": {},
   "source": [
    "### What's the average user rating for each brand? "
   ]
  },
  {
   "cell_type": "code",
   "execution_count": 10,
   "id": "fd83d9da-6e54-4a65-ab61-4ae007a0c86c",
   "metadata": {},
   "outputs": [
    {
     "data": {
      "text/html": [
       "<div>\n",
       "<style scoped>\n",
       "    .dataframe tbody tr th:only-of-type {\n",
       "        vertical-align: middle;\n",
       "    }\n",
       "\n",
       "    .dataframe tbody tr th {\n",
       "        vertical-align: top;\n",
       "    }\n",
       "\n",
       "    .dataframe thead th {\n",
       "        text-align: right;\n",
       "    }\n",
       "</style>\n",
       "<table border=\"1\" class=\"dataframe\">\n",
       "  <thead>\n",
       "    <tr style=\"text-align: right;\">\n",
       "      <th></th>\n",
       "      <th>brand</th>\n",
       "      <th>user_rating</th>\n",
       "    </tr>\n",
       "  </thead>\n",
       "  <tbody>\n",
       "    <tr>\n",
       "      <th>3</th>\n",
       "      <td>Skittles</td>\n",
       "      <td>8.00</td>\n",
       "    </tr>\n",
       "    <tr>\n",
       "      <th>2</th>\n",
       "      <td>Milky Way</td>\n",
       "      <td>6.62</td>\n",
       "    </tr>\n",
       "    <tr>\n",
       "      <th>4</th>\n",
       "      <td>Snickers</td>\n",
       "      <td>6.33</td>\n",
       "    </tr>\n",
       "    <tr>\n",
       "      <th>0</th>\n",
       "      <td>Dove</td>\n",
       "      <td>5.67</td>\n",
       "    </tr>\n",
       "    <tr>\n",
       "      <th>1</th>\n",
       "      <td>M&amp;Ms</td>\n",
       "      <td>4.50</td>\n",
       "    </tr>\n",
       "  </tbody>\n",
       "</table>\n",
       "</div>"
      ],
      "text/plain": [
       "       brand  user_rating\n",
       "3   Skittles         8.00\n",
       "2  Milky Way         6.62\n",
       "4   Snickers         6.33\n",
       "0       Dove         5.67\n",
       "1       M&Ms         4.50"
      ]
     },
     "execution_count": 10,
     "metadata": {},
     "output_type": "execute_result"
    }
   ],
   "source": [
    "df.groupby([\"brand\"]).agg({\"user_rating\": \"mean\"}).round(2).reset_index().sort_values(\n",
    "    \"user_rating\", ascending=False\n",
    ")"
   ]
  },
  {
   "cell_type": "markdown",
   "id": "a3cbe9a8-1700-4407-9d0a-e1cf952398ba",
   "metadata": {},
   "source": [
    "### What's the average rating for products related to peanuts? "
   ]
  },
  {
   "cell_type": "code",
   "execution_count": 11,
   "id": "798a579d-ee82-494f-97af-b6137cd27222",
   "metadata": {},
   "outputs": [
    {
     "data": {
      "text/html": [
       "<div>\n",
       "<style scoped>\n",
       "    .dataframe tbody tr th:only-of-type {\n",
       "        vertical-align: middle;\n",
       "    }\n",
       "\n",
       "    .dataframe tbody tr th {\n",
       "        vertical-align: top;\n",
       "    }\n",
       "\n",
       "    .dataframe thead th {\n",
       "        text-align: right;\n",
       "    }\n",
       "</style>\n",
       "<table border=\"1\" class=\"dataframe\">\n",
       "  <thead>\n",
       "    <tr style=\"text-align: right;\">\n",
       "      <th></th>\n",
       "      <th>peanuts</th>\n",
       "      <th>user_rating</th>\n",
       "    </tr>\n",
       "  </thead>\n",
       "  <tbody>\n",
       "    <tr>\n",
       "      <th>0</th>\n",
       "      <td>False</td>\n",
       "      <td>6.48</td>\n",
       "    </tr>\n",
       "    <tr>\n",
       "      <th>1</th>\n",
       "      <td>True</td>\n",
       "      <td>6.33</td>\n",
       "    </tr>\n",
       "  </tbody>\n",
       "</table>\n",
       "</div>"
      ],
      "text/plain": [
       "   peanuts  user_rating\n",
       "0    False         6.48\n",
       "1     True         6.33"
      ]
     },
     "execution_count": 11,
     "metadata": {},
     "output_type": "execute_result"
    }
   ],
   "source": [
    "df.groupby([\"peanuts\"]).agg({\"user_rating\": \"mean\"}).round(2).reset_index()"
   ]
  },
  {
   "cell_type": "markdown",
   "id": "01783267-747e-4ce0-a156-bae562597f28",
   "metadata": {},
   "source": [
    "### What's the average rating for products related to peanuts? "
   ]
  },
  {
   "cell_type": "code",
   "execution_count": 12,
   "id": "a3f875f8-bb43-416a-bb1a-3f0191748dc1",
   "metadata": {},
   "outputs": [
    {
     "data": {
      "text/html": [
       "<div>\n",
       "<style scoped>\n",
       "    .dataframe tbody tr th:only-of-type {\n",
       "        vertical-align: middle;\n",
       "    }\n",
       "\n",
       "    .dataframe tbody tr th {\n",
       "        vertical-align: top;\n",
       "    }\n",
       "\n",
       "    .dataframe thead th {\n",
       "        text-align: right;\n",
       "    }\n",
       "</style>\n",
       "<table border=\"1\" class=\"dataframe\">\n",
       "  <thead>\n",
       "    <tr style=\"text-align: right;\">\n",
       "      <th></th>\n",
       "      <th>package_color</th>\n",
       "      <th>user_rating</th>\n",
       "    </tr>\n",
       "  </thead>\n",
       "  <tbody>\n",
       "    <tr>\n",
       "      <th>0</th>\n",
       "      <td>blue</td>\n",
       "      <td>5.67</td>\n",
       "    </tr>\n",
       "    <tr>\n",
       "      <th>1</th>\n",
       "      <td>brown</td>\n",
       "      <td>5.60</td>\n",
       "    </tr>\n",
       "    <tr>\n",
       "      <th>2</th>\n",
       "      <td>gold</td>\n",
       "      <td>6.62</td>\n",
       "    </tr>\n",
       "    <tr>\n",
       "      <th>3</th>\n",
       "      <td>red</td>\n",
       "      <td>8.00</td>\n",
       "    </tr>\n",
       "  </tbody>\n",
       "</table>\n",
       "</div>"
      ],
      "text/plain": [
       "  package_color  user_rating\n",
       "0          blue         5.67\n",
       "1         brown         5.60\n",
       "2          gold         6.62\n",
       "3           red         8.00"
      ]
     },
     "execution_count": 12,
     "metadata": {},
     "output_type": "execute_result"
    }
   ],
   "source": [
    "df.groupby([\"package_color\"]).agg({\"user_rating\": \"mean\"}).round(2).reset_index()"
   ]
  }
 ],
 "metadata": {
  "kernelspec": {
   "display_name": "Python 3",
   "language": "python",
   "name": "python3"
  },
  "language_info": {
   "codemirror_mode": {
    "name": "ipython",
    "version": 3
   },
   "file_extension": ".py",
   "mimetype": "text/x-python",
   "name": "python",
   "nbconvert_exporter": "python",
   "pygments_lexer": "ipython3",
   "version": "3.8.8"
  }
 },
 "nbformat": 4,
 "nbformat_minor": 5
}
