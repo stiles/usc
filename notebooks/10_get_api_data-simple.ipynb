{
 "cells": [
  {
   "cell_type": "markdown",
   "id": "de872774-504e-4e20-8ba5-8ab6691ebb3d",
   "metadata": {},
   "source": [
    "# Accessing data from an API"
   ]
  },
  {
   "cell_type": "markdown",
   "id": "2c84208b-1af7-49c4-9258-4ee2919f6900",
   "metadata": {},
   "source": [
    "This notebook has two simple excerises demonstrating how to extract data from an [Application Programming Interface](https://en.wikipedia.org/wiki/API). An API is a tool for computers or applications to interact with one another. In our case, we'll be asking for data, and the API will return it. These systems can be complicated, but most of those we might use in data journalism are relatively simple."
   ]
  },
  {
   "cell_type": "markdown",
   "id": "92e7b332-c581-4d4b-82f8-06aab829f80e",
   "metadata": {},
   "source": [
    "#### Import our data tools"
   ]
  },
  {
   "cell_type": "code",
   "execution_count": 1,
   "id": "e0719e5b-a9f3-46cf-a9fe-cc265c2c37a3",
   "metadata": {},
   "outputs": [],
   "source": [
    "%load_ext lab_black"
   ]
  },
  {
   "cell_type": "code",
   "execution_count": 2,
   "id": "54f28d60-f846-46c3-8c56-659a92e5806b",
   "metadata": {},
   "outputs": [],
   "source": [
    "import pandas as pd\n",
    "import requests"
   ]
  },
  {
   "cell_type": "code",
   "execution_count": 3,
   "id": "a61bdfc1-28d4-43e3-b11e-67fd894676b7",
   "metadata": {},
   "outputs": [],
   "source": [
    "pd.options.display.max_columns = 100\n",
    "pd.options.display.max_rows = 1000\n",
    "pd.options.display.max_colwidth = None"
   ]
  },
  {
   "cell_type": "markdown",
   "id": "58da4e76-be26-4247-8e82-385493b522eb",
   "metadata": {},
   "source": [
    "---"
   ]
  },
  {
   "cell_type": "markdown",
   "id": "0291ae2b-2543-48e3-843a-78cad1d3d3ce",
   "metadata": {},
   "source": [
    "## Cat facts!"
   ]
  },
  {
   "cell_type": "markdown",
   "id": "e0cd737e-d6b2-4621-bdef-b9f73c76cf2b",
   "metadata": {},
   "source": [
    "[Read the documentation](https://alexwohlbruck.github.io/cat-facts/docs/)"
   ]
  },
  {
   "cell_type": "markdown",
   "id": "6c247eb5-0900-496d-a70b-ae3fba351b21",
   "metadata": {},
   "source": [
    "#### Get random facts"
   ]
  },
  {
   "cell_type": "code",
   "execution_count": 4,
   "id": "34a6c553-5231-499b-8429-f7a507991443",
   "metadata": {},
   "outputs": [],
   "source": [
    "cat_df = pd.read_json(\n",
    "    \"https://cat-fact.herokuapp.com/facts/random?animal_type=cat&amount=500\"\n",
    ")"
   ]
  },
  {
   "cell_type": "markdown",
   "id": "1b799caa-637a-4011-9e18-c95d1f54f306",
   "metadata": {},
   "source": [
    "#### First five rows"
   ]
  },
  {
   "cell_type": "code",
   "execution_count": 5,
   "id": "63b91c0a-fa1e-42cf-934d-b7678842203f",
   "metadata": {},
   "outputs": [
    {
     "data": {
      "text/html": [
       "<div>\n",
       "<style scoped>\n",
       "    .dataframe tbody tr th:only-of-type {\n",
       "        vertical-align: middle;\n",
       "    }\n",
       "\n",
       "    .dataframe tbody tr th {\n",
       "        vertical-align: top;\n",
       "    }\n",
       "\n",
       "    .dataframe thead th {\n",
       "        text-align: right;\n",
       "    }\n",
       "</style>\n",
       "<table border=\"1\" class=\"dataframe\">\n",
       "  <thead>\n",
       "    <tr style=\"text-align: right;\">\n",
       "      <th></th>\n",
       "      <th>status</th>\n",
       "      <th>_id</th>\n",
       "      <th>updatedAt</th>\n",
       "      <th>createdAt</th>\n",
       "      <th>user</th>\n",
       "      <th>text</th>\n",
       "      <th>deleted</th>\n",
       "      <th>source</th>\n",
       "      <th>__v</th>\n",
       "      <th>type</th>\n",
       "      <th>used</th>\n",
       "      <th>sendDate</th>\n",
       "    </tr>\n",
       "  </thead>\n",
       "  <tbody>\n",
       "    <tr>\n",
       "      <th>0</th>\n",
       "      <td>{'verified': True, 'sentCount': 1}</td>\n",
       "      <td>5a4aab252c99ee00219e11c3</td>\n",
       "      <td>2020-08-23T20:20:01.611Z</td>\n",
       "      <td>2018-01-28T21:20:03.068Z</td>\n",
       "      <td>5a9ac18c7478810ea6c06381</td>\n",
       "      <td>Cats can move their ears 180 degrees.</td>\n",
       "      <td>False</td>\n",
       "      <td>user</td>\n",
       "      <td>0.0</td>\n",
       "      <td>cat</td>\n",
       "      <td>0.0</td>\n",
       "      <td>NaN</td>\n",
       "    </tr>\n",
       "    <tr>\n",
       "      <th>1</th>\n",
       "      <td>{'verified': True, 'sentCount': 1}</td>\n",
       "      <td>5c3552058e0b8d00148d45e5</td>\n",
       "      <td>2020-08-23T20:20:01.611Z</td>\n",
       "      <td>2019-01-09T01:44:37.783Z</td>\n",
       "      <td>5a9ac18c7478810ea6c06381</td>\n",
       "      <td>Despite its traditionally wild roots, the Bengal is domestic and will gladly make itself in the indoor \"jungle\" of your home.</td>\n",
       "      <td>False</td>\n",
       "      <td>user</td>\n",
       "      <td>0.0</td>\n",
       "      <td>cat</td>\n",
       "      <td>0.0</td>\n",
       "      <td>NaN</td>\n",
       "    </tr>\n",
       "    <tr>\n",
       "      <th>2</th>\n",
       "      <td>{'verified': None, 'sentCount': 0}</td>\n",
       "      <td>60da57a36adf1000178e871d</td>\n",
       "      <td>2021-06-28T23:13:39.449Z</td>\n",
       "      <td>2021-06-28T23:13:39.449Z</td>\n",
       "      <td>60d99d8c6adf1000178e6105</td>\n",
       "      <td>Gg.</td>\n",
       "      <td>False</td>\n",
       "      <td>NaN</td>\n",
       "      <td>0.0</td>\n",
       "      <td>cat</td>\n",
       "      <td>NaN</td>\n",
       "      <td>NaN</td>\n",
       "    </tr>\n",
       "    <tr>\n",
       "      <th>3</th>\n",
       "      <td>{'verified': True, 'sentCount': 1}</td>\n",
       "      <td>58e00ba00aac31001185edfa</td>\n",
       "      <td>2020-08-23T20:20:01.611Z</td>\n",
       "      <td>2018-02-22T21:20:03.364Z</td>\n",
       "      <td>58e007480aac31001185ecef</td>\n",
       "      <td>When cats leave their poop uncovered, it is a sign of aggression to let you know they don't fear you.</td>\n",
       "      <td>False</td>\n",
       "      <td>user</td>\n",
       "      <td>0.0</td>\n",
       "      <td>cat</td>\n",
       "      <td>0.0</td>\n",
       "      <td>NaN</td>\n",
       "    </tr>\n",
       "    <tr>\n",
       "      <th>4</th>\n",
       "      <td>{'verified': None, 'sentCount': 0}</td>\n",
       "      <td>5fd56ccbb3fb8b001735716c</td>\n",
       "      <td>2020-12-13T01:22:19.334Z</td>\n",
       "      <td>2020-12-13T01:22:19.334Z</td>\n",
       "      <td>5fd56c8db3fb8b0017357163</td>\n",
       "      <td>Cats have nearly twice the amount of neurons in their cerebral cortex as dogs.</td>\n",
       "      <td>False</td>\n",
       "      <td>NaN</td>\n",
       "      <td>0.0</td>\n",
       "      <td>cat</td>\n",
       "      <td>NaN</td>\n",
       "      <td>NaN</td>\n",
       "    </tr>\n",
       "  </tbody>\n",
       "</table>\n",
       "</div>"
      ],
      "text/plain": [
       "                               status                       _id  \\\n",
       "0  {'verified': True, 'sentCount': 1}  5a4aab252c99ee00219e11c3   \n",
       "1  {'verified': True, 'sentCount': 1}  5c3552058e0b8d00148d45e5   \n",
       "2  {'verified': None, 'sentCount': 0}  60da57a36adf1000178e871d   \n",
       "3  {'verified': True, 'sentCount': 1}  58e00ba00aac31001185edfa   \n",
       "4  {'verified': None, 'sentCount': 0}  5fd56ccbb3fb8b001735716c   \n",
       "\n",
       "                  updatedAt                 createdAt  \\\n",
       "0  2020-08-23T20:20:01.611Z  2018-01-28T21:20:03.068Z   \n",
       "1  2020-08-23T20:20:01.611Z  2019-01-09T01:44:37.783Z   \n",
       "2  2021-06-28T23:13:39.449Z  2021-06-28T23:13:39.449Z   \n",
       "3  2020-08-23T20:20:01.611Z  2018-02-22T21:20:03.364Z   \n",
       "4  2020-12-13T01:22:19.334Z  2020-12-13T01:22:19.334Z   \n",
       "\n",
       "                       user  \\\n",
       "0  5a9ac18c7478810ea6c06381   \n",
       "1  5a9ac18c7478810ea6c06381   \n",
       "2  60d99d8c6adf1000178e6105   \n",
       "3  58e007480aac31001185ecef   \n",
       "4  5fd56c8db3fb8b0017357163   \n",
       "\n",
       "                                                                                                                            text  \\\n",
       "0                                                                                          Cats can move their ears 180 degrees.   \n",
       "1  Despite its traditionally wild roots, the Bengal is domestic and will gladly make itself in the indoor \"jungle\" of your home.   \n",
       "2                                                                                                                            Gg.   \n",
       "3                          When cats leave their poop uncovered, it is a sign of aggression to let you know they don't fear you.   \n",
       "4                                                 Cats have nearly twice the amount of neurons in their cerebral cortex as dogs.   \n",
       "\n",
       "   deleted source  __v type  used sendDate  \n",
       "0    False   user  0.0  cat   0.0      NaN  \n",
       "1    False   user  0.0  cat   0.0      NaN  \n",
       "2    False    NaN  0.0  cat   NaN      NaN  \n",
       "3    False   user  0.0  cat   0.0      NaN  \n",
       "4    False    NaN  0.0  cat   NaN      NaN  "
      ]
     },
     "execution_count": 5,
     "metadata": {},
     "output_type": "execute_result"
    }
   ],
   "source": [
    "cat_df.head()"
   ]
  },
  {
   "cell_type": "markdown",
   "id": "93e8eec5-3aa1-4527-9f5d-e5256b2f7cf5",
   "metadata": {},
   "source": [
    "#### How many records? "
   ]
  },
  {
   "cell_type": "code",
   "execution_count": 6,
   "id": "17ee5f8a-eebd-40e8-b624-33a8ff3bd791",
   "metadata": {},
   "outputs": [
    {
     "data": {
      "text/plain": [
       "500"
      ]
     },
     "execution_count": 6,
     "metadata": {},
     "output_type": "execute_result"
    }
   ],
   "source": [
    "len(cat_df)"
   ]
  },
  {
   "cell_type": "markdown",
   "id": "ba113498-d591-40b3-8195-2f04c5bc858f",
   "metadata": {},
   "source": [
    "#### What's the first fact?"
   ]
  },
  {
   "cell_type": "code",
   "execution_count": 7,
   "id": "70ede381-0322-40a2-896c-fa370a3859f6",
   "metadata": {},
   "outputs": [
    {
     "data": {
      "text/plain": [
       "'Cats can move their ears 180 degrees.'"
      ]
     },
     "execution_count": 7,
     "metadata": {},
     "output_type": "execute_result"
    }
   ],
   "source": [
    "cat_df[\"text\"][0]"
   ]
  },
  {
   "cell_type": "code",
   "execution_count": 8,
   "id": "3d14ec3a-10c9-4751-9bd9-da6b5d3a8823",
   "metadata": {},
   "outputs": [
    {
     "data": {
      "text/plain": [
       "0    {'verified': True, 'sentCount': 1}\n",
       "1    {'verified': True, 'sentCount': 1}\n",
       "2    {'verified': None, 'sentCount': 0}\n",
       "3    {'verified': True, 'sentCount': 1}\n",
       "4    {'verified': None, 'sentCount': 0}\n",
       "Name: status, dtype: object"
      ]
     },
     "execution_count": 8,
     "metadata": {},
     "output_type": "execute_result"
    }
   ],
   "source": [
    "cat_df[\"status\"].head()"
   ]
  },
  {
   "cell_type": "markdown",
   "id": "b5aec3ef-5f25-445e-9e4c-7100f9b2ce24",
   "metadata": {},
   "source": [
    "#### Exctract the nested json inside the `status` column"
   ]
  },
  {
   "cell_type": "code",
   "execution_count": 9,
   "id": "d9e75fc6-67ad-49fd-964b-04743131047e",
   "metadata": {},
   "outputs": [
    {
     "data": {
      "text/html": [
       "<div>\n",
       "<style scoped>\n",
       "    .dataframe tbody tr th:only-of-type {\n",
       "        vertical-align: middle;\n",
       "    }\n",
       "\n",
       "    .dataframe tbody tr th {\n",
       "        vertical-align: top;\n",
       "    }\n",
       "\n",
       "    .dataframe thead th {\n",
       "        text-align: right;\n",
       "    }\n",
       "</style>\n",
       "<table border=\"1\" class=\"dataframe\">\n",
       "  <thead>\n",
       "    <tr style=\"text-align: right;\">\n",
       "      <th></th>\n",
       "      <th>verified</th>\n",
       "      <th>sentCount</th>\n",
       "      <th>feedback</th>\n",
       "    </tr>\n",
       "  </thead>\n",
       "  <tbody>\n",
       "    <tr>\n",
       "      <th>0</th>\n",
       "      <td>True</td>\n",
       "      <td>1</td>\n",
       "      <td>NaN</td>\n",
       "    </tr>\n",
       "    <tr>\n",
       "      <th>1</th>\n",
       "      <td>True</td>\n",
       "      <td>1</td>\n",
       "      <td>NaN</td>\n",
       "    </tr>\n",
       "    <tr>\n",
       "      <th>2</th>\n",
       "      <td>None</td>\n",
       "      <td>0</td>\n",
       "      <td>NaN</td>\n",
       "    </tr>\n",
       "    <tr>\n",
       "      <th>3</th>\n",
       "      <td>True</td>\n",
       "      <td>1</td>\n",
       "      <td>NaN</td>\n",
       "    </tr>\n",
       "    <tr>\n",
       "      <th>4</th>\n",
       "      <td>None</td>\n",
       "      <td>0</td>\n",
       "      <td>NaN</td>\n",
       "    </tr>\n",
       "  </tbody>\n",
       "</table>\n",
       "</div>"
      ],
      "text/plain": [
       "  verified  sentCount feedback\n",
       "0     True          1      NaN\n",
       "1     True          1      NaN\n",
       "2     None          0      NaN\n",
       "3     True          1      NaN\n",
       "4     None          0      NaN"
      ]
     },
     "execution_count": 9,
     "metadata": {},
     "output_type": "execute_result"
    }
   ],
   "source": [
    "pd.json_normalize(cat_df[\"status\"]).head()"
   ]
  },
  {
   "cell_type": "code",
   "execution_count": 10,
   "id": "1fc9d246-48c8-49fd-9f7b-38ebab8808c5",
   "metadata": {},
   "outputs": [],
   "source": [
    "cat_df[[\"verified\", \"sentCount\", \"feedback\"]] = pd.json_normalize(cat_df[\"status\"])"
   ]
  },
  {
   "cell_type": "markdown",
   "id": "062a20c8-c39f-465d-89ff-c9e3c86c846f",
   "metadata": {},
   "source": [
    "#### Slim the dataframe"
   ]
  },
  {
   "cell_type": "code",
   "execution_count": 11,
   "id": "77bd77e6-d73c-4fb9-9c80-36c5c3ef68d6",
   "metadata": {},
   "outputs": [
    {
     "data": {
      "text/plain": [
       "Index(['status', '_id', 'updatedAt', 'createdAt', 'user', 'text', 'deleted',\n",
       "       'source', '__v', 'type', 'used', 'sendDate', 'verified', 'sentCount',\n",
       "       'feedback'],\n",
       "      dtype='object')"
      ]
     },
     "execution_count": 11,
     "metadata": {},
     "output_type": "execute_result"
    }
   ],
   "source": [
    "cat_df.columns"
   ]
  },
  {
   "cell_type": "code",
   "execution_count": 12,
   "id": "abca92ce-82ed-4b67-8f1d-2865142aa917",
   "metadata": {},
   "outputs": [],
   "source": [
    "cat_df_slim = cat_df[[\"_id\", \"text\", \"createdAt\", \"verified\"]].copy()"
   ]
  },
  {
   "cell_type": "markdown",
   "id": "2edb2ffe-5608-47b7-8f17-e745173cac6c",
   "metadata": {},
   "source": [
    "#### Just the verified facts, pls"
   ]
  },
  {
   "cell_type": "code",
   "execution_count": 13,
   "id": "6094b2c4-2fed-4e22-940d-56cdf0709703",
   "metadata": {},
   "outputs": [],
   "source": [
    "verified_df = cat_df_slim[cat_df_slim[\"verified\"] == True].copy()"
   ]
  },
  {
   "cell_type": "markdown",
   "id": "9729df76-427d-4911-a02d-e4fe71f19bc6",
   "metadata": {},
   "source": [
    "#### Find facts that mentions specific words? "
   ]
  },
  {
   "cell_type": "code",
   "execution_count": 14,
   "id": "5f77a850-ea14-4bf2-9285-e1bb99b4e9ed",
   "metadata": {},
   "outputs": [
    {
     "data": {
      "text/html": [
       "<div>\n",
       "<style scoped>\n",
       "    .dataframe tbody tr th:only-of-type {\n",
       "        vertical-align: middle;\n",
       "    }\n",
       "\n",
       "    .dataframe tbody tr th {\n",
       "        vertical-align: top;\n",
       "    }\n",
       "\n",
       "    .dataframe thead th {\n",
       "        text-align: right;\n",
       "    }\n",
       "</style>\n",
       "<table border=\"1\" class=\"dataframe\">\n",
       "  <thead>\n",
       "    <tr style=\"text-align: right;\">\n",
       "      <th></th>\n",
       "      <th>_id</th>\n",
       "      <th>text</th>\n",
       "      <th>createdAt</th>\n",
       "      <th>verified</th>\n",
       "    </tr>\n",
       "  </thead>\n",
       "  <tbody>\n",
       "    <tr>\n",
       "      <th>37</th>\n",
       "      <td>591f98088dec2e14e3c20b0e</td>\n",
       "      <td>In 1987, cats overtook dogs as the number one pet in America (about 50 million cats resided in 24 million homes in 1986). About 37% of American homes today have at least one cat.</td>\n",
       "      <td>2018-01-04T01:10:54.673Z</td>\n",
       "      <td>True</td>\n",
       "    </tr>\n",
       "    <tr>\n",
       "      <th>59</th>\n",
       "      <td>591f7aab0cf1d60ee8afcd61</td>\n",
       "      <td>A cat's brain is more similar to a man's brain than that of a dog.</td>\n",
       "      <td>2018-01-04T01:10:54.673Z</td>\n",
       "      <td>True</td>\n",
       "    </tr>\n",
       "  </tbody>\n",
       "</table>\n",
       "</div>"
      ],
      "text/plain": [
       "                         _id  \\\n",
       "37  591f98088dec2e14e3c20b0e   \n",
       "59  591f7aab0cf1d60ee8afcd61   \n",
       "\n",
       "                                                                                                                                                                                  text  \\\n",
       "37  In 1987, cats overtook dogs as the number one pet in America (about 50 million cats resided in 24 million homes in 1986). About 37% of American homes today have at least one cat.   \n",
       "59                                                                                                                  A cat's brain is more similar to a man's brain than that of a dog.   \n",
       "\n",
       "                   createdAt verified  \n",
       "37  2018-01-04T01:10:54.673Z     True  \n",
       "59  2018-01-04T01:10:54.673Z     True  "
      ]
     },
     "execution_count": 14,
     "metadata": {},
     "output_type": "execute_result"
    }
   ],
   "source": [
    "verified_df[verified_df[\"text\"].str.lower().str.contains(\"dog\")].head(2)"
   ]
  },
  {
   "cell_type": "code",
   "execution_count": 15,
   "id": "df191938-2700-40a0-ba49-8b5dfb20bb2f",
   "metadata": {},
   "outputs": [
    {
     "data": {
      "text/html": [
       "<div>\n",
       "<style scoped>\n",
       "    .dataframe tbody tr th:only-of-type {\n",
       "        vertical-align: middle;\n",
       "    }\n",
       "\n",
       "    .dataframe tbody tr th {\n",
       "        vertical-align: top;\n",
       "    }\n",
       "\n",
       "    .dataframe thead th {\n",
       "        text-align: right;\n",
       "    }\n",
       "</style>\n",
       "<table border=\"1\" class=\"dataframe\">\n",
       "  <thead>\n",
       "    <tr style=\"text-align: right;\">\n",
       "      <th></th>\n",
       "      <th>_id</th>\n",
       "      <th>text</th>\n",
       "      <th>createdAt</th>\n",
       "      <th>verified</th>\n",
       "    </tr>\n",
       "  </thead>\n",
       "  <tbody>\n",
       "    <tr>\n",
       "      <th>37</th>\n",
       "      <td>591f98088dec2e14e3c20b0e</td>\n",
       "      <td>In 1987, cats overtook dogs as the number one pet in America (about 50 million cats resided in 24 million homes in 1986). About 37% of American homes today have at least one cat.</td>\n",
       "      <td>2018-01-04T01:10:54.673Z</td>\n",
       "      <td>True</td>\n",
       "    </tr>\n",
       "    <tr>\n",
       "      <th>59</th>\n",
       "      <td>591f7aab0cf1d60ee8afcd61</td>\n",
       "      <td>A cat's brain is more similar to a man's brain than that of a dog.</td>\n",
       "      <td>2018-01-04T01:10:54.673Z</td>\n",
       "      <td>True</td>\n",
       "    </tr>\n",
       "  </tbody>\n",
       "</table>\n",
       "</div>"
      ],
      "text/plain": [
       "                         _id  \\\n",
       "37  591f98088dec2e14e3c20b0e   \n",
       "59  591f7aab0cf1d60ee8afcd61   \n",
       "\n",
       "                                                                                                                                                                                  text  \\\n",
       "37  In 1987, cats overtook dogs as the number one pet in America (about 50 million cats resided in 24 million homes in 1986). About 37% of American homes today have at least one cat.   \n",
       "59                                                                                                                  A cat's brain is more similar to a man's brain than that of a dog.   \n",
       "\n",
       "                   createdAt verified  \n",
       "37  2018-01-04T01:10:54.673Z     True  \n",
       "59  2018-01-04T01:10:54.673Z     True  "
      ]
     },
     "execution_count": 15,
     "metadata": {},
     "output_type": "execute_result"
    }
   ],
   "source": [
    "verified_df[verified_df[\"text\"].str.lower().str.contains(\"dog|food\")].head(2)"
   ]
  },
  {
   "cell_type": "markdown",
   "id": "779b6f93-c7b9-4876-8aab-988049cbb964",
   "metadata": {},
   "source": [
    "#### Find the oldest fact? "
   ]
  },
  {
   "cell_type": "code",
   "execution_count": 16,
   "id": "50f28bef-effa-4acf-94eb-25e3de0c009f",
   "metadata": {},
   "outputs": [],
   "source": [
    "verified_df[\"date\"] = pd.to_datetime(verified_df[\"createdAt\"]).dt.strftime(\"%Y-%m-%d\")"
   ]
  },
  {
   "cell_type": "markdown",
   "id": "fc179617-2c81-4305-b778-a675efb88aac",
   "metadata": {},
   "source": [
    "#### Most recent verified fact?"
   ]
  },
  {
   "cell_type": "code",
   "execution_count": 17,
   "id": "484945bd-21f4-478e-9327-fd9927501bfa",
   "metadata": {},
   "outputs": [
    {
     "data": {
      "text/html": [
       "<div>\n",
       "<style scoped>\n",
       "    .dataframe tbody tr th:only-of-type {\n",
       "        vertical-align: middle;\n",
       "    }\n",
       "\n",
       "    .dataframe tbody tr th {\n",
       "        vertical-align: top;\n",
       "    }\n",
       "\n",
       "    .dataframe thead th {\n",
       "        text-align: right;\n",
       "    }\n",
       "</style>\n",
       "<table border=\"1\" class=\"dataframe\">\n",
       "  <thead>\n",
       "    <tr style=\"text-align: right;\">\n",
       "      <th></th>\n",
       "      <th>_id</th>\n",
       "      <th>text</th>\n",
       "      <th>createdAt</th>\n",
       "      <th>verified</th>\n",
       "      <th>date</th>\n",
       "    </tr>\n",
       "  </thead>\n",
       "  <tbody>\n",
       "    <tr>\n",
       "      <th>141</th>\n",
       "      <td>5daa192179186100154250c4</td>\n",
       "      <td>GitHub is a cloud source version control system where its mascot is an octocat, an anthropomorphized cat with five tentacles.</td>\n",
       "      <td>2019-10-18T19:57:21.696Z</td>\n",
       "      <td>True</td>\n",
       "      <td>2019-10-18</td>\n",
       "    </tr>\n",
       "    <tr>\n",
       "      <th>425</th>\n",
       "      <td>5d9d4ae168a764001553b388</td>\n",
       "      <td>Cats conserve energy by sleeping for an average of 13 to 14 hours a day.</td>\n",
       "      <td>2019-10-09T02:50:09.633Z</td>\n",
       "      <td>True</td>\n",
       "      <td>2019-10-09</td>\n",
       "    </tr>\n",
       "    <tr>\n",
       "      <th>441</th>\n",
       "      <td>5d9c556168a764001553b382</td>\n",
       "      <td>A cat has 244 bones in its entire body—even more than a human, who only has 206 bones.</td>\n",
       "      <td>2019-10-08T09:22:41.032Z</td>\n",
       "      <td>True</td>\n",
       "      <td>2019-10-08</td>\n",
       "    </tr>\n",
       "    <tr>\n",
       "      <th>438</th>\n",
       "      <td>5d38bd750f1c57001592f155</td>\n",
       "      <td>Legend holds that a goddess rewarded a temple cat's piety by turning the cat's eyes blue and his coat golden, thus creating the first Birman cat.</td>\n",
       "      <td>2019-07-24T20:20:05.522Z</td>\n",
       "      <td>True</td>\n",
       "      <td>2019-07-24</td>\n",
       "    </tr>\n",
       "    <tr>\n",
       "      <th>424</th>\n",
       "      <td>5d38b64e0f1c57001592f134</td>\n",
       "      <td>The Havana Brown breed hails from England, where it was created by crossbreeding Siamese cats with domestic black cats.</td>\n",
       "      <td>2019-07-24T19:49:34.943Z</td>\n",
       "      <td>True</td>\n",
       "      <td>2019-07-24</td>\n",
       "    </tr>\n",
       "  </tbody>\n",
       "</table>\n",
       "</div>"
      ],
      "text/plain": [
       "                          _id  \\\n",
       "141  5daa192179186100154250c4   \n",
       "425  5d9d4ae168a764001553b388   \n",
       "441  5d9c556168a764001553b382   \n",
       "438  5d38bd750f1c57001592f155   \n",
       "424  5d38b64e0f1c57001592f134   \n",
       "\n",
       "                                                                                                                                                  text  \\\n",
       "141                      GitHub is a cloud source version control system where its mascot is an octocat, an anthropomorphized cat with five tentacles.   \n",
       "425                                                                           Cats conserve energy by sleeping for an average of 13 to 14 hours a day.   \n",
       "441                                                             A cat has 244 bones in its entire body—even more than a human, who only has 206 bones.   \n",
       "438  Legend holds that a goddess rewarded a temple cat's piety by turning the cat's eyes blue and his coat golden, thus creating the first Birman cat.   \n",
       "424                            The Havana Brown breed hails from England, where it was created by crossbreeding Siamese cats with domestic black cats.   \n",
       "\n",
       "                    createdAt verified        date  \n",
       "141  2019-10-18T19:57:21.696Z     True  2019-10-18  \n",
       "425  2019-10-09T02:50:09.633Z     True  2019-10-09  \n",
       "441  2019-10-08T09:22:41.032Z     True  2019-10-08  \n",
       "438  2019-07-24T20:20:05.522Z     True  2019-07-24  \n",
       "424  2019-07-24T19:49:34.943Z     True  2019-07-24  "
      ]
     },
     "execution_count": 17,
     "metadata": {},
     "output_type": "execute_result"
    }
   ],
   "source": [
    "verified_df.sort_values(\"date\", ascending=False).head()"
   ]
  },
  {
   "cell_type": "markdown",
   "id": "1cea13ed-842c-48cd-8522-06859a25a992",
   "metadata": {},
   "source": [
    "---"
   ]
  },
  {
   "cell_type": "markdown",
   "id": "da50f0d9-5b44-42e6-9112-950ebf7deef5",
   "metadata": {},
   "source": [
    "## Dad jokes!"
   ]
  },
  {
   "cell_type": "markdown",
   "id": "4b661117-ead2-4905-bb99-e7d1a21ac3b4",
   "metadata": {},
   "source": [
    "[Read the documentation](https://icanhazdadjoke.com/api#fetch-a-random-dad-joke)"
   ]
  },
  {
   "cell_type": "markdown",
   "id": "545cac74-46f5-42c8-99c4-3b76ab9fce26",
   "metadata": {},
   "source": [
    "#### Give the request headers so the API knows how to answer it"
   ]
  },
  {
   "cell_type": "code",
   "execution_count": 18,
   "id": "a5f7a050-8817-4b8e-b01c-e803d326c7a1",
   "metadata": {},
   "outputs": [],
   "source": [
    "headers = {\n",
    "    \"Accept\": \"application/json\",\n",
    "}"
   ]
  },
  {
   "cell_type": "markdown",
   "id": "6c36b6fc-a7a3-4bed-96d7-6d55155a5ebc",
   "metadata": {},
   "source": [
    "#### Get a response from the API in the format we requested"
   ]
  },
  {
   "cell_type": "code",
   "execution_count": 19,
   "id": "3beca3aa-5f97-47a4-9005-a2b43a9bfaaf",
   "metadata": {},
   "outputs": [],
   "source": [
    "response = requests.get(\"https://icanhazdadjoke.com/search?page=1\", headers=headers)"
   ]
  },
  {
   "cell_type": "markdown",
   "id": "bd5f5213-6217-487d-9bda-ee4ef9fe77e7",
   "metadata": {},
   "source": [
    "#### What comes back?"
   ]
  },
  {
   "cell_type": "code",
   "execution_count": 20,
   "id": "a1738b72-221d-4dbd-be09-9db02c517ba6",
   "metadata": {},
   "outputs": [
    {
     "data": {
      "text/plain": [
       "{'current_page': 1,\n",
       " 'limit': 20,\n",
       " 'next_page': 2,\n",
       " 'previous_page': 1,\n",
       " 'results': [{'id': '0189hNRf2g',\n",
       "   'joke': \"I'm tired of following my dreams. I'm just going to ask them where they are going and meet up with them later.\"},\n",
       "  {'id': '08EQZ8EQukb',\n",
       "   'joke': \"Did you hear about the guy whose whole left side was cut off? He's all right now.\"},\n",
       "  {'id': '08xHQCdx5Ed',\n",
       "   'joke': 'Why didn’t the skeleton cross the road? Because he had no guts.'},\n",
       "  {'id': '0DQKB51oGlb',\n",
       "   'joke': \"What did one nut say as he chased another nut?  I'm a cashew!\"},\n",
       "  {'id': '0DtrrOZDlyd',\n",
       "   'joke': \"Chances are if you' ve seen one shopping center, you've seen a mall.\"},\n",
       "  {'id': '0LuXvkq4Muc',\n",
       "   'joke': \"I knew I shouldn't steal a mixer from work, but it was a whisk I was willing to take.\"},\n",
       "  {'id': '0ga2EdN7prc',\n",
       "   'joke': 'How come the stadium got hot after the game? Because all of the fans left.'},\n",
       "  {'id': '0oO71TSv4Ed',\n",
       "   'joke': 'Why was it called the dark ages? Because of all the knights. '},\n",
       "  {'id': '0oz51ozk3ob', 'joke': 'A steak pun is a rare medium well done.'},\n",
       "  {'id': '0ozAXv4Mmjb',\n",
       "   'joke': 'Why did the tomato blush? Because it saw the salad dressing.'},\n",
       "  {'id': '0wcFBQfiGBd',\n",
       "   'joke': 'Did you hear the joke about the wandering nun? She was a roman catholic.'},\n",
       "  {'id': '189xHQ7pOuc',\n",
       "   'joke': 'What creature is smarter than a talking parrot? A spelling bee.'},\n",
       "  {'id': '18Elj3EIYvc',\n",
       "   'joke': \"I'll tell you what often gets over looked... garden fences.\"},\n",
       "  {'id': '18h3wcU8xAd',\n",
       "   'joke': 'Why did the kid cross the playground? To get to the other slide.'},\n",
       "  {'id': '1DIRSfx51Dd',\n",
       "   'joke': \"Why do birds fly south for the winter? Because it's too far to walk.\"},\n",
       "  {'id': '1DQZDY0gVnb',\n",
       "   'joke': \"What is a centipedes's favorite Beatle song?  I want to hold your hand, hand, hand, hand...\"},\n",
       "  {'id': '1DQZvXvX8Ed',\n",
       "   'joke': 'My first time using an elevator was an uplifting experience. The second time let me down.'},\n",
       "  {'id': '1DQZvcFBdib', 'joke': \"To be Frank, I'd have to change my name.\"},\n",
       "  {'id': '1Dt4M7Ufaxc',\n",
       "   'joke': 'Slept like a log last night … woke up in the fireplace.'},\n",
       "  {'id': '1T01LBXLuzd',\n",
       "   'joke': \"Why does a Moon-rock taste better than an Earth-rock? Because it's a little meteor.\"}],\n",
       " 'search_term': '',\n",
       " 'status': 200,\n",
       " 'total_jokes': 649,\n",
       " 'total_pages': 33}"
      ]
     },
     "execution_count": 20,
     "metadata": {},
     "output_type": "execute_result"
    }
   ],
   "source": [
    "response.json()"
   ]
  },
  {
   "cell_type": "markdown",
   "id": "74836972-64aa-4557-8d44-87be2ea316e6",
   "metadata": {},
   "source": [
    "#### What's the limit per API call? "
   ]
  },
  {
   "cell_type": "code",
   "execution_count": 21,
   "id": "f8bc9d6b-da8c-42a3-b2ae-1671bb6a8f8e",
   "metadata": {},
   "outputs": [
    {
     "data": {
      "text/plain": [
       "20"
      ]
     },
     "execution_count": 21,
     "metadata": {},
     "output_type": "execute_result"
    }
   ],
   "source": [
    "response.json()[\"limit\"]"
   ]
  },
  {
   "cell_type": "markdown",
   "id": "3421f21a-befb-49f9-bd8f-ea0a5cb9d702",
   "metadata": {},
   "source": [
    "#### How many total jokes? "
   ]
  },
  {
   "cell_type": "code",
   "execution_count": 22,
   "id": "6a6c30cf-f0fe-4aca-992c-80ca69c5c7da",
   "metadata": {},
   "outputs": [
    {
     "data": {
      "text/plain": [
       "649"
      ]
     },
     "execution_count": 22,
     "metadata": {},
     "output_type": "execute_result"
    }
   ],
   "source": [
    "response.json()[\"total_jokes\"]"
   ]
  },
  {
   "cell_type": "markdown",
   "id": "8545cf74-5e07-4f6a-96d2-226c129f8276",
   "metadata": {},
   "source": [
    "#### How many pages of 20 jokes? "
   ]
  },
  {
   "cell_type": "code",
   "execution_count": 23,
   "id": "819b33b4-dcfe-488e-9501-e9c8dbbcb008",
   "metadata": {},
   "outputs": [
    {
     "data": {
      "text/plain": [
       "33"
      ]
     },
     "execution_count": 23,
     "metadata": {},
     "output_type": "execute_result"
    }
   ],
   "source": [
    "response.json()[\"total_pages\"]"
   ]
  },
  {
   "cell_type": "markdown",
   "id": "c2024f47-4ed9-4209-aeed-94ebf195eff1",
   "metadata": {},
   "source": [
    "#### Ok, just the jokes"
   ]
  },
  {
   "cell_type": "code",
   "execution_count": 24,
   "id": "cff80dff-e568-4f2d-843e-18c494f88a75",
   "metadata": {},
   "outputs": [
    {
     "data": {
      "text/plain": [
       "[{'id': '0189hNRf2g',\n",
       "  'joke': \"I'm tired of following my dreams. I'm just going to ask them where they are going and meet up with them later.\"},\n",
       " {'id': '08EQZ8EQukb',\n",
       "  'joke': \"Did you hear about the guy whose whole left side was cut off? He's all right now.\"},\n",
       " {'id': '08xHQCdx5Ed',\n",
       "  'joke': 'Why didn’t the skeleton cross the road? Because he had no guts.'},\n",
       " {'id': '0DQKB51oGlb',\n",
       "  'joke': \"What did one nut say as he chased another nut?  I'm a cashew!\"},\n",
       " {'id': '0DtrrOZDlyd',\n",
       "  'joke': \"Chances are if you' ve seen one shopping center, you've seen a mall.\"},\n",
       " {'id': '0LuXvkq4Muc',\n",
       "  'joke': \"I knew I shouldn't steal a mixer from work, but it was a whisk I was willing to take.\"},\n",
       " {'id': '0ga2EdN7prc',\n",
       "  'joke': 'How come the stadium got hot after the game? Because all of the fans left.'},\n",
       " {'id': '0oO71TSv4Ed',\n",
       "  'joke': 'Why was it called the dark ages? Because of all the knights. '},\n",
       " {'id': '0oz51ozk3ob', 'joke': 'A steak pun is a rare medium well done.'},\n",
       " {'id': '0ozAXv4Mmjb',\n",
       "  'joke': 'Why did the tomato blush? Because it saw the salad dressing.'},\n",
       " {'id': '0wcFBQfiGBd',\n",
       "  'joke': 'Did you hear the joke about the wandering nun? She was a roman catholic.'},\n",
       " {'id': '189xHQ7pOuc',\n",
       "  'joke': 'What creature is smarter than a talking parrot? A spelling bee.'},\n",
       " {'id': '18Elj3EIYvc',\n",
       "  'joke': \"I'll tell you what often gets over looked... garden fences.\"},\n",
       " {'id': '18h3wcU8xAd',\n",
       "  'joke': 'Why did the kid cross the playground? To get to the other slide.'},\n",
       " {'id': '1DIRSfx51Dd',\n",
       "  'joke': \"Why do birds fly south for the winter? Because it's too far to walk.\"},\n",
       " {'id': '1DQZDY0gVnb',\n",
       "  'joke': \"What is a centipedes's favorite Beatle song?  I want to hold your hand, hand, hand, hand...\"},\n",
       " {'id': '1DQZvXvX8Ed',\n",
       "  'joke': 'My first time using an elevator was an uplifting experience. The second time let me down.'},\n",
       " {'id': '1DQZvcFBdib', 'joke': \"To be Frank, I'd have to change my name.\"},\n",
       " {'id': '1Dt4M7Ufaxc',\n",
       "  'joke': 'Slept like a log last night … woke up in the fireplace.'},\n",
       " {'id': '1T01LBXLuzd',\n",
       "  'joke': \"Why does a Moon-rock taste better than an Earth-rock? Because it's a little meteor.\"}]"
      ]
     },
     "execution_count": 24,
     "metadata": {},
     "output_type": "execute_result"
    }
   ],
   "source": [
    "response.json()[\"results\"]"
   ]
  },
  {
   "cell_type": "markdown",
   "id": "a3cce074-468e-443e-8d43-e13ad3f6e702",
   "metadata": {},
   "source": [
    "#### How many records?"
   ]
  },
  {
   "cell_type": "code",
   "execution_count": 25,
   "id": "353b9393-c717-4b52-a19d-44ecbf793e16",
   "metadata": {},
   "outputs": [
    {
     "data": {
      "text/plain": [
       "20"
      ]
     },
     "execution_count": 25,
     "metadata": {},
     "output_type": "execute_result"
    }
   ],
   "source": [
    "len(response.json()[\"results\"])"
   ]
  },
  {
   "cell_type": "markdown",
   "id": "31409e11-3a00-465f-80da-59f18eacbba8",
   "metadata": {},
   "source": [
    "#### Get all the jokes with a loop"
   ]
  },
  {
   "cell_type": "code",
   "execution_count": 26,
   "id": "723d8553-dce0-42ad-8467-684e24a423e3",
   "metadata": {},
   "outputs": [],
   "source": [
    "data_pages = []\n",
    "\n",
    "for r in range(0, 34):\n",
    "    data_pages.append(\n",
    "        pd.DataFrame(\n",
    "            requests.get(\n",
    "                f\"https://icanhazdadjoke.com/search?page={r}\", headers=headers\n",
    "            ).json()[\"results\"]\n",
    "        )\n",
    "    )\n",
    "\n",
    "jokes_df = pd.concat(data_pages).reset_index(drop=True)"
   ]
  },
  {
   "cell_type": "markdown",
   "id": "2bc5b2ba-7bc8-4de5-8d73-9a6c440d4934",
   "metadata": {},
   "source": [
    "#### How many? "
   ]
  },
  {
   "cell_type": "code",
   "execution_count": 27,
   "id": "42d445b1-9ed5-460e-a66d-41ccbfcd6659",
   "metadata": {},
   "outputs": [
    {
     "data": {
      "text/plain": [
       "669"
      ]
     },
     "execution_count": 27,
     "metadata": {},
     "output_type": "execute_result"
    }
   ],
   "source": [
    "len(jokes_df)"
   ]
  },
  {
   "cell_type": "markdown",
   "id": "40e04375-1eeb-4d05-a377-e14177939fe8",
   "metadata": {},
   "source": [
    "#### Export "
   ]
  },
  {
   "cell_type": "code",
   "execution_count": 28,
   "id": "64087eec-99e6-4cea-8f83-eb06c88099cc",
   "metadata": {},
   "outputs": [],
   "source": [
    "jokes_df.to_csv(\"../data/processed/dad-jokes.csv\", index=False)"
   ]
  }
 ],
 "metadata": {
  "kernelspec": {
   "display_name": "Python 3 (ipykernel)",
   "language": "python",
   "name": "python3"
  },
  "language_info": {
   "codemirror_mode": {
    "name": "ipython",
    "version": 3
   },
   "file_extension": ".py",
   "mimetype": "text/x-python",
   "name": "python",
   "nbconvert_exporter": "python",
   "pygments_lexer": "ipython3",
   "version": "3.9.7"
  }
 },
 "nbformat": 4,
 "nbformat_minor": 5
}
