{
 "cells": [
  {
   "cell_type": "markdown",
   "id": "3a306da0-f7aa-4f36-80bd-df9c59b6ad3e",
   "metadata": {},
   "source": [
    "# Data from HTML tables: U.S. births"
   ]
  },
  {
   "cell_type": "code",
   "execution_count": 1,
   "id": "8790e0c0-fa54-4ace-ae01-5b97686a049a",
   "metadata": {},
   "outputs": [],
   "source": [
    "import pandas as pd\n",
    "import altair as alt"
   ]
  },
  {
   "cell_type": "markdown",
   "id": "267d134a-f18e-4892-83da-a00ca2137949",
   "metadata": {},
   "source": [
    "#### Get url"
   ]
  },
  {
   "cell_type": "code",
   "execution_count": 2,
   "id": "5adf4b7a-a4cf-43d5-9dec-efd515881102",
   "metadata": {},
   "outputs": [],
   "source": [
    "url = \"https://www.ssa.gov/oact/babynames/numberUSbirths.html\""
   ]
  },
  {
   "cell_type": "markdown",
   "id": "46d15109-3c56-4673-84f5-bc72f9348185",
   "metadata": {},
   "source": [
    "#### Read it into a dataframe"
   ]
  },
  {
   "cell_type": "code",
   "execution_count": 3,
   "id": "57cf40f6-b67e-425b-8853-a3c2998b8965",
   "metadata": {},
   "outputs": [],
   "source": [
    "births = pd.read_html(url)[0]"
   ]
  },
  {
   "cell_type": "markdown",
   "id": "301db708-a17f-4cd0-98ad-17e0e13ca080",
   "metadata": {},
   "source": [
    "#### Clean up columns"
   ]
  },
  {
   "cell_type": "code",
   "execution_count": 4,
   "id": "3baf4a19-059c-4078-b2da-8781c0e32c73",
   "metadata": {},
   "outputs": [],
   "source": [
    "births.rename(\n",
    "    columns={\n",
    "        \"Year of birth\": \"year\",\n",
    "        \"Male\": \"male\",\n",
    "        \"Female\": \"female\",\n",
    "        \"Total\": \"total\",\n",
    "    },\n",
    "    inplace=True,\n",
    ")"
   ]
  },
  {
   "cell_type": "code",
   "execution_count": 5,
   "id": "60c2b5dd-25a4-4dc5-bf87-925b4035b06b",
   "metadata": {},
   "outputs": [
    {
     "data": {
      "text/html": [
       "<div>\n",
       "<style scoped>\n",
       "    .dataframe tbody tr th:only-of-type {\n",
       "        vertical-align: middle;\n",
       "    }\n",
       "\n",
       "    .dataframe tbody tr th {\n",
       "        vertical-align: top;\n",
       "    }\n",
       "\n",
       "    .dataframe thead th {\n",
       "        text-align: right;\n",
       "    }\n",
       "</style>\n",
       "<table border=\"1\" class=\"dataframe\">\n",
       "  <thead>\n",
       "    <tr style=\"text-align: right;\">\n",
       "      <th></th>\n",
       "      <th>year</th>\n",
       "      <th>male</th>\n",
       "      <th>female</th>\n",
       "      <th>total</th>\n",
       "    </tr>\n",
       "  </thead>\n",
       "  <tbody>\n",
       "    <tr>\n",
       "      <th>0</th>\n",
       "      <td>1880</td>\n",
       "      <td>118399</td>\n",
       "      <td>97606</td>\n",
       "      <td>216005</td>\n",
       "    </tr>\n",
       "    <tr>\n",
       "      <th>1</th>\n",
       "      <td>1881</td>\n",
       "      <td>108280</td>\n",
       "      <td>98855</td>\n",
       "      <td>207135</td>\n",
       "    </tr>\n",
       "    <tr>\n",
       "      <th>2</th>\n",
       "      <td>1882</td>\n",
       "      <td>122031</td>\n",
       "      <td>115694</td>\n",
       "      <td>237725</td>\n",
       "    </tr>\n",
       "    <tr>\n",
       "      <th>3</th>\n",
       "      <td>1883</td>\n",
       "      <td>112475</td>\n",
       "      <td>120059</td>\n",
       "      <td>232534</td>\n",
       "    </tr>\n",
       "    <tr>\n",
       "      <th>4</th>\n",
       "      <td>1884</td>\n",
       "      <td>122738</td>\n",
       "      <td>137585</td>\n",
       "      <td>260323</td>\n",
       "    </tr>\n",
       "  </tbody>\n",
       "</table>\n",
       "</div>"
      ],
      "text/plain": [
       "   year    male  female   total\n",
       "0  1880  118399   97606  216005\n",
       "1  1881  108280   98855  207135\n",
       "2  1882  122031  115694  237725\n",
       "3  1883  112475  120059  232534\n",
       "4  1884  122738  137585  260323"
      ]
     },
     "execution_count": 5,
     "metadata": {},
     "output_type": "execute_result"
    }
   ],
   "source": [
    "births.head()"
   ]
  },
  {
   "cell_type": "markdown",
   "id": "c2aef944-e9a9-4cd9-bc1e-31d52f521c8d",
   "metadata": {},
   "source": [
    "#### Convert year"
   ]
  },
  {
   "cell_type": "code",
   "execution_count": 6,
   "id": "c0c75ee4-fbe0-4333-9c1d-82546ef6c7da",
   "metadata": {},
   "outputs": [],
   "source": [
    "births.year = births.year.astype(str)"
   ]
  },
  {
   "cell_type": "markdown",
   "id": "1b062b4d-ee0b-41c9-8a80-3c2edd5f940d",
   "metadata": {},
   "source": [
    "#### Chart it!"
   ]
  },
  {
   "cell_type": "code",
   "execution_count": 7,
   "id": "cf8c156a-412c-4ed6-9428-70a46a5c02f6",
   "metadata": {},
   "outputs": [
    {
     "data": {
      "text/html": [
       "\n",
       "<div id=\"altair-viz-25e519114ce142249cddddf836f13f7e\"></div>\n",
       "<script type=\"text/javascript\">\n",
       "  (function(spec, embedOpt){\n",
       "    let outputDiv = document.currentScript.previousElementSibling;\n",
       "    if (outputDiv.id !== \"altair-viz-25e519114ce142249cddddf836f13f7e\") {\n",
       "      outputDiv = document.getElementById(\"altair-viz-25e519114ce142249cddddf836f13f7e\");\n",
       "    }\n",
       "    const paths = {\n",
       "      \"vega\": \"https://cdn.jsdelivr.net/npm//vega@5?noext\",\n",
       "      \"vega-lib\": \"https://cdn.jsdelivr.net/npm//vega-lib?noext\",\n",
       "      \"vega-lite\": \"https://cdn.jsdelivr.net/npm//vega-lite@4.8.1?noext\",\n",
       "      \"vega-embed\": \"https://cdn.jsdelivr.net/npm//vega-embed@6?noext\",\n",
       "    };\n",
       "\n",
       "    function loadScript(lib) {\n",
       "      return new Promise(function(resolve, reject) {\n",
       "        var s = document.createElement('script');\n",
       "        s.src = paths[lib];\n",
       "        s.async = true;\n",
       "        s.onload = () => resolve(paths[lib]);\n",
       "        s.onerror = () => reject(`Error loading script: ${paths[lib]}`);\n",
       "        document.getElementsByTagName(\"head\")[0].appendChild(s);\n",
       "      });\n",
       "    }\n",
       "\n",
       "    function showError(err) {\n",
       "      outputDiv.innerHTML = `<div class=\"error\" style=\"color:red;\">${err}</div>`;\n",
       "      throw err;\n",
       "    }\n",
       "\n",
       "    function displayChart(vegaEmbed) {\n",
       "      vegaEmbed(outputDiv, spec, embedOpt)\n",
       "        .catch(err => showError(`Javascript Error: ${err.message}<br>This usually means there's a typo in your chart specification. See the javascript console for the full traceback.`));\n",
       "    }\n",
       "\n",
       "    if(typeof define === \"function\" && define.amd) {\n",
       "      requirejs.config({paths});\n",
       "      require([\"vega-embed\"], displayChart, err => showError(`Error loading script: ${err.message}`));\n",
       "    } else if (typeof vegaEmbed === \"function\") {\n",
       "      displayChart(vegaEmbed);\n",
       "    } else {\n",
       "      loadScript(\"vega\")\n",
       "        .then(() => loadScript(\"vega-lite\"))\n",
       "        .then(() => loadScript(\"vega-embed\"))\n",
       "        .catch(showError)\n",
       "        .then(() => displayChart(vegaEmbed));\n",
       "    }\n",
       "  })({\"config\": {\"view\": {\"continuousWidth\": 400, \"continuousHeight\": 300}}, \"data\": {\"name\": \"data-298709662dc859ca198b302731b308a0\"}, \"mark\": {\"type\": \"area\", \"color\": \"red\"}, \"encoding\": {\"x\": {\"type\": \"temporal\", \"field\": \"year\"}, \"y\": {\"type\": \"quantitative\", \"field\": \"total\"}}, \"title\": \"Births by year\", \"width\": 650, \"$schema\": \"https://vega.github.io/schema/vega-lite/v4.8.1.json\", \"datasets\": {\"data-298709662dc859ca198b302731b308a0\": [{\"year\": \"1880\", \"male\": 118399, \"female\": 97606, \"total\": 216005}, {\"year\": \"1881\", \"male\": 108280, \"female\": 98855, \"total\": 207135}, {\"year\": \"1882\", \"male\": 122031, \"female\": 115694, \"total\": 237725}, {\"year\": \"1883\", \"male\": 112475, \"female\": 120059, \"total\": 232534}, {\"year\": \"1884\", \"male\": 122738, \"female\": 137585, \"total\": 260323}, {\"year\": \"1885\", \"male\": 115945, \"female\": 141947, \"total\": 257892}, {\"year\": \"1886\", \"male\": 119041, \"female\": 153735, \"total\": 272776}, {\"year\": \"1887\", \"male\": 109311, \"female\": 155423, \"total\": 264734}, {\"year\": \"1888\", \"male\": 129906, \"female\": 189445, \"total\": 319351}, {\"year\": \"1889\", \"male\": 119032, \"female\": 189218, \"total\": 308250}, {\"year\": \"1890\", \"male\": 119700, \"female\": 201662, \"total\": 321362}, {\"year\": \"1891\", \"male\": 109265, \"female\": 196565, \"total\": 305830}, {\"year\": \"1892\", \"male\": 131452, \"female\": 224913, \"total\": 356365}, {\"year\": \"1893\", \"male\": 121042, \"female\": 225232, \"total\": 346274}, {\"year\": \"1894\", \"male\": 124893, \"female\": 235972, \"total\": 360865}, {\"year\": \"1895\", \"male\": 126643, \"female\": 247106, \"total\": 373749}, {\"year\": \"1896\", \"male\": 129070, \"female\": 251993, \"total\": 381063}, {\"year\": \"1897\", \"male\": 121942, \"female\": 248275, \"total\": 370217}, {\"year\": \"1898\", \"male\": 132100, \"female\": 274146, \"total\": 406246}, {\"year\": \"1899\", \"male\": 115193, \"female\": 247489, \"total\": 362682}, {\"year\": \"1900\", \"male\": 162128, \"female\": 317744, \"total\": 479872}, {\"year\": \"1901\", \"male\": 115594, \"female\": 254229, \"total\": 369823}, {\"year\": \"1902\", \"male\": 132748, \"female\": 280332, \"total\": 413080}, {\"year\": \"1903\", \"male\": 129322, \"female\": 278195, \"total\": 407517}, {\"year\": \"1904\", \"male\": 138507, \"female\": 292434, \"total\": 430941}, {\"year\": \"1905\", \"male\": 143234, \"female\": 309865, \"total\": 453099}, {\"year\": \"1906\", \"male\": 144067, \"female\": 313437, \"total\": 457504}, {\"year\": \"1907\", \"male\": 158585, \"female\": 337434, \"total\": 496019}, {\"year\": \"1908\", \"male\": 166367, \"female\": 354532, \"total\": 520899}, {\"year\": \"1909\", \"male\": 176865, \"female\": 368096, \"total\": 544961}, {\"year\": \"1910\", \"male\": 208518, \"female\": 419528, \"total\": 628046}, {\"year\": \"1911\", \"male\": 241397, \"female\": 441818, \"total\": 683215}, {\"year\": \"1912\", \"male\": 451455, \"female\": 586717, \"total\": 1038172}, {\"year\": \"1913\", \"male\": 536246, \"female\": 654915, \"total\": 1191161}, {\"year\": \"1914\", \"male\": 683323, \"female\": 796627, \"total\": 1479950}, {\"year\": \"1915\", \"male\": 880929, \"female\": 1023870, \"total\": 1904799}, {\"year\": \"1916\", \"male\": 923251, \"female\": 1085721, \"total\": 2008972}, {\"year\": \"1917\", \"male\": 959314, \"female\": 1123692, \"total\": 2083006}, {\"year\": \"1918\", \"male\": 1048658, \"female\": 1202362, \"total\": 2251020}, {\"year\": \"1919\", \"male\": 1015343, \"female\": 1174649, \"total\": 2189992}, {\"year\": \"1920\", \"male\": 1100802, \"female\": 1244037, \"total\": 2344839}, {\"year\": \"1921\", \"male\": 1137940, \"female\": 1279728, \"total\": 2417668}, {\"year\": \"1922\", \"male\": 1125222, \"female\": 1247582, \"total\": 2372804}, {\"year\": \"1923\", \"male\": 1132293, \"female\": 1252480, \"total\": 2384773}, {\"year\": \"1924\", \"male\": 1169071, \"female\": 1295700, \"total\": 2464771}, {\"year\": \"1925\", \"male\": 1151445, \"female\": 1263102, \"total\": 2414547}, {\"year\": \"1926\", \"male\": 1145471, \"female\": 1230175, \"total\": 2375646}, {\"year\": \"1927\", \"male\": 1161935, \"female\": 1236418, \"total\": 2398353}, {\"year\": \"1928\", \"male\": 1141201, \"female\": 1195551, \"total\": 2336752}, {\"year\": \"1929\", \"male\": 1107635, \"female\": 1157561, \"total\": 2265196}, {\"year\": \"1930\", \"male\": 1129535, \"female\": 1166496, \"total\": 2296031}, {\"year\": \"1931\", \"male\": 1069758, \"female\": 1103712, \"total\": 2173470}, {\"year\": \"1932\", \"male\": 1074417, \"female\": 1106280, \"total\": 2180697}, {\"year\": \"1933\", \"male\": 1020132, \"female\": 1045996, \"total\": 2066128}, {\"year\": \"1934\", \"male\": 1061843, \"female\": 1082318, \"total\": 2144161}, {\"year\": \"1935\", \"male\": 1069541, \"female\": 1086745, \"total\": 2156286}, {\"year\": \"1936\", \"male\": 1064269, \"female\": 1077533, \"total\": 2141802}, {\"year\": \"1937\", \"male\": 1093604, \"female\": 1101832, \"total\": 2195436}, {\"year\": \"1938\", \"male\": 1136449, \"female\": 1141443, \"total\": 2277892}, {\"year\": \"1939\", \"male\": 1133264, \"female\": 1134071, \"total\": 2267335}, {\"year\": \"1940\", \"male\": 1186119, \"female\": 1181296, \"total\": 2367415}, {\"year\": \"1941\", \"male\": 1254790, \"female\": 1245944, \"total\": 2500734}, {\"year\": \"1942\", \"male\": 1408212, \"female\": 1390473, \"total\": 2798685}, {\"year\": \"1943\", \"male\": 1454534, \"female\": 1435357, \"total\": 2889891}, {\"year\": \"1944\", \"male\": 1389101, \"female\": 1366499, \"total\": 2755600}, {\"year\": \"1945\", \"male\": 1371401, \"female\": 1346093, \"total\": 2717494}, {\"year\": \"1946\", \"male\": 1650307, \"female\": 1612887, \"total\": 3263194}, {\"year\": \"1947\", \"male\": 1857537, \"female\": 1817844, \"total\": 3675381}, {\"year\": \"1948\", \"male\": 1782694, \"female\": 1742619, \"total\": 3525313}, {\"year\": \"1949\", \"male\": 1801962, \"female\": 1755518, \"total\": 3557480}, {\"year\": \"1950\", \"male\": 1818961, \"female\": 1758532, \"total\": 3577493}, {\"year\": \"1951\", \"male\": 1911710, \"female\": 1847276, \"total\": 3758986}, {\"year\": \"1952\", \"male\": 1973383, \"female\": 1901995, \"total\": 3875378}, {\"year\": \"1953\", \"male\": 2002250, \"female\": 1929497, \"total\": 3931747}, {\"year\": \"1954\", \"male\": 2069388, \"female\": 1990980, \"total\": 4060368}, {\"year\": \"1955\", \"male\": 2090634, \"female\": 2004989, \"total\": 4095623}, {\"year\": \"1956\", \"male\": 2145337, \"female\": 2059447, \"total\": 4204784}, {\"year\": \"1957\", \"male\": 2188110, \"female\": 2097885, \"total\": 4285995}, {\"year\": \"1958\", \"male\": 2153726, \"female\": 2065355, \"total\": 4219081}, {\"year\": \"1959\", \"male\": 2166024, \"female\": 2078386, \"total\": 4244410}, {\"year\": \"1960\", \"male\": 2165427, \"female\": 2079852, \"total\": 4245279}, {\"year\": \"1961\", \"male\": 2156167, \"female\": 2076596, \"total\": 4232763}, {\"year\": \"1962\", \"male\": 2102063, \"female\": 2027001, \"total\": 4129064}, {\"year\": \"1963\", \"male\": 2065085, \"female\": 1988027, \"total\": 4053112}, {\"year\": \"1964\", \"male\": 2027281, \"female\": 1957374, \"total\": 3984655}, {\"year\": \"1965\", \"male\": 1895047, \"female\": 1827419, \"total\": 3722466}, {\"year\": \"1966\", \"male\": 1817860, \"female\": 1755670, \"total\": 3573530}, {\"year\": \"1967\", \"male\": 1779736, \"female\": 1716811, \"total\": 3496547}, {\"year\": \"1968\", \"male\": 1775955, \"female\": 1709628, \"total\": 3485583}, {\"year\": \"1969\", \"male\": 1829798, \"female\": 1762754, \"total\": 3592552}, {\"year\": \"1970\", \"male\": 1905485, \"female\": 1831900, \"total\": 3737385}, {\"year\": \"1971\", \"male\": 1818380, \"female\": 1752473, \"total\": 3570853}, {\"year\": \"1972\", \"male\": 1674616, \"female\": 1612520, \"total\": 3287136}, {\"year\": \"1973\", \"male\": 1614174, \"female\": 1554111, \"total\": 3168285}, {\"year\": \"1974\", \"male\": 1630742, \"female\": 1566194, \"total\": 3196936}, {\"year\": \"1975\", \"male\": 1623078, \"female\": 1560867, \"total\": 3183945}, {\"year\": \"1976\", \"male\": 1633194, \"female\": 1571923, \"total\": 3205117}, {\"year\": \"1977\", \"male\": 1709921, \"female\": 1645014, \"total\": 3354935}, {\"year\": \"1978\", \"male\": 1709262, \"female\": 1643878, \"total\": 3353140}, {\"year\": \"1979\", \"male\": 1791950, \"female\": 1723300, \"total\": 3515250}, {\"year\": \"1980\", \"male\": 1855318, \"female\": 1780623, \"total\": 3635941}, {\"year\": \"1981\", \"male\": 1862800, \"female\": 1788473, \"total\": 3651273}, {\"year\": \"1982\", \"male\": 1887562, \"female\": 1814281, \"total\": 3701843}, {\"year\": \"1983\", \"male\": 1863881, \"female\": 1789590, \"total\": 3653471}, {\"year\": \"1984\", \"male\": 1876837, \"female\": 1803203, \"total\": 3680040}, {\"year\": \"1985\", \"male\": 1924390, \"female\": 1846211, \"total\": 3770601}, {\"year\": \"1986\", \"male\": 1921601, \"female\": 1845376, \"total\": 3766977}, {\"year\": \"1987\", \"male\": 1950068, \"female\": 1874089, \"total\": 3824157}, {\"year\": \"1988\", \"male\": 2001977, \"female\": 1922913, \"total\": 3924890}, {\"year\": \"1989\", \"male\": 2095879, \"female\": 1992102, \"total\": 4087981}, {\"year\": \"1990\", \"male\": 2151718, \"female\": 2054239, \"total\": 4205957}, {\"year\": \"1991\", \"male\": 2119489, \"female\": 2033303, \"total\": 4152792}, {\"year\": \"1992\", \"male\": 2098942, \"female\": 2004490, \"total\": 4103432}, {\"year\": \"1993\", \"male\": 2065241, \"female\": 1971376, \"total\": 4036617}, {\"year\": \"1994\", \"male\": 2038147, \"female\": 1949207, \"total\": 3987354}, {\"year\": \"1995\", \"male\": 2011158, \"female\": 1921402, \"total\": 3932560}, {\"year\": \"1996\", \"male\": 2003535, \"female\": 1917062, \"total\": 3920597}, {\"year\": \"1997\", \"male\": 1997631, \"female\": 1909075, \"total\": 3906706}, {\"year\": \"1998\", \"male\": 2027468, \"female\": 1938316, \"total\": 3965784}, {\"year\": \"1999\", \"male\": 2038777, \"female\": 1946561, \"total\": 3985338}, {\"year\": \"2000\", \"male\": 2087895, \"female\": 1995340, \"total\": 4083235}, {\"year\": \"2001\", \"male\": 2067937, \"female\": 1980498, \"total\": 4048435}, {\"year\": \"2002\", \"male\": 2066133, \"female\": 1974571, \"total\": 4040704}, {\"year\": \"2003\", \"male\": 2100670, \"female\": 2006036, \"total\": 4106706}, {\"year\": \"2004\", \"male\": 2112803, \"female\": 2017272, \"total\": 4130075}, {\"year\": \"2005\", \"male\": 2126696, \"female\": 2028915, \"total\": 4155611}, {\"year\": \"2006\", \"male\": 2191611, \"female\": 2089743, \"total\": 4281354}, {\"year\": \"2007\", \"male\": 2214309, \"female\": 2115697, \"total\": 4330006}, {\"year\": \"2008\", \"male\": 2179535, \"female\": 2081968, \"total\": 4261503}, {\"year\": \"2009\", \"male\": 2120035, \"female\": 2024110, \"total\": 4144145}, {\"year\": \"2010\", \"male\": 2053404, \"female\": 1959586, \"total\": 4012990}, {\"year\": \"2011\", \"male\": 2030102, \"female\": 1936458, \"total\": 3966560}, {\"year\": \"2012\", \"male\": 2027770, \"female\": 1938028, \"total\": 3965798}, {\"year\": \"2013\", \"male\": 2019062, \"female\": 1926017, \"total\": 3945079}, {\"year\": \"2014\", \"male\": 2047308, \"female\": 1954449, \"total\": 4001757}, {\"year\": \"2015\", \"male\": 2042095, \"female\": 1948706, \"total\": 3990801}, {\"year\": \"2016\", \"male\": 2022858, \"female\": 1933195, \"total\": 3956053}, {\"year\": \"2017\", \"male\": 1975558, \"female\": 1885970, \"total\": 3861528}, {\"year\": \"2018\", \"male\": 1939284, \"female\": 1855454, \"total\": 3794738}, {\"year\": \"2019\", \"male\": 1914661, \"female\": 1828242, \"total\": 3742903}, {\"year\": \"2020\", \"male\": 1831432, \"female\": 1751046, \"total\": 3582478}]}}, {\"mode\": \"vega-lite\"});\n",
       "</script>"
      ],
      "text/plain": [
       "alt.Chart(...)"
      ]
     },
     "execution_count": 7,
     "metadata": {},
     "output_type": "execute_result"
    }
   ],
   "source": [
    "alt.Chart(births).mark_area(color='red').encode(\n",
    "    x='year:T',\n",
    "    y='total'\n",
    ").properties(title='Births by year', width=650)"
   ]
  },
  {
   "cell_type": "code",
   "execution_count": 8,
   "id": "e951e824-c2ff-40e6-93ee-27d090ac7730",
   "metadata": {},
   "outputs": [],
   "source": [
    "births.to_csv('../../data/processed/ssa_births_1880_2020.csv', index=False)"
   ]
  },
  {
   "cell_type": "markdown",
   "id": "4f451c54-bc5a-4f12-9b1a-b344881679ce",
   "metadata": {},
   "source": [
    "---"
   ]
  },
  {
   "cell_type": "markdown",
   "id": "1532258e-367a-4821-bf18-813e36434b9f",
   "metadata": {},
   "source": [
    "## Get data from Wikipedia"
   ]
  },
  {
   "cell_type": "code",
   "execution_count": 9,
   "id": "3d54b936-7aba-407d-925d-07a747b61bf4",
   "metadata": {},
   "outputs": [],
   "source": [
    "# Used in this story: https://www.grid.news/story/politics/2022/01/13/what-economic-and-political-indicators-tell-us-about-the-2022-midterms/"
   ]
  },
  {
   "cell_type": "code",
   "execution_count": 10,
   "id": "cb322e59-899c-4649-aa5b-626e663e36c7",
   "metadata": {},
   "outputs": [],
   "source": [
    "wiki_df = pd.read_html('https://en.wikipedia.org/wiki/United_States_midterm_election', header=0)[1]"
   ]
  },
  {
   "cell_type": "markdown",
   "id": "18184bd3-edc8-494a-a687-f734e0f1fbfe",
   "metadata": {},
   "source": [
    "#### Clean up the column names"
   ]
  },
  {
   "cell_type": "code",
   "execution_count": 11,
   "id": "a1e7d817-6b56-4702-9741-dae779e74071",
   "metadata": {},
   "outputs": [],
   "source": [
    "wiki_df = wiki_df.drop([0])"
   ]
  },
  {
   "cell_type": "markdown",
   "id": "00549220-6bec-49b3-b87d-d27a7c464eb3",
   "metadata": {},
   "source": [
    "#### Make them lower case"
   ]
  },
  {
   "cell_type": "code",
   "execution_count": 12,
   "id": "76367507-9314-486f-8335-49f4bb69a0de",
   "metadata": {},
   "outputs": [],
   "source": [
    "wiki_df.columns = wiki_df.columns.str.lower()"
   ]
  },
  {
   "cell_type": "markdown",
   "id": "ae561d81-af2d-482f-908c-fb71624a6eb5",
   "metadata": {},
   "source": [
    "#### Or just rename them entirely"
   ]
  },
  {
   "cell_type": "code",
   "execution_count": 13,
   "id": "57bcf347-a859-4a3f-aaf0-54fc3d84600d",
   "metadata": {},
   "outputs": [],
   "source": [
    "wiki_df.columns = ['year', 'president', 'president_party', 'gain_loss_house', 'gain_loss_senate']"
   ]
  },
  {
   "cell_type": "markdown",
   "id": "5169796f-4b71-4fba-90a2-33b5a0a74398",
   "metadata": {},
   "source": [
    "#### First five rows"
   ]
  },
  {
   "cell_type": "code",
   "execution_count": 14,
   "id": "9c406857-dd72-4fb3-9706-fb76a1826247",
   "metadata": {},
   "outputs": [
    {
     "data": {
      "text/html": [
       "<div>\n",
       "<style scoped>\n",
       "    .dataframe tbody tr th:only-of-type {\n",
       "        vertical-align: middle;\n",
       "    }\n",
       "\n",
       "    .dataframe tbody tr th {\n",
       "        vertical-align: top;\n",
       "    }\n",
       "\n",
       "    .dataframe thead th {\n",
       "        text-align: right;\n",
       "    }\n",
       "</style>\n",
       "<table border=\"1\" class=\"dataframe\">\n",
       "  <thead>\n",
       "    <tr style=\"text-align: right;\">\n",
       "      <th></th>\n",
       "      <th>year</th>\n",
       "      <th>president</th>\n",
       "      <th>president_party</th>\n",
       "      <th>gain_loss_house</th>\n",
       "      <th>gain_loss_senate</th>\n",
       "    </tr>\n",
       "  </thead>\n",
       "  <tbody>\n",
       "    <tr>\n",
       "      <th>1</th>\n",
       "      <td>1790</td>\n",
       "      <td>George Washington</td>\n",
       "      <td>None[a]</td>\n",
       "      <td>+3: (37 ► 40)</td>\n",
       "      <td>0: (18 ► 18)</td>\n",
       "    </tr>\n",
       "    <tr>\n",
       "      <th>2</th>\n",
       "      <td>1794</td>\n",
       "      <td>George Washington</td>\n",
       "      <td>None[a]</td>\n",
       "      <td>-4: (51 ► 47)</td>\n",
       "      <td>+3: (16 ► 19)</td>\n",
       "    </tr>\n",
       "    <tr>\n",
       "      <th>3</th>\n",
       "      <td>1798</td>\n",
       "      <td>John Adams</td>\n",
       "      <td>Federalist</td>\n",
       "      <td>+3: (57 ► 60)</td>\n",
       "      <td>0: (22 ► 22)</td>\n",
       "    </tr>\n",
       "    <tr>\n",
       "      <th>4</th>\n",
       "      <td>1802</td>\n",
       "      <td>Thomas Jefferson</td>\n",
       "      <td>Democratic-Republican</td>\n",
       "      <td>+1: (38 ► 39)</td>\n",
       "      <td>-6: (15 ► 9)</td>\n",
       "    </tr>\n",
       "    <tr>\n",
       "      <th>5</th>\n",
       "      <td>1806</td>\n",
       "      <td>Thomas Jefferson</td>\n",
       "      <td>Democratic-Republican</td>\n",
       "      <td>+2: (114 ► 116)</td>\n",
       "      <td>+1: (27 ► 28)</td>\n",
       "    </tr>\n",
       "  </tbody>\n",
       "</table>\n",
       "</div>"
      ],
      "text/plain": [
       "   year          president        president_party  gain_loss_house  \\\n",
       "1  1790  George Washington                None[a]    +3: (37 ► 40)   \n",
       "2  1794  George Washington                None[a]    -4: (51 ► 47)   \n",
       "3  1798         John Adams             Federalist    +3: (57 ► 60)   \n",
       "4  1802   Thomas Jefferson  Democratic-Republican    +1: (38 ► 39)   \n",
       "5  1806   Thomas Jefferson  Democratic-Republican  +2: (114 ► 116)   \n",
       "\n",
       "  gain_loss_senate  \n",
       "1     0: (18 ► 18)  \n",
       "2    +3: (16 ► 19)  \n",
       "3     0: (22 ► 22)  \n",
       "4     -6: (15 ► 9)  \n",
       "5    +1: (27 ► 28)  "
      ]
     },
     "execution_count": 14,
     "metadata": {},
     "output_type": "execute_result"
    }
   ],
   "source": [
    "wiki_df.head()"
   ]
  },
  {
   "cell_type": "markdown",
   "id": "c8783c43-ed2e-45d7-b020-0ee9ce4d43cd",
   "metadata": {},
   "source": [
    "#### Filter to presidents after 1900"
   ]
  },
  {
   "cell_type": "code",
   "execution_count": 16,
   "id": "aa74ec01-6468-45b2-b6e0-088189faf6ff",
   "metadata": {},
   "outputs": [],
   "source": [
    "# wiki_df[wiki_df['year'] > 1900]"
   ]
  },
  {
   "cell_type": "markdown",
   "id": "27f060a7-d77b-453d-aa30-bf1a0ecd8e16",
   "metadata": {},
   "source": [
    "#### First, convert data type on year column"
   ]
  },
  {
   "cell_type": "code",
   "execution_count": null,
   "id": "109b4523-d465-4641-92a7-a575df8b1efe",
   "metadata": {},
   "outputs": [],
   "source": [
    "wiki_df['year'] = wiki_df['year'].astype(int)"
   ]
  },
  {
   "cell_type": "markdown",
   "id": "6e7def7a-9942-4c4c-93fc-0e5e43112c69",
   "metadata": {},
   "source": [
    "#### Now try the filter"
   ]
  },
  {
   "cell_type": "code",
   "execution_count": null,
   "id": "319489de-be93-4344-812b-585f4e3c9d7f",
   "metadata": {},
   "outputs": [],
   "source": [
    "wiki_df[wiki_df['year'] > 1900]"
   ]
  },
  {
   "cell_type": "markdown",
   "id": "7a94f9a6-95c2-49fd-bf57-714cfb7339b0",
   "metadata": {},
   "source": [
    "#### Export"
   ]
  },
  {
   "cell_type": "code",
   "execution_count": 17,
   "id": "d42735f5-d4d8-4261-b191-b032dadf8948",
   "metadata": {},
   "outputs": [],
   "source": [
    "wiki_df.to_csv('../../data/processed/wiki_midterm_gains_losses_party.csv', index=False)"
   ]
  }
 ],
 "metadata": {
  "kernelspec": {
   "display_name": "Python 3 (ipykernel)",
   "language": "python",
   "name": "python3"
  },
  "language_info": {
   "codemirror_mode": {
    "name": "ipython",
    "version": 3
   },
   "file_extension": ".py",
   "mimetype": "text/x-python",
   "name": "python",
   "nbconvert_exporter": "python",
   "pygments_lexer": "ipython3",
   "version": "3.9.7"
  }
 },
 "nbformat": 4,
 "nbformat_minor": 5
}
