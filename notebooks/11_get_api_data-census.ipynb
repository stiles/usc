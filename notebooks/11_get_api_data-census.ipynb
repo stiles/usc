{
 "cells": [
  {
   "cell_type": "markdown",
   "id": "de872774-504e-4e20-8ba5-8ab6691ebb3d",
   "metadata": {},
   "source": [
    "# Surnames from the U.S. Census Bureau API"
   ]
  },
  {
   "cell_type": "code",
   "execution_count": 1,
   "id": "ee51917e-120d-4398-8ddd-cf11a367779f",
   "metadata": {},
   "outputs": [],
   "source": [
    "%load_ext lab_black"
   ]
  },
  {
   "cell_type": "code",
   "execution_count": 2,
   "id": "3335d791-f59e-413c-a099-9d038e74ac1c",
   "metadata": {},
   "outputs": [],
   "source": [
    "import pandas as pd\n",
    "import random"
   ]
  },
  {
   "cell_type": "code",
   "execution_count": 3,
   "id": "7bb39b31-b5d4-448b-88a3-8807247cf2d0",
   "metadata": {},
   "outputs": [],
   "source": [
    "# Main url: https://www.census.gov/data/developers/data-sets/surnames.html"
   ]
  },
  {
   "cell_type": "code",
   "execution_count": 4,
   "id": "a9ff84af-8fa9-43a4-950e-d279182b0963",
   "metadata": {},
   "outputs": [],
   "source": [
    "# Data documentation: https://www2.census.gov/topics/genealogy/2010surnames/surnames.pdf"
   ]
  },
  {
   "cell_type": "code",
   "execution_count": 5,
   "id": "5879bbc5-5941-40b3-8448-9ceef0d8f1d2",
   "metadata": {},
   "outputs": [],
   "source": [
    "# Base url: https://api.census.gov/data/{YEAR}/surname?\n",
    "# Parameters: get=NAME,COUNT,RANK,PCTAPI,PCTBLACK,PCTAIAN,PCTWHITE,PCT2PRACE,PCTHISPANIC&PROP100K=1:1000"
   ]
  },
  {
   "cell_type": "markdown",
   "id": "83354e83-146d-4681-b909-ea2115f87e4c",
   "metadata": {},
   "source": [
    "#### Read the data"
   ]
  },
  {
   "cell_type": "code",
   "execution_count": 6,
   "id": "c40f90c8-c622-4bb6-9926-640daa6cd47a",
   "metadata": {},
   "outputs": [],
   "source": [
    "surnames = pd.read_json(\n",
    "    \"https://api.census.gov/data/2010/surname?\\\n",
    "get=NAME,COUNT,RANK,PCTAPI,PCTBLACK,PCTAIAN,PCTWHITE,PCT2PRACE,PCTHISPANIC&PROP100K=1:1000\"\n",
    ")"
   ]
  },
  {
   "cell_type": "markdown",
   "id": "e2a5b9d4-8dd7-42ae-ba84-e6446e04c04c",
   "metadata": {},
   "source": [
    "#### Clean up the columns"
   ]
  },
  {
   "cell_type": "code",
   "execution_count": 7,
   "id": "56205255-53d2-468c-b708-651db411250f",
   "metadata": {},
   "outputs": [],
   "source": [
    "surnames.columns = [\n",
    "    \"name\",\n",
    "    \"count\",\n",
    "    \"rank\",\n",
    "    \"pct_api\",\n",
    "    \"pct_black\",\n",
    "    \"pct_aian\",\n",
    "    \"pct_white\",\n",
    "    \"pct_two_race\",\n",
    "    \"pct_hispanic\",\n",
    "    \"per_100k\",\n",
    "]"
   ]
  },
  {
   "cell_type": "code",
   "execution_count": 8,
   "id": "7c39fb31-71a2-4202-b8a2-e5101a9e7d07",
   "metadata": {},
   "outputs": [],
   "source": [
    "surnames.drop(0, inplace=True)"
   ]
  },
  {
   "cell_type": "markdown",
   "id": "31352b7c-d6e5-4839-86e7-e30f337bc2ff",
   "metadata": {},
   "source": [
    "#### First five records"
   ]
  },
  {
   "cell_type": "code",
   "execution_count": 9,
   "id": "9e17791f-365d-48a9-8d94-b4b870bab161",
   "metadata": {},
   "outputs": [
    {
     "data": {
      "text/html": [
       "<div>\n",
       "<style scoped>\n",
       "    .dataframe tbody tr th:only-of-type {\n",
       "        vertical-align: middle;\n",
       "    }\n",
       "\n",
       "    .dataframe tbody tr th {\n",
       "        vertical-align: top;\n",
       "    }\n",
       "\n",
       "    .dataframe thead th {\n",
       "        text-align: right;\n",
       "    }\n",
       "</style>\n",
       "<table border=\"1\" class=\"dataframe\">\n",
       "  <thead>\n",
       "    <tr style=\"text-align: right;\">\n",
       "      <th></th>\n",
       "      <th>name</th>\n",
       "      <th>count</th>\n",
       "      <th>rank</th>\n",
       "      <th>pct_api</th>\n",
       "      <th>pct_black</th>\n",
       "      <th>pct_aian</th>\n",
       "      <th>pct_white</th>\n",
       "      <th>pct_two_race</th>\n",
       "      <th>pct_hispanic</th>\n",
       "      <th>per_100k</th>\n",
       "    </tr>\n",
       "  </thead>\n",
       "  <tbody>\n",
       "    <tr>\n",
       "      <th>1</th>\n",
       "      <td>SMITH</td>\n",
       "      <td>2442977</td>\n",
       "      <td>1</td>\n",
       "      <td>0.5</td>\n",
       "      <td>23.11</td>\n",
       "      <td>0.89</td>\n",
       "      <td>70.9</td>\n",
       "      <td>2.19</td>\n",
       "      <td>2.4</td>\n",
       "      <td>828.19</td>\n",
       "    </tr>\n",
       "    <tr>\n",
       "      <th>2</th>\n",
       "      <td>JOHNSON</td>\n",
       "      <td>1932812</td>\n",
       "      <td>2</td>\n",
       "      <td>0.54</td>\n",
       "      <td>34.63</td>\n",
       "      <td>0.94</td>\n",
       "      <td>58.97</td>\n",
       "      <td>2.56</td>\n",
       "      <td>2.36</td>\n",
       "      <td>655.24</td>\n",
       "    </tr>\n",
       "    <tr>\n",
       "      <th>3</th>\n",
       "      <td>WILLIAMS</td>\n",
       "      <td>1625252</td>\n",
       "      <td>3</td>\n",
       "      <td>0.46</td>\n",
       "      <td>47.68</td>\n",
       "      <td>0.82</td>\n",
       "      <td>45.75</td>\n",
       "      <td>2.81</td>\n",
       "      <td>2.49</td>\n",
       "      <td>550.97</td>\n",
       "    </tr>\n",
       "    <tr>\n",
       "      <th>4</th>\n",
       "      <td>BROWN</td>\n",
       "      <td>1437026</td>\n",
       "      <td>4</td>\n",
       "      <td>0.51</td>\n",
       "      <td>35.6</td>\n",
       "      <td>0.87</td>\n",
       "      <td>57.95</td>\n",
       "      <td>2.55</td>\n",
       "      <td>2.52</td>\n",
       "      <td>487.16</td>\n",
       "    </tr>\n",
       "    <tr>\n",
       "      <th>5</th>\n",
       "      <td>JONES</td>\n",
       "      <td>1425470</td>\n",
       "      <td>5</td>\n",
       "      <td>0.44</td>\n",
       "      <td>38.48</td>\n",
       "      <td>1</td>\n",
       "      <td>55.19</td>\n",
       "      <td>2.61</td>\n",
       "      <td>2.29</td>\n",
       "      <td>483.24</td>\n",
       "    </tr>\n",
       "  </tbody>\n",
       "</table>\n",
       "</div>"
      ],
      "text/plain": [
       "       name    count rank pct_api pct_black pct_aian pct_white pct_two_race  \\\n",
       "1     SMITH  2442977    1     0.5     23.11     0.89      70.9         2.19   \n",
       "2   JOHNSON  1932812    2    0.54     34.63     0.94     58.97         2.56   \n",
       "3  WILLIAMS  1625252    3    0.46     47.68     0.82     45.75         2.81   \n",
       "4     BROWN  1437026    4    0.51      35.6     0.87     57.95         2.55   \n",
       "5     JONES  1425470    5    0.44     38.48        1     55.19         2.61   \n",
       "\n",
       "  pct_hispanic per_100k  \n",
       "1          2.4   828.19  \n",
       "2         2.36   655.24  \n",
       "3         2.49   550.97  \n",
       "4         2.52   487.16  \n",
       "5         2.29   483.24  "
      ]
     },
     "execution_count": 9,
     "metadata": {},
     "output_type": "execute_result"
    }
   ],
   "source": [
    "surnames.head()"
   ]
  },
  {
   "cell_type": "markdown",
   "id": "dde1b08b-0917-4817-888b-6dc54c883dfd",
   "metadata": {},
   "source": [
    "#### Which years do we seek?"
   ]
  },
  {
   "cell_type": "code",
   "execution_count": 10,
   "id": "ca599771-a095-415a-ac13-c4f3df6d845d",
   "metadata": {},
   "outputs": [],
   "source": [
    "years = [\"2000\", \"2010\"]"
   ]
  },
  {
   "cell_type": "markdown",
   "id": "9faadcb1-a58b-4fa7-80f2-bb29668d02ad",
   "metadata": {},
   "source": [
    "#### Hit the API for 2000, 2010 and retrieve fields we want"
   ]
  },
  {
   "cell_type": "code",
   "execution_count": 11,
   "id": "d5e9df46-3d57-4b37-8828-0c33909a8ead",
   "metadata": {},
   "outputs": [],
   "source": [
    "# empty list to store the returns\n",
    "frames = []\n",
    "\n",
    "# loop though years\n",
    "for year in years:\n",
    "    # append the eventual return to our empty list\n",
    "    frames.append(\n",
    "        # read the json returned by census from constructed url, and then assigned a year column\n",
    "        pd.read_json(\n",
    "            \"https://api.census.gov/data/\"\n",
    "            + year\n",
    "            + \"/surname?get=NAME,COUNT,RANK,PCTAPI,PCTBLACK,PCTAIAN,PCTWHITE,PCT2PRACE,PCTHISPANIC&PROP100K=0:1000\"\n",
    "        ).assign(year=year)\n",
    "    )\n",
    "    # concat the two frames, one for each decade, into a data frame\n",
    "    surnames = pd.concat(frames)"
   ]
  },
  {
   "cell_type": "markdown",
   "id": "0bb701fa-ac40-4539-ae55-fcb11c09ba9f",
   "metadata": {},
   "source": [
    "### Clean up the columns"
   ]
  },
  {
   "cell_type": "code",
   "execution_count": 12,
   "id": "0db20183-c62d-4d69-98dc-747943ed958c",
   "metadata": {},
   "outputs": [],
   "source": [
    "surnames.columns = [\n",
    "    \"name\",\n",
    "    \"count\",\n",
    "    \"rank\",\n",
    "    # pct_api = asian/pacific islander\n",
    "    \"pct_api\",\n",
    "    \"pct_black\",\n",
    "    # pct_aian = american indian/alaska native\n",
    "    \"pct_aian\",\n",
    "    \"pct_white\",\n",
    "    \"pct_two_race\",\n",
    "    \"pct_hispanic\",\n",
    "    \"per_100k\",\n",
    "    \"year\",\n",
    "]"
   ]
  },
  {
   "cell_type": "markdown",
   "id": "60032dac-1ccb-4bfe-a2d7-061eb8b381a3",
   "metadata": {},
   "source": [
    "### Drop the returned headers that we don't need, and restriction flags, and \"ALL OTHER NAMES\""
   ]
  },
  {
   "cell_type": "code",
   "execution_count": 13,
   "id": "e253d9c7-c6c2-4a48-b305-a68922ed4f9a",
   "metadata": {},
   "outputs": [],
   "source": [
    "surnames.drop([0], axis=0, inplace=True)"
   ]
  },
  {
   "cell_type": "code",
   "execution_count": 14,
   "id": "f61bd8fe-1762-42b4-8ce7-c67b11e04505",
   "metadata": {},
   "outputs": [],
   "source": [
    "src = surnames[surnames[\"name\"] != \"ALL OTHER NAMES\"].replace(\"(S)\", 0).fillna(0)"
   ]
  },
  {
   "cell_type": "markdown",
   "id": "4efb7741-eb81-4f16-9a7a-68df95b1ca3b",
   "metadata": {},
   "source": [
    "### How many in each year?"
   ]
  },
  {
   "cell_type": "code",
   "execution_count": 15,
   "id": "c2c2bd1e-a2e9-4c42-913f-6cb3067ea296",
   "metadata": {},
   "outputs": [
    {
     "data": {
      "text/plain": [
       "2010    162253\n",
       "2000    151671\n",
       "Name: year, dtype: int64"
      ]
     },
     "execution_count": 15,
     "metadata": {},
     "output_type": "execute_result"
    }
   ],
   "source": [
    "src.year.value_counts()"
   ]
  },
  {
   "cell_type": "markdown",
   "id": "94b8c0be-2733-4dce-bf67-7f966e508d16",
   "metadata": {},
   "source": [
    "### Convert data types"
   ]
  },
  {
   "cell_type": "code",
   "execution_count": 16,
   "id": "2431a493-ba62-498e-ab3a-f63626d52fe1",
   "metadata": {},
   "outputs": [],
   "source": [
    "src[\"count\"] = src[\"count\"].astype(int)\n",
    "src[\"name\"] = src[\"name\"].str.title()"
   ]
  },
  {
   "cell_type": "code",
   "execution_count": 17,
   "id": "731b2f0f-697c-428a-b076-8f4683d1cbae",
   "metadata": {},
   "outputs": [],
   "source": [
    "src[\n",
    "    [\n",
    "        \"pct_api\",\n",
    "        \"pct_black\",\n",
    "        \"pct_aian\",\n",
    "        \"pct_white\",\n",
    "        \"pct_two_race\",\n",
    "        \"pct_hispanic\",\n",
    "        \"per_100k\",\n",
    "    ]\n",
    "] = src[\n",
    "    [\n",
    "        \"pct_api\",\n",
    "        \"pct_black\",\n",
    "        \"pct_aian\",\n",
    "        \"pct_white\",\n",
    "        \"pct_two_race\",\n",
    "        \"pct_hispanic\",\n",
    "        \"per_100k\",\n",
    "    ]\n",
    "].astype(\n",
    "    float\n",
    ")"
   ]
  },
  {
   "cell_type": "code",
   "execution_count": 19,
   "id": "973998d9-72f4-48f5-8c02-60fe267822d7",
   "metadata": {},
   "outputs": [],
   "source": [
    "df = src.copy()"
   ]
  },
  {
   "cell_type": "markdown",
   "id": "f4e6b48e-04e1-44fa-b7e0-167387d39bd4",
   "metadata": {},
   "source": [
    "---"
   ]
  },
  {
   "cell_type": "markdown",
   "id": "4f089e44-c27d-459e-a9f8-4225f49f12cf",
   "metadata": {},
   "source": [
    "### Find your last name!"
   ]
  },
  {
   "cell_type": "code",
   "execution_count": 20,
   "id": "f92f8268-124a-4734-b8ec-90749355601c",
   "metadata": {},
   "outputs": [
    {
     "data": {
      "text/html": [
       "<div>\n",
       "<style scoped>\n",
       "    .dataframe tbody tr th:only-of-type {\n",
       "        vertical-align: middle;\n",
       "    }\n",
       "\n",
       "    .dataframe tbody tr th {\n",
       "        vertical-align: top;\n",
       "    }\n",
       "\n",
       "    .dataframe thead th {\n",
       "        text-align: right;\n",
       "    }\n",
       "</style>\n",
       "<table border=\"1\" class=\"dataframe\">\n",
       "  <thead>\n",
       "    <tr style=\"text-align: right;\">\n",
       "      <th></th>\n",
       "      <th>name</th>\n",
       "      <th>count</th>\n",
       "      <th>rank</th>\n",
       "      <th>pct_api</th>\n",
       "      <th>pct_black</th>\n",
       "      <th>pct_aian</th>\n",
       "      <th>pct_white</th>\n",
       "      <th>pct_two_race</th>\n",
       "      <th>pct_hispanic</th>\n",
       "      <th>per_100k</th>\n",
       "      <th>year</th>\n",
       "    </tr>\n",
       "  </thead>\n",
       "  <tbody>\n",
       "    <tr>\n",
       "      <th>1689</th>\n",
       "      <td>Stiles</td>\n",
       "      <td>21357</td>\n",
       "      <td>1689</td>\n",
       "      <td>0.52</td>\n",
       "      <td>3.71</td>\n",
       "      <td>0.75</td>\n",
       "      <td>90.83</td>\n",
       "      <td>1.83</td>\n",
       "      <td>2.35</td>\n",
       "      <td>7.24</td>\n",
       "      <td>2010</td>\n",
       "    </tr>\n",
       "    <tr>\n",
       "      <th>1570</th>\n",
       "      <td>Stiles</td>\n",
       "      <td>20957</td>\n",
       "      <td>1570</td>\n",
       "      <td>0.39</td>\n",
       "      <td>3.58</td>\n",
       "      <td>0.64</td>\n",
       "      <td>92.56</td>\n",
       "      <td>1.33</td>\n",
       "      <td>1.50</td>\n",
       "      <td>7.77</td>\n",
       "      <td>2000</td>\n",
       "    </tr>\n",
       "  </tbody>\n",
       "</table>\n",
       "</div>"
      ],
      "text/plain": [
       "        name  count  rank  pct_api  pct_black  pct_aian  pct_white  \\\n",
       "1689  Stiles  21357  1689     0.52       3.71      0.75      90.83   \n",
       "1570  Stiles  20957  1570     0.39       3.58      0.64      92.56   \n",
       "\n",
       "      pct_two_race  pct_hispanic  per_100k  year  \n",
       "1689          1.83          2.35      7.24  2010  \n",
       "1570          1.33          1.50      7.77  2000  "
      ]
     },
     "execution_count": 20,
     "metadata": {},
     "output_type": "execute_result"
    }
   ],
   "source": [
    "df[df[\"name\"] == \"Stiles\"].sort_values(\"count\", ascending=False).head(20)"
   ]
  },
  {
   "cell_type": "markdown",
   "id": "c73b85ac-2d51-418b-ad63-d06be7e6dde5",
   "metadata": {},
   "source": [
    "---"
   ]
  },
  {
   "cell_type": "markdown",
   "id": "6604b4fd-45c0-4b6b-8b69-222760a1988c",
   "metadata": {},
   "source": [
    "### Export"
   ]
  },
  {
   "cell_type": "code",
   "execution_count": 24,
   "id": "7d7027f7-88d7-4f59-96f3-579ab19a482e",
   "metadata": {},
   "outputs": [],
   "source": [
    "df.to_csv(\"../data/processed/surnames.csv\", index=False)"
   ]
  }
 ],
 "metadata": {
  "kernelspec": {
   "display_name": "Python 3",
   "language": "python",
   "name": "python3"
  },
  "language_info": {
   "codemirror_mode": {
    "name": "ipython",
    "version": 3
   },
   "file_extension": ".py",
   "mimetype": "text/x-python",
   "name": "python",
   "nbconvert_exporter": "python",
   "pygments_lexer": "ipython3",
   "version": "3.8.8"
  }
 },
 "nbformat": 4,
 "nbformat_minor": 5
}
