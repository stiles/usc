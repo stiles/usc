{
 "cells": [
  {
   "cell_type": "markdown",
   "id": "c50506ea-a04b-4948-a20f-b2879f695cd5",
   "metadata": {},
   "source": [
    "# 2020 Presidential Election"
   ]
  },
  {
   "cell_type": "markdown",
   "id": "38837603-e0a9-452e-8f8c-6bc07ba9ba2d",
   "metadata": {},
   "source": [
    "### Import Python tools"
   ]
  },
  {
   "cell_type": "code",
   "execution_count": 2,
   "id": "60e34198-a29c-4d93-86c0-34bd7caf6558",
   "metadata": {},
   "outputs": [],
   "source": [
    "import pandas as pd"
   ]
  },
  {
   "cell_type": "markdown",
   "id": "05b6cce9-418a-4389-a1e5-5d20e245a7b3",
   "metadata": {},
   "source": [
    "### Read the data"
   ]
  },
  {
   "cell_type": "code",
   "execution_count": 12,
   "id": "4c6c5638-cf5a-4ab7-9d00-dd4976c4f25c",
   "metadata": {},
   "outputs": [],
   "source": [
    "src = pd.read_json('../data/elections/election_results_2020.json')"
   ]
  },
  {
   "cell_type": "code",
   "execution_count": 13,
   "id": "20852327-ab6f-4696-be7d-67d3ec0b8885",
   "metadata": {},
   "outputs": [
    {
     "data": {
      "text/html": [
       "<div>\n",
       "<style scoped>\n",
       "    .dataframe tbody tr th:only-of-type {\n",
       "        vertical-align: middle;\n",
       "    }\n",
       "\n",
       "    .dataframe tbody tr th {\n",
       "        vertical-align: top;\n",
       "    }\n",
       "\n",
       "    .dataframe thead th {\n",
       "        text-align: right;\n",
       "    }\n",
       "</style>\n",
       "<table border=\"1\" class=\"dataframe\">\n",
       "  <thead>\n",
       "    <tr style=\"text-align: right;\">\n",
       "      <th></th>\n",
       "      <th>state_name</th>\n",
       "      <th>county_fips</th>\n",
       "      <th>county_name</th>\n",
       "      <th>votes_gop</th>\n",
       "      <th>votes_dem</th>\n",
       "      <th>total_votes</th>\n",
       "    </tr>\n",
       "  </thead>\n",
       "  <tbody>\n",
       "    <tr>\n",
       "      <th>0</th>\n",
       "      <td>Alabama</td>\n",
       "      <td>1001</td>\n",
       "      <td>Autauga County</td>\n",
       "      <td>19838</td>\n",
       "      <td>7503</td>\n",
       "      <td>27770</td>\n",
       "    </tr>\n",
       "    <tr>\n",
       "      <th>1</th>\n",
       "      <td>Alabama</td>\n",
       "      <td>1003</td>\n",
       "      <td>Baldwin County</td>\n",
       "      <td>83544</td>\n",
       "      <td>24578</td>\n",
       "      <td>109679</td>\n",
       "    </tr>\n",
       "    <tr>\n",
       "      <th>2</th>\n",
       "      <td>Alabama</td>\n",
       "      <td>1005</td>\n",
       "      <td>Barbour County</td>\n",
       "      <td>5622</td>\n",
       "      <td>4816</td>\n",
       "      <td>10518</td>\n",
       "    </tr>\n",
       "    <tr>\n",
       "      <th>3</th>\n",
       "      <td>Alabama</td>\n",
       "      <td>1007</td>\n",
       "      <td>Bibb County</td>\n",
       "      <td>7525</td>\n",
       "      <td>1986</td>\n",
       "      <td>9595</td>\n",
       "    </tr>\n",
       "    <tr>\n",
       "      <th>4</th>\n",
       "      <td>Alabama</td>\n",
       "      <td>1009</td>\n",
       "      <td>Blount County</td>\n",
       "      <td>24711</td>\n",
       "      <td>2640</td>\n",
       "      <td>27588</td>\n",
       "    </tr>\n",
       "  </tbody>\n",
       "</table>\n",
       "</div>"
      ],
      "text/plain": [
       "  state_name  county_fips     county_name  votes_gop  votes_dem  total_votes\n",
       "0    Alabama         1001  Autauga County      19838       7503        27770\n",
       "1    Alabama         1003  Baldwin County      83544      24578       109679\n",
       "2    Alabama         1005  Barbour County       5622       4816        10518\n",
       "3    Alabama         1007     Bibb County       7525       1986         9595\n",
       "4    Alabama         1009   Blount County      24711       2640        27588"
      ]
     },
     "execution_count": 13,
     "metadata": {},
     "output_type": "execute_result"
    }
   ],
   "source": [
    "src.head()"
   ]
  },
  {
   "cell_type": "markdown",
   "id": "9fad03c7-3ce3-4b15-ad4a-33a95c3f40b5",
   "metadata": {},
   "source": [
    "### Where was the Republicans' largest margin? "
   ]
  },
  {
   "cell_type": "code",
   "execution_count": null,
   "id": "14a2b138-b6b2-4fc0-8808-886e85fde977",
   "metadata": {},
   "outputs": [],
   "source": []
  },
  {
   "cell_type": "markdown",
   "id": "00c3e7a7-a0b2-43c1-959a-5ef23980cf9f",
   "metadata": {},
   "source": [
    "### What percentage of the vote did each party receive in each county? "
   ]
  },
  {
   "cell_type": "code",
   "execution_count": null,
   "id": "d0fa7354-331e-47ac-be89-416144df3eaf",
   "metadata": {},
   "outputs": [],
   "source": []
  },
  {
   "cell_type": "markdown",
   "id": "9a4ff0b5-d233-49c2-bccc-33dcbc42547b",
   "metadata": {},
   "source": [
    "### Which counties were most Democratic?"
   ]
  },
  {
   "cell_type": "code",
   "execution_count": null,
   "id": "d2cd14f7-097f-424f-9736-e31a7ca0b318",
   "metadata": {},
   "outputs": [],
   "source": []
  },
  {
   "cell_type": "markdown",
   "id": "664a997b-09a7-4fb5-8926-c8c72d7c34d4",
   "metadata": {},
   "source": [
    "### Which \"large\" counties were most Republican? "
   ]
  },
  {
   "cell_type": "code",
   "execution_count": null,
   "id": "6745af9b-05e3-4bcc-9f6a-ad5ae211f272",
   "metadata": {},
   "outputs": [],
   "source": []
  },
  {
   "cell_type": "code",
   "execution_count": null,
   "id": "c927d9d2-b11a-403d-a2e8-16a02ddc3365",
   "metadata": {},
   "outputs": [],
   "source": []
  },
  {
   "cell_type": "code",
   "execution_count": null,
   "id": "2072d2cd-c3ab-429a-8cd8-ca4ef17faf78",
   "metadata": {},
   "outputs": [],
   "source": []
  },
  {
   "cell_type": "code",
   "execution_count": null,
   "id": "c80e5798-51bc-49c9-aec9-605ce46b4926",
   "metadata": {},
   "outputs": [],
   "source": []
  },
  {
   "cell_type": "code",
   "execution_count": null,
   "id": "51bcbfc8-b531-42a6-ba31-7de7eb80df6b",
   "metadata": {},
   "outputs": [],
   "source": []
  },
  {
   "cell_type": "code",
   "execution_count": null,
   "id": "2074250e-dc61-4f88-856f-08f8f67d8ad4",
   "metadata": {},
   "outputs": [],
   "source": []
  },
  {
   "cell_type": "code",
   "execution_count": null,
   "id": "3d12d337-52d6-4462-9e54-c38a9055cb3f",
   "metadata": {},
   "outputs": [],
   "source": []
  },
  {
   "cell_type": "code",
   "execution_count": null,
   "id": "6c9125e8-a727-467a-b0ca-044168ca016e",
   "metadata": {},
   "outputs": [],
   "source": []
  }
 ],
 "metadata": {
  "kernelspec": {
   "display_name": "Python 3",
   "language": "python",
   "name": "python3"
  },
  "language_info": {
   "codemirror_mode": {
    "name": "ipython",
    "version": 3
   },
   "file_extension": ".py",
   "mimetype": "text/x-python",
   "name": "python",
   "nbconvert_exporter": "python",
   "pygments_lexer": "ipython3",
   "version": "3.8.8"
  }
 },
 "nbformat": 4,
 "nbformat_minor": 5
}
