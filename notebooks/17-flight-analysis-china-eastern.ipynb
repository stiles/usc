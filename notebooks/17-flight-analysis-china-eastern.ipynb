{
 "cells": [
  {
   "cell_type": "markdown",
   "metadata": {},
   "source": [
    "# China Eastern Airlines Flight 5735"
   ]
  },
  {
   "cell_type": "markdown",
   "metadata": {},
   "source": [
    "#### Load Python tools"
   ]
  },
  {
   "cell_type": "code",
   "execution_count": 4,
   "metadata": {},
   "outputs": [],
   "source": [
    "%load_ext lab_black"
   ]
  },
  {
   "cell_type": "code",
   "execution_count": 5,
   "metadata": {},
   "outputs": [],
   "source": [
    "import pandas as pd\n",
    "import geopandas as gpd\n",
    "import geojson\n",
    "import json\n",
    "from shapely.geometry import Point, LineString"
   ]
  },
  {
   "cell_type": "code",
   "execution_count": 6,
   "metadata": {},
   "outputs": [],
   "source": [
    "pd.options.display.max_columns = 1000\n",
    "pd.options.display.max_rows = 1000"
   ]
  },
  {
   "cell_type": "markdown",
   "metadata": {},
   "source": [
    "## Read [data](https://www.flightradar24.com/data/aircraft/b-1791) from Flightradar24"
   ]
  },
  {
   "cell_type": "code",
   "execution_count": 43,
   "metadata": {},
   "outputs": [],
   "source": [
    "src = pd.read_csv(\"data/MU5735_2b367bc1.csv\")"
   ]
  },
  {
   "cell_type": "code",
   "execution_count": 44,
   "metadata": {},
   "outputs": [],
   "source": [
    "src.columns = src.columns.str.lower()"
   ]
  },
  {
   "cell_type": "code",
   "execution_count": 45,
   "metadata": {},
   "outputs": [],
   "source": [
    "src[\"date\"] = pd.to_datetime(src[\"utc\"]).dt.date\n",
    "src[\"time\"] = pd.to_datetime(src[\"utc\"]).dt.time"
   ]
  },
  {
   "cell_type": "code",
   "execution_count": 46,
   "metadata": {},
   "outputs": [],
   "source": [
    "src[[\"latitude\", \"longitude\"]] = src[\"position\"].str.split(\",\", expand=True)"
   ]
  },
  {
   "cell_type": "code",
   "execution_count": 48,
   "metadata": {},
   "outputs": [],
   "source": [
    "src = src[\n",
    "    [\n",
    "        \"date\",\n",
    "        \"time\",\n",
    "        \"timestamp\",\n",
    "        \"altitude\",\n",
    "        \"speed\",\n",
    "        \"direction\",\n",
    "        \"latitude\",\n",
    "        \"longitude\",\n",
    "    ]\n",
    "].sort_values(\"time\")"
   ]
  },
  {
   "cell_type": "code",
   "execution_count": 49,
   "metadata": {},
   "outputs": [
    {
     "data": {
      "text/html": [
       "<div>\n",
       "<style scoped>\n",
       "    .dataframe tbody tr th:only-of-type {\n",
       "        vertical-align: middle;\n",
       "    }\n",
       "\n",
       "    .dataframe tbody tr th {\n",
       "        vertical-align: top;\n",
       "    }\n",
       "\n",
       "    .dataframe thead th {\n",
       "        text-align: right;\n",
       "    }\n",
       "</style>\n",
       "<table border=\"1\" class=\"dataframe\">\n",
       "  <thead>\n",
       "    <tr style=\"text-align: right;\">\n",
       "      <th></th>\n",
       "      <th>date</th>\n",
       "      <th>time</th>\n",
       "      <th>timestamp</th>\n",
       "      <th>altitude</th>\n",
       "      <th>speed</th>\n",
       "      <th>direction</th>\n",
       "      <th>latitude</th>\n",
       "      <th>longitude</th>\n",
       "    </tr>\n",
       "  </thead>\n",
       "  <tbody>\n",
       "    <tr>\n",
       "      <th>0</th>\n",
       "      <td>2022-03-21</td>\n",
       "      <td>05:16:53</td>\n",
       "      <td>1647839813</td>\n",
       "      <td>8400</td>\n",
       "      <td>183</td>\n",
       "      <td>227</td>\n",
       "      <td>25.08835</td>\n",
       "      <td>102.905052</td>\n",
       "    </tr>\n",
       "    <tr>\n",
       "      <th>1</th>\n",
       "      <td>2022-03-21</td>\n",
       "      <td>05:17:04</td>\n",
       "      <td>1647839824</td>\n",
       "      <td>8600</td>\n",
       "      <td>197</td>\n",
       "      <td>229</td>\n",
       "      <td>25.08197</td>\n",
       "      <td>102.896881</td>\n",
       "    </tr>\n",
       "    <tr>\n",
       "      <th>2</th>\n",
       "      <td>2022-03-21</td>\n",
       "      <td>05:17:19</td>\n",
       "      <td>1647839839</td>\n",
       "      <td>8875</td>\n",
       "      <td>211</td>\n",
       "      <td>230</td>\n",
       "      <td>25.073175</td>\n",
       "      <td>102.885353</td>\n",
       "    </tr>\n",
       "    <tr>\n",
       "      <th>3</th>\n",
       "      <td>2022-03-21</td>\n",
       "      <td>05:17:34</td>\n",
       "      <td>1647839854</td>\n",
       "      <td>9100</td>\n",
       "      <td>233</td>\n",
       "      <td>230</td>\n",
       "      <td>25.064301</td>\n",
       "      <td>102.873535</td>\n",
       "    </tr>\n",
       "    <tr>\n",
       "      <th>4</th>\n",
       "      <td>2022-03-21</td>\n",
       "      <td>05:17:44</td>\n",
       "      <td>1647839864</td>\n",
       "      <td>9300</td>\n",
       "      <td>242</td>\n",
       "      <td>230</td>\n",
       "      <td>25.056061</td>\n",
       "      <td>102.862495</td>\n",
       "    </tr>\n",
       "    <tr>\n",
       "      <th>5</th>\n",
       "      <td>2022-03-21</td>\n",
       "      <td>05:17:58</td>\n",
       "      <td>1647839878</td>\n",
       "      <td>9825</td>\n",
       "      <td>254</td>\n",
       "      <td>228</td>\n",
       "      <td>25.04557</td>\n",
       "      <td>102.84877</td>\n",
       "    </tr>\n",
       "    <tr>\n",
       "      <th>6</th>\n",
       "      <td>2022-03-21</td>\n",
       "      <td>05:18:08</td>\n",
       "      <td>1647839888</td>\n",
       "      <td>10475</td>\n",
       "      <td>249</td>\n",
       "      <td>231</td>\n",
       "      <td>25.037796</td>\n",
       "      <td>102.838562</td>\n",
       "    </tr>\n",
       "    <tr>\n",
       "      <th>7</th>\n",
       "      <td>2022-03-21</td>\n",
       "      <td>05:18:20</td>\n",
       "      <td>1647839900</td>\n",
       "      <td>11100</td>\n",
       "      <td>245</td>\n",
       "      <td>231</td>\n",
       "      <td>25.029789</td>\n",
       "      <td>102.827576</td>\n",
       "    </tr>\n",
       "    <tr>\n",
       "      <th>8</th>\n",
       "      <td>2022-03-21</td>\n",
       "      <td>05:18:36</td>\n",
       "      <td>1647839916</td>\n",
       "      <td>11875</td>\n",
       "      <td>249</td>\n",
       "      <td>219</td>\n",
       "      <td>25.017883</td>\n",
       "      <td>102.813416</td>\n",
       "    </tr>\n",
       "    <tr>\n",
       "      <th>9</th>\n",
       "      <td>2022-03-21</td>\n",
       "      <td>05:18:41</td>\n",
       "      <td>1647839921</td>\n",
       "      <td>12125</td>\n",
       "      <td>254</td>\n",
       "      <td>205</td>\n",
       "      <td>25.011122</td>\n",
       "      <td>102.809181</td>\n",
       "    </tr>\n",
       "  </tbody>\n",
       "</table>\n",
       "</div>"
      ],
      "text/plain": [
       "         date      time   timestamp  altitude  speed  direction   latitude  \\\n",
       "0  2022-03-21  05:16:53  1647839813      8400    183        227   25.08835   \n",
       "1  2022-03-21  05:17:04  1647839824      8600    197        229   25.08197   \n",
       "2  2022-03-21  05:17:19  1647839839      8875    211        230  25.073175   \n",
       "3  2022-03-21  05:17:34  1647839854      9100    233        230  25.064301   \n",
       "4  2022-03-21  05:17:44  1647839864      9300    242        230  25.056061   \n",
       "5  2022-03-21  05:17:58  1647839878      9825    254        228   25.04557   \n",
       "6  2022-03-21  05:18:08  1647839888     10475    249        231  25.037796   \n",
       "7  2022-03-21  05:18:20  1647839900     11100    245        231  25.029789   \n",
       "8  2022-03-21  05:18:36  1647839916     11875    249        219  25.017883   \n",
       "9  2022-03-21  05:18:41  1647839921     12125    254        205  25.011122   \n",
       "\n",
       "    longitude  \n",
       "0  102.905052  \n",
       "1  102.896881  \n",
       "2  102.885353  \n",
       "3  102.873535  \n",
       "4  102.862495  \n",
       "5   102.84877  \n",
       "6  102.838562  \n",
       "7  102.827576  \n",
       "8  102.813416  \n",
       "9  102.809181  "
      ]
     },
     "execution_count": 49,
     "metadata": {},
     "output_type": "execute_result"
    }
   ],
   "source": [
    "src.head(10)"
   ]
  },
  {
   "cell_type": "code",
   "execution_count": 50,
   "metadata": {},
   "outputs": [
    {
     "data": {
      "text/html": [
       "<div>\n",
       "<style scoped>\n",
       "    .dataframe tbody tr th:only-of-type {\n",
       "        vertical-align: middle;\n",
       "    }\n",
       "\n",
       "    .dataframe tbody tr th {\n",
       "        vertical-align: top;\n",
       "    }\n",
       "\n",
       "    .dataframe thead th {\n",
       "        text-align: right;\n",
       "    }\n",
       "</style>\n",
       "<table border=\"1\" class=\"dataframe\">\n",
       "  <thead>\n",
       "    <tr style=\"text-align: right;\">\n",
       "      <th></th>\n",
       "      <th>date</th>\n",
       "      <th>time</th>\n",
       "      <th>timestamp</th>\n",
       "      <th>altitude</th>\n",
       "      <th>speed</th>\n",
       "      <th>direction</th>\n",
       "      <th>latitude</th>\n",
       "      <th>longitude</th>\n",
       "    </tr>\n",
       "  </thead>\n",
       "  <tbody>\n",
       "    <tr>\n",
       "      <th>53</th>\n",
       "      <td>2022-03-21</td>\n",
       "      <td>06:15:08</td>\n",
       "      <td>1647843308</td>\n",
       "      <td>29100</td>\n",
       "      <td>455</td>\n",
       "      <td>102</td>\n",
       "      <td>23.482864</td>\n",
       "      <td>110.097191</td>\n",
       "    </tr>\n",
       "    <tr>\n",
       "      <th>54</th>\n",
       "      <td>2022-03-21</td>\n",
       "      <td>06:16:10</td>\n",
       "      <td>1647843370</td>\n",
       "      <td>29100</td>\n",
       "      <td>455</td>\n",
       "      <td>102</td>\n",
       "      <td>23.453979</td>\n",
       "      <td>110.235718</td>\n",
       "    </tr>\n",
       "    <tr>\n",
       "      <th>55</th>\n",
       "      <td>2022-03-21</td>\n",
       "      <td>06:17:12</td>\n",
       "      <td>1647843432</td>\n",
       "      <td>29100</td>\n",
       "      <td>454</td>\n",
       "      <td>100</td>\n",
       "      <td>23.42625</td>\n",
       "      <td>110.374756</td>\n",
       "    </tr>\n",
       "    <tr>\n",
       "      <th>56</th>\n",
       "      <td>2022-03-21</td>\n",
       "      <td>06:18:14</td>\n",
       "      <td>1647843494</td>\n",
       "      <td>29100</td>\n",
       "      <td>455</td>\n",
       "      <td>99</td>\n",
       "      <td>23.403809</td>\n",
       "      <td>110.513969</td>\n",
       "    </tr>\n",
       "    <tr>\n",
       "      <th>57</th>\n",
       "      <td>2022-03-21</td>\n",
       "      <td>06:19:09</td>\n",
       "      <td>1647843549</td>\n",
       "      <td>29100</td>\n",
       "      <td>457</td>\n",
       "      <td>100</td>\n",
       "      <td>23.38353</td>\n",
       "      <td>110.638763</td>\n",
       "    </tr>\n",
       "    <tr>\n",
       "      <th>58</th>\n",
       "      <td>2022-03-21</td>\n",
       "      <td>06:19:59</td>\n",
       "      <td>1647843599</td>\n",
       "      <td>29100</td>\n",
       "      <td>457</td>\n",
       "      <td>100</td>\n",
       "      <td>23.36508</td>\n",
       "      <td>110.751343</td>\n",
       "    </tr>\n",
       "    <tr>\n",
       "      <th>59</th>\n",
       "      <td>2022-03-21</td>\n",
       "      <td>06:22:16</td>\n",
       "      <td>1647843736</td>\n",
       "      <td>9075</td>\n",
       "      <td>455</td>\n",
       "      <td>74</td>\n",
       "      <td>23.327911</td>\n",
       "      <td>111.063889</td>\n",
       "    </tr>\n",
       "    <tr>\n",
       "      <th>60</th>\n",
       "      <td>2022-03-21</td>\n",
       "      <td>06:22:27</td>\n",
       "      <td>1647843747</td>\n",
       "      <td>6525</td>\n",
       "      <td>414</td>\n",
       "      <td>75</td>\n",
       "      <td>23.333084</td>\n",
       "      <td>111.086357</td>\n",
       "    </tr>\n",
       "    <tr>\n",
       "      <th>61</th>\n",
       "      <td>2022-03-21</td>\n",
       "      <td>06:22:31</td>\n",
       "      <td>1647843751</td>\n",
       "      <td>4375</td>\n",
       "      <td>442</td>\n",
       "      <td>73</td>\n",
       "      <td>23.335327</td>\n",
       "      <td>111.097542</td>\n",
       "    </tr>\n",
       "    <tr>\n",
       "      <th>62</th>\n",
       "      <td>2022-03-21</td>\n",
       "      <td>06:22:35</td>\n",
       "      <td>1647843755</td>\n",
       "      <td>3225</td>\n",
       "      <td>376</td>\n",
       "      <td>87</td>\n",
       "      <td>23.337524</td>\n",
       "      <td>111.105583</td>\n",
       "    </tr>\n",
       "  </tbody>\n",
       "</table>\n",
       "</div>"
      ],
      "text/plain": [
       "          date      time   timestamp  altitude  speed  direction   latitude  \\\n",
       "53  2022-03-21  06:15:08  1647843308     29100    455        102  23.482864   \n",
       "54  2022-03-21  06:16:10  1647843370     29100    455        102  23.453979   \n",
       "55  2022-03-21  06:17:12  1647843432     29100    454        100   23.42625   \n",
       "56  2022-03-21  06:18:14  1647843494     29100    455         99  23.403809   \n",
       "57  2022-03-21  06:19:09  1647843549     29100    457        100   23.38353   \n",
       "58  2022-03-21  06:19:59  1647843599     29100    457        100   23.36508   \n",
       "59  2022-03-21  06:22:16  1647843736      9075    455         74  23.327911   \n",
       "60  2022-03-21  06:22:27  1647843747      6525    414         75  23.333084   \n",
       "61  2022-03-21  06:22:31  1647843751      4375    442         73  23.335327   \n",
       "62  2022-03-21  06:22:35  1647843755      3225    376         87  23.337524   \n",
       "\n",
       "     longitude  \n",
       "53  110.097191  \n",
       "54  110.235718  \n",
       "55  110.374756  \n",
       "56  110.513969  \n",
       "57  110.638763  \n",
       "58  110.751343  \n",
       "59  111.063889  \n",
       "60  111.086357  \n",
       "61  111.097542  \n",
       "62  111.105583  "
      ]
     },
     "execution_count": 50,
     "metadata": {},
     "output_type": "execute_result"
    }
   ],
   "source": [
    "src.tail(10)"
   ]
  },
  {
   "cell_type": "code",
   "execution_count": 52,
   "metadata": {},
   "outputs": [],
   "source": [
    "geo_df = gpd.GeoDataFrame(\n",
    "    src, geometry=gpd.points_from_xy(src[\"longitude\"], src[\"latitude\"])\n",
    ")"
   ]
  },
  {
   "cell_type": "code",
   "execution_count": 57,
   "metadata": {},
   "outputs": [],
   "source": [
    "geo_df[\"flight\"] = \"China Eastern Airlines Flight 5735\""
   ]
  },
  {
   "cell_type": "code",
   "execution_count": 63,
   "metadata": {},
   "outputs": [],
   "source": [
    "geo_df[\"date\"] = geo_df[\"date\"].astype(str)"
   ]
  },
  {
   "cell_type": "code",
   "execution_count": 64,
   "metadata": {},
   "outputs": [],
   "source": [
    "lines = (\n",
    "    geo_df.groupby([\"date\", \"flight\"])[\"geometry\"]\n",
    "    .apply(lambda x: LineString(x.tolist()) if x.size > 1 else x.tolist())\n",
    "    .reset_index()\n",
    ")"
   ]
  },
  {
   "cell_type": "code",
   "execution_count": 65,
   "metadata": {},
   "outputs": [
    {
     "data": {
      "text/plain": [
       "<AxesSubplot:>"
      ]
     },
     "execution_count": 65,
     "metadata": {},
     "output_type": "execute_result"
    },
    {
     "data": {
      "image/png": "[encoded data removed]",
      "text/plain": [
       "<Figure size 432x288 with 1 Axes>"
      ]
     },
     "metadata": {
      "needs_background": "light"
     },
     "output_type": "display_data"
    }
   ],
   "source": [
    "lines.plot()"
   ]
  },
  {
   "cell_type": "markdown",
   "metadata": {},
   "source": [
    "## Export "
   ]
  },
  {
   "cell_type": "code",
   "execution_count": 66,
   "metadata": {},
   "outputs": [],
   "source": [
    "src.to_csv(\"../../usc/data/geo/china-eastern-crash-points.csv\", index=False)\n",
    "lines.to_file(\"../../usc/data/geo/china-eastern-crash-lines.geojson\", driver=\"GeoJSON\")"
   ]
  }
 ],
 "metadata": {
  "kernelspec": {
   "display_name": "Python 3 (ipykernel)",
   "language": "python",
   "name": "python3"
  },
  "language_info": {
   "codemirror_mode": {
    "name": "ipython",
    "version": 3
   },
   "file_extension": ".py",
   "mimetype": "text/x-python",
   "name": "python",
   "nbconvert_exporter": "python",
   "pygments_lexer": "ipython3",
   "version": "3.8.9"
  }
 },
 "nbformat": 4,
 "nbformat_minor": 4
}
