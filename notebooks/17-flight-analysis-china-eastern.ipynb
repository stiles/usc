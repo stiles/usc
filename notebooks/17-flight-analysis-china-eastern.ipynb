{
 "cells": [
  {
   "cell_type": "markdown",
   "metadata": {},
   "source": [
    "# China Eastern Airlines Flight 5735"
   ]
  },
  {
   "cell_type": "markdown",
   "metadata": {},
   "source": [
    "#### Load Python tools"
   ]
  },
  {
   "cell_type": "code",
   "execution_count": 1,
   "metadata": {},
   "outputs": [],
   "source": [
    "%load_ext lab_black"
   ]
  },
  {
   "cell_type": "code",
   "execution_count": 3,
   "metadata": {},
   "outputs": [],
   "source": [
    "import pandas as pd\n",
    "import geopandas as gpd\n",
    "from shapely.geometry import Point, LineString"
   ]
  },
  {
   "cell_type": "code",
   "execution_count": 4,
   "metadata": {},
   "outputs": [],
   "source": [
    "pd.options.display.max_columns = 1000\n",
    "pd.options.display.max_rows = 1000"
   ]
  },
  {
   "cell_type": "markdown",
   "metadata": {},
   "source": [
    "## Read [data](https://www.flightradar24.com/data/aircraft/b-1791) from Flightradar24"
   ]
  },
  {
   "cell_type": "code",
   "execution_count": 8,
   "metadata": {},
   "outputs": [],
   "source": [
    "src = pd.read_csv(\"../data/raw/MU5864_2b36429e.csv\")"
   ]
  },
  {
   "cell_type": "code",
   "execution_count": 9,
   "metadata": {},
   "outputs": [],
   "source": [
    "src.columns = src.columns.str.lower()"
   ]
  },
  {
   "cell_type": "code",
   "execution_count": 10,
   "metadata": {},
   "outputs": [],
   "source": [
    "src[\"date\"] = pd.to_datetime(src[\"utc\"]).dt.date\n",
    "src[\"time\"] = pd.to_datetime(src[\"utc\"]).dt.time"
   ]
  },
  {
   "cell_type": "code",
   "execution_count": 11,
   "metadata": {},
   "outputs": [],
   "source": [
    "src[[\"latitude\", \"longitude\"]] = src[\"position\"].str.split(\",\", expand=True)"
   ]
  },
  {
   "cell_type": "code",
   "execution_count": 12,
   "metadata": {},
   "outputs": [],
   "source": [
    "src = src[\n",
    "    [\n",
    "        \"date\",\n",
    "        \"time\",\n",
    "        \"timestamp\",\n",
    "        \"altitude\",\n",
    "        \"speed\",\n",
    "        \"direction\",\n",
    "        \"latitude\",\n",
    "        \"longitude\",\n",
    "    ]\n",
    "].sort_values(\"time\")"
   ]
  },
  {
   "cell_type": "code",
   "execution_count": 13,
   "metadata": {},
   "outputs": [
    {
     "data": {
      "text/html": [
       "<div>\n",
       "<style scoped>\n",
       "    .dataframe tbody tr th:only-of-type {\n",
       "        vertical-align: middle;\n",
       "    }\n",
       "\n",
       "    .dataframe tbody tr th {\n",
       "        vertical-align: top;\n",
       "    }\n",
       "\n",
       "    .dataframe thead th {\n",
       "        text-align: right;\n",
       "    }\n",
       "</style>\n",
       "<table border=\"1\" class=\"dataframe\">\n",
       "  <thead>\n",
       "    <tr style=\"text-align: right;\">\n",
       "      <th></th>\n",
       "      <th>date</th>\n",
       "      <th>time</th>\n",
       "      <th>timestamp</th>\n",
       "      <th>altitude</th>\n",
       "      <th>speed</th>\n",
       "      <th>direction</th>\n",
       "      <th>latitude</th>\n",
       "      <th>longitude</th>\n",
       "    </tr>\n",
       "  </thead>\n",
       "  <tbody>\n",
       "    <tr>\n",
       "      <th>0</th>\n",
       "      <td>2022-03-21</td>\n",
       "      <td>02:10:42</td>\n",
       "      <td>1647828642</td>\n",
       "      <td>2025</td>\n",
       "      <td>157</td>\n",
       "      <td>17</td>\n",
       "      <td>29.745804</td>\n",
       "      <td>106.672333</td>\n",
       "    </tr>\n",
       "    <tr>\n",
       "      <th>1</th>\n",
       "      <td>2022-03-21</td>\n",
       "      <td>02:10:48</td>\n",
       "      <td>1647828648</td>\n",
       "      <td>2225</td>\n",
       "      <td>161</td>\n",
       "      <td>17</td>\n",
       "      <td>29.750061</td>\n",
       "      <td>106.673866</td>\n",
       "    </tr>\n",
       "    <tr>\n",
       "      <th>2</th>\n",
       "      <td>2022-03-21</td>\n",
       "      <td>02:10:54</td>\n",
       "      <td>1647828654</td>\n",
       "      <td>2425</td>\n",
       "      <td>165</td>\n",
       "      <td>19</td>\n",
       "      <td>29.754364</td>\n",
       "      <td>106.675552</td>\n",
       "    </tr>\n",
       "    <tr>\n",
       "      <th>3</th>\n",
       "      <td>2022-03-21</td>\n",
       "      <td>02:10:57</td>\n",
       "      <td>1647828657</td>\n",
       "      <td>2550</td>\n",
       "      <td>166</td>\n",
       "      <td>23</td>\n",
       "      <td>29.756378</td>\n",
       "      <td>106.676506</td>\n",
       "    </tr>\n",
       "    <tr>\n",
       "      <th>4</th>\n",
       "      <td>2022-03-21</td>\n",
       "      <td>02:11:00</td>\n",
       "      <td>1647828660</td>\n",
       "      <td>2650</td>\n",
       "      <td>166</td>\n",
       "      <td>26</td>\n",
       "      <td>29.758425</td>\n",
       "      <td>106.677734</td>\n",
       "    </tr>\n",
       "    <tr>\n",
       "      <th>5</th>\n",
       "      <td>2022-03-21</td>\n",
       "      <td>02:11:03</td>\n",
       "      <td>1647828663</td>\n",
       "      <td>2775</td>\n",
       "      <td>167</td>\n",
       "      <td>30</td>\n",
       "      <td>29.760406</td>\n",
       "      <td>106.679092</td>\n",
       "    </tr>\n",
       "    <tr>\n",
       "      <th>6</th>\n",
       "      <td>2022-03-21</td>\n",
       "      <td>02:11:09</td>\n",
       "      <td>1647828669</td>\n",
       "      <td>3025</td>\n",
       "      <td>168</td>\n",
       "      <td>36</td>\n",
       "      <td>29.764206</td>\n",
       "      <td>106.682213</td>\n",
       "    </tr>\n",
       "    <tr>\n",
       "      <th>7</th>\n",
       "      <td>2022-03-21</td>\n",
       "      <td>02:11:12</td>\n",
       "      <td>1647828672</td>\n",
       "      <td>3150</td>\n",
       "      <td>169</td>\n",
       "      <td>39</td>\n",
       "      <td>29.7659</td>\n",
       "      <td>106.683792</td>\n",
       "    </tr>\n",
       "    <tr>\n",
       "      <th>8</th>\n",
       "      <td>2022-03-21</td>\n",
       "      <td>02:11:16</td>\n",
       "      <td>1647828676</td>\n",
       "      <td>3275</td>\n",
       "      <td>169</td>\n",
       "      <td>40</td>\n",
       "      <td>29.76828</td>\n",
       "      <td>106.686172</td>\n",
       "    </tr>\n",
       "    <tr>\n",
       "      <th>9</th>\n",
       "      <td>2022-03-21</td>\n",
       "      <td>02:11:18</td>\n",
       "      <td>1647828678</td>\n",
       "      <td>3400</td>\n",
       "      <td>169</td>\n",
       "      <td>40</td>\n",
       "      <td>29.769928</td>\n",
       "      <td>106.687813</td>\n",
       "    </tr>\n",
       "  </tbody>\n",
       "</table>\n",
       "</div>"
      ],
      "text/plain": [
       "         date      time   timestamp  altitude  speed  direction   latitude  \\\n",
       "0  2022-03-21  02:10:42  1647828642      2025    157         17  29.745804   \n",
       "1  2022-03-21  02:10:48  1647828648      2225    161         17  29.750061   \n",
       "2  2022-03-21  02:10:54  1647828654      2425    165         19  29.754364   \n",
       "3  2022-03-21  02:10:57  1647828657      2550    166         23  29.756378   \n",
       "4  2022-03-21  02:11:00  1647828660      2650    166         26  29.758425   \n",
       "5  2022-03-21  02:11:03  1647828663      2775    167         30  29.760406   \n",
       "6  2022-03-21  02:11:09  1647828669      3025    168         36  29.764206   \n",
       "7  2022-03-21  02:11:12  1647828672      3150    169         39    29.7659   \n",
       "8  2022-03-21  02:11:16  1647828676      3275    169         40   29.76828   \n",
       "9  2022-03-21  02:11:18  1647828678      3400    169         40  29.769928   \n",
       "\n",
       "    longitude  \n",
       "0  106.672333  \n",
       "1  106.673866  \n",
       "2  106.675552  \n",
       "3  106.676506  \n",
       "4  106.677734  \n",
       "5  106.679092  \n",
       "6  106.682213  \n",
       "7  106.683792  \n",
       "8  106.686172  \n",
       "9  106.687813  "
      ]
     },
     "execution_count": 13,
     "metadata": {},
     "output_type": "execute_result"
    }
   ],
   "source": [
    "src.head(10)"
   ]
  },
  {
   "cell_type": "code",
   "execution_count": 14,
   "metadata": {},
   "outputs": [
    {
     "data": {
      "text/html": [
       "<div>\n",
       "<style scoped>\n",
       "    .dataframe tbody tr th:only-of-type {\n",
       "        vertical-align: middle;\n",
       "    }\n",
       "\n",
       "    .dataframe tbody tr th {\n",
       "        vertical-align: top;\n",
       "    }\n",
       "\n",
       "    .dataframe thead th {\n",
       "        text-align: right;\n",
       "    }\n",
       "</style>\n",
       "<table border=\"1\" class=\"dataframe\">\n",
       "  <thead>\n",
       "    <tr style=\"text-align: right;\">\n",
       "      <th></th>\n",
       "      <th>date</th>\n",
       "      <th>time</th>\n",
       "      <th>timestamp</th>\n",
       "      <th>altitude</th>\n",
       "      <th>speed</th>\n",
       "      <th>direction</th>\n",
       "      <th>latitude</th>\n",
       "      <th>longitude</th>\n",
       "    </tr>\n",
       "  </thead>\n",
       "  <tbody>\n",
       "    <tr>\n",
       "      <th>98</th>\n",
       "      <td>2022-03-21</td>\n",
       "      <td>02:25:03</td>\n",
       "      <td>1647829503</td>\n",
       "      <td>25600</td>\n",
       "      <td>429</td>\n",
       "      <td>177</td>\n",
       "      <td>28.945158</td>\n",
       "      <td>106.908333</td>\n",
       "    </tr>\n",
       "    <tr>\n",
       "      <th>99</th>\n",
       "      <td>2022-03-21</td>\n",
       "      <td>02:26:05</td>\n",
       "      <td>1647829565</td>\n",
       "      <td>25600</td>\n",
       "      <td>430</td>\n",
       "      <td>177</td>\n",
       "      <td>28.821886</td>\n",
       "      <td>106.914581</td>\n",
       "    </tr>\n",
       "    <tr>\n",
       "      <th>100</th>\n",
       "      <td>2022-03-21</td>\n",
       "      <td>02:27:06</td>\n",
       "      <td>1647829626</td>\n",
       "      <td>25600</td>\n",
       "      <td>427</td>\n",
       "      <td>177</td>\n",
       "      <td>28.701645</td>\n",
       "      <td>106.920372</td>\n",
       "    </tr>\n",
       "    <tr>\n",
       "      <th>101</th>\n",
       "      <td>2022-03-21</td>\n",
       "      <td>02:28:04</td>\n",
       "      <td>1647829684</td>\n",
       "      <td>25600</td>\n",
       "      <td>424</td>\n",
       "      <td>177</td>\n",
       "      <td>28.586563</td>\n",
       "      <td>106.926971</td>\n",
       "    </tr>\n",
       "    <tr>\n",
       "      <th>102</th>\n",
       "      <td>2022-03-21</td>\n",
       "      <td>02:31:45</td>\n",
       "      <td>1647829905</td>\n",
       "      <td>25600</td>\n",
       "      <td>393</td>\n",
       "      <td>248</td>\n",
       "      <td>28.205721</td>\n",
       "      <td>106.841499</td>\n",
       "    </tr>\n",
       "    <tr>\n",
       "      <th>103</th>\n",
       "      <td>2022-03-21</td>\n",
       "      <td>02:34:34</td>\n",
       "      <td>1647830074</td>\n",
       "      <td>25600</td>\n",
       "      <td>399</td>\n",
       "      <td>249</td>\n",
       "      <td>28.096069</td>\n",
       "      <td>106.511238</td>\n",
       "    </tr>\n",
       "    <tr>\n",
       "      <th>104</th>\n",
       "      <td>2022-03-21</td>\n",
       "      <td>02:35:35</td>\n",
       "      <td>1647830135</td>\n",
       "      <td>25600</td>\n",
       "      <td>400</td>\n",
       "      <td>249</td>\n",
       "      <td>28.056196</td>\n",
       "      <td>106.390846</td>\n",
       "    </tr>\n",
       "    <tr>\n",
       "      <th>105</th>\n",
       "      <td>2022-03-21</td>\n",
       "      <td>02:36:37</td>\n",
       "      <td>1647830197</td>\n",
       "      <td>25600</td>\n",
       "      <td>400</td>\n",
       "      <td>249</td>\n",
       "      <td>28.015411</td>\n",
       "      <td>106.268326</td>\n",
       "    </tr>\n",
       "    <tr>\n",
       "      <th>106</th>\n",
       "      <td>2022-03-21</td>\n",
       "      <td>02:37:39</td>\n",
       "      <td>1647830259</td>\n",
       "      <td>25600</td>\n",
       "      <td>400</td>\n",
       "      <td>249</td>\n",
       "      <td>27.975428</td>\n",
       "      <td>106.148178</td>\n",
       "    </tr>\n",
       "    <tr>\n",
       "      <th>107</th>\n",
       "      <td>2022-03-21</td>\n",
       "      <td>02:47:33</td>\n",
       "      <td>1647830853</td>\n",
       "      <td>25600</td>\n",
       "      <td>405</td>\n",
       "      <td>224</td>\n",
       "      <td>27.546021</td>\n",
       "      <td>105.01976</td>\n",
       "    </tr>\n",
       "  </tbody>\n",
       "</table>\n",
       "</div>"
      ],
      "text/plain": [
       "           date      time   timestamp  altitude  speed  direction   latitude  \\\n",
       "98   2022-03-21  02:25:03  1647829503     25600    429        177  28.945158   \n",
       "99   2022-03-21  02:26:05  1647829565     25600    430        177  28.821886   \n",
       "100  2022-03-21  02:27:06  1647829626     25600    427        177  28.701645   \n",
       "101  2022-03-21  02:28:04  1647829684     25600    424        177  28.586563   \n",
       "102  2022-03-21  02:31:45  1647829905     25600    393        248  28.205721   \n",
       "103  2022-03-21  02:34:34  1647830074     25600    399        249  28.096069   \n",
       "104  2022-03-21  02:35:35  1647830135     25600    400        249  28.056196   \n",
       "105  2022-03-21  02:36:37  1647830197     25600    400        249  28.015411   \n",
       "106  2022-03-21  02:37:39  1647830259     25600    400        249  27.975428   \n",
       "107  2022-03-21  02:47:33  1647830853     25600    405        224  27.546021   \n",
       "\n",
       "      longitude  \n",
       "98   106.908333  \n",
       "99   106.914581  \n",
       "100  106.920372  \n",
       "101  106.926971  \n",
       "102  106.841499  \n",
       "103  106.511238  \n",
       "104  106.390846  \n",
       "105  106.268326  \n",
       "106  106.148178  \n",
       "107   105.01976  "
      ]
     },
     "execution_count": 14,
     "metadata": {},
     "output_type": "execute_result"
    }
   ],
   "source": [
    "src.tail(10)"
   ]
  },
  {
   "cell_type": "code",
   "execution_count": 15,
   "metadata": {},
   "outputs": [],
   "source": [
    "geo_df = gpd.GeoDataFrame(\n",
    "    src, geometry=gpd.points_from_xy(src[\"longitude\"], src[\"latitude\"])\n",
    ")"
   ]
  },
  {
   "cell_type": "code",
   "execution_count": 16,
   "metadata": {},
   "outputs": [],
   "source": [
    "geo_df[\"flight\"] = \"China Eastern Airlines Flight 5735\""
   ]
  },
  {
   "cell_type": "code",
   "execution_count": 17,
   "metadata": {},
   "outputs": [],
   "source": [
    "geo_df[\"date\"] = geo_df[\"date\"].astype(str)"
   ]
  },
  {
   "cell_type": "code",
   "execution_count": 18,
   "metadata": {},
   "outputs": [],
   "source": [
    "lines = (\n",
    "    geo_df.groupby([\"date\", \"flight\"])[\"geometry\"]\n",
    "    .apply(lambda x: LineString(x.tolist()) if x.size > 1 else x.tolist())\n",
    "    .reset_index()\n",
    ")"
   ]
  },
  {
   "cell_type": "code",
   "execution_count": 19,
   "metadata": {},
   "outputs": [
    {
     "data": {
      "text/plain": [
       "<AxesSubplot:>"
      ]
     },
     "execution_count": 19,
     "metadata": {},
     "output_type": "execute_result"
    },
    {
     "data": {
      "image/png": "[encoded data removed]",
      "text/plain": [
       "<Figure size 432x288 with 1 Axes>"
      ]
     },
     "metadata": {
      "needs_background": "light"
     },
     "output_type": "display_data"
    }
   ],
   "source": [
    "lines.plot()"
   ]
  },
  {
   "cell_type": "markdown",
   "metadata": {},
   "source": [
    "## Export "
   ]
  },
  {
   "cell_type": "code",
   "execution_count": 20,
   "metadata": {},
   "outputs": [],
   "source": [
    "src.to_csv(\"../../usc/data/geo/china-eastern-crash-points.csv\", index=False)\n",
    "lines.to_file(\"../../usc/data/geo/china-eastern-crash-lines.geojson\", driver=\"GeoJSON\")"
   ]
  }
 ],
 "metadata": {
  "kernelspec": {
   "display_name": "Python 3",
   "language": "python",
   "name": "python3"
  },
  "language_info": {
   "codemirror_mode": {
    "name": "ipython",
    "version": 3
   },
   "file_extension": ".py",
   "mimetype": "text/x-python",
   "name": "python",
   "nbconvert_exporter": "python",
   "pygments_lexer": "ipython3",
   "version": "3.8.8"
  }
 },
 "nbformat": 4,
 "nbformat_minor": 4
}
