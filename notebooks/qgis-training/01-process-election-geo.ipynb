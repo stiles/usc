{
 "cells": [
  {
   "cell_type": "markdown",
   "id": "23e1a104-fa65-4bd9-9047-f86bd469241c",
   "metadata": {},
   "source": [
    "# Presidential vote by California counties"
   ]
  },
  {
   "cell_type": "markdown",
   "id": "c908d820-f87f-4451-8701-93fe1d6a3cba",
   "metadata": {},
   "source": [
    "### Import Python tools"
   ]
  },
  {
   "cell_type": "code",
   "execution_count": 1,
   "id": "9423296a-49fe-4002-9ebc-f03a4059a6da",
   "metadata": {},
   "outputs": [],
   "source": [
    "%load_ext lab_black"
   ]
  },
  {
   "cell_type": "code",
   "execution_count": 2,
   "id": "3652dbc5-0259-40d8-8c9a-523b42898252",
   "metadata": {},
   "outputs": [],
   "source": [
    "import pandas as pd\n",
    "import geopandas as gpd"
   ]
  },
  {
   "cell_type": "code",
   "execution_count": 3,
   "id": "f4bbf289-50c6-49ae-b68b-b8bc3ba1c2ed",
   "metadata": {},
   "outputs": [],
   "source": [
    "df_ca = pd.read_csv(\"data/presidential/pres20.csv\")"
   ]
  },
  {
   "cell_type": "code",
   "execution_count": 4,
   "id": "b5d79c10-7c4e-4614-ba51-34b7fef37567",
   "metadata": {},
   "outputs": [],
   "source": [
    "df_ca[\"winner\"] = df_ca[[\"dem\", \"rep\", \"other\"]].idxmax(axis=1)"
   ]
  },
  {
   "cell_type": "code",
   "execution_count": 5,
   "id": "ab01b516-6d7d-4627-86aa-7e1ac2d53454",
   "metadata": {},
   "outputs": [
    {
     "data": {
      "text/html": [
       "<div>\n",
       "<style scoped>\n",
       "    .dataframe tbody tr th:only-of-type {\n",
       "        vertical-align: middle;\n",
       "    }\n",
       "\n",
       "    .dataframe tbody tr th {\n",
       "        vertical-align: top;\n",
       "    }\n",
       "\n",
       "    .dataframe thead th {\n",
       "        text-align: right;\n",
       "    }\n",
       "</style>\n",
       "<table border=\"1\" class=\"dataframe\">\n",
       "  <thead>\n",
       "    <tr style=\"text-align: right;\">\n",
       "      <th></th>\n",
       "      <th>county</th>\n",
       "      <th>dem</th>\n",
       "      <th>rep</th>\n",
       "      <th>other</th>\n",
       "      <th>total_votes</th>\n",
       "      <th>dem_pct</th>\n",
       "      <th>rep_pct</th>\n",
       "      <th>other_pct</th>\n",
       "      <th>year</th>\n",
       "      <th>winner</th>\n",
       "    </tr>\n",
       "  </thead>\n",
       "  <tbody>\n",
       "    <tr>\n",
       "      <th>0</th>\n",
       "      <td>Alameda</td>\n",
       "      <td>617659</td>\n",
       "      <td>136309</td>\n",
       "      <td>16102</td>\n",
       "      <td>770070</td>\n",
       "      <td>0.80</td>\n",
       "      <td>0.18</td>\n",
       "      <td>0.02</td>\n",
       "      <td>2020</td>\n",
       "      <td>dem</td>\n",
       "    </tr>\n",
       "    <tr>\n",
       "      <th>1</th>\n",
       "      <td>Alpine</td>\n",
       "      <td>476</td>\n",
       "      <td>244</td>\n",
       "      <td>21</td>\n",
       "      <td>741</td>\n",
       "      <td>0.64</td>\n",
       "      <td>0.33</td>\n",
       "      <td>0.03</td>\n",
       "      <td>2020</td>\n",
       "      <td>dem</td>\n",
       "    </tr>\n",
       "    <tr>\n",
       "      <th>2</th>\n",
       "      <td>Amador</td>\n",
       "      <td>8153</td>\n",
       "      <td>13585</td>\n",
       "      <td>566</td>\n",
       "      <td>22304</td>\n",
       "      <td>0.37</td>\n",
       "      <td>0.61</td>\n",
       "      <td>0.03</td>\n",
       "      <td>2020</td>\n",
       "      <td>rep</td>\n",
       "    </tr>\n",
       "    <tr>\n",
       "      <th>3</th>\n",
       "      <td>Butte</td>\n",
       "      <td>50426</td>\n",
       "      <td>48730</td>\n",
       "      <td>2910</td>\n",
       "      <td>102066</td>\n",
       "      <td>0.49</td>\n",
       "      <td>0.48</td>\n",
       "      <td>0.03</td>\n",
       "      <td>2020</td>\n",
       "      <td>dem</td>\n",
       "    </tr>\n",
       "    <tr>\n",
       "      <th>4</th>\n",
       "      <td>Calaveras</td>\n",
       "      <td>10046</td>\n",
       "      <td>16518</td>\n",
       "      <td>600</td>\n",
       "      <td>27164</td>\n",
       "      <td>0.37</td>\n",
       "      <td>0.61</td>\n",
       "      <td>0.02</td>\n",
       "      <td>2020</td>\n",
       "      <td>rep</td>\n",
       "    </tr>\n",
       "  </tbody>\n",
       "</table>\n",
       "</div>"
      ],
      "text/plain": [
       "      county     dem     rep  other  total_votes  dem_pct  rep_pct  other_pct  \\\n",
       "0    Alameda  617659  136309  16102       770070     0.80     0.18       0.02   \n",
       "1     Alpine     476     244     21          741     0.64     0.33       0.03   \n",
       "2     Amador    8153   13585    566        22304     0.37     0.61       0.03   \n",
       "3      Butte   50426   48730   2910       102066     0.49     0.48       0.03   \n",
       "4  Calaveras   10046   16518    600        27164     0.37     0.61       0.02   \n",
       "\n",
       "   year winner  \n",
       "0  2020    dem  \n",
       "1  2020    dem  \n",
       "2  2020    rep  \n",
       "3  2020    dem  \n",
       "4  2020    rep  "
      ]
     },
     "execution_count": 5,
     "metadata": {},
     "output_type": "execute_result"
    }
   ],
   "source": [
    "df_ca.head()"
   ]
  },
  {
   "cell_type": "code",
   "execution_count": 6,
   "id": "54bf8950-422b-488a-aaec-82321973494b",
   "metadata": {},
   "outputs": [],
   "source": [
    "usa_df = pd.read_json(\n",
    "    \"data/presidential/election_results_2020.json\", dtype={\"county_fips\": str}\n",
    ")"
   ]
  },
  {
   "cell_type": "code",
   "execution_count": 7,
   "id": "2866c039-ecfb-4f21-8724-c4f99e8b50b5",
   "metadata": {},
   "outputs": [],
   "source": [
    "usa_df.drop([\"winner\", \"per_point_diff\", \"diff\"], axis=1, inplace=True)"
   ]
  },
  {
   "cell_type": "code",
   "execution_count": 8,
   "id": "a197cdbe-724a-4ca6-ba70-2a6088233f99",
   "metadata": {},
   "outputs": [
    {
     "data": {
      "text/html": [
       "<div>\n",
       "<style scoped>\n",
       "    .dataframe tbody tr th:only-of-type {\n",
       "        vertical-align: middle;\n",
       "    }\n",
       "\n",
       "    .dataframe tbody tr th {\n",
       "        vertical-align: top;\n",
       "    }\n",
       "\n",
       "    .dataframe thead th {\n",
       "        text-align: right;\n",
       "    }\n",
       "</style>\n",
       "<table border=\"1\" class=\"dataframe\">\n",
       "  <thead>\n",
       "    <tr style=\"text-align: right;\">\n",
       "      <th></th>\n",
       "      <th>state_name</th>\n",
       "      <th>county_fips</th>\n",
       "      <th>county_name</th>\n",
       "      <th>votes_gop</th>\n",
       "      <th>votes_dem</th>\n",
       "      <th>total_votes</th>\n",
       "      <th>per_gop</th>\n",
       "      <th>per_dem</th>\n",
       "    </tr>\n",
       "  </thead>\n",
       "  <tbody>\n",
       "    <tr>\n",
       "      <th>0</th>\n",
       "      <td>Alabama</td>\n",
       "      <td>01001</td>\n",
       "      <td>Autauga County</td>\n",
       "      <td>19838</td>\n",
       "      <td>7503</td>\n",
       "      <td>27770</td>\n",
       "      <td>0.714368</td>\n",
       "      <td>0.270184</td>\n",
       "    </tr>\n",
       "    <tr>\n",
       "      <th>1</th>\n",
       "      <td>Alabama</td>\n",
       "      <td>01003</td>\n",
       "      <td>Baldwin County</td>\n",
       "      <td>83544</td>\n",
       "      <td>24578</td>\n",
       "      <td>109679</td>\n",
       "      <td>0.761714</td>\n",
       "      <td>0.224090</td>\n",
       "    </tr>\n",
       "    <tr>\n",
       "      <th>2</th>\n",
       "      <td>Alabama</td>\n",
       "      <td>01005</td>\n",
       "      <td>Barbour County</td>\n",
       "      <td>5622</td>\n",
       "      <td>4816</td>\n",
       "      <td>10518</td>\n",
       "      <td>0.534512</td>\n",
       "      <td>0.457882</td>\n",
       "    </tr>\n",
       "    <tr>\n",
       "      <th>3</th>\n",
       "      <td>Alabama</td>\n",
       "      <td>01007</td>\n",
       "      <td>Bibb County</td>\n",
       "      <td>7525</td>\n",
       "      <td>1986</td>\n",
       "      <td>9595</td>\n",
       "      <td>0.784263</td>\n",
       "      <td>0.206983</td>\n",
       "    </tr>\n",
       "    <tr>\n",
       "      <th>4</th>\n",
       "      <td>Alabama</td>\n",
       "      <td>01009</td>\n",
       "      <td>Blount County</td>\n",
       "      <td>24711</td>\n",
       "      <td>2640</td>\n",
       "      <td>27588</td>\n",
       "      <td>0.895716</td>\n",
       "      <td>0.095694</td>\n",
       "    </tr>\n",
       "  </tbody>\n",
       "</table>\n",
       "</div>"
      ],
      "text/plain": [
       "  state_name county_fips     county_name  votes_gop  votes_dem  total_votes  \\\n",
       "0    Alabama       01001  Autauga County      19838       7503        27770   \n",
       "1    Alabama       01003  Baldwin County      83544      24578       109679   \n",
       "2    Alabama       01005  Barbour County       5622       4816        10518   \n",
       "3    Alabama       01007     Bibb County       7525       1986         9595   \n",
       "4    Alabama       01009   Blount County      24711       2640        27588   \n",
       "\n",
       "    per_gop   per_dem  \n",
       "0  0.714368  0.270184  \n",
       "1  0.761714  0.224090  \n",
       "2  0.534512  0.457882  \n",
       "3  0.784263  0.206983  \n",
       "4  0.895716  0.095694  "
      ]
     },
     "execution_count": 8,
     "metadata": {},
     "output_type": "execute_result"
    }
   ],
   "source": [
    "usa_df.head()"
   ]
  },
  {
   "cell_type": "markdown",
   "id": "2445cb9c-a58a-48f6-96b3-1a9b5f8ee160",
   "metadata": {},
   "source": [
    "---"
   ]
  },
  {
   "cell_type": "markdown",
   "id": "b6041087-7944-4acf-8a72-d6e94c61ef68",
   "metadata": {},
   "source": [
    "### Geography"
   ]
  },
  {
   "cell_type": "code",
   "execution_count": 9,
   "id": "6812d97b-6856-4915-be62-6b6d230f1929",
   "metadata": {},
   "outputs": [],
   "source": [
    "counties = gpd.read_file(\"data/geo/ca-counties.json\")"
   ]
  },
  {
   "cell_type": "code",
   "execution_count": 10,
   "id": "c68d3e44-9d7f-4dd0-8d1f-d0d14d6fc1ad",
   "metadata": {},
   "outputs": [
    {
     "data": {
      "text/plain": [
       "<AxesSubplot:>"
      ]
     },
     "execution_count": 10,
     "metadata": {},
     "output_type": "execute_result"
    },
    {
     "data": {
      "image/png": "[encoded data removed]",
      "text/plain": [
       "<Figure size 432x288 with 1 Axes>"
      ]
     },
     "metadata": {
      "needs_background": "light"
     },
     "output_type": "display_data"
    }
   ],
   "source": [
    "counties.plot()"
   ]
  },
  {
   "cell_type": "markdown",
   "id": "d5043442-302a-4dd2-abc4-09003732589c",
   "metadata": {},
   "source": [
    "### USA counties"
   ]
  },
  {
   "cell_type": "code",
   "execution_count": 11,
   "id": "dd932376-c584-46c9-b7b2-f3dbf4a4ae3f",
   "metadata": {},
   "outputs": [],
   "source": [
    "# https://hub.arcgis.com/datasets/esri::usa-counties/explore"
   ]
  },
  {
   "cell_type": "code",
   "execution_count": 12,
   "id": "9f572a24-8571-459d-bf3c-e1677342f7b2",
   "metadata": {},
   "outputs": [],
   "source": [
    "counties_usa = gpd.read_file(\"data/geo/usa_counties/USA_Counties.shp\")"
   ]
  },
  {
   "cell_type": "code",
   "execution_count": 13,
   "id": "7de189c8-b80c-4cf8-8551-9d36481fff1a",
   "metadata": {},
   "outputs": [
    {
     "data": {
      "text/plain": [
       "<AxesSubplot:>"
      ]
     },
     "execution_count": 13,
     "metadata": {},
     "output_type": "execute_result"
    },
    {
     "data": {
      "image/png": "[encoded data removed]",
      "text/plain": [
       "<Figure size 432x288 with 1 Axes>"
      ]
     },
     "metadata": {
      "needs_background": "light"
     },
     "output_type": "display_data"
    }
   ],
   "source": [
    "counties_usa.plot()"
   ]
  },
  {
   "cell_type": "code",
   "execution_count": 14,
   "id": "088ee3aa-1422-4492-9fb3-203d7aac420d",
   "metadata": {},
   "outputs": [],
   "source": [
    "counties_usa.columns = counties_usa.columns.str.lower()"
   ]
  },
  {
   "cell_type": "code",
   "execution_count": 15,
   "id": "0098d8a6-a4ae-4f7d-a496-7c1bb6fad475",
   "metadata": {},
   "outputs": [],
   "source": [
    "exclude = [\"Alaska\", \"Hawaii\", \"Puerto Rico\"]"
   ]
  },
  {
   "cell_type": "code",
   "execution_count": 16,
   "id": "d725e2a3-bfec-402b-afad-e21f5fb1d5da",
   "metadata": {},
   "outputs": [],
   "source": [
    "counties_usa_clean = counties_usa[~counties_usa[\"state_name\"].isin(exclude)]"
   ]
  },
  {
   "cell_type": "code",
   "execution_count": 17,
   "id": "a60db8b3-f707-4f6a-8749-b1820832f816",
   "metadata": {},
   "outputs": [
    {
     "data": {
      "text/plain": [
       "<AxesSubplot:>"
      ]
     },
     "execution_count": 17,
     "metadata": {},
     "output_type": "execute_result"
    },
    {
     "data": {
      "image/png": "[encoded data removed]",
      "text/plain": [
       "<Figure size 432x288 with 1 Axes>"
      ]
     },
     "metadata": {
      "needs_background": "light"
     },
     "output_type": "display_data"
    }
   ],
   "source": [
    "counties_usa_clean.plot()"
   ]
  },
  {
   "cell_type": "markdown",
   "id": "075403f5-d71f-41f0-a4ff-b6d7804799c2",
   "metadata": {},
   "source": [
    "---"
   ]
  },
  {
   "cell_type": "markdown",
   "id": "ad5fd3e6-b317-45ba-8a76-828da71bcd76",
   "metadata": {},
   "source": [
    "### Merge"
   ]
  },
  {
   "cell_type": "code",
   "execution_count": 18,
   "id": "af196b17-688c-41dd-9ee3-e7043a1bddb6",
   "metadata": {},
   "outputs": [],
   "source": [
    "prez_geo_ca = counties.merge(df_ca, left_on=\"name\", right_on=\"county\")\n",
    "prez_geo_usa = counties_usa_clean.merge(usa_df, left_on=\"fips\", right_on=\"county_fips\")"
   ]
  },
  {
   "cell_type": "code",
   "execution_count": 19,
   "id": "a822f846-4baf-44c2-80fa-103dac2d35a9",
   "metadata": {},
   "outputs": [
    {
     "data": {
      "text/plain": [
       "59"
      ]
     },
     "execution_count": 19,
     "metadata": {},
     "output_type": "execute_result"
    }
   ],
   "source": [
    "len(prez_geo_ca)"
   ]
  },
  {
   "cell_type": "code",
   "execution_count": 20,
   "id": "bbe4f9c6-2e9d-4eea-979b-85612637c7e0",
   "metadata": {},
   "outputs": [
    {
     "data": {
      "text/plain": [
       "3108"
      ]
     },
     "execution_count": 20,
     "metadata": {},
     "output_type": "execute_result"
    }
   ],
   "source": [
    "len(prez_geo_usa)"
   ]
  },
  {
   "cell_type": "markdown",
   "id": "71eeb61b-16e4-470a-9ec6-7cf57920b056",
   "metadata": {},
   "source": [
    "---"
   ]
  },
  {
   "cell_type": "markdown",
   "id": "8192ca44-7ec8-421c-a860-c5d99af396d8",
   "metadata": {},
   "source": [
    "### Export"
   ]
  },
  {
   "cell_type": "code",
   "execution_count": 21,
   "id": "8cfd811e-94da-496e-9af1-31ddbfc6bc47",
   "metadata": {},
   "outputs": [],
   "source": [
    "prez_geo_ca.to_file(\"data/geo/prez_geo_ca.geojson\", driver=\"GeoJSON\")\n",
    "prez_geo_ca.to_file(\"data/geo/prez_geo_usa.geojson\", driver=\"GeoJSON\")"
   ]
  },
  {
   "cell_type": "code",
   "execution_count": 22,
   "id": "10138460-d831-4325-8b71-13adb22346cc",
   "metadata": {},
   "outputs": [],
   "source": [
    "df_ca.to_csv(\"data/presidential/pres20_tutorial.csv\", index=False)\n",
    "usa_df.to_csv(\"data/presidential/pres20_usa_tutorial.csv\", index=False)"
   ]
  }
 ],
 "metadata": {
  "kernelspec": {
   "display_name": "Python 3",
   "language": "python",
   "name": "python3"
  },
  "language_info": {
   "codemirror_mode": {
    "name": "ipython",
    "version": 3
   },
   "file_extension": ".py",
   "mimetype": "text/x-python",
   "name": "python",
   "nbconvert_exporter": "python",
   "pygments_lexer": "ipython3",
   "version": "3.8.8"
  }
 },
 "nbformat": 4,
 "nbformat_minor": 5
}
