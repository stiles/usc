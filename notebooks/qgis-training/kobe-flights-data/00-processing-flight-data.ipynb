{
 "cells": [
  {
   "cell_type": "markdown",
   "metadata": {},
   "source": [
    "# Kobe Bryant helicopter: Flight path data"
   ]
  },
  {
   "cell_type": "markdown",
   "metadata": {},
   "source": [
    "### Load Python tools"
   ]
  },
  {
   "cell_type": "code",
   "execution_count": 1,
   "metadata": {},
   "outputs": [],
   "source": [
    "import pandas as pd\n",
    "import geopandas as gpd\n",
    "import glob\n",
    "import os\n",
    "import altair as alt\n",
    "from shapely.geometry import Point, LineString, shape"
   ]
  },
  {
   "cell_type": "markdown",
   "metadata": {},
   "source": [
    "### Get all the flight data from flightradar24's directory."
   ]
  },
  {
   "cell_type": "code",
   "execution_count": 2,
   "metadata": {},
   "outputs": [],
   "source": [
    "# urls = \\\n",
    "#     ['https://secure.flightradar24.com/N72EX/2018_10/',\n",
    "#     'https://secure.flightradar24.com/N72EX/2018_11/',\n",
    "#     'https://secure.flightradar24.com/N72EX/2018_12/',\n",
    "#     'https://secure.flightradar24.com/N72EX/2019_01/',\n",
    "#     'https://secure.flightradar24.com/N72EX/2019_02/',\n",
    "#     'https://secure.flightradar24.com/N72EX/2019_03/',\n",
    "#     'https://secure.flightradar24.com/N72EX/2019_04/',\n",
    "#     'https://secure.flightradar24.com/N72EX/2019_05/',\n",
    "#     'https://secure.flightradar24.com/N72EX/2019_06/',\n",
    "#     'https://secure.flightradar24.com/N72EX/2019_07/',\n",
    "#     'https://secure.flightradar24.com/N72EX/2019_08/',\n",
    "#     'https://secure.flightradar24.com/N72EX/2019_09/',\n",
    "#     'https://secure.flightradar24.com/N72EX/2019_10/',\n",
    "#     'https://secure.flightradar24.com/N72EX/2019_11/',\n",
    "#     'https://secure.flightradar24.com/N72EX/2019_12/',\n",
    "#     'https://secure.flightradar24.com/N72EX/2020_01/']"
   ]
  },
  {
   "cell_type": "code",
   "execution_count": 3,
   "metadata": {},
   "outputs": [],
   "source": [
    "# !cd input\n",
    "# !unzip \\*.zip\n",
    "# !rm -f *.zip"
   ]
  },
  {
   "cell_type": "markdown",
   "metadata": {},
   "source": [
    "### What does a flight file look like? "
   ]
  },
  {
   "cell_type": "code",
   "execution_count": 4,
   "metadata": {},
   "outputs": [
    {
     "data": {
      "text/html": [
       "<div>\n",
       "<style scoped>\n",
       "    .dataframe tbody tr th:only-of-type {\n",
       "        vertical-align: middle;\n",
       "    }\n",
       "\n",
       "    .dataframe tbody tr th {\n",
       "        vertical-align: top;\n",
       "    }\n",
       "\n",
       "    .dataframe thead th {\n",
       "        text-align: right;\n",
       "    }\n",
       "</style>\n",
       "<table border=\"1\" class=\"dataframe\">\n",
       "  <thead>\n",
       "    <tr style=\"text-align: right;\">\n",
       "      <th></th>\n",
       "      <th>snapshot_id</th>\n",
       "      <th>altitude</th>\n",
       "      <th>heading</th>\n",
       "      <th>latitude</th>\n",
       "      <th>longitude</th>\n",
       "      <th>radar_id</th>\n",
       "      <th>speed</th>\n",
       "      <th>squawk</th>\n",
       "    </tr>\n",
       "  </thead>\n",
       "  <tbody>\n",
       "    <tr>\n",
       "      <th>0</th>\n",
       "      <td>1579998328</td>\n",
       "      <td>375</td>\n",
       "      <td>301</td>\n",
       "      <td>33.66856</td>\n",
       "      <td>-117.87932</td>\n",
       "      <td>9795</td>\n",
       "      <td>74</td>\n",
       "      <td>0</td>\n",
       "    </tr>\n",
       "    <tr>\n",
       "      <th>1</th>\n",
       "      <td>1579998340</td>\n",
       "      <td>575</td>\n",
       "      <td>300</td>\n",
       "      <td>33.67126</td>\n",
       "      <td>-117.88470</td>\n",
       "      <td>9795</td>\n",
       "      <td>91</td>\n",
       "      <td>0</td>\n",
       "    </tr>\n",
       "    <tr>\n",
       "      <th>2</th>\n",
       "      <td>1579998352</td>\n",
       "      <td>700</td>\n",
       "      <td>295</td>\n",
       "      <td>33.67387</td>\n",
       "      <td>-117.89081</td>\n",
       "      <td>9795</td>\n",
       "      <td>115</td>\n",
       "      <td>0</td>\n",
       "    </tr>\n",
       "    <tr>\n",
       "      <th>3</th>\n",
       "      <td>1579998362</td>\n",
       "      <td>800</td>\n",
       "      <td>301</td>\n",
       "      <td>33.67653</td>\n",
       "      <td>-117.89687</td>\n",
       "      <td>9795</td>\n",
       "      <td>126</td>\n",
       "      <td>0</td>\n",
       "    </tr>\n",
       "    <tr>\n",
       "      <th>4</th>\n",
       "      <td>1579998371</td>\n",
       "      <td>850</td>\n",
       "      <td>301</td>\n",
       "      <td>33.67950</td>\n",
       "      <td>-117.90269</td>\n",
       "      <td>9795</td>\n",
       "      <td>132</td>\n",
       "      <td>4300</td>\n",
       "    </tr>\n",
       "    <tr>\n",
       "      <th>5</th>\n",
       "      <td>1579998378</td>\n",
       "      <td>900</td>\n",
       "      <td>300</td>\n",
       "      <td>33.68156</td>\n",
       "      <td>-117.90678</td>\n",
       "      <td>9795</td>\n",
       "      <td>134</td>\n",
       "      <td>4300</td>\n",
       "    </tr>\n",
       "    <tr>\n",
       "      <th>6</th>\n",
       "      <td>1579998387</td>\n",
       "      <td>950</td>\n",
       "      <td>300</td>\n",
       "      <td>33.68455</td>\n",
       "      <td>-117.91283</td>\n",
       "      <td>9795</td>\n",
       "      <td>136</td>\n",
       "      <td>4300</td>\n",
       "    </tr>\n",
       "    <tr>\n",
       "      <th>7</th>\n",
       "      <td>1579998398</td>\n",
       "      <td>1075</td>\n",
       "      <td>300</td>\n",
       "      <td>33.68807</td>\n",
       "      <td>-117.91996</td>\n",
       "      <td>9795</td>\n",
       "      <td>137</td>\n",
       "      <td>4300</td>\n",
       "    </tr>\n",
       "    <tr>\n",
       "      <th>8</th>\n",
       "      <td>1579998408</td>\n",
       "      <td>1175</td>\n",
       "      <td>300</td>\n",
       "      <td>33.69122</td>\n",
       "      <td>-117.92635</td>\n",
       "      <td>9795</td>\n",
       "      <td>136</td>\n",
       "      <td>4300</td>\n",
       "    </tr>\n",
       "    <tr>\n",
       "      <th>9</th>\n",
       "      <td>1579998422</td>\n",
       "      <td>1225</td>\n",
       "      <td>300</td>\n",
       "      <td>33.69586</td>\n",
       "      <td>-117.93560</td>\n",
       "      <td>9795</td>\n",
       "      <td>139</td>\n",
       "      <td>4300</td>\n",
       "    </tr>\n",
       "  </tbody>\n",
       "</table>\n",
       "</div>"
      ],
      "text/plain": [
       "   snapshot_id  altitude  heading  latitude  longitude  radar_id  speed  \\\n",
       "0   1579998328       375      301  33.66856 -117.87932      9795     74   \n",
       "1   1579998340       575      300  33.67126 -117.88470      9795     91   \n",
       "2   1579998352       700      295  33.67387 -117.89081      9795    115   \n",
       "3   1579998362       800      301  33.67653 -117.89687      9795    126   \n",
       "4   1579998371       850      301  33.67950 -117.90269      9795    132   \n",
       "5   1579998378       900      300  33.68156 -117.90678      9795    134   \n",
       "6   1579998387       950      300  33.68455 -117.91283      9795    136   \n",
       "7   1579998398      1075      300  33.68807 -117.91996      9795    137   \n",
       "8   1579998408      1175      300  33.69122 -117.92635      9795    136   \n",
       "9   1579998422      1225      300  33.69586 -117.93560      9795    139   \n",
       "\n",
       "   squawk  \n",
       "0       0  \n",
       "1       0  \n",
       "2       0  \n",
       "3       0  \n",
       "4    4300  \n",
       "5    4300  \n",
       "6    4300  \n",
       "7    4300  \n",
       "8    4300  \n",
       "9    4300  "
      ]
     },
     "execution_count": 4,
     "metadata": {},
     "output_type": "execute_result"
    }
   ],
   "source": [
    "a_flight = pd.read_csv('input/paths/20200126_598114379.csv')\n",
    "a_flight.head(10)"
   ]
  },
  {
   "cell_type": "code",
   "execution_count": 5,
   "metadata": {},
   "outputs": [
    {
     "data": {
      "text/plain": [
       "snapshot_id      int64\n",
       "altitude         int64\n",
       "heading          int64\n",
       "latitude       float64\n",
       "longitude      float64\n",
       "radar_id         int64\n",
       "speed            int64\n",
       "squawk           int64\n",
       "dtype: object"
      ]
     },
     "execution_count": 5,
     "metadata": {},
     "output_type": "execute_result"
    }
   ],
   "source": [
    "a_flight.dtypes"
   ]
  },
  {
   "cell_type": "markdown",
   "metadata": {},
   "source": [
    "### Concatenate the flight path files"
   ]
  },
  {
   "cell_type": "code",
   "execution_count": 6,
   "metadata": {},
   "outputs": [],
   "source": [
    "#set path\n",
    "path = 'input/paths/'"
   ]
  },
  {
   "cell_type": "code",
   "execution_count": 7,
   "metadata": {},
   "outputs": [],
   "source": [
    "files = glob.glob(os.path.join(path, \"*.csv\"))"
   ]
  },
  {
   "cell_type": "markdown",
   "metadata": {},
   "source": [
    "### Read the csv and create a 'flightid' field so we can track unique flights"
   ]
  },
  {
   "cell_type": "code",
   "execution_count": 8,
   "metadata": {},
   "outputs": [],
   "source": [
    "file_df = (pd.read_csv(f, encoding = \"ISO-8859-1\", low_memory=False)\\\n",
    "           .assign(flightid=os.path.basename(f)) for f in files)"
   ]
  },
  {
   "cell_type": "code",
   "execution_count": 9,
   "metadata": {},
   "outputs": [],
   "source": [
    "concatenated_df = pd.concat(file_df, ignore_index=True)"
   ]
  },
  {
   "cell_type": "code",
   "execution_count": 10,
   "metadata": {},
   "outputs": [],
   "source": [
    "concatenated_df['flightid'] = concatenated_df['flightid']\\\n",
    "    .str.replace('DL89_','', regex=False)\\\n",
    "    .str.replace('.csv','', regex=False)"
   ]
  },
  {
   "cell_type": "markdown",
   "metadata": {},
   "source": [
    "### How many flight segments do we have? "
   ]
  },
  {
   "cell_type": "code",
   "execution_count": 11,
   "metadata": {},
   "outputs": [
    {
     "data": {
      "text/plain": [
       "77091"
      ]
     },
     "execution_count": 11,
     "metadata": {},
     "output_type": "execute_result"
    }
   ],
   "source": [
    "len(concatenated_df)"
   ]
  },
  {
   "cell_type": "code",
   "execution_count": 12,
   "metadata": {},
   "outputs": [
    {
     "data": {
      "text/html": [
       "<div>\n",
       "<style scoped>\n",
       "    .dataframe tbody tr th:only-of-type {\n",
       "        vertical-align: middle;\n",
       "    }\n",
       "\n",
       "    .dataframe tbody tr th {\n",
       "        vertical-align: top;\n",
       "    }\n",
       "\n",
       "    .dataframe thead th {\n",
       "        text-align: right;\n",
       "    }\n",
       "</style>\n",
       "<table border=\"1\" class=\"dataframe\">\n",
       "  <thead>\n",
       "    <tr style=\"text-align: right;\">\n",
       "      <th></th>\n",
       "      <th>snapshot_id</th>\n",
       "      <th>altitude</th>\n",
       "      <th>heading</th>\n",
       "      <th>latitude</th>\n",
       "      <th>longitude</th>\n",
       "      <th>radar_id</th>\n",
       "      <th>speed</th>\n",
       "      <th>squawk</th>\n",
       "      <th>flightid</th>\n",
       "    </tr>\n",
       "  </thead>\n",
       "  <tbody>\n",
       "    <tr>\n",
       "      <th>0</th>\n",
       "      <td>1558727880</td>\n",
       "      <td>0</td>\n",
       "      <td>271</td>\n",
       "      <td>33.66540</td>\n",
       "      <td>-117.87410</td>\n",
       "      <td>4062</td>\n",
       "      <td>0</td>\n",
       "      <td>0</td>\n",
       "      <td>20190524_547520609</td>\n",
       "    </tr>\n",
       "    <tr>\n",
       "      <th>1</th>\n",
       "      <td>1558728111</td>\n",
       "      <td>0</td>\n",
       "      <td>230</td>\n",
       "      <td>33.66537</td>\n",
       "      <td>-117.87434</td>\n",
       "      <td>4062</td>\n",
       "      <td>33</td>\n",
       "      <td>4300</td>\n",
       "      <td>20190524_547520609</td>\n",
       "    </tr>\n",
       "    <tr>\n",
       "      <th>2</th>\n",
       "      <td>1558728117</td>\n",
       "      <td>50</td>\n",
       "      <td>178</td>\n",
       "      <td>33.66486</td>\n",
       "      <td>-117.87449</td>\n",
       "      <td>4062</td>\n",
       "      <td>31</td>\n",
       "      <td>4300</td>\n",
       "      <td>20190524_547520609</td>\n",
       "    </tr>\n",
       "    <tr>\n",
       "      <th>3</th>\n",
       "      <td>1558728126</td>\n",
       "      <td>275</td>\n",
       "      <td>187</td>\n",
       "      <td>33.66316</td>\n",
       "      <td>-117.87456</td>\n",
       "      <td>4062</td>\n",
       "      <td>46</td>\n",
       "      <td>4300</td>\n",
       "      <td>20190524_547520609</td>\n",
       "    </tr>\n",
       "    <tr>\n",
       "      <th>4</th>\n",
       "      <td>1558728132</td>\n",
       "      <td>400</td>\n",
       "      <td>264</td>\n",
       "      <td>33.66179</td>\n",
       "      <td>-117.87674</td>\n",
       "      <td>4062</td>\n",
       "      <td>75</td>\n",
       "      <td>4300</td>\n",
       "      <td>20190524_547520609</td>\n",
       "    </tr>\n",
       "  </tbody>\n",
       "</table>\n",
       "</div>"
      ],
      "text/plain": [
       "   snapshot_id  altitude  heading  latitude  longitude  radar_id  speed  \\\n",
       "0   1558727880         0      271  33.66540 -117.87410      4062      0   \n",
       "1   1558728111         0      230  33.66537 -117.87434      4062     33   \n",
       "2   1558728117        50      178  33.66486 -117.87449      4062     31   \n",
       "3   1558728126       275      187  33.66316 -117.87456      4062     46   \n",
       "4   1558728132       400      264  33.66179 -117.87674      4062     75   \n",
       "\n",
       "   squawk            flightid  \n",
       "0       0  20190524_547520609  \n",
       "1    4300  20190524_547520609  \n",
       "2    4300  20190524_547520609  \n",
       "3    4300  20190524_547520609  \n",
       "4    4300  20190524_547520609  "
      ]
     },
     "execution_count": 12,
     "metadata": {},
     "output_type": "execute_result"
    }
   ],
   "source": [
    "concatenated_df.head()"
   ]
  },
  {
   "cell_type": "markdown",
   "metadata": {},
   "source": [
    "### Clean up the dataframe"
   ]
  },
  {
   "cell_type": "code",
   "execution_count": 13,
   "metadata": {},
   "outputs": [],
   "source": [
    "concatenated_df.columns = concatenated_df.columns.str.strip().str.lower().str.replace(' ', '_', regex=False)\\\n",
    "                    .str.replace('(', '', regex=False).str.replace(')', '', regex=False).str.replace('-','_', regex=False)"
   ]
  },
  {
   "cell_type": "code",
   "execution_count": 14,
   "metadata": {},
   "outputs": [
    {
     "data": {
      "text/html": [
       "<div>\n",
       "<style scoped>\n",
       "    .dataframe tbody tr th:only-of-type {\n",
       "        vertical-align: middle;\n",
       "    }\n",
       "\n",
       "    .dataframe tbody tr th {\n",
       "        vertical-align: top;\n",
       "    }\n",
       "\n",
       "    .dataframe thead th {\n",
       "        text-align: right;\n",
       "    }\n",
       "</style>\n",
       "<table border=\"1\" class=\"dataframe\">\n",
       "  <thead>\n",
       "    <tr style=\"text-align: right;\">\n",
       "      <th></th>\n",
       "      <th>snapshot_id</th>\n",
       "      <th>altitude</th>\n",
       "      <th>heading</th>\n",
       "      <th>latitude</th>\n",
       "      <th>longitude</th>\n",
       "      <th>radar_id</th>\n",
       "      <th>speed</th>\n",
       "      <th>squawk</th>\n",
       "      <th>flightid</th>\n",
       "    </tr>\n",
       "  </thead>\n",
       "  <tbody>\n",
       "    <tr>\n",
       "      <th>68898</th>\n",
       "      <td>1579998831</td>\n",
       "      <td>0</td>\n",
       "      <td>271</td>\n",
       "      <td>33.81313</td>\n",
       "      <td>-118.16036</td>\n",
       "      <td>2958</td>\n",
       "      <td>49</td>\n",
       "      <td>4300</td>\n",
       "      <td>20200126_598114379</td>\n",
       "    </tr>\n",
       "    <tr>\n",
       "      <th>68897</th>\n",
       "      <td>1579998823</td>\n",
       "      <td>50</td>\n",
       "      <td>271</td>\n",
       "      <td>33.81289</td>\n",
       "      <td>-118.15881</td>\n",
       "      <td>2958</td>\n",
       "      <td>49</td>\n",
       "      <td>4300</td>\n",
       "      <td>20200126_598114379</td>\n",
       "    </tr>\n",
       "    <tr>\n",
       "      <th>68896</th>\n",
       "      <td>1579998816</td>\n",
       "      <td>75</td>\n",
       "      <td>272</td>\n",
       "      <td>33.81285</td>\n",
       "      <td>-118.15672</td>\n",
       "      <td>2958</td>\n",
       "      <td>53</td>\n",
       "      <td>4300</td>\n",
       "      <td>20200126_598114379</td>\n",
       "    </tr>\n",
       "    <tr>\n",
       "      <th>68895</th>\n",
       "      <td>1579998807</td>\n",
       "      <td>100</td>\n",
       "      <td>267</td>\n",
       "      <td>33.81285</td>\n",
       "      <td>-118.15401</td>\n",
       "      <td>2958</td>\n",
       "      <td>60</td>\n",
       "      <td>4300</td>\n",
       "      <td>20200126_598114379</td>\n",
       "    </tr>\n",
       "    <tr>\n",
       "      <th>68894</th>\n",
       "      <td>1579998800</td>\n",
       "      <td>125</td>\n",
       "      <td>270</td>\n",
       "      <td>33.81294</td>\n",
       "      <td>-118.15163</td>\n",
       "      <td>2958</td>\n",
       "      <td>62</td>\n",
       "      <td>4300</td>\n",
       "      <td>20200126_598114379</td>\n",
       "    </tr>\n",
       "  </tbody>\n",
       "</table>\n",
       "</div>"
      ],
      "text/plain": [
       "       snapshot_id  altitude  heading  latitude  longitude  radar_id  speed  \\\n",
       "68898   1579998831         0      271  33.81313 -118.16036      2958     49   \n",
       "68897   1579998823        50      271  33.81289 -118.15881      2958     49   \n",
       "68896   1579998816        75      272  33.81285 -118.15672      2958     53   \n",
       "68895   1579998807       100      267  33.81285 -118.15401      2958     60   \n",
       "68894   1579998800       125      270  33.81294 -118.15163      2958     62   \n",
       "\n",
       "       squawk            flightid  \n",
       "68898    4300  20200126_598114379  \n",
       "68897    4300  20200126_598114379  \n",
       "68896    4300  20200126_598114379  \n",
       "68895    4300  20200126_598114379  \n",
       "68894    4300  20200126_598114379  "
      ]
     },
     "execution_count": 14,
     "metadata": {},
     "output_type": "execute_result"
    }
   ],
   "source": [
    "flights = pd.DataFrame(concatenated_df.sort_values(by='snapshot_id', ascending=False))\n",
    "flights.head()"
   ]
  },
  {
   "cell_type": "markdown",
   "metadata": {},
   "source": [
    "### Split location field into lat, lon to create a geodataframe"
   ]
  },
  {
   "cell_type": "code",
   "execution_count": 15,
   "metadata": {},
   "outputs": [],
   "source": [
    "flights['latitude'] = flights['latitude'].astype(float)\n",
    "flights['longitude'] = flights['longitude'].astype(float)"
   ]
  },
  {
   "cell_type": "markdown",
   "metadata": {},
   "source": [
    "### Convert the UTC date string into an actual datetime series"
   ]
  },
  {
   "cell_type": "code",
   "execution_count": 16,
   "metadata": {},
   "outputs": [],
   "source": [
    "flights['date_time'] = pd.to_datetime(flights['snapshot_id'],unit='s')"
   ]
  },
  {
   "cell_type": "code",
   "execution_count": 17,
   "metadata": {},
   "outputs": [],
   "source": [
    "flights['utc_datetime'] = pd.to_datetime(flights['date_time'], format='%Y-%m-%dT%H:%M:%SZ').dt.tz_localize('UTC')"
   ]
  },
  {
   "cell_type": "markdown",
   "metadata": {},
   "source": [
    "### Localize to Los Angeles time"
   ]
  },
  {
   "cell_type": "code",
   "execution_count": 18,
   "metadata": {},
   "outputs": [],
   "source": [
    "flights['datetime_pst'] = flights['utc_datetime'].dt.tz_convert('America/Los_Angeles')"
   ]
  },
  {
   "cell_type": "code",
   "execution_count": 19,
   "metadata": {},
   "outputs": [
    {
     "data": {
      "text/html": [
       "<div>\n",
       "<style scoped>\n",
       "    .dataframe tbody tr th:only-of-type {\n",
       "        vertical-align: middle;\n",
       "    }\n",
       "\n",
       "    .dataframe tbody tr th {\n",
       "        vertical-align: top;\n",
       "    }\n",
       "\n",
       "    .dataframe thead th {\n",
       "        text-align: right;\n",
       "    }\n",
       "</style>\n",
       "<table border=\"1\" class=\"dataframe\">\n",
       "  <thead>\n",
       "    <tr style=\"text-align: right;\">\n",
       "      <th></th>\n",
       "      <th>snapshot_id</th>\n",
       "      <th>altitude</th>\n",
       "      <th>heading</th>\n",
       "      <th>latitude</th>\n",
       "      <th>longitude</th>\n",
       "      <th>radar_id</th>\n",
       "      <th>speed</th>\n",
       "      <th>squawk</th>\n",
       "      <th>flightid</th>\n",
       "      <th>date_time</th>\n",
       "      <th>utc_datetime</th>\n",
       "      <th>datetime_pst</th>\n",
       "    </tr>\n",
       "  </thead>\n",
       "  <tbody>\n",
       "    <tr>\n",
       "      <th>68898</th>\n",
       "      <td>1579998831</td>\n",
       "      <td>0</td>\n",
       "      <td>271</td>\n",
       "      <td>33.81313</td>\n",
       "      <td>-118.16036</td>\n",
       "      <td>2958</td>\n",
       "      <td>49</td>\n",
       "      <td>4300</td>\n",
       "      <td>20200126_598114379</td>\n",
       "      <td>2020-01-26 00:33:51</td>\n",
       "      <td>2020-01-26 00:33:51+00:00</td>\n",
       "      <td>2020-01-25 16:33:51-08:00</td>\n",
       "    </tr>\n",
       "    <tr>\n",
       "      <th>68897</th>\n",
       "      <td>1579998823</td>\n",
       "      <td>50</td>\n",
       "      <td>271</td>\n",
       "      <td>33.81289</td>\n",
       "      <td>-118.15881</td>\n",
       "      <td>2958</td>\n",
       "      <td>49</td>\n",
       "      <td>4300</td>\n",
       "      <td>20200126_598114379</td>\n",
       "      <td>2020-01-26 00:33:43</td>\n",
       "      <td>2020-01-26 00:33:43+00:00</td>\n",
       "      <td>2020-01-25 16:33:43-08:00</td>\n",
       "    </tr>\n",
       "    <tr>\n",
       "      <th>68896</th>\n",
       "      <td>1579998816</td>\n",
       "      <td>75</td>\n",
       "      <td>272</td>\n",
       "      <td>33.81285</td>\n",
       "      <td>-118.15672</td>\n",
       "      <td>2958</td>\n",
       "      <td>53</td>\n",
       "      <td>4300</td>\n",
       "      <td>20200126_598114379</td>\n",
       "      <td>2020-01-26 00:33:36</td>\n",
       "      <td>2020-01-26 00:33:36+00:00</td>\n",
       "      <td>2020-01-25 16:33:36-08:00</td>\n",
       "    </tr>\n",
       "    <tr>\n",
       "      <th>68895</th>\n",
       "      <td>1579998807</td>\n",
       "      <td>100</td>\n",
       "      <td>267</td>\n",
       "      <td>33.81285</td>\n",
       "      <td>-118.15401</td>\n",
       "      <td>2958</td>\n",
       "      <td>60</td>\n",
       "      <td>4300</td>\n",
       "      <td>20200126_598114379</td>\n",
       "      <td>2020-01-26 00:33:27</td>\n",
       "      <td>2020-01-26 00:33:27+00:00</td>\n",
       "      <td>2020-01-25 16:33:27-08:00</td>\n",
       "    </tr>\n",
       "    <tr>\n",
       "      <th>68894</th>\n",
       "      <td>1579998800</td>\n",
       "      <td>125</td>\n",
       "      <td>270</td>\n",
       "      <td>33.81294</td>\n",
       "      <td>-118.15163</td>\n",
       "      <td>2958</td>\n",
       "      <td>62</td>\n",
       "      <td>4300</td>\n",
       "      <td>20200126_598114379</td>\n",
       "      <td>2020-01-26 00:33:20</td>\n",
       "      <td>2020-01-26 00:33:20+00:00</td>\n",
       "      <td>2020-01-25 16:33:20-08:00</td>\n",
       "    </tr>\n",
       "  </tbody>\n",
       "</table>\n",
       "</div>"
      ],
      "text/plain": [
       "       snapshot_id  altitude  heading  latitude  longitude  radar_id  speed  \\\n",
       "68898   1579998831         0      271  33.81313 -118.16036      2958     49   \n",
       "68897   1579998823        50      271  33.81289 -118.15881      2958     49   \n",
       "68896   1579998816        75      272  33.81285 -118.15672      2958     53   \n",
       "68895   1579998807       100      267  33.81285 -118.15401      2958     60   \n",
       "68894   1579998800       125      270  33.81294 -118.15163      2958     62   \n",
       "\n",
       "       squawk            flightid           date_time  \\\n",
       "68898    4300  20200126_598114379 2020-01-26 00:33:51   \n",
       "68897    4300  20200126_598114379 2020-01-26 00:33:43   \n",
       "68896    4300  20200126_598114379 2020-01-26 00:33:36   \n",
       "68895    4300  20200126_598114379 2020-01-26 00:33:27   \n",
       "68894    4300  20200126_598114379 2020-01-26 00:33:20   \n",
       "\n",
       "                   utc_datetime              datetime_pst  \n",
       "68898 2020-01-26 00:33:51+00:00 2020-01-25 16:33:51-08:00  \n",
       "68897 2020-01-26 00:33:43+00:00 2020-01-25 16:33:43-08:00  \n",
       "68896 2020-01-26 00:33:36+00:00 2020-01-25 16:33:36-08:00  \n",
       "68895 2020-01-26 00:33:27+00:00 2020-01-25 16:33:27-08:00  \n",
       "68894 2020-01-26 00:33:20+00:00 2020-01-25 16:33:20-08:00  "
      ]
     },
     "execution_count": 19,
     "metadata": {},
     "output_type": "execute_result"
    }
   ],
   "source": [
    "flights.head()"
   ]
  },
  {
   "cell_type": "markdown",
   "metadata": {},
   "source": [
    "### In case we need simplier date/time fields"
   ]
  },
  {
   "cell_type": "code",
   "execution_count": 20,
   "metadata": {},
   "outputs": [],
   "source": [
    "flights['date'] = pd.to_datetime(flights['datetime_pst']).dt.strftime('%m/%d/%Y')\n",
    "flights['time'] = pd.to_datetime(flights['datetime_pst']).dt.strftime('%H:%M:%S')\n",
    "flights['display_time'] = pd.to_datetime(flights['datetime_pst']).dt.strftime('%I:%M %p')\n",
    "flights['weekday'] = flights['datetime_pst'].dt.day_name()"
   ]
  },
  {
   "cell_type": "markdown",
   "metadata": {},
   "source": [
    "### Lighten the dataframe a bit"
   ]
  },
  {
   "cell_type": "code",
   "execution_count": 21,
   "metadata": {},
   "outputs": [],
   "source": [
    "flights.drop(['utc_datetime', 'datetime_pst', 'snapshot_id', 'display_time'], axis=1, inplace=True)"
   ]
  },
  {
   "cell_type": "code",
   "execution_count": 22,
   "metadata": {},
   "outputs": [
    {
     "data": {
      "text/html": [
       "<div>\n",
       "<style scoped>\n",
       "    .dataframe tbody tr th:only-of-type {\n",
       "        vertical-align: middle;\n",
       "    }\n",
       "\n",
       "    .dataframe tbody tr th {\n",
       "        vertical-align: top;\n",
       "    }\n",
       "\n",
       "    .dataframe thead th {\n",
       "        text-align: right;\n",
       "    }\n",
       "</style>\n",
       "<table border=\"1\" class=\"dataframe\">\n",
       "  <thead>\n",
       "    <tr style=\"text-align: right;\">\n",
       "      <th></th>\n",
       "      <th>altitude</th>\n",
       "      <th>heading</th>\n",
       "      <th>latitude</th>\n",
       "      <th>longitude</th>\n",
       "      <th>radar_id</th>\n",
       "      <th>speed</th>\n",
       "      <th>squawk</th>\n",
       "      <th>flightid</th>\n",
       "      <th>date_time</th>\n",
       "      <th>date</th>\n",
       "      <th>time</th>\n",
       "      <th>weekday</th>\n",
       "    </tr>\n",
       "  </thead>\n",
       "  <tbody>\n",
       "    <tr>\n",
       "      <th>68898</th>\n",
       "      <td>0</td>\n",
       "      <td>271</td>\n",
       "      <td>33.81313</td>\n",
       "      <td>-118.16036</td>\n",
       "      <td>2958</td>\n",
       "      <td>49</td>\n",
       "      <td>4300</td>\n",
       "      <td>20200126_598114379</td>\n",
       "      <td>2020-01-26 00:33:51</td>\n",
       "      <td>01/25/2020</td>\n",
       "      <td>16:33:51</td>\n",
       "      <td>Saturday</td>\n",
       "    </tr>\n",
       "    <tr>\n",
       "      <th>68897</th>\n",
       "      <td>50</td>\n",
       "      <td>271</td>\n",
       "      <td>33.81289</td>\n",
       "      <td>-118.15881</td>\n",
       "      <td>2958</td>\n",
       "      <td>49</td>\n",
       "      <td>4300</td>\n",
       "      <td>20200126_598114379</td>\n",
       "      <td>2020-01-26 00:33:43</td>\n",
       "      <td>01/25/2020</td>\n",
       "      <td>16:33:43</td>\n",
       "      <td>Saturday</td>\n",
       "    </tr>\n",
       "    <tr>\n",
       "      <th>68896</th>\n",
       "      <td>75</td>\n",
       "      <td>272</td>\n",
       "      <td>33.81285</td>\n",
       "      <td>-118.15672</td>\n",
       "      <td>2958</td>\n",
       "      <td>53</td>\n",
       "      <td>4300</td>\n",
       "      <td>20200126_598114379</td>\n",
       "      <td>2020-01-26 00:33:36</td>\n",
       "      <td>01/25/2020</td>\n",
       "      <td>16:33:36</td>\n",
       "      <td>Saturday</td>\n",
       "    </tr>\n",
       "    <tr>\n",
       "      <th>68895</th>\n",
       "      <td>100</td>\n",
       "      <td>267</td>\n",
       "      <td>33.81285</td>\n",
       "      <td>-118.15401</td>\n",
       "      <td>2958</td>\n",
       "      <td>60</td>\n",
       "      <td>4300</td>\n",
       "      <td>20200126_598114379</td>\n",
       "      <td>2020-01-26 00:33:27</td>\n",
       "      <td>01/25/2020</td>\n",
       "      <td>16:33:27</td>\n",
       "      <td>Saturday</td>\n",
       "    </tr>\n",
       "    <tr>\n",
       "      <th>68894</th>\n",
       "      <td>125</td>\n",
       "      <td>270</td>\n",
       "      <td>33.81294</td>\n",
       "      <td>-118.15163</td>\n",
       "      <td>2958</td>\n",
       "      <td>62</td>\n",
       "      <td>4300</td>\n",
       "      <td>20200126_598114379</td>\n",
       "      <td>2020-01-26 00:33:20</td>\n",
       "      <td>01/25/2020</td>\n",
       "      <td>16:33:20</td>\n",
       "      <td>Saturday</td>\n",
       "    </tr>\n",
       "  </tbody>\n",
       "</table>\n",
       "</div>"
      ],
      "text/plain": [
       "       altitude  heading  latitude  longitude  radar_id  speed  squawk  \\\n",
       "68898         0      271  33.81313 -118.16036      2958     49    4300   \n",
       "68897        50      271  33.81289 -118.15881      2958     49    4300   \n",
       "68896        75      272  33.81285 -118.15672      2958     53    4300   \n",
       "68895       100      267  33.81285 -118.15401      2958     60    4300   \n",
       "68894       125      270  33.81294 -118.15163      2958     62    4300   \n",
       "\n",
       "                 flightid           date_time        date      time   weekday  \n",
       "68898  20200126_598114379 2020-01-26 00:33:51  01/25/2020  16:33:51  Saturday  \n",
       "68897  20200126_598114379 2020-01-26 00:33:43  01/25/2020  16:33:43  Saturday  \n",
       "68896  20200126_598114379 2020-01-26 00:33:36  01/25/2020  16:33:36  Saturday  \n",
       "68895  20200126_598114379 2020-01-26 00:33:27  01/25/2020  16:33:27  Saturday  \n",
       "68894  20200126_598114379 2020-01-26 00:33:20  01/25/2020  16:33:20  Saturday  "
      ]
     },
     "execution_count": 22,
     "metadata": {},
     "output_type": "execute_result"
    }
   ],
   "source": [
    "flights.head()"
   ]
  },
  {
   "cell_type": "markdown",
   "metadata": {},
   "source": [
    "### Export the dataframe as a CSV"
   ]
  },
  {
   "cell_type": "code",
   "execution_count": 23,
   "metadata": {},
   "outputs": [],
   "source": [
    "flights.to_csv('output/all_flights.csv')"
   ]
  },
  {
   "cell_type": "markdown",
   "metadata": {},
   "source": [
    "---"
   ]
  },
  {
   "cell_type": "markdown",
   "metadata": {},
   "source": [
    "## Geography"
   ]
  },
  {
   "cell_type": "markdown",
   "metadata": {},
   "source": [
    "### Let's convert our flights data to a geodataframe"
   ]
  },
  {
   "cell_type": "code",
   "execution_count": 24,
   "metadata": {},
   "outputs": [],
   "source": [
    "flights_grouped = flights.groupby('flightid').size().reset_index(name='count')"
   ]
  },
  {
   "cell_type": "code",
   "execution_count": 25,
   "metadata": {},
   "outputs": [],
   "source": [
    "flights_grouped_clean = flights_grouped[flights_grouped['count'] > 100]"
   ]
  },
  {
   "cell_type": "code",
   "execution_count": 26,
   "metadata": {},
   "outputs": [],
   "source": [
    "filtered = flights_grouped_clean.flightid.to_list()"
   ]
  },
  {
   "cell_type": "code",
   "execution_count": 27,
   "metadata": {},
   "outputs": [],
   "source": [
    "flights_filtered = flights[flights.flightid.isin(filtered)]"
   ]
  },
  {
   "cell_type": "code",
   "execution_count": 28,
   "metadata": {},
   "outputs": [],
   "source": [
    "flights_geo = gpd.GeoDataFrame(flights_filtered, geometry=gpd.points_from_xy(flights_filtered['longitude'], flights_filtered['latitude']))"
   ]
  },
  {
   "cell_type": "code",
   "execution_count": 29,
   "metadata": {},
   "outputs": [
    {
     "data": {
      "text/plain": [
       "<AxesSubplot:>"
      ]
     },
     "execution_count": 29,
     "metadata": {},
     "output_type": "execute_result"
    },
    {
     "data": {
      "image/png": "[encoded data removed]",
      "text/plain": [
       "<Figure size 432x288 with 1 Axes>"
      ]
     },
     "metadata": {
      "needs_background": "light"
     },
     "output_type": "display_data"
    }
   ],
   "source": [
    "flights_geo.plot()"
   ]
  },
  {
   "cell_type": "markdown",
   "metadata": {},
   "source": [
    "### We need flight paths. Convert to points to linestring"
   ]
  },
  {
   "cell_type": "code",
   "execution_count": 30,
   "metadata": {},
   "outputs": [],
   "source": [
    "flights_geo_line = flights_geo.groupby(['flightid', 'date'])['geometry']\\\n",
    "    .apply(lambda x: LineString(x.tolist()) if x.size > 1 else x.tolist()).reset_index()"
   ]
  },
  {
   "cell_type": "code",
   "execution_count": 31,
   "metadata": {},
   "outputs": [
    {
     "data": {
      "text/plain": [
       "<AxesSubplot:>"
      ]
     },
     "execution_count": 31,
     "metadata": {},
     "output_type": "execute_result"
    },
    {
     "data": {
      "image/png": "[encoded data removed]",
      "text/plain": [
       "<Figure size 432x288 with 1 Axes>"
      ]
     },
     "metadata": {
      "needs_background": "light"
     },
     "output_type": "display_data"
    }
   ],
   "source": [
    "flights_geo_line.plot()"
   ]
  },
  {
   "cell_type": "code",
   "execution_count": 32,
   "metadata": {},
   "outputs": [],
   "source": [
    "flights_geo_line.to_file('../data/geo/kobe_flight/kobe_flights.geojson', driver='GeoJSON')"
   ]
  },
  {
   "cell_type": "code",
   "execution_count": 33,
   "metadata": {},
   "outputs": [],
   "source": [
    "flights_geo_line['date'] = pd.to_datetime(flights_geo_line['date'])"
   ]
  },
  {
   "cell_type": "code",
   "execution_count": 34,
   "metadata": {},
   "outputs": [
    {
     "data": {
      "text/plain": [
       "<AxesSubplot:>"
      ]
     },
     "execution_count": 34,
     "metadata": {},
     "output_type": "execute_result"
    },
    {
     "data": {
      "image/png": "[encoded data removed]",
      "text/plain": [
       "<Figure size 432x288 with 1 Axes>"
      ]
     },
     "metadata": {
      "needs_background": "light"
     },
     "output_type": "display_data"
    }
   ],
   "source": [
    "flights_geo_line[flights_geo_line['date'] > '2020-01-01'].plot()"
   ]
  },
  {
   "cell_type": "markdown",
   "metadata": {},
   "source": [
    "---"
   ]
  },
  {
   "cell_type": "markdown",
   "metadata": {},
   "source": [
    "### Final flight"
   ]
  },
  {
   "cell_type": "code",
   "execution_count": 35,
   "metadata": {},
   "outputs": [],
   "source": [
    "final_flight = gpd.read_file('../data/geo/kobe_flight/kobe_final_flight.geojson')"
   ]
  },
  {
   "cell_type": "code",
   "execution_count": 36,
   "metadata": {},
   "outputs": [],
   "source": [
    "final_flight_points = gpd.read_file('../data/geo/kobe_flight/kobe_final_flight_points.geojson')"
   ]
  },
  {
   "cell_type": "code",
   "execution_count": 37,
   "metadata": {},
   "outputs": [
    {
     "data": {
      "text/html": [
       "<div>\n",
       "<style scoped>\n",
       "    .dataframe tbody tr th:only-of-type {\n",
       "        vertical-align: middle;\n",
       "    }\n",
       "\n",
       "    .dataframe tbody tr th {\n",
       "        vertical-align: top;\n",
       "    }\n",
       "\n",
       "    .dataframe thead th {\n",
       "        text-align: right;\n",
       "    }\n",
       "</style>\n",
       "<table border=\"1\" class=\"dataframe\">\n",
       "  <thead>\n",
       "    <tr style=\"text-align: right;\">\n",
       "      <th></th>\n",
       "      <th>timestamp</th>\n",
       "      <th>utc</th>\n",
       "      <th>callsign</th>\n",
       "      <th>position</th>\n",
       "      <th>altitude</th>\n",
       "      <th>speed</th>\n",
       "      <th>direction</th>\n",
       "      <th>latitude</th>\n",
       "      <th>longitude</th>\n",
       "      <th>utc_datetime</th>\n",
       "      <th>datetime</th>\n",
       "      <th>date</th>\n",
       "      <th>time</th>\n",
       "      <th>display_time</th>\n",
       "      <th>weekday</th>\n",
       "      <th>geometry</th>\n",
       "    </tr>\n",
       "  </thead>\n",
       "  <tbody>\n",
       "    <tr>\n",
       "      <th>0</th>\n",
       "      <td>1580060729</td>\n",
       "      <td>2020-01-26T17:45:29+00:00</td>\n",
       "      <td>N72EX</td>\n",
       "      <td>34.135498,-118.699608</td>\n",
       "      <td>1700</td>\n",
       "      <td>153</td>\n",
       "      <td>120</td>\n",
       "      <td>34.135498</td>\n",
       "      <td>-118.699608</td>\n",
       "      <td>2020-01-26T17:45:29</td>\n",
       "      <td>2020-01-26T09:45:29</td>\n",
       "      <td>01/26/2020</td>\n",
       "      <td>09:45:29</td>\n",
       "      <td>09:45:00</td>\n",
       "      <td>Sunday</td>\n",
       "      <td>POINT (-118.69961 34.13550)</td>\n",
       "    </tr>\n",
       "    <tr>\n",
       "      <th>1</th>\n",
       "      <td>1580060723</td>\n",
       "      <td>2020-01-26T17:45:23+00:00</td>\n",
       "      <td>N72EX</td>\n",
       "      <td>34.138824,-118.703407</td>\n",
       "      <td>2050</td>\n",
       "      <td>127</td>\n",
       "      <td>163</td>\n",
       "      <td>34.138824</td>\n",
       "      <td>-118.703407</td>\n",
       "      <td>2020-01-26T17:45:23</td>\n",
       "      <td>2020-01-26T09:45:23</td>\n",
       "      <td>01/26/2020</td>\n",
       "      <td>09:45:23</td>\n",
       "      <td>09:45:00</td>\n",
       "      <td>Sunday</td>\n",
       "      <td>POINT (-118.70341 34.13882)</td>\n",
       "    </tr>\n",
       "    <tr>\n",
       "      <th>2</th>\n",
       "      <td>1580060715</td>\n",
       "      <td>2020-01-26T17:45:15+00:00</td>\n",
       "      <td>N72EX</td>\n",
       "      <td>34.14304,-118.703323</td>\n",
       "      <td>2125</td>\n",
       "      <td>110</td>\n",
       "      <td>207</td>\n",
       "      <td>34.143040</td>\n",
       "      <td>-118.703323</td>\n",
       "      <td>2020-01-26T17:45:15</td>\n",
       "      <td>2020-01-26T09:45:15</td>\n",
       "      <td>01/26/2020</td>\n",
       "      <td>09:45:15</td>\n",
       "      <td>09:45:00</td>\n",
       "      <td>Sunday</td>\n",
       "      <td>POINT (-118.70332 34.14304)</td>\n",
       "    </tr>\n",
       "    <tr>\n",
       "      <th>3</th>\n",
       "      <td>1580060708</td>\n",
       "      <td>2020-01-26T17:45:08+00:00</td>\n",
       "      <td>N72EX</td>\n",
       "      <td>34.145741,-118.701096</td>\n",
       "      <td>1950</td>\n",
       "      <td>111</td>\n",
       "      <td>225</td>\n",
       "      <td>34.145741</td>\n",
       "      <td>-118.701096</td>\n",
       "      <td>2020-01-26T17:45:08</td>\n",
       "      <td>2020-01-26T09:45:08</td>\n",
       "      <td>01/26/2020</td>\n",
       "      <td>09:45:08</td>\n",
       "      <td>09:45:00</td>\n",
       "      <td>Sunday</td>\n",
       "      <td>POINT (-118.70110 34.14574)</td>\n",
       "    </tr>\n",
       "    <tr>\n",
       "      <th>4</th>\n",
       "      <td>1580060700</td>\n",
       "      <td>2020-01-26T17:45:00+00:00</td>\n",
       "      <td>N72EX</td>\n",
       "      <td>34.148861,-118.697037</td>\n",
       "      <td>1750</td>\n",
       "      <td>115</td>\n",
       "      <td>233</td>\n",
       "      <td>34.148861</td>\n",
       "      <td>-118.697037</td>\n",
       "      <td>2020-01-26T17:45:00</td>\n",
       "      <td>2020-01-26T09:45:00</td>\n",
       "      <td>01/26/2020</td>\n",
       "      <td>09:45:00</td>\n",
       "      <td>09:45:00</td>\n",
       "      <td>Sunday</td>\n",
       "      <td>POINT (-118.69704 34.14886)</td>\n",
       "    </tr>\n",
       "  </tbody>\n",
       "</table>\n",
       "</div>"
      ],
      "text/plain": [
       "    timestamp                        utc callsign               position  \\\n",
       "0  1580060729  2020-01-26T17:45:29+00:00    N72EX  34.135498,-118.699608   \n",
       "1  1580060723  2020-01-26T17:45:23+00:00    N72EX  34.138824,-118.703407   \n",
       "2  1580060715  2020-01-26T17:45:15+00:00    N72EX   34.14304,-118.703323   \n",
       "3  1580060708  2020-01-26T17:45:08+00:00    N72EX  34.145741,-118.701096   \n",
       "4  1580060700  2020-01-26T17:45:00+00:00    N72EX  34.148861,-118.697037   \n",
       "\n",
       "   altitude  speed  direction   latitude   longitude         utc_datetime  \\\n",
       "0      1700    153        120  34.135498 -118.699608  2020-01-26T17:45:29   \n",
       "1      2050    127        163  34.138824 -118.703407  2020-01-26T17:45:23   \n",
       "2      2125    110        207  34.143040 -118.703323  2020-01-26T17:45:15   \n",
       "3      1950    111        225  34.145741 -118.701096  2020-01-26T17:45:08   \n",
       "4      1750    115        233  34.148861 -118.697037  2020-01-26T17:45:00   \n",
       "\n",
       "              datetime        date      time display_time weekday  \\\n",
       "0  2020-01-26T09:45:29  01/26/2020  09:45:29     09:45:00  Sunday   \n",
       "1  2020-01-26T09:45:23  01/26/2020  09:45:23     09:45:00  Sunday   \n",
       "2  2020-01-26T09:45:15  01/26/2020  09:45:15     09:45:00  Sunday   \n",
       "3  2020-01-26T09:45:08  01/26/2020  09:45:08     09:45:00  Sunday   \n",
       "4  2020-01-26T09:45:00  01/26/2020  09:45:00     09:45:00  Sunday   \n",
       "\n",
       "                      geometry  \n",
       "0  POINT (-118.69961 34.13550)  \n",
       "1  POINT (-118.70341 34.13882)  \n",
       "2  POINT (-118.70332 34.14304)  \n",
       "3  POINT (-118.70110 34.14574)  \n",
       "4  POINT (-118.69704 34.14886)  "
      ]
     },
     "execution_count": 37,
     "metadata": {},
     "output_type": "execute_result"
    }
   ],
   "source": [
    "final_flight_points.head()"
   ]
  },
  {
   "cell_type": "markdown",
   "metadata": {},
   "source": [
    "### Altitude"
   ]
  },
  {
   "cell_type": "code",
   "execution_count": 38,
   "metadata": {},
   "outputs": [],
   "source": [
    "alt.Chart(final_flight_points).mark_line().encode(\n",
    "    x='datetime:T',\n",
    "    y='altitude'\n",
    ")"
   ]
  },
  {
   "cell_type": "markdown",
   "metadata": {},
   "source": [
    "### Speed"
   ]
  },
  {
   "cell_type": "code",
   "execution_count": 39,
   "metadata": {},
   "outputs": [],
   "source": [
    "alt.Chart(final_flight_points).mark_line().encode(\n",
    "    x='datetime:T',\n",
    "    y='speed'\n",
    ")"
   ]
  },
  {
   "cell_type": "markdown",
   "metadata": {},
   "source": [
    "### Export meta data"
   ]
  },
  {
   "cell_type": "code",
   "execution_count": 41,
   "metadata": {},
   "outputs": [],
   "source": [
    "final_flight_points[['datetime', 'altitude', 'speed']].to_csv('../data/geo/kobe_flight/kobe_flight_meta.csv', index=False)"
   ]
  },
  {
   "cell_type": "code",
   "execution_count": null,
   "metadata": {},
   "outputs": [],
   "source": []
  }
 ],
 "metadata": {
  "kernelspec": {
   "display_name": "Python 3",
   "language": "python",
   "name": "python3"
  },
  "language_info": {
   "codemirror_mode": {
    "name": "ipython",
    "version": 3
   },
   "file_extension": ".py",
   "mimetype": "text/x-python",
   "name": "python",
   "nbconvert_exporter": "python",
   "pygments_lexer": "ipython3",
   "version": "3.8.8"
  }
 },
 "nbformat": 4,
 "nbformat_minor": 4
}
