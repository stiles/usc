{
 "cells": [
  {
   "cell_type": "markdown",
   "id": "de872774-504e-4e20-8ba5-8ab6691ebb3d",
   "metadata": {},
   "source": [
    "# TEAM ONE: Surnames from the U.S. Census Bureau"
   ]
  },
  {
   "cell_type": "code",
   "execution_count": 1,
   "id": "ee51917e-120d-4398-8ddd-cf11a367779f",
   "metadata": {},
   "outputs": [],
   "source": [
    "%load_ext lab_black"
   ]
  },
  {
   "cell_type": "code",
   "execution_count": 2,
   "id": "3335d791-f59e-413c-a099-9d038e74ac1c",
   "metadata": {},
   "outputs": [],
   "source": [
    "import pandas as pd\n",
    "import random"
   ]
  },
  {
   "cell_type": "markdown",
   "id": "feb9e564-c188-473f-8056-1cd227c72690",
   "metadata": {},
   "source": [
    "### Read the data"
   ]
  },
  {
   "cell_type": "code",
   "execution_count": 3,
   "id": "7bb39b31-b5d4-448b-88a3-8807247cf2d0",
   "metadata": {},
   "outputs": [],
   "source": [
    "# Main url: https://www.census.gov/data/developers/data-sets/surnames.html"
   ]
  },
  {
   "cell_type": "code",
   "execution_count": 4,
   "id": "a9ff84af-8fa9-43a4-950e-d279182b0963",
   "metadata": {},
   "outputs": [],
   "source": [
    "# Data documentation: https://www2.census.gov/topics/genealogy/2010surnames/surnames.pdf"
   ]
  },
  {
   "cell_type": "code",
   "execution_count": 5,
   "id": "c53d548d-adc2-4ff1-842f-dfa1899207da",
   "metadata": {},
   "outputs": [],
   "source": [
    "df = pd.read_csv(\"../data/surnames.csv\", dtype={\"year\": str})"
   ]
  },
  {
   "cell_type": "markdown",
   "id": "60457c26-e844-4424-b653-070fe4190fcc",
   "metadata": {},
   "source": [
    "---"
   ]
  },
  {
   "cell_type": "markdown",
   "id": "aa21a33a-7c9b-4324-a1f8-a817815d3ef3",
   "metadata": {},
   "source": [
    "### Surnames in our class"
   ]
  },
  {
   "cell_type": "code",
   "execution_count": 6,
   "id": "457f6db9-7c74-45e8-8db9-7ab94f9e990e",
   "metadata": {},
   "outputs": [],
   "source": [
    "students = [\n",
    "    \"Vergara\",\n",
    "    \"Chua\",\n",
    "    \"Guo\",\n",
    "    \"Harmon\",\n",
    "    \"Kang\",\n",
    "    \"Martinez\",\n",
    "    \"Sinha\",\n",
    "    \"Song\",\n",
    "    \"Wang\",\n",
    "]"
   ]
  },
  {
   "cell_type": "markdown",
   "id": "055df088-008e-41d3-a35f-e25ec0c79f6b",
   "metadata": {},
   "source": [
    "### Teams"
   ]
  },
  {
   "cell_type": "code",
   "execution_count": 7,
   "id": "4fba9a5d-2490-49e7-a192-542e4fb7a8c2",
   "metadata": {},
   "outputs": [],
   "source": [
    "team_one = [\"Sinha\", \"Song\", \"Wang\"]"
   ]
  },
  {
   "cell_type": "markdown",
   "id": "4f089e44-c27d-459e-a9f8-4225f49f12cf",
   "metadata": {},
   "source": [
    "### Filter the dataframe to just the last name of a team member"
   ]
  },
  {
   "cell_type": "code",
   "execution_count": null,
   "id": "677396bc-2118-40ea-b1ee-a477ca8b8c44",
   "metadata": {},
   "outputs": [],
   "source": []
  },
  {
   "cell_type": "code",
   "execution_count": null,
   "id": "b2caa64b-c40c-44eb-a181-33701a67c2d9",
   "metadata": {},
   "outputs": [],
   "source": []
  },
  {
   "cell_type": "code",
   "execution_count": null,
   "id": "52acdfe2-a7a9-4f73-ab90-0d1e7082ed62",
   "metadata": {},
   "outputs": [],
   "source": []
  },
  {
   "cell_type": "markdown",
   "id": "2e115ecf-7688-4616-a2cf-deb0bd8fedb8",
   "metadata": {},
   "source": [
    "### Filter the dataframe to just the surnames of your teammates, and sort ascending by surname"
   ]
  },
  {
   "cell_type": "code",
   "execution_count": null,
   "id": "f04565f6-5f04-4fff-8898-9c40e7c1a0ff",
   "metadata": {},
   "outputs": [],
   "source": []
  },
  {
   "cell_type": "code",
   "execution_count": null,
   "id": "7e2c1d62-5ed2-4f3d-81d3-e114c8d1931b",
   "metadata": {},
   "outputs": [],
   "source": []
  },
  {
   "cell_type": "code",
   "execution_count": null,
   "id": "81594f66-61f3-4b82-8965-27395621147a",
   "metadata": {},
   "outputs": [],
   "source": []
  },
  {
   "cell_type": "markdown",
   "id": "eadeaba7-d773-446e-bbfb-ab1422294056",
   "metadata": {},
   "source": [
    "### Who in your team has the most popular names, in terms of per 100,000 rate"
   ]
  },
  {
   "cell_type": "code",
   "execution_count": null,
   "id": "9c3cd8b4-f54d-4f33-916d-5a4c0cd13755",
   "metadata": {},
   "outputs": [],
   "source": []
  },
  {
   "cell_type": "code",
   "execution_count": null,
   "id": "575a3aa2-aeea-4a7f-a696-1ecb04a65da1",
   "metadata": {},
   "outputs": [],
   "source": []
  },
  {
   "cell_type": "code",
   "execution_count": null,
   "id": "8e95ca86-177c-4cf5-b40a-7ba66c870f99",
   "metadata": {},
   "outputs": [],
   "source": []
  },
  {
   "cell_type": "markdown",
   "id": "1667041b-e439-4e50-9a01-34eca65757ee",
   "metadata": {},
   "source": [
    "### In 2010, find the 5 names among all names that are most Asian"
   ]
  },
  {
   "cell_type": "code",
   "execution_count": null,
   "id": "69d870ac-1a8a-4ed3-89f9-9480725b2298",
   "metadata": {},
   "outputs": [],
   "source": []
  },
  {
   "cell_type": "code",
   "execution_count": null,
   "id": "9ac20463-df06-452b-960a-6470e1c36598",
   "metadata": {},
   "outputs": [],
   "source": []
  },
  {
   "cell_type": "code",
   "execution_count": null,
   "id": "4fb33e16-050a-4fbc-8e09-e0995a2353fd",
   "metadata": {},
   "outputs": [],
   "source": []
  },
  {
   "cell_type": "markdown",
   "id": "807a00c0-6514-44c0-99c2-e9df0fca2400",
   "metadata": {},
   "source": [
    "### Among majority Hispanic names in 2010, which five were most common?"
   ]
  },
  {
   "cell_type": "code",
   "execution_count": null,
   "id": "6bbb5491-49bc-4d03-8426-e50a62e3e2e0",
   "metadata": {},
   "outputs": [],
   "source": []
  },
  {
   "cell_type": "code",
   "execution_count": null,
   "id": "355e8304-8268-4c16-b76e-d9b2f4dc0c1f",
   "metadata": {},
   "outputs": [],
   "source": []
  },
  {
   "cell_type": "code",
   "execution_count": null,
   "id": "c3d67d58-4850-46c5-9fbb-5a0be8fbeae3",
   "metadata": {},
   "outputs": [],
   "source": []
  },
  {
   "cell_type": "markdown",
   "id": "77ea8024-ee72-4e94-91c0-9841fd8bb79d",
   "metadata": {},
   "source": [
    "### How did the frequency of your team member's name above change, in pct terms between 2000 and 2010?"
   ]
  },
  {
   "cell_type": "code",
   "execution_count": 8,
   "id": "1905658f-bf31-486f-8c6a-87c36acf99ee",
   "metadata": {},
   "outputs": [],
   "source": [
    "### Hint: https://pandas.pydata.org/docs/reference/api/pandas.DataFrame.pct_change.html\n",
    "### Don't forget to sort!"
   ]
  },
  {
   "cell_type": "code",
   "execution_count": null,
   "id": "f1489188-55ac-49c6-b582-a21437a2413b",
   "metadata": {},
   "outputs": [],
   "source": []
  },
  {
   "cell_type": "code",
   "execution_count": null,
   "id": "ecd3bb44-fd9a-474a-8bb5-c60bf786d42c",
   "metadata": {},
   "outputs": [],
   "source": []
  },
  {
   "cell_type": "code",
   "execution_count": null,
   "id": "7ab24ce9-ce18-4679-a4ed-93314cc8bb92",
   "metadata": {},
   "outputs": [],
   "source": []
  },
  {
   "cell_type": "markdown",
   "id": "c1984d73-6e05-4379-9678-2df9f34e1739",
   "metadata": {},
   "source": [
    "---"
   ]
  },
  {
   "cell_type": "markdown",
   "id": "6d201b2d-1644-4132-b424-30f5f509bbe9",
   "metadata": {},
   "source": [
    "### BONUS: Group by name and year for just surnames in our class, aggregating with the mean per_100k value"
   ]
  },
  {
   "cell_type": "code",
   "execution_count": null,
   "id": "7930a4c9-bc2c-4a0a-836a-b1370b7ff177",
   "metadata": {},
   "outputs": [],
   "source": []
  },
  {
   "cell_type": "code",
   "execution_count": null,
   "id": "93a1fab6-b540-4a21-97dc-68ba8f47ce0e",
   "metadata": {},
   "outputs": [],
   "source": []
  },
  {
   "cell_type": "code",
   "execution_count": null,
   "id": "4fd82d25-55e9-4bd9-8870-a66b55990d10",
   "metadata": {},
   "outputs": [],
   "source": []
  },
  {
   "cell_type": "markdown",
   "id": "79f33a8e-d214-41e7-91f2-e8f8d051376c",
   "metadata": {},
   "source": [
    "### BONUS: Calculate the % change in surnames for each name from 2000 to 2010"
   ]
  },
  {
   "cell_type": "code",
   "execution_count": 9,
   "id": "f8f73221-550c-46a2-8974-37be0e8ae09c",
   "metadata": {},
   "outputs": [],
   "source": [
    "# Hints: pivot_table()\n",
    "# Hints: % increase = (new number - old number) / original number × 100"
   ]
  },
  {
   "cell_type": "code",
   "execution_count": null,
   "id": "1959385c-b09e-4723-a1fa-845452f32e49",
   "metadata": {},
   "outputs": [],
   "source": []
  },
  {
   "cell_type": "code",
   "execution_count": null,
   "id": "addb1083-e214-4a33-b36d-3509927505f7",
   "metadata": {},
   "outputs": [],
   "source": []
  },
  {
   "cell_type": "code",
   "execution_count": null,
   "id": "b9478d4e-c2fd-4065-9a67-56127e6cfa0a",
   "metadata": {},
   "outputs": [],
   "source": []
  },
  {
   "cell_type": "markdown",
   "id": "2d26e9a7-3f41-4756-9beb-7e9180ca2c97",
   "metadata": {},
   "source": [
    "### BONUS: Clean up the notebook, removing empty cells"
   ]
  },
  {
   "cell_type": "code",
   "execution_count": null,
   "id": "04d88d04-8318-4b56-8dfa-09b969b893ee",
   "metadata": {},
   "outputs": [],
   "source": []
  },
  {
   "cell_type": "code",
   "execution_count": null,
   "id": "699e2af6-edde-49b2-9c76-ac05728f67d1",
   "metadata": {},
   "outputs": [],
   "source": []
  },
  {
   "cell_type": "code",
   "execution_count": null,
   "id": "668ab38d-51af-4866-93db-b990a76d73da",
   "metadata": {},
   "outputs": [],
   "source": []
  }
 ],
 "metadata": {
  "kernelspec": {
   "display_name": "Python 3",
   "language": "python",
   "name": "python3"
  },
  "language_info": {
   "codemirror_mode": {
    "name": "ipython",
    "version": 3
   },
   "file_extension": ".py",
   "mimetype": "text/x-python",
   "name": "python",
   "nbconvert_exporter": "python",
   "pygments_lexer": "ipython3",
   "version": "3.8.8"
  }
 },
 "nbformat": 4,
 "nbformat_minor": 5
}
