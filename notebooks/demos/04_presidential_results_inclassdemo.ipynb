{
 "cells": [
  {
   "cell_type": "markdown",
   "id": "c50506ea-a04b-4948-a20f-b2879f695cd5",
   "metadata": {},
   "source": [
    "# 2020 presidential election results"
   ]
  },
  {
   "cell_type": "markdown",
   "id": "38837603-e0a9-452e-8f8c-6bc07ba9ba2d",
   "metadata": {},
   "source": [
    "### Import Python tools"
   ]
  },
  {
   "cell_type": "code",
   "execution_count": 1,
   "id": "9a173c78-ee08-4fca-997c-8d923e166ebb",
   "metadata": {},
   "outputs": [],
   "source": [
    "# !pip install nb_black"
   ]
  },
  {
   "cell_type": "code",
   "execution_count": 2,
   "id": "4c2e5309-8da8-4a23-8621-8a910cb10f39",
   "metadata": {},
   "outputs": [],
   "source": [
    "%load_ext lab_black"
   ]
  },
  {
   "cell_type": "code",
   "execution_count": 3,
   "id": "3c1ef1b7-79cc-4b0e-a34f-3400e24869c4",
   "metadata": {},
   "outputs": [],
   "source": [
    "import pandas as pd"
   ]
  },
  {
   "cell_type": "markdown",
   "id": "05b6cce9-418a-4389-a1e5-5d20e245a7b3",
   "metadata": {},
   "source": [
    "### Read the data"
   ]
  },
  {
   "cell_type": "code",
   "execution_count": 5,
   "id": "5667bb6a-a780-42df-96ac-10cdb6cb30a3",
   "metadata": {},
   "outputs": [],
   "source": [
    "df = pd.read_json(\"../../data/elections/election_results_2020.json\")"
   ]
  },
  {
   "cell_type": "markdown",
   "id": "97f72550-2bd5-4864-9c5a-20340b0f1bb4",
   "metadata": {},
   "source": [
    "### Just the last five rows"
   ]
  },
  {
   "cell_type": "code",
   "execution_count": null,
   "id": "c86666ca-6e65-4050-92ba-1d2dbd8c8800",
   "metadata": {},
   "outputs": [],
   "source": [
    "df.head()"
   ]
  },
  {
   "cell_type": "markdown",
   "id": "88e58e53-08b5-4f52-b90c-b85f9e7c10c6",
   "metadata": {},
   "source": [
    "### Let's change data types"
   ]
  },
  {
   "cell_type": "code",
   "execution_count": null,
   "id": "13201d26-fd2a-4154-801f-006c6e85871f",
   "metadata": {},
   "outputs": [],
   "source": [
    "df.dtypes"
   ]
  },
  {
   "cell_type": "code",
   "execution_count": null,
   "id": "7142fe25-8724-483c-977f-68b45915eee0",
   "metadata": {},
   "outputs": [],
   "source": [
    "df[\"county_fips\"] = df[\"county_fips\"].astype(str)"
   ]
  },
  {
   "cell_type": "markdown",
   "id": "5e5a5cbd-3c68-4aa3-9d6f-df8a51bcf4d6",
   "metadata": {},
   "source": [
    "### Deal with four-digit FIPS codes"
   ]
  },
  {
   "cell_type": "code",
   "execution_count": null,
   "id": "f78d3a3f-238d-45e4-89f7-e5bb87938801",
   "metadata": {},
   "outputs": [],
   "source": []
  },
  {
   "cell_type": "markdown",
   "id": "60f46297-c519-483b-982a-c51f548ea2b0",
   "metadata": {},
   "source": [
    "### Basics about the dataset"
   ]
  },
  {
   "cell_type": "code",
   "execution_count": null,
   "id": "4454bad7-a9b2-4027-a903-09e684cdd14f",
   "metadata": {},
   "outputs": [],
   "source": []
  },
  {
   "cell_type": "markdown",
   "id": "47010bbb-bfaa-49ee-8bff-3220f7a17d07",
   "metadata": {},
   "source": [
    "### Look at a slim version of the data"
   ]
  },
  {
   "cell_type": "code",
   "execution_count": null,
   "id": "1871a5b1-77e9-45ff-8a56-496942cb1cfe",
   "metadata": {},
   "outputs": [],
   "source": []
  },
  {
   "cell_type": "markdown",
   "id": "e7826d30-13d4-45bc-a604-78dfae9f15cf",
   "metadata": {},
   "source": [
    "### Let's change the county_name string"
   ]
  },
  {
   "cell_type": "code",
   "execution_count": null,
   "id": "f714243b-3653-42e4-a0d4-2ace9bf9fc7e",
   "metadata": {},
   "outputs": [],
   "source": []
  },
  {
   "cell_type": "markdown",
   "id": "72e658cc-9c44-47ad-b408-92febaa946d0",
   "metadata": {},
   "source": [
    "### Did it work? Subset the data"
   ]
  },
  {
   "cell_type": "code",
   "execution_count": null,
   "id": "66376f4e-28b6-4b58-a436-ff272ee3f296",
   "metadata": {},
   "outputs": [],
   "source": []
  },
  {
   "cell_type": "code",
   "execution_count": null,
   "id": "9e7eca32-dd76-4db5-be14-5732e55aad9f",
   "metadata": {},
   "outputs": [],
   "source": []
  },
  {
   "cell_type": "markdown",
   "id": "47be1083-6a4c-40b0-aa15-68382b56c4ae",
   "metadata": {},
   "source": [
    "### Subset some more. Just large Texas counties?"
   ]
  },
  {
   "cell_type": "code",
   "execution_count": null,
   "id": "c8555d00-6b81-41bc-946f-199cf40fb1de",
   "metadata": {},
   "outputs": [],
   "source": []
  },
  {
   "cell_type": "markdown",
   "id": "044a61e1-276e-4120-a332-f0cc08b04d2c",
   "metadata": {},
   "source": [
    "---"
   ]
  },
  {
   "cell_type": "markdown",
   "id": "65c83d9e-f200-420a-8408-1f7720139597",
   "metadata": {},
   "source": [
    "### Calculate the margin for each party"
   ]
  },
  {
   "cell_type": "code",
   "execution_count": null,
   "id": "775ae9d3-6e1c-4d03-bb3e-304c9d66f083",
   "metadata": {},
   "outputs": [],
   "source": []
  },
  {
   "cell_type": "code",
   "execution_count": null,
   "id": "bc0d17ab-8045-40c1-b4d7-07236ec7ed28",
   "metadata": {},
   "outputs": [],
   "source": []
  },
  {
   "cell_type": "markdown",
   "id": "9be89839-8ce2-40c9-9423-2b1891bf583f",
   "metadata": {},
   "source": [
    "### Calculate the vote share — or percentage — for each party"
   ]
  },
  {
   "cell_type": "code",
   "execution_count": null,
   "id": "9f4af618-46c3-45b6-8fe8-95eef50b9813",
   "metadata": {},
   "outputs": [],
   "source": []
  },
  {
   "cell_type": "code",
   "execution_count": null,
   "id": "b3cbba0d-efb2-4ad6-8e79-b05976970a36",
   "metadata": {},
   "outputs": [],
   "source": []
  },
  {
   "cell_type": "code",
   "execution_count": null,
   "id": "22884a97-8006-4d8a-8726-0de7f09273de",
   "metadata": {},
   "outputs": [],
   "source": []
  },
  {
   "cell_type": "markdown",
   "id": "522629ea-9f41-4deb-aa8b-53e93202acdf",
   "metadata": {},
   "source": [
    "### Which party won each county — the Python way?"
   ]
  },
  {
   "cell_type": "code",
   "execution_count": null,
   "id": "888a6fc9-04cc-4e7b-9efa-cf8c846b58d0",
   "metadata": {},
   "outputs": [],
   "source": []
  },
  {
   "cell_type": "code",
   "execution_count": null,
   "id": "497dd652-4e43-465f-a844-afcb0cc5494d",
   "metadata": {},
   "outputs": [],
   "source": []
  },
  {
   "cell_type": "markdown",
   "id": "c3326edc-5918-4561-bcc7-e17341999121",
   "metadata": {},
   "source": [
    "### Or, the Pandas way? "
   ]
  },
  {
   "cell_type": "code",
   "execution_count": null,
   "id": "9352fde8-0ea5-4c51-a20b-4452a97b5c46",
   "metadata": {},
   "outputs": [],
   "source": []
  },
  {
   "cell_type": "markdown",
   "id": "1eb8bfe4-76ba-4859-b72e-90c34ab12ce8",
   "metadata": {},
   "source": [
    "### Did it work? "
   ]
  },
  {
   "cell_type": "code",
   "execution_count": null,
   "id": "74dff665-3a28-4bc3-b0a3-274b43bb4682",
   "metadata": {},
   "outputs": [],
   "source": []
  },
  {
   "cell_type": "code",
   "execution_count": null,
   "id": "090074ca-e547-453f-865f-9e2f3b03547a",
   "metadata": {},
   "outputs": [],
   "source": []
  },
  {
   "cell_type": "markdown",
   "id": "d5defb8e-7068-4423-acff-b8aa086fe419",
   "metadata": {},
   "source": [
    "### We don't need that 'winner_nu' column"
   ]
  },
  {
   "cell_type": "code",
   "execution_count": null,
   "id": "21653263-ca5d-4a7a-8e45-bca53b339b7d",
   "metadata": {},
   "outputs": [],
   "source": []
  },
  {
   "cell_type": "markdown",
   "id": "8264edb9-4bc3-43e2-9ff8-063d8b69361a",
   "metadata": {},
   "source": [
    "---"
   ]
  },
  {
   "cell_type": "markdown",
   "id": "908eff52-9001-4095-8140-53e09fae7099",
   "metadata": {},
   "source": [
    "### Where was the Republicans' largest margin? "
   ]
  },
  {
   "cell_type": "code",
   "execution_count": null,
   "id": "3c3d5b30-f5ab-4473-a74d-a8940efccd20",
   "metadata": {},
   "outputs": [],
   "source": []
  },
  {
   "cell_type": "markdown",
   "id": "e323ea1e-8df5-4b27-a6de-1d255f67b85a",
   "metadata": {},
   "source": [
    "### Which counties were most Democratic?"
   ]
  },
  {
   "cell_type": "code",
   "execution_count": null,
   "id": "fe2b5275-f3df-4a86-89a0-fd7f28bd9957",
   "metadata": {},
   "outputs": [],
   "source": []
  },
  {
   "cell_type": "markdown",
   "id": "ee3f8e6a-5ee2-4c91-aae9-8dd8a1ebddb9",
   "metadata": {},
   "source": [
    "### Which counties were most Republican?"
   ]
  },
  {
   "cell_type": "code",
   "execution_count": null,
   "id": "d32a6c88-732b-47f7-99c9-443fc1428722",
   "metadata": {},
   "outputs": [],
   "source": []
  },
  {
   "cell_type": "markdown",
   "id": "2180c403-4539-40e7-9824-792ad7475895",
   "metadata": {},
   "source": [
    "### Which counties were most Democratic? "
   ]
  },
  {
   "cell_type": "code",
   "execution_count": null,
   "id": "ad42033f-2bc8-4556-ab16-53b11120c184",
   "metadata": {},
   "outputs": [],
   "source": []
  },
  {
   "cell_type": "markdown",
   "id": "cc1126af-72e8-4940-99ee-f5f64a2b8153",
   "metadata": {},
   "source": [
    "---"
   ]
  },
  {
   "cell_type": "markdown",
   "id": "92004ae1-9b09-4bec-a85f-ecc2ba8c80de",
   "metadata": {},
   "source": [
    "### Difference between counties won and votes won"
   ]
  },
  {
   "cell_type": "code",
   "execution_count": null,
   "id": "23891728-47cf-4c33-b19c-3f3c23fd26ed",
   "metadata": {},
   "outputs": [],
   "source": []
  },
  {
   "cell_type": "markdown",
   "id": "79d131fb-3905-4d43-a6e2-e62b5cc56452",
   "metadata": {},
   "source": [
    "### Aggregate by winner"
   ]
  },
  {
   "cell_type": "code",
   "execution_count": null,
   "id": "9ee74b1e-b978-47e0-9389-bf43a34d8a81",
   "metadata": {},
   "outputs": [],
   "source": []
  },
  {
   "cell_type": "code",
   "execution_count": null,
   "id": "c3dc4708-bbca-4562-b2cd-a2d345f22cac",
   "metadata": {},
   "outputs": [],
   "source": []
  },
  {
   "cell_type": "code",
   "execution_count": null,
   "id": "57a3f421-0377-4369-92d1-4a6cf57a27f0",
   "metadata": {},
   "outputs": [],
   "source": []
  },
  {
   "cell_type": "markdown",
   "id": "08cd2fb1-6473-4c24-84f0-26e0c8ea4115",
   "metadata": {},
   "source": [
    "---"
   ]
  },
  {
   "cell_type": "markdown",
   "id": "00157c46-e6fe-4826-b13d-598fb4f3573f",
   "metadata": {},
   "source": [
    "### Aggregate by state"
   ]
  },
  {
   "cell_type": "code",
   "execution_count": null,
   "id": "b2787fdf-ad97-41d4-8c2a-7a38a136ee80",
   "metadata": {},
   "outputs": [],
   "source": []
  },
  {
   "cell_type": "markdown",
   "id": "30a53212-85f0-4ab4-a347-0dcf0f059889",
   "metadata": {},
   "source": [
    "### Assign the new dataframe to a variable called states"
   ]
  },
  {
   "cell_type": "code",
   "execution_count": null,
   "id": "febca487-37b9-4804-b964-35bcfac65e48",
   "metadata": {},
   "outputs": [],
   "source": []
  },
  {
   "cell_type": "markdown",
   "id": "b2c78b9c-df41-4b7c-8ad3-da3355c59096",
   "metadata": {},
   "source": [
    "### Calculate vote share by state"
   ]
  },
  {
   "cell_type": "code",
   "execution_count": null,
   "id": "f54b6911-74de-41be-8c5d-4985ae3ba427",
   "metadata": {},
   "outputs": [],
   "source": []
  },
  {
   "cell_type": "code",
   "execution_count": null,
   "id": "631b2832-5f22-419e-8db7-b88e1b997c65",
   "metadata": {},
   "outputs": [],
   "source": []
  },
  {
   "cell_type": "markdown",
   "id": "3f5a838e-ffcc-4d95-8de8-54704868cf0d",
   "metadata": {},
   "source": [
    "### And the winner is..."
   ]
  },
  {
   "cell_type": "code",
   "execution_count": null,
   "id": "9d2dfc55-09f0-40de-b206-5103283d8a10",
   "metadata": {},
   "outputs": [],
   "source": []
  },
  {
   "cell_type": "code",
   "execution_count": null,
   "id": "ddf6671e-7cf9-4db6-a522-c2f37770a7ef",
   "metadata": {},
   "outputs": [],
   "source": []
  },
  {
   "cell_type": "code",
   "execution_count": null,
   "id": "a3d98a92-d0d5-4db2-9c72-802304c958bb",
   "metadata": {},
   "outputs": [],
   "source": []
  },
  {
   "cell_type": "markdown",
   "id": "7d1c5bca-9d7a-41da-953a-23c072377359",
   "metadata": {},
   "source": [
    "---"
   ]
  },
  {
   "cell_type": "markdown",
   "id": "31e8da25-6c26-4da2-8c90-1019d2d1c575",
   "metadata": {},
   "source": [
    "### Export the states"
   ]
  },
  {
   "cell_type": "code",
   "execution_count": null,
   "id": "6e7539e2-fdd9-4e92-8dcf-caf8cac0797f",
   "metadata": {},
   "outputs": [],
   "source": [
    "states.to_csv(\"../data/elections/states_election_results_2020.csv\", index=False)"
   ]
  },
  {
   "cell_type": "code",
   "execution_count": null,
   "id": "ec5553b7-b8eb-434f-8df9-240a80f851a5",
   "metadata": {},
   "outputs": [],
   "source": [
    "states.to_json(\n",
    "    \"../data/elections/states_election_results_2020.json\", orient=\"records\", indent=4\n",
    ")"
   ]
  },
  {
   "cell_type": "markdown",
   "id": "6aa85b17-0b8c-4151-a82b-1ace08d90bec",
   "metadata": {},
   "source": [
    "### Counties"
   ]
  },
  {
   "cell_type": "code",
   "execution_count": null,
   "id": "8cd4c544-8095-4ec7-9bd3-fbe3d4b77ef9",
   "metadata": {},
   "outputs": [],
   "source": [
    "df.to_csv(\"../data/elections/counties_election_results_2020.csv\", index=False)"
   ]
  },
  {
   "cell_type": "code",
   "execution_count": null,
   "id": "ea43eded-9315-46b9-ac8a-ed28ee15f3f3",
   "metadata": {},
   "outputs": [],
   "source": [
    "df.to_json(\n",
    "    \"../data/elections/counties_election_results_2020.json\", orient=\"records\", indent=4\n",
    ")"
   ]
  },
  {
   "cell_type": "markdown",
   "id": "0c52a890-19bc-4099-b36a-4254b0348da3",
   "metadata": {},
   "source": [
    "---"
   ]
  },
  {
   "cell_type": "code",
   "execution_count": null,
   "id": "455452a9-9fbf-4203-b4a6-64d5c1d60adc",
   "metadata": {},
   "outputs": [],
   "source": []
  },
  {
   "cell_type": "code",
   "execution_count": null,
   "id": "a20c5f35-c1c3-4991-95ba-ea072e4f10a4",
   "metadata": {},
   "outputs": [],
   "source": []
  },
  {
   "cell_type": "code",
   "execution_count": null,
   "id": "90cfc6b7-b86f-4568-a379-269c62a19da1",
   "metadata": {},
   "outputs": [],
   "source": []
  },
  {
   "cell_type": "code",
   "execution_count": null,
   "id": "0ebfc5c7-d306-4528-83c1-a9ac5b9d405d",
   "metadata": {},
   "outputs": [],
   "source": []
  },
  {
   "cell_type": "markdown",
   "id": "73004ae1-5261-4316-8413-dbe7d37d6760",
   "metadata": {},
   "source": [
    "---"
   ]
  },
  {
   "cell_type": "markdown",
   "id": "749696cd-e097-4d18-b344-3ac00f48b6fc",
   "metadata": {},
   "source": [
    "### Export the states"
   ]
  },
  {
   "cell_type": "code",
   "execution_count": null,
   "id": "bfefc503-f322-47a8-9f9a-269c27716ae7",
   "metadata": {},
   "outputs": [],
   "source": [
    "states.to_csv(\"../data/elections/states_election_results_2020.csv\", index=False)"
   ]
  },
  {
   "cell_type": "code",
   "execution_count": null,
   "id": "c9eba032-34f3-4da4-8193-f66d983fc868",
   "metadata": {},
   "outputs": [],
   "source": [
    "states.to_json(\n",
    "    \"../data/elections/states_election_results_2020.json\", orient=\"records\", indent=4\n",
    ")"
   ]
  },
  {
   "cell_type": "markdown",
   "id": "1a88277f-4697-4dd5-960c-207453f2d82c",
   "metadata": {},
   "source": [
    "### Counties"
   ]
  },
  {
   "cell_type": "code",
   "execution_count": null,
   "id": "6105f0f7-4326-4f39-abb3-99260975571a",
   "metadata": {},
   "outputs": [],
   "source": [
    "df.to_csv(\"../data/elections/counties_election_results_2020.csv\", index=False)"
   ]
  },
  {
   "cell_type": "code",
   "execution_count": null,
   "id": "b9c519e9-5e7e-4edf-ac67-b2e93f61e32f",
   "metadata": {},
   "outputs": [],
   "source": [
    "df.to_json(\n",
    "    \"../data/elections/counties_election_results_2020.json\", orient=\"records\", indent=4\n",
    ")"
   ]
  },
  {
   "cell_type": "markdown",
   "id": "6ee5d799-67e4-4cdc-b111-c5aadeb52b8f",
   "metadata": {},
   "source": [
    "---"
   ]
  }
 ],
 "metadata": {
  "kernelspec": {
   "display_name": "Python 3",
   "language": "python",
   "name": "python3"
  },
  "language_info": {
   "codemirror_mode": {
    "name": "ipython",
    "version": 3
   },
   "file_extension": ".py",
   "mimetype": "text/x-python",
   "name": "python",
   "nbconvert_exporter": "python",
   "pygments_lexer": "ipython3",
   "version": "3.8.8"
  }
 },
 "nbformat": 4,
 "nbformat_minor": 5
}
