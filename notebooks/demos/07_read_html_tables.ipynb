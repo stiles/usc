{
 "cells": [
  {
   "cell_type": "markdown",
   "id": "182672ed-b13b-41e2-9522-0f00aa42f171",
   "metadata": {},
   "source": [
    "# Use Pandas to convert live HTML tables to dataframes"
   ]
  },
  {
   "cell_type": "code",
   "execution_count": 1,
   "id": "abe12d70-c89c-4753-8432-fb5140dc48bf",
   "metadata": {},
   "outputs": [],
   "source": [
    "import pandas as pd"
   ]
  },
  {
   "cell_type": "markdown",
   "id": "76d42348-13cc-44a6-b240-8d57ed14be62",
   "metadata": {},
   "source": [
    "### L.A. County COVID cases, deaths by community"
   ]
  },
  {
   "cell_type": "code",
   "execution_count": 2,
   "id": "9e519e1e-d463-41b6-a94f-72e3cbc983a8",
   "metadata": {},
   "outputs": [],
   "source": [
    "url_dph = 'http://publichealth.lacounty.gov/media/Coronavirus/locations.htm'"
   ]
  },
  {
   "cell_type": "markdown",
   "id": "cfb56fbd-3f30-4808-88c4-124b70af3724",
   "metadata": {},
   "source": [
    "### Read the page and grab its tables"
   ]
  },
  {
   "cell_type": "code",
   "execution_count": null,
   "id": "38a175f2-9d90-44f2-b941-b0bbc0cc4f91",
   "metadata": {},
   "outputs": [],
   "source": []
  },
  {
   "cell_type": "markdown",
   "id": "c5574423-ae3f-457e-bc3d-b3d8f23ff5f2",
   "metadata": {},
   "source": [
    "### Read the second table into a dataframe"
   ]
  },
  {
   "cell_type": "code",
   "execution_count": null,
   "id": "e790e952-c9cf-41e7-9a8d-758d4ac7a108",
   "metadata": {},
   "outputs": [],
   "source": []
  },
  {
   "cell_type": "markdown",
   "id": "eb7f3d5c-107c-480b-a6a8-efc5d00d6099",
   "metadata": {},
   "source": [
    "### Just these columns/names"
   ]
  },
  {
   "cell_type": "code",
   "execution_count": null,
   "id": "581dd69b-662b-4f26-8efc-279ea52db83b",
   "metadata": {},
   "outputs": [],
   "source": []
  },
  {
   "cell_type": "code",
   "execution_count": null,
   "id": "0cf88137-b19d-4881-9b9a-86fa608ecdc1",
   "metadata": {},
   "outputs": [],
   "source": []
  },
  {
   "cell_type": "code",
   "execution_count": null,
   "id": "bc340234-443b-46ae-ac36-9e66c2c4c195",
   "metadata": {},
   "outputs": [],
   "source": []
  },
  {
   "cell_type": "markdown",
   "id": "0d5fe323-068f-4967-837a-d635995a57a7",
   "metadata": {},
   "source": [
    "---"
   ]
  },
  {
   "cell_type": "markdown",
   "id": "a7d27154-8707-4da9-9eb5-a288588041c3",
   "metadata": {},
   "source": [
    "### DOJ Jan. 6 insurrection defendants"
   ]
  },
  {
   "cell_type": "code",
   "execution_count": 3,
   "id": "09f736fd-d128-4392-9024-d55d92a4ff91",
   "metadata": {},
   "outputs": [],
   "source": [
    "url_doj = 'https://www.justice.gov/usao-dc/capitol-breach-cases'"
   ]
  },
  {
   "cell_type": "markdown",
   "id": "f23c5071-957d-4f9f-a895-f0a80e45ee43",
   "metadata": {},
   "source": [
    "### Read the page and grab its tables"
   ]
  },
  {
   "cell_type": "code",
   "execution_count": null,
   "id": "0621cebe-0081-46ec-b740-160f13225f1f",
   "metadata": {},
   "outputs": [],
   "source": []
  },
  {
   "cell_type": "markdown",
   "id": "c215000d-fab6-48eb-8de5-70253d4b4de6",
   "metadata": {},
   "source": [
    "### Read the first table into a dataframe"
   ]
  },
  {
   "cell_type": "code",
   "execution_count": null,
   "id": "c5d1279c-77ba-4200-b184-c2255d0512e4",
   "metadata": {},
   "outputs": [],
   "source": []
  },
  {
   "cell_type": "markdown",
   "id": "5220cf67-616a-4df9-b2b1-027d235793e0",
   "metadata": {},
   "source": [
    "### Clean up the columns"
   ]
  },
  {
   "cell_type": "code",
   "execution_count": 4,
   "id": "d2ad19c2-5aba-4b30-b395-302f36ddb92f",
   "metadata": {},
   "outputs": [],
   "source": [
    "# df_doj.columns = (\n",
    "#     df_doj.columns.str.strip()\n",
    "#     .str.lower()\n",
    "#     .str.replace(\" \", \"_\", regex=False)\n",
    "#     .str.replace(\":\", \"\", regex=False)\n",
    "#     .str.replace(\"/\", \"_\", regex=False)\n",
    "#     .str.replace(\",\", \"_\", regex=False)\n",
    "#     .str.replace(\"*\", \"\", regex=False)\n",
    "#     .str.replace(\"(s)\", \"s\", regex=False)\n",
    "# )"
   ]
  },
  {
   "cell_type": "markdown",
   "id": "33a9de1b-f88a-4663-a0e7-3b94076c547b",
   "metadata": {},
   "source": [
    "### Clean up the location names"
   ]
  },
  {
   "cell_type": "code",
   "execution_count": 5,
   "id": "c76fc5ed-e084-47a6-82d7-e0b22a08a531",
   "metadata": {},
   "outputs": [],
   "source": [
    "# df_doj[\"location_of_arrest\"] = (\n",
    "#     df_doj[\"location_of_arrest\"]\n",
    "#     .str.strip()\n",
    "#     .str.title()\n",
    "#     .str.replace(\", Middle District\", \"\", regex=False)\n",
    "#     .str.replace(\", Southern District\", \"\", regex=False)\n",
    "#     .str.replace(\", Central District\", \"\", regex=False)\n",
    "#     .str.replace(\", Western District\", \"\", regex=False)\n",
    "#     .str.replace(\", Eastern District\", \"\", regex=False)\n",
    "#     .str.replace(\", Northern District\", \"\", regex=False)\n",
    "# )"
   ]
  },
  {
   "cell_type": "markdown",
   "id": "d6cae53c-0b66-4ef6-9593-cbf76542246c",
   "metadata": {},
   "source": [
    "### If there's no location, be specific about it"
   ]
  },
  {
   "cell_type": "code",
   "execution_count": null,
   "id": "940bfd3b-b2b8-4710-8bc5-b38407b2961d",
   "metadata": {},
   "outputs": [],
   "source": []
  },
  {
   "cell_type": "markdown",
   "id": "b454d2a2-fb9a-494c-a316-5d4a32c737f6",
   "metadata": {},
   "source": [
    "### Split the location column into two"
   ]
  },
  {
   "cell_type": "code",
   "execution_count": null,
   "id": "075347b2-1412-4bd0-b012-435932e65973",
   "metadata": {},
   "outputs": [],
   "source": []
  },
  {
   "cell_type": "markdown",
   "id": "bd530fc9-f8a4-418e-b6fc-e0def9ce5911",
   "metadata": {},
   "source": [
    "### Drop the original location column"
   ]
  },
  {
   "cell_type": "code",
   "execution_count": null,
   "id": "a5e3b27f-042e-4b0e-bea4-b28dfbad9f02",
   "metadata": {},
   "outputs": [],
   "source": []
  },
  {
   "cell_type": "markdown",
   "id": "655dd5a3-fa60-404b-afc8-d50b9811c426",
   "metadata": {},
   "source": [
    "### Group on state, count cases"
   ]
  },
  {
   "cell_type": "code",
   "execution_count": null,
   "id": "eae11536-e6da-41d7-8453-ceef66d46888",
   "metadata": {},
   "outputs": [],
   "source": []
  },
  {
   "cell_type": "markdown",
   "id": "2b44f525-c363-4d66-bd31-84c21a564b99",
   "metadata": {},
   "source": [
    "### Rename your aggregated column"
   ]
  },
  {
   "cell_type": "code",
   "execution_count": null,
   "id": "2891fee6-e7c1-4593-bc8a-d3f13ae66a6a",
   "metadata": {},
   "outputs": [],
   "source": []
  },
  {
   "cell_type": "markdown",
   "id": "1c305664-d3fa-48d7-93be-6874f6de8310",
   "metadata": {},
   "source": [
    "---"
   ]
  },
  {
   "cell_type": "markdown",
   "id": "64c34854-f54e-4e06-a37e-e688fdbb6b9a",
   "metadata": {},
   "source": [
    "### Export both dataframes"
   ]
  },
  {
   "cell_type": "code",
   "execution_count": 6,
   "id": "30d231aa-5c6e-4e57-8020-22aab8349553",
   "metadata": {},
   "outputs": [],
   "source": [
    "# df_dph.to_csv('data/la-county-covid-rates-by-community.csv', index=False)"
   ]
  },
  {
   "cell_type": "code",
   "execution_count": 7,
   "id": "031dcdf5-f7ac-4372-aabb-45533ecfdd70",
   "metadata": {},
   "outputs": [],
   "source": [
    "# df_doj.to_csv('data/doj-capitol-breach-arrests.csv', index=False)"
   ]
  },
  {
   "cell_type": "code",
   "execution_count": 8,
   "id": "26b78261-7a09-4f0c-89e0-3a391441f1ab",
   "metadata": {},
   "outputs": [],
   "source": [
    "# states.to_csv('data/doj-capitol-breach-arrests-by-state.csv', index=False)"
   ]
  }
 ],
 "metadata": {
  "kernelspec": {
   "display_name": "Python 3",
   "language": "python",
   "name": "python3"
  },
  "language_info": {
   "codemirror_mode": {
    "name": "ipython",
    "version": 3
   },
   "file_extension": ".py",
   "mimetype": "text/x-python",
   "name": "python",
   "nbconvert_exporter": "python",
   "pygments_lexer": "ipython3",
   "version": "3.8.8"
  }
 },
 "nbformat": 4,
 "nbformat_minor": 5
}
