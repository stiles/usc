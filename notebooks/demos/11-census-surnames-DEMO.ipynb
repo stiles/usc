{
 "cells": [
  {
   "cell_type": "markdown",
   "id": "de872774-504e-4e20-8ba5-8ab6691ebb3d",
   "metadata": {},
   "source": [
    "# Surnames from the U.S. Census Bureau"
   ]
  },
  {
   "cell_type": "code",
   "execution_count": 1,
   "id": "ee51917e-120d-4398-8ddd-cf11a367779f",
   "metadata": {},
   "outputs": [],
   "source": [
    "%load_ext lab_black"
   ]
  },
  {
   "cell_type": "code",
   "execution_count": 2,
   "id": "3335d791-f59e-413c-a099-9d038e74ac1c",
   "metadata": {},
   "outputs": [],
   "source": [
    "import pandas as pd\n",
    "import random"
   ]
  },
  {
   "cell_type": "markdown",
   "id": "feb9e564-c188-473f-8056-1cd227c72690",
   "metadata": {},
   "source": [
    "### Read the data"
   ]
  },
  {
   "cell_type": "code",
   "execution_count": 3,
   "id": "7bb39b31-b5d4-448b-88a3-8807247cf2d0",
   "metadata": {},
   "outputs": [],
   "source": [
    "# Main url: https://www.census.gov/data/developers/data-sets/surnames.html\n",
    "# Data documentation: https://www2.census.gov/topics/genealogy/2010surnames/surnames.pdf"
   ]
  },
  {
   "cell_type": "code",
   "execution_count": 4,
   "id": "c53d548d-adc2-4ff1-842f-dfa1899207da",
   "metadata": {},
   "outputs": [],
   "source": [
    "df = pd.read_csv(\"../data/surnames.csv\", dtype={\"year\": str})"
   ]
  },
  {
   "cell_type": "markdown",
   "id": "7ed19994-8a36-4309-938c-8a79723f18cf",
   "metadata": {},
   "source": [
    "### What's the dataframe look like? "
   ]
  },
  {
   "cell_type": "code",
   "execution_count": null,
   "id": "d360e313-624a-42c3-874d-6171f3232d60",
   "metadata": {},
   "outputs": [],
   "source": []
  },
  {
   "cell_type": "code",
   "execution_count": null,
   "id": "625607a3-b460-4236-898f-42107a06473b",
   "metadata": {},
   "outputs": [],
   "source": []
  },
  {
   "cell_type": "code",
   "execution_count": null,
   "id": "df4c3454-ca12-4537-9c7b-10ca3b75f003",
   "metadata": {},
   "outputs": [],
   "source": []
  },
  {
   "cell_type": "markdown",
   "id": "7a109b13-3df4-455c-a061-3427744dc7d0",
   "metadata": {},
   "source": [
    "### Which names are majority \"black\"?"
   ]
  },
  {
   "cell_type": "code",
   "execution_count": null,
   "id": "5d59789f-e407-4f42-a211-7ef511d9daef",
   "metadata": {},
   "outputs": [],
   "source": []
  },
  {
   "cell_type": "markdown",
   "id": "8c71f963-ae89-4174-ba06-5224b581c6b6",
   "metadata": {},
   "source": [
    "### How many unique names? "
   ]
  },
  {
   "cell_type": "code",
   "execution_count": null,
   "id": "c835b03e-5a7b-4099-8eb3-79833dbd6645",
   "metadata": {},
   "outputs": [],
   "source": []
  },
  {
   "cell_type": "markdown",
   "id": "8af969dd-2cf4-4653-92b3-a426e7df8c99",
   "metadata": {},
   "source": [
    "### How many in each year? "
   ]
  },
  {
   "cell_type": "code",
   "execution_count": null,
   "id": "ee3f04cd-aea9-4a73-bf69-68465b442ced",
   "metadata": {},
   "outputs": [],
   "source": []
  },
  {
   "cell_type": "markdown",
   "id": "aa21a33a-7c9b-4324-a1f8-a817815d3ef3",
   "metadata": {},
   "source": [
    "### Surnames in our class (the simple versions, at least)"
   ]
  },
  {
   "cell_type": "code",
   "execution_count": 5,
   "id": "457f6db9-7c74-45e8-8db9-7ab94f9e990e",
   "metadata": {},
   "outputs": [],
   "source": [
    "students = [\n",
    "    \"Vergara\",\n",
    "    \"Chua\",\n",
    "    \"Guo\",\n",
    "    \"Harmon\",\n",
    "    \"Kang\",\n",
    "    \"Martinez\",\n",
    "    \"Sinha\",\n",
    "    \"Song\",\n",
    "    \"Wang\",\n",
    "]"
   ]
  },
  {
   "cell_type": "markdown",
   "id": "055df088-008e-41d3-a35f-e25ec0c79f6b",
   "metadata": {},
   "source": [
    "### Select students at random into three teams"
   ]
  },
  {
   "cell_type": "code",
   "execution_count": 6,
   "id": "2ec41f15-b295-4405-974e-2c7dd0d9cded",
   "metadata": {},
   "outputs": [
    {
     "data": {
      "text/plain": [
       "['Harmon',\n",
       " 'Song',\n",
       " 'Sinha',\n",
       " 'Wang',\n",
       " 'Guo',\n",
       " 'Vergara',\n",
       " 'Martinez',\n",
       " 'Kang',\n",
       " 'Chua']"
      ]
     },
     "execution_count": 6,
     "metadata": {},
     "output_type": "execute_result"
    }
   ],
   "source": [
    "random.shuffle(students)\n",
    "students"
   ]
  },
  {
   "cell_type": "code",
   "execution_count": 7,
   "id": "ca9f517f-2ebb-43e8-97a1-e61d43430c5b",
   "metadata": {},
   "outputs": [],
   "source": [
    "# Another way to do random selection here: https://observablehq.com/@mattstiles/jour-554-surnames"
   ]
  },
  {
   "cell_type": "code",
   "execution_count": 8,
   "id": "4fba9a5d-2490-49e7-a192-542e4fb7a8c2",
   "metadata": {},
   "outputs": [
    {
     "data": {
      "text/plain": [
       "['Harmon', 'Song', 'Sinha']"
      ]
     },
     "execution_count": 8,
     "metadata": {},
     "output_type": "execute_result"
    }
   ],
   "source": [
    "team_one = students[0:3]\n",
    "team_one"
   ]
  },
  {
   "cell_type": "code",
   "execution_count": 9,
   "id": "350ec594-2325-46eb-aa26-30ccd7043e9c",
   "metadata": {},
   "outputs": [
    {
     "data": {
      "text/plain": [
       "['Wang', 'Guo', 'Vergara']"
      ]
     },
     "execution_count": 9,
     "metadata": {},
     "output_type": "execute_result"
    }
   ],
   "source": [
    "team_two = students[3:6]\n",
    "team_two"
   ]
  },
  {
   "cell_type": "code",
   "execution_count": 10,
   "id": "1ceaecf6-79ad-41e5-a7ea-5d83a925d207",
   "metadata": {},
   "outputs": [
    {
     "data": {
      "text/plain": [
       "['Martinez', 'Kang', 'Chua']"
      ]
     },
     "execution_count": 10,
     "metadata": {},
     "output_type": "execute_result"
    }
   ],
   "source": [
    "team_three = students[6:9]\n",
    "team_three"
   ]
  },
  {
   "cell_type": "markdown",
   "id": "60355ef5-ab28-4697-9b52-a039d5bee05b",
   "metadata": {},
   "source": [
    "---"
   ]
  },
  {
   "cell_type": "markdown",
   "id": "81ef9444-96fc-46cd-8439-b2b32324a999",
   "metadata": {},
   "source": [
    "### This changes each time the notebook loads. Here are the teams. "
   ]
  },
  {
   "cell_type": "code",
   "execution_count": 11,
   "id": "b95aff1f-c077-4e94-b693-8dad738f5140",
   "metadata": {},
   "outputs": [],
   "source": [
    "team_one = [\"Sinha\", \"Song\", \"Wang\"]\n",
    "team_two = [\"Martinez\", \"Chua\", \"Vergara\"]\n",
    "team_three = [\"Harmon\", \"Kang\", \"Guo\"]"
   ]
  },
  {
   "cell_type": "markdown",
   "id": "f4e6b48e-04e1-44fa-b7e0-167387d39bd4",
   "metadata": {},
   "source": [
    "---"
   ]
  },
  {
   "cell_type": "markdown",
   "id": "4f089e44-c27d-459e-a9f8-4225f49f12cf",
   "metadata": {},
   "source": [
    "### Find your last name!"
   ]
  },
  {
   "cell_type": "code",
   "execution_count": null,
   "id": "f92f8268-124a-4734-b8ec-90749355601c",
   "metadata": {},
   "outputs": [],
   "source": []
  },
  {
   "cell_type": "markdown",
   "id": "2e115ecf-7688-4616-a2cf-deb0bd8fedb8",
   "metadata": {},
   "source": [
    "### Find the surnames of your teammates, and sort ascending by surname"
   ]
  },
  {
   "cell_type": "code",
   "execution_count": null,
   "id": "45ab05a5-8afa-4905-ba59-f0740ab98346",
   "metadata": {},
   "outputs": [],
   "source": []
  },
  {
   "cell_type": "markdown",
   "id": "eadeaba7-d773-446e-bbfb-ab1422294056",
   "metadata": {},
   "source": [
    "### Who in your team has the most popular names, in terms of per 100,000 rate"
   ]
  },
  {
   "cell_type": "code",
   "execution_count": null,
   "id": "0b42a98e-ebcf-4bab-8082-17212da32a09",
   "metadata": {},
   "outputs": [],
   "source": []
  },
  {
   "cell_type": "markdown",
   "id": "1667041b-e439-4e50-9a01-34eca65757ee",
   "metadata": {},
   "source": [
    "### In 2010, find the 5 names that are most Asian"
   ]
  },
  {
   "cell_type": "code",
   "execution_count": null,
   "id": "06efdce5-9164-4681-9685-d1ccebf0d6dd",
   "metadata": {},
   "outputs": [],
   "source": []
  },
  {
   "cell_type": "markdown",
   "id": "807a00c0-6514-44c0-99c2-e9df0fca2400",
   "metadata": {},
   "source": [
    "### Among majority Hispanic names in 2010, which five were most common?"
   ]
  },
  {
   "cell_type": "code",
   "execution_count": null,
   "id": "e2246e3e-7469-4ade-94e2-a8266d039c88",
   "metadata": {},
   "outputs": [],
   "source": []
  },
  {
   "cell_type": "markdown",
   "id": "77ea8024-ee72-4e94-91c0-9841fd8bb79d",
   "metadata": {},
   "source": [
    "### How did the frequency of your name change in pct terms between 2000 and 2010?"
   ]
  },
  {
   "cell_type": "code",
   "execution_count": 12,
   "id": "1905658f-bf31-486f-8c6a-87c36acf99ee",
   "metadata": {},
   "outputs": [],
   "source": [
    "### Hint: https://pandas.pydata.org/docs/reference/api/pandas.DataFrame.pct_change.html\n",
    "### Don't forget to sort!"
   ]
  },
  {
   "cell_type": "code",
   "execution_count": null,
   "id": "f1489188-55ac-49c6-b582-a21437a2413b",
   "metadata": {},
   "outputs": [],
   "source": []
  },
  {
   "cell_type": "code",
   "execution_count": null,
   "id": "ecd3bb44-fd9a-474a-8bb5-c60bf786d42c",
   "metadata": {},
   "outputs": [],
   "source": []
  },
  {
   "cell_type": "code",
   "execution_count": null,
   "id": "7ab24ce9-ce18-4679-a4ed-93314cc8bb92",
   "metadata": {},
   "outputs": [],
   "source": []
  },
  {
   "cell_type": "markdown",
   "id": "c1984d73-6e05-4379-9678-2df9f34e1739",
   "metadata": {},
   "source": [
    "---"
   ]
  },
  {
   "cell_type": "markdown",
   "id": "6d201b2d-1644-4132-b424-30f5f509bbe9",
   "metadata": {},
   "source": [
    "### BONUS: Group by name and year for surnames in our class, aggregating with the mean per_100k value"
   ]
  },
  {
   "cell_type": "code",
   "execution_count": null,
   "id": "0db5d686-5e25-44e6-b0e1-64634207b503",
   "metadata": {},
   "outputs": [],
   "source": []
  },
  {
   "cell_type": "markdown",
   "id": "79f33a8e-d214-41e7-91f2-e8f8d051376c",
   "metadata": {},
   "source": [
    "### BONUS: Calculate the % change in surnames for each name from 2000 to 2010"
   ]
  },
  {
   "cell_type": "code",
   "execution_count": 13,
   "id": "f8f73221-550c-46a2-8974-37be0e8ae09c",
   "metadata": {},
   "outputs": [],
   "source": [
    "# Hints: pivot_table()\n",
    "# Hints: % increase = (new number - old number) / original number × 100"
   ]
  },
  {
   "cell_type": "code",
   "execution_count": null,
   "id": "1959385c-b09e-4723-a1fa-845452f32e49",
   "metadata": {},
   "outputs": [],
   "source": []
  },
  {
   "cell_type": "code",
   "execution_count": null,
   "id": "addb1083-e214-4a33-b36d-3509927505f7",
   "metadata": {},
   "outputs": [],
   "source": []
  },
  {
   "cell_type": "code",
   "execution_count": null,
   "id": "b9478d4e-c2fd-4065-9a67-56127e6cfa0a",
   "metadata": {},
   "outputs": [],
   "source": []
  }
 ],
 "metadata": {
  "kernelspec": {
   "display_name": "Python 3",
   "language": "python",
   "name": "python3"
  },
  "language_info": {
   "codemirror_mode": {
    "name": "ipython",
    "version": 3
   },
   "file_extension": ".py",
   "mimetype": "text/x-python",
   "name": "python",
   "nbconvert_exporter": "python",
   "pygments_lexer": "ipython3",
   "version": "3.8.8"
  }
 },
 "nbformat": 4,
 "nbformat_minor": 5
}
