{
 "cells": [
  {
   "cell_type": "markdown",
   "id": "de872774-504e-4e20-8ba5-8ab6691ebb3d",
   "metadata": {},
   "source": [
    "# Surnames from the U.S. Census Bureau"
   ]
  },
  {
   "cell_type": "code",
   "execution_count": 1,
   "id": "ee51917e-120d-4398-8ddd-cf11a367779f",
   "metadata": {},
   "outputs": [],
   "source": [
    "%load_ext lab_black"
   ]
  },
  {
   "cell_type": "code",
   "execution_count": 2,
   "id": "3335d791-f59e-413c-a099-9d038e74ac1c",
   "metadata": {},
   "outputs": [],
   "source": [
    "import pandas as pd\n",
    "import random"
   ]
  },
  {
   "cell_type": "markdown",
   "id": "feb9e564-c188-473f-8056-1cd227c72690",
   "metadata": {},
   "source": [
    "### Read the data"
   ]
  },
  {
   "cell_type": "code",
   "execution_count": 3,
   "id": "7bb39b31-b5d4-448b-88a3-8807247cf2d0",
   "metadata": {},
   "outputs": [],
   "source": [
    "# Main url: https://www.census.gov/data/developers/data-sets/surnames.html\n",
    "# Data documentation: https://www2.census.gov/topics/genealogy/2010surnames/surnames.pdf"
   ]
  },
  {
   "cell_type": "code",
   "execution_count": 4,
   "id": "c53d548d-adc2-4ff1-842f-dfa1899207da",
   "metadata": {},
   "outputs": [],
   "source": [
    "df = pd.read_csv(\"../data/surnames.csv\", dtype={\"year\": str})"
   ]
  },
  {
   "cell_type": "markdown",
   "id": "7ed19994-8a36-4309-938c-8a79723f18cf",
   "metadata": {},
   "source": [
    "### What's the dataframe look like? "
   ]
  },
  {
   "cell_type": "code",
   "execution_count": 5,
   "id": "d360e313-624a-42c3-874d-6171f3232d60",
   "metadata": {},
   "outputs": [
    {
     "data": {
      "text/html": [
       "<div>\n",
       "<style scoped>\n",
       "    .dataframe tbody tr th:only-of-type {\n",
       "        vertical-align: middle;\n",
       "    }\n",
       "\n",
       "    .dataframe tbody tr th {\n",
       "        vertical-align: top;\n",
       "    }\n",
       "\n",
       "    .dataframe thead th {\n",
       "        text-align: right;\n",
       "    }\n",
       "</style>\n",
       "<table border=\"1\" class=\"dataframe\">\n",
       "  <thead>\n",
       "    <tr style=\"text-align: right;\">\n",
       "      <th></th>\n",
       "      <th>name</th>\n",
       "      <th>count</th>\n",
       "      <th>rank</th>\n",
       "      <th>pct_api</th>\n",
       "      <th>pct_black</th>\n",
       "      <th>pct_aian</th>\n",
       "      <th>pct_white</th>\n",
       "      <th>pct_two_race</th>\n",
       "      <th>pct_hispanic</th>\n",
       "      <th>per_100k</th>\n",
       "      <th>year</th>\n",
       "    </tr>\n",
       "  </thead>\n",
       "  <tbody>\n",
       "    <tr>\n",
       "      <th>0</th>\n",
       "      <td>Smith</td>\n",
       "      <td>2442977</td>\n",
       "      <td>1</td>\n",
       "      <td>0.50</td>\n",
       "      <td>23.11</td>\n",
       "      <td>0.89</td>\n",
       "      <td>70.90</td>\n",
       "      <td>2.19</td>\n",
       "      <td>2.40</td>\n",
       "      <td>828.19</td>\n",
       "      <td>2010</td>\n",
       "    </tr>\n",
       "    <tr>\n",
       "      <th>1</th>\n",
       "      <td>Smith</td>\n",
       "      <td>2376206</td>\n",
       "      <td>1</td>\n",
       "      <td>0.40</td>\n",
       "      <td>22.22</td>\n",
       "      <td>0.85</td>\n",
       "      <td>73.35</td>\n",
       "      <td>1.63</td>\n",
       "      <td>1.56</td>\n",
       "      <td>880.85</td>\n",
       "      <td>2000</td>\n",
       "    </tr>\n",
       "    <tr>\n",
       "      <th>2</th>\n",
       "      <td>Johnson</td>\n",
       "      <td>1932812</td>\n",
       "      <td>2</td>\n",
       "      <td>0.54</td>\n",
       "      <td>34.63</td>\n",
       "      <td>0.94</td>\n",
       "      <td>58.97</td>\n",
       "      <td>2.56</td>\n",
       "      <td>2.36</td>\n",
       "      <td>655.24</td>\n",
       "      <td>2010</td>\n",
       "    </tr>\n",
       "    <tr>\n",
       "      <th>3</th>\n",
       "      <td>Johnson</td>\n",
       "      <td>1857160</td>\n",
       "      <td>2</td>\n",
       "      <td>0.42</td>\n",
       "      <td>33.80</td>\n",
       "      <td>0.91</td>\n",
       "      <td>61.55</td>\n",
       "      <td>1.82</td>\n",
       "      <td>1.50</td>\n",
       "      <td>688.44</td>\n",
       "      <td>2000</td>\n",
       "    </tr>\n",
       "    <tr>\n",
       "      <th>4</th>\n",
       "      <td>Williams</td>\n",
       "      <td>1625252</td>\n",
       "      <td>3</td>\n",
       "      <td>0.46</td>\n",
       "      <td>47.68</td>\n",
       "      <td>0.82</td>\n",
       "      <td>45.75</td>\n",
       "      <td>2.81</td>\n",
       "      <td>2.49</td>\n",
       "      <td>550.97</td>\n",
       "      <td>2010</td>\n",
       "    </tr>\n",
       "    <tr>\n",
       "      <th>5</th>\n",
       "      <td>Williams</td>\n",
       "      <td>1534042</td>\n",
       "      <td>3</td>\n",
       "      <td>0.37</td>\n",
       "      <td>46.72</td>\n",
       "      <td>0.78</td>\n",
       "      <td>48.52</td>\n",
       "      <td>2.01</td>\n",
       "      <td>1.60</td>\n",
       "      <td>568.66</td>\n",
       "      <td>2000</td>\n",
       "    </tr>\n",
       "    <tr>\n",
       "      <th>6</th>\n",
       "      <td>Brown</td>\n",
       "      <td>1437026</td>\n",
       "      <td>4</td>\n",
       "      <td>0.51</td>\n",
       "      <td>35.60</td>\n",
       "      <td>0.87</td>\n",
       "      <td>57.95</td>\n",
       "      <td>2.55</td>\n",
       "      <td>2.52</td>\n",
       "      <td>487.16</td>\n",
       "      <td>2010</td>\n",
       "    </tr>\n",
       "    <tr>\n",
       "      <th>7</th>\n",
       "      <td>Jones</td>\n",
       "      <td>1425470</td>\n",
       "      <td>5</td>\n",
       "      <td>0.44</td>\n",
       "      <td>38.48</td>\n",
       "      <td>1.00</td>\n",
       "      <td>55.19</td>\n",
       "      <td>2.61</td>\n",
       "      <td>2.29</td>\n",
       "      <td>483.24</td>\n",
       "      <td>2010</td>\n",
       "    </tr>\n",
       "    <tr>\n",
       "      <th>8</th>\n",
       "      <td>Brown</td>\n",
       "      <td>1380145</td>\n",
       "      <td>4</td>\n",
       "      <td>0.41</td>\n",
       "      <td>34.54</td>\n",
       "      <td>0.83</td>\n",
       "      <td>60.71</td>\n",
       "      <td>1.86</td>\n",
       "      <td>1.64</td>\n",
       "      <td>511.62</td>\n",
       "      <td>2000</td>\n",
       "    </tr>\n",
       "    <tr>\n",
       "      <th>9</th>\n",
       "      <td>Jones</td>\n",
       "      <td>1362755</td>\n",
       "      <td>5</td>\n",
       "      <td>0.35</td>\n",
       "      <td>37.73</td>\n",
       "      <td>0.94</td>\n",
       "      <td>57.69</td>\n",
       "      <td>1.85</td>\n",
       "      <td>1.44</td>\n",
       "      <td>505.17</td>\n",
       "      <td>2000</td>\n",
       "    </tr>\n",
       "  </tbody>\n",
       "</table>\n",
       "</div>"
      ],
      "text/plain": [
       "       name    count  rank  pct_api  pct_black  pct_aian  pct_white  \\\n",
       "0     Smith  2442977     1     0.50      23.11      0.89      70.90   \n",
       "1     Smith  2376206     1     0.40      22.22      0.85      73.35   \n",
       "2   Johnson  1932812     2     0.54      34.63      0.94      58.97   \n",
       "3   Johnson  1857160     2     0.42      33.80      0.91      61.55   \n",
       "4  Williams  1625252     3     0.46      47.68      0.82      45.75   \n",
       "5  Williams  1534042     3     0.37      46.72      0.78      48.52   \n",
       "6     Brown  1437026     4     0.51      35.60      0.87      57.95   \n",
       "7     Jones  1425470     5     0.44      38.48      1.00      55.19   \n",
       "8     Brown  1380145     4     0.41      34.54      0.83      60.71   \n",
       "9     Jones  1362755     5     0.35      37.73      0.94      57.69   \n",
       "\n",
       "   pct_two_race  pct_hispanic  per_100k  year  \n",
       "0          2.19          2.40    828.19  2010  \n",
       "1          1.63          1.56    880.85  2000  \n",
       "2          2.56          2.36    655.24  2010  \n",
       "3          1.82          1.50    688.44  2000  \n",
       "4          2.81          2.49    550.97  2010  \n",
       "5          2.01          1.60    568.66  2000  \n",
       "6          2.55          2.52    487.16  2010  \n",
       "7          2.61          2.29    483.24  2010  \n",
       "8          1.86          1.64    511.62  2000  \n",
       "9          1.85          1.44    505.17  2000  "
      ]
     },
     "execution_count": 5,
     "metadata": {},
     "output_type": "execute_result"
    }
   ],
   "source": [
    "df.head(10)"
   ]
  },
  {
   "cell_type": "code",
   "execution_count": 6,
   "id": "625607a3-b460-4236-898f-42107a06473b",
   "metadata": {},
   "outputs": [
    {
     "name": "stdout",
     "output_type": "stream",
     "text": [
      "<class 'pandas.core.frame.DataFrame'>\n",
      "RangeIndex: 21737 entries, 0 to 21736\n",
      "Data columns (total 11 columns):\n",
      " #   Column        Non-Null Count  Dtype  \n",
      "---  ------        --------------  -----  \n",
      " 0   name          21737 non-null  object \n",
      " 1   count         21737 non-null  int64  \n",
      " 2   rank          21737 non-null  int64  \n",
      " 3   pct_api       21737 non-null  float64\n",
      " 4   pct_black     21737 non-null  float64\n",
      " 5   pct_aian      21737 non-null  float64\n",
      " 6   pct_white     21737 non-null  float64\n",
      " 7   pct_two_race  21737 non-null  float64\n",
      " 8   pct_hispanic  21737 non-null  float64\n",
      " 9   per_100k      21737 non-null  float64\n",
      " 10  year          21737 non-null  object \n",
      "dtypes: float64(7), int64(2), object(2)\n",
      "memory usage: 1.8+ MB\n"
     ]
    }
   ],
   "source": [
    "df.info()"
   ]
  },
  {
   "cell_type": "code",
   "execution_count": 7,
   "id": "df4c3454-ca12-4537-9c7b-10ca3b75f003",
   "metadata": {},
   "outputs": [
    {
     "data": {
      "text/html": [
       "<div>\n",
       "<style scoped>\n",
       "    .dataframe tbody tr th:only-of-type {\n",
       "        vertical-align: middle;\n",
       "    }\n",
       "\n",
       "    .dataframe tbody tr th {\n",
       "        vertical-align: top;\n",
       "    }\n",
       "\n",
       "    .dataframe thead th {\n",
       "        text-align: right;\n",
       "    }\n",
       "</style>\n",
       "<table border=\"1\" class=\"dataframe\">\n",
       "  <thead>\n",
       "    <tr style=\"text-align: right;\">\n",
       "      <th></th>\n",
       "      <th>count</th>\n",
       "      <th>rank</th>\n",
       "      <th>pct_api</th>\n",
       "      <th>pct_black</th>\n",
       "      <th>pct_aian</th>\n",
       "      <th>pct_white</th>\n",
       "      <th>pct_two_race</th>\n",
       "      <th>pct_hispanic</th>\n",
       "      <th>per_100k</th>\n",
       "    </tr>\n",
       "  </thead>\n",
       "  <tbody>\n",
       "    <tr>\n",
       "      <th>count</th>\n",
       "      <td>2.173700e+04</td>\n",
       "      <td>21737.000000</td>\n",
       "      <td>21737.000000</td>\n",
       "      <td>21737.000000</td>\n",
       "      <td>21737.000000</td>\n",
       "      <td>21737.000000</td>\n",
       "      <td>21737.000000</td>\n",
       "      <td>21737.000000</td>\n",
       "      <td>21737.000000</td>\n",
       "    </tr>\n",
       "    <tr>\n",
       "      <th>mean</th>\n",
       "      <td>1.795902e+04</td>\n",
       "      <td>5434.271335</td>\n",
       "      <td>4.256858</td>\n",
       "      <td>9.425759</td>\n",
       "      <td>0.715929</td>\n",
       "      <td>71.849012</td>\n",
       "      <td>1.620553</td>\n",
       "      <td>12.094523</td>\n",
       "      <td>6.359557</td>\n",
       "    </tr>\n",
       "    <tr>\n",
       "      <th>std</th>\n",
       "      <td>6.171097e+04</td>\n",
       "      <td>3137.197749</td>\n",
       "      <td>16.521642</td>\n",
       "      <td>14.450224</td>\n",
       "      <td>2.779980</td>\n",
       "      <td>31.037646</td>\n",
       "      <td>1.324449</td>\n",
       "      <td>27.213926</td>\n",
       "      <td>21.829534</td>\n",
       "    </tr>\n",
       "    <tr>\n",
       "      <th>min</th>\n",
       "      <td>2.360000e+03</td>\n",
       "      <td>1.000000</td>\n",
       "      <td>0.000000</td>\n",
       "      <td>0.000000</td>\n",
       "      <td>0.000000</td>\n",
       "      <td>0.190000</td>\n",
       "      <td>0.000000</td>\n",
       "      <td>0.000000</td>\n",
       "      <td>0.870000</td>\n",
       "    </tr>\n",
       "    <tr>\n",
       "      <th>25%</th>\n",
       "      <td>3.910000e+03</td>\n",
       "      <td>2717.000000</td>\n",
       "      <td>0.390000</td>\n",
       "      <td>0.440000</td>\n",
       "      <td>0.240000</td>\n",
       "      <td>64.310000</td>\n",
       "      <td>1.080000</td>\n",
       "      <td>1.500000</td>\n",
       "      <td>1.380000</td>\n",
       "    </tr>\n",
       "    <tr>\n",
       "      <th>50%</th>\n",
       "      <td>6.145000e+03</td>\n",
       "      <td>5435.000000</td>\n",
       "      <td>0.530000</td>\n",
       "      <td>2.480000</td>\n",
       "      <td>0.450000</td>\n",
       "      <td>86.260000</td>\n",
       "      <td>1.460000</td>\n",
       "      <td>2.050000</td>\n",
       "      <td>2.180000</td>\n",
       "    </tr>\n",
       "    <tr>\n",
       "      <th>75%</th>\n",
       "      <td>1.274400e+04</td>\n",
       "      <td>8151.000000</td>\n",
       "      <td>0.770000</td>\n",
       "      <td>13.100000</td>\n",
       "      <td>0.710000</td>\n",
       "      <td>94.160000</td>\n",
       "      <td>1.890000</td>\n",
       "      <td>2.820000</td>\n",
       "      <td>4.500000</td>\n",
       "    </tr>\n",
       "    <tr>\n",
       "      <th>max</th>\n",
       "      <td>2.442977e+06</td>\n",
       "      <td>12122.000000</td>\n",
       "      <td>98.630000</td>\n",
       "      <td>96.750000</td>\n",
       "      <td>96.230000</td>\n",
       "      <td>99.400000</td>\n",
       "      <td>40.250000</td>\n",
       "      <td>97.950000</td>\n",
       "      <td>880.850000</td>\n",
       "    </tr>\n",
       "  </tbody>\n",
       "</table>\n",
       "</div>"
      ],
      "text/plain": [
       "              count          rank       pct_api     pct_black      pct_aian  \\\n",
       "count  2.173700e+04  21737.000000  21737.000000  21737.000000  21737.000000   \n",
       "mean   1.795902e+04   5434.271335      4.256858      9.425759      0.715929   \n",
       "std    6.171097e+04   3137.197749     16.521642     14.450224      2.779980   \n",
       "min    2.360000e+03      1.000000      0.000000      0.000000      0.000000   \n",
       "25%    3.910000e+03   2717.000000      0.390000      0.440000      0.240000   \n",
       "50%    6.145000e+03   5435.000000      0.530000      2.480000      0.450000   \n",
       "75%    1.274400e+04   8151.000000      0.770000     13.100000      0.710000   \n",
       "max    2.442977e+06  12122.000000     98.630000     96.750000     96.230000   \n",
       "\n",
       "          pct_white  pct_two_race  pct_hispanic      per_100k  \n",
       "count  21737.000000  21737.000000  21737.000000  21737.000000  \n",
       "mean      71.849012      1.620553     12.094523      6.359557  \n",
       "std       31.037646      1.324449     27.213926     21.829534  \n",
       "min        0.190000      0.000000      0.000000      0.870000  \n",
       "25%       64.310000      1.080000      1.500000      1.380000  \n",
       "50%       86.260000      1.460000      2.050000      2.180000  \n",
       "75%       94.160000      1.890000      2.820000      4.500000  \n",
       "max       99.400000     40.250000     97.950000    880.850000  "
      ]
     },
     "execution_count": 7,
     "metadata": {},
     "output_type": "execute_result"
    }
   ],
   "source": [
    "df.describe()"
   ]
  },
  {
   "cell_type": "markdown",
   "id": "7a109b13-3df4-455c-a061-3427744dc7d0",
   "metadata": {},
   "source": [
    "### Which names are majority \"black\"?"
   ]
  },
  {
   "cell_type": "code",
   "execution_count": 8,
   "id": "5d59789f-e407-4f42-a211-7ef511d9daef",
   "metadata": {},
   "outputs": [
    {
     "data": {
      "text/html": [
       "<div>\n",
       "<style scoped>\n",
       "    .dataframe tbody tr th:only-of-type {\n",
       "        vertical-align: middle;\n",
       "    }\n",
       "\n",
       "    .dataframe tbody tr th {\n",
       "        vertical-align: top;\n",
       "    }\n",
       "\n",
       "    .dataframe thead th {\n",
       "        text-align: right;\n",
       "    }\n",
       "</style>\n",
       "<table border=\"1\" class=\"dataframe\">\n",
       "  <thead>\n",
       "    <tr style=\"text-align: right;\">\n",
       "      <th></th>\n",
       "      <th>name</th>\n",
       "      <th>count</th>\n",
       "      <th>rank</th>\n",
       "      <th>pct_api</th>\n",
       "      <th>pct_black</th>\n",
       "      <th>pct_aian</th>\n",
       "      <th>pct_white</th>\n",
       "      <th>pct_two_race</th>\n",
       "      <th>pct_hispanic</th>\n",
       "      <th>per_100k</th>\n",
       "      <th>year</th>\n",
       "    </tr>\n",
       "  </thead>\n",
       "  <tbody>\n",
       "    <tr>\n",
       "      <th>32</th>\n",
       "      <td>Jackson</td>\n",
       "      <td>708099</td>\n",
       "      <td>19</td>\n",
       "      <td>0.39</td>\n",
       "      <td>53.04</td>\n",
       "      <td>1.06</td>\n",
       "      <td>39.89</td>\n",
       "      <td>3.12</td>\n",
       "      <td>2.50</td>\n",
       "      <td>240.05</td>\n",
       "      <td>2010</td>\n",
       "    </tr>\n",
       "    <tr>\n",
       "      <th>39</th>\n",
       "      <td>Jackson</td>\n",
       "      <td>666125</td>\n",
       "      <td>18</td>\n",
       "      <td>0.31</td>\n",
       "      <td>53.02</td>\n",
       "      <td>1.04</td>\n",
       "      <td>41.93</td>\n",
       "      <td>2.18</td>\n",
       "      <td>1.53</td>\n",
       "      <td>246.93</td>\n",
       "      <td>2000</td>\n",
       "    </tr>\n",
       "    <tr>\n",
       "      <th>268</th>\n",
       "      <td>Washington</td>\n",
       "      <td>177386</td>\n",
       "      <td>145</td>\n",
       "      <td>0.30</td>\n",
       "      <td>87.53</td>\n",
       "      <td>0.68</td>\n",
       "      <td>5.17</td>\n",
       "      <td>3.78</td>\n",
       "      <td>2.54</td>\n",
       "      <td>60.14</td>\n",
       "      <td>2010</td>\n",
       "    </tr>\n",
       "    <tr>\n",
       "      <th>296</th>\n",
       "      <td>Washington</td>\n",
       "      <td>163036</td>\n",
       "      <td>138</td>\n",
       "      <td>0.25</td>\n",
       "      <td>89.87</td>\n",
       "      <td>0.64</td>\n",
       "      <td>5.16</td>\n",
       "      <td>2.64</td>\n",
       "      <td>1.45</td>\n",
       "      <td>60.44</td>\n",
       "      <td>2000</td>\n",
       "    </tr>\n",
       "    <tr>\n",
       "      <th>549</th>\n",
       "      <td>Banks</td>\n",
       "      <td>105833</td>\n",
       "      <td>292</td>\n",
       "      <td>0.36</td>\n",
       "      <td>54.51</td>\n",
       "      <td>0.43</td>\n",
       "      <td>39.27</td>\n",
       "      <td>2.98</td>\n",
       "      <td>2.45</td>\n",
       "      <td>35.88</td>\n",
       "      <td>2010</td>\n",
       "    </tr>\n",
       "    <tr>\n",
       "      <th>583</th>\n",
       "      <td>Joseph</td>\n",
       "      <td>100959</td>\n",
       "      <td>313</td>\n",
       "      <td>9.76</td>\n",
       "      <td>54.19</td>\n",
       "      <td>0.99</td>\n",
       "      <td>29.59</td>\n",
       "      <td>2.49</td>\n",
       "      <td>2.98</td>\n",
       "      <td>34.23</td>\n",
       "      <td>2010</td>\n",
       "    </tr>\n",
       "    <tr>\n",
       "      <th>592</th>\n",
       "      <td>Banks</td>\n",
       "      <td>99294</td>\n",
       "      <td>278</td>\n",
       "      <td>0.30</td>\n",
       "      <td>54.24</td>\n",
       "      <td>0.41</td>\n",
       "      <td>41.30</td>\n",
       "      <td>2.28</td>\n",
       "      <td>1.47</td>\n",
       "      <td>36.81</td>\n",
       "      <td>2000</td>\n",
       "    </tr>\n",
       "    <tr>\n",
       "      <th>1038</th>\n",
       "      <td>Charles</td>\n",
       "      <td>61211</td>\n",
       "      <td>548</td>\n",
       "      <td>1.01</td>\n",
       "      <td>52.96</td>\n",
       "      <td>2.07</td>\n",
       "      <td>33.69</td>\n",
       "      <td>2.37</td>\n",
       "      <td>7.90</td>\n",
       "      <td>20.75</td>\n",
       "      <td>2010</td>\n",
       "    </tr>\n",
       "    <tr>\n",
       "      <th>1157</th>\n",
       "      <td>Jefferson</td>\n",
       "      <td>55179</td>\n",
       "      <td>615</td>\n",
       "      <td>0.40</td>\n",
       "      <td>74.24</td>\n",
       "      <td>1.90</td>\n",
       "      <td>17.45</td>\n",
       "      <td>3.54</td>\n",
       "      <td>2.47</td>\n",
       "      <td>18.71</td>\n",
       "      <td>2010</td>\n",
       "    </tr>\n",
       "    <tr>\n",
       "      <th>1257</th>\n",
       "      <td>Jefferson</td>\n",
       "      <td>51361</td>\n",
       "      <td>594</td>\n",
       "      <td>0.25</td>\n",
       "      <td>75.24</td>\n",
       "      <td>1.85</td>\n",
       "      <td>18.72</td>\n",
       "      <td>2.38</td>\n",
       "      <td>1.57</td>\n",
       "      <td>19.04</td>\n",
       "      <td>2000</td>\n",
       "    </tr>\n",
       "  </tbody>\n",
       "</table>\n",
       "</div>"
      ],
      "text/plain": [
       "            name   count  rank  pct_api  pct_black  pct_aian  pct_white  \\\n",
       "32       Jackson  708099    19     0.39      53.04      1.06      39.89   \n",
       "39       Jackson  666125    18     0.31      53.02      1.04      41.93   \n",
       "268   Washington  177386   145     0.30      87.53      0.68       5.17   \n",
       "296   Washington  163036   138     0.25      89.87      0.64       5.16   \n",
       "549        Banks  105833   292     0.36      54.51      0.43      39.27   \n",
       "583       Joseph  100959   313     9.76      54.19      0.99      29.59   \n",
       "592        Banks   99294   278     0.30      54.24      0.41      41.30   \n",
       "1038     Charles   61211   548     1.01      52.96      2.07      33.69   \n",
       "1157   Jefferson   55179   615     0.40      74.24      1.90      17.45   \n",
       "1257   Jefferson   51361   594     0.25      75.24      1.85      18.72   \n",
       "\n",
       "      pct_two_race  pct_hispanic  per_100k  year  \n",
       "32            3.12          2.50    240.05  2010  \n",
       "39            2.18          1.53    246.93  2000  \n",
       "268           3.78          2.54     60.14  2010  \n",
       "296           2.64          1.45     60.44  2000  \n",
       "549           2.98          2.45     35.88  2010  \n",
       "583           2.49          2.98     34.23  2010  \n",
       "592           2.28          1.47     36.81  2000  \n",
       "1038          2.37          7.90     20.75  2010  \n",
       "1157          3.54          2.47     18.71  2010  \n",
       "1257          2.38          1.57     19.04  2000  "
      ]
     },
     "execution_count": 8,
     "metadata": {},
     "output_type": "execute_result"
    }
   ],
   "source": [
    "df[df[\"pct_black\"] >= 50].head(10)"
   ]
  },
  {
   "cell_type": "markdown",
   "id": "8c71f963-ae89-4174-ba06-5224b581c6b6",
   "metadata": {},
   "source": [
    "### How many unique names? "
   ]
  },
  {
   "cell_type": "code",
   "execution_count": 9,
   "id": "c835b03e-5a7b-4099-8eb3-79833dbd6645",
   "metadata": {},
   "outputs": [
    {
     "data": {
      "text/plain": [
       "11292"
      ]
     },
     "execution_count": 9,
     "metadata": {},
     "output_type": "execute_result"
    }
   ],
   "source": [
    "len(df.name.unique())"
   ]
  },
  {
   "cell_type": "code",
   "execution_count": 11,
   "id": "bc88c05d-7626-400c-bd5b-bdb67e735044",
   "metadata": {},
   "outputs": [
    {
     "data": {
      "text/plain": [
       "2000    10887\n",
       "2010    10850\n",
       "Name: year, dtype: int64"
      ]
     },
     "execution_count": 11,
     "metadata": {},
     "output_type": "execute_result"
    }
   ],
   "source": []
  },
  {
   "cell_type": "markdown",
   "id": "8af969dd-2cf4-4653-92b3-a426e7df8c99",
   "metadata": {},
   "source": [
    "### How many in each year? "
   ]
  },
  {
   "cell_type": "code",
   "execution_count": 12,
   "id": "ee3f04cd-aea9-4a73-bf69-68465b442ced",
   "metadata": {},
   "outputs": [
    {
     "data": {
      "text/plain": [
       "2000    10887\n",
       "2010    10850\n",
       "Name: year, dtype: int64"
      ]
     },
     "execution_count": 12,
     "metadata": {},
     "output_type": "execute_result"
    }
   ],
   "source": [
    "df[\"year\"].value_counts()"
   ]
  },
  {
   "cell_type": "markdown",
   "id": "aa21a33a-7c9b-4324-a1f8-a817815d3ef3",
   "metadata": {},
   "source": [
    "### Surnames in our class (the simple versions, at least)"
   ]
  },
  {
   "cell_type": "code",
   "execution_count": 13,
   "id": "457f6db9-7c74-45e8-8db9-7ab94f9e990e",
   "metadata": {},
   "outputs": [],
   "source": [
    "students = [\n",
    "    \"Vergara\",\n",
    "    \"Chua\",\n",
    "    \"Guo\",\n",
    "    \"Harmon\",\n",
    "    \"Kang\",\n",
    "    \"Martinez\",\n",
    "    \"Sinha\",\n",
    "    \"Song\",\n",
    "    \"Wang\",\n",
    "]"
   ]
  },
  {
   "cell_type": "markdown",
   "id": "055df088-008e-41d3-a35f-e25ec0c79f6b",
   "metadata": {},
   "source": [
    "### Select students at random into three teams"
   ]
  },
  {
   "cell_type": "code",
   "execution_count": 14,
   "id": "2ec41f15-b295-4405-974e-2c7dd0d9cded",
   "metadata": {},
   "outputs": [
    {
     "data": {
      "text/plain": [
       "['Song',\n",
       " 'Vergara',\n",
       " 'Kang',\n",
       " 'Guo',\n",
       " 'Harmon',\n",
       " 'Martinez',\n",
       " 'Wang',\n",
       " 'Sinha',\n",
       " 'Chua']"
      ]
     },
     "execution_count": 14,
     "metadata": {},
     "output_type": "execute_result"
    }
   ],
   "source": [
    "random.shuffle(students)\n",
    "students"
   ]
  },
  {
   "cell_type": "code",
   "execution_count": 15,
   "id": "ca9f517f-2ebb-43e8-97a1-e61d43430c5b",
   "metadata": {},
   "outputs": [],
   "source": [
    "# Another way to do random selection here: https://observablehq.com/@mattstiles/jour-554-surnames"
   ]
  },
  {
   "cell_type": "code",
   "execution_count": 16,
   "id": "4fba9a5d-2490-49e7-a192-542e4fb7a8c2",
   "metadata": {},
   "outputs": [
    {
     "data": {
      "text/plain": [
       "['Song', 'Vergara', 'Kang']"
      ]
     },
     "execution_count": 16,
     "metadata": {},
     "output_type": "execute_result"
    }
   ],
   "source": [
    "team_one = students[0:3]\n",
    "team_one"
   ]
  },
  {
   "cell_type": "code",
   "execution_count": 17,
   "id": "350ec594-2325-46eb-aa26-30ccd7043e9c",
   "metadata": {},
   "outputs": [
    {
     "data": {
      "text/plain": [
       "['Guo', 'Harmon', 'Martinez']"
      ]
     },
     "execution_count": 17,
     "metadata": {},
     "output_type": "execute_result"
    }
   ],
   "source": [
    "team_two = students[3:6]\n",
    "team_two"
   ]
  },
  {
   "cell_type": "code",
   "execution_count": 18,
   "id": "1ceaecf6-79ad-41e5-a7ea-5d83a925d207",
   "metadata": {},
   "outputs": [
    {
     "data": {
      "text/plain": [
       "['Wang', 'Sinha', 'Chua']"
      ]
     },
     "execution_count": 18,
     "metadata": {},
     "output_type": "execute_result"
    }
   ],
   "source": [
    "team_three = students[6:9]\n",
    "team_three"
   ]
  },
  {
   "cell_type": "markdown",
   "id": "60355ef5-ab28-4697-9b52-a039d5bee05b",
   "metadata": {},
   "source": [
    "---"
   ]
  },
  {
   "cell_type": "markdown",
   "id": "81ef9444-96fc-46cd-8439-b2b32324a999",
   "metadata": {},
   "source": [
    "### This changes each time the notebook loads. Here are the teams. "
   ]
  },
  {
   "cell_type": "code",
   "execution_count": null,
   "id": "b95aff1f-c077-4e94-b693-8dad738f5140",
   "metadata": {},
   "outputs": [],
   "source": [
    "team_one = [\"Sinha\", \"Song\", \"Wang\"]\n",
    "team_two = [\"Martinez\", \"Chua\", \"Vergara\"]\n",
    "team_three = [\"Harmon\", \"Kang\", \"Guo\"]"
   ]
  },
  {
   "cell_type": "markdown",
   "id": "f4e6b48e-04e1-44fa-b7e0-167387d39bd4",
   "metadata": {},
   "source": [
    "---"
   ]
  },
  {
   "cell_type": "markdown",
   "id": "4f089e44-c27d-459e-a9f8-4225f49f12cf",
   "metadata": {},
   "source": [
    "### Find your last name!"
   ]
  },
  {
   "cell_type": "code",
   "execution_count": null,
   "id": "f92f8268-124a-4734-b8ec-90749355601c",
   "metadata": {},
   "outputs": [],
   "source": [
    "df[]"
   ]
  },
  {
   "cell_type": "markdown",
   "id": "2e115ecf-7688-4616-a2cf-deb0bd8fedb8",
   "metadata": {},
   "source": [
    "### Find the surnames of your teammates, and sort ascending by surname"
   ]
  },
  {
   "cell_type": "code",
   "execution_count": null,
   "id": "45ab05a5-8afa-4905-ba59-f0740ab98346",
   "metadata": {},
   "outputs": [],
   "source": []
  },
  {
   "cell_type": "markdown",
   "id": "eadeaba7-d773-446e-bbfb-ab1422294056",
   "metadata": {},
   "source": [
    "### Who in your team has the most popular names, in terms of per 100,000 rate"
   ]
  },
  {
   "cell_type": "code",
   "execution_count": null,
   "id": "0b42a98e-ebcf-4bab-8082-17212da32a09",
   "metadata": {},
   "outputs": [],
   "source": []
  },
  {
   "cell_type": "markdown",
   "id": "1667041b-e439-4e50-9a01-34eca65757ee",
   "metadata": {},
   "source": [
    "### In 2010, find the 5 names that are most Asian"
   ]
  },
  {
   "cell_type": "code",
   "execution_count": null,
   "id": "06efdce5-9164-4681-9685-d1ccebf0d6dd",
   "metadata": {},
   "outputs": [],
   "source": []
  },
  {
   "cell_type": "markdown",
   "id": "807a00c0-6514-44c0-99c2-e9df0fca2400",
   "metadata": {},
   "source": [
    "### Among majority Hispanic names in 2010, which five were most common?"
   ]
  },
  {
   "cell_type": "code",
   "execution_count": null,
   "id": "e2246e3e-7469-4ade-94e2-a8266d039c88",
   "metadata": {},
   "outputs": [],
   "source": []
  },
  {
   "cell_type": "markdown",
   "id": "77ea8024-ee72-4e94-91c0-9841fd8bb79d",
   "metadata": {},
   "source": [
    "### How did the frequency of your name change in pct terms between 2000 and 2010?"
   ]
  },
  {
   "cell_type": "code",
   "execution_count": null,
   "id": "1905658f-bf31-486f-8c6a-87c36acf99ee",
   "metadata": {},
   "outputs": [],
   "source": [
    "### Hint: https://pandas.pydata.org/docs/reference/api/pandas.DataFrame.pct_change.html\n",
    "### Don't forget to sort!"
   ]
  },
  {
   "cell_type": "code",
   "execution_count": null,
   "id": "f1489188-55ac-49c6-b582-a21437a2413b",
   "metadata": {},
   "outputs": [],
   "source": []
  },
  {
   "cell_type": "code",
   "execution_count": null,
   "id": "ecd3bb44-fd9a-474a-8bb5-c60bf786d42c",
   "metadata": {},
   "outputs": [],
   "source": []
  },
  {
   "cell_type": "code",
   "execution_count": null,
   "id": "7ab24ce9-ce18-4679-a4ed-93314cc8bb92",
   "metadata": {},
   "outputs": [],
   "source": []
  },
  {
   "cell_type": "markdown",
   "id": "c1984d73-6e05-4379-9678-2df9f34e1739",
   "metadata": {},
   "source": [
    "---"
   ]
  },
  {
   "cell_type": "markdown",
   "id": "6d201b2d-1644-4132-b424-30f5f509bbe9",
   "metadata": {},
   "source": [
    "### BONUS: Group by name and year for surnames in our class, aggregating with the mean per_100k value"
   ]
  },
  {
   "cell_type": "code",
   "execution_count": null,
   "id": "0db5d686-5e25-44e6-b0e1-64634207b503",
   "metadata": {},
   "outputs": [],
   "source": []
  },
  {
   "cell_type": "markdown",
   "id": "79f33a8e-d214-41e7-91f2-e8f8d051376c",
   "metadata": {},
   "source": [
    "### BONUS: Calculate the % change in surnames for each name from 2000 to 2010"
   ]
  },
  {
   "cell_type": "code",
   "execution_count": null,
   "id": "f8f73221-550c-46a2-8974-37be0e8ae09c",
   "metadata": {},
   "outputs": [],
   "source": [
    "# Hints: pivot_table()\n",
    "# Hints: % increase = (new number - old number) / original number × 100"
   ]
  },
  {
   "cell_type": "code",
   "execution_count": null,
   "id": "1959385c-b09e-4723-a1fa-845452f32e49",
   "metadata": {},
   "outputs": [],
   "source": []
  },
  {
   "cell_type": "code",
   "execution_count": null,
   "id": "addb1083-e214-4a33-b36d-3509927505f7",
   "metadata": {},
   "outputs": [],
   "source": []
  },
  {
   "cell_type": "code",
   "execution_count": null,
   "id": "b9478d4e-c2fd-4065-9a67-56127e6cfa0a",
   "metadata": {},
   "outputs": [],
   "source": []
  }
 ],
 "metadata": {
  "kernelspec": {
   "display_name": "Python 3",
   "language": "python",
   "name": "python3"
  },
  "language_info": {
   "codemirror_mode": {
    "name": "ipython",
    "version": 3
   },
   "file_extension": ".py",
   "mimetype": "text/x-python",
   "name": "python",
   "nbconvert_exporter": "python",
   "pygments_lexer": "ipython3",
   "version": "3.8.8"
  }
 },
 "nbformat": 4,
 "nbformat_minor": 5
}
