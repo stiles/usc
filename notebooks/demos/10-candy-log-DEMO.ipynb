{
 "cells": [
  {
   "cell_type": "markdown",
   "id": "98077971-87b9-4dfc-9afe-06ed3f92a28f",
   "metadata": {},
   "source": [
    "# DEMO! Week 14: Family candy log!"
   ]
  },
  {
   "cell_type": "markdown",
   "id": "56bdb0a6-14f7-4a3a-ae63-5cda7fe20769",
   "metadata": {},
   "source": [
    "### Import Python tools"
   ]
  },
  {
   "cell_type": "code",
   "execution_count": 1,
   "id": "cc685e28-9135-4491-9828-29f92d5da8b2",
   "metadata": {},
   "outputs": [],
   "source": [
    "%load_ext lab_black"
   ]
  },
  {
   "cell_type": "code",
   "execution_count": 2,
   "id": "d666d874-777f-418b-8209-01db32eb2548",
   "metadata": {},
   "outputs": [],
   "source": [
    "import pandas as pd"
   ]
  },
  {
   "cell_type": "code",
   "execution_count": 3,
   "id": "0abd3f12-b52e-463a-99ce-858aff276091",
   "metadata": {},
   "outputs": [],
   "source": [
    "# CSV from here: https://docs.google.com/spreadsheets/d/1GZrzx0_JyspsGtEuWydBCXdVOH-8HwWdK1veLh9nf5g/edit?usp=sharing"
   ]
  },
  {
   "cell_type": "code",
   "execution_count": 4,
   "id": "e36806de-e009-4766-bff6-fe7dee9f527c",
   "metadata": {},
   "outputs": [],
   "source": [
    "url = \"https://docs.google.com/spreadsheets/d/e/\\\n",
    "2PACX-1vR4fIh1zczPJQ959IKxT_qcJWor3_37lmaq9UXm0UMN9DhGb-7yh3yUjBh4VAzaTUpGaU2ZozPb4M4f/\\\n",
    "pub?gid=0&single=true&output=csv\""
   ]
  },
  {
   "cell_type": "markdown",
   "id": "48e2d932-eda9-4c88-9620-dcd02f89f216",
   "metadata": {},
   "source": [
    "### First five rows"
   ]
  },
  {
   "cell_type": "code",
   "execution_count": null,
   "id": "15461905-1c23-4e1f-9ed3-448117ceeca4",
   "metadata": {},
   "outputs": [],
   "source": []
  },
  {
   "cell_type": "markdown",
   "id": "dd23868e-fd86-41b7-b095-3aba354b9638",
   "metadata": {},
   "source": [
    "### Last five rows"
   ]
  },
  {
   "cell_type": "code",
   "execution_count": null,
   "id": "1346b471-4b0f-4f82-be7a-077cffa4975e",
   "metadata": {},
   "outputs": [],
   "source": []
  },
  {
   "cell_type": "markdown",
   "id": "2c64da2b-7d66-4698-994b-18a38c66ca59",
   "metadata": {},
   "source": [
    "### Sort it by a variable"
   ]
  },
  {
   "cell_type": "code",
   "execution_count": null,
   "id": "ba1664fe-a6ae-4a0c-b19d-1b960a7986c6",
   "metadata": {},
   "outputs": [],
   "source": []
  },
  {
   "cell_type": "markdown",
   "id": "25a00fb2-05ae-4936-b784-8a205820b321",
   "metadata": {},
   "source": [
    "### How many records? "
   ]
  },
  {
   "cell_type": "code",
   "execution_count": null,
   "id": "c7e9f1bd-f2a1-4711-9b6f-4a371d2df9e3",
   "metadata": {},
   "outputs": [],
   "source": []
  },
  {
   "cell_type": "markdown",
   "id": "c1896ca0-2d7a-45c4-8858-bac92b51be19",
   "metadata": {},
   "source": [
    "### Just those with peanuts"
   ]
  },
  {
   "cell_type": "code",
   "execution_count": null,
   "id": "0cd24687-22d1-4786-9611-980f00872483",
   "metadata": {},
   "outputs": [],
   "source": []
  },
  {
   "cell_type": "markdown",
   "id": "a1c5f33a-4e00-410d-b505-c83d28fe8317",
   "metadata": {},
   "source": [
    "### Just those with a user rating above 5"
   ]
  },
  {
   "cell_type": "code",
   "execution_count": null,
   "id": "4c0d2535-3202-4ed5-ac1c-0f5c82e3994f",
   "metadata": {},
   "outputs": [],
   "source": []
  },
  {
   "cell_type": "markdown",
   "id": "dda3eb85-5973-4455-aa31-bd869d43be45",
   "metadata": {},
   "source": [
    "---"
   ]
  },
  {
   "cell_type": "markdown",
   "id": "545949b0-0085-44ab-ac1e-2d9fc654c84c",
   "metadata": {},
   "source": [
    "### How many of each brand? "
   ]
  },
  {
   "cell_type": "code",
   "execution_count": null,
   "id": "96e378e3-299d-4ff4-9d81-599764c5206f",
   "metadata": {},
   "outputs": [],
   "source": []
  },
  {
   "cell_type": "markdown",
   "id": "98bf9638-185a-4d33-b33b-b6216134c9b1",
   "metadata": {},
   "source": [
    "### How many of each color? "
   ]
  },
  {
   "cell_type": "code",
   "execution_count": null,
   "id": "78f0f1fa-4042-47fb-b7a5-1bc37e8e5026",
   "metadata": {},
   "outputs": [],
   "source": []
  },
  {
   "cell_type": "markdown",
   "id": "191d2c01-297e-4235-82ff-8e4f10870bc6",
   "metadata": {},
   "source": [
    "### What's the average user rating for each brand? "
   ]
  },
  {
   "cell_type": "code",
   "execution_count": null,
   "id": "fd83d9da-6e54-4a65-ab61-4ae007a0c86c",
   "metadata": {},
   "outputs": [],
   "source": []
  },
  {
   "cell_type": "markdown",
   "id": "a3cbe9a8-1700-4407-9d0a-e1cf952398ba",
   "metadata": {},
   "source": [
    "### What's the average rating for products related to peanuts? "
   ]
  },
  {
   "cell_type": "code",
   "execution_count": null,
   "id": "798a579d-ee82-494f-97af-b6137cd27222",
   "metadata": {},
   "outputs": [],
   "source": []
  },
  {
   "cell_type": "markdown",
   "id": "01783267-747e-4ce0-a156-bae562597f28",
   "metadata": {},
   "source": [
    "### What's the average rating for products related to peanuts? "
   ]
  },
  {
   "cell_type": "code",
   "execution_count": null,
   "id": "a3f875f8-bb43-416a-bb1a-3f0191748dc1",
   "metadata": {},
   "outputs": [],
   "source": []
  }
 ],
 "metadata": {
  "kernelspec": {
   "display_name": "Python 3",
   "language": "python",
   "name": "python3"
  },
  "language_info": {
   "codemirror_mode": {
    "name": "ipython",
    "version": 3
   },
   "file_extension": ".py",
   "mimetype": "text/x-python",
   "name": "python",
   "nbconvert_exporter": "python",
   "pygments_lexer": "ipython3",
   "version": "3.8.8"
  }
 },
 "nbformat": 4,
 "nbformat_minor": 5
}
