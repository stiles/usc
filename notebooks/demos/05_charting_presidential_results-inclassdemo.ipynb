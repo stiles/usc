{
 "cells": [
  {
   "cell_type": "markdown",
   "id": "c6b75eb0-d78e-4040-9a7e-935f129a615a",
   "metadata": {},
   "source": [
    "# Charting the presidential results"
   ]
  },
  {
   "cell_type": "code",
   "execution_count": 1,
   "id": "80da3256-d337-451f-ac9f-0eb08c5a6f1a",
   "metadata": {},
   "outputs": [],
   "source": [
    "%load_ext lab_black"
   ]
  },
  {
   "cell_type": "code",
   "execution_count": 2,
   "id": "d7dd54b2-020c-460b-b1eb-906cae196598",
   "metadata": {},
   "outputs": [],
   "source": [
    "import pandas as pd\n",
    "import altair as alt"
   ]
  },
  {
   "cell_type": "markdown",
   "id": "20ebdc1e-b310-455e-a8fc-33307110e89d",
   "metadata": {},
   "source": [
    "### Import data"
   ]
  },
  {
   "cell_type": "code",
   "execution_count": 3,
   "id": "d00a17a9-96ba-4617-87bf-3d607f00e833",
   "metadata": {},
   "outputs": [],
   "source": [
    "states = pd.read_json(\"../../data/elections/states_election_results_2020.json\")"
   ]
  },
  {
   "cell_type": "code",
   "execution_count": 4,
   "id": "6b3757c0-b7d7-48e9-8b97-2851d5223641",
   "metadata": {},
   "outputs": [],
   "source": [
    "counties = pd.read_json(\"../../data/elections/counties_election_results_2020.json\")"
   ]
  },
  {
   "cell_type": "code",
   "execution_count": 5,
   "id": "e8b94dd6-d4f6-4c0f-ac1d-12be81164ce7",
   "metadata": {},
   "outputs": [
    {
     "data": {
      "text/html": [
       "<div>\n",
       "<style scoped>\n",
       "    .dataframe tbody tr th:only-of-type {\n",
       "        vertical-align: middle;\n",
       "    }\n",
       "\n",
       "    .dataframe tbody tr th {\n",
       "        vertical-align: top;\n",
       "    }\n",
       "\n",
       "    .dataframe thead th {\n",
       "        text-align: right;\n",
       "    }\n",
       "</style>\n",
       "<table border=\"1\" class=\"dataframe\">\n",
       "  <thead>\n",
       "    <tr style=\"text-align: right;\">\n",
       "      <th></th>\n",
       "      <th>state_name</th>\n",
       "      <th>votes_gop</th>\n",
       "      <th>votes_dem</th>\n",
       "      <th>total_votes</th>\n",
       "      <th>pct_dem</th>\n",
       "      <th>pct_gop</th>\n",
       "      <th>winner</th>\n",
       "    </tr>\n",
       "  </thead>\n",
       "  <tbody>\n",
       "    <tr>\n",
       "      <th>0</th>\n",
       "      <td>Alabama</td>\n",
       "      <td>1441168</td>\n",
       "      <td>849648</td>\n",
       "      <td>2323304</td>\n",
       "      <td>37</td>\n",
       "      <td>62</td>\n",
       "      <td>gop</td>\n",
       "    </tr>\n",
       "    <tr>\n",
       "      <th>1</th>\n",
       "      <td>Alaska</td>\n",
       "      <td>189892</td>\n",
       "      <td>153405</td>\n",
       "      <td>391346</td>\n",
       "      <td>39</td>\n",
       "      <td>49</td>\n",
       "      <td>gop</td>\n",
       "    </tr>\n",
       "    <tr>\n",
       "      <th>2</th>\n",
       "      <td>Arizona</td>\n",
       "      <td>1661686</td>\n",
       "      <td>1672143</td>\n",
       "      <td>3387326</td>\n",
       "      <td>49</td>\n",
       "      <td>49</td>\n",
       "      <td>dem</td>\n",
       "    </tr>\n",
       "    <tr>\n",
       "      <th>3</th>\n",
       "      <td>Arkansas</td>\n",
       "      <td>760647</td>\n",
       "      <td>423932</td>\n",
       "      <td>1219069</td>\n",
       "      <td>35</td>\n",
       "      <td>62</td>\n",
       "      <td>gop</td>\n",
       "    </tr>\n",
       "    <tr>\n",
       "      <th>4</th>\n",
       "      <td>California</td>\n",
       "      <td>6005961</td>\n",
       "      <td>11109764</td>\n",
       "      <td>17495906</td>\n",
       "      <td>63</td>\n",
       "      <td>34</td>\n",
       "      <td>dem</td>\n",
       "    </tr>\n",
       "  </tbody>\n",
       "</table>\n",
       "</div>"
      ],
      "text/plain": [
       "   state_name  votes_gop  votes_dem  total_votes  pct_dem  pct_gop winner\n",
       "0     Alabama    1441168     849648      2323304       37       62    gop\n",
       "1      Alaska     189892     153405       391346       39       49    gop\n",
       "2     Arizona    1661686    1672143      3387326       49       49    dem\n",
       "3    Arkansas     760647     423932      1219069       35       62    gop\n",
       "4  California    6005961   11109764     17495906       63       34    dem"
      ]
     },
     "execution_count": 5,
     "metadata": {},
     "output_type": "execute_result"
    }
   ],
   "source": [
    "states.head()"
   ]
  },
  {
   "cell_type": "markdown",
   "id": "11824923-bc03-4618-abfb-f3263604b82e",
   "metadata": {},
   "source": [
    "### Chart the GOP and Dem share, by state, with highest share on top"
   ]
  },
  {
   "cell_type": "code",
   "execution_count": 6,
   "id": "fdba9be3-1180-49b2-a973-3cd2c8cb34ad",
   "metadata": {},
   "outputs": [],
   "source": [
    "### Dem"
   ]
  },
  {
   "cell_type": "code",
   "execution_count": 24,
   "id": "79da30cc-9827-40ec-b46e-9b0c70097bee",
   "metadata": {},
   "outputs": [],
   "source": [
    "top_gop_states = states.sort_values(\"pct_gop\", ascending=False).head()"
   ]
  },
  {
   "cell_type": "code",
   "execution_count": 25,
   "id": "fd351ed1-e84b-44a3-b3d9-8a60fd2fd5f2",
   "metadata": {},
   "outputs": [
    {
     "data": {
      "text/html": [
       "<div>\n",
       "<style scoped>\n",
       "    .dataframe tbody tr th:only-of-type {\n",
       "        vertical-align: middle;\n",
       "    }\n",
       "\n",
       "    .dataframe tbody tr th {\n",
       "        vertical-align: top;\n",
       "    }\n",
       "\n",
       "    .dataframe thead th {\n",
       "        text-align: right;\n",
       "    }\n",
       "</style>\n",
       "<table border=\"1\" class=\"dataframe\">\n",
       "  <thead>\n",
       "    <tr style=\"text-align: right;\">\n",
       "      <th></th>\n",
       "      <th>state_name</th>\n",
       "      <th>votes_gop</th>\n",
       "      <th>votes_dem</th>\n",
       "      <th>total_votes</th>\n",
       "      <th>pct_dem</th>\n",
       "      <th>pct_gop</th>\n",
       "      <th>winner</th>\n",
       "    </tr>\n",
       "  </thead>\n",
       "  <tbody>\n",
       "    <tr>\n",
       "      <th>50</th>\n",
       "      <td>Wyoming</td>\n",
       "      <td>193559</td>\n",
       "      <td>73491</td>\n",
       "      <td>276765</td>\n",
       "      <td>27</td>\n",
       "      <td>70</td>\n",
       "      <td>gop</td>\n",
       "    </tr>\n",
       "    <tr>\n",
       "      <th>48</th>\n",
       "      <td>West Virginia</td>\n",
       "      <td>545382</td>\n",
       "      <td>235984</td>\n",
       "      <td>794652</td>\n",
       "      <td>30</td>\n",
       "      <td>69</td>\n",
       "      <td>gop</td>\n",
       "    </tr>\n",
       "    <tr>\n",
       "      <th>36</th>\n",
       "      <td>Oklahoma</td>\n",
       "      <td>1020280</td>\n",
       "      <td>503890</td>\n",
       "      <td>1560699</td>\n",
       "      <td>32</td>\n",
       "      <td>65</td>\n",
       "      <td>gop</td>\n",
       "    </tr>\n",
       "    <tr>\n",
       "      <th>34</th>\n",
       "      <td>North Dakota</td>\n",
       "      <td>235595</td>\n",
       "      <td>114902</td>\n",
       "      <td>361819</td>\n",
       "      <td>32</td>\n",
       "      <td>65</td>\n",
       "      <td>gop</td>\n",
       "    </tr>\n",
       "    <tr>\n",
       "      <th>12</th>\n",
       "      <td>Idaho</td>\n",
       "      <td>554119</td>\n",
       "      <td>287021</td>\n",
       "      <td>868106</td>\n",
       "      <td>33</td>\n",
       "      <td>64</td>\n",
       "      <td>gop</td>\n",
       "    </tr>\n",
       "  </tbody>\n",
       "</table>\n",
       "</div>"
      ],
      "text/plain": [
       "       state_name  votes_gop  votes_dem  total_votes  pct_dem  pct_gop winner\n",
       "50        Wyoming     193559      73491       276765       27       70    gop\n",
       "48  West Virginia     545382     235984       794652       30       69    gop\n",
       "36       Oklahoma    1020280     503890      1560699       32       65    gop\n",
       "34   North Dakota     235595     114902       361819       32       65    gop\n",
       "12          Idaho     554119     287021       868106       33       64    gop"
      ]
     },
     "execution_count": 25,
     "metadata": {},
     "output_type": "execute_result"
    }
   ],
   "source": [
    "top_gop_states"
   ]
  },
  {
   "cell_type": "code",
   "execution_count": 27,
   "id": "b1d9e942-0830-4b1e-8945-8e7cd87680b5",
   "metadata": {},
   "outputs": [],
   "source": [
    "my_chart = (\n",
    "    alt.Chart(top_gop_states)\n",
    "    .mark_bar(color=\"#d94f54\")\n",
    "    .encode(x=\"pct_gop\", y=alt.Y(\"state_name\", sort=\"-x\"))\n",
    ")"
   ]
  },
  {
   "cell_type": "code",
   "execution_count": 28,
   "id": "739de4cb-0e0e-4225-ba03-e634cf62d2f3",
   "metadata": {},
   "outputs": [
    {
     "data": {
      "text/html": [
       "\n",
       "<div id=\"altair-viz-e3a38c2ad185437bbcf445d69d0a013c\"></div>\n",
       "<script type=\"text/javascript\">\n",
       "  (function(spec, embedOpt){\n",
       "    let outputDiv = document.currentScript.previousElementSibling;\n",
       "    if (outputDiv.id !== \"altair-viz-e3a38c2ad185437bbcf445d69d0a013c\") {\n",
       "      outputDiv = document.getElementById(\"altair-viz-e3a38c2ad185437bbcf445d69d0a013c\");\n",
       "    }\n",
       "    const paths = {\n",
       "      \"vega\": \"https://cdn.jsdelivr.net/npm//vega@5?noext\",\n",
       "      \"vega-lib\": \"https://cdn.jsdelivr.net/npm//vega-lib?noext\",\n",
       "      \"vega-lite\": \"https://cdn.jsdelivr.net/npm//vega-lite@4.8.1?noext\",\n",
       "      \"vega-embed\": \"https://cdn.jsdelivr.net/npm//vega-embed@6?noext\",\n",
       "    };\n",
       "\n",
       "    function loadScript(lib) {\n",
       "      return new Promise(function(resolve, reject) {\n",
       "        var s = document.createElement('script');\n",
       "        s.src = paths[lib];\n",
       "        s.async = true;\n",
       "        s.onload = () => resolve(paths[lib]);\n",
       "        s.onerror = () => reject(`Error loading script: ${paths[lib]}`);\n",
       "        document.getElementsByTagName(\"head\")[0].appendChild(s);\n",
       "      });\n",
       "    }\n",
       "\n",
       "    function showError(err) {\n",
       "      outputDiv.innerHTML = `<div class=\"error\" style=\"color:red;\">${err}</div>`;\n",
       "      throw err;\n",
       "    }\n",
       "\n",
       "    function displayChart(vegaEmbed) {\n",
       "      vegaEmbed(outputDiv, spec, embedOpt)\n",
       "        .catch(err => showError(`Javascript Error: ${err.message}<br>This usually means there's a typo in your chart specification. See the javascript console for the full traceback.`));\n",
       "    }\n",
       "\n",
       "    if(typeof define === \"function\" && define.amd) {\n",
       "      requirejs.config({paths});\n",
       "      require([\"vega-embed\"], displayChart, err => showError(`Error loading script: ${err.message}`));\n",
       "    } else if (typeof vegaEmbed === \"function\") {\n",
       "      displayChart(vegaEmbed);\n",
       "    } else {\n",
       "      loadScript(\"vega\")\n",
       "        .then(() => loadScript(\"vega-lite\"))\n",
       "        .then(() => loadScript(\"vega-embed\"))\n",
       "        .catch(showError)\n",
       "        .then(() => displayChart(vegaEmbed));\n",
       "    }\n",
       "  })({\"config\": {\"view\": {\"continuousWidth\": 400, \"continuousHeight\": 300}}, \"data\": {\"name\": \"data-6d13818e79f4d6c3e654da16d186e2d6\"}, \"mark\": {\"type\": \"bar\", \"color\": \"#d94f54\"}, \"encoding\": {\"x\": {\"type\": \"quantitative\", \"field\": \"pct_gop\"}, \"y\": {\"type\": \"nominal\", \"field\": \"state_name\", \"sort\": \"-x\"}}, \"$schema\": \"https://vega.github.io/schema/vega-lite/v4.8.1.json\", \"datasets\": {\"data-6d13818e79f4d6c3e654da16d186e2d6\": [{\"state_name\": \"Wyoming\", \"votes_gop\": 193559, \"votes_dem\": 73491, \"total_votes\": 276765, \"pct_dem\": 27, \"pct_gop\": 70, \"winner\": \"gop\"}, {\"state_name\": \"West Virginia\", \"votes_gop\": 545382, \"votes_dem\": 235984, \"total_votes\": 794652, \"pct_dem\": 30, \"pct_gop\": 69, \"winner\": \"gop\"}, {\"state_name\": \"Oklahoma\", \"votes_gop\": 1020280, \"votes_dem\": 503890, \"total_votes\": 1560699, \"pct_dem\": 32, \"pct_gop\": 65, \"winner\": \"gop\"}, {\"state_name\": \"North Dakota\", \"votes_gop\": 235595, \"votes_dem\": 114902, \"total_votes\": 361819, \"pct_dem\": 32, \"pct_gop\": 65, \"winner\": \"gop\"}, {\"state_name\": \"Idaho\", \"votes_gop\": 554119, \"votes_dem\": 287021, \"total_votes\": 868106, \"pct_dem\": 33, \"pct_gop\": 64, \"winner\": \"gop\"}]}}, {\"mode\": \"vega-lite\"});\n",
       "</script>"
      ],
      "text/plain": [
       "alt.Chart(...)"
      ]
     },
     "execution_count": 28,
     "metadata": {},
     "output_type": "execute_result"
    }
   ],
   "source": [
    "my_chart.save()"
   ]
  },
  {
   "cell_type": "code",
   "execution_count": 8,
   "id": "fe4ee4f2-bf24-4c8d-9b1b-ec89362ea325",
   "metadata": {},
   "outputs": [],
   "source": [
    "### GOP"
   ]
  },
  {
   "cell_type": "code",
   "execution_count": null,
   "id": "15731b67-8544-4c74-9356-120720081d9a",
   "metadata": {},
   "outputs": [],
   "source": []
  },
  {
   "cell_type": "markdown",
   "id": "c82ec456-cb47-4d35-8b6c-516bd4f05169",
   "metadata": {},
   "source": [
    "### Melt the data for charting"
   ]
  },
  {
   "cell_type": "code",
   "execution_count": null,
   "id": "e5dcb94d-0318-4da4-b374-2ae8988d6c3b",
   "metadata": {},
   "outputs": [],
   "source": []
  },
  {
   "cell_type": "code",
   "execution_count": null,
   "id": "7c62abb5-1d15-4a4f-9200-a12e1e3caf06",
   "metadata": {},
   "outputs": [],
   "source": []
  },
  {
   "cell_type": "markdown",
   "id": "a412adf1-9191-49b5-98e0-3ec887d9625b",
   "metadata": {},
   "source": [
    "### Chart the share, by winner and state"
   ]
  },
  {
   "cell_type": "code",
   "execution_count": null,
   "id": "42b113c1-69e9-47ab-8524-4922dcf8d9c5",
   "metadata": {},
   "outputs": [],
   "source": []
  },
  {
   "cell_type": "code",
   "execution_count": null,
   "id": "2f29fe4b-0ee9-4efc-9979-67d7475060df",
   "metadata": {},
   "outputs": [],
   "source": []
  },
  {
   "cell_type": "code",
   "execution_count": null,
   "id": "d2d5be61-51f6-4d9f-b032-376c7bb4a42f",
   "metadata": {},
   "outputs": [],
   "source": []
  },
  {
   "cell_type": "code",
   "execution_count": null,
   "id": "29658f47-a7c0-47a6-989a-a3a36fc422be",
   "metadata": {},
   "outputs": [],
   "source": []
  },
  {
   "cell_type": "code",
   "execution_count": null,
   "id": "3a560937-fdf1-4540-89a1-cbecf1a21d38",
   "metadata": {},
   "outputs": [],
   "source": []
  },
  {
   "cell_type": "code",
   "execution_count": null,
   "id": "2171cc0a-dbcc-4e0a-8500-fffc4e41f845",
   "metadata": {},
   "outputs": [],
   "source": []
  }
 ],
 "metadata": {
  "kernelspec": {
   "display_name": "Python 3",
   "language": "python",
   "name": "python3"
  },
  "language_info": {
   "codemirror_mode": {
    "name": "ipython",
    "version": 3
   },
   "file_extension": ".py",
   "mimetype": "text/x-python",
   "name": "python",
   "nbconvert_exporter": "python",
   "pygments_lexer": "ipython3",
   "version": "3.8.8"
  }
 },
 "nbformat": 4,
 "nbformat_minor": 5
}
