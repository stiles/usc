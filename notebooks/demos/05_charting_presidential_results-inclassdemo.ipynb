{
 "cells": [
  {
   "cell_type": "markdown",
   "id": "c6b75eb0-d78e-4040-9a7e-935f129a615a",
   "metadata": {},
   "source": [
    "# Charting the presidential results"
   ]
  },
  {
   "cell_type": "code",
   "execution_count": 1,
   "id": "80da3256-d337-451f-ac9f-0eb08c5a6f1a",
   "metadata": {},
   "outputs": [],
   "source": [
    "# !pip install altair"
   ]
  },
  {
   "cell_type": "code",
   "execution_count": 2,
   "id": "d7dd54b2-020c-460b-b1eb-906cae196598",
   "metadata": {},
   "outputs": [],
   "source": [
    "import pandas as pd\n",
    "import altair as alt"
   ]
  },
  {
   "cell_type": "markdown",
   "id": "20ebdc1e-b310-455e-a8fc-33307110e89d",
   "metadata": {},
   "source": [
    "### Import data"
   ]
  },
  {
   "cell_type": "code",
   "execution_count": 3,
   "id": "d00a17a9-96ba-4617-87bf-3d607f00e833",
   "metadata": {},
   "outputs": [],
   "source": [
    "states = pd.read_json('../../data/elections/states_election_results_2020.json')"
   ]
  },
  {
   "cell_type": "code",
   "execution_count": 4,
   "id": "6b3757c0-b7d7-48e9-8b97-2851d5223641",
   "metadata": {},
   "outputs": [],
   "source": [
    "counties = pd.read_json('../../data/elections/counties_election_results_2020.json')"
   ]
  },
  {
   "cell_type": "code",
   "execution_count": 5,
   "id": "e8b94dd6-d4f6-4c0f-ac1d-12be81164ce7",
   "metadata": {},
   "outputs": [
    {
     "data": {
      "text/html": [
       "<div>\n",
       "<style scoped>\n",
       "    .dataframe tbody tr th:only-of-type {\n",
       "        vertical-align: middle;\n",
       "    }\n",
       "\n",
       "    .dataframe tbody tr th {\n",
       "        vertical-align: top;\n",
       "    }\n",
       "\n",
       "    .dataframe thead th {\n",
       "        text-align: right;\n",
       "    }\n",
       "</style>\n",
       "<table border=\"1\" class=\"dataframe\">\n",
       "  <thead>\n",
       "    <tr style=\"text-align: right;\">\n",
       "      <th></th>\n",
       "      <th>state_name</th>\n",
       "      <th>votes_gop</th>\n",
       "      <th>votes_dem</th>\n",
       "      <th>total_votes</th>\n",
       "      <th>pct_dem</th>\n",
       "      <th>pct_gop</th>\n",
       "      <th>winner</th>\n",
       "    </tr>\n",
       "  </thead>\n",
       "  <tbody>\n",
       "    <tr>\n",
       "      <th>0</th>\n",
       "      <td>Alabama</td>\n",
       "      <td>1441168</td>\n",
       "      <td>849648</td>\n",
       "      <td>2323304</td>\n",
       "      <td>37</td>\n",
       "      <td>62</td>\n",
       "      <td>gop</td>\n",
       "    </tr>\n",
       "    <tr>\n",
       "      <th>1</th>\n",
       "      <td>Alaska</td>\n",
       "      <td>189892</td>\n",
       "      <td>153405</td>\n",
       "      <td>391346</td>\n",
       "      <td>39</td>\n",
       "      <td>49</td>\n",
       "      <td>gop</td>\n",
       "    </tr>\n",
       "    <tr>\n",
       "      <th>2</th>\n",
       "      <td>Arizona</td>\n",
       "      <td>1661686</td>\n",
       "      <td>1672143</td>\n",
       "      <td>3387326</td>\n",
       "      <td>49</td>\n",
       "      <td>49</td>\n",
       "      <td>dem</td>\n",
       "    </tr>\n",
       "    <tr>\n",
       "      <th>3</th>\n",
       "      <td>Arkansas</td>\n",
       "      <td>760647</td>\n",
       "      <td>423932</td>\n",
       "      <td>1219069</td>\n",
       "      <td>35</td>\n",
       "      <td>62</td>\n",
       "      <td>gop</td>\n",
       "    </tr>\n",
       "    <tr>\n",
       "      <th>4</th>\n",
       "      <td>California</td>\n",
       "      <td>6005961</td>\n",
       "      <td>11109764</td>\n",
       "      <td>17495906</td>\n",
       "      <td>63</td>\n",
       "      <td>34</td>\n",
       "      <td>dem</td>\n",
       "    </tr>\n",
       "  </tbody>\n",
       "</table>\n",
       "</div>"
      ],
      "text/plain": [
       "   state_name  votes_gop  votes_dem  total_votes  pct_dem  pct_gop winner\n",
       "0     Alabama    1441168     849648      2323304       37       62    gop\n",
       "1      Alaska     189892     153405       391346       39       49    gop\n",
       "2     Arizona    1661686    1672143      3387326       49       49    dem\n",
       "3    Arkansas     760647     423932      1219069       35       62    gop\n",
       "4  California    6005961   11109764     17495906       63       34    dem"
      ]
     },
     "execution_count": 5,
     "metadata": {},
     "output_type": "execute_result"
    }
   ],
   "source": [
    "states.head()"
   ]
  },
  {
   "cell_type": "markdown",
   "id": "11824923-bc03-4618-abfb-f3263604b82e",
   "metadata": {},
   "source": [
    "### Chart the GOP and Dem share, by state, with highest share on top"
   ]
  },
  {
   "cell_type": "code",
   "execution_count": 6,
   "id": "b79a815e-293d-47ca-8304-d52bee261bf7",
   "metadata": {},
   "outputs": [],
   "source": [
    "### Dem"
   ]
  },
  {
   "cell_type": "code",
   "execution_count": null,
   "id": "2f6be53c-811c-4b1e-ae31-9d141d710546",
   "metadata": {},
   "outputs": [],
   "source": []
  },
  {
   "cell_type": "code",
   "execution_count": 7,
   "id": "fe4ee4f2-bf24-4c8d-9b1b-ec89362ea325",
   "metadata": {},
   "outputs": [],
   "source": [
    "### GOP"
   ]
  },
  {
   "cell_type": "code",
   "execution_count": null,
   "id": "15731b67-8544-4c74-9356-120720081d9a",
   "metadata": {},
   "outputs": [],
   "source": []
  },
  {
   "cell_type": "markdown",
   "id": "c82ec456-cb47-4d35-8b6c-516bd4f05169",
   "metadata": {},
   "source": [
    "### Melt the data for charting"
   ]
  },
  {
   "cell_type": "code",
   "execution_count": null,
   "id": "e5dcb94d-0318-4da4-b374-2ae8988d6c3b",
   "metadata": {},
   "outputs": [],
   "source": []
  },
  {
   "cell_type": "code",
   "execution_count": null,
   "id": "7c62abb5-1d15-4a4f-9200-a12e1e3caf06",
   "metadata": {},
   "outputs": [],
   "source": []
  },
  {
   "cell_type": "markdown",
   "id": "a412adf1-9191-49b5-98e0-3ec887d9625b",
   "metadata": {},
   "source": [
    "### Chart the share, by winner and state"
   ]
  },
  {
   "cell_type": "code",
   "execution_count": null,
   "id": "42b113c1-69e9-47ab-8524-4922dcf8d9c5",
   "metadata": {},
   "outputs": [],
   "source": []
  },
  {
   "cell_type": "code",
   "execution_count": null,
   "id": "2f29fe4b-0ee9-4efc-9979-67d7475060df",
   "metadata": {},
   "outputs": [],
   "source": []
  },
  {
   "cell_type": "code",
   "execution_count": null,
   "id": "d2d5be61-51f6-4d9f-b032-376c7bb4a42f",
   "metadata": {},
   "outputs": [],
   "source": []
  },
  {
   "cell_type": "code",
   "execution_count": null,
   "id": "29658f47-a7c0-47a6-989a-a3a36fc422be",
   "metadata": {},
   "outputs": [],
   "source": []
  },
  {
   "cell_type": "code",
   "execution_count": null,
   "id": "3a560937-fdf1-4540-89a1-cbecf1a21d38",
   "metadata": {},
   "outputs": [],
   "source": []
  },
  {
   "cell_type": "code",
   "execution_count": null,
   "id": "2171cc0a-dbcc-4e0a-8500-fffc4e41f845",
   "metadata": {},
   "outputs": [],
   "source": []
  }
 ],
 "metadata": {
  "kernelspec": {
   "display_name": "Python 3",
   "language": "python",
   "name": "python3"
  },
  "language_info": {
   "codemirror_mode": {
    "name": "ipython",
    "version": 3
   },
   "file_extension": ".py",
   "mimetype": "text/x-python",
   "name": "python",
   "nbconvert_exporter": "python",
   "pygments_lexer": "ipython3",
   "version": "3.8.8"
  }
 },
 "nbformat": 4,
 "nbformat_minor": 5
}
