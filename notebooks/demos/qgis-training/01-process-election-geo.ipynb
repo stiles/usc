{
 "cells": [
  {
   "cell_type": "markdown",
   "id": "23e1a104-fa65-4bd9-9047-f86bd469241c",
   "metadata": {},
   "source": [
    "# Presidential vote by California counties"
   ]
  },
  {
   "cell_type": "markdown",
   "id": "c908d820-f87f-4451-8701-93fe1d6a3cba",
   "metadata": {},
   "source": [
    "### Import Python tools"
   ]
  },
  {
   "cell_type": "code",
   "execution_count": 1,
   "id": "9423296a-49fe-4002-9ebc-f03a4059a6da",
   "metadata": {},
   "outputs": [],
   "source": [
    "%load_ext lab_black"
   ]
  },
  {
   "cell_type": "code",
   "execution_count": 2,
   "id": "3652dbc5-0259-40d8-8c9a-523b42898252",
   "metadata": {},
   "outputs": [],
   "source": [
    "import pandas as pd\n",
    "import geopandas as gpd"
   ]
  },
  {
   "cell_type": "code",
   "execution_count": 3,
   "id": "f4bbf289-50c6-49ae-b68b-b8bc3ba1c2ed",
   "metadata": {},
   "outputs": [],
   "source": [
    "df = pd.read_csv(\"data/presidential/pres20.csv\")"
   ]
  },
  {
   "cell_type": "code",
   "execution_count": 4,
   "id": "b5d79c10-7c4e-4614-ba51-34b7fef37567",
   "metadata": {},
   "outputs": [],
   "source": [
    "df[\"winner\"] = df[[\"dem\", \"rep\", \"other\"]].idxmax(axis=1)"
   ]
  },
  {
   "cell_type": "code",
   "execution_count": 5,
   "id": "cc19f718-eda5-4b1a-9771-cadeae56d160",
   "metadata": {},
   "outputs": [
    {
     "data": {
      "text/html": [
       "<div>\n",
       "<style scoped>\n",
       "    .dataframe tbody tr th:only-of-type {\n",
       "        vertical-align: middle;\n",
       "    }\n",
       "\n",
       "    .dataframe tbody tr th {\n",
       "        vertical-align: top;\n",
       "    }\n",
       "\n",
       "    .dataframe thead th {\n",
       "        text-align: right;\n",
       "    }\n",
       "</style>\n",
       "<table border=\"1\" class=\"dataframe\">\n",
       "  <thead>\n",
       "    <tr style=\"text-align: right;\">\n",
       "      <th></th>\n",
       "      <th>county</th>\n",
       "      <th>dem</th>\n",
       "      <th>rep</th>\n",
       "      <th>other</th>\n",
       "      <th>total_votes</th>\n",
       "      <th>dem_pct</th>\n",
       "      <th>rep_pct</th>\n",
       "      <th>other_pct</th>\n",
       "      <th>year</th>\n",
       "      <th>winner</th>\n",
       "    </tr>\n",
       "  </thead>\n",
       "  <tbody>\n",
       "    <tr>\n",
       "      <th>0</th>\n",
       "      <td>Alameda</td>\n",
       "      <td>617659</td>\n",
       "      <td>136309</td>\n",
       "      <td>16102</td>\n",
       "      <td>770070</td>\n",
       "      <td>0.80</td>\n",
       "      <td>0.18</td>\n",
       "      <td>0.02</td>\n",
       "      <td>2020</td>\n",
       "      <td>dem</td>\n",
       "    </tr>\n",
       "    <tr>\n",
       "      <th>1</th>\n",
       "      <td>Alpine</td>\n",
       "      <td>476</td>\n",
       "      <td>244</td>\n",
       "      <td>21</td>\n",
       "      <td>741</td>\n",
       "      <td>0.64</td>\n",
       "      <td>0.33</td>\n",
       "      <td>0.03</td>\n",
       "      <td>2020</td>\n",
       "      <td>dem</td>\n",
       "    </tr>\n",
       "    <tr>\n",
       "      <th>2</th>\n",
       "      <td>Amador</td>\n",
       "      <td>8153</td>\n",
       "      <td>13585</td>\n",
       "      <td>566</td>\n",
       "      <td>22304</td>\n",
       "      <td>0.37</td>\n",
       "      <td>0.61</td>\n",
       "      <td>0.03</td>\n",
       "      <td>2020</td>\n",
       "      <td>rep</td>\n",
       "    </tr>\n",
       "    <tr>\n",
       "      <th>3</th>\n",
       "      <td>Butte</td>\n",
       "      <td>50426</td>\n",
       "      <td>48730</td>\n",
       "      <td>2910</td>\n",
       "      <td>102066</td>\n",
       "      <td>0.49</td>\n",
       "      <td>0.48</td>\n",
       "      <td>0.03</td>\n",
       "      <td>2020</td>\n",
       "      <td>dem</td>\n",
       "    </tr>\n",
       "    <tr>\n",
       "      <th>4</th>\n",
       "      <td>Calaveras</td>\n",
       "      <td>10046</td>\n",
       "      <td>16518</td>\n",
       "      <td>600</td>\n",
       "      <td>27164</td>\n",
       "      <td>0.37</td>\n",
       "      <td>0.61</td>\n",
       "      <td>0.02</td>\n",
       "      <td>2020</td>\n",
       "      <td>rep</td>\n",
       "    </tr>\n",
       "  </tbody>\n",
       "</table>\n",
       "</div>"
      ],
      "text/plain": [
       "      county     dem     rep  other  total_votes  dem_pct  rep_pct  other_pct  \\\n",
       "0    Alameda  617659  136309  16102       770070     0.80     0.18       0.02   \n",
       "1     Alpine     476     244     21          741     0.64     0.33       0.03   \n",
       "2     Amador    8153   13585    566        22304     0.37     0.61       0.03   \n",
       "3      Butte   50426   48730   2910       102066     0.49     0.48       0.03   \n",
       "4  Calaveras   10046   16518    600        27164     0.37     0.61       0.02   \n",
       "\n",
       "   year winner  \n",
       "0  2020    dem  \n",
       "1  2020    dem  \n",
       "2  2020    rep  \n",
       "3  2020    dem  \n",
       "4  2020    rep  "
      ]
     },
     "execution_count": 5,
     "metadata": {},
     "output_type": "execute_result"
    }
   ],
   "source": [
    "df.head()"
   ]
  },
  {
   "cell_type": "markdown",
   "id": "2445cb9c-a58a-48f6-96b3-1a9b5f8ee160",
   "metadata": {},
   "source": [
    "---"
   ]
  },
  {
   "cell_type": "markdown",
   "id": "b6041087-7944-4acf-8a72-d6e94c61ef68",
   "metadata": {},
   "source": [
    "### Geography"
   ]
  },
  {
   "cell_type": "code",
   "execution_count": 6,
   "id": "6812d97b-6856-4915-be62-6b6d230f1929",
   "metadata": {},
   "outputs": [],
   "source": [
    "counties = gpd.read_file(\"data/geo/ca-counties.json\")"
   ]
  },
  {
   "cell_type": "code",
   "execution_count": 7,
   "id": "de96f690-dcf7-4c93-bb81-7e6220509fa6",
   "metadata": {},
   "outputs": [
    {
     "data": {
      "text/plain": [
       "<AxesSubplot:>"
      ]
     },
     "execution_count": 7,
     "metadata": {},
     "output_type": "execute_result"
    },
    {
     "data": {
      "image/png": "[encoded data removed]",
      "text/plain": [
       "<Figure size 432x288 with 1 Axes>"
      ]
     },
     "metadata": {
      "needs_background": "light"
     },
     "output_type": "display_data"
    }
   ],
   "source": [
    "counties.plot()"
   ]
  },
  {
   "cell_type": "markdown",
   "id": "075403f5-d71f-41f0-a4ff-b6d7804799c2",
   "metadata": {},
   "source": [
    "---"
   ]
  },
  {
   "cell_type": "markdown",
   "id": "ad5fd3e6-b317-45ba-8a76-828da71bcd76",
   "metadata": {},
   "source": [
    "### Merge"
   ]
  },
  {
   "cell_type": "code",
   "execution_count": 8,
   "id": "cc5dbf5b-eb8e-4adc-ba9a-a41cd414fb51",
   "metadata": {},
   "outputs": [],
   "source": [
    "prez_geo = counties.merge(df, left_on=\"name\", right_on=\"county\")"
   ]
  },
  {
   "cell_type": "markdown",
   "id": "71eeb61b-16e4-470a-9ec6-7cf57920b056",
   "metadata": {},
   "source": [
    "---"
   ]
  },
  {
   "cell_type": "markdown",
   "id": "8192ca44-7ec8-421c-a860-c5d99af396d8",
   "metadata": {},
   "source": [
    "### Export"
   ]
  },
  {
   "cell_type": "code",
   "execution_count": 9,
   "id": "8cfd811e-94da-496e-9af1-31ddbfc6bc47",
   "metadata": {},
   "outputs": [],
   "source": [
    "prez_geo.to_file(\"data/geo/prez_geo.geojson\", driver=\"GeoJSON\")"
   ]
  },
  {
   "cell_type": "code",
   "execution_count": 10,
   "id": "10138460-d831-4325-8b71-13adb22346cc",
   "metadata": {},
   "outputs": [],
   "source": [
    "df.to_csv(\"data/presidential/pres20_tutorial.csv\", index=False)"
   ]
  }
 ],
 "metadata": {
  "kernelspec": {
   "display_name": "Python 3",
   "language": "python",
   "name": "python3"
  },
  "language_info": {
   "codemirror_mode": {
    "name": "ipython",
    "version": 3
   },
   "file_extension": ".py",
   "mimetype": "text/x-python",
   "name": "python",
   "nbconvert_exporter": "python",
   "pygments_lexer": "ipython3",
   "version": "3.8.8"
  }
 },
 "nbformat": 4,
 "nbformat_minor": 5
}
