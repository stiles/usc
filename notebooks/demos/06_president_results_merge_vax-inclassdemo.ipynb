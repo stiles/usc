{
 "cells": [
  {
   "cell_type": "markdown",
   "id": "00de63d1-fc2c-4417-b42b-702c746ad20e",
   "metadata": {},
   "source": [
    "# Merge presidential election with vax rates"
   ]
  },
  {
   "cell_type": "markdown",
   "id": "3efa3278-534e-4c94-9bbb-ae7acd33b536",
   "metadata": {},
   "source": [
    "### Import Python tools"
   ]
  },
  {
   "cell_type": "code",
   "execution_count": 1,
   "id": "b33df1cc-59bd-4c8b-bb3d-4f17ade5a203",
   "metadata": {},
   "outputs": [],
   "source": [
    "%load_ext lab_black"
   ]
  },
  {
   "cell_type": "code",
   "execution_count": 2,
   "id": "6fc2a786-93a9-4de1-ab0b-e28b12ef59ca",
   "metadata": {},
   "outputs": [],
   "source": [
    "import pandas as pd"
   ]
  },
  {
   "cell_type": "markdown",
   "id": "af3784dc-17c4-480b-b7cf-357b0be82d59",
   "metadata": {},
   "source": [
    "---"
   ]
  },
  {
   "cell_type": "markdown",
   "id": "1738295e-a6f2-43f0-94ab-18f158c21fe3",
   "metadata": {},
   "source": [
    "### Read elections data cleaned in 04 notebook"
   ]
  },
  {
   "cell_type": "code",
   "execution_count": 3,
   "id": "ef14ad9b-66e6-41b2-ba93-7830f9e7a910",
   "metadata": {},
   "outputs": [],
   "source": [
    "df = pd.read_json(\"../../data/elections/counties_election_results_2020.json\")"
   ]
  },
  {
   "cell_type": "markdown",
   "id": "fbf7be71-53f0-4384-b102-af6870b7634d",
   "metadata": {},
   "source": [
    "### Get vax data from CDC"
   ]
  },
  {
   "cell_type": "code",
   "execution_count": 4,
   "id": "31aa2db0-d676-4276-8602-8a6b471fde42",
   "metadata": {},
   "outputs": [],
   "source": [
    "# Cleaned up version (and most recent week) of this table\n",
    "# vax_pct = pct fully vaccinated\n",
    "# https://data.cdc.gov/Vaccinations/COVID-19-Vaccinations-in-the-United-States-County/8xkx-amqh"
   ]
  },
  {
   "cell_type": "code",
   "execution_count": 5,
   "id": "d5453ba8-dd46-4198-9cc8-01223dcad40e",
   "metadata": {},
   "outputs": [],
   "source": [
    "vax_counties = pd.read_json(\n",
    "    \"../../data/vaccinations/usa-vaccination-county-totals.json\"\n",
    ")"
   ]
  },
  {
   "cell_type": "markdown",
   "id": "5a1d9e19-b936-43c8-8f12-20c1e3426bd8",
   "metadata": {},
   "source": [
    "### Merge vax with election results"
   ]
  },
  {
   "cell_type": "code",
   "execution_count": null,
   "id": "59db67ce-8c4a-4c58-96e2-22c60603d59e",
   "metadata": {},
   "outputs": [],
   "source": []
  },
  {
   "cell_type": "code",
   "execution_count": null,
   "id": "6053f62d-364d-4224-acf6-4ab140e565e1",
   "metadata": {},
   "outputs": [],
   "source": []
  },
  {
   "cell_type": "code",
   "execution_count": null,
   "id": "7ee6136c-395e-4b15-a0ff-4f0d1071041b",
   "metadata": {},
   "outputs": [],
   "source": []
  },
  {
   "cell_type": "code",
   "execution_count": null,
   "id": "ad82b248-3d4f-46d7-8656-8bc6be429f1e",
   "metadata": {},
   "outputs": [],
   "source": []
  },
  {
   "cell_type": "code",
   "execution_count": null,
   "id": "c9893583-0d3e-4505-98ec-478553cf3f90",
   "metadata": {},
   "outputs": [],
   "source": []
  },
  {
   "cell_type": "code",
   "execution_count": null,
   "id": "dd4fa939-e0ff-4190-bcf9-6ba15e24ffdf",
   "metadata": {},
   "outputs": [],
   "source": []
  },
  {
   "cell_type": "code",
   "execution_count": null,
   "id": "38314ad2-dc82-493e-98b1-8e5ec31d7d5a",
   "metadata": {},
   "outputs": [],
   "source": []
  }
 ],
 "metadata": {
  "kernelspec": {
   "display_name": "Python 3",
   "language": "python",
   "name": "python3"
  },
  "language_info": {
   "codemirror_mode": {
    "name": "ipython",
    "version": 3
   },
   "file_extension": ".py",
   "mimetype": "text/x-python",
   "name": "python",
   "nbconvert_exporter": "python",
   "pygments_lexer": "ipython3",
   "version": "3.8.8"
  }
 },
 "nbformat": 4,
 "nbformat_minor": 5
}
