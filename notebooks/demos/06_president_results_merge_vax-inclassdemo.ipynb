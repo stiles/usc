{
 "cells": [
  {
   "cell_type": "markdown",
   "id": "00de63d1-fc2c-4417-b42b-702c746ad20e",
   "metadata": {},
   "source": [
    "# Merge presidential election with vax rates"
   ]
  },
  {
   "cell_type": "markdown",
   "id": "3efa3278-534e-4c94-9bbb-ae7acd33b536",
   "metadata": {},
   "source": [
    "### Import Python tools"
   ]
  },
  {
   "cell_type": "code",
   "execution_count": 3,
   "id": "b33df1cc-59bd-4c8b-bb3d-4f17ade5a203",
   "metadata": {},
   "outputs": [],
   "source": [
    "# !pip install nb_black\n",
    "%load_ext lab_black"
   ]
  },
  {
   "cell_type": "code",
   "execution_count": 4,
   "id": "6fc2a786-93a9-4de1-ab0b-e28b12ef59ca",
   "metadata": {},
   "outputs": [],
   "source": [
    "import pandas as pd"
   ]
  },
  {
   "cell_type": "markdown",
   "id": "af3784dc-17c4-480b-b7cf-357b0be82d59",
   "metadata": {},
   "source": [
    "---"
   ]
  },
  {
   "cell_type": "markdown",
   "id": "1738295e-a6f2-43f0-94ab-18f158c21fe3",
   "metadata": {},
   "source": [
    "### Read elections data cleaned in 04 notebook"
   ]
  },
  {
   "cell_type": "code",
   "execution_count": 5,
   "id": "ef14ad9b-66e6-41b2-ba93-7830f9e7a910",
   "metadata": {},
   "outputs": [],
   "source": [
    "df = pd.read_json(\"../data/elections/counties_election_results_2020.json\")"
   ]
  },
  {
   "cell_type": "code",
   "execution_count": 6,
   "id": "d67c153b-5c52-457f-8f97-5534fecce1ba",
   "metadata": {},
   "outputs": [
    {
     "data": {
      "text/html": [
       "<div>\n",
       "<style scoped>\n",
       "    .dataframe tbody tr th:only-of-type {\n",
       "        vertical-align: middle;\n",
       "    }\n",
       "\n",
       "    .dataframe tbody tr th {\n",
       "        vertical-align: top;\n",
       "    }\n",
       "\n",
       "    .dataframe thead th {\n",
       "        text-align: right;\n",
       "    }\n",
       "</style>\n",
       "<table border=\"1\" class=\"dataframe\">\n",
       "  <thead>\n",
       "    <tr style=\"text-align: right;\">\n",
       "      <th></th>\n",
       "      <th>state_name</th>\n",
       "      <th>county_fips</th>\n",
       "      <th>county_name</th>\n",
       "      <th>votes_gop</th>\n",
       "      <th>votes_dem</th>\n",
       "      <th>total_votes</th>\n",
       "      <th>margin_dem</th>\n",
       "      <th>margin_gop</th>\n",
       "      <th>pct_dem</th>\n",
       "      <th>pct_gop</th>\n",
       "      <th>dem_diff</th>\n",
       "      <th>gop_diff</th>\n",
       "      <th>winner</th>\n",
       "    </tr>\n",
       "  </thead>\n",
       "  <tbody>\n",
       "    <tr>\n",
       "      <th>0</th>\n",
       "      <td>Alabama</td>\n",
       "      <td>1001</td>\n",
       "      <td>Autauga</td>\n",
       "      <td>19838</td>\n",
       "      <td>7503</td>\n",
       "      <td>27770</td>\n",
       "      <td>-12335</td>\n",
       "      <td>12335</td>\n",
       "      <td>27</td>\n",
       "      <td>71</td>\n",
       "      <td>-44</td>\n",
       "      <td>44</td>\n",
       "      <td>gop</td>\n",
       "    </tr>\n",
       "    <tr>\n",
       "      <th>1</th>\n",
       "      <td>Alabama</td>\n",
       "      <td>1003</td>\n",
       "      <td>Baldwin</td>\n",
       "      <td>83544</td>\n",
       "      <td>24578</td>\n",
       "      <td>109679</td>\n",
       "      <td>-58966</td>\n",
       "      <td>58966</td>\n",
       "      <td>22</td>\n",
       "      <td>76</td>\n",
       "      <td>-54</td>\n",
       "      <td>54</td>\n",
       "      <td>gop</td>\n",
       "    </tr>\n",
       "    <tr>\n",
       "      <th>2</th>\n",
       "      <td>Alabama</td>\n",
       "      <td>1005</td>\n",
       "      <td>Barbour</td>\n",
       "      <td>5622</td>\n",
       "      <td>4816</td>\n",
       "      <td>10518</td>\n",
       "      <td>-806</td>\n",
       "      <td>806</td>\n",
       "      <td>46</td>\n",
       "      <td>53</td>\n",
       "      <td>-7</td>\n",
       "      <td>7</td>\n",
       "      <td>gop</td>\n",
       "    </tr>\n",
       "    <tr>\n",
       "      <th>3</th>\n",
       "      <td>Alabama</td>\n",
       "      <td>1007</td>\n",
       "      <td>Bibb</td>\n",
       "      <td>7525</td>\n",
       "      <td>1986</td>\n",
       "      <td>9595</td>\n",
       "      <td>-5539</td>\n",
       "      <td>5539</td>\n",
       "      <td>21</td>\n",
       "      <td>78</td>\n",
       "      <td>-57</td>\n",
       "      <td>57</td>\n",
       "      <td>gop</td>\n",
       "    </tr>\n",
       "    <tr>\n",
       "      <th>4</th>\n",
       "      <td>Alabama</td>\n",
       "      <td>1009</td>\n",
       "      <td>Blount</td>\n",
       "      <td>24711</td>\n",
       "      <td>2640</td>\n",
       "      <td>27588</td>\n",
       "      <td>-22071</td>\n",
       "      <td>22071</td>\n",
       "      <td>10</td>\n",
       "      <td>90</td>\n",
       "      <td>-80</td>\n",
       "      <td>80</td>\n",
       "      <td>gop</td>\n",
       "    </tr>\n",
       "  </tbody>\n",
       "</table>\n",
       "</div>"
      ],
      "text/plain": [
       "  state_name  county_fips county_name  votes_gop  votes_dem  total_votes  \\\n",
       "0    Alabama         1001     Autauga      19838       7503        27770   \n",
       "1    Alabama         1003     Baldwin      83544      24578       109679   \n",
       "2    Alabama         1005     Barbour       5622       4816        10518   \n",
       "3    Alabama         1007        Bibb       7525       1986         9595   \n",
       "4    Alabama         1009      Blount      24711       2640        27588   \n",
       "\n",
       "   margin_dem  margin_gop  pct_dem  pct_gop  dem_diff  gop_diff winner  \n",
       "0      -12335       12335       27       71       -44        44    gop  \n",
       "1      -58966       58966       22       76       -54        54    gop  \n",
       "2        -806         806       46       53        -7         7    gop  \n",
       "3       -5539        5539       21       78       -57        57    gop  \n",
       "4      -22071       22071       10       90       -80        80    gop  "
      ]
     },
     "execution_count": 6,
     "metadata": {},
     "output_type": "execute_result"
    }
   ],
   "source": [
    "df.head()"
   ]
  },
  {
   "cell_type": "markdown",
   "id": "fbf7be71-53f0-4384-b102-af6870b7634d",
   "metadata": {},
   "source": [
    "### Get vax data from CDC"
   ]
  },
  {
   "cell_type": "code",
   "execution_count": 26,
   "id": "31aa2db0-d676-4276-8602-8a6b471fde42",
   "metadata": {},
   "outputs": [],
   "source": [
    "# Cleaned up version (and most recent week) of this table\n",
    "# vax_pct = pct fully vaccinated\n",
    "# https://data.cdc.gov/Vaccinations/COVID-19-Vaccinations-in-the-United-States-County/8xkx-amqh"
   ]
  },
  {
   "cell_type": "code",
   "execution_count": 27,
   "id": "d5453ba8-dd46-4198-9cc8-01223dcad40e",
   "metadata": {},
   "outputs": [],
   "source": [
    "vax_counties = pd.read_json(\"../data/vaccinations/usa-vaccination-county-totals.json\")"
   ]
  },
  {
   "cell_type": "code",
   "execution_count": 28,
   "id": "b89dcd17-a092-442e-901a-2db41103e0ba",
   "metadata": {},
   "outputs": [
    {
     "data": {
      "text/html": [
       "<div>\n",
       "<style scoped>\n",
       "    .dataframe tbody tr th:only-of-type {\n",
       "        vertical-align: middle;\n",
       "    }\n",
       "\n",
       "    .dataframe tbody tr th {\n",
       "        vertical-align: top;\n",
       "    }\n",
       "\n",
       "    .dataframe thead th {\n",
       "        text-align: right;\n",
       "    }\n",
       "</style>\n",
       "<table border=\"1\" class=\"dataframe\">\n",
       "  <thead>\n",
       "    <tr style=\"text-align: right;\">\n",
       "      <th></th>\n",
       "      <th>fips</th>\n",
       "      <th>county_name</th>\n",
       "      <th>state_name</th>\n",
       "      <th>vax_pct</th>\n",
       "    </tr>\n",
       "  </thead>\n",
       "  <tbody>\n",
       "    <tr>\n",
       "      <th>0</th>\n",
       "      <td>41061</td>\n",
       "      <td>Union County</td>\n",
       "      <td>OR</td>\n",
       "      <td>43.2</td>\n",
       "    </tr>\n",
       "    <tr>\n",
       "      <th>1</th>\n",
       "      <td>29093</td>\n",
       "      <td>Iron County</td>\n",
       "      <td>MO</td>\n",
       "      <td>33.9</td>\n",
       "    </tr>\n",
       "    <tr>\n",
       "      <th>2</th>\n",
       "      <td>38091</td>\n",
       "      <td>Steele County</td>\n",
       "      <td>ND</td>\n",
       "      <td>41.3</td>\n",
       "    </tr>\n",
       "    <tr>\n",
       "      <th>3</th>\n",
       "      <td>18085</td>\n",
       "      <td>Kosciusko County</td>\n",
       "      <td>IN</td>\n",
       "      <td>36.8</td>\n",
       "    </tr>\n",
       "    <tr>\n",
       "      <th>4</th>\n",
       "      <td>36075</td>\n",
       "      <td>Oswego County</td>\n",
       "      <td>NY</td>\n",
       "      <td>53.0</td>\n",
       "    </tr>\n",
       "  </tbody>\n",
       "</table>\n",
       "</div>"
      ],
      "text/plain": [
       "    fips       county_name state_name  vax_pct\n",
       "0  41061      Union County         OR     43.2\n",
       "1  29093       Iron County         MO     33.9\n",
       "2  38091     Steele County         ND     41.3\n",
       "3  18085  Kosciusko County         IN     36.8\n",
       "4  36075     Oswego County         NY     53.0"
      ]
     },
     "execution_count": 28,
     "metadata": {},
     "output_type": "execute_result"
    }
   ],
   "source": [
    "vax_counties.head()"
   ]
  },
  {
   "cell_type": "markdown",
   "id": "5a1d9e19-b936-43c8-8f12-20c1e3426bd8",
   "metadata": {},
   "source": [
    "### Merge vax with election results"
   ]
  },
  {
   "cell_type": "code",
   "execution_count": 29,
   "id": "dbb9bb62-0648-4628-8d6c-59a4f0af91fe",
   "metadata": {},
   "outputs": [],
   "source": [
    "merge = pd.merge(\n",
    "    df,\n",
    "    vax_counties[[\"fips\", \"vax_pct\"]],\n",
    "    left_on=\"county_fips\",\n",
    "    right_on=\"fips\",\n",
    "    how=\"left\",\n",
    ")"
   ]
  },
  {
   "cell_type": "code",
   "execution_count": 30,
   "id": "12e23ddb-ccc5-4197-8670-1179532c5ece",
   "metadata": {},
   "outputs": [],
   "source": [
    "merge.drop([\"fips\"], axis=1, inplace=True)"
   ]
  },
  {
   "cell_type": "code",
   "execution_count": 31,
   "id": "c8315d00-851a-4a7a-9153-5e39c8754958",
   "metadata": {},
   "outputs": [
    {
     "data": {
      "text/plain": [
       "3152"
      ]
     },
     "execution_count": 31,
     "metadata": {},
     "output_type": "execute_result"
    }
   ],
   "source": [
    "len(merge)"
   ]
  }
 ],
 "metadata": {
  "kernelspec": {
   "display_name": "Python 3",
   "language": "python",
   "name": "python3"
  },
  "language_info": {
   "codemirror_mode": {
    "name": "ipython",
    "version": 3
   },
   "file_extension": ".py",
   "mimetype": "text/x-python",
   "name": "python",
   "nbconvert_exporter": "python",
   "pygments_lexer": "ipython3",
   "version": "3.8.8"
  }
 },
 "nbformat": 4,
 "nbformat_minor": 5
}
