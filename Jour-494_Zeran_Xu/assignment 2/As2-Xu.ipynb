{
 "cells": [
  {
   "cell_type": "code",
   "execution_count": 1,
   "id": "155e1b90-80f6-4f74-b534-1f62b40ef6be",
   "metadata": {},
   "outputs": [],
   "source": [
    "import pandas as pd"
   ]
  },
  {
   "cell_type": "code",
   "execution_count": 2,
   "id": "76a373f1-4bcd-40e7-892e-88ee60bda290",
   "metadata": {},
   "outputs": [],
   "source": [
    "df = pd.read_csv(\"listings.csv\")"
   ]
  },
  {
   "cell_type": "code",
   "execution_count": 3,
   "id": "be00a07a-04a9-4335-94ee-c5e68ce5e536",
   "metadata": {},
   "outputs": [
    {
     "name": "stdout",
     "output_type": "stream",
     "text": [
      "<class 'pandas.core.frame.DataFrame'>\n",
      "RangeIndex: 33329 entries, 0 to 33328\n",
      "Data columns (total 74 columns):\n",
      " #   Column                                        Non-Null Count  Dtype  \n",
      "---  ------                                        --------------  -----  \n",
      " 0   id                                            33329 non-null  int64  \n",
      " 1   listing_url                                   33329 non-null  object \n",
      " 2   scrape_id                                     33329 non-null  int64  \n",
      " 3   last_scraped                                  33329 non-null  object \n",
      " 4   name                                          33327 non-null  object \n",
      " 5   description                                   32231 non-null  object \n",
      " 6   neighborhood_overview                         20108 non-null  object \n",
      " 7   picture_url                                   33329 non-null  object \n",
      " 8   host_id                                       33329 non-null  int64  \n",
      " 9   host_url                                      33329 non-null  object \n",
      " 10  host_name                                     33322 non-null  object \n",
      " 11  host_since                                    33322 non-null  object \n",
      " 12  host_location                                 33246 non-null  object \n",
      " 13  host_about                                    19689 non-null  object \n",
      " 14  host_response_time                            22467 non-null  object \n",
      " 15  host_response_rate                            22467 non-null  object \n",
      " 16  host_acceptance_rate                          23006 non-null  object \n",
      " 17  host_is_superhost                             33322 non-null  object \n",
      " 18  host_thumbnail_url                            33322 non-null  object \n",
      " 19  host_picture_url                              33322 non-null  object \n",
      " 20  host_neighbourhood                            26710 non-null  object \n",
      " 21  host_listings_count                           33322 non-null  float64\n",
      " 22  host_total_listings_count                     33322 non-null  float64\n",
      " 23  host_verifications                            33329 non-null  object \n",
      " 24  host_has_profile_pic                          33322 non-null  object \n",
      " 25  host_identity_verified                        33322 non-null  object \n",
      " 26  neighbourhood                                 20109 non-null  object \n",
      " 27  neighbourhood_cleansed                        33329 non-null  object \n",
      " 28  neighbourhood_group_cleansed                  33329 non-null  object \n",
      " 29  latitude                                      33329 non-null  float64\n",
      " 30  longitude                                     33329 non-null  float64\n",
      " 31  property_type                                 33329 non-null  object \n",
      " 32  room_type                                     33329 non-null  object \n",
      " 33  accommodates                                  33329 non-null  int64  \n",
      " 34  bathrooms                                     0 non-null      float64\n",
      " 35  bathrooms_text                                33267 non-null  object \n",
      " 36  bedrooms                                      29584 non-null  float64\n",
      " 37  beds                                          31519 non-null  float64\n",
      " 38  amenities                                     33329 non-null  object \n",
      " 39  price                                         33329 non-null  object \n",
      " 40  minimum_nights                                33329 non-null  int64  \n",
      " 41  maximum_nights                                33329 non-null  int64  \n",
      " 42  minimum_minimum_nights                        33325 non-null  float64\n",
      " 43  maximum_minimum_nights                        33325 non-null  float64\n",
      " 44  minimum_maximum_nights                        33325 non-null  float64\n",
      " 45  maximum_maximum_nights                        33325 non-null  float64\n",
      " 46  minimum_nights_avg_ntm                        33325 non-null  float64\n",
      " 47  maximum_nights_avg_ntm                        33325 non-null  float64\n",
      " 48  calendar_updated                              0 non-null      float64\n",
      " 49  has_availability                              33329 non-null  object \n",
      " 50  availability_30                               33329 non-null  int64  \n",
      " 51  availability_60                               33329 non-null  int64  \n",
      " 52  availability_90                               33329 non-null  int64  \n",
      " 53  availability_365                              33329 non-null  int64  \n",
      " 54  calendar_last_scraped                         33329 non-null  object \n",
      " 55  number_of_reviews                             33329 non-null  int64  \n",
      " 56  number_of_reviews_ltm                         33329 non-null  int64  \n",
      " 57  number_of_reviews_l30d                        33329 non-null  int64  \n",
      " 58  first_review                                  25319 non-null  object \n",
      " 59  last_review                                   25319 non-null  object \n",
      " 60  review_scores_rating                          25319 non-null  float64\n",
      " 61  review_scores_accuracy                        24991 non-null  float64\n",
      " 62  review_scores_cleanliness                     24992 non-null  float64\n",
      " 63  review_scores_checkin                         24983 non-null  float64\n",
      " 64  review_scores_communication                   24991 non-null  float64\n",
      " 65  review_scores_location                        24980 non-null  float64\n",
      " 66  review_scores_value                           24978 non-null  float64\n",
      " 67  license                                       8404 non-null   object \n",
      " 68  instant_bookable                              33329 non-null  object \n",
      " 69  calculated_host_listings_count                33329 non-null  int64  \n",
      " 70  calculated_host_listings_count_entire_homes   33329 non-null  int64  \n",
      " 71  calculated_host_listings_count_private_rooms  33329 non-null  int64  \n",
      " 72  calculated_host_listings_count_shared_rooms   33329 non-null  int64  \n",
      " 73  reviews_per_month                             25319 non-null  float64\n",
      "dtypes: float64(22), int64(17), object(35)\n",
      "memory usage: 18.8+ MB\n"
     ]
    }
   ],
   "source": [
    "df.info()"
   ]
  },
  {
   "cell_type": "markdown",
   "id": "3523f135-05d8-4dc0-9121-ad035b433dd8",
   "metadata": {},
   "source": [
    "# Task 1"
   ]
  },
  {
   "cell_type": "code",
   "execution_count": 4,
   "id": "3978f784-f86e-4c74-bf70-2d3fcb160de6",
   "metadata": {},
   "outputs": [
    {
     "data": {
      "text/plain": [
       "Hollywood               1580\n",
       "Venice                  1567\n",
       "Long Beach              1304\n",
       "Santa Monica            1099\n",
       "Downtown                 977\n",
       "                        ... \n",
       "Chatsworth Reservoir       1\n",
       "Elizabeth Lake             1\n",
       "Leona Valley               1\n",
       "South Diamond Bar          1\n",
       "Bradbury                   1\n",
       "Name: neighbourhood_cleansed, Length: 266, dtype: int64"
      ]
     },
     "execution_count": 4,
     "metadata": {},
     "output_type": "execute_result"
    }
   ],
   "source": [
    "df.neighbourhood_cleansed.value_counts() \n",
    "\n",
    "# How many listings are there in \"neighbourhood_cleansed\""
   ]
  },
  {
   "cell_type": "code",
   "execution_count": 5,
   "id": "4cab0d83-10db-47da-a310-4c763e9a8ad7",
   "metadata": {},
   "outputs": [
    {
     "data": {
      "text/plain": [
       "University Park    76\n",
       "Name: neighbourhood_cleansed, dtype: int64"
      ]
     },
     "execution_count": 5,
     "metadata": {},
     "output_type": "execute_result"
    }
   ],
   "source": [
    "df[df.neighbourhood_cleansed.str.contains(\"University Park\")].neighbourhood_cleansed.value_counts()\n",
    "\n",
    "#  Filter listings to \"University Park\""
   ]
  },
  {
   "cell_type": "code",
   "execution_count": 6,
   "id": "1f25ca2d-8c91-42c8-b2d8-21d96e871b90",
   "metadata": {},
   "outputs": [],
   "source": [
    "university_park = df[df.neighbourhood_cleansed == \"University Park\"].copy()"
   ]
  },
  {
   "cell_type": "code",
   "execution_count": 7,
   "id": "2527ae31-3b74-472c-aa12-1ee61ea9e51b",
   "metadata": {},
   "outputs": [
    {
     "data": {
      "text/plain": [
       "76"
      ]
     },
     "execution_count": 7,
     "metadata": {},
     "output_type": "execute_result"
    }
   ],
   "source": [
    "len(university_park)"
   ]
  },
  {
   "cell_type": "markdown",
   "id": "ea43fb49-dfed-4335-b403-7525ac2453cc",
   "metadata": {},
   "source": [
    "There are 76 listings in Downtown"
   ]
  },
  {
   "cell_type": "code",
   "execution_count": 8,
   "id": "d44557d4-c456-4f72-bd2d-e45f1c5d7d9f",
   "metadata": {},
   "outputs": [],
   "source": [
    "university_park.to_csv(\"university_park.csv\")\n",
    "\n",
    "# Create a new dataframe named \"university_park.csv\""
   ]
  },
  {
   "cell_type": "markdown",
   "id": "a5673575-badf-4af2-8e22-afd5140fb6b0",
   "metadata": {},
   "source": [
    "# Task 2"
   ]
  },
  {
   "cell_type": "code",
   "execution_count": 9,
   "id": "92abbe3f-7085-4342-9282-a22d9884b01d",
   "metadata": {},
   "outputs": [
    {
     "data": {
      "text/plain": [
       "0        $115.00\n",
       "1         $89.00\n",
       "2        $167.00\n",
       "3         $50.00\n",
       "4        $118.00\n",
       "          ...   \n",
       "33324    $155.00\n",
       "33325    $155.00\n",
       "33326    $155.00\n",
       "33327    $152.00\n",
       "33328    $143.00\n",
       "Name: price, Length: 33329, dtype: object"
      ]
     },
     "execution_count": 9,
     "metadata": {},
     "output_type": "execute_result"
    }
   ],
   "source": [
    "df.price"
   ]
  },
  {
   "cell_type": "markdown",
   "id": "303c9a12-1416-453a-89e6-d60bd257b853",
   "metadata": {},
   "source": [
    "How to clean the string type in to float type"
   ]
  },
  {
   "cell_type": "code",
   "execution_count": 10,
   "id": "c3edeecf-2cf2-406b-b06c-a571d63cf766",
   "metadata": {},
   "outputs": [],
   "source": [
    "def cleanup(x):\n",
    "    y = x.split(\"$\")\n",
    "    z = y[1].replace(',','')\n",
    "    z = float(z)\n",
    "    \n",
    "    return z\n",
    "\n",
    "# function to clean a string type cloumn into float type"
   ]
  },
  {
   "cell_type": "code",
   "execution_count": 11,
   "id": "7a9498a4-6b1f-4438-819b-5047d8f77e61",
   "metadata": {},
   "outputs": [],
   "source": [
    "p =  \"$1,150.00\""
   ]
  },
  {
   "cell_type": "code",
   "execution_count": 12,
   "id": "6caa1321-fa1e-4c3e-821d-af38878afbee",
   "metadata": {},
   "outputs": [
    {
     "data": {
      "text/plain": [
       "'1,150.00'"
      ]
     },
     "execution_count": 12,
     "metadata": {},
     "output_type": "execute_result"
    }
   ],
   "source": [
    "p.split(\"$\")[1]"
   ]
  },
  {
   "cell_type": "code",
   "execution_count": 13,
   "id": "6827c2dd-c98f-40e6-89b3-ade3ba793a30",
   "metadata": {},
   "outputs": [
    {
     "data": {
      "text/plain": [
       "'1150.00'"
      ]
     },
     "execution_count": 13,
     "metadata": {},
     "output_type": "execute_result"
    }
   ],
   "source": [
    "p.split(\"$\")[1].replace(\",\",\"\")"
   ]
  },
  {
   "cell_type": "code",
   "execution_count": 14,
   "id": "8086775b-f111-46e8-9278-4ea6900b8371",
   "metadata": {},
   "outputs": [
    {
     "data": {
      "text/plain": [
       "0        $115.00\n",
       "1         $89.00\n",
       "2        $167.00\n",
       "3         $50.00\n",
       "4        $118.00\n",
       "          ...   \n",
       "33324    $155.00\n",
       "33325    $155.00\n",
       "33326    $155.00\n",
       "33327    $152.00\n",
       "33328    $143.00\n",
       "Name: price, Length: 33329, dtype: object"
      ]
     },
     "execution_count": 14,
     "metadata": {},
     "output_type": "execute_result"
    }
   ],
   "source": [
    "df[\"price\"]"
   ]
  },
  {
   "cell_type": "code",
   "execution_count": 15,
   "id": "98eba589-3c91-4f89-9587-4d03649802de",
   "metadata": {},
   "outputs": [],
   "source": [
    "df_price = df.price.apply(cleanup)"
   ]
  },
  {
   "cell_type": "code",
   "execution_count": 16,
   "id": "0797ef2c-69da-41fa-aa7b-a68f2a6810d6",
   "metadata": {},
   "outputs": [
    {
     "data": {
      "text/plain": [
       "0        115.0\n",
       "1         89.0\n",
       "2        167.0\n",
       "3         50.0\n",
       "4        118.0\n",
       "         ...  \n",
       "33324    155.0\n",
       "33325    155.0\n",
       "33326    155.0\n",
       "33327    152.0\n",
       "33328    143.0\n",
       "Name: price, Length: 33329, dtype: float64"
      ]
     },
     "execution_count": 16,
     "metadata": {},
     "output_type": "execute_result"
    }
   ],
   "source": [
    "df_price"
   ]
  },
  {
   "cell_type": "code",
   "execution_count": 17,
   "id": "e09a58d4-6712-47f6-8c51-e56e7894ff07",
   "metadata": {},
   "outputs": [
    {
     "data": {
      "text/plain": [
       "1330"
      ]
     },
     "execution_count": 17,
     "metadata": {},
     "output_type": "execute_result"
    }
   ],
   "source": [
    "df_price.nunique()"
   ]
  },
  {
   "cell_type": "markdown",
   "id": "012a4872-3095-4081-8789-0ce8a819c990",
   "metadata": {},
   "source": [
    "There are 1330 different variations are under the \"price\" column"
   ]
  },
  {
   "cell_type": "code",
   "execution_count": 18,
   "id": "8f2b5021-9319-436c-b756-f783ebb483fe",
   "metadata": {},
   "outputs": [
    {
     "data": {
      "text/plain": [
       "'\\ndef cleanup(x):\\n\\n    for ele in x :\\n        \\n        ele = ele[1:].split(\",\")\\n        \\n        if(len(ele) == 2):\\n            ele = ele[0] + ele[1]\\n        else:\\n            ele = \\'\\'.join(ele)\\n        \\n        print(ele)\\n        \\n    return x\\n    \\ndf.price_cleanup = cleanup(df.price)\\n\\ndf.price_cleanup.nunique()\\n\\n'"
      ]
     },
     "execution_count": 18,
     "metadata": {},
     "output_type": "execute_result"
    }
   ],
   "source": [
    "# Another method\n",
    "\"\"\"\n",
    "    function : turns string to float in X\n",
    "    param X : input column with strings inside\n",
    "    return X_float : return column with float\n",
    "\"\"\"\n",
    "\n",
    "\"\"\"\n",
    "def cleanup(x):\n",
    "\n",
    "    for ele in x :\n",
    "        \n",
    "        ele = ele[1:].split(\",\")\n",
    "        \n",
    "        if(len(ele) == 2):\n",
    "            ele = ele[0] + ele[1]\n",
    "        else:\n",
    "            ele = ''.join(ele)\n",
    "        \n",
    "        print(ele)\n",
    "        \n",
    "    return x\n",
    "    \n",
    "df.price_cleanup = cleanup(df.price)\n",
    "\n",
    "df.price_cleanup.nunique()\n",
    "\n",
    "\"\"\""
   ]
  },
  {
   "cell_type": "markdown",
   "id": "82272ca3-bddb-45dc-bc88-640702c190d6",
   "metadata": {},
   "source": [
    "# Task 3"
   ]
  },
  {
   "cell_type": "code",
   "execution_count": 19,
   "id": "2e0caf2e-405a-4dae-96e8-0403c4121481",
   "metadata": {},
   "outputs": [
    {
     "data": {
      "text/plain": [
       "961       $50.00\n",
       "2283      $20.00\n",
       "2592      $50.00\n",
       "2764      $35.00\n",
       "2781     $100.00\n",
       "          ...   \n",
       "26477     $35.00\n",
       "26603    $250.00\n",
       "27833     $40.00\n",
       "29372     $94.00\n",
       "32774     $90.00\n",
       "Name: price, Length: 76, dtype: object"
      ]
     },
     "execution_count": 19,
     "metadata": {},
     "output_type": "execute_result"
    }
   ],
   "source": [
    "university_park.price"
   ]
  },
  {
   "cell_type": "markdown",
   "id": "7750c98b-9fd8-4e49-907c-875b77267a73",
   "metadata": {},
   "source": [
    "How to find the average price in the University Park"
   ]
  },
  {
   "cell_type": "code",
   "execution_count": 20,
   "id": "a02d2640-2b66-41cc-ba42-c9fe4a73715f",
   "metadata": {},
   "outputs": [],
   "source": [
    "university_park[\"clean_price\"] = university_park.price.apply(cleanup)\n",
    "# create a new column called \"clean_price\""
   ]
  },
  {
   "cell_type": "code",
   "execution_count": 21,
   "id": "22dbcecb-33de-4ea8-97a8-1a0a034a8725",
   "metadata": {},
   "outputs": [
    {
     "data": {
      "text/plain": [
       "961       50.0\n",
       "2283      20.0\n",
       "2592      50.0\n",
       "2764      35.0\n",
       "2781     100.0\n",
       "         ...  \n",
       "26477     35.0\n",
       "26603    250.0\n",
       "27833     40.0\n",
       "29372     94.0\n",
       "32774     90.0\n",
       "Name: clean_price, Length: 76, dtype: float64"
      ]
     },
     "execution_count": 21,
     "metadata": {},
     "output_type": "execute_result"
    }
   ],
   "source": [
    "university_park.clean_price"
   ]
  },
  {
   "cell_type": "code",
   "execution_count": 22,
   "id": "4e696634-3730-4478-830c-9cb3c5495e9b",
   "metadata": {},
   "outputs": [
    {
     "data": {
      "text/plain": [
       "72.97368421052632"
      ]
     },
     "execution_count": 22,
     "metadata": {},
     "output_type": "execute_result"
    }
   ],
   "source": [
    "university_park.clean_price.mean()"
   ]
  },
  {
   "cell_type": "code",
   "execution_count": 23,
   "id": "bafd7dbc-701f-44ed-9678-b2a8b2c70986",
   "metadata": {},
   "outputs": [
    {
     "data": {
      "text/plain": [
       "72.97"
      ]
     },
     "execution_count": 23,
     "metadata": {},
     "output_type": "execute_result"
    }
   ],
   "source": [
    "round(university_park.clean_price.mean(),2)"
   ]
  },
  {
   "cell_type": "markdown",
   "id": "61b2dbb4-cfc0-46a3-a92e-c14eeb101536",
   "metadata": {},
   "source": [
    "The average price of the University Park is $72.97"
   ]
  },
  {
   "cell_type": "markdown",
   "id": "4e2e3016-73d7-40b6-b2f8-5cf76be40448",
   "metadata": {},
   "source": [
    "# Task 4"
   ]
  },
  {
   "cell_type": "code",
   "execution_count": 24,
   "id": "0926e18b-563a-4666-8ecd-a61a5cc5dd81",
   "metadata": {},
   "outputs": [
    {
     "data": {
      "text/html": [
       "<div>\n",
       "<style scoped>\n",
       "    .dataframe tbody tr th:only-of-type {\n",
       "        vertical-align: middle;\n",
       "    }\n",
       "\n",
       "    .dataframe tbody tr th {\n",
       "        vertical-align: top;\n",
       "    }\n",
       "\n",
       "    .dataframe thead th {\n",
       "        text-align: right;\n",
       "    }\n",
       "</style>\n",
       "<table border=\"1\" class=\"dataframe\">\n",
       "  <thead>\n",
       "    <tr style=\"text-align: right;\">\n",
       "      <th></th>\n",
       "      <th>id</th>\n",
       "      <th>listing_url</th>\n",
       "      <th>scrape_id</th>\n",
       "      <th>last_scraped</th>\n",
       "      <th>name</th>\n",
       "      <th>description</th>\n",
       "      <th>neighborhood_overview</th>\n",
       "      <th>picture_url</th>\n",
       "      <th>host_id</th>\n",
       "      <th>host_url</th>\n",
       "      <th>...</th>\n",
       "      <th>review_scores_location</th>\n",
       "      <th>review_scores_value</th>\n",
       "      <th>license</th>\n",
       "      <th>instant_bookable</th>\n",
       "      <th>calculated_host_listings_count</th>\n",
       "      <th>calculated_host_listings_count_entire_homes</th>\n",
       "      <th>calculated_host_listings_count_private_rooms</th>\n",
       "      <th>calculated_host_listings_count_shared_rooms</th>\n",
       "      <th>reviews_per_month</th>\n",
       "      <th>clean_price</th>\n",
       "    </tr>\n",
       "  </thead>\n",
       "  <tbody>\n",
       "    <tr>\n",
       "      <th>961</th>\n",
       "      <td>1630098</td>\n",
       "      <td>https://www.airbnb.com/rooms/1630098</td>\n",
       "      <td>20211205213202</td>\n",
       "      <td>2021-12-07</td>\n",
       "      <td>USC 1 block north -Private Room/Private Bath B&amp;B</td>\n",
       "      <td>Private room and private bath Bed and Breakfas...</td>\n",
       "      <td>1 block from USC in historic West Adams distri...</td>\n",
       "      <td>https://a0.muscache.com/pictures/f3393619-30e0...</td>\n",
       "      <td>8663618</td>\n",
       "      <td>https://www.airbnb.com/users/show/8663618</td>\n",
       "      <td>...</td>\n",
       "      <td>4.67</td>\n",
       "      <td>4.63</td>\n",
       "      <td>Exempt - This listing is a bed and breakfast</td>\n",
       "      <td>f</td>\n",
       "      <td>2</td>\n",
       "      <td>0</td>\n",
       "      <td>2</td>\n",
       "      <td>0</td>\n",
       "      <td>0.86</td>\n",
       "      <td>50.0</td>\n",
       "    </tr>\n",
       "    <tr>\n",
       "      <th>2283</th>\n",
       "      <td>4708239</td>\n",
       "      <td>https://www.airbnb.com/rooms/4708239</td>\n",
       "      <td>20211205213202</td>\n",
       "      <td>2021-12-06</td>\n",
       "      <td>Furnished room minutes from DTLA</td>\n",
       "      <td>Fully furnished private room in a 3BHK for upt...</td>\n",
       "      <td>NaN</td>\n",
       "      <td>https://a0.muscache.com/pictures/59117140/05d9...</td>\n",
       "      <td>15973150</td>\n",
       "      <td>https://www.airbnb.com/users/show/15973150</td>\n",
       "      <td>...</td>\n",
       "      <td>2.50</td>\n",
       "      <td>2.50</td>\n",
       "      <td>NaN</td>\n",
       "      <td>f</td>\n",
       "      <td>1</td>\n",
       "      <td>0</td>\n",
       "      <td>1</td>\n",
       "      <td>0</td>\n",
       "      <td>0.02</td>\n",
       "      <td>20.0</td>\n",
       "    </tr>\n",
       "    <tr>\n",
       "      <th>2592</th>\n",
       "      <td>5627628</td>\n",
       "      <td>https://www.airbnb.com/rooms/5627628</td>\n",
       "      <td>20211205213202</td>\n",
       "      <td>2021-12-06</td>\n",
       "      <td>Nupac Apartment near USC</td>\n",
       "      <td>The apartment is 10 min walking distance from ...</td>\n",
       "      <td>NaN</td>\n",
       "      <td>https://a0.muscache.com/pictures/74195073/fcd8...</td>\n",
       "      <td>21364327</td>\n",
       "      <td>https://www.airbnb.com/users/show/21364327</td>\n",
       "      <td>...</td>\n",
       "      <td>NaN</td>\n",
       "      <td>NaN</td>\n",
       "      <td>NaN</td>\n",
       "      <td>f</td>\n",
       "      <td>1</td>\n",
       "      <td>0</td>\n",
       "      <td>0</td>\n",
       "      <td>1</td>\n",
       "      <td>NaN</td>\n",
       "      <td>50.0</td>\n",
       "    </tr>\n",
       "    <tr>\n",
       "      <th>2764</th>\n",
       "      <td>6092506</td>\n",
       "      <td>https://www.airbnb.com/rooms/6092506</td>\n",
       "      <td>20211205213202</td>\n",
       "      <td>2021-12-06</td>\n",
       "      <td>USC ICON Plaza Summer Sublease - Pr</td>\n",
       "      <td>Looking for a FEMALE to take over my private, ...</td>\n",
       "      <td>NaN</td>\n",
       "      <td>https://a0.muscache.com/pictures/75932141/a820...</td>\n",
       "      <td>31609605</td>\n",
       "      <td>https://www.airbnb.com/users/show/31609605</td>\n",
       "      <td>...</td>\n",
       "      <td>NaN</td>\n",
       "      <td>NaN</td>\n",
       "      <td>NaN</td>\n",
       "      <td>f</td>\n",
       "      <td>1</td>\n",
       "      <td>0</td>\n",
       "      <td>1</td>\n",
       "      <td>0</td>\n",
       "      <td>NaN</td>\n",
       "      <td>35.0</td>\n",
       "    </tr>\n",
       "    <tr>\n",
       "      <th>2781</th>\n",
       "      <td>6133492</td>\n",
       "      <td>https://www.airbnb.com/rooms/6133492</td>\n",
       "      <td>20211205213202</td>\n",
       "      <td>2021-12-07</td>\n",
       "      <td>[TESTING] Spacious Private Room near DTLA/USC</td>\n",
       "      <td>Note: not available right now, just testing th...</td>\n",
       "      <td>NaN</td>\n",
       "      <td>https://a0.muscache.com/pictures/109592346/4b7...</td>\n",
       "      <td>17090189</td>\n",
       "      <td>https://www.airbnb.com/users/show/17090189</td>\n",
       "      <td>...</td>\n",
       "      <td>NaN</td>\n",
       "      <td>NaN</td>\n",
       "      <td>NaN</td>\n",
       "      <td>f</td>\n",
       "      <td>1</td>\n",
       "      <td>0</td>\n",
       "      <td>1</td>\n",
       "      <td>0</td>\n",
       "      <td>NaN</td>\n",
       "      <td>100.0</td>\n",
       "    </tr>\n",
       "  </tbody>\n",
       "</table>\n",
       "<p>5 rows × 75 columns</p>\n",
       "</div>"
      ],
      "text/plain": [
       "           id                           listing_url       scrape_id  \\\n",
       "961   1630098  https://www.airbnb.com/rooms/1630098  20211205213202   \n",
       "2283  4708239  https://www.airbnb.com/rooms/4708239  20211205213202   \n",
       "2592  5627628  https://www.airbnb.com/rooms/5627628  20211205213202   \n",
       "2764  6092506  https://www.airbnb.com/rooms/6092506  20211205213202   \n",
       "2781  6133492  https://www.airbnb.com/rooms/6133492  20211205213202   \n",
       "\n",
       "     last_scraped                                              name  \\\n",
       "961    2021-12-07  USC 1 block north -Private Room/Private Bath B&B   \n",
       "2283   2021-12-06                  Furnished room minutes from DTLA   \n",
       "2592   2021-12-06                          Nupac Apartment near USC   \n",
       "2764   2021-12-06               USC ICON Plaza Summer Sublease - Pr   \n",
       "2781   2021-12-07     [TESTING] Spacious Private Room near DTLA/USC   \n",
       "\n",
       "                                            description  \\\n",
       "961   Private room and private bath Bed and Breakfas...   \n",
       "2283  Fully furnished private room in a 3BHK for upt...   \n",
       "2592  The apartment is 10 min walking distance from ...   \n",
       "2764  Looking for a FEMALE to take over my private, ...   \n",
       "2781  Note: not available right now, just testing th...   \n",
       "\n",
       "                                  neighborhood_overview  \\\n",
       "961   1 block from USC in historic West Adams distri...   \n",
       "2283                                                NaN   \n",
       "2592                                                NaN   \n",
       "2764                                                NaN   \n",
       "2781                                                NaN   \n",
       "\n",
       "                                            picture_url   host_id  \\\n",
       "961   https://a0.muscache.com/pictures/f3393619-30e0...   8663618   \n",
       "2283  https://a0.muscache.com/pictures/59117140/05d9...  15973150   \n",
       "2592  https://a0.muscache.com/pictures/74195073/fcd8...  21364327   \n",
       "2764  https://a0.muscache.com/pictures/75932141/a820...  31609605   \n",
       "2781  https://a0.muscache.com/pictures/109592346/4b7...  17090189   \n",
       "\n",
       "                                        host_url  ... review_scores_location  \\\n",
       "961    https://www.airbnb.com/users/show/8663618  ...                   4.67   \n",
       "2283  https://www.airbnb.com/users/show/15973150  ...                   2.50   \n",
       "2592  https://www.airbnb.com/users/show/21364327  ...                    NaN   \n",
       "2764  https://www.airbnb.com/users/show/31609605  ...                    NaN   \n",
       "2781  https://www.airbnb.com/users/show/17090189  ...                    NaN   \n",
       "\n",
       "     review_scores_value                                       license  \\\n",
       "961                 4.63  Exempt - This listing is a bed and breakfast   \n",
       "2283                2.50                                           NaN   \n",
       "2592                 NaN                                           NaN   \n",
       "2764                 NaN                                           NaN   \n",
       "2781                 NaN                                           NaN   \n",
       "\n",
       "     instant_bookable calculated_host_listings_count  \\\n",
       "961                 f                              2   \n",
       "2283                f                              1   \n",
       "2592                f                              1   \n",
       "2764                f                              1   \n",
       "2781                f                              1   \n",
       "\n",
       "     calculated_host_listings_count_entire_homes  \\\n",
       "961                                            0   \n",
       "2283                                           0   \n",
       "2592                                           0   \n",
       "2764                                           0   \n",
       "2781                                           0   \n",
       "\n",
       "     calculated_host_listings_count_private_rooms  \\\n",
       "961                                             2   \n",
       "2283                                            1   \n",
       "2592                                            0   \n",
       "2764                                            1   \n",
       "2781                                            1   \n",
       "\n",
       "     calculated_host_listings_count_shared_rooms reviews_per_month clean_price  \n",
       "961                                            0              0.86        50.0  \n",
       "2283                                           0              0.02        20.0  \n",
       "2592                                           1               NaN        50.0  \n",
       "2764                                           0               NaN        35.0  \n",
       "2781                                           0               NaN       100.0  \n",
       "\n",
       "[5 rows x 75 columns]"
      ]
     },
     "execution_count": 24,
     "metadata": {},
     "output_type": "execute_result"
    }
   ],
   "source": [
    "university_park.sort_values(\"id\", ascending= True).head()\n",
    "\n",
    "# sort by \"id\" column"
   ]
  },
  {
   "cell_type": "code",
   "execution_count": 25,
   "id": "1ad19acf-6057-4342-89d4-82361580f0b6",
   "metadata": {},
   "outputs": [],
   "source": [
    "university_park.sort_values(\"id\", ascending= True).to_csv(\"university-park.csv\", index=False)"
   ]
  },
  {
   "cell_type": "markdown",
   "id": "94cc0ac1-6512-4473-88ec-ad416059835f",
   "metadata": {},
   "source": [
    "# Extra question"
   ]
  },
  {
   "cell_type": "code",
   "execution_count": 26,
   "id": "dacae260-b357-4fd1-bfee-38380e8b4c75",
   "metadata": {},
   "outputs": [
    {
     "data": {
      "text/html": [
       "<div>\n",
       "<style scoped>\n",
       "    .dataframe tbody tr th:only-of-type {\n",
       "        vertical-align: middle;\n",
       "    }\n",
       "\n",
       "    .dataframe tbody tr th {\n",
       "        vertical-align: top;\n",
       "    }\n",
       "\n",
       "    .dataframe thead th {\n",
       "        text-align: right;\n",
       "    }\n",
       "</style>\n",
       "<table border=\"1\" class=\"dataframe\">\n",
       "  <thead>\n",
       "    <tr style=\"text-align: right;\">\n",
       "      <th></th>\n",
       "      <th>price</th>\n",
       "      <th>host_url</th>\n",
       "    </tr>\n",
       "  </thead>\n",
       "  <tbody>\n",
       "    <tr>\n",
       "      <th>0</th>\n",
       "      <td>$115.00</td>\n",
       "      <td>https://www.airbnb.com/users/show/521</td>\n",
       "    </tr>\n",
       "    <tr>\n",
       "      <th>1</th>\n",
       "      <td>$89.00</td>\n",
       "      <td>https://www.airbnb.com/users/show/3008</td>\n",
       "    </tr>\n",
       "    <tr>\n",
       "      <th>2</th>\n",
       "      <td>$167.00</td>\n",
       "      <td>https://www.airbnb.com/users/show/3041</td>\n",
       "    </tr>\n",
       "    <tr>\n",
       "      <th>3</th>\n",
       "      <td>$50.00</td>\n",
       "      <td>https://www.airbnb.com/users/show/3207</td>\n",
       "    </tr>\n",
       "    <tr>\n",
       "      <th>4</th>\n",
       "      <td>$118.00</td>\n",
       "      <td>https://www.airbnb.com/users/show/3415</td>\n",
       "    </tr>\n",
       "    <tr>\n",
       "      <th>...</th>\n",
       "      <td>...</td>\n",
       "      <td>...</td>\n",
       "    </tr>\n",
       "    <tr>\n",
       "      <th>33324</th>\n",
       "      <td>$155.00</td>\n",
       "      <td>https://www.airbnb.com/users/show/16760875</td>\n",
       "    </tr>\n",
       "    <tr>\n",
       "      <th>33325</th>\n",
       "      <td>$155.00</td>\n",
       "      <td>https://www.airbnb.com/users/show/16760875</td>\n",
       "    </tr>\n",
       "    <tr>\n",
       "      <th>33326</th>\n",
       "      <td>$155.00</td>\n",
       "      <td>https://www.airbnb.com/users/show/16760875</td>\n",
       "    </tr>\n",
       "    <tr>\n",
       "      <th>33327</th>\n",
       "      <td>$152.00</td>\n",
       "      <td>https://www.airbnb.com/users/show/375448432</td>\n",
       "    </tr>\n",
       "    <tr>\n",
       "      <th>33328</th>\n",
       "      <td>$143.00</td>\n",
       "      <td>https://www.airbnb.com/users/show/205333524</td>\n",
       "    </tr>\n",
       "  </tbody>\n",
       "</table>\n",
       "<p>33329 rows × 2 columns</p>\n",
       "</div>"
      ],
      "text/plain": [
       "         price                                     host_url\n",
       "0      $115.00        https://www.airbnb.com/users/show/521\n",
       "1       $89.00       https://www.airbnb.com/users/show/3008\n",
       "2      $167.00       https://www.airbnb.com/users/show/3041\n",
       "3       $50.00       https://www.airbnb.com/users/show/3207\n",
       "4      $118.00       https://www.airbnb.com/users/show/3415\n",
       "...        ...                                          ...\n",
       "33324  $155.00   https://www.airbnb.com/users/show/16760875\n",
       "33325  $155.00   https://www.airbnb.com/users/show/16760875\n",
       "33326  $155.00   https://www.airbnb.com/users/show/16760875\n",
       "33327  $152.00  https://www.airbnb.com/users/show/375448432\n",
       "33328  $143.00  https://www.airbnb.com/users/show/205333524\n",
       "\n",
       "[33329 rows x 2 columns]"
      ]
     },
     "execution_count": 26,
     "metadata": {},
     "output_type": "execute_result"
    }
   ],
   "source": [
    "df[['price', 'host_url']]"
   ]
  },
  {
   "cell_type": "code",
   "execution_count": 27,
   "id": "a38b9096-3673-48d3-aa81-12a5a82436a8",
   "metadata": {},
   "outputs": [],
   "source": [
    "df_extra = df[['price', 'host_url']]"
   ]
  },
  {
   "cell_type": "code",
   "execution_count": 28,
   "id": "263e1cfd-df0a-4e39-a255-c768168fb10b",
   "metadata": {},
   "outputs": [
    {
     "name": "stderr",
     "output_type": "stream",
     "text": [
      "C:\\Users\\William Xu\\AppData\\Local\\Temp/ipykernel_52472/1272134181.py:1: SettingWithCopyWarning: \n",
      "A value is trying to be set on a copy of a slice from a DataFrame.\n",
      "Try using .loc[row_indexer,col_indexer] = value instead\n",
      "\n",
      "See the caveats in the documentation: https://pandas.pydata.org/pandas-docs/stable/user_guide/indexing.html#returning-a-view-versus-a-copy\n",
      "  df_extra[\"clean_price\"] = df_extra.price.apply(cleanup)\n"
     ]
    }
   ],
   "source": [
    "df_extra[\"clean_price\"] = df_extra.price.apply(cleanup)"
   ]
  },
  {
   "cell_type": "code",
   "execution_count": 29,
   "id": "ca835f10-0b5f-4ef0-8ee5-06bfdc745d2e",
   "metadata": {},
   "outputs": [
    {
     "data": {
      "text/html": [
       "<div>\n",
       "<style scoped>\n",
       "    .dataframe tbody tr th:only-of-type {\n",
       "        vertical-align: middle;\n",
       "    }\n",
       "\n",
       "    .dataframe tbody tr th {\n",
       "        vertical-align: top;\n",
       "    }\n",
       "\n",
       "    .dataframe thead th {\n",
       "        text-align: right;\n",
       "    }\n",
       "</style>\n",
       "<table border=\"1\" class=\"dataframe\">\n",
       "  <thead>\n",
       "    <tr style=\"text-align: right;\">\n",
       "      <th></th>\n",
       "      <th>price</th>\n",
       "      <th>host_url</th>\n",
       "      <th>clean_price</th>\n",
       "    </tr>\n",
       "  </thead>\n",
       "  <tbody>\n",
       "    <tr>\n",
       "      <th>25712</th>\n",
       "      <td>$25,000.00</td>\n",
       "      <td>https://www.airbnb.com/users/show/345121555</td>\n",
       "      <td>25000.0</td>\n",
       "    </tr>\n",
       "    <tr>\n",
       "      <th>25686</th>\n",
       "      <td>$25,000.00</td>\n",
       "      <td>https://www.airbnb.com/users/show/345121555</td>\n",
       "      <td>25000.0</td>\n",
       "    </tr>\n",
       "    <tr>\n",
       "      <th>25707</th>\n",
       "      <td>$25,000.00</td>\n",
       "      <td>https://www.airbnb.com/users/show/345121555</td>\n",
       "      <td>25000.0</td>\n",
       "    </tr>\n",
       "    <tr>\n",
       "      <th>25708</th>\n",
       "      <td>$25,000.00</td>\n",
       "      <td>https://www.airbnb.com/users/show/345121555</td>\n",
       "      <td>25000.0</td>\n",
       "    </tr>\n",
       "    <tr>\n",
       "      <th>25710</th>\n",
       "      <td>$25,000.00</td>\n",
       "      <td>https://www.airbnb.com/users/show/345121555</td>\n",
       "      <td>25000.0</td>\n",
       "    </tr>\n",
       "  </tbody>\n",
       "</table>\n",
       "</div>"
      ],
      "text/plain": [
       "            price                                     host_url  clean_price\n",
       "25712  $25,000.00  https://www.airbnb.com/users/show/345121555      25000.0\n",
       "25686  $25,000.00  https://www.airbnb.com/users/show/345121555      25000.0\n",
       "25707  $25,000.00  https://www.airbnb.com/users/show/345121555      25000.0\n",
       "25708  $25,000.00  https://www.airbnb.com/users/show/345121555      25000.0\n",
       "25710  $25,000.00  https://www.airbnb.com/users/show/345121555      25000.0"
      ]
     },
     "execution_count": 29,
     "metadata": {},
     "output_type": "execute_result"
    }
   ],
   "source": [
    "df_extra.sort_values('clean_price', ascending=False).head()"
   ]
  },
  {
   "cell_type": "code",
   "execution_count": 30,
   "id": "802d05df-5d1d-45b4-b05d-514a215f2528",
   "metadata": {},
   "outputs": [
    {
     "data": {
      "text/plain": [
       "'\\n# Another method to find the max value of the \"price\"\\n\\ndf_extra[df_extra[\\'clean_price\\'] == df_extra[\\'clean_price\\'].max()].head()\\n\\n'"
      ]
     },
     "execution_count": 30,
     "metadata": {},
     "output_type": "execute_result"
    }
   ],
   "source": [
    "\"\"\"\n",
    "# Another method to find the max value of the \"price\"\n",
    "\n",
    "df_extra[df_extra['clean_price'] == df_extra['clean_price'].max()].head()\n",
    "\n",
    "\"\"\""
   ]
  },
  {
   "cell_type": "code",
   "execution_count": 31,
   "id": "4cd7f8a8-f77e-4a4d-af4e-af1a4f18babb",
   "metadata": {},
   "outputs": [
    {
     "data": {
      "text/html": [
       "<div>\n",
       "<style scoped>\n",
       "    .dataframe tbody tr th:only-of-type {\n",
       "        vertical-align: middle;\n",
       "    }\n",
       "\n",
       "    .dataframe tbody tr th {\n",
       "        vertical-align: top;\n",
       "    }\n",
       "\n",
       "    .dataframe thead th {\n",
       "        text-align: right;\n",
       "    }\n",
       "</style>\n",
       "<table border=\"1\" class=\"dataframe\">\n",
       "  <thead>\n",
       "    <tr style=\"text-align: right;\">\n",
       "      <th></th>\n",
       "      <th>price</th>\n",
       "      <th>host_url</th>\n",
       "      <th>clean_price</th>\n",
       "    </tr>\n",
       "  </thead>\n",
       "  <tbody>\n",
       "    <tr>\n",
       "      <th>25686</th>\n",
       "      <td>$25,000.00</td>\n",
       "      <td>https://www.airbnb.com/users/show/345121555</td>\n",
       "      <td>25000.0</td>\n",
       "    </tr>\n",
       "    <tr>\n",
       "      <th>25707</th>\n",
       "      <td>$25,000.00</td>\n",
       "      <td>https://www.airbnb.com/users/show/345121555</td>\n",
       "      <td>25000.0</td>\n",
       "    </tr>\n",
       "    <tr>\n",
       "      <th>25708</th>\n",
       "      <td>$25,000.00</td>\n",
       "      <td>https://www.airbnb.com/users/show/345121555</td>\n",
       "      <td>25000.0</td>\n",
       "    </tr>\n",
       "    <tr>\n",
       "      <th>25710</th>\n",
       "      <td>$25,000.00</td>\n",
       "      <td>https://www.airbnb.com/users/show/345121555</td>\n",
       "      <td>25000.0</td>\n",
       "    </tr>\n",
       "    <tr>\n",
       "      <th>25711</th>\n",
       "      <td>$25,000.00</td>\n",
       "      <td>https://www.airbnb.com/users/show/345121555</td>\n",
       "      <td>25000.0</td>\n",
       "    </tr>\n",
       "    <tr>\n",
       "      <th>25712</th>\n",
       "      <td>$25,000.00</td>\n",
       "      <td>https://www.airbnb.com/users/show/345121555</td>\n",
       "      <td>25000.0</td>\n",
       "    </tr>\n",
       "  </tbody>\n",
       "</table>\n",
       "</div>"
      ],
      "text/plain": [
       "            price                                     host_url  clean_price\n",
       "25686  $25,000.00  https://www.airbnb.com/users/show/345121555      25000.0\n",
       "25707  $25,000.00  https://www.airbnb.com/users/show/345121555      25000.0\n",
       "25708  $25,000.00  https://www.airbnb.com/users/show/345121555      25000.0\n",
       "25710  $25,000.00  https://www.airbnb.com/users/show/345121555      25000.0\n",
       "25711  $25,000.00  https://www.airbnb.com/users/show/345121555      25000.0\n",
       "25712  $25,000.00  https://www.airbnb.com/users/show/345121555      25000.0"
      ]
     },
     "execution_count": 31,
     "metadata": {},
     "output_type": "execute_result"
    }
   ],
   "source": [
    "df_extra.loc[df_extra['clean_price'] == 25000.0]\n",
    "\n",
    "# Find the host URL with the price in $25,000"
   ]
  },
  {
   "cell_type": "markdown",
   "id": "b273dc5e-5576-4d24-927f-bf8508405c75",
   "metadata": {},
   "source": [
    "The most expensive price is $25,000, and 6 host URL with this price could be found above"
   ]
  }
 ],
 "metadata": {
  "kernelspec": {
   "display_name": "Python 3 (ipykernel)",
   "language": "python",
   "name": "python3"
  },
  "language_info": {
   "codemirror_mode": {
    "name": "ipython",
    "version": 3
   },
   "file_extension": ".py",
   "mimetype": "text/x-python",
   "name": "python",
   "nbconvert_exporter": "python",
   "pygments_lexer": "ipython3",
   "version": "3.9.7"
  }
 },
 "nbformat": 4,
 "nbformat_minor": 5
}
